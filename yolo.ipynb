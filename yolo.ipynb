{
 "cells": [
  {
   "cell_type": "code",
   "execution_count": null,
   "id": "3a218489",
   "metadata": {},
   "outputs": [],
   "source": [
    "#Stworzenie podziału na dane uczące i walidacyjne\n",
    "import os, shutil, random, glob\n",
    "from pathlib import Path\n",
    "\n",
    "src_img = Path(\"D:/AAA/Nowy folder/Outputs/project-8-at-2025-08-12-11-44-492dcff8/images\")\n",
    "src_lab = Path(\"D:/AAA/Nowy folder/Outputs/project-8-at-2025-08-12-11-44-492dcff8/labels\")\n",
    "out = Path(\"D:/AAA/Nowy folder/Outputs/project-8-at-2025-08-12-11-44-492dcff8/yolo_pupil_seg\"); random.seed(42)\n",
    "for p in ['images/train','images/val','labels/train','labels/val']:\n",
    "    (out/p).mkdir(parents=True, exist_ok=True)\n",
    "\n",
    "imgs = [Path(p) for p in glob.glob(str(src_img/'*'))]\n",
    "random.shuffle(imgs); n = int(0.8*len(imgs))\n",
    "splits = {'train': imgs[:n], 'val': imgs[n:]}\n",
    "\n",
    "for split, files in splits.items():\n",
    "    for img in files:\n",
    "        lbl = src_lab/(img.stem + \".txt\")\n",
    "        shutil.copy2(img, out/'images'/split/img.name)\n",
    "        if lbl.exists(): shutil.copy2(lbl, out/'labels'/split/lbl.name)"
   ]
  },
  {
   "cell_type": "code",
   "execution_count": null,
   "id": "8a94d5dc",
   "metadata": {},
   "outputs": [
    {
     "name": "stdout",
     "output_type": "stream",
     "text": [
      "Ultralytics 8.3.177  Python-3.11.9 torch-2.8.0+cpu CPU (Intel Core(TM) i7-8750H 2.20GHz)\n",
      "\u001b[34m\u001b[1mengine\\trainer: \u001b[0magnostic_nms=False, amp=True, augment=False, auto_augment=randaugment, batch=16, bgr=0.0, box=7.5, cache=False, cfg=None, classes=None, close_mosaic=10, cls=0.5, conf=None, copy_paste=0.0, copy_paste_mode=flip, cos_lr=False, cutmix=0.0, data=D:/AAA/Nowy folder/Outputs/project-8-at-2025-08-12-11-44-492dcff8/data.yaml, degrees=0.0, deterministic=True, device=cpu, dfl=1.5, dnn=False, dropout=0.0, dynamic=False, embed=None, epochs=100, erasing=0.4, exist_ok=False, fliplr=0.5, flipud=0.0, format=torchscript, fraction=1.0, freeze=None, half=False, hsv_h=0.015, hsv_s=0.7, hsv_v=0.4, imgsz=640, int8=False, iou=0.7, keras=False, kobj=1.0, line_width=None, lr0=0.01, lrf=0.01, mask_ratio=4, max_det=300, mixup=0.0, mode=train, model=yolov8n-seg.pt, momentum=0.937, mosaic=1.0, multi_scale=False, name=pupil-seg4, nbs=64, nms=False, opset=None, optimize=False, optimizer=auto, overlap_mask=True, patience=100, perspective=0.0, plots=True, pose=12.0, pretrained=True, profile=False, project=runs, rect=False, resume=False, retina_masks=False, save=True, save_conf=False, save_crop=False, save_dir=runs\\pupil-seg4, save_frames=False, save_json=False, save_period=-1, save_txt=False, scale=0.5, seed=0, shear=0.0, show=False, show_boxes=True, show_conf=True, show_labels=True, simplify=True, single_cls=False, source=None, split=val, stream_buffer=False, task=segment, time=None, tracker=botsort.yaml, translate=0.1, val=True, verbose=True, vid_stride=1, visualize=False, warmup_bias_lr=0.1, warmup_epochs=3.0, warmup_momentum=0.8, weight_decay=0.0005, workers=8, workspace=None\n"
     ]
    },
    {
     "name": "stderr",
     "output_type": "stream",
     "text": [
      "Downloading https://ultralytics.com/assets/Arial.ttf to 'C:\\Users\\User\\AppData\\Roaming\\Ultralytics\\Arial.ttf': 100%|██████████| 755k/755k [00:00<00:00, 8.38MB/s]"
     ]
    },
    {
     "name": "stdout",
     "output_type": "stream",
     "text": [
      "Overriding model.yaml nc=80 with nc=1\n",
      "\n",
      "                   from  n    params  module                                       arguments                     \n",
      "  0                  -1  1       464  ultralytics.nn.modules.conv.Conv             [3, 16, 3, 2]                 \n",
      "  1                  -1  1      4672  ultralytics.nn.modules.conv.Conv             [16, 32, 3, 2]                \n",
      "  2                  -1  1      7360  ultralytics.nn.modules.block.C2f             [32, 32, 1, True]             \n",
      "  3                  -1  1     18560  ultralytics.nn.modules.conv.Conv             [32, 64, 3, 2]                \n",
      "  4                  -1  2     49664  ultralytics.nn.modules.block.C2f             [64, 64, 2, True]             \n",
      "  5                  -1  1     73984  ultralytics.nn.modules.conv.Conv             [64, 128, 3, 2]               \n",
      "  6                  -1  2    197632  ultralytics.nn.modules.block.C2f             [128, 128, 2, True]           \n",
      "  7                  -1  1    295424  ultralytics.nn.modules.conv.Conv             [128, 256, 3, 2]              \n",
      "  8                  -1  1    460288  ultralytics.nn.modules.block.C2f             [256, 256, 1, True]           \n",
      "  9                  -1  1    164608  ultralytics.nn.modules.block.SPPF            [256, 256, 5]                 \n",
      " 10                  -1  1         0  torch.nn.modules.upsampling.Upsample         [None, 2, 'nearest']          \n",
      " 11             [-1, 6]  1         0  ultralytics.nn.modules.conv.Concat           [1]                           \n",
      " 12                  -1  1    148224  ultralytics.nn.modules.block.C2f             [384, 128, 1]                 \n",
      " 13                  -1  1         0  torch.nn.modules.upsampling.Upsample         [None, 2, 'nearest']          \n",
      " 14             [-1, 4]  1         0  ultralytics.nn.modules.conv.Concat           [1]                           \n",
      " 15                  -1  1     37248  ultralytics.nn.modules.block.C2f             [192, 64, 1]                  \n",
      " 16                  -1  1     36992  ultralytics.nn.modules.conv.Conv             [64, 64, 3, 2]                \n",
      " 17            [-1, 12]  1         0  ultralytics.nn.modules.conv.Concat           [1]                           \n",
      " 18                  -1  1    123648  ultralytics.nn.modules.block.C2f             [192, 128, 1]                 \n",
      " 19                  -1  1    147712  ultralytics.nn.modules.conv.Conv             [128, 128, 3, 2]              \n",
      " 20             [-1, 9]  1         0  ultralytics.nn.modules.conv.Concat           [1]                           \n",
      " 21                  -1  1    493056  ultralytics.nn.modules.block.C2f             [384, 256, 1]                 \n",
      " 22        [15, 18, 21]  1   1004275  ultralytics.nn.modules.head.Segment          [1, 32, 64, [64, 128, 256]]   \n"
     ]
    },
    {
     "name": "stderr",
     "output_type": "stream",
     "text": [
      "\n"
     ]
    },
    {
     "name": "stdout",
     "output_type": "stream",
     "text": [
      "YOLOv8n-seg summary: 151 layers, 3,263,811 parameters, 3,263,795 gradients, 12.1 GFLOPs\n",
      "\n",
      "Transferred 381/417 items from pretrained weights\n",
      "Freezing layer 'model.22.dfl.conv.weight'\n",
      "\u001b[34m\u001b[1mtrain: \u001b[0mFast image access  (ping: 0.10.0 ms, read: 12.41.2 MB/s, size: 78.4 KB)\n"
     ]
    },
    {
     "name": "stderr",
     "output_type": "stream",
     "text": [
      "\u001b[34m\u001b[1mtrain: \u001b[0mScanning D:\\AAA\\Nowy folder\\Outputs\\project-8-at-2025-08-12-11-44-492dcff8\\yolo_pupil_seg\\labels\\train... 29 images, 0 backgrounds, 0 corrupt: 100%|██████████| 29/29 [00:00<00:00, 293.57it/s]"
     ]
    },
    {
     "name": "stdout",
     "output_type": "stream",
     "text": [
      "\u001b[34m\u001b[1mtrain: \u001b[0mNew cache created: D:\\AAA\\Nowy folder\\Outputs\\project-8-at-2025-08-12-11-44-492dcff8\\yolo_pupil_seg\\labels\\train.cache\n",
      "\u001b[34m\u001b[1mval: \u001b[0mFast image access  (ping: 0.10.0 ms, read: 12.71.5 MB/s, size: 80.7 KB)\n"
     ]
    },
    {
     "name": "stderr",
     "output_type": "stream",
     "text": [
      "\n",
      "d:\\AAA\\Nowy folder\\pupiltracking\\.venv\\Lib\\site-packages\\torch\\utils\\data\\dataloader.py:666: UserWarning: 'pin_memory' argument is set as true but no accelerator is found, then device pinned memory won't be used.\n",
      "  warnings.warn(warn_msg)\n",
      "\u001b[34m\u001b[1mval: \u001b[0mScanning D:\\AAA\\Nowy folder\\Outputs\\project-8-at-2025-08-12-11-44-492dcff8\\yolo_pupil_seg\\labels\\val... 8 images, 0 backgrounds, 0 corrupt: 100%|██████████| 8/8 [00:00<00:00, 494.44it/s]"
     ]
    },
    {
     "name": "stdout",
     "output_type": "stream",
     "text": [
      "\u001b[34m\u001b[1mval: \u001b[0mNew cache created: D:\\AAA\\Nowy folder\\Outputs\\project-8-at-2025-08-12-11-44-492dcff8\\yolo_pupil_seg\\labels\\val.cache\n"
     ]
    },
    {
     "name": "stderr",
     "output_type": "stream",
     "text": [
      "\n",
      "d:\\AAA\\Nowy folder\\pupiltracking\\.venv\\Lib\\site-packages\\torch\\utils\\data\\dataloader.py:666: UserWarning: 'pin_memory' argument is set as true but no accelerator is found, then device pinned memory won't be used.\n",
      "  warnings.warn(warn_msg)\n"
     ]
    },
    {
     "name": "stdout",
     "output_type": "stream",
     "text": [
      "Plotting labels to runs\\pupil-seg4\\labels.jpg... \n",
      "\u001b[34m\u001b[1moptimizer:\u001b[0m 'optimizer=auto' found, ignoring 'lr0=0.01' and 'momentum=0.937' and determining best 'optimizer', 'lr0' and 'momentum' automatically... \n",
      "\u001b[34m\u001b[1moptimizer:\u001b[0m AdamW(lr=0.002, momentum=0.9) with parameter groups 66 weight(decay=0.0), 77 weight(decay=0.0005), 76 bias(decay=0.0)\n",
      "Image sizes 640 train, 640 val\n",
      "Using 0 dataloader workers\n",
      "Logging results to \u001b[1mruns\\pupil-seg4\u001b[0m\n",
      "Starting training for 100 epochs...\n",
      "\n",
      "      Epoch    GPU_mem   box_loss   seg_loss   cls_loss   dfl_loss  Instances       Size\n"
     ]
    },
    {
     "name": "stderr",
     "output_type": "stream",
     "text": [
      "      1/100         0G     0.7503      2.065      3.056      1.145         22        640: 100%|██████████| 2/2 [00:11<00:00,  5.55s/it]\n",
      "                 Class     Images  Instances      Box(P          R      mAP50  mAP50-95)     Mask(P          R      mAP50  mAP50-95): 100%|██████████| 1/1 [00:01<00:00,  1.69s/it]"
     ]
    },
    {
     "name": "stdout",
     "output_type": "stream",
     "text": [
      "                   all          8          8    0.00333          1      0.747      0.672    0.00333          1      0.747      0.674\n"
     ]
    },
    {
     "name": "stderr",
     "output_type": "stream",
     "text": [
      "\n"
     ]
    },
    {
     "name": "stdout",
     "output_type": "stream",
     "text": [
      "\n",
      "      Epoch    GPU_mem   box_loss   seg_loss   cls_loss   dfl_loss  Instances       Size\n"
     ]
    },
    {
     "name": "stderr",
     "output_type": "stream",
     "text": [
      "      2/100         0G     0.7418      1.867      2.928      1.089         26        640: 100%|██████████| 2/2 [00:11<00:00,  5.53s/it]\n",
      "                 Class     Images  Instances      Box(P          R      mAP50  mAP50-95)     Mask(P          R      mAP50  mAP50-95): 100%|██████████| 1/1 [00:01<00:00,  1.26s/it]"
     ]
    },
    {
     "name": "stdout",
     "output_type": "stream",
     "text": [
      "                   all          8          8    0.00333          1      0.874      0.803    0.00333          1      0.874      0.802\n"
     ]
    },
    {
     "name": "stderr",
     "output_type": "stream",
     "text": [
      "\n"
     ]
    },
    {
     "name": "stdout",
     "output_type": "stream",
     "text": [
      "\n",
      "      Epoch    GPU_mem   box_loss   seg_loss   cls_loss   dfl_loss  Instances       Size\n"
     ]
    },
    {
     "name": "stderr",
     "output_type": "stream",
     "text": [
      "      3/100         0G     0.8078      1.699      2.668       1.09         23        640: 100%|██████████| 2/2 [00:11<00:00,  5.59s/it]\n",
      "                 Class     Images  Instances      Box(P          R      mAP50  mAP50-95)     Mask(P          R      mAP50  mAP50-95): 100%|██████████| 1/1 [00:01<00:00,  1.33s/it]"
     ]
    },
    {
     "name": "stdout",
     "output_type": "stream",
     "text": [
      "                   all          8          8    0.00333          1      0.971      0.865    0.00333          1      0.971      0.879\n"
     ]
    },
    {
     "name": "stderr",
     "output_type": "stream",
     "text": [
      "\n"
     ]
    },
    {
     "name": "stdout",
     "output_type": "stream",
     "text": [
      "\n",
      "      Epoch    GPU_mem   box_loss   seg_loss   cls_loss   dfl_loss  Instances       Size\n"
     ]
    },
    {
     "name": "stderr",
     "output_type": "stream",
     "text": [
      "      4/100         0G      0.865      1.434      2.304      1.104         26        640: 100%|██████████| 2/2 [00:10<00:00,  5.14s/it]\n",
      "                 Class     Images  Instances      Box(P          R      mAP50  mAP50-95)     Mask(P          R      mAP50  mAP50-95): 100%|██████████| 1/1 [00:01<00:00,  1.29s/it]"
     ]
    },
    {
     "name": "stdout",
     "output_type": "stream",
     "text": [
      "                   all          8          8    0.00333          1      0.971      0.842    0.00333          1      0.971      0.875\n"
     ]
    },
    {
     "name": "stderr",
     "output_type": "stream",
     "text": [
      "\n"
     ]
    },
    {
     "name": "stdout",
     "output_type": "stream",
     "text": [
      "\n",
      "      Epoch    GPU_mem   box_loss   seg_loss   cls_loss   dfl_loss  Instances       Size\n"
     ]
    },
    {
     "name": "stderr",
     "output_type": "stream",
     "text": [
      "      5/100         0G     0.5773     0.9434      1.637      0.949         26        640: 100%|██████████| 2/2 [00:10<00:00,  5.10s/it]\n",
      "                 Class     Images  Instances      Box(P          R      mAP50  mAP50-95)     Mask(P          R      mAP50  mAP50-95): 100%|██████████| 1/1 [00:01<00:00,  1.31s/it]"
     ]
    },
    {
     "name": "stdout",
     "output_type": "stream",
     "text": [
      "                   all          8          8    0.00333          1      0.971      0.867    0.00333          1      0.971      0.873\n"
     ]
    },
    {
     "name": "stderr",
     "output_type": "stream",
     "text": [
      "\n"
     ]
    },
    {
     "name": "stdout",
     "output_type": "stream",
     "text": [
      "\n",
      "      Epoch    GPU_mem   box_loss   seg_loss   cls_loss   dfl_loss  Instances       Size\n"
     ]
    },
    {
     "name": "stderr",
     "output_type": "stream",
     "text": [
      "      6/100         0G     0.7037      1.129      1.644       1.01         20        640: 100%|██████████| 2/2 [00:10<00:00,  5.16s/it]\n",
      "                 Class     Images  Instances      Box(P          R      mAP50  mAP50-95)     Mask(P          R      mAP50  mAP50-95): 100%|██████████| 1/1 [00:01<00:00,  1.30s/it]"
     ]
    },
    {
     "name": "stdout",
     "output_type": "stream",
     "text": [
      "                   all          8          8    0.00333          1      0.995       0.87    0.00333          1      0.995      0.853\n"
     ]
    },
    {
     "name": "stderr",
     "output_type": "stream",
     "text": [
      "\n"
     ]
    },
    {
     "name": "stdout",
     "output_type": "stream",
     "text": [
      "\n",
      "      Epoch    GPU_mem   box_loss   seg_loss   cls_loss   dfl_loss  Instances       Size\n"
     ]
    },
    {
     "name": "stderr",
     "output_type": "stream",
     "text": [
      "      7/100         0G     0.5565      0.857      1.335     0.9376         28        640: 100%|██████████| 2/2 [00:10<00:00,  5.23s/it]\n",
      "                 Class     Images  Instances      Box(P          R      mAP50  mAP50-95)     Mask(P          R      mAP50  mAP50-95): 100%|██████████| 1/1 [00:01<00:00,  1.32s/it]"
     ]
    },
    {
     "name": "stdout",
     "output_type": "stream",
     "text": [
      "                   all          8          8    0.00944          1      0.995      0.921    0.00944          1      0.995      0.895\n"
     ]
    },
    {
     "name": "stderr",
     "output_type": "stream",
     "text": [
      "\n"
     ]
    },
    {
     "name": "stdout",
     "output_type": "stream",
     "text": [
      "\n",
      "      Epoch    GPU_mem   box_loss   seg_loss   cls_loss   dfl_loss  Instances       Size\n"
     ]
    },
    {
     "name": "stderr",
     "output_type": "stream",
     "text": [
      "      8/100         0G     0.6068     0.7902      1.195     0.9706         28        640: 100%|██████████| 2/2 [00:10<00:00,  5.15s/it]\n",
      "                 Class     Images  Instances      Box(P          R      mAP50  mAP50-95)     Mask(P          R      mAP50  mAP50-95): 100%|██████████| 1/1 [00:01<00:00,  1.28s/it]"
     ]
    },
    {
     "name": "stdout",
     "output_type": "stream",
     "text": [
      "                   all          8          8     0.0097          1      0.995      0.903     0.0097          1      0.995      0.848\n"
     ]
    },
    {
     "name": "stderr",
     "output_type": "stream",
     "text": [
      "\n"
     ]
    },
    {
     "name": "stdout",
     "output_type": "stream",
     "text": [
      "\n",
      "      Epoch    GPU_mem   box_loss   seg_loss   cls_loss   dfl_loss  Instances       Size\n"
     ]
    },
    {
     "name": "stderr",
     "output_type": "stream",
     "text": [
      "      9/100         0G     0.6757     0.7754       1.16     0.9639         32        640: 100%|██████████| 2/2 [00:10<00:00,  5.15s/it]\n",
      "                 Class     Images  Instances      Box(P          R      mAP50  mAP50-95)     Mask(P          R      mAP50  mAP50-95): 100%|██████████| 1/1 [00:01<00:00,  1.32s/it]"
     ]
    },
    {
     "name": "stdout",
     "output_type": "stream",
     "text": [
      "                   all          8          8      0.993          1      0.995      0.868      0.993          1      0.995      0.843\n"
     ]
    },
    {
     "name": "stderr",
     "output_type": "stream",
     "text": [
      "\n"
     ]
    },
    {
     "name": "stdout",
     "output_type": "stream",
     "text": [
      "\n",
      "      Epoch    GPU_mem   box_loss   seg_loss   cls_loss   dfl_loss  Instances       Size\n"
     ]
    },
    {
     "name": "stderr",
     "output_type": "stream",
     "text": [
      "     10/100         0G     0.6849     0.8805      1.108     0.9367         25        640: 100%|██████████| 2/2 [00:10<00:00,  5.21s/it]\n",
      "                 Class     Images  Instances      Box(P          R      mAP50  mAP50-95)     Mask(P          R      mAP50  mAP50-95): 100%|██████████| 1/1 [00:01<00:00,  1.30s/it]"
     ]
    },
    {
     "name": "stdout",
     "output_type": "stream",
     "text": [
      "                   all          8          8          1      0.816      0.995      0.809          1      0.816      0.995      0.833\n"
     ]
    },
    {
     "name": "stderr",
     "output_type": "stream",
     "text": [
      "\n"
     ]
    },
    {
     "name": "stdout",
     "output_type": "stream",
     "text": [
      "\n",
      "      Epoch    GPU_mem   box_loss   seg_loss   cls_loss   dfl_loss  Instances       Size\n"
     ]
    },
    {
     "name": "stderr",
     "output_type": "stream",
     "text": [
      "     11/100         0G     0.6389     0.6694      1.048     0.9155         32        640: 100%|██████████| 2/2 [00:10<00:00,  5.27s/it]\n",
      "                 Class     Images  Instances      Box(P          R      mAP50  mAP50-95)     Mask(P          R      mAP50  mAP50-95): 100%|██████████| 1/1 [00:01<00:00,  1.33s/it]"
     ]
    },
    {
     "name": "stdout",
     "output_type": "stream",
     "text": [
      "                   all          8          8          1      0.805      0.995      0.823          1      0.805      0.995       0.78\n"
     ]
    },
    {
     "name": "stderr",
     "output_type": "stream",
     "text": [
      "\n"
     ]
    },
    {
     "name": "stdout",
     "output_type": "stream",
     "text": [
      "\n",
      "      Epoch    GPU_mem   box_loss   seg_loss   cls_loss   dfl_loss  Instances       Size\n"
     ]
    },
    {
     "name": "stderr",
     "output_type": "stream",
     "text": [
      "     12/100         0G      0.729     0.7826      1.158     0.9473         33        640: 100%|██████████| 2/2 [00:10<00:00,  5.17s/it]\n",
      "                 Class     Images  Instances      Box(P          R      mAP50  mAP50-95)     Mask(P          R      mAP50  mAP50-95): 100%|██████████| 1/1 [00:01<00:00,  1.31s/it]"
     ]
    },
    {
     "name": "stdout",
     "output_type": "stream",
     "text": [
      "                   all          8          8          1      0.818      0.995      0.813          1      0.818      0.995      0.743\n"
     ]
    },
    {
     "name": "stderr",
     "output_type": "stream",
     "text": [
      "\n"
     ]
    },
    {
     "name": "stdout",
     "output_type": "stream",
     "text": [
      "\n",
      "      Epoch    GPU_mem   box_loss   seg_loss   cls_loss   dfl_loss  Instances       Size\n"
     ]
    },
    {
     "name": "stderr",
     "output_type": "stream",
     "text": [
      "     13/100         0G     0.6304     0.8957      1.112     0.9511         27        640: 100%|██████████| 2/2 [00:10<00:00,  5.25s/it]\n",
      "                 Class     Images  Instances      Box(P          R      mAP50  mAP50-95)     Mask(P          R      mAP50  mAP50-95): 100%|██████████| 1/1 [00:01<00:00,  1.31s/it]"
     ]
    },
    {
     "name": "stdout",
     "output_type": "stream",
     "text": [
      "                   all          8          8          1      0.882      0.995      0.833          1      0.882      0.995      0.804\n"
     ]
    },
    {
     "name": "stderr",
     "output_type": "stream",
     "text": [
      "\n"
     ]
    },
    {
     "name": "stdout",
     "output_type": "stream",
     "text": [
      "\n",
      "      Epoch    GPU_mem   box_loss   seg_loss   cls_loss   dfl_loss  Instances       Size\n"
     ]
    },
    {
     "name": "stderr",
     "output_type": "stream",
     "text": [
      "     14/100         0G     0.6604     0.8384      1.111     0.9562         28        640: 100%|██████████| 2/2 [00:10<00:00,  5.18s/it]\n",
      "                 Class     Images  Instances      Box(P          R      mAP50  mAP50-95)     Mask(P          R      mAP50  mAP50-95): 100%|██████████| 1/1 [00:01<00:00,  1.32s/it]"
     ]
    },
    {
     "name": "stdout",
     "output_type": "stream",
     "text": [
      "                   all          8          8          1      0.917      0.995      0.811          1      0.917      0.995      0.846\n"
     ]
    },
    {
     "name": "stderr",
     "output_type": "stream",
     "text": [
      "\n"
     ]
    },
    {
     "name": "stdout",
     "output_type": "stream",
     "text": [
      "\n",
      "      Epoch    GPU_mem   box_loss   seg_loss   cls_loss   dfl_loss  Instances       Size\n"
     ]
    },
    {
     "name": "stderr",
     "output_type": "stream",
     "text": [
      "     15/100         0G     0.5505     0.5658      1.134     0.9325         34        640: 100%|██████████| 2/2 [00:10<00:00,  5.21s/it]\n",
      "                 Class     Images  Instances      Box(P          R      mAP50  mAP50-95)     Mask(P          R      mAP50  mAP50-95): 100%|██████████| 1/1 [00:01<00:00,  1.32s/it]"
     ]
    },
    {
     "name": "stdout",
     "output_type": "stream",
     "text": [
      "                   all          8          8          1      0.903      0.995      0.803          1      0.903      0.995       0.86\n"
     ]
    },
    {
     "name": "stderr",
     "output_type": "stream",
     "text": [
      "\n"
     ]
    },
    {
     "name": "stdout",
     "output_type": "stream",
     "text": [
      "\n",
      "      Epoch    GPU_mem   box_loss   seg_loss   cls_loss   dfl_loss  Instances       Size\n"
     ]
    },
    {
     "name": "stderr",
     "output_type": "stream",
     "text": [
      "     16/100         0G     0.6325     0.6352      1.114     0.9658         30        640: 100%|██████████| 2/2 [00:10<00:00,  5.34s/it]\n",
      "                 Class     Images  Instances      Box(P          R      mAP50  mAP50-95)     Mask(P          R      mAP50  mAP50-95): 100%|██████████| 1/1 [00:01<00:00,  1.44s/it]"
     ]
    },
    {
     "name": "stdout",
     "output_type": "stream",
     "text": [
      "                   all          8          8          1      0.923      0.995      0.777          1      0.923      0.995      0.836\n"
     ]
    },
    {
     "name": "stderr",
     "output_type": "stream",
     "text": [
      "\n"
     ]
    },
    {
     "name": "stdout",
     "output_type": "stream",
     "text": [
      "\n",
      "      Epoch    GPU_mem   box_loss   seg_loss   cls_loss   dfl_loss  Instances       Size\n"
     ]
    },
    {
     "name": "stderr",
     "output_type": "stream",
     "text": [
      "     17/100         0G     0.6065     0.6809      1.034     0.9572         28        640: 100%|██████████| 2/2 [00:11<00:00,  5.75s/it]\n",
      "                 Class     Images  Instances      Box(P          R      mAP50  mAP50-95)     Mask(P          R      mAP50  mAP50-95): 100%|██████████| 1/1 [00:01<00:00,  1.44s/it]"
     ]
    },
    {
     "name": "stdout",
     "output_type": "stream",
     "text": [
      "                   all          8          8      0.953      0.875      0.971       0.84      0.953      0.875      0.971      0.816\n"
     ]
    },
    {
     "name": "stderr",
     "output_type": "stream",
     "text": [
      "\n"
     ]
    },
    {
     "name": "stdout",
     "output_type": "stream",
     "text": [
      "\n",
      "      Epoch    GPU_mem   box_loss   seg_loss   cls_loss   dfl_loss  Instances       Size\n"
     ]
    },
    {
     "name": "stderr",
     "output_type": "stream",
     "text": [
      "     18/100         0G     0.6797     0.8554      1.067      1.048         24        640: 100%|██████████| 2/2 [00:11<00:00,  5.77s/it]\n",
      "                 Class     Images  Instances      Box(P          R      mAP50  mAP50-95)     Mask(P          R      mAP50  mAP50-95): 100%|██████████| 1/1 [00:01<00:00,  1.53s/it]"
     ]
    },
    {
     "name": "stdout",
     "output_type": "stream",
     "text": [
      "                   all          8          8      0.971      0.875      0.955      0.831      0.971      0.875      0.955       0.81\n"
     ]
    },
    {
     "name": "stderr",
     "output_type": "stream",
     "text": [
      "\n"
     ]
    },
    {
     "name": "stdout",
     "output_type": "stream",
     "text": [
      "\n",
      "      Epoch    GPU_mem   box_loss   seg_loss   cls_loss   dfl_loss  Instances       Size\n"
     ]
    },
    {
     "name": "stderr",
     "output_type": "stream",
     "text": [
      "     19/100         0G     0.5775     0.5607     0.9531     0.9775         27        640: 100%|██████████| 2/2 [00:12<00:00,  6.13s/it]\n",
      "                 Class     Images  Instances      Box(P          R      mAP50  mAP50-95)     Mask(P          R      mAP50  mAP50-95): 100%|██████████| 1/1 [00:01<00:00,  1.44s/it]"
     ]
    },
    {
     "name": "stdout",
     "output_type": "stream",
     "text": [
      "                   all          8          8      0.983      0.875      0.982      0.855      0.983      0.875      0.982      0.832\n"
     ]
    },
    {
     "name": "stderr",
     "output_type": "stream",
     "text": [
      "\n"
     ]
    },
    {
     "name": "stdout",
     "output_type": "stream",
     "text": [
      "\n",
      "      Epoch    GPU_mem   box_loss   seg_loss   cls_loss   dfl_loss  Instances       Size\n"
     ]
    },
    {
     "name": "stderr",
     "output_type": "stream",
     "text": [
      "     20/100         0G     0.5863     0.7169      1.032     0.9496         19        640: 100%|██████████| 2/2 [00:10<00:00,  5.41s/it]\n",
      "                 Class     Images  Instances      Box(P          R      mAP50  mAP50-95)     Mask(P          R      mAP50  mAP50-95): 100%|██████████| 1/1 [00:01<00:00,  1.43s/it]"
     ]
    },
    {
     "name": "stdout",
     "output_type": "stream",
     "text": [
      "                   all          8          8          1       0.95      0.995      0.823          1       0.95      0.995      0.885\n"
     ]
    },
    {
     "name": "stderr",
     "output_type": "stream",
     "text": [
      "\n"
     ]
    },
    {
     "name": "stdout",
     "output_type": "stream",
     "text": [
      "\n",
      "      Epoch    GPU_mem   box_loss   seg_loss   cls_loss   dfl_loss  Instances       Size\n"
     ]
    },
    {
     "name": "stderr",
     "output_type": "stream",
     "text": [
      "     21/100         0G     0.6632     0.6637     0.9879     0.9489         24        640: 100%|██████████| 2/2 [00:10<00:00,  5.24s/it]\n",
      "                 Class     Images  Instances      Box(P          R      mAP50  mAP50-95)     Mask(P          R      mAP50  mAP50-95): 100%|██████████| 1/1 [00:01<00:00,  1.33s/it]"
     ]
    },
    {
     "name": "stdout",
     "output_type": "stream",
     "text": [
      "                   all          8          8      0.948      0.875      0.971      0.847          1      0.951      0.995      0.852\n"
     ]
    },
    {
     "name": "stderr",
     "output_type": "stream",
     "text": [
      "\n"
     ]
    },
    {
     "name": "stdout",
     "output_type": "stream",
     "text": [
      "\n",
      "      Epoch    GPU_mem   box_loss   seg_loss   cls_loss   dfl_loss  Instances       Size\n"
     ]
    },
    {
     "name": "stderr",
     "output_type": "stream",
     "text": [
      "     22/100         0G     0.6932     0.7369      1.014     0.9335         28        640: 100%|██████████| 2/2 [00:10<00:00,  5.23s/it]\n",
      "                 Class     Images  Instances      Box(P          R      mAP50  mAP50-95)     Mask(P          R      mAP50  mAP50-95): 100%|██████████| 1/1 [00:01<00:00,  1.34s/it]"
     ]
    },
    {
     "name": "stdout",
     "output_type": "stream",
     "text": [
      "                   all          8          8      0.947      0.875      0.962      0.847          1      0.936      0.995      0.859\n"
     ]
    },
    {
     "name": "stderr",
     "output_type": "stream",
     "text": [
      "\n"
     ]
    },
    {
     "name": "stdout",
     "output_type": "stream",
     "text": [
      "\n",
      "      Epoch    GPU_mem   box_loss   seg_loss   cls_loss   dfl_loss  Instances       Size\n"
     ]
    },
    {
     "name": "stderr",
     "output_type": "stream",
     "text": [
      "     23/100         0G     0.6184     0.8795      1.055     0.9372         27        640: 100%|██████████| 2/2 [00:10<00:00,  5.34s/it]\n",
      "                 Class     Images  Instances      Box(P          R      mAP50  mAP50-95)     Mask(P          R      mAP50  mAP50-95): 100%|██████████| 1/1 [00:01<00:00,  1.36s/it]"
     ]
    },
    {
     "name": "stdout",
     "output_type": "stream",
     "text": [
      "                   all          8          8          1      0.973      0.995      0.842          1      0.973      0.995      0.882\n"
     ]
    },
    {
     "name": "stderr",
     "output_type": "stream",
     "text": [
      "\n"
     ]
    },
    {
     "name": "stdout",
     "output_type": "stream",
     "text": [
      "\n",
      "      Epoch    GPU_mem   box_loss   seg_loss   cls_loss   dfl_loss  Instances       Size\n"
     ]
    },
    {
     "name": "stderr",
     "output_type": "stream",
     "text": [
      "     24/100         0G     0.5664     0.6206     0.8904     0.9134         33        640: 100%|██████████| 2/2 [00:10<00:00,  5.31s/it]\n",
      "                 Class     Images  Instances      Box(P          R      mAP50  mAP50-95)     Mask(P          R      mAP50  mAP50-95): 100%|██████████| 1/1 [00:01<00:00,  1.37s/it]"
     ]
    },
    {
     "name": "stdout",
     "output_type": "stream",
     "text": [
      "                   all          8          8          1      0.989      0.995      0.829          1      0.989      0.995      0.891\n"
     ]
    },
    {
     "name": "stderr",
     "output_type": "stream",
     "text": [
      "\n"
     ]
    },
    {
     "name": "stdout",
     "output_type": "stream",
     "text": [
      "\n",
      "      Epoch    GPU_mem   box_loss   seg_loss   cls_loss   dfl_loss  Instances       Size\n"
     ]
    },
    {
     "name": "stderr",
     "output_type": "stream",
     "text": [
      "     25/100         0G     0.7104      1.384      1.223      1.011         24        640: 100%|██████████| 2/2 [00:11<00:00,  5.51s/it]\n",
      "                 Class     Images  Instances      Box(P          R      mAP50  mAP50-95)     Mask(P          R      mAP50  mAP50-95): 100%|██████████| 1/1 [00:01<00:00,  1.48s/it]"
     ]
    },
    {
     "name": "stdout",
     "output_type": "stream",
     "text": [
      "                   all          8          8          1      0.994      0.995      0.872          1      0.994      0.995      0.899\n"
     ]
    },
    {
     "name": "stderr",
     "output_type": "stream",
     "text": [
      "\n"
     ]
    },
    {
     "name": "stdout",
     "output_type": "stream",
     "text": [
      "\n",
      "      Epoch    GPU_mem   box_loss   seg_loss   cls_loss   dfl_loss  Instances       Size\n"
     ]
    },
    {
     "name": "stderr",
     "output_type": "stream",
     "text": [
      "     26/100         0G     0.6439     0.8624      1.047     0.9594         31        640: 100%|██████████| 2/2 [00:11<00:00,  5.83s/it]\n",
      "                 Class     Images  Instances      Box(P          R      mAP50  mAP50-95)     Mask(P          R      mAP50  mAP50-95): 100%|██████████| 1/1 [00:01<00:00,  1.46s/it]"
     ]
    },
    {
     "name": "stdout",
     "output_type": "stream",
     "text": [
      "                   all          8          8      0.989          1      0.995      0.844      0.989          1      0.995      0.899\n"
     ]
    },
    {
     "name": "stderr",
     "output_type": "stream",
     "text": [
      "\n"
     ]
    },
    {
     "name": "stdout",
     "output_type": "stream",
     "text": [
      "\n",
      "      Epoch    GPU_mem   box_loss   seg_loss   cls_loss   dfl_loss  Instances       Size\n"
     ]
    },
    {
     "name": "stderr",
     "output_type": "stream",
     "text": [
      "     27/100         0G     0.5516      0.604     0.9047     0.9307         28        640: 100%|██████████| 2/2 [00:11<00:00,  5.70s/it]\n",
      "                 Class     Images  Instances      Box(P          R      mAP50  mAP50-95)     Mask(P          R      mAP50  mAP50-95): 100%|██████████| 1/1 [00:01<00:00,  1.49s/it]"
     ]
    },
    {
     "name": "stdout",
     "output_type": "stream",
     "text": [
      "                   all          8          8      0.983          1      0.995      0.763      0.983          1      0.995       0.84\n"
     ]
    },
    {
     "name": "stderr",
     "output_type": "stream",
     "text": [
      "\n"
     ]
    },
    {
     "name": "stdout",
     "output_type": "stream",
     "text": [
      "\n",
      "      Epoch    GPU_mem   box_loss   seg_loss   cls_loss   dfl_loss  Instances       Size\n"
     ]
    },
    {
     "name": "stderr",
     "output_type": "stream",
     "text": [
      "     28/100         0G     0.7651     0.9373      1.059      1.019         24        640: 100%|██████████| 2/2 [00:11<00:00,  5.71s/it]\n",
      "                 Class     Images  Instances      Box(P          R      mAP50  mAP50-95)     Mask(P          R      mAP50  mAP50-95): 100%|██████████| 1/1 [00:01<00:00,  1.47s/it]"
     ]
    },
    {
     "name": "stdout",
     "output_type": "stream",
     "text": [
      "                   all          8          8      0.983          1      0.995      0.763      0.983          1      0.995       0.84\n"
     ]
    },
    {
     "name": "stderr",
     "output_type": "stream",
     "text": [
      "\n"
     ]
    },
    {
     "name": "stdout",
     "output_type": "stream",
     "text": [
      "\n",
      "      Epoch    GPU_mem   box_loss   seg_loss   cls_loss   dfl_loss  Instances       Size\n"
     ]
    },
    {
     "name": "stderr",
     "output_type": "stream",
     "text": [
      "     29/100         0G     0.6979     0.8425      1.101     0.9886         28        640: 100%|██████████| 2/2 [00:11<00:00,  5.74s/it]\n",
      "                 Class     Images  Instances      Box(P          R      mAP50  mAP50-95)     Mask(P          R      mAP50  mAP50-95): 100%|██████████| 1/1 [00:01<00:00,  1.47s/it]"
     ]
    },
    {
     "name": "stdout",
     "output_type": "stream",
     "text": [
      "                   all          8          8      0.985          1      0.995      0.786      0.985          1      0.995      0.863\n"
     ]
    },
    {
     "name": "stderr",
     "output_type": "stream",
     "text": [
      "\n"
     ]
    },
    {
     "name": "stdout",
     "output_type": "stream",
     "text": [
      "\n",
      "      Epoch    GPU_mem   box_loss   seg_loss   cls_loss   dfl_loss  Instances       Size\n"
     ]
    },
    {
     "name": "stderr",
     "output_type": "stream",
     "text": [
      "     30/100         0G     0.6776     0.7911      1.104     0.9997         21        640: 100%|██████████| 2/2 [00:11<00:00,  5.81s/it]\n",
      "                 Class     Images  Instances      Box(P          R      mAP50  mAP50-95)     Mask(P          R      mAP50  mAP50-95): 100%|██████████| 1/1 [00:01<00:00,  1.73s/it]"
     ]
    },
    {
     "name": "stdout",
     "output_type": "stream",
     "text": [
      "                   all          8          8      0.987          1      0.995       0.83      0.987          1      0.995      0.879\n"
     ]
    },
    {
     "name": "stderr",
     "output_type": "stream",
     "text": [
      "\n"
     ]
    },
    {
     "name": "stdout",
     "output_type": "stream",
     "text": [
      "\n",
      "      Epoch    GPU_mem   box_loss   seg_loss   cls_loss   dfl_loss  Instances       Size\n"
     ]
    },
    {
     "name": "stderr",
     "output_type": "stream",
     "text": [
      "     31/100         0G     0.6067     0.7416     0.9565     0.9588         24        640: 100%|██████████| 2/2 [00:11<00:00,  5.98s/it]\n",
      "                 Class     Images  Instances      Box(P          R      mAP50  mAP50-95)     Mask(P          R      mAP50  mAP50-95): 100%|██████████| 1/1 [00:01<00:00,  1.38s/it]"
     ]
    },
    {
     "name": "stdout",
     "output_type": "stream",
     "text": [
      "                   all          8          8      0.987          1      0.995       0.83      0.987          1      0.995      0.879\n"
     ]
    },
    {
     "name": "stderr",
     "output_type": "stream",
     "text": [
      "\n"
     ]
    },
    {
     "name": "stdout",
     "output_type": "stream",
     "text": [
      "\n",
      "      Epoch    GPU_mem   box_loss   seg_loss   cls_loss   dfl_loss  Instances       Size\n"
     ]
    },
    {
     "name": "stderr",
     "output_type": "stream",
     "text": [
      "     32/100         0G      0.616     0.7467     0.8973     0.9358         26        640: 100%|██████████| 2/2 [00:11<00:00,  5.80s/it]\n",
      "                 Class     Images  Instances      Box(P          R      mAP50  mAP50-95)     Mask(P          R      mAP50  mAP50-95): 100%|██████████| 1/1 [00:01<00:00,  1.49s/it]"
     ]
    },
    {
     "name": "stdout",
     "output_type": "stream",
     "text": [
      "                   all          8          8      0.986          1      0.995      0.852      0.986          1      0.995        0.9\n"
     ]
    },
    {
     "name": "stderr",
     "output_type": "stream",
     "text": [
      "\n"
     ]
    },
    {
     "name": "stdout",
     "output_type": "stream",
     "text": [
      "\n",
      "      Epoch    GPU_mem   box_loss   seg_loss   cls_loss   dfl_loss  Instances       Size\n"
     ]
    },
    {
     "name": "stderr",
     "output_type": "stream",
     "text": [
      "     33/100         0G     0.5968     0.5456     0.8553     0.9458         34        640: 100%|██████████| 2/2 [00:11<00:00,  5.56s/it]\n",
      "                 Class     Images  Instances      Box(P          R      mAP50  mAP50-95)     Mask(P          R      mAP50  mAP50-95): 100%|██████████| 1/1 [00:01<00:00,  1.40s/it]"
     ]
    },
    {
     "name": "stdout",
     "output_type": "stream",
     "text": [
      "                   all          8          8      0.994          1      0.995      0.837      0.994          1      0.995      0.871\n"
     ]
    },
    {
     "name": "stderr",
     "output_type": "stream",
     "text": [
      "\n"
     ]
    },
    {
     "name": "stdout",
     "output_type": "stream",
     "text": [
      "\n",
      "      Epoch    GPU_mem   box_loss   seg_loss   cls_loss   dfl_loss  Instances       Size\n"
     ]
    },
    {
     "name": "stderr",
     "output_type": "stream",
     "text": [
      "     34/100         0G     0.6954     0.9874      1.095     0.9525         21        640: 100%|██████████| 2/2 [00:10<00:00,  5.25s/it]\n",
      "                 Class     Images  Instances      Box(P          R      mAP50  mAP50-95)     Mask(P          R      mAP50  mAP50-95): 100%|██████████| 1/1 [00:01<00:00,  1.36s/it]"
     ]
    },
    {
     "name": "stdout",
     "output_type": "stream",
     "text": [
      "                   all          8          8      0.994          1      0.995      0.837      0.994          1      0.995      0.871\n"
     ]
    },
    {
     "name": "stderr",
     "output_type": "stream",
     "text": [
      "\n"
     ]
    },
    {
     "name": "stdout",
     "output_type": "stream",
     "text": [
      "\n",
      "      Epoch    GPU_mem   box_loss   seg_loss   cls_loss   dfl_loss  Instances       Size\n"
     ]
    },
    {
     "name": "stderr",
     "output_type": "stream",
     "text": [
      "     35/100         0G     0.7057     0.6922     0.9544     0.9405         27        640: 100%|██████████| 2/2 [00:10<00:00,  5.28s/it]\n",
      "                 Class     Images  Instances      Box(P          R      mAP50  mAP50-95)     Mask(P          R      mAP50  mAP50-95): 100%|██████████| 1/1 [00:01<00:00,  1.36s/it]"
     ]
    },
    {
     "name": "stdout",
     "output_type": "stream",
     "text": [
      "                   all          8          8      0.997          1      0.995      0.849      0.997          1      0.995      0.871\n"
     ]
    },
    {
     "name": "stderr",
     "output_type": "stream",
     "text": [
      "\n"
     ]
    },
    {
     "name": "stdout",
     "output_type": "stream",
     "text": [
      "\n",
      "      Epoch    GPU_mem   box_loss   seg_loss   cls_loss   dfl_loss  Instances       Size\n"
     ]
    },
    {
     "name": "stderr",
     "output_type": "stream",
     "text": [
      "     36/100         0G     0.6424     0.7372     0.8919     0.9215         34        640: 100%|██████████| 2/2 [00:10<00:00,  5.39s/it]\n",
      "                 Class     Images  Instances      Box(P          R      mAP50  mAP50-95)     Mask(P          R      mAP50  mAP50-95): 100%|██████████| 1/1 [00:01<00:00,  1.46s/it]"
     ]
    },
    {
     "name": "stdout",
     "output_type": "stream",
     "text": [
      "                   all          8          8          1      0.998      0.995      0.842          1      0.998      0.995      0.911\n"
     ]
    },
    {
     "name": "stderr",
     "output_type": "stream",
     "text": [
      "\n"
     ]
    },
    {
     "name": "stdout",
     "output_type": "stream",
     "text": [
      "\n",
      "      Epoch    GPU_mem   box_loss   seg_loss   cls_loss   dfl_loss  Instances       Size\n"
     ]
    },
    {
     "name": "stderr",
     "output_type": "stream",
     "text": [
      "     37/100         0G     0.5311     0.6127     0.9511     0.9276         23        640: 100%|██████████| 2/2 [00:10<00:00,  5.22s/it]\n",
      "                 Class     Images  Instances      Box(P          R      mAP50  mAP50-95)     Mask(P          R      mAP50  mAP50-95): 100%|██████████| 1/1 [00:01<00:00,  1.36s/it]"
     ]
    },
    {
     "name": "stdout",
     "output_type": "stream",
     "text": [
      "                   all          8          8          1      0.998      0.995      0.842          1      0.998      0.995      0.911\n"
     ]
    },
    {
     "name": "stderr",
     "output_type": "stream",
     "text": [
      "\n"
     ]
    },
    {
     "name": "stdout",
     "output_type": "stream",
     "text": [
      "\n",
      "      Epoch    GPU_mem   box_loss   seg_loss   cls_loss   dfl_loss  Instances       Size\n"
     ]
    },
    {
     "name": "stderr",
     "output_type": "stream",
     "text": [
      "     38/100         0G     0.6248     0.6104     0.8345     0.9286         30        640: 100%|██████████| 2/2 [00:10<00:00,  5.31s/it]\n",
      "                 Class     Images  Instances      Box(P          R      mAP50  mAP50-95)     Mask(P          R      mAP50  mAP50-95): 100%|██████████| 1/1 [00:01<00:00,  1.39s/it]"
     ]
    },
    {
     "name": "stdout",
     "output_type": "stream",
     "text": [
      "                   all          8          8          1      0.993      0.995      0.819          1      0.993      0.995      0.888\n"
     ]
    },
    {
     "name": "stderr",
     "output_type": "stream",
     "text": [
      "\n"
     ]
    },
    {
     "name": "stdout",
     "output_type": "stream",
     "text": [
      "\n",
      "      Epoch    GPU_mem   box_loss   seg_loss   cls_loss   dfl_loss  Instances       Size\n"
     ]
    },
    {
     "name": "stderr",
     "output_type": "stream",
     "text": [
      "     39/100         0G     0.6697     0.7625     0.9851      0.993         20        640: 100%|██████████| 2/2 [00:10<00:00,  5.24s/it]\n",
      "                 Class     Images  Instances      Box(P          R      mAP50  mAP50-95)     Mask(P          R      mAP50  mAP50-95): 100%|██████████| 1/1 [00:01<00:00,  1.37s/it]"
     ]
    },
    {
     "name": "stdout",
     "output_type": "stream",
     "text": [
      "                   all          8          8          1      0.996      0.995       0.83          1      0.996      0.995      0.861\n"
     ]
    },
    {
     "name": "stderr",
     "output_type": "stream",
     "text": [
      "\n"
     ]
    },
    {
     "name": "stdout",
     "output_type": "stream",
     "text": [
      "\n",
      "      Epoch    GPU_mem   box_loss   seg_loss   cls_loss   dfl_loss  Instances       Size\n"
     ]
    },
    {
     "name": "stderr",
     "output_type": "stream",
     "text": [
      "     40/100         0G      0.629     0.6639     0.8923     0.9381         26        640: 100%|██████████| 2/2 [00:10<00:00,  5.33s/it]\n",
      "                 Class     Images  Instances      Box(P          R      mAP50  mAP50-95)     Mask(P          R      mAP50  mAP50-95): 100%|██████████| 1/1 [00:01<00:00,  1.42s/it]"
     ]
    },
    {
     "name": "stdout",
     "output_type": "stream",
     "text": [
      "                   all          8          8          1      0.996      0.995       0.83          1      0.996      0.995      0.861\n"
     ]
    },
    {
     "name": "stderr",
     "output_type": "stream",
     "text": [
      "\n"
     ]
    },
    {
     "name": "stdout",
     "output_type": "stream",
     "text": [
      "\n",
      "      Epoch    GPU_mem   box_loss   seg_loss   cls_loss   dfl_loss  Instances       Size\n"
     ]
    },
    {
     "name": "stderr",
     "output_type": "stream",
     "text": [
      "     41/100         0G     0.5828     0.5297     0.8547     0.9334         30        640: 100%|██████████| 2/2 [00:10<00:00,  5.37s/it]\n",
      "                 Class     Images  Instances      Box(P          R      mAP50  mAP50-95)     Mask(P          R      mAP50  mAP50-95): 100%|██████████| 1/1 [00:01<00:00,  1.37s/it]"
     ]
    },
    {
     "name": "stdout",
     "output_type": "stream",
     "text": [
      "                   all          8          8      0.999          1      0.995      0.847      0.999          1      0.995       0.88\n"
     ]
    },
    {
     "name": "stderr",
     "output_type": "stream",
     "text": [
      "\n"
     ]
    },
    {
     "name": "stdout",
     "output_type": "stream",
     "text": [
      "\n",
      "      Epoch    GPU_mem   box_loss   seg_loss   cls_loss   dfl_loss  Instances       Size\n"
     ]
    },
    {
     "name": "stderr",
     "output_type": "stream",
     "text": [
      "     42/100         0G     0.6393     0.8291     0.9105     0.9715         31        640: 100%|██████████| 2/2 [00:10<00:00,  5.32s/it]\n",
      "                 Class     Images  Instances      Box(P          R      mAP50  mAP50-95)     Mask(P          R      mAP50  mAP50-95): 100%|██████████| 1/1 [00:01<00:00,  1.35s/it]"
     ]
    },
    {
     "name": "stdout",
     "output_type": "stream",
     "text": [
      "                   all          8          8      0.995          1      0.995      0.773      0.995          1      0.995      0.865\n"
     ]
    },
    {
     "name": "stderr",
     "output_type": "stream",
     "text": [
      "\n"
     ]
    },
    {
     "name": "stdout",
     "output_type": "stream",
     "text": [
      "\n",
      "      Epoch    GPU_mem   box_loss   seg_loss   cls_loss   dfl_loss  Instances       Size\n"
     ]
    },
    {
     "name": "stderr",
     "output_type": "stream",
     "text": [
      "     43/100         0G     0.6344      0.713     0.9802     0.9742         27        640: 100%|██████████| 2/2 [00:10<00:00,  5.23s/it]\n",
      "                 Class     Images  Instances      Box(P          R      mAP50  mAP50-95)     Mask(P          R      mAP50  mAP50-95): 100%|██████████| 1/1 [00:01<00:00,  1.36s/it]"
     ]
    },
    {
     "name": "stdout",
     "output_type": "stream",
     "text": [
      "                   all          8          8      0.995          1      0.995      0.773      0.995          1      0.995      0.865\n"
     ]
    },
    {
     "name": "stderr",
     "output_type": "stream",
     "text": [
      "\n"
     ]
    },
    {
     "name": "stdout",
     "output_type": "stream",
     "text": [
      "\n",
      "      Epoch    GPU_mem   box_loss   seg_loss   cls_loss   dfl_loss  Instances       Size\n"
     ]
    },
    {
     "name": "stderr",
     "output_type": "stream",
     "text": [
      "     44/100         0G     0.6385     0.6453     0.8913     0.9268         25        640: 100%|██████████| 2/2 [00:10<00:00,  5.29s/it]\n",
      "                 Class     Images  Instances      Box(P          R      mAP50  mAP50-95)     Mask(P          R      mAP50  mAP50-95): 100%|██████████| 1/1 [00:01<00:00,  1.36s/it]"
     ]
    },
    {
     "name": "stdout",
     "output_type": "stream",
     "text": [
      "                   all          8          8      0.995          1      0.995      0.848      0.995          1      0.995      0.927\n"
     ]
    },
    {
     "name": "stderr",
     "output_type": "stream",
     "text": [
      "\n"
     ]
    },
    {
     "name": "stdout",
     "output_type": "stream",
     "text": [
      "\n",
      "      Epoch    GPU_mem   box_loss   seg_loss   cls_loss   dfl_loss  Instances       Size\n"
     ]
    },
    {
     "name": "stderr",
     "output_type": "stream",
     "text": [
      "     45/100         0G     0.4613     0.5977      0.769     0.8706         32        640: 100%|██████████| 2/2 [00:10<00:00,  5.28s/it]\n",
      "                 Class     Images  Instances      Box(P          R      mAP50  mAP50-95)     Mask(P          R      mAP50  mAP50-95): 100%|██████████| 1/1 [00:01<00:00,  1.38s/it]"
     ]
    },
    {
     "name": "stdout",
     "output_type": "stream",
     "text": [
      "                   all          8          8      0.995          1      0.995      0.848      0.995          1      0.995      0.927\n"
     ]
    },
    {
     "name": "stderr",
     "output_type": "stream",
     "text": [
      "\n"
     ]
    },
    {
     "name": "stdout",
     "output_type": "stream",
     "text": [
      "\n",
      "      Epoch    GPU_mem   box_loss   seg_loss   cls_loss   dfl_loss  Instances       Size\n"
     ]
    },
    {
     "name": "stderr",
     "output_type": "stream",
     "text": [
      "     46/100         0G     0.5435     0.6394     0.8771     0.9193         23        640: 100%|██████████| 2/2 [00:10<00:00,  5.24s/it]\n",
      "                 Class     Images  Instances      Box(P          R      mAP50  mAP50-95)     Mask(P          R      mAP50  mAP50-95): 100%|██████████| 1/1 [00:01<00:00,  1.36s/it]"
     ]
    },
    {
     "name": "stdout",
     "output_type": "stream",
     "text": [
      "                   all          8          8      0.992          1      0.995      0.867      0.992          1      0.995      0.901\n"
     ]
    },
    {
     "name": "stderr",
     "output_type": "stream",
     "text": [
      "\n"
     ]
    },
    {
     "name": "stdout",
     "output_type": "stream",
     "text": [
      "\n",
      "      Epoch    GPU_mem   box_loss   seg_loss   cls_loss   dfl_loss  Instances       Size\n"
     ]
    },
    {
     "name": "stderr",
     "output_type": "stream",
     "text": [
      "     47/100         0G     0.4959      0.467     0.7683     0.9129         26        640: 100%|██████████| 2/2 [00:10<00:00,  5.22s/it]\n",
      "                 Class     Images  Instances      Box(P          R      mAP50  mAP50-95)     Mask(P          R      mAP50  mAP50-95): 100%|██████████| 1/1 [00:01<00:00,  1.39s/it]"
     ]
    },
    {
     "name": "stdout",
     "output_type": "stream",
     "text": [
      "                   all          8          8      0.992          1      0.995      0.867      0.992          1      0.995      0.901\n"
     ]
    },
    {
     "name": "stderr",
     "output_type": "stream",
     "text": [
      "\n"
     ]
    },
    {
     "name": "stdout",
     "output_type": "stream",
     "text": [
      "\n",
      "      Epoch    GPU_mem   box_loss   seg_loss   cls_loss   dfl_loss  Instances       Size\n"
     ]
    },
    {
     "name": "stderr",
     "output_type": "stream",
     "text": [
      "     48/100         0G     0.5462     0.7002     0.8395     0.9022         32        640: 100%|██████████| 2/2 [00:10<00:00,  5.28s/it]\n",
      "                 Class     Images  Instances      Box(P          R      mAP50  mAP50-95)     Mask(P          R      mAP50  mAP50-95): 100%|██████████| 1/1 [00:01<00:00,  1.36s/it]"
     ]
    },
    {
     "name": "stdout",
     "output_type": "stream",
     "text": [
      "                   all          8          8      0.991          1      0.995      0.887      0.991          1      0.995      0.946\n"
     ]
    },
    {
     "name": "stderr",
     "output_type": "stream",
     "text": [
      "\n"
     ]
    },
    {
     "name": "stdout",
     "output_type": "stream",
     "text": [
      "\n",
      "      Epoch    GPU_mem   box_loss   seg_loss   cls_loss   dfl_loss  Instances       Size\n"
     ]
    },
    {
     "name": "stderr",
     "output_type": "stream",
     "text": [
      "     49/100         0G     0.5992     0.6517      0.874     0.9124         31        640: 100%|██████████| 2/2 [00:10<00:00,  5.23s/it]\n",
      "                 Class     Images  Instances      Box(P          R      mAP50  mAP50-95)     Mask(P          R      mAP50  mAP50-95): 100%|██████████| 1/1 [00:01<00:00,  1.35s/it]"
     ]
    },
    {
     "name": "stdout",
     "output_type": "stream",
     "text": [
      "                   all          8          8      0.991          1      0.995      0.887      0.991          1      0.995      0.946\n"
     ]
    },
    {
     "name": "stderr",
     "output_type": "stream",
     "text": [
      "\n"
     ]
    },
    {
     "name": "stdout",
     "output_type": "stream",
     "text": [
      "\n",
      "      Epoch    GPU_mem   box_loss   seg_loss   cls_loss   dfl_loss  Instances       Size\n"
     ]
    },
    {
     "name": "stderr",
     "output_type": "stream",
     "text": [
      "     50/100         0G     0.4485     0.4681     0.7453      0.881         24        640: 100%|██████████| 2/2 [00:10<00:00,  5.31s/it]\n",
      "                 Class     Images  Instances      Box(P          R      mAP50  mAP50-95)     Mask(P          R      mAP50  mAP50-95): 100%|██████████| 1/1 [00:01<00:00,  1.39s/it]"
     ]
    },
    {
     "name": "stdout",
     "output_type": "stream",
     "text": [
      "                   all          8          8          1      0.985      0.995      0.894          1      0.985      0.995      0.922\n"
     ]
    },
    {
     "name": "stderr",
     "output_type": "stream",
     "text": [
      "\n"
     ]
    },
    {
     "name": "stdout",
     "output_type": "stream",
     "text": [
      "\n",
      "      Epoch    GPU_mem   box_loss   seg_loss   cls_loss   dfl_loss  Instances       Size\n"
     ]
    },
    {
     "name": "stderr",
     "output_type": "stream",
     "text": [
      "     51/100         0G     0.5301     0.6448      0.803     0.8797         29        640: 100%|██████████| 2/2 [00:10<00:00,  5.31s/it]\n",
      "                 Class     Images  Instances      Box(P          R      mAP50  mAP50-95)     Mask(P          R      mAP50  mAP50-95): 100%|██████████| 1/1 [00:01<00:00,  1.42s/it]"
     ]
    },
    {
     "name": "stdout",
     "output_type": "stream",
     "text": [
      "                   all          8          8          1      0.985      0.995      0.894          1      0.985      0.995      0.922\n"
     ]
    },
    {
     "name": "stderr",
     "output_type": "stream",
     "text": [
      "\n"
     ]
    },
    {
     "name": "stdout",
     "output_type": "stream",
     "text": [
      "\n",
      "      Epoch    GPU_mem   box_loss   seg_loss   cls_loss   dfl_loss  Instances       Size\n"
     ]
    },
    {
     "name": "stderr",
     "output_type": "stream",
     "text": [
      "     52/100         0G     0.5713     0.6161     0.8652     0.9633         27        640: 100%|██████████| 2/2 [00:10<00:00,  5.30s/it]\n",
      "                 Class     Images  Instances      Box(P          R      mAP50  mAP50-95)     Mask(P          R      mAP50  mAP50-95): 100%|██████████| 1/1 [00:01<00:00,  1.37s/it]"
     ]
    },
    {
     "name": "stdout",
     "output_type": "stream",
     "text": [
      "                   all          8          8      0.996          1      0.995      0.877      0.996          1      0.995       0.92\n"
     ]
    },
    {
     "name": "stderr",
     "output_type": "stream",
     "text": [
      "\n"
     ]
    },
    {
     "name": "stdout",
     "output_type": "stream",
     "text": [
      "\n",
      "      Epoch    GPU_mem   box_loss   seg_loss   cls_loss   dfl_loss  Instances       Size\n"
     ]
    },
    {
     "name": "stderr",
     "output_type": "stream",
     "text": [
      "     53/100         0G     0.4714     0.5095     0.7799     0.9214         21        640: 100%|██████████| 2/2 [00:10<00:00,  5.22s/it]\n",
      "                 Class     Images  Instances      Box(P          R      mAP50  mAP50-95)     Mask(P          R      mAP50  mAP50-95): 100%|██████████| 1/1 [00:01<00:00,  1.36s/it]"
     ]
    },
    {
     "name": "stdout",
     "output_type": "stream",
     "text": [
      "                   all          8          8      0.996          1      0.995      0.877      0.996          1      0.995       0.92\n"
     ]
    },
    {
     "name": "stderr",
     "output_type": "stream",
     "text": [
      "\n"
     ]
    },
    {
     "name": "stdout",
     "output_type": "stream",
     "text": [
      "\n",
      "      Epoch    GPU_mem   box_loss   seg_loss   cls_loss   dfl_loss  Instances       Size\n"
     ]
    },
    {
     "name": "stderr",
     "output_type": "stream",
     "text": [
      "     54/100         0G     0.5589     0.5941     0.7812     0.9069         32        640: 100%|██████████| 2/2 [00:10<00:00,  5.24s/it]\n",
      "                 Class     Images  Instances      Box(P          R      mAP50  mAP50-95)     Mask(P          R      mAP50  mAP50-95): 100%|██████████| 1/1 [00:01<00:00,  1.38s/it]"
     ]
    },
    {
     "name": "stdout",
     "output_type": "stream",
     "text": [
      "                   all          8          8      0.996          1      0.995      0.859      0.996          1      0.995      0.891\n"
     ]
    },
    {
     "name": "stderr",
     "output_type": "stream",
     "text": [
      "\n"
     ]
    },
    {
     "name": "stdout",
     "output_type": "stream",
     "text": [
      "\n",
      "      Epoch    GPU_mem   box_loss   seg_loss   cls_loss   dfl_loss  Instances       Size\n"
     ]
    },
    {
     "name": "stderr",
     "output_type": "stream",
     "text": [
      "     55/100         0G     0.4692     0.4976      0.754     0.8962         20        640: 100%|██████████| 2/2 [00:10<00:00,  5.23s/it]\n",
      "                 Class     Images  Instances      Box(P          R      mAP50  mAP50-95)     Mask(P          R      mAP50  mAP50-95): 100%|██████████| 1/1 [00:01<00:00,  1.36s/it]"
     ]
    },
    {
     "name": "stdout",
     "output_type": "stream",
     "text": [
      "                   all          8          8      0.996          1      0.995      0.859      0.996          1      0.995      0.891\n"
     ]
    },
    {
     "name": "stderr",
     "output_type": "stream",
     "text": [
      "\n"
     ]
    },
    {
     "name": "stdout",
     "output_type": "stream",
     "text": [
      "\n",
      "      Epoch    GPU_mem   box_loss   seg_loss   cls_loss   dfl_loss  Instances       Size\n"
     ]
    },
    {
     "name": "stderr",
     "output_type": "stream",
     "text": [
      "     56/100         0G     0.6349     0.6762     0.9251     0.9716         18        640: 100%|██████████| 2/2 [00:10<00:00,  5.26s/it]\n",
      "                 Class     Images  Instances      Box(P          R      mAP50  mAP50-95)     Mask(P          R      mAP50  mAP50-95): 100%|██████████| 1/1 [00:01<00:00,  1.35s/it]"
     ]
    },
    {
     "name": "stdout",
     "output_type": "stream",
     "text": [
      "                   all          8          8      0.996          1      0.995      0.837      0.996          1      0.995      0.869\n"
     ]
    },
    {
     "name": "stderr",
     "output_type": "stream",
     "text": [
      "\n"
     ]
    },
    {
     "name": "stdout",
     "output_type": "stream",
     "text": [
      "\n",
      "      Epoch    GPU_mem   box_loss   seg_loss   cls_loss   dfl_loss  Instances       Size\n"
     ]
    },
    {
     "name": "stderr",
     "output_type": "stream",
     "text": [
      "     57/100         0G     0.5367     0.5255     0.7694     0.9046         22        640: 100%|██████████| 2/2 [00:10<00:00,  5.25s/it]\n",
      "                 Class     Images  Instances      Box(P          R      mAP50  mAP50-95)     Mask(P          R      mAP50  mAP50-95): 100%|██████████| 1/1 [00:01<00:00,  1.32s/it]"
     ]
    },
    {
     "name": "stdout",
     "output_type": "stream",
     "text": [
      "                   all          8          8      0.996          1      0.995      0.837      0.996          1      0.995      0.869\n"
     ]
    },
    {
     "name": "stderr",
     "output_type": "stream",
     "text": [
      "\n"
     ]
    },
    {
     "name": "stdout",
     "output_type": "stream",
     "text": [
      "\n",
      "      Epoch    GPU_mem   box_loss   seg_loss   cls_loss   dfl_loss  Instances       Size\n"
     ]
    },
    {
     "name": "stderr",
     "output_type": "stream",
     "text": [
      "     58/100         0G     0.5046     0.4825     0.7743      0.894         20        640: 100%|██████████| 2/2 [00:10<00:00,  5.24s/it]\n",
      "                 Class     Images  Instances      Box(P          R      mAP50  mAP50-95)     Mask(P          R      mAP50  mAP50-95): 100%|██████████| 1/1 [00:01<00:00,  1.35s/it]"
     ]
    },
    {
     "name": "stdout",
     "output_type": "stream",
     "text": [
      "                   all          8          8      0.995          1      0.995      0.852      0.995          1      0.995      0.899\n"
     ]
    },
    {
     "name": "stderr",
     "output_type": "stream",
     "text": [
      "\n"
     ]
    },
    {
     "name": "stdout",
     "output_type": "stream",
     "text": [
      "\n",
      "      Epoch    GPU_mem   box_loss   seg_loss   cls_loss   dfl_loss  Instances       Size\n"
     ]
    },
    {
     "name": "stderr",
     "output_type": "stream",
     "text": [
      "     59/100         0G     0.5571     0.5954     0.7639      0.878         33        640: 100%|██████████| 2/2 [00:10<00:00,  5.27s/it]\n",
      "                 Class     Images  Instances      Box(P          R      mAP50  mAP50-95)     Mask(P          R      mAP50  mAP50-95): 100%|██████████| 1/1 [00:01<00:00,  1.35s/it]"
     ]
    },
    {
     "name": "stdout",
     "output_type": "stream",
     "text": [
      "                   all          8          8      0.995          1      0.995      0.852      0.995          1      0.995      0.899\n"
     ]
    },
    {
     "name": "stderr",
     "output_type": "stream",
     "text": [
      "\n"
     ]
    },
    {
     "name": "stdout",
     "output_type": "stream",
     "text": [
      "\n",
      "      Epoch    GPU_mem   box_loss   seg_loss   cls_loss   dfl_loss  Instances       Size\n"
     ]
    },
    {
     "name": "stderr",
     "output_type": "stream",
     "text": [
      "     60/100         0G     0.5146     0.5206     0.7805     0.9105         22        640: 100%|██████████| 2/2 [00:10<00:00,  5.27s/it]\n",
      "                 Class     Images  Instances      Box(P          R      mAP50  mAP50-95)     Mask(P          R      mAP50  mAP50-95): 100%|██████████| 1/1 [00:01<00:00,  1.33s/it]"
     ]
    },
    {
     "name": "stdout",
     "output_type": "stream",
     "text": [
      "                   all          8          8      0.995          1      0.995      0.857      0.995          1      0.995      0.887\n"
     ]
    },
    {
     "name": "stderr",
     "output_type": "stream",
     "text": [
      "\n"
     ]
    },
    {
     "name": "stdout",
     "output_type": "stream",
     "text": [
      "\n",
      "      Epoch    GPU_mem   box_loss   seg_loss   cls_loss   dfl_loss  Instances       Size\n"
     ]
    },
    {
     "name": "stderr",
     "output_type": "stream",
     "text": [
      "     61/100         0G     0.4214     0.4908     0.6726     0.8413         28        640: 100%|██████████| 2/2 [00:10<00:00,  5.27s/it]\n",
      "                 Class     Images  Instances      Box(P          R      mAP50  mAP50-95)     Mask(P          R      mAP50  mAP50-95): 100%|██████████| 1/1 [00:01<00:00,  1.36s/it]"
     ]
    },
    {
     "name": "stdout",
     "output_type": "stream",
     "text": [
      "                   all          8          8      0.995          1      0.995      0.857      0.995          1      0.995      0.887\n"
     ]
    },
    {
     "name": "stderr",
     "output_type": "stream",
     "text": [
      "\n"
     ]
    },
    {
     "name": "stdout",
     "output_type": "stream",
     "text": [
      "\n",
      "      Epoch    GPU_mem   box_loss   seg_loss   cls_loss   dfl_loss  Instances       Size\n"
     ]
    },
    {
     "name": "stderr",
     "output_type": "stream",
     "text": [
      "     62/100         0G     0.3957     0.4143     0.6615     0.8565         25        640: 100%|██████████| 2/2 [00:10<00:00,  5.28s/it]\n",
      "                 Class     Images  Instances      Box(P          R      mAP50  mAP50-95)     Mask(P          R      mAP50  mAP50-95): 100%|██████████| 1/1 [00:01<00:00,  1.33s/it]"
     ]
    },
    {
     "name": "stdout",
     "output_type": "stream",
     "text": [
      "                   all          8          8      0.994          1      0.995      0.869      0.994          1      0.995      0.876\n"
     ]
    },
    {
     "name": "stderr",
     "output_type": "stream",
     "text": [
      "\n"
     ]
    },
    {
     "name": "stdout",
     "output_type": "stream",
     "text": [
      "\n",
      "      Epoch    GPU_mem   box_loss   seg_loss   cls_loss   dfl_loss  Instances       Size\n"
     ]
    },
    {
     "name": "stderr",
     "output_type": "stream",
     "text": [
      "     63/100         0G     0.5144     0.6434     0.7674      0.935         23        640: 100%|██████████| 2/2 [00:10<00:00,  5.23s/it]\n",
      "                 Class     Images  Instances      Box(P          R      mAP50  mAP50-95)     Mask(P          R      mAP50  mAP50-95): 100%|██████████| 1/1 [00:01<00:00,  1.35s/it]"
     ]
    },
    {
     "name": "stdout",
     "output_type": "stream",
     "text": [
      "                   all          8          8      0.994          1      0.995      0.869      0.994          1      0.995      0.876\n"
     ]
    },
    {
     "name": "stderr",
     "output_type": "stream",
     "text": [
      "\n"
     ]
    },
    {
     "name": "stdout",
     "output_type": "stream",
     "text": [
      "\n",
      "      Epoch    GPU_mem   box_loss   seg_loss   cls_loss   dfl_loss  Instances       Size\n"
     ]
    },
    {
     "name": "stderr",
     "output_type": "stream",
     "text": [
      "     64/100         0G      0.485      0.541     0.6873     0.8954         33        640: 100%|██████████| 2/2 [00:10<00:00,  5.31s/it]\n",
      "                 Class     Images  Instances      Box(P          R      mAP50  mAP50-95)     Mask(P          R      mAP50  mAP50-95): 100%|██████████| 1/1 [00:01<00:00,  1.33s/it]"
     ]
    },
    {
     "name": "stdout",
     "output_type": "stream",
     "text": [
      "                   all          8          8      0.994          1      0.995      0.852      0.994          1      0.995      0.876\n"
     ]
    },
    {
     "name": "stderr",
     "output_type": "stream",
     "text": [
      "\n"
     ]
    },
    {
     "name": "stdout",
     "output_type": "stream",
     "text": [
      "\n",
      "      Epoch    GPU_mem   box_loss   seg_loss   cls_loss   dfl_loss  Instances       Size\n"
     ]
    },
    {
     "name": "stderr",
     "output_type": "stream",
     "text": [
      "     65/100         0G     0.4674     0.7623     0.8089     0.8651         17        640: 100%|██████████| 2/2 [00:10<00:00,  5.22s/it]\n",
      "                 Class     Images  Instances      Box(P          R      mAP50  mAP50-95)     Mask(P          R      mAP50  mAP50-95): 100%|██████████| 1/1 [00:01<00:00,  1.37s/it]"
     ]
    },
    {
     "name": "stdout",
     "output_type": "stream",
     "text": [
      "                   all          8          8      0.994          1      0.995      0.852      0.994          1      0.995      0.876\n"
     ]
    },
    {
     "name": "stderr",
     "output_type": "stream",
     "text": [
      "\n"
     ]
    },
    {
     "name": "stdout",
     "output_type": "stream",
     "text": [
      "\n",
      "      Epoch    GPU_mem   box_loss   seg_loss   cls_loss   dfl_loss  Instances       Size\n"
     ]
    },
    {
     "name": "stderr",
     "output_type": "stream",
     "text": [
      "     66/100         0G     0.5121     0.6077     0.7547     0.8946         31        640: 100%|██████████| 2/2 [00:10<00:00,  5.37s/it]\n",
      "                 Class     Images  Instances      Box(P          R      mAP50  mAP50-95)     Mask(P          R      mAP50  mAP50-95): 100%|██████████| 1/1 [00:01<00:00,  1.33s/it]"
     ]
    },
    {
     "name": "stdout",
     "output_type": "stream",
     "text": [
      "                   all          8          8      0.994          1      0.995      0.836      0.994          1      0.995      0.878\n"
     ]
    },
    {
     "name": "stderr",
     "output_type": "stream",
     "text": [
      "\n"
     ]
    },
    {
     "name": "stdout",
     "output_type": "stream",
     "text": [
      "\n",
      "      Epoch    GPU_mem   box_loss   seg_loss   cls_loss   dfl_loss  Instances       Size\n"
     ]
    },
    {
     "name": "stderr",
     "output_type": "stream",
     "text": [
      "     67/100         0G     0.5549     0.4957     0.7592     0.9273         24        640: 100%|██████████| 2/2 [00:10<00:00,  5.23s/it]\n",
      "                 Class     Images  Instances      Box(P          R      mAP50  mAP50-95)     Mask(P          R      mAP50  mAP50-95): 100%|██████████| 1/1 [00:01<00:00,  1.36s/it]"
     ]
    },
    {
     "name": "stdout",
     "output_type": "stream",
     "text": [
      "                   all          8          8      0.994          1      0.995      0.836      0.994          1      0.995      0.878\n"
     ]
    },
    {
     "name": "stderr",
     "output_type": "stream",
     "text": [
      "\n"
     ]
    },
    {
     "name": "stdout",
     "output_type": "stream",
     "text": [
      "\n",
      "      Epoch    GPU_mem   box_loss   seg_loss   cls_loss   dfl_loss  Instances       Size\n"
     ]
    },
    {
     "name": "stderr",
     "output_type": "stream",
     "text": [
      "     68/100         0G     0.4398     0.4161     0.6266     0.8633         26        640: 100%|██████████| 2/2 [00:10<00:00,  5.29s/it]\n",
      "                 Class     Images  Instances      Box(P          R      mAP50  mAP50-95)     Mask(P          R      mAP50  mAP50-95): 100%|██████████| 1/1 [00:01<00:00,  1.35s/it]"
     ]
    },
    {
     "name": "stdout",
     "output_type": "stream",
     "text": [
      "                   all          8          8      0.993          1      0.995      0.863      0.993          1      0.995      0.891\n"
     ]
    },
    {
     "name": "stderr",
     "output_type": "stream",
     "text": [
      "\n"
     ]
    },
    {
     "name": "stdout",
     "output_type": "stream",
     "text": [
      "\n",
      "      Epoch    GPU_mem   box_loss   seg_loss   cls_loss   dfl_loss  Instances       Size\n"
     ]
    },
    {
     "name": "stderr",
     "output_type": "stream",
     "text": [
      "     69/100         0G     0.4684     0.4669     0.6809     0.8903         28        640: 100%|██████████| 2/2 [00:10<00:00,  5.23s/it]\n",
      "                 Class     Images  Instances      Box(P          R      mAP50  mAP50-95)     Mask(P          R      mAP50  mAP50-95): 100%|██████████| 1/1 [00:01<00:00,  1.38s/it]"
     ]
    },
    {
     "name": "stdout",
     "output_type": "stream",
     "text": [
      "                   all          8          8      0.993          1      0.995      0.863      0.993          1      0.995      0.891\n"
     ]
    },
    {
     "name": "stderr",
     "output_type": "stream",
     "text": [
      "\n"
     ]
    },
    {
     "name": "stdout",
     "output_type": "stream",
     "text": [
      "\n",
      "      Epoch    GPU_mem   box_loss   seg_loss   cls_loss   dfl_loss  Instances       Size\n"
     ]
    },
    {
     "name": "stderr",
     "output_type": "stream",
     "text": [
      "     70/100         0G     0.4491     0.4097     0.6327     0.8759         29        640: 100%|██████████| 2/2 [00:10<00:00,  5.30s/it]\n",
      "                 Class     Images  Instances      Box(P          R      mAP50  mAP50-95)     Mask(P          R      mAP50  mAP50-95): 100%|██████████| 1/1 [00:01<00:00,  1.35s/it]"
     ]
    },
    {
     "name": "stdout",
     "output_type": "stream",
     "text": [
      "                   all          8          8      0.994          1      0.995       0.89      0.994          1      0.995      0.889\n"
     ]
    },
    {
     "name": "stderr",
     "output_type": "stream",
     "text": [
      "\n"
     ]
    },
    {
     "name": "stdout",
     "output_type": "stream",
     "text": [
      "\n",
      "      Epoch    GPU_mem   box_loss   seg_loss   cls_loss   dfl_loss  Instances       Size\n"
     ]
    },
    {
     "name": "stderr",
     "output_type": "stream",
     "text": [
      "     71/100         0G     0.4636     0.5221     0.6631     0.9098         23        640: 100%|██████████| 2/2 [00:10<00:00,  5.33s/it]\n",
      "                 Class     Images  Instances      Box(P          R      mAP50  mAP50-95)     Mask(P          R      mAP50  mAP50-95): 100%|██████████| 1/1 [00:01<00:00,  1.34s/it]"
     ]
    },
    {
     "name": "stdout",
     "output_type": "stream",
     "text": [
      "                   all          8          8      0.994          1      0.995       0.89      0.994          1      0.995      0.889\n"
     ]
    },
    {
     "name": "stderr",
     "output_type": "stream",
     "text": [
      "\n"
     ]
    },
    {
     "name": "stdout",
     "output_type": "stream",
     "text": [
      "\n",
      "      Epoch    GPU_mem   box_loss   seg_loss   cls_loss   dfl_loss  Instances       Size\n"
     ]
    },
    {
     "name": "stderr",
     "output_type": "stream",
     "text": [
      "     72/100         0G     0.4256     0.5934     0.7046     0.9066         30        640: 100%|██████████| 2/2 [00:10<00:00,  5.28s/it]\n",
      "                 Class     Images  Instances      Box(P          R      mAP50  mAP50-95)     Mask(P          R      mAP50  mAP50-95): 100%|██████████| 1/1 [00:01<00:00,  1.36s/it]"
     ]
    },
    {
     "name": "stdout",
     "output_type": "stream",
     "text": [
      "                   all          8          8      0.994          1      0.995      0.878      0.994          1      0.995      0.911\n"
     ]
    },
    {
     "name": "stderr",
     "output_type": "stream",
     "text": [
      "\n"
     ]
    },
    {
     "name": "stdout",
     "output_type": "stream",
     "text": [
      "\n",
      "      Epoch    GPU_mem   box_loss   seg_loss   cls_loss   dfl_loss  Instances       Size\n"
     ]
    },
    {
     "name": "stderr",
     "output_type": "stream",
     "text": [
      "     73/100         0G     0.4172     0.4485     0.6179     0.8746         24        640: 100%|██████████| 2/2 [00:10<00:00,  5.41s/it]\n",
      "                 Class     Images  Instances      Box(P          R      mAP50  mAP50-95)     Mask(P          R      mAP50  mAP50-95): 100%|██████████| 1/1 [00:01<00:00,  1.44s/it]"
     ]
    },
    {
     "name": "stdout",
     "output_type": "stream",
     "text": [
      "                   all          8          8      0.994          1      0.995      0.878      0.994          1      0.995      0.911\n"
     ]
    },
    {
     "name": "stderr",
     "output_type": "stream",
     "text": [
      "\n"
     ]
    },
    {
     "name": "stdout",
     "output_type": "stream",
     "text": [
      "\n",
      "      Epoch    GPU_mem   box_loss   seg_loss   cls_loss   dfl_loss  Instances       Size\n"
     ]
    },
    {
     "name": "stderr",
     "output_type": "stream",
     "text": [
      "     74/100         0G     0.4198      0.505     0.5914     0.8851         33        640: 100%|██████████| 2/2 [00:11<00:00,  5.56s/it]\n",
      "                 Class     Images  Instances      Box(P          R      mAP50  mAP50-95)     Mask(P          R      mAP50  mAP50-95): 100%|██████████| 1/1 [00:01<00:00,  1.36s/it]"
     ]
    },
    {
     "name": "stdout",
     "output_type": "stream",
     "text": [
      "                   all          8          8      0.994          1      0.995       0.87      0.994          1      0.995      0.911\n"
     ]
    },
    {
     "name": "stderr",
     "output_type": "stream",
     "text": [
      "\n"
     ]
    },
    {
     "name": "stdout",
     "output_type": "stream",
     "text": [
      "\n",
      "      Epoch    GPU_mem   box_loss   seg_loss   cls_loss   dfl_loss  Instances       Size\n"
     ]
    },
    {
     "name": "stderr",
     "output_type": "stream",
     "text": [
      "     75/100         0G     0.4732     0.5492     0.6953     0.8645         22        640: 100%|██████████| 2/2 [00:10<00:00,  5.41s/it]\n",
      "                 Class     Images  Instances      Box(P          R      mAP50  mAP50-95)     Mask(P          R      mAP50  mAP50-95): 100%|██████████| 1/1 [00:01<00:00,  1.37s/it]"
     ]
    },
    {
     "name": "stdout",
     "output_type": "stream",
     "text": [
      "                   all          8          8      0.994          1      0.995       0.87      0.994          1      0.995      0.911\n"
     ]
    },
    {
     "name": "stderr",
     "output_type": "stream",
     "text": [
      "\n"
     ]
    },
    {
     "name": "stdout",
     "output_type": "stream",
     "text": [
      "\n",
      "      Epoch    GPU_mem   box_loss   seg_loss   cls_loss   dfl_loss  Instances       Size\n"
     ]
    },
    {
     "name": "stderr",
     "output_type": "stream",
     "text": [
      "     76/100         0G     0.4552     0.4672      0.664     0.9195         31        640: 100%|██████████| 2/2 [00:10<00:00,  5.46s/it]\n",
      "                 Class     Images  Instances      Box(P          R      mAP50  mAP50-95)     Mask(P          R      mAP50  mAP50-95): 100%|██████████| 1/1 [00:01<00:00,  1.67s/it]"
     ]
    },
    {
     "name": "stdout",
     "output_type": "stream",
     "text": [
      "                   all          8          8      0.994          1      0.995      0.882      0.994          1      0.995      0.911\n"
     ]
    },
    {
     "name": "stderr",
     "output_type": "stream",
     "text": [
      "\n"
     ]
    },
    {
     "name": "stdout",
     "output_type": "stream",
     "text": [
      "\n",
      "      Epoch    GPU_mem   box_loss   seg_loss   cls_loss   dfl_loss  Instances       Size\n"
     ]
    },
    {
     "name": "stderr",
     "output_type": "stream",
     "text": [
      "     77/100         0G     0.3634     0.4249     0.6249     0.8384         23        640: 100%|██████████| 2/2 [00:11<00:00,  5.80s/it]\n",
      "                 Class     Images  Instances      Box(P          R      mAP50  mAP50-95)     Mask(P          R      mAP50  mAP50-95): 100%|██████████| 1/1 [00:01<00:00,  1.44s/it]"
     ]
    },
    {
     "name": "stdout",
     "output_type": "stream",
     "text": [
      "                   all          8          8      0.994          1      0.995      0.882      0.994          1      0.995      0.911\n"
     ]
    },
    {
     "name": "stderr",
     "output_type": "stream",
     "text": [
      "\n"
     ]
    },
    {
     "name": "stdout",
     "output_type": "stream",
     "text": [
      "\n",
      "      Epoch    GPU_mem   box_loss   seg_loss   cls_loss   dfl_loss  Instances       Size\n"
     ]
    },
    {
     "name": "stderr",
     "output_type": "stream",
     "text": [
      "     78/100         0G     0.4019     0.5012     0.6951     0.8697         25        640: 100%|██████████| 2/2 [00:11<00:00,  5.61s/it]\n",
      "                 Class     Images  Instances      Box(P          R      mAP50  mAP50-95)     Mask(P          R      mAP50  mAP50-95): 100%|██████████| 1/1 [00:01<00:00,  1.38s/it]"
     ]
    },
    {
     "name": "stdout",
     "output_type": "stream",
     "text": [
      "                   all          8          8      0.994          1      0.995      0.888      0.994          1      0.995       0.91\n"
     ]
    },
    {
     "name": "stderr",
     "output_type": "stream",
     "text": [
      "\n"
     ]
    },
    {
     "name": "stdout",
     "output_type": "stream",
     "text": [
      "\n",
      "      Epoch    GPU_mem   box_loss   seg_loss   cls_loss   dfl_loss  Instances       Size\n"
     ]
    },
    {
     "name": "stderr",
     "output_type": "stream",
     "text": [
      "     79/100         0G     0.4726     0.6957     0.6522     0.8793         26        640: 100%|██████████| 2/2 [00:11<00:00,  5.55s/it]\n",
      "                 Class     Images  Instances      Box(P          R      mAP50  mAP50-95)     Mask(P          R      mAP50  mAP50-95): 100%|██████████| 1/1 [00:01<00:00,  1.40s/it]"
     ]
    },
    {
     "name": "stdout",
     "output_type": "stream",
     "text": [
      "                   all          8          8      0.994          1      0.995      0.888      0.994          1      0.995       0.91\n"
     ]
    },
    {
     "name": "stderr",
     "output_type": "stream",
     "text": [
      "\n"
     ]
    },
    {
     "name": "stdout",
     "output_type": "stream",
     "text": [
      "\n",
      "      Epoch    GPU_mem   box_loss   seg_loss   cls_loss   dfl_loss  Instances       Size\n"
     ]
    },
    {
     "name": "stderr",
     "output_type": "stream",
     "text": [
      "     80/100         0G       0.41     0.5068     0.6091     0.8691         23        640: 100%|██████████| 2/2 [00:10<00:00,  5.47s/it]\n",
      "                 Class     Images  Instances      Box(P          R      mAP50  mAP50-95)     Mask(P          R      mAP50  mAP50-95): 100%|██████████| 1/1 [00:01<00:00,  1.40s/it]"
     ]
    },
    {
     "name": "stdout",
     "output_type": "stream",
     "text": [
      "                   all          8          8      0.994          1      0.995      0.877      0.994          1      0.995       0.91\n"
     ]
    },
    {
     "name": "stderr",
     "output_type": "stream",
     "text": [
      "\n"
     ]
    },
    {
     "name": "stdout",
     "output_type": "stream",
     "text": [
      "\n",
      "      Epoch    GPU_mem   box_loss   seg_loss   cls_loss   dfl_loss  Instances       Size\n"
     ]
    },
    {
     "name": "stderr",
     "output_type": "stream",
     "text": [
      "     81/100         0G     0.4413      0.575     0.7238     0.9026         20        640: 100%|██████████| 2/2 [00:11<00:00,  5.52s/it]\n",
      "                 Class     Images  Instances      Box(P          R      mAP50  mAP50-95)     Mask(P          R      mAP50  mAP50-95): 100%|██████████| 1/1 [00:01<00:00,  1.39s/it]"
     ]
    },
    {
     "name": "stdout",
     "output_type": "stream",
     "text": [
      "                   all          8          8      0.994          1      0.995      0.877      0.994          1      0.995       0.91\n"
     ]
    },
    {
     "name": "stderr",
     "output_type": "stream",
     "text": [
      "\n"
     ]
    },
    {
     "name": "stdout",
     "output_type": "stream",
     "text": [
      "\n",
      "      Epoch    GPU_mem   box_loss   seg_loss   cls_loss   dfl_loss  Instances       Size\n"
     ]
    },
    {
     "name": "stderr",
     "output_type": "stream",
     "text": [
      "     82/100         0G     0.4834     0.5783     0.6198     0.8807         36        640: 100%|██████████| 2/2 [00:10<00:00,  5.47s/it]\n",
      "                 Class     Images  Instances      Box(P          R      mAP50  mAP50-95)     Mask(P          R      mAP50  mAP50-95): 100%|██████████| 1/1 [00:01<00:00,  1.43s/it]"
     ]
    },
    {
     "name": "stdout",
     "output_type": "stream",
     "text": [
      "                   all          8          8      0.994          1      0.995      0.907      0.994          1      0.995      0.907\n"
     ]
    },
    {
     "name": "stderr",
     "output_type": "stream",
     "text": [
      "\n"
     ]
    },
    {
     "name": "stdout",
     "output_type": "stream",
     "text": [
      "\n",
      "      Epoch    GPU_mem   box_loss   seg_loss   cls_loss   dfl_loss  Instances       Size\n"
     ]
    },
    {
     "name": "stderr",
     "output_type": "stream",
     "text": [
      "     83/100         0G      0.371     0.4249     0.5602     0.8552         28        640: 100%|██████████| 2/2 [00:10<00:00,  5.41s/it]\n",
      "                 Class     Images  Instances      Box(P          R      mAP50  mAP50-95)     Mask(P          R      mAP50  mAP50-95): 100%|██████████| 1/1 [00:01<00:00,  1.37s/it]"
     ]
    },
    {
     "name": "stdout",
     "output_type": "stream",
     "text": [
      "                   all          8          8      0.994          1      0.995      0.907      0.994          1      0.995      0.907\n"
     ]
    },
    {
     "name": "stderr",
     "output_type": "stream",
     "text": [
      "\n"
     ]
    },
    {
     "name": "stdout",
     "output_type": "stream",
     "text": [
      "\n",
      "      Epoch    GPU_mem   box_loss   seg_loss   cls_loss   dfl_loss  Instances       Size\n"
     ]
    },
    {
     "name": "stderr",
     "output_type": "stream",
     "text": [
      "     84/100         0G     0.3872     0.4827     0.5713     0.8682         27        640: 100%|██████████| 2/2 [00:10<00:00,  5.48s/it]\n",
      "                 Class     Images  Instances      Box(P          R      mAP50  mAP50-95)     Mask(P          R      mAP50  mAP50-95): 100%|██████████| 1/1 [00:01<00:00,  1.38s/it]"
     ]
    },
    {
     "name": "stdout",
     "output_type": "stream",
     "text": [
      "                   all          8          8      0.994          1      0.995      0.911      0.994          1      0.995      0.911\n"
     ]
    },
    {
     "name": "stderr",
     "output_type": "stream",
     "text": [
      "\n"
     ]
    },
    {
     "name": "stdout",
     "output_type": "stream",
     "text": [
      "\n",
      "      Epoch    GPU_mem   box_loss   seg_loss   cls_loss   dfl_loss  Instances       Size\n"
     ]
    },
    {
     "name": "stderr",
     "output_type": "stream",
     "text": [
      "     85/100         0G     0.3444     0.3097     0.5698     0.8405         22        640: 100%|██████████| 2/2 [00:10<00:00,  5.37s/it]\n",
      "                 Class     Images  Instances      Box(P          R      mAP50  mAP50-95)     Mask(P          R      mAP50  mAP50-95): 100%|██████████| 1/1 [00:01<00:00,  1.39s/it]"
     ]
    },
    {
     "name": "stdout",
     "output_type": "stream",
     "text": [
      "                   all          8          8      0.994          1      0.995      0.911      0.994          1      0.995      0.911\n"
     ]
    },
    {
     "name": "stderr",
     "output_type": "stream",
     "text": [
      "\n"
     ]
    },
    {
     "name": "stdout",
     "output_type": "stream",
     "text": [
      "\n",
      "      Epoch    GPU_mem   box_loss   seg_loss   cls_loss   dfl_loss  Instances       Size\n"
     ]
    },
    {
     "name": "stderr",
     "output_type": "stream",
     "text": [
      "     86/100         0G      0.375     0.4455     0.5495     0.8539         35        640: 100%|██████████| 2/2 [00:10<00:00,  5.46s/it]\n",
      "                 Class     Images  Instances      Box(P          R      mAP50  mAP50-95)     Mask(P          R      mAP50  mAP50-95): 100%|██████████| 1/1 [00:01<00:00,  1.42s/it]"
     ]
    },
    {
     "name": "stdout",
     "output_type": "stream",
     "text": [
      "                   all          8          8      0.994          1      0.995      0.895      0.994          1      0.995      0.911\n"
     ]
    },
    {
     "name": "stderr",
     "output_type": "stream",
     "text": [
      "\n"
     ]
    },
    {
     "name": "stdout",
     "output_type": "stream",
     "text": [
      "\n",
      "      Epoch    GPU_mem   box_loss   seg_loss   cls_loss   dfl_loss  Instances       Size\n"
     ]
    },
    {
     "name": "stderr",
     "output_type": "stream",
     "text": [
      "     87/100         0G     0.4364     0.4825     0.5803     0.8623         30        640: 100%|██████████| 2/2 [00:10<00:00,  5.40s/it]\n",
      "                 Class     Images  Instances      Box(P          R      mAP50  mAP50-95)     Mask(P          R      mAP50  mAP50-95): 100%|██████████| 1/1 [00:01<00:00,  1.39s/it]"
     ]
    },
    {
     "name": "stdout",
     "output_type": "stream",
     "text": [
      "                   all          8          8      0.994          1      0.995      0.895      0.994          1      0.995      0.911\n"
     ]
    },
    {
     "name": "stderr",
     "output_type": "stream",
     "text": [
      "\n"
     ]
    },
    {
     "name": "stdout",
     "output_type": "stream",
     "text": [
      "\n",
      "      Epoch    GPU_mem   box_loss   seg_loss   cls_loss   dfl_loss  Instances       Size\n"
     ]
    },
    {
     "name": "stderr",
     "output_type": "stream",
     "text": [
      "     88/100         0G      0.386     0.4309     0.5587     0.8383         27        640: 100%|██████████| 2/2 [00:10<00:00,  5.45s/it]\n",
      "                 Class     Images  Instances      Box(P          R      mAP50  mAP50-95)     Mask(P          R      mAP50  mAP50-95): 100%|██████████| 1/1 [00:01<00:00,  1.39s/it]"
     ]
    },
    {
     "name": "stdout",
     "output_type": "stream",
     "text": [
      "                   all          8          8      0.994          1      0.995      0.908      0.994          1      0.995      0.911\n"
     ]
    },
    {
     "name": "stderr",
     "output_type": "stream",
     "text": [
      "\n"
     ]
    },
    {
     "name": "stdout",
     "output_type": "stream",
     "text": [
      "\n",
      "      Epoch    GPU_mem   box_loss   seg_loss   cls_loss   dfl_loss  Instances       Size\n"
     ]
    },
    {
     "name": "stderr",
     "output_type": "stream",
     "text": [
      "     89/100         0G     0.3701     0.3877     0.5696     0.8781         23        640: 100%|██████████| 2/2 [00:10<00:00,  5.42s/it]\n",
      "                 Class     Images  Instances      Box(P          R      mAP50  mAP50-95)     Mask(P          R      mAP50  mAP50-95): 100%|██████████| 1/1 [00:01<00:00,  1.46s/it]"
     ]
    },
    {
     "name": "stdout",
     "output_type": "stream",
     "text": [
      "                   all          8          8      0.994          1      0.995      0.908      0.994          1      0.995      0.911\n"
     ]
    },
    {
     "name": "stderr",
     "output_type": "stream",
     "text": [
      "\n"
     ]
    },
    {
     "name": "stdout",
     "output_type": "stream",
     "text": [
      "\n",
      "      Epoch    GPU_mem   box_loss   seg_loss   cls_loss   dfl_loss  Instances       Size\n"
     ]
    },
    {
     "name": "stderr",
     "output_type": "stream",
     "text": [
      "     90/100         0G     0.3594     0.4259     0.5537     0.8342         24        640: 100%|██████████| 2/2 [00:11<00:00,  5.52s/it]\n",
      "                 Class     Images  Instances      Box(P          R      mAP50  mAP50-95)     Mask(P          R      mAP50  mAP50-95): 100%|██████████| 1/1 [00:01<00:00,  1.38s/it]"
     ]
    },
    {
     "name": "stdout",
     "output_type": "stream",
     "text": [
      "                   all          8          8      0.994          1      0.995       0.91      0.994          1      0.995      0.923\n"
     ]
    },
    {
     "name": "stderr",
     "output_type": "stream",
     "text": [
      "\n"
     ]
    },
    {
     "name": "stdout",
     "output_type": "stream",
     "text": [
      "Closing dataloader mosaic\n",
      "\n",
      "      Epoch    GPU_mem   box_loss   seg_loss   cls_loss   dfl_loss  Instances       Size\n"
     ]
    },
    {
     "name": "stderr",
     "output_type": "stream",
     "text": [
      "d:\\AAA\\Nowy folder\\pupiltracking\\.venv\\Lib\\site-packages\\torch\\utils\\data\\dataloader.py:666: UserWarning: 'pin_memory' argument is set as true but no accelerator is found, then device pinned memory won't be used.\n",
      "  warnings.warn(warn_msg)\n",
      "     91/100         0G     0.2963     0.3867     0.7255      0.827         13        640: 100%|██████████| 2/2 [00:10<00:00,  5.35s/it]\n",
      "                 Class     Images  Instances      Box(P          R      mAP50  mAP50-95)     Mask(P          R      mAP50  mAP50-95): 100%|██████████| 1/1 [00:01<00:00,  1.50s/it]"
     ]
    },
    {
     "name": "stdout",
     "output_type": "stream",
     "text": [
      "                   all          8          8      0.994          1      0.995       0.91      0.994          1      0.995      0.923\n"
     ]
    },
    {
     "name": "stderr",
     "output_type": "stream",
     "text": [
      "\n"
     ]
    },
    {
     "name": "stdout",
     "output_type": "stream",
     "text": [
      "\n",
      "      Epoch    GPU_mem   box_loss   seg_loss   cls_loss   dfl_loss  Instances       Size\n"
     ]
    },
    {
     "name": "stderr",
     "output_type": "stream",
     "text": [
      "     92/100         0G     0.3252     0.3987     0.7083      0.843         13        640: 100%|██████████| 2/2 [00:10<00:00,  5.42s/it]\n",
      "                 Class     Images  Instances      Box(P          R      mAP50  mAP50-95)     Mask(P          R      mAP50  mAP50-95): 100%|██████████| 1/1 [00:01<00:00,  1.39s/it]"
     ]
    },
    {
     "name": "stdout",
     "output_type": "stream",
     "text": [
      "                   all          8          8      0.994          1      0.995      0.923      0.994          1      0.995      0.923\n"
     ]
    },
    {
     "name": "stderr",
     "output_type": "stream",
     "text": [
      "\n"
     ]
    },
    {
     "name": "stdout",
     "output_type": "stream",
     "text": [
      "\n",
      "      Epoch    GPU_mem   box_loss   seg_loss   cls_loss   dfl_loss  Instances       Size\n"
     ]
    },
    {
     "name": "stderr",
     "output_type": "stream",
     "text": [
      "     93/100         0G     0.3019     0.3687     0.6735     0.8008         13        640: 100%|██████████| 2/2 [00:10<00:00,  5.26s/it]\n",
      "                 Class     Images  Instances      Box(P          R      mAP50  mAP50-95)     Mask(P          R      mAP50  mAP50-95): 100%|██████████| 1/1 [00:01<00:00,  1.39s/it]"
     ]
    },
    {
     "name": "stdout",
     "output_type": "stream",
     "text": [
      "                   all          8          8      0.994          1      0.995      0.923      0.994          1      0.995      0.923\n"
     ]
    },
    {
     "name": "stderr",
     "output_type": "stream",
     "text": [
      "\n"
     ]
    },
    {
     "name": "stdout",
     "output_type": "stream",
     "text": [
      "\n",
      "      Epoch    GPU_mem   box_loss   seg_loss   cls_loss   dfl_loss  Instances       Size\n"
     ]
    },
    {
     "name": "stderr",
     "output_type": "stream",
     "text": [
      "     94/100         0G     0.2688      0.339     0.6592     0.8187         13        640: 100%|██████████| 2/2 [00:10<00:00,  5.34s/it]\n",
      "                 Class     Images  Instances      Box(P          R      mAP50  mAP50-95)     Mask(P          R      mAP50  mAP50-95): 100%|██████████| 1/1 [00:01<00:00,  1.38s/it]"
     ]
    },
    {
     "name": "stdout",
     "output_type": "stream",
     "text": [
      "                   all          8          8      0.994          1      0.995      0.917      0.994          1      0.995      0.935\n"
     ]
    },
    {
     "name": "stderr",
     "output_type": "stream",
     "text": [
      "\n"
     ]
    },
    {
     "name": "stdout",
     "output_type": "stream",
     "text": [
      "\n",
      "      Epoch    GPU_mem   box_loss   seg_loss   cls_loss   dfl_loss  Instances       Size\n"
     ]
    },
    {
     "name": "stderr",
     "output_type": "stream",
     "text": [
      "     95/100         0G     0.2528     0.3389      0.642     0.7553         13        640: 100%|██████████| 2/2 [00:10<00:00,  5.26s/it]\n",
      "                 Class     Images  Instances      Box(P          R      mAP50  mAP50-95)     Mask(P          R      mAP50  mAP50-95): 100%|██████████| 1/1 [00:01<00:00,  1.38s/it]"
     ]
    },
    {
     "name": "stdout",
     "output_type": "stream",
     "text": [
      "                   all          8          8      0.994          1      0.995      0.917      0.994          1      0.995      0.935\n"
     ]
    },
    {
     "name": "stderr",
     "output_type": "stream",
     "text": [
      "\n"
     ]
    },
    {
     "name": "stdout",
     "output_type": "stream",
     "text": [
      "\n",
      "      Epoch    GPU_mem   box_loss   seg_loss   cls_loss   dfl_loss  Instances       Size\n"
     ]
    },
    {
     "name": "stderr",
     "output_type": "stream",
     "text": [
      "     96/100         0G     0.2925     0.3562      0.698     0.8011         13        640: 100%|██████████| 2/2 [00:10<00:00,  5.34s/it]\n",
      "                 Class     Images  Instances      Box(P          R      mAP50  mAP50-95)     Mask(P          R      mAP50  mAP50-95): 100%|██████████| 1/1 [00:01<00:00,  1.38s/it]"
     ]
    },
    {
     "name": "stdout",
     "output_type": "stream",
     "text": [
      "                   all          8          8      0.994          1      0.995      0.913      0.994          1      0.995      0.935\n"
     ]
    },
    {
     "name": "stderr",
     "output_type": "stream",
     "text": [
      "\n"
     ]
    },
    {
     "name": "stdout",
     "output_type": "stream",
     "text": [
      "\n",
      "      Epoch    GPU_mem   box_loss   seg_loss   cls_loss   dfl_loss  Instances       Size\n"
     ]
    },
    {
     "name": "stderr",
     "output_type": "stream",
     "text": [
      "     97/100         0G     0.2603     0.3392     0.6377     0.7663         13        640: 100%|██████████| 2/2 [00:10<00:00,  5.31s/it]\n",
      "                 Class     Images  Instances      Box(P          R      mAP50  mAP50-95)     Mask(P          R      mAP50  mAP50-95): 100%|██████████| 1/1 [00:01<00:00,  1.40s/it]"
     ]
    },
    {
     "name": "stdout",
     "output_type": "stream",
     "text": [
      "                   all          8          8      0.994          1      0.995      0.913      0.994          1      0.995      0.935\n"
     ]
    },
    {
     "name": "stderr",
     "output_type": "stream",
     "text": [
      "\n"
     ]
    },
    {
     "name": "stdout",
     "output_type": "stream",
     "text": [
      "\n",
      "      Epoch    GPU_mem   box_loss   seg_loss   cls_loss   dfl_loss  Instances       Size\n"
     ]
    },
    {
     "name": "stderr",
     "output_type": "stream",
     "text": [
      "     98/100         0G     0.2732      0.346      0.658     0.8083         13        640: 100%|██████████| 2/2 [00:10<00:00,  5.35s/it]\n",
      "                 Class     Images  Instances      Box(P          R      mAP50  mAP50-95)     Mask(P          R      mAP50  mAP50-95): 100%|██████████| 1/1 [00:01<00:00,  1.39s/it]"
     ]
    },
    {
     "name": "stdout",
     "output_type": "stream",
     "text": [
      "                   all          8          8      0.994          1      0.995      0.935      0.994          1      0.995      0.935\n"
     ]
    },
    {
     "name": "stderr",
     "output_type": "stream",
     "text": [
      "\n"
     ]
    },
    {
     "name": "stdout",
     "output_type": "stream",
     "text": [
      "\n",
      "      Epoch    GPU_mem   box_loss   seg_loss   cls_loss   dfl_loss  Instances       Size\n"
     ]
    },
    {
     "name": "stderr",
     "output_type": "stream",
     "text": [
      "     99/100         0G     0.2756     0.3382     0.6329     0.8341         13        640: 100%|██████████| 2/2 [00:10<00:00,  5.25s/it]\n",
      "                 Class     Images  Instances      Box(P          R      mAP50  mAP50-95)     Mask(P          R      mAP50  mAP50-95): 100%|██████████| 1/1 [00:01<00:00,  1.37s/it]"
     ]
    },
    {
     "name": "stdout",
     "output_type": "stream",
     "text": [
      "                   all          8          8      0.994          1      0.995      0.935      0.994          1      0.995      0.935\n"
     ]
    },
    {
     "name": "stderr",
     "output_type": "stream",
     "text": [
      "\n"
     ]
    },
    {
     "name": "stdout",
     "output_type": "stream",
     "text": [
      "\n",
      "      Epoch    GPU_mem   box_loss   seg_loss   cls_loss   dfl_loss  Instances       Size\n"
     ]
    },
    {
     "name": "stderr",
     "output_type": "stream",
     "text": [
      "    100/100         0G     0.2632     0.3269      0.614     0.7929         13        640: 100%|██████████| 2/2 [00:10<00:00,  5.35s/it]\n",
      "                 Class     Images  Instances      Box(P          R      mAP50  mAP50-95)     Mask(P          R      mAP50  mAP50-95): 100%|██████████| 1/1 [00:01<00:00,  1.37s/it]"
     ]
    },
    {
     "name": "stdout",
     "output_type": "stream",
     "text": [
      "                   all          8          8      0.994          1      0.995      0.935      0.994          1      0.995      0.935\n"
     ]
    },
    {
     "name": "stderr",
     "output_type": "stream",
     "text": [
      "\n"
     ]
    },
    {
     "name": "stdout",
     "output_type": "stream",
     "text": [
      "\n",
      "100 epochs completed in 0.346 hours.\n",
      "Optimizer stripped from runs\\pupil-seg4\\weights\\last.pt, 6.8MB\n",
      "Optimizer stripped from runs\\pupil-seg4\\weights\\best.pt, 6.8MB\n",
      "\n",
      "Validating runs\\pupil-seg4\\weights\\best.pt...\n",
      "Ultralytics 8.3.177  Python-3.11.9 torch-2.8.0+cpu CPU (Intel Core(TM) i7-8750H 2.20GHz)\n",
      "YOLOv8n-seg summary (fused): 85 layers, 3,258,259 parameters, 0 gradients, 12.0 GFLOPs\n"
     ]
    },
    {
     "name": "stderr",
     "output_type": "stream",
     "text": [
      "                 Class     Images  Instances      Box(P          R      mAP50  mAP50-95)     Mask(P          R      mAP50  mAP50-95):   0%|          | 0/1 [00:00<?, ?it/s]"
     ]
    },
    {
     "name": "stdout",
     "output_type": "stream",
     "text": [
      "WARNING Limiting validation plots to first 50 items per image for speed...\n",
      "WARNING Limiting validation plots to first 50 items per image for speed...\n",
      "WARNING Limiting validation plots to first 50 items per image for speed...\n",
      "WARNING Limiting validation plots to first 50 items per image for speed...\n",
      "WARNING Limiting validation plots to first 50 items per image for speed...\n",
      "WARNING Limiting validation plots to first 50 items per image for speed...\n",
      "WARNING Limiting validation plots to first 50 items per image for speed...\n",
      "WARNING Limiting validation plots to first 50 items per image for speed...\n"
     ]
    },
    {
     "name": "stderr",
     "output_type": "stream",
     "text": [
      "                 Class     Images  Instances      Box(P          R      mAP50  mAP50-95)     Mask(P          R      mAP50  mAP50-95): 100%|██████████| 1/1 [00:01<00:00,  1.25s/it]\n"
     ]
    },
    {
     "name": "stdout",
     "output_type": "stream",
     "text": [
      "                   all          8          8      0.994          1      0.995      0.935      0.994          1      0.995      0.935\n",
      "Speed: 1.6ms preprocess, 107.0ms inference, 0.0ms loss, 32.8ms postprocess per image\n",
      "Results saved to \u001b[1mruns\\pupil-seg4\u001b[0m\n"
     ]
    },
    {
     "data": {
      "text/plain": [
       "ultralytics.utils.metrics.SegmentMetrics object with attributes:\n",
       "\n",
       "ap_class_index: array([0])\n",
       "box: ultralytics.utils.metrics.Metric object\n",
       "confusion_matrix: <ultralytics.utils.metrics.ConfusionMatrix object at 0x0000020C10464F10>\n",
       "curves: ['Precision-Recall(B)', 'F1-Confidence(B)', 'Precision-Confidence(B)', 'Recall-Confidence(B)', 'Precision-Recall(M)', 'F1-Confidence(M)', 'Precision-Confidence(M)', 'Recall-Confidence(M)']\n",
       "curves_results: [[array([          0,    0.001001,    0.002002,    0.003003,    0.004004,    0.005005,    0.006006,    0.007007,    0.008008,    0.009009,     0.01001,    0.011011,    0.012012,    0.013013,    0.014014,    0.015015,    0.016016,    0.017017,    0.018018,    0.019019,     0.02002,    0.021021,    0.022022,    0.023023,\n",
       "          0.024024,    0.025025,    0.026026,    0.027027,    0.028028,    0.029029,     0.03003,    0.031031,    0.032032,    0.033033,    0.034034,    0.035035,    0.036036,    0.037037,    0.038038,    0.039039,     0.04004,    0.041041,    0.042042,    0.043043,    0.044044,    0.045045,    0.046046,    0.047047,\n",
       "          0.048048,    0.049049,     0.05005,    0.051051,    0.052052,    0.053053,    0.054054,    0.055055,    0.056056,    0.057057,    0.058058,    0.059059,     0.06006,    0.061061,    0.062062,    0.063063,    0.064064,    0.065065,    0.066066,    0.067067,    0.068068,    0.069069,     0.07007,    0.071071,\n",
       "          0.072072,    0.073073,    0.074074,    0.075075,    0.076076,    0.077077,    0.078078,    0.079079,     0.08008,    0.081081,    0.082082,    0.083083,    0.084084,    0.085085,    0.086086,    0.087087,    0.088088,    0.089089,     0.09009,    0.091091,    0.092092,    0.093093,    0.094094,    0.095095,\n",
       "          0.096096,    0.097097,    0.098098,    0.099099,      0.1001,      0.1011,      0.1021,      0.1031,      0.1041,     0.10511,     0.10611,     0.10711,     0.10811,     0.10911,     0.11011,     0.11111,     0.11211,     0.11311,     0.11411,     0.11512,     0.11612,     0.11712,     0.11812,     0.11912,\n",
       "           0.12012,     0.12112,     0.12212,     0.12312,     0.12412,     0.12513,     0.12613,     0.12713,     0.12813,     0.12913,     0.13013,     0.13113,     0.13213,     0.13313,     0.13413,     0.13514,     0.13614,     0.13714,     0.13814,     0.13914,     0.14014,     0.14114,     0.14214,     0.14314,\n",
       "           0.14414,     0.14515,     0.14615,     0.14715,     0.14815,     0.14915,     0.15015,     0.15115,     0.15215,     0.15315,     0.15415,     0.15516,     0.15616,     0.15716,     0.15816,     0.15916,     0.16016,     0.16116,     0.16216,     0.16316,     0.16416,     0.16517,     0.16617,     0.16717,\n",
       "           0.16817,     0.16917,     0.17017,     0.17117,     0.17217,     0.17317,     0.17417,     0.17518,     0.17618,     0.17718,     0.17818,     0.17918,     0.18018,     0.18118,     0.18218,     0.18318,     0.18418,     0.18519,     0.18619,     0.18719,     0.18819,     0.18919,     0.19019,     0.19119,\n",
       "           0.19219,     0.19319,     0.19419,      0.1952,      0.1962,      0.1972,      0.1982,      0.1992,      0.2002,      0.2012,      0.2022,      0.2032,      0.2042,     0.20521,     0.20621,     0.20721,     0.20821,     0.20921,     0.21021,     0.21121,     0.21221,     0.21321,     0.21421,     0.21522,\n",
       "           0.21622,     0.21722,     0.21822,     0.21922,     0.22022,     0.22122,     0.22222,     0.22322,     0.22422,     0.22523,     0.22623,     0.22723,     0.22823,     0.22923,     0.23023,     0.23123,     0.23223,     0.23323,     0.23423,     0.23524,     0.23624,     0.23724,     0.23824,     0.23924,\n",
       "           0.24024,     0.24124,     0.24224,     0.24324,     0.24424,     0.24525,     0.24625,     0.24725,     0.24825,     0.24925,     0.25025,     0.25125,     0.25225,     0.25325,     0.25425,     0.25526,     0.25626,     0.25726,     0.25826,     0.25926,     0.26026,     0.26126,     0.26226,     0.26326,\n",
       "           0.26426,     0.26527,     0.26627,     0.26727,     0.26827,     0.26927,     0.27027,     0.27127,     0.27227,     0.27327,     0.27427,     0.27528,     0.27628,     0.27728,     0.27828,     0.27928,     0.28028,     0.28128,     0.28228,     0.28328,     0.28428,     0.28529,     0.28629,     0.28729,\n",
       "           0.28829,     0.28929,     0.29029,     0.29129,     0.29229,     0.29329,     0.29429,      0.2953,      0.2963,      0.2973,      0.2983,      0.2993,      0.3003,      0.3013,      0.3023,      0.3033,      0.3043,     0.30531,     0.30631,     0.30731,     0.30831,     0.30931,     0.31031,     0.31131,\n",
       "           0.31231,     0.31331,     0.31431,     0.31532,     0.31632,     0.31732,     0.31832,     0.31932,     0.32032,     0.32132,     0.32232,     0.32332,     0.32432,     0.32533,     0.32633,     0.32733,     0.32833,     0.32933,     0.33033,     0.33133,     0.33233,     0.33333,     0.33433,     0.33534,\n",
       "           0.33634,     0.33734,     0.33834,     0.33934,     0.34034,     0.34134,     0.34234,     0.34334,     0.34434,     0.34535,     0.34635,     0.34735,     0.34835,     0.34935,     0.35035,     0.35135,     0.35235,     0.35335,     0.35435,     0.35536,     0.35636,     0.35736,     0.35836,     0.35936,\n",
       "           0.36036,     0.36136,     0.36236,     0.36336,     0.36436,     0.36537,     0.36637,     0.36737,     0.36837,     0.36937,     0.37037,     0.37137,     0.37237,     0.37337,     0.37437,     0.37538,     0.37638,     0.37738,     0.37838,     0.37938,     0.38038,     0.38138,     0.38238,     0.38338,\n",
       "           0.38438,     0.38539,     0.38639,     0.38739,     0.38839,     0.38939,     0.39039,     0.39139,     0.39239,     0.39339,     0.39439,      0.3954,      0.3964,      0.3974,      0.3984,      0.3994,      0.4004,      0.4014,      0.4024,      0.4034,      0.4044,     0.40541,     0.40641,     0.40741,\n",
       "           0.40841,     0.40941,     0.41041,     0.41141,     0.41241,     0.41341,     0.41441,     0.41542,     0.41642,     0.41742,     0.41842,     0.41942,     0.42042,     0.42142,     0.42242,     0.42342,     0.42442,     0.42543,     0.42643,     0.42743,     0.42843,     0.42943,     0.43043,     0.43143,\n",
       "           0.43243,     0.43343,     0.43443,     0.43544,     0.43644,     0.43744,     0.43844,     0.43944,     0.44044,     0.44144,     0.44244,     0.44344,     0.44444,     0.44545,     0.44645,     0.44745,     0.44845,     0.44945,     0.45045,     0.45145,     0.45245,     0.45345,     0.45445,     0.45546,\n",
       "           0.45646,     0.45746,     0.45846,     0.45946,     0.46046,     0.46146,     0.46246,     0.46346,     0.46446,     0.46547,     0.46647,     0.46747,     0.46847,     0.46947,     0.47047,     0.47147,     0.47247,     0.47347,     0.47447,     0.47548,     0.47648,     0.47748,     0.47848,     0.47948,\n",
       "           0.48048,     0.48148,     0.48248,     0.48348,     0.48448,     0.48549,     0.48649,     0.48749,     0.48849,     0.48949,     0.49049,     0.49149,     0.49249,     0.49349,     0.49449,      0.4955,      0.4965,      0.4975,      0.4985,      0.4995,      0.5005,      0.5015,      0.5025,      0.5035,\n",
       "            0.5045,     0.50551,     0.50651,     0.50751,     0.50851,     0.50951,     0.51051,     0.51151,     0.51251,     0.51351,     0.51451,     0.51552,     0.51652,     0.51752,     0.51852,     0.51952,     0.52052,     0.52152,     0.52252,     0.52352,     0.52452,     0.52553,     0.52653,     0.52753,\n",
       "           0.52853,     0.52953,     0.53053,     0.53153,     0.53253,     0.53353,     0.53453,     0.53554,     0.53654,     0.53754,     0.53854,     0.53954,     0.54054,     0.54154,     0.54254,     0.54354,     0.54454,     0.54555,     0.54655,     0.54755,     0.54855,     0.54955,     0.55055,     0.55155,\n",
       "           0.55255,     0.55355,     0.55455,     0.55556,     0.55656,     0.55756,     0.55856,     0.55956,     0.56056,     0.56156,     0.56256,     0.56356,     0.56456,     0.56557,     0.56657,     0.56757,     0.56857,     0.56957,     0.57057,     0.57157,     0.57257,     0.57357,     0.57457,     0.57558,\n",
       "           0.57658,     0.57758,     0.57858,     0.57958,     0.58058,     0.58158,     0.58258,     0.58358,     0.58458,     0.58559,     0.58659,     0.58759,     0.58859,     0.58959,     0.59059,     0.59159,     0.59259,     0.59359,     0.59459,      0.5956,      0.5966,      0.5976,      0.5986,      0.5996,\n",
       "            0.6006,      0.6016,      0.6026,      0.6036,      0.6046,     0.60561,     0.60661,     0.60761,     0.60861,     0.60961,     0.61061,     0.61161,     0.61261,     0.61361,     0.61461,     0.61562,     0.61662,     0.61762,     0.61862,     0.61962,     0.62062,     0.62162,     0.62262,     0.62362,\n",
       "           0.62462,     0.62563,     0.62663,     0.62763,     0.62863,     0.62963,     0.63063,     0.63163,     0.63263,     0.63363,     0.63463,     0.63564,     0.63664,     0.63764,     0.63864,     0.63964,     0.64064,     0.64164,     0.64264,     0.64364,     0.64464,     0.64565,     0.64665,     0.64765,\n",
       "           0.64865,     0.64965,     0.65065,     0.65165,     0.65265,     0.65365,     0.65465,     0.65566,     0.65666,     0.65766,     0.65866,     0.65966,     0.66066,     0.66166,     0.66266,     0.66366,     0.66466,     0.66567,     0.66667,     0.66767,     0.66867,     0.66967,     0.67067,     0.67167,\n",
       "           0.67267,     0.67367,     0.67467,     0.67568,     0.67668,     0.67768,     0.67868,     0.67968,     0.68068,     0.68168,     0.68268,     0.68368,     0.68468,     0.68569,     0.68669,     0.68769,     0.68869,     0.68969,     0.69069,     0.69169,     0.69269,     0.69369,     0.69469,      0.6957,\n",
       "            0.6967,      0.6977,      0.6987,      0.6997,      0.7007,      0.7017,      0.7027,      0.7037,      0.7047,     0.70571,     0.70671,     0.70771,     0.70871,     0.70971,     0.71071,     0.71171,     0.71271,     0.71371,     0.71471,     0.71572,     0.71672,     0.71772,     0.71872,     0.71972,\n",
       "           0.72072,     0.72172,     0.72272,     0.72372,     0.72472,     0.72573,     0.72673,     0.72773,     0.72873,     0.72973,     0.73073,     0.73173,     0.73273,     0.73373,     0.73473,     0.73574,     0.73674,     0.73774,     0.73874,     0.73974,     0.74074,     0.74174,     0.74274,     0.74374,\n",
       "           0.74474,     0.74575,     0.74675,     0.74775,     0.74875,     0.74975,     0.75075,     0.75175,     0.75275,     0.75375,     0.75475,     0.75576,     0.75676,     0.75776,     0.75876,     0.75976,     0.76076,     0.76176,     0.76276,     0.76376,     0.76476,     0.76577,     0.76677,     0.76777,\n",
       "           0.76877,     0.76977,     0.77077,     0.77177,     0.77277,     0.77377,     0.77477,     0.77578,     0.77678,     0.77778,     0.77878,     0.77978,     0.78078,     0.78178,     0.78278,     0.78378,     0.78478,     0.78579,     0.78679,     0.78779,     0.78879,     0.78979,     0.79079,     0.79179,\n",
       "           0.79279,     0.79379,     0.79479,      0.7958,      0.7968,      0.7978,      0.7988,      0.7998,      0.8008,      0.8018,      0.8028,      0.8038,      0.8048,     0.80581,     0.80681,     0.80781,     0.80881,     0.80981,     0.81081,     0.81181,     0.81281,     0.81381,     0.81481,     0.81582,\n",
       "           0.81682,     0.81782,     0.81882,     0.81982,     0.82082,     0.82182,     0.82282,     0.82382,     0.82482,     0.82583,     0.82683,     0.82783,     0.82883,     0.82983,     0.83083,     0.83183,     0.83283,     0.83383,     0.83483,     0.83584,     0.83684,     0.83784,     0.83884,     0.83984,\n",
       "           0.84084,     0.84184,     0.84284,     0.84384,     0.84484,     0.84585,     0.84685,     0.84785,     0.84885,     0.84985,     0.85085,     0.85185,     0.85285,     0.85385,     0.85485,     0.85586,     0.85686,     0.85786,     0.85886,     0.85986,     0.86086,     0.86186,     0.86286,     0.86386,\n",
       "           0.86486,     0.86587,     0.86687,     0.86787,     0.86887,     0.86987,     0.87087,     0.87187,     0.87287,     0.87387,     0.87487,     0.87588,     0.87688,     0.87788,     0.87888,     0.87988,     0.88088,     0.88188,     0.88288,     0.88388,     0.88488,     0.88589,     0.88689,     0.88789,\n",
       "           0.88889,     0.88989,     0.89089,     0.89189,     0.89289,     0.89389,     0.89489,      0.8959,      0.8969,      0.8979,      0.8989,      0.8999,      0.9009,      0.9019,      0.9029,      0.9039,      0.9049,     0.90591,     0.90691,     0.90791,     0.90891,     0.90991,     0.91091,     0.91191,\n",
       "           0.91291,     0.91391,     0.91491,     0.91592,     0.91692,     0.91792,     0.91892,     0.91992,     0.92092,     0.92192,     0.92292,     0.92392,     0.92492,     0.92593,     0.92693,     0.92793,     0.92893,     0.92993,     0.93093,     0.93193,     0.93293,     0.93393,     0.93493,     0.93594,\n",
       "           0.93694,     0.93794,     0.93894,     0.93994,     0.94094,     0.94194,     0.94294,     0.94394,     0.94494,     0.94595,     0.94695,     0.94795,     0.94895,     0.94995,     0.95095,     0.95195,     0.95295,     0.95395,     0.95495,     0.95596,     0.95696,     0.95796,     0.95896,     0.95996,\n",
       "           0.96096,     0.96196,     0.96296,     0.96396,     0.96496,     0.96597,     0.96697,     0.96797,     0.96897,     0.96997,     0.97097,     0.97197,     0.97297,     0.97397,     0.97497,     0.97598,     0.97698,     0.97798,     0.97898,     0.97998,     0.98098,     0.98198,     0.98298,     0.98398,\n",
       "           0.98498,     0.98599,     0.98699,     0.98799,     0.98899,     0.98999,     0.99099,     0.99199,     0.99299,     0.99399,     0.99499,       0.996,       0.997,       0.998,       0.999,           1]), array([[          1,           1,           1,           1,           1,           1,           1,           1,           1,           1,           1,           1,           1,           1,           1,           1,           1,           1,           1,           1,           1,           1,           1,\n",
       "                  1,           1,           1,           1,           1,           1,           1,           1,           1,           1,           1,           1,           1,           1,           1,           1,           1,           1,           1,           1,           1,           1,           1,\n",
       "                  1,           1,           1,           1,           1,           1,           1,           1,           1,           1,           1,           1,           1,           1,           1,           1,           1,           1,           1,           1,           1,           1,           1,\n",
       "                  1,           1,           1,           1,           1,           1,           1,           1,           1,           1,           1,           1,           1,           1,           1,           1,           1,           1,           1,           1,           1,           1,           1,\n",
       "                  1,           1,           1,           1,           1,           1,           1,           1,           1,           1,           1,           1,           1,           1,           1,           1,           1,           1,           1,           1,           1,           1,           1,\n",
       "                  1,           1,           1,           1,           1,           1,           1,           1,           1,           1,           1,           1,           1,           1,           1,           1,           1,           1,           1,           1,           1,           1,           1,\n",
       "                  1,           1,           1,           1,           1,           1,           1,           1,           1,           1,           1,           1,           1,           1,           1,           1,           1,           1,           1,           1,           1,           1,           1,\n",
       "                  1,           1,           1,           1,           1,           1,           1,           1,           1,           1,           1,           1,           1,           1,           1,           1,           1,           1,           1,           1,           1,           1,           1,\n",
       "                  1,           1,           1,           1,           1,           1,           1,           1,           1,           1,           1,           1,           1,           1,           1,           1,           1,           1,           1,           1,           1,           1,           1,\n",
       "                  1,           1,           1,           1,           1,           1,           1,           1,           1,           1,           1,           1,           1,           1,           1,           1,           1,           1,           1,           1,           1,           1,           1,\n",
       "                  1,           1,           1,           1,           1,           1,           1,           1,           1,           1,           1,           1,           1,           1,           1,           1,           1,           1,           1,           1,           1,           1,           1,\n",
       "                  1,           1,           1,           1,           1,           1,           1,           1,           1,           1,           1,           1,           1,           1,           1,           1,           1,           1,           1,           1,           1,           1,           1,\n",
       "                  1,           1,           1,           1,           1,           1,           1,           1,           1,           1,           1,           1,           1,           1,           1,           1,           1,           1,           1,           1,           1,           1,           1,\n",
       "                  1,           1,           1,           1,           1,           1,           1,           1,           1,           1,           1,           1,           1,           1,           1,           1,           1,           1,           1,           1,           1,           1,           1,\n",
       "                  1,           1,           1,           1,           1,           1,           1,           1,           1,           1,           1,           1,           1,           1,           1,           1,           1,           1,           1,           1,           1,           1,           1,\n",
       "                  1,           1,           1,           1,           1,           1,           1,           1,           1,           1,           1,           1,           1,           1,           1,           1,           1,           1,           1,           1,           1,           1,           1,\n",
       "                  1,           1,           1,           1,           1,           1,           1,           1,           1,           1,           1,           1,           1,           1,           1,           1,           1,           1,           1,           1,           1,           1,           1,\n",
       "                  1,           1,           1,           1,           1,           1,           1,           1,           1,           1,           1,           1,           1,           1,           1,           1,           1,           1,           1,           1,           1,           1,           1,\n",
       "                  1,           1,           1,           1,           1,           1,           1,           1,           1,           1,           1,           1,           1,           1,           1,           1,           1,           1,           1,           1,           1,           1,           1,\n",
       "                  1,           1,           1,           1,           1,           1,           1,           1,           1,           1,           1,           1,           1,           1,           1,           1,           1,           1,           1,           1,           1,           1,           1,\n",
       "                  1,           1,           1,           1,           1,           1,           1,           1,           1,           1,           1,           1,           1,           1,           1,           1,           1,           1,           1,           1,           1,           1,           1,\n",
       "                  1,           1,           1,           1,           1,           1,           1,           1,           1,           1,           1,           1,           1,           1,           1,           1,           1,           1,           1,           1,           1,           1,           1,\n",
       "                  1,           1,           1,           1,           1,           1,           1,           1,           1,           1,           1,           1,           1,           1,           1,           1,           1,           1,           1,           1,           1,           1,           1,\n",
       "                  1,           1,           1,           1,           1,           1,           1,           1,           1,           1,           1,           1,           1,           1,           1,           1,           1,           1,           1,           1,           1,           1,           1,\n",
       "                  1,           1,           1,           1,           1,           1,           1,           1,           1,           1,           1,           1,           1,           1,           1,           1,           1,           1,           1,           1,           1,           1,           1,\n",
       "                  1,           1,           1,           1,           1,           1,           1,           1,           1,           1,           1,           1,           1,           1,           1,           1,           1,           1,           1,           1,           1,           1,           1,\n",
       "                  1,           1,           1,           1,           1,           1,           1,           1,           1,           1,           1,           1,           1,           1,           1,           1,           1,           1,           1,           1,           1,           1,           1,\n",
       "                  1,           1,           1,           1,           1,           1,           1,           1,           1,           1,           1,           1,           1,           1,           1,           1,           1,           1,           1,           1,           1,           1,           1,\n",
       "                  1,           1,           1,           1,           1,           1,           1,           1,           1,           1,           1,           1,           1,           1,           1,           1,           1,           1,           1,           1,           1,           1,           1,\n",
       "                  1,           1,           1,           1,           1,           1,           1,           1,           1,           1,           1,           1,           1,           1,           1,           1,           1,           1,           1,           1,           1,           1,           1,\n",
       "                  1,           1,           1,           1,           1,           1,           1,           1,           1,           1,           1,           1,           1,           1,           1,           1,           1,           1,           1,           1,           1,           1,           1,\n",
       "                  1,           1,           1,           1,           1,           1,           1,           1,           1,           1,           1,           1,           1,           1,           1,           1,           1,           1,           1,           1,           1,           1,           1,\n",
       "                  1,           1,           1,           1,           1,           1,           1,           1,           1,           1,           1,           1,           1,           1,           1,           1,           1,           1,           1,           1,           1,           1,           1,\n",
       "                  1,           1,           1,           1,           1,           1,           1,           1,           1,           1,           1,           1,           1,           1,           1,           1,           1,           1,           1,           1,           1,           1,           1,\n",
       "                  1,           1,           1,           1,           1,           1,           1,           1,           1,           1,           1,           1,           1,           1,           1,           1,           1,           1,           1,           1,           1,           1,           1,\n",
       "                  1,           1,           1,           1,           1,           1,           1,           1,           1,           1,           1,           1,           1,           1,           1,           1,           1,           1,           1,           1,           1,           1,           1,\n",
       "                  1,           1,           1,           1,           1,           1,           1,           1,           1,           1,           1,           1,           1,           1,           1,           1,           1,           1,           1,           1,           1,           1,           1,\n",
       "                  1,           1,           1,           1,           1,           1,           1,           1,           1,           1,           1,           1,           1,           1,           1,           1,           1,           1,           1,           1,           1,           1,           1,\n",
       "                  1,           1,           1,           1,           1,           1,           1,           1,           1,           1,           1,           1,           1,           1,           1,           1,           1,           1,           1,           1,           1,           1,           1,\n",
       "                  1,           1,           1,           1,           1,           1,           1,           1,           1,           1,           1,           1,           1,           1,           1,           1,           1,           1,           1,           1,           1,           1,           1,\n",
       "                  1,           1,           1,           1,           1,           1,           1,           1,           1,           1,           1,           1,           1,           1,           1,           1,           1,           1,           1,           1,           1,           1,           1,\n",
       "                  1,           1,           1,           1,           1,           1,           1,           1,           1,           1,           1,           1,           1,           1,           1,           1,           1,           1,           1,           1,           1,           1,           1,\n",
       "                  1,           1,           1,           1,           1,           1,           1,           1,           1,           1,           1,           1,           1,           1,           1,           1,           1,           1,           1,           1,           1,           1,           1,\n",
       "                  1,           1,           1,           1,           1,           1,           1,           1,           1,           1,           0]]), 'Recall', 'Precision'], [array([          0,    0.001001,    0.002002,    0.003003,    0.004004,    0.005005,    0.006006,    0.007007,    0.008008,    0.009009,     0.01001,    0.011011,    0.012012,    0.013013,    0.014014,    0.015015,    0.016016,    0.017017,    0.018018,    0.019019,     0.02002,    0.021021,    0.022022,    0.023023,\n",
       "          0.024024,    0.025025,    0.026026,    0.027027,    0.028028,    0.029029,     0.03003,    0.031031,    0.032032,    0.033033,    0.034034,    0.035035,    0.036036,    0.037037,    0.038038,    0.039039,     0.04004,    0.041041,    0.042042,    0.043043,    0.044044,    0.045045,    0.046046,    0.047047,\n",
       "          0.048048,    0.049049,     0.05005,    0.051051,    0.052052,    0.053053,    0.054054,    0.055055,    0.056056,    0.057057,    0.058058,    0.059059,     0.06006,    0.061061,    0.062062,    0.063063,    0.064064,    0.065065,    0.066066,    0.067067,    0.068068,    0.069069,     0.07007,    0.071071,\n",
       "          0.072072,    0.073073,    0.074074,    0.075075,    0.076076,    0.077077,    0.078078,    0.079079,     0.08008,    0.081081,    0.082082,    0.083083,    0.084084,    0.085085,    0.086086,    0.087087,    0.088088,    0.089089,     0.09009,    0.091091,    0.092092,    0.093093,    0.094094,    0.095095,\n",
       "          0.096096,    0.097097,    0.098098,    0.099099,      0.1001,      0.1011,      0.1021,      0.1031,      0.1041,     0.10511,     0.10611,     0.10711,     0.10811,     0.10911,     0.11011,     0.11111,     0.11211,     0.11311,     0.11411,     0.11512,     0.11612,     0.11712,     0.11812,     0.11912,\n",
       "           0.12012,     0.12112,     0.12212,     0.12312,     0.12412,     0.12513,     0.12613,     0.12713,     0.12813,     0.12913,     0.13013,     0.13113,     0.13213,     0.13313,     0.13413,     0.13514,     0.13614,     0.13714,     0.13814,     0.13914,     0.14014,     0.14114,     0.14214,     0.14314,\n",
       "           0.14414,     0.14515,     0.14615,     0.14715,     0.14815,     0.14915,     0.15015,     0.15115,     0.15215,     0.15315,     0.15415,     0.15516,     0.15616,     0.15716,     0.15816,     0.15916,     0.16016,     0.16116,     0.16216,     0.16316,     0.16416,     0.16517,     0.16617,     0.16717,\n",
       "           0.16817,     0.16917,     0.17017,     0.17117,     0.17217,     0.17317,     0.17417,     0.17518,     0.17618,     0.17718,     0.17818,     0.17918,     0.18018,     0.18118,     0.18218,     0.18318,     0.18418,     0.18519,     0.18619,     0.18719,     0.18819,     0.18919,     0.19019,     0.19119,\n",
       "           0.19219,     0.19319,     0.19419,      0.1952,      0.1962,      0.1972,      0.1982,      0.1992,      0.2002,      0.2012,      0.2022,      0.2032,      0.2042,     0.20521,     0.20621,     0.20721,     0.20821,     0.20921,     0.21021,     0.21121,     0.21221,     0.21321,     0.21421,     0.21522,\n",
       "           0.21622,     0.21722,     0.21822,     0.21922,     0.22022,     0.22122,     0.22222,     0.22322,     0.22422,     0.22523,     0.22623,     0.22723,     0.22823,     0.22923,     0.23023,     0.23123,     0.23223,     0.23323,     0.23423,     0.23524,     0.23624,     0.23724,     0.23824,     0.23924,\n",
       "           0.24024,     0.24124,     0.24224,     0.24324,     0.24424,     0.24525,     0.24625,     0.24725,     0.24825,     0.24925,     0.25025,     0.25125,     0.25225,     0.25325,     0.25425,     0.25526,     0.25626,     0.25726,     0.25826,     0.25926,     0.26026,     0.26126,     0.26226,     0.26326,\n",
       "           0.26426,     0.26527,     0.26627,     0.26727,     0.26827,     0.26927,     0.27027,     0.27127,     0.27227,     0.27327,     0.27427,     0.27528,     0.27628,     0.27728,     0.27828,     0.27928,     0.28028,     0.28128,     0.28228,     0.28328,     0.28428,     0.28529,     0.28629,     0.28729,\n",
       "           0.28829,     0.28929,     0.29029,     0.29129,     0.29229,     0.29329,     0.29429,      0.2953,      0.2963,      0.2973,      0.2983,      0.2993,      0.3003,      0.3013,      0.3023,      0.3033,      0.3043,     0.30531,     0.30631,     0.30731,     0.30831,     0.30931,     0.31031,     0.31131,\n",
       "           0.31231,     0.31331,     0.31431,     0.31532,     0.31632,     0.31732,     0.31832,     0.31932,     0.32032,     0.32132,     0.32232,     0.32332,     0.32432,     0.32533,     0.32633,     0.32733,     0.32833,     0.32933,     0.33033,     0.33133,     0.33233,     0.33333,     0.33433,     0.33534,\n",
       "           0.33634,     0.33734,     0.33834,     0.33934,     0.34034,     0.34134,     0.34234,     0.34334,     0.34434,     0.34535,     0.34635,     0.34735,     0.34835,     0.34935,     0.35035,     0.35135,     0.35235,     0.35335,     0.35435,     0.35536,     0.35636,     0.35736,     0.35836,     0.35936,\n",
       "           0.36036,     0.36136,     0.36236,     0.36336,     0.36436,     0.36537,     0.36637,     0.36737,     0.36837,     0.36937,     0.37037,     0.37137,     0.37237,     0.37337,     0.37437,     0.37538,     0.37638,     0.37738,     0.37838,     0.37938,     0.38038,     0.38138,     0.38238,     0.38338,\n",
       "           0.38438,     0.38539,     0.38639,     0.38739,     0.38839,     0.38939,     0.39039,     0.39139,     0.39239,     0.39339,     0.39439,      0.3954,      0.3964,      0.3974,      0.3984,      0.3994,      0.4004,      0.4014,      0.4024,      0.4034,      0.4044,     0.40541,     0.40641,     0.40741,\n",
       "           0.40841,     0.40941,     0.41041,     0.41141,     0.41241,     0.41341,     0.41441,     0.41542,     0.41642,     0.41742,     0.41842,     0.41942,     0.42042,     0.42142,     0.42242,     0.42342,     0.42442,     0.42543,     0.42643,     0.42743,     0.42843,     0.42943,     0.43043,     0.43143,\n",
       "           0.43243,     0.43343,     0.43443,     0.43544,     0.43644,     0.43744,     0.43844,     0.43944,     0.44044,     0.44144,     0.44244,     0.44344,     0.44444,     0.44545,     0.44645,     0.44745,     0.44845,     0.44945,     0.45045,     0.45145,     0.45245,     0.45345,     0.45445,     0.45546,\n",
       "           0.45646,     0.45746,     0.45846,     0.45946,     0.46046,     0.46146,     0.46246,     0.46346,     0.46446,     0.46547,     0.46647,     0.46747,     0.46847,     0.46947,     0.47047,     0.47147,     0.47247,     0.47347,     0.47447,     0.47548,     0.47648,     0.47748,     0.47848,     0.47948,\n",
       "           0.48048,     0.48148,     0.48248,     0.48348,     0.48448,     0.48549,     0.48649,     0.48749,     0.48849,     0.48949,     0.49049,     0.49149,     0.49249,     0.49349,     0.49449,      0.4955,      0.4965,      0.4975,      0.4985,      0.4995,      0.5005,      0.5015,      0.5025,      0.5035,\n",
       "            0.5045,     0.50551,     0.50651,     0.50751,     0.50851,     0.50951,     0.51051,     0.51151,     0.51251,     0.51351,     0.51451,     0.51552,     0.51652,     0.51752,     0.51852,     0.51952,     0.52052,     0.52152,     0.52252,     0.52352,     0.52452,     0.52553,     0.52653,     0.52753,\n",
       "           0.52853,     0.52953,     0.53053,     0.53153,     0.53253,     0.53353,     0.53453,     0.53554,     0.53654,     0.53754,     0.53854,     0.53954,     0.54054,     0.54154,     0.54254,     0.54354,     0.54454,     0.54555,     0.54655,     0.54755,     0.54855,     0.54955,     0.55055,     0.55155,\n",
       "           0.55255,     0.55355,     0.55455,     0.55556,     0.55656,     0.55756,     0.55856,     0.55956,     0.56056,     0.56156,     0.56256,     0.56356,     0.56456,     0.56557,     0.56657,     0.56757,     0.56857,     0.56957,     0.57057,     0.57157,     0.57257,     0.57357,     0.57457,     0.57558,\n",
       "           0.57658,     0.57758,     0.57858,     0.57958,     0.58058,     0.58158,     0.58258,     0.58358,     0.58458,     0.58559,     0.58659,     0.58759,     0.58859,     0.58959,     0.59059,     0.59159,     0.59259,     0.59359,     0.59459,      0.5956,      0.5966,      0.5976,      0.5986,      0.5996,\n",
       "            0.6006,      0.6016,      0.6026,      0.6036,      0.6046,     0.60561,     0.60661,     0.60761,     0.60861,     0.60961,     0.61061,     0.61161,     0.61261,     0.61361,     0.61461,     0.61562,     0.61662,     0.61762,     0.61862,     0.61962,     0.62062,     0.62162,     0.62262,     0.62362,\n",
       "           0.62462,     0.62563,     0.62663,     0.62763,     0.62863,     0.62963,     0.63063,     0.63163,     0.63263,     0.63363,     0.63463,     0.63564,     0.63664,     0.63764,     0.63864,     0.63964,     0.64064,     0.64164,     0.64264,     0.64364,     0.64464,     0.64565,     0.64665,     0.64765,\n",
       "           0.64865,     0.64965,     0.65065,     0.65165,     0.65265,     0.65365,     0.65465,     0.65566,     0.65666,     0.65766,     0.65866,     0.65966,     0.66066,     0.66166,     0.66266,     0.66366,     0.66466,     0.66567,     0.66667,     0.66767,     0.66867,     0.66967,     0.67067,     0.67167,\n",
       "           0.67267,     0.67367,     0.67467,     0.67568,     0.67668,     0.67768,     0.67868,     0.67968,     0.68068,     0.68168,     0.68268,     0.68368,     0.68468,     0.68569,     0.68669,     0.68769,     0.68869,     0.68969,     0.69069,     0.69169,     0.69269,     0.69369,     0.69469,      0.6957,\n",
       "            0.6967,      0.6977,      0.6987,      0.6997,      0.7007,      0.7017,      0.7027,      0.7037,      0.7047,     0.70571,     0.70671,     0.70771,     0.70871,     0.70971,     0.71071,     0.71171,     0.71271,     0.71371,     0.71471,     0.71572,     0.71672,     0.71772,     0.71872,     0.71972,\n",
       "           0.72072,     0.72172,     0.72272,     0.72372,     0.72472,     0.72573,     0.72673,     0.72773,     0.72873,     0.72973,     0.73073,     0.73173,     0.73273,     0.73373,     0.73473,     0.73574,     0.73674,     0.73774,     0.73874,     0.73974,     0.74074,     0.74174,     0.74274,     0.74374,\n",
       "           0.74474,     0.74575,     0.74675,     0.74775,     0.74875,     0.74975,     0.75075,     0.75175,     0.75275,     0.75375,     0.75475,     0.75576,     0.75676,     0.75776,     0.75876,     0.75976,     0.76076,     0.76176,     0.76276,     0.76376,     0.76476,     0.76577,     0.76677,     0.76777,\n",
       "           0.76877,     0.76977,     0.77077,     0.77177,     0.77277,     0.77377,     0.77477,     0.77578,     0.77678,     0.77778,     0.77878,     0.77978,     0.78078,     0.78178,     0.78278,     0.78378,     0.78478,     0.78579,     0.78679,     0.78779,     0.78879,     0.78979,     0.79079,     0.79179,\n",
       "           0.79279,     0.79379,     0.79479,      0.7958,      0.7968,      0.7978,      0.7988,      0.7998,      0.8008,      0.8018,      0.8028,      0.8038,      0.8048,     0.80581,     0.80681,     0.80781,     0.80881,     0.80981,     0.81081,     0.81181,     0.81281,     0.81381,     0.81481,     0.81582,\n",
       "           0.81682,     0.81782,     0.81882,     0.81982,     0.82082,     0.82182,     0.82282,     0.82382,     0.82482,     0.82583,     0.82683,     0.82783,     0.82883,     0.82983,     0.83083,     0.83183,     0.83283,     0.83383,     0.83483,     0.83584,     0.83684,     0.83784,     0.83884,     0.83984,\n",
       "           0.84084,     0.84184,     0.84284,     0.84384,     0.84484,     0.84585,     0.84685,     0.84785,     0.84885,     0.84985,     0.85085,     0.85185,     0.85285,     0.85385,     0.85485,     0.85586,     0.85686,     0.85786,     0.85886,     0.85986,     0.86086,     0.86186,     0.86286,     0.86386,\n",
       "           0.86486,     0.86587,     0.86687,     0.86787,     0.86887,     0.86987,     0.87087,     0.87187,     0.87287,     0.87387,     0.87487,     0.87588,     0.87688,     0.87788,     0.87888,     0.87988,     0.88088,     0.88188,     0.88288,     0.88388,     0.88488,     0.88589,     0.88689,     0.88789,\n",
       "           0.88889,     0.88989,     0.89089,     0.89189,     0.89289,     0.89389,     0.89489,      0.8959,      0.8969,      0.8979,      0.8989,      0.8999,      0.9009,      0.9019,      0.9029,      0.9039,      0.9049,     0.90591,     0.90691,     0.90791,     0.90891,     0.90991,     0.91091,     0.91191,\n",
       "           0.91291,     0.91391,     0.91491,     0.91592,     0.91692,     0.91792,     0.91892,     0.91992,     0.92092,     0.92192,     0.92292,     0.92392,     0.92492,     0.92593,     0.92693,     0.92793,     0.92893,     0.92993,     0.93093,     0.93193,     0.93293,     0.93393,     0.93493,     0.93594,\n",
       "           0.93694,     0.93794,     0.93894,     0.93994,     0.94094,     0.94194,     0.94294,     0.94394,     0.94494,     0.94595,     0.94695,     0.94795,     0.94895,     0.94995,     0.95095,     0.95195,     0.95295,     0.95395,     0.95495,     0.95596,     0.95696,     0.95796,     0.95896,     0.95996,\n",
       "           0.96096,     0.96196,     0.96296,     0.96396,     0.96496,     0.96597,     0.96697,     0.96797,     0.96897,     0.96997,     0.97097,     0.97197,     0.97297,     0.97397,     0.97497,     0.97598,     0.97698,     0.97798,     0.97898,     0.97998,     0.98098,     0.98198,     0.98298,     0.98398,\n",
       "           0.98498,     0.98599,     0.98699,     0.98799,     0.98899,     0.98999,     0.99099,     0.99199,     0.99299,     0.99399,     0.99499,       0.996,       0.997,       0.998,       0.999,           1]), array([[  0.0066445,   0.0066445,    0.011266,    0.013533,    0.015225,    0.023222,    0.047817,     0.13153,     0.27142,     0.48099,     0.58503,     0.80963,     0.91516,     0.94119,     0.94126,     0.94133,      0.9414,     0.94146,     0.94153,      0.9416,     0.94167,     0.94173,      0.9418,\n",
       "            0.94187,     0.94194,       0.942,     0.94207,     0.94214,     0.94221,     0.94227,     0.94234,     0.94241,     0.94248,     0.94254,     0.94261,     0.94268,     0.94275,     0.94281,     0.94288,     0.94295,     0.94302,     0.94308,     0.94315,     0.94322,     0.94328,     0.94335,\n",
       "            0.94342,     0.94349,     0.94355,     0.94362,     0.94369,     0.94376,     0.94382,     0.94389,     0.94396,     0.94402,     0.94409,     0.94416,     0.94423,     0.94429,     0.94436,     0.94443,     0.94449,     0.94456,     0.94463,      0.9447,     0.94476,     0.94483,      0.9449,\n",
       "            0.94496,     0.94503,      0.9451,     0.94517,     0.94523,      0.9453,     0.94537,     0.94543,      0.9455,     0.94557,     0.94563,      0.9457,     0.94577,     0.94584,      0.9459,     0.94597,     0.94604,      0.9461,     0.94617,     0.94624,      0.9463,     0.94637,     0.94644,\n",
       "             0.9465,     0.94657,     0.94664,     0.94671,     0.94677,     0.94684,     0.94691,     0.94697,     0.94704,     0.94711,     0.94717,     0.94724,     0.94731,     0.94737,     0.94744,     0.94751,     0.94757,     0.94764,     0.94771,     0.94777,     0.94784,     0.94791,     0.94797,\n",
       "            0.94804,     0.94811,     0.94817,     0.94824,     0.94831,     0.94837,     0.94844,     0.94851,     0.94857,     0.94864,     0.94871,     0.94877,     0.94884,     0.94891,     0.94897,     0.94904,     0.94911,     0.94917,     0.94924,     0.94931,     0.94937,     0.94944,     0.94951,\n",
       "            0.94957,     0.94964,     0.94971,     0.94977,     0.94984,      0.9499,     0.94997,     0.95004,      0.9501,     0.95017,     0.95024,      0.9503,     0.95037,     0.95044,      0.9505,     0.95057,     0.95064,      0.9507,     0.95077,     0.95083,      0.9509,     0.95097,     0.95103,\n",
       "             0.9511,     0.95117,     0.95123,      0.9513,     0.95136,     0.95143,      0.9515,     0.95156,     0.95163,      0.9517,     0.95176,     0.95183,     0.95189,     0.95196,     0.95203,     0.95209,     0.95216,     0.95223,     0.95229,     0.95236,     0.95242,     0.95249,     0.95256,\n",
       "            0.95262,     0.95269,     0.95275,     0.95282,     0.95289,     0.95295,     0.95302,     0.95308,     0.95315,     0.95322,     0.95328,     0.95335,     0.95342,     0.95348,     0.95355,     0.95361,     0.95368,     0.95375,     0.95381,     0.95388,     0.95394,     0.95401,     0.95407,\n",
       "            0.95414,     0.95421,     0.95427,     0.95434,      0.9544,     0.95447,     0.95454,      0.9546,     0.95467,     0.95473,      0.9548,     0.95487,     0.95493,       0.955,     0.95506,     0.95513,     0.95519,     0.95526,     0.95533,     0.95539,     0.95546,     0.95552,     0.95559,\n",
       "            0.95565,     0.95572,     0.95579,     0.95585,     0.95592,     0.95598,     0.95605,     0.95611,     0.95618,     0.95625,     0.95631,     0.95638,     0.95644,     0.95651,     0.95657,     0.95664,     0.95671,     0.95677,     0.95684,      0.9569,     0.95697,     0.95703,      0.9571,\n",
       "            0.95716,     0.95723,      0.9573,     0.95736,     0.95743,     0.95749,     0.95756,     0.95762,     0.95769,     0.95775,     0.95782,     0.95788,     0.95795,     0.95802,     0.95808,     0.95815,     0.95821,     0.95828,     0.95834,     0.95841,     0.95847,     0.95854,      0.9586,\n",
       "            0.95867,     0.95873,      0.9588,     0.95887,     0.95893,       0.959,     0.95906,     0.95913,     0.95919,     0.95926,     0.95932,     0.95939,     0.95945,     0.95952,     0.95958,     0.95965,     0.95971,     0.95978,     0.95984,     0.95991,     0.95997,     0.96004,      0.9601,\n",
       "            0.96017,     0.96024,      0.9603,     0.96037,     0.96043,      0.9605,     0.96056,     0.96063,     0.96069,     0.96076,     0.96082,     0.96089,     0.96095,     0.96102,     0.96108,     0.96115,     0.96121,     0.96128,     0.96134,     0.96141,     0.96147,     0.96154,      0.9616,\n",
       "            0.96167,     0.96173,      0.9618,     0.96186,     0.96193,     0.96199,     0.96206,     0.96212,     0.96219,     0.96225,     0.96232,     0.96238,     0.96245,     0.96251,     0.96258,     0.96264,      0.9627,     0.96277,     0.96283,      0.9629,     0.96296,     0.96303,     0.96309,\n",
       "            0.96316,     0.96322,     0.96329,     0.96335,     0.96342,     0.96348,     0.96355,     0.96361,     0.96368,     0.96374,     0.96381,     0.96387,     0.96394,       0.964,     0.96406,     0.96413,     0.96419,     0.96426,     0.96432,     0.96439,     0.96445,     0.96452,     0.96458,\n",
       "            0.96465,     0.96471,     0.96478,     0.96484,      0.9649,     0.96497,     0.96503,      0.9651,     0.96516,     0.96523,     0.96529,     0.96536,     0.96542,     0.96549,     0.96555,     0.96561,     0.96568,     0.96574,     0.96581,     0.96587,     0.96594,       0.966,     0.96607,\n",
       "            0.96613,     0.96619,     0.96626,     0.96632,     0.96639,     0.96645,     0.96652,     0.96658,     0.96665,     0.96671,     0.96677,     0.96684,      0.9669,     0.96697,     0.96703,      0.9671,     0.96716,     0.96722,     0.96729,     0.96735,     0.96742,     0.96748,     0.96755,\n",
       "            0.96761,     0.96767,     0.96774,      0.9678,     0.96787,     0.96793,     0.96799,     0.96806,     0.96812,     0.96819,     0.96825,     0.96832,     0.96838,     0.96844,     0.96851,     0.96857,     0.96864,      0.9687,     0.96876,     0.96883,     0.96889,     0.96896,     0.96902,\n",
       "            0.96908,     0.96915,     0.96921,     0.96928,     0.96934,      0.9694,     0.96947,     0.96953,      0.9696,     0.96966,     0.96972,     0.96979,     0.96985,     0.96992,     0.96998,     0.97004,     0.97011,     0.97017,     0.97024,      0.9703,     0.97036,     0.97043,     0.97049,\n",
       "            0.97056,     0.97062,     0.97068,     0.97075,     0.97081,     0.97087,     0.97094,       0.971,     0.97107,     0.97113,     0.97119,     0.97126,     0.97132,     0.97139,     0.97145,     0.97151,     0.97158,     0.97164,      0.9717,     0.97177,     0.97183,      0.9719,     0.97196,\n",
       "            0.97202,     0.97209,     0.97215,     0.97221,     0.97228,     0.97234,      0.9724,     0.97247,     0.97253,      0.9726,     0.97266,     0.97272,     0.97279,     0.97285,     0.97291,     0.97298,     0.97304,      0.9731,     0.97317,     0.97323,     0.97329,     0.97336,     0.97342,\n",
       "            0.97349,     0.97355,     0.97361,     0.97368,     0.97374,      0.9738,     0.97387,     0.97393,     0.97399,     0.97406,     0.97412,     0.97418,     0.97425,     0.97431,     0.97437,     0.97444,      0.9745,     0.97456,     0.97463,     0.97469,     0.97475,     0.97482,     0.97488,\n",
       "            0.97494,     0.97501,     0.97507,     0.97513,      0.9752,     0.97526,     0.97532,     0.97539,     0.97545,     0.97551,     0.97558,     0.97564,      0.9757,     0.97577,     0.97583,     0.97589,     0.97596,     0.97602,     0.97608,     0.97615,     0.97621,     0.97627,     0.97633,\n",
       "             0.9764,     0.97646,     0.97652,     0.97659,     0.97665,     0.97671,     0.97678,     0.97684,      0.9769,     0.97697,     0.97703,     0.97709,     0.97715,     0.97722,     0.97728,     0.97734,     0.97741,     0.97747,     0.97753,      0.9776,     0.97766,     0.97772,     0.97779,\n",
       "            0.97785,     0.97791,     0.97797,     0.97804,      0.9781,     0.97816,     0.97823,     0.97829,     0.97835,     0.97841,     0.97848,     0.97854,      0.9786,     0.97867,     0.97873,     0.97879,     0.97885,     0.97892,     0.97898,     0.97904,     0.97911,     0.97917,     0.97923,\n",
       "            0.97929,     0.97936,     0.97942,     0.97948,     0.97955,     0.97961,     0.97967,     0.97973,      0.9798,     0.97986,     0.97992,     0.97998,     0.98005,     0.98011,     0.98017,     0.98024,      0.9803,     0.98036,     0.98042,     0.98049,     0.98055,     0.98061,     0.98067,\n",
       "            0.98074,      0.9808,     0.98086,     0.98092,     0.98099,     0.98105,     0.98111,     0.98117,     0.98124,      0.9813,     0.98136,     0.98142,     0.98149,     0.98155,     0.98161,     0.98167,     0.98174,      0.9818,     0.98186,     0.98192,     0.98199,     0.98205,     0.98211,\n",
       "            0.98217,     0.98224,      0.9823,     0.98236,     0.98242,     0.98249,     0.98255,     0.98261,     0.98267,     0.98274,      0.9828,     0.98286,     0.98292,     0.98298,     0.98305,     0.98311,     0.98317,     0.98323,      0.9833,     0.98336,     0.98342,     0.98348,     0.98355,\n",
       "            0.98361,     0.98367,     0.98373,     0.98379,     0.98386,     0.98392,     0.98398,     0.98404,     0.98411,     0.98417,     0.98423,     0.98429,     0.98435,     0.98442,     0.98448,     0.98454,      0.9846,     0.98467,     0.98473,     0.98479,     0.98485,     0.98491,     0.98498,\n",
       "            0.98504,      0.9851,     0.98516,     0.98522,     0.98529,     0.98535,     0.98541,     0.98547,     0.98553,      0.9856,     0.98566,     0.98572,     0.98578,     0.98584,     0.98591,     0.98597,     0.98603,     0.98609,     0.98615,     0.98622,     0.98628,     0.98634,      0.9864,\n",
       "            0.98646,     0.98653,     0.98659,     0.98665,     0.98671,     0.98677,     0.98683,      0.9869,     0.98696,     0.98702,     0.98708,     0.98714,     0.98721,     0.98727,     0.98733,     0.98739,     0.98745,     0.98751,     0.98758,     0.98764,      0.9877,     0.98776,     0.98782,\n",
       "            0.98789,     0.98795,     0.98801,     0.98807,     0.98813,     0.98819,     0.98826,     0.98832,     0.98838,     0.98844,      0.9885,     0.98856,     0.98863,     0.98869,     0.98875,     0.98881,     0.98887,     0.98893,       0.989,     0.98906,     0.98912,     0.98918,     0.98924,\n",
       "             0.9893,     0.98936,     0.98943,     0.98949,     0.98955,     0.98961,     0.98967,     0.98973,      0.9898,     0.98986,     0.98992,     0.98998,     0.99004,      0.9901,     0.99016,     0.99023,     0.99029,     0.99035,     0.99041,     0.99047,     0.99053,     0.99059,     0.99066,\n",
       "            0.99072,     0.99078,     0.99084,      0.9909,     0.99096,     0.99102,     0.99109,     0.99115,     0.99121,     0.99127,     0.99133,     0.99139,     0.99145,     0.99151,     0.99158,     0.99164,      0.9917,     0.99176,     0.99182,     0.99188,     0.99194,       0.992,     0.99207,\n",
       "            0.99213,     0.99219,     0.99225,     0.99231,     0.99237,     0.99243,     0.99249,     0.99256,     0.99262,     0.99268,     0.99274,      0.9928,     0.99286,     0.99292,     0.99298,     0.99304,     0.99311,     0.99317,     0.99323,     0.99329,     0.99335,     0.99341,     0.99347,\n",
       "            0.99353,     0.99359,     0.99366,     0.99372,     0.99378,     0.99384,      0.9939,     0.99396,     0.99402,     0.99408,     0.99414,      0.9942,     0.99426,     0.99433,     0.99439,     0.99445,     0.99451,     0.99457,     0.99463,     0.99469,     0.99475,     0.99481,     0.99487,\n",
       "            0.99494,       0.995,     0.99506,     0.99512,     0.99518,     0.99524,      0.9953,     0.99536,     0.99542,     0.99548,     0.99554,      0.9956,     0.99567,     0.99573,     0.99579,     0.99585,     0.99591,     0.99597,     0.99603,     0.99609,     0.99615,     0.99621,     0.99627,\n",
       "            0.99633,     0.99639,     0.99645,     0.99652,     0.99658,     0.99664,      0.9967,     0.99676,     0.99682,     0.99688,     0.99694,       0.997,     0.99706,     0.99712,     0.99718,     0.99724,      0.9973,     0.99736,     0.99742,     0.99749,     0.99755,     0.99761,     0.99767,\n",
       "            0.99773,     0.99779,     0.99785,     0.99791,     0.99797,     0.99803,     0.99809,     0.99815,     0.99821,     0.99827,     0.99833,     0.99839,     0.99845,     0.99851,     0.99857,     0.99863,      0.9987,     0.99876,     0.99882,     0.99888,     0.99894,       0.999,     0.99906,\n",
       "            0.99912,     0.99918,     0.99924,      0.9993,     0.99936,     0.99942,     0.99948,     0.99954,      0.9996,     0.99966,     0.99972,     0.99978,     0.99984,      0.9999,     0.99996,     0.99943,     0.99791,     0.99638,     0.99485,     0.99332,     0.99178,     0.99024,     0.98869,\n",
       "            0.98713,     0.98557,     0.98401,     0.98244,     0.98087,     0.97929,     0.97771,     0.97612,     0.97453,     0.97293,     0.97133,     0.96972,     0.96811,     0.96649,     0.96487,     0.96324,     0.96161,     0.95997,     0.95833,     0.95668,     0.95503,     0.95337,      0.9517,\n",
       "            0.95003,     0.94836,     0.94668,     0.94499,      0.9433,      0.9416,      0.9399,      0.9382,     0.93648,     0.93476,     0.93072,     0.91501,     0.89884,     0.88218,     0.86501,     0.74836,     0.66872,     0.55874,      0.4831,     0.40634,           0,           0,           0,\n",
       "                  0,           0,           0,           0,           0,           0,           0,           0,           0,           0,           0]]), 'Confidence', 'F1'], [array([          0,    0.001001,    0.002002,    0.003003,    0.004004,    0.005005,    0.006006,    0.007007,    0.008008,    0.009009,     0.01001,    0.011011,    0.012012,    0.013013,    0.014014,    0.015015,    0.016016,    0.017017,    0.018018,    0.019019,     0.02002,    0.021021,    0.022022,    0.023023,\n",
       "          0.024024,    0.025025,    0.026026,    0.027027,    0.028028,    0.029029,     0.03003,    0.031031,    0.032032,    0.033033,    0.034034,    0.035035,    0.036036,    0.037037,    0.038038,    0.039039,     0.04004,    0.041041,    0.042042,    0.043043,    0.044044,    0.045045,    0.046046,    0.047047,\n",
       "          0.048048,    0.049049,     0.05005,    0.051051,    0.052052,    0.053053,    0.054054,    0.055055,    0.056056,    0.057057,    0.058058,    0.059059,     0.06006,    0.061061,    0.062062,    0.063063,    0.064064,    0.065065,    0.066066,    0.067067,    0.068068,    0.069069,     0.07007,    0.071071,\n",
       "          0.072072,    0.073073,    0.074074,    0.075075,    0.076076,    0.077077,    0.078078,    0.079079,     0.08008,    0.081081,    0.082082,    0.083083,    0.084084,    0.085085,    0.086086,    0.087087,    0.088088,    0.089089,     0.09009,    0.091091,    0.092092,    0.093093,    0.094094,    0.095095,\n",
       "          0.096096,    0.097097,    0.098098,    0.099099,      0.1001,      0.1011,      0.1021,      0.1031,      0.1041,     0.10511,     0.10611,     0.10711,     0.10811,     0.10911,     0.11011,     0.11111,     0.11211,     0.11311,     0.11411,     0.11512,     0.11612,     0.11712,     0.11812,     0.11912,\n",
       "           0.12012,     0.12112,     0.12212,     0.12312,     0.12412,     0.12513,     0.12613,     0.12713,     0.12813,     0.12913,     0.13013,     0.13113,     0.13213,     0.13313,     0.13413,     0.13514,     0.13614,     0.13714,     0.13814,     0.13914,     0.14014,     0.14114,     0.14214,     0.14314,\n",
       "           0.14414,     0.14515,     0.14615,     0.14715,     0.14815,     0.14915,     0.15015,     0.15115,     0.15215,     0.15315,     0.15415,     0.15516,     0.15616,     0.15716,     0.15816,     0.15916,     0.16016,     0.16116,     0.16216,     0.16316,     0.16416,     0.16517,     0.16617,     0.16717,\n",
       "           0.16817,     0.16917,     0.17017,     0.17117,     0.17217,     0.17317,     0.17417,     0.17518,     0.17618,     0.17718,     0.17818,     0.17918,     0.18018,     0.18118,     0.18218,     0.18318,     0.18418,     0.18519,     0.18619,     0.18719,     0.18819,     0.18919,     0.19019,     0.19119,\n",
       "           0.19219,     0.19319,     0.19419,      0.1952,      0.1962,      0.1972,      0.1982,      0.1992,      0.2002,      0.2012,      0.2022,      0.2032,      0.2042,     0.20521,     0.20621,     0.20721,     0.20821,     0.20921,     0.21021,     0.21121,     0.21221,     0.21321,     0.21421,     0.21522,\n",
       "           0.21622,     0.21722,     0.21822,     0.21922,     0.22022,     0.22122,     0.22222,     0.22322,     0.22422,     0.22523,     0.22623,     0.22723,     0.22823,     0.22923,     0.23023,     0.23123,     0.23223,     0.23323,     0.23423,     0.23524,     0.23624,     0.23724,     0.23824,     0.23924,\n",
       "           0.24024,     0.24124,     0.24224,     0.24324,     0.24424,     0.24525,     0.24625,     0.24725,     0.24825,     0.24925,     0.25025,     0.25125,     0.25225,     0.25325,     0.25425,     0.25526,     0.25626,     0.25726,     0.25826,     0.25926,     0.26026,     0.26126,     0.26226,     0.26326,\n",
       "           0.26426,     0.26527,     0.26627,     0.26727,     0.26827,     0.26927,     0.27027,     0.27127,     0.27227,     0.27327,     0.27427,     0.27528,     0.27628,     0.27728,     0.27828,     0.27928,     0.28028,     0.28128,     0.28228,     0.28328,     0.28428,     0.28529,     0.28629,     0.28729,\n",
       "           0.28829,     0.28929,     0.29029,     0.29129,     0.29229,     0.29329,     0.29429,      0.2953,      0.2963,      0.2973,      0.2983,      0.2993,      0.3003,      0.3013,      0.3023,      0.3033,      0.3043,     0.30531,     0.30631,     0.30731,     0.30831,     0.30931,     0.31031,     0.31131,\n",
       "           0.31231,     0.31331,     0.31431,     0.31532,     0.31632,     0.31732,     0.31832,     0.31932,     0.32032,     0.32132,     0.32232,     0.32332,     0.32432,     0.32533,     0.32633,     0.32733,     0.32833,     0.32933,     0.33033,     0.33133,     0.33233,     0.33333,     0.33433,     0.33534,\n",
       "           0.33634,     0.33734,     0.33834,     0.33934,     0.34034,     0.34134,     0.34234,     0.34334,     0.34434,     0.34535,     0.34635,     0.34735,     0.34835,     0.34935,     0.35035,     0.35135,     0.35235,     0.35335,     0.35435,     0.35536,     0.35636,     0.35736,     0.35836,     0.35936,\n",
       "           0.36036,     0.36136,     0.36236,     0.36336,     0.36436,     0.36537,     0.36637,     0.36737,     0.36837,     0.36937,     0.37037,     0.37137,     0.37237,     0.37337,     0.37437,     0.37538,     0.37638,     0.37738,     0.37838,     0.37938,     0.38038,     0.38138,     0.38238,     0.38338,\n",
       "           0.38438,     0.38539,     0.38639,     0.38739,     0.38839,     0.38939,     0.39039,     0.39139,     0.39239,     0.39339,     0.39439,      0.3954,      0.3964,      0.3974,      0.3984,      0.3994,      0.4004,      0.4014,      0.4024,      0.4034,      0.4044,     0.40541,     0.40641,     0.40741,\n",
       "           0.40841,     0.40941,     0.41041,     0.41141,     0.41241,     0.41341,     0.41441,     0.41542,     0.41642,     0.41742,     0.41842,     0.41942,     0.42042,     0.42142,     0.42242,     0.42342,     0.42442,     0.42543,     0.42643,     0.42743,     0.42843,     0.42943,     0.43043,     0.43143,\n",
       "           0.43243,     0.43343,     0.43443,     0.43544,     0.43644,     0.43744,     0.43844,     0.43944,     0.44044,     0.44144,     0.44244,     0.44344,     0.44444,     0.44545,     0.44645,     0.44745,     0.44845,     0.44945,     0.45045,     0.45145,     0.45245,     0.45345,     0.45445,     0.45546,\n",
       "           0.45646,     0.45746,     0.45846,     0.45946,     0.46046,     0.46146,     0.46246,     0.46346,     0.46446,     0.46547,     0.46647,     0.46747,     0.46847,     0.46947,     0.47047,     0.47147,     0.47247,     0.47347,     0.47447,     0.47548,     0.47648,     0.47748,     0.47848,     0.47948,\n",
       "           0.48048,     0.48148,     0.48248,     0.48348,     0.48448,     0.48549,     0.48649,     0.48749,     0.48849,     0.48949,     0.49049,     0.49149,     0.49249,     0.49349,     0.49449,      0.4955,      0.4965,      0.4975,      0.4985,      0.4995,      0.5005,      0.5015,      0.5025,      0.5035,\n",
       "            0.5045,     0.50551,     0.50651,     0.50751,     0.50851,     0.50951,     0.51051,     0.51151,     0.51251,     0.51351,     0.51451,     0.51552,     0.51652,     0.51752,     0.51852,     0.51952,     0.52052,     0.52152,     0.52252,     0.52352,     0.52452,     0.52553,     0.52653,     0.52753,\n",
       "           0.52853,     0.52953,     0.53053,     0.53153,     0.53253,     0.53353,     0.53453,     0.53554,     0.53654,     0.53754,     0.53854,     0.53954,     0.54054,     0.54154,     0.54254,     0.54354,     0.54454,     0.54555,     0.54655,     0.54755,     0.54855,     0.54955,     0.55055,     0.55155,\n",
       "           0.55255,     0.55355,     0.55455,     0.55556,     0.55656,     0.55756,     0.55856,     0.55956,     0.56056,     0.56156,     0.56256,     0.56356,     0.56456,     0.56557,     0.56657,     0.56757,     0.56857,     0.56957,     0.57057,     0.57157,     0.57257,     0.57357,     0.57457,     0.57558,\n",
       "           0.57658,     0.57758,     0.57858,     0.57958,     0.58058,     0.58158,     0.58258,     0.58358,     0.58458,     0.58559,     0.58659,     0.58759,     0.58859,     0.58959,     0.59059,     0.59159,     0.59259,     0.59359,     0.59459,      0.5956,      0.5966,      0.5976,      0.5986,      0.5996,\n",
       "            0.6006,      0.6016,      0.6026,      0.6036,      0.6046,     0.60561,     0.60661,     0.60761,     0.60861,     0.60961,     0.61061,     0.61161,     0.61261,     0.61361,     0.61461,     0.61562,     0.61662,     0.61762,     0.61862,     0.61962,     0.62062,     0.62162,     0.62262,     0.62362,\n",
       "           0.62462,     0.62563,     0.62663,     0.62763,     0.62863,     0.62963,     0.63063,     0.63163,     0.63263,     0.63363,     0.63463,     0.63564,     0.63664,     0.63764,     0.63864,     0.63964,     0.64064,     0.64164,     0.64264,     0.64364,     0.64464,     0.64565,     0.64665,     0.64765,\n",
       "           0.64865,     0.64965,     0.65065,     0.65165,     0.65265,     0.65365,     0.65465,     0.65566,     0.65666,     0.65766,     0.65866,     0.65966,     0.66066,     0.66166,     0.66266,     0.66366,     0.66466,     0.66567,     0.66667,     0.66767,     0.66867,     0.66967,     0.67067,     0.67167,\n",
       "           0.67267,     0.67367,     0.67467,     0.67568,     0.67668,     0.67768,     0.67868,     0.67968,     0.68068,     0.68168,     0.68268,     0.68368,     0.68468,     0.68569,     0.68669,     0.68769,     0.68869,     0.68969,     0.69069,     0.69169,     0.69269,     0.69369,     0.69469,      0.6957,\n",
       "            0.6967,      0.6977,      0.6987,      0.6997,      0.7007,      0.7017,      0.7027,      0.7037,      0.7047,     0.70571,     0.70671,     0.70771,     0.70871,     0.70971,     0.71071,     0.71171,     0.71271,     0.71371,     0.71471,     0.71572,     0.71672,     0.71772,     0.71872,     0.71972,\n",
       "           0.72072,     0.72172,     0.72272,     0.72372,     0.72472,     0.72573,     0.72673,     0.72773,     0.72873,     0.72973,     0.73073,     0.73173,     0.73273,     0.73373,     0.73473,     0.73574,     0.73674,     0.73774,     0.73874,     0.73974,     0.74074,     0.74174,     0.74274,     0.74374,\n",
       "           0.74474,     0.74575,     0.74675,     0.74775,     0.74875,     0.74975,     0.75075,     0.75175,     0.75275,     0.75375,     0.75475,     0.75576,     0.75676,     0.75776,     0.75876,     0.75976,     0.76076,     0.76176,     0.76276,     0.76376,     0.76476,     0.76577,     0.76677,     0.76777,\n",
       "           0.76877,     0.76977,     0.77077,     0.77177,     0.77277,     0.77377,     0.77477,     0.77578,     0.77678,     0.77778,     0.77878,     0.77978,     0.78078,     0.78178,     0.78278,     0.78378,     0.78478,     0.78579,     0.78679,     0.78779,     0.78879,     0.78979,     0.79079,     0.79179,\n",
       "           0.79279,     0.79379,     0.79479,      0.7958,      0.7968,      0.7978,      0.7988,      0.7998,      0.8008,      0.8018,      0.8028,      0.8038,      0.8048,     0.80581,     0.80681,     0.80781,     0.80881,     0.80981,     0.81081,     0.81181,     0.81281,     0.81381,     0.81481,     0.81582,\n",
       "           0.81682,     0.81782,     0.81882,     0.81982,     0.82082,     0.82182,     0.82282,     0.82382,     0.82482,     0.82583,     0.82683,     0.82783,     0.82883,     0.82983,     0.83083,     0.83183,     0.83283,     0.83383,     0.83483,     0.83584,     0.83684,     0.83784,     0.83884,     0.83984,\n",
       "           0.84084,     0.84184,     0.84284,     0.84384,     0.84484,     0.84585,     0.84685,     0.84785,     0.84885,     0.84985,     0.85085,     0.85185,     0.85285,     0.85385,     0.85485,     0.85586,     0.85686,     0.85786,     0.85886,     0.85986,     0.86086,     0.86186,     0.86286,     0.86386,\n",
       "           0.86486,     0.86587,     0.86687,     0.86787,     0.86887,     0.86987,     0.87087,     0.87187,     0.87287,     0.87387,     0.87487,     0.87588,     0.87688,     0.87788,     0.87888,     0.87988,     0.88088,     0.88188,     0.88288,     0.88388,     0.88488,     0.88589,     0.88689,     0.88789,\n",
       "           0.88889,     0.88989,     0.89089,     0.89189,     0.89289,     0.89389,     0.89489,      0.8959,      0.8969,      0.8979,      0.8989,      0.8999,      0.9009,      0.9019,      0.9029,      0.9039,      0.9049,     0.90591,     0.90691,     0.90791,     0.90891,     0.90991,     0.91091,     0.91191,\n",
       "           0.91291,     0.91391,     0.91491,     0.91592,     0.91692,     0.91792,     0.91892,     0.91992,     0.92092,     0.92192,     0.92292,     0.92392,     0.92492,     0.92593,     0.92693,     0.92793,     0.92893,     0.92993,     0.93093,     0.93193,     0.93293,     0.93393,     0.93493,     0.93594,\n",
       "           0.93694,     0.93794,     0.93894,     0.93994,     0.94094,     0.94194,     0.94294,     0.94394,     0.94494,     0.94595,     0.94695,     0.94795,     0.94895,     0.94995,     0.95095,     0.95195,     0.95295,     0.95395,     0.95495,     0.95596,     0.95696,     0.95796,     0.95896,     0.95996,\n",
       "           0.96096,     0.96196,     0.96296,     0.96396,     0.96496,     0.96597,     0.96697,     0.96797,     0.96897,     0.96997,     0.97097,     0.97197,     0.97297,     0.97397,     0.97497,     0.97598,     0.97698,     0.97798,     0.97898,     0.97998,     0.98098,     0.98198,     0.98298,     0.98398,\n",
       "           0.98498,     0.98599,     0.98699,     0.98799,     0.98899,     0.98999,     0.99099,     0.99199,     0.99299,     0.99399,     0.99499,       0.996,       0.997,       0.998,       0.999,           1]), array([[  0.0033333,   0.0033333,   0.0056648,   0.0068124,   0.0076711,    0.011747,    0.024494,    0.070396,     0.15702,     0.31665,     0.41346,     0.68016,     0.84358,     0.88892,     0.88904,     0.88916,     0.88928,      0.8894,     0.88952,     0.88964,     0.88976,     0.88989,     0.89001,\n",
       "            0.89013,     0.89025,     0.89037,     0.89049,     0.89061,     0.89073,     0.89085,     0.89097,     0.89109,     0.89121,     0.89133,     0.89145,     0.89157,     0.89169,     0.89181,     0.89193,     0.89205,     0.89218,      0.8923,     0.89242,     0.89254,     0.89266,     0.89278,\n",
       "             0.8929,     0.89302,     0.89314,     0.89326,     0.89338,      0.8935,     0.89362,     0.89374,     0.89386,     0.89398,      0.8941,     0.89422,     0.89434,     0.89447,     0.89459,     0.89471,     0.89483,     0.89495,     0.89507,     0.89519,     0.89531,     0.89543,     0.89555,\n",
       "            0.89567,     0.89579,     0.89591,     0.89603,     0.89615,     0.89627,     0.89639,     0.89651,     0.89663,     0.89676,     0.89688,       0.897,     0.89712,     0.89724,     0.89736,     0.89748,      0.8976,     0.89772,     0.89784,     0.89796,     0.89808,      0.8982,     0.89832,\n",
       "            0.89844,     0.89856,     0.89868,      0.8988,     0.89892,     0.89905,     0.89917,     0.89929,     0.89941,     0.89953,     0.89965,     0.89977,     0.89989,     0.90001,     0.90013,     0.90025,     0.90037,     0.90049,     0.90061,     0.90073,     0.90085,     0.90097,     0.90109,\n",
       "            0.90121,     0.90134,     0.90146,     0.90158,      0.9017,     0.90182,     0.90194,     0.90206,     0.90218,      0.9023,     0.90242,     0.90254,     0.90266,     0.90278,      0.9029,     0.90302,     0.90314,     0.90326,     0.90338,      0.9035,     0.90363,     0.90375,     0.90387,\n",
       "            0.90399,     0.90411,     0.90423,     0.90435,     0.90447,     0.90459,     0.90471,     0.90483,     0.90495,     0.90507,     0.90519,     0.90531,     0.90543,     0.90555,     0.90567,     0.90579,     0.90592,     0.90604,     0.90616,     0.90628,      0.9064,     0.90652,     0.90664,\n",
       "            0.90676,     0.90688,       0.907,     0.90712,     0.90724,     0.90736,     0.90748,      0.9076,     0.90772,     0.90784,     0.90796,     0.90808,     0.90821,     0.90833,     0.90845,     0.90857,     0.90869,     0.90881,     0.90893,     0.90905,     0.90917,     0.90929,     0.90941,\n",
       "            0.90953,     0.90965,     0.90977,     0.90989,     0.91001,     0.91013,     0.91025,     0.91037,      0.9105,     0.91062,     0.91074,     0.91086,     0.91098,      0.9111,     0.91122,     0.91134,     0.91146,     0.91158,      0.9117,     0.91182,     0.91194,     0.91206,     0.91218,\n",
       "             0.9123,     0.91242,     0.91254,     0.91266,     0.91279,     0.91291,     0.91303,     0.91315,     0.91327,     0.91339,     0.91351,     0.91363,     0.91375,     0.91387,     0.91399,     0.91411,     0.91423,     0.91435,     0.91447,     0.91459,     0.91471,     0.91483,     0.91495,\n",
       "            0.91508,      0.9152,     0.91532,     0.91544,     0.91556,     0.91568,      0.9158,     0.91592,     0.91604,     0.91616,     0.91628,      0.9164,     0.91652,     0.91664,     0.91676,     0.91688,       0.917,     0.91712,     0.91724,     0.91737,     0.91749,     0.91761,     0.91773,\n",
       "            0.91785,     0.91797,     0.91809,     0.91821,     0.91833,     0.91845,     0.91857,     0.91869,     0.91881,     0.91893,     0.91905,     0.91917,     0.91929,     0.91941,     0.91953,     0.91966,     0.91978,      0.9199,     0.92002,     0.92014,     0.92026,     0.92038,      0.9205,\n",
       "            0.92062,     0.92074,     0.92086,     0.92098,      0.9211,     0.92122,     0.92134,     0.92146,     0.92158,      0.9217,     0.92182,     0.92195,     0.92207,     0.92219,     0.92231,     0.92243,     0.92255,     0.92267,     0.92279,     0.92291,     0.92303,     0.92315,     0.92327,\n",
       "            0.92339,     0.92351,     0.92363,     0.92375,     0.92387,     0.92399,     0.92411,     0.92424,     0.92436,     0.92448,      0.9246,     0.92472,     0.92484,     0.92496,     0.92508,      0.9252,     0.92532,     0.92544,     0.92556,     0.92568,      0.9258,     0.92592,     0.92604,\n",
       "            0.92616,     0.92628,      0.9264,     0.92652,     0.92665,     0.92677,     0.92689,     0.92701,     0.92713,     0.92725,     0.92737,     0.92749,     0.92761,     0.92773,     0.92785,     0.92797,     0.92809,     0.92821,     0.92833,     0.92845,     0.92857,     0.92869,     0.92881,\n",
       "            0.92894,     0.92906,     0.92918,      0.9293,     0.92942,     0.92954,     0.92966,     0.92978,      0.9299,     0.93002,     0.93014,     0.93026,     0.93038,      0.9305,     0.93062,     0.93074,     0.93086,     0.93098,      0.9311,     0.93123,     0.93135,     0.93147,     0.93159,\n",
       "            0.93171,     0.93183,     0.93195,     0.93207,     0.93219,     0.93231,     0.93243,     0.93255,     0.93267,     0.93279,     0.93291,     0.93303,     0.93315,     0.93327,     0.93339,     0.93352,     0.93364,     0.93376,     0.93388,       0.934,     0.93412,     0.93424,     0.93436,\n",
       "            0.93448,      0.9346,     0.93472,     0.93484,     0.93496,     0.93508,      0.9352,     0.93532,     0.93544,     0.93556,     0.93568,     0.93581,     0.93593,     0.93605,     0.93617,     0.93629,     0.93641,     0.93653,     0.93665,     0.93677,     0.93689,     0.93701,     0.93713,\n",
       "            0.93725,     0.93737,     0.93749,     0.93761,     0.93773,     0.93785,     0.93797,      0.9381,     0.93822,     0.93834,     0.93846,     0.93858,      0.9387,     0.93882,     0.93894,     0.93906,     0.93918,      0.9393,     0.93942,     0.93954,     0.93966,     0.93978,      0.9399,\n",
       "            0.94002,     0.94014,     0.94026,     0.94039,     0.94051,     0.94063,     0.94075,     0.94087,     0.94099,     0.94111,     0.94123,     0.94135,     0.94147,     0.94159,     0.94171,     0.94183,     0.94195,     0.94207,     0.94219,     0.94231,     0.94243,     0.94255,     0.94268,\n",
       "             0.9428,     0.94292,     0.94304,     0.94316,     0.94328,      0.9434,     0.94352,     0.94364,     0.94376,     0.94388,       0.944,     0.94412,     0.94424,     0.94436,     0.94448,      0.9446,     0.94472,     0.94484,     0.94497,     0.94509,     0.94521,     0.94533,     0.94545,\n",
       "            0.94557,     0.94569,     0.94581,     0.94593,     0.94605,     0.94617,     0.94629,     0.94641,     0.94653,     0.94665,     0.94677,     0.94689,     0.94701,     0.94713,     0.94726,     0.94738,      0.9475,     0.94762,     0.94774,     0.94786,     0.94798,      0.9481,     0.94822,\n",
       "            0.94834,     0.94846,     0.94858,      0.9487,     0.94882,     0.94894,     0.94906,     0.94918,      0.9493,     0.94942,     0.94955,     0.94967,     0.94979,     0.94991,     0.95003,     0.95015,     0.95027,     0.95039,     0.95051,     0.95063,     0.95075,     0.95087,     0.95099,\n",
       "            0.95111,     0.95123,     0.95135,     0.95147,     0.95159,     0.95171,     0.95184,     0.95196,     0.95208,      0.9522,     0.95232,     0.95244,     0.95256,     0.95268,      0.9528,     0.95292,     0.95304,     0.95316,     0.95328,      0.9534,     0.95352,     0.95364,     0.95376,\n",
       "            0.95388,       0.954,     0.95413,     0.95425,     0.95437,     0.95449,     0.95461,     0.95473,     0.95485,     0.95497,     0.95509,     0.95521,     0.95533,     0.95545,     0.95557,     0.95569,     0.95581,     0.95593,     0.95605,     0.95617,     0.95629,     0.95642,     0.95654,\n",
       "            0.95666,     0.95678,      0.9569,     0.95702,     0.95714,     0.95726,     0.95738,      0.9575,     0.95762,     0.95774,     0.95786,     0.95798,      0.9581,     0.95822,     0.95834,     0.95846,     0.95858,     0.95871,     0.95883,     0.95895,     0.95907,     0.95919,     0.95931,\n",
       "            0.95943,     0.95955,     0.95967,     0.95979,     0.95991,     0.96003,     0.96015,     0.96027,     0.96039,     0.96051,     0.96063,     0.96075,     0.96087,       0.961,     0.96112,     0.96124,     0.96136,     0.96148,      0.9616,     0.96172,     0.96184,     0.96196,     0.96208,\n",
       "             0.9622,     0.96232,     0.96244,     0.96256,     0.96268,      0.9628,     0.96292,     0.96304,     0.96316,     0.96329,     0.96341,     0.96353,     0.96365,     0.96377,     0.96389,     0.96401,     0.96413,     0.96425,     0.96437,     0.96449,     0.96461,     0.96473,     0.96485,\n",
       "            0.96497,     0.96509,     0.96521,     0.96533,     0.96545,     0.96558,      0.9657,     0.96582,     0.96594,     0.96606,     0.96618,      0.9663,     0.96642,     0.96654,     0.96666,     0.96678,      0.9669,     0.96702,     0.96714,     0.96726,     0.96738,      0.9675,     0.96762,\n",
       "            0.96774,     0.96787,     0.96799,     0.96811,     0.96823,     0.96835,     0.96847,     0.96859,     0.96871,     0.96883,     0.96895,     0.96907,     0.96919,     0.96931,     0.96943,     0.96955,     0.96967,     0.96979,     0.96991,     0.97003,     0.97016,     0.97028,      0.9704,\n",
       "            0.97052,     0.97064,     0.97076,     0.97088,       0.971,     0.97112,     0.97124,     0.97136,     0.97148,      0.9716,     0.97172,     0.97184,     0.97196,     0.97208,      0.9722,     0.97232,     0.97245,     0.97257,     0.97269,     0.97281,     0.97293,     0.97305,     0.97317,\n",
       "            0.97329,     0.97341,     0.97353,     0.97365,     0.97377,     0.97389,     0.97401,     0.97413,     0.97425,     0.97437,     0.97449,     0.97461,     0.97473,     0.97486,     0.97498,      0.9751,     0.97522,     0.97534,     0.97546,     0.97558,      0.9757,     0.97582,     0.97594,\n",
       "            0.97606,     0.97618,      0.9763,     0.97642,     0.97654,     0.97666,     0.97678,      0.9769,     0.97702,     0.97715,     0.97727,     0.97739,     0.97751,     0.97763,     0.97775,     0.97787,     0.97799,     0.97811,     0.97823,     0.97835,     0.97847,     0.97859,     0.97871,\n",
       "            0.97883,     0.97895,     0.97907,     0.97919,     0.97931,     0.97944,     0.97956,     0.97968,      0.9798,     0.97992,     0.98004,     0.98016,     0.98028,      0.9804,     0.98052,     0.98064,     0.98076,     0.98088,       0.981,     0.98112,     0.98124,     0.98136,     0.98148,\n",
       "             0.9816,     0.98173,     0.98185,     0.98197,     0.98209,     0.98221,     0.98233,     0.98245,     0.98257,     0.98269,     0.98281,     0.98293,     0.98305,     0.98317,     0.98329,     0.98341,     0.98353,     0.98365,     0.98377,     0.98389,     0.98402,     0.98414,     0.98426,\n",
       "            0.98438,      0.9845,     0.98462,     0.98474,     0.98486,     0.98498,      0.9851,     0.98522,     0.98534,     0.98546,     0.98558,      0.9857,     0.98582,     0.98594,     0.98606,     0.98618,     0.98631,     0.98643,     0.98655,     0.98667,     0.98679,     0.98691,     0.98703,\n",
       "            0.98715,     0.98727,     0.98739,     0.98751,     0.98763,     0.98775,     0.98787,     0.98799,     0.98811,     0.98823,     0.98835,     0.98847,      0.9886,     0.98872,     0.98884,     0.98896,     0.98908,      0.9892,     0.98932,     0.98944,     0.98956,     0.98968,      0.9898,\n",
       "            0.98992,     0.99004,     0.99016,     0.99028,      0.9904,     0.99052,     0.99064,     0.99076,     0.99089,     0.99101,     0.99113,     0.99125,     0.99137,     0.99149,     0.99161,     0.99173,     0.99185,     0.99197,     0.99209,     0.99221,     0.99233,     0.99245,     0.99257,\n",
       "            0.99269,     0.99281,     0.99293,     0.99305,     0.99318,      0.9933,     0.99342,     0.99354,     0.99366,     0.99378,      0.9939,     0.99402,     0.99414,     0.99426,     0.99438,      0.9945,     0.99462,     0.99474,     0.99486,     0.99498,      0.9951,     0.99522,     0.99534,\n",
       "            0.99547,     0.99559,     0.99571,     0.99583,     0.99595,     0.99607,     0.99619,     0.99631,     0.99643,     0.99655,     0.99667,     0.99679,     0.99691,     0.99703,     0.99715,     0.99727,     0.99739,     0.99751,     0.99763,     0.99776,     0.99788,       0.998,     0.99812,\n",
       "            0.99824,     0.99836,     0.99848,      0.9986,     0.99872,     0.99884,     0.99896,     0.99908,      0.9992,     0.99932,     0.99944,     0.99956,     0.99968,      0.9998,     0.99992,           1,           1,           1,           1,           1,           1,           1,           1,\n",
       "                  1,           1,           1,           1,           1,           1,           1,           1,           1,           1,           1,           1,           1,           1,           1,           1,           1,           1,           1,           1,           1,           1,           1,\n",
       "                  1,           1,           1,           1,           1,           1,           1,           1,           1,           1,           1,           1,           1,           1,           1,           1,           1,           1,           1,           1,           1,           1,           1,\n",
       "                  1,           1,           1,           1,           1,           1,           1,           1,           1,           1,           1]]), 'Confidence', 'Precision'], [array([          0,    0.001001,    0.002002,    0.003003,    0.004004,    0.005005,    0.006006,    0.007007,    0.008008,    0.009009,     0.01001,    0.011011,    0.012012,    0.013013,    0.014014,    0.015015,    0.016016,    0.017017,    0.018018,    0.019019,     0.02002,    0.021021,    0.022022,    0.023023,\n",
       "          0.024024,    0.025025,    0.026026,    0.027027,    0.028028,    0.029029,     0.03003,    0.031031,    0.032032,    0.033033,    0.034034,    0.035035,    0.036036,    0.037037,    0.038038,    0.039039,     0.04004,    0.041041,    0.042042,    0.043043,    0.044044,    0.045045,    0.046046,    0.047047,\n",
       "          0.048048,    0.049049,     0.05005,    0.051051,    0.052052,    0.053053,    0.054054,    0.055055,    0.056056,    0.057057,    0.058058,    0.059059,     0.06006,    0.061061,    0.062062,    0.063063,    0.064064,    0.065065,    0.066066,    0.067067,    0.068068,    0.069069,     0.07007,    0.071071,\n",
       "          0.072072,    0.073073,    0.074074,    0.075075,    0.076076,    0.077077,    0.078078,    0.079079,     0.08008,    0.081081,    0.082082,    0.083083,    0.084084,    0.085085,    0.086086,    0.087087,    0.088088,    0.089089,     0.09009,    0.091091,    0.092092,    0.093093,    0.094094,    0.095095,\n",
       "          0.096096,    0.097097,    0.098098,    0.099099,      0.1001,      0.1011,      0.1021,      0.1031,      0.1041,     0.10511,     0.10611,     0.10711,     0.10811,     0.10911,     0.11011,     0.11111,     0.11211,     0.11311,     0.11411,     0.11512,     0.11612,     0.11712,     0.11812,     0.11912,\n",
       "           0.12012,     0.12112,     0.12212,     0.12312,     0.12412,     0.12513,     0.12613,     0.12713,     0.12813,     0.12913,     0.13013,     0.13113,     0.13213,     0.13313,     0.13413,     0.13514,     0.13614,     0.13714,     0.13814,     0.13914,     0.14014,     0.14114,     0.14214,     0.14314,\n",
       "           0.14414,     0.14515,     0.14615,     0.14715,     0.14815,     0.14915,     0.15015,     0.15115,     0.15215,     0.15315,     0.15415,     0.15516,     0.15616,     0.15716,     0.15816,     0.15916,     0.16016,     0.16116,     0.16216,     0.16316,     0.16416,     0.16517,     0.16617,     0.16717,\n",
       "           0.16817,     0.16917,     0.17017,     0.17117,     0.17217,     0.17317,     0.17417,     0.17518,     0.17618,     0.17718,     0.17818,     0.17918,     0.18018,     0.18118,     0.18218,     0.18318,     0.18418,     0.18519,     0.18619,     0.18719,     0.18819,     0.18919,     0.19019,     0.19119,\n",
       "           0.19219,     0.19319,     0.19419,      0.1952,      0.1962,      0.1972,      0.1982,      0.1992,      0.2002,      0.2012,      0.2022,      0.2032,      0.2042,     0.20521,     0.20621,     0.20721,     0.20821,     0.20921,     0.21021,     0.21121,     0.21221,     0.21321,     0.21421,     0.21522,\n",
       "           0.21622,     0.21722,     0.21822,     0.21922,     0.22022,     0.22122,     0.22222,     0.22322,     0.22422,     0.22523,     0.22623,     0.22723,     0.22823,     0.22923,     0.23023,     0.23123,     0.23223,     0.23323,     0.23423,     0.23524,     0.23624,     0.23724,     0.23824,     0.23924,\n",
       "           0.24024,     0.24124,     0.24224,     0.24324,     0.24424,     0.24525,     0.24625,     0.24725,     0.24825,     0.24925,     0.25025,     0.25125,     0.25225,     0.25325,     0.25425,     0.25526,     0.25626,     0.25726,     0.25826,     0.25926,     0.26026,     0.26126,     0.26226,     0.26326,\n",
       "           0.26426,     0.26527,     0.26627,     0.26727,     0.26827,     0.26927,     0.27027,     0.27127,     0.27227,     0.27327,     0.27427,     0.27528,     0.27628,     0.27728,     0.27828,     0.27928,     0.28028,     0.28128,     0.28228,     0.28328,     0.28428,     0.28529,     0.28629,     0.28729,\n",
       "           0.28829,     0.28929,     0.29029,     0.29129,     0.29229,     0.29329,     0.29429,      0.2953,      0.2963,      0.2973,      0.2983,      0.2993,      0.3003,      0.3013,      0.3023,      0.3033,      0.3043,     0.30531,     0.30631,     0.30731,     0.30831,     0.30931,     0.31031,     0.31131,\n",
       "           0.31231,     0.31331,     0.31431,     0.31532,     0.31632,     0.31732,     0.31832,     0.31932,     0.32032,     0.32132,     0.32232,     0.32332,     0.32432,     0.32533,     0.32633,     0.32733,     0.32833,     0.32933,     0.33033,     0.33133,     0.33233,     0.33333,     0.33433,     0.33534,\n",
       "           0.33634,     0.33734,     0.33834,     0.33934,     0.34034,     0.34134,     0.34234,     0.34334,     0.34434,     0.34535,     0.34635,     0.34735,     0.34835,     0.34935,     0.35035,     0.35135,     0.35235,     0.35335,     0.35435,     0.35536,     0.35636,     0.35736,     0.35836,     0.35936,\n",
       "           0.36036,     0.36136,     0.36236,     0.36336,     0.36436,     0.36537,     0.36637,     0.36737,     0.36837,     0.36937,     0.37037,     0.37137,     0.37237,     0.37337,     0.37437,     0.37538,     0.37638,     0.37738,     0.37838,     0.37938,     0.38038,     0.38138,     0.38238,     0.38338,\n",
       "           0.38438,     0.38539,     0.38639,     0.38739,     0.38839,     0.38939,     0.39039,     0.39139,     0.39239,     0.39339,     0.39439,      0.3954,      0.3964,      0.3974,      0.3984,      0.3994,      0.4004,      0.4014,      0.4024,      0.4034,      0.4044,     0.40541,     0.40641,     0.40741,\n",
       "           0.40841,     0.40941,     0.41041,     0.41141,     0.41241,     0.41341,     0.41441,     0.41542,     0.41642,     0.41742,     0.41842,     0.41942,     0.42042,     0.42142,     0.42242,     0.42342,     0.42442,     0.42543,     0.42643,     0.42743,     0.42843,     0.42943,     0.43043,     0.43143,\n",
       "           0.43243,     0.43343,     0.43443,     0.43544,     0.43644,     0.43744,     0.43844,     0.43944,     0.44044,     0.44144,     0.44244,     0.44344,     0.44444,     0.44545,     0.44645,     0.44745,     0.44845,     0.44945,     0.45045,     0.45145,     0.45245,     0.45345,     0.45445,     0.45546,\n",
       "           0.45646,     0.45746,     0.45846,     0.45946,     0.46046,     0.46146,     0.46246,     0.46346,     0.46446,     0.46547,     0.46647,     0.46747,     0.46847,     0.46947,     0.47047,     0.47147,     0.47247,     0.47347,     0.47447,     0.47548,     0.47648,     0.47748,     0.47848,     0.47948,\n",
       "           0.48048,     0.48148,     0.48248,     0.48348,     0.48448,     0.48549,     0.48649,     0.48749,     0.48849,     0.48949,     0.49049,     0.49149,     0.49249,     0.49349,     0.49449,      0.4955,      0.4965,      0.4975,      0.4985,      0.4995,      0.5005,      0.5015,      0.5025,      0.5035,\n",
       "            0.5045,     0.50551,     0.50651,     0.50751,     0.50851,     0.50951,     0.51051,     0.51151,     0.51251,     0.51351,     0.51451,     0.51552,     0.51652,     0.51752,     0.51852,     0.51952,     0.52052,     0.52152,     0.52252,     0.52352,     0.52452,     0.52553,     0.52653,     0.52753,\n",
       "           0.52853,     0.52953,     0.53053,     0.53153,     0.53253,     0.53353,     0.53453,     0.53554,     0.53654,     0.53754,     0.53854,     0.53954,     0.54054,     0.54154,     0.54254,     0.54354,     0.54454,     0.54555,     0.54655,     0.54755,     0.54855,     0.54955,     0.55055,     0.55155,\n",
       "           0.55255,     0.55355,     0.55455,     0.55556,     0.55656,     0.55756,     0.55856,     0.55956,     0.56056,     0.56156,     0.56256,     0.56356,     0.56456,     0.56557,     0.56657,     0.56757,     0.56857,     0.56957,     0.57057,     0.57157,     0.57257,     0.57357,     0.57457,     0.57558,\n",
       "           0.57658,     0.57758,     0.57858,     0.57958,     0.58058,     0.58158,     0.58258,     0.58358,     0.58458,     0.58559,     0.58659,     0.58759,     0.58859,     0.58959,     0.59059,     0.59159,     0.59259,     0.59359,     0.59459,      0.5956,      0.5966,      0.5976,      0.5986,      0.5996,\n",
       "            0.6006,      0.6016,      0.6026,      0.6036,      0.6046,     0.60561,     0.60661,     0.60761,     0.60861,     0.60961,     0.61061,     0.61161,     0.61261,     0.61361,     0.61461,     0.61562,     0.61662,     0.61762,     0.61862,     0.61962,     0.62062,     0.62162,     0.62262,     0.62362,\n",
       "           0.62462,     0.62563,     0.62663,     0.62763,     0.62863,     0.62963,     0.63063,     0.63163,     0.63263,     0.63363,     0.63463,     0.63564,     0.63664,     0.63764,     0.63864,     0.63964,     0.64064,     0.64164,     0.64264,     0.64364,     0.64464,     0.64565,     0.64665,     0.64765,\n",
       "           0.64865,     0.64965,     0.65065,     0.65165,     0.65265,     0.65365,     0.65465,     0.65566,     0.65666,     0.65766,     0.65866,     0.65966,     0.66066,     0.66166,     0.66266,     0.66366,     0.66466,     0.66567,     0.66667,     0.66767,     0.66867,     0.66967,     0.67067,     0.67167,\n",
       "           0.67267,     0.67367,     0.67467,     0.67568,     0.67668,     0.67768,     0.67868,     0.67968,     0.68068,     0.68168,     0.68268,     0.68368,     0.68468,     0.68569,     0.68669,     0.68769,     0.68869,     0.68969,     0.69069,     0.69169,     0.69269,     0.69369,     0.69469,      0.6957,\n",
       "            0.6967,      0.6977,      0.6987,      0.6997,      0.7007,      0.7017,      0.7027,      0.7037,      0.7047,     0.70571,     0.70671,     0.70771,     0.70871,     0.70971,     0.71071,     0.71171,     0.71271,     0.71371,     0.71471,     0.71572,     0.71672,     0.71772,     0.71872,     0.71972,\n",
       "           0.72072,     0.72172,     0.72272,     0.72372,     0.72472,     0.72573,     0.72673,     0.72773,     0.72873,     0.72973,     0.73073,     0.73173,     0.73273,     0.73373,     0.73473,     0.73574,     0.73674,     0.73774,     0.73874,     0.73974,     0.74074,     0.74174,     0.74274,     0.74374,\n",
       "           0.74474,     0.74575,     0.74675,     0.74775,     0.74875,     0.74975,     0.75075,     0.75175,     0.75275,     0.75375,     0.75475,     0.75576,     0.75676,     0.75776,     0.75876,     0.75976,     0.76076,     0.76176,     0.76276,     0.76376,     0.76476,     0.76577,     0.76677,     0.76777,\n",
       "           0.76877,     0.76977,     0.77077,     0.77177,     0.77277,     0.77377,     0.77477,     0.77578,     0.77678,     0.77778,     0.77878,     0.77978,     0.78078,     0.78178,     0.78278,     0.78378,     0.78478,     0.78579,     0.78679,     0.78779,     0.78879,     0.78979,     0.79079,     0.79179,\n",
       "           0.79279,     0.79379,     0.79479,      0.7958,      0.7968,      0.7978,      0.7988,      0.7998,      0.8008,      0.8018,      0.8028,      0.8038,      0.8048,     0.80581,     0.80681,     0.80781,     0.80881,     0.80981,     0.81081,     0.81181,     0.81281,     0.81381,     0.81481,     0.81582,\n",
       "           0.81682,     0.81782,     0.81882,     0.81982,     0.82082,     0.82182,     0.82282,     0.82382,     0.82482,     0.82583,     0.82683,     0.82783,     0.82883,     0.82983,     0.83083,     0.83183,     0.83283,     0.83383,     0.83483,     0.83584,     0.83684,     0.83784,     0.83884,     0.83984,\n",
       "           0.84084,     0.84184,     0.84284,     0.84384,     0.84484,     0.84585,     0.84685,     0.84785,     0.84885,     0.84985,     0.85085,     0.85185,     0.85285,     0.85385,     0.85485,     0.85586,     0.85686,     0.85786,     0.85886,     0.85986,     0.86086,     0.86186,     0.86286,     0.86386,\n",
       "           0.86486,     0.86587,     0.86687,     0.86787,     0.86887,     0.86987,     0.87087,     0.87187,     0.87287,     0.87387,     0.87487,     0.87588,     0.87688,     0.87788,     0.87888,     0.87988,     0.88088,     0.88188,     0.88288,     0.88388,     0.88488,     0.88589,     0.88689,     0.88789,\n",
       "           0.88889,     0.88989,     0.89089,     0.89189,     0.89289,     0.89389,     0.89489,      0.8959,      0.8969,      0.8979,      0.8989,      0.8999,      0.9009,      0.9019,      0.9029,      0.9039,      0.9049,     0.90591,     0.90691,     0.90791,     0.90891,     0.90991,     0.91091,     0.91191,\n",
       "           0.91291,     0.91391,     0.91491,     0.91592,     0.91692,     0.91792,     0.91892,     0.91992,     0.92092,     0.92192,     0.92292,     0.92392,     0.92492,     0.92593,     0.92693,     0.92793,     0.92893,     0.92993,     0.93093,     0.93193,     0.93293,     0.93393,     0.93493,     0.93594,\n",
       "           0.93694,     0.93794,     0.93894,     0.93994,     0.94094,     0.94194,     0.94294,     0.94394,     0.94494,     0.94595,     0.94695,     0.94795,     0.94895,     0.94995,     0.95095,     0.95195,     0.95295,     0.95395,     0.95495,     0.95596,     0.95696,     0.95796,     0.95896,     0.95996,\n",
       "           0.96096,     0.96196,     0.96296,     0.96396,     0.96496,     0.96597,     0.96697,     0.96797,     0.96897,     0.96997,     0.97097,     0.97197,     0.97297,     0.97397,     0.97497,     0.97598,     0.97698,     0.97798,     0.97898,     0.97998,     0.98098,     0.98198,     0.98298,     0.98398,\n",
       "           0.98498,     0.98599,     0.98699,     0.98799,     0.98899,     0.98999,     0.99099,     0.99199,     0.99299,     0.99399,     0.99499,       0.996,       0.997,       0.998,       0.999,           1]), array([[          1,           1,           1,           1,           1,           1,           1,           1,           1,           1,           1,           1,           1,           1,           1,           1,           1,           1,           1,           1,           1,           1,           1,\n",
       "                  1,           1,           1,           1,           1,           1,           1,           1,           1,           1,           1,           1,           1,           1,           1,           1,           1,           1,           1,           1,           1,           1,           1,\n",
       "                  1,           1,           1,           1,           1,           1,           1,           1,           1,           1,           1,           1,           1,           1,           1,           1,           1,           1,           1,           1,           1,           1,           1,\n",
       "                  1,           1,           1,           1,           1,           1,           1,           1,           1,           1,           1,           1,           1,           1,           1,           1,           1,           1,           1,           1,           1,           1,           1,\n",
       "                  1,           1,           1,           1,           1,           1,           1,           1,           1,           1,           1,           1,           1,           1,           1,           1,           1,           1,           1,           1,           1,           1,           1,\n",
       "                  1,           1,           1,           1,           1,           1,           1,           1,           1,           1,           1,           1,           1,           1,           1,           1,           1,           1,           1,           1,           1,           1,           1,\n",
       "                  1,           1,           1,           1,           1,           1,           1,           1,           1,           1,           1,           1,           1,           1,           1,           1,           1,           1,           1,           1,           1,           1,           1,\n",
       "                  1,           1,           1,           1,           1,           1,           1,           1,           1,           1,           1,           1,           1,           1,           1,           1,           1,           1,           1,           1,           1,           1,           1,\n",
       "                  1,           1,           1,           1,           1,           1,           1,           1,           1,           1,           1,           1,           1,           1,           1,           1,           1,           1,           1,           1,           1,           1,           1,\n",
       "                  1,           1,           1,           1,           1,           1,           1,           1,           1,           1,           1,           1,           1,           1,           1,           1,           1,           1,           1,           1,           1,           1,           1,\n",
       "                  1,           1,           1,           1,           1,           1,           1,           1,           1,           1,           1,           1,           1,           1,           1,           1,           1,           1,           1,           1,           1,           1,           1,\n",
       "                  1,           1,           1,           1,           1,           1,           1,           1,           1,           1,           1,           1,           1,           1,           1,           1,           1,           1,           1,           1,           1,           1,           1,\n",
       "                  1,           1,           1,           1,           1,           1,           1,           1,           1,           1,           1,           1,           1,           1,           1,           1,           1,           1,           1,           1,           1,           1,           1,\n",
       "                  1,           1,           1,           1,           1,           1,           1,           1,           1,           1,           1,           1,           1,           1,           1,           1,           1,           1,           1,           1,           1,           1,           1,\n",
       "                  1,           1,           1,           1,           1,           1,           1,           1,           1,           1,           1,           1,           1,           1,           1,           1,           1,           1,           1,           1,           1,           1,           1,\n",
       "                  1,           1,           1,           1,           1,           1,           1,           1,           1,           1,           1,           1,           1,           1,           1,           1,           1,           1,           1,           1,           1,           1,           1,\n",
       "                  1,           1,           1,           1,           1,           1,           1,           1,           1,           1,           1,           1,           1,           1,           1,           1,           1,           1,           1,           1,           1,           1,           1,\n",
       "                  1,           1,           1,           1,           1,           1,           1,           1,           1,           1,           1,           1,           1,           1,           1,           1,           1,           1,           1,           1,           1,           1,           1,\n",
       "                  1,           1,           1,           1,           1,           1,           1,           1,           1,           1,           1,           1,           1,           1,           1,           1,           1,           1,           1,           1,           1,           1,           1,\n",
       "                  1,           1,           1,           1,           1,           1,           1,           1,           1,           1,           1,           1,           1,           1,           1,           1,           1,           1,           1,           1,           1,           1,           1,\n",
       "                  1,           1,           1,           1,           1,           1,           1,           1,           1,           1,           1,           1,           1,           1,           1,           1,           1,           1,           1,           1,           1,           1,           1,\n",
       "                  1,           1,           1,           1,           1,           1,           1,           1,           1,           1,           1,           1,           1,           1,           1,           1,           1,           1,           1,           1,           1,           1,           1,\n",
       "                  1,           1,           1,           1,           1,           1,           1,           1,           1,           1,           1,           1,           1,           1,           1,           1,           1,           1,           1,           1,           1,           1,           1,\n",
       "                  1,           1,           1,           1,           1,           1,           1,           1,           1,           1,           1,           1,           1,           1,           1,           1,           1,           1,           1,           1,           1,           1,           1,\n",
       "                  1,           1,           1,           1,           1,           1,           1,           1,           1,           1,           1,           1,           1,           1,           1,           1,           1,           1,           1,           1,           1,           1,           1,\n",
       "                  1,           1,           1,           1,           1,           1,           1,           1,           1,           1,           1,           1,           1,           1,           1,           1,           1,           1,           1,           1,           1,           1,           1,\n",
       "                  1,           1,           1,           1,           1,           1,           1,           1,           1,           1,           1,           1,           1,           1,           1,           1,           1,           1,           1,           1,           1,           1,           1,\n",
       "                  1,           1,           1,           1,           1,           1,           1,           1,           1,           1,           1,           1,           1,           1,           1,           1,           1,           1,           1,           1,           1,           1,           1,\n",
       "                  1,           1,           1,           1,           1,           1,           1,           1,           1,           1,           1,           1,           1,           1,           1,           1,           1,           1,           1,           1,           1,           1,           1,\n",
       "                  1,           1,           1,           1,           1,           1,           1,           1,           1,           1,           1,           1,           1,           1,           1,           1,           1,           1,           1,           1,           1,           1,           1,\n",
       "                  1,           1,           1,           1,           1,           1,           1,           1,           1,           1,           1,           1,           1,           1,           1,           1,           1,           1,           1,           1,           1,           1,           1,\n",
       "                  1,           1,           1,           1,           1,           1,           1,           1,           1,           1,           1,           1,           1,           1,           1,           1,           1,           1,           1,           1,           1,           1,           1,\n",
       "                  1,           1,           1,           1,           1,           1,           1,           1,           1,           1,           1,           1,           1,           1,           1,           1,           1,           1,           1,           1,           1,           1,           1,\n",
       "                  1,           1,           1,           1,           1,           1,           1,           1,           1,           1,           1,           1,           1,           1,           1,           1,           1,           1,           1,           1,           1,           1,           1,\n",
       "                  1,           1,           1,           1,           1,           1,           1,           1,           1,           1,           1,           1,           1,           1,           1,           1,           1,           1,           1,           1,           1,           1,           1,\n",
       "                  1,           1,           1,           1,           1,           1,           1,           1,           1,           1,           1,           1,           1,           1,           1,           1,           1,           1,           1,           1,           1,           1,           1,\n",
       "                  1,           1,           1,           1,           1,           1,           1,           1,           1,           1,           1,           1,           1,           1,           1,           1,           1,           1,           1,           1,           1,           1,           1,\n",
       "                  1,           1,           1,           1,           1,           1,           1,           1,           1,           1,           1,           1,           1,           1,           1,           1,           1,           1,           1,           1,           1,           1,           1,\n",
       "                  1,           1,           1,           1,           1,           1,           1,           1,           1,           1,           1,           1,           1,           1,           1,           1,           1,           1,           1,           1,           1,           1,           1,\n",
       "                  1,           1,           1,           1,           1,           1,           1,           1,           1,           1,           1,           1,           1,           1,           1,           1,           1,           1,           1,           1,           1,           1,           1,\n",
       "                  1,           1,           1,           1,           1,           1,           1,           1,           1,           1,           1,           1,           1,           1,           1,     0.99886,     0.99583,     0.99279,     0.98976,     0.98673,     0.98369,     0.98066,     0.97763,\n",
       "            0.97459,     0.97156,     0.96853,     0.96549,     0.96246,     0.95943,     0.95639,     0.95336,     0.95032,     0.94729,     0.94426,     0.94122,     0.93819,     0.93516,     0.93212,     0.92909,     0.92606,     0.92302,     0.91999,     0.91696,     0.91392,     0.91089,     0.90785,\n",
       "            0.90482,     0.90179,     0.89875,     0.89572,     0.89269,     0.88965,     0.88662,     0.88359,     0.88055,     0.87752,     0.87041,     0.84334,     0.81627,      0.7892,     0.76213,      0.5979,     0.50231,     0.38767,     0.31848,     0.25497,           0,           0,           0,\n",
       "                  0,           0,           0,           0,           0,           0,           0,           0,           0,           0,           0]]), 'Confidence', 'Recall'], [array([          0,    0.001001,    0.002002,    0.003003,    0.004004,    0.005005,    0.006006,    0.007007,    0.008008,    0.009009,     0.01001,    0.011011,    0.012012,    0.013013,    0.014014,    0.015015,    0.016016,    0.017017,    0.018018,    0.019019,     0.02002,    0.021021,    0.022022,    0.023023,\n",
       "          0.024024,    0.025025,    0.026026,    0.027027,    0.028028,    0.029029,     0.03003,    0.031031,    0.032032,    0.033033,    0.034034,    0.035035,    0.036036,    0.037037,    0.038038,    0.039039,     0.04004,    0.041041,    0.042042,    0.043043,    0.044044,    0.045045,    0.046046,    0.047047,\n",
       "          0.048048,    0.049049,     0.05005,    0.051051,    0.052052,    0.053053,    0.054054,    0.055055,    0.056056,    0.057057,    0.058058,    0.059059,     0.06006,    0.061061,    0.062062,    0.063063,    0.064064,    0.065065,    0.066066,    0.067067,    0.068068,    0.069069,     0.07007,    0.071071,\n",
       "          0.072072,    0.073073,    0.074074,    0.075075,    0.076076,    0.077077,    0.078078,    0.079079,     0.08008,    0.081081,    0.082082,    0.083083,    0.084084,    0.085085,    0.086086,    0.087087,    0.088088,    0.089089,     0.09009,    0.091091,    0.092092,    0.093093,    0.094094,    0.095095,\n",
       "          0.096096,    0.097097,    0.098098,    0.099099,      0.1001,      0.1011,      0.1021,      0.1031,      0.1041,     0.10511,     0.10611,     0.10711,     0.10811,     0.10911,     0.11011,     0.11111,     0.11211,     0.11311,     0.11411,     0.11512,     0.11612,     0.11712,     0.11812,     0.11912,\n",
       "           0.12012,     0.12112,     0.12212,     0.12312,     0.12412,     0.12513,     0.12613,     0.12713,     0.12813,     0.12913,     0.13013,     0.13113,     0.13213,     0.13313,     0.13413,     0.13514,     0.13614,     0.13714,     0.13814,     0.13914,     0.14014,     0.14114,     0.14214,     0.14314,\n",
       "           0.14414,     0.14515,     0.14615,     0.14715,     0.14815,     0.14915,     0.15015,     0.15115,     0.15215,     0.15315,     0.15415,     0.15516,     0.15616,     0.15716,     0.15816,     0.15916,     0.16016,     0.16116,     0.16216,     0.16316,     0.16416,     0.16517,     0.16617,     0.16717,\n",
       "           0.16817,     0.16917,     0.17017,     0.17117,     0.17217,     0.17317,     0.17417,     0.17518,     0.17618,     0.17718,     0.17818,     0.17918,     0.18018,     0.18118,     0.18218,     0.18318,     0.18418,     0.18519,     0.18619,     0.18719,     0.18819,     0.18919,     0.19019,     0.19119,\n",
       "           0.19219,     0.19319,     0.19419,      0.1952,      0.1962,      0.1972,      0.1982,      0.1992,      0.2002,      0.2012,      0.2022,      0.2032,      0.2042,     0.20521,     0.20621,     0.20721,     0.20821,     0.20921,     0.21021,     0.21121,     0.21221,     0.21321,     0.21421,     0.21522,\n",
       "           0.21622,     0.21722,     0.21822,     0.21922,     0.22022,     0.22122,     0.22222,     0.22322,     0.22422,     0.22523,     0.22623,     0.22723,     0.22823,     0.22923,     0.23023,     0.23123,     0.23223,     0.23323,     0.23423,     0.23524,     0.23624,     0.23724,     0.23824,     0.23924,\n",
       "           0.24024,     0.24124,     0.24224,     0.24324,     0.24424,     0.24525,     0.24625,     0.24725,     0.24825,     0.24925,     0.25025,     0.25125,     0.25225,     0.25325,     0.25425,     0.25526,     0.25626,     0.25726,     0.25826,     0.25926,     0.26026,     0.26126,     0.26226,     0.26326,\n",
       "           0.26426,     0.26527,     0.26627,     0.26727,     0.26827,     0.26927,     0.27027,     0.27127,     0.27227,     0.27327,     0.27427,     0.27528,     0.27628,     0.27728,     0.27828,     0.27928,     0.28028,     0.28128,     0.28228,     0.28328,     0.28428,     0.28529,     0.28629,     0.28729,\n",
       "           0.28829,     0.28929,     0.29029,     0.29129,     0.29229,     0.29329,     0.29429,      0.2953,      0.2963,      0.2973,      0.2983,      0.2993,      0.3003,      0.3013,      0.3023,      0.3033,      0.3043,     0.30531,     0.30631,     0.30731,     0.30831,     0.30931,     0.31031,     0.31131,\n",
       "           0.31231,     0.31331,     0.31431,     0.31532,     0.31632,     0.31732,     0.31832,     0.31932,     0.32032,     0.32132,     0.32232,     0.32332,     0.32432,     0.32533,     0.32633,     0.32733,     0.32833,     0.32933,     0.33033,     0.33133,     0.33233,     0.33333,     0.33433,     0.33534,\n",
       "           0.33634,     0.33734,     0.33834,     0.33934,     0.34034,     0.34134,     0.34234,     0.34334,     0.34434,     0.34535,     0.34635,     0.34735,     0.34835,     0.34935,     0.35035,     0.35135,     0.35235,     0.35335,     0.35435,     0.35536,     0.35636,     0.35736,     0.35836,     0.35936,\n",
       "           0.36036,     0.36136,     0.36236,     0.36336,     0.36436,     0.36537,     0.36637,     0.36737,     0.36837,     0.36937,     0.37037,     0.37137,     0.37237,     0.37337,     0.37437,     0.37538,     0.37638,     0.37738,     0.37838,     0.37938,     0.38038,     0.38138,     0.38238,     0.38338,\n",
       "           0.38438,     0.38539,     0.38639,     0.38739,     0.38839,     0.38939,     0.39039,     0.39139,     0.39239,     0.39339,     0.39439,      0.3954,      0.3964,      0.3974,      0.3984,      0.3994,      0.4004,      0.4014,      0.4024,      0.4034,      0.4044,     0.40541,     0.40641,     0.40741,\n",
       "           0.40841,     0.40941,     0.41041,     0.41141,     0.41241,     0.41341,     0.41441,     0.41542,     0.41642,     0.41742,     0.41842,     0.41942,     0.42042,     0.42142,     0.42242,     0.42342,     0.42442,     0.42543,     0.42643,     0.42743,     0.42843,     0.42943,     0.43043,     0.43143,\n",
       "           0.43243,     0.43343,     0.43443,     0.43544,     0.43644,     0.43744,     0.43844,     0.43944,     0.44044,     0.44144,     0.44244,     0.44344,     0.44444,     0.44545,     0.44645,     0.44745,     0.44845,     0.44945,     0.45045,     0.45145,     0.45245,     0.45345,     0.45445,     0.45546,\n",
       "           0.45646,     0.45746,     0.45846,     0.45946,     0.46046,     0.46146,     0.46246,     0.46346,     0.46446,     0.46547,     0.46647,     0.46747,     0.46847,     0.46947,     0.47047,     0.47147,     0.47247,     0.47347,     0.47447,     0.47548,     0.47648,     0.47748,     0.47848,     0.47948,\n",
       "           0.48048,     0.48148,     0.48248,     0.48348,     0.48448,     0.48549,     0.48649,     0.48749,     0.48849,     0.48949,     0.49049,     0.49149,     0.49249,     0.49349,     0.49449,      0.4955,      0.4965,      0.4975,      0.4985,      0.4995,      0.5005,      0.5015,      0.5025,      0.5035,\n",
       "            0.5045,     0.50551,     0.50651,     0.50751,     0.50851,     0.50951,     0.51051,     0.51151,     0.51251,     0.51351,     0.51451,     0.51552,     0.51652,     0.51752,     0.51852,     0.51952,     0.52052,     0.52152,     0.52252,     0.52352,     0.52452,     0.52553,     0.52653,     0.52753,\n",
       "           0.52853,     0.52953,     0.53053,     0.53153,     0.53253,     0.53353,     0.53453,     0.53554,     0.53654,     0.53754,     0.53854,     0.53954,     0.54054,     0.54154,     0.54254,     0.54354,     0.54454,     0.54555,     0.54655,     0.54755,     0.54855,     0.54955,     0.55055,     0.55155,\n",
       "           0.55255,     0.55355,     0.55455,     0.55556,     0.55656,     0.55756,     0.55856,     0.55956,     0.56056,     0.56156,     0.56256,     0.56356,     0.56456,     0.56557,     0.56657,     0.56757,     0.56857,     0.56957,     0.57057,     0.57157,     0.57257,     0.57357,     0.57457,     0.57558,\n",
       "           0.57658,     0.57758,     0.57858,     0.57958,     0.58058,     0.58158,     0.58258,     0.58358,     0.58458,     0.58559,     0.58659,     0.58759,     0.58859,     0.58959,     0.59059,     0.59159,     0.59259,     0.59359,     0.59459,      0.5956,      0.5966,      0.5976,      0.5986,      0.5996,\n",
       "            0.6006,      0.6016,      0.6026,      0.6036,      0.6046,     0.60561,     0.60661,     0.60761,     0.60861,     0.60961,     0.61061,     0.61161,     0.61261,     0.61361,     0.61461,     0.61562,     0.61662,     0.61762,     0.61862,     0.61962,     0.62062,     0.62162,     0.62262,     0.62362,\n",
       "           0.62462,     0.62563,     0.62663,     0.62763,     0.62863,     0.62963,     0.63063,     0.63163,     0.63263,     0.63363,     0.63463,     0.63564,     0.63664,     0.63764,     0.63864,     0.63964,     0.64064,     0.64164,     0.64264,     0.64364,     0.64464,     0.64565,     0.64665,     0.64765,\n",
       "           0.64865,     0.64965,     0.65065,     0.65165,     0.65265,     0.65365,     0.65465,     0.65566,     0.65666,     0.65766,     0.65866,     0.65966,     0.66066,     0.66166,     0.66266,     0.66366,     0.66466,     0.66567,     0.66667,     0.66767,     0.66867,     0.66967,     0.67067,     0.67167,\n",
       "           0.67267,     0.67367,     0.67467,     0.67568,     0.67668,     0.67768,     0.67868,     0.67968,     0.68068,     0.68168,     0.68268,     0.68368,     0.68468,     0.68569,     0.68669,     0.68769,     0.68869,     0.68969,     0.69069,     0.69169,     0.69269,     0.69369,     0.69469,      0.6957,\n",
       "            0.6967,      0.6977,      0.6987,      0.6997,      0.7007,      0.7017,      0.7027,      0.7037,      0.7047,     0.70571,     0.70671,     0.70771,     0.70871,     0.70971,     0.71071,     0.71171,     0.71271,     0.71371,     0.71471,     0.71572,     0.71672,     0.71772,     0.71872,     0.71972,\n",
       "           0.72072,     0.72172,     0.72272,     0.72372,     0.72472,     0.72573,     0.72673,     0.72773,     0.72873,     0.72973,     0.73073,     0.73173,     0.73273,     0.73373,     0.73473,     0.73574,     0.73674,     0.73774,     0.73874,     0.73974,     0.74074,     0.74174,     0.74274,     0.74374,\n",
       "           0.74474,     0.74575,     0.74675,     0.74775,     0.74875,     0.74975,     0.75075,     0.75175,     0.75275,     0.75375,     0.75475,     0.75576,     0.75676,     0.75776,     0.75876,     0.75976,     0.76076,     0.76176,     0.76276,     0.76376,     0.76476,     0.76577,     0.76677,     0.76777,\n",
       "           0.76877,     0.76977,     0.77077,     0.77177,     0.77277,     0.77377,     0.77477,     0.77578,     0.77678,     0.77778,     0.77878,     0.77978,     0.78078,     0.78178,     0.78278,     0.78378,     0.78478,     0.78579,     0.78679,     0.78779,     0.78879,     0.78979,     0.79079,     0.79179,\n",
       "           0.79279,     0.79379,     0.79479,      0.7958,      0.7968,      0.7978,      0.7988,      0.7998,      0.8008,      0.8018,      0.8028,      0.8038,      0.8048,     0.80581,     0.80681,     0.80781,     0.80881,     0.80981,     0.81081,     0.81181,     0.81281,     0.81381,     0.81481,     0.81582,\n",
       "           0.81682,     0.81782,     0.81882,     0.81982,     0.82082,     0.82182,     0.82282,     0.82382,     0.82482,     0.82583,     0.82683,     0.82783,     0.82883,     0.82983,     0.83083,     0.83183,     0.83283,     0.83383,     0.83483,     0.83584,     0.83684,     0.83784,     0.83884,     0.83984,\n",
       "           0.84084,     0.84184,     0.84284,     0.84384,     0.84484,     0.84585,     0.84685,     0.84785,     0.84885,     0.84985,     0.85085,     0.85185,     0.85285,     0.85385,     0.85485,     0.85586,     0.85686,     0.85786,     0.85886,     0.85986,     0.86086,     0.86186,     0.86286,     0.86386,\n",
       "           0.86486,     0.86587,     0.86687,     0.86787,     0.86887,     0.86987,     0.87087,     0.87187,     0.87287,     0.87387,     0.87487,     0.87588,     0.87688,     0.87788,     0.87888,     0.87988,     0.88088,     0.88188,     0.88288,     0.88388,     0.88488,     0.88589,     0.88689,     0.88789,\n",
       "           0.88889,     0.88989,     0.89089,     0.89189,     0.89289,     0.89389,     0.89489,      0.8959,      0.8969,      0.8979,      0.8989,      0.8999,      0.9009,      0.9019,      0.9029,      0.9039,      0.9049,     0.90591,     0.90691,     0.90791,     0.90891,     0.90991,     0.91091,     0.91191,\n",
       "           0.91291,     0.91391,     0.91491,     0.91592,     0.91692,     0.91792,     0.91892,     0.91992,     0.92092,     0.92192,     0.92292,     0.92392,     0.92492,     0.92593,     0.92693,     0.92793,     0.92893,     0.92993,     0.93093,     0.93193,     0.93293,     0.93393,     0.93493,     0.93594,\n",
       "           0.93694,     0.93794,     0.93894,     0.93994,     0.94094,     0.94194,     0.94294,     0.94394,     0.94494,     0.94595,     0.94695,     0.94795,     0.94895,     0.94995,     0.95095,     0.95195,     0.95295,     0.95395,     0.95495,     0.95596,     0.95696,     0.95796,     0.95896,     0.95996,\n",
       "           0.96096,     0.96196,     0.96296,     0.96396,     0.96496,     0.96597,     0.96697,     0.96797,     0.96897,     0.96997,     0.97097,     0.97197,     0.97297,     0.97397,     0.97497,     0.97598,     0.97698,     0.97798,     0.97898,     0.97998,     0.98098,     0.98198,     0.98298,     0.98398,\n",
       "           0.98498,     0.98599,     0.98699,     0.98799,     0.98899,     0.98999,     0.99099,     0.99199,     0.99299,     0.99399,     0.99499,       0.996,       0.997,       0.998,       0.999,           1]), array([[          1,           1,           1,           1,           1,           1,           1,           1,           1,           1,           1,           1,           1,           1,           1,           1,           1,           1,           1,           1,           1,           1,           1,\n",
       "                  1,           1,           1,           1,           1,           1,           1,           1,           1,           1,           1,           1,           1,           1,           1,           1,           1,           1,           1,           1,           1,           1,           1,\n",
       "                  1,           1,           1,           1,           1,           1,           1,           1,           1,           1,           1,           1,           1,           1,           1,           1,           1,           1,           1,           1,           1,           1,           1,\n",
       "                  1,           1,           1,           1,           1,           1,           1,           1,           1,           1,           1,           1,           1,           1,           1,           1,           1,           1,           1,           1,           1,           1,           1,\n",
       "                  1,           1,           1,           1,           1,           1,           1,           1,           1,           1,           1,           1,           1,           1,           1,           1,           1,           1,           1,           1,           1,           1,           1,\n",
       "                  1,           1,           1,           1,           1,           1,           1,           1,           1,           1,           1,           1,           1,           1,           1,           1,           1,           1,           1,           1,           1,           1,           1,\n",
       "                  1,           1,           1,           1,           1,           1,           1,           1,           1,           1,           1,           1,           1,           1,           1,           1,           1,           1,           1,           1,           1,           1,           1,\n",
       "                  1,           1,           1,           1,           1,           1,           1,           1,           1,           1,           1,           1,           1,           1,           1,           1,           1,           1,           1,           1,           1,           1,           1,\n",
       "                  1,           1,           1,           1,           1,           1,           1,           1,           1,           1,           1,           1,           1,           1,           1,           1,           1,           1,           1,           1,           1,           1,           1,\n",
       "                  1,           1,           1,           1,           1,           1,           1,           1,           1,           1,           1,           1,           1,           1,           1,           1,           1,           1,           1,           1,           1,           1,           1,\n",
       "                  1,           1,           1,           1,           1,           1,           1,           1,           1,           1,           1,           1,           1,           1,           1,           1,           1,           1,           1,           1,           1,           1,           1,\n",
       "                  1,           1,           1,           1,           1,           1,           1,           1,           1,           1,           1,           1,           1,           1,           1,           1,           1,           1,           1,           1,           1,           1,           1,\n",
       "                  1,           1,           1,           1,           1,           1,           1,           1,           1,           1,           1,           1,           1,           1,           1,           1,           1,           1,           1,           1,           1,           1,           1,\n",
       "                  1,           1,           1,           1,           1,           1,           1,           1,           1,           1,           1,           1,           1,           1,           1,           1,           1,           1,           1,           1,           1,           1,           1,\n",
       "                  1,           1,           1,           1,           1,           1,           1,           1,           1,           1,           1,           1,           1,           1,           1,           1,           1,           1,           1,           1,           1,           1,           1,\n",
       "                  1,           1,           1,           1,           1,           1,           1,           1,           1,           1,           1,           1,           1,           1,           1,           1,           1,           1,           1,           1,           1,           1,           1,\n",
       "                  1,           1,           1,           1,           1,           1,           1,           1,           1,           1,           1,           1,           1,           1,           1,           1,           1,           1,           1,           1,           1,           1,           1,\n",
       "                  1,           1,           1,           1,           1,           1,           1,           1,           1,           1,           1,           1,           1,           1,           1,           1,           1,           1,           1,           1,           1,           1,           1,\n",
       "                  1,           1,           1,           1,           1,           1,           1,           1,           1,           1,           1,           1,           1,           1,           1,           1,           1,           1,           1,           1,           1,           1,           1,\n",
       "                  1,           1,           1,           1,           1,           1,           1,           1,           1,           1,           1,           1,           1,           1,           1,           1,           1,           1,           1,           1,           1,           1,           1,\n",
       "                  1,           1,           1,           1,           1,           1,           1,           1,           1,           1,           1,           1,           1,           1,           1,           1,           1,           1,           1,           1,           1,           1,           1,\n",
       "                  1,           1,           1,           1,           1,           1,           1,           1,           1,           1,           1,           1,           1,           1,           1,           1,           1,           1,           1,           1,           1,           1,           1,\n",
       "                  1,           1,           1,           1,           1,           1,           1,           1,           1,           1,           1,           1,           1,           1,           1,           1,           1,           1,           1,           1,           1,           1,           1,\n",
       "                  1,           1,           1,           1,           1,           1,           1,           1,           1,           1,           1,           1,           1,           1,           1,           1,           1,           1,           1,           1,           1,           1,           1,\n",
       "                  1,           1,           1,           1,           1,           1,           1,           1,           1,           1,           1,           1,           1,           1,           1,           1,           1,           1,           1,           1,           1,           1,           1,\n",
       "                  1,           1,           1,           1,           1,           1,           1,           1,           1,           1,           1,           1,           1,           1,           1,           1,           1,           1,           1,           1,           1,           1,           1,\n",
       "                  1,           1,           1,           1,           1,           1,           1,           1,           1,           1,           1,           1,           1,           1,           1,           1,           1,           1,           1,           1,           1,           1,           1,\n",
       "                  1,           1,           1,           1,           1,           1,           1,           1,           1,           1,           1,           1,           1,           1,           1,           1,           1,           1,           1,           1,           1,           1,           1,\n",
       "                  1,           1,           1,           1,           1,           1,           1,           1,           1,           1,           1,           1,           1,           1,           1,           1,           1,           1,           1,           1,           1,           1,           1,\n",
       "                  1,           1,           1,           1,           1,           1,           1,           1,           1,           1,           1,           1,           1,           1,           1,           1,           1,           1,           1,           1,           1,           1,           1,\n",
       "                  1,           1,           1,           1,           1,           1,           1,           1,           1,           1,           1,           1,           1,           1,           1,           1,           1,           1,           1,           1,           1,           1,           1,\n",
       "                  1,           1,           1,           1,           1,           1,           1,           1,           1,           1,           1,           1,           1,           1,           1,           1,           1,           1,           1,           1,           1,           1,           1,\n",
       "                  1,           1,           1,           1,           1,           1,           1,           1,           1,           1,           1,           1,           1,           1,           1,           1,           1,           1,           1,           1,           1,           1,           1,\n",
       "                  1,           1,           1,           1,           1,           1,           1,           1,           1,           1,           1,           1,           1,           1,           1,           1,           1,           1,           1,           1,           1,           1,           1,\n",
       "                  1,           1,           1,           1,           1,           1,           1,           1,           1,           1,           1,           1,           1,           1,           1,           1,           1,           1,           1,           1,           1,           1,           1,\n",
       "                  1,           1,           1,           1,           1,           1,           1,           1,           1,           1,           1,           1,           1,           1,           1,           1,           1,           1,           1,           1,           1,           1,           1,\n",
       "                  1,           1,           1,           1,           1,           1,           1,           1,           1,           1,           1,           1,           1,           1,           1,           1,           1,           1,           1,           1,           1,           1,           1,\n",
       "                  1,           1,           1,           1,           1,           1,           1,           1,           1,           1,           1,           1,           1,           1,           1,           1,           1,           1,           1,           1,           1,           1,           1,\n",
       "                  1,           1,           1,           1,           1,           1,           1,           1,           1,           1,           1,           1,           1,           1,           1,           1,           1,           1,           1,           1,           1,           1,           1,\n",
       "                  1,           1,           1,           1,           1,           1,           1,           1,           1,           1,           1,           1,           1,           1,           1,           1,           1,           1,           1,           1,           1,           1,           1,\n",
       "                  1,           1,           1,           1,           1,           1,           1,           1,           1,           1,           1,           1,           1,           1,           1,           1,           1,           1,           1,           1,           1,           1,           1,\n",
       "                  1,           1,           1,           1,           1,           1,           1,           1,           1,           1,           1,           1,           1,           1,           1,           1,           1,           1,           1,           1,           1,           1,           1,\n",
       "                  1,           1,           1,           1,           1,           1,           1,           1,           1,           1,           1,           1,           1,           1,           1,           1,           1,           1,           1,           1,           1,           1,           1,\n",
       "                  1,           1,           1,           1,           1,           1,           1,           1,           1,           1,           0]]), 'Recall', 'Precision'], [array([          0,    0.001001,    0.002002,    0.003003,    0.004004,    0.005005,    0.006006,    0.007007,    0.008008,    0.009009,     0.01001,    0.011011,    0.012012,    0.013013,    0.014014,    0.015015,    0.016016,    0.017017,    0.018018,    0.019019,     0.02002,    0.021021,    0.022022,    0.023023,\n",
       "          0.024024,    0.025025,    0.026026,    0.027027,    0.028028,    0.029029,     0.03003,    0.031031,    0.032032,    0.033033,    0.034034,    0.035035,    0.036036,    0.037037,    0.038038,    0.039039,     0.04004,    0.041041,    0.042042,    0.043043,    0.044044,    0.045045,    0.046046,    0.047047,\n",
       "          0.048048,    0.049049,     0.05005,    0.051051,    0.052052,    0.053053,    0.054054,    0.055055,    0.056056,    0.057057,    0.058058,    0.059059,     0.06006,    0.061061,    0.062062,    0.063063,    0.064064,    0.065065,    0.066066,    0.067067,    0.068068,    0.069069,     0.07007,    0.071071,\n",
       "          0.072072,    0.073073,    0.074074,    0.075075,    0.076076,    0.077077,    0.078078,    0.079079,     0.08008,    0.081081,    0.082082,    0.083083,    0.084084,    0.085085,    0.086086,    0.087087,    0.088088,    0.089089,     0.09009,    0.091091,    0.092092,    0.093093,    0.094094,    0.095095,\n",
       "          0.096096,    0.097097,    0.098098,    0.099099,      0.1001,      0.1011,      0.1021,      0.1031,      0.1041,     0.10511,     0.10611,     0.10711,     0.10811,     0.10911,     0.11011,     0.11111,     0.11211,     0.11311,     0.11411,     0.11512,     0.11612,     0.11712,     0.11812,     0.11912,\n",
       "           0.12012,     0.12112,     0.12212,     0.12312,     0.12412,     0.12513,     0.12613,     0.12713,     0.12813,     0.12913,     0.13013,     0.13113,     0.13213,     0.13313,     0.13413,     0.13514,     0.13614,     0.13714,     0.13814,     0.13914,     0.14014,     0.14114,     0.14214,     0.14314,\n",
       "           0.14414,     0.14515,     0.14615,     0.14715,     0.14815,     0.14915,     0.15015,     0.15115,     0.15215,     0.15315,     0.15415,     0.15516,     0.15616,     0.15716,     0.15816,     0.15916,     0.16016,     0.16116,     0.16216,     0.16316,     0.16416,     0.16517,     0.16617,     0.16717,\n",
       "           0.16817,     0.16917,     0.17017,     0.17117,     0.17217,     0.17317,     0.17417,     0.17518,     0.17618,     0.17718,     0.17818,     0.17918,     0.18018,     0.18118,     0.18218,     0.18318,     0.18418,     0.18519,     0.18619,     0.18719,     0.18819,     0.18919,     0.19019,     0.19119,\n",
       "           0.19219,     0.19319,     0.19419,      0.1952,      0.1962,      0.1972,      0.1982,      0.1992,      0.2002,      0.2012,      0.2022,      0.2032,      0.2042,     0.20521,     0.20621,     0.20721,     0.20821,     0.20921,     0.21021,     0.21121,     0.21221,     0.21321,     0.21421,     0.21522,\n",
       "           0.21622,     0.21722,     0.21822,     0.21922,     0.22022,     0.22122,     0.22222,     0.22322,     0.22422,     0.22523,     0.22623,     0.22723,     0.22823,     0.22923,     0.23023,     0.23123,     0.23223,     0.23323,     0.23423,     0.23524,     0.23624,     0.23724,     0.23824,     0.23924,\n",
       "           0.24024,     0.24124,     0.24224,     0.24324,     0.24424,     0.24525,     0.24625,     0.24725,     0.24825,     0.24925,     0.25025,     0.25125,     0.25225,     0.25325,     0.25425,     0.25526,     0.25626,     0.25726,     0.25826,     0.25926,     0.26026,     0.26126,     0.26226,     0.26326,\n",
       "           0.26426,     0.26527,     0.26627,     0.26727,     0.26827,     0.26927,     0.27027,     0.27127,     0.27227,     0.27327,     0.27427,     0.27528,     0.27628,     0.27728,     0.27828,     0.27928,     0.28028,     0.28128,     0.28228,     0.28328,     0.28428,     0.28529,     0.28629,     0.28729,\n",
       "           0.28829,     0.28929,     0.29029,     0.29129,     0.29229,     0.29329,     0.29429,      0.2953,      0.2963,      0.2973,      0.2983,      0.2993,      0.3003,      0.3013,      0.3023,      0.3033,      0.3043,     0.30531,     0.30631,     0.30731,     0.30831,     0.30931,     0.31031,     0.31131,\n",
       "           0.31231,     0.31331,     0.31431,     0.31532,     0.31632,     0.31732,     0.31832,     0.31932,     0.32032,     0.32132,     0.32232,     0.32332,     0.32432,     0.32533,     0.32633,     0.32733,     0.32833,     0.32933,     0.33033,     0.33133,     0.33233,     0.33333,     0.33433,     0.33534,\n",
       "           0.33634,     0.33734,     0.33834,     0.33934,     0.34034,     0.34134,     0.34234,     0.34334,     0.34434,     0.34535,     0.34635,     0.34735,     0.34835,     0.34935,     0.35035,     0.35135,     0.35235,     0.35335,     0.35435,     0.35536,     0.35636,     0.35736,     0.35836,     0.35936,\n",
       "           0.36036,     0.36136,     0.36236,     0.36336,     0.36436,     0.36537,     0.36637,     0.36737,     0.36837,     0.36937,     0.37037,     0.37137,     0.37237,     0.37337,     0.37437,     0.37538,     0.37638,     0.37738,     0.37838,     0.37938,     0.38038,     0.38138,     0.38238,     0.38338,\n",
       "           0.38438,     0.38539,     0.38639,     0.38739,     0.38839,     0.38939,     0.39039,     0.39139,     0.39239,     0.39339,     0.39439,      0.3954,      0.3964,      0.3974,      0.3984,      0.3994,      0.4004,      0.4014,      0.4024,      0.4034,      0.4044,     0.40541,     0.40641,     0.40741,\n",
       "           0.40841,     0.40941,     0.41041,     0.41141,     0.41241,     0.41341,     0.41441,     0.41542,     0.41642,     0.41742,     0.41842,     0.41942,     0.42042,     0.42142,     0.42242,     0.42342,     0.42442,     0.42543,     0.42643,     0.42743,     0.42843,     0.42943,     0.43043,     0.43143,\n",
       "           0.43243,     0.43343,     0.43443,     0.43544,     0.43644,     0.43744,     0.43844,     0.43944,     0.44044,     0.44144,     0.44244,     0.44344,     0.44444,     0.44545,     0.44645,     0.44745,     0.44845,     0.44945,     0.45045,     0.45145,     0.45245,     0.45345,     0.45445,     0.45546,\n",
       "           0.45646,     0.45746,     0.45846,     0.45946,     0.46046,     0.46146,     0.46246,     0.46346,     0.46446,     0.46547,     0.46647,     0.46747,     0.46847,     0.46947,     0.47047,     0.47147,     0.47247,     0.47347,     0.47447,     0.47548,     0.47648,     0.47748,     0.47848,     0.47948,\n",
       "           0.48048,     0.48148,     0.48248,     0.48348,     0.48448,     0.48549,     0.48649,     0.48749,     0.48849,     0.48949,     0.49049,     0.49149,     0.49249,     0.49349,     0.49449,      0.4955,      0.4965,      0.4975,      0.4985,      0.4995,      0.5005,      0.5015,      0.5025,      0.5035,\n",
       "            0.5045,     0.50551,     0.50651,     0.50751,     0.50851,     0.50951,     0.51051,     0.51151,     0.51251,     0.51351,     0.51451,     0.51552,     0.51652,     0.51752,     0.51852,     0.51952,     0.52052,     0.52152,     0.52252,     0.52352,     0.52452,     0.52553,     0.52653,     0.52753,\n",
       "           0.52853,     0.52953,     0.53053,     0.53153,     0.53253,     0.53353,     0.53453,     0.53554,     0.53654,     0.53754,     0.53854,     0.53954,     0.54054,     0.54154,     0.54254,     0.54354,     0.54454,     0.54555,     0.54655,     0.54755,     0.54855,     0.54955,     0.55055,     0.55155,\n",
       "           0.55255,     0.55355,     0.55455,     0.55556,     0.55656,     0.55756,     0.55856,     0.55956,     0.56056,     0.56156,     0.56256,     0.56356,     0.56456,     0.56557,     0.56657,     0.56757,     0.56857,     0.56957,     0.57057,     0.57157,     0.57257,     0.57357,     0.57457,     0.57558,\n",
       "           0.57658,     0.57758,     0.57858,     0.57958,     0.58058,     0.58158,     0.58258,     0.58358,     0.58458,     0.58559,     0.58659,     0.58759,     0.58859,     0.58959,     0.59059,     0.59159,     0.59259,     0.59359,     0.59459,      0.5956,      0.5966,      0.5976,      0.5986,      0.5996,\n",
       "            0.6006,      0.6016,      0.6026,      0.6036,      0.6046,     0.60561,     0.60661,     0.60761,     0.60861,     0.60961,     0.61061,     0.61161,     0.61261,     0.61361,     0.61461,     0.61562,     0.61662,     0.61762,     0.61862,     0.61962,     0.62062,     0.62162,     0.62262,     0.62362,\n",
       "           0.62462,     0.62563,     0.62663,     0.62763,     0.62863,     0.62963,     0.63063,     0.63163,     0.63263,     0.63363,     0.63463,     0.63564,     0.63664,     0.63764,     0.63864,     0.63964,     0.64064,     0.64164,     0.64264,     0.64364,     0.64464,     0.64565,     0.64665,     0.64765,\n",
       "           0.64865,     0.64965,     0.65065,     0.65165,     0.65265,     0.65365,     0.65465,     0.65566,     0.65666,     0.65766,     0.65866,     0.65966,     0.66066,     0.66166,     0.66266,     0.66366,     0.66466,     0.66567,     0.66667,     0.66767,     0.66867,     0.66967,     0.67067,     0.67167,\n",
       "           0.67267,     0.67367,     0.67467,     0.67568,     0.67668,     0.67768,     0.67868,     0.67968,     0.68068,     0.68168,     0.68268,     0.68368,     0.68468,     0.68569,     0.68669,     0.68769,     0.68869,     0.68969,     0.69069,     0.69169,     0.69269,     0.69369,     0.69469,      0.6957,\n",
       "            0.6967,      0.6977,      0.6987,      0.6997,      0.7007,      0.7017,      0.7027,      0.7037,      0.7047,     0.70571,     0.70671,     0.70771,     0.70871,     0.70971,     0.71071,     0.71171,     0.71271,     0.71371,     0.71471,     0.71572,     0.71672,     0.71772,     0.71872,     0.71972,\n",
       "           0.72072,     0.72172,     0.72272,     0.72372,     0.72472,     0.72573,     0.72673,     0.72773,     0.72873,     0.72973,     0.73073,     0.73173,     0.73273,     0.73373,     0.73473,     0.73574,     0.73674,     0.73774,     0.73874,     0.73974,     0.74074,     0.74174,     0.74274,     0.74374,\n",
       "           0.74474,     0.74575,     0.74675,     0.74775,     0.74875,     0.74975,     0.75075,     0.75175,     0.75275,     0.75375,     0.75475,     0.75576,     0.75676,     0.75776,     0.75876,     0.75976,     0.76076,     0.76176,     0.76276,     0.76376,     0.76476,     0.76577,     0.76677,     0.76777,\n",
       "           0.76877,     0.76977,     0.77077,     0.77177,     0.77277,     0.77377,     0.77477,     0.77578,     0.77678,     0.77778,     0.77878,     0.77978,     0.78078,     0.78178,     0.78278,     0.78378,     0.78478,     0.78579,     0.78679,     0.78779,     0.78879,     0.78979,     0.79079,     0.79179,\n",
       "           0.79279,     0.79379,     0.79479,      0.7958,      0.7968,      0.7978,      0.7988,      0.7998,      0.8008,      0.8018,      0.8028,      0.8038,      0.8048,     0.80581,     0.80681,     0.80781,     0.80881,     0.80981,     0.81081,     0.81181,     0.81281,     0.81381,     0.81481,     0.81582,\n",
       "           0.81682,     0.81782,     0.81882,     0.81982,     0.82082,     0.82182,     0.82282,     0.82382,     0.82482,     0.82583,     0.82683,     0.82783,     0.82883,     0.82983,     0.83083,     0.83183,     0.83283,     0.83383,     0.83483,     0.83584,     0.83684,     0.83784,     0.83884,     0.83984,\n",
       "           0.84084,     0.84184,     0.84284,     0.84384,     0.84484,     0.84585,     0.84685,     0.84785,     0.84885,     0.84985,     0.85085,     0.85185,     0.85285,     0.85385,     0.85485,     0.85586,     0.85686,     0.85786,     0.85886,     0.85986,     0.86086,     0.86186,     0.86286,     0.86386,\n",
       "           0.86486,     0.86587,     0.86687,     0.86787,     0.86887,     0.86987,     0.87087,     0.87187,     0.87287,     0.87387,     0.87487,     0.87588,     0.87688,     0.87788,     0.87888,     0.87988,     0.88088,     0.88188,     0.88288,     0.88388,     0.88488,     0.88589,     0.88689,     0.88789,\n",
       "           0.88889,     0.88989,     0.89089,     0.89189,     0.89289,     0.89389,     0.89489,      0.8959,      0.8969,      0.8979,      0.8989,      0.8999,      0.9009,      0.9019,      0.9029,      0.9039,      0.9049,     0.90591,     0.90691,     0.90791,     0.90891,     0.90991,     0.91091,     0.91191,\n",
       "           0.91291,     0.91391,     0.91491,     0.91592,     0.91692,     0.91792,     0.91892,     0.91992,     0.92092,     0.92192,     0.92292,     0.92392,     0.92492,     0.92593,     0.92693,     0.92793,     0.92893,     0.92993,     0.93093,     0.93193,     0.93293,     0.93393,     0.93493,     0.93594,\n",
       "           0.93694,     0.93794,     0.93894,     0.93994,     0.94094,     0.94194,     0.94294,     0.94394,     0.94494,     0.94595,     0.94695,     0.94795,     0.94895,     0.94995,     0.95095,     0.95195,     0.95295,     0.95395,     0.95495,     0.95596,     0.95696,     0.95796,     0.95896,     0.95996,\n",
       "           0.96096,     0.96196,     0.96296,     0.96396,     0.96496,     0.96597,     0.96697,     0.96797,     0.96897,     0.96997,     0.97097,     0.97197,     0.97297,     0.97397,     0.97497,     0.97598,     0.97698,     0.97798,     0.97898,     0.97998,     0.98098,     0.98198,     0.98298,     0.98398,\n",
       "           0.98498,     0.98599,     0.98699,     0.98799,     0.98899,     0.98999,     0.99099,     0.99199,     0.99299,     0.99399,     0.99499,       0.996,       0.997,       0.998,       0.999,           1]), array([[  0.0066445,   0.0066445,    0.011266,    0.013533,    0.015225,    0.023222,    0.047817,     0.13153,     0.27142,     0.48099,     0.58503,     0.80963,     0.91516,     0.94119,     0.94126,     0.94133,      0.9414,     0.94146,     0.94153,      0.9416,     0.94167,     0.94173,      0.9418,\n",
       "            0.94187,     0.94194,       0.942,     0.94207,     0.94214,     0.94221,     0.94227,     0.94234,     0.94241,     0.94248,     0.94254,     0.94261,     0.94268,     0.94275,     0.94281,     0.94288,     0.94295,     0.94302,     0.94308,     0.94315,     0.94322,     0.94328,     0.94335,\n",
       "            0.94342,     0.94349,     0.94355,     0.94362,     0.94369,     0.94376,     0.94382,     0.94389,     0.94396,     0.94402,     0.94409,     0.94416,     0.94423,     0.94429,     0.94436,     0.94443,     0.94449,     0.94456,     0.94463,      0.9447,     0.94476,     0.94483,      0.9449,\n",
       "            0.94496,     0.94503,      0.9451,     0.94517,     0.94523,      0.9453,     0.94537,     0.94543,      0.9455,     0.94557,     0.94563,      0.9457,     0.94577,     0.94584,      0.9459,     0.94597,     0.94604,      0.9461,     0.94617,     0.94624,      0.9463,     0.94637,     0.94644,\n",
       "             0.9465,     0.94657,     0.94664,     0.94671,     0.94677,     0.94684,     0.94691,     0.94697,     0.94704,     0.94711,     0.94717,     0.94724,     0.94731,     0.94737,     0.94744,     0.94751,     0.94757,     0.94764,     0.94771,     0.94777,     0.94784,     0.94791,     0.94797,\n",
       "            0.94804,     0.94811,     0.94817,     0.94824,     0.94831,     0.94837,     0.94844,     0.94851,     0.94857,     0.94864,     0.94871,     0.94877,     0.94884,     0.94891,     0.94897,     0.94904,     0.94911,     0.94917,     0.94924,     0.94931,     0.94937,     0.94944,     0.94951,\n",
       "            0.94957,     0.94964,     0.94971,     0.94977,     0.94984,      0.9499,     0.94997,     0.95004,      0.9501,     0.95017,     0.95024,      0.9503,     0.95037,     0.95044,      0.9505,     0.95057,     0.95064,      0.9507,     0.95077,     0.95083,      0.9509,     0.95097,     0.95103,\n",
       "             0.9511,     0.95117,     0.95123,      0.9513,     0.95136,     0.95143,      0.9515,     0.95156,     0.95163,      0.9517,     0.95176,     0.95183,     0.95189,     0.95196,     0.95203,     0.95209,     0.95216,     0.95223,     0.95229,     0.95236,     0.95242,     0.95249,     0.95256,\n",
       "            0.95262,     0.95269,     0.95275,     0.95282,     0.95289,     0.95295,     0.95302,     0.95308,     0.95315,     0.95322,     0.95328,     0.95335,     0.95342,     0.95348,     0.95355,     0.95361,     0.95368,     0.95375,     0.95381,     0.95388,     0.95394,     0.95401,     0.95407,\n",
       "            0.95414,     0.95421,     0.95427,     0.95434,      0.9544,     0.95447,     0.95454,      0.9546,     0.95467,     0.95473,      0.9548,     0.95487,     0.95493,       0.955,     0.95506,     0.95513,     0.95519,     0.95526,     0.95533,     0.95539,     0.95546,     0.95552,     0.95559,\n",
       "            0.95565,     0.95572,     0.95579,     0.95585,     0.95592,     0.95598,     0.95605,     0.95611,     0.95618,     0.95625,     0.95631,     0.95638,     0.95644,     0.95651,     0.95657,     0.95664,     0.95671,     0.95677,     0.95684,      0.9569,     0.95697,     0.95703,      0.9571,\n",
       "            0.95716,     0.95723,      0.9573,     0.95736,     0.95743,     0.95749,     0.95756,     0.95762,     0.95769,     0.95775,     0.95782,     0.95788,     0.95795,     0.95802,     0.95808,     0.95815,     0.95821,     0.95828,     0.95834,     0.95841,     0.95847,     0.95854,      0.9586,\n",
       "            0.95867,     0.95873,      0.9588,     0.95887,     0.95893,       0.959,     0.95906,     0.95913,     0.95919,     0.95926,     0.95932,     0.95939,     0.95945,     0.95952,     0.95958,     0.95965,     0.95971,     0.95978,     0.95984,     0.95991,     0.95997,     0.96004,      0.9601,\n",
       "            0.96017,     0.96024,      0.9603,     0.96037,     0.96043,      0.9605,     0.96056,     0.96063,     0.96069,     0.96076,     0.96082,     0.96089,     0.96095,     0.96102,     0.96108,     0.96115,     0.96121,     0.96128,     0.96134,     0.96141,     0.96147,     0.96154,      0.9616,\n",
       "            0.96167,     0.96173,      0.9618,     0.96186,     0.96193,     0.96199,     0.96206,     0.96212,     0.96219,     0.96225,     0.96232,     0.96238,     0.96245,     0.96251,     0.96258,     0.96264,      0.9627,     0.96277,     0.96283,      0.9629,     0.96296,     0.96303,     0.96309,\n",
       "            0.96316,     0.96322,     0.96329,     0.96335,     0.96342,     0.96348,     0.96355,     0.96361,     0.96368,     0.96374,     0.96381,     0.96387,     0.96394,       0.964,     0.96406,     0.96413,     0.96419,     0.96426,     0.96432,     0.96439,     0.96445,     0.96452,     0.96458,\n",
       "            0.96465,     0.96471,     0.96478,     0.96484,      0.9649,     0.96497,     0.96503,      0.9651,     0.96516,     0.96523,     0.96529,     0.96536,     0.96542,     0.96549,     0.96555,     0.96561,     0.96568,     0.96574,     0.96581,     0.96587,     0.96594,       0.966,     0.96607,\n",
       "            0.96613,     0.96619,     0.96626,     0.96632,     0.96639,     0.96645,     0.96652,     0.96658,     0.96665,     0.96671,     0.96677,     0.96684,      0.9669,     0.96697,     0.96703,      0.9671,     0.96716,     0.96722,     0.96729,     0.96735,     0.96742,     0.96748,     0.96755,\n",
       "            0.96761,     0.96767,     0.96774,      0.9678,     0.96787,     0.96793,     0.96799,     0.96806,     0.96812,     0.96819,     0.96825,     0.96832,     0.96838,     0.96844,     0.96851,     0.96857,     0.96864,      0.9687,     0.96876,     0.96883,     0.96889,     0.96896,     0.96902,\n",
       "            0.96908,     0.96915,     0.96921,     0.96928,     0.96934,      0.9694,     0.96947,     0.96953,      0.9696,     0.96966,     0.96972,     0.96979,     0.96985,     0.96992,     0.96998,     0.97004,     0.97011,     0.97017,     0.97024,      0.9703,     0.97036,     0.97043,     0.97049,\n",
       "            0.97056,     0.97062,     0.97068,     0.97075,     0.97081,     0.97087,     0.97094,       0.971,     0.97107,     0.97113,     0.97119,     0.97126,     0.97132,     0.97139,     0.97145,     0.97151,     0.97158,     0.97164,      0.9717,     0.97177,     0.97183,      0.9719,     0.97196,\n",
       "            0.97202,     0.97209,     0.97215,     0.97221,     0.97228,     0.97234,      0.9724,     0.97247,     0.97253,      0.9726,     0.97266,     0.97272,     0.97279,     0.97285,     0.97291,     0.97298,     0.97304,      0.9731,     0.97317,     0.97323,     0.97329,     0.97336,     0.97342,\n",
       "            0.97349,     0.97355,     0.97361,     0.97368,     0.97374,      0.9738,     0.97387,     0.97393,     0.97399,     0.97406,     0.97412,     0.97418,     0.97425,     0.97431,     0.97437,     0.97444,      0.9745,     0.97456,     0.97463,     0.97469,     0.97475,     0.97482,     0.97488,\n",
       "            0.97494,     0.97501,     0.97507,     0.97513,      0.9752,     0.97526,     0.97532,     0.97539,     0.97545,     0.97551,     0.97558,     0.97564,      0.9757,     0.97577,     0.97583,     0.97589,     0.97596,     0.97602,     0.97608,     0.97615,     0.97621,     0.97627,     0.97633,\n",
       "             0.9764,     0.97646,     0.97652,     0.97659,     0.97665,     0.97671,     0.97678,     0.97684,      0.9769,     0.97697,     0.97703,     0.97709,     0.97715,     0.97722,     0.97728,     0.97734,     0.97741,     0.97747,     0.97753,      0.9776,     0.97766,     0.97772,     0.97779,\n",
       "            0.97785,     0.97791,     0.97797,     0.97804,      0.9781,     0.97816,     0.97823,     0.97829,     0.97835,     0.97841,     0.97848,     0.97854,      0.9786,     0.97867,     0.97873,     0.97879,     0.97885,     0.97892,     0.97898,     0.97904,     0.97911,     0.97917,     0.97923,\n",
       "            0.97929,     0.97936,     0.97942,     0.97948,     0.97955,     0.97961,     0.97967,     0.97973,      0.9798,     0.97986,     0.97992,     0.97998,     0.98005,     0.98011,     0.98017,     0.98024,      0.9803,     0.98036,     0.98042,     0.98049,     0.98055,     0.98061,     0.98067,\n",
       "            0.98074,      0.9808,     0.98086,     0.98092,     0.98099,     0.98105,     0.98111,     0.98117,     0.98124,      0.9813,     0.98136,     0.98142,     0.98149,     0.98155,     0.98161,     0.98167,     0.98174,      0.9818,     0.98186,     0.98192,     0.98199,     0.98205,     0.98211,\n",
       "            0.98217,     0.98224,      0.9823,     0.98236,     0.98242,     0.98249,     0.98255,     0.98261,     0.98267,     0.98274,      0.9828,     0.98286,     0.98292,     0.98298,     0.98305,     0.98311,     0.98317,     0.98323,      0.9833,     0.98336,     0.98342,     0.98348,     0.98355,\n",
       "            0.98361,     0.98367,     0.98373,     0.98379,     0.98386,     0.98392,     0.98398,     0.98404,     0.98411,     0.98417,     0.98423,     0.98429,     0.98435,     0.98442,     0.98448,     0.98454,      0.9846,     0.98467,     0.98473,     0.98479,     0.98485,     0.98491,     0.98498,\n",
       "            0.98504,      0.9851,     0.98516,     0.98522,     0.98529,     0.98535,     0.98541,     0.98547,     0.98553,      0.9856,     0.98566,     0.98572,     0.98578,     0.98584,     0.98591,     0.98597,     0.98603,     0.98609,     0.98615,     0.98622,     0.98628,     0.98634,      0.9864,\n",
       "            0.98646,     0.98653,     0.98659,     0.98665,     0.98671,     0.98677,     0.98683,      0.9869,     0.98696,     0.98702,     0.98708,     0.98714,     0.98721,     0.98727,     0.98733,     0.98739,     0.98745,     0.98751,     0.98758,     0.98764,      0.9877,     0.98776,     0.98782,\n",
       "            0.98789,     0.98795,     0.98801,     0.98807,     0.98813,     0.98819,     0.98826,     0.98832,     0.98838,     0.98844,      0.9885,     0.98856,     0.98863,     0.98869,     0.98875,     0.98881,     0.98887,     0.98893,       0.989,     0.98906,     0.98912,     0.98918,     0.98924,\n",
       "             0.9893,     0.98936,     0.98943,     0.98949,     0.98955,     0.98961,     0.98967,     0.98973,      0.9898,     0.98986,     0.98992,     0.98998,     0.99004,      0.9901,     0.99016,     0.99023,     0.99029,     0.99035,     0.99041,     0.99047,     0.99053,     0.99059,     0.99066,\n",
       "            0.99072,     0.99078,     0.99084,      0.9909,     0.99096,     0.99102,     0.99109,     0.99115,     0.99121,     0.99127,     0.99133,     0.99139,     0.99145,     0.99151,     0.99158,     0.99164,      0.9917,     0.99176,     0.99182,     0.99188,     0.99194,       0.992,     0.99207,\n",
       "            0.99213,     0.99219,     0.99225,     0.99231,     0.99237,     0.99243,     0.99249,     0.99256,     0.99262,     0.99268,     0.99274,      0.9928,     0.99286,     0.99292,     0.99298,     0.99304,     0.99311,     0.99317,     0.99323,     0.99329,     0.99335,     0.99341,     0.99347,\n",
       "            0.99353,     0.99359,     0.99366,     0.99372,     0.99378,     0.99384,      0.9939,     0.99396,     0.99402,     0.99408,     0.99414,      0.9942,     0.99426,     0.99433,     0.99439,     0.99445,     0.99451,     0.99457,     0.99463,     0.99469,     0.99475,     0.99481,     0.99487,\n",
       "            0.99494,       0.995,     0.99506,     0.99512,     0.99518,     0.99524,      0.9953,     0.99536,     0.99542,     0.99548,     0.99554,      0.9956,     0.99567,     0.99573,     0.99579,     0.99585,     0.99591,     0.99597,     0.99603,     0.99609,     0.99615,     0.99621,     0.99627,\n",
       "            0.99633,     0.99639,     0.99645,     0.99652,     0.99658,     0.99664,      0.9967,     0.99676,     0.99682,     0.99688,     0.99694,       0.997,     0.99706,     0.99712,     0.99718,     0.99724,      0.9973,     0.99736,     0.99742,     0.99749,     0.99755,     0.99761,     0.99767,\n",
       "            0.99773,     0.99779,     0.99785,     0.99791,     0.99797,     0.99803,     0.99809,     0.99815,     0.99821,     0.99827,     0.99833,     0.99839,     0.99845,     0.99851,     0.99857,     0.99863,      0.9987,     0.99876,     0.99882,     0.99888,     0.99894,       0.999,     0.99906,\n",
       "            0.99912,     0.99918,     0.99924,      0.9993,     0.99936,     0.99942,     0.99948,     0.99954,      0.9996,     0.99966,     0.99972,     0.99978,     0.99984,      0.9999,     0.99996,     0.99943,     0.99791,     0.99638,     0.99485,     0.99332,     0.99178,     0.99024,     0.98869,\n",
       "            0.98713,     0.98557,     0.98401,     0.98244,     0.98087,     0.97929,     0.97771,     0.97612,     0.97453,     0.97293,     0.97133,     0.96972,     0.96811,     0.96649,     0.96487,     0.96324,     0.96161,     0.95997,     0.95833,     0.95668,     0.95503,     0.95337,      0.9517,\n",
       "            0.95003,     0.94836,     0.94668,     0.94499,      0.9433,      0.9416,      0.9399,      0.9382,     0.93648,     0.93476,     0.93072,     0.91501,     0.89884,     0.88218,     0.86501,     0.74836,     0.66872,     0.55874,      0.4831,     0.40634,           0,           0,           0,\n",
       "                  0,           0,           0,           0,           0,           0,           0,           0,           0,           0,           0]]), 'Confidence', 'F1'], [array([          0,    0.001001,    0.002002,    0.003003,    0.004004,    0.005005,    0.006006,    0.007007,    0.008008,    0.009009,     0.01001,    0.011011,    0.012012,    0.013013,    0.014014,    0.015015,    0.016016,    0.017017,    0.018018,    0.019019,     0.02002,    0.021021,    0.022022,    0.023023,\n",
       "          0.024024,    0.025025,    0.026026,    0.027027,    0.028028,    0.029029,     0.03003,    0.031031,    0.032032,    0.033033,    0.034034,    0.035035,    0.036036,    0.037037,    0.038038,    0.039039,     0.04004,    0.041041,    0.042042,    0.043043,    0.044044,    0.045045,    0.046046,    0.047047,\n",
       "          0.048048,    0.049049,     0.05005,    0.051051,    0.052052,    0.053053,    0.054054,    0.055055,    0.056056,    0.057057,    0.058058,    0.059059,     0.06006,    0.061061,    0.062062,    0.063063,    0.064064,    0.065065,    0.066066,    0.067067,    0.068068,    0.069069,     0.07007,    0.071071,\n",
       "          0.072072,    0.073073,    0.074074,    0.075075,    0.076076,    0.077077,    0.078078,    0.079079,     0.08008,    0.081081,    0.082082,    0.083083,    0.084084,    0.085085,    0.086086,    0.087087,    0.088088,    0.089089,     0.09009,    0.091091,    0.092092,    0.093093,    0.094094,    0.095095,\n",
       "          0.096096,    0.097097,    0.098098,    0.099099,      0.1001,      0.1011,      0.1021,      0.1031,      0.1041,     0.10511,     0.10611,     0.10711,     0.10811,     0.10911,     0.11011,     0.11111,     0.11211,     0.11311,     0.11411,     0.11512,     0.11612,     0.11712,     0.11812,     0.11912,\n",
       "           0.12012,     0.12112,     0.12212,     0.12312,     0.12412,     0.12513,     0.12613,     0.12713,     0.12813,     0.12913,     0.13013,     0.13113,     0.13213,     0.13313,     0.13413,     0.13514,     0.13614,     0.13714,     0.13814,     0.13914,     0.14014,     0.14114,     0.14214,     0.14314,\n",
       "           0.14414,     0.14515,     0.14615,     0.14715,     0.14815,     0.14915,     0.15015,     0.15115,     0.15215,     0.15315,     0.15415,     0.15516,     0.15616,     0.15716,     0.15816,     0.15916,     0.16016,     0.16116,     0.16216,     0.16316,     0.16416,     0.16517,     0.16617,     0.16717,\n",
       "           0.16817,     0.16917,     0.17017,     0.17117,     0.17217,     0.17317,     0.17417,     0.17518,     0.17618,     0.17718,     0.17818,     0.17918,     0.18018,     0.18118,     0.18218,     0.18318,     0.18418,     0.18519,     0.18619,     0.18719,     0.18819,     0.18919,     0.19019,     0.19119,\n",
       "           0.19219,     0.19319,     0.19419,      0.1952,      0.1962,      0.1972,      0.1982,      0.1992,      0.2002,      0.2012,      0.2022,      0.2032,      0.2042,     0.20521,     0.20621,     0.20721,     0.20821,     0.20921,     0.21021,     0.21121,     0.21221,     0.21321,     0.21421,     0.21522,\n",
       "           0.21622,     0.21722,     0.21822,     0.21922,     0.22022,     0.22122,     0.22222,     0.22322,     0.22422,     0.22523,     0.22623,     0.22723,     0.22823,     0.22923,     0.23023,     0.23123,     0.23223,     0.23323,     0.23423,     0.23524,     0.23624,     0.23724,     0.23824,     0.23924,\n",
       "           0.24024,     0.24124,     0.24224,     0.24324,     0.24424,     0.24525,     0.24625,     0.24725,     0.24825,     0.24925,     0.25025,     0.25125,     0.25225,     0.25325,     0.25425,     0.25526,     0.25626,     0.25726,     0.25826,     0.25926,     0.26026,     0.26126,     0.26226,     0.26326,\n",
       "           0.26426,     0.26527,     0.26627,     0.26727,     0.26827,     0.26927,     0.27027,     0.27127,     0.27227,     0.27327,     0.27427,     0.27528,     0.27628,     0.27728,     0.27828,     0.27928,     0.28028,     0.28128,     0.28228,     0.28328,     0.28428,     0.28529,     0.28629,     0.28729,\n",
       "           0.28829,     0.28929,     0.29029,     0.29129,     0.29229,     0.29329,     0.29429,      0.2953,      0.2963,      0.2973,      0.2983,      0.2993,      0.3003,      0.3013,      0.3023,      0.3033,      0.3043,     0.30531,     0.30631,     0.30731,     0.30831,     0.30931,     0.31031,     0.31131,\n",
       "           0.31231,     0.31331,     0.31431,     0.31532,     0.31632,     0.31732,     0.31832,     0.31932,     0.32032,     0.32132,     0.32232,     0.32332,     0.32432,     0.32533,     0.32633,     0.32733,     0.32833,     0.32933,     0.33033,     0.33133,     0.33233,     0.33333,     0.33433,     0.33534,\n",
       "           0.33634,     0.33734,     0.33834,     0.33934,     0.34034,     0.34134,     0.34234,     0.34334,     0.34434,     0.34535,     0.34635,     0.34735,     0.34835,     0.34935,     0.35035,     0.35135,     0.35235,     0.35335,     0.35435,     0.35536,     0.35636,     0.35736,     0.35836,     0.35936,\n",
       "           0.36036,     0.36136,     0.36236,     0.36336,     0.36436,     0.36537,     0.36637,     0.36737,     0.36837,     0.36937,     0.37037,     0.37137,     0.37237,     0.37337,     0.37437,     0.37538,     0.37638,     0.37738,     0.37838,     0.37938,     0.38038,     0.38138,     0.38238,     0.38338,\n",
       "           0.38438,     0.38539,     0.38639,     0.38739,     0.38839,     0.38939,     0.39039,     0.39139,     0.39239,     0.39339,     0.39439,      0.3954,      0.3964,      0.3974,      0.3984,      0.3994,      0.4004,      0.4014,      0.4024,      0.4034,      0.4044,     0.40541,     0.40641,     0.40741,\n",
       "           0.40841,     0.40941,     0.41041,     0.41141,     0.41241,     0.41341,     0.41441,     0.41542,     0.41642,     0.41742,     0.41842,     0.41942,     0.42042,     0.42142,     0.42242,     0.42342,     0.42442,     0.42543,     0.42643,     0.42743,     0.42843,     0.42943,     0.43043,     0.43143,\n",
       "           0.43243,     0.43343,     0.43443,     0.43544,     0.43644,     0.43744,     0.43844,     0.43944,     0.44044,     0.44144,     0.44244,     0.44344,     0.44444,     0.44545,     0.44645,     0.44745,     0.44845,     0.44945,     0.45045,     0.45145,     0.45245,     0.45345,     0.45445,     0.45546,\n",
       "           0.45646,     0.45746,     0.45846,     0.45946,     0.46046,     0.46146,     0.46246,     0.46346,     0.46446,     0.46547,     0.46647,     0.46747,     0.46847,     0.46947,     0.47047,     0.47147,     0.47247,     0.47347,     0.47447,     0.47548,     0.47648,     0.47748,     0.47848,     0.47948,\n",
       "           0.48048,     0.48148,     0.48248,     0.48348,     0.48448,     0.48549,     0.48649,     0.48749,     0.48849,     0.48949,     0.49049,     0.49149,     0.49249,     0.49349,     0.49449,      0.4955,      0.4965,      0.4975,      0.4985,      0.4995,      0.5005,      0.5015,      0.5025,      0.5035,\n",
       "            0.5045,     0.50551,     0.50651,     0.50751,     0.50851,     0.50951,     0.51051,     0.51151,     0.51251,     0.51351,     0.51451,     0.51552,     0.51652,     0.51752,     0.51852,     0.51952,     0.52052,     0.52152,     0.52252,     0.52352,     0.52452,     0.52553,     0.52653,     0.52753,\n",
       "           0.52853,     0.52953,     0.53053,     0.53153,     0.53253,     0.53353,     0.53453,     0.53554,     0.53654,     0.53754,     0.53854,     0.53954,     0.54054,     0.54154,     0.54254,     0.54354,     0.54454,     0.54555,     0.54655,     0.54755,     0.54855,     0.54955,     0.55055,     0.55155,\n",
       "           0.55255,     0.55355,     0.55455,     0.55556,     0.55656,     0.55756,     0.55856,     0.55956,     0.56056,     0.56156,     0.56256,     0.56356,     0.56456,     0.56557,     0.56657,     0.56757,     0.56857,     0.56957,     0.57057,     0.57157,     0.57257,     0.57357,     0.57457,     0.57558,\n",
       "           0.57658,     0.57758,     0.57858,     0.57958,     0.58058,     0.58158,     0.58258,     0.58358,     0.58458,     0.58559,     0.58659,     0.58759,     0.58859,     0.58959,     0.59059,     0.59159,     0.59259,     0.59359,     0.59459,      0.5956,      0.5966,      0.5976,      0.5986,      0.5996,\n",
       "            0.6006,      0.6016,      0.6026,      0.6036,      0.6046,     0.60561,     0.60661,     0.60761,     0.60861,     0.60961,     0.61061,     0.61161,     0.61261,     0.61361,     0.61461,     0.61562,     0.61662,     0.61762,     0.61862,     0.61962,     0.62062,     0.62162,     0.62262,     0.62362,\n",
       "           0.62462,     0.62563,     0.62663,     0.62763,     0.62863,     0.62963,     0.63063,     0.63163,     0.63263,     0.63363,     0.63463,     0.63564,     0.63664,     0.63764,     0.63864,     0.63964,     0.64064,     0.64164,     0.64264,     0.64364,     0.64464,     0.64565,     0.64665,     0.64765,\n",
       "           0.64865,     0.64965,     0.65065,     0.65165,     0.65265,     0.65365,     0.65465,     0.65566,     0.65666,     0.65766,     0.65866,     0.65966,     0.66066,     0.66166,     0.66266,     0.66366,     0.66466,     0.66567,     0.66667,     0.66767,     0.66867,     0.66967,     0.67067,     0.67167,\n",
       "           0.67267,     0.67367,     0.67467,     0.67568,     0.67668,     0.67768,     0.67868,     0.67968,     0.68068,     0.68168,     0.68268,     0.68368,     0.68468,     0.68569,     0.68669,     0.68769,     0.68869,     0.68969,     0.69069,     0.69169,     0.69269,     0.69369,     0.69469,      0.6957,\n",
       "            0.6967,      0.6977,      0.6987,      0.6997,      0.7007,      0.7017,      0.7027,      0.7037,      0.7047,     0.70571,     0.70671,     0.70771,     0.70871,     0.70971,     0.71071,     0.71171,     0.71271,     0.71371,     0.71471,     0.71572,     0.71672,     0.71772,     0.71872,     0.71972,\n",
       "           0.72072,     0.72172,     0.72272,     0.72372,     0.72472,     0.72573,     0.72673,     0.72773,     0.72873,     0.72973,     0.73073,     0.73173,     0.73273,     0.73373,     0.73473,     0.73574,     0.73674,     0.73774,     0.73874,     0.73974,     0.74074,     0.74174,     0.74274,     0.74374,\n",
       "           0.74474,     0.74575,     0.74675,     0.74775,     0.74875,     0.74975,     0.75075,     0.75175,     0.75275,     0.75375,     0.75475,     0.75576,     0.75676,     0.75776,     0.75876,     0.75976,     0.76076,     0.76176,     0.76276,     0.76376,     0.76476,     0.76577,     0.76677,     0.76777,\n",
       "           0.76877,     0.76977,     0.77077,     0.77177,     0.77277,     0.77377,     0.77477,     0.77578,     0.77678,     0.77778,     0.77878,     0.77978,     0.78078,     0.78178,     0.78278,     0.78378,     0.78478,     0.78579,     0.78679,     0.78779,     0.78879,     0.78979,     0.79079,     0.79179,\n",
       "           0.79279,     0.79379,     0.79479,      0.7958,      0.7968,      0.7978,      0.7988,      0.7998,      0.8008,      0.8018,      0.8028,      0.8038,      0.8048,     0.80581,     0.80681,     0.80781,     0.80881,     0.80981,     0.81081,     0.81181,     0.81281,     0.81381,     0.81481,     0.81582,\n",
       "           0.81682,     0.81782,     0.81882,     0.81982,     0.82082,     0.82182,     0.82282,     0.82382,     0.82482,     0.82583,     0.82683,     0.82783,     0.82883,     0.82983,     0.83083,     0.83183,     0.83283,     0.83383,     0.83483,     0.83584,     0.83684,     0.83784,     0.83884,     0.83984,\n",
       "           0.84084,     0.84184,     0.84284,     0.84384,     0.84484,     0.84585,     0.84685,     0.84785,     0.84885,     0.84985,     0.85085,     0.85185,     0.85285,     0.85385,     0.85485,     0.85586,     0.85686,     0.85786,     0.85886,     0.85986,     0.86086,     0.86186,     0.86286,     0.86386,\n",
       "           0.86486,     0.86587,     0.86687,     0.86787,     0.86887,     0.86987,     0.87087,     0.87187,     0.87287,     0.87387,     0.87487,     0.87588,     0.87688,     0.87788,     0.87888,     0.87988,     0.88088,     0.88188,     0.88288,     0.88388,     0.88488,     0.88589,     0.88689,     0.88789,\n",
       "           0.88889,     0.88989,     0.89089,     0.89189,     0.89289,     0.89389,     0.89489,      0.8959,      0.8969,      0.8979,      0.8989,      0.8999,      0.9009,      0.9019,      0.9029,      0.9039,      0.9049,     0.90591,     0.90691,     0.90791,     0.90891,     0.90991,     0.91091,     0.91191,\n",
       "           0.91291,     0.91391,     0.91491,     0.91592,     0.91692,     0.91792,     0.91892,     0.91992,     0.92092,     0.92192,     0.92292,     0.92392,     0.92492,     0.92593,     0.92693,     0.92793,     0.92893,     0.92993,     0.93093,     0.93193,     0.93293,     0.93393,     0.93493,     0.93594,\n",
       "           0.93694,     0.93794,     0.93894,     0.93994,     0.94094,     0.94194,     0.94294,     0.94394,     0.94494,     0.94595,     0.94695,     0.94795,     0.94895,     0.94995,     0.95095,     0.95195,     0.95295,     0.95395,     0.95495,     0.95596,     0.95696,     0.95796,     0.95896,     0.95996,\n",
       "           0.96096,     0.96196,     0.96296,     0.96396,     0.96496,     0.96597,     0.96697,     0.96797,     0.96897,     0.96997,     0.97097,     0.97197,     0.97297,     0.97397,     0.97497,     0.97598,     0.97698,     0.97798,     0.97898,     0.97998,     0.98098,     0.98198,     0.98298,     0.98398,\n",
       "           0.98498,     0.98599,     0.98699,     0.98799,     0.98899,     0.98999,     0.99099,     0.99199,     0.99299,     0.99399,     0.99499,       0.996,       0.997,       0.998,       0.999,           1]), array([[  0.0033333,   0.0033333,   0.0056648,   0.0068124,   0.0076711,    0.011747,    0.024494,    0.070396,     0.15702,     0.31665,     0.41346,     0.68016,     0.84358,     0.88892,     0.88904,     0.88916,     0.88928,      0.8894,     0.88952,     0.88964,     0.88976,     0.88989,     0.89001,\n",
       "            0.89013,     0.89025,     0.89037,     0.89049,     0.89061,     0.89073,     0.89085,     0.89097,     0.89109,     0.89121,     0.89133,     0.89145,     0.89157,     0.89169,     0.89181,     0.89193,     0.89205,     0.89218,      0.8923,     0.89242,     0.89254,     0.89266,     0.89278,\n",
       "             0.8929,     0.89302,     0.89314,     0.89326,     0.89338,      0.8935,     0.89362,     0.89374,     0.89386,     0.89398,      0.8941,     0.89422,     0.89434,     0.89447,     0.89459,     0.89471,     0.89483,     0.89495,     0.89507,     0.89519,     0.89531,     0.89543,     0.89555,\n",
       "            0.89567,     0.89579,     0.89591,     0.89603,     0.89615,     0.89627,     0.89639,     0.89651,     0.89663,     0.89676,     0.89688,       0.897,     0.89712,     0.89724,     0.89736,     0.89748,      0.8976,     0.89772,     0.89784,     0.89796,     0.89808,      0.8982,     0.89832,\n",
       "            0.89844,     0.89856,     0.89868,      0.8988,     0.89892,     0.89905,     0.89917,     0.89929,     0.89941,     0.89953,     0.89965,     0.89977,     0.89989,     0.90001,     0.90013,     0.90025,     0.90037,     0.90049,     0.90061,     0.90073,     0.90085,     0.90097,     0.90109,\n",
       "            0.90121,     0.90134,     0.90146,     0.90158,      0.9017,     0.90182,     0.90194,     0.90206,     0.90218,      0.9023,     0.90242,     0.90254,     0.90266,     0.90278,      0.9029,     0.90302,     0.90314,     0.90326,     0.90338,      0.9035,     0.90363,     0.90375,     0.90387,\n",
       "            0.90399,     0.90411,     0.90423,     0.90435,     0.90447,     0.90459,     0.90471,     0.90483,     0.90495,     0.90507,     0.90519,     0.90531,     0.90543,     0.90555,     0.90567,     0.90579,     0.90592,     0.90604,     0.90616,     0.90628,      0.9064,     0.90652,     0.90664,\n",
       "            0.90676,     0.90688,       0.907,     0.90712,     0.90724,     0.90736,     0.90748,      0.9076,     0.90772,     0.90784,     0.90796,     0.90808,     0.90821,     0.90833,     0.90845,     0.90857,     0.90869,     0.90881,     0.90893,     0.90905,     0.90917,     0.90929,     0.90941,\n",
       "            0.90953,     0.90965,     0.90977,     0.90989,     0.91001,     0.91013,     0.91025,     0.91037,      0.9105,     0.91062,     0.91074,     0.91086,     0.91098,      0.9111,     0.91122,     0.91134,     0.91146,     0.91158,      0.9117,     0.91182,     0.91194,     0.91206,     0.91218,\n",
       "             0.9123,     0.91242,     0.91254,     0.91266,     0.91279,     0.91291,     0.91303,     0.91315,     0.91327,     0.91339,     0.91351,     0.91363,     0.91375,     0.91387,     0.91399,     0.91411,     0.91423,     0.91435,     0.91447,     0.91459,     0.91471,     0.91483,     0.91495,\n",
       "            0.91508,      0.9152,     0.91532,     0.91544,     0.91556,     0.91568,      0.9158,     0.91592,     0.91604,     0.91616,     0.91628,      0.9164,     0.91652,     0.91664,     0.91676,     0.91688,       0.917,     0.91712,     0.91724,     0.91737,     0.91749,     0.91761,     0.91773,\n",
       "            0.91785,     0.91797,     0.91809,     0.91821,     0.91833,     0.91845,     0.91857,     0.91869,     0.91881,     0.91893,     0.91905,     0.91917,     0.91929,     0.91941,     0.91953,     0.91966,     0.91978,      0.9199,     0.92002,     0.92014,     0.92026,     0.92038,      0.9205,\n",
       "            0.92062,     0.92074,     0.92086,     0.92098,      0.9211,     0.92122,     0.92134,     0.92146,     0.92158,      0.9217,     0.92182,     0.92195,     0.92207,     0.92219,     0.92231,     0.92243,     0.92255,     0.92267,     0.92279,     0.92291,     0.92303,     0.92315,     0.92327,\n",
       "            0.92339,     0.92351,     0.92363,     0.92375,     0.92387,     0.92399,     0.92411,     0.92424,     0.92436,     0.92448,      0.9246,     0.92472,     0.92484,     0.92496,     0.92508,      0.9252,     0.92532,     0.92544,     0.92556,     0.92568,      0.9258,     0.92592,     0.92604,\n",
       "            0.92616,     0.92628,      0.9264,     0.92652,     0.92665,     0.92677,     0.92689,     0.92701,     0.92713,     0.92725,     0.92737,     0.92749,     0.92761,     0.92773,     0.92785,     0.92797,     0.92809,     0.92821,     0.92833,     0.92845,     0.92857,     0.92869,     0.92881,\n",
       "            0.92894,     0.92906,     0.92918,      0.9293,     0.92942,     0.92954,     0.92966,     0.92978,      0.9299,     0.93002,     0.93014,     0.93026,     0.93038,      0.9305,     0.93062,     0.93074,     0.93086,     0.93098,      0.9311,     0.93123,     0.93135,     0.93147,     0.93159,\n",
       "            0.93171,     0.93183,     0.93195,     0.93207,     0.93219,     0.93231,     0.93243,     0.93255,     0.93267,     0.93279,     0.93291,     0.93303,     0.93315,     0.93327,     0.93339,     0.93352,     0.93364,     0.93376,     0.93388,       0.934,     0.93412,     0.93424,     0.93436,\n",
       "            0.93448,      0.9346,     0.93472,     0.93484,     0.93496,     0.93508,      0.9352,     0.93532,     0.93544,     0.93556,     0.93568,     0.93581,     0.93593,     0.93605,     0.93617,     0.93629,     0.93641,     0.93653,     0.93665,     0.93677,     0.93689,     0.93701,     0.93713,\n",
       "            0.93725,     0.93737,     0.93749,     0.93761,     0.93773,     0.93785,     0.93797,      0.9381,     0.93822,     0.93834,     0.93846,     0.93858,      0.9387,     0.93882,     0.93894,     0.93906,     0.93918,      0.9393,     0.93942,     0.93954,     0.93966,     0.93978,      0.9399,\n",
       "            0.94002,     0.94014,     0.94026,     0.94039,     0.94051,     0.94063,     0.94075,     0.94087,     0.94099,     0.94111,     0.94123,     0.94135,     0.94147,     0.94159,     0.94171,     0.94183,     0.94195,     0.94207,     0.94219,     0.94231,     0.94243,     0.94255,     0.94268,\n",
       "             0.9428,     0.94292,     0.94304,     0.94316,     0.94328,      0.9434,     0.94352,     0.94364,     0.94376,     0.94388,       0.944,     0.94412,     0.94424,     0.94436,     0.94448,      0.9446,     0.94472,     0.94484,     0.94497,     0.94509,     0.94521,     0.94533,     0.94545,\n",
       "            0.94557,     0.94569,     0.94581,     0.94593,     0.94605,     0.94617,     0.94629,     0.94641,     0.94653,     0.94665,     0.94677,     0.94689,     0.94701,     0.94713,     0.94726,     0.94738,      0.9475,     0.94762,     0.94774,     0.94786,     0.94798,      0.9481,     0.94822,\n",
       "            0.94834,     0.94846,     0.94858,      0.9487,     0.94882,     0.94894,     0.94906,     0.94918,      0.9493,     0.94942,     0.94955,     0.94967,     0.94979,     0.94991,     0.95003,     0.95015,     0.95027,     0.95039,     0.95051,     0.95063,     0.95075,     0.95087,     0.95099,\n",
       "            0.95111,     0.95123,     0.95135,     0.95147,     0.95159,     0.95171,     0.95184,     0.95196,     0.95208,      0.9522,     0.95232,     0.95244,     0.95256,     0.95268,      0.9528,     0.95292,     0.95304,     0.95316,     0.95328,      0.9534,     0.95352,     0.95364,     0.95376,\n",
       "            0.95388,       0.954,     0.95413,     0.95425,     0.95437,     0.95449,     0.95461,     0.95473,     0.95485,     0.95497,     0.95509,     0.95521,     0.95533,     0.95545,     0.95557,     0.95569,     0.95581,     0.95593,     0.95605,     0.95617,     0.95629,     0.95642,     0.95654,\n",
       "            0.95666,     0.95678,      0.9569,     0.95702,     0.95714,     0.95726,     0.95738,      0.9575,     0.95762,     0.95774,     0.95786,     0.95798,      0.9581,     0.95822,     0.95834,     0.95846,     0.95858,     0.95871,     0.95883,     0.95895,     0.95907,     0.95919,     0.95931,\n",
       "            0.95943,     0.95955,     0.95967,     0.95979,     0.95991,     0.96003,     0.96015,     0.96027,     0.96039,     0.96051,     0.96063,     0.96075,     0.96087,       0.961,     0.96112,     0.96124,     0.96136,     0.96148,      0.9616,     0.96172,     0.96184,     0.96196,     0.96208,\n",
       "             0.9622,     0.96232,     0.96244,     0.96256,     0.96268,      0.9628,     0.96292,     0.96304,     0.96316,     0.96329,     0.96341,     0.96353,     0.96365,     0.96377,     0.96389,     0.96401,     0.96413,     0.96425,     0.96437,     0.96449,     0.96461,     0.96473,     0.96485,\n",
       "            0.96497,     0.96509,     0.96521,     0.96533,     0.96545,     0.96558,      0.9657,     0.96582,     0.96594,     0.96606,     0.96618,      0.9663,     0.96642,     0.96654,     0.96666,     0.96678,      0.9669,     0.96702,     0.96714,     0.96726,     0.96738,      0.9675,     0.96762,\n",
       "            0.96774,     0.96787,     0.96799,     0.96811,     0.96823,     0.96835,     0.96847,     0.96859,     0.96871,     0.96883,     0.96895,     0.96907,     0.96919,     0.96931,     0.96943,     0.96955,     0.96967,     0.96979,     0.96991,     0.97003,     0.97016,     0.97028,      0.9704,\n",
       "            0.97052,     0.97064,     0.97076,     0.97088,       0.971,     0.97112,     0.97124,     0.97136,     0.97148,      0.9716,     0.97172,     0.97184,     0.97196,     0.97208,      0.9722,     0.97232,     0.97245,     0.97257,     0.97269,     0.97281,     0.97293,     0.97305,     0.97317,\n",
       "            0.97329,     0.97341,     0.97353,     0.97365,     0.97377,     0.97389,     0.97401,     0.97413,     0.97425,     0.97437,     0.97449,     0.97461,     0.97473,     0.97486,     0.97498,      0.9751,     0.97522,     0.97534,     0.97546,     0.97558,      0.9757,     0.97582,     0.97594,\n",
       "            0.97606,     0.97618,      0.9763,     0.97642,     0.97654,     0.97666,     0.97678,      0.9769,     0.97702,     0.97715,     0.97727,     0.97739,     0.97751,     0.97763,     0.97775,     0.97787,     0.97799,     0.97811,     0.97823,     0.97835,     0.97847,     0.97859,     0.97871,\n",
       "            0.97883,     0.97895,     0.97907,     0.97919,     0.97931,     0.97944,     0.97956,     0.97968,      0.9798,     0.97992,     0.98004,     0.98016,     0.98028,      0.9804,     0.98052,     0.98064,     0.98076,     0.98088,       0.981,     0.98112,     0.98124,     0.98136,     0.98148,\n",
       "             0.9816,     0.98173,     0.98185,     0.98197,     0.98209,     0.98221,     0.98233,     0.98245,     0.98257,     0.98269,     0.98281,     0.98293,     0.98305,     0.98317,     0.98329,     0.98341,     0.98353,     0.98365,     0.98377,     0.98389,     0.98402,     0.98414,     0.98426,\n",
       "            0.98438,      0.9845,     0.98462,     0.98474,     0.98486,     0.98498,      0.9851,     0.98522,     0.98534,     0.98546,     0.98558,      0.9857,     0.98582,     0.98594,     0.98606,     0.98618,     0.98631,     0.98643,     0.98655,     0.98667,     0.98679,     0.98691,     0.98703,\n",
       "            0.98715,     0.98727,     0.98739,     0.98751,     0.98763,     0.98775,     0.98787,     0.98799,     0.98811,     0.98823,     0.98835,     0.98847,      0.9886,     0.98872,     0.98884,     0.98896,     0.98908,      0.9892,     0.98932,     0.98944,     0.98956,     0.98968,      0.9898,\n",
       "            0.98992,     0.99004,     0.99016,     0.99028,      0.9904,     0.99052,     0.99064,     0.99076,     0.99089,     0.99101,     0.99113,     0.99125,     0.99137,     0.99149,     0.99161,     0.99173,     0.99185,     0.99197,     0.99209,     0.99221,     0.99233,     0.99245,     0.99257,\n",
       "            0.99269,     0.99281,     0.99293,     0.99305,     0.99318,      0.9933,     0.99342,     0.99354,     0.99366,     0.99378,      0.9939,     0.99402,     0.99414,     0.99426,     0.99438,      0.9945,     0.99462,     0.99474,     0.99486,     0.99498,      0.9951,     0.99522,     0.99534,\n",
       "            0.99547,     0.99559,     0.99571,     0.99583,     0.99595,     0.99607,     0.99619,     0.99631,     0.99643,     0.99655,     0.99667,     0.99679,     0.99691,     0.99703,     0.99715,     0.99727,     0.99739,     0.99751,     0.99763,     0.99776,     0.99788,       0.998,     0.99812,\n",
       "            0.99824,     0.99836,     0.99848,      0.9986,     0.99872,     0.99884,     0.99896,     0.99908,      0.9992,     0.99932,     0.99944,     0.99956,     0.99968,      0.9998,     0.99992,           1,           1,           1,           1,           1,           1,           1,           1,\n",
       "                  1,           1,           1,           1,           1,           1,           1,           1,           1,           1,           1,           1,           1,           1,           1,           1,           1,           1,           1,           1,           1,           1,           1,\n",
       "                  1,           1,           1,           1,           1,           1,           1,           1,           1,           1,           1,           1,           1,           1,           1,           1,           1,           1,           1,           1,           1,           1,           1,\n",
       "                  1,           1,           1,           1,           1,           1,           1,           1,           1,           1,           1]]), 'Confidence', 'Precision'], [array([          0,    0.001001,    0.002002,    0.003003,    0.004004,    0.005005,    0.006006,    0.007007,    0.008008,    0.009009,     0.01001,    0.011011,    0.012012,    0.013013,    0.014014,    0.015015,    0.016016,    0.017017,    0.018018,    0.019019,     0.02002,    0.021021,    0.022022,    0.023023,\n",
       "          0.024024,    0.025025,    0.026026,    0.027027,    0.028028,    0.029029,     0.03003,    0.031031,    0.032032,    0.033033,    0.034034,    0.035035,    0.036036,    0.037037,    0.038038,    0.039039,     0.04004,    0.041041,    0.042042,    0.043043,    0.044044,    0.045045,    0.046046,    0.047047,\n",
       "          0.048048,    0.049049,     0.05005,    0.051051,    0.052052,    0.053053,    0.054054,    0.055055,    0.056056,    0.057057,    0.058058,    0.059059,     0.06006,    0.061061,    0.062062,    0.063063,    0.064064,    0.065065,    0.066066,    0.067067,    0.068068,    0.069069,     0.07007,    0.071071,\n",
       "          0.072072,    0.073073,    0.074074,    0.075075,    0.076076,    0.077077,    0.078078,    0.079079,     0.08008,    0.081081,    0.082082,    0.083083,    0.084084,    0.085085,    0.086086,    0.087087,    0.088088,    0.089089,     0.09009,    0.091091,    0.092092,    0.093093,    0.094094,    0.095095,\n",
       "          0.096096,    0.097097,    0.098098,    0.099099,      0.1001,      0.1011,      0.1021,      0.1031,      0.1041,     0.10511,     0.10611,     0.10711,     0.10811,     0.10911,     0.11011,     0.11111,     0.11211,     0.11311,     0.11411,     0.11512,     0.11612,     0.11712,     0.11812,     0.11912,\n",
       "           0.12012,     0.12112,     0.12212,     0.12312,     0.12412,     0.12513,     0.12613,     0.12713,     0.12813,     0.12913,     0.13013,     0.13113,     0.13213,     0.13313,     0.13413,     0.13514,     0.13614,     0.13714,     0.13814,     0.13914,     0.14014,     0.14114,     0.14214,     0.14314,\n",
       "           0.14414,     0.14515,     0.14615,     0.14715,     0.14815,     0.14915,     0.15015,     0.15115,     0.15215,     0.15315,     0.15415,     0.15516,     0.15616,     0.15716,     0.15816,     0.15916,     0.16016,     0.16116,     0.16216,     0.16316,     0.16416,     0.16517,     0.16617,     0.16717,\n",
       "           0.16817,     0.16917,     0.17017,     0.17117,     0.17217,     0.17317,     0.17417,     0.17518,     0.17618,     0.17718,     0.17818,     0.17918,     0.18018,     0.18118,     0.18218,     0.18318,     0.18418,     0.18519,     0.18619,     0.18719,     0.18819,     0.18919,     0.19019,     0.19119,\n",
       "           0.19219,     0.19319,     0.19419,      0.1952,      0.1962,      0.1972,      0.1982,      0.1992,      0.2002,      0.2012,      0.2022,      0.2032,      0.2042,     0.20521,     0.20621,     0.20721,     0.20821,     0.20921,     0.21021,     0.21121,     0.21221,     0.21321,     0.21421,     0.21522,\n",
       "           0.21622,     0.21722,     0.21822,     0.21922,     0.22022,     0.22122,     0.22222,     0.22322,     0.22422,     0.22523,     0.22623,     0.22723,     0.22823,     0.22923,     0.23023,     0.23123,     0.23223,     0.23323,     0.23423,     0.23524,     0.23624,     0.23724,     0.23824,     0.23924,\n",
       "           0.24024,     0.24124,     0.24224,     0.24324,     0.24424,     0.24525,     0.24625,     0.24725,     0.24825,     0.24925,     0.25025,     0.25125,     0.25225,     0.25325,     0.25425,     0.25526,     0.25626,     0.25726,     0.25826,     0.25926,     0.26026,     0.26126,     0.26226,     0.26326,\n",
       "           0.26426,     0.26527,     0.26627,     0.26727,     0.26827,     0.26927,     0.27027,     0.27127,     0.27227,     0.27327,     0.27427,     0.27528,     0.27628,     0.27728,     0.27828,     0.27928,     0.28028,     0.28128,     0.28228,     0.28328,     0.28428,     0.28529,     0.28629,     0.28729,\n",
       "           0.28829,     0.28929,     0.29029,     0.29129,     0.29229,     0.29329,     0.29429,      0.2953,      0.2963,      0.2973,      0.2983,      0.2993,      0.3003,      0.3013,      0.3023,      0.3033,      0.3043,     0.30531,     0.30631,     0.30731,     0.30831,     0.30931,     0.31031,     0.31131,\n",
       "           0.31231,     0.31331,     0.31431,     0.31532,     0.31632,     0.31732,     0.31832,     0.31932,     0.32032,     0.32132,     0.32232,     0.32332,     0.32432,     0.32533,     0.32633,     0.32733,     0.32833,     0.32933,     0.33033,     0.33133,     0.33233,     0.33333,     0.33433,     0.33534,\n",
       "           0.33634,     0.33734,     0.33834,     0.33934,     0.34034,     0.34134,     0.34234,     0.34334,     0.34434,     0.34535,     0.34635,     0.34735,     0.34835,     0.34935,     0.35035,     0.35135,     0.35235,     0.35335,     0.35435,     0.35536,     0.35636,     0.35736,     0.35836,     0.35936,\n",
       "           0.36036,     0.36136,     0.36236,     0.36336,     0.36436,     0.36537,     0.36637,     0.36737,     0.36837,     0.36937,     0.37037,     0.37137,     0.37237,     0.37337,     0.37437,     0.37538,     0.37638,     0.37738,     0.37838,     0.37938,     0.38038,     0.38138,     0.38238,     0.38338,\n",
       "           0.38438,     0.38539,     0.38639,     0.38739,     0.38839,     0.38939,     0.39039,     0.39139,     0.39239,     0.39339,     0.39439,      0.3954,      0.3964,      0.3974,      0.3984,      0.3994,      0.4004,      0.4014,      0.4024,      0.4034,      0.4044,     0.40541,     0.40641,     0.40741,\n",
       "           0.40841,     0.40941,     0.41041,     0.41141,     0.41241,     0.41341,     0.41441,     0.41542,     0.41642,     0.41742,     0.41842,     0.41942,     0.42042,     0.42142,     0.42242,     0.42342,     0.42442,     0.42543,     0.42643,     0.42743,     0.42843,     0.42943,     0.43043,     0.43143,\n",
       "           0.43243,     0.43343,     0.43443,     0.43544,     0.43644,     0.43744,     0.43844,     0.43944,     0.44044,     0.44144,     0.44244,     0.44344,     0.44444,     0.44545,     0.44645,     0.44745,     0.44845,     0.44945,     0.45045,     0.45145,     0.45245,     0.45345,     0.45445,     0.45546,\n",
       "           0.45646,     0.45746,     0.45846,     0.45946,     0.46046,     0.46146,     0.46246,     0.46346,     0.46446,     0.46547,     0.46647,     0.46747,     0.46847,     0.46947,     0.47047,     0.47147,     0.47247,     0.47347,     0.47447,     0.47548,     0.47648,     0.47748,     0.47848,     0.47948,\n",
       "           0.48048,     0.48148,     0.48248,     0.48348,     0.48448,     0.48549,     0.48649,     0.48749,     0.48849,     0.48949,     0.49049,     0.49149,     0.49249,     0.49349,     0.49449,      0.4955,      0.4965,      0.4975,      0.4985,      0.4995,      0.5005,      0.5015,      0.5025,      0.5035,\n",
       "            0.5045,     0.50551,     0.50651,     0.50751,     0.50851,     0.50951,     0.51051,     0.51151,     0.51251,     0.51351,     0.51451,     0.51552,     0.51652,     0.51752,     0.51852,     0.51952,     0.52052,     0.52152,     0.52252,     0.52352,     0.52452,     0.52553,     0.52653,     0.52753,\n",
       "           0.52853,     0.52953,     0.53053,     0.53153,     0.53253,     0.53353,     0.53453,     0.53554,     0.53654,     0.53754,     0.53854,     0.53954,     0.54054,     0.54154,     0.54254,     0.54354,     0.54454,     0.54555,     0.54655,     0.54755,     0.54855,     0.54955,     0.55055,     0.55155,\n",
       "           0.55255,     0.55355,     0.55455,     0.55556,     0.55656,     0.55756,     0.55856,     0.55956,     0.56056,     0.56156,     0.56256,     0.56356,     0.56456,     0.56557,     0.56657,     0.56757,     0.56857,     0.56957,     0.57057,     0.57157,     0.57257,     0.57357,     0.57457,     0.57558,\n",
       "           0.57658,     0.57758,     0.57858,     0.57958,     0.58058,     0.58158,     0.58258,     0.58358,     0.58458,     0.58559,     0.58659,     0.58759,     0.58859,     0.58959,     0.59059,     0.59159,     0.59259,     0.59359,     0.59459,      0.5956,      0.5966,      0.5976,      0.5986,      0.5996,\n",
       "            0.6006,      0.6016,      0.6026,      0.6036,      0.6046,     0.60561,     0.60661,     0.60761,     0.60861,     0.60961,     0.61061,     0.61161,     0.61261,     0.61361,     0.61461,     0.61562,     0.61662,     0.61762,     0.61862,     0.61962,     0.62062,     0.62162,     0.62262,     0.62362,\n",
       "           0.62462,     0.62563,     0.62663,     0.62763,     0.62863,     0.62963,     0.63063,     0.63163,     0.63263,     0.63363,     0.63463,     0.63564,     0.63664,     0.63764,     0.63864,     0.63964,     0.64064,     0.64164,     0.64264,     0.64364,     0.64464,     0.64565,     0.64665,     0.64765,\n",
       "           0.64865,     0.64965,     0.65065,     0.65165,     0.65265,     0.65365,     0.65465,     0.65566,     0.65666,     0.65766,     0.65866,     0.65966,     0.66066,     0.66166,     0.66266,     0.66366,     0.66466,     0.66567,     0.66667,     0.66767,     0.66867,     0.66967,     0.67067,     0.67167,\n",
       "           0.67267,     0.67367,     0.67467,     0.67568,     0.67668,     0.67768,     0.67868,     0.67968,     0.68068,     0.68168,     0.68268,     0.68368,     0.68468,     0.68569,     0.68669,     0.68769,     0.68869,     0.68969,     0.69069,     0.69169,     0.69269,     0.69369,     0.69469,      0.6957,\n",
       "            0.6967,      0.6977,      0.6987,      0.6997,      0.7007,      0.7017,      0.7027,      0.7037,      0.7047,     0.70571,     0.70671,     0.70771,     0.70871,     0.70971,     0.71071,     0.71171,     0.71271,     0.71371,     0.71471,     0.71572,     0.71672,     0.71772,     0.71872,     0.71972,\n",
       "           0.72072,     0.72172,     0.72272,     0.72372,     0.72472,     0.72573,     0.72673,     0.72773,     0.72873,     0.72973,     0.73073,     0.73173,     0.73273,     0.73373,     0.73473,     0.73574,     0.73674,     0.73774,     0.73874,     0.73974,     0.74074,     0.74174,     0.74274,     0.74374,\n",
       "           0.74474,     0.74575,     0.74675,     0.74775,     0.74875,     0.74975,     0.75075,     0.75175,     0.75275,     0.75375,     0.75475,     0.75576,     0.75676,     0.75776,     0.75876,     0.75976,     0.76076,     0.76176,     0.76276,     0.76376,     0.76476,     0.76577,     0.76677,     0.76777,\n",
       "           0.76877,     0.76977,     0.77077,     0.77177,     0.77277,     0.77377,     0.77477,     0.77578,     0.77678,     0.77778,     0.77878,     0.77978,     0.78078,     0.78178,     0.78278,     0.78378,     0.78478,     0.78579,     0.78679,     0.78779,     0.78879,     0.78979,     0.79079,     0.79179,\n",
       "           0.79279,     0.79379,     0.79479,      0.7958,      0.7968,      0.7978,      0.7988,      0.7998,      0.8008,      0.8018,      0.8028,      0.8038,      0.8048,     0.80581,     0.80681,     0.80781,     0.80881,     0.80981,     0.81081,     0.81181,     0.81281,     0.81381,     0.81481,     0.81582,\n",
       "           0.81682,     0.81782,     0.81882,     0.81982,     0.82082,     0.82182,     0.82282,     0.82382,     0.82482,     0.82583,     0.82683,     0.82783,     0.82883,     0.82983,     0.83083,     0.83183,     0.83283,     0.83383,     0.83483,     0.83584,     0.83684,     0.83784,     0.83884,     0.83984,\n",
       "           0.84084,     0.84184,     0.84284,     0.84384,     0.84484,     0.84585,     0.84685,     0.84785,     0.84885,     0.84985,     0.85085,     0.85185,     0.85285,     0.85385,     0.85485,     0.85586,     0.85686,     0.85786,     0.85886,     0.85986,     0.86086,     0.86186,     0.86286,     0.86386,\n",
       "           0.86486,     0.86587,     0.86687,     0.86787,     0.86887,     0.86987,     0.87087,     0.87187,     0.87287,     0.87387,     0.87487,     0.87588,     0.87688,     0.87788,     0.87888,     0.87988,     0.88088,     0.88188,     0.88288,     0.88388,     0.88488,     0.88589,     0.88689,     0.88789,\n",
       "           0.88889,     0.88989,     0.89089,     0.89189,     0.89289,     0.89389,     0.89489,      0.8959,      0.8969,      0.8979,      0.8989,      0.8999,      0.9009,      0.9019,      0.9029,      0.9039,      0.9049,     0.90591,     0.90691,     0.90791,     0.90891,     0.90991,     0.91091,     0.91191,\n",
       "           0.91291,     0.91391,     0.91491,     0.91592,     0.91692,     0.91792,     0.91892,     0.91992,     0.92092,     0.92192,     0.92292,     0.92392,     0.92492,     0.92593,     0.92693,     0.92793,     0.92893,     0.92993,     0.93093,     0.93193,     0.93293,     0.93393,     0.93493,     0.93594,\n",
       "           0.93694,     0.93794,     0.93894,     0.93994,     0.94094,     0.94194,     0.94294,     0.94394,     0.94494,     0.94595,     0.94695,     0.94795,     0.94895,     0.94995,     0.95095,     0.95195,     0.95295,     0.95395,     0.95495,     0.95596,     0.95696,     0.95796,     0.95896,     0.95996,\n",
       "           0.96096,     0.96196,     0.96296,     0.96396,     0.96496,     0.96597,     0.96697,     0.96797,     0.96897,     0.96997,     0.97097,     0.97197,     0.97297,     0.97397,     0.97497,     0.97598,     0.97698,     0.97798,     0.97898,     0.97998,     0.98098,     0.98198,     0.98298,     0.98398,\n",
       "           0.98498,     0.98599,     0.98699,     0.98799,     0.98899,     0.98999,     0.99099,     0.99199,     0.99299,     0.99399,     0.99499,       0.996,       0.997,       0.998,       0.999,           1]), array([[          1,           1,           1,           1,           1,           1,           1,           1,           1,           1,           1,           1,           1,           1,           1,           1,           1,           1,           1,           1,           1,           1,           1,\n",
       "                  1,           1,           1,           1,           1,           1,           1,           1,           1,           1,           1,           1,           1,           1,           1,           1,           1,           1,           1,           1,           1,           1,           1,\n",
       "                  1,           1,           1,           1,           1,           1,           1,           1,           1,           1,           1,           1,           1,           1,           1,           1,           1,           1,           1,           1,           1,           1,           1,\n",
       "                  1,           1,           1,           1,           1,           1,           1,           1,           1,           1,           1,           1,           1,           1,           1,           1,           1,           1,           1,           1,           1,           1,           1,\n",
       "                  1,           1,           1,           1,           1,           1,           1,           1,           1,           1,           1,           1,           1,           1,           1,           1,           1,           1,           1,           1,           1,           1,           1,\n",
       "                  1,           1,           1,           1,           1,           1,           1,           1,           1,           1,           1,           1,           1,           1,           1,           1,           1,           1,           1,           1,           1,           1,           1,\n",
       "                  1,           1,           1,           1,           1,           1,           1,           1,           1,           1,           1,           1,           1,           1,           1,           1,           1,           1,           1,           1,           1,           1,           1,\n",
       "                  1,           1,           1,           1,           1,           1,           1,           1,           1,           1,           1,           1,           1,           1,           1,           1,           1,           1,           1,           1,           1,           1,           1,\n",
       "                  1,           1,           1,           1,           1,           1,           1,           1,           1,           1,           1,           1,           1,           1,           1,           1,           1,           1,           1,           1,           1,           1,           1,\n",
       "                  1,           1,           1,           1,           1,           1,           1,           1,           1,           1,           1,           1,           1,           1,           1,           1,           1,           1,           1,           1,           1,           1,           1,\n",
       "                  1,           1,           1,           1,           1,           1,           1,           1,           1,           1,           1,           1,           1,           1,           1,           1,           1,           1,           1,           1,           1,           1,           1,\n",
       "                  1,           1,           1,           1,           1,           1,           1,           1,           1,           1,           1,           1,           1,           1,           1,           1,           1,           1,           1,           1,           1,           1,           1,\n",
       "                  1,           1,           1,           1,           1,           1,           1,           1,           1,           1,           1,           1,           1,           1,           1,           1,           1,           1,           1,           1,           1,           1,           1,\n",
       "                  1,           1,           1,           1,           1,           1,           1,           1,           1,           1,           1,           1,           1,           1,           1,           1,           1,           1,           1,           1,           1,           1,           1,\n",
       "                  1,           1,           1,           1,           1,           1,           1,           1,           1,           1,           1,           1,           1,           1,           1,           1,           1,           1,           1,           1,           1,           1,           1,\n",
       "                  1,           1,           1,           1,           1,           1,           1,           1,           1,           1,           1,           1,           1,           1,           1,           1,           1,           1,           1,           1,           1,           1,           1,\n",
       "                  1,           1,           1,           1,           1,           1,           1,           1,           1,           1,           1,           1,           1,           1,           1,           1,           1,           1,           1,           1,           1,           1,           1,\n",
       "                  1,           1,           1,           1,           1,           1,           1,           1,           1,           1,           1,           1,           1,           1,           1,           1,           1,           1,           1,           1,           1,           1,           1,\n",
       "                  1,           1,           1,           1,           1,           1,           1,           1,           1,           1,           1,           1,           1,           1,           1,           1,           1,           1,           1,           1,           1,           1,           1,\n",
       "                  1,           1,           1,           1,           1,           1,           1,           1,           1,           1,           1,           1,           1,           1,           1,           1,           1,           1,           1,           1,           1,           1,           1,\n",
       "                  1,           1,           1,           1,           1,           1,           1,           1,           1,           1,           1,           1,           1,           1,           1,           1,           1,           1,           1,           1,           1,           1,           1,\n",
       "                  1,           1,           1,           1,           1,           1,           1,           1,           1,           1,           1,           1,           1,           1,           1,           1,           1,           1,           1,           1,           1,           1,           1,\n",
       "                  1,           1,           1,           1,           1,           1,           1,           1,           1,           1,           1,           1,           1,           1,           1,           1,           1,           1,           1,           1,           1,           1,           1,\n",
       "                  1,           1,           1,           1,           1,           1,           1,           1,           1,           1,           1,           1,           1,           1,           1,           1,           1,           1,           1,           1,           1,           1,           1,\n",
       "                  1,           1,           1,           1,           1,           1,           1,           1,           1,           1,           1,           1,           1,           1,           1,           1,           1,           1,           1,           1,           1,           1,           1,\n",
       "                  1,           1,           1,           1,           1,           1,           1,           1,           1,           1,           1,           1,           1,           1,           1,           1,           1,           1,           1,           1,           1,           1,           1,\n",
       "                  1,           1,           1,           1,           1,           1,           1,           1,           1,           1,           1,           1,           1,           1,           1,           1,           1,           1,           1,           1,           1,           1,           1,\n",
       "                  1,           1,           1,           1,           1,           1,           1,           1,           1,           1,           1,           1,           1,           1,           1,           1,           1,           1,           1,           1,           1,           1,           1,\n",
       "                  1,           1,           1,           1,           1,           1,           1,           1,           1,           1,           1,           1,           1,           1,           1,           1,           1,           1,           1,           1,           1,           1,           1,\n",
       "                  1,           1,           1,           1,           1,           1,           1,           1,           1,           1,           1,           1,           1,           1,           1,           1,           1,           1,           1,           1,           1,           1,           1,\n",
       "                  1,           1,           1,           1,           1,           1,           1,           1,           1,           1,           1,           1,           1,           1,           1,           1,           1,           1,           1,           1,           1,           1,           1,\n",
       "                  1,           1,           1,           1,           1,           1,           1,           1,           1,           1,           1,           1,           1,           1,           1,           1,           1,           1,           1,           1,           1,           1,           1,\n",
       "                  1,           1,           1,           1,           1,           1,           1,           1,           1,           1,           1,           1,           1,           1,           1,           1,           1,           1,           1,           1,           1,           1,           1,\n",
       "                  1,           1,           1,           1,           1,           1,           1,           1,           1,           1,           1,           1,           1,           1,           1,           1,           1,           1,           1,           1,           1,           1,           1,\n",
       "                  1,           1,           1,           1,           1,           1,           1,           1,           1,           1,           1,           1,           1,           1,           1,           1,           1,           1,           1,           1,           1,           1,           1,\n",
       "                  1,           1,           1,           1,           1,           1,           1,           1,           1,           1,           1,           1,           1,           1,           1,           1,           1,           1,           1,           1,           1,           1,           1,\n",
       "                  1,           1,           1,           1,           1,           1,           1,           1,           1,           1,           1,           1,           1,           1,           1,           1,           1,           1,           1,           1,           1,           1,           1,\n",
       "                  1,           1,           1,           1,           1,           1,           1,           1,           1,           1,           1,           1,           1,           1,           1,           1,           1,           1,           1,           1,           1,           1,           1,\n",
       "                  1,           1,           1,           1,           1,           1,           1,           1,           1,           1,           1,           1,           1,           1,           1,           1,           1,           1,           1,           1,           1,           1,           1,\n",
       "                  1,           1,           1,           1,           1,           1,           1,           1,           1,           1,           1,           1,           1,           1,           1,           1,           1,           1,           1,           1,           1,           1,           1,\n",
       "                  1,           1,           1,           1,           1,           1,           1,           1,           1,           1,           1,           1,           1,           1,           1,     0.99886,     0.99583,     0.99279,     0.98976,     0.98673,     0.98369,     0.98066,     0.97763,\n",
       "            0.97459,     0.97156,     0.96853,     0.96549,     0.96246,     0.95943,     0.95639,     0.95336,     0.95032,     0.94729,     0.94426,     0.94122,     0.93819,     0.93516,     0.93212,     0.92909,     0.92606,     0.92302,     0.91999,     0.91696,     0.91392,     0.91089,     0.90785,\n",
       "            0.90482,     0.90179,     0.89875,     0.89572,     0.89269,     0.88965,     0.88662,     0.88359,     0.88055,     0.87752,     0.87041,     0.84334,     0.81627,      0.7892,     0.76213,      0.5979,     0.50231,     0.38767,     0.31848,     0.25497,           0,           0,           0,\n",
       "                  0,           0,           0,           0,           0,           0,           0,           0,           0,           0,           0]]), 'Confidence', 'Recall']]\n",
       "fitness: np.float64(1.8822791119794346)\n",
       "keys: ['metrics/precision(B)', 'metrics/recall(B)', 'metrics/mAP50(B)', 'metrics/mAP50-95(B)', 'metrics/precision(M)', 'metrics/recall(M)', 'metrics/mAP50(M)', 'metrics/mAP50-95(M)']\n",
       "maps: array([     1.8703])\n",
       "names: {0: 'Pupil'}\n",
       "nt_per_class: array([8])\n",
       "nt_per_image: array([8])\n",
       "results_dict: {'metrics/precision(B)': np.float64(0.9943805557480879), 'metrics/recall(B)': np.float64(1.0), 'metrics/mAP50(B)': np.float64(0.995), 'metrics/mAP50-95(B)': np.float64(0.935155062210797), 'metrics/precision(M)': np.float64(0.9943805557480879), 'metrics/recall(M)': np.float64(1.0), 'metrics/mAP50(M)': np.float64(0.995), 'metrics/mAP50-95(M)': np.float64(0.935155062210797), 'fitness': np.float64(1.8822791119794346)}\n",
       "save_dir: WindowsPath('runs/pupil-seg4')\n",
       "seg: ultralytics.utils.metrics.Metric object\n",
       "speed: {'preprocess': 1.5744750003250374, 'inference': 107.02965000018594, 'loss': 0.00013749968275078572, 'postprocess': 32.79288749990883}\n",
       "stats: {'tp': [], 'conf': [], 'pred_cls': [], 'target_cls': [], 'target_img': [], 'tp_m': []}\n",
       "task: 'segment'"
      ]
     },
     "execution_count": 9,
     "metadata": {},
     "output_type": "execute_result"
    }
   ],
   "source": [
    "from ultralytics import YOLO\n",
    "model = YOLO('yolov8n-seg.pt')  # lub yolov8n-seg.pt\n",
    "model.train(data='D:/AAA/Nowy folder/Outputs/project-8-at-2025-08-12-11-44-492dcff8/data.yaml', imgsz=400, epochs=100, batch=16, device=0, workers=8, project='runs', name='pupil-seg')"
   ]
  },
  {
   "cell_type": "code",
   "execution_count": null,
   "id": "672498a7",
   "metadata": {},
   "outputs": [
    {
     "name": "stdout",
     "output_type": "stream",
     "text": [
      "\n",
      "image 1/44 D:\\AAA\\Nowy folder\\Outputs\\Test\\2025-08-12-13.25.48.png: 320x320 1 Pupil, 10.7ms\n",
      "image 2/44 D:\\AAA\\Nowy folder\\Outputs\\Test\\2025-08-12-13.26.08.png: 320x320 1 Pupil, 10.7ms\n",
      "image 3/44 D:\\AAA\\Nowy folder\\Outputs\\Test\\2025-08-12-13.26.18.png: 320x320 1 Pupil, 11.1ms\n",
      "image 4/44 D:\\AAA\\Nowy folder\\Outputs\\Test\\2025-08-12-13.26.22.png: 320x320 1 Pupil, 10.7ms\n",
      "image 5/44 D:\\AAA\\Nowy folder\\Outputs\\Test\\2025-08-12-13.26.48.png: 320x320 1 Pupil, 10.9ms\n",
      "image 6/44 D:\\AAA\\Nowy folder\\Outputs\\Test\\2025-08-12-13.42.36.png: 320x320 1 Pupil, 11.0ms\n",
      "image 7/44 D:\\AAA\\Nowy folder\\Outputs\\Test\\2025-08-12-13.43.24.png: 320x320 1 Pupil, 10.8ms\n",
      "image 8/44 D:\\AAA\\Nowy folder\\Outputs\\Test\\2025-08-12-13.43.46.png: 320x320 1 Pupil, 10.6ms\n",
      "image 9/44 D:\\AAA\\Nowy folder\\Outputs\\Test\\2025-08-12-13.43.50.png: 320x320 1 Pupil, 10.5ms\n",
      "image 10/44 D:\\AAA\\Nowy folder\\Outputs\\Test\\2025-08-12-13.43.54.png: 320x320 1 Pupil, 11.3ms\n",
      "image 11/44 D:\\AAA\\Nowy folder\\Outputs\\Test\\2025-08-12-13.43.58.png: 320x320 1 Pupil, 11.7ms\n",
      "image 12/44 D:\\AAA\\Nowy folder\\Outputs\\Test\\2025-08-12-13.44.02.png: 320x320 (no detections), 11.0ms\n",
      "image 13/44 D:\\AAA\\Nowy folder\\Outputs\\Test\\2025-08-12-13.44.05.png: 320x320 (no detections), 10.8ms\n",
      "image 14/44 D:\\AAA\\Nowy folder\\Outputs\\Test\\2025-08-12-13.44.09.png: 320x320 (no detections), 13.9ms\n",
      "image 15/44 D:\\AAA\\Nowy folder\\Outputs\\Test\\2025-08-12-13.44.19.png: 320x320 1 Pupil, 11.3ms\n",
      "image 16/44 D:\\AAA\\Nowy folder\\Outputs\\Test\\2025-08-12-13.44.30.png: 320x320 1 Pupil, 10.7ms\n",
      "image 17/44 D:\\AAA\\Nowy folder\\Outputs\\Test\\2025-08-12-13.44.41.png: 320x320 1 Pupil, 10.4ms\n",
      "image 18/44 D:\\AAA\\Nowy folder\\Outputs\\Test\\2025-08-12-13.44.53.png: 320x320 1 Pupil, 10.5ms\n",
      "image 19/44 D:\\AAA\\Nowy folder\\Outputs\\Test\\2025-08-12-13.44.57.png: 320x320 1 Pupil, 11.3ms\n",
      "image 20/44 D:\\AAA\\Nowy folder\\Outputs\\Test\\2025-08-12-13.45.09.png: 320x320 1 Pupil, 11.1ms\n",
      "image 21/44 D:\\AAA\\Nowy folder\\Outputs\\Test\\2025-08-12-13.45.18.png: 320x320 1 Pupil, 11.0ms\n",
      "image 22/44 D:\\AAA\\Nowy folder\\Outputs\\Test\\2025-08-12-13.45.24.png: 320x320 1 Pupil, 10.7ms\n",
      "image 23/44 D:\\AAA\\Nowy folder\\Outputs\\Test\\2025-08-12-13.45.34.png: 320x320 (no detections), 10.7ms\n",
      "image 24/44 D:\\AAA\\Nowy folder\\Outputs\\Test\\2025-08-12-13.45.39.png: 320x320 1 Pupil, 10.8ms\n",
      "image 25/44 D:\\AAA\\Nowy folder\\Outputs\\Test\\2025-08-12-13.45.44.png: 320x320 1 Pupil, 13.3ms\n",
      "image 26/44 D:\\AAA\\Nowy folder\\Outputs\\Test\\2025-08-12-13.45.48.png: 320x320 1 Pupil, 11.1ms\n",
      "image 27/44 D:\\AAA\\Nowy folder\\Outputs\\Test\\2025-08-12-13.45.55.png: 320x320 1 Pupil, 10.8ms\n",
      "image 28/44 D:\\AAA\\Nowy folder\\Outputs\\Test\\2025-08-12-13.46.00.png: 320x320 1 Pupil, 10.6ms\n",
      "image 29/44 D:\\AAA\\Nowy folder\\Outputs\\Test\\2025-08-12-13.46.17.png: 320x320 1 Pupil, 11.1ms\n",
      "image 30/44 D:\\AAA\\Nowy folder\\Outputs\\Test\\2025-08-12-13.46.21.png: 320x320 1 Pupil, 10.5ms\n",
      "image 31/44 D:\\AAA\\Nowy folder\\Outputs\\Test\\2025-08-12-13.46.25.png: 320x320 1 Pupil, 11.4ms\n",
      "image 32/44 D:\\AAA\\Nowy folder\\Outputs\\Test\\2025-08-12-13.46.29.png: 320x320 1 Pupil, 10.7ms\n",
      "image 33/44 D:\\AAA\\Nowy folder\\Outputs\\Test\\2025-08-12-13.46.42.png: 320x320 1 Pupil, 11.0ms\n",
      "image 34/44 D:\\AAA\\Nowy folder\\Outputs\\Test\\2025-08-12-13.46.46.png: 320x320 1 Pupil, 11.2ms\n",
      "image 35/44 D:\\AAA\\Nowy folder\\Outputs\\Test\\2025-08-12-13.46.56.png: 320x320 1 Pupil, 14.0ms\n",
      "image 36/44 D:\\AAA\\Nowy folder\\Outputs\\Test\\2025-08-12-13.47.00.png: 320x320 1 Pupil, 14.2ms\n",
      "image 37/44 D:\\AAA\\Nowy folder\\Outputs\\Test\\2025-08-12-13.47.03.png: 320x320 1 Pupil, 10.7ms\n",
      "image 38/44 D:\\AAA\\Nowy folder\\Outputs\\Test\\2025-08-12-13.47.07.png: 320x320 1 Pupil, 10.9ms\n",
      "image 39/44 D:\\AAA\\Nowy folder\\Outputs\\Test\\2025-08-12-13.47.11.png: 320x320 1 Pupil, 10.8ms\n",
      "image 40/44 D:\\AAA\\Nowy folder\\Outputs\\Test\\2025-08-12-13.47.15.png: 320x320 1 Pupil, 10.9ms\n",
      "image 41/44 D:\\AAA\\Nowy folder\\Outputs\\Test\\2025-08-12-13.47.27.png: 320x320 1 Pupil, 10.9ms\n",
      "image 42/44 D:\\AAA\\Nowy folder\\Outputs\\Test\\2025-08-12-13.47.36.png: 320x320 1 Pupil, 10.9ms\n",
      "image 43/44 D:\\AAA\\Nowy folder\\Outputs\\Test\\2025-08-12-13.47.51.png: 320x320 1 Pupil, 13.4ms\n",
      "image 44/44 D:\\AAA\\Nowy folder\\Outputs\\Test\\2025-08-12-13.47.56.png: 320x320 1 Pupil, 11.1ms\n",
      "Speed: 1.0ms preprocess, 11.2ms inference, 3.4ms postprocess per image at shape (1, 3, 320, 320)\n",
      "[ultralytics.engine.results.Results object with attributes:\n",
      "\n",
      "boxes: ultralytics.engine.results.Boxes object\n",
      "keypoints: None\n",
      "masks: ultralytics.engine.results.Masks object\n",
      "names: {0: 'Pupil'}\n",
      "obb: None\n",
      "orig_img: array([[[2, 2, 2],\n",
      "        [1, 1, 1],\n",
      "        [2, 2, 2],\n",
      "        ...,\n",
      "        [2, 2, 2],\n",
      "        [2, 2, 2],\n",
      "        [2, 2, 2]],\n",
      "\n",
      "       [[2, 2, 2],\n",
      "        [2, 2, 2],\n",
      "        [2, 2, 2],\n",
      "        ...,\n",
      "        [2, 2, 2],\n",
      "        [2, 2, 2],\n",
      "        [2, 2, 2]],\n",
      "\n",
      "       [[2, 2, 2],\n",
      "        [2, 2, 2],\n",
      "        [2, 2, 2],\n",
      "        ...,\n",
      "        [2, 2, 2],\n",
      "        [2, 2, 2],\n",
      "        [3, 3, 3]],\n",
      "\n",
      "       ...,\n",
      "\n",
      "       [[0, 0, 0],\n",
      "        [0, 0, 0],\n",
      "        [0, 0, 0],\n",
      "        ...,\n",
      "        [1, 1, 1],\n",
      "        [0, 0, 0],\n",
      "        [1, 1, 1]],\n",
      "\n",
      "       [[0, 0, 0],\n",
      "        [0, 0, 0],\n",
      "        [1, 1, 1],\n",
      "        ...,\n",
      "        [1, 1, 1],\n",
      "        [1, 1, 1],\n",
      "        [1, 1, 1]],\n",
      "\n",
      "       [[0, 0, 0],\n",
      "        [0, 0, 0],\n",
      "        [0, 0, 0],\n",
      "        ...,\n",
      "        [1, 1, 1],\n",
      "        [2, 2, 2],\n",
      "        [1, 1, 1]]], shape=(300, 288, 3), dtype=uint8)\n",
      "orig_shape: (300, 288)\n",
      "path: 'D:\\\\AAA\\\\Nowy folder\\\\Outputs\\\\Test\\\\2025-08-12-13.25.48.png'\n",
      "probs: None\n",
      "save_dir: 'runs\\\\segment\\\\predict4'\n",
      "speed: {'preprocess': 1.1696999999912805, 'inference': 10.688099999242695, 'postprocess': 3.782599999794911}, ultralytics.engine.results.Results object with attributes:\n",
      "\n",
      "boxes: ultralytics.engine.results.Boxes object\n",
      "keypoints: None\n",
      "masks: ultralytics.engine.results.Masks object\n",
      "names: {0: 'Pupil'}\n",
      "obb: None\n",
      "orig_img: array([[[2, 2, 2],\n",
      "        [1, 1, 1],\n",
      "        [2, 2, 2],\n",
      "        ...,\n",
      "        [2, 2, 2],\n",
      "        [2, 2, 2],\n",
      "        [2, 2, 2]],\n",
      "\n",
      "       [[2, 2, 2],\n",
      "        [2, 2, 2],\n",
      "        [1, 1, 1],\n",
      "        ...,\n",
      "        [2, 2, 2],\n",
      "        [2, 2, 2],\n",
      "        [3, 3, 3]],\n",
      "\n",
      "       [[2, 2, 2],\n",
      "        [2, 2, 2],\n",
      "        [3, 3, 3],\n",
      "        ...,\n",
      "        [3, 3, 3],\n",
      "        [2, 2, 2],\n",
      "        [2, 2, 2]],\n",
      "\n",
      "       ...,\n",
      "\n",
      "       [[0, 0, 0],\n",
      "        [0, 0, 0],\n",
      "        [0, 0, 0],\n",
      "        ...,\n",
      "        [1, 1, 1],\n",
      "        [0, 0, 0],\n",
      "        [1, 1, 1]],\n",
      "\n",
      "       [[0, 0, 0],\n",
      "        [1, 1, 1],\n",
      "        [0, 0, 0],\n",
      "        ...,\n",
      "        [1, 1, 1],\n",
      "        [1, 1, 1],\n",
      "        [2, 2, 2]],\n",
      "\n",
      "       [[1, 1, 1],\n",
      "        [0, 0, 0],\n",
      "        [0, 0, 0],\n",
      "        ...,\n",
      "        [2, 2, 2],\n",
      "        [2, 2, 2],\n",
      "        [2, 2, 2]]], shape=(300, 288, 3), dtype=uint8)\n",
      "orig_shape: (300, 288)\n",
      "path: 'D:\\\\AAA\\\\Nowy folder\\\\Outputs\\\\Test\\\\2025-08-12-13.26.08.png'\n",
      "probs: None\n",
      "save_dir: 'runs\\\\segment\\\\predict4'\n",
      "speed: {'preprocess': 1.1180000001331791, 'inference': 10.703099999773258, 'postprocess': 4.332299999987299}, ultralytics.engine.results.Results object with attributes:\n",
      "\n",
      "boxes: ultralytics.engine.results.Boxes object\n",
      "keypoints: None\n",
      "masks: ultralytics.engine.results.Masks object\n",
      "names: {0: 'Pupil'}\n",
      "obb: None\n",
      "orig_img: array([[[2, 2, 2],\n",
      "        [2, 2, 2],\n",
      "        [2, 2, 2],\n",
      "        ...,\n",
      "        [2, 2, 2],\n",
      "        [2, 2, 2],\n",
      "        [2, 2, 2]],\n",
      "\n",
      "       [[2, 2, 2],\n",
      "        [3, 3, 3],\n",
      "        [2, 2, 2],\n",
      "        ...,\n",
      "        [2, 2, 2],\n",
      "        [2, 2, 2],\n",
      "        [2, 2, 2]],\n",
      "\n",
      "       [[2, 2, 2],\n",
      "        [2, 2, 2],\n",
      "        [2, 2, 2],\n",
      "        ...,\n",
      "        [2, 2, 2],\n",
      "        [3, 3, 3],\n",
      "        [3, 3, 3]],\n",
      "\n",
      "       ...,\n",
      "\n",
      "       [[0, 0, 0],\n",
      "        [0, 0, 0],\n",
      "        [1, 1, 1],\n",
      "        ...,\n",
      "        [1, 1, 1],\n",
      "        [1, 1, 1],\n",
      "        [1, 1, 1]],\n",
      "\n",
      "       [[0, 0, 0],\n",
      "        [0, 0, 0],\n",
      "        [0, 0, 0],\n",
      "        ...,\n",
      "        [1, 1, 1],\n",
      "        [1, 1, 1],\n",
      "        [2, 2, 2]],\n",
      "\n",
      "       [[0, 0, 0],\n",
      "        [1, 1, 1],\n",
      "        [0, 0, 0],\n",
      "        ...,\n",
      "        [1, 1, 1],\n",
      "        [2, 2, 2],\n",
      "        [1, 1, 1]]], shape=(300, 288, 3), dtype=uint8)\n",
      "orig_shape: (300, 288)\n",
      "path: 'D:\\\\AAA\\\\Nowy folder\\\\Outputs\\\\Test\\\\2025-08-12-13.26.18.png'\n",
      "probs: None\n",
      "save_dir: 'runs\\\\segment\\\\predict4'\n",
      "speed: {'preprocess': 1.000700000076904, 'inference': 11.123700000098324, 'postprocess': 3.5643000001073233}, ultralytics.engine.results.Results object with attributes:\n",
      "\n",
      "boxes: ultralytics.engine.results.Boxes object\n",
      "keypoints: None\n",
      "masks: ultralytics.engine.results.Masks object\n",
      "names: {0: 'Pupil'}\n",
      "obb: None\n",
      "orig_img: array([[[1, 1, 1],\n",
      "        [2, 2, 2],\n",
      "        [2, 2, 2],\n",
      "        ...,\n",
      "        [2, 2, 2],\n",
      "        [2, 2, 2],\n",
      "        [2, 2, 2]],\n",
      "\n",
      "       [[2, 2, 2],\n",
      "        [1, 1, 1],\n",
      "        [2, 2, 2],\n",
      "        ...,\n",
      "        [3, 3, 3],\n",
      "        [2, 2, 2],\n",
      "        [2, 2, 2]],\n",
      "\n",
      "       [[2, 2, 2],\n",
      "        [2, 2, 2],\n",
      "        [2, 2, 2],\n",
      "        ...,\n",
      "        [2, 2, 2],\n",
      "        [3, 3, 3],\n",
      "        [3, 3, 3]],\n",
      "\n",
      "       ...,\n",
      "\n",
      "       [[0, 0, 0],\n",
      "        [0, 0, 0],\n",
      "        [0, 0, 0],\n",
      "        ...,\n",
      "        [1, 1, 1],\n",
      "        [1, 1, 1],\n",
      "        [1, 1, 1]],\n",
      "\n",
      "       [[0, 0, 0],\n",
      "        [0, 0, 0],\n",
      "        [1, 1, 1],\n",
      "        ...,\n",
      "        [1, 1, 1],\n",
      "        [1, 1, 1],\n",
      "        [1, 1, 1]],\n",
      "\n",
      "       [[0, 0, 0],\n",
      "        [0, 0, 0],\n",
      "        [0, 0, 0],\n",
      "        ...,\n",
      "        [1, 1, 1],\n",
      "        [1, 1, 1],\n",
      "        [1, 1, 1]]], shape=(300, 288, 3), dtype=uint8)\n",
      "orig_shape: (300, 288)\n",
      "path: 'D:\\\\AAA\\\\Nowy folder\\\\Outputs\\\\Test\\\\2025-08-12-13.26.22.png'\n",
      "probs: None\n",
      "save_dir: 'runs\\\\segment\\\\predict4'\n",
      "speed: {'preprocess': 0.8491000007779803, 'inference': 10.684500000024855, 'postprocess': 5.330399999365909}, ultralytics.engine.results.Results object with attributes:\n",
      "\n",
      "boxes: ultralytics.engine.results.Boxes object\n",
      "keypoints: None\n",
      "masks: ultralytics.engine.results.Masks object\n",
      "names: {0: 'Pupil'}\n",
      "obb: None\n",
      "orig_img: array([[[2, 2, 2],\n",
      "        [1, 1, 1],\n",
      "        [2, 2, 2],\n",
      "        ...,\n",
      "        [2, 2, 2],\n",
      "        [2, 2, 2],\n",
      "        [2, 2, 2]],\n",
      "\n",
      "       [[2, 2, 2],\n",
      "        [1, 1, 1],\n",
      "        [1, 1, 1],\n",
      "        ...,\n",
      "        [2, 2, 2],\n",
      "        [2, 2, 2],\n",
      "        [2, 2, 2]],\n",
      "\n",
      "       [[2, 2, 2],\n",
      "        [2, 2, 2],\n",
      "        [2, 2, 2],\n",
      "        ...,\n",
      "        [2, 2, 2],\n",
      "        [2, 2, 2],\n",
      "        [2, 2, 2]],\n",
      "\n",
      "       ...,\n",
      "\n",
      "       [[0, 0, 0],\n",
      "        [0, 0, 0],\n",
      "        [0, 0, 0],\n",
      "        ...,\n",
      "        [0, 0, 0],\n",
      "        [0, 0, 0],\n",
      "        [1, 1, 1]],\n",
      "\n",
      "       [[1, 1, 1],\n",
      "        [0, 0, 0],\n",
      "        [0, 0, 0],\n",
      "        ...,\n",
      "        [1, 1, 1],\n",
      "        [0, 0, 0],\n",
      "        [0, 0, 0]],\n",
      "\n",
      "       [[1, 1, 1],\n",
      "        [0, 0, 0],\n",
      "        [0, 0, 0],\n",
      "        ...,\n",
      "        [1, 1, 1],\n",
      "        [1, 1, 1],\n",
      "        [0, 0, 0]]], shape=(300, 288, 3), dtype=uint8)\n",
      "orig_shape: (300, 288)\n",
      "path: 'D:\\\\AAA\\\\Nowy folder\\\\Outputs\\\\Test\\\\2025-08-12-13.26.48.png'\n",
      "probs: None\n",
      "save_dir: 'runs\\\\segment\\\\predict4'\n",
      "speed: {'preprocess': 0.8562000002712011, 'inference': 10.884999999689171, 'postprocess': 3.4321000002819346}, ultralytics.engine.results.Results object with attributes:\n",
      "\n",
      "boxes: ultralytics.engine.results.Boxes object\n",
      "keypoints: None\n",
      "masks: ultralytics.engine.results.Masks object\n",
      "names: {0: 'Pupil'}\n",
      "obb: None\n",
      "orig_img: array([[[2, 2, 2],\n",
      "        [1, 1, 1],\n",
      "        [1, 1, 1],\n",
      "        ...,\n",
      "        [2, 2, 2],\n",
      "        [2, 2, 2],\n",
      "        [3, 3, 3]],\n",
      "\n",
      "       [[2, 2, 2],\n",
      "        [1, 1, 1],\n",
      "        [1, 1, 1],\n",
      "        ...,\n",
      "        [2, 2, 2],\n",
      "        [2, 2, 2],\n",
      "        [2, 2, 2]],\n",
      "\n",
      "       [[2, 2, 2],\n",
      "        [2, 2, 2],\n",
      "        [2, 2, 2],\n",
      "        ...,\n",
      "        [1, 1, 1],\n",
      "        [3, 3, 3],\n",
      "        [2, 2, 2]],\n",
      "\n",
      "       ...,\n",
      "\n",
      "       [[0, 0, 0],\n",
      "        [0, 0, 0],\n",
      "        [0, 0, 0],\n",
      "        ...,\n",
      "        [2, 2, 2],\n",
      "        [1, 1, 1],\n",
      "        [2, 2, 2]],\n",
      "\n",
      "       [[0, 0, 0],\n",
      "        [0, 0, 0],\n",
      "        [1, 1, 1],\n",
      "        ...,\n",
      "        [1, 1, 1],\n",
      "        [1, 1, 1],\n",
      "        [1, 1, 1]],\n",
      "\n",
      "       [[0, 0, 0],\n",
      "        [0, 0, 0],\n",
      "        [0, 0, 0],\n",
      "        ...,\n",
      "        [2, 2, 2],\n",
      "        [1, 1, 1],\n",
      "        [1, 1, 1]]], shape=(300, 288, 3), dtype=uint8)\n",
      "orig_shape: (300, 288)\n",
      "path: 'D:\\\\AAA\\\\Nowy folder\\\\Outputs\\\\Test\\\\2025-08-12-13.42.36.png'\n",
      "probs: None\n",
      "save_dir: 'runs\\\\segment\\\\predict4'\n",
      "speed: {'preprocess': 0.9638000001359615, 'inference': 11.008599999513535, 'postprocess': 3.1903999997666688}, ultralytics.engine.results.Results object with attributes:\n",
      "\n",
      "boxes: ultralytics.engine.results.Boxes object\n",
      "keypoints: None\n",
      "masks: ultralytics.engine.results.Masks object\n",
      "names: {0: 'Pupil'}\n",
      "obb: None\n",
      "orig_img: array([[[1, 1, 1],\n",
      "        [1, 1, 1],\n",
      "        [2, 2, 2],\n",
      "        ...,\n",
      "        [2, 2, 2],\n",
      "        [2, 2, 2],\n",
      "        [2, 2, 2]],\n",
      "\n",
      "       [[1, 1, 1],\n",
      "        [1, 1, 1],\n",
      "        [1, 1, 1],\n",
      "        ...,\n",
      "        [1, 1, 1],\n",
      "        [2, 2, 2],\n",
      "        [2, 2, 2]],\n",
      "\n",
      "       [[2, 2, 2],\n",
      "        [2, 2, 2],\n",
      "        [2, 2, 2],\n",
      "        ...,\n",
      "        [2, 2, 2],\n",
      "        [2, 2, 2],\n",
      "        [3, 3, 3]],\n",
      "\n",
      "       ...,\n",
      "\n",
      "       [[0, 0, 0],\n",
      "        [0, 0, 0],\n",
      "        [0, 0, 0],\n",
      "        ...,\n",
      "        [1, 1, 1],\n",
      "        [2, 2, 2],\n",
      "        [2, 2, 2]],\n",
      "\n",
      "       [[0, 0, 0],\n",
      "        [0, 0, 0],\n",
      "        [0, 0, 0],\n",
      "        ...,\n",
      "        [1, 1, 1],\n",
      "        [1, 1, 1],\n",
      "        [1, 1, 1]],\n",
      "\n",
      "       [[0, 0, 0],\n",
      "        [0, 0, 0],\n",
      "        [0, 0, 0],\n",
      "        ...,\n",
      "        [1, 1, 1],\n",
      "        [1, 1, 1],\n",
      "        [0, 0, 0]]], shape=(300, 288, 3), dtype=uint8)\n",
      "orig_shape: (300, 288)\n",
      "path: 'D:\\\\AAA\\\\Nowy folder\\\\Outputs\\\\Test\\\\2025-08-12-13.43.24.png'\n",
      "probs: None\n",
      "save_dir: 'runs\\\\segment\\\\predict4'\n",
      "speed: {'preprocess': 1.1040999997931067, 'inference': 10.814400000526803, 'postprocess': 3.260700000282668}, ultralytics.engine.results.Results object with attributes:\n",
      "\n",
      "boxes: ultralytics.engine.results.Boxes object\n",
      "keypoints: None\n",
      "masks: ultralytics.engine.results.Masks object\n",
      "names: {0: 'Pupil'}\n",
      "obb: None\n",
      "orig_img: array([[[2, 2, 2],\n",
      "        [2, 2, 2],\n",
      "        [1, 1, 1],\n",
      "        ...,\n",
      "        [2, 2, 2],\n",
      "        [3, 3, 3],\n",
      "        [2, 2, 2]],\n",
      "\n",
      "       [[2, 2, 2],\n",
      "        [2, 2, 2],\n",
      "        [2, 2, 2],\n",
      "        ...,\n",
      "        [2, 2, 2],\n",
      "        [2, 2, 2],\n",
      "        [2, 2, 2]],\n",
      "\n",
      "       [[2, 2, 2],\n",
      "        [2, 2, 2],\n",
      "        [3, 3, 3],\n",
      "        ...,\n",
      "        [2, 2, 2],\n",
      "        [2, 2, 2],\n",
      "        [3, 3, 3]],\n",
      "\n",
      "       ...,\n",
      "\n",
      "       [[0, 0, 0],\n",
      "        [1, 1, 1],\n",
      "        [0, 0, 0],\n",
      "        ...,\n",
      "        [1, 1, 1],\n",
      "        [2, 2, 2],\n",
      "        [2, 2, 2]],\n",
      "\n",
      "       [[0, 0, 0],\n",
      "        [0, 0, 0],\n",
      "        [1, 1, 1],\n",
      "        ...,\n",
      "        [1, 1, 1],\n",
      "        [2, 2, 2],\n",
      "        [1, 1, 1]],\n",
      "\n",
      "       [[0, 0, 0],\n",
      "        [0, 0, 0],\n",
      "        [0, 0, 0],\n",
      "        ...,\n",
      "        [1, 1, 1],\n",
      "        [2, 2, 2],\n",
      "        [1, 1, 1]]], shape=(300, 288, 3), dtype=uint8)\n",
      "orig_shape: (300, 288)\n",
      "path: 'D:\\\\AAA\\\\Nowy folder\\\\Outputs\\\\Test\\\\2025-08-12-13.43.46.png'\n",
      "probs: None\n",
      "save_dir: 'runs\\\\segment\\\\predict4'\n",
      "speed: {'preprocess': 1.2993999998798245, 'inference': 10.589399999844318, 'postprocess': 3.6521999991236953}, ultralytics.engine.results.Results object with attributes:\n",
      "\n",
      "boxes: ultralytics.engine.results.Boxes object\n",
      "keypoints: None\n",
      "masks: ultralytics.engine.results.Masks object\n",
      "names: {0: 'Pupil'}\n",
      "obb: None\n",
      "orig_img: array([[[2, 2, 2],\n",
      "        [2, 2, 2],\n",
      "        [2, 2, 2],\n",
      "        ...,\n",
      "        [2, 2, 2],\n",
      "        [2, 2, 2],\n",
      "        [2, 2, 2]],\n",
      "\n",
      "       [[2, 2, 2],\n",
      "        [2, 2, 2],\n",
      "        [2, 2, 2],\n",
      "        ...,\n",
      "        [3, 3, 3],\n",
      "        [2, 2, 2],\n",
      "        [3, 3, 3]],\n",
      "\n",
      "       [[2, 2, 2],\n",
      "        [3, 3, 3],\n",
      "        [2, 2, 2],\n",
      "        ...,\n",
      "        [3, 3, 3],\n",
      "        [3, 3, 3],\n",
      "        [2, 2, 2]],\n",
      "\n",
      "       ...,\n",
      "\n",
      "       [[0, 0, 0],\n",
      "        [0, 0, 0],\n",
      "        [1, 1, 1],\n",
      "        ...,\n",
      "        [2, 2, 2],\n",
      "        [2, 2, 2],\n",
      "        [2, 2, 2]],\n",
      "\n",
      "       [[0, 0, 0],\n",
      "        [1, 1, 1],\n",
      "        [0, 0, 0],\n",
      "        ...,\n",
      "        [1, 1, 1],\n",
      "        [2, 2, 2],\n",
      "        [1, 1, 1]],\n",
      "\n",
      "       [[0, 0, 0],\n",
      "        [1, 1, 1],\n",
      "        [0, 0, 0],\n",
      "        ...,\n",
      "        [2, 2, 2],\n",
      "        [1, 1, 1],\n",
      "        [1, 1, 1]]], shape=(300, 288, 3), dtype=uint8)\n",
      "orig_shape: (300, 288)\n",
      "path: 'D:\\\\AAA\\\\Nowy folder\\\\Outputs\\\\Test\\\\2025-08-12-13.43.50.png'\n",
      "probs: None\n",
      "save_dir: 'runs\\\\segment\\\\predict4'\n",
      "speed: {'preprocess': 0.9458000004087808, 'inference': 10.540799999944284, 'postprocess': 4.76280000020779}, ultralytics.engine.results.Results object with attributes:\n",
      "\n",
      "boxes: ultralytics.engine.results.Boxes object\n",
      "keypoints: None\n",
      "masks: ultralytics.engine.results.Masks object\n",
      "names: {0: 'Pupil'}\n",
      "obb: None\n",
      "orig_img: array([[[2, 2, 2],\n",
      "        [2, 2, 2],\n",
      "        [2, 2, 2],\n",
      "        ...,\n",
      "        [2, 2, 2],\n",
      "        [2, 2, 2],\n",
      "        [2, 2, 2]],\n",
      "\n",
      "       [[1, 1, 1],\n",
      "        [2, 2, 2],\n",
      "        [2, 2, 2],\n",
      "        ...,\n",
      "        [2, 2, 2],\n",
      "        [2, 2, 2],\n",
      "        [2, 2, 2]],\n",
      "\n",
      "       [[2, 2, 2],\n",
      "        [2, 2, 2],\n",
      "        [2, 2, 2],\n",
      "        ...,\n",
      "        [2, 2, 2],\n",
      "        [3, 3, 3],\n",
      "        [2, 2, 2]],\n",
      "\n",
      "       ...,\n",
      "\n",
      "       [[0, 0, 0],\n",
      "        [1, 1, 1],\n",
      "        [1, 1, 1],\n",
      "        ...,\n",
      "        [2, 2, 2],\n",
      "        [3, 3, 3],\n",
      "        [3, 3, 3]],\n",
      "\n",
      "       [[0, 0, 0],\n",
      "        [0, 0, 0],\n",
      "        [1, 1, 1],\n",
      "        ...,\n",
      "        [2, 2, 2],\n",
      "        [1, 1, 1],\n",
      "        [2, 2, 2]],\n",
      "\n",
      "       [[0, 0, 0],\n",
      "        [1, 1, 1],\n",
      "        [0, 0, 0],\n",
      "        ...,\n",
      "        [1, 1, 1],\n",
      "        [1, 1, 1],\n",
      "        [1, 1, 1]]], shape=(300, 288, 3), dtype=uint8)\n",
      "orig_shape: (300, 288)\n",
      "path: 'D:\\\\AAA\\\\Nowy folder\\\\Outputs\\\\Test\\\\2025-08-12-13.43.54.png'\n",
      "probs: None\n",
      "save_dir: 'runs\\\\segment\\\\predict4'\n",
      "speed: {'preprocess': 0.8324000000357046, 'inference': 11.280599999736296, 'postprocess': 3.3101999997597886}, ultralytics.engine.results.Results object with attributes:\n",
      "\n",
      "boxes: ultralytics.engine.results.Boxes object\n",
      "keypoints: None\n",
      "masks: ultralytics.engine.results.Masks object\n",
      "names: {0: 'Pupil'}\n",
      "obb: None\n",
      "orig_img: array([[[2, 2, 2],\n",
      "        [1, 1, 1],\n",
      "        [2, 2, 2],\n",
      "        ...,\n",
      "        [3, 3, 3],\n",
      "        [3, 3, 3],\n",
      "        [2, 2, 2]],\n",
      "\n",
      "       [[2, 2, 2],\n",
      "        [2, 2, 2],\n",
      "        [2, 2, 2],\n",
      "        ...,\n",
      "        [2, 2, 2],\n",
      "        [3, 3, 3],\n",
      "        [2, 2, 2]],\n",
      "\n",
      "       [[3, 3, 3],\n",
      "        [2, 2, 2],\n",
      "        [3, 3, 3],\n",
      "        ...,\n",
      "        [3, 3, 3],\n",
      "        [3, 3, 3],\n",
      "        [3, 3, 3]],\n",
      "\n",
      "       ...,\n",
      "\n",
      "       [[0, 0, 0],\n",
      "        [1, 1, 1],\n",
      "        [1, 1, 1],\n",
      "        ...,\n",
      "        [2, 2, 2],\n",
      "        [2, 2, 2],\n",
      "        [2, 2, 2]],\n",
      "\n",
      "       [[0, 0, 0],\n",
      "        [0, 0, 0],\n",
      "        [1, 1, 1],\n",
      "        ...,\n",
      "        [1, 1, 1],\n",
      "        [1, 1, 1],\n",
      "        [1, 1, 1]],\n",
      "\n",
      "       [[0, 0, 0],\n",
      "        [1, 1, 1],\n",
      "        [1, 1, 1],\n",
      "        ...,\n",
      "        [1, 1, 1],\n",
      "        [2, 2, 2],\n",
      "        [1, 1, 1]]], shape=(300, 288, 3), dtype=uint8)\n",
      "orig_shape: (300, 288)\n",
      "path: 'D:\\\\AAA\\\\Nowy folder\\\\Outputs\\\\Test\\\\2025-08-12-13.43.58.png'\n",
      "probs: None\n",
      "save_dir: 'runs\\\\segment\\\\predict4'\n",
      "speed: {'preprocess': 1.030499999615131, 'inference': 11.665299999549461, 'postprocess': 3.3254999998462154}, ultralytics.engine.results.Results object with attributes:\n",
      "\n",
      "boxes: ultralytics.engine.results.Boxes object\n",
      "keypoints: None\n",
      "masks: None\n",
      "names: {0: 'Pupil'}\n",
      "obb: None\n",
      "orig_img: array([[[2, 2, 2],\n",
      "        [2, 2, 2],\n",
      "        [2, 2, 2],\n",
      "        ...,\n",
      "        [3, 3, 3],\n",
      "        [3, 3, 3],\n",
      "        [3, 3, 3]],\n",
      "\n",
      "       [[2, 2, 2],\n",
      "        [2, 2, 2],\n",
      "        [2, 2, 2],\n",
      "        ...,\n",
      "        [2, 2, 2],\n",
      "        [3, 3, 3],\n",
      "        [3, 3, 3]],\n",
      "\n",
      "       [[2, 2, 2],\n",
      "        [2, 2, 2],\n",
      "        [2, 2, 2],\n",
      "        ...,\n",
      "        [3, 3, 3],\n",
      "        [3, 3, 3],\n",
      "        [3, 3, 3]],\n",
      "\n",
      "       ...,\n",
      "\n",
      "       [[0, 0, 0],\n",
      "        [0, 0, 0],\n",
      "        [0, 0, 0],\n",
      "        ...,\n",
      "        [1, 1, 1],\n",
      "        [2, 2, 2],\n",
      "        [2, 2, 2]],\n",
      "\n",
      "       [[1, 1, 1],\n",
      "        [1, 1, 1],\n",
      "        [1, 1, 1],\n",
      "        ...,\n",
      "        [2, 2, 2],\n",
      "        [1, 1, 1],\n",
      "        [2, 2, 2]],\n",
      "\n",
      "       [[1, 1, 1],\n",
      "        [0, 0, 0],\n",
      "        [1, 1, 1],\n",
      "        ...,\n",
      "        [1, 1, 1],\n",
      "        [1, 1, 1],\n",
      "        [1, 1, 1]]], shape=(300, 288, 3), dtype=uint8)\n",
      "orig_shape: (300, 288)\n",
      "path: 'D:\\\\AAA\\\\Nowy folder\\\\Outputs\\\\Test\\\\2025-08-12-13.44.02.png'\n",
      "probs: None\n",
      "save_dir: 'runs\\\\segment\\\\predict4'\n",
      "speed: {'preprocess': 0.8339999994859681, 'inference': 10.967799999889394, 'postprocess': 0.9390000004714238}, ultralytics.engine.results.Results object with attributes:\n",
      "\n",
      "boxes: ultralytics.engine.results.Boxes object\n",
      "keypoints: None\n",
      "masks: None\n",
      "names: {0: 'Pupil'}\n",
      "obb: None\n",
      "orig_img: array([[[3, 3, 3],\n",
      "        [2, 2, 2],\n",
      "        [3, 3, 3],\n",
      "        ...,\n",
      "        [3, 3, 3],\n",
      "        [3, 3, 3],\n",
      "        [3, 3, 3]],\n",
      "\n",
      "       [[3, 3, 3],\n",
      "        [2, 2, 2],\n",
      "        [2, 2, 2],\n",
      "        ...,\n",
      "        [3, 3, 3],\n",
      "        [3, 3, 3],\n",
      "        [3, 3, 3]],\n",
      "\n",
      "       [[3, 3, 3],\n",
      "        [3, 3, 3],\n",
      "        [2, 2, 2],\n",
      "        ...,\n",
      "        [3, 3, 3],\n",
      "        [3, 3, 3],\n",
      "        [3, 3, 3]],\n",
      "\n",
      "       ...,\n",
      "\n",
      "       [[0, 0, 0],\n",
      "        [1, 1, 1],\n",
      "        [1, 1, 1],\n",
      "        ...,\n",
      "        [2, 2, 2],\n",
      "        [3, 3, 3],\n",
      "        [2, 2, 2]],\n",
      "\n",
      "       [[1, 1, 1],\n",
      "        [0, 0, 0],\n",
      "        [1, 1, 1],\n",
      "        ...,\n",
      "        [2, 2, 2],\n",
      "        [2, 2, 2],\n",
      "        [2, 2, 2]],\n",
      "\n",
      "       [[0, 0, 0],\n",
      "        [1, 1, 1],\n",
      "        [1, 1, 1],\n",
      "        ...,\n",
      "        [1, 1, 1],\n",
      "        [2, 2, 2],\n",
      "        [2, 2, 2]]], shape=(300, 288, 3), dtype=uint8)\n",
      "orig_shape: (300, 288)\n",
      "path: 'D:\\\\AAA\\\\Nowy folder\\\\Outputs\\\\Test\\\\2025-08-12-13.44.05.png'\n",
      "probs: None\n",
      "save_dir: 'runs\\\\segment\\\\predict4'\n",
      "speed: {'preprocess': 0.962999999501335, 'inference': 10.80169999931968, 'postprocess': 1.017699999465549}, ultralytics.engine.results.Results object with attributes:\n",
      "\n",
      "boxes: ultralytics.engine.results.Boxes object\n",
      "keypoints: None\n",
      "masks: None\n",
      "names: {0: 'Pupil'}\n",
      "obb: None\n",
      "orig_img: array([[[2, 2, 2],\n",
      "        [2, 2, 2],\n",
      "        [2, 2, 2],\n",
      "        ...,\n",
      "        [3, 3, 3],\n",
      "        [2, 2, 2],\n",
      "        [2, 2, 2]],\n",
      "\n",
      "       [[1, 1, 1],\n",
      "        [3, 3, 3],\n",
      "        [2, 2, 2],\n",
      "        ...,\n",
      "        [3, 3, 3],\n",
      "        [2, 2, 2],\n",
      "        [3, 3, 3]],\n",
      "\n",
      "       [[2, 2, 2],\n",
      "        [3, 3, 3],\n",
      "        [3, 3, 3],\n",
      "        ...,\n",
      "        [2, 2, 2],\n",
      "        [3, 3, 3],\n",
      "        [3, 3, 3]],\n",
      "\n",
      "       ...,\n",
      "\n",
      "       [[0, 0, 0],\n",
      "        [1, 1, 1],\n",
      "        [1, 1, 1],\n",
      "        ...,\n",
      "        [2, 2, 2],\n",
      "        [3, 3, 3],\n",
      "        [2, 2, 2]],\n",
      "\n",
      "       [[0, 0, 0],\n",
      "        [0, 0, 0],\n",
      "        [1, 1, 1],\n",
      "        ...,\n",
      "        [2, 2, 2],\n",
      "        [1, 1, 1],\n",
      "        [1, 1, 1]],\n",
      "\n",
      "       [[0, 0, 0],\n",
      "        [0, 0, 0],\n",
      "        [0, 0, 0],\n",
      "        ...,\n",
      "        [1, 1, 1],\n",
      "        [1, 1, 1],\n",
      "        [1, 1, 1]]], shape=(300, 288, 3), dtype=uint8)\n",
      "orig_shape: (300, 288)\n",
      "path: 'D:\\\\AAA\\\\Nowy folder\\\\Outputs\\\\Test\\\\2025-08-12-13.44.09.png'\n",
      "probs: None\n",
      "save_dir: 'runs\\\\segment\\\\predict4'\n",
      "speed: {'preprocess': 1.0226000003967783, 'inference': 13.94700000037119, 'postprocess': 1.1806000002252404}, ultralytics.engine.results.Results object with attributes:\n",
      "\n",
      "boxes: ultralytics.engine.results.Boxes object\n",
      "keypoints: None\n",
      "masks: ultralytics.engine.results.Masks object\n",
      "names: {0: 'Pupil'}\n",
      "obb: None\n",
      "orig_img: array([[[1, 1, 1],\n",
      "        [1, 1, 1],\n",
      "        [2, 2, 2],\n",
      "        ...,\n",
      "        [2, 2, 2],\n",
      "        [2, 2, 2],\n",
      "        [1, 1, 1]],\n",
      "\n",
      "       [[2, 2, 2],\n",
      "        [2, 2, 2],\n",
      "        [2, 2, 2],\n",
      "        ...,\n",
      "        [3, 3, 3],\n",
      "        [3, 3, 3],\n",
      "        [3, 3, 3]],\n",
      "\n",
      "       [[2, 2, 2],\n",
      "        [1, 1, 1],\n",
      "        [2, 2, 2],\n",
      "        ...,\n",
      "        [2, 2, 2],\n",
      "        [3, 3, 3],\n",
      "        [3, 3, 3]],\n",
      "\n",
      "       ...,\n",
      "\n",
      "       [[1, 1, 1],\n",
      "        [0, 0, 0],\n",
      "        [1, 1, 1],\n",
      "        ...,\n",
      "        [1, 1, 1],\n",
      "        [2, 2, 2],\n",
      "        [2, 2, 2]],\n",
      "\n",
      "       [[0, 0, 0],\n",
      "        [1, 1, 1],\n",
      "        [1, 1, 1],\n",
      "        ...,\n",
      "        [2, 2, 2],\n",
      "        [1, 1, 1],\n",
      "        [1, 1, 1]],\n",
      "\n",
      "       [[1, 1, 1],\n",
      "        [0, 0, 0],\n",
      "        [0, 0, 0],\n",
      "        ...,\n",
      "        [2, 2, 2],\n",
      "        [1, 1, 1],\n",
      "        [1, 1, 1]]], shape=(300, 288, 3), dtype=uint8)\n",
      "orig_shape: (300, 288)\n",
      "path: 'D:\\\\AAA\\\\Nowy folder\\\\Outputs\\\\Test\\\\2025-08-12-13.44.19.png'\n",
      "probs: None\n",
      "save_dir: 'runs\\\\segment\\\\predict4'\n",
      "speed: {'preprocess': 1.0223999997833744, 'inference': 11.281399999461428, 'postprocess': 3.9271000005101087}, ultralytics.engine.results.Results object with attributes:\n",
      "\n",
      "boxes: ultralytics.engine.results.Boxes object\n",
      "keypoints: None\n",
      "masks: ultralytics.engine.results.Masks object\n",
      "names: {0: 'Pupil'}\n",
      "obb: None\n",
      "orig_img: array([[[1, 1, 1],\n",
      "        [1, 1, 1],\n",
      "        [1, 1, 1],\n",
      "        ...,\n",
      "        [2, 2, 2],\n",
      "        [2, 2, 2],\n",
      "        [1, 1, 1]],\n",
      "\n",
      "       [[2, 2, 2],\n",
      "        [1, 1, 1],\n",
      "        [2, 2, 2],\n",
      "        ...,\n",
      "        [2, 2, 2],\n",
      "        [2, 2, 2],\n",
      "        [2, 2, 2]],\n",
      "\n",
      "       [[2, 2, 2],\n",
      "        [2, 2, 2],\n",
      "        [3, 3, 3],\n",
      "        ...,\n",
      "        [2, 2, 2],\n",
      "        [3, 3, 3],\n",
      "        [2, 2, 2]],\n",
      "\n",
      "       ...,\n",
      "\n",
      "       [[1, 1, 1],\n",
      "        [0, 0, 0],\n",
      "        [0, 0, 0],\n",
      "        ...,\n",
      "        [1, 1, 1],\n",
      "        [2, 2, 2],\n",
      "        [2, 2, 2]],\n",
      "\n",
      "       [[0, 0, 0],\n",
      "        [0, 0, 0],\n",
      "        [1, 1, 1],\n",
      "        ...,\n",
      "        [1, 1, 1],\n",
      "        [2, 2, 2],\n",
      "        [1, 1, 1]],\n",
      "\n",
      "       [[1, 1, 1],\n",
      "        [0, 0, 0],\n",
      "        [1, 1, 1],\n",
      "        ...,\n",
      "        [2, 2, 2],\n",
      "        [1, 1, 1],\n",
      "        [1, 1, 1]]], shape=(300, 288, 3), dtype=uint8)\n",
      "orig_shape: (300, 288)\n",
      "path: 'D:\\\\AAA\\\\Nowy folder\\\\Outputs\\\\Test\\\\2025-08-12-13.44.30.png'\n",
      "probs: None\n",
      "save_dir: 'runs\\\\segment\\\\predict4'\n",
      "speed: {'preprocess': 1.0068000001410837, 'inference': 10.679500000151165, 'postprocess': 3.284899999925983}, ultralytics.engine.results.Results object with attributes:\n",
      "\n",
      "boxes: ultralytics.engine.results.Boxes object\n",
      "keypoints: None\n",
      "masks: ultralytics.engine.results.Masks object\n",
      "names: {0: 'Pupil'}\n",
      "obb: None\n",
      "orig_img: array([[[ 1,  1,  1],\n",
      "        [ 1,  1,  1],\n",
      "        [ 1,  1,  1],\n",
      "        ...,\n",
      "        [ 2,  2,  2],\n",
      "        [ 2,  2,  2],\n",
      "        [ 1,  1,  1]],\n",
      "\n",
      "       [[ 1,  1,  1],\n",
      "        [ 1,  1,  1],\n",
      "        [ 2,  2,  2],\n",
      "        ...,\n",
      "        [ 2,  2,  2],\n",
      "        [ 2,  2,  2],\n",
      "        [ 1,  1,  1]],\n",
      "\n",
      "       [[ 2,  2,  2],\n",
      "        [ 2,  2,  2],\n",
      "        [ 2,  2,  2],\n",
      "        ...,\n",
      "        [ 2,  2,  2],\n",
      "        [ 2,  2,  2],\n",
      "        [ 2,  2,  2]],\n",
      "\n",
      "       ...,\n",
      "\n",
      "       [[ 0,  0,  0],\n",
      "        [ 0,  0,  0],\n",
      "        [ 1,  1,  1],\n",
      "        ...,\n",
      "        [10, 10, 10],\n",
      "        [10, 10, 10],\n",
      "        [ 7,  7,  7]],\n",
      "\n",
      "       [[ 0,  0,  0],\n",
      "        [ 0,  0,  0],\n",
      "        [ 0,  0,  0],\n",
      "        ...,\n",
      "        [ 8,  8,  8],\n",
      "        [ 5,  5,  5],\n",
      "        [ 4,  4,  4]],\n",
      "\n",
      "       [[ 1,  1,  1],\n",
      "        [ 0,  0,  0],\n",
      "        [ 0,  0,  0],\n",
      "        ...,\n",
      "        [ 5,  5,  5],\n",
      "        [ 4,  4,  4],\n",
      "        [ 3,  3,  3]]], shape=(300, 288, 3), dtype=uint8)\n",
      "orig_shape: (300, 288)\n",
      "path: 'D:\\\\AAA\\\\Nowy folder\\\\Outputs\\\\Test\\\\2025-08-12-13.44.41.png'\n",
      "probs: None\n",
      "save_dir: 'runs\\\\segment\\\\predict4'\n",
      "speed: {'preprocess': 1.585500000146567, 'inference': 10.353000000577595, 'postprocess': 3.7592999997286825}, ultralytics.engine.results.Results object with attributes:\n",
      "\n",
      "boxes: ultralytics.engine.results.Boxes object\n",
      "keypoints: None\n",
      "masks: ultralytics.engine.results.Masks object\n",
      "names: {0: 'Pupil'}\n",
      "obb: None\n",
      "orig_img: array([[[ 1,  1,  1],\n",
      "        [ 1,  1,  1],\n",
      "        [ 2,  2,  2],\n",
      "        ...,\n",
      "        [ 1,  1,  1],\n",
      "        [ 3,  3,  3],\n",
      "        [ 2,  2,  2]],\n",
      "\n",
      "       [[ 1,  1,  1],\n",
      "        [ 1,  1,  1],\n",
      "        [ 2,  2,  2],\n",
      "        ...,\n",
      "        [ 1,  1,  1],\n",
      "        [ 2,  2,  2],\n",
      "        [ 2,  2,  2]],\n",
      "\n",
      "       [[ 2,  2,  2],\n",
      "        [ 2,  2,  2],\n",
      "        [ 3,  3,  3],\n",
      "        ...,\n",
      "        [ 2,  2,  2],\n",
      "        [ 3,  3,  3],\n",
      "        [ 1,  1,  1]],\n",
      "\n",
      "       ...,\n",
      "\n",
      "       [[ 0,  0,  0],\n",
      "        [ 0,  0,  0],\n",
      "        [ 1,  1,  1],\n",
      "        ...,\n",
      "        [13, 13, 13],\n",
      "        [ 9,  9,  9],\n",
      "        [ 8,  8,  8]],\n",
      "\n",
      "       [[ 0,  0,  0],\n",
      "        [ 0,  0,  0],\n",
      "        [ 0,  0,  0],\n",
      "        ...,\n",
      "        [ 8,  8,  8],\n",
      "        [ 6,  6,  6],\n",
      "        [ 4,  4,  4]],\n",
      "\n",
      "       [[ 0,  0,  0],\n",
      "        [ 0,  0,  0],\n",
      "        [ 1,  1,  1],\n",
      "        ...,\n",
      "        [ 4,  4,  4],\n",
      "        [ 4,  4,  4],\n",
      "        [ 2,  2,  2]]], shape=(300, 288, 3), dtype=uint8)\n",
      "orig_shape: (300, 288)\n",
      "path: 'D:\\\\AAA\\\\Nowy folder\\\\Outputs\\\\Test\\\\2025-08-12-13.44.53.png'\n",
      "probs: None\n",
      "save_dir: 'runs\\\\segment\\\\predict4'\n",
      "speed: {'preprocess': 0.9952000000339467, 'inference': 10.546999999860418, 'postprocess': 3.9815999998609186}, ultralytics.engine.results.Results object with attributes:\n",
      "\n",
      "boxes: ultralytics.engine.results.Boxes object\n",
      "keypoints: None\n",
      "masks: ultralytics.engine.results.Masks object\n",
      "names: {0: 'Pupil'}\n",
      "obb: None\n",
      "orig_img: array([[[ 1,  1,  1],\n",
      "        [ 2,  2,  2],\n",
      "        [ 2,  2,  2],\n",
      "        ...,\n",
      "        [ 2,  2,  2],\n",
      "        [ 1,  1,  1],\n",
      "        [ 2,  2,  2]],\n",
      "\n",
      "       [[ 1,  1,  1],\n",
      "        [ 1,  1,  1],\n",
      "        [ 1,  1,  1],\n",
      "        ...,\n",
      "        [ 2,  2,  2],\n",
      "        [ 3,  3,  3],\n",
      "        [ 2,  2,  2]],\n",
      "\n",
      "       [[ 2,  2,  2],\n",
      "        [ 1,  1,  1],\n",
      "        [ 2,  2,  2],\n",
      "        ...,\n",
      "        [ 2,  2,  2],\n",
      "        [ 2,  2,  2],\n",
      "        [ 2,  2,  2]],\n",
      "\n",
      "       ...,\n",
      "\n",
      "       [[ 0,  0,  0],\n",
      "        [ 0,  0,  0],\n",
      "        [ 0,  0,  0],\n",
      "        ...,\n",
      "        [12, 12, 12],\n",
      "        [10, 10, 10],\n",
      "        [ 8,  8,  8]],\n",
      "\n",
      "       [[ 0,  0,  0],\n",
      "        [ 0,  0,  0],\n",
      "        [ 0,  0,  0],\n",
      "        ...,\n",
      "        [ 9,  9,  9],\n",
      "        [ 6,  6,  6],\n",
      "        [ 4,  4,  4]],\n",
      "\n",
      "       [[ 0,  0,  0],\n",
      "        [ 0,  0,  0],\n",
      "        [ 0,  0,  0],\n",
      "        ...,\n",
      "        [ 5,  5,  5],\n",
      "        [ 4,  4,  4],\n",
      "        [ 2,  2,  2]]], shape=(300, 288, 3), dtype=uint8)\n",
      "orig_shape: (300, 288)\n",
      "path: 'D:\\\\AAA\\\\Nowy folder\\\\Outputs\\\\Test\\\\2025-08-12-13.44.57.png'\n",
      "probs: None\n",
      "save_dir: 'runs\\\\segment\\\\predict4'\n",
      "speed: {'preprocess': 0.8282999997391016, 'inference': 11.291499999970256, 'postprocess': 3.9170000000012806}, ultralytics.engine.results.Results object with attributes:\n",
      "\n",
      "boxes: ultralytics.engine.results.Boxes object\n",
      "keypoints: None\n",
      "masks: ultralytics.engine.results.Masks object\n",
      "names: {0: 'Pupil'}\n",
      "obb: None\n",
      "orig_img: array([[[ 2,  2,  2],\n",
      "        [ 2,  2,  2],\n",
      "        [ 2,  2,  2],\n",
      "        ...,\n",
      "        [ 2,  2,  2],\n",
      "        [ 3,  3,  3],\n",
      "        [ 2,  2,  2]],\n",
      "\n",
      "       [[ 2,  2,  2],\n",
      "        [ 2,  2,  2],\n",
      "        [ 2,  2,  2],\n",
      "        ...,\n",
      "        [ 2,  2,  2],\n",
      "        [ 2,  2,  2],\n",
      "        [ 3,  3,  3]],\n",
      "\n",
      "       [[ 2,  2,  2],\n",
      "        [ 2,  2,  2],\n",
      "        [ 2,  2,  2],\n",
      "        ...,\n",
      "        [ 2,  2,  2],\n",
      "        [ 2,  2,  2],\n",
      "        [ 2,  2,  2]],\n",
      "\n",
      "       ...,\n",
      "\n",
      "       [[ 0,  0,  0],\n",
      "        [ 0,  0,  0],\n",
      "        [ 0,  0,  0],\n",
      "        ...,\n",
      "        [11, 11, 11],\n",
      "        [10, 10, 10],\n",
      "        [ 8,  8,  8]],\n",
      "\n",
      "       [[ 0,  0,  0],\n",
      "        [ 0,  0,  0],\n",
      "        [ 0,  0,  0],\n",
      "        ...,\n",
      "        [ 8,  8,  8],\n",
      "        [ 6,  6,  6],\n",
      "        [ 4,  4,  4]],\n",
      "\n",
      "       [[ 0,  0,  0],\n",
      "        [ 0,  0,  0],\n",
      "        [ 0,  0,  0],\n",
      "        ...,\n",
      "        [ 3,  3,  3],\n",
      "        [ 4,  4,  4],\n",
      "        [ 3,  3,  3]]], shape=(300, 288, 3), dtype=uint8)\n",
      "orig_shape: (300, 288)\n",
      "path: 'D:\\\\AAA\\\\Nowy folder\\\\Outputs\\\\Test\\\\2025-08-12-13.45.09.png'\n",
      "probs: None\n",
      "save_dir: 'runs\\\\segment\\\\predict4'\n",
      "speed: {'preprocess': 0.8288999997603241, 'inference': 11.146300000291376, 'postprocess': 3.1812999995963764}, ultralytics.engine.results.Results object with attributes:\n",
      "\n",
      "boxes: ultralytics.engine.results.Boxes object\n",
      "keypoints: None\n",
      "masks: ultralytics.engine.results.Masks object\n",
      "names: {0: 'Pupil'}\n",
      "obb: None\n",
      "orig_img: array([[[ 2,  2,  2],\n",
      "        [ 2,  2,  2],\n",
      "        [ 2,  2,  2],\n",
      "        ...,\n",
      "        [ 2,  2,  2],\n",
      "        [ 2,  2,  2],\n",
      "        [ 1,  1,  1]],\n",
      "\n",
      "       [[ 2,  2,  2],\n",
      "        [ 2,  2,  2],\n",
      "        [ 1,  1,  1],\n",
      "        ...,\n",
      "        [ 2,  2,  2],\n",
      "        [ 2,  2,  2],\n",
      "        [ 2,  2,  2]],\n",
      "\n",
      "       [[ 2,  2,  2],\n",
      "        [ 2,  2,  2],\n",
      "        [ 2,  2,  2],\n",
      "        ...,\n",
      "        [ 2,  2,  2],\n",
      "        [ 2,  2,  2],\n",
      "        [ 3,  3,  3]],\n",
      "\n",
      "       ...,\n",
      "\n",
      "       [[ 0,  0,  0],\n",
      "        [ 1,  1,  1],\n",
      "        [ 0,  0,  0],\n",
      "        ...,\n",
      "        [10, 10, 10],\n",
      "        [ 9,  9,  9],\n",
      "        [ 8,  8,  8]],\n",
      "\n",
      "       [[ 0,  0,  0],\n",
      "        [ 0,  0,  0],\n",
      "        [ 0,  0,  0],\n",
      "        ...,\n",
      "        [ 8,  8,  8],\n",
      "        [ 5,  5,  5],\n",
      "        [ 4,  4,  4]],\n",
      "\n",
      "       [[ 0,  0,  0],\n",
      "        [ 0,  0,  0],\n",
      "        [ 0,  0,  0],\n",
      "        ...,\n",
      "        [ 4,  4,  4],\n",
      "        [ 4,  4,  4],\n",
      "        [ 3,  3,  3]]], shape=(300, 288, 3), dtype=uint8)\n",
      "orig_shape: (300, 288)\n",
      "path: 'D:\\\\AAA\\\\Nowy folder\\\\Outputs\\\\Test\\\\2025-08-12-13.45.18.png'\n",
      "probs: None\n",
      "save_dir: 'runs\\\\segment\\\\predict4'\n",
      "speed: {'preprocess': 0.9056999997483217, 'inference': 11.012699999810138, 'postprocess': 3.235099999983504}, ultralytics.engine.results.Results object with attributes:\n",
      "\n",
      "boxes: ultralytics.engine.results.Boxes object\n",
      "keypoints: None\n",
      "masks: ultralytics.engine.results.Masks object\n",
      "names: {0: 'Pupil'}\n",
      "obb: None\n",
      "orig_img: array([[[ 1,  1,  1],\n",
      "        [ 2,  2,  2],\n",
      "        [ 1,  1,  1],\n",
      "        ...,\n",
      "        [ 2,  2,  2],\n",
      "        [ 2,  2,  2],\n",
      "        [ 2,  2,  2]],\n",
      "\n",
      "       [[ 2,  2,  2],\n",
      "        [ 2,  2,  2],\n",
      "        [ 1,  1,  1],\n",
      "        ...,\n",
      "        [ 2,  2,  2],\n",
      "        [ 2,  2,  2],\n",
      "        [ 2,  2,  2]],\n",
      "\n",
      "       [[ 2,  2,  2],\n",
      "        [ 1,  1,  1],\n",
      "        [ 2,  2,  2],\n",
      "        ...,\n",
      "        [ 2,  2,  2],\n",
      "        [ 2,  2,  2],\n",
      "        [ 2,  2,  2]],\n",
      "\n",
      "       ...,\n",
      "\n",
      "       [[ 0,  0,  0],\n",
      "        [ 1,  1,  1],\n",
      "        [ 0,  0,  0],\n",
      "        ...,\n",
      "        [12, 12, 12],\n",
      "        [ 9,  9,  9],\n",
      "        [ 8,  8,  8]],\n",
      "\n",
      "       [[ 0,  0,  0],\n",
      "        [ 0,  0,  0],\n",
      "        [ 0,  0,  0],\n",
      "        ...,\n",
      "        [ 8,  8,  8],\n",
      "        [ 6,  6,  6],\n",
      "        [ 4,  4,  4]],\n",
      "\n",
      "       [[ 0,  0,  0],\n",
      "        [ 0,  0,  0],\n",
      "        [ 0,  0,  0],\n",
      "        ...,\n",
      "        [ 4,  4,  4],\n",
      "        [ 3,  3,  3],\n",
      "        [ 2,  2,  2]]], shape=(300, 288, 3), dtype=uint8)\n",
      "orig_shape: (300, 288)\n",
      "path: 'D:\\\\AAA\\\\Nowy folder\\\\Outputs\\\\Test\\\\2025-08-12-13.45.24.png'\n",
      "probs: None\n",
      "save_dir: 'runs\\\\segment\\\\predict4'\n",
      "speed: {'preprocess': 0.9853000001385226, 'inference': 10.664200000064739, 'postprocess': 3.172900000208756}, ultralytics.engine.results.Results object with attributes:\n",
      "\n",
      "boxes: ultralytics.engine.results.Boxes object\n",
      "keypoints: None\n",
      "masks: None\n",
      "names: {0: 'Pupil'}\n",
      "obb: None\n",
      "orig_img: array([[[ 3,  3,  3],\n",
      "        [ 2,  2,  2],\n",
      "        [ 2,  2,  2],\n",
      "        ...,\n",
      "        [ 3,  3,  3],\n",
      "        [ 3,  3,  3],\n",
      "        [ 3,  3,  3]],\n",
      "\n",
      "       [[ 2,  2,  2],\n",
      "        [ 3,  3,  3],\n",
      "        [ 2,  2,  2],\n",
      "        ...,\n",
      "        [ 3,  3,  3],\n",
      "        [ 3,  3,  3],\n",
      "        [ 4,  4,  4]],\n",
      "\n",
      "       [[ 3,  3,  3],\n",
      "        [ 3,  3,  3],\n",
      "        [ 3,  3,  3],\n",
      "        ...,\n",
      "        [ 3,  3,  3],\n",
      "        [ 3,  3,  3],\n",
      "        [ 3,  3,  3]],\n",
      "\n",
      "       ...,\n",
      "\n",
      "       [[ 0,  0,  0],\n",
      "        [ 1,  1,  1],\n",
      "        [ 0,  0,  0],\n",
      "        ...,\n",
      "        [10, 10, 10],\n",
      "        [ 9,  9,  9],\n",
      "        [ 7,  7,  7]],\n",
      "\n",
      "       [[ 1,  1,  1],\n",
      "        [ 0,  0,  0],\n",
      "        [ 0,  0,  0],\n",
      "        ...,\n",
      "        [ 8,  8,  8],\n",
      "        [ 6,  6,  6],\n",
      "        [ 5,  5,  5]],\n",
      "\n",
      "       [[ 1,  1,  1],\n",
      "        [ 0,  0,  0],\n",
      "        [ 0,  0,  0],\n",
      "        ...,\n",
      "        [ 4,  4,  4],\n",
      "        [ 3,  3,  3],\n",
      "        [ 3,  3,  3]]], shape=(300, 288, 3), dtype=uint8)\n",
      "orig_shape: (300, 288)\n",
      "path: 'D:\\\\AAA\\\\Nowy folder\\\\Outputs\\\\Test\\\\2025-08-12-13.45.34.png'\n",
      "probs: None\n",
      "save_dir: 'runs\\\\segment\\\\predict4'\n",
      "speed: {'preprocess': 0.9726000007503899, 'inference': 10.667800000192074, 'postprocess': 0.9779000001799432}, ultralytics.engine.results.Results object with attributes:\n",
      "\n",
      "boxes: ultralytics.engine.results.Boxes object\n",
      "keypoints: None\n",
      "masks: ultralytics.engine.results.Masks object\n",
      "names: {0: 'Pupil'}\n",
      "obb: None\n",
      "orig_img: array([[[ 1,  1,  1],\n",
      "        [ 1,  1,  1],\n",
      "        [ 1,  1,  1],\n",
      "        ...,\n",
      "        [ 2,  2,  2],\n",
      "        [ 2,  2,  2],\n",
      "        [ 2,  2,  2]],\n",
      "\n",
      "       [[ 1,  1,  1],\n",
      "        [ 2,  2,  2],\n",
      "        [ 1,  1,  1],\n",
      "        ...,\n",
      "        [ 2,  2,  2],\n",
      "        [ 2,  2,  2],\n",
      "        [ 2,  2,  2]],\n",
      "\n",
      "       [[ 2,  2,  2],\n",
      "        [ 2,  2,  2],\n",
      "        [ 2,  2,  2],\n",
      "        ...,\n",
      "        [ 2,  2,  2],\n",
      "        [ 2,  2,  2],\n",
      "        [ 2,  2,  2]],\n",
      "\n",
      "       ...,\n",
      "\n",
      "       [[ 0,  0,  0],\n",
      "        [ 0,  0,  0],\n",
      "        [ 0,  0,  0],\n",
      "        ...,\n",
      "        [12, 12, 12],\n",
      "        [ 9,  9,  9],\n",
      "        [ 7,  7,  7]],\n",
      "\n",
      "       [[ 0,  0,  0],\n",
      "        [ 0,  0,  0],\n",
      "        [ 0,  0,  0],\n",
      "        ...,\n",
      "        [ 8,  8,  8],\n",
      "        [ 5,  5,  5],\n",
      "        [ 4,  4,  4]],\n",
      "\n",
      "       [[ 1,  1,  1],\n",
      "        [ 1,  1,  1],\n",
      "        [ 0,  0,  0],\n",
      "        ...,\n",
      "        [ 4,  4,  4],\n",
      "        [ 4,  4,  4],\n",
      "        [ 1,  1,  1]]], shape=(300, 288, 3), dtype=uint8)\n",
      "orig_shape: (300, 288)\n",
      "path: 'D:\\\\AAA\\\\Nowy folder\\\\Outputs\\\\Test\\\\2025-08-12-13.45.39.png'\n",
      "probs: None\n",
      "save_dir: 'runs\\\\segment\\\\predict4'\n",
      "speed: {'preprocess': 0.9838999994826736, 'inference': 10.820600000442937, 'postprocess': 3.4163999998781946}, ultralytics.engine.results.Results object with attributes:\n",
      "\n",
      "boxes: ultralytics.engine.results.Boxes object\n",
      "keypoints: None\n",
      "masks: ultralytics.engine.results.Masks object\n",
      "names: {0: 'Pupil'}\n",
      "obb: None\n",
      "orig_img: array([[[ 2,  2,  2],\n",
      "        [ 1,  1,  1],\n",
      "        [ 2,  2,  2],\n",
      "        ...,\n",
      "        [ 2,  2,  2],\n",
      "        [ 2,  2,  2],\n",
      "        [ 3,  3,  3]],\n",
      "\n",
      "       [[ 2,  2,  2],\n",
      "        [ 3,  3,  3],\n",
      "        [ 3,  3,  3],\n",
      "        ...,\n",
      "        [ 2,  2,  2],\n",
      "        [ 2,  2,  2],\n",
      "        [ 3,  3,  3]],\n",
      "\n",
      "       [[ 2,  2,  2],\n",
      "        [ 2,  2,  2],\n",
      "        [ 2,  2,  2],\n",
      "        ...,\n",
      "        [ 3,  3,  3],\n",
      "        [ 3,  3,  3],\n",
      "        [ 3,  3,  3]],\n",
      "\n",
      "       ...,\n",
      "\n",
      "       [[ 0,  0,  0],\n",
      "        [ 0,  0,  0],\n",
      "        [ 0,  0,  0],\n",
      "        ...,\n",
      "        [10, 10, 10],\n",
      "        [10, 10, 10],\n",
      "        [ 7,  7,  7]],\n",
      "\n",
      "       [[ 0,  0,  0],\n",
      "        [ 0,  0,  0],\n",
      "        [ 1,  1,  1],\n",
      "        ...,\n",
      "        [ 7,  7,  7],\n",
      "        [ 5,  5,  5],\n",
      "        [ 2,  2,  2]],\n",
      "\n",
      "       [[ 1,  1,  1],\n",
      "        [ 0,  0,  0],\n",
      "        [ 0,  0,  0],\n",
      "        ...,\n",
      "        [ 4,  4,  4],\n",
      "        [ 4,  4,  4],\n",
      "        [ 3,  3,  3]]], shape=(300, 288, 3), dtype=uint8)\n",
      "orig_shape: (300, 288)\n",
      "path: 'D:\\\\AAA\\\\Nowy folder\\\\Outputs\\\\Test\\\\2025-08-12-13.45.44.png'\n",
      "probs: None\n",
      "save_dir: 'runs\\\\segment\\\\predict4'\n",
      "speed: {'preprocess': 1.0302999999112217, 'inference': 13.30359999974462, 'postprocess': 4.461900000023888}, ultralytics.engine.results.Results object with attributes:\n",
      "\n",
      "boxes: ultralytics.engine.results.Boxes object\n",
      "keypoints: None\n",
      "masks: ultralytics.engine.results.Masks object\n",
      "names: {0: 'Pupil'}\n",
      "obb: None\n",
      "orig_img: array([[[ 2,  2,  2],\n",
      "        [ 2,  2,  2],\n",
      "        [ 2,  2,  2],\n",
      "        ...,\n",
      "        [ 2,  2,  2],\n",
      "        [ 2,  2,  2],\n",
      "        [ 2,  2,  2]],\n",
      "\n",
      "       [[ 2,  2,  2],\n",
      "        [ 2,  2,  2],\n",
      "        [ 1,  1,  1],\n",
      "        ...,\n",
      "        [ 2,  2,  2],\n",
      "        [ 2,  2,  2],\n",
      "        [ 2,  2,  2]],\n",
      "\n",
      "       [[ 2,  2,  2],\n",
      "        [ 2,  2,  2],\n",
      "        [ 2,  2,  2],\n",
      "        ...,\n",
      "        [ 2,  2,  2],\n",
      "        [ 3,  3,  3],\n",
      "        [ 3,  3,  3]],\n",
      "\n",
      "       ...,\n",
      "\n",
      "       [[ 0,  0,  0],\n",
      "        [ 0,  0,  0],\n",
      "        [ 0,  0,  0],\n",
      "        ...,\n",
      "        [11, 11, 11],\n",
      "        [ 9,  9,  9],\n",
      "        [ 5,  5,  5]],\n",
      "\n",
      "       [[ 0,  0,  0],\n",
      "        [ 0,  0,  0],\n",
      "        [ 0,  0,  0],\n",
      "        ...,\n",
      "        [ 6,  6,  6],\n",
      "        [ 5,  5,  5],\n",
      "        [ 4,  4,  4]],\n",
      "\n",
      "       [[ 0,  0,  0],\n",
      "        [ 0,  0,  0],\n",
      "        [ 0,  0,  0],\n",
      "        ...,\n",
      "        [ 4,  4,  4],\n",
      "        [ 3,  3,  3],\n",
      "        [ 2,  2,  2]]], shape=(300, 288, 3), dtype=uint8)\n",
      "orig_shape: (300, 288)\n",
      "path: 'D:\\\\AAA\\\\Nowy folder\\\\Outputs\\\\Test\\\\2025-08-12-13.45.48.png'\n",
      "probs: None\n",
      "save_dir: 'runs\\\\segment\\\\predict4'\n",
      "speed: {'preprocess': 0.8507000002282439, 'inference': 11.140999999952328, 'postprocess': 3.35700000050565}, ultralytics.engine.results.Results object with attributes:\n",
      "\n",
      "boxes: ultralytics.engine.results.Boxes object\n",
      "keypoints: None\n",
      "masks: ultralytics.engine.results.Masks object\n",
      "names: {0: 'Pupil'}\n",
      "obb: None\n",
      "orig_img: array([[[ 2,  2,  2],\n",
      "        [ 2,  2,  2],\n",
      "        [ 2,  2,  2],\n",
      "        ...,\n",
      "        [ 2,  2,  2],\n",
      "        [ 2,  2,  2],\n",
      "        [ 2,  2,  2]],\n",
      "\n",
      "       [[ 1,  1,  1],\n",
      "        [ 2,  2,  2],\n",
      "        [ 2,  2,  2],\n",
      "        ...,\n",
      "        [ 2,  2,  2],\n",
      "        [ 2,  2,  2],\n",
      "        [ 2,  2,  2]],\n",
      "\n",
      "       [[ 2,  2,  2],\n",
      "        [ 2,  2,  2],\n",
      "        [ 2,  2,  2],\n",
      "        ...,\n",
      "        [ 2,  2,  2],\n",
      "        [ 2,  2,  2],\n",
      "        [ 2,  2,  2]],\n",
      "\n",
      "       ...,\n",
      "\n",
      "       [[ 0,  0,  0],\n",
      "        [ 0,  0,  0],\n",
      "        [ 1,  1,  1],\n",
      "        ...,\n",
      "        [10, 10, 10],\n",
      "        [ 9,  9,  9],\n",
      "        [ 6,  6,  6]],\n",
      "\n",
      "       [[ 0,  0,  0],\n",
      "        [ 0,  0,  0],\n",
      "        [ 0,  0,  0],\n",
      "        ...,\n",
      "        [ 7,  7,  7],\n",
      "        [ 4,  4,  4],\n",
      "        [ 4,  4,  4]],\n",
      "\n",
      "       [[ 0,  0,  0],\n",
      "        [ 0,  0,  0],\n",
      "        [ 0,  0,  0],\n",
      "        ...,\n",
      "        [ 5,  5,  5],\n",
      "        [ 4,  4,  4],\n",
      "        [ 3,  3,  3]]], shape=(300, 288, 3), dtype=uint8)\n",
      "orig_shape: (300, 288)\n",
      "path: 'D:\\\\AAA\\\\Nowy folder\\\\Outputs\\\\Test\\\\2025-08-12-13.45.55.png'\n",
      "probs: None\n",
      "save_dir: 'runs\\\\segment\\\\predict4'\n",
      "speed: {'preprocess': 0.8944000001065433, 'inference': 10.788599999614235, 'postprocess': 2.747800000179268}, ultralytics.engine.results.Results object with attributes:\n",
      "\n",
      "boxes: ultralytics.engine.results.Boxes object\n",
      "keypoints: None\n",
      "masks: ultralytics.engine.results.Masks object\n",
      "names: {0: 'Pupil'}\n",
      "obb: None\n",
      "orig_img: array([[[ 2,  2,  2],\n",
      "        [ 2,  2,  2],\n",
      "        [ 2,  2,  2],\n",
      "        ...,\n",
      "        [ 2,  2,  2],\n",
      "        [ 2,  2,  2],\n",
      "        [ 2,  2,  2]],\n",
      "\n",
      "       [[ 1,  1,  1],\n",
      "        [ 2,  2,  2],\n",
      "        [ 1,  1,  1],\n",
      "        ...,\n",
      "        [ 2,  2,  2],\n",
      "        [ 2,  2,  2],\n",
      "        [ 2,  2,  2]],\n",
      "\n",
      "       [[ 2,  2,  2],\n",
      "        [ 2,  2,  2],\n",
      "        [ 2,  2,  2],\n",
      "        ...,\n",
      "        [ 2,  2,  2],\n",
      "        [ 3,  3,  3],\n",
      "        [ 2,  2,  2]],\n",
      "\n",
      "       ...,\n",
      "\n",
      "       [[ 0,  0,  0],\n",
      "        [ 0,  0,  0],\n",
      "        [ 0,  0,  0],\n",
      "        ...,\n",
      "        [10, 10, 10],\n",
      "        [ 8,  8,  8],\n",
      "        [ 6,  6,  6]],\n",
      "\n",
      "       [[ 1,  1,  1],\n",
      "        [ 0,  0,  0],\n",
      "        [ 0,  0,  0],\n",
      "        ...,\n",
      "        [ 7,  7,  7],\n",
      "        [ 5,  5,  5],\n",
      "        [ 4,  4,  4]],\n",
      "\n",
      "       [[ 0,  0,  0],\n",
      "        [ 0,  0,  0],\n",
      "        [ 1,  1,  1],\n",
      "        ...,\n",
      "        [ 4,  4,  4],\n",
      "        [ 3,  3,  3],\n",
      "        [ 3,  3,  3]]], shape=(300, 288, 3), dtype=uint8)\n",
      "orig_shape: (300, 288)\n",
      "path: 'D:\\\\AAA\\\\Nowy folder\\\\Outputs\\\\Test\\\\2025-08-12-13.46.00.png'\n",
      "probs: None\n",
      "save_dir: 'runs\\\\segment\\\\predict4'\n",
      "speed: {'preprocess': 0.8866999996826053, 'inference': 10.649300000295625, 'postprocess': 2.662399999280751}, ultralytics.engine.results.Results object with attributes:\n",
      "\n",
      "boxes: ultralytics.engine.results.Boxes object\n",
      "keypoints: None\n",
      "masks: ultralytics.engine.results.Masks object\n",
      "names: {0: 'Pupil'}\n",
      "obb: None\n",
      "orig_img: array([[[ 2,  2,  2],\n",
      "        [ 1,  1,  1],\n",
      "        [ 2,  2,  2],\n",
      "        ...,\n",
      "        [ 2,  2,  2],\n",
      "        [ 2,  2,  2],\n",
      "        [ 2,  2,  2]],\n",
      "\n",
      "       [[ 2,  2,  2],\n",
      "        [ 2,  2,  2],\n",
      "        [ 2,  2,  2],\n",
      "        ...,\n",
      "        [ 1,  1,  1],\n",
      "        [ 2,  2,  2],\n",
      "        [ 1,  1,  1]],\n",
      "\n",
      "       [[ 2,  2,  2],\n",
      "        [ 2,  2,  2],\n",
      "        [ 2,  2,  2],\n",
      "        ...,\n",
      "        [ 2,  2,  2],\n",
      "        [ 2,  2,  2],\n",
      "        [ 2,  2,  2]],\n",
      "\n",
      "       ...,\n",
      "\n",
      "       [[ 0,  0,  0],\n",
      "        [ 0,  0,  0],\n",
      "        [ 0,  0,  0],\n",
      "        ...,\n",
      "        [11, 11, 11],\n",
      "        [ 8,  8,  8],\n",
      "        [ 7,  7,  7]],\n",
      "\n",
      "       [[ 0,  0,  0],\n",
      "        [ 0,  0,  0],\n",
      "        [ 0,  0,  0],\n",
      "        ...,\n",
      "        [ 6,  6,  6],\n",
      "        [ 5,  5,  5],\n",
      "        [ 4,  4,  4]],\n",
      "\n",
      "       [[ 0,  0,  0],\n",
      "        [ 0,  0,  0],\n",
      "        [ 0,  0,  0],\n",
      "        ...,\n",
      "        [ 4,  4,  4],\n",
      "        [ 3,  3,  3],\n",
      "        [ 1,  1,  1]]], shape=(300, 288, 3), dtype=uint8)\n",
      "orig_shape: (300, 288)\n",
      "path: 'D:\\\\AAA\\\\Nowy folder\\\\Outputs\\\\Test\\\\2025-08-12-13.46.17.png'\n",
      "probs: None\n",
      "save_dir: 'runs\\\\segment\\\\predict4'\n",
      "speed: {'preprocess': 0.9240000008503557, 'inference': 11.093399999481335, 'postprocess': 3.152100000079372}, ultralytics.engine.results.Results object with attributes:\n",
      "\n",
      "boxes: ultralytics.engine.results.Boxes object\n",
      "keypoints: None\n",
      "masks: ultralytics.engine.results.Masks object\n",
      "names: {0: 'Pupil'}\n",
      "obb: None\n",
      "orig_img: array([[[1, 1, 1],\n",
      "        [1, 1, 1],\n",
      "        [2, 2, 2],\n",
      "        ...,\n",
      "        [2, 2, 2],\n",
      "        [3, 3, 3],\n",
      "        [2, 2, 2]],\n",
      "\n",
      "       [[2, 2, 2],\n",
      "        [1, 1, 1],\n",
      "        [2, 2, 2],\n",
      "        ...,\n",
      "        [2, 2, 2],\n",
      "        [2, 2, 2],\n",
      "        [2, 2, 2]],\n",
      "\n",
      "       [[3, 3, 3],\n",
      "        [2, 2, 2],\n",
      "        [1, 1, 1],\n",
      "        ...,\n",
      "        [2, 2, 2],\n",
      "        [2, 2, 2],\n",
      "        [2, 2, 2]],\n",
      "\n",
      "       ...,\n",
      "\n",
      "       [[0, 0, 0],\n",
      "        [0, 0, 0],\n",
      "        [1, 1, 1],\n",
      "        ...,\n",
      "        [8, 8, 8],\n",
      "        [8, 8, 8],\n",
      "        [6, 6, 6]],\n",
      "\n",
      "       [[1, 1, 1],\n",
      "        [1, 1, 1],\n",
      "        [1, 1, 1],\n",
      "        ...,\n",
      "        [8, 8, 8],\n",
      "        [6, 6, 6],\n",
      "        [3, 3, 3]],\n",
      "\n",
      "       [[0, 0, 0],\n",
      "        [0, 0, 0],\n",
      "        [0, 0, 0],\n",
      "        ...,\n",
      "        [4, 4, 4],\n",
      "        [3, 3, 3],\n",
      "        [3, 3, 3]]], shape=(300, 288, 3), dtype=uint8)\n",
      "orig_shape: (300, 288)\n",
      "path: 'D:\\\\AAA\\\\Nowy folder\\\\Outputs\\\\Test\\\\2025-08-12-13.46.21.png'\n",
      "probs: None\n",
      "save_dir: 'runs\\\\segment\\\\predict4'\n",
      "speed: {'preprocess': 0.8408000003328198, 'inference': 10.533900000154972, 'postprocess': 3.6724000001413515}, ultralytics.engine.results.Results object with attributes:\n",
      "\n",
      "boxes: ultralytics.engine.results.Boxes object\n",
      "keypoints: None\n",
      "masks: ultralytics.engine.results.Masks object\n",
      "names: {0: 'Pupil'}\n",
      "obb: None\n",
      "orig_img: array([[[ 2,  2,  2],\n",
      "        [ 2,  2,  2],\n",
      "        [ 2,  2,  2],\n",
      "        ...,\n",
      "        [ 2,  2,  2],\n",
      "        [ 3,  3,  3],\n",
      "        [ 2,  2,  2]],\n",
      "\n",
      "       [[ 2,  2,  2],\n",
      "        [ 2,  2,  2],\n",
      "        [ 2,  2,  2],\n",
      "        ...,\n",
      "        [ 2,  2,  2],\n",
      "        [ 2,  2,  2],\n",
      "        [ 2,  2,  2]],\n",
      "\n",
      "       [[ 2,  2,  2],\n",
      "        [ 2,  2,  2],\n",
      "        [ 2,  2,  2],\n",
      "        ...,\n",
      "        [ 2,  2,  2],\n",
      "        [ 2,  2,  2],\n",
      "        [ 2,  2,  2]],\n",
      "\n",
      "       ...,\n",
      "\n",
      "       [[ 0,  0,  0],\n",
      "        [ 0,  0,  0],\n",
      "        [ 1,  1,  1],\n",
      "        ...,\n",
      "        [11, 11, 11],\n",
      "        [ 7,  7,  7],\n",
      "        [ 7,  7,  7]],\n",
      "\n",
      "       [[ 0,  0,  0],\n",
      "        [ 0,  0,  0],\n",
      "        [ 1,  1,  1],\n",
      "        ...,\n",
      "        [ 6,  6,  6],\n",
      "        [ 5,  5,  5],\n",
      "        [ 4,  4,  4]],\n",
      "\n",
      "       [[ 0,  0,  0],\n",
      "        [ 0,  0,  0],\n",
      "        [ 0,  0,  0],\n",
      "        ...,\n",
      "        [ 4,  4,  4],\n",
      "        [ 4,  4,  4],\n",
      "        [ 2,  2,  2]]], shape=(300, 288, 3), dtype=uint8)\n",
      "orig_shape: (300, 288)\n",
      "path: 'D:\\\\AAA\\\\Nowy folder\\\\Outputs\\\\Test\\\\2025-08-12-13.46.25.png'\n",
      "probs: None\n",
      "save_dir: 'runs\\\\segment\\\\predict4'\n",
      "speed: {'preprocess': 1.1948999999731313, 'inference': 11.386299999685434, 'postprocess': 3.4617000001162523}, ultralytics.engine.results.Results object with attributes:\n",
      "\n",
      "boxes: ultralytics.engine.results.Boxes object\n",
      "keypoints: None\n",
      "masks: ultralytics.engine.results.Masks object\n",
      "names: {0: 'Pupil'}\n",
      "obb: None\n",
      "orig_img: array([[[2, 2, 2],\n",
      "        [2, 2, 2],\n",
      "        [1, 1, 1],\n",
      "        ...,\n",
      "        [2, 2, 2],\n",
      "        [3, 3, 3],\n",
      "        [2, 2, 2]],\n",
      "\n",
      "       [[2, 2, 2],\n",
      "        [2, 2, 2],\n",
      "        [2, 2, 2],\n",
      "        ...,\n",
      "        [2, 2, 2],\n",
      "        [2, 2, 2],\n",
      "        [2, 2, 2]],\n",
      "\n",
      "       [[2, 2, 2],\n",
      "        [2, 2, 2],\n",
      "        [2, 2, 2],\n",
      "        ...,\n",
      "        [2, 2, 2],\n",
      "        [2, 2, 2],\n",
      "        [3, 3, 3]],\n",
      "\n",
      "       ...,\n",
      "\n",
      "       [[0, 0, 0],\n",
      "        [0, 0, 0],\n",
      "        [0, 0, 0],\n",
      "        ...,\n",
      "        [9, 9, 9],\n",
      "        [8, 8, 8],\n",
      "        [8, 8, 8]],\n",
      "\n",
      "       [[0, 0, 0],\n",
      "        [1, 1, 1],\n",
      "        [1, 1, 1],\n",
      "        ...,\n",
      "        [7, 7, 7],\n",
      "        [5, 5, 5],\n",
      "        [3, 3, 3]],\n",
      "\n",
      "       [[1, 1, 1],\n",
      "        [0, 0, 0],\n",
      "        [0, 0, 0],\n",
      "        ...,\n",
      "        [4, 4, 4],\n",
      "        [3, 3, 3],\n",
      "        [2, 2, 2]]], shape=(300, 288, 3), dtype=uint8)\n",
      "orig_shape: (300, 288)\n",
      "path: 'D:\\\\AAA\\\\Nowy folder\\\\Outputs\\\\Test\\\\2025-08-12-13.46.29.png'\n",
      "probs: None\n",
      "save_dir: 'runs\\\\segment\\\\predict4'\n",
      "speed: {'preprocess': 1.2296000004425878, 'inference': 10.714099999859172, 'postprocess': 3.50700000035431}, ultralytics.engine.results.Results object with attributes:\n",
      "\n",
      "boxes: ultralytics.engine.results.Boxes object\n",
      "keypoints: None\n",
      "masks: ultralytics.engine.results.Masks object\n",
      "names: {0: 'Pupil'}\n",
      "obb: None\n",
      "orig_img: array([[[ 2,  2,  2],\n",
      "        [ 2,  2,  2],\n",
      "        [ 2,  2,  2],\n",
      "        ...,\n",
      "        [ 2,  2,  2],\n",
      "        [ 2,  2,  2],\n",
      "        [ 2,  2,  2]],\n",
      "\n",
      "       [[ 1,  1,  1],\n",
      "        [ 2,  2,  2],\n",
      "        [ 1,  1,  1],\n",
      "        ...,\n",
      "        [ 2,  2,  2],\n",
      "        [ 2,  2,  2],\n",
      "        [ 2,  2,  2]],\n",
      "\n",
      "       [[ 2,  2,  2],\n",
      "        [ 2,  2,  2],\n",
      "        [ 2,  2,  2],\n",
      "        ...,\n",
      "        [ 2,  2,  2],\n",
      "        [ 3,  3,  3],\n",
      "        [ 2,  2,  2]],\n",
      "\n",
      "       ...,\n",
      "\n",
      "       [[ 0,  0,  0],\n",
      "        [ 0,  0,  0],\n",
      "        [ 0,  0,  0],\n",
      "        ...,\n",
      "        [10, 10, 10],\n",
      "        [ 8,  8,  8],\n",
      "        [ 6,  6,  6]],\n",
      "\n",
      "       [[ 1,  1,  1],\n",
      "        [ 0,  0,  0],\n",
      "        [ 0,  0,  0],\n",
      "        ...,\n",
      "        [ 7,  7,  7],\n",
      "        [ 5,  5,  5],\n",
      "        [ 4,  4,  4]],\n",
      "\n",
      "       [[ 0,  0,  0],\n",
      "        [ 0,  0,  0],\n",
      "        [ 1,  1,  1],\n",
      "        ...,\n",
      "        [ 4,  4,  4],\n",
      "        [ 3,  3,  3],\n",
      "        [ 3,  3,  3]]], shape=(300, 288, 3), dtype=uint8)\n",
      "orig_shape: (300, 288)\n",
      "path: 'D:\\\\AAA\\\\Nowy folder\\\\Outputs\\\\Test\\\\2025-08-12-13.46.42.png'\n",
      "probs: None\n",
      "save_dir: 'runs\\\\segment\\\\predict4'\n",
      "speed: {'preprocess': 0.8887999993021367, 'inference': 10.984699999426084, 'postprocess': 3.779700000450248}, ultralytics.engine.results.Results object with attributes:\n",
      "\n",
      "boxes: ultralytics.engine.results.Boxes object\n",
      "keypoints: None\n",
      "masks: ultralytics.engine.results.Masks object\n",
      "names: {0: 'Pupil'}\n",
      "obb: None\n",
      "orig_img: array([[[ 1,  1,  1],\n",
      "        [ 1,  1,  1],\n",
      "        [ 1,  1,  1],\n",
      "        ...,\n",
      "        [ 2,  2,  2],\n",
      "        [ 3,  3,  3],\n",
      "        [ 1,  1,  1]],\n",
      "\n",
      "       [[ 1,  1,  1],\n",
      "        [ 2,  2,  2],\n",
      "        [ 1,  1,  1],\n",
      "        ...,\n",
      "        [ 2,  2,  2],\n",
      "        [ 1,  1,  1],\n",
      "        [ 2,  2,  2]],\n",
      "\n",
      "       [[ 2,  2,  2],\n",
      "        [ 1,  1,  1],\n",
      "        [ 2,  2,  2],\n",
      "        ...,\n",
      "        [ 2,  2,  2],\n",
      "        [ 2,  2,  2],\n",
      "        [ 2,  2,  2]],\n",
      "\n",
      "       ...,\n",
      "\n",
      "       [[ 1,  1,  1],\n",
      "        [ 0,  0,  0],\n",
      "        [ 0,  0,  0],\n",
      "        ...,\n",
      "        [10, 10, 10],\n",
      "        [ 9,  9,  9],\n",
      "        [ 6,  6,  6]],\n",
      "\n",
      "       [[ 0,  0,  0],\n",
      "        [ 0,  0,  0],\n",
      "        [ 0,  0,  0],\n",
      "        ...,\n",
      "        [ 7,  7,  7],\n",
      "        [ 4,  4,  4],\n",
      "        [ 3,  3,  3]],\n",
      "\n",
      "       [[ 0,  0,  0],\n",
      "        [ 0,  0,  0],\n",
      "        [ 0,  0,  0],\n",
      "        ...,\n",
      "        [ 4,  4,  4],\n",
      "        [ 4,  4,  4],\n",
      "        [ 2,  2,  2]]], shape=(300, 288, 3), dtype=uint8)\n",
      "orig_shape: (300, 288)\n",
      "path: 'D:\\\\AAA\\\\Nowy folder\\\\Outputs\\\\Test\\\\2025-08-12-13.46.46.png'\n",
      "probs: None\n",
      "save_dir: 'runs\\\\segment\\\\predict4'\n",
      "speed: {'preprocess': 0.8382999994864804, 'inference': 11.19139999991603, 'postprocess': 4.058800000166229}, ultralytics.engine.results.Results object with attributes:\n",
      "\n",
      "boxes: ultralytics.engine.results.Boxes object\n",
      "keypoints: None\n",
      "masks: ultralytics.engine.results.Masks object\n",
      "names: {0: 'Pupil'}\n",
      "obb: None\n",
      "orig_img: array([[[ 2,  2,  2],\n",
      "        [ 2,  2,  2],\n",
      "        [ 2,  2,  2],\n",
      "        ...,\n",
      "        [ 3,  3,  3],\n",
      "        [ 3,  3,  3],\n",
      "        [ 2,  2,  2]],\n",
      "\n",
      "       [[ 2,  2,  2],\n",
      "        [ 2,  2,  2],\n",
      "        [ 2,  2,  2],\n",
      "        ...,\n",
      "        [ 2,  2,  2],\n",
      "        [ 2,  2,  2],\n",
      "        [ 2,  2,  2]],\n",
      "\n",
      "       [[ 3,  3,  3],\n",
      "        [ 2,  2,  2],\n",
      "        [ 3,  3,  3],\n",
      "        ...,\n",
      "        [ 2,  2,  2],\n",
      "        [ 3,  3,  3],\n",
      "        [ 2,  2,  2]],\n",
      "\n",
      "       ...,\n",
      "\n",
      "       [[ 0,  0,  0],\n",
      "        [ 1,  1,  1],\n",
      "        [ 1,  1,  1],\n",
      "        ...,\n",
      "        [11, 11, 11],\n",
      "        [ 9,  9,  9],\n",
      "        [ 6,  6,  6]],\n",
      "\n",
      "       [[ 0,  0,  0],\n",
      "        [ 1,  1,  1],\n",
      "        [ 0,  0,  0],\n",
      "        ...,\n",
      "        [ 8,  8,  8],\n",
      "        [ 5,  5,  5],\n",
      "        [ 4,  4,  4]],\n",
      "\n",
      "       [[ 0,  0,  0],\n",
      "        [ 1,  1,  1],\n",
      "        [ 1,  1,  1],\n",
      "        ...,\n",
      "        [ 5,  5,  5],\n",
      "        [ 3,  3,  3],\n",
      "        [ 3,  3,  3]]], shape=(300, 288, 3), dtype=uint8)\n",
      "orig_shape: (300, 288)\n",
      "path: 'D:\\\\AAA\\\\Nowy folder\\\\Outputs\\\\Test\\\\2025-08-12-13.46.56.png'\n",
      "probs: None\n",
      "save_dir: 'runs\\\\segment\\\\predict4'\n",
      "speed: {'preprocess': 0.9686000003057416, 'inference': 13.972499999908905, 'postprocess': 3.5260000004200265}, ultralytics.engine.results.Results object with attributes:\n",
      "\n",
      "boxes: ultralytics.engine.results.Boxes object\n",
      "keypoints: None\n",
      "masks: ultralytics.engine.results.Masks object\n",
      "names: {0: 'Pupil'}\n",
      "obb: None\n",
      "orig_img: array([[[ 2,  2,  2],\n",
      "        [ 1,  1,  1],\n",
      "        [ 2,  2,  2],\n",
      "        ...,\n",
      "        [ 2,  2,  2],\n",
      "        [ 2,  2,  2],\n",
      "        [ 2,  2,  2]],\n",
      "\n",
      "       [[ 2,  2,  2],\n",
      "        [ 1,  1,  1],\n",
      "        [ 2,  2,  2],\n",
      "        ...,\n",
      "        [ 1,  1,  1],\n",
      "        [ 2,  2,  2],\n",
      "        [ 2,  2,  2]],\n",
      "\n",
      "       [[ 2,  2,  2],\n",
      "        [ 2,  2,  2],\n",
      "        [ 1,  1,  1],\n",
      "        ...,\n",
      "        [ 2,  2,  2],\n",
      "        [ 2,  2,  2],\n",
      "        [ 2,  2,  2]],\n",
      "\n",
      "       ...,\n",
      "\n",
      "       [[ 0,  0,  0],\n",
      "        [ 1,  1,  1],\n",
      "        [ 1,  1,  1],\n",
      "        ...,\n",
      "        [11, 11, 11],\n",
      "        [ 9,  9,  9],\n",
      "        [ 6,  6,  6]],\n",
      "\n",
      "       [[ 0,  0,  0],\n",
      "        [ 0,  0,  0],\n",
      "        [ 1,  1,  1],\n",
      "        ...,\n",
      "        [ 6,  6,  6],\n",
      "        [ 5,  5,  5],\n",
      "        [ 4,  4,  4]],\n",
      "\n",
      "       [[ 0,  0,  0],\n",
      "        [ 0,  0,  0],\n",
      "        [ 1,  1,  1],\n",
      "        ...,\n",
      "        [ 4,  4,  4],\n",
      "        [ 3,  3,  3],\n",
      "        [ 2,  2,  2]]], shape=(300, 288, 3), dtype=uint8)\n",
      "orig_shape: (300, 288)\n",
      "path: 'D:\\\\AAA\\\\Nowy folder\\\\Outputs\\\\Test\\\\2025-08-12-13.47.00.png'\n",
      "probs: None\n",
      "save_dir: 'runs\\\\segment\\\\predict4'\n",
      "speed: {'preprocess': 1.0733999997682986, 'inference': 14.189100000294275, 'postprocess': 3.7460000003193272}, ultralytics.engine.results.Results object with attributes:\n",
      "\n",
      "boxes: ultralytics.engine.results.Boxes object\n",
      "keypoints: None\n",
      "masks: ultralytics.engine.results.Masks object\n",
      "names: {0: 'Pupil'}\n",
      "obb: None\n",
      "orig_img: array([[[ 2,  2,  2],\n",
      "        [ 1,  1,  1],\n",
      "        [ 1,  1,  1],\n",
      "        ...,\n",
      "        [ 1,  1,  1],\n",
      "        [ 2,  2,  2],\n",
      "        [ 2,  2,  2]],\n",
      "\n",
      "       [[ 1,  1,  1],\n",
      "        [ 1,  1,  1],\n",
      "        [ 1,  1,  1],\n",
      "        ...,\n",
      "        [ 1,  1,  1],\n",
      "        [ 2,  2,  2],\n",
      "        [ 3,  3,  3]],\n",
      "\n",
      "       [[ 2,  2,  2],\n",
      "        [ 2,  2,  2],\n",
      "        [ 2,  2,  2],\n",
      "        ...,\n",
      "        [ 1,  1,  1],\n",
      "        [ 3,  3,  3],\n",
      "        [ 2,  2,  2]],\n",
      "\n",
      "       ...,\n",
      "\n",
      "       [[ 0,  0,  0],\n",
      "        [ 0,  0,  0],\n",
      "        [ 1,  1,  1],\n",
      "        ...,\n",
      "        [11, 11, 11],\n",
      "        [ 9,  9,  9],\n",
      "        [ 7,  7,  7]],\n",
      "\n",
      "       [[ 0,  0,  0],\n",
      "        [ 0,  0,  0],\n",
      "        [ 0,  0,  0],\n",
      "        ...,\n",
      "        [ 8,  8,  8],\n",
      "        [ 5,  5,  5],\n",
      "        [ 3,  3,  3]],\n",
      "\n",
      "       [[ 0,  0,  0],\n",
      "        [ 0,  0,  0],\n",
      "        [ 0,  0,  0],\n",
      "        ...,\n",
      "        [ 4,  4,  4],\n",
      "        [ 4,  4,  4],\n",
      "        [ 2,  2,  2]]], shape=(300, 288, 3), dtype=uint8)\n",
      "orig_shape: (300, 288)\n",
      "path: 'D:\\\\AAA\\\\Nowy folder\\\\Outputs\\\\Test\\\\2025-08-12-13.47.03.png'\n",
      "probs: None\n",
      "save_dir: 'runs\\\\segment\\\\predict4'\n",
      "speed: {'preprocess': 0.8190999997168547, 'inference': 10.6975999997303, 'postprocess': 3.30500000018219}, ultralytics.engine.results.Results object with attributes:\n",
      "\n",
      "boxes: ultralytics.engine.results.Boxes object\n",
      "keypoints: None\n",
      "masks: ultralytics.engine.results.Masks object\n",
      "names: {0: 'Pupil'}\n",
      "obb: None\n",
      "orig_img: array([[[ 1,  1,  1],\n",
      "        [ 1,  1,  1],\n",
      "        [ 1,  1,  1],\n",
      "        ...,\n",
      "        [ 1,  1,  1],\n",
      "        [ 2,  2,  2],\n",
      "        [ 1,  1,  1]],\n",
      "\n",
      "       [[ 1,  1,  1],\n",
      "        [ 1,  1,  1],\n",
      "        [ 1,  1,  1],\n",
      "        ...,\n",
      "        [ 1,  1,  1],\n",
      "        [ 2,  2,  2],\n",
      "        [ 2,  2,  2]],\n",
      "\n",
      "       [[ 2,  2,  2],\n",
      "        [ 2,  2,  2],\n",
      "        [ 1,  1,  1],\n",
      "        ...,\n",
      "        [ 2,  2,  2],\n",
      "        [ 2,  2,  2],\n",
      "        [ 2,  2,  2]],\n",
      "\n",
      "       ...,\n",
      "\n",
      "       [[ 1,  1,  1],\n",
      "        [ 0,  0,  0],\n",
      "        [ 0,  0,  0],\n",
      "        ...,\n",
      "        [12, 12, 12],\n",
      "        [ 9,  9,  9],\n",
      "        [ 7,  7,  7]],\n",
      "\n",
      "       [[ 0,  0,  0],\n",
      "        [ 0,  0,  0],\n",
      "        [ 0,  0,  0],\n",
      "        ...,\n",
      "        [ 7,  7,  7],\n",
      "        [ 5,  5,  5],\n",
      "        [ 3,  3,  3]],\n",
      "\n",
      "       [[ 0,  0,  0],\n",
      "        [ 0,  0,  0],\n",
      "        [ 0,  0,  0],\n",
      "        ...,\n",
      "        [ 4,  4,  4],\n",
      "        [ 4,  4,  4],\n",
      "        [ 2,  2,  2]]], shape=(300, 288, 3), dtype=uint8)\n",
      "orig_shape: (300, 288)\n",
      "path: 'D:\\\\AAA\\\\Nowy folder\\\\Outputs\\\\Test\\\\2025-08-12-13.47.07.png'\n",
      "probs: None\n",
      "save_dir: 'runs\\\\segment\\\\predict4'\n",
      "speed: {'preprocess': 0.9092999998756568, 'inference': 10.89389999924606, 'postprocess': 3.1472000000576372}, ultralytics.engine.results.Results object with attributes:\n",
      "\n",
      "boxes: ultralytics.engine.results.Boxes object\n",
      "keypoints: None\n",
      "masks: ultralytics.engine.results.Masks object\n",
      "names: {0: 'Pupil'}\n",
      "obb: None\n",
      "orig_img: array([[[ 2,  2,  2],\n",
      "        [ 1,  1,  1],\n",
      "        [ 1,  1,  1],\n",
      "        ...,\n",
      "        [ 2,  2,  2],\n",
      "        [ 2,  2,  2],\n",
      "        [ 2,  2,  2]],\n",
      "\n",
      "       [[ 1,  1,  1],\n",
      "        [ 1,  1,  1],\n",
      "        [ 1,  1,  1],\n",
      "        ...,\n",
      "        [ 2,  2,  2],\n",
      "        [ 2,  2,  2],\n",
      "        [ 1,  1,  1]],\n",
      "\n",
      "       [[ 2,  2,  2],\n",
      "        [ 2,  2,  2],\n",
      "        [ 2,  2,  2],\n",
      "        ...,\n",
      "        [ 2,  2,  2],\n",
      "        [ 2,  2,  2],\n",
      "        [ 3,  3,  3]],\n",
      "\n",
      "       ...,\n",
      "\n",
      "       [[ 1,  1,  1],\n",
      "        [ 0,  0,  0],\n",
      "        [ 0,  0,  0],\n",
      "        ...,\n",
      "        [12, 12, 12],\n",
      "        [ 9,  9,  9],\n",
      "        [ 7,  7,  7]],\n",
      "\n",
      "       [[ 0,  0,  0],\n",
      "        [ 0,  0,  0],\n",
      "        [ 0,  0,  0],\n",
      "        ...,\n",
      "        [ 8,  8,  8],\n",
      "        [ 4,  4,  4],\n",
      "        [ 3,  3,  3]],\n",
      "\n",
      "       [[ 0,  0,  0],\n",
      "        [ 0,  0,  0],\n",
      "        [ 0,  0,  0],\n",
      "        ...,\n",
      "        [ 4,  4,  4],\n",
      "        [ 3,  3,  3],\n",
      "        [ 3,  3,  3]]], shape=(300, 288, 3), dtype=uint8)\n",
      "orig_shape: (300, 288)\n",
      "path: 'D:\\\\AAA\\\\Nowy folder\\\\Outputs\\\\Test\\\\2025-08-12-13.47.11.png'\n",
      "probs: None\n",
      "save_dir: 'runs\\\\segment\\\\predict4'\n",
      "speed: {'preprocess': 0.8675999997649342, 'inference': 10.752600000159873, 'postprocess': 3.485999999611522}, ultralytics.engine.results.Results object with attributes:\n",
      "\n",
      "boxes: ultralytics.engine.results.Boxes object\n",
      "keypoints: None\n",
      "masks: ultralytics.engine.results.Masks object\n",
      "names: {0: 'Pupil'}\n",
      "obb: None\n",
      "orig_img: array([[[ 1,  1,  1],\n",
      "        [ 1,  1,  1],\n",
      "        [ 2,  2,  2],\n",
      "        ...,\n",
      "        [ 2,  2,  2],\n",
      "        [ 2,  2,  2],\n",
      "        [ 2,  2,  2]],\n",
      "\n",
      "       [[ 1,  1,  1],\n",
      "        [ 1,  1,  1],\n",
      "        [ 2,  2,  2],\n",
      "        ...,\n",
      "        [ 3,  3,  3],\n",
      "        [ 2,  2,  2],\n",
      "        [ 2,  2,  2]],\n",
      "\n",
      "       [[ 3,  3,  3],\n",
      "        [ 2,  2,  2],\n",
      "        [ 2,  2,  2],\n",
      "        ...,\n",
      "        [ 2,  2,  2],\n",
      "        [ 2,  2,  2],\n",
      "        [ 2,  2,  2]],\n",
      "\n",
      "       ...,\n",
      "\n",
      "       [[ 0,  0,  0],\n",
      "        [ 0,  0,  0],\n",
      "        [ 0,  0,  0],\n",
      "        ...,\n",
      "        [11, 11, 11],\n",
      "        [ 8,  8,  8],\n",
      "        [ 6,  6,  6]],\n",
      "\n",
      "       [[ 0,  0,  0],\n",
      "        [ 0,  0,  0],\n",
      "        [ 0,  0,  0],\n",
      "        ...,\n",
      "        [ 7,  7,  7],\n",
      "        [ 5,  5,  5],\n",
      "        [ 3,  3,  3]],\n",
      "\n",
      "       [[ 0,  0,  0],\n",
      "        [ 1,  1,  1],\n",
      "        [ 0,  0,  0],\n",
      "        ...,\n",
      "        [ 4,  4,  4],\n",
      "        [ 3,  3,  3],\n",
      "        [ 3,  3,  3]]], shape=(300, 288, 3), dtype=uint8)\n",
      "orig_shape: (300, 288)\n",
      "path: 'D:\\\\AAA\\\\Nowy folder\\\\Outputs\\\\Test\\\\2025-08-12-13.47.15.png'\n",
      "probs: None\n",
      "save_dir: 'runs\\\\segment\\\\predict4'\n",
      "speed: {'preprocess': 0.8418999996138155, 'inference': 10.894099999859463, 'postprocess': 3.512100000079954}, ultralytics.engine.results.Results object with attributes:\n",
      "\n",
      "boxes: ultralytics.engine.results.Boxes object\n",
      "keypoints: None\n",
      "masks: ultralytics.engine.results.Masks object\n",
      "names: {0: 'Pupil'}\n",
      "obb: None\n",
      "orig_img: array([[[ 1,  1,  1],\n",
      "        [ 1,  1,  1],\n",
      "        [ 1,  1,  1],\n",
      "        ...,\n",
      "        [ 2,  2,  2],\n",
      "        [ 2,  2,  2],\n",
      "        [ 2,  2,  2]],\n",
      "\n",
      "       [[ 2,  2,  2],\n",
      "        [ 1,  1,  1],\n",
      "        [ 1,  1,  1],\n",
      "        ...,\n",
      "        [ 1,  1,  1],\n",
      "        [ 1,  1,  1],\n",
      "        [ 3,  3,  3]],\n",
      "\n",
      "       [[ 2,  2,  2],\n",
      "        [ 2,  2,  2],\n",
      "        [ 2,  2,  2],\n",
      "        ...,\n",
      "        [ 2,  2,  2],\n",
      "        [ 2,  2,  2],\n",
      "        [ 2,  2,  2]],\n",
      "\n",
      "       ...,\n",
      "\n",
      "       [[ 0,  0,  0],\n",
      "        [ 0,  0,  0],\n",
      "        [ 1,  1,  1],\n",
      "        ...,\n",
      "        [11, 11, 11],\n",
      "        [ 8,  8,  8],\n",
      "        [ 6,  6,  6]],\n",
      "\n",
      "       [[ 0,  0,  0],\n",
      "        [ 0,  0,  0],\n",
      "        [ 1,  1,  1],\n",
      "        ...,\n",
      "        [ 8,  8,  8],\n",
      "        [ 5,  5,  5],\n",
      "        [ 3,  3,  3]],\n",
      "\n",
      "       [[ 0,  0,  0],\n",
      "        [ 0,  0,  0],\n",
      "        [ 0,  0,  0],\n",
      "        ...,\n",
      "        [ 4,  4,  4],\n",
      "        [ 3,  3,  3],\n",
      "        [ 2,  2,  2]]], shape=(300, 288, 3), dtype=uint8)\n",
      "orig_shape: (300, 288)\n",
      "path: 'D:\\\\AAA\\\\Nowy folder\\\\Outputs\\\\Test\\\\2025-08-12-13.47.27.png'\n",
      "probs: None\n",
      "save_dir: 'runs\\\\segment\\\\predict4'\n",
      "speed: {'preprocess': 0.8307999996759463, 'inference': 10.911499999565422, 'postprocess': 3.278800000771298}, ultralytics.engine.results.Results object with attributes:\n",
      "\n",
      "boxes: ultralytics.engine.results.Boxes object\n",
      "keypoints: None\n",
      "masks: ultralytics.engine.results.Masks object\n",
      "names: {0: 'Pupil'}\n",
      "obb: None\n",
      "orig_img: array([[[2, 2, 2],\n",
      "        [2, 2, 2],\n",
      "        [2, 2, 2],\n",
      "        ...,\n",
      "        [2, 2, 2],\n",
      "        [2, 2, 2],\n",
      "        [2, 2, 2]],\n",
      "\n",
      "       [[1, 1, 1],\n",
      "        [1, 1, 1],\n",
      "        [2, 2, 2],\n",
      "        ...,\n",
      "        [2, 2, 2],\n",
      "        [2, 2, 2],\n",
      "        [2, 2, 2]],\n",
      "\n",
      "       [[1, 1, 1],\n",
      "        [1, 1, 1],\n",
      "        [2, 2, 2],\n",
      "        ...,\n",
      "        [2, 2, 2],\n",
      "        [2, 2, 2],\n",
      "        [2, 2, 2]],\n",
      "\n",
      "       ...,\n",
      "\n",
      "       [[0, 0, 0],\n",
      "        [0, 0, 0],\n",
      "        [0, 0, 0],\n",
      "        ...,\n",
      "        [3, 3, 3],\n",
      "        [3, 3, 3],\n",
      "        [2, 2, 2]],\n",
      "\n",
      "       [[0, 0, 0],\n",
      "        [0, 0, 0],\n",
      "        [0, 0, 0],\n",
      "        ...,\n",
      "        [2, 2, 2],\n",
      "        [2, 2, 2],\n",
      "        [1, 1, 1]],\n",
      "\n",
      "       [[0, 0, 0],\n",
      "        [0, 0, 0],\n",
      "        [0, 0, 0],\n",
      "        ...,\n",
      "        [1, 1, 1],\n",
      "        [1, 1, 1],\n",
      "        [0, 0, 0]]], shape=(300, 288, 3), dtype=uint8)\n",
      "orig_shape: (300, 288)\n",
      "path: 'D:\\\\AAA\\\\Nowy folder\\\\Outputs\\\\Test\\\\2025-08-12-13.47.36.png'\n",
      "probs: None\n",
      "save_dir: 'runs\\\\segment\\\\predict4'\n",
      "speed: {'preprocess': 1.033100000313425, 'inference': 10.856199999579985, 'postprocess': 3.3346000000165077}, ultralytics.engine.results.Results object with attributes:\n",
      "\n",
      "boxes: ultralytics.engine.results.Boxes object\n",
      "keypoints: None\n",
      "masks: ultralytics.engine.results.Masks object\n",
      "names: {0: 'Pupil'}\n",
      "obb: None\n",
      "orig_img: array([[[1, 1, 1],\n",
      "        [1, 1, 1],\n",
      "        [1, 1, 1],\n",
      "        ...,\n",
      "        [1, 1, 1],\n",
      "        [2, 2, 2],\n",
      "        [2, 2, 2]],\n",
      "\n",
      "       [[1, 1, 1],\n",
      "        [1, 1, 1],\n",
      "        [1, 1, 1],\n",
      "        ...,\n",
      "        [1, 1, 1],\n",
      "        [1, 1, 1],\n",
      "        [2, 2, 2]],\n",
      "\n",
      "       [[2, 2, 2],\n",
      "        [2, 2, 2],\n",
      "        [2, 2, 2],\n",
      "        ...,\n",
      "        [1, 1, 1],\n",
      "        [3, 3, 3],\n",
      "        [2, 2, 2]],\n",
      "\n",
      "       ...,\n",
      "\n",
      "       [[0, 0, 0],\n",
      "        [0, 0, 0],\n",
      "        [0, 0, 0],\n",
      "        ...,\n",
      "        [3, 3, 3],\n",
      "        [3, 3, 3],\n",
      "        [2, 2, 2]],\n",
      "\n",
      "       [[0, 0, 0],\n",
      "        [0, 0, 0],\n",
      "        [0, 0, 0],\n",
      "        ...,\n",
      "        [2, 2, 2],\n",
      "        [1, 1, 1],\n",
      "        [1, 1, 1]],\n",
      "\n",
      "       [[0, 0, 0],\n",
      "        [0, 0, 0],\n",
      "        [0, 0, 0],\n",
      "        ...,\n",
      "        [1, 1, 1],\n",
      "        [1, 1, 1],\n",
      "        [1, 1, 1]]], shape=(300, 288, 3), dtype=uint8)\n",
      "orig_shape: (300, 288)\n",
      "path: 'D:\\\\AAA\\\\Nowy folder\\\\Outputs\\\\Test\\\\2025-08-12-13.47.51.png'\n",
      "probs: None\n",
      "save_dir: 'runs\\\\segment\\\\predict4'\n",
      "speed: {'preprocess': 1.2376000004223897, 'inference': 13.408499999968626, 'postprocess': 4.463899999791465}, ultralytics.engine.results.Results object with attributes:\n",
      "\n",
      "boxes: ultralytics.engine.results.Boxes object\n",
      "keypoints: None\n",
      "masks: ultralytics.engine.results.Masks object\n",
      "names: {0: 'Pupil'}\n",
      "obb: None\n",
      "orig_img: array([[[1, 1, 1],\n",
      "        [1, 1, 1],\n",
      "        [1, 1, 1],\n",
      "        ...,\n",
      "        [1, 1, 1],\n",
      "        [1, 1, 1],\n",
      "        [1, 1, 1]],\n",
      "\n",
      "       [[1, 1, 1],\n",
      "        [2, 2, 2],\n",
      "        [1, 1, 1],\n",
      "        ...,\n",
      "        [1, 1, 1],\n",
      "        [2, 2, 2],\n",
      "        [2, 2, 2]],\n",
      "\n",
      "       [[1, 1, 1],\n",
      "        [2, 2, 2],\n",
      "        [2, 2, 2],\n",
      "        ...,\n",
      "        [2, 2, 2],\n",
      "        [2, 2, 2],\n",
      "        [2, 2, 2]],\n",
      "\n",
      "       ...,\n",
      "\n",
      "       [[0, 0, 0],\n",
      "        [0, 0, 0],\n",
      "        [0, 0, 0],\n",
      "        ...,\n",
      "        [2, 2, 2],\n",
      "        [3, 3, 3],\n",
      "        [1, 1, 1]],\n",
      "\n",
      "       [[0, 0, 0],\n",
      "        [0, 0, 0],\n",
      "        [1, 1, 1],\n",
      "        ...,\n",
      "        [2, 2, 2],\n",
      "        [1, 1, 1],\n",
      "        [1, 1, 1]],\n",
      "\n",
      "       [[0, 0, 0],\n",
      "        [0, 0, 0],\n",
      "        [0, 0, 0],\n",
      "        ...,\n",
      "        [2, 2, 2],\n",
      "        [2, 2, 2],\n",
      "        [1, 1, 1]]], shape=(300, 288, 3), dtype=uint8)\n",
      "orig_shape: (300, 288)\n",
      "path: 'D:\\\\AAA\\\\Nowy folder\\\\Outputs\\\\Test\\\\2025-08-12-13.47.56.png'\n",
      "probs: None\n",
      "save_dir: 'runs\\\\segment\\\\predict4'\n",
      "speed: {'preprocess': 0.9337999999843305, 'inference': 11.058600000069418, 'postprocess': 4.077399999914633}]\n"
     ]
    }
   ],
   "source": [
    "from ultralytics import YOLO\n",
    "import cv2\n",
    "\n",
    "model = YOLO(r\"D:\\AAA\\Nowy folder\\pupiltracking\\runs\\pupil-seg4\\weights\\best.pt\")\n",
    "results = model.predict(\n",
    "    source=r\"D:\\AAA\\Nowy folder\\Outputs\\Test\",  # może być plik lub folder\n",
    "    conf=0.35, max_det=1, device=0, save=True, imgsz=320\n",
    ")"
   ]
  },
  {
   "cell_type": "code",
   "execution_count": 9,
   "id": "529ec313",
   "metadata": {},
   "outputs": [
    {
     "name": "stdout",
     "output_type": "stream",
     "text": [
      "\n",
      "image 1/1 D:\\AAA\\Nowy folder\\Outputs\\Test\\2025-08-12-13.25.48.png: 320x320 1 Pupil, 13.7ms\n",
      "Speed: 1.2ms preprocess, 13.7ms inference, 5.0ms postprocess per image at shape (1, 3, 320, 320)\n",
      "\n",
      "image 1/1 D:\\AAA\\Nowy folder\\Outputs\\Test\\2025-08-12-13.26.08.png: 320x320 1 Pupil, 27.2ms\n",
      "Speed: 1.8ms preprocess, 27.2ms inference, 4.8ms postprocess per image at shape (1, 3, 320, 320)\n",
      "\n",
      "image 1/1 D:\\AAA\\Nowy folder\\Outputs\\Test\\2025-08-12-13.26.18.png: 320x320 1 Pupil, 24.7ms\n",
      "Speed: 1.7ms preprocess, 24.7ms inference, 7.0ms postprocess per image at shape (1, 3, 320, 320)\n",
      "\n",
      "image 1/1 D:\\AAA\\Nowy folder\\Outputs\\Test\\2025-08-12-13.26.22.png: 320x320 1 Pupil, 22.6ms\n",
      "Speed: 1.5ms preprocess, 22.6ms inference, 5.0ms postprocess per image at shape (1, 3, 320, 320)\n",
      "\n",
      "image 1/1 D:\\AAA\\Nowy folder\\Outputs\\Test\\2025-08-12-13.26.48.png: 320x320 1 Pupil, 55.2ms\n",
      "Speed: 2.1ms preprocess, 55.2ms inference, 5.5ms postprocess per image at shape (1, 3, 320, 320)\n",
      "\n",
      "image 1/1 D:\\AAA\\Nowy folder\\Outputs\\Test\\2025-08-12-13.42.36.png: 320x320 1 Pupil, 15.3ms\n",
      "Speed: 1.3ms preprocess, 15.3ms inference, 3.4ms postprocess per image at shape (1, 3, 320, 320)\n",
      "\n",
      "image 1/1 D:\\AAA\\Nowy folder\\Outputs\\Test\\2025-08-12-13.43.24.png: 320x320 1 Pupil, 11.2ms\n",
      "Speed: 1.8ms preprocess, 11.2ms inference, 3.1ms postprocess per image at shape (1, 3, 320, 320)\n",
      "\n",
      "image 1/1 D:\\AAA\\Nowy folder\\Outputs\\Test\\2025-08-12-13.43.46.png: 320x320 1 Pupil, 13.6ms\n",
      "Speed: 1.2ms preprocess, 13.6ms inference, 4.8ms postprocess per image at shape (1, 3, 320, 320)\n",
      "\n",
      "image 1/1 D:\\AAA\\Nowy folder\\Outputs\\Test\\2025-08-12-13.43.50.png: 320x320 1 Pupil, 11.4ms\n",
      "Speed: 1.1ms preprocess, 11.4ms inference, 5.2ms postprocess per image at shape (1, 3, 320, 320)\n",
      "\n",
      "image 1/1 D:\\AAA\\Nowy folder\\Outputs\\Test\\2025-08-12-13.43.54.png: 320x320 1 Pupil, 11.1ms\n",
      "Speed: 1.2ms preprocess, 11.1ms inference, 6.1ms postprocess per image at shape (1, 3, 320, 320)\n",
      "\n",
      "image 1/1 D:\\AAA\\Nowy folder\\Outputs\\Test\\2025-08-12-13.43.58.png: 320x320 1 Pupil, 11.1ms\n",
      "Speed: 1.1ms preprocess, 11.1ms inference, 5.5ms postprocess per image at shape (1, 3, 320, 320)\n",
      "\n",
      "image 1/1 D:\\AAA\\Nowy folder\\Outputs\\Test\\2025-08-12-13.44.02.png: 320x320 (no detections), 15.6ms\n",
      "Speed: 1.3ms preprocess, 15.6ms inference, 1.2ms postprocess per image at shape (1, 3, 320, 320)\n",
      "\n",
      "image 1/1 D:\\AAA\\Nowy folder\\Outputs\\Test\\2025-08-12-13.44.05.png: 320x320 (no detections), 16.2ms\n",
      "Speed: 1.2ms preprocess, 16.2ms inference, 1.2ms postprocess per image at shape (1, 3, 320, 320)\n",
      "\n",
      "image 1/1 D:\\AAA\\Nowy folder\\Outputs\\Test\\2025-08-12-13.44.09.png: 320x320 (no detections), 12.4ms\n",
      "Speed: 1.2ms preprocess, 12.4ms inference, 1.8ms postprocess per image at shape (1, 3, 320, 320)\n",
      "\n",
      "image 1/1 D:\\AAA\\Nowy folder\\Outputs\\Test\\2025-08-12-13.44.19.png: 320x320 1 Pupil, 11.9ms\n",
      "Speed: 1.2ms preprocess, 11.9ms inference, 5.1ms postprocess per image at shape (1, 3, 320, 320)\n",
      "\n",
      "image 1/1 D:\\AAA\\Nowy folder\\Outputs\\Test\\2025-08-12-13.44.30.png: 320x320 1 Pupil, 11.4ms\n",
      "Speed: 1.0ms preprocess, 11.4ms inference, 4.7ms postprocess per image at shape (1, 3, 320, 320)\n",
      "\n",
      "image 1/1 D:\\AAA\\Nowy folder\\Outputs\\Test\\2025-08-12-13.44.41.png: 320x320 1 Pupil, 12.9ms\n",
      "Speed: 1.1ms preprocess, 12.9ms inference, 3.8ms postprocess per image at shape (1, 3, 320, 320)\n",
      "\n",
      "image 1/1 D:\\AAA\\Nowy folder\\Outputs\\Test\\2025-08-12-13.44.53.png: 320x320 1 Pupil, 13.2ms\n",
      "Speed: 1.1ms preprocess, 13.2ms inference, 3.9ms postprocess per image at shape (1, 3, 320, 320)\n",
      "\n",
      "image 1/1 D:\\AAA\\Nowy folder\\Outputs\\Test\\2025-08-12-13.44.57.png: 320x320 1 Pupil, 13.1ms\n",
      "Speed: 1.6ms preprocess, 13.1ms inference, 3.6ms postprocess per image at shape (1, 3, 320, 320)\n",
      "\n",
      "image 1/1 D:\\AAA\\Nowy folder\\Outputs\\Test\\2025-08-12-13.45.09.png: 320x320 1 Pupil, 15.2ms\n",
      "Speed: 1.1ms preprocess, 15.2ms inference, 4.0ms postprocess per image at shape (1, 3, 320, 320)\n",
      "\n",
      "image 1/1 D:\\AAA\\Nowy folder\\Outputs\\Test\\2025-08-12-13.45.18.png: 320x320 1 Pupil, 13.2ms\n",
      "Speed: 1.5ms preprocess, 13.2ms inference, 3.4ms postprocess per image at shape (1, 3, 320, 320)\n",
      "\n",
      "image 1/1 D:\\AAA\\Nowy folder\\Outputs\\Test\\2025-08-12-13.45.24.png: 320x320 1 Pupil, 15.3ms\n",
      "Speed: 1.1ms preprocess, 15.3ms inference, 4.3ms postprocess per image at shape (1, 3, 320, 320)\n",
      "\n",
      "image 1/1 D:\\AAA\\Nowy folder\\Outputs\\Test\\2025-08-12-13.45.34.png: 320x320 (no detections), 13.4ms\n",
      "Speed: 1.6ms preprocess, 13.4ms inference, 1.0ms postprocess per image at shape (1, 3, 320, 320)\n",
      "\n",
      "image 1/1 D:\\AAA\\Nowy folder\\Outputs\\Test\\2025-08-12-13.45.39.png: 320x320 1 Pupil, 13.6ms\n",
      "Speed: 1.5ms preprocess, 13.6ms inference, 3.3ms postprocess per image at shape (1, 3, 320, 320)\n",
      "\n",
      "image 1/1 D:\\AAA\\Nowy folder\\Outputs\\Test\\2025-08-12-13.45.44.png: 320x320 1 Pupil, 12.2ms\n",
      "Speed: 1.0ms preprocess, 12.2ms inference, 3.8ms postprocess per image at shape (1, 3, 320, 320)\n",
      "\n",
      "image 1/1 D:\\AAA\\Nowy folder\\Outputs\\Test\\2025-08-12-13.45.48.png: 320x320 1 Pupil, 13.4ms\n",
      "Speed: 1.1ms preprocess, 13.4ms inference, 4.0ms postprocess per image at shape (1, 3, 320, 320)\n",
      "\n",
      "image 1/1 D:\\AAA\\Nowy folder\\Outputs\\Test\\2025-08-12-13.45.55.png: 320x320 1 Pupil, 12.9ms\n",
      "Speed: 1.1ms preprocess, 12.9ms inference, 3.5ms postprocess per image at shape (1, 3, 320, 320)\n",
      "\n",
      "image 1/1 D:\\AAA\\Nowy folder\\Outputs\\Test\\2025-08-12-13.46.00.png: 320x320 1 Pupil, 13.8ms\n",
      "Speed: 1.3ms preprocess, 13.8ms inference, 8.1ms postprocess per image at shape (1, 3, 320, 320)\n",
      "\n",
      "image 1/1 D:\\AAA\\Nowy folder\\Outputs\\Test\\2025-08-12-13.46.17.png: 320x320 1 Pupil, 11.8ms\n",
      "Speed: 1.1ms preprocess, 11.8ms inference, 3.0ms postprocess per image at shape (1, 3, 320, 320)\n",
      "\n",
      "image 1/1 D:\\AAA\\Nowy folder\\Outputs\\Test\\2025-08-12-13.46.21.png: 320x320 1 Pupil, 13.5ms\n",
      "Speed: 1.9ms preprocess, 13.5ms inference, 5.3ms postprocess per image at shape (1, 3, 320, 320)\n",
      "\n",
      "image 1/1 D:\\AAA\\Nowy folder\\Outputs\\Test\\2025-08-12-13.46.25.png: 320x320 1 Pupil, 11.1ms\n",
      "Speed: 1.1ms preprocess, 11.1ms inference, 3.2ms postprocess per image at shape (1, 3, 320, 320)\n",
      "\n",
      "image 1/1 D:\\AAA\\Nowy folder\\Outputs\\Test\\2025-08-12-13.46.29.png: 320x320 1 Pupil, 12.6ms\n",
      "Speed: 1.7ms preprocess, 12.6ms inference, 5.4ms postprocess per image at shape (1, 3, 320, 320)\n",
      "\n",
      "image 1/1 D:\\AAA\\Nowy folder\\Outputs\\Test\\2025-08-12-13.46.42.png: 320x320 1 Pupil, 12.3ms\n",
      "Speed: 1.1ms preprocess, 12.3ms inference, 3.6ms postprocess per image at shape (1, 3, 320, 320)\n",
      "\n",
      "image 1/1 D:\\AAA\\Nowy folder\\Outputs\\Test\\2025-08-12-13.46.46.png: 320x320 1 Pupil, 16.0ms\n",
      "Speed: 1.3ms preprocess, 16.0ms inference, 3.9ms postprocess per image at shape (1, 3, 320, 320)\n",
      "\n",
      "image 1/1 D:\\AAA\\Nowy folder\\Outputs\\Test\\2025-08-12-13.46.56.png: 320x320 1 Pupil, 12.2ms\n",
      "Speed: 1.2ms preprocess, 12.2ms inference, 5.0ms postprocess per image at shape (1, 3, 320, 320)\n",
      "\n",
      "image 1/1 D:\\AAA\\Nowy folder\\Outputs\\Test\\2025-08-12-13.47.00.png: 320x320 1 Pupil, 12.2ms\n",
      "Speed: 1.1ms preprocess, 12.2ms inference, 2.7ms postprocess per image at shape (1, 3, 320, 320)\n",
      "\n",
      "image 1/1 D:\\AAA\\Nowy folder\\Outputs\\Test\\2025-08-12-13.47.03.png: 320x320 1 Pupil, 12.2ms\n",
      "Speed: 1.1ms preprocess, 12.2ms inference, 3.7ms postprocess per image at shape (1, 3, 320, 320)\n",
      "\n",
      "image 1/1 D:\\AAA\\Nowy folder\\Outputs\\Test\\2025-08-12-13.47.07.png: 320x320 1 Pupil, 15.9ms\n",
      "Speed: 1.2ms preprocess, 15.9ms inference, 3.7ms postprocess per image at shape (1, 3, 320, 320)\n",
      "\n",
      "image 1/1 D:\\AAA\\Nowy folder\\Outputs\\Test\\2025-08-12-13.47.11.png: 320x320 1 Pupil, 11.6ms\n",
      "Speed: 1.2ms preprocess, 11.6ms inference, 3.4ms postprocess per image at shape (1, 3, 320, 320)\n",
      "\n",
      "image 1/1 D:\\AAA\\Nowy folder\\Outputs\\Test\\2025-08-12-13.47.15.png: 320x320 1 Pupil, 13.3ms\n",
      "Speed: 1.8ms preprocess, 13.3ms inference, 4.0ms postprocess per image at shape (1, 3, 320, 320)\n",
      "\n",
      "image 1/1 D:\\AAA\\Nowy folder\\Outputs\\Test\\2025-08-12-13.47.27.png: 320x320 1 Pupil, 12.0ms\n",
      "Speed: 1.3ms preprocess, 12.0ms inference, 4.7ms postprocess per image at shape (1, 3, 320, 320)\n",
      "\n",
      "image 1/1 D:\\AAA\\Nowy folder\\Outputs\\Test\\2025-08-12-13.47.36.png: 320x320 1 Pupil, 15.5ms\n",
      "Speed: 1.3ms preprocess, 15.5ms inference, 4.3ms postprocess per image at shape (1, 3, 320, 320)\n",
      "\n",
      "image 1/1 D:\\AAA\\Nowy folder\\Outputs\\Test\\2025-08-12-13.47.51.png: 320x320 1 Pupil, 12.1ms\n",
      "Speed: 1.2ms preprocess, 12.1ms inference, 3.2ms postprocess per image at shape (1, 3, 320, 320)\n",
      "\n",
      "image 1/1 D:\\AAA\\Nowy folder\\Outputs\\Test\\2025-08-12-13.47.56.png: 320x320 1 Pupil, 11.8ms\n",
      "Speed: 1.2ms preprocess, 11.8ms inference, 3.3ms postprocess per image at shape (1, 3, 320, 320)\n"
     ]
    }
   ],
   "source": [
    "from ultralytics import YOLO\n",
    "import cv2\n",
    "import os\n",
    "import glob\n",
    "import numpy as np\n",
    "\n",
    "# Ścieżka wejściowa\n",
    "input_dir = r\"D:\\AAA\\Nowy folder\\Outputs\\Test\"\n",
    "\n",
    "# Wczytanie modelu segmentacyjnego YOLO\n",
    "model = YOLO(r\"D:\\AAA\\Nowy folder\\pupiltracking\\runs\\pupil-seg4\\weights\\best.pt\")\n",
    "\n",
    "# Pobranie plików graficznych\n",
    "image_files = glob.glob(os.path.join(input_dir, \"*.jpg\")) + \\\n",
    "              glob.glob(os.path.join(input_dir, \"*.png\")) + \\\n",
    "              glob.glob(os.path.join(input_dir, \"*.jpeg\"))\n",
    "\n",
    "for img_path in image_files:\n",
    "    img = cv2.imread(img_path)\n",
    "\n",
    "    # Detekcja\n",
    "    results = model.predict(\n",
    "        source=img_path,\n",
    "        conf=0.35, max_det=1, device=0, save=False, imgsz=320\n",
    "    )\n",
    "\n",
    "    for r in results:\n",
    "        if r.masks is not None:\n",
    "            masks = r.masks.xy  # lista poligonów (każdy to tablica Nx2)\n",
    "            for poly in masks:\n",
    "                # Konwersja do int32 dla OpenCV\n",
    "                pts = np.array(poly, dtype=np.int32)\n",
    "                pts = pts.reshape((-1, 1, 2))\n",
    "\n",
    "                # Rysowanie poligonu\n",
    "                cv2.polylines(img, [pts], isClosed=True, color=(0, 255, 0), thickness=2)\n",
    "\n",
    "                # Obliczanie środka poligonu (momenty geometryczne)\n",
    "                M = cv2.moments(pts)\n",
    "                if M[\"m00\"] != 0:\n",
    "                    cx = int(M[\"m10\"] / M[\"m00\"])\n",
    "                    cy = int(M[\"m01\"] / M[\"m00\"])\n",
    "                else:\n",
    "                    cx, cy = 0, 0\n",
    "\n",
    "                # Rysowanie środka\n",
    "                cv2.circle(img, (cx, cy), 5, (0, 0, 255), -1)\n",
    "                cv2.putText(img, f\"({cx},{cy})\", (cx + 10, cy - 10),\n",
    "                            cv2.FONT_HERSHEY_SIMPLEX, 0.5, (0, 0, 255), 1)\n",
    "\n",
    "    # Wyświetlanie obrazu\n",
    "    cv2.imshow(\"Poligon + środek\", img)\n",
    "    key = cv2.waitKey(0)\n",
    "    if key == 27:  # ESC → przerwij\n",
    "        break\n",
    "\n",
    "cv2.destroyAllWindows()\n"
   ]
  },
  {
   "cell_type": "code",
   "execution_count": 14,
   "id": "ba979de8",
   "metadata": {},
   "outputs": [
    {
     "name": "stdout",
     "output_type": "stream",
     "text": [
      "\n",
      "image 1/1 D:\\AAA\\Nowy folder\\Outputs\\Test\\2025-08-12-13.25.48.png: 320x320 1 Pupil, 10.6ms\n",
      "Speed: 1.2ms preprocess, 10.6ms inference, 3.7ms postprocess per image at shape (1, 3, 320, 320)\n",
      "\n",
      "image 1/1 D:\\AAA\\Nowy folder\\Outputs\\Test\\2025-08-12-13.26.08.png: 320x320 1 Pupil, 14.8ms\n",
      "Speed: 1.6ms preprocess, 14.8ms inference, 3.7ms postprocess per image at shape (1, 3, 320, 320)\n",
      "\n",
      "image 1/1 D:\\AAA\\Nowy folder\\Outputs\\Test\\2025-08-12-13.26.18.png: 320x320 1 Pupil, 21.1ms\n",
      "Speed: 1.5ms preprocess, 21.1ms inference, 5.2ms postprocess per image at shape (1, 3, 320, 320)\n",
      "\n",
      "image 1/1 D:\\AAA\\Nowy folder\\Outputs\\Test\\2025-08-12-13.26.22.png: 320x320 1 Pupil, 23.4ms\n",
      "Speed: 2.1ms preprocess, 23.4ms inference, 5.0ms postprocess per image at shape (1, 3, 320, 320)\n",
      "\n",
      "image 1/1 D:\\AAA\\Nowy folder\\Outputs\\Test\\2025-08-12-13.26.48.png: 320x320 1 Pupil, 54.0ms\n",
      "Speed: 1.9ms preprocess, 54.0ms inference, 5.7ms postprocess per image at shape (1, 3, 320, 320)\n",
      "\n",
      "image 1/1 D:\\AAA\\Nowy folder\\Outputs\\Test\\2025-08-12-13.42.36.png: 320x320 1 Pupil, 11.4ms\n",
      "Speed: 1.3ms preprocess, 11.4ms inference, 2.8ms postprocess per image at shape (1, 3, 320, 320)\n",
      "\n",
      "image 1/1 D:\\AAA\\Nowy folder\\Outputs\\Test\\2025-08-12-13.43.24.png: 320x320 1 Pupil, 11.4ms\n",
      "Speed: 1.0ms preprocess, 11.4ms inference, 3.3ms postprocess per image at shape (1, 3, 320, 320)\n",
      "\n",
      "image 1/1 D:\\AAA\\Nowy folder\\Outputs\\Test\\2025-08-12-13.43.46.png: 320x320 1 Pupil, 10.5ms\n",
      "Speed: 1.0ms preprocess, 10.5ms inference, 3.6ms postprocess per image at shape (1, 3, 320, 320)\n",
      "\n",
      "image 1/1 D:\\AAA\\Nowy folder\\Outputs\\Test\\2025-08-12-13.43.50.png: 320x320 1 Pupil, 11.4ms\n",
      "Speed: 1.6ms preprocess, 11.4ms inference, 3.9ms postprocess per image at shape (1, 3, 320, 320)\n",
      "\n",
      "image 1/1 D:\\AAA\\Nowy folder\\Outputs\\Test\\2025-08-12-13.43.54.png: 320x320 1 Pupil, 12.8ms\n",
      "Speed: 1.3ms preprocess, 12.8ms inference, 3.3ms postprocess per image at shape (1, 3, 320, 320)\n"
     ]
    },
    {
     "ename": "KeyboardInterrupt",
     "evalue": "",
     "output_type": "error",
     "traceback": [
      "\u001b[31m---------------------------------------------------------------------------\u001b[39m",
      "\u001b[31mKeyboardInterrupt\u001b[39m                         Traceback (most recent call last)",
      "\u001b[36mCell\u001b[39m\u001b[36m \u001b[39m\u001b[32mIn[14]\u001b[39m\u001b[32m, line 77\u001b[39m\n\u001b[32m     75\u001b[39m \u001b[38;5;66;03m# Wyświetlanie\u001b[39;00m\n\u001b[32m     76\u001b[39m cv2.imshow(\u001b[33m\"\u001b[39m\u001b[33mPoligon + środek + średnica przez środek\u001b[39m\u001b[33m\"\u001b[39m, img)\n\u001b[32m---> \u001b[39m\u001b[32m77\u001b[39m key = \u001b[43mcv2\u001b[49m\u001b[43m.\u001b[49m\u001b[43mwaitKey\u001b[49m\u001b[43m(\u001b[49m\u001b[32;43m0\u001b[39;49m\u001b[43m)\u001b[49m\n\u001b[32m     78\u001b[39m \u001b[38;5;28;01mif\u001b[39;00m key == \u001b[32m27\u001b[39m:\n\u001b[32m     79\u001b[39m     \u001b[38;5;28;01mbreak\u001b[39;00m\n",
      "\u001b[31mKeyboardInterrupt\u001b[39m: "
     ]
    }
   ],
   "source": [
    "from ultralytics import YOLO\n",
    "import cv2\n",
    "import os\n",
    "import glob\n",
    "import numpy as np\n",
    "\n",
    "# Ścieżka wejściowa\n",
    "input_dir = r\"D:\\\\AAA\\\\Nowy folder\\\\Outputs\\\\Test\"\n",
    "\n",
    "# Wczytanie modelu segmentacyjnego YOLO\n",
    "model = YOLO(r\"D:\\\\AAA\\\\Nowy folder\\\\pupiltracking\\\\runs\\\\pupil-seg4\\\\weights\\\\best.pt\")\n",
    "\n",
    "# Pobranie plików graficznych\n",
    "image_files = glob.glob(os.path.join(input_dir, \"*.jpg\")) + \\\n",
    "              glob.glob(os.path.join(input_dir, \"*.png\")) + \\\n",
    "              glob.glob(os.path.join(input_dir, \"*.jpeg\"))\n",
    "\n",
    "for img_path in image_files:\n",
    "    img = cv2.imread(img_path)\n",
    "\n",
    "    # Detekcja\n",
    "    results = model.predict(\n",
    "        source=img_path,\n",
    "        conf=0.35, max_det=1, device=0, save=False, imgsz=320\n",
    "    )\n",
    "\n",
    "    for r in results:\n",
    "        if r.masks is not None:\n",
    "            masks = r.masks.xy\n",
    "            for poly in masks:\n",
    "                pts = np.array(poly, dtype=np.int32)\n",
    "                pts_reshaped = pts.reshape((-1, 1, 2))\n",
    "\n",
    "                # Rysowanie poligonu\n",
    "                cv2.polylines(img, [pts_reshaped], isClosed=True, color=(0, 255, 0), thickness=2)\n",
    "\n",
    "                # Środek geometryczny\n",
    "                M = cv2.moments(pts)\n",
    "                if M[\"m00\"] != 0:\n",
    "                    cx = int(M[\"m10\"] / M[\"m00\"])\n",
    "                    cy = int(M[\"m01\"] / M[\"m00\"])\n",
    "                else:\n",
    "                    cx, cy = 0, 0\n",
    "\n",
    "                # Znalezienie punktów przecięcia poziomej linii y=cy z krawędziami poligonu\n",
    "                intersections = []\n",
    "                for i in range(len(pts)):\n",
    "                    x1, y1 = pts[i]\n",
    "                    x2, y2 = pts[(i + 1) % len(pts)]  # następny punkt (zamknięty poligon)\n",
    "\n",
    "                    # Sprawdzamy, czy odcinek przecina linię y=cy\n",
    "                    if (y1 <= cy <= y2) or (y2 <= cy <= y1):\n",
    "                        if y1 != y2:  # unikamy dzielenia przez zero\n",
    "                            t = (cy - y1) / (y2 - y1)\n",
    "                            x_int = int(x1 + t * (x2 - x1))\n",
    "                            intersections.append((x_int, cy))\n",
    "\n",
    "                if len(intersections) >= 2:\n",
    "                    # Wybieramy najbardziej skrajne punkty\n",
    "                    p_left = min(intersections, key=lambda p: p[0])\n",
    "                    p_right = max(intersections, key=lambda p: p[0])\n",
    "                    diameter_x = abs(p_right[0] - p_left[0])\n",
    "\n",
    "                    # Rysowanie linii średnicy przez środek\n",
    "                    cv2.line(img, p_left, p_right, (255, 0, 0), 2)\n",
    "                    cv2.putText(img, f\"{diameter_x}px\",\n",
    "                                ((p_left[0] + p_right[0]) // 2, cy + 20),\n",
    "                                cv2.FONT_HERSHEY_SIMPLEX, 0.5, (255, 0, 0), 1)\n",
    "\n",
    "                # Rysowanie środka\n",
    "                cv2.circle(img, (cx, cy), 5, (0, 0, 255), -1)\n",
    "                cv2.putText(img, f\"({cx},{cy})\", (cx + 10, cy - 10),\n",
    "                            cv2.FONT_HERSHEY_SIMPLEX, 0.5, (0, 0, 255), 1)\n",
    "\n",
    "    # Wyświetlanie\n",
    "    cv2.imshow(\"Poligon + środek + średnica przez środek\", img)\n",
    "    key = cv2.waitKey(0)\n",
    "    if key == 27:\n",
    "        break\n",
    "\n",
    "cv2.destroyAllWindows()\n"
   ]
  },
  {
   "cell_type": "code",
   "execution_count": 1,
   "id": "ce4617c4",
   "metadata": {},
   "outputs": [
    {
     "name": "stdout",
     "output_type": "stream",
     "text": [
      "True\n",
      "NVIDIA GeForce GTX 1050 Ti\n"
     ]
    }
   ],
   "source": [
    "import torch\n",
    "print(torch.cuda.is_available())  # powinno być True\n",
    "print(torch.cuda.get_device_name(0))  # powinno pokazać GTX 1050 Ti\n"
   ]
  }
 ],
 "metadata": {
  "kernelspec": {
   "display_name": ".venv",
   "language": "python",
   "name": "python3"
  },
  "language_info": {
   "codemirror_mode": {
    "name": "ipython",
    "version": 3
   },
   "file_extension": ".py",
   "mimetype": "text/x-python",
   "name": "python",
   "nbconvert_exporter": "python",
   "pygments_lexer": "ipython3",
   "version": "3.11.9"
  }
 },
 "nbformat": 4,
 "nbformat_minor": 5
}
