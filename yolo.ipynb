{
 "cells": [
  {
   "cell_type": "code",
   "execution_count": 4,
   "id": "e17f7e50",
   "metadata": {},
   "outputs": [],
   "source": [
    "import json\n",
    "import os\n",
    "import math\n",
    "from PIL import Image\n",
    "import shutil\n",
    "\n",
    "# liczba punktów do aproksymacji elipsy\n",
    "N_POINTS = 50\n",
    "\n",
    "# mapowanie klas -> ID\n",
    "CLASS_MAP = {\"Pupil\": 0}\n",
    "\n",
    "def ellipse_to_polygon(cx, cy, rx, ry, rotation=0, n_points=N_POINTS):\n",
    "    \"\"\"Zamienia elipsę na listę punktów.\"\"\"\n",
    "    points = []\n",
    "    angle_rad = math.radians(rotation)\n",
    "    for i in range(n_points):\n",
    "        theta = 2 * math.pi * i / n_points\n",
    "        x = rx * math.cos(theta)\n",
    "        y = ry * math.sin(theta)\n",
    "\n",
    "        # rotacja elipsy\n",
    "        xr = x * math.cos(angle_rad) - y * math.sin(angle_rad)\n",
    "        yr = x * math.sin(angle_rad) + y * math.cos(angle_rad)\n",
    "\n",
    "        points.append((cx + xr, cy + yr))\n",
    "    return points\n",
    "\n",
    "# plik z Label Studio\n",
    "EXPORT_JSON = \"D:/AAA/Nowy folder/Outputs/project-12-at-2025-09-10-11-40-f33b0828/project-12-at-2025-09-10-12-08-f33b0828.json\"\n",
    "# katalog, gdzie będą zapisane dane YOLO\n",
    "OUTPUT_DIR = \"D:/AAA/Nowy folder/Outputs/project-12-at-2025-09-10-11-40-f33b0828/yolo_dataset\"\n",
    "\n",
    "os.makedirs(os.path.join(OUTPUT_DIR, \"images/train\"), exist_ok=True)\n",
    "os.makedirs(os.path.join(OUTPUT_DIR, \"labels/train\"), exist_ok=True)\n",
    "\n",
    "# wczytaj JSON\n",
    "with open(EXPORT_JSON, \"r\", encoding=\"utf-8\") as f:\n",
    "    tasks = json.load(f)\n",
    "\n",
    "for task in tasks:\n",
    "    img_path = task[\"data\"][\"image\"]  # np. \"/data/upload/12/xxx.png\"\n",
    "    img_filename = os.path.basename(task[\"file_upload\"])  # faktyczna nazwa pliku\n",
    "\n",
    "    # Wymiary obrazu\n",
    "    w = task[\"annotations\"][0][\"result\"][0][\"original_width\"]\n",
    "    h = task[\"annotations\"][0][\"result\"][0][\"original_height\"]\n",
    "\n",
    "    # kopiujemy obraz (musisz mieć go w tym samym katalogu, co export.json!)\n",
    "    src_img_path = img_filename\n",
    "    dst_img_path = os.path.join(OUTPUT_DIR, \"images/train\", img_filename)\n",
    "    if os.path.exists(src_img_path):\n",
    "        shutil.copy(src_img_path, dst_img_path)\n",
    "\n",
    "    # plik z etykietami\n",
    "    label_path = os.path.join(\n",
    "        OUTPUT_DIR, \"labels/train\", os.path.splitext(img_filename)[0] + \".txt\"\n",
    "    )\n",
    "\n",
    "    with open(label_path, \"w\") as lf:\n",
    "        for ann in task[\"annotations\"][0][\"result\"]:\n",
    "            if ann[\"type\"] == \"ellipselabels\":\n",
    "                val = ann[\"value\"]\n",
    "                cx = val[\"x\"] / 100.0 * w\n",
    "                cy = val[\"y\"] / 100.0 * h\n",
    "                rx = val[\"radiusX\"] / 100.0 * w\n",
    "                ry = val[\"radiusY\"] / 100.0 * h\n",
    "                rotation = val.get(\"rotation\", 0)\n",
    "\n",
    "                polygon = ellipse_to_polygon(cx, cy, rx, ry, rotation)\n",
    "\n",
    "                # normalizacja punktów\n",
    "                norm_points = []\n",
    "                for (px, py) in polygon:\n",
    "                    norm_points.append(px / w)\n",
    "                    norm_points.append(py / h)\n",
    "\n",
    "                class_name = val[\"ellipselabels\"][0]\n",
    "                class_id = CLASS_MAP[class_name]\n",
    "\n",
    "                line = f\"{class_id} \" + \" \".join([f\"{p:.6f}\" for p in norm_points])\n",
    "                lf.write(line + \"\\n\")\n"
   ]
  },
  {
   "cell_type": "code",
   "execution_count": 5,
   "id": "3a218489",
   "metadata": {},
   "outputs": [],
   "source": [
    "#Stworzenie podziału na dane uczące i walidacyjne\n",
    "import os, shutil, random, glob\n",
    "from pathlib import Path\n",
    "\n",
    "src_img = Path(\"D:/AAA/Nowy folder/Outputs/project-12-at-2025-09-10-11-40-f33b0828/images\")\n",
    "src_lab = Path(\"D:/AAA/Nowy folder/Outputs/project-12-at-2025-09-10-11-40-f33b0828/labels\")\n",
    "out = Path(\"D:/AAA/Nowy folder/Outputs/project-12-at-2025-09-10-11-40-f33b0828/yolo_pupil_seg\"); random.seed(42)\n",
    "for p in ['images/train','images/val','labels/train','labels/val']:\n",
    "    (out/p).mkdir(parents=True, exist_ok=True)\n",
    "\n",
    "imgs = [Path(p) for p in glob.glob(str(src_img/'*'))]\n",
    "random.shuffle(imgs); n = int(0.8*len(imgs))\n",
    "splits = {'train': imgs[:n], 'val': imgs[n:]}\n",
    "\n",
    "for split, files in splits.items():\n",
    "    for img in files:\n",
    "        lbl = src_lab/(img.stem + \".txt\")\n",
    "        shutil.copy2(img, out/'images'/split/img.name)\n",
    "        if lbl.exists(): shutil.copy2(lbl, out/'labels'/split/lbl.name)"
   ]
  },
  {
   "cell_type": "code",
   "execution_count": 6,
   "id": "8a94d5dc",
   "metadata": {},
   "outputs": [
    {
     "name": "stdout",
     "output_type": "stream",
     "text": [
      "New https://pypi.org/project/ultralytics/8.3.197 available  Update with 'pip install -U ultralytics'\n",
      "Ultralytics 8.3.177  Python-3.11.9 torch-2.7.1+cu118 CUDA:0 (NVIDIA GeForce GTX 1050 Ti, 4096MiB)\n",
      "\u001b[34m\u001b[1mengine\\trainer: \u001b[0magnostic_nms=False, amp=True, augment=False, auto_augment=randaugment, batch=16, bgr=0.0, box=7.5, cache=False, cfg=None, classes=None, close_mosaic=10, cls=0.5, conf=None, copy_paste=0.0, copy_paste_mode=flip, cos_lr=False, cutmix=0.0, data=D:/AAA/Nowy folder/Outputs/project-12-at-2025-09-10-11-40-f33b0828/data.yaml, degrees=0.0, deterministic=True, device=0, dfl=1.5, dnn=False, dropout=0.0, dynamic=False, embed=None, epochs=100, erasing=0.4, exist_ok=False, fliplr=0.5, flipud=0.0, format=torchscript, fraction=1.0, freeze=None, half=False, hsv_h=0.015, hsv_s=0.7, hsv_v=0.4, imgsz=400, int8=False, iou=0.7, keras=False, kobj=1.0, line_width=None, lr0=0.01, lrf=0.01, mask_ratio=4, max_det=300, mixup=0.0, mode=train, model=yolo11n-seg.pt, momentum=0.937, mosaic=1.0, multi_scale=False, name=pupil-seg-113, nbs=64, nms=False, opset=None, optimize=False, optimizer=auto, overlap_mask=True, patience=100, perspective=0.0, plots=True, pose=12.0, pretrained=True, profile=False, project=runs, rect=False, resume=False, retina_masks=False, save=True, save_conf=False, save_crop=False, save_dir=runs\\pupil-seg-113, save_frames=False, save_json=False, save_period=-1, save_txt=False, scale=0.5, seed=0, shear=0.0, show=False, show_boxes=True, show_conf=True, show_labels=True, simplify=True, single_cls=False, source=None, split=val, stream_buffer=False, task=segment, time=None, tracker=botsort.yaml, translate=0.1, val=True, verbose=True, vid_stride=1, visualize=False, warmup_bias_lr=0.1, warmup_epochs=3.0, warmup_momentum=0.8, weight_decay=0.0005, workers=8, workspace=None\n",
      "Overriding model.yaml nc=80 with nc=1\n",
      "\n",
      "                   from  n    params  module                                       arguments                     \n",
      "  0                  -1  1       464  ultralytics.nn.modules.conv.Conv             [3, 16, 3, 2]                 \n",
      "  1                  -1  1      4672  ultralytics.nn.modules.conv.Conv             [16, 32, 3, 2]                \n",
      "  2                  -1  1      6640  ultralytics.nn.modules.block.C3k2            [32, 64, 1, False, 0.25]      \n",
      "  3                  -1  1     36992  ultralytics.nn.modules.conv.Conv             [64, 64, 3, 2]                \n",
      "  4                  -1  1     26080  ultralytics.nn.modules.block.C3k2            [64, 128, 1, False, 0.25]     \n",
      "  5                  -1  1    147712  ultralytics.nn.modules.conv.Conv             [128, 128, 3, 2]              \n",
      "  6                  -1  1     87040  ultralytics.nn.modules.block.C3k2            [128, 128, 1, True]           \n",
      "  7                  -1  1    295424  ultralytics.nn.modules.conv.Conv             [128, 256, 3, 2]              \n",
      "  8                  -1  1    346112  ultralytics.nn.modules.block.C3k2            [256, 256, 1, True]           \n",
      "  9                  -1  1    164608  ultralytics.nn.modules.block.SPPF            [256, 256, 5]                 \n",
      " 10                  -1  1    249728  ultralytics.nn.modules.block.C2PSA           [256, 256, 1]                 \n",
      " 11                  -1  1         0  torch.nn.modules.upsampling.Upsample         [None, 2, 'nearest']          \n",
      " 12             [-1, 6]  1         0  ultralytics.nn.modules.conv.Concat           [1]                           \n",
      " 13                  -1  1    111296  ultralytics.nn.modules.block.C3k2            [384, 128, 1, False]          \n",
      " 14                  -1  1         0  torch.nn.modules.upsampling.Upsample         [None, 2, 'nearest']          \n",
      " 15             [-1, 4]  1         0  ultralytics.nn.modules.conv.Concat           [1]                           \n",
      " 16                  -1  1     32096  ultralytics.nn.modules.block.C3k2            [256, 64, 1, False]           \n",
      " 17                  -1  1     36992  ultralytics.nn.modules.conv.Conv             [64, 64, 3, 2]                \n",
      " 18            [-1, 13]  1         0  ultralytics.nn.modules.conv.Concat           [1]                           \n",
      " 19                  -1  1     86720  ultralytics.nn.modules.block.C3k2            [192, 128, 1, False]          \n",
      " 20                  -1  1    147712  ultralytics.nn.modules.conv.Conv             [128, 128, 3, 2]              \n",
      " 21            [-1, 10]  1         0  ultralytics.nn.modules.conv.Concat           [1]                           \n",
      " 22                  -1  1    378880  ultralytics.nn.modules.block.C3k2            [384, 256, 1, True]           \n",
      " 23        [16, 19, 22]  1    683635  ultralytics.nn.modules.head.Segment          [1, 32, 64, [64, 128, 256]]   \n",
      "YOLO11n-seg summary: 203 layers, 2,842,803 parameters, 2,842,787 gradients, 10.4 GFLOPs\n",
      "\n",
      "Transferred 510/561 items from pretrained weights\n",
      "Freezing layer 'model.23.dfl.conv.weight'\n",
      "\u001b[34m\u001b[1mAMP: \u001b[0mrunning Automatic Mixed Precision (AMP) checks...\n",
      "\u001b[34m\u001b[1mAMP: \u001b[0mchecks passed \n",
      "WARNING imgsz=[400] must be multiple of max stride 32, updating to [416]\n",
      "\u001b[34m\u001b[1mtrain: \u001b[0mFast image access  (ping: 0.10.0 ms, read: 11.71.9 MB/s, size: 77.8 KB)\n"
     ]
    },
    {
     "name": "stderr",
     "output_type": "stream",
     "text": [
      "\u001b[34m\u001b[1mtrain: \u001b[0mScanning D:\\AAA\\Nowy folder\\Outputs\\project-12-at-2025-09-10-11-40-f33b0828\\yolo_pupil_seg\\labels\\train... 29 images, 0 backgrounds, 0 corrupt: 100%|██████████| 29/29 [00:00<00:00, 286.05it/s]"
     ]
    },
    {
     "name": "stdout",
     "output_type": "stream",
     "text": [
      "\u001b[34m\u001b[1mtrain: \u001b[0mNew cache created: D:\\AAA\\Nowy folder\\Outputs\\project-12-at-2025-09-10-11-40-f33b0828\\yolo_pupil_seg\\labels\\train.cache\n"
     ]
    },
    {
     "name": "stderr",
     "output_type": "stream",
     "text": [
      "\n"
     ]
    },
    {
     "name": "stdout",
     "output_type": "stream",
     "text": [
      "\u001b[34m\u001b[1mval: \u001b[0mFast image access  (ping: 0.10.0 ms, read: 8.61.2 MB/s, size: 79.7 KB)\n"
     ]
    },
    {
     "name": "stderr",
     "output_type": "stream",
     "text": [
      "\u001b[34m\u001b[1mval: \u001b[0mScanning D:\\AAA\\Nowy folder\\Outputs\\project-12-at-2025-09-10-11-40-f33b0828\\yolo_pupil_seg\\labels\\val... 8 images, 0 backgrounds, 0 corrupt: 100%|██████████| 8/8 [00:00<00:00, 254.59it/s]"
     ]
    },
    {
     "name": "stdout",
     "output_type": "stream",
     "text": [
      "\u001b[34m\u001b[1mval: \u001b[0mNew cache created: D:\\AAA\\Nowy folder\\Outputs\\project-12-at-2025-09-10-11-40-f33b0828\\yolo_pupil_seg\\labels\\val.cache\n"
     ]
    },
    {
     "name": "stderr",
     "output_type": "stream",
     "text": [
      "\n"
     ]
    },
    {
     "name": "stdout",
     "output_type": "stream",
     "text": [
      "Plotting labels to runs\\pupil-seg-113\\labels.jpg... \n",
      "\u001b[34m\u001b[1moptimizer:\u001b[0m 'optimizer=auto' found, ignoring 'lr0=0.01' and 'momentum=0.937' and determining best 'optimizer', 'lr0' and 'momentum' automatically... \n",
      "\u001b[34m\u001b[1moptimizer:\u001b[0m AdamW(lr=0.002, momentum=0.9) with parameter groups 90 weight(decay=0.0), 101 weight(decay=0.0005), 100 bias(decay=0.0)\n",
      "Image sizes 416 train, 416 val\n",
      "Using 8 dataloader workers\n",
      "Logging results to \u001b[1mruns\\pupil-seg-113\u001b[0m\n",
      "Starting training for 100 epochs...\n",
      "\n",
      "      Epoch    GPU_mem   box_loss   seg_loss   cls_loss   dfl_loss  Instances       Size\n"
     ]
    },
    {
     "name": "stderr",
     "output_type": "stream",
     "text": [
      "      1/100      1.43G     0.9097      2.182      2.916      1.152         19        416: 100%|██████████| 2/2 [00:02<00:00,  1.44s/it]\n",
      "                 Class     Images  Instances      Box(P          R      mAP50  mAP50-95)     Mask(P          R      mAP50  mAP50-95): 100%|██████████| 1/1 [00:00<00:00,  1.38it/s]"
     ]
    },
    {
     "name": "stdout",
     "output_type": "stream",
     "text": [
      "                   all          8          8     0.0034          1     0.0175     0.0135     0.0034          1     0.0206     0.0153\n"
     ]
    },
    {
     "name": "stderr",
     "output_type": "stream",
     "text": [
      "\n"
     ]
    },
    {
     "name": "stdout",
     "output_type": "stream",
     "text": [
      "\n",
      "      Epoch    GPU_mem   box_loss   seg_loss   cls_loss   dfl_loss  Instances       Size\n"
     ]
    },
    {
     "name": "stderr",
     "output_type": "stream",
     "text": [
      "      2/100      1.43G     0.7069      1.558      2.965      1.082         30        416: 100%|██████████| 2/2 [00:01<00:00,  1.78it/s]\n",
      "                 Class     Images  Instances      Box(P          R      mAP50  mAP50-95)     Mask(P          R      mAP50  mAP50-95): 100%|██████████| 1/1 [00:00<00:00,  6.51it/s]"
     ]
    },
    {
     "name": "stdout",
     "output_type": "stream",
     "text": [
      "                   all          8          8    0.00344          1     0.0276     0.0197    0.00344          1     0.0235      0.022\n"
     ]
    },
    {
     "name": "stderr",
     "output_type": "stream",
     "text": [
      "\n"
     ]
    },
    {
     "name": "stdout",
     "output_type": "stream",
     "text": [
      "\n",
      "      Epoch    GPU_mem   box_loss   seg_loss   cls_loss   dfl_loss  Instances       Size\n"
     ]
    },
    {
     "name": "stderr",
     "output_type": "stream",
     "text": [
      "      3/100      1.43G     0.9555      2.465       2.92      1.167         24        416: 100%|██████████| 2/2 [00:00<00:00,  2.40it/s]\n",
      "                 Class     Images  Instances      Box(P          R      mAP50  mAP50-95)     Mask(P          R      mAP50  mAP50-95): 100%|██████████| 1/1 [00:00<00:00,  7.46it/s]"
     ]
    },
    {
     "name": "stdout",
     "output_type": "stream",
     "text": [
      "                   all          8          8    0.00344          1     0.0188     0.0134    0.00344          1     0.0244      0.015\n"
     ]
    },
    {
     "name": "stderr",
     "output_type": "stream",
     "text": [
      "\n"
     ]
    },
    {
     "name": "stdout",
     "output_type": "stream",
     "text": [
      "\n",
      "      Epoch    GPU_mem   box_loss   seg_loss   cls_loss   dfl_loss  Instances       Size\n"
     ]
    },
    {
     "name": "stderr",
     "output_type": "stream",
     "text": [
      "      4/100      1.43G      0.994      2.402      3.077      1.268         23        416: 100%|██████████| 2/2 [00:00<00:00,  2.39it/s]\n",
      "                 Class     Images  Instances      Box(P          R      mAP50  mAP50-95)     Mask(P          R      mAP50  mAP50-95): 100%|██████████| 1/1 [00:00<00:00,  7.34it/s]"
     ]
    },
    {
     "name": "stdout",
     "output_type": "stream",
     "text": [
      "                   all          8          8    0.00343          1     0.0267     0.0118    0.00343          1     0.0349     0.0148\n"
     ]
    },
    {
     "name": "stderr",
     "output_type": "stream",
     "text": [
      "\n"
     ]
    },
    {
     "name": "stdout",
     "output_type": "stream",
     "text": [
      "\n",
      "      Epoch    GPU_mem   box_loss   seg_loss   cls_loss   dfl_loss  Instances       Size\n"
     ]
    },
    {
     "name": "stderr",
     "output_type": "stream",
     "text": [
      "      5/100      1.43G     0.9229      2.009      2.981      1.191         29        416: 100%|██████████| 2/2 [00:00<00:00,  2.32it/s]\n",
      "                 Class     Images  Instances      Box(P          R      mAP50  mAP50-95)     Mask(P          R      mAP50  mAP50-95): 100%|██████████| 1/1 [00:00<00:00,  7.27it/s]"
     ]
    },
    {
     "name": "stdout",
     "output_type": "stream",
     "text": [
      "                   all          8          8    0.00335          1      0.525      0.356    0.00335          1      0.525      0.393\n"
     ]
    },
    {
     "name": "stderr",
     "output_type": "stream",
     "text": [
      "\n"
     ]
    },
    {
     "name": "stdout",
     "output_type": "stream",
     "text": [
      "\n",
      "      Epoch    GPU_mem   box_loss   seg_loss   cls_loss   dfl_loss  Instances       Size\n"
     ]
    },
    {
     "name": "stderr",
     "output_type": "stream",
     "text": [
      "      6/100      1.46G     0.8948      1.232        2.8      1.087         31        416: 100%|██████████| 2/2 [00:00<00:00,  2.35it/s]\n",
      "                 Class     Images  Instances      Box(P          R      mAP50  mAP50-95)     Mask(P          R      mAP50  mAP50-95): 100%|██████████| 1/1 [00:00<00:00,  7.25it/s]"
     ]
    },
    {
     "name": "stdout",
     "output_type": "stream",
     "text": [
      "                   all          8          8    0.00335          1      0.876      0.624    0.00335          1      0.876      0.663\n"
     ]
    },
    {
     "name": "stderr",
     "output_type": "stream",
     "text": [
      "\n"
     ]
    },
    {
     "name": "stdout",
     "output_type": "stream",
     "text": [
      "\n",
      "      Epoch    GPU_mem   box_loss   seg_loss   cls_loss   dfl_loss  Instances       Size\n"
     ]
    },
    {
     "name": "stderr",
     "output_type": "stream",
     "text": [
      "      7/100      1.48G      0.691     0.8966       2.43     0.9604         26        416: 100%|██████████| 2/2 [00:00<00:00,  2.31it/s]\n",
      "                 Class     Images  Instances      Box(P          R      mAP50  mAP50-95)     Mask(P          R      mAP50  mAP50-95): 100%|██████████| 1/1 [00:00<00:00,  7.04it/s]"
     ]
    },
    {
     "name": "stdout",
     "output_type": "stream",
     "text": [
      "                   all          8          8    0.00333          1       0.88      0.638    0.00292      0.875      0.875      0.697\n"
     ]
    },
    {
     "name": "stderr",
     "output_type": "stream",
     "text": [
      "\n"
     ]
    },
    {
     "name": "stdout",
     "output_type": "stream",
     "text": [
      "\n",
      "      Epoch    GPU_mem   box_loss   seg_loss   cls_loss   dfl_loss  Instances       Size\n"
     ]
    },
    {
     "name": "stderr",
     "output_type": "stream",
     "text": [
      "      8/100       1.5G     0.7416     0.7415      2.134     0.9587         21        416: 100%|██████████| 2/2 [00:00<00:00,  2.34it/s]\n",
      "                 Class     Images  Instances      Box(P          R      mAP50  mAP50-95)     Mask(P          R      mAP50  mAP50-95): 100%|██████████| 1/1 [00:00<00:00,  7.22it/s]"
     ]
    },
    {
     "name": "stdout",
     "output_type": "stream",
     "text": [
      "                   all          8          8    0.00333          1      0.876      0.615    0.00292      0.875      0.875      0.622\n"
     ]
    },
    {
     "name": "stderr",
     "output_type": "stream",
     "text": [
      "\n"
     ]
    },
    {
     "name": "stdout",
     "output_type": "stream",
     "text": [
      "\n",
      "      Epoch    GPU_mem   box_loss   seg_loss   cls_loss   dfl_loss  Instances       Size\n"
     ]
    },
    {
     "name": "stderr",
     "output_type": "stream",
     "text": [
      "      9/100      1.51G     0.9315     0.9134      1.979      1.012         27        416: 100%|██████████| 2/2 [00:00<00:00,  2.45it/s]\n",
      "                 Class     Images  Instances      Box(P          R      mAP50  mAP50-95)     Mask(P          R      mAP50  mAP50-95): 100%|██████████| 1/1 [00:00<00:00,  7.29it/s]"
     ]
    },
    {
     "name": "stdout",
     "output_type": "stream",
     "text": [
      "                   all          8          8    0.00333          1      0.886      0.611    0.00292      0.875      0.875      0.608\n"
     ]
    },
    {
     "name": "stderr",
     "output_type": "stream",
     "text": [
      "\n"
     ]
    },
    {
     "name": "stdout",
     "output_type": "stream",
     "text": [
      "\n",
      "      Epoch    GPU_mem   box_loss   seg_loss   cls_loss   dfl_loss  Instances       Size\n"
     ]
    },
    {
     "name": "stderr",
     "output_type": "stream",
     "text": [
      "     10/100      1.54G     0.7309     0.8916      1.843     0.9664         20        416: 100%|██████████| 2/2 [00:00<00:00,  2.42it/s]\n",
      "                 Class     Images  Instances      Box(P          R      mAP50  mAP50-95)     Mask(P          R      mAP50  mAP50-95): 100%|██████████| 1/1 [00:00<00:00,  7.29it/s]"
     ]
    },
    {
     "name": "stdout",
     "output_type": "stream",
     "text": [
      "                   all          8          8    0.00333          1      0.886      0.615    0.00292      0.875      0.875      0.619\n"
     ]
    },
    {
     "name": "stderr",
     "output_type": "stream",
     "text": [
      "\n"
     ]
    },
    {
     "name": "stdout",
     "output_type": "stream",
     "text": [
      "\n",
      "      Epoch    GPU_mem   box_loss   seg_loss   cls_loss   dfl_loss  Instances       Size\n"
     ]
    },
    {
     "name": "stderr",
     "output_type": "stream",
     "text": [
      "     11/100      1.56G     0.6477     0.7169      1.713     0.9511         30        416: 100%|██████████| 2/2 [00:00<00:00,  2.42it/s]\n",
      "                 Class     Images  Instances      Box(P          R      mAP50  mAP50-95)     Mask(P          R      mAP50  mAP50-95): 100%|██████████| 1/1 [00:00<00:00,  7.35it/s]"
     ]
    },
    {
     "name": "stdout",
     "output_type": "stream",
     "text": [
      "                   all          8          8    0.00333          1      0.883      0.601    0.00292      0.875      0.875      0.589\n"
     ]
    },
    {
     "name": "stderr",
     "output_type": "stream",
     "text": [
      "\n"
     ]
    },
    {
     "name": "stdout",
     "output_type": "stream",
     "text": [
      "\n",
      "      Epoch    GPU_mem   box_loss   seg_loss   cls_loss   dfl_loss  Instances       Size\n"
     ]
    },
    {
     "name": "stderr",
     "output_type": "stream",
     "text": [
      "     12/100      1.57G     0.6484      0.819      1.455     0.9211         27        416: 100%|██████████| 2/2 [00:00<00:00,  2.41it/s]\n",
      "                 Class     Images  Instances      Box(P          R      mAP50  mAP50-95)     Mask(P          R      mAP50  mAP50-95): 100%|██████████| 1/1 [00:00<00:00,  7.34it/s]"
     ]
    },
    {
     "name": "stdout",
     "output_type": "stream",
     "text": [
      "                   all          8          8    0.00333          1      0.886      0.602    0.00292      0.875      0.875       0.61\n"
     ]
    },
    {
     "name": "stderr",
     "output_type": "stream",
     "text": [
      "\n"
     ]
    },
    {
     "name": "stdout",
     "output_type": "stream",
     "text": [
      "\n",
      "      Epoch    GPU_mem   box_loss   seg_loss   cls_loss   dfl_loss  Instances       Size\n"
     ]
    },
    {
     "name": "stderr",
     "output_type": "stream",
     "text": [
      "     13/100      1.59G     0.6484     0.9729      1.408     0.9493         24        416: 100%|██████████| 2/2 [00:00<00:00,  2.42it/s]\n",
      "                 Class     Images  Instances      Box(P          R      mAP50  mAP50-95)     Mask(P          R      mAP50  mAP50-95): 100%|██████████| 1/1 [00:00<00:00,  7.37it/s]"
     ]
    },
    {
     "name": "stdout",
     "output_type": "stream",
     "text": [
      "                   all          8          8    0.00333          1      0.882      0.615    0.00292      0.875      0.875      0.613\n"
     ]
    },
    {
     "name": "stderr",
     "output_type": "stream",
     "text": [
      "\n"
     ]
    },
    {
     "name": "stdout",
     "output_type": "stream",
     "text": [
      "\n",
      "      Epoch    GPU_mem   box_loss   seg_loss   cls_loss   dfl_loss  Instances       Size\n"
     ]
    },
    {
     "name": "stderr",
     "output_type": "stream",
     "text": [
      "     14/100      1.61G     0.7232     0.8995      1.367     0.9485         25        416: 100%|██████████| 2/2 [00:00<00:00,  2.40it/s]\n",
      "                 Class     Images  Instances      Box(P          R      mAP50  mAP50-95)     Mask(P          R      mAP50  mAP50-95): 100%|██████████| 1/1 [00:00<00:00,  7.25it/s]"
     ]
    },
    {
     "name": "stdout",
     "output_type": "stream",
     "text": [
      "                   all          8          8    0.00333          1      0.875      0.605    0.00292      0.875      0.875      0.624\n"
     ]
    },
    {
     "name": "stderr",
     "output_type": "stream",
     "text": [
      "\n"
     ]
    },
    {
     "name": "stdout",
     "output_type": "stream",
     "text": [
      "\n",
      "      Epoch    GPU_mem   box_loss   seg_loss   cls_loss   dfl_loss  Instances       Size\n"
     ]
    },
    {
     "name": "stderr",
     "output_type": "stream",
     "text": [
      "     15/100      1.62G      0.751      0.951      1.283     0.9507         33        416: 100%|██████████| 2/2 [00:00<00:00,  2.43it/s]\n",
      "                 Class     Images  Instances      Box(P          R      mAP50  mAP50-95)     Mask(P          R      mAP50  mAP50-95): 100%|██████████| 1/1 [00:00<00:00,  7.01it/s]"
     ]
    },
    {
     "name": "stdout",
     "output_type": "stream",
     "text": [
      "                   all          8          8    0.00333          1      0.879      0.674    0.00292      0.875      0.875      0.642\n"
     ]
    },
    {
     "name": "stderr",
     "output_type": "stream",
     "text": [
      "\n"
     ]
    },
    {
     "name": "stdout",
     "output_type": "stream",
     "text": [
      "\n",
      "      Epoch    GPU_mem   box_loss   seg_loss   cls_loss   dfl_loss  Instances       Size\n"
     ]
    },
    {
     "name": "stderr",
     "output_type": "stream",
     "text": [
      "     16/100      1.64G     0.7485     0.8112      1.125     0.9672         35        416: 100%|██████████| 2/2 [00:00<00:00,  2.43it/s]\n",
      "                 Class     Images  Instances      Box(P          R      mAP50  mAP50-95)     Mask(P          R      mAP50  mAP50-95): 100%|██████████| 1/1 [00:00<00:00,  7.17it/s]"
     ]
    },
    {
     "name": "stdout",
     "output_type": "stream",
     "text": [
      "                   all          8          8     0.0182          1      0.879      0.708     0.0182          1      0.879      0.691\n"
     ]
    },
    {
     "name": "stderr",
     "output_type": "stream",
     "text": [
      "\n"
     ]
    },
    {
     "name": "stdout",
     "output_type": "stream",
     "text": [
      "\n",
      "      Epoch    GPU_mem   box_loss   seg_loss   cls_loss   dfl_loss  Instances       Size\n"
     ]
    },
    {
     "name": "stderr",
     "output_type": "stream",
     "text": [
      "     17/100      1.65G     0.6261     0.7436      1.048     0.9057         29        416: 100%|██████████| 2/2 [00:00<00:00,  2.43it/s]\n",
      "                 Class     Images  Instances      Box(P          R      mAP50  mAP50-95)     Mask(P          R      mAP50  mAP50-95): 100%|██████████| 1/1 [00:00<00:00,  7.51it/s]"
     ]
    },
    {
     "name": "stdout",
     "output_type": "stream",
     "text": [
      "                   all          8          8     0.0179          1      0.878      0.683     0.0179          1      0.878      0.739\n"
     ]
    },
    {
     "name": "stderr",
     "output_type": "stream",
     "text": [
      "\n"
     ]
    },
    {
     "name": "stdout",
     "output_type": "stream",
     "text": [
      "\n",
      "      Epoch    GPU_mem   box_loss   seg_loss   cls_loss   dfl_loss  Instances       Size\n"
     ]
    },
    {
     "name": "stderr",
     "output_type": "stream",
     "text": [
      "     18/100      1.67G     0.8376      0.873      1.145      1.009         25        416: 100%|██████████| 2/2 [00:00<00:00,  2.44it/s]\n",
      "                 Class     Images  Instances      Box(P          R      mAP50  mAP50-95)     Mask(P          R      mAP50  mAP50-95): 100%|██████████| 1/1 [00:00<00:00,  7.06it/s]"
     ]
    },
    {
     "name": "stdout",
     "output_type": "stream",
     "text": [
      "                   all          8          8      0.894      0.875      0.879      0.692      0.894      0.875      0.875      0.737\n"
     ]
    },
    {
     "name": "stderr",
     "output_type": "stream",
     "text": [
      "\n"
     ]
    },
    {
     "name": "stdout",
     "output_type": "stream",
     "text": [
      "\n",
      "      Epoch    GPU_mem   box_loss   seg_loss   cls_loss   dfl_loss  Instances       Size\n"
     ]
    },
    {
     "name": "stderr",
     "output_type": "stream",
     "text": [
      "     19/100      1.68G      0.643     0.6957      1.067     0.9516         22        416: 100%|██████████| 2/2 [00:00<00:00,  2.41it/s]\n",
      "                 Class     Images  Instances      Box(P          R      mAP50  mAP50-95)     Mask(P          R      mAP50  mAP50-95): 100%|██████████| 1/1 [00:00<00:00,  7.31it/s]"
     ]
    },
    {
     "name": "stdout",
     "output_type": "stream",
     "text": [
      "                   all          8          8      0.906      0.875      0.878      0.694      0.906      0.875      0.875      0.754\n"
     ]
    },
    {
     "name": "stderr",
     "output_type": "stream",
     "text": [
      "\n"
     ]
    },
    {
     "name": "stdout",
     "output_type": "stream",
     "text": [
      "\n",
      "      Epoch    GPU_mem   box_loss   seg_loss   cls_loss   dfl_loss  Instances       Size\n"
     ]
    },
    {
     "name": "stderr",
     "output_type": "stream",
     "text": [
      "     20/100       1.7G     0.6341     0.6962     0.9912     0.9421         20        416: 100%|██████████| 2/2 [00:00<00:00,  2.40it/s]\n",
      "                 Class     Images  Instances      Box(P          R      mAP50  mAP50-95)     Mask(P          R      mAP50  mAP50-95): 100%|██████████| 1/1 [00:00<00:00,  6.74it/s]"
     ]
    },
    {
     "name": "stdout",
     "output_type": "stream",
     "text": [
      "                   all          8          8      0.905      0.875      0.879      0.673      0.905      0.875      0.875      0.697\n"
     ]
    },
    {
     "name": "stderr",
     "output_type": "stream",
     "text": [
      "\n"
     ]
    },
    {
     "name": "stdout",
     "output_type": "stream",
     "text": [
      "\n",
      "      Epoch    GPU_mem   box_loss   seg_loss   cls_loss   dfl_loss  Instances       Size\n"
     ]
    },
    {
     "name": "stderr",
     "output_type": "stream",
     "text": [
      "     21/100      1.72G     0.6691     0.7516     0.9348     0.9703         28        416: 100%|██████████| 2/2 [00:00<00:00,  2.40it/s]\n",
      "                 Class     Images  Instances      Box(P          R      mAP50  mAP50-95)     Mask(P          R      mAP50  mAP50-95): 100%|██████████| 1/1 [00:00<00:00,  7.21it/s]"
     ]
    },
    {
     "name": "stdout",
     "output_type": "stream",
     "text": [
      "                   all          8          8          1      0.642      0.881       0.73          1      0.642      0.875      0.723\n"
     ]
    },
    {
     "name": "stderr",
     "output_type": "stream",
     "text": [
      "\n"
     ]
    },
    {
     "name": "stdout",
     "output_type": "stream",
     "text": [
      "\n",
      "      Epoch    GPU_mem   box_loss   seg_loss   cls_loss   dfl_loss  Instances       Size\n"
     ]
    },
    {
     "name": "stderr",
     "output_type": "stream",
     "text": [
      "     22/100      1.73G      0.788     0.7162     0.9912     0.9755         26        416: 100%|██████████| 2/2 [00:00<00:00,  2.39it/s]\n",
      "                 Class     Images  Instances      Box(P          R      mAP50  mAP50-95)     Mask(P          R      mAP50  mAP50-95): 100%|██████████| 1/1 [00:00<00:00,  7.27it/s]"
     ]
    },
    {
     "name": "stdout",
     "output_type": "stream",
     "text": [
      "                   all          8          8          1      0.659      0.879      0.688          1      0.659      0.875      0.716\n"
     ]
    },
    {
     "name": "stderr",
     "output_type": "stream",
     "text": [
      "\n"
     ]
    },
    {
     "name": "stdout",
     "output_type": "stream",
     "text": [
      "\n",
      "      Epoch    GPU_mem   box_loss   seg_loss   cls_loss   dfl_loss  Instances       Size\n"
     ]
    },
    {
     "name": "stderr",
     "output_type": "stream",
     "text": [
      "     23/100      1.75G     0.6471     0.5822     0.9633     0.9383         23        416: 100%|██████████| 2/2 [00:00<00:00,  2.42it/s]\n",
      "                 Class     Images  Instances      Box(P          R      mAP50  mAP50-95)     Mask(P          R      mAP50  mAP50-95): 100%|██████████| 1/1 [00:00<00:00,  7.47it/s]"
     ]
    },
    {
     "name": "stdout",
     "output_type": "stream",
     "text": [
      "                   all          8          8          1      0.465      0.878       0.74          1      0.465      0.875        0.7\n"
     ]
    },
    {
     "name": "stderr",
     "output_type": "stream",
     "text": [
      "\n"
     ]
    },
    {
     "name": "stdout",
     "output_type": "stream",
     "text": [
      "\n",
      "      Epoch    GPU_mem   box_loss   seg_loss   cls_loss   dfl_loss  Instances       Size\n"
     ]
    },
    {
     "name": "stderr",
     "output_type": "stream",
     "text": [
      "     24/100      1.77G     0.6339     0.5442     0.9008     0.8862         32        416: 100%|██████████| 2/2 [00:00<00:00,  2.43it/s]\n",
      "                 Class     Images  Instances      Box(P          R      mAP50  mAP50-95)     Mask(P          R      mAP50  mAP50-95): 100%|██████████| 1/1 [00:00<00:00,  7.32it/s]"
     ]
    },
    {
     "name": "stdout",
     "output_type": "stream",
     "text": [
      "                   all          8          8    0.00333          1      0.876      0.676    0.00292      0.875      0.875      0.692\n"
     ]
    },
    {
     "name": "stderr",
     "output_type": "stream",
     "text": [
      "\n"
     ]
    },
    {
     "name": "stdout",
     "output_type": "stream",
     "text": [
      "\n",
      "      Epoch    GPU_mem   box_loss   seg_loss   cls_loss   dfl_loss  Instances       Size\n"
     ]
    },
    {
     "name": "stderr",
     "output_type": "stream",
     "text": [
      "     25/100      1.79G     0.8177     0.7842      1.042      0.989         20        416: 100%|██████████| 2/2 [00:00<00:00,  2.43it/s]\n",
      "                 Class     Images  Instances      Box(P          R      mAP50  mAP50-95)     Mask(P          R      mAP50  mAP50-95): 100%|██████████| 1/1 [00:00<00:00,  6.82it/s]"
     ]
    },
    {
     "name": "stdout",
     "output_type": "stream",
     "text": [
      "                   all          8          8    0.00333          1      0.878      0.728    0.00292      0.875      0.875      0.733\n"
     ]
    },
    {
     "name": "stderr",
     "output_type": "stream",
     "text": [
      "\n"
     ]
    },
    {
     "name": "stdout",
     "output_type": "stream",
     "text": [
      "\n",
      "      Epoch    GPU_mem   box_loss   seg_loss   cls_loss   dfl_loss  Instances       Size\n"
     ]
    },
    {
     "name": "stderr",
     "output_type": "stream",
     "text": [
      "     26/100       1.8G     0.6665     0.5847      0.912     0.9848         26        416: 100%|██████████| 2/2 [00:00<00:00,  2.42it/s]\n",
      "                 Class     Images  Instances      Box(P          R      mAP50  mAP50-95)     Mask(P          R      mAP50  mAP50-95): 100%|██████████| 1/1 [00:00<00:00,  7.40it/s]"
     ]
    },
    {
     "name": "stdout",
     "output_type": "stream",
     "text": [
      "                   all          8          8     0.0137          1      0.878      0.679      0.012      0.875      0.875      0.747\n"
     ]
    },
    {
     "name": "stderr",
     "output_type": "stream",
     "text": [
      "\n"
     ]
    },
    {
     "name": "stdout",
     "output_type": "stream",
     "text": [
      "\n",
      "      Epoch    GPU_mem   box_loss   seg_loss   cls_loss   dfl_loss  Instances       Size\n"
     ]
    },
    {
     "name": "stderr",
     "output_type": "stream",
     "text": [
      "     27/100      1.81G     0.6618     0.5319     0.9884       0.92         21        416: 100%|██████████| 2/2 [00:00<00:00,  2.39it/s]\n",
      "                 Class     Images  Instances      Box(P          R      mAP50  mAP50-95)     Mask(P          R      mAP50  mAP50-95): 100%|██████████| 1/1 [00:00<00:00,  7.43it/s]"
     ]
    },
    {
     "name": "stdout",
     "output_type": "stream",
     "text": [
      "                   all          8          8    0.00333          1      0.878      0.707    0.00292      0.875      0.875      0.736\n"
     ]
    },
    {
     "name": "stderr",
     "output_type": "stream",
     "text": [
      "\n"
     ]
    },
    {
     "name": "stdout",
     "output_type": "stream",
     "text": [
      "\n",
      "      Epoch    GPU_mem   box_loss   seg_loss   cls_loss   dfl_loss  Instances       Size\n"
     ]
    },
    {
     "name": "stderr",
     "output_type": "stream",
     "text": [
      "     28/100      1.82G     0.6227      0.575     0.9211     0.9299         26        416: 100%|██████████| 2/2 [00:00<00:00,  2.52it/s]\n",
      "                 Class     Images  Instances      Box(P          R      mAP50  mAP50-95)     Mask(P          R      mAP50  mAP50-95): 100%|██████████| 1/1 [00:00<00:00,  7.19it/s]"
     ]
    },
    {
     "name": "stdout",
     "output_type": "stream",
     "text": [
      "                   all          8          8    0.00333          1      0.878      0.707    0.00292      0.875      0.875      0.736\n"
     ]
    },
    {
     "name": "stderr",
     "output_type": "stream",
     "text": [
      "\n"
     ]
    },
    {
     "name": "stdout",
     "output_type": "stream",
     "text": [
      "\n",
      "      Epoch    GPU_mem   box_loss   seg_loss   cls_loss   dfl_loss  Instances       Size\n"
     ]
    },
    {
     "name": "stderr",
     "output_type": "stream",
     "text": [
      "     29/100      1.85G     0.7012     0.7219     0.9732     0.9687         29        416: 100%|██████████| 2/2 [00:00<00:00,  2.42it/s]\n",
      "                 Class     Images  Instances      Box(P          R      mAP50  mAP50-95)     Mask(P          R      mAP50  mAP50-95): 100%|██████████| 1/1 [00:00<00:00,  7.44it/s]"
     ]
    },
    {
     "name": "stdout",
     "output_type": "stream",
     "text": [
      "                   all          8          8    0.00333          1      0.905      0.716    0.00292      0.875      0.875      0.715\n"
     ]
    },
    {
     "name": "stderr",
     "output_type": "stream",
     "text": [
      "\n"
     ]
    },
    {
     "name": "stdout",
     "output_type": "stream",
     "text": [
      "\n",
      "      Epoch    GPU_mem   box_loss   seg_loss   cls_loss   dfl_loss  Instances       Size\n"
     ]
    },
    {
     "name": "stderr",
     "output_type": "stream",
     "text": [
      "     30/100      1.86G       0.61      0.604     0.8331     0.9167         31        416: 100%|██████████| 2/2 [00:00<00:00,  2.40it/s]\n",
      "                 Class     Images  Instances      Box(P          R      mAP50  mAP50-95)     Mask(P          R      mAP50  mAP50-95): 100%|██████████| 1/1 [00:00<00:00,  7.35it/s]"
     ]
    },
    {
     "name": "stdout",
     "output_type": "stream",
     "text": [
      "                   all          8          8      0.101          1      0.909      0.741     0.0887      0.875      0.875       0.72\n"
     ]
    },
    {
     "name": "stderr",
     "output_type": "stream",
     "text": [
      "\n"
     ]
    },
    {
     "name": "stdout",
     "output_type": "stream",
     "text": [
      "\n",
      "      Epoch    GPU_mem   box_loss   seg_loss   cls_loss   dfl_loss  Instances       Size\n"
     ]
    },
    {
     "name": "stderr",
     "output_type": "stream",
     "text": [
      "     31/100      1.87G     0.6333     0.6657     0.8242     0.9291         29        416: 100%|██████████| 2/2 [00:00<00:00,  2.52it/s]\n",
      "                 Class     Images  Instances      Box(P          R      mAP50  mAP50-95)     Mask(P          R      mAP50  mAP50-95): 100%|██████████| 1/1 [00:00<00:00,  7.30it/s]"
     ]
    },
    {
     "name": "stdout",
     "output_type": "stream",
     "text": [
      "                   all          8          8      0.101          1      0.909      0.741     0.0887      0.875      0.875       0.72\n"
     ]
    },
    {
     "name": "stderr",
     "output_type": "stream",
     "text": [
      "\n"
     ]
    },
    {
     "name": "stdout",
     "output_type": "stream",
     "text": [
      "\n",
      "      Epoch    GPU_mem   box_loss   seg_loss   cls_loss   dfl_loss  Instances       Size\n"
     ]
    },
    {
     "name": "stderr",
     "output_type": "stream",
     "text": [
      "     32/100       1.9G     0.6786     0.6055     0.8219     0.9324         23        416: 100%|██████████| 2/2 [00:00<00:00,  2.40it/s]\n",
      "                 Class     Images  Instances      Box(P          R      mAP50  mAP50-95)     Mask(P          R      mAP50  mAP50-95): 100%|██████████| 1/1 [00:00<00:00,  7.32it/s]"
     ]
    },
    {
     "name": "stdout",
     "output_type": "stream",
     "text": [
      "                   all          8          8          1      0.558      0.919      0.717          1      0.558      0.859      0.682\n"
     ]
    },
    {
     "name": "stderr",
     "output_type": "stream",
     "text": [
      "\n"
     ]
    },
    {
     "name": "stdout",
     "output_type": "stream",
     "text": [
      "\n",
      "      Epoch    GPU_mem   box_loss   seg_loss   cls_loss   dfl_loss  Instances       Size\n"
     ]
    },
    {
     "name": "stderr",
     "output_type": "stream",
     "text": [
      "     33/100      1.92G     0.6488     0.6337     0.8645     0.9149         33        416: 100%|██████████| 2/2 [00:00<00:00,  2.41it/s]\n",
      "                 Class     Images  Instances      Box(P          R      mAP50  mAP50-95)     Mask(P          R      mAP50  mAP50-95): 100%|██████████| 1/1 [00:00<00:00,  6.50it/s]"
     ]
    },
    {
     "name": "stdout",
     "output_type": "stream",
     "text": [
      "                   all          8          8          1      0.585      0.955      0.703          1      0.579      0.859      0.635\n"
     ]
    },
    {
     "name": "stderr",
     "output_type": "stream",
     "text": [
      "\n"
     ]
    },
    {
     "name": "stdout",
     "output_type": "stream",
     "text": [
      "\n",
      "      Epoch    GPU_mem   box_loss   seg_loss   cls_loss   dfl_loss  Instances       Size\n"
     ]
    },
    {
     "name": "stderr",
     "output_type": "stream",
     "text": [
      "     34/100      1.92G     0.6663     0.5402     0.8592     0.9516         24        416: 100%|██████████| 2/2 [00:00<00:00,  2.51it/s]\n",
      "                 Class     Images  Instances      Box(P          R      mAP50  mAP50-95)     Mask(P          R      mAP50  mAP50-95): 100%|██████████| 1/1 [00:00<00:00,  7.38it/s]"
     ]
    },
    {
     "name": "stdout",
     "output_type": "stream",
     "text": [
      "                   all          8          8          1      0.585      0.955      0.703          1      0.579      0.859      0.635\n"
     ]
    },
    {
     "name": "stderr",
     "output_type": "stream",
     "text": [
      "\n"
     ]
    },
    {
     "name": "stdout",
     "output_type": "stream",
     "text": [
      "\n",
      "      Epoch    GPU_mem   box_loss   seg_loss   cls_loss   dfl_loss  Instances       Size\n"
     ]
    },
    {
     "name": "stderr",
     "output_type": "stream",
     "text": [
      "     35/100      1.95G     0.6363     0.5526     0.8137     0.9096         23        416: 100%|██████████| 2/2 [00:00<00:00,  2.41it/s]\n",
      "                 Class     Images  Instances      Box(P          R      mAP50  mAP50-95)     Mask(P          R      mAP50  mAP50-95): 100%|██████████| 1/1 [00:00<00:00,  7.29it/s]"
     ]
    },
    {
     "name": "stdout",
     "output_type": "stream",
     "text": [
      "                   all          8          8          1      0.881      0.995      0.768          1      0.867      0.875      0.694\n"
     ]
    },
    {
     "name": "stderr",
     "output_type": "stream",
     "text": [
      "\n"
     ]
    },
    {
     "name": "stdout",
     "output_type": "stream",
     "text": [
      "\n",
      "      Epoch    GPU_mem   box_loss   seg_loss   cls_loss   dfl_loss  Instances       Size\n"
     ]
    },
    {
     "name": "stderr",
     "output_type": "stream",
     "text": [
      "     36/100      1.96G     0.6035     0.5911      0.869     0.9318         26        416: 100%|██████████| 2/2 [00:00<00:00,  2.43it/s]\n",
      "                 Class     Images  Instances      Box(P          R      mAP50  mAP50-95)     Mask(P          R      mAP50  mAP50-95): 100%|██████████| 1/1 [00:00<00:00,  7.14it/s]"
     ]
    },
    {
     "name": "stdout",
     "output_type": "stream",
     "text": [
      "                   all          8          8          1      0.966      0.995       0.79      0.951      0.875      0.875      0.701\n"
     ]
    },
    {
     "name": "stderr",
     "output_type": "stream",
     "text": [
      "\n"
     ]
    },
    {
     "name": "stdout",
     "output_type": "stream",
     "text": [
      "\n",
      "      Epoch    GPU_mem   box_loss   seg_loss   cls_loss   dfl_loss  Instances       Size\n"
     ]
    },
    {
     "name": "stderr",
     "output_type": "stream",
     "text": [
      "     37/100      1.97G      0.641     0.5208      0.837     0.9184         18        416: 100%|██████████| 2/2 [00:00<00:00,  2.53it/s]\n",
      "                 Class     Images  Instances      Box(P          R      mAP50  mAP50-95)     Mask(P          R      mAP50  mAP50-95): 100%|██████████| 1/1 [00:00<00:00,  7.29it/s]"
     ]
    },
    {
     "name": "stdout",
     "output_type": "stream",
     "text": [
      "                   all          8          8          1      0.966      0.995       0.79      0.951      0.875      0.875      0.701\n"
     ]
    },
    {
     "name": "stderr",
     "output_type": "stream",
     "text": [
      "\n"
     ]
    },
    {
     "name": "stdout",
     "output_type": "stream",
     "text": [
      "\n",
      "      Epoch    GPU_mem   box_loss   seg_loss   cls_loss   dfl_loss  Instances       Size\n"
     ]
    },
    {
     "name": "stderr",
     "output_type": "stream",
     "text": [
      "     38/100         2G     0.5888     0.4787     0.8619     0.9308         26        416: 100%|██████████| 2/2 [00:00<00:00,  2.40it/s]\n",
      "                 Class     Images  Instances      Box(P          R      mAP50  mAP50-95)     Mask(P          R      mAP50  mAP50-95): 100%|██████████| 1/1 [00:00<00:00,  6.78it/s]"
     ]
    },
    {
     "name": "stdout",
     "output_type": "stream",
     "text": [
      "                   all          8          8      0.967      0.875      0.905      0.731      0.967      0.875      0.875      0.716\n"
     ]
    },
    {
     "name": "stderr",
     "output_type": "stream",
     "text": [
      "\n"
     ]
    },
    {
     "name": "stdout",
     "output_type": "stream",
     "text": [
      "\n",
      "      Epoch    GPU_mem   box_loss   seg_loss   cls_loss   dfl_loss  Instances       Size\n"
     ]
    },
    {
     "name": "stderr",
     "output_type": "stream",
     "text": [
      "     39/100      2.01G     0.6257     0.4815     0.8306     0.9587         27        416: 100%|██████████| 2/2 [00:00<00:00,  2.41it/s]\n",
      "                 Class     Images  Instances      Box(P          R      mAP50  mAP50-95)     Mask(P          R      mAP50  mAP50-95): 100%|██████████| 1/1 [00:00<00:00,  5.94it/s]"
     ]
    },
    {
     "name": "stdout",
     "output_type": "stream",
     "text": [
      "                   all          8          8      0.981      0.875      0.894      0.717      0.981      0.875      0.875      0.713\n"
     ]
    },
    {
     "name": "stderr",
     "output_type": "stream",
     "text": [
      "\n"
     ]
    },
    {
     "name": "stdout",
     "output_type": "stream",
     "text": [
      "\n",
      "      Epoch    GPU_mem   box_loss   seg_loss   cls_loss   dfl_loss  Instances       Size\n"
     ]
    },
    {
     "name": "stderr",
     "output_type": "stream",
     "text": [
      "     40/100      1.61G     0.6253     0.6453     0.8732     0.9263         28        416: 100%|██████████| 2/2 [00:00<00:00,  2.48it/s]\n",
      "                 Class     Images  Instances      Box(P          R      mAP50  mAP50-95)     Mask(P          R      mAP50  mAP50-95): 100%|██████████| 1/1 [00:00<00:00,  7.24it/s]"
     ]
    },
    {
     "name": "stdout",
     "output_type": "stream",
     "text": [
      "                   all          8          8      0.981      0.875      0.894      0.717      0.981      0.875      0.875      0.713\n"
     ]
    },
    {
     "name": "stderr",
     "output_type": "stream",
     "text": [
      "\n"
     ]
    },
    {
     "name": "stdout",
     "output_type": "stream",
     "text": [
      "\n",
      "      Epoch    GPU_mem   box_loss   seg_loss   cls_loss   dfl_loss  Instances       Size\n"
     ]
    },
    {
     "name": "stderr",
     "output_type": "stream",
     "text": [
      "     41/100      1.61G     0.6001     0.6211     0.7929     0.9142         25        416: 100%|██████████| 2/2 [00:00<00:00,  2.37it/s]\n",
      "                 Class     Images  Instances      Box(P          R      mAP50  mAP50-95)     Mask(P          R      mAP50  mAP50-95): 100%|██████████| 1/1 [00:00<00:00,  7.30it/s]"
     ]
    },
    {
     "name": "stdout",
     "output_type": "stream",
     "text": [
      "                   all          8          8          1      0.989      0.995       0.69      0.977      0.875      0.881      0.725\n"
     ]
    },
    {
     "name": "stderr",
     "output_type": "stream",
     "text": [
      "\n"
     ]
    },
    {
     "name": "stdout",
     "output_type": "stream",
     "text": [
      "\n",
      "      Epoch    GPU_mem   box_loss   seg_loss   cls_loss   dfl_loss  Instances       Size\n"
     ]
    },
    {
     "name": "stderr",
     "output_type": "stream",
     "text": [
      "     42/100      1.61G     0.5473     0.4715     0.7644     0.8872         22        416: 100%|██████████| 2/2 [00:00<00:00,  2.43it/s]\n",
      "                 Class     Images  Instances      Box(P          R      mAP50  mAP50-95)     Mask(P          R      mAP50  mAP50-95): 100%|██████████| 1/1 [00:00<00:00,  7.24it/s]"
     ]
    },
    {
     "name": "stdout",
     "output_type": "stream",
     "text": [
      "                   all          8          8          1      0.997      0.995      0.696      0.966      0.875      0.881      0.696\n"
     ]
    },
    {
     "name": "stderr",
     "output_type": "stream",
     "text": [
      "\n"
     ]
    },
    {
     "name": "stdout",
     "output_type": "stream",
     "text": [
      "\n",
      "      Epoch    GPU_mem   box_loss   seg_loss   cls_loss   dfl_loss  Instances       Size\n"
     ]
    },
    {
     "name": "stderr",
     "output_type": "stream",
     "text": [
      "     43/100      1.61G     0.5687     0.5522     0.7258      0.889         30        416: 100%|██████████| 2/2 [00:00<00:00,  2.51it/s]\n",
      "                 Class     Images  Instances      Box(P          R      mAP50  mAP50-95)     Mask(P          R      mAP50  mAP50-95): 100%|██████████| 1/1 [00:00<00:00,  7.07it/s]"
     ]
    },
    {
     "name": "stdout",
     "output_type": "stream",
     "text": [
      "                   all          8          8          1      0.997      0.995      0.696      0.966      0.875      0.881      0.696\n"
     ]
    },
    {
     "name": "stderr",
     "output_type": "stream",
     "text": [
      "\n"
     ]
    },
    {
     "name": "stdout",
     "output_type": "stream",
     "text": [
      "\n",
      "      Epoch    GPU_mem   box_loss   seg_loss   cls_loss   dfl_loss  Instances       Size\n"
     ]
    },
    {
     "name": "stderr",
     "output_type": "stream",
     "text": [
      "     44/100      1.61G     0.5343     0.5562     0.7859     0.8781         19        416: 100%|██████████| 2/2 [00:00<00:00,  2.41it/s]\n",
      "                 Class     Images  Instances      Box(P          R      mAP50  mAP50-95)     Mask(P          R      mAP50  mAP50-95): 100%|██████████| 1/1 [00:00<00:00,  7.08it/s]"
     ]
    },
    {
     "name": "stdout",
     "output_type": "stream",
     "text": [
      "                   all          8          8          1      0.496      0.803      0.588          1      0.496      0.759      0.569\n"
     ]
    },
    {
     "name": "stderr",
     "output_type": "stream",
     "text": [
      "\n"
     ]
    },
    {
     "name": "stdout",
     "output_type": "stream",
     "text": [
      "\n",
      "      Epoch    GPU_mem   box_loss   seg_loss   cls_loss   dfl_loss  Instances       Size\n"
     ]
    },
    {
     "name": "stderr",
     "output_type": "stream",
     "text": [
      "     45/100      1.61G     0.6176     0.5945     0.8378     0.9676         19        416: 100%|██████████| 2/2 [00:00<00:00,  2.51it/s]\n",
      "                 Class     Images  Instances      Box(P          R      mAP50  mAP50-95)     Mask(P          R      mAP50  mAP50-95): 100%|██████████| 1/1 [00:00<00:00,  7.32it/s]"
     ]
    },
    {
     "name": "stdout",
     "output_type": "stream",
     "text": [
      "                   all          8          8          1      0.496      0.803      0.588          1      0.496      0.759      0.569\n"
     ]
    },
    {
     "name": "stderr",
     "output_type": "stream",
     "text": [
      "\n"
     ]
    },
    {
     "name": "stdout",
     "output_type": "stream",
     "text": [
      "\n",
      "      Epoch    GPU_mem   box_loss   seg_loss   cls_loss   dfl_loss  Instances       Size\n"
     ]
    },
    {
     "name": "stderr",
     "output_type": "stream",
     "text": [
      "     46/100      1.61G     0.5188      0.655     0.7217     0.8557         22        416: 100%|██████████| 2/2 [00:00<00:00,  2.39it/s]\n",
      "                 Class     Images  Instances      Box(P          R      mAP50  mAP50-95)     Mask(P          R      mAP50  mAP50-95): 100%|██████████| 1/1 [00:00<00:00,  7.30it/s]"
     ]
    },
    {
     "name": "stdout",
     "output_type": "stream",
     "text": [
      "                   all          8          8      0.667      0.625      0.853      0.662      0.752      0.625      0.761      0.609\n"
     ]
    },
    {
     "name": "stderr",
     "output_type": "stream",
     "text": [
      "\n"
     ]
    },
    {
     "name": "stdout",
     "output_type": "stream",
     "text": [
      "\n",
      "      Epoch    GPU_mem   box_loss   seg_loss   cls_loss   dfl_loss  Instances       Size\n"
     ]
    },
    {
     "name": "stderr",
     "output_type": "stream",
     "text": [
      "     47/100      1.61G     0.5981     0.6565     0.7832     0.9435         28        416: 100%|██████████| 2/2 [00:00<00:00,  2.50it/s]\n",
      "                 Class     Images  Instances      Box(P          R      mAP50  mAP50-95)     Mask(P          R      mAP50  mAP50-95): 100%|██████████| 1/1 [00:00<00:00,  6.58it/s]"
     ]
    },
    {
     "name": "stdout",
     "output_type": "stream",
     "text": [
      "                   all          8          8      0.667      0.625      0.853      0.662      0.752      0.625      0.761      0.609\n"
     ]
    },
    {
     "name": "stderr",
     "output_type": "stream",
     "text": [
      "\n"
     ]
    },
    {
     "name": "stdout",
     "output_type": "stream",
     "text": [
      "\n",
      "      Epoch    GPU_mem   box_loss   seg_loss   cls_loss   dfl_loss  Instances       Size\n"
     ]
    },
    {
     "name": "stderr",
     "output_type": "stream",
     "text": [
      "     48/100      1.61G     0.5717     0.6798     0.7546     0.9197         31        416: 100%|██████████| 2/2 [00:00<00:00,  2.40it/s]\n",
      "                 Class     Images  Instances      Box(P          R      mAP50  mAP50-95)     Mask(P          R      mAP50  mAP50-95): 100%|██████████| 1/1 [00:00<00:00,  7.12it/s]"
     ]
    },
    {
     "name": "stdout",
     "output_type": "stream",
     "text": [
      "                   all          8          8      0.989      0.875      0.962      0.741      0.989      0.875      0.962      0.703\n"
     ]
    },
    {
     "name": "stderr",
     "output_type": "stream",
     "text": [
      "\n"
     ]
    },
    {
     "name": "stdout",
     "output_type": "stream",
     "text": [
      "\n",
      "      Epoch    GPU_mem   box_loss   seg_loss   cls_loss   dfl_loss  Instances       Size\n"
     ]
    },
    {
     "name": "stderr",
     "output_type": "stream",
     "text": [
      "     49/100      1.61G     0.6339     0.6421      0.761     0.8844         28        416: 100%|██████████| 2/2 [00:00<00:00,  2.51it/s]\n",
      "                 Class     Images  Instances      Box(P          R      mAP50  mAP50-95)     Mask(P          R      mAP50  mAP50-95): 100%|██████████| 1/1 [00:00<00:00,  7.29it/s]"
     ]
    },
    {
     "name": "stdout",
     "output_type": "stream",
     "text": [
      "                   all          8          8      0.989      0.875      0.962      0.741      0.989      0.875      0.962      0.703\n"
     ]
    },
    {
     "name": "stderr",
     "output_type": "stream",
     "text": [
      "\n"
     ]
    },
    {
     "name": "stdout",
     "output_type": "stream",
     "text": [
      "\n",
      "      Epoch    GPU_mem   box_loss   seg_loss   cls_loss   dfl_loss  Instances       Size\n"
     ]
    },
    {
     "name": "stderr",
     "output_type": "stream",
     "text": [
      "     50/100      1.61G     0.5376     0.5279     0.7171     0.8829         21        416: 100%|██████████| 2/2 [00:00<00:00,  2.43it/s]\n",
      "                 Class     Images  Instances      Box(P          R      mAP50  mAP50-95)     Mask(P          R      mAP50  mAP50-95): 100%|██████████| 1/1 [00:00<00:00,  7.03it/s]"
     ]
    },
    {
     "name": "stdout",
     "output_type": "stream",
     "text": [
      "                   all          8          8      0.983          1      0.995      0.807      0.983          1      0.995      0.775\n"
     ]
    },
    {
     "name": "stderr",
     "output_type": "stream",
     "text": [
      "\n"
     ]
    },
    {
     "name": "stdout",
     "output_type": "stream",
     "text": [
      "\n",
      "      Epoch    GPU_mem   box_loss   seg_loss   cls_loss   dfl_loss  Instances       Size\n"
     ]
    },
    {
     "name": "stderr",
     "output_type": "stream",
     "text": [
      "     51/100      1.61G     0.5494     0.4972     0.7516     0.9036         20        416: 100%|██████████| 2/2 [00:00<00:00,  2.52it/s]\n",
      "                 Class     Images  Instances      Box(P          R      mAP50  mAP50-95)     Mask(P          R      mAP50  mAP50-95): 100%|██████████| 1/1 [00:00<00:00,  7.07it/s]"
     ]
    },
    {
     "name": "stdout",
     "output_type": "stream",
     "text": [
      "                   all          8          8      0.983          1      0.995      0.807      0.983          1      0.995      0.775\n"
     ]
    },
    {
     "name": "stderr",
     "output_type": "stream",
     "text": [
      "\n"
     ]
    },
    {
     "name": "stdout",
     "output_type": "stream",
     "text": [
      "\n",
      "      Epoch    GPU_mem   box_loss   seg_loss   cls_loss   dfl_loss  Instances       Size\n"
     ]
    },
    {
     "name": "stderr",
     "output_type": "stream",
     "text": [
      "     52/100      1.63G     0.6483     0.6185     0.7786     0.9967         24        416: 100%|██████████| 2/2 [00:00<00:00,  2.39it/s]\n",
      "                 Class     Images  Instances      Box(P          R      mAP50  mAP50-95)     Mask(P          R      mAP50  mAP50-95): 100%|██████████| 1/1 [00:00<00:00,  6.67it/s]"
     ]
    },
    {
     "name": "stdout",
     "output_type": "stream",
     "text": [
      "                   all          8          8      0.986          1      0.995      0.824      0.986          1      0.995      0.775\n"
     ]
    },
    {
     "name": "stderr",
     "output_type": "stream",
     "text": [
      "\n"
     ]
    },
    {
     "name": "stdout",
     "output_type": "stream",
     "text": [
      "\n",
      "      Epoch    GPU_mem   box_loss   seg_loss   cls_loss   dfl_loss  Instances       Size\n"
     ]
    },
    {
     "name": "stderr",
     "output_type": "stream",
     "text": [
      "     53/100      1.63G     0.5268     0.5467     0.7136     0.8694         23        416: 100%|██████████| 2/2 [00:00<00:00,  2.48it/s]\n",
      "                 Class     Images  Instances      Box(P          R      mAP50  mAP50-95)     Mask(P          R      mAP50  mAP50-95): 100%|██████████| 1/1 [00:00<00:00,  7.09it/s]"
     ]
    },
    {
     "name": "stdout",
     "output_type": "stream",
     "text": [
      "                   all          8          8      0.986          1      0.995      0.824      0.986          1      0.995      0.775\n"
     ]
    },
    {
     "name": "stderr",
     "output_type": "stream",
     "text": [
      "\n"
     ]
    },
    {
     "name": "stdout",
     "output_type": "stream",
     "text": [
      "\n",
      "      Epoch    GPU_mem   box_loss   seg_loss   cls_loss   dfl_loss  Instances       Size\n"
     ]
    },
    {
     "name": "stderr",
     "output_type": "stream",
     "text": [
      "     54/100      1.66G     0.5733     0.5294     0.7236     0.9377         31        416: 100%|██████████| 2/2 [00:00<00:00,  2.41it/s]\n",
      "                 Class     Images  Instances      Box(P          R      mAP50  mAP50-95)     Mask(P          R      mAP50  mAP50-95): 100%|██████████| 1/1 [00:00<00:00,  6.61it/s]"
     ]
    },
    {
     "name": "stdout",
     "output_type": "stream",
     "text": [
      "                   all          8          8          1          1      0.995      0.801      0.986      0.875      0.881      0.758\n"
     ]
    },
    {
     "name": "stderr",
     "output_type": "stream",
     "text": [
      "\n"
     ]
    },
    {
     "name": "stdout",
     "output_type": "stream",
     "text": [
      "\n",
      "      Epoch    GPU_mem   box_loss   seg_loss   cls_loss   dfl_loss  Instances       Size\n"
     ]
    },
    {
     "name": "stderr",
     "output_type": "stream",
     "text": [
      "     55/100      1.67G     0.5373     0.7053     0.8227     0.9289         19        416: 100%|██████████| 2/2 [00:00<00:00,  2.41it/s]\n",
      "                 Class     Images  Instances      Box(P          R      mAP50  mAP50-95)     Mask(P          R      mAP50  mAP50-95): 100%|██████████| 1/1 [00:00<00:00,  7.32it/s]"
     ]
    },
    {
     "name": "stdout",
     "output_type": "stream",
     "text": [
      "                   all          8          8          1          1      0.995      0.801      0.986      0.875      0.881      0.758\n"
     ]
    },
    {
     "name": "stderr",
     "output_type": "stream",
     "text": [
      "\n"
     ]
    },
    {
     "name": "stdout",
     "output_type": "stream",
     "text": [
      "\n",
      "      Epoch    GPU_mem   box_loss   seg_loss   cls_loss   dfl_loss  Instances       Size\n"
     ]
    },
    {
     "name": "stderr",
     "output_type": "stream",
     "text": [
      "     56/100      1.69G     0.5835     0.5364     0.7256     0.8975         24        416: 100%|██████████| 2/2 [00:00<00:00,  2.35it/s]\n",
      "                 Class     Images  Instances      Box(P          R      mAP50  mAP50-95)     Mask(P          R      mAP50  mAP50-95): 100%|██████████| 1/1 [00:00<00:00,  7.37it/s]"
     ]
    },
    {
     "name": "stdout",
     "output_type": "stream",
     "text": [
      "                   all          8          8          1      0.996      0.995      0.778      0.985      0.875      0.877      0.725\n"
     ]
    },
    {
     "name": "stderr",
     "output_type": "stream",
     "text": [
      "\n"
     ]
    },
    {
     "name": "stdout",
     "output_type": "stream",
     "text": [
      "\n",
      "      Epoch    GPU_mem   box_loss   seg_loss   cls_loss   dfl_loss  Instances       Size\n"
     ]
    },
    {
     "name": "stderr",
     "output_type": "stream",
     "text": [
      "     57/100       1.7G     0.4431     0.5481     0.6257     0.8365         26        416: 100%|██████████| 2/2 [00:00<00:00,  2.49it/s]\n",
      "                 Class     Images  Instances      Box(P          R      mAP50  mAP50-95)     Mask(P          R      mAP50  mAP50-95): 100%|██████████| 1/1 [00:00<00:00,  7.10it/s]"
     ]
    },
    {
     "name": "stdout",
     "output_type": "stream",
     "text": [
      "                   all          8          8          1      0.996      0.995      0.778      0.985      0.875      0.877      0.725\n"
     ]
    },
    {
     "name": "stderr",
     "output_type": "stream",
     "text": [
      "\n"
     ]
    },
    {
     "name": "stdout",
     "output_type": "stream",
     "text": [
      "\n",
      "      Epoch    GPU_mem   box_loss   seg_loss   cls_loss   dfl_loss  Instances       Size\n"
     ]
    },
    {
     "name": "stderr",
     "output_type": "stream",
     "text": [
      "     58/100      1.72G     0.5157     0.5608     0.6738     0.9092         23        416: 100%|██████████| 2/2 [00:00<00:00,  2.40it/s]\n",
      "                 Class     Images  Instances      Box(P          R      mAP50  mAP50-95)     Mask(P          R      mAP50  mAP50-95): 100%|██████████| 1/1 [00:00<00:00,  7.34it/s]"
     ]
    },
    {
     "name": "stdout",
     "output_type": "stream",
     "text": [
      "                   all          8          8      0.997          1      0.995      0.784      0.981      0.875      0.875      0.731\n"
     ]
    },
    {
     "name": "stderr",
     "output_type": "stream",
     "text": [
      "\n"
     ]
    },
    {
     "name": "stdout",
     "output_type": "stream",
     "text": [
      "\n",
      "      Epoch    GPU_mem   box_loss   seg_loss   cls_loss   dfl_loss  Instances       Size\n"
     ]
    },
    {
     "name": "stderr",
     "output_type": "stream",
     "text": [
      "     59/100      1.73G     0.4913     0.4901     0.7003     0.8978         22        416: 100%|██████████| 2/2 [00:00<00:00,  2.51it/s]\n",
      "                 Class     Images  Instances      Box(P          R      mAP50  mAP50-95)     Mask(P          R      mAP50  mAP50-95): 100%|██████████| 1/1 [00:00<00:00,  7.27it/s]"
     ]
    },
    {
     "name": "stdout",
     "output_type": "stream",
     "text": [
      "                   all          8          8      0.997          1      0.995      0.784      0.981      0.875      0.875      0.731\n"
     ]
    },
    {
     "name": "stderr",
     "output_type": "stream",
     "text": [
      "\n"
     ]
    },
    {
     "name": "stdout",
     "output_type": "stream",
     "text": [
      "\n",
      "      Epoch    GPU_mem   box_loss   seg_loss   cls_loss   dfl_loss  Instances       Size\n"
     ]
    },
    {
     "name": "stderr",
     "output_type": "stream",
     "text": [
      "     60/100      1.75G     0.5899     0.4797     0.7101     0.9227         28        416: 100%|██████████| 2/2 [00:00<00:00,  2.39it/s]\n",
      "                 Class     Images  Instances      Box(P          R      mAP50  mAP50-95)     Mask(P          R      mAP50  mAP50-95): 100%|██████████| 1/1 [00:00<00:00,  7.24it/s]"
     ]
    },
    {
     "name": "stdout",
     "output_type": "stream",
     "text": [
      "                   all          8          8      0.993          1      0.995      0.772          1      0.874      0.875      0.723\n"
     ]
    },
    {
     "name": "stderr",
     "output_type": "stream",
     "text": [
      "\n"
     ]
    },
    {
     "name": "stdout",
     "output_type": "stream",
     "text": [
      "\n",
      "      Epoch    GPU_mem   box_loss   seg_loss   cls_loss   dfl_loss  Instances       Size\n"
     ]
    },
    {
     "name": "stderr",
     "output_type": "stream",
     "text": [
      "     61/100      1.76G     0.5396     0.4839     0.7307     0.9472         23        416: 100%|██████████| 2/2 [00:00<00:00,  2.53it/s]\n",
      "                 Class     Images  Instances      Box(P          R      mAP50  mAP50-95)     Mask(P          R      mAP50  mAP50-95): 100%|██████████| 1/1 [00:00<00:00,  6.83it/s]"
     ]
    },
    {
     "name": "stdout",
     "output_type": "stream",
     "text": [
      "                   all          8          8      0.993          1      0.995      0.772          1      0.874      0.875      0.723\n"
     ]
    },
    {
     "name": "stderr",
     "output_type": "stream",
     "text": [
      "\n"
     ]
    },
    {
     "name": "stdout",
     "output_type": "stream",
     "text": [
      "\n",
      "      Epoch    GPU_mem   box_loss   seg_loss   cls_loss   dfl_loss  Instances       Size\n"
     ]
    },
    {
     "name": "stderr",
     "output_type": "stream",
     "text": [
      "     62/100      1.79G     0.5307     0.4801     0.6449     0.9071         26        416: 100%|██████████| 2/2 [00:00<00:00,  2.38it/s]\n",
      "                 Class     Images  Instances      Box(P          R      mAP50  mAP50-95)     Mask(P          R      mAP50  mAP50-95): 100%|██████████| 1/1 [00:00<00:00,  7.01it/s]"
     ]
    },
    {
     "name": "stdout",
     "output_type": "stream",
     "text": [
      "                   all          8          8       0.99          1      0.995      0.749          1      0.867      0.875      0.761\n"
     ]
    },
    {
     "name": "stderr",
     "output_type": "stream",
     "text": [
      "\n"
     ]
    },
    {
     "name": "stdout",
     "output_type": "stream",
     "text": [
      "\n",
      "      Epoch    GPU_mem   box_loss   seg_loss   cls_loss   dfl_loss  Instances       Size\n"
     ]
    },
    {
     "name": "stderr",
     "output_type": "stream",
     "text": [
      "     63/100       1.8G     0.4705     0.4714     0.6522     0.8752         29        416: 100%|██████████| 2/2 [00:00<00:00,  2.49it/s]\n",
      "                 Class     Images  Instances      Box(P          R      mAP50  mAP50-95)     Mask(P          R      mAP50  mAP50-95): 100%|██████████| 1/1 [00:00<00:00,  6.89it/s]"
     ]
    },
    {
     "name": "stdout",
     "output_type": "stream",
     "text": [
      "                   all          8          8       0.99          1      0.995      0.749          1      0.867      0.875      0.761\n"
     ]
    },
    {
     "name": "stderr",
     "output_type": "stream",
     "text": [
      "\n"
     ]
    },
    {
     "name": "stdout",
     "output_type": "stream",
     "text": [
      "\n",
      "      Epoch    GPU_mem   box_loss   seg_loss   cls_loss   dfl_loss  Instances       Size\n"
     ]
    },
    {
     "name": "stderr",
     "output_type": "stream",
     "text": [
      "     64/100      1.82G     0.5005     0.5526     0.6768     0.8881         34        416: 100%|██████████| 2/2 [00:00<00:00,  2.43it/s]\n",
      "                 Class     Images  Instances      Box(P          R      mAP50  mAP50-95)     Mask(P          R      mAP50  mAP50-95): 100%|██████████| 1/1 [00:00<00:00,  7.26it/s]"
     ]
    },
    {
     "name": "stdout",
     "output_type": "stream",
     "text": [
      "                   all          8          8      0.994          1      0.995      0.753      0.988      0.875      0.875      0.776\n"
     ]
    },
    {
     "name": "stderr",
     "output_type": "stream",
     "text": [
      "\n"
     ]
    },
    {
     "name": "stdout",
     "output_type": "stream",
     "text": [
      "\n",
      "      Epoch    GPU_mem   box_loss   seg_loss   cls_loss   dfl_loss  Instances       Size\n"
     ]
    },
    {
     "name": "stderr",
     "output_type": "stream",
     "text": [
      "     65/100      1.83G     0.4781     0.4866     0.6357     0.9064         29        416: 100%|██████████| 2/2 [00:00<00:00,  2.52it/s]\n",
      "                 Class     Images  Instances      Box(P          R      mAP50  mAP50-95)     Mask(P          R      mAP50  mAP50-95): 100%|██████████| 1/1 [00:00<00:00,  7.18it/s]"
     ]
    },
    {
     "name": "stdout",
     "output_type": "stream",
     "text": [
      "                   all          8          8      0.994          1      0.995      0.753      0.988      0.875      0.875      0.776\n"
     ]
    },
    {
     "name": "stderr",
     "output_type": "stream",
     "text": [
      "\n"
     ]
    },
    {
     "name": "stdout",
     "output_type": "stream",
     "text": [
      "\n",
      "      Epoch    GPU_mem   box_loss   seg_loss   cls_loss   dfl_loss  Instances       Size\n"
     ]
    },
    {
     "name": "stderr",
     "output_type": "stream",
     "text": [
      "     66/100      1.86G     0.4519     0.5145     0.6946     0.9159         27        416: 100%|██████████| 2/2 [00:00<00:00,  2.40it/s]\n",
      "                 Class     Images  Instances      Box(P          R      mAP50  mAP50-95)     Mask(P          R      mAP50  mAP50-95): 100%|██████████| 1/1 [00:00<00:00,  7.38it/s]"
     ]
    },
    {
     "name": "stdout",
     "output_type": "stream",
     "text": [
      "                   all          8          8      0.996          1      0.995      0.773      0.977      0.875      0.875      0.773\n"
     ]
    },
    {
     "name": "stderr",
     "output_type": "stream",
     "text": [
      "\n"
     ]
    },
    {
     "name": "stdout",
     "output_type": "stream",
     "text": [
      "\n",
      "      Epoch    GPU_mem   box_loss   seg_loss   cls_loss   dfl_loss  Instances       Size\n"
     ]
    },
    {
     "name": "stderr",
     "output_type": "stream",
     "text": [
      "     67/100      1.86G     0.4017      0.371     0.5535     0.8459         30        416: 100%|██████████| 2/2 [00:00<00:00,  2.50it/s]\n",
      "                 Class     Images  Instances      Box(P          R      mAP50  mAP50-95)     Mask(P          R      mAP50  mAP50-95): 100%|██████████| 1/1 [00:00<00:00,  7.22it/s]"
     ]
    },
    {
     "name": "stdout",
     "output_type": "stream",
     "text": [
      "                   all          8          8      0.996          1      0.995      0.773      0.977      0.875      0.875      0.773\n"
     ]
    },
    {
     "name": "stderr",
     "output_type": "stream",
     "text": [
      "\n"
     ]
    },
    {
     "name": "stdout",
     "output_type": "stream",
     "text": [
      "\n",
      "      Epoch    GPU_mem   box_loss   seg_loss   cls_loss   dfl_loss  Instances       Size\n"
     ]
    },
    {
     "name": "stderr",
     "output_type": "stream",
     "text": [
      "     68/100      1.89G     0.4128     0.3711     0.5944     0.8818         22        416: 100%|██████████| 2/2 [00:00<00:00,  2.41it/s]\n",
      "                 Class     Images  Instances      Box(P          R      mAP50  mAP50-95)     Mask(P          R      mAP50  mAP50-95): 100%|██████████| 1/1 [00:00<00:00,  7.27it/s]"
     ]
    },
    {
     "name": "stdout",
     "output_type": "stream",
     "text": [
      "                   all          8          8      0.994          1      0.995      0.845      0.994          1      0.995      0.786\n"
     ]
    },
    {
     "name": "stderr",
     "output_type": "stream",
     "text": [
      "\n"
     ]
    },
    {
     "name": "stdout",
     "output_type": "stream",
     "text": [
      "\n",
      "      Epoch    GPU_mem   box_loss   seg_loss   cls_loss   dfl_loss  Instances       Size\n"
     ]
    },
    {
     "name": "stderr",
     "output_type": "stream",
     "text": [
      "     69/100       1.9G     0.4217     0.4704     0.6133     0.8675         24        416: 100%|██████████| 2/2 [00:00<00:00,  2.50it/s]\n",
      "                 Class     Images  Instances      Box(P          R      mAP50  mAP50-95)     Mask(P          R      mAP50  mAP50-95): 100%|██████████| 1/1 [00:00<00:00,  7.33it/s]"
     ]
    },
    {
     "name": "stdout",
     "output_type": "stream",
     "text": [
      "                   all          8          8      0.994          1      0.995      0.845      0.994          1      0.995      0.786\n"
     ]
    },
    {
     "name": "stderr",
     "output_type": "stream",
     "text": [
      "\n"
     ]
    },
    {
     "name": "stdout",
     "output_type": "stream",
     "text": [
      "\n",
      "      Epoch    GPU_mem   box_loss   seg_loss   cls_loss   dfl_loss  Instances       Size\n"
     ]
    },
    {
     "name": "stderr",
     "output_type": "stream",
     "text": [
      "     70/100      1.92G      0.455     0.4585     0.5948     0.8705         28        416: 100%|██████████| 2/2 [00:00<00:00,  2.40it/s]\n",
      "                 Class     Images  Instances      Box(P          R      mAP50  mAP50-95)     Mask(P          R      mAP50  mAP50-95): 100%|██████████| 1/1 [00:00<00:00,  7.07it/s]"
     ]
    },
    {
     "name": "stdout",
     "output_type": "stream",
     "text": [
      "                   all          8          8      0.979      0.875      0.885      0.822      0.979      0.875      0.878      0.784\n"
     ]
    },
    {
     "name": "stderr",
     "output_type": "stream",
     "text": [
      "\n"
     ]
    },
    {
     "name": "stdout",
     "output_type": "stream",
     "text": [
      "\n",
      "      Epoch    GPU_mem   box_loss   seg_loss   cls_loss   dfl_loss  Instances       Size\n"
     ]
    },
    {
     "name": "stderr",
     "output_type": "stream",
     "text": [
      "     71/100      1.93G      0.513       0.49     0.6707     0.9209         24        416: 100%|██████████| 2/2 [00:00<00:00,  2.52it/s]\n",
      "                 Class     Images  Instances      Box(P          R      mAP50  mAP50-95)     Mask(P          R      mAP50  mAP50-95): 100%|██████████| 1/1 [00:00<00:00,  7.27it/s]"
     ]
    },
    {
     "name": "stdout",
     "output_type": "stream",
     "text": [
      "                   all          8          8      0.979      0.875      0.885      0.822      0.979      0.875      0.878      0.784\n"
     ]
    },
    {
     "name": "stderr",
     "output_type": "stream",
     "text": [
      "\n"
     ]
    },
    {
     "name": "stdout",
     "output_type": "stream",
     "text": [
      "\n",
      "      Epoch    GPU_mem   box_loss   seg_loss   cls_loss   dfl_loss  Instances       Size\n"
     ]
    },
    {
     "name": "stderr",
     "output_type": "stream",
     "text": [
      "     72/100      1.95G     0.4564     0.4201     0.6117     0.8861         25        416: 100%|██████████| 2/2 [00:00<00:00,  2.41it/s]\n",
      "                 Class     Images  Instances      Box(P          R      mAP50  mAP50-95)     Mask(P          R      mAP50  mAP50-95): 100%|██████████| 1/1 [00:00<00:00,  7.39it/s]"
     ]
    },
    {
     "name": "stdout",
     "output_type": "stream",
     "text": [
      "                   all          8          8          1      0.849      0.883      0.804          1      0.849      0.883       0.81\n"
     ]
    },
    {
     "name": "stderr",
     "output_type": "stream",
     "text": [
      "\n"
     ]
    },
    {
     "name": "stdout",
     "output_type": "stream",
     "text": [
      "\n",
      "      Epoch    GPU_mem   box_loss   seg_loss   cls_loss   dfl_loss  Instances       Size\n"
     ]
    },
    {
     "name": "stderr",
     "output_type": "stream",
     "text": [
      "     73/100      1.96G     0.4191     0.4391     0.6408     0.8805         37        416: 100%|██████████| 2/2 [00:00<00:00,  2.50it/s]\n",
      "                 Class     Images  Instances      Box(P          R      mAP50  mAP50-95)     Mask(P          R      mAP50  mAP50-95): 100%|██████████| 1/1 [00:00<00:00,  7.29it/s]"
     ]
    },
    {
     "name": "stdout",
     "output_type": "stream",
     "text": [
      "                   all          8          8          1      0.849      0.883      0.804          1      0.849      0.883       0.81\n"
     ]
    },
    {
     "name": "stderr",
     "output_type": "stream",
     "text": [
      "\n"
     ]
    },
    {
     "name": "stdout",
     "output_type": "stream",
     "text": [
      "\n",
      "      Epoch    GPU_mem   box_loss   seg_loss   cls_loss   dfl_loss  Instances       Size\n"
     ]
    },
    {
     "name": "stderr",
     "output_type": "stream",
     "text": [
      "     74/100      1.98G     0.4159      0.427     0.5516     0.8931         31        416: 100%|██████████| 2/2 [00:00<00:00,  2.41it/s]\n",
      "                 Class     Images  Instances      Box(P          R      mAP50  mAP50-95)     Mask(P          R      mAP50  mAP50-95): 100%|██████████| 1/1 [00:00<00:00,  7.29it/s]"
     ]
    },
    {
     "name": "stdout",
     "output_type": "stream",
     "text": [
      "                   all          8          8      0.866      0.875      0.865      0.789      0.866      0.875      0.865      0.757\n"
     ]
    },
    {
     "name": "stderr",
     "output_type": "stream",
     "text": [
      "\n"
     ]
    },
    {
     "name": "stdout",
     "output_type": "stream",
     "text": [
      "\n",
      "      Epoch    GPU_mem   box_loss   seg_loss   cls_loss   dfl_loss  Instances       Size\n"
     ]
    },
    {
     "name": "stderr",
     "output_type": "stream",
     "text": [
      "     75/100      1.99G     0.4766     0.5049     0.6423     0.8743         25        416: 100%|██████████| 2/2 [00:00<00:00,  2.51it/s]\n",
      "                 Class     Images  Instances      Box(P          R      mAP50  mAP50-95)     Mask(P          R      mAP50  mAP50-95): 100%|██████████| 1/1 [00:00<00:00,  7.30it/s]"
     ]
    },
    {
     "name": "stdout",
     "output_type": "stream",
     "text": [
      "                   all          8          8      0.866      0.875      0.865      0.789      0.866      0.875      0.865      0.757\n"
     ]
    },
    {
     "name": "stderr",
     "output_type": "stream",
     "text": [
      "\n"
     ]
    },
    {
     "name": "stdout",
     "output_type": "stream",
     "text": [
      "\n",
      "      Epoch    GPU_mem   box_loss   seg_loss   cls_loss   dfl_loss  Instances       Size\n"
     ]
    },
    {
     "name": "stderr",
     "output_type": "stream",
     "text": [
      "     76/100      2.02G     0.4576     0.4254     0.5845     0.8902         33        416: 100%|██████████| 2/2 [00:00<00:00,  2.39it/s]\n",
      "                 Class     Images  Instances      Box(P          R      mAP50  mAP50-95)     Mask(P          R      mAP50  mAP50-95): 100%|██████████| 1/1 [00:00<00:00,  6.17it/s]"
     ]
    },
    {
     "name": "stdout",
     "output_type": "stream",
     "text": [
      "                   all          8          8      0.978      0.875       0.88      0.805      0.978      0.875      0.879      0.794\n"
     ]
    },
    {
     "name": "stderr",
     "output_type": "stream",
     "text": [
      "\n"
     ]
    },
    {
     "name": "stdout",
     "output_type": "stream",
     "text": [
      "\n",
      "      Epoch    GPU_mem   box_loss   seg_loss   cls_loss   dfl_loss  Instances       Size\n"
     ]
    },
    {
     "name": "stderr",
     "output_type": "stream",
     "text": [
      "     77/100      1.61G     0.4777     0.5123     0.6417     0.9152         20        416: 100%|██████████| 2/2 [00:00<00:00,  2.50it/s]\n",
      "                 Class     Images  Instances      Box(P          R      mAP50  mAP50-95)     Mask(P          R      mAP50  mAP50-95): 100%|██████████| 1/1 [00:00<00:00,  7.29it/s]"
     ]
    },
    {
     "name": "stdout",
     "output_type": "stream",
     "text": [
      "                   all          8          8      0.978      0.875       0.88      0.805      0.978      0.875      0.879      0.794\n"
     ]
    },
    {
     "name": "stderr",
     "output_type": "stream",
     "text": [
      "\n"
     ]
    },
    {
     "name": "stdout",
     "output_type": "stream",
     "text": [
      "\n",
      "      Epoch    GPU_mem   box_loss   seg_loss   cls_loss   dfl_loss  Instances       Size\n"
     ]
    },
    {
     "name": "stderr",
     "output_type": "stream",
     "text": [
      "     78/100      1.61G     0.3959     0.3666     0.5236     0.8786         25        416: 100%|██████████| 2/2 [00:00<00:00,  2.37it/s]\n",
      "                 Class     Images  Instances      Box(P          R      mAP50  mAP50-95)     Mask(P          R      mAP50  mAP50-95): 100%|██████████| 1/1 [00:00<00:00,  7.14it/s]"
     ]
    },
    {
     "name": "stdout",
     "output_type": "stream",
     "text": [
      "                   all          8          8      0.995          1      0.995      0.802      0.967      0.875      0.879      0.814\n"
     ]
    },
    {
     "name": "stderr",
     "output_type": "stream",
     "text": [
      "\n"
     ]
    },
    {
     "name": "stdout",
     "output_type": "stream",
     "text": [
      "\n",
      "      Epoch    GPU_mem   box_loss   seg_loss   cls_loss   dfl_loss  Instances       Size\n"
     ]
    },
    {
     "name": "stderr",
     "output_type": "stream",
     "text": [
      "     79/100      1.61G     0.4253     0.4582     0.5748     0.8584         37        416: 100%|██████████| 2/2 [00:00<00:00,  2.51it/s]\n",
      "                 Class     Images  Instances      Box(P          R      mAP50  mAP50-95)     Mask(P          R      mAP50  mAP50-95): 100%|██████████| 1/1 [00:00<00:00,  7.13it/s]"
     ]
    },
    {
     "name": "stdout",
     "output_type": "stream",
     "text": [
      "                   all          8          8      0.995          1      0.995      0.802      0.967      0.875      0.879      0.814\n"
     ]
    },
    {
     "name": "stderr",
     "output_type": "stream",
     "text": [
      "\n"
     ]
    },
    {
     "name": "stdout",
     "output_type": "stream",
     "text": [
      "\n",
      "      Epoch    GPU_mem   box_loss   seg_loss   cls_loss   dfl_loss  Instances       Size\n"
     ]
    },
    {
     "name": "stderr",
     "output_type": "stream",
     "text": [
      "     80/100      1.61G     0.4389      0.461     0.5908     0.8991         28        416: 100%|██████████| 2/2 [00:00<00:00,  2.43it/s]\n",
      "                 Class     Images  Instances      Box(P          R      mAP50  mAP50-95)     Mask(P          R      mAP50  mAP50-95): 100%|██████████| 1/1 [00:00<00:00,  7.34it/s]"
     ]
    },
    {
     "name": "stdout",
     "output_type": "stream",
     "text": [
      "                   all          8          8      0.995          1      0.995      0.802      0.961      0.875      0.879      0.769\n"
     ]
    },
    {
     "name": "stderr",
     "output_type": "stream",
     "text": [
      "\n"
     ]
    },
    {
     "name": "stdout",
     "output_type": "stream",
     "text": [
      "\n",
      "      Epoch    GPU_mem   box_loss   seg_loss   cls_loss   dfl_loss  Instances       Size\n"
     ]
    },
    {
     "name": "stderr",
     "output_type": "stream",
     "text": [
      "     81/100      1.61G     0.4205     0.4628     0.5559     0.8791         25        416: 100%|██████████| 2/2 [00:00<00:00,  2.50it/s]\n",
      "                 Class     Images  Instances      Box(P          R      mAP50  mAP50-95)     Mask(P          R      mAP50  mAP50-95): 100%|██████████| 1/1 [00:00<00:00,  7.30it/s]"
     ]
    },
    {
     "name": "stdout",
     "output_type": "stream",
     "text": [
      "                   all          8          8      0.995          1      0.995      0.802      0.961      0.875      0.879      0.769\n"
     ]
    },
    {
     "name": "stderr",
     "output_type": "stream",
     "text": [
      "\n"
     ]
    },
    {
     "name": "stdout",
     "output_type": "stream",
     "text": [
      "\n",
      "      Epoch    GPU_mem   box_loss   seg_loss   cls_loss   dfl_loss  Instances       Size\n"
     ]
    },
    {
     "name": "stderr",
     "output_type": "stream",
     "text": [
      "     82/100      1.61G     0.4546     0.7233     0.5911     0.8987         28        416: 100%|██████████| 2/2 [00:00<00:00,  2.40it/s]\n",
      "                 Class     Images  Instances      Box(P          R      mAP50  mAP50-95)     Mask(P          R      mAP50  mAP50-95): 100%|██████████| 1/1 [00:00<00:00,  7.26it/s]"
     ]
    },
    {
     "name": "stdout",
     "output_type": "stream",
     "text": [
      "                   all          8          8      0.995          1      0.995      0.801      0.959      0.875      0.875      0.769\n"
     ]
    },
    {
     "name": "stderr",
     "output_type": "stream",
     "text": [
      "\n"
     ]
    },
    {
     "name": "stdout",
     "output_type": "stream",
     "text": [
      "\n",
      "      Epoch    GPU_mem   box_loss   seg_loss   cls_loss   dfl_loss  Instances       Size\n"
     ]
    },
    {
     "name": "stderr",
     "output_type": "stream",
     "text": [
      "     83/100      1.61G      0.411     0.4622     0.5537     0.8606         29        416: 100%|██████████| 2/2 [00:00<00:00,  2.51it/s]\n",
      "                 Class     Images  Instances      Box(P          R      mAP50  mAP50-95)     Mask(P          R      mAP50  mAP50-95): 100%|██████████| 1/1 [00:00<00:00,  7.32it/s]"
     ]
    },
    {
     "name": "stdout",
     "output_type": "stream",
     "text": [
      "                   all          8          8      0.995          1      0.995      0.801      0.959      0.875      0.875      0.769\n"
     ]
    },
    {
     "name": "stderr",
     "output_type": "stream",
     "text": [
      "\n"
     ]
    },
    {
     "name": "stdout",
     "output_type": "stream",
     "text": [
      "\n",
      "      Epoch    GPU_mem   box_loss   seg_loss   cls_loss   dfl_loss  Instances       Size\n"
     ]
    },
    {
     "name": "stderr",
     "output_type": "stream",
     "text": [
      "     84/100      1.61G     0.4594     0.4359     0.5841     0.8848         27        416: 100%|██████████| 2/2 [00:00<00:00,  2.41it/s]\n",
      "                 Class     Images  Instances      Box(P          R      mAP50  mAP50-95)     Mask(P          R      mAP50  mAP50-95): 100%|██████████| 1/1 [00:00<00:00,  7.37it/s]"
     ]
    },
    {
     "name": "stdout",
     "output_type": "stream",
     "text": [
      "                   all          8          8      0.995          1      0.995      0.801      0.962      0.875      0.875      0.784\n"
     ]
    },
    {
     "name": "stderr",
     "output_type": "stream",
     "text": [
      "\n"
     ]
    },
    {
     "name": "stdout",
     "output_type": "stream",
     "text": [
      "\n",
      "      Epoch    GPU_mem   box_loss   seg_loss   cls_loss   dfl_loss  Instances       Size\n"
     ]
    },
    {
     "name": "stderr",
     "output_type": "stream",
     "text": [
      "     85/100      1.61G     0.4141     0.4474     0.5465     0.8745         29        416: 100%|██████████| 2/2 [00:00<00:00,  2.52it/s]\n",
      "                 Class     Images  Instances      Box(P          R      mAP50  mAP50-95)     Mask(P          R      mAP50  mAP50-95): 100%|██████████| 1/1 [00:00<00:00,  7.39it/s]"
     ]
    },
    {
     "name": "stdout",
     "output_type": "stream",
     "text": [
      "                   all          8          8      0.995          1      0.995      0.801      0.962      0.875      0.875      0.784\n"
     ]
    },
    {
     "name": "stderr",
     "output_type": "stream",
     "text": [
      "\n"
     ]
    },
    {
     "name": "stdout",
     "output_type": "stream",
     "text": [
      "\n",
      "      Epoch    GPU_mem   box_loss   seg_loss   cls_loss   dfl_loss  Instances       Size\n"
     ]
    },
    {
     "name": "stderr",
     "output_type": "stream",
     "text": [
      "     86/100      1.61G     0.4003     0.4392     0.5912     0.8731         20        416: 100%|██████████| 2/2 [00:00<00:00,  2.41it/s]\n",
      "                 Class     Images  Instances      Box(P          R      mAP50  mAP50-95)     Mask(P          R      mAP50  mAP50-95): 100%|██████████| 1/1 [00:00<00:00,  7.26it/s]"
     ]
    },
    {
     "name": "stdout",
     "output_type": "stream",
     "text": [
      "                   all          8          8      0.995          1      0.995      0.832      0.966      0.875      0.875      0.791\n"
     ]
    },
    {
     "name": "stderr",
     "output_type": "stream",
     "text": [
      "\n"
     ]
    },
    {
     "name": "stdout",
     "output_type": "stream",
     "text": [
      "\n",
      "      Epoch    GPU_mem   box_loss   seg_loss   cls_loss   dfl_loss  Instances       Size\n"
     ]
    },
    {
     "name": "stderr",
     "output_type": "stream",
     "text": [
      "     87/100      1.61G     0.3899     0.3513     0.5376     0.8862         29        416: 100%|██████████| 2/2 [00:00<00:00,  2.51it/s]\n",
      "                 Class     Images  Instances      Box(P          R      mAP50  mAP50-95)     Mask(P          R      mAP50  mAP50-95): 100%|██████████| 1/1 [00:00<00:00,  7.35it/s]"
     ]
    },
    {
     "name": "stdout",
     "output_type": "stream",
     "text": [
      "                   all          8          8      0.995          1      0.995      0.832      0.966      0.875      0.875      0.791\n"
     ]
    },
    {
     "name": "stderr",
     "output_type": "stream",
     "text": [
      "\n"
     ]
    },
    {
     "name": "stdout",
     "output_type": "stream",
     "text": [
      "\n",
      "      Epoch    GPU_mem   box_loss   seg_loss   cls_loss   dfl_loss  Instances       Size\n"
     ]
    },
    {
     "name": "stderr",
     "output_type": "stream",
     "text": [
      "     88/100      1.61G     0.4066     0.4048     0.5209     0.8526         25        416: 100%|██████████| 2/2 [00:00<00:00,  2.39it/s]\n",
      "                 Class     Images  Instances      Box(P          R      mAP50  mAP50-95)     Mask(P          R      mAP50  mAP50-95): 100%|██████████| 1/1 [00:00<00:00,  6.51it/s]"
     ]
    },
    {
     "name": "stdout",
     "output_type": "stream",
     "text": [
      "                   all          8          8      0.995          1      0.995      0.802      0.972      0.875      0.875      0.809\n"
     ]
    },
    {
     "name": "stderr",
     "output_type": "stream",
     "text": [
      "\n"
     ]
    },
    {
     "name": "stdout",
     "output_type": "stream",
     "text": [
      "\n",
      "      Epoch    GPU_mem   box_loss   seg_loss   cls_loss   dfl_loss  Instances       Size\n"
     ]
    },
    {
     "name": "stderr",
     "output_type": "stream",
     "text": [
      "     89/100      1.62G     0.3846     0.3732     0.5568     0.8667         24        416: 100%|██████████| 2/2 [00:00<00:00,  2.52it/s]\n",
      "                 Class     Images  Instances      Box(P          R      mAP50  mAP50-95)     Mask(P          R      mAP50  mAP50-95): 100%|██████████| 1/1 [00:00<00:00,  7.06it/s]"
     ]
    },
    {
     "name": "stdout",
     "output_type": "stream",
     "text": [
      "                   all          8          8      0.995          1      0.995      0.802      0.972      0.875      0.875      0.809\n"
     ]
    },
    {
     "name": "stderr",
     "output_type": "stream",
     "text": [
      "\n"
     ]
    },
    {
     "name": "stdout",
     "output_type": "stream",
     "text": [
      "\n",
      "      Epoch    GPU_mem   box_loss   seg_loss   cls_loss   dfl_loss  Instances       Size\n"
     ]
    },
    {
     "name": "stderr",
     "output_type": "stream",
     "text": [
      "     90/100      1.64G     0.3739      0.503     0.5797     0.8641         27        416: 100%|██████████| 2/2 [00:00<00:00,  2.38it/s]\n",
      "                 Class     Images  Instances      Box(P          R      mAP50  mAP50-95)     Mask(P          R      mAP50  mAP50-95): 100%|██████████| 1/1 [00:00<00:00,  7.20it/s]"
     ]
    },
    {
     "name": "stdout",
     "output_type": "stream",
     "text": [
      "                   all          8          8      0.995          1      0.995      0.801      0.971      0.875      0.875      0.798\n"
     ]
    },
    {
     "name": "stderr",
     "output_type": "stream",
     "text": [
      "\n"
     ]
    },
    {
     "name": "stdout",
     "output_type": "stream",
     "text": [
      "Closing dataloader mosaic\n",
      "\n",
      "      Epoch    GPU_mem   box_loss   seg_loss   cls_loss   dfl_loss  Instances       Size\n"
     ]
    },
    {
     "name": "stderr",
     "output_type": "stream",
     "text": [
      "     91/100      1.65G     0.3362     0.3584     0.6638     0.8251         13        416: 100%|██████████| 2/2 [00:03<00:00,  1.93s/it]\n",
      "                 Class     Images  Instances      Box(P          R      mAP50  mAP50-95)     Mask(P          R      mAP50  mAP50-95): 100%|██████████| 1/1 [00:00<00:00,  4.66it/s]"
     ]
    },
    {
     "name": "stdout",
     "output_type": "stream",
     "text": [
      "                   all          8          8      0.995          1      0.995      0.801      0.971      0.875      0.875      0.798\n"
     ]
    },
    {
     "name": "stderr",
     "output_type": "stream",
     "text": [
      "\n"
     ]
    },
    {
     "name": "stdout",
     "output_type": "stream",
     "text": [
      "\n",
      "      Epoch    GPU_mem   box_loss   seg_loss   cls_loss   dfl_loss  Instances       Size\n"
     ]
    },
    {
     "name": "stderr",
     "output_type": "stream",
     "text": [
      "     92/100      1.67G     0.3376     0.3493      0.647     0.7851         13        416: 100%|██████████| 2/2 [00:00<00:00,  2.28it/s]\n",
      "                 Class     Images  Instances      Box(P          R      mAP50  mAP50-95)     Mask(P          R      mAP50  mAP50-95): 100%|██████████| 1/1 [00:00<00:00,  7.10it/s]"
     ]
    },
    {
     "name": "stdout",
     "output_type": "stream",
     "text": [
      "                   all          8          8      0.972      0.875      0.923      0.812      0.972      0.875      0.879      0.781\n"
     ]
    },
    {
     "name": "stderr",
     "output_type": "stream",
     "text": [
      "\n"
     ]
    },
    {
     "name": "stdout",
     "output_type": "stream",
     "text": [
      "\n",
      "      Epoch    GPU_mem   box_loss   seg_loss   cls_loss   dfl_loss  Instances       Size\n"
     ]
    },
    {
     "name": "stderr",
     "output_type": "stream",
     "text": [
      "     93/100      1.68G     0.2851     0.3405     0.6164     0.8012         13        416: 100%|██████████| 2/2 [00:00<00:00,  2.53it/s]\n",
      "                 Class     Images  Instances      Box(P          R      mAP50  mAP50-95)     Mask(P          R      mAP50  mAP50-95): 100%|██████████| 1/1 [00:00<00:00,  7.25it/s]"
     ]
    },
    {
     "name": "stdout",
     "output_type": "stream",
     "text": [
      "                   all          8          8      0.972      0.875      0.923      0.812      0.972      0.875      0.879      0.781\n"
     ]
    },
    {
     "name": "stderr",
     "output_type": "stream",
     "text": [
      "\n"
     ]
    },
    {
     "name": "stdout",
     "output_type": "stream",
     "text": [
      "\n",
      "      Epoch    GPU_mem   box_loss   seg_loss   cls_loss   dfl_loss  Instances       Size\n"
     ]
    },
    {
     "name": "stderr",
     "output_type": "stream",
     "text": [
      "     94/100      1.71G     0.3298     0.3008      0.709     0.7486         13        416: 100%|██████████| 2/2 [00:00<00:00,  2.45it/s]\n",
      "                 Class     Images  Instances      Box(P          R      mAP50  mAP50-95)     Mask(P          R      mAP50  mAP50-95): 100%|██████████| 1/1 [00:00<00:00,  6.73it/s]"
     ]
    },
    {
     "name": "stdout",
     "output_type": "stream",
     "text": [
      "                   all          8          8      0.976      0.875      0.912      0.803      0.976      0.875       0.88      0.784\n"
     ]
    },
    {
     "name": "stderr",
     "output_type": "stream",
     "text": [
      "\n"
     ]
    },
    {
     "name": "stdout",
     "output_type": "stream",
     "text": [
      "\n",
      "      Epoch    GPU_mem   box_loss   seg_loss   cls_loss   dfl_loss  Instances       Size\n"
     ]
    },
    {
     "name": "stderr",
     "output_type": "stream",
     "text": [
      "     95/100      1.71G     0.2892     0.3487     0.5971     0.7444         13        416: 100%|██████████| 2/2 [00:00<00:00,  2.55it/s]\n",
      "                 Class     Images  Instances      Box(P          R      mAP50  mAP50-95)     Mask(P          R      mAP50  mAP50-95): 100%|██████████| 1/1 [00:00<00:00,  6.89it/s]"
     ]
    },
    {
     "name": "stdout",
     "output_type": "stream",
     "text": [
      "                   all          8          8      0.976      0.875      0.912      0.803      0.976      0.875       0.88      0.784\n"
     ]
    },
    {
     "name": "stderr",
     "output_type": "stream",
     "text": [
      "\n"
     ]
    },
    {
     "name": "stdout",
     "output_type": "stream",
     "text": [
      "\n",
      "      Epoch    GPU_mem   box_loss   seg_loss   cls_loss   dfl_loss  Instances       Size\n"
     ]
    },
    {
     "name": "stderr",
     "output_type": "stream",
     "text": [
      "     96/100      1.74G     0.2986     0.3371     0.6063     0.7544         13        416: 100%|██████████| 2/2 [00:00<00:00,  2.45it/s]\n",
      "                 Class     Images  Instances      Box(P          R      mAP50  mAP50-95)     Mask(P          R      mAP50  mAP50-95): 100%|██████████| 1/1 [00:00<00:00,  7.42it/s]"
     ]
    },
    {
     "name": "stdout",
     "output_type": "stream",
     "text": [
      "                   all          8          8       0.98      0.875      0.917      0.804       0.98      0.875      0.881      0.784\n"
     ]
    },
    {
     "name": "stderr",
     "output_type": "stream",
     "text": [
      "\n"
     ]
    },
    {
     "name": "stdout",
     "output_type": "stream",
     "text": [
      "\n",
      "      Epoch    GPU_mem   box_loss   seg_loss   cls_loss   dfl_loss  Instances       Size\n"
     ]
    },
    {
     "name": "stderr",
     "output_type": "stream",
     "text": [
      "     97/100      1.74G     0.2963     0.3312     0.6278     0.8149         13        416: 100%|██████████| 2/2 [00:00<00:00,  2.51it/s]\n",
      "                 Class     Images  Instances      Box(P          R      mAP50  mAP50-95)     Mask(P          R      mAP50  mAP50-95): 100%|██████████| 1/1 [00:00<00:00,  7.26it/s]"
     ]
    },
    {
     "name": "stdout",
     "output_type": "stream",
     "text": [
      "                   all          8          8       0.98      0.875      0.917      0.804       0.98      0.875      0.881      0.784\n"
     ]
    },
    {
     "name": "stderr",
     "output_type": "stream",
     "text": [
      "\n"
     ]
    },
    {
     "name": "stdout",
     "output_type": "stream",
     "text": [
      "\n",
      "      Epoch    GPU_mem   box_loss   seg_loss   cls_loss   dfl_loss  Instances       Size\n"
     ]
    },
    {
     "name": "stderr",
     "output_type": "stream",
     "text": [
      "     98/100      1.77G     0.2535     0.2955     0.5902       0.78         13        416: 100%|██████████| 2/2 [00:00<00:00,  2.45it/s]\n",
      "                 Class     Images  Instances      Box(P          R      mAP50  mAP50-95)     Mask(P          R      mAP50  mAP50-95): 100%|██████████| 1/1 [00:00<00:00,  7.27it/s]"
     ]
    },
    {
     "name": "stdout",
     "output_type": "stream",
     "text": [
      "                   all          8          8      0.997          1      0.995      0.824       0.98      0.875      0.917      0.788\n"
     ]
    },
    {
     "name": "stderr",
     "output_type": "stream",
     "text": [
      "\n"
     ]
    },
    {
     "name": "stdout",
     "output_type": "stream",
     "text": [
      "\n",
      "      Epoch    GPU_mem   box_loss   seg_loss   cls_loss   dfl_loss  Instances       Size\n"
     ]
    },
    {
     "name": "stderr",
     "output_type": "stream",
     "text": [
      "     99/100      1.78G      0.284     0.2969     0.5908     0.7533         13        416: 100%|██████████| 2/2 [00:00<00:00,  2.56it/s]\n",
      "                 Class     Images  Instances      Box(P          R      mAP50  mAP50-95)     Mask(P          R      mAP50  mAP50-95): 100%|██████████| 1/1 [00:00<00:00,  7.02it/s]"
     ]
    },
    {
     "name": "stdout",
     "output_type": "stream",
     "text": [
      "                   all          8          8      0.997          1      0.995      0.824       0.98      0.875      0.917      0.788\n"
     ]
    },
    {
     "name": "stderr",
     "output_type": "stream",
     "text": [
      "\n"
     ]
    },
    {
     "name": "stdout",
     "output_type": "stream",
     "text": [
      "\n",
      "      Epoch    GPU_mem   box_loss   seg_loss   cls_loss   dfl_loss  Instances       Size\n"
     ]
    },
    {
     "name": "stderr",
     "output_type": "stream",
     "text": [
      "    100/100       1.8G     0.2623     0.2967     0.5589     0.7943         13        416: 100%|██████████| 2/2 [00:00<00:00,  2.42it/s]\n",
      "                 Class     Images  Instances      Box(P          R      mAP50  mAP50-95)     Mask(P          R      mAP50  mAP50-95): 100%|██████████| 1/1 [00:00<00:00,  7.44it/s]"
     ]
    },
    {
     "name": "stdout",
     "output_type": "stream",
     "text": [
      "                   all          8          8      0.996          1      0.995      0.828       0.98      0.875      0.917      0.788\n"
     ]
    },
    {
     "name": "stderr",
     "output_type": "stream",
     "text": [
      "\n"
     ]
    },
    {
     "name": "stdout",
     "output_type": "stream",
     "text": [
      "\n",
      "100 epochs completed in 0.041 hours.\n",
      "Optimizer stripped from runs\\pupil-seg-113\\weights\\last.pt, 6.0MB\n",
      "Optimizer stripped from runs\\pupil-seg-113\\weights\\best.pt, 6.0MB\n",
      "\n",
      "Validating runs\\pupil-seg-113\\weights\\best.pt...\n",
      "Ultralytics 8.3.177  Python-3.11.9 torch-2.7.1+cu118 CUDA:0 (NVIDIA GeForce GTX 1050 Ti, 4096MiB)\n",
      "YOLO11n-seg summary (fused): 113 layers, 2,834,763 parameters, 0 gradients, 10.2 GFLOPs\n"
     ]
    },
    {
     "name": "stderr",
     "output_type": "stream",
     "text": [
      "                 Class     Images  Instances      Box(P          R      mAP50  mAP50-95)     Mask(P          R      mAP50  mAP50-95):   0%|          | 0/1 [00:00<?, ?it/s]"
     ]
    },
    {
     "name": "stdout",
     "output_type": "stream",
     "text": [
      "WARNING Limiting validation plots to first 50 items per image for speed...\n",
      "WARNING Limiting validation plots to first 50 items per image for speed...\n",
      "WARNING Limiting validation plots to first 50 items per image for speed...\n",
      "WARNING Limiting validation plots to first 50 items per image for speed...\n",
      "WARNING Limiting validation plots to first 50 items per image for speed...\n",
      "WARNING Limiting validation plots to first 50 items per image for speed...\n",
      "WARNING Limiting validation plots to first 50 items per image for speed...\n",
      "WARNING Limiting validation plots to first 50 items per image for speed...\n"
     ]
    },
    {
     "name": "stderr",
     "output_type": "stream",
     "text": [
      "                 Class     Images  Instances      Box(P          R      mAP50  mAP50-95)     Mask(P          R      mAP50  mAP50-95): 100%|██████████| 1/1 [00:00<00:00,  6.97it/s]\n"
     ]
    },
    {
     "name": "stdout",
     "output_type": "stream",
     "text": [
      "                   all          8          8      0.994          1      0.995      0.845      0.994          1      0.995      0.786\n",
      "Speed: 0.3ms preprocess, 6.3ms inference, 0.0ms loss, 3.7ms postprocess per image\n",
      "Results saved to \u001b[1mruns\\pupil-seg-113\u001b[0m\n"
     ]
    },
    {
     "data": {
      "text/plain": [
       "ultralytics.utils.metrics.SegmentMetrics object with attributes:\n",
       "\n",
       "ap_class_index: array([0])\n",
       "box: ultralytics.utils.metrics.Metric object\n",
       "confusion_matrix: <ultralytics.utils.metrics.ConfusionMatrix object at 0x0000016B02A06010>\n",
       "curves: ['Precision-Recall(B)', 'F1-Confidence(B)', 'Precision-Confidence(B)', 'Recall-Confidence(B)', 'Precision-Recall(M)', 'F1-Confidence(M)', 'Precision-Confidence(M)', 'Recall-Confidence(M)']\n",
       "curves_results: [[array([          0,    0.001001,    0.002002,    0.003003,    0.004004,    0.005005,    0.006006,    0.007007,    0.008008,    0.009009,     0.01001,    0.011011,    0.012012,    0.013013,    0.014014,    0.015015,    0.016016,    0.017017,    0.018018,    0.019019,     0.02002,    0.021021,    0.022022,    0.023023,\n",
       "          0.024024,    0.025025,    0.026026,    0.027027,    0.028028,    0.029029,     0.03003,    0.031031,    0.032032,    0.033033,    0.034034,    0.035035,    0.036036,    0.037037,    0.038038,    0.039039,     0.04004,    0.041041,    0.042042,    0.043043,    0.044044,    0.045045,    0.046046,    0.047047,\n",
       "          0.048048,    0.049049,     0.05005,    0.051051,    0.052052,    0.053053,    0.054054,    0.055055,    0.056056,    0.057057,    0.058058,    0.059059,     0.06006,    0.061061,    0.062062,    0.063063,    0.064064,    0.065065,    0.066066,    0.067067,    0.068068,    0.069069,     0.07007,    0.071071,\n",
       "          0.072072,    0.073073,    0.074074,    0.075075,    0.076076,    0.077077,    0.078078,    0.079079,     0.08008,    0.081081,    0.082082,    0.083083,    0.084084,    0.085085,    0.086086,    0.087087,    0.088088,    0.089089,     0.09009,    0.091091,    0.092092,    0.093093,    0.094094,    0.095095,\n",
       "          0.096096,    0.097097,    0.098098,    0.099099,      0.1001,      0.1011,      0.1021,      0.1031,      0.1041,     0.10511,     0.10611,     0.10711,     0.10811,     0.10911,     0.11011,     0.11111,     0.11211,     0.11311,     0.11411,     0.11512,     0.11612,     0.11712,     0.11812,     0.11912,\n",
       "           0.12012,     0.12112,     0.12212,     0.12312,     0.12412,     0.12513,     0.12613,     0.12713,     0.12813,     0.12913,     0.13013,     0.13113,     0.13213,     0.13313,     0.13413,     0.13514,     0.13614,     0.13714,     0.13814,     0.13914,     0.14014,     0.14114,     0.14214,     0.14314,\n",
       "           0.14414,     0.14515,     0.14615,     0.14715,     0.14815,     0.14915,     0.15015,     0.15115,     0.15215,     0.15315,     0.15415,     0.15516,     0.15616,     0.15716,     0.15816,     0.15916,     0.16016,     0.16116,     0.16216,     0.16316,     0.16416,     0.16517,     0.16617,     0.16717,\n",
       "           0.16817,     0.16917,     0.17017,     0.17117,     0.17217,     0.17317,     0.17417,     0.17518,     0.17618,     0.17718,     0.17818,     0.17918,     0.18018,     0.18118,     0.18218,     0.18318,     0.18418,     0.18519,     0.18619,     0.18719,     0.18819,     0.18919,     0.19019,     0.19119,\n",
       "           0.19219,     0.19319,     0.19419,      0.1952,      0.1962,      0.1972,      0.1982,      0.1992,      0.2002,      0.2012,      0.2022,      0.2032,      0.2042,     0.20521,     0.20621,     0.20721,     0.20821,     0.20921,     0.21021,     0.21121,     0.21221,     0.21321,     0.21421,     0.21522,\n",
       "           0.21622,     0.21722,     0.21822,     0.21922,     0.22022,     0.22122,     0.22222,     0.22322,     0.22422,     0.22523,     0.22623,     0.22723,     0.22823,     0.22923,     0.23023,     0.23123,     0.23223,     0.23323,     0.23423,     0.23524,     0.23624,     0.23724,     0.23824,     0.23924,\n",
       "           0.24024,     0.24124,     0.24224,     0.24324,     0.24424,     0.24525,     0.24625,     0.24725,     0.24825,     0.24925,     0.25025,     0.25125,     0.25225,     0.25325,     0.25425,     0.25526,     0.25626,     0.25726,     0.25826,     0.25926,     0.26026,     0.26126,     0.26226,     0.26326,\n",
       "           0.26426,     0.26527,     0.26627,     0.26727,     0.26827,     0.26927,     0.27027,     0.27127,     0.27227,     0.27327,     0.27427,     0.27528,     0.27628,     0.27728,     0.27828,     0.27928,     0.28028,     0.28128,     0.28228,     0.28328,     0.28428,     0.28529,     0.28629,     0.28729,\n",
       "           0.28829,     0.28929,     0.29029,     0.29129,     0.29229,     0.29329,     0.29429,      0.2953,      0.2963,      0.2973,      0.2983,      0.2993,      0.3003,      0.3013,      0.3023,      0.3033,      0.3043,     0.30531,     0.30631,     0.30731,     0.30831,     0.30931,     0.31031,     0.31131,\n",
       "           0.31231,     0.31331,     0.31431,     0.31532,     0.31632,     0.31732,     0.31832,     0.31932,     0.32032,     0.32132,     0.32232,     0.32332,     0.32432,     0.32533,     0.32633,     0.32733,     0.32833,     0.32933,     0.33033,     0.33133,     0.33233,     0.33333,     0.33433,     0.33534,\n",
       "           0.33634,     0.33734,     0.33834,     0.33934,     0.34034,     0.34134,     0.34234,     0.34334,     0.34434,     0.34535,     0.34635,     0.34735,     0.34835,     0.34935,     0.35035,     0.35135,     0.35235,     0.35335,     0.35435,     0.35536,     0.35636,     0.35736,     0.35836,     0.35936,\n",
       "           0.36036,     0.36136,     0.36236,     0.36336,     0.36436,     0.36537,     0.36637,     0.36737,     0.36837,     0.36937,     0.37037,     0.37137,     0.37237,     0.37337,     0.37437,     0.37538,     0.37638,     0.37738,     0.37838,     0.37938,     0.38038,     0.38138,     0.38238,     0.38338,\n",
       "           0.38438,     0.38539,     0.38639,     0.38739,     0.38839,     0.38939,     0.39039,     0.39139,     0.39239,     0.39339,     0.39439,      0.3954,      0.3964,      0.3974,      0.3984,      0.3994,      0.4004,      0.4014,      0.4024,      0.4034,      0.4044,     0.40541,     0.40641,     0.40741,\n",
       "           0.40841,     0.40941,     0.41041,     0.41141,     0.41241,     0.41341,     0.41441,     0.41542,     0.41642,     0.41742,     0.41842,     0.41942,     0.42042,     0.42142,     0.42242,     0.42342,     0.42442,     0.42543,     0.42643,     0.42743,     0.42843,     0.42943,     0.43043,     0.43143,\n",
       "           0.43243,     0.43343,     0.43443,     0.43544,     0.43644,     0.43744,     0.43844,     0.43944,     0.44044,     0.44144,     0.44244,     0.44344,     0.44444,     0.44545,     0.44645,     0.44745,     0.44845,     0.44945,     0.45045,     0.45145,     0.45245,     0.45345,     0.45445,     0.45546,\n",
       "           0.45646,     0.45746,     0.45846,     0.45946,     0.46046,     0.46146,     0.46246,     0.46346,     0.46446,     0.46547,     0.46647,     0.46747,     0.46847,     0.46947,     0.47047,     0.47147,     0.47247,     0.47347,     0.47447,     0.47548,     0.47648,     0.47748,     0.47848,     0.47948,\n",
       "           0.48048,     0.48148,     0.48248,     0.48348,     0.48448,     0.48549,     0.48649,     0.48749,     0.48849,     0.48949,     0.49049,     0.49149,     0.49249,     0.49349,     0.49449,      0.4955,      0.4965,      0.4975,      0.4985,      0.4995,      0.5005,      0.5015,      0.5025,      0.5035,\n",
       "            0.5045,     0.50551,     0.50651,     0.50751,     0.50851,     0.50951,     0.51051,     0.51151,     0.51251,     0.51351,     0.51451,     0.51552,     0.51652,     0.51752,     0.51852,     0.51952,     0.52052,     0.52152,     0.52252,     0.52352,     0.52452,     0.52553,     0.52653,     0.52753,\n",
       "           0.52853,     0.52953,     0.53053,     0.53153,     0.53253,     0.53353,     0.53453,     0.53554,     0.53654,     0.53754,     0.53854,     0.53954,     0.54054,     0.54154,     0.54254,     0.54354,     0.54454,     0.54555,     0.54655,     0.54755,     0.54855,     0.54955,     0.55055,     0.55155,\n",
       "           0.55255,     0.55355,     0.55455,     0.55556,     0.55656,     0.55756,     0.55856,     0.55956,     0.56056,     0.56156,     0.56256,     0.56356,     0.56456,     0.56557,     0.56657,     0.56757,     0.56857,     0.56957,     0.57057,     0.57157,     0.57257,     0.57357,     0.57457,     0.57558,\n",
       "           0.57658,     0.57758,     0.57858,     0.57958,     0.58058,     0.58158,     0.58258,     0.58358,     0.58458,     0.58559,     0.58659,     0.58759,     0.58859,     0.58959,     0.59059,     0.59159,     0.59259,     0.59359,     0.59459,      0.5956,      0.5966,      0.5976,      0.5986,      0.5996,\n",
       "            0.6006,      0.6016,      0.6026,      0.6036,      0.6046,     0.60561,     0.60661,     0.60761,     0.60861,     0.60961,     0.61061,     0.61161,     0.61261,     0.61361,     0.61461,     0.61562,     0.61662,     0.61762,     0.61862,     0.61962,     0.62062,     0.62162,     0.62262,     0.62362,\n",
       "           0.62462,     0.62563,     0.62663,     0.62763,     0.62863,     0.62963,     0.63063,     0.63163,     0.63263,     0.63363,     0.63463,     0.63564,     0.63664,     0.63764,     0.63864,     0.63964,     0.64064,     0.64164,     0.64264,     0.64364,     0.64464,     0.64565,     0.64665,     0.64765,\n",
       "           0.64865,     0.64965,     0.65065,     0.65165,     0.65265,     0.65365,     0.65465,     0.65566,     0.65666,     0.65766,     0.65866,     0.65966,     0.66066,     0.66166,     0.66266,     0.66366,     0.66466,     0.66567,     0.66667,     0.66767,     0.66867,     0.66967,     0.67067,     0.67167,\n",
       "           0.67267,     0.67367,     0.67467,     0.67568,     0.67668,     0.67768,     0.67868,     0.67968,     0.68068,     0.68168,     0.68268,     0.68368,     0.68468,     0.68569,     0.68669,     0.68769,     0.68869,     0.68969,     0.69069,     0.69169,     0.69269,     0.69369,     0.69469,      0.6957,\n",
       "            0.6967,      0.6977,      0.6987,      0.6997,      0.7007,      0.7017,      0.7027,      0.7037,      0.7047,     0.70571,     0.70671,     0.70771,     0.70871,     0.70971,     0.71071,     0.71171,     0.71271,     0.71371,     0.71471,     0.71572,     0.71672,     0.71772,     0.71872,     0.71972,\n",
       "           0.72072,     0.72172,     0.72272,     0.72372,     0.72472,     0.72573,     0.72673,     0.72773,     0.72873,     0.72973,     0.73073,     0.73173,     0.73273,     0.73373,     0.73473,     0.73574,     0.73674,     0.73774,     0.73874,     0.73974,     0.74074,     0.74174,     0.74274,     0.74374,\n",
       "           0.74474,     0.74575,     0.74675,     0.74775,     0.74875,     0.74975,     0.75075,     0.75175,     0.75275,     0.75375,     0.75475,     0.75576,     0.75676,     0.75776,     0.75876,     0.75976,     0.76076,     0.76176,     0.76276,     0.76376,     0.76476,     0.76577,     0.76677,     0.76777,\n",
       "           0.76877,     0.76977,     0.77077,     0.77177,     0.77277,     0.77377,     0.77477,     0.77578,     0.77678,     0.77778,     0.77878,     0.77978,     0.78078,     0.78178,     0.78278,     0.78378,     0.78478,     0.78579,     0.78679,     0.78779,     0.78879,     0.78979,     0.79079,     0.79179,\n",
       "           0.79279,     0.79379,     0.79479,      0.7958,      0.7968,      0.7978,      0.7988,      0.7998,      0.8008,      0.8018,      0.8028,      0.8038,      0.8048,     0.80581,     0.80681,     0.80781,     0.80881,     0.80981,     0.81081,     0.81181,     0.81281,     0.81381,     0.81481,     0.81582,\n",
       "           0.81682,     0.81782,     0.81882,     0.81982,     0.82082,     0.82182,     0.82282,     0.82382,     0.82482,     0.82583,     0.82683,     0.82783,     0.82883,     0.82983,     0.83083,     0.83183,     0.83283,     0.83383,     0.83483,     0.83584,     0.83684,     0.83784,     0.83884,     0.83984,\n",
       "           0.84084,     0.84184,     0.84284,     0.84384,     0.84484,     0.84585,     0.84685,     0.84785,     0.84885,     0.84985,     0.85085,     0.85185,     0.85285,     0.85385,     0.85485,     0.85586,     0.85686,     0.85786,     0.85886,     0.85986,     0.86086,     0.86186,     0.86286,     0.86386,\n",
       "           0.86486,     0.86587,     0.86687,     0.86787,     0.86887,     0.86987,     0.87087,     0.87187,     0.87287,     0.87387,     0.87487,     0.87588,     0.87688,     0.87788,     0.87888,     0.87988,     0.88088,     0.88188,     0.88288,     0.88388,     0.88488,     0.88589,     0.88689,     0.88789,\n",
       "           0.88889,     0.88989,     0.89089,     0.89189,     0.89289,     0.89389,     0.89489,      0.8959,      0.8969,      0.8979,      0.8989,      0.8999,      0.9009,      0.9019,      0.9029,      0.9039,      0.9049,     0.90591,     0.90691,     0.90791,     0.90891,     0.90991,     0.91091,     0.91191,\n",
       "           0.91291,     0.91391,     0.91491,     0.91592,     0.91692,     0.91792,     0.91892,     0.91992,     0.92092,     0.92192,     0.92292,     0.92392,     0.92492,     0.92593,     0.92693,     0.92793,     0.92893,     0.92993,     0.93093,     0.93193,     0.93293,     0.93393,     0.93493,     0.93594,\n",
       "           0.93694,     0.93794,     0.93894,     0.93994,     0.94094,     0.94194,     0.94294,     0.94394,     0.94494,     0.94595,     0.94695,     0.94795,     0.94895,     0.94995,     0.95095,     0.95195,     0.95295,     0.95395,     0.95495,     0.95596,     0.95696,     0.95796,     0.95896,     0.95996,\n",
       "           0.96096,     0.96196,     0.96296,     0.96396,     0.96496,     0.96597,     0.96697,     0.96797,     0.96897,     0.96997,     0.97097,     0.97197,     0.97297,     0.97397,     0.97497,     0.97598,     0.97698,     0.97798,     0.97898,     0.97998,     0.98098,     0.98198,     0.98298,     0.98398,\n",
       "           0.98498,     0.98599,     0.98699,     0.98799,     0.98899,     0.98999,     0.99099,     0.99199,     0.99299,     0.99399,     0.99499,       0.996,       0.997,       0.998,       0.999,           1]), array([[          1,           1,           1,           1,           1,           1,           1,           1,           1,           1,           1,           1,           1,           1,           1,           1,           1,           1,           1,           1,           1,           1,           1,\n",
       "                  1,           1,           1,           1,           1,           1,           1,           1,           1,           1,           1,           1,           1,           1,           1,           1,           1,           1,           1,           1,           1,           1,           1,\n",
       "                  1,           1,           1,           1,           1,           1,           1,           1,           1,           1,           1,           1,           1,           1,           1,           1,           1,           1,           1,           1,           1,           1,           1,\n",
       "                  1,           1,           1,           1,           1,           1,           1,           1,           1,           1,           1,           1,           1,           1,           1,           1,           1,           1,           1,           1,           1,           1,           1,\n",
       "                  1,           1,           1,           1,           1,           1,           1,           1,           1,           1,           1,           1,           1,           1,           1,           1,           1,           1,           1,           1,           1,           1,           1,\n",
       "                  1,           1,           1,           1,           1,           1,           1,           1,           1,           1,           1,           1,           1,           1,           1,           1,           1,           1,           1,           1,           1,           1,           1,\n",
       "                  1,           1,           1,           1,           1,           1,           1,           1,           1,           1,           1,           1,           1,           1,           1,           1,           1,           1,           1,           1,           1,           1,           1,\n",
       "                  1,           1,           1,           1,           1,           1,           1,           1,           1,           1,           1,           1,           1,           1,           1,           1,           1,           1,           1,           1,           1,           1,           1,\n",
       "                  1,           1,           1,           1,           1,           1,           1,           1,           1,           1,           1,           1,           1,           1,           1,           1,           1,           1,           1,           1,           1,           1,           1,\n",
       "                  1,           1,           1,           1,           1,           1,           1,           1,           1,           1,           1,           1,           1,           1,           1,           1,           1,           1,           1,           1,           1,           1,           1,\n",
       "                  1,           1,           1,           1,           1,           1,           1,           1,           1,           1,           1,           1,           1,           1,           1,           1,           1,           1,           1,           1,           1,           1,           1,\n",
       "                  1,           1,           1,           1,           1,           1,           1,           1,           1,           1,           1,           1,           1,           1,           1,           1,           1,           1,           1,           1,           1,           1,           1,\n",
       "                  1,           1,           1,           1,           1,           1,           1,           1,           1,           1,           1,           1,           1,           1,           1,           1,           1,           1,           1,           1,           1,           1,           1,\n",
       "                  1,           1,           1,           1,           1,           1,           1,           1,           1,           1,           1,           1,           1,           1,           1,           1,           1,           1,           1,           1,           1,           1,           1,\n",
       "                  1,           1,           1,           1,           1,           1,           1,           1,           1,           1,           1,           1,           1,           1,           1,           1,           1,           1,           1,           1,           1,           1,           1,\n",
       "                  1,           1,           1,           1,           1,           1,           1,           1,           1,           1,           1,           1,           1,           1,           1,           1,           1,           1,           1,           1,           1,           1,           1,\n",
       "                  1,           1,           1,           1,           1,           1,           1,           1,           1,           1,           1,           1,           1,           1,           1,           1,           1,           1,           1,           1,           1,           1,           1,\n",
       "                  1,           1,           1,           1,           1,           1,           1,           1,           1,           1,           1,           1,           1,           1,           1,           1,           1,           1,           1,           1,           1,           1,           1,\n",
       "                  1,           1,           1,           1,           1,           1,           1,           1,           1,           1,           1,           1,           1,           1,           1,           1,           1,           1,           1,           1,           1,           1,           1,\n",
       "                  1,           1,           1,           1,           1,           1,           1,           1,           1,           1,           1,           1,           1,           1,           1,           1,           1,           1,           1,           1,           1,           1,           1,\n",
       "                  1,           1,           1,           1,           1,           1,           1,           1,           1,           1,           1,           1,           1,           1,           1,           1,           1,           1,           1,           1,           1,           1,           1,\n",
       "                  1,           1,           1,           1,           1,           1,           1,           1,           1,           1,           1,           1,           1,           1,           1,           1,           1,           1,           1,           1,           1,           1,           1,\n",
       "                  1,           1,           1,           1,           1,           1,           1,           1,           1,           1,           1,           1,           1,           1,           1,           1,           1,           1,           1,           1,           1,           1,           1,\n",
       "                  1,           1,           1,           1,           1,           1,           1,           1,           1,           1,           1,           1,           1,           1,           1,           1,           1,           1,           1,           1,           1,           1,           1,\n",
       "                  1,           1,           1,           1,           1,           1,           1,           1,           1,           1,           1,           1,           1,           1,           1,           1,           1,           1,           1,           1,           1,           1,           1,\n",
       "                  1,           1,           1,           1,           1,           1,           1,           1,           1,           1,           1,           1,           1,           1,           1,           1,           1,           1,           1,           1,           1,           1,           1,\n",
       "                  1,           1,           1,           1,           1,           1,           1,           1,           1,           1,           1,           1,           1,           1,           1,           1,           1,           1,           1,           1,           1,           1,           1,\n",
       "                  1,           1,           1,           1,           1,           1,           1,           1,           1,           1,           1,           1,           1,           1,           1,           1,           1,           1,           1,           1,           1,           1,           1,\n",
       "                  1,           1,           1,           1,           1,           1,           1,           1,           1,           1,           1,           1,           1,           1,           1,           1,           1,           1,           1,           1,           1,           1,           1,\n",
       "                  1,           1,           1,           1,           1,           1,           1,           1,           1,           1,           1,           1,           1,           1,           1,           1,           1,           1,           1,           1,           1,           1,           1,\n",
       "                  1,           1,           1,           1,           1,           1,           1,           1,           1,           1,           1,           1,           1,           1,           1,           1,           1,           1,           1,           1,           1,           1,           1,\n",
       "                  1,           1,           1,           1,           1,           1,           1,           1,           1,           1,           1,           1,           1,           1,           1,           1,           1,           1,           1,           1,           1,           1,           1,\n",
       "                  1,           1,           1,           1,           1,           1,           1,           1,           1,           1,           1,           1,           1,           1,           1,           1,           1,           1,           1,           1,           1,           1,           1,\n",
       "                  1,           1,           1,           1,           1,           1,           1,           1,           1,           1,           1,           1,           1,           1,           1,           1,           1,           1,           1,           1,           1,           1,           1,\n",
       "                  1,           1,           1,           1,           1,           1,           1,           1,           1,           1,           1,           1,           1,           1,           1,           1,           1,           1,           1,           1,           1,           1,           1,\n",
       "                  1,           1,           1,           1,           1,           1,           1,           1,           1,           1,           1,           1,           1,           1,           1,           1,           1,           1,           1,           1,           1,           1,           1,\n",
       "                  1,           1,           1,           1,           1,           1,           1,           1,           1,           1,           1,           1,           1,           1,           1,           1,           1,           1,           1,           1,           1,           1,           1,\n",
       "                  1,           1,           1,           1,           1,           1,           1,           1,           1,           1,           1,           1,           1,           1,           1,           1,           1,           1,           1,           1,           1,           1,           1,\n",
       "                  1,           1,           1,           1,           1,           1,           1,           1,           1,           1,           1,           1,           1,           1,           1,           1,           1,           1,           1,           1,           1,           1,           1,\n",
       "                  1,           1,           1,           1,           1,           1,           1,           1,           1,           1,           1,           1,           1,           1,           1,           1,           1,           1,           1,           1,           1,           1,           1,\n",
       "                  1,           1,           1,           1,           1,           1,           1,           1,           1,           1,           1,           1,           1,           1,           1,           1,           1,           1,           1,           1,           1,           1,           1,\n",
       "                  1,           1,           1,           1,           1,           1,           1,           1,           1,           1,           1,           1,           1,           1,           1,           1,           1,           1,           1,           1,           1,           1,           1,\n",
       "                  1,           1,           1,           1,           1,           1,           1,           1,           1,           1,           1,           1,           1,           1,           1,           1,           1,           1,           1,           1,           1,           1,           1,\n",
       "                  1,           1,           1,           1,           1,           1,           1,           1,           1,           1,           0]]), 'Recall', 'Precision'], [array([          0,    0.001001,    0.002002,    0.003003,    0.004004,    0.005005,    0.006006,    0.007007,    0.008008,    0.009009,     0.01001,    0.011011,    0.012012,    0.013013,    0.014014,    0.015015,    0.016016,    0.017017,    0.018018,    0.019019,     0.02002,    0.021021,    0.022022,    0.023023,\n",
       "          0.024024,    0.025025,    0.026026,    0.027027,    0.028028,    0.029029,     0.03003,    0.031031,    0.032032,    0.033033,    0.034034,    0.035035,    0.036036,    0.037037,    0.038038,    0.039039,     0.04004,    0.041041,    0.042042,    0.043043,    0.044044,    0.045045,    0.046046,    0.047047,\n",
       "          0.048048,    0.049049,     0.05005,    0.051051,    0.052052,    0.053053,    0.054054,    0.055055,    0.056056,    0.057057,    0.058058,    0.059059,     0.06006,    0.061061,    0.062062,    0.063063,    0.064064,    0.065065,    0.066066,    0.067067,    0.068068,    0.069069,     0.07007,    0.071071,\n",
       "          0.072072,    0.073073,    0.074074,    0.075075,    0.076076,    0.077077,    0.078078,    0.079079,     0.08008,    0.081081,    0.082082,    0.083083,    0.084084,    0.085085,    0.086086,    0.087087,    0.088088,    0.089089,     0.09009,    0.091091,    0.092092,    0.093093,    0.094094,    0.095095,\n",
       "          0.096096,    0.097097,    0.098098,    0.099099,      0.1001,      0.1011,      0.1021,      0.1031,      0.1041,     0.10511,     0.10611,     0.10711,     0.10811,     0.10911,     0.11011,     0.11111,     0.11211,     0.11311,     0.11411,     0.11512,     0.11612,     0.11712,     0.11812,     0.11912,\n",
       "           0.12012,     0.12112,     0.12212,     0.12312,     0.12412,     0.12513,     0.12613,     0.12713,     0.12813,     0.12913,     0.13013,     0.13113,     0.13213,     0.13313,     0.13413,     0.13514,     0.13614,     0.13714,     0.13814,     0.13914,     0.14014,     0.14114,     0.14214,     0.14314,\n",
       "           0.14414,     0.14515,     0.14615,     0.14715,     0.14815,     0.14915,     0.15015,     0.15115,     0.15215,     0.15315,     0.15415,     0.15516,     0.15616,     0.15716,     0.15816,     0.15916,     0.16016,     0.16116,     0.16216,     0.16316,     0.16416,     0.16517,     0.16617,     0.16717,\n",
       "           0.16817,     0.16917,     0.17017,     0.17117,     0.17217,     0.17317,     0.17417,     0.17518,     0.17618,     0.17718,     0.17818,     0.17918,     0.18018,     0.18118,     0.18218,     0.18318,     0.18418,     0.18519,     0.18619,     0.18719,     0.18819,     0.18919,     0.19019,     0.19119,\n",
       "           0.19219,     0.19319,     0.19419,      0.1952,      0.1962,      0.1972,      0.1982,      0.1992,      0.2002,      0.2012,      0.2022,      0.2032,      0.2042,     0.20521,     0.20621,     0.20721,     0.20821,     0.20921,     0.21021,     0.21121,     0.21221,     0.21321,     0.21421,     0.21522,\n",
       "           0.21622,     0.21722,     0.21822,     0.21922,     0.22022,     0.22122,     0.22222,     0.22322,     0.22422,     0.22523,     0.22623,     0.22723,     0.22823,     0.22923,     0.23023,     0.23123,     0.23223,     0.23323,     0.23423,     0.23524,     0.23624,     0.23724,     0.23824,     0.23924,\n",
       "           0.24024,     0.24124,     0.24224,     0.24324,     0.24424,     0.24525,     0.24625,     0.24725,     0.24825,     0.24925,     0.25025,     0.25125,     0.25225,     0.25325,     0.25425,     0.25526,     0.25626,     0.25726,     0.25826,     0.25926,     0.26026,     0.26126,     0.26226,     0.26326,\n",
       "           0.26426,     0.26527,     0.26627,     0.26727,     0.26827,     0.26927,     0.27027,     0.27127,     0.27227,     0.27327,     0.27427,     0.27528,     0.27628,     0.27728,     0.27828,     0.27928,     0.28028,     0.28128,     0.28228,     0.28328,     0.28428,     0.28529,     0.28629,     0.28729,\n",
       "           0.28829,     0.28929,     0.29029,     0.29129,     0.29229,     0.29329,     0.29429,      0.2953,      0.2963,      0.2973,      0.2983,      0.2993,      0.3003,      0.3013,      0.3023,      0.3033,      0.3043,     0.30531,     0.30631,     0.30731,     0.30831,     0.30931,     0.31031,     0.31131,\n",
       "           0.31231,     0.31331,     0.31431,     0.31532,     0.31632,     0.31732,     0.31832,     0.31932,     0.32032,     0.32132,     0.32232,     0.32332,     0.32432,     0.32533,     0.32633,     0.32733,     0.32833,     0.32933,     0.33033,     0.33133,     0.33233,     0.33333,     0.33433,     0.33534,\n",
       "           0.33634,     0.33734,     0.33834,     0.33934,     0.34034,     0.34134,     0.34234,     0.34334,     0.34434,     0.34535,     0.34635,     0.34735,     0.34835,     0.34935,     0.35035,     0.35135,     0.35235,     0.35335,     0.35435,     0.35536,     0.35636,     0.35736,     0.35836,     0.35936,\n",
       "           0.36036,     0.36136,     0.36236,     0.36336,     0.36436,     0.36537,     0.36637,     0.36737,     0.36837,     0.36937,     0.37037,     0.37137,     0.37237,     0.37337,     0.37437,     0.37538,     0.37638,     0.37738,     0.37838,     0.37938,     0.38038,     0.38138,     0.38238,     0.38338,\n",
       "           0.38438,     0.38539,     0.38639,     0.38739,     0.38839,     0.38939,     0.39039,     0.39139,     0.39239,     0.39339,     0.39439,      0.3954,      0.3964,      0.3974,      0.3984,      0.3994,      0.4004,      0.4014,      0.4024,      0.4034,      0.4044,     0.40541,     0.40641,     0.40741,\n",
       "           0.40841,     0.40941,     0.41041,     0.41141,     0.41241,     0.41341,     0.41441,     0.41542,     0.41642,     0.41742,     0.41842,     0.41942,     0.42042,     0.42142,     0.42242,     0.42342,     0.42442,     0.42543,     0.42643,     0.42743,     0.42843,     0.42943,     0.43043,     0.43143,\n",
       "           0.43243,     0.43343,     0.43443,     0.43544,     0.43644,     0.43744,     0.43844,     0.43944,     0.44044,     0.44144,     0.44244,     0.44344,     0.44444,     0.44545,     0.44645,     0.44745,     0.44845,     0.44945,     0.45045,     0.45145,     0.45245,     0.45345,     0.45445,     0.45546,\n",
       "           0.45646,     0.45746,     0.45846,     0.45946,     0.46046,     0.46146,     0.46246,     0.46346,     0.46446,     0.46547,     0.46647,     0.46747,     0.46847,     0.46947,     0.47047,     0.47147,     0.47247,     0.47347,     0.47447,     0.47548,     0.47648,     0.47748,     0.47848,     0.47948,\n",
       "           0.48048,     0.48148,     0.48248,     0.48348,     0.48448,     0.48549,     0.48649,     0.48749,     0.48849,     0.48949,     0.49049,     0.49149,     0.49249,     0.49349,     0.49449,      0.4955,      0.4965,      0.4975,      0.4985,      0.4995,      0.5005,      0.5015,      0.5025,      0.5035,\n",
       "            0.5045,     0.50551,     0.50651,     0.50751,     0.50851,     0.50951,     0.51051,     0.51151,     0.51251,     0.51351,     0.51451,     0.51552,     0.51652,     0.51752,     0.51852,     0.51952,     0.52052,     0.52152,     0.52252,     0.52352,     0.52452,     0.52553,     0.52653,     0.52753,\n",
       "           0.52853,     0.52953,     0.53053,     0.53153,     0.53253,     0.53353,     0.53453,     0.53554,     0.53654,     0.53754,     0.53854,     0.53954,     0.54054,     0.54154,     0.54254,     0.54354,     0.54454,     0.54555,     0.54655,     0.54755,     0.54855,     0.54955,     0.55055,     0.55155,\n",
       "           0.55255,     0.55355,     0.55455,     0.55556,     0.55656,     0.55756,     0.55856,     0.55956,     0.56056,     0.56156,     0.56256,     0.56356,     0.56456,     0.56557,     0.56657,     0.56757,     0.56857,     0.56957,     0.57057,     0.57157,     0.57257,     0.57357,     0.57457,     0.57558,\n",
       "           0.57658,     0.57758,     0.57858,     0.57958,     0.58058,     0.58158,     0.58258,     0.58358,     0.58458,     0.58559,     0.58659,     0.58759,     0.58859,     0.58959,     0.59059,     0.59159,     0.59259,     0.59359,     0.59459,      0.5956,      0.5966,      0.5976,      0.5986,      0.5996,\n",
       "            0.6006,      0.6016,      0.6026,      0.6036,      0.6046,     0.60561,     0.60661,     0.60761,     0.60861,     0.60961,     0.61061,     0.61161,     0.61261,     0.61361,     0.61461,     0.61562,     0.61662,     0.61762,     0.61862,     0.61962,     0.62062,     0.62162,     0.62262,     0.62362,\n",
       "           0.62462,     0.62563,     0.62663,     0.62763,     0.62863,     0.62963,     0.63063,     0.63163,     0.63263,     0.63363,     0.63463,     0.63564,     0.63664,     0.63764,     0.63864,     0.63964,     0.64064,     0.64164,     0.64264,     0.64364,     0.64464,     0.64565,     0.64665,     0.64765,\n",
       "           0.64865,     0.64965,     0.65065,     0.65165,     0.65265,     0.65365,     0.65465,     0.65566,     0.65666,     0.65766,     0.65866,     0.65966,     0.66066,     0.66166,     0.66266,     0.66366,     0.66466,     0.66567,     0.66667,     0.66767,     0.66867,     0.66967,     0.67067,     0.67167,\n",
       "           0.67267,     0.67367,     0.67467,     0.67568,     0.67668,     0.67768,     0.67868,     0.67968,     0.68068,     0.68168,     0.68268,     0.68368,     0.68468,     0.68569,     0.68669,     0.68769,     0.68869,     0.68969,     0.69069,     0.69169,     0.69269,     0.69369,     0.69469,      0.6957,\n",
       "            0.6967,      0.6977,      0.6987,      0.6997,      0.7007,      0.7017,      0.7027,      0.7037,      0.7047,     0.70571,     0.70671,     0.70771,     0.70871,     0.70971,     0.71071,     0.71171,     0.71271,     0.71371,     0.71471,     0.71572,     0.71672,     0.71772,     0.71872,     0.71972,\n",
       "           0.72072,     0.72172,     0.72272,     0.72372,     0.72472,     0.72573,     0.72673,     0.72773,     0.72873,     0.72973,     0.73073,     0.73173,     0.73273,     0.73373,     0.73473,     0.73574,     0.73674,     0.73774,     0.73874,     0.73974,     0.74074,     0.74174,     0.74274,     0.74374,\n",
       "           0.74474,     0.74575,     0.74675,     0.74775,     0.74875,     0.74975,     0.75075,     0.75175,     0.75275,     0.75375,     0.75475,     0.75576,     0.75676,     0.75776,     0.75876,     0.75976,     0.76076,     0.76176,     0.76276,     0.76376,     0.76476,     0.76577,     0.76677,     0.76777,\n",
       "           0.76877,     0.76977,     0.77077,     0.77177,     0.77277,     0.77377,     0.77477,     0.77578,     0.77678,     0.77778,     0.77878,     0.77978,     0.78078,     0.78178,     0.78278,     0.78378,     0.78478,     0.78579,     0.78679,     0.78779,     0.78879,     0.78979,     0.79079,     0.79179,\n",
       "           0.79279,     0.79379,     0.79479,      0.7958,      0.7968,      0.7978,      0.7988,      0.7998,      0.8008,      0.8018,      0.8028,      0.8038,      0.8048,     0.80581,     0.80681,     0.80781,     0.80881,     0.80981,     0.81081,     0.81181,     0.81281,     0.81381,     0.81481,     0.81582,\n",
       "           0.81682,     0.81782,     0.81882,     0.81982,     0.82082,     0.82182,     0.82282,     0.82382,     0.82482,     0.82583,     0.82683,     0.82783,     0.82883,     0.82983,     0.83083,     0.83183,     0.83283,     0.83383,     0.83483,     0.83584,     0.83684,     0.83784,     0.83884,     0.83984,\n",
       "           0.84084,     0.84184,     0.84284,     0.84384,     0.84484,     0.84585,     0.84685,     0.84785,     0.84885,     0.84985,     0.85085,     0.85185,     0.85285,     0.85385,     0.85485,     0.85586,     0.85686,     0.85786,     0.85886,     0.85986,     0.86086,     0.86186,     0.86286,     0.86386,\n",
       "           0.86486,     0.86587,     0.86687,     0.86787,     0.86887,     0.86987,     0.87087,     0.87187,     0.87287,     0.87387,     0.87487,     0.87588,     0.87688,     0.87788,     0.87888,     0.87988,     0.88088,     0.88188,     0.88288,     0.88388,     0.88488,     0.88589,     0.88689,     0.88789,\n",
       "           0.88889,     0.88989,     0.89089,     0.89189,     0.89289,     0.89389,     0.89489,      0.8959,      0.8969,      0.8979,      0.8989,      0.8999,      0.9009,      0.9019,      0.9029,      0.9039,      0.9049,     0.90591,     0.90691,     0.90791,     0.90891,     0.90991,     0.91091,     0.91191,\n",
       "           0.91291,     0.91391,     0.91491,     0.91592,     0.91692,     0.91792,     0.91892,     0.91992,     0.92092,     0.92192,     0.92292,     0.92392,     0.92492,     0.92593,     0.92693,     0.92793,     0.92893,     0.92993,     0.93093,     0.93193,     0.93293,     0.93393,     0.93493,     0.93594,\n",
       "           0.93694,     0.93794,     0.93894,     0.93994,     0.94094,     0.94194,     0.94294,     0.94394,     0.94494,     0.94595,     0.94695,     0.94795,     0.94895,     0.94995,     0.95095,     0.95195,     0.95295,     0.95395,     0.95495,     0.95596,     0.95696,     0.95796,     0.95896,     0.95996,\n",
       "           0.96096,     0.96196,     0.96296,     0.96396,     0.96496,     0.96597,     0.96697,     0.96797,     0.96897,     0.96997,     0.97097,     0.97197,     0.97297,     0.97397,     0.97497,     0.97598,     0.97698,     0.97798,     0.97898,     0.97998,     0.98098,     0.98198,     0.98298,     0.98398,\n",
       "           0.98498,     0.98599,     0.98699,     0.98799,     0.98899,     0.98999,     0.99099,     0.99199,     0.99299,     0.99399,     0.99499,       0.996,       0.997,       0.998,       0.999,           1]), array([[  0.0066445,   0.0066445,   0.0066445,     0.01357,    0.018495,    0.020582,    0.022024,     0.02342,    0.025855,    0.031854,    0.041132,    0.060962,    0.092525,     0.12845,     0.17227,     0.21623,     0.25384,      0.3061,     0.31868,      0.3819,     0.45976,     0.55666,     0.60217,\n",
       "            0.62296,     0.63439,     0.69261,     0.73976,     0.75279,     0.77572,     0.85554,     0.88538,     0.88964,      0.8905,     0.89135,     0.89221,     0.89306,     0.89391,     0.89476,     0.89561,     0.89645,      0.8973,     0.89814,     0.89899,     0.89983,     0.90067,     0.90151,\n",
       "            0.90235,     0.90318,     0.90402,     0.90485,     0.90568,     0.90652,     0.90735,     0.90817,       0.909,     0.90983,     0.91065,     0.91148,      0.9123,     0.91312,     0.91394,     0.91476,     0.91558,      0.9164,     0.91721,     0.91803,     0.91884,     0.91965,     0.92046,\n",
       "            0.92127,     0.92208,     0.92288,     0.92369,     0.92449,      0.9253,      0.9261,      0.9269,      0.9277,      0.9285,     0.92929,     0.93009,     0.93089,     0.93168,     0.93247,     0.93326,     0.93405,     0.93484,     0.93563,     0.93642,      0.9372,     0.93799,     0.93877,\n",
       "            0.93955,     0.94033,     0.94111,     0.94132,     0.94148,     0.94164,     0.94179,     0.94195,     0.94211,     0.94226,     0.94242,     0.94258,     0.94274,     0.94289,     0.94305,     0.94321,     0.94336,     0.94352,     0.94368,     0.94383,     0.94399,     0.94415,      0.9443,\n",
       "            0.94446,     0.94462,     0.94477,     0.94493,     0.94508,     0.94524,      0.9454,     0.94555,     0.94571,     0.94587,     0.94602,     0.94618,     0.94633,     0.94649,     0.94664,      0.9468,     0.94696,     0.94711,     0.94727,     0.94742,     0.94758,     0.94773,     0.94789,\n",
       "            0.94804,      0.9482,     0.94836,     0.94851,     0.94867,     0.94882,     0.94898,     0.94913,     0.94929,     0.94944,      0.9496,     0.94975,     0.94991,     0.95006,     0.95022,     0.95037,     0.95053,     0.95068,     0.95083,     0.95099,     0.95114,      0.9513,     0.95145,\n",
       "            0.95161,     0.95176,     0.95192,     0.95207,     0.95222,     0.95238,     0.95253,     0.95269,     0.95284,     0.95299,     0.95315,      0.9533,     0.95346,     0.95361,     0.95376,     0.95392,     0.95407,     0.95422,     0.95438,     0.95453,     0.95468,     0.95484,     0.95499,\n",
       "            0.95514,      0.9553,     0.95545,      0.9556,     0.95576,     0.95591,     0.95606,     0.95622,     0.95637,     0.95652,     0.95667,     0.95683,     0.95698,     0.95713,     0.95729,     0.95744,     0.95759,     0.95774,      0.9579,     0.95805,      0.9582,     0.95835,     0.95851,\n",
       "            0.95866,     0.95881,     0.95896,     0.95911,     0.95927,     0.95942,     0.95957,     0.95972,     0.95987,     0.96003,     0.96018,     0.96033,     0.96048,     0.96063,     0.96079,     0.96094,     0.96109,     0.96124,     0.96139,     0.96154,     0.96169,     0.96185,       0.962,\n",
       "            0.96215,      0.9623,     0.96245,      0.9626,     0.96275,      0.9629,     0.96305,     0.96321,     0.96336,     0.96351,     0.96366,     0.96381,     0.96396,     0.96411,     0.96426,     0.96441,     0.96456,     0.96471,     0.96486,     0.96501,     0.96516,     0.96531,     0.96547,\n",
       "            0.96562,     0.96577,     0.96592,     0.96607,     0.96622,     0.96637,     0.96652,     0.96667,     0.96682,     0.96697,     0.96712,     0.96727,     0.96741,     0.96756,     0.96771,     0.96786,     0.96801,     0.96816,     0.96831,     0.96846,     0.96861,     0.96876,     0.96891,\n",
       "            0.96906,     0.96921,     0.96936,     0.96951,     0.96966,      0.9698,     0.96995,      0.9701,     0.97025,      0.9704,     0.97055,      0.9707,     0.97085,       0.971,     0.97114,     0.97129,     0.97144,     0.97159,     0.97174,     0.97189,     0.97204,     0.97218,     0.97233,\n",
       "            0.97248,     0.97263,     0.97278,     0.97292,     0.97307,     0.97322,     0.97337,     0.97352,     0.97366,     0.97381,     0.97396,     0.97411,     0.97426,      0.9744,     0.97455,      0.9747,     0.97485,     0.97499,     0.97514,     0.97529,     0.97544,     0.97558,     0.97573,\n",
       "            0.97588,     0.97603,     0.97617,     0.97632,     0.97647,     0.97661,     0.97676,     0.97691,     0.97706,      0.9772,     0.97735,      0.9775,     0.97764,     0.97779,     0.97794,     0.97808,     0.97823,     0.97838,     0.97852,     0.97867,     0.97882,     0.97896,     0.97911,\n",
       "            0.97925,      0.9794,     0.97955,     0.97969,     0.97984,     0.97999,     0.98013,     0.98028,     0.98042,     0.98057,     0.98072,     0.98086,     0.98101,     0.98115,      0.9813,     0.98144,     0.98159,     0.98174,     0.98188,     0.98203,     0.98217,     0.98232,     0.98246,\n",
       "            0.98261,     0.98275,      0.9829,     0.98304,     0.98319,     0.98333,     0.98348,     0.98362,     0.98377,     0.98391,     0.98406,      0.9842,     0.98435,     0.98449,     0.98464,     0.98478,     0.98493,     0.98507,     0.98522,     0.98536,     0.98551,     0.98565,      0.9858,\n",
       "            0.98594,     0.98608,     0.98623,     0.98637,     0.98652,     0.98666,     0.98681,     0.98695,     0.98709,     0.98724,     0.98738,     0.98753,     0.98767,     0.98781,     0.98796,      0.9881,     0.98825,     0.98839,     0.98853,     0.98868,     0.98882,     0.98896,     0.98911,\n",
       "            0.98925,     0.98939,     0.98954,     0.98968,     0.98982,     0.98997,     0.99011,     0.99025,      0.9904,     0.99054,     0.99068,     0.99083,     0.99097,     0.99111,     0.99125,      0.9914,     0.99154,     0.99168,     0.99183,     0.99197,     0.99211,     0.99225,      0.9924,\n",
       "            0.99254,     0.99268,     0.99282,     0.99297,     0.99311,     0.99325,     0.99339,     0.99354,     0.99368,     0.99382,     0.99396,      0.9941,     0.99425,     0.99439,     0.99453,     0.99467,     0.99481,     0.99496,      0.9951,     0.99524,     0.99538,     0.99552,     0.99566,\n",
       "            0.99581,     0.99595,     0.99609,     0.99623,     0.99637,     0.99651,     0.99665,      0.9968,     0.99694,     0.99708,     0.99722,     0.99736,      0.9975,     0.99764,     0.99778,     0.99793,     0.99807,     0.99821,     0.99835,     0.99849,     0.99863,     0.99877,     0.99891,\n",
       "            0.99905,     0.99919,     0.99933,     0.99947,     0.99961,     0.99976,      0.9999,     0.99991,     0.99956,     0.99921,     0.99885,      0.9985,     0.99815,     0.99779,     0.99744,     0.99709,     0.99673,     0.99638,     0.99602,     0.99567,     0.99531,     0.99496,      0.9946,\n",
       "            0.99425,     0.99389,     0.99353,     0.99318,     0.99282,     0.99246,      0.9921,     0.99175,     0.99139,     0.99103,     0.99067,     0.99031,     0.98995,     0.98959,     0.98924,     0.98888,     0.98852,     0.98816,     0.98779,     0.98743,     0.98707,     0.98671,     0.98635,\n",
       "            0.98599,     0.98563,     0.98526,      0.9849,     0.98454,     0.98418,     0.98381,     0.98345,     0.98308,     0.98272,     0.98236,     0.98199,     0.98163,     0.98126,      0.9809,     0.98053,     0.98016,      0.9798,     0.97943,     0.97906,      0.9787,     0.97833,     0.97796,\n",
       "            0.97759,     0.97723,     0.97686,     0.97649,     0.97612,     0.97575,     0.97538,     0.97501,     0.97464,     0.97427,      0.9739,     0.97353,     0.97316,     0.97279,     0.97242,     0.97205,     0.97167,      0.9713,     0.97093,     0.97056,     0.97018,     0.96981,     0.96944,\n",
       "            0.96906,     0.96869,     0.96831,     0.96794,     0.96756,     0.96719,     0.96681,     0.96644,     0.96606,     0.96568,     0.96531,     0.96493,     0.96455,     0.96417,      0.9638,     0.96342,     0.96304,     0.96266,     0.96228,      0.9619,     0.96152,     0.96114,     0.96076,\n",
       "            0.96038,        0.96,     0.95962,     0.95924,     0.95886,     0.95848,      0.9581,     0.95771,     0.95733,     0.95695,     0.95657,     0.95618,      0.9558,     0.95541,     0.95503,     0.95465,     0.95426,     0.95388,     0.95349,     0.95311,     0.95272,     0.95233,     0.95195,\n",
       "            0.95156,     0.95117,     0.95079,      0.9504,     0.95001,     0.94962,     0.94923,     0.94884,     0.94846,     0.94807,     0.94768,     0.94729,      0.9469,     0.94651,     0.94611,     0.94572,     0.94533,     0.94494,     0.94455,     0.94416,     0.94376,     0.94337,     0.94298,\n",
       "            0.94258,     0.94219,      0.9418,      0.9414,     0.94101,     0.94061,     0.94022,     0.93982,     0.93943,     0.93903,     0.93863,     0.93824,     0.93784,     0.93744,     0.93705,     0.93665,     0.93625,     0.93585,     0.93545,     0.93505,     0.93465,     0.93425,     0.93385,\n",
       "            0.93345,     0.92924,     0.92333,     0.91736,     0.91132,     0.90521,     0.89903,     0.89278,     0.88646,     0.88007,     0.87361,     0.86707,     0.86045,     0.85698,     0.85667,     0.85635,     0.85603,     0.85571,      0.8554,     0.85508,     0.85476,     0.85444,     0.85412,\n",
       "             0.8538,     0.85348,     0.85317,     0.85285,     0.85253,     0.85221,     0.85189,     0.85157,     0.85125,     0.85093,     0.85061,     0.85029,     0.84997,     0.84964,     0.84932,       0.849,     0.84868,     0.84836,     0.84804,     0.84771,     0.84739,     0.84707,     0.84675,\n",
       "            0.84642,      0.8461,     0.84578,     0.84545,     0.84513,     0.84481,     0.84448,     0.84416,     0.84383,     0.84351,     0.84319,     0.84286,     0.84254,     0.84221,     0.84189,     0.84156,     0.84123,     0.84091,     0.84058,     0.84026,     0.83993,      0.8396,     0.83928,\n",
       "            0.83895,     0.83862,     0.83829,     0.83797,     0.83764,     0.83731,     0.83698,     0.83665,     0.83633,       0.836,     0.83567,     0.83534,     0.83501,     0.83468,     0.83435,     0.83402,     0.83369,     0.83336,     0.83303,      0.8327,     0.83237,     0.83204,     0.83171,\n",
       "            0.83138,     0.83104,     0.83071,     0.83038,     0.83005,     0.82972,     0.82938,     0.82905,     0.82872,     0.82839,     0.82805,     0.82772,     0.82739,     0.82705,     0.82672,     0.82638,     0.82605,     0.82571,     0.82538,     0.82504,     0.82471,     0.82437,     0.82404,\n",
       "             0.8237,     0.82337,     0.82303,      0.8227,     0.82236,     0.82202,     0.82169,     0.82135,     0.82101,     0.82067,     0.82034,        0.82,     0.81966,     0.81932,     0.81898,     0.81864,     0.81831,     0.81797,     0.81763,     0.81729,     0.81695,     0.81661,     0.81627,\n",
       "            0.81593,     0.81559,     0.81525,     0.81491,     0.81457,     0.81423,     0.81388,     0.81354,      0.8132,     0.81286,     0.81252,     0.81218,     0.81183,     0.81149,     0.81115,      0.8108,     0.81046,     0.81012,     0.80977,     0.80943,     0.80909,     0.80874,      0.8084,\n",
       "            0.80805,     0.80771,     0.80736,     0.80702,     0.80667,     0.80633,     0.80598,     0.80563,     0.80529,     0.80494,     0.80459,     0.80425,      0.8039,     0.80355,     0.80321,     0.80286,     0.80251,     0.80216,     0.80181,     0.80147,     0.80112,     0.80077,     0.80042,\n",
       "            0.80007,     0.79972,     0.79937,     0.79902,     0.79867,     0.79832,     0.79797,     0.79762,     0.79727,     0.79692,     0.79657,     0.79621,     0.79586,     0.79551,     0.79516,     0.79481,     0.79445,      0.7941,     0.79375,     0.79339,     0.79304,     0.79269,     0.79233,\n",
       "            0.79198,     0.79162,     0.79127,     0.79092,     0.79056,     0.79021,     0.78985,      0.7895,     0.78914,     0.78878,     0.78843,     0.78807,     0.78771,     0.78736,       0.787,     0.78664,     0.78629,     0.78593,     0.78557,     0.78521,     0.78485,      0.7845,     0.78414,\n",
       "            0.78378,     0.78342,     0.78306,      0.7827,     0.78234,     0.78198,     0.78162,     0.78126,      0.7809,     0.78054,     0.78018,     0.77982,     0.77946,     0.77909,     0.77873,     0.77837,     0.77801,     0.77765,     0.77728,     0.77692,     0.77656,     0.77619,     0.77583,\n",
       "            0.77547,      0.7751,     0.77474,     0.77437,     0.77401,     0.77364,     0.77328,     0.77291,     0.77255,     0.77218,     0.77182,     0.77145,     0.77108,     0.77072,     0.77035,     0.76998,     0.76962,     0.76925,     0.73123,     0.68859,     0.66017,     0.64727,     0.63412,\n",
       "            0.62071,     0.60703,     0.59308,     0.57885,     0.56433,      0.5495,     0.54036,     0.53333,     0.52622,     0.51905,     0.51181,      0.5045,     0.49712,     0.48966,     0.48213,     0.47452,     0.46684,     0.45908,     0.45124,     0.44332,     0.43531,     0.42723,     0.41906,\n",
       "            0.41081,     0.40246,     0.38327,     0.35899,     0.33397,     0.30818,     0.28157,     0.25411,     0.22576,           0,           0,           0,           0,           0,           0,           0,           0,           0,           0,           0,           0,           0,           0,\n",
       "                  0,           0,           0,           0,           0,           0,           0,           0,           0,           0,           0]]), 'Confidence', 'F1'], [array([          0,    0.001001,    0.002002,    0.003003,    0.004004,    0.005005,    0.006006,    0.007007,    0.008008,    0.009009,     0.01001,    0.011011,    0.012012,    0.013013,    0.014014,    0.015015,    0.016016,    0.017017,    0.018018,    0.019019,     0.02002,    0.021021,    0.022022,    0.023023,\n",
       "          0.024024,    0.025025,    0.026026,    0.027027,    0.028028,    0.029029,     0.03003,    0.031031,    0.032032,    0.033033,    0.034034,    0.035035,    0.036036,    0.037037,    0.038038,    0.039039,     0.04004,    0.041041,    0.042042,    0.043043,    0.044044,    0.045045,    0.046046,    0.047047,\n",
       "          0.048048,    0.049049,     0.05005,    0.051051,    0.052052,    0.053053,    0.054054,    0.055055,    0.056056,    0.057057,    0.058058,    0.059059,     0.06006,    0.061061,    0.062062,    0.063063,    0.064064,    0.065065,    0.066066,    0.067067,    0.068068,    0.069069,     0.07007,    0.071071,\n",
       "          0.072072,    0.073073,    0.074074,    0.075075,    0.076076,    0.077077,    0.078078,    0.079079,     0.08008,    0.081081,    0.082082,    0.083083,    0.084084,    0.085085,    0.086086,    0.087087,    0.088088,    0.089089,     0.09009,    0.091091,    0.092092,    0.093093,    0.094094,    0.095095,\n",
       "          0.096096,    0.097097,    0.098098,    0.099099,      0.1001,      0.1011,      0.1021,      0.1031,      0.1041,     0.10511,     0.10611,     0.10711,     0.10811,     0.10911,     0.11011,     0.11111,     0.11211,     0.11311,     0.11411,     0.11512,     0.11612,     0.11712,     0.11812,     0.11912,\n",
       "           0.12012,     0.12112,     0.12212,     0.12312,     0.12412,     0.12513,     0.12613,     0.12713,     0.12813,     0.12913,     0.13013,     0.13113,     0.13213,     0.13313,     0.13413,     0.13514,     0.13614,     0.13714,     0.13814,     0.13914,     0.14014,     0.14114,     0.14214,     0.14314,\n",
       "           0.14414,     0.14515,     0.14615,     0.14715,     0.14815,     0.14915,     0.15015,     0.15115,     0.15215,     0.15315,     0.15415,     0.15516,     0.15616,     0.15716,     0.15816,     0.15916,     0.16016,     0.16116,     0.16216,     0.16316,     0.16416,     0.16517,     0.16617,     0.16717,\n",
       "           0.16817,     0.16917,     0.17017,     0.17117,     0.17217,     0.17317,     0.17417,     0.17518,     0.17618,     0.17718,     0.17818,     0.17918,     0.18018,     0.18118,     0.18218,     0.18318,     0.18418,     0.18519,     0.18619,     0.18719,     0.18819,     0.18919,     0.19019,     0.19119,\n",
       "           0.19219,     0.19319,     0.19419,      0.1952,      0.1962,      0.1972,      0.1982,      0.1992,      0.2002,      0.2012,      0.2022,      0.2032,      0.2042,     0.20521,     0.20621,     0.20721,     0.20821,     0.20921,     0.21021,     0.21121,     0.21221,     0.21321,     0.21421,     0.21522,\n",
       "           0.21622,     0.21722,     0.21822,     0.21922,     0.22022,     0.22122,     0.22222,     0.22322,     0.22422,     0.22523,     0.22623,     0.22723,     0.22823,     0.22923,     0.23023,     0.23123,     0.23223,     0.23323,     0.23423,     0.23524,     0.23624,     0.23724,     0.23824,     0.23924,\n",
       "           0.24024,     0.24124,     0.24224,     0.24324,     0.24424,     0.24525,     0.24625,     0.24725,     0.24825,     0.24925,     0.25025,     0.25125,     0.25225,     0.25325,     0.25425,     0.25526,     0.25626,     0.25726,     0.25826,     0.25926,     0.26026,     0.26126,     0.26226,     0.26326,\n",
       "           0.26426,     0.26527,     0.26627,     0.26727,     0.26827,     0.26927,     0.27027,     0.27127,     0.27227,     0.27327,     0.27427,     0.27528,     0.27628,     0.27728,     0.27828,     0.27928,     0.28028,     0.28128,     0.28228,     0.28328,     0.28428,     0.28529,     0.28629,     0.28729,\n",
       "           0.28829,     0.28929,     0.29029,     0.29129,     0.29229,     0.29329,     0.29429,      0.2953,      0.2963,      0.2973,      0.2983,      0.2993,      0.3003,      0.3013,      0.3023,      0.3033,      0.3043,     0.30531,     0.30631,     0.30731,     0.30831,     0.30931,     0.31031,     0.31131,\n",
       "           0.31231,     0.31331,     0.31431,     0.31532,     0.31632,     0.31732,     0.31832,     0.31932,     0.32032,     0.32132,     0.32232,     0.32332,     0.32432,     0.32533,     0.32633,     0.32733,     0.32833,     0.32933,     0.33033,     0.33133,     0.33233,     0.33333,     0.33433,     0.33534,\n",
       "           0.33634,     0.33734,     0.33834,     0.33934,     0.34034,     0.34134,     0.34234,     0.34334,     0.34434,     0.34535,     0.34635,     0.34735,     0.34835,     0.34935,     0.35035,     0.35135,     0.35235,     0.35335,     0.35435,     0.35536,     0.35636,     0.35736,     0.35836,     0.35936,\n",
       "           0.36036,     0.36136,     0.36236,     0.36336,     0.36436,     0.36537,     0.36637,     0.36737,     0.36837,     0.36937,     0.37037,     0.37137,     0.37237,     0.37337,     0.37437,     0.37538,     0.37638,     0.37738,     0.37838,     0.37938,     0.38038,     0.38138,     0.38238,     0.38338,\n",
       "           0.38438,     0.38539,     0.38639,     0.38739,     0.38839,     0.38939,     0.39039,     0.39139,     0.39239,     0.39339,     0.39439,      0.3954,      0.3964,      0.3974,      0.3984,      0.3994,      0.4004,      0.4014,      0.4024,      0.4034,      0.4044,     0.40541,     0.40641,     0.40741,\n",
       "           0.40841,     0.40941,     0.41041,     0.41141,     0.41241,     0.41341,     0.41441,     0.41542,     0.41642,     0.41742,     0.41842,     0.41942,     0.42042,     0.42142,     0.42242,     0.42342,     0.42442,     0.42543,     0.42643,     0.42743,     0.42843,     0.42943,     0.43043,     0.43143,\n",
       "           0.43243,     0.43343,     0.43443,     0.43544,     0.43644,     0.43744,     0.43844,     0.43944,     0.44044,     0.44144,     0.44244,     0.44344,     0.44444,     0.44545,     0.44645,     0.44745,     0.44845,     0.44945,     0.45045,     0.45145,     0.45245,     0.45345,     0.45445,     0.45546,\n",
       "           0.45646,     0.45746,     0.45846,     0.45946,     0.46046,     0.46146,     0.46246,     0.46346,     0.46446,     0.46547,     0.46647,     0.46747,     0.46847,     0.46947,     0.47047,     0.47147,     0.47247,     0.47347,     0.47447,     0.47548,     0.47648,     0.47748,     0.47848,     0.47948,\n",
       "           0.48048,     0.48148,     0.48248,     0.48348,     0.48448,     0.48549,     0.48649,     0.48749,     0.48849,     0.48949,     0.49049,     0.49149,     0.49249,     0.49349,     0.49449,      0.4955,      0.4965,      0.4975,      0.4985,      0.4995,      0.5005,      0.5015,      0.5025,      0.5035,\n",
       "            0.5045,     0.50551,     0.50651,     0.50751,     0.50851,     0.50951,     0.51051,     0.51151,     0.51251,     0.51351,     0.51451,     0.51552,     0.51652,     0.51752,     0.51852,     0.51952,     0.52052,     0.52152,     0.52252,     0.52352,     0.52452,     0.52553,     0.52653,     0.52753,\n",
       "           0.52853,     0.52953,     0.53053,     0.53153,     0.53253,     0.53353,     0.53453,     0.53554,     0.53654,     0.53754,     0.53854,     0.53954,     0.54054,     0.54154,     0.54254,     0.54354,     0.54454,     0.54555,     0.54655,     0.54755,     0.54855,     0.54955,     0.55055,     0.55155,\n",
       "           0.55255,     0.55355,     0.55455,     0.55556,     0.55656,     0.55756,     0.55856,     0.55956,     0.56056,     0.56156,     0.56256,     0.56356,     0.56456,     0.56557,     0.56657,     0.56757,     0.56857,     0.56957,     0.57057,     0.57157,     0.57257,     0.57357,     0.57457,     0.57558,\n",
       "           0.57658,     0.57758,     0.57858,     0.57958,     0.58058,     0.58158,     0.58258,     0.58358,     0.58458,     0.58559,     0.58659,     0.58759,     0.58859,     0.58959,     0.59059,     0.59159,     0.59259,     0.59359,     0.59459,      0.5956,      0.5966,      0.5976,      0.5986,      0.5996,\n",
       "            0.6006,      0.6016,      0.6026,      0.6036,      0.6046,     0.60561,     0.60661,     0.60761,     0.60861,     0.60961,     0.61061,     0.61161,     0.61261,     0.61361,     0.61461,     0.61562,     0.61662,     0.61762,     0.61862,     0.61962,     0.62062,     0.62162,     0.62262,     0.62362,\n",
       "           0.62462,     0.62563,     0.62663,     0.62763,     0.62863,     0.62963,     0.63063,     0.63163,     0.63263,     0.63363,     0.63463,     0.63564,     0.63664,     0.63764,     0.63864,     0.63964,     0.64064,     0.64164,     0.64264,     0.64364,     0.64464,     0.64565,     0.64665,     0.64765,\n",
       "           0.64865,     0.64965,     0.65065,     0.65165,     0.65265,     0.65365,     0.65465,     0.65566,     0.65666,     0.65766,     0.65866,     0.65966,     0.66066,     0.66166,     0.66266,     0.66366,     0.66466,     0.66567,     0.66667,     0.66767,     0.66867,     0.66967,     0.67067,     0.67167,\n",
       "           0.67267,     0.67367,     0.67467,     0.67568,     0.67668,     0.67768,     0.67868,     0.67968,     0.68068,     0.68168,     0.68268,     0.68368,     0.68468,     0.68569,     0.68669,     0.68769,     0.68869,     0.68969,     0.69069,     0.69169,     0.69269,     0.69369,     0.69469,      0.6957,\n",
       "            0.6967,      0.6977,      0.6987,      0.6997,      0.7007,      0.7017,      0.7027,      0.7037,      0.7047,     0.70571,     0.70671,     0.70771,     0.70871,     0.70971,     0.71071,     0.71171,     0.71271,     0.71371,     0.71471,     0.71572,     0.71672,     0.71772,     0.71872,     0.71972,\n",
       "           0.72072,     0.72172,     0.72272,     0.72372,     0.72472,     0.72573,     0.72673,     0.72773,     0.72873,     0.72973,     0.73073,     0.73173,     0.73273,     0.73373,     0.73473,     0.73574,     0.73674,     0.73774,     0.73874,     0.73974,     0.74074,     0.74174,     0.74274,     0.74374,\n",
       "           0.74474,     0.74575,     0.74675,     0.74775,     0.74875,     0.74975,     0.75075,     0.75175,     0.75275,     0.75375,     0.75475,     0.75576,     0.75676,     0.75776,     0.75876,     0.75976,     0.76076,     0.76176,     0.76276,     0.76376,     0.76476,     0.76577,     0.76677,     0.76777,\n",
       "           0.76877,     0.76977,     0.77077,     0.77177,     0.77277,     0.77377,     0.77477,     0.77578,     0.77678,     0.77778,     0.77878,     0.77978,     0.78078,     0.78178,     0.78278,     0.78378,     0.78478,     0.78579,     0.78679,     0.78779,     0.78879,     0.78979,     0.79079,     0.79179,\n",
       "           0.79279,     0.79379,     0.79479,      0.7958,      0.7968,      0.7978,      0.7988,      0.7998,      0.8008,      0.8018,      0.8028,      0.8038,      0.8048,     0.80581,     0.80681,     0.80781,     0.80881,     0.80981,     0.81081,     0.81181,     0.81281,     0.81381,     0.81481,     0.81582,\n",
       "           0.81682,     0.81782,     0.81882,     0.81982,     0.82082,     0.82182,     0.82282,     0.82382,     0.82482,     0.82583,     0.82683,     0.82783,     0.82883,     0.82983,     0.83083,     0.83183,     0.83283,     0.83383,     0.83483,     0.83584,     0.83684,     0.83784,     0.83884,     0.83984,\n",
       "           0.84084,     0.84184,     0.84284,     0.84384,     0.84484,     0.84585,     0.84685,     0.84785,     0.84885,     0.84985,     0.85085,     0.85185,     0.85285,     0.85385,     0.85485,     0.85586,     0.85686,     0.85786,     0.85886,     0.85986,     0.86086,     0.86186,     0.86286,     0.86386,\n",
       "           0.86486,     0.86587,     0.86687,     0.86787,     0.86887,     0.86987,     0.87087,     0.87187,     0.87287,     0.87387,     0.87487,     0.87588,     0.87688,     0.87788,     0.87888,     0.87988,     0.88088,     0.88188,     0.88288,     0.88388,     0.88488,     0.88589,     0.88689,     0.88789,\n",
       "           0.88889,     0.88989,     0.89089,     0.89189,     0.89289,     0.89389,     0.89489,      0.8959,      0.8969,      0.8979,      0.8989,      0.8999,      0.9009,      0.9019,      0.9029,      0.9039,      0.9049,     0.90591,     0.90691,     0.90791,     0.90891,     0.90991,     0.91091,     0.91191,\n",
       "           0.91291,     0.91391,     0.91491,     0.91592,     0.91692,     0.91792,     0.91892,     0.91992,     0.92092,     0.92192,     0.92292,     0.92392,     0.92492,     0.92593,     0.92693,     0.92793,     0.92893,     0.92993,     0.93093,     0.93193,     0.93293,     0.93393,     0.93493,     0.93594,\n",
       "           0.93694,     0.93794,     0.93894,     0.93994,     0.94094,     0.94194,     0.94294,     0.94394,     0.94494,     0.94595,     0.94695,     0.94795,     0.94895,     0.94995,     0.95095,     0.95195,     0.95295,     0.95395,     0.95495,     0.95596,     0.95696,     0.95796,     0.95896,     0.95996,\n",
       "           0.96096,     0.96196,     0.96296,     0.96396,     0.96496,     0.96597,     0.96697,     0.96797,     0.96897,     0.96997,     0.97097,     0.97197,     0.97297,     0.97397,     0.97497,     0.97598,     0.97698,     0.97798,     0.97898,     0.97998,     0.98098,     0.98198,     0.98298,     0.98398,\n",
       "           0.98498,     0.98599,     0.98699,     0.98799,     0.98899,     0.98999,     0.99099,     0.99199,     0.99299,     0.99399,     0.99499,       0.996,       0.997,       0.998,       0.999,           1]), array([[  0.0033333,   0.0033333,   0.0033333,   0.0068312,   0.0093339,    0.010398,    0.011135,    0.011849,    0.013097,    0.016185,    0.020998,    0.031439,    0.048506,    0.068632,    0.094253,     0.12122,     0.14537,     0.18071,     0.18954,     0.23602,      0.2985,     0.38568,     0.43079,\n",
       "            0.45239,     0.46455,     0.52977,       0.587,     0.60357,     0.63362,     0.74756,     0.79433,     0.80122,     0.80261,       0.804,     0.80539,     0.80678,     0.80817,     0.80956,     0.81095,     0.81234,     0.81373,     0.81512,     0.81651,      0.8179,     0.81929,     0.82068,\n",
       "            0.82207,     0.82346,     0.82485,     0.82624,     0.82763,     0.82902,     0.83041,      0.8318,     0.83318,     0.83457,     0.83596,     0.83735,     0.83874,     0.84013,     0.84152,     0.84291,      0.8443,     0.84569,     0.84708,     0.84847,     0.84986,     0.85125,     0.85264,\n",
       "            0.85403,     0.85542,     0.85681,      0.8582,     0.85959,     0.86098,     0.86237,     0.86376,     0.86515,     0.86654,     0.86793,     0.86932,     0.87071,      0.8721,     0.87349,     0.87488,     0.87627,     0.87766,     0.87905,     0.88044,     0.88182,     0.88321,      0.8846,\n",
       "            0.88599,     0.88738,     0.88877,     0.88915,     0.88943,     0.88971,     0.88999,     0.89027,     0.89055,     0.89083,     0.89111,     0.89139,     0.89167,     0.89195,     0.89224,     0.89252,      0.8928,     0.89308,     0.89336,     0.89364,     0.89392,      0.8942,     0.89448,\n",
       "            0.89476,     0.89504,     0.89532,     0.89561,     0.89589,     0.89617,     0.89645,     0.89673,     0.89701,     0.89729,     0.89757,     0.89785,     0.89813,     0.89841,     0.89869,     0.89898,     0.89926,     0.89954,     0.89982,      0.9001,     0.90038,     0.90066,     0.90094,\n",
       "            0.90122,      0.9015,     0.90178,     0.90206,     0.90235,     0.90263,     0.90291,     0.90319,     0.90347,     0.90375,     0.90403,     0.90431,     0.90459,     0.90487,     0.90515,     0.90543,     0.90571,       0.906,     0.90628,     0.90656,     0.90684,     0.90712,      0.9074,\n",
       "            0.90768,     0.90796,     0.90824,     0.90852,      0.9088,     0.90908,     0.90937,     0.90965,     0.90993,     0.91021,     0.91049,     0.91077,     0.91105,     0.91133,     0.91161,     0.91189,     0.91217,     0.91245,     0.91274,     0.91302,      0.9133,     0.91358,     0.91386,\n",
       "            0.91414,     0.91442,      0.9147,     0.91498,     0.91526,     0.91554,     0.91582,     0.91611,     0.91639,     0.91667,     0.91695,     0.91723,     0.91751,     0.91779,     0.91807,     0.91835,     0.91863,     0.91891,     0.91919,     0.91948,     0.91976,     0.92004,     0.92032,\n",
       "             0.9206,     0.92088,     0.92116,     0.92144,     0.92172,       0.922,     0.92228,     0.92256,     0.92285,     0.92313,     0.92341,     0.92369,     0.92397,     0.92425,     0.92453,     0.92481,     0.92509,     0.92537,     0.92565,     0.92593,     0.92622,      0.9265,     0.92678,\n",
       "            0.92706,     0.92734,     0.92762,      0.9279,     0.92818,     0.92846,     0.92874,     0.92902,      0.9293,     0.92959,     0.92987,     0.93015,     0.93043,     0.93071,     0.93099,     0.93127,     0.93155,     0.93183,     0.93211,     0.93239,     0.93267,     0.93295,     0.93324,\n",
       "            0.93352,      0.9338,     0.93408,     0.93436,     0.93464,     0.93492,      0.9352,     0.93548,     0.93576,     0.93604,     0.93632,     0.93661,     0.93689,     0.93717,     0.93745,     0.93773,     0.93801,     0.93829,     0.93857,     0.93885,     0.93913,     0.93941,     0.93969,\n",
       "            0.93998,     0.94026,     0.94054,     0.94082,      0.9411,     0.94138,     0.94166,     0.94194,     0.94222,      0.9425,     0.94278,     0.94306,     0.94335,     0.94363,     0.94391,     0.94419,     0.94447,     0.94475,     0.94503,     0.94531,     0.94559,     0.94587,     0.94615,\n",
       "            0.94643,     0.94672,       0.947,     0.94728,     0.94756,     0.94784,     0.94812,      0.9484,     0.94868,     0.94896,     0.94924,     0.94952,      0.9498,     0.95009,     0.95037,     0.95065,     0.95093,     0.95121,     0.95149,     0.95177,     0.95205,     0.95233,     0.95261,\n",
       "            0.95289,     0.95317,     0.95346,     0.95374,     0.95402,      0.9543,     0.95458,     0.95486,     0.95514,     0.95542,      0.9557,     0.95598,     0.95626,     0.95654,     0.95682,     0.95711,     0.95739,     0.95767,     0.95795,     0.95823,     0.95851,     0.95879,     0.95907,\n",
       "            0.95935,     0.95963,     0.95991,     0.96019,     0.96048,     0.96076,     0.96104,     0.96132,      0.9616,     0.96188,     0.96216,     0.96244,     0.96272,       0.963,     0.96328,     0.96356,     0.96385,     0.96413,     0.96441,     0.96469,     0.96497,     0.96525,     0.96553,\n",
       "            0.96581,     0.96609,     0.96637,     0.96665,     0.96693,     0.96722,      0.9675,     0.96778,     0.96806,     0.96834,     0.96862,      0.9689,     0.96918,     0.96946,     0.96974,     0.97002,      0.9703,     0.97059,     0.97087,     0.97115,     0.97143,     0.97171,     0.97199,\n",
       "            0.97227,     0.97255,     0.97283,     0.97311,     0.97339,     0.97367,     0.97396,     0.97424,     0.97452,      0.9748,     0.97508,     0.97536,     0.97564,     0.97592,      0.9762,     0.97648,     0.97676,     0.97704,     0.97733,     0.97761,     0.97789,     0.97817,     0.97845,\n",
       "            0.97873,     0.97901,     0.97929,     0.97957,     0.97985,     0.98013,     0.98041,     0.98069,     0.98098,     0.98126,     0.98154,     0.98182,      0.9821,     0.98238,     0.98266,     0.98294,     0.98322,      0.9835,     0.98378,     0.98406,     0.98435,     0.98463,     0.98491,\n",
       "            0.98519,     0.98547,     0.98575,     0.98603,     0.98631,     0.98659,     0.98687,     0.98715,     0.98743,     0.98772,       0.988,     0.98828,     0.98856,     0.98884,     0.98912,      0.9894,     0.98968,     0.98996,     0.99024,     0.99052,      0.9908,     0.99109,     0.99137,\n",
       "            0.99165,     0.99193,     0.99221,     0.99249,     0.99277,     0.99305,     0.99333,     0.99361,     0.99389,     0.99417,     0.99446,     0.99474,     0.99502,      0.9953,     0.99558,     0.99586,     0.99614,     0.99642,      0.9967,     0.99698,     0.99726,     0.99754,     0.99783,\n",
       "            0.99811,     0.99839,     0.99867,     0.99895,     0.99923,     0.99951,     0.99979,           1,           1,           1,           1,           1,           1,           1,           1,           1,           1,           1,           1,           1,           1,           1,           1,\n",
       "                  1,           1,           1,           1,           1,           1,           1,           1,           1,           1,           1,           1,           1,           1,           1,           1,           1,           1,           1,           1,           1,           1,           1,\n",
       "                  1,           1,           1,           1,           1,           1,           1,           1,           1,           1,           1,           1,           1,           1,           1,           1,           1,           1,           1,           1,           1,           1,           1,\n",
       "                  1,           1,           1,           1,           1,           1,           1,           1,           1,           1,           1,           1,           1,           1,           1,           1,           1,           1,           1,           1,           1,           1,           1,\n",
       "                  1,           1,           1,           1,           1,           1,           1,           1,           1,           1,           1,           1,           1,           1,           1,           1,           1,           1,           1,           1,           1,           1,           1,\n",
       "                  1,           1,           1,           1,           1,           1,           1,           1,           1,           1,           1,           1,           1,           1,           1,           1,           1,           1,           1,           1,           1,           1,           1,\n",
       "                  1,           1,           1,           1,           1,           1,           1,           1,           1,           1,           1,           1,           1,           1,           1,           1,           1,           1,           1,           1,           1,           1,           1,\n",
       "                  1,           1,           1,           1,           1,           1,           1,           1,           1,           1,           1,           1,           1,           1,           1,           1,           1,           1,           1,           1,           1,           1,           1,\n",
       "                  1,           1,           1,           1,           1,           1,           1,           1,           1,           1,           1,           1,           1,           1,           1,           1,           1,           1,           1,           1,           1,           1,           1,\n",
       "                  1,           1,           1,           1,           1,           1,           1,           1,           1,           1,           1,           1,           1,           1,           1,           1,           1,           1,           1,           1,           1,           1,           1,\n",
       "                  1,           1,           1,           1,           1,           1,           1,           1,           1,           1,           1,           1,           1,           1,           1,           1,           1,           1,           1,           1,           1,           1,           1,\n",
       "                  1,           1,           1,           1,           1,           1,           1,           1,           1,           1,           1,           1,           1,           1,           1,           1,           1,           1,           1,           1,           1,           1,           1,\n",
       "                  1,           1,           1,           1,           1,           1,           1,           1,           1,           1,           1,           1,           1,           1,           1,           1,           1,           1,           1,           1,           1,           1,           1,\n",
       "                  1,           1,           1,           1,           1,           1,           1,           1,           1,           1,           1,           1,           1,           1,           1,           1,           1,           1,           1,           1,           1,           1,           1,\n",
       "                  1,           1,           1,           1,           1,           1,           1,           1,           1,           1,           1,           1,           1,           1,           1,           1,           1,           1,           1,           1,           1,           1,           1,\n",
       "                  1,           1,           1,           1,           1,           1,           1,           1,           1,           1,           1,           1,           1,           1,           1,           1,           1,           1,           1,           1,           1,           1,           1,\n",
       "                  1,           1,           1,           1,           1,           1,           1,           1,           1,           1,           1,           1,           1,           1,           1,           1,           1,           1,           1,           1,           1,           1,           1,\n",
       "                  1,           1,           1,           1,           1,           1,           1,           1,           1,           1,           1,           1,           1,           1,           1,           1,           1,           1,           1,           1,           1,           1,           1,\n",
       "                  1,           1,           1,           1,           1,           1,           1,           1,           1,           1,           1,           1,           1,           1,           1,           1,           1,           1,           1,           1,           1,           1,           1,\n",
       "                  1,           1,           1,           1,           1,           1,           1,           1,           1,           1,           1,           1,           1,           1,           1,           1,           1,           1,           1,           1,           1,           1,           1,\n",
       "                  1,           1,           1,           1,           1,           1,           1,           1,           1,           1,           1,           1,           1,           1,           1,           1,           1,           1,           1,           1,           1,           1,           1,\n",
       "                  1,           1,           1,           1,           1,           1,           1,           1,           1,           1,           1,           1,           1,           1,           1,           1,           1,           1,           1,           1,           1,           1,           1,\n",
       "                  1,           1,           1,           1,           1,           1,           1,           1,           1,           1,           1]]), 'Confidence', 'Precision'], [array([          0,    0.001001,    0.002002,    0.003003,    0.004004,    0.005005,    0.006006,    0.007007,    0.008008,    0.009009,     0.01001,    0.011011,    0.012012,    0.013013,    0.014014,    0.015015,    0.016016,    0.017017,    0.018018,    0.019019,     0.02002,    0.021021,    0.022022,    0.023023,\n",
       "          0.024024,    0.025025,    0.026026,    0.027027,    0.028028,    0.029029,     0.03003,    0.031031,    0.032032,    0.033033,    0.034034,    0.035035,    0.036036,    0.037037,    0.038038,    0.039039,     0.04004,    0.041041,    0.042042,    0.043043,    0.044044,    0.045045,    0.046046,    0.047047,\n",
       "          0.048048,    0.049049,     0.05005,    0.051051,    0.052052,    0.053053,    0.054054,    0.055055,    0.056056,    0.057057,    0.058058,    0.059059,     0.06006,    0.061061,    0.062062,    0.063063,    0.064064,    0.065065,    0.066066,    0.067067,    0.068068,    0.069069,     0.07007,    0.071071,\n",
       "          0.072072,    0.073073,    0.074074,    0.075075,    0.076076,    0.077077,    0.078078,    0.079079,     0.08008,    0.081081,    0.082082,    0.083083,    0.084084,    0.085085,    0.086086,    0.087087,    0.088088,    0.089089,     0.09009,    0.091091,    0.092092,    0.093093,    0.094094,    0.095095,\n",
       "          0.096096,    0.097097,    0.098098,    0.099099,      0.1001,      0.1011,      0.1021,      0.1031,      0.1041,     0.10511,     0.10611,     0.10711,     0.10811,     0.10911,     0.11011,     0.11111,     0.11211,     0.11311,     0.11411,     0.11512,     0.11612,     0.11712,     0.11812,     0.11912,\n",
       "           0.12012,     0.12112,     0.12212,     0.12312,     0.12412,     0.12513,     0.12613,     0.12713,     0.12813,     0.12913,     0.13013,     0.13113,     0.13213,     0.13313,     0.13413,     0.13514,     0.13614,     0.13714,     0.13814,     0.13914,     0.14014,     0.14114,     0.14214,     0.14314,\n",
       "           0.14414,     0.14515,     0.14615,     0.14715,     0.14815,     0.14915,     0.15015,     0.15115,     0.15215,     0.15315,     0.15415,     0.15516,     0.15616,     0.15716,     0.15816,     0.15916,     0.16016,     0.16116,     0.16216,     0.16316,     0.16416,     0.16517,     0.16617,     0.16717,\n",
       "           0.16817,     0.16917,     0.17017,     0.17117,     0.17217,     0.17317,     0.17417,     0.17518,     0.17618,     0.17718,     0.17818,     0.17918,     0.18018,     0.18118,     0.18218,     0.18318,     0.18418,     0.18519,     0.18619,     0.18719,     0.18819,     0.18919,     0.19019,     0.19119,\n",
       "           0.19219,     0.19319,     0.19419,      0.1952,      0.1962,      0.1972,      0.1982,      0.1992,      0.2002,      0.2012,      0.2022,      0.2032,      0.2042,     0.20521,     0.20621,     0.20721,     0.20821,     0.20921,     0.21021,     0.21121,     0.21221,     0.21321,     0.21421,     0.21522,\n",
       "           0.21622,     0.21722,     0.21822,     0.21922,     0.22022,     0.22122,     0.22222,     0.22322,     0.22422,     0.22523,     0.22623,     0.22723,     0.22823,     0.22923,     0.23023,     0.23123,     0.23223,     0.23323,     0.23423,     0.23524,     0.23624,     0.23724,     0.23824,     0.23924,\n",
       "           0.24024,     0.24124,     0.24224,     0.24324,     0.24424,     0.24525,     0.24625,     0.24725,     0.24825,     0.24925,     0.25025,     0.25125,     0.25225,     0.25325,     0.25425,     0.25526,     0.25626,     0.25726,     0.25826,     0.25926,     0.26026,     0.26126,     0.26226,     0.26326,\n",
       "           0.26426,     0.26527,     0.26627,     0.26727,     0.26827,     0.26927,     0.27027,     0.27127,     0.27227,     0.27327,     0.27427,     0.27528,     0.27628,     0.27728,     0.27828,     0.27928,     0.28028,     0.28128,     0.28228,     0.28328,     0.28428,     0.28529,     0.28629,     0.28729,\n",
       "           0.28829,     0.28929,     0.29029,     0.29129,     0.29229,     0.29329,     0.29429,      0.2953,      0.2963,      0.2973,      0.2983,      0.2993,      0.3003,      0.3013,      0.3023,      0.3033,      0.3043,     0.30531,     0.30631,     0.30731,     0.30831,     0.30931,     0.31031,     0.31131,\n",
       "           0.31231,     0.31331,     0.31431,     0.31532,     0.31632,     0.31732,     0.31832,     0.31932,     0.32032,     0.32132,     0.32232,     0.32332,     0.32432,     0.32533,     0.32633,     0.32733,     0.32833,     0.32933,     0.33033,     0.33133,     0.33233,     0.33333,     0.33433,     0.33534,\n",
       "           0.33634,     0.33734,     0.33834,     0.33934,     0.34034,     0.34134,     0.34234,     0.34334,     0.34434,     0.34535,     0.34635,     0.34735,     0.34835,     0.34935,     0.35035,     0.35135,     0.35235,     0.35335,     0.35435,     0.35536,     0.35636,     0.35736,     0.35836,     0.35936,\n",
       "           0.36036,     0.36136,     0.36236,     0.36336,     0.36436,     0.36537,     0.36637,     0.36737,     0.36837,     0.36937,     0.37037,     0.37137,     0.37237,     0.37337,     0.37437,     0.37538,     0.37638,     0.37738,     0.37838,     0.37938,     0.38038,     0.38138,     0.38238,     0.38338,\n",
       "           0.38438,     0.38539,     0.38639,     0.38739,     0.38839,     0.38939,     0.39039,     0.39139,     0.39239,     0.39339,     0.39439,      0.3954,      0.3964,      0.3974,      0.3984,      0.3994,      0.4004,      0.4014,      0.4024,      0.4034,      0.4044,     0.40541,     0.40641,     0.40741,\n",
       "           0.40841,     0.40941,     0.41041,     0.41141,     0.41241,     0.41341,     0.41441,     0.41542,     0.41642,     0.41742,     0.41842,     0.41942,     0.42042,     0.42142,     0.42242,     0.42342,     0.42442,     0.42543,     0.42643,     0.42743,     0.42843,     0.42943,     0.43043,     0.43143,\n",
       "           0.43243,     0.43343,     0.43443,     0.43544,     0.43644,     0.43744,     0.43844,     0.43944,     0.44044,     0.44144,     0.44244,     0.44344,     0.44444,     0.44545,     0.44645,     0.44745,     0.44845,     0.44945,     0.45045,     0.45145,     0.45245,     0.45345,     0.45445,     0.45546,\n",
       "           0.45646,     0.45746,     0.45846,     0.45946,     0.46046,     0.46146,     0.46246,     0.46346,     0.46446,     0.46547,     0.46647,     0.46747,     0.46847,     0.46947,     0.47047,     0.47147,     0.47247,     0.47347,     0.47447,     0.47548,     0.47648,     0.47748,     0.47848,     0.47948,\n",
       "           0.48048,     0.48148,     0.48248,     0.48348,     0.48448,     0.48549,     0.48649,     0.48749,     0.48849,     0.48949,     0.49049,     0.49149,     0.49249,     0.49349,     0.49449,      0.4955,      0.4965,      0.4975,      0.4985,      0.4995,      0.5005,      0.5015,      0.5025,      0.5035,\n",
       "            0.5045,     0.50551,     0.50651,     0.50751,     0.50851,     0.50951,     0.51051,     0.51151,     0.51251,     0.51351,     0.51451,     0.51552,     0.51652,     0.51752,     0.51852,     0.51952,     0.52052,     0.52152,     0.52252,     0.52352,     0.52452,     0.52553,     0.52653,     0.52753,\n",
       "           0.52853,     0.52953,     0.53053,     0.53153,     0.53253,     0.53353,     0.53453,     0.53554,     0.53654,     0.53754,     0.53854,     0.53954,     0.54054,     0.54154,     0.54254,     0.54354,     0.54454,     0.54555,     0.54655,     0.54755,     0.54855,     0.54955,     0.55055,     0.55155,\n",
       "           0.55255,     0.55355,     0.55455,     0.55556,     0.55656,     0.55756,     0.55856,     0.55956,     0.56056,     0.56156,     0.56256,     0.56356,     0.56456,     0.56557,     0.56657,     0.56757,     0.56857,     0.56957,     0.57057,     0.57157,     0.57257,     0.57357,     0.57457,     0.57558,\n",
       "           0.57658,     0.57758,     0.57858,     0.57958,     0.58058,     0.58158,     0.58258,     0.58358,     0.58458,     0.58559,     0.58659,     0.58759,     0.58859,     0.58959,     0.59059,     0.59159,     0.59259,     0.59359,     0.59459,      0.5956,      0.5966,      0.5976,      0.5986,      0.5996,\n",
       "            0.6006,      0.6016,      0.6026,      0.6036,      0.6046,     0.60561,     0.60661,     0.60761,     0.60861,     0.60961,     0.61061,     0.61161,     0.61261,     0.61361,     0.61461,     0.61562,     0.61662,     0.61762,     0.61862,     0.61962,     0.62062,     0.62162,     0.62262,     0.62362,\n",
       "           0.62462,     0.62563,     0.62663,     0.62763,     0.62863,     0.62963,     0.63063,     0.63163,     0.63263,     0.63363,     0.63463,     0.63564,     0.63664,     0.63764,     0.63864,     0.63964,     0.64064,     0.64164,     0.64264,     0.64364,     0.64464,     0.64565,     0.64665,     0.64765,\n",
       "           0.64865,     0.64965,     0.65065,     0.65165,     0.65265,     0.65365,     0.65465,     0.65566,     0.65666,     0.65766,     0.65866,     0.65966,     0.66066,     0.66166,     0.66266,     0.66366,     0.66466,     0.66567,     0.66667,     0.66767,     0.66867,     0.66967,     0.67067,     0.67167,\n",
       "           0.67267,     0.67367,     0.67467,     0.67568,     0.67668,     0.67768,     0.67868,     0.67968,     0.68068,     0.68168,     0.68268,     0.68368,     0.68468,     0.68569,     0.68669,     0.68769,     0.68869,     0.68969,     0.69069,     0.69169,     0.69269,     0.69369,     0.69469,      0.6957,\n",
       "            0.6967,      0.6977,      0.6987,      0.6997,      0.7007,      0.7017,      0.7027,      0.7037,      0.7047,     0.70571,     0.70671,     0.70771,     0.70871,     0.70971,     0.71071,     0.71171,     0.71271,     0.71371,     0.71471,     0.71572,     0.71672,     0.71772,     0.71872,     0.71972,\n",
       "           0.72072,     0.72172,     0.72272,     0.72372,     0.72472,     0.72573,     0.72673,     0.72773,     0.72873,     0.72973,     0.73073,     0.73173,     0.73273,     0.73373,     0.73473,     0.73574,     0.73674,     0.73774,     0.73874,     0.73974,     0.74074,     0.74174,     0.74274,     0.74374,\n",
       "           0.74474,     0.74575,     0.74675,     0.74775,     0.74875,     0.74975,     0.75075,     0.75175,     0.75275,     0.75375,     0.75475,     0.75576,     0.75676,     0.75776,     0.75876,     0.75976,     0.76076,     0.76176,     0.76276,     0.76376,     0.76476,     0.76577,     0.76677,     0.76777,\n",
       "           0.76877,     0.76977,     0.77077,     0.77177,     0.77277,     0.77377,     0.77477,     0.77578,     0.77678,     0.77778,     0.77878,     0.77978,     0.78078,     0.78178,     0.78278,     0.78378,     0.78478,     0.78579,     0.78679,     0.78779,     0.78879,     0.78979,     0.79079,     0.79179,\n",
       "           0.79279,     0.79379,     0.79479,      0.7958,      0.7968,      0.7978,      0.7988,      0.7998,      0.8008,      0.8018,      0.8028,      0.8038,      0.8048,     0.80581,     0.80681,     0.80781,     0.80881,     0.80981,     0.81081,     0.81181,     0.81281,     0.81381,     0.81481,     0.81582,\n",
       "           0.81682,     0.81782,     0.81882,     0.81982,     0.82082,     0.82182,     0.82282,     0.82382,     0.82482,     0.82583,     0.82683,     0.82783,     0.82883,     0.82983,     0.83083,     0.83183,     0.83283,     0.83383,     0.83483,     0.83584,     0.83684,     0.83784,     0.83884,     0.83984,\n",
       "           0.84084,     0.84184,     0.84284,     0.84384,     0.84484,     0.84585,     0.84685,     0.84785,     0.84885,     0.84985,     0.85085,     0.85185,     0.85285,     0.85385,     0.85485,     0.85586,     0.85686,     0.85786,     0.85886,     0.85986,     0.86086,     0.86186,     0.86286,     0.86386,\n",
       "           0.86486,     0.86587,     0.86687,     0.86787,     0.86887,     0.86987,     0.87087,     0.87187,     0.87287,     0.87387,     0.87487,     0.87588,     0.87688,     0.87788,     0.87888,     0.87988,     0.88088,     0.88188,     0.88288,     0.88388,     0.88488,     0.88589,     0.88689,     0.88789,\n",
       "           0.88889,     0.88989,     0.89089,     0.89189,     0.89289,     0.89389,     0.89489,      0.8959,      0.8969,      0.8979,      0.8989,      0.8999,      0.9009,      0.9019,      0.9029,      0.9039,      0.9049,     0.90591,     0.90691,     0.90791,     0.90891,     0.90991,     0.91091,     0.91191,\n",
       "           0.91291,     0.91391,     0.91491,     0.91592,     0.91692,     0.91792,     0.91892,     0.91992,     0.92092,     0.92192,     0.92292,     0.92392,     0.92492,     0.92593,     0.92693,     0.92793,     0.92893,     0.92993,     0.93093,     0.93193,     0.93293,     0.93393,     0.93493,     0.93594,\n",
       "           0.93694,     0.93794,     0.93894,     0.93994,     0.94094,     0.94194,     0.94294,     0.94394,     0.94494,     0.94595,     0.94695,     0.94795,     0.94895,     0.94995,     0.95095,     0.95195,     0.95295,     0.95395,     0.95495,     0.95596,     0.95696,     0.95796,     0.95896,     0.95996,\n",
       "           0.96096,     0.96196,     0.96296,     0.96396,     0.96496,     0.96597,     0.96697,     0.96797,     0.96897,     0.96997,     0.97097,     0.97197,     0.97297,     0.97397,     0.97497,     0.97598,     0.97698,     0.97798,     0.97898,     0.97998,     0.98098,     0.98198,     0.98298,     0.98398,\n",
       "           0.98498,     0.98599,     0.98699,     0.98799,     0.98899,     0.98999,     0.99099,     0.99199,     0.99299,     0.99399,     0.99499,       0.996,       0.997,       0.998,       0.999,           1]), array([[          1,           1,           1,           1,           1,           1,           1,           1,           1,           1,           1,           1,           1,           1,           1,           1,           1,           1,           1,           1,           1,           1,           1,\n",
       "                  1,           1,           1,           1,           1,           1,           1,           1,           1,           1,           1,           1,           1,           1,           1,           1,           1,           1,           1,           1,           1,           1,           1,\n",
       "                  1,           1,           1,           1,           1,           1,           1,           1,           1,           1,           1,           1,           1,           1,           1,           1,           1,           1,           1,           1,           1,           1,           1,\n",
       "                  1,           1,           1,           1,           1,           1,           1,           1,           1,           1,           1,           1,           1,           1,           1,           1,           1,           1,           1,           1,           1,           1,           1,\n",
       "                  1,           1,           1,           1,           1,           1,           1,           1,           1,           1,           1,           1,           1,           1,           1,           1,           1,           1,           1,           1,           1,           1,           1,\n",
       "                  1,           1,           1,           1,           1,           1,           1,           1,           1,           1,           1,           1,           1,           1,           1,           1,           1,           1,           1,           1,           1,           1,           1,\n",
       "                  1,           1,           1,           1,           1,           1,           1,           1,           1,           1,           1,           1,           1,           1,           1,           1,           1,           1,           1,           1,           1,           1,           1,\n",
       "                  1,           1,           1,           1,           1,           1,           1,           1,           1,           1,           1,           1,           1,           1,           1,           1,           1,           1,           1,           1,           1,           1,           1,\n",
       "                  1,           1,           1,           1,           1,           1,           1,           1,           1,           1,           1,           1,           1,           1,           1,           1,           1,           1,           1,           1,           1,           1,           1,\n",
       "                  1,           1,           1,           1,           1,           1,           1,           1,           1,           1,           1,           1,           1,           1,           1,           1,           1,           1,           1,           1,           1,           1,           1,\n",
       "                  1,           1,           1,           1,           1,           1,           1,           1,           1,           1,           1,           1,           1,           1,           1,           1,           1,           1,           1,           1,           1,           1,           1,\n",
       "                  1,           1,           1,           1,           1,           1,           1,           1,           1,           1,           1,           1,           1,           1,           1,           1,           1,           1,           1,           1,           1,           1,           1,\n",
       "                  1,           1,           1,           1,           1,           1,           1,           1,           1,           1,           1,           1,           1,           1,           1,           1,           1,           1,           1,           1,           1,           1,           1,\n",
       "                  1,           1,           1,           1,           1,           1,           1,           1,           1,           1,           1,           1,           1,           1,           1,           1,           1,           1,           1,           1,           1,           1,           1,\n",
       "                  1,           1,           1,           1,           1,           1,           1,           1,           1,           1,           1,           1,           1,           1,           1,           1,           1,           1,           1,           1,           1,           1,           1,\n",
       "                  1,           1,           1,           1,           1,           1,           1,           1,           1,           1,           1,           1,           1,           1,           1,           1,           1,           1,           1,           1,           1,           1,           1,\n",
       "                  1,           1,           1,           1,           1,           1,           1,           1,           1,           1,           1,           1,           1,           1,           1,           1,           1,           1,           1,           1,           1,           1,           1,\n",
       "                  1,           1,           1,           1,           1,           1,           1,           1,           1,           1,           1,           1,           1,           1,           1,           1,           1,           1,           1,           1,           1,           1,           1,\n",
       "                  1,           1,           1,           1,           1,           1,           1,           1,           1,           1,           1,           1,           1,           1,           1,           1,           1,           1,           1,           1,           1,           1,           1,\n",
       "                  1,           1,           1,           1,           1,           1,           1,           1,           1,           1,           1,           1,           1,           1,           1,           1,           1,           1,           1,           1,           1,           1,           1,\n",
       "                  1,           1,           1,           1,           1,           1,           1,           1,           1,           1,           1,           1,           1,           1,           1,           1,           1,           1,           1,           1,           1,           1,           1,\n",
       "                  1,           1,           1,           1,           1,           1,           1,     0.99982,     0.99912,     0.99841,     0.99771,       0.997,      0.9963,      0.9956,     0.99489,     0.99419,     0.99348,     0.99278,     0.99208,     0.99137,     0.99067,     0.98996,     0.98926,\n",
       "            0.98856,     0.98785,     0.98715,     0.98644,     0.98574,     0.98504,     0.98433,     0.98363,     0.98292,     0.98222,     0.98152,     0.98081,     0.98011,      0.9794,      0.9787,       0.978,     0.97729,     0.97659,     0.97588,     0.97518,     0.97448,     0.97377,     0.97307,\n",
       "            0.97236,     0.97166,     0.97096,     0.97025,     0.96955,     0.96884,     0.96814,     0.96744,     0.96673,     0.96603,     0.96532,     0.96462,     0.96392,     0.96321,     0.96251,      0.9618,      0.9611,      0.9604,     0.95969,     0.95899,     0.95828,     0.95758,     0.95688,\n",
       "            0.95617,     0.95547,     0.95476,     0.95406,     0.95336,     0.95265,     0.95195,     0.95124,     0.95054,     0.94984,     0.94913,     0.94843,     0.94772,     0.94702,     0.94632,     0.94561,     0.94491,      0.9442,      0.9435,      0.9428,     0.94209,     0.94139,     0.94068,\n",
       "            0.93998,     0.93928,     0.93857,     0.93787,     0.93716,     0.93646,     0.93576,     0.93505,     0.93435,     0.93364,     0.93294,     0.93224,     0.93153,     0.93083,     0.93012,     0.92942,     0.92872,     0.92801,     0.92731,      0.9266,      0.9259,      0.9252,     0.92449,\n",
       "            0.92379,     0.92308,     0.92238,     0.92168,     0.92097,     0.92027,     0.91956,     0.91886,     0.91816,     0.91745,     0.91675,     0.91604,     0.91534,     0.91464,     0.91393,     0.91323,     0.91252,     0.91182,     0.91112,     0.91041,     0.90971,       0.909,      0.9083,\n",
       "             0.9076,     0.90689,     0.90619,     0.90548,     0.90478,     0.90408,     0.90337,     0.90267,     0.90196,     0.90126,     0.90056,     0.89985,     0.89915,     0.89844,     0.89774,     0.89704,     0.89633,     0.89563,     0.89492,     0.89422,     0.89352,     0.89281,     0.89211,\n",
       "             0.8914,      0.8907,        0.89,     0.88929,     0.88859,     0.88788,     0.88718,     0.88648,     0.88577,     0.88507,     0.88436,     0.88366,     0.88296,     0.88225,     0.88155,     0.88084,     0.88014,     0.87944,     0.87873,     0.87803,     0.87732,     0.87662,     0.87592,\n",
       "            0.87521,     0.86783,     0.85758,     0.84733,     0.83708,     0.82683,     0.81658,     0.80633,     0.79608,     0.78583,     0.77558,     0.76533,     0.75508,     0.74976,     0.74927,     0.74878,      0.7483,     0.74781,     0.74733,     0.74684,     0.74636,     0.74587,     0.74539,\n",
       "             0.7449,     0.74442,     0.74393,     0.74345,     0.74296,     0.74248,     0.74199,      0.7415,     0.74102,     0.74053,     0.74005,     0.73956,     0.73908,     0.73859,     0.73811,     0.73762,     0.73714,     0.73665,     0.73617,     0.73568,      0.7352,     0.73471,     0.73422,\n",
       "            0.73374,     0.73325,     0.73277,     0.73228,      0.7318,     0.73131,     0.73083,     0.73034,     0.72986,     0.72937,     0.72889,      0.7284,     0.72792,     0.72743,     0.72694,     0.72646,     0.72597,     0.72549,       0.725,     0.72452,     0.72403,     0.72355,     0.72306,\n",
       "            0.72258,     0.72209,     0.72161,     0.72112,     0.72064,     0.72015,     0.71966,     0.71918,     0.71869,     0.71821,     0.71772,     0.71724,     0.71675,     0.71627,     0.71578,      0.7153,     0.71481,     0.71433,     0.71384,     0.71336,     0.71287,     0.71238,      0.7119,\n",
       "            0.71141,     0.71093,     0.71044,     0.70996,     0.70947,     0.70899,      0.7085,     0.70802,     0.70753,     0.70705,     0.70656,     0.70608,     0.70559,      0.7051,     0.70462,     0.70413,     0.70365,     0.70316,     0.70268,     0.70219,     0.70171,     0.70122,     0.70074,\n",
       "            0.70025,     0.69977,     0.69928,      0.6988,     0.69831,     0.69782,     0.69734,     0.69685,     0.69637,     0.69588,      0.6954,     0.69491,     0.69443,     0.69394,     0.69346,     0.69297,     0.69249,       0.692,     0.69152,     0.69103,     0.69054,     0.69006,     0.68957,\n",
       "            0.68909,      0.6886,     0.68812,     0.68763,     0.68715,     0.68666,     0.68618,     0.68569,     0.68521,     0.68472,     0.68424,     0.68375,     0.68326,     0.68278,     0.68229,     0.68181,     0.68132,     0.68084,     0.68035,     0.67987,     0.67938,      0.6789,     0.67841,\n",
       "            0.67793,     0.67744,     0.67696,     0.67647,     0.67598,      0.6755,     0.67501,     0.67453,     0.67404,     0.67356,     0.67307,     0.67259,      0.6721,     0.67162,     0.67113,     0.67065,     0.67016,     0.66968,     0.66919,      0.6687,     0.66822,     0.66773,     0.66725,\n",
       "            0.66676,     0.66628,     0.66579,     0.66531,     0.66482,     0.66434,     0.66385,     0.66337,     0.66288,      0.6624,     0.66191,     0.66142,     0.66094,     0.66045,     0.65997,     0.65948,       0.659,     0.65851,     0.65803,     0.65754,     0.65706,     0.65657,     0.65609,\n",
       "             0.6556,     0.65512,     0.65463,     0.65414,     0.65366,     0.65317,     0.65269,      0.6522,     0.65172,     0.65123,     0.65075,     0.65026,     0.64978,     0.64929,     0.64881,     0.64832,     0.64784,     0.64735,     0.64686,     0.64638,     0.64589,     0.64541,     0.64492,\n",
       "            0.64444,     0.64395,     0.64347,     0.64298,      0.6425,     0.64201,     0.64153,     0.64104,     0.64056,     0.64007,     0.63958,      0.6391,     0.63861,     0.63813,     0.63764,     0.63716,     0.63667,     0.63619,      0.6357,     0.63522,     0.63473,     0.63425,     0.63376,\n",
       "            0.63328,     0.63279,      0.6323,     0.63182,     0.63133,     0.63085,     0.63036,     0.62988,     0.62939,     0.62891,     0.62842,     0.62794,     0.62745,     0.62697,     0.62648,       0.626,     0.62551,     0.62502,     0.57633,     0.52508,     0.49273,     0.47849,     0.46426,\n",
       "            0.45002,     0.43578,     0.42155,     0.40731,     0.39307,     0.37884,      0.3702,     0.36363,     0.35706,     0.35049,     0.34392,     0.33735,     0.33078,     0.32421,     0.31763,     0.31106,     0.30449,     0.29792,     0.29135,     0.28478,     0.27821,     0.27164,     0.26507,\n",
       "             0.2585,     0.25193,     0.23707,     0.21876,     0.20046,     0.18216,     0.16385,     0.14555,     0.12724,           0,           0,           0,           0,           0,           0,           0,           0,           0,           0,           0,           0,           0,           0,\n",
       "                  0,           0,           0,           0,           0,           0,           0,           0,           0,           0,           0]]), 'Confidence', 'Recall'], [array([          0,    0.001001,    0.002002,    0.003003,    0.004004,    0.005005,    0.006006,    0.007007,    0.008008,    0.009009,     0.01001,    0.011011,    0.012012,    0.013013,    0.014014,    0.015015,    0.016016,    0.017017,    0.018018,    0.019019,     0.02002,    0.021021,    0.022022,    0.023023,\n",
       "          0.024024,    0.025025,    0.026026,    0.027027,    0.028028,    0.029029,     0.03003,    0.031031,    0.032032,    0.033033,    0.034034,    0.035035,    0.036036,    0.037037,    0.038038,    0.039039,     0.04004,    0.041041,    0.042042,    0.043043,    0.044044,    0.045045,    0.046046,    0.047047,\n",
       "          0.048048,    0.049049,     0.05005,    0.051051,    0.052052,    0.053053,    0.054054,    0.055055,    0.056056,    0.057057,    0.058058,    0.059059,     0.06006,    0.061061,    0.062062,    0.063063,    0.064064,    0.065065,    0.066066,    0.067067,    0.068068,    0.069069,     0.07007,    0.071071,\n",
       "          0.072072,    0.073073,    0.074074,    0.075075,    0.076076,    0.077077,    0.078078,    0.079079,     0.08008,    0.081081,    0.082082,    0.083083,    0.084084,    0.085085,    0.086086,    0.087087,    0.088088,    0.089089,     0.09009,    0.091091,    0.092092,    0.093093,    0.094094,    0.095095,\n",
       "          0.096096,    0.097097,    0.098098,    0.099099,      0.1001,      0.1011,      0.1021,      0.1031,      0.1041,     0.10511,     0.10611,     0.10711,     0.10811,     0.10911,     0.11011,     0.11111,     0.11211,     0.11311,     0.11411,     0.11512,     0.11612,     0.11712,     0.11812,     0.11912,\n",
       "           0.12012,     0.12112,     0.12212,     0.12312,     0.12412,     0.12513,     0.12613,     0.12713,     0.12813,     0.12913,     0.13013,     0.13113,     0.13213,     0.13313,     0.13413,     0.13514,     0.13614,     0.13714,     0.13814,     0.13914,     0.14014,     0.14114,     0.14214,     0.14314,\n",
       "           0.14414,     0.14515,     0.14615,     0.14715,     0.14815,     0.14915,     0.15015,     0.15115,     0.15215,     0.15315,     0.15415,     0.15516,     0.15616,     0.15716,     0.15816,     0.15916,     0.16016,     0.16116,     0.16216,     0.16316,     0.16416,     0.16517,     0.16617,     0.16717,\n",
       "           0.16817,     0.16917,     0.17017,     0.17117,     0.17217,     0.17317,     0.17417,     0.17518,     0.17618,     0.17718,     0.17818,     0.17918,     0.18018,     0.18118,     0.18218,     0.18318,     0.18418,     0.18519,     0.18619,     0.18719,     0.18819,     0.18919,     0.19019,     0.19119,\n",
       "           0.19219,     0.19319,     0.19419,      0.1952,      0.1962,      0.1972,      0.1982,      0.1992,      0.2002,      0.2012,      0.2022,      0.2032,      0.2042,     0.20521,     0.20621,     0.20721,     0.20821,     0.20921,     0.21021,     0.21121,     0.21221,     0.21321,     0.21421,     0.21522,\n",
       "           0.21622,     0.21722,     0.21822,     0.21922,     0.22022,     0.22122,     0.22222,     0.22322,     0.22422,     0.22523,     0.22623,     0.22723,     0.22823,     0.22923,     0.23023,     0.23123,     0.23223,     0.23323,     0.23423,     0.23524,     0.23624,     0.23724,     0.23824,     0.23924,\n",
       "           0.24024,     0.24124,     0.24224,     0.24324,     0.24424,     0.24525,     0.24625,     0.24725,     0.24825,     0.24925,     0.25025,     0.25125,     0.25225,     0.25325,     0.25425,     0.25526,     0.25626,     0.25726,     0.25826,     0.25926,     0.26026,     0.26126,     0.26226,     0.26326,\n",
       "           0.26426,     0.26527,     0.26627,     0.26727,     0.26827,     0.26927,     0.27027,     0.27127,     0.27227,     0.27327,     0.27427,     0.27528,     0.27628,     0.27728,     0.27828,     0.27928,     0.28028,     0.28128,     0.28228,     0.28328,     0.28428,     0.28529,     0.28629,     0.28729,\n",
       "           0.28829,     0.28929,     0.29029,     0.29129,     0.29229,     0.29329,     0.29429,      0.2953,      0.2963,      0.2973,      0.2983,      0.2993,      0.3003,      0.3013,      0.3023,      0.3033,      0.3043,     0.30531,     0.30631,     0.30731,     0.30831,     0.30931,     0.31031,     0.31131,\n",
       "           0.31231,     0.31331,     0.31431,     0.31532,     0.31632,     0.31732,     0.31832,     0.31932,     0.32032,     0.32132,     0.32232,     0.32332,     0.32432,     0.32533,     0.32633,     0.32733,     0.32833,     0.32933,     0.33033,     0.33133,     0.33233,     0.33333,     0.33433,     0.33534,\n",
       "           0.33634,     0.33734,     0.33834,     0.33934,     0.34034,     0.34134,     0.34234,     0.34334,     0.34434,     0.34535,     0.34635,     0.34735,     0.34835,     0.34935,     0.35035,     0.35135,     0.35235,     0.35335,     0.35435,     0.35536,     0.35636,     0.35736,     0.35836,     0.35936,\n",
       "           0.36036,     0.36136,     0.36236,     0.36336,     0.36436,     0.36537,     0.36637,     0.36737,     0.36837,     0.36937,     0.37037,     0.37137,     0.37237,     0.37337,     0.37437,     0.37538,     0.37638,     0.37738,     0.37838,     0.37938,     0.38038,     0.38138,     0.38238,     0.38338,\n",
       "           0.38438,     0.38539,     0.38639,     0.38739,     0.38839,     0.38939,     0.39039,     0.39139,     0.39239,     0.39339,     0.39439,      0.3954,      0.3964,      0.3974,      0.3984,      0.3994,      0.4004,      0.4014,      0.4024,      0.4034,      0.4044,     0.40541,     0.40641,     0.40741,\n",
       "           0.40841,     0.40941,     0.41041,     0.41141,     0.41241,     0.41341,     0.41441,     0.41542,     0.41642,     0.41742,     0.41842,     0.41942,     0.42042,     0.42142,     0.42242,     0.42342,     0.42442,     0.42543,     0.42643,     0.42743,     0.42843,     0.42943,     0.43043,     0.43143,\n",
       "           0.43243,     0.43343,     0.43443,     0.43544,     0.43644,     0.43744,     0.43844,     0.43944,     0.44044,     0.44144,     0.44244,     0.44344,     0.44444,     0.44545,     0.44645,     0.44745,     0.44845,     0.44945,     0.45045,     0.45145,     0.45245,     0.45345,     0.45445,     0.45546,\n",
       "           0.45646,     0.45746,     0.45846,     0.45946,     0.46046,     0.46146,     0.46246,     0.46346,     0.46446,     0.46547,     0.46647,     0.46747,     0.46847,     0.46947,     0.47047,     0.47147,     0.47247,     0.47347,     0.47447,     0.47548,     0.47648,     0.47748,     0.47848,     0.47948,\n",
       "           0.48048,     0.48148,     0.48248,     0.48348,     0.48448,     0.48549,     0.48649,     0.48749,     0.48849,     0.48949,     0.49049,     0.49149,     0.49249,     0.49349,     0.49449,      0.4955,      0.4965,      0.4975,      0.4985,      0.4995,      0.5005,      0.5015,      0.5025,      0.5035,\n",
       "            0.5045,     0.50551,     0.50651,     0.50751,     0.50851,     0.50951,     0.51051,     0.51151,     0.51251,     0.51351,     0.51451,     0.51552,     0.51652,     0.51752,     0.51852,     0.51952,     0.52052,     0.52152,     0.52252,     0.52352,     0.52452,     0.52553,     0.52653,     0.52753,\n",
       "           0.52853,     0.52953,     0.53053,     0.53153,     0.53253,     0.53353,     0.53453,     0.53554,     0.53654,     0.53754,     0.53854,     0.53954,     0.54054,     0.54154,     0.54254,     0.54354,     0.54454,     0.54555,     0.54655,     0.54755,     0.54855,     0.54955,     0.55055,     0.55155,\n",
       "           0.55255,     0.55355,     0.55455,     0.55556,     0.55656,     0.55756,     0.55856,     0.55956,     0.56056,     0.56156,     0.56256,     0.56356,     0.56456,     0.56557,     0.56657,     0.56757,     0.56857,     0.56957,     0.57057,     0.57157,     0.57257,     0.57357,     0.57457,     0.57558,\n",
       "           0.57658,     0.57758,     0.57858,     0.57958,     0.58058,     0.58158,     0.58258,     0.58358,     0.58458,     0.58559,     0.58659,     0.58759,     0.58859,     0.58959,     0.59059,     0.59159,     0.59259,     0.59359,     0.59459,      0.5956,      0.5966,      0.5976,      0.5986,      0.5996,\n",
       "            0.6006,      0.6016,      0.6026,      0.6036,      0.6046,     0.60561,     0.60661,     0.60761,     0.60861,     0.60961,     0.61061,     0.61161,     0.61261,     0.61361,     0.61461,     0.61562,     0.61662,     0.61762,     0.61862,     0.61962,     0.62062,     0.62162,     0.62262,     0.62362,\n",
       "           0.62462,     0.62563,     0.62663,     0.62763,     0.62863,     0.62963,     0.63063,     0.63163,     0.63263,     0.63363,     0.63463,     0.63564,     0.63664,     0.63764,     0.63864,     0.63964,     0.64064,     0.64164,     0.64264,     0.64364,     0.64464,     0.64565,     0.64665,     0.64765,\n",
       "           0.64865,     0.64965,     0.65065,     0.65165,     0.65265,     0.65365,     0.65465,     0.65566,     0.65666,     0.65766,     0.65866,     0.65966,     0.66066,     0.66166,     0.66266,     0.66366,     0.66466,     0.66567,     0.66667,     0.66767,     0.66867,     0.66967,     0.67067,     0.67167,\n",
       "           0.67267,     0.67367,     0.67467,     0.67568,     0.67668,     0.67768,     0.67868,     0.67968,     0.68068,     0.68168,     0.68268,     0.68368,     0.68468,     0.68569,     0.68669,     0.68769,     0.68869,     0.68969,     0.69069,     0.69169,     0.69269,     0.69369,     0.69469,      0.6957,\n",
       "            0.6967,      0.6977,      0.6987,      0.6997,      0.7007,      0.7017,      0.7027,      0.7037,      0.7047,     0.70571,     0.70671,     0.70771,     0.70871,     0.70971,     0.71071,     0.71171,     0.71271,     0.71371,     0.71471,     0.71572,     0.71672,     0.71772,     0.71872,     0.71972,\n",
       "           0.72072,     0.72172,     0.72272,     0.72372,     0.72472,     0.72573,     0.72673,     0.72773,     0.72873,     0.72973,     0.73073,     0.73173,     0.73273,     0.73373,     0.73473,     0.73574,     0.73674,     0.73774,     0.73874,     0.73974,     0.74074,     0.74174,     0.74274,     0.74374,\n",
       "           0.74474,     0.74575,     0.74675,     0.74775,     0.74875,     0.74975,     0.75075,     0.75175,     0.75275,     0.75375,     0.75475,     0.75576,     0.75676,     0.75776,     0.75876,     0.75976,     0.76076,     0.76176,     0.76276,     0.76376,     0.76476,     0.76577,     0.76677,     0.76777,\n",
       "           0.76877,     0.76977,     0.77077,     0.77177,     0.77277,     0.77377,     0.77477,     0.77578,     0.77678,     0.77778,     0.77878,     0.77978,     0.78078,     0.78178,     0.78278,     0.78378,     0.78478,     0.78579,     0.78679,     0.78779,     0.78879,     0.78979,     0.79079,     0.79179,\n",
       "           0.79279,     0.79379,     0.79479,      0.7958,      0.7968,      0.7978,      0.7988,      0.7998,      0.8008,      0.8018,      0.8028,      0.8038,      0.8048,     0.80581,     0.80681,     0.80781,     0.80881,     0.80981,     0.81081,     0.81181,     0.81281,     0.81381,     0.81481,     0.81582,\n",
       "           0.81682,     0.81782,     0.81882,     0.81982,     0.82082,     0.82182,     0.82282,     0.82382,     0.82482,     0.82583,     0.82683,     0.82783,     0.82883,     0.82983,     0.83083,     0.83183,     0.83283,     0.83383,     0.83483,     0.83584,     0.83684,     0.83784,     0.83884,     0.83984,\n",
       "           0.84084,     0.84184,     0.84284,     0.84384,     0.84484,     0.84585,     0.84685,     0.84785,     0.84885,     0.84985,     0.85085,     0.85185,     0.85285,     0.85385,     0.85485,     0.85586,     0.85686,     0.85786,     0.85886,     0.85986,     0.86086,     0.86186,     0.86286,     0.86386,\n",
       "           0.86486,     0.86587,     0.86687,     0.86787,     0.86887,     0.86987,     0.87087,     0.87187,     0.87287,     0.87387,     0.87487,     0.87588,     0.87688,     0.87788,     0.87888,     0.87988,     0.88088,     0.88188,     0.88288,     0.88388,     0.88488,     0.88589,     0.88689,     0.88789,\n",
       "           0.88889,     0.88989,     0.89089,     0.89189,     0.89289,     0.89389,     0.89489,      0.8959,      0.8969,      0.8979,      0.8989,      0.8999,      0.9009,      0.9019,      0.9029,      0.9039,      0.9049,     0.90591,     0.90691,     0.90791,     0.90891,     0.90991,     0.91091,     0.91191,\n",
       "           0.91291,     0.91391,     0.91491,     0.91592,     0.91692,     0.91792,     0.91892,     0.91992,     0.92092,     0.92192,     0.92292,     0.92392,     0.92492,     0.92593,     0.92693,     0.92793,     0.92893,     0.92993,     0.93093,     0.93193,     0.93293,     0.93393,     0.93493,     0.93594,\n",
       "           0.93694,     0.93794,     0.93894,     0.93994,     0.94094,     0.94194,     0.94294,     0.94394,     0.94494,     0.94595,     0.94695,     0.94795,     0.94895,     0.94995,     0.95095,     0.95195,     0.95295,     0.95395,     0.95495,     0.95596,     0.95696,     0.95796,     0.95896,     0.95996,\n",
       "           0.96096,     0.96196,     0.96296,     0.96396,     0.96496,     0.96597,     0.96697,     0.96797,     0.96897,     0.96997,     0.97097,     0.97197,     0.97297,     0.97397,     0.97497,     0.97598,     0.97698,     0.97798,     0.97898,     0.97998,     0.98098,     0.98198,     0.98298,     0.98398,\n",
       "           0.98498,     0.98599,     0.98699,     0.98799,     0.98899,     0.98999,     0.99099,     0.99199,     0.99299,     0.99399,     0.99499,       0.996,       0.997,       0.998,       0.999,           1]), array([[          1,           1,           1,           1,           1,           1,           1,           1,           1,           1,           1,           1,           1,           1,           1,           1,           1,           1,           1,           1,           1,           1,           1,\n",
       "                  1,           1,           1,           1,           1,           1,           1,           1,           1,           1,           1,           1,           1,           1,           1,           1,           1,           1,           1,           1,           1,           1,           1,\n",
       "                  1,           1,           1,           1,           1,           1,           1,           1,           1,           1,           1,           1,           1,           1,           1,           1,           1,           1,           1,           1,           1,           1,           1,\n",
       "                  1,           1,           1,           1,           1,           1,           1,           1,           1,           1,           1,           1,           1,           1,           1,           1,           1,           1,           1,           1,           1,           1,           1,\n",
       "                  1,           1,           1,           1,           1,           1,           1,           1,           1,           1,           1,           1,           1,           1,           1,           1,           1,           1,           1,           1,           1,           1,           1,\n",
       "                  1,           1,           1,           1,           1,           1,           1,           1,           1,           1,           1,           1,           1,           1,           1,           1,           1,           1,           1,           1,           1,           1,           1,\n",
       "                  1,           1,           1,           1,           1,           1,           1,           1,           1,           1,           1,           1,           1,           1,           1,           1,           1,           1,           1,           1,           1,           1,           1,\n",
       "                  1,           1,           1,           1,           1,           1,           1,           1,           1,           1,           1,           1,           1,           1,           1,           1,           1,           1,           1,           1,           1,           1,           1,\n",
       "                  1,           1,           1,           1,           1,           1,           1,           1,           1,           1,           1,           1,           1,           1,           1,           1,           1,           1,           1,           1,           1,           1,           1,\n",
       "                  1,           1,           1,           1,           1,           1,           1,           1,           1,           1,           1,           1,           1,           1,           1,           1,           1,           1,           1,           1,           1,           1,           1,\n",
       "                  1,           1,           1,           1,           1,           1,           1,           1,           1,           1,           1,           1,           1,           1,           1,           1,           1,           1,           1,           1,           1,           1,           1,\n",
       "                  1,           1,           1,           1,           1,           1,           1,           1,           1,           1,           1,           1,           1,           1,           1,           1,           1,           1,           1,           1,           1,           1,           1,\n",
       "                  1,           1,           1,           1,           1,           1,           1,           1,           1,           1,           1,           1,           1,           1,           1,           1,           1,           1,           1,           1,           1,           1,           1,\n",
       "                  1,           1,           1,           1,           1,           1,           1,           1,           1,           1,           1,           1,           1,           1,           1,           1,           1,           1,           1,           1,           1,           1,           1,\n",
       "                  1,           1,           1,           1,           1,           1,           1,           1,           1,           1,           1,           1,           1,           1,           1,           1,           1,           1,           1,           1,           1,           1,           1,\n",
       "                  1,           1,           1,           1,           1,           1,           1,           1,           1,           1,           1,           1,           1,           1,           1,           1,           1,           1,           1,           1,           1,           1,           1,\n",
       "                  1,           1,           1,           1,           1,           1,           1,           1,           1,           1,           1,           1,           1,           1,           1,           1,           1,           1,           1,           1,           1,           1,           1,\n",
       "                  1,           1,           1,           1,           1,           1,           1,           1,           1,           1,           1,           1,           1,           1,           1,           1,           1,           1,           1,           1,           1,           1,           1,\n",
       "                  1,           1,           1,           1,           1,           1,           1,           1,           1,           1,           1,           1,           1,           1,           1,           1,           1,           1,           1,           1,           1,           1,           1,\n",
       "                  1,           1,           1,           1,           1,           1,           1,           1,           1,           1,           1,           1,           1,           1,           1,           1,           1,           1,           1,           1,           1,           1,           1,\n",
       "                  1,           1,           1,           1,           1,           1,           1,           1,           1,           1,           1,           1,           1,           1,           1,           1,           1,           1,           1,           1,           1,           1,           1,\n",
       "                  1,           1,           1,           1,           1,           1,           1,           1,           1,           1,           1,           1,           1,           1,           1,           1,           1,           1,           1,           1,           1,           1,           1,\n",
       "                  1,           1,           1,           1,           1,           1,           1,           1,           1,           1,           1,           1,           1,           1,           1,           1,           1,           1,           1,           1,           1,           1,           1,\n",
       "                  1,           1,           1,           1,           1,           1,           1,           1,           1,           1,           1,           1,           1,           1,           1,           1,           1,           1,           1,           1,           1,           1,           1,\n",
       "                  1,           1,           1,           1,           1,           1,           1,           1,           1,           1,           1,           1,           1,           1,           1,           1,           1,           1,           1,           1,           1,           1,           1,\n",
       "                  1,           1,           1,           1,           1,           1,           1,           1,           1,           1,           1,           1,           1,           1,           1,           1,           1,           1,           1,           1,           1,           1,           1,\n",
       "                  1,           1,           1,           1,           1,           1,           1,           1,           1,           1,           1,           1,           1,           1,           1,           1,           1,           1,           1,           1,           1,           1,           1,\n",
       "                  1,           1,           1,           1,           1,           1,           1,           1,           1,           1,           1,           1,           1,           1,           1,           1,           1,           1,           1,           1,           1,           1,           1,\n",
       "                  1,           1,           1,           1,           1,           1,           1,           1,           1,           1,           1,           1,           1,           1,           1,           1,           1,           1,           1,           1,           1,           1,           1,\n",
       "                  1,           1,           1,           1,           1,           1,           1,           1,           1,           1,           1,           1,           1,           1,           1,           1,           1,           1,           1,           1,           1,           1,           1,\n",
       "                  1,           1,           1,           1,           1,           1,           1,           1,           1,           1,           1,           1,           1,           1,           1,           1,           1,           1,           1,           1,           1,           1,           1,\n",
       "                  1,           1,           1,           1,           1,           1,           1,           1,           1,           1,           1,           1,           1,           1,           1,           1,           1,           1,           1,           1,           1,           1,           1,\n",
       "                  1,           1,           1,           1,           1,           1,           1,           1,           1,           1,           1,           1,           1,           1,           1,           1,           1,           1,           1,           1,           1,           1,           1,\n",
       "                  1,           1,           1,           1,           1,           1,           1,           1,           1,           1,           1,           1,           1,           1,           1,           1,           1,           1,           1,           1,           1,           1,           1,\n",
       "                  1,           1,           1,           1,           1,           1,           1,           1,           1,           1,           1,           1,           1,           1,           1,           1,           1,           1,           1,           1,           1,           1,           1,\n",
       "                  1,           1,           1,           1,           1,           1,           1,           1,           1,           1,           1,           1,           1,           1,           1,           1,           1,           1,           1,           1,           1,           1,           1,\n",
       "                  1,           1,           1,           1,           1,           1,           1,           1,           1,           1,           1,           1,           1,           1,           1,           1,           1,           1,           1,           1,           1,           1,           1,\n",
       "                  1,           1,           1,           1,           1,           1,           1,           1,           1,           1,           1,           1,           1,           1,           1,           1,           1,           1,           1,           1,           1,           1,           1,\n",
       "                  1,           1,           1,           1,           1,           1,           1,           1,           1,           1,           1,           1,           1,           1,           1,           1,           1,           1,           1,           1,           1,           1,           1,\n",
       "                  1,           1,           1,           1,           1,           1,           1,           1,           1,           1,           1,           1,           1,           1,           1,           1,           1,           1,           1,           1,           1,           1,           1,\n",
       "                  1,           1,           1,           1,           1,           1,           1,           1,           1,           1,           1,           1,           1,           1,           1,           1,           1,           1,           1,           1,           1,           1,           1,\n",
       "                  1,           1,           1,           1,           1,           1,           1,           1,           1,           1,           1,           1,           1,           1,           1,           1,           1,           1,           1,           1,           1,           1,           1,\n",
       "                  1,           1,           1,           1,           1,           1,           1,           1,           1,           1,           1,           1,           1,           1,           1,           1,           1,           1,           1,           1,           1,           1,           1,\n",
       "                  1,           1,           1,           1,           1,           1,           1,           1,           1,           1,           0]]), 'Recall', 'Precision'], [array([          0,    0.001001,    0.002002,    0.003003,    0.004004,    0.005005,    0.006006,    0.007007,    0.008008,    0.009009,     0.01001,    0.011011,    0.012012,    0.013013,    0.014014,    0.015015,    0.016016,    0.017017,    0.018018,    0.019019,     0.02002,    0.021021,    0.022022,    0.023023,\n",
       "          0.024024,    0.025025,    0.026026,    0.027027,    0.028028,    0.029029,     0.03003,    0.031031,    0.032032,    0.033033,    0.034034,    0.035035,    0.036036,    0.037037,    0.038038,    0.039039,     0.04004,    0.041041,    0.042042,    0.043043,    0.044044,    0.045045,    0.046046,    0.047047,\n",
       "          0.048048,    0.049049,     0.05005,    0.051051,    0.052052,    0.053053,    0.054054,    0.055055,    0.056056,    0.057057,    0.058058,    0.059059,     0.06006,    0.061061,    0.062062,    0.063063,    0.064064,    0.065065,    0.066066,    0.067067,    0.068068,    0.069069,     0.07007,    0.071071,\n",
       "          0.072072,    0.073073,    0.074074,    0.075075,    0.076076,    0.077077,    0.078078,    0.079079,     0.08008,    0.081081,    0.082082,    0.083083,    0.084084,    0.085085,    0.086086,    0.087087,    0.088088,    0.089089,     0.09009,    0.091091,    0.092092,    0.093093,    0.094094,    0.095095,\n",
       "          0.096096,    0.097097,    0.098098,    0.099099,      0.1001,      0.1011,      0.1021,      0.1031,      0.1041,     0.10511,     0.10611,     0.10711,     0.10811,     0.10911,     0.11011,     0.11111,     0.11211,     0.11311,     0.11411,     0.11512,     0.11612,     0.11712,     0.11812,     0.11912,\n",
       "           0.12012,     0.12112,     0.12212,     0.12312,     0.12412,     0.12513,     0.12613,     0.12713,     0.12813,     0.12913,     0.13013,     0.13113,     0.13213,     0.13313,     0.13413,     0.13514,     0.13614,     0.13714,     0.13814,     0.13914,     0.14014,     0.14114,     0.14214,     0.14314,\n",
       "           0.14414,     0.14515,     0.14615,     0.14715,     0.14815,     0.14915,     0.15015,     0.15115,     0.15215,     0.15315,     0.15415,     0.15516,     0.15616,     0.15716,     0.15816,     0.15916,     0.16016,     0.16116,     0.16216,     0.16316,     0.16416,     0.16517,     0.16617,     0.16717,\n",
       "           0.16817,     0.16917,     0.17017,     0.17117,     0.17217,     0.17317,     0.17417,     0.17518,     0.17618,     0.17718,     0.17818,     0.17918,     0.18018,     0.18118,     0.18218,     0.18318,     0.18418,     0.18519,     0.18619,     0.18719,     0.18819,     0.18919,     0.19019,     0.19119,\n",
       "           0.19219,     0.19319,     0.19419,      0.1952,      0.1962,      0.1972,      0.1982,      0.1992,      0.2002,      0.2012,      0.2022,      0.2032,      0.2042,     0.20521,     0.20621,     0.20721,     0.20821,     0.20921,     0.21021,     0.21121,     0.21221,     0.21321,     0.21421,     0.21522,\n",
       "           0.21622,     0.21722,     0.21822,     0.21922,     0.22022,     0.22122,     0.22222,     0.22322,     0.22422,     0.22523,     0.22623,     0.22723,     0.22823,     0.22923,     0.23023,     0.23123,     0.23223,     0.23323,     0.23423,     0.23524,     0.23624,     0.23724,     0.23824,     0.23924,\n",
       "           0.24024,     0.24124,     0.24224,     0.24324,     0.24424,     0.24525,     0.24625,     0.24725,     0.24825,     0.24925,     0.25025,     0.25125,     0.25225,     0.25325,     0.25425,     0.25526,     0.25626,     0.25726,     0.25826,     0.25926,     0.26026,     0.26126,     0.26226,     0.26326,\n",
       "           0.26426,     0.26527,     0.26627,     0.26727,     0.26827,     0.26927,     0.27027,     0.27127,     0.27227,     0.27327,     0.27427,     0.27528,     0.27628,     0.27728,     0.27828,     0.27928,     0.28028,     0.28128,     0.28228,     0.28328,     0.28428,     0.28529,     0.28629,     0.28729,\n",
       "           0.28829,     0.28929,     0.29029,     0.29129,     0.29229,     0.29329,     0.29429,      0.2953,      0.2963,      0.2973,      0.2983,      0.2993,      0.3003,      0.3013,      0.3023,      0.3033,      0.3043,     0.30531,     0.30631,     0.30731,     0.30831,     0.30931,     0.31031,     0.31131,\n",
       "           0.31231,     0.31331,     0.31431,     0.31532,     0.31632,     0.31732,     0.31832,     0.31932,     0.32032,     0.32132,     0.32232,     0.32332,     0.32432,     0.32533,     0.32633,     0.32733,     0.32833,     0.32933,     0.33033,     0.33133,     0.33233,     0.33333,     0.33433,     0.33534,\n",
       "           0.33634,     0.33734,     0.33834,     0.33934,     0.34034,     0.34134,     0.34234,     0.34334,     0.34434,     0.34535,     0.34635,     0.34735,     0.34835,     0.34935,     0.35035,     0.35135,     0.35235,     0.35335,     0.35435,     0.35536,     0.35636,     0.35736,     0.35836,     0.35936,\n",
       "           0.36036,     0.36136,     0.36236,     0.36336,     0.36436,     0.36537,     0.36637,     0.36737,     0.36837,     0.36937,     0.37037,     0.37137,     0.37237,     0.37337,     0.37437,     0.37538,     0.37638,     0.37738,     0.37838,     0.37938,     0.38038,     0.38138,     0.38238,     0.38338,\n",
       "           0.38438,     0.38539,     0.38639,     0.38739,     0.38839,     0.38939,     0.39039,     0.39139,     0.39239,     0.39339,     0.39439,      0.3954,      0.3964,      0.3974,      0.3984,      0.3994,      0.4004,      0.4014,      0.4024,      0.4034,      0.4044,     0.40541,     0.40641,     0.40741,\n",
       "           0.40841,     0.40941,     0.41041,     0.41141,     0.41241,     0.41341,     0.41441,     0.41542,     0.41642,     0.41742,     0.41842,     0.41942,     0.42042,     0.42142,     0.42242,     0.42342,     0.42442,     0.42543,     0.42643,     0.42743,     0.42843,     0.42943,     0.43043,     0.43143,\n",
       "           0.43243,     0.43343,     0.43443,     0.43544,     0.43644,     0.43744,     0.43844,     0.43944,     0.44044,     0.44144,     0.44244,     0.44344,     0.44444,     0.44545,     0.44645,     0.44745,     0.44845,     0.44945,     0.45045,     0.45145,     0.45245,     0.45345,     0.45445,     0.45546,\n",
       "           0.45646,     0.45746,     0.45846,     0.45946,     0.46046,     0.46146,     0.46246,     0.46346,     0.46446,     0.46547,     0.46647,     0.46747,     0.46847,     0.46947,     0.47047,     0.47147,     0.47247,     0.47347,     0.47447,     0.47548,     0.47648,     0.47748,     0.47848,     0.47948,\n",
       "           0.48048,     0.48148,     0.48248,     0.48348,     0.48448,     0.48549,     0.48649,     0.48749,     0.48849,     0.48949,     0.49049,     0.49149,     0.49249,     0.49349,     0.49449,      0.4955,      0.4965,      0.4975,      0.4985,      0.4995,      0.5005,      0.5015,      0.5025,      0.5035,\n",
       "            0.5045,     0.50551,     0.50651,     0.50751,     0.50851,     0.50951,     0.51051,     0.51151,     0.51251,     0.51351,     0.51451,     0.51552,     0.51652,     0.51752,     0.51852,     0.51952,     0.52052,     0.52152,     0.52252,     0.52352,     0.52452,     0.52553,     0.52653,     0.52753,\n",
       "           0.52853,     0.52953,     0.53053,     0.53153,     0.53253,     0.53353,     0.53453,     0.53554,     0.53654,     0.53754,     0.53854,     0.53954,     0.54054,     0.54154,     0.54254,     0.54354,     0.54454,     0.54555,     0.54655,     0.54755,     0.54855,     0.54955,     0.55055,     0.55155,\n",
       "           0.55255,     0.55355,     0.55455,     0.55556,     0.55656,     0.55756,     0.55856,     0.55956,     0.56056,     0.56156,     0.56256,     0.56356,     0.56456,     0.56557,     0.56657,     0.56757,     0.56857,     0.56957,     0.57057,     0.57157,     0.57257,     0.57357,     0.57457,     0.57558,\n",
       "           0.57658,     0.57758,     0.57858,     0.57958,     0.58058,     0.58158,     0.58258,     0.58358,     0.58458,     0.58559,     0.58659,     0.58759,     0.58859,     0.58959,     0.59059,     0.59159,     0.59259,     0.59359,     0.59459,      0.5956,      0.5966,      0.5976,      0.5986,      0.5996,\n",
       "            0.6006,      0.6016,      0.6026,      0.6036,      0.6046,     0.60561,     0.60661,     0.60761,     0.60861,     0.60961,     0.61061,     0.61161,     0.61261,     0.61361,     0.61461,     0.61562,     0.61662,     0.61762,     0.61862,     0.61962,     0.62062,     0.62162,     0.62262,     0.62362,\n",
       "           0.62462,     0.62563,     0.62663,     0.62763,     0.62863,     0.62963,     0.63063,     0.63163,     0.63263,     0.63363,     0.63463,     0.63564,     0.63664,     0.63764,     0.63864,     0.63964,     0.64064,     0.64164,     0.64264,     0.64364,     0.64464,     0.64565,     0.64665,     0.64765,\n",
       "           0.64865,     0.64965,     0.65065,     0.65165,     0.65265,     0.65365,     0.65465,     0.65566,     0.65666,     0.65766,     0.65866,     0.65966,     0.66066,     0.66166,     0.66266,     0.66366,     0.66466,     0.66567,     0.66667,     0.66767,     0.66867,     0.66967,     0.67067,     0.67167,\n",
       "           0.67267,     0.67367,     0.67467,     0.67568,     0.67668,     0.67768,     0.67868,     0.67968,     0.68068,     0.68168,     0.68268,     0.68368,     0.68468,     0.68569,     0.68669,     0.68769,     0.68869,     0.68969,     0.69069,     0.69169,     0.69269,     0.69369,     0.69469,      0.6957,\n",
       "            0.6967,      0.6977,      0.6987,      0.6997,      0.7007,      0.7017,      0.7027,      0.7037,      0.7047,     0.70571,     0.70671,     0.70771,     0.70871,     0.70971,     0.71071,     0.71171,     0.71271,     0.71371,     0.71471,     0.71572,     0.71672,     0.71772,     0.71872,     0.71972,\n",
       "           0.72072,     0.72172,     0.72272,     0.72372,     0.72472,     0.72573,     0.72673,     0.72773,     0.72873,     0.72973,     0.73073,     0.73173,     0.73273,     0.73373,     0.73473,     0.73574,     0.73674,     0.73774,     0.73874,     0.73974,     0.74074,     0.74174,     0.74274,     0.74374,\n",
       "           0.74474,     0.74575,     0.74675,     0.74775,     0.74875,     0.74975,     0.75075,     0.75175,     0.75275,     0.75375,     0.75475,     0.75576,     0.75676,     0.75776,     0.75876,     0.75976,     0.76076,     0.76176,     0.76276,     0.76376,     0.76476,     0.76577,     0.76677,     0.76777,\n",
       "           0.76877,     0.76977,     0.77077,     0.77177,     0.77277,     0.77377,     0.77477,     0.77578,     0.77678,     0.77778,     0.77878,     0.77978,     0.78078,     0.78178,     0.78278,     0.78378,     0.78478,     0.78579,     0.78679,     0.78779,     0.78879,     0.78979,     0.79079,     0.79179,\n",
       "           0.79279,     0.79379,     0.79479,      0.7958,      0.7968,      0.7978,      0.7988,      0.7998,      0.8008,      0.8018,      0.8028,      0.8038,      0.8048,     0.80581,     0.80681,     0.80781,     0.80881,     0.80981,     0.81081,     0.81181,     0.81281,     0.81381,     0.81481,     0.81582,\n",
       "           0.81682,     0.81782,     0.81882,     0.81982,     0.82082,     0.82182,     0.82282,     0.82382,     0.82482,     0.82583,     0.82683,     0.82783,     0.82883,     0.82983,     0.83083,     0.83183,     0.83283,     0.83383,     0.83483,     0.83584,     0.83684,     0.83784,     0.83884,     0.83984,\n",
       "           0.84084,     0.84184,     0.84284,     0.84384,     0.84484,     0.84585,     0.84685,     0.84785,     0.84885,     0.84985,     0.85085,     0.85185,     0.85285,     0.85385,     0.85485,     0.85586,     0.85686,     0.85786,     0.85886,     0.85986,     0.86086,     0.86186,     0.86286,     0.86386,\n",
       "           0.86486,     0.86587,     0.86687,     0.86787,     0.86887,     0.86987,     0.87087,     0.87187,     0.87287,     0.87387,     0.87487,     0.87588,     0.87688,     0.87788,     0.87888,     0.87988,     0.88088,     0.88188,     0.88288,     0.88388,     0.88488,     0.88589,     0.88689,     0.88789,\n",
       "           0.88889,     0.88989,     0.89089,     0.89189,     0.89289,     0.89389,     0.89489,      0.8959,      0.8969,      0.8979,      0.8989,      0.8999,      0.9009,      0.9019,      0.9029,      0.9039,      0.9049,     0.90591,     0.90691,     0.90791,     0.90891,     0.90991,     0.91091,     0.91191,\n",
       "           0.91291,     0.91391,     0.91491,     0.91592,     0.91692,     0.91792,     0.91892,     0.91992,     0.92092,     0.92192,     0.92292,     0.92392,     0.92492,     0.92593,     0.92693,     0.92793,     0.92893,     0.92993,     0.93093,     0.93193,     0.93293,     0.93393,     0.93493,     0.93594,\n",
       "           0.93694,     0.93794,     0.93894,     0.93994,     0.94094,     0.94194,     0.94294,     0.94394,     0.94494,     0.94595,     0.94695,     0.94795,     0.94895,     0.94995,     0.95095,     0.95195,     0.95295,     0.95395,     0.95495,     0.95596,     0.95696,     0.95796,     0.95896,     0.95996,\n",
       "           0.96096,     0.96196,     0.96296,     0.96396,     0.96496,     0.96597,     0.96697,     0.96797,     0.96897,     0.96997,     0.97097,     0.97197,     0.97297,     0.97397,     0.97497,     0.97598,     0.97698,     0.97798,     0.97898,     0.97998,     0.98098,     0.98198,     0.98298,     0.98398,\n",
       "           0.98498,     0.98599,     0.98699,     0.98799,     0.98899,     0.98999,     0.99099,     0.99199,     0.99299,     0.99399,     0.99499,       0.996,       0.997,       0.998,       0.999,           1]), array([[  0.0066445,   0.0066445,   0.0066445,     0.01357,    0.018495,    0.020582,    0.022024,     0.02342,    0.025855,    0.031854,    0.041132,    0.060962,    0.092525,     0.12845,     0.17227,     0.21623,     0.25384,      0.3061,     0.31868,      0.3819,     0.45976,     0.55666,     0.60217,\n",
       "            0.62296,     0.63439,     0.69261,     0.73976,     0.75279,     0.77572,     0.85554,     0.88538,     0.88964,      0.8905,     0.89135,     0.89221,     0.89306,     0.89391,     0.89476,     0.89561,     0.89645,      0.8973,     0.89814,     0.89899,     0.89983,     0.90067,     0.90151,\n",
       "            0.90235,     0.90318,     0.90402,     0.90485,     0.90568,     0.90652,     0.90735,     0.90817,       0.909,     0.90983,     0.91065,     0.91148,      0.9123,     0.91312,     0.91394,     0.91476,     0.91558,      0.9164,     0.91721,     0.91803,     0.91884,     0.91965,     0.92046,\n",
       "            0.92127,     0.92208,     0.92288,     0.92369,     0.92449,      0.9253,      0.9261,      0.9269,      0.9277,      0.9285,     0.92929,     0.93009,     0.93089,     0.93168,     0.93247,     0.93326,     0.93405,     0.93484,     0.93563,     0.93642,      0.9372,     0.93799,     0.93877,\n",
       "            0.93955,     0.94033,     0.94111,     0.94132,     0.94148,     0.94164,     0.94179,     0.94195,     0.94211,     0.94226,     0.94242,     0.94258,     0.94274,     0.94289,     0.94305,     0.94321,     0.94336,     0.94352,     0.94368,     0.94383,     0.94399,     0.94415,      0.9443,\n",
       "            0.94446,     0.94462,     0.94477,     0.94493,     0.94508,     0.94524,      0.9454,     0.94555,     0.94571,     0.94587,     0.94602,     0.94618,     0.94633,     0.94649,     0.94664,      0.9468,     0.94696,     0.94711,     0.94727,     0.94742,     0.94758,     0.94773,     0.94789,\n",
       "            0.94804,      0.9482,     0.94836,     0.94851,     0.94867,     0.94882,     0.94898,     0.94913,     0.94929,     0.94944,      0.9496,     0.94975,     0.94991,     0.95006,     0.95022,     0.95037,     0.95053,     0.95068,     0.95083,     0.95099,     0.95114,      0.9513,     0.95145,\n",
       "            0.95161,     0.95176,     0.95192,     0.95207,     0.95222,     0.95238,     0.95253,     0.95269,     0.95284,     0.95299,     0.95315,      0.9533,     0.95346,     0.95361,     0.95376,     0.95392,     0.95407,     0.95422,     0.95438,     0.95453,     0.95468,     0.95484,     0.95499,\n",
       "            0.95514,      0.9553,     0.95545,      0.9556,     0.95576,     0.95591,     0.95606,     0.95622,     0.95637,     0.95652,     0.95667,     0.95683,     0.95698,     0.95713,     0.95729,     0.95744,     0.95759,     0.95774,      0.9579,     0.95805,      0.9582,     0.95835,     0.95851,\n",
       "            0.95866,     0.95881,     0.95896,     0.95911,     0.95927,     0.95942,     0.95957,     0.95972,     0.95987,     0.96003,     0.96018,     0.96033,     0.96048,     0.96063,     0.96079,     0.96094,     0.96109,     0.96124,     0.96139,     0.96154,     0.96169,     0.96185,       0.962,\n",
       "            0.96215,      0.9623,     0.96245,      0.9626,     0.96275,      0.9629,     0.96305,     0.96321,     0.96336,     0.96351,     0.96366,     0.96381,     0.96396,     0.96411,     0.96426,     0.96441,     0.96456,     0.96471,     0.96486,     0.96501,     0.96516,     0.96531,     0.96547,\n",
       "            0.96562,     0.96577,     0.96592,     0.96607,     0.96622,     0.96637,     0.96652,     0.96667,     0.96682,     0.96697,     0.96712,     0.96727,     0.96741,     0.96756,     0.96771,     0.96786,     0.96801,     0.96816,     0.96831,     0.96846,     0.96861,     0.96876,     0.96891,\n",
       "            0.96906,     0.96921,     0.96936,     0.96951,     0.96966,      0.9698,     0.96995,      0.9701,     0.97025,      0.9704,     0.97055,      0.9707,     0.97085,       0.971,     0.97114,     0.97129,     0.97144,     0.97159,     0.97174,     0.97189,     0.97204,     0.97218,     0.97233,\n",
       "            0.97248,     0.97263,     0.97278,     0.97292,     0.97307,     0.97322,     0.97337,     0.97352,     0.97366,     0.97381,     0.97396,     0.97411,     0.97426,      0.9744,     0.97455,      0.9747,     0.97485,     0.97499,     0.97514,     0.97529,     0.97544,     0.97558,     0.97573,\n",
       "            0.97588,     0.97603,     0.97617,     0.97632,     0.97647,     0.97661,     0.97676,     0.97691,     0.97706,      0.9772,     0.97735,      0.9775,     0.97764,     0.97779,     0.97794,     0.97808,     0.97823,     0.97838,     0.97852,     0.97867,     0.97882,     0.97896,     0.97911,\n",
       "            0.97925,      0.9794,     0.97955,     0.97969,     0.97984,     0.97999,     0.98013,     0.98028,     0.98042,     0.98057,     0.98072,     0.98086,     0.98101,     0.98115,      0.9813,     0.98144,     0.98159,     0.98174,     0.98188,     0.98203,     0.98217,     0.98232,     0.98246,\n",
       "            0.98261,     0.98275,      0.9829,     0.98304,     0.98319,     0.98333,     0.98348,     0.98362,     0.98377,     0.98391,     0.98406,      0.9842,     0.98435,     0.98449,     0.98464,     0.98478,     0.98493,     0.98507,     0.98522,     0.98536,     0.98551,     0.98565,      0.9858,\n",
       "            0.98594,     0.98608,     0.98623,     0.98637,     0.98652,     0.98666,     0.98681,     0.98695,     0.98709,     0.98724,     0.98738,     0.98753,     0.98767,     0.98781,     0.98796,      0.9881,     0.98825,     0.98839,     0.98853,     0.98868,     0.98882,     0.98896,     0.98911,\n",
       "            0.98925,     0.98939,     0.98954,     0.98968,     0.98982,     0.98997,     0.99011,     0.99025,      0.9904,     0.99054,     0.99068,     0.99083,     0.99097,     0.99111,     0.99125,      0.9914,     0.99154,     0.99168,     0.99183,     0.99197,     0.99211,     0.99225,      0.9924,\n",
       "            0.99254,     0.99268,     0.99282,     0.99297,     0.99311,     0.99325,     0.99339,     0.99354,     0.99368,     0.99382,     0.99396,      0.9941,     0.99425,     0.99439,     0.99453,     0.99467,     0.99481,     0.99496,      0.9951,     0.99524,     0.99538,     0.99552,     0.99566,\n",
       "            0.99581,     0.99595,     0.99609,     0.99623,     0.99637,     0.99651,     0.99665,      0.9968,     0.99694,     0.99708,     0.99722,     0.99736,      0.9975,     0.99764,     0.99778,     0.99793,     0.99807,     0.99821,     0.99835,     0.99849,     0.99863,     0.99877,     0.99891,\n",
       "            0.99905,     0.99919,     0.99933,     0.99947,     0.99961,     0.99976,      0.9999,     0.99991,     0.99956,     0.99921,     0.99885,      0.9985,     0.99815,     0.99779,     0.99744,     0.99709,     0.99673,     0.99638,     0.99602,     0.99567,     0.99531,     0.99496,      0.9946,\n",
       "            0.99425,     0.99389,     0.99353,     0.99318,     0.99282,     0.99246,      0.9921,     0.99175,     0.99139,     0.99103,     0.99067,     0.99031,     0.98995,     0.98959,     0.98924,     0.98888,     0.98852,     0.98816,     0.98779,     0.98743,     0.98707,     0.98671,     0.98635,\n",
       "            0.98599,     0.98563,     0.98526,      0.9849,     0.98454,     0.98418,     0.98381,     0.98345,     0.98308,     0.98272,     0.98236,     0.98199,     0.98163,     0.98126,      0.9809,     0.98053,     0.98016,      0.9798,     0.97943,     0.97906,      0.9787,     0.97833,     0.97796,\n",
       "            0.97759,     0.97723,     0.97686,     0.97649,     0.97612,     0.97575,     0.97538,     0.97501,     0.97464,     0.97427,      0.9739,     0.97353,     0.97316,     0.97279,     0.97242,     0.97205,     0.97167,      0.9713,     0.97093,     0.97056,     0.97018,     0.96981,     0.96944,\n",
       "            0.96906,     0.96869,     0.96831,     0.96794,     0.96756,     0.96719,     0.96681,     0.96644,     0.96606,     0.96568,     0.96531,     0.96493,     0.96455,     0.96417,      0.9638,     0.96342,     0.96304,     0.96266,     0.96228,      0.9619,     0.96152,     0.96114,     0.96076,\n",
       "            0.96038,        0.96,     0.95962,     0.95924,     0.95886,     0.95848,      0.9581,     0.95771,     0.95733,     0.95695,     0.95657,     0.95618,      0.9558,     0.95541,     0.95503,     0.95465,     0.95426,     0.95388,     0.95349,     0.95311,     0.95272,     0.95233,     0.95195,\n",
       "            0.95156,     0.95117,     0.95079,      0.9504,     0.95001,     0.94962,     0.94923,     0.94884,     0.94846,     0.94807,     0.94768,     0.94729,      0.9469,     0.94651,     0.94611,     0.94572,     0.94533,     0.94494,     0.94455,     0.94416,     0.94376,     0.94337,     0.94298,\n",
       "            0.94258,     0.94219,      0.9418,      0.9414,     0.94101,     0.94061,     0.94022,     0.93982,     0.93943,     0.93903,     0.93863,     0.93824,     0.93784,     0.93744,     0.93705,     0.93665,     0.93625,     0.93585,     0.93545,     0.93505,     0.93465,     0.93425,     0.93385,\n",
       "            0.93345,     0.92924,     0.92333,     0.91736,     0.91132,     0.90521,     0.89903,     0.89278,     0.88646,     0.88007,     0.87361,     0.86707,     0.86045,     0.85698,     0.85667,     0.85635,     0.85603,     0.85571,      0.8554,     0.85508,     0.85476,     0.85444,     0.85412,\n",
       "             0.8538,     0.85348,     0.85317,     0.85285,     0.85253,     0.85221,     0.85189,     0.85157,     0.85125,     0.85093,     0.85061,     0.85029,     0.84997,     0.84964,     0.84932,       0.849,     0.84868,     0.84836,     0.84804,     0.84771,     0.84739,     0.84707,     0.84675,\n",
       "            0.84642,      0.8461,     0.84578,     0.84545,     0.84513,     0.84481,     0.84448,     0.84416,     0.84383,     0.84351,     0.84319,     0.84286,     0.84254,     0.84221,     0.84189,     0.84156,     0.84123,     0.84091,     0.84058,     0.84026,     0.83993,      0.8396,     0.83928,\n",
       "            0.83895,     0.83862,     0.83829,     0.83797,     0.83764,     0.83731,     0.83698,     0.83665,     0.83633,       0.836,     0.83567,     0.83534,     0.83501,     0.83468,     0.83435,     0.83402,     0.83369,     0.83336,     0.83303,      0.8327,     0.83237,     0.83204,     0.83171,\n",
       "            0.83138,     0.83104,     0.83071,     0.83038,     0.83005,     0.82972,     0.82938,     0.82905,     0.82872,     0.82839,     0.82805,     0.82772,     0.82739,     0.82705,     0.82672,     0.82638,     0.82605,     0.82571,     0.82538,     0.82504,     0.82471,     0.82437,     0.82404,\n",
       "             0.8237,     0.82337,     0.82303,      0.8227,     0.82236,     0.82202,     0.82169,     0.82135,     0.82101,     0.82067,     0.82034,        0.82,     0.81966,     0.81932,     0.81898,     0.81864,     0.81831,     0.81797,     0.81763,     0.81729,     0.81695,     0.81661,     0.81627,\n",
       "            0.81593,     0.81559,     0.81525,     0.81491,     0.81457,     0.81423,     0.81388,     0.81354,      0.8132,     0.81286,     0.81252,     0.81218,     0.81183,     0.81149,     0.81115,      0.8108,     0.81046,     0.81012,     0.80977,     0.80943,     0.80909,     0.80874,      0.8084,\n",
       "            0.80805,     0.80771,     0.80736,     0.80702,     0.80667,     0.80633,     0.80598,     0.80563,     0.80529,     0.80494,     0.80459,     0.80425,      0.8039,     0.80355,     0.80321,     0.80286,     0.80251,     0.80216,     0.80181,     0.80147,     0.80112,     0.80077,     0.80042,\n",
       "            0.80007,     0.79972,     0.79937,     0.79902,     0.79867,     0.79832,     0.79797,     0.79762,     0.79727,     0.79692,     0.79657,     0.79621,     0.79586,     0.79551,     0.79516,     0.79481,     0.79445,      0.7941,     0.79375,     0.79339,     0.79304,     0.79269,     0.79233,\n",
       "            0.79198,     0.79162,     0.79127,     0.79092,     0.79056,     0.79021,     0.78985,      0.7895,     0.78914,     0.78878,     0.78843,     0.78807,     0.78771,     0.78736,       0.787,     0.78664,     0.78629,     0.78593,     0.78557,     0.78521,     0.78485,      0.7845,     0.78414,\n",
       "            0.78378,     0.78342,     0.78306,      0.7827,     0.78234,     0.78198,     0.78162,     0.78126,      0.7809,     0.78054,     0.78018,     0.77982,     0.77946,     0.77909,     0.77873,     0.77837,     0.77801,     0.77765,     0.77728,     0.77692,     0.77656,     0.77619,     0.77583,\n",
       "            0.77547,      0.7751,     0.77474,     0.77437,     0.77401,     0.77364,     0.77328,     0.77291,     0.77255,     0.77218,     0.77182,     0.77145,     0.77108,     0.77072,     0.77035,     0.76998,     0.76962,     0.76925,     0.73123,     0.68859,     0.66017,     0.64727,     0.63412,\n",
       "            0.62071,     0.60703,     0.59308,     0.57885,     0.56433,      0.5495,     0.54036,     0.53333,     0.52622,     0.51905,     0.51181,      0.5045,     0.49712,     0.48966,     0.48213,     0.47452,     0.46684,     0.45908,     0.45124,     0.44332,     0.43531,     0.42723,     0.41906,\n",
       "            0.41081,     0.40246,     0.38327,     0.35899,     0.33397,     0.30818,     0.28157,     0.25411,     0.22576,           0,           0,           0,           0,           0,           0,           0,           0,           0,           0,           0,           0,           0,           0,\n",
       "                  0,           0,           0,           0,           0,           0,           0,           0,           0,           0,           0]]), 'Confidence', 'F1'], [array([          0,    0.001001,    0.002002,    0.003003,    0.004004,    0.005005,    0.006006,    0.007007,    0.008008,    0.009009,     0.01001,    0.011011,    0.012012,    0.013013,    0.014014,    0.015015,    0.016016,    0.017017,    0.018018,    0.019019,     0.02002,    0.021021,    0.022022,    0.023023,\n",
       "          0.024024,    0.025025,    0.026026,    0.027027,    0.028028,    0.029029,     0.03003,    0.031031,    0.032032,    0.033033,    0.034034,    0.035035,    0.036036,    0.037037,    0.038038,    0.039039,     0.04004,    0.041041,    0.042042,    0.043043,    0.044044,    0.045045,    0.046046,    0.047047,\n",
       "          0.048048,    0.049049,     0.05005,    0.051051,    0.052052,    0.053053,    0.054054,    0.055055,    0.056056,    0.057057,    0.058058,    0.059059,     0.06006,    0.061061,    0.062062,    0.063063,    0.064064,    0.065065,    0.066066,    0.067067,    0.068068,    0.069069,     0.07007,    0.071071,\n",
       "          0.072072,    0.073073,    0.074074,    0.075075,    0.076076,    0.077077,    0.078078,    0.079079,     0.08008,    0.081081,    0.082082,    0.083083,    0.084084,    0.085085,    0.086086,    0.087087,    0.088088,    0.089089,     0.09009,    0.091091,    0.092092,    0.093093,    0.094094,    0.095095,\n",
       "          0.096096,    0.097097,    0.098098,    0.099099,      0.1001,      0.1011,      0.1021,      0.1031,      0.1041,     0.10511,     0.10611,     0.10711,     0.10811,     0.10911,     0.11011,     0.11111,     0.11211,     0.11311,     0.11411,     0.11512,     0.11612,     0.11712,     0.11812,     0.11912,\n",
       "           0.12012,     0.12112,     0.12212,     0.12312,     0.12412,     0.12513,     0.12613,     0.12713,     0.12813,     0.12913,     0.13013,     0.13113,     0.13213,     0.13313,     0.13413,     0.13514,     0.13614,     0.13714,     0.13814,     0.13914,     0.14014,     0.14114,     0.14214,     0.14314,\n",
       "           0.14414,     0.14515,     0.14615,     0.14715,     0.14815,     0.14915,     0.15015,     0.15115,     0.15215,     0.15315,     0.15415,     0.15516,     0.15616,     0.15716,     0.15816,     0.15916,     0.16016,     0.16116,     0.16216,     0.16316,     0.16416,     0.16517,     0.16617,     0.16717,\n",
       "           0.16817,     0.16917,     0.17017,     0.17117,     0.17217,     0.17317,     0.17417,     0.17518,     0.17618,     0.17718,     0.17818,     0.17918,     0.18018,     0.18118,     0.18218,     0.18318,     0.18418,     0.18519,     0.18619,     0.18719,     0.18819,     0.18919,     0.19019,     0.19119,\n",
       "           0.19219,     0.19319,     0.19419,      0.1952,      0.1962,      0.1972,      0.1982,      0.1992,      0.2002,      0.2012,      0.2022,      0.2032,      0.2042,     0.20521,     0.20621,     0.20721,     0.20821,     0.20921,     0.21021,     0.21121,     0.21221,     0.21321,     0.21421,     0.21522,\n",
       "           0.21622,     0.21722,     0.21822,     0.21922,     0.22022,     0.22122,     0.22222,     0.22322,     0.22422,     0.22523,     0.22623,     0.22723,     0.22823,     0.22923,     0.23023,     0.23123,     0.23223,     0.23323,     0.23423,     0.23524,     0.23624,     0.23724,     0.23824,     0.23924,\n",
       "           0.24024,     0.24124,     0.24224,     0.24324,     0.24424,     0.24525,     0.24625,     0.24725,     0.24825,     0.24925,     0.25025,     0.25125,     0.25225,     0.25325,     0.25425,     0.25526,     0.25626,     0.25726,     0.25826,     0.25926,     0.26026,     0.26126,     0.26226,     0.26326,\n",
       "           0.26426,     0.26527,     0.26627,     0.26727,     0.26827,     0.26927,     0.27027,     0.27127,     0.27227,     0.27327,     0.27427,     0.27528,     0.27628,     0.27728,     0.27828,     0.27928,     0.28028,     0.28128,     0.28228,     0.28328,     0.28428,     0.28529,     0.28629,     0.28729,\n",
       "           0.28829,     0.28929,     0.29029,     0.29129,     0.29229,     0.29329,     0.29429,      0.2953,      0.2963,      0.2973,      0.2983,      0.2993,      0.3003,      0.3013,      0.3023,      0.3033,      0.3043,     0.30531,     0.30631,     0.30731,     0.30831,     0.30931,     0.31031,     0.31131,\n",
       "           0.31231,     0.31331,     0.31431,     0.31532,     0.31632,     0.31732,     0.31832,     0.31932,     0.32032,     0.32132,     0.32232,     0.32332,     0.32432,     0.32533,     0.32633,     0.32733,     0.32833,     0.32933,     0.33033,     0.33133,     0.33233,     0.33333,     0.33433,     0.33534,\n",
       "           0.33634,     0.33734,     0.33834,     0.33934,     0.34034,     0.34134,     0.34234,     0.34334,     0.34434,     0.34535,     0.34635,     0.34735,     0.34835,     0.34935,     0.35035,     0.35135,     0.35235,     0.35335,     0.35435,     0.35536,     0.35636,     0.35736,     0.35836,     0.35936,\n",
       "           0.36036,     0.36136,     0.36236,     0.36336,     0.36436,     0.36537,     0.36637,     0.36737,     0.36837,     0.36937,     0.37037,     0.37137,     0.37237,     0.37337,     0.37437,     0.37538,     0.37638,     0.37738,     0.37838,     0.37938,     0.38038,     0.38138,     0.38238,     0.38338,\n",
       "           0.38438,     0.38539,     0.38639,     0.38739,     0.38839,     0.38939,     0.39039,     0.39139,     0.39239,     0.39339,     0.39439,      0.3954,      0.3964,      0.3974,      0.3984,      0.3994,      0.4004,      0.4014,      0.4024,      0.4034,      0.4044,     0.40541,     0.40641,     0.40741,\n",
       "           0.40841,     0.40941,     0.41041,     0.41141,     0.41241,     0.41341,     0.41441,     0.41542,     0.41642,     0.41742,     0.41842,     0.41942,     0.42042,     0.42142,     0.42242,     0.42342,     0.42442,     0.42543,     0.42643,     0.42743,     0.42843,     0.42943,     0.43043,     0.43143,\n",
       "           0.43243,     0.43343,     0.43443,     0.43544,     0.43644,     0.43744,     0.43844,     0.43944,     0.44044,     0.44144,     0.44244,     0.44344,     0.44444,     0.44545,     0.44645,     0.44745,     0.44845,     0.44945,     0.45045,     0.45145,     0.45245,     0.45345,     0.45445,     0.45546,\n",
       "           0.45646,     0.45746,     0.45846,     0.45946,     0.46046,     0.46146,     0.46246,     0.46346,     0.46446,     0.46547,     0.46647,     0.46747,     0.46847,     0.46947,     0.47047,     0.47147,     0.47247,     0.47347,     0.47447,     0.47548,     0.47648,     0.47748,     0.47848,     0.47948,\n",
       "           0.48048,     0.48148,     0.48248,     0.48348,     0.48448,     0.48549,     0.48649,     0.48749,     0.48849,     0.48949,     0.49049,     0.49149,     0.49249,     0.49349,     0.49449,      0.4955,      0.4965,      0.4975,      0.4985,      0.4995,      0.5005,      0.5015,      0.5025,      0.5035,\n",
       "            0.5045,     0.50551,     0.50651,     0.50751,     0.50851,     0.50951,     0.51051,     0.51151,     0.51251,     0.51351,     0.51451,     0.51552,     0.51652,     0.51752,     0.51852,     0.51952,     0.52052,     0.52152,     0.52252,     0.52352,     0.52452,     0.52553,     0.52653,     0.52753,\n",
       "           0.52853,     0.52953,     0.53053,     0.53153,     0.53253,     0.53353,     0.53453,     0.53554,     0.53654,     0.53754,     0.53854,     0.53954,     0.54054,     0.54154,     0.54254,     0.54354,     0.54454,     0.54555,     0.54655,     0.54755,     0.54855,     0.54955,     0.55055,     0.55155,\n",
       "           0.55255,     0.55355,     0.55455,     0.55556,     0.55656,     0.55756,     0.55856,     0.55956,     0.56056,     0.56156,     0.56256,     0.56356,     0.56456,     0.56557,     0.56657,     0.56757,     0.56857,     0.56957,     0.57057,     0.57157,     0.57257,     0.57357,     0.57457,     0.57558,\n",
       "           0.57658,     0.57758,     0.57858,     0.57958,     0.58058,     0.58158,     0.58258,     0.58358,     0.58458,     0.58559,     0.58659,     0.58759,     0.58859,     0.58959,     0.59059,     0.59159,     0.59259,     0.59359,     0.59459,      0.5956,      0.5966,      0.5976,      0.5986,      0.5996,\n",
       "            0.6006,      0.6016,      0.6026,      0.6036,      0.6046,     0.60561,     0.60661,     0.60761,     0.60861,     0.60961,     0.61061,     0.61161,     0.61261,     0.61361,     0.61461,     0.61562,     0.61662,     0.61762,     0.61862,     0.61962,     0.62062,     0.62162,     0.62262,     0.62362,\n",
       "           0.62462,     0.62563,     0.62663,     0.62763,     0.62863,     0.62963,     0.63063,     0.63163,     0.63263,     0.63363,     0.63463,     0.63564,     0.63664,     0.63764,     0.63864,     0.63964,     0.64064,     0.64164,     0.64264,     0.64364,     0.64464,     0.64565,     0.64665,     0.64765,\n",
       "           0.64865,     0.64965,     0.65065,     0.65165,     0.65265,     0.65365,     0.65465,     0.65566,     0.65666,     0.65766,     0.65866,     0.65966,     0.66066,     0.66166,     0.66266,     0.66366,     0.66466,     0.66567,     0.66667,     0.66767,     0.66867,     0.66967,     0.67067,     0.67167,\n",
       "           0.67267,     0.67367,     0.67467,     0.67568,     0.67668,     0.67768,     0.67868,     0.67968,     0.68068,     0.68168,     0.68268,     0.68368,     0.68468,     0.68569,     0.68669,     0.68769,     0.68869,     0.68969,     0.69069,     0.69169,     0.69269,     0.69369,     0.69469,      0.6957,\n",
       "            0.6967,      0.6977,      0.6987,      0.6997,      0.7007,      0.7017,      0.7027,      0.7037,      0.7047,     0.70571,     0.70671,     0.70771,     0.70871,     0.70971,     0.71071,     0.71171,     0.71271,     0.71371,     0.71471,     0.71572,     0.71672,     0.71772,     0.71872,     0.71972,\n",
       "           0.72072,     0.72172,     0.72272,     0.72372,     0.72472,     0.72573,     0.72673,     0.72773,     0.72873,     0.72973,     0.73073,     0.73173,     0.73273,     0.73373,     0.73473,     0.73574,     0.73674,     0.73774,     0.73874,     0.73974,     0.74074,     0.74174,     0.74274,     0.74374,\n",
       "           0.74474,     0.74575,     0.74675,     0.74775,     0.74875,     0.74975,     0.75075,     0.75175,     0.75275,     0.75375,     0.75475,     0.75576,     0.75676,     0.75776,     0.75876,     0.75976,     0.76076,     0.76176,     0.76276,     0.76376,     0.76476,     0.76577,     0.76677,     0.76777,\n",
       "           0.76877,     0.76977,     0.77077,     0.77177,     0.77277,     0.77377,     0.77477,     0.77578,     0.77678,     0.77778,     0.77878,     0.77978,     0.78078,     0.78178,     0.78278,     0.78378,     0.78478,     0.78579,     0.78679,     0.78779,     0.78879,     0.78979,     0.79079,     0.79179,\n",
       "           0.79279,     0.79379,     0.79479,      0.7958,      0.7968,      0.7978,      0.7988,      0.7998,      0.8008,      0.8018,      0.8028,      0.8038,      0.8048,     0.80581,     0.80681,     0.80781,     0.80881,     0.80981,     0.81081,     0.81181,     0.81281,     0.81381,     0.81481,     0.81582,\n",
       "           0.81682,     0.81782,     0.81882,     0.81982,     0.82082,     0.82182,     0.82282,     0.82382,     0.82482,     0.82583,     0.82683,     0.82783,     0.82883,     0.82983,     0.83083,     0.83183,     0.83283,     0.83383,     0.83483,     0.83584,     0.83684,     0.83784,     0.83884,     0.83984,\n",
       "           0.84084,     0.84184,     0.84284,     0.84384,     0.84484,     0.84585,     0.84685,     0.84785,     0.84885,     0.84985,     0.85085,     0.85185,     0.85285,     0.85385,     0.85485,     0.85586,     0.85686,     0.85786,     0.85886,     0.85986,     0.86086,     0.86186,     0.86286,     0.86386,\n",
       "           0.86486,     0.86587,     0.86687,     0.86787,     0.86887,     0.86987,     0.87087,     0.87187,     0.87287,     0.87387,     0.87487,     0.87588,     0.87688,     0.87788,     0.87888,     0.87988,     0.88088,     0.88188,     0.88288,     0.88388,     0.88488,     0.88589,     0.88689,     0.88789,\n",
       "           0.88889,     0.88989,     0.89089,     0.89189,     0.89289,     0.89389,     0.89489,      0.8959,      0.8969,      0.8979,      0.8989,      0.8999,      0.9009,      0.9019,      0.9029,      0.9039,      0.9049,     0.90591,     0.90691,     0.90791,     0.90891,     0.90991,     0.91091,     0.91191,\n",
       "           0.91291,     0.91391,     0.91491,     0.91592,     0.91692,     0.91792,     0.91892,     0.91992,     0.92092,     0.92192,     0.92292,     0.92392,     0.92492,     0.92593,     0.92693,     0.92793,     0.92893,     0.92993,     0.93093,     0.93193,     0.93293,     0.93393,     0.93493,     0.93594,\n",
       "           0.93694,     0.93794,     0.93894,     0.93994,     0.94094,     0.94194,     0.94294,     0.94394,     0.94494,     0.94595,     0.94695,     0.94795,     0.94895,     0.94995,     0.95095,     0.95195,     0.95295,     0.95395,     0.95495,     0.95596,     0.95696,     0.95796,     0.95896,     0.95996,\n",
       "           0.96096,     0.96196,     0.96296,     0.96396,     0.96496,     0.96597,     0.96697,     0.96797,     0.96897,     0.96997,     0.97097,     0.97197,     0.97297,     0.97397,     0.97497,     0.97598,     0.97698,     0.97798,     0.97898,     0.97998,     0.98098,     0.98198,     0.98298,     0.98398,\n",
       "           0.98498,     0.98599,     0.98699,     0.98799,     0.98899,     0.98999,     0.99099,     0.99199,     0.99299,     0.99399,     0.99499,       0.996,       0.997,       0.998,       0.999,           1]), array([[  0.0033333,   0.0033333,   0.0033333,   0.0068312,   0.0093339,    0.010398,    0.011135,    0.011849,    0.013097,    0.016185,    0.020998,    0.031439,    0.048506,    0.068632,    0.094253,     0.12122,     0.14537,     0.18071,     0.18954,     0.23602,      0.2985,     0.38568,     0.43079,\n",
       "            0.45239,     0.46455,     0.52977,       0.587,     0.60357,     0.63362,     0.74756,     0.79433,     0.80122,     0.80261,       0.804,     0.80539,     0.80678,     0.80817,     0.80956,     0.81095,     0.81234,     0.81373,     0.81512,     0.81651,      0.8179,     0.81929,     0.82068,\n",
       "            0.82207,     0.82346,     0.82485,     0.82624,     0.82763,     0.82902,     0.83041,      0.8318,     0.83318,     0.83457,     0.83596,     0.83735,     0.83874,     0.84013,     0.84152,     0.84291,      0.8443,     0.84569,     0.84708,     0.84847,     0.84986,     0.85125,     0.85264,\n",
       "            0.85403,     0.85542,     0.85681,      0.8582,     0.85959,     0.86098,     0.86237,     0.86376,     0.86515,     0.86654,     0.86793,     0.86932,     0.87071,      0.8721,     0.87349,     0.87488,     0.87627,     0.87766,     0.87905,     0.88044,     0.88182,     0.88321,      0.8846,\n",
       "            0.88599,     0.88738,     0.88877,     0.88915,     0.88943,     0.88971,     0.88999,     0.89027,     0.89055,     0.89083,     0.89111,     0.89139,     0.89167,     0.89195,     0.89224,     0.89252,      0.8928,     0.89308,     0.89336,     0.89364,     0.89392,      0.8942,     0.89448,\n",
       "            0.89476,     0.89504,     0.89532,     0.89561,     0.89589,     0.89617,     0.89645,     0.89673,     0.89701,     0.89729,     0.89757,     0.89785,     0.89813,     0.89841,     0.89869,     0.89898,     0.89926,     0.89954,     0.89982,      0.9001,     0.90038,     0.90066,     0.90094,\n",
       "            0.90122,      0.9015,     0.90178,     0.90206,     0.90235,     0.90263,     0.90291,     0.90319,     0.90347,     0.90375,     0.90403,     0.90431,     0.90459,     0.90487,     0.90515,     0.90543,     0.90571,       0.906,     0.90628,     0.90656,     0.90684,     0.90712,      0.9074,\n",
       "            0.90768,     0.90796,     0.90824,     0.90852,      0.9088,     0.90908,     0.90937,     0.90965,     0.90993,     0.91021,     0.91049,     0.91077,     0.91105,     0.91133,     0.91161,     0.91189,     0.91217,     0.91245,     0.91274,     0.91302,      0.9133,     0.91358,     0.91386,\n",
       "            0.91414,     0.91442,      0.9147,     0.91498,     0.91526,     0.91554,     0.91582,     0.91611,     0.91639,     0.91667,     0.91695,     0.91723,     0.91751,     0.91779,     0.91807,     0.91835,     0.91863,     0.91891,     0.91919,     0.91948,     0.91976,     0.92004,     0.92032,\n",
       "             0.9206,     0.92088,     0.92116,     0.92144,     0.92172,       0.922,     0.92228,     0.92256,     0.92285,     0.92313,     0.92341,     0.92369,     0.92397,     0.92425,     0.92453,     0.92481,     0.92509,     0.92537,     0.92565,     0.92593,     0.92622,      0.9265,     0.92678,\n",
       "            0.92706,     0.92734,     0.92762,      0.9279,     0.92818,     0.92846,     0.92874,     0.92902,      0.9293,     0.92959,     0.92987,     0.93015,     0.93043,     0.93071,     0.93099,     0.93127,     0.93155,     0.93183,     0.93211,     0.93239,     0.93267,     0.93295,     0.93324,\n",
       "            0.93352,      0.9338,     0.93408,     0.93436,     0.93464,     0.93492,      0.9352,     0.93548,     0.93576,     0.93604,     0.93632,     0.93661,     0.93689,     0.93717,     0.93745,     0.93773,     0.93801,     0.93829,     0.93857,     0.93885,     0.93913,     0.93941,     0.93969,\n",
       "            0.93998,     0.94026,     0.94054,     0.94082,      0.9411,     0.94138,     0.94166,     0.94194,     0.94222,      0.9425,     0.94278,     0.94306,     0.94335,     0.94363,     0.94391,     0.94419,     0.94447,     0.94475,     0.94503,     0.94531,     0.94559,     0.94587,     0.94615,\n",
       "            0.94643,     0.94672,       0.947,     0.94728,     0.94756,     0.94784,     0.94812,      0.9484,     0.94868,     0.94896,     0.94924,     0.94952,      0.9498,     0.95009,     0.95037,     0.95065,     0.95093,     0.95121,     0.95149,     0.95177,     0.95205,     0.95233,     0.95261,\n",
       "            0.95289,     0.95317,     0.95346,     0.95374,     0.95402,      0.9543,     0.95458,     0.95486,     0.95514,     0.95542,      0.9557,     0.95598,     0.95626,     0.95654,     0.95682,     0.95711,     0.95739,     0.95767,     0.95795,     0.95823,     0.95851,     0.95879,     0.95907,\n",
       "            0.95935,     0.95963,     0.95991,     0.96019,     0.96048,     0.96076,     0.96104,     0.96132,      0.9616,     0.96188,     0.96216,     0.96244,     0.96272,       0.963,     0.96328,     0.96356,     0.96385,     0.96413,     0.96441,     0.96469,     0.96497,     0.96525,     0.96553,\n",
       "            0.96581,     0.96609,     0.96637,     0.96665,     0.96693,     0.96722,      0.9675,     0.96778,     0.96806,     0.96834,     0.96862,      0.9689,     0.96918,     0.96946,     0.96974,     0.97002,      0.9703,     0.97059,     0.97087,     0.97115,     0.97143,     0.97171,     0.97199,\n",
       "            0.97227,     0.97255,     0.97283,     0.97311,     0.97339,     0.97367,     0.97396,     0.97424,     0.97452,      0.9748,     0.97508,     0.97536,     0.97564,     0.97592,      0.9762,     0.97648,     0.97676,     0.97704,     0.97733,     0.97761,     0.97789,     0.97817,     0.97845,\n",
       "            0.97873,     0.97901,     0.97929,     0.97957,     0.97985,     0.98013,     0.98041,     0.98069,     0.98098,     0.98126,     0.98154,     0.98182,      0.9821,     0.98238,     0.98266,     0.98294,     0.98322,      0.9835,     0.98378,     0.98406,     0.98435,     0.98463,     0.98491,\n",
       "            0.98519,     0.98547,     0.98575,     0.98603,     0.98631,     0.98659,     0.98687,     0.98715,     0.98743,     0.98772,       0.988,     0.98828,     0.98856,     0.98884,     0.98912,      0.9894,     0.98968,     0.98996,     0.99024,     0.99052,      0.9908,     0.99109,     0.99137,\n",
       "            0.99165,     0.99193,     0.99221,     0.99249,     0.99277,     0.99305,     0.99333,     0.99361,     0.99389,     0.99417,     0.99446,     0.99474,     0.99502,      0.9953,     0.99558,     0.99586,     0.99614,     0.99642,      0.9967,     0.99698,     0.99726,     0.99754,     0.99783,\n",
       "            0.99811,     0.99839,     0.99867,     0.99895,     0.99923,     0.99951,     0.99979,           1,           1,           1,           1,           1,           1,           1,           1,           1,           1,           1,           1,           1,           1,           1,           1,\n",
       "                  1,           1,           1,           1,           1,           1,           1,           1,           1,           1,           1,           1,           1,           1,           1,           1,           1,           1,           1,           1,           1,           1,           1,\n",
       "                  1,           1,           1,           1,           1,           1,           1,           1,           1,           1,           1,           1,           1,           1,           1,           1,           1,           1,           1,           1,           1,           1,           1,\n",
       "                  1,           1,           1,           1,           1,           1,           1,           1,           1,           1,           1,           1,           1,           1,           1,           1,           1,           1,           1,           1,           1,           1,           1,\n",
       "                  1,           1,           1,           1,           1,           1,           1,           1,           1,           1,           1,           1,           1,           1,           1,           1,           1,           1,           1,           1,           1,           1,           1,\n",
       "                  1,           1,           1,           1,           1,           1,           1,           1,           1,           1,           1,           1,           1,           1,           1,           1,           1,           1,           1,           1,           1,           1,           1,\n",
       "                  1,           1,           1,           1,           1,           1,           1,           1,           1,           1,           1,           1,           1,           1,           1,           1,           1,           1,           1,           1,           1,           1,           1,\n",
       "                  1,           1,           1,           1,           1,           1,           1,           1,           1,           1,           1,           1,           1,           1,           1,           1,           1,           1,           1,           1,           1,           1,           1,\n",
       "                  1,           1,           1,           1,           1,           1,           1,           1,           1,           1,           1,           1,           1,           1,           1,           1,           1,           1,           1,           1,           1,           1,           1,\n",
       "                  1,           1,           1,           1,           1,           1,           1,           1,           1,           1,           1,           1,           1,           1,           1,           1,           1,           1,           1,           1,           1,           1,           1,\n",
       "                  1,           1,           1,           1,           1,           1,           1,           1,           1,           1,           1,           1,           1,           1,           1,           1,           1,           1,           1,           1,           1,           1,           1,\n",
       "                  1,           1,           1,           1,           1,           1,           1,           1,           1,           1,           1,           1,           1,           1,           1,           1,           1,           1,           1,           1,           1,           1,           1,\n",
       "                  1,           1,           1,           1,           1,           1,           1,           1,           1,           1,           1,           1,           1,           1,           1,           1,           1,           1,           1,           1,           1,           1,           1,\n",
       "                  1,           1,           1,           1,           1,           1,           1,           1,           1,           1,           1,           1,           1,           1,           1,           1,           1,           1,           1,           1,           1,           1,           1,\n",
       "                  1,           1,           1,           1,           1,           1,           1,           1,           1,           1,           1,           1,           1,           1,           1,           1,           1,           1,           1,           1,           1,           1,           1,\n",
       "                  1,           1,           1,           1,           1,           1,           1,           1,           1,           1,           1,           1,           1,           1,           1,           1,           1,           1,           1,           1,           1,           1,           1,\n",
       "                  1,           1,           1,           1,           1,           1,           1,           1,           1,           1,           1,           1,           1,           1,           1,           1,           1,           1,           1,           1,           1,           1,           1,\n",
       "                  1,           1,           1,           1,           1,           1,           1,           1,           1,           1,           1,           1,           1,           1,           1,           1,           1,           1,           1,           1,           1,           1,           1,\n",
       "                  1,           1,           1,           1,           1,           1,           1,           1,           1,           1,           1,           1,           1,           1,           1,           1,           1,           1,           1,           1,           1,           1,           1,\n",
       "                  1,           1,           1,           1,           1,           1,           1,           1,           1,           1,           1,           1,           1,           1,           1,           1,           1,           1,           1,           1,           1,           1,           1,\n",
       "                  1,           1,           1,           1,           1,           1,           1,           1,           1,           1,           1,           1,           1,           1,           1,           1,           1,           1,           1,           1,           1,           1,           1,\n",
       "                  1,           1,           1,           1,           1,           1,           1,           1,           1,           1,           1,           1,           1,           1,           1,           1,           1,           1,           1,           1,           1,           1,           1,\n",
       "                  1,           1,           1,           1,           1,           1,           1,           1,           1,           1,           1]]), 'Confidence', 'Precision'], [array([          0,    0.001001,    0.002002,    0.003003,    0.004004,    0.005005,    0.006006,    0.007007,    0.008008,    0.009009,     0.01001,    0.011011,    0.012012,    0.013013,    0.014014,    0.015015,    0.016016,    0.017017,    0.018018,    0.019019,     0.02002,    0.021021,    0.022022,    0.023023,\n",
       "          0.024024,    0.025025,    0.026026,    0.027027,    0.028028,    0.029029,     0.03003,    0.031031,    0.032032,    0.033033,    0.034034,    0.035035,    0.036036,    0.037037,    0.038038,    0.039039,     0.04004,    0.041041,    0.042042,    0.043043,    0.044044,    0.045045,    0.046046,    0.047047,\n",
       "          0.048048,    0.049049,     0.05005,    0.051051,    0.052052,    0.053053,    0.054054,    0.055055,    0.056056,    0.057057,    0.058058,    0.059059,     0.06006,    0.061061,    0.062062,    0.063063,    0.064064,    0.065065,    0.066066,    0.067067,    0.068068,    0.069069,     0.07007,    0.071071,\n",
       "          0.072072,    0.073073,    0.074074,    0.075075,    0.076076,    0.077077,    0.078078,    0.079079,     0.08008,    0.081081,    0.082082,    0.083083,    0.084084,    0.085085,    0.086086,    0.087087,    0.088088,    0.089089,     0.09009,    0.091091,    0.092092,    0.093093,    0.094094,    0.095095,\n",
       "          0.096096,    0.097097,    0.098098,    0.099099,      0.1001,      0.1011,      0.1021,      0.1031,      0.1041,     0.10511,     0.10611,     0.10711,     0.10811,     0.10911,     0.11011,     0.11111,     0.11211,     0.11311,     0.11411,     0.11512,     0.11612,     0.11712,     0.11812,     0.11912,\n",
       "           0.12012,     0.12112,     0.12212,     0.12312,     0.12412,     0.12513,     0.12613,     0.12713,     0.12813,     0.12913,     0.13013,     0.13113,     0.13213,     0.13313,     0.13413,     0.13514,     0.13614,     0.13714,     0.13814,     0.13914,     0.14014,     0.14114,     0.14214,     0.14314,\n",
       "           0.14414,     0.14515,     0.14615,     0.14715,     0.14815,     0.14915,     0.15015,     0.15115,     0.15215,     0.15315,     0.15415,     0.15516,     0.15616,     0.15716,     0.15816,     0.15916,     0.16016,     0.16116,     0.16216,     0.16316,     0.16416,     0.16517,     0.16617,     0.16717,\n",
       "           0.16817,     0.16917,     0.17017,     0.17117,     0.17217,     0.17317,     0.17417,     0.17518,     0.17618,     0.17718,     0.17818,     0.17918,     0.18018,     0.18118,     0.18218,     0.18318,     0.18418,     0.18519,     0.18619,     0.18719,     0.18819,     0.18919,     0.19019,     0.19119,\n",
       "           0.19219,     0.19319,     0.19419,      0.1952,      0.1962,      0.1972,      0.1982,      0.1992,      0.2002,      0.2012,      0.2022,      0.2032,      0.2042,     0.20521,     0.20621,     0.20721,     0.20821,     0.20921,     0.21021,     0.21121,     0.21221,     0.21321,     0.21421,     0.21522,\n",
       "           0.21622,     0.21722,     0.21822,     0.21922,     0.22022,     0.22122,     0.22222,     0.22322,     0.22422,     0.22523,     0.22623,     0.22723,     0.22823,     0.22923,     0.23023,     0.23123,     0.23223,     0.23323,     0.23423,     0.23524,     0.23624,     0.23724,     0.23824,     0.23924,\n",
       "           0.24024,     0.24124,     0.24224,     0.24324,     0.24424,     0.24525,     0.24625,     0.24725,     0.24825,     0.24925,     0.25025,     0.25125,     0.25225,     0.25325,     0.25425,     0.25526,     0.25626,     0.25726,     0.25826,     0.25926,     0.26026,     0.26126,     0.26226,     0.26326,\n",
       "           0.26426,     0.26527,     0.26627,     0.26727,     0.26827,     0.26927,     0.27027,     0.27127,     0.27227,     0.27327,     0.27427,     0.27528,     0.27628,     0.27728,     0.27828,     0.27928,     0.28028,     0.28128,     0.28228,     0.28328,     0.28428,     0.28529,     0.28629,     0.28729,\n",
       "           0.28829,     0.28929,     0.29029,     0.29129,     0.29229,     0.29329,     0.29429,      0.2953,      0.2963,      0.2973,      0.2983,      0.2993,      0.3003,      0.3013,      0.3023,      0.3033,      0.3043,     0.30531,     0.30631,     0.30731,     0.30831,     0.30931,     0.31031,     0.31131,\n",
       "           0.31231,     0.31331,     0.31431,     0.31532,     0.31632,     0.31732,     0.31832,     0.31932,     0.32032,     0.32132,     0.32232,     0.32332,     0.32432,     0.32533,     0.32633,     0.32733,     0.32833,     0.32933,     0.33033,     0.33133,     0.33233,     0.33333,     0.33433,     0.33534,\n",
       "           0.33634,     0.33734,     0.33834,     0.33934,     0.34034,     0.34134,     0.34234,     0.34334,     0.34434,     0.34535,     0.34635,     0.34735,     0.34835,     0.34935,     0.35035,     0.35135,     0.35235,     0.35335,     0.35435,     0.35536,     0.35636,     0.35736,     0.35836,     0.35936,\n",
       "           0.36036,     0.36136,     0.36236,     0.36336,     0.36436,     0.36537,     0.36637,     0.36737,     0.36837,     0.36937,     0.37037,     0.37137,     0.37237,     0.37337,     0.37437,     0.37538,     0.37638,     0.37738,     0.37838,     0.37938,     0.38038,     0.38138,     0.38238,     0.38338,\n",
       "           0.38438,     0.38539,     0.38639,     0.38739,     0.38839,     0.38939,     0.39039,     0.39139,     0.39239,     0.39339,     0.39439,      0.3954,      0.3964,      0.3974,      0.3984,      0.3994,      0.4004,      0.4014,      0.4024,      0.4034,      0.4044,     0.40541,     0.40641,     0.40741,\n",
       "           0.40841,     0.40941,     0.41041,     0.41141,     0.41241,     0.41341,     0.41441,     0.41542,     0.41642,     0.41742,     0.41842,     0.41942,     0.42042,     0.42142,     0.42242,     0.42342,     0.42442,     0.42543,     0.42643,     0.42743,     0.42843,     0.42943,     0.43043,     0.43143,\n",
       "           0.43243,     0.43343,     0.43443,     0.43544,     0.43644,     0.43744,     0.43844,     0.43944,     0.44044,     0.44144,     0.44244,     0.44344,     0.44444,     0.44545,     0.44645,     0.44745,     0.44845,     0.44945,     0.45045,     0.45145,     0.45245,     0.45345,     0.45445,     0.45546,\n",
       "           0.45646,     0.45746,     0.45846,     0.45946,     0.46046,     0.46146,     0.46246,     0.46346,     0.46446,     0.46547,     0.46647,     0.46747,     0.46847,     0.46947,     0.47047,     0.47147,     0.47247,     0.47347,     0.47447,     0.47548,     0.47648,     0.47748,     0.47848,     0.47948,\n",
       "           0.48048,     0.48148,     0.48248,     0.48348,     0.48448,     0.48549,     0.48649,     0.48749,     0.48849,     0.48949,     0.49049,     0.49149,     0.49249,     0.49349,     0.49449,      0.4955,      0.4965,      0.4975,      0.4985,      0.4995,      0.5005,      0.5015,      0.5025,      0.5035,\n",
       "            0.5045,     0.50551,     0.50651,     0.50751,     0.50851,     0.50951,     0.51051,     0.51151,     0.51251,     0.51351,     0.51451,     0.51552,     0.51652,     0.51752,     0.51852,     0.51952,     0.52052,     0.52152,     0.52252,     0.52352,     0.52452,     0.52553,     0.52653,     0.52753,\n",
       "           0.52853,     0.52953,     0.53053,     0.53153,     0.53253,     0.53353,     0.53453,     0.53554,     0.53654,     0.53754,     0.53854,     0.53954,     0.54054,     0.54154,     0.54254,     0.54354,     0.54454,     0.54555,     0.54655,     0.54755,     0.54855,     0.54955,     0.55055,     0.55155,\n",
       "           0.55255,     0.55355,     0.55455,     0.55556,     0.55656,     0.55756,     0.55856,     0.55956,     0.56056,     0.56156,     0.56256,     0.56356,     0.56456,     0.56557,     0.56657,     0.56757,     0.56857,     0.56957,     0.57057,     0.57157,     0.57257,     0.57357,     0.57457,     0.57558,\n",
       "           0.57658,     0.57758,     0.57858,     0.57958,     0.58058,     0.58158,     0.58258,     0.58358,     0.58458,     0.58559,     0.58659,     0.58759,     0.58859,     0.58959,     0.59059,     0.59159,     0.59259,     0.59359,     0.59459,      0.5956,      0.5966,      0.5976,      0.5986,      0.5996,\n",
       "            0.6006,      0.6016,      0.6026,      0.6036,      0.6046,     0.60561,     0.60661,     0.60761,     0.60861,     0.60961,     0.61061,     0.61161,     0.61261,     0.61361,     0.61461,     0.61562,     0.61662,     0.61762,     0.61862,     0.61962,     0.62062,     0.62162,     0.62262,     0.62362,\n",
       "           0.62462,     0.62563,     0.62663,     0.62763,     0.62863,     0.62963,     0.63063,     0.63163,     0.63263,     0.63363,     0.63463,     0.63564,     0.63664,     0.63764,     0.63864,     0.63964,     0.64064,     0.64164,     0.64264,     0.64364,     0.64464,     0.64565,     0.64665,     0.64765,\n",
       "           0.64865,     0.64965,     0.65065,     0.65165,     0.65265,     0.65365,     0.65465,     0.65566,     0.65666,     0.65766,     0.65866,     0.65966,     0.66066,     0.66166,     0.66266,     0.66366,     0.66466,     0.66567,     0.66667,     0.66767,     0.66867,     0.66967,     0.67067,     0.67167,\n",
       "           0.67267,     0.67367,     0.67467,     0.67568,     0.67668,     0.67768,     0.67868,     0.67968,     0.68068,     0.68168,     0.68268,     0.68368,     0.68468,     0.68569,     0.68669,     0.68769,     0.68869,     0.68969,     0.69069,     0.69169,     0.69269,     0.69369,     0.69469,      0.6957,\n",
       "            0.6967,      0.6977,      0.6987,      0.6997,      0.7007,      0.7017,      0.7027,      0.7037,      0.7047,     0.70571,     0.70671,     0.70771,     0.70871,     0.70971,     0.71071,     0.71171,     0.71271,     0.71371,     0.71471,     0.71572,     0.71672,     0.71772,     0.71872,     0.71972,\n",
       "           0.72072,     0.72172,     0.72272,     0.72372,     0.72472,     0.72573,     0.72673,     0.72773,     0.72873,     0.72973,     0.73073,     0.73173,     0.73273,     0.73373,     0.73473,     0.73574,     0.73674,     0.73774,     0.73874,     0.73974,     0.74074,     0.74174,     0.74274,     0.74374,\n",
       "           0.74474,     0.74575,     0.74675,     0.74775,     0.74875,     0.74975,     0.75075,     0.75175,     0.75275,     0.75375,     0.75475,     0.75576,     0.75676,     0.75776,     0.75876,     0.75976,     0.76076,     0.76176,     0.76276,     0.76376,     0.76476,     0.76577,     0.76677,     0.76777,\n",
       "           0.76877,     0.76977,     0.77077,     0.77177,     0.77277,     0.77377,     0.77477,     0.77578,     0.77678,     0.77778,     0.77878,     0.77978,     0.78078,     0.78178,     0.78278,     0.78378,     0.78478,     0.78579,     0.78679,     0.78779,     0.78879,     0.78979,     0.79079,     0.79179,\n",
       "           0.79279,     0.79379,     0.79479,      0.7958,      0.7968,      0.7978,      0.7988,      0.7998,      0.8008,      0.8018,      0.8028,      0.8038,      0.8048,     0.80581,     0.80681,     0.80781,     0.80881,     0.80981,     0.81081,     0.81181,     0.81281,     0.81381,     0.81481,     0.81582,\n",
       "           0.81682,     0.81782,     0.81882,     0.81982,     0.82082,     0.82182,     0.82282,     0.82382,     0.82482,     0.82583,     0.82683,     0.82783,     0.82883,     0.82983,     0.83083,     0.83183,     0.83283,     0.83383,     0.83483,     0.83584,     0.83684,     0.83784,     0.83884,     0.83984,\n",
       "           0.84084,     0.84184,     0.84284,     0.84384,     0.84484,     0.84585,     0.84685,     0.84785,     0.84885,     0.84985,     0.85085,     0.85185,     0.85285,     0.85385,     0.85485,     0.85586,     0.85686,     0.85786,     0.85886,     0.85986,     0.86086,     0.86186,     0.86286,     0.86386,\n",
       "           0.86486,     0.86587,     0.86687,     0.86787,     0.86887,     0.86987,     0.87087,     0.87187,     0.87287,     0.87387,     0.87487,     0.87588,     0.87688,     0.87788,     0.87888,     0.87988,     0.88088,     0.88188,     0.88288,     0.88388,     0.88488,     0.88589,     0.88689,     0.88789,\n",
       "           0.88889,     0.88989,     0.89089,     0.89189,     0.89289,     0.89389,     0.89489,      0.8959,      0.8969,      0.8979,      0.8989,      0.8999,      0.9009,      0.9019,      0.9029,      0.9039,      0.9049,     0.90591,     0.90691,     0.90791,     0.90891,     0.90991,     0.91091,     0.91191,\n",
       "           0.91291,     0.91391,     0.91491,     0.91592,     0.91692,     0.91792,     0.91892,     0.91992,     0.92092,     0.92192,     0.92292,     0.92392,     0.92492,     0.92593,     0.92693,     0.92793,     0.92893,     0.92993,     0.93093,     0.93193,     0.93293,     0.93393,     0.93493,     0.93594,\n",
       "           0.93694,     0.93794,     0.93894,     0.93994,     0.94094,     0.94194,     0.94294,     0.94394,     0.94494,     0.94595,     0.94695,     0.94795,     0.94895,     0.94995,     0.95095,     0.95195,     0.95295,     0.95395,     0.95495,     0.95596,     0.95696,     0.95796,     0.95896,     0.95996,\n",
       "           0.96096,     0.96196,     0.96296,     0.96396,     0.96496,     0.96597,     0.96697,     0.96797,     0.96897,     0.96997,     0.97097,     0.97197,     0.97297,     0.97397,     0.97497,     0.97598,     0.97698,     0.97798,     0.97898,     0.97998,     0.98098,     0.98198,     0.98298,     0.98398,\n",
       "           0.98498,     0.98599,     0.98699,     0.98799,     0.98899,     0.98999,     0.99099,     0.99199,     0.99299,     0.99399,     0.99499,       0.996,       0.997,       0.998,       0.999,           1]), array([[          1,           1,           1,           1,           1,           1,           1,           1,           1,           1,           1,           1,           1,           1,           1,           1,           1,           1,           1,           1,           1,           1,           1,\n",
       "                  1,           1,           1,           1,           1,           1,           1,           1,           1,           1,           1,           1,           1,           1,           1,           1,           1,           1,           1,           1,           1,           1,           1,\n",
       "                  1,           1,           1,           1,           1,           1,           1,           1,           1,           1,           1,           1,           1,           1,           1,           1,           1,           1,           1,           1,           1,           1,           1,\n",
       "                  1,           1,           1,           1,           1,           1,           1,           1,           1,           1,           1,           1,           1,           1,           1,           1,           1,           1,           1,           1,           1,           1,           1,\n",
       "                  1,           1,           1,           1,           1,           1,           1,           1,           1,           1,           1,           1,           1,           1,           1,           1,           1,           1,           1,           1,           1,           1,           1,\n",
       "                  1,           1,           1,           1,           1,           1,           1,           1,           1,           1,           1,           1,           1,           1,           1,           1,           1,           1,           1,           1,           1,           1,           1,\n",
       "                  1,           1,           1,           1,           1,           1,           1,           1,           1,           1,           1,           1,           1,           1,           1,           1,           1,           1,           1,           1,           1,           1,           1,\n",
       "                  1,           1,           1,           1,           1,           1,           1,           1,           1,           1,           1,           1,           1,           1,           1,           1,           1,           1,           1,           1,           1,           1,           1,\n",
       "                  1,           1,           1,           1,           1,           1,           1,           1,           1,           1,           1,           1,           1,           1,           1,           1,           1,           1,           1,           1,           1,           1,           1,\n",
       "                  1,           1,           1,           1,           1,           1,           1,           1,           1,           1,           1,           1,           1,           1,           1,           1,           1,           1,           1,           1,           1,           1,           1,\n",
       "                  1,           1,           1,           1,           1,           1,           1,           1,           1,           1,           1,           1,           1,           1,           1,           1,           1,           1,           1,           1,           1,           1,           1,\n",
       "                  1,           1,           1,           1,           1,           1,           1,           1,           1,           1,           1,           1,           1,           1,           1,           1,           1,           1,           1,           1,           1,           1,           1,\n",
       "                  1,           1,           1,           1,           1,           1,           1,           1,           1,           1,           1,           1,           1,           1,           1,           1,           1,           1,           1,           1,           1,           1,           1,\n",
       "                  1,           1,           1,           1,           1,           1,           1,           1,           1,           1,           1,           1,           1,           1,           1,           1,           1,           1,           1,           1,           1,           1,           1,\n",
       "                  1,           1,           1,           1,           1,           1,           1,           1,           1,           1,           1,           1,           1,           1,           1,           1,           1,           1,           1,           1,           1,           1,           1,\n",
       "                  1,           1,           1,           1,           1,           1,           1,           1,           1,           1,           1,           1,           1,           1,           1,           1,           1,           1,           1,           1,           1,           1,           1,\n",
       "                  1,           1,           1,           1,           1,           1,           1,           1,           1,           1,           1,           1,           1,           1,           1,           1,           1,           1,           1,           1,           1,           1,           1,\n",
       "                  1,           1,           1,           1,           1,           1,           1,           1,           1,           1,           1,           1,           1,           1,           1,           1,           1,           1,           1,           1,           1,           1,           1,\n",
       "                  1,           1,           1,           1,           1,           1,           1,           1,           1,           1,           1,           1,           1,           1,           1,           1,           1,           1,           1,           1,           1,           1,           1,\n",
       "                  1,           1,           1,           1,           1,           1,           1,           1,           1,           1,           1,           1,           1,           1,           1,           1,           1,           1,           1,           1,           1,           1,           1,\n",
       "                  1,           1,           1,           1,           1,           1,           1,           1,           1,           1,           1,           1,           1,           1,           1,           1,           1,           1,           1,           1,           1,           1,           1,\n",
       "                  1,           1,           1,           1,           1,           1,           1,     0.99982,     0.99912,     0.99841,     0.99771,       0.997,      0.9963,      0.9956,     0.99489,     0.99419,     0.99348,     0.99278,     0.99208,     0.99137,     0.99067,     0.98996,     0.98926,\n",
       "            0.98856,     0.98785,     0.98715,     0.98644,     0.98574,     0.98504,     0.98433,     0.98363,     0.98292,     0.98222,     0.98152,     0.98081,     0.98011,      0.9794,      0.9787,       0.978,     0.97729,     0.97659,     0.97588,     0.97518,     0.97448,     0.97377,     0.97307,\n",
       "            0.97236,     0.97166,     0.97096,     0.97025,     0.96955,     0.96884,     0.96814,     0.96744,     0.96673,     0.96603,     0.96532,     0.96462,     0.96392,     0.96321,     0.96251,      0.9618,      0.9611,      0.9604,     0.95969,     0.95899,     0.95828,     0.95758,     0.95688,\n",
       "            0.95617,     0.95547,     0.95476,     0.95406,     0.95336,     0.95265,     0.95195,     0.95124,     0.95054,     0.94984,     0.94913,     0.94843,     0.94772,     0.94702,     0.94632,     0.94561,     0.94491,      0.9442,      0.9435,      0.9428,     0.94209,     0.94139,     0.94068,\n",
       "            0.93998,     0.93928,     0.93857,     0.93787,     0.93716,     0.93646,     0.93576,     0.93505,     0.93435,     0.93364,     0.93294,     0.93224,     0.93153,     0.93083,     0.93012,     0.92942,     0.92872,     0.92801,     0.92731,      0.9266,      0.9259,      0.9252,     0.92449,\n",
       "            0.92379,     0.92308,     0.92238,     0.92168,     0.92097,     0.92027,     0.91956,     0.91886,     0.91816,     0.91745,     0.91675,     0.91604,     0.91534,     0.91464,     0.91393,     0.91323,     0.91252,     0.91182,     0.91112,     0.91041,     0.90971,       0.909,      0.9083,\n",
       "             0.9076,     0.90689,     0.90619,     0.90548,     0.90478,     0.90408,     0.90337,     0.90267,     0.90196,     0.90126,     0.90056,     0.89985,     0.89915,     0.89844,     0.89774,     0.89704,     0.89633,     0.89563,     0.89492,     0.89422,     0.89352,     0.89281,     0.89211,\n",
       "             0.8914,      0.8907,        0.89,     0.88929,     0.88859,     0.88788,     0.88718,     0.88648,     0.88577,     0.88507,     0.88436,     0.88366,     0.88296,     0.88225,     0.88155,     0.88084,     0.88014,     0.87944,     0.87873,     0.87803,     0.87732,     0.87662,     0.87592,\n",
       "            0.87521,     0.86783,     0.85758,     0.84733,     0.83708,     0.82683,     0.81658,     0.80633,     0.79608,     0.78583,     0.77558,     0.76533,     0.75508,     0.74976,     0.74927,     0.74878,      0.7483,     0.74781,     0.74733,     0.74684,     0.74636,     0.74587,     0.74539,\n",
       "             0.7449,     0.74442,     0.74393,     0.74345,     0.74296,     0.74248,     0.74199,      0.7415,     0.74102,     0.74053,     0.74005,     0.73956,     0.73908,     0.73859,     0.73811,     0.73762,     0.73714,     0.73665,     0.73617,     0.73568,      0.7352,     0.73471,     0.73422,\n",
       "            0.73374,     0.73325,     0.73277,     0.73228,      0.7318,     0.73131,     0.73083,     0.73034,     0.72986,     0.72937,     0.72889,      0.7284,     0.72792,     0.72743,     0.72694,     0.72646,     0.72597,     0.72549,       0.725,     0.72452,     0.72403,     0.72355,     0.72306,\n",
       "            0.72258,     0.72209,     0.72161,     0.72112,     0.72064,     0.72015,     0.71966,     0.71918,     0.71869,     0.71821,     0.71772,     0.71724,     0.71675,     0.71627,     0.71578,      0.7153,     0.71481,     0.71433,     0.71384,     0.71336,     0.71287,     0.71238,      0.7119,\n",
       "            0.71141,     0.71093,     0.71044,     0.70996,     0.70947,     0.70899,      0.7085,     0.70802,     0.70753,     0.70705,     0.70656,     0.70608,     0.70559,      0.7051,     0.70462,     0.70413,     0.70365,     0.70316,     0.70268,     0.70219,     0.70171,     0.70122,     0.70074,\n",
       "            0.70025,     0.69977,     0.69928,      0.6988,     0.69831,     0.69782,     0.69734,     0.69685,     0.69637,     0.69588,      0.6954,     0.69491,     0.69443,     0.69394,     0.69346,     0.69297,     0.69249,       0.692,     0.69152,     0.69103,     0.69054,     0.69006,     0.68957,\n",
       "            0.68909,      0.6886,     0.68812,     0.68763,     0.68715,     0.68666,     0.68618,     0.68569,     0.68521,     0.68472,     0.68424,     0.68375,     0.68326,     0.68278,     0.68229,     0.68181,     0.68132,     0.68084,     0.68035,     0.67987,     0.67938,      0.6789,     0.67841,\n",
       "            0.67793,     0.67744,     0.67696,     0.67647,     0.67598,      0.6755,     0.67501,     0.67453,     0.67404,     0.67356,     0.67307,     0.67259,      0.6721,     0.67162,     0.67113,     0.67065,     0.67016,     0.66968,     0.66919,      0.6687,     0.66822,     0.66773,     0.66725,\n",
       "            0.66676,     0.66628,     0.66579,     0.66531,     0.66482,     0.66434,     0.66385,     0.66337,     0.66288,      0.6624,     0.66191,     0.66142,     0.66094,     0.66045,     0.65997,     0.65948,       0.659,     0.65851,     0.65803,     0.65754,     0.65706,     0.65657,     0.65609,\n",
       "             0.6556,     0.65512,     0.65463,     0.65414,     0.65366,     0.65317,     0.65269,      0.6522,     0.65172,     0.65123,     0.65075,     0.65026,     0.64978,     0.64929,     0.64881,     0.64832,     0.64784,     0.64735,     0.64686,     0.64638,     0.64589,     0.64541,     0.64492,\n",
       "            0.64444,     0.64395,     0.64347,     0.64298,      0.6425,     0.64201,     0.64153,     0.64104,     0.64056,     0.64007,     0.63958,      0.6391,     0.63861,     0.63813,     0.63764,     0.63716,     0.63667,     0.63619,      0.6357,     0.63522,     0.63473,     0.63425,     0.63376,\n",
       "            0.63328,     0.63279,      0.6323,     0.63182,     0.63133,     0.63085,     0.63036,     0.62988,     0.62939,     0.62891,     0.62842,     0.62794,     0.62745,     0.62697,     0.62648,       0.626,     0.62551,     0.62502,     0.57633,     0.52508,     0.49273,     0.47849,     0.46426,\n",
       "            0.45002,     0.43578,     0.42155,     0.40731,     0.39307,     0.37884,      0.3702,     0.36363,     0.35706,     0.35049,     0.34392,     0.33735,     0.33078,     0.32421,     0.31763,     0.31106,     0.30449,     0.29792,     0.29135,     0.28478,     0.27821,     0.27164,     0.26507,\n",
       "             0.2585,     0.25193,     0.23707,     0.21876,     0.20046,     0.18216,     0.16385,     0.14555,     0.12724,           0,           0,           0,           0,           0,           0,           0,           0,           0,           0,           0,           0,           0,           0,\n",
       "                  0,           0,           0,           0,           0,           0,           0,           0,           0,           0,           0]]), 'Confidence', 'Recall']]\n",
       "fitness: np.float64(1.667320099380531)\n",
       "keys: ['metrics/precision(B)', 'metrics/recall(B)', 'metrics/mAP50(B)', 'metrics/mAP50-95(B)', 'metrics/precision(M)', 'metrics/recall(M)', 'metrics/mAP50(M)', 'metrics/mAP50-95(M)']\n",
       "maps: array([     1.6315])\n",
       "names: {0: 'Pupil'}\n",
       "nt_per_class: array([8])\n",
       "nt_per_image: array([8])\n",
       "results_dict: {'metrics/precision(B)': np.float64(0.9938937242065613), 'metrics/recall(B)': np.float64(1.0), 'metrics/mAP50(B)': np.float64(0.995), 'metrics/mAP50-95(B)': np.float64(0.8450378984126985), 'metrics/precision(M)': np.float64(0.9938937242065613), 'metrics/recall(M)': np.float64(1.0), 'metrics/mAP50(M)': np.float64(0.995), 'metrics/mAP50-95(M)': np.float64(0.7864288786767805), 'fitness': np.float64(1.667320099380531)}\n",
       "save_dir: WindowsPath('runs/pupil-seg-113')\n",
       "seg: ultralytics.utils.metrics.Metric object\n",
       "speed: {'preprocess': 0.3465999998297775, 'inference': 6.2956249998933345, 'loss': 0.0008124998203129508, 'postprocess': 3.6748625002474}\n",
       "stats: {'tp': [], 'conf': [], 'pred_cls': [], 'target_cls': [], 'target_img': [], 'tp_m': []}\n",
       "task: 'segment'"
      ]
     },
     "execution_count": 6,
     "metadata": {},
     "output_type": "execute_result"
    }
   ],
   "source": [
    "from ultralytics import YOLO\n",
    "model = YOLO('yolo11n-seg.pt')  # lub yolov8n-seg.pt\n",
    "model.train(data='D:/AAA/Nowy folder/Outputs/project-12-at-2025-09-10-11-40-f33b0828/data.yaml', imgsz=400, epochs=100, batch=16, device=0, workers=8, project='runs', name='pupil-seg-11')"
   ]
  },
  {
   "cell_type": "code",
   "execution_count": 7,
   "id": "672498a7",
   "metadata": {},
   "outputs": [
    {
     "name": "stdout",
     "output_type": "stream",
     "text": [
      "\n",
      "image 1/44 D:\\AAA\\Nowy folder\\Outputs\\Test\\2025-08-12-13.25.48.png: 320x320 1 Pupil, 11.0ms\n",
      "image 2/44 D:\\AAA\\Nowy folder\\Outputs\\Test\\2025-08-12-13.26.08.png: 320x320 1 Pupil, 10.6ms\n",
      "image 3/44 D:\\AAA\\Nowy folder\\Outputs\\Test\\2025-08-12-13.26.18.png: 320x320 1 Pupil, 11.5ms\n",
      "image 4/44 D:\\AAA\\Nowy folder\\Outputs\\Test\\2025-08-12-13.26.22.png: 320x320 1 Pupil, 11.7ms\n",
      "image 5/44 D:\\AAA\\Nowy folder\\Outputs\\Test\\2025-08-12-13.26.48.png: 320x320 1 Pupil, 11.6ms\n",
      "image 6/44 D:\\AAA\\Nowy folder\\Outputs\\Test\\2025-08-12-13.42.36.png: 320x320 1 Pupil, 11.0ms\n",
      "image 7/44 D:\\AAA\\Nowy folder\\Outputs\\Test\\2025-08-12-13.43.24.png: 320x320 1 Pupil, 15.7ms\n",
      "image 8/44 D:\\AAA\\Nowy folder\\Outputs\\Test\\2025-08-12-13.43.46.png: 320x320 1 Pupil, 11.1ms\n",
      "image 9/44 D:\\AAA\\Nowy folder\\Outputs\\Test\\2025-08-12-13.43.50.png: 320x320 1 Pupil, 15.3ms\n",
      "image 10/44 D:\\AAA\\Nowy folder\\Outputs\\Test\\2025-08-12-13.43.54.png: 320x320 1 Pupil, 11.7ms\n",
      "image 11/44 D:\\AAA\\Nowy folder\\Outputs\\Test\\2025-08-12-13.43.58.png: 320x320 1 Pupil, 11.1ms\n",
      "image 12/44 D:\\AAA\\Nowy folder\\Outputs\\Test\\2025-08-12-13.44.02.png: 320x320 (no detections), 11.1ms\n",
      "image 13/44 D:\\AAA\\Nowy folder\\Outputs\\Test\\2025-08-12-13.44.05.png: 320x320 (no detections), 10.5ms\n",
      "image 14/44 D:\\AAA\\Nowy folder\\Outputs\\Test\\2025-08-12-13.44.09.png: 320x320 (no detections), 10.5ms\n",
      "image 15/44 D:\\AAA\\Nowy folder\\Outputs\\Test\\2025-08-12-13.44.19.png: 320x320 1 Pupil, 11.7ms\n",
      "image 16/44 D:\\AAA\\Nowy folder\\Outputs\\Test\\2025-08-12-13.44.30.png: 320x320 1 Pupil, 11.2ms\n",
      "image 17/44 D:\\AAA\\Nowy folder\\Outputs\\Test\\2025-08-12-13.44.41.png: 320x320 1 Pupil, 11.0ms\n",
      "image 18/44 D:\\AAA\\Nowy folder\\Outputs\\Test\\2025-08-12-13.44.53.png: 320x320 1 Pupil, 10.9ms\n",
      "image 19/44 D:\\AAA\\Nowy folder\\Outputs\\Test\\2025-08-12-13.44.57.png: 320x320 1 Pupil, 11.1ms\n",
      "image 20/44 D:\\AAA\\Nowy folder\\Outputs\\Test\\2025-08-12-13.45.09.png: 320x320 1 Pupil, 10.6ms\n",
      "image 21/44 D:\\AAA\\Nowy folder\\Outputs\\Test\\2025-08-12-13.45.18.png: 320x320 1 Pupil, 15.1ms\n",
      "image 22/44 D:\\AAA\\Nowy folder\\Outputs\\Test\\2025-08-12-13.45.24.png: 320x320 1 Pupil, 11.3ms\n",
      "image 23/44 D:\\AAA\\Nowy folder\\Outputs\\Test\\2025-08-12-13.45.34.png: 320x320 (no detections), 10.7ms\n",
      "image 24/44 D:\\AAA\\Nowy folder\\Outputs\\Test\\2025-08-12-13.45.39.png: 320x320 1 Pupil, 15.7ms\n",
      "image 25/44 D:\\AAA\\Nowy folder\\Outputs\\Test\\2025-08-12-13.45.44.png: 320x320 1 Pupil, 11.3ms\n",
      "image 26/44 D:\\AAA\\Nowy folder\\Outputs\\Test\\2025-08-12-13.45.48.png: 320x320 1 Pupil, 11.4ms\n",
      "image 27/44 D:\\AAA\\Nowy folder\\Outputs\\Test\\2025-08-12-13.45.55.png: 320x320 1 Pupil, 10.9ms\n",
      "image 28/44 D:\\AAA\\Nowy folder\\Outputs\\Test\\2025-08-12-13.46.00.png: 320x320 1 Pupil, 11.1ms\n",
      "image 29/44 D:\\AAA\\Nowy folder\\Outputs\\Test\\2025-08-12-13.46.17.png: 320x320 1 Pupil, 10.5ms\n",
      "image 30/44 D:\\AAA\\Nowy folder\\Outputs\\Test\\2025-08-12-13.46.21.png: 320x320 1 Pupil, 15.4ms\n",
      "image 31/44 D:\\AAA\\Nowy folder\\Outputs\\Test\\2025-08-12-13.46.25.png: 320x320 1 Pupil, 11.0ms\n",
      "image 32/44 D:\\AAA\\Nowy folder\\Outputs\\Test\\2025-08-12-13.46.29.png: 320x320 1 Pupil, 10.8ms\n",
      "image 33/44 D:\\AAA\\Nowy folder\\Outputs\\Test\\2025-08-12-13.46.42.png: 320x320 1 Pupil, 10.9ms\n",
      "image 34/44 D:\\AAA\\Nowy folder\\Outputs\\Test\\2025-08-12-13.46.46.png: 320x320 1 Pupil, 10.9ms\n",
      "image 35/44 D:\\AAA\\Nowy folder\\Outputs\\Test\\2025-08-12-13.46.56.png: 320x320 1 Pupil, 10.8ms\n",
      "image 36/44 D:\\AAA\\Nowy folder\\Outputs\\Test\\2025-08-12-13.47.00.png: 320x320 1 Pupil, 10.7ms\n",
      "image 37/44 D:\\AAA\\Nowy folder\\Outputs\\Test\\2025-08-12-13.47.03.png: 320x320 1 Pupil, 19.6ms\n",
      "image 38/44 D:\\AAA\\Nowy folder\\Outputs\\Test\\2025-08-12-13.47.07.png: 320x320 1 Pupil, 14.2ms\n",
      "image 39/44 D:\\AAA\\Nowy folder\\Outputs\\Test\\2025-08-12-13.47.11.png: 320x320 1 Pupil, 10.7ms\n",
      "image 40/44 D:\\AAA\\Nowy folder\\Outputs\\Test\\2025-08-12-13.47.15.png: 320x320 1 Pupil, 15.1ms\n",
      "image 41/44 D:\\AAA\\Nowy folder\\Outputs\\Test\\2025-08-12-13.47.27.png: 320x320 1 Pupil, 10.6ms\n",
      "image 42/44 D:\\AAA\\Nowy folder\\Outputs\\Test\\2025-08-12-13.47.36.png: 320x320 1 Pupil, 11.5ms\n",
      "image 43/44 D:\\AAA\\Nowy folder\\Outputs\\Test\\2025-08-12-13.47.51.png: 320x320 1 Pupil, 10.6ms\n",
      "image 44/44 D:\\AAA\\Nowy folder\\Outputs\\Test\\2025-08-12-13.47.56.png: 320x320 1 Pupil, 15.9ms\n",
      "Speed: 1.1ms preprocess, 12.0ms inference, 3.3ms postprocess per image at shape (1, 3, 320, 320)\n",
      "Results saved to \u001b[1mruns\\segment\\predict6\u001b[0m\n"
     ]
    }
   ],
   "source": [
    "from ultralytics import YOLO\n",
    "import cv2\n",
    "\n",
    "model = YOLO(r\"D:\\AAA\\Nowy folder\\pupiltracking\\runs\\pupil-seg-113\\weights\\best.pt\")\n",
    "results = model.predict(\n",
    "    source=r\"D:\\AAA\\Nowy folder\\Outputs\\Test\",  # może być plik lub folder\n",
    "    conf=0.35, max_det=1, device=0, save=True, imgsz=320\n",
    ")"
   ]
  },
  {
   "cell_type": "code",
   "execution_count": 14,
   "id": "529ec313",
   "metadata": {},
   "outputs": [
    {
     "name": "stdout",
     "output_type": "stream",
     "text": [
      "\n",
      "image 1/1 D:\\AAA\\Nowy folder\\Outputs\\Test\\2025-08-12-13.25.48.png: 320x320 1 Pupil, 78.9ms\n",
      "Speed: 1.7ms preprocess, 78.9ms inference, 3.5ms postprocess per image at shape (1, 3, 320, 320)\n",
      "\n",
      "image 1/1 D:\\AAA\\Nowy folder\\Outputs\\Test\\2025-08-12-13.26.08.png: 320x320 1 Pupil, 106.9ms\n",
      "Speed: 2.3ms preprocess, 106.9ms inference, 7.9ms postprocess per image at shape (1, 3, 320, 320)\n",
      "\n",
      "image 1/1 D:\\AAA\\Nowy folder\\Outputs\\Test\\2025-08-12-13.26.18.png: 320x320 1 Pupil, 17.2ms\n",
      "Speed: 1.5ms preprocess, 17.2ms inference, 4.6ms postprocess per image at shape (1, 3, 320, 320)\n",
      "\n",
      "image 1/1 D:\\AAA\\Nowy folder\\Outputs\\Test\\2025-08-12-13.26.22.png: 320x320 1 Pupil, 11.9ms\n",
      "Speed: 1.2ms preprocess, 11.9ms inference, 5.1ms postprocess per image at shape (1, 3, 320, 320)\n",
      "\n",
      "image 1/1 D:\\AAA\\Nowy folder\\Outputs\\Test\\2025-08-12-13.26.48.png: 320x320 1 Pupil, 18.6ms\n",
      "Speed: 1.1ms preprocess, 18.6ms inference, 4.3ms postprocess per image at shape (1, 3, 320, 320)\n",
      "\n",
      "image 1/1 D:\\AAA\\Nowy folder\\Outputs\\Test\\2025-08-12-13.42.36.png: 320x320 1 Pupil, 17.3ms\n",
      "Speed: 1.1ms preprocess, 17.3ms inference, 4.9ms postprocess per image at shape (1, 3, 320, 320)\n",
      "\n",
      "image 1/1 D:\\AAA\\Nowy folder\\Outputs\\Test\\2025-08-12-13.43.24.png: 320x320 1 Pupil, 16.2ms\n",
      "Speed: 1.1ms preprocess, 16.2ms inference, 4.1ms postprocess per image at shape (1, 3, 320, 320)\n",
      "\n",
      "image 1/1 D:\\AAA\\Nowy folder\\Outputs\\Test\\2025-08-12-13.43.46.png: 320x320 1 Pupil, 11.4ms\n",
      "Speed: 1.0ms preprocess, 11.4ms inference, 3.2ms postprocess per image at shape (1, 3, 320, 320)\n",
      "\n",
      "image 1/1 D:\\AAA\\Nowy folder\\Outputs\\Test\\2025-08-12-13.43.50.png: 320x320 1 Pupil, 13.1ms\n",
      "Speed: 1.0ms preprocess, 13.1ms inference, 3.0ms postprocess per image at shape (1, 3, 320, 320)\n",
      "\n",
      "image 1/1 D:\\AAA\\Nowy folder\\Outputs\\Test\\2025-08-12-13.43.54.png: 320x320 1 Pupil, 19.6ms\n",
      "Speed: 1.2ms preprocess, 19.6ms inference, 5.1ms postprocess per image at shape (1, 3, 320, 320)\n",
      "\n",
      "image 1/1 D:\\AAA\\Nowy folder\\Outputs\\Test\\2025-08-12-13.43.58.png: 320x320 1 Pupil, 16.5ms\n",
      "Speed: 1.2ms preprocess, 16.5ms inference, 3.3ms postprocess per image at shape (1, 3, 320, 320)\n",
      "\n",
      "image 1/1 D:\\AAA\\Nowy folder\\Outputs\\Test\\2025-08-12-13.44.02.png: 320x320 1 Pupil, 11.7ms\n",
      "Speed: 1.1ms preprocess, 11.7ms inference, 4.9ms postprocess per image at shape (1, 3, 320, 320)\n",
      "\n",
      "image 1/1 D:\\AAA\\Nowy folder\\Outputs\\Test\\2025-08-12-13.44.05.png: 320x320 (no detections), 20.2ms\n",
      "Speed: 1.1ms preprocess, 20.2ms inference, 2.5ms postprocess per image at shape (1, 3, 320, 320)\n",
      "\n",
      "image 1/1 D:\\AAA\\Nowy folder\\Outputs\\Test\\2025-08-12-13.44.09.png: 320x320 (no detections), 13.5ms\n",
      "Speed: 1.8ms preprocess, 13.5ms inference, 1.2ms postprocess per image at shape (1, 3, 320, 320)\n",
      "\n",
      "image 1/1 D:\\AAA\\Nowy folder\\Outputs\\Test\\2025-08-12-13.44.19.png: 320x320 1 Pupil, 16.7ms\n",
      "Speed: 1.0ms preprocess, 16.7ms inference, 5.7ms postprocess per image at shape (1, 3, 320, 320)\n",
      "\n",
      "image 1/1 D:\\AAA\\Nowy folder\\Outputs\\Test\\2025-08-12-13.44.30.png: 320x320 1 Pupil, 16.1ms\n",
      "Speed: 1.8ms preprocess, 16.1ms inference, 4.5ms postprocess per image at shape (1, 3, 320, 320)\n",
      "\n",
      "image 1/1 D:\\AAA\\Nowy folder\\Outputs\\Test\\2025-08-12-13.44.41.png: 320x320 1 Pupil, 16.6ms\n",
      "Speed: 1.1ms preprocess, 16.6ms inference, 3.8ms postprocess per image at shape (1, 3, 320, 320)\n",
      "\n",
      "image 1/1 D:\\AAA\\Nowy folder\\Outputs\\Test\\2025-08-12-13.44.53.png: 320x320 1 Pupil, 13.9ms\n",
      "Speed: 1.4ms preprocess, 13.9ms inference, 5.6ms postprocess per image at shape (1, 3, 320, 320)\n",
      "\n",
      "image 1/1 D:\\AAA\\Nowy folder\\Outputs\\Test\\2025-08-12-13.44.57.png: 320x320 1 Pupil, 18.8ms\n",
      "Speed: 1.1ms preprocess, 18.8ms inference, 4.5ms postprocess per image at shape (1, 3, 320, 320)\n",
      "\n",
      "image 1/1 D:\\AAA\\Nowy folder\\Outputs\\Test\\2025-08-12-13.45.09.png: 320x320 1 Pupil, 16.6ms\n",
      "Speed: 1.3ms preprocess, 16.6ms inference, 4.6ms postprocess per image at shape (1, 3, 320, 320)\n",
      "\n",
      "image 1/1 D:\\AAA\\Nowy folder\\Outputs\\Test\\2025-08-12-13.45.18.png: 320x320 1 Pupil, 16.8ms\n",
      "Speed: 1.7ms preprocess, 16.8ms inference, 5.0ms postprocess per image at shape (1, 3, 320, 320)\n",
      "\n",
      "image 1/1 D:\\AAA\\Nowy folder\\Outputs\\Test\\2025-08-12-13.45.24.png: 320x320 1 Pupil, 13.0ms\n",
      "Speed: 1.1ms preprocess, 13.0ms inference, 3.4ms postprocess per image at shape (1, 3, 320, 320)\n",
      "\n",
      "image 1/1 D:\\AAA\\Nowy folder\\Outputs\\Test\\2025-08-12-13.45.34.png: 320x320 (no detections), 15.0ms\n",
      "Speed: 1.1ms preprocess, 15.0ms inference, 1.0ms postprocess per image at shape (1, 3, 320, 320)\n",
      "\n",
      "image 1/1 D:\\AAA\\Nowy folder\\Outputs\\Test\\2025-08-12-13.45.39.png: 320x320 1 Pupil, 14.1ms\n",
      "Speed: 2.2ms preprocess, 14.1ms inference, 4.3ms postprocess per image at shape (1, 3, 320, 320)\n",
      "\n",
      "image 1/1 D:\\AAA\\Nowy folder\\Outputs\\Test\\2025-08-12-13.45.44.png: 320x320 1 Pupil, 17.6ms\n",
      "Speed: 1.2ms preprocess, 17.6ms inference, 4.0ms postprocess per image at shape (1, 3, 320, 320)\n",
      "\n",
      "image 1/1 D:\\AAA\\Nowy folder\\Outputs\\Test\\2025-08-12-13.45.48.png: 320x320 1 Pupil, 15.2ms\n",
      "Speed: 0.9ms preprocess, 15.2ms inference, 3.5ms postprocess per image at shape (1, 3, 320, 320)\n",
      "\n",
      "image 1/1 D:\\AAA\\Nowy folder\\Outputs\\Test\\2025-08-12-13.45.55.png: 320x320 1 Pupil, 12.1ms\n",
      "Speed: 1.1ms preprocess, 12.1ms inference, 3.4ms postprocess per image at shape (1, 3, 320, 320)\n",
      "\n",
      "image 1/1 D:\\AAA\\Nowy folder\\Outputs\\Test\\2025-08-12-13.46.00.png: 320x320 1 Pupil, 12.5ms\n",
      "Speed: 1.4ms preprocess, 12.5ms inference, 3.3ms postprocess per image at shape (1, 3, 320, 320)\n",
      "\n",
      "image 1/1 D:\\AAA\\Nowy folder\\Outputs\\Test\\2025-08-12-13.46.17.png: 320x320 1 Pupil, 13.4ms\n",
      "Speed: 1.1ms preprocess, 13.4ms inference, 4.4ms postprocess per image at shape (1, 3, 320, 320)\n",
      "\n",
      "image 1/1 D:\\AAA\\Nowy folder\\Outputs\\Test\\2025-08-12-13.46.21.png: 320x320 1 Pupil, 12.2ms\n",
      "Speed: 1.0ms preprocess, 12.2ms inference, 5.3ms postprocess per image at shape (1, 3, 320, 320)\n",
      "\n",
      "image 1/1 D:\\AAA\\Nowy folder\\Outputs\\Test\\2025-08-12-13.46.25.png: 320x320 1 Pupil, 19.8ms\n",
      "Speed: 1.5ms preprocess, 19.8ms inference, 4.7ms postprocess per image at shape (1, 3, 320, 320)\n",
      "\n",
      "image 1/1 D:\\AAA\\Nowy folder\\Outputs\\Test\\2025-08-12-13.46.29.png: 320x320 1 Pupil, 14.8ms\n",
      "Speed: 1.5ms preprocess, 14.8ms inference, 3.3ms postprocess per image at shape (1, 3, 320, 320)\n",
      "\n",
      "image 1/1 D:\\AAA\\Nowy folder\\Outputs\\Test\\2025-08-12-13.46.42.png: 320x320 1 Pupil, 11.8ms\n",
      "Speed: 1.0ms preprocess, 11.8ms inference, 3.5ms postprocess per image at shape (1, 3, 320, 320)\n",
      "\n",
      "image 1/1 D:\\AAA\\Nowy folder\\Outputs\\Test\\2025-08-12-13.46.46.png: 320x320 1 Pupil, 15.1ms\n",
      "Speed: 1.0ms preprocess, 15.1ms inference, 2.8ms postprocess per image at shape (1, 3, 320, 320)\n",
      "\n",
      "image 1/1 D:\\AAA\\Nowy folder\\Outputs\\Test\\2025-08-12-13.46.56.png: 320x320 1 Pupil, 13.4ms\n",
      "Speed: 1.3ms preprocess, 13.4ms inference, 5.0ms postprocess per image at shape (1, 3, 320, 320)\n",
      "\n",
      "image 1/1 D:\\AAA\\Nowy folder\\Outputs\\Test\\2025-08-12-13.47.00.png: 320x320 1 Pupil, 11.5ms\n",
      "Speed: 1.2ms preprocess, 11.5ms inference, 3.2ms postprocess per image at shape (1, 3, 320, 320)\n",
      "\n",
      "image 1/1 D:\\AAA\\Nowy folder\\Outputs\\Test\\2025-08-12-13.47.03.png: 320x320 1 Pupil, 19.1ms\n",
      "Speed: 1.1ms preprocess, 19.1ms inference, 3.7ms postprocess per image at shape (1, 3, 320, 320)\n",
      "\n",
      "image 1/1 D:\\AAA\\Nowy folder\\Outputs\\Test\\2025-08-12-13.47.07.png: 320x320 1 Pupil, 17.1ms\n",
      "Speed: 1.2ms preprocess, 17.1ms inference, 6.1ms postprocess per image at shape (1, 3, 320, 320)\n",
      "\n",
      "image 1/1 D:\\AAA\\Nowy folder\\Outputs\\Test\\2025-08-12-13.47.11.png: 320x320 1 Pupil, 12.8ms\n",
      "Speed: 1.1ms preprocess, 12.8ms inference, 3.1ms postprocess per image at shape (1, 3, 320, 320)\n",
      "\n",
      "image 1/1 D:\\AAA\\Nowy folder\\Outputs\\Test\\2025-08-12-13.47.15.png: 320x320 1 Pupil, 21.1ms\n",
      "Speed: 1.5ms preprocess, 21.1ms inference, 4.8ms postprocess per image at shape (1, 3, 320, 320)\n",
      "\n",
      "image 1/1 D:\\AAA\\Nowy folder\\Outputs\\Test\\2025-08-12-13.47.27.png: 320x320 1 Pupil, 12.0ms\n",
      "Speed: 2.1ms preprocess, 12.0ms inference, 5.8ms postprocess per image at shape (1, 3, 320, 320)\n",
      "\n",
      "image 1/1 D:\\AAA\\Nowy folder\\Outputs\\Test\\2025-08-12-13.47.36.png: 320x320 1 Pupil, 12.3ms\n",
      "Speed: 1.1ms preprocess, 12.3ms inference, 4.6ms postprocess per image at shape (1, 3, 320, 320)\n",
      "\n",
      "image 1/1 D:\\AAA\\Nowy folder\\Outputs\\Test\\2025-08-12-13.47.51.png: 320x320 1 Pupil, 13.8ms\n",
      "Speed: 1.1ms preprocess, 13.8ms inference, 3.4ms postprocess per image at shape (1, 3, 320, 320)\n",
      "\n",
      "image 1/1 D:\\AAA\\Nowy folder\\Outputs\\Test\\2025-08-12-13.47.56.png: 320x320 1 Pupil, 16.6ms\n",
      "Speed: 1.1ms preprocess, 16.6ms inference, 3.8ms postprocess per image at shape (1, 3, 320, 320)\n"
     ]
    }
   ],
   "source": [
    "from ultralytics import YOLO\n",
    "import cv2\n",
    "import os\n",
    "import glob\n",
    "import numpy as np\n",
    "\n",
    "# Ścieżka wejściowa\n",
    "input_dir = r\"D:\\AAA\\Nowy folder\\Outputs\\Test\"\n",
    "\n",
    "# Wczytanie modelu segmentacyjnego YOLO\n",
    "model = YOLO(r\"D:\\AAA\\Nowy folder\\pupiltracking\\runs\\pupil-seg-11\\weights\\best.pt\")\n",
    "\n",
    "# Pobranie plików graficznych\n",
    "image_files = glob.glob(os.path.join(input_dir, \"*.jpg\")) + \\\n",
    "              glob.glob(os.path.join(input_dir, \"*.png\")) + \\\n",
    "              glob.glob(os.path.join(input_dir, \"*.jpeg\"))\n",
    "\n",
    "for img_path in image_files:\n",
    "    img = cv2.imread(img_path)\n",
    "\n",
    "    # Detekcja\n",
    "    results = model.predict(\n",
    "        source=img_path,\n",
    "        conf=0.35, max_det=1, device=0, save=False, imgsz=320\n",
    "    )\n",
    "\n",
    "    for r in results:\n",
    "        if r.masks is not None:\n",
    "            masks = r.masks.xy  # lista poligonów (każdy to tablica Nx2)\n",
    "            for poly in masks:\n",
    "                # Konwersja do int32 dla OpenCV\n",
    "                pts = np.array(poly, dtype=np.int32)\n",
    "                pts = pts.reshape((-1, 1, 2))\n",
    "\n",
    "                # Rysowanie poligonu\n",
    "                cv2.polylines(img, [pts], isClosed=True, color=(0, 255, 0), thickness=2)\n",
    "\n",
    "                # Obliczanie środka poligonu (momenty geometryczne)\n",
    "                M = cv2.moments(pts)\n",
    "                if M[\"m00\"] != 0:\n",
    "                    cx = int(M[\"m10\"] / M[\"m00\"])\n",
    "                    cy = int(M[\"m01\"] / M[\"m00\"])\n",
    "                else:\n",
    "                    cx, cy = 0, 0\n",
    "\n",
    "                # Rysowanie środka\n",
    "                cv2.circle(img, (cx, cy), 5, (0, 0, 255), -1)\n",
    "                cv2.putText(img, f\"({cx},{cy})\", (cx + 10, cy - 10),\n",
    "                            cv2.FONT_HERSHEY_SIMPLEX, 0.5, (0, 0, 255), 1)\n",
    "\n",
    "    # Wyświetlanie obrazu\n",
    "    cv2.imshow(\"Poligon + środek\", img)\n",
    "    key = cv2.waitKey(0)\n",
    "    if key == 27:  # ESC → przerwij\n",
    "        break\n",
    "\n",
    "cv2.destroyAllWindows()\n"
   ]
  },
  {
   "cell_type": "code",
   "execution_count": 13,
   "id": "ba979de8",
   "metadata": {},
   "outputs": [
    {
     "name": "stdout",
     "output_type": "stream",
     "text": [
      "\n",
      "image 1/1 D:\\AAA\\Nowy folder\\Outputs\\Test\\2025-08-12-13.25.48.png: 320x320 1 Pupil, 44.0ms\n",
      "Speed: 1.7ms preprocess, 44.0ms inference, 3.7ms postprocess per image at shape (1, 3, 320, 320)\n",
      "\n",
      "image 1/1 D:\\AAA\\Nowy folder\\Outputs\\Test\\2025-08-12-13.26.08.png: 320x320 1 Pupil, 21.0ms\n",
      "Speed: 1.2ms preprocess, 21.0ms inference, 4.7ms postprocess per image at shape (1, 3, 320, 320)\n",
      "\n",
      "image 1/1 D:\\AAA\\Nowy folder\\Outputs\\Test\\2025-08-12-13.26.18.png: 320x320 1 Pupil, 26.3ms\n",
      "Speed: 1.7ms preprocess, 26.3ms inference, 5.9ms postprocess per image at shape (1, 3, 320, 320)\n",
      "\n",
      "image 1/1 D:\\AAA\\Nowy folder\\Outputs\\Test\\2025-08-12-13.26.22.png: 320x320 1 Pupil, 24.8ms\n",
      "Speed: 1.5ms preprocess, 24.8ms inference, 8.3ms postprocess per image at shape (1, 3, 320, 320)\n",
      "\n",
      "image 1/1 D:\\AAA\\Nowy folder\\Outputs\\Test\\2025-08-12-13.26.48.png: 320x320 1 Pupil, 62.5ms\n",
      "Speed: 2.0ms preprocess, 62.5ms inference, 5.7ms postprocess per image at shape (1, 3, 320, 320)\n",
      "\n",
      "image 1/1 D:\\AAA\\Nowy folder\\Outputs\\Test\\2025-08-12-13.42.36.png: 320x320 1 Pupil, 20.4ms\n",
      "Speed: 1.5ms preprocess, 20.4ms inference, 8.6ms postprocess per image at shape (1, 3, 320, 320)\n",
      "\n",
      "image 1/1 D:\\AAA\\Nowy folder\\Outputs\\Test\\2025-08-12-13.43.24.png: 320x320 1 Pupil, 11.9ms\n",
      "Speed: 1.1ms preprocess, 11.9ms inference, 3.4ms postprocess per image at shape (1, 3, 320, 320)\n",
      "\n",
      "image 1/1 D:\\AAA\\Nowy folder\\Outputs\\Test\\2025-08-12-13.43.46.png: 320x320 1 Pupil, 17.6ms\n",
      "Speed: 1.0ms preprocess, 17.6ms inference, 4.1ms postprocess per image at shape (1, 3, 320, 320)\n",
      "\n",
      "image 1/1 D:\\AAA\\Nowy folder\\Outputs\\Test\\2025-08-12-13.43.50.png: 320x320 1 Pupil, 13.4ms\n",
      "Speed: 1.0ms preprocess, 13.4ms inference, 3.4ms postprocess per image at shape (1, 3, 320, 320)\n",
      "\n",
      "image 1/1 D:\\AAA\\Nowy folder\\Outputs\\Test\\2025-08-12-13.43.54.png: 320x320 1 Pupil, 11.4ms\n",
      "Speed: 1.2ms preprocess, 11.4ms inference, 3.2ms postprocess per image at shape (1, 3, 320, 320)\n",
      "\n",
      "image 1/1 D:\\AAA\\Nowy folder\\Outputs\\Test\\2025-08-12-13.43.58.png: 320x320 1 Pupil, 11.3ms\n",
      "Speed: 1.1ms preprocess, 11.3ms inference, 2.7ms postprocess per image at shape (1, 3, 320, 320)\n",
      "\n",
      "image 1/1 D:\\AAA\\Nowy folder\\Outputs\\Test\\2025-08-12-13.44.02.png: 320x320 1 Pupil, 14.1ms\n",
      "Speed: 1.1ms preprocess, 14.1ms inference, 2.9ms postprocess per image at shape (1, 3, 320, 320)\n",
      "\n",
      "image 1/1 D:\\AAA\\Nowy folder\\Outputs\\Test\\2025-08-12-13.44.05.png: 320x320 (no detections), 11.4ms\n",
      "Speed: 1.6ms preprocess, 11.4ms inference, 0.9ms postprocess per image at shape (1, 3, 320, 320)\n",
      "\n",
      "image 1/1 D:\\AAA\\Nowy folder\\Outputs\\Test\\2025-08-12-13.44.09.png: 320x320 (no detections), 12.0ms\n",
      "Speed: 1.0ms preprocess, 12.0ms inference, 1.1ms postprocess per image at shape (1, 3, 320, 320)\n",
      "\n",
      "image 1/1 D:\\AAA\\Nowy folder\\Outputs\\Test\\2025-08-12-13.44.19.png: 320x320 1 Pupil, 11.7ms\n",
      "Speed: 1.1ms preprocess, 11.7ms inference, 4.0ms postprocess per image at shape (1, 3, 320, 320)\n",
      "\n",
      "image 1/1 D:\\AAA\\Nowy folder\\Outputs\\Test\\2025-08-12-13.44.30.png: 320x320 1 Pupil, 12.7ms\n",
      "Speed: 1.2ms preprocess, 12.7ms inference, 2.7ms postprocess per image at shape (1, 3, 320, 320)\n",
      "\n",
      "image 1/1 D:\\AAA\\Nowy folder\\Outputs\\Test\\2025-08-12-13.44.41.png: 320x320 1 Pupil, 16.8ms\n",
      "Speed: 1.3ms preprocess, 16.8ms inference, 5.8ms postprocess per image at shape (1, 3, 320, 320)\n",
      "\n",
      "image 1/1 D:\\AAA\\Nowy folder\\Outputs\\Test\\2025-08-12-13.44.53.png: 320x320 1 Pupil, 16.9ms\n",
      "Speed: 1.5ms preprocess, 16.9ms inference, 4.6ms postprocess per image at shape (1, 3, 320, 320)\n",
      "\n",
      "image 1/1 D:\\AAA\\Nowy folder\\Outputs\\Test\\2025-08-12-13.44.57.png: 320x320 1 Pupil, 13.7ms\n",
      "Speed: 1.0ms preprocess, 13.7ms inference, 3.1ms postprocess per image at shape (1, 3, 320, 320)\n",
      "\n",
      "image 1/1 D:\\AAA\\Nowy folder\\Outputs\\Test\\2025-08-12-13.45.09.png: 320x320 1 Pupil, 12.0ms\n",
      "Speed: 1.0ms preprocess, 12.0ms inference, 2.7ms postprocess per image at shape (1, 3, 320, 320)\n",
      "\n",
      "image 1/1 D:\\AAA\\Nowy folder\\Outputs\\Test\\2025-08-12-13.45.18.png: 320x320 1 Pupil, 13.3ms\n",
      "Speed: 1.1ms preprocess, 13.3ms inference, 3.2ms postprocess per image at shape (1, 3, 320, 320)\n",
      "\n",
      "image 1/1 D:\\AAA\\Nowy folder\\Outputs\\Test\\2025-08-12-13.45.24.png: 320x320 1 Pupil, 16.5ms\n",
      "Speed: 1.6ms preprocess, 16.5ms inference, 3.3ms postprocess per image at shape (1, 3, 320, 320)\n",
      "\n",
      "image 1/1 D:\\AAA\\Nowy folder\\Outputs\\Test\\2025-08-12-13.45.34.png: 320x320 (no detections), 13.2ms\n",
      "Speed: 1.0ms preprocess, 13.2ms inference, 1.0ms postprocess per image at shape (1, 3, 320, 320)\n",
      "\n",
      "image 1/1 D:\\AAA\\Nowy folder\\Outputs\\Test\\2025-08-12-13.45.39.png: 320x320 1 Pupil, 17.5ms\n",
      "Speed: 1.5ms preprocess, 17.5ms inference, 3.5ms postprocess per image at shape (1, 3, 320, 320)\n",
      "\n",
      "image 1/1 D:\\AAA\\Nowy folder\\Outputs\\Test\\2025-08-12-13.45.44.png: 320x320 1 Pupil, 12.0ms\n",
      "Speed: 1.1ms preprocess, 12.0ms inference, 2.8ms postprocess per image at shape (1, 3, 320, 320)\n",
      "\n",
      "image 1/1 D:\\AAA\\Nowy folder\\Outputs\\Test\\2025-08-12-13.45.48.png: 320x320 1 Pupil, 17.0ms\n",
      "Speed: 1.1ms preprocess, 17.0ms inference, 4.6ms postprocess per image at shape (1, 3, 320, 320)\n",
      "\n",
      "image 1/1 D:\\AAA\\Nowy folder\\Outputs\\Test\\2025-08-12-13.45.55.png: 320x320 1 Pupil, 18.9ms\n",
      "Speed: 1.9ms preprocess, 18.9ms inference, 3.7ms postprocess per image at shape (1, 3, 320, 320)\n",
      "\n",
      "image 1/1 D:\\AAA\\Nowy folder\\Outputs\\Test\\2025-08-12-13.46.00.png: 320x320 1 Pupil, 11.8ms\n",
      "Speed: 1.0ms preprocess, 11.8ms inference, 3.8ms postprocess per image at shape (1, 3, 320, 320)\n",
      "\n",
      "image 1/1 D:\\AAA\\Nowy folder\\Outputs\\Test\\2025-08-12-13.46.17.png: 320x320 1 Pupil, 17.1ms\n",
      "Speed: 1.0ms preprocess, 17.1ms inference, 3.5ms postprocess per image at shape (1, 3, 320, 320)\n",
      "\n",
      "image 1/1 D:\\AAA\\Nowy folder\\Outputs\\Test\\2025-08-12-13.46.21.png: 320x320 1 Pupil, 11.8ms\n",
      "Speed: 1.2ms preprocess, 11.8ms inference, 6.7ms postprocess per image at shape (1, 3, 320, 320)\n",
      "\n",
      "image 1/1 D:\\AAA\\Nowy folder\\Outputs\\Test\\2025-08-12-13.46.25.png: 320x320 1 Pupil, 11.3ms\n",
      "Speed: 1.0ms preprocess, 11.3ms inference, 6.0ms postprocess per image at shape (1, 3, 320, 320)\n",
      "\n",
      "image 1/1 D:\\AAA\\Nowy folder\\Outputs\\Test\\2025-08-12-13.46.29.png: 320x320 1 Pupil, 16.7ms\n",
      "Speed: 1.1ms preprocess, 16.7ms inference, 4.7ms postprocess per image at shape (1, 3, 320, 320)\n",
      "\n",
      "image 1/1 D:\\AAA\\Nowy folder\\Outputs\\Test\\2025-08-12-13.46.42.png: 320x320 1 Pupil, 12.2ms\n",
      "Speed: 1.5ms preprocess, 12.2ms inference, 6.0ms postprocess per image at shape (1, 3, 320, 320)\n",
      "\n",
      "image 1/1 D:\\AAA\\Nowy folder\\Outputs\\Test\\2025-08-12-13.46.46.png: 320x320 1 Pupil, 11.6ms\n",
      "Speed: 1.1ms preprocess, 11.6ms inference, 6.1ms postprocess per image at shape (1, 3, 320, 320)\n",
      "\n",
      "image 1/1 D:\\AAA\\Nowy folder\\Outputs\\Test\\2025-08-12-13.46.56.png: 320x320 1 Pupil, 16.5ms\n",
      "Speed: 1.3ms preprocess, 16.5ms inference, 5.7ms postprocess per image at shape (1, 3, 320, 320)\n",
      "\n",
      "image 1/1 D:\\AAA\\Nowy folder\\Outputs\\Test\\2025-08-12-13.47.00.png: 320x320 1 Pupil, 12.3ms\n",
      "Speed: 1.0ms preprocess, 12.3ms inference, 3.1ms postprocess per image at shape (1, 3, 320, 320)\n",
      "\n",
      "image 1/1 D:\\AAA\\Nowy folder\\Outputs\\Test\\2025-08-12-13.47.03.png: 320x320 1 Pupil, 13.2ms\n",
      "Speed: 1.0ms preprocess, 13.2ms inference, 4.1ms postprocess per image at shape (1, 3, 320, 320)\n",
      "\n",
      "image 1/1 D:\\AAA\\Nowy folder\\Outputs\\Test\\2025-08-12-13.47.07.png: 320x320 1 Pupil, 13.5ms\n",
      "Speed: 1.1ms preprocess, 13.5ms inference, 3.4ms postprocess per image at shape (1, 3, 320, 320)\n",
      "\n",
      "image 1/1 D:\\AAA\\Nowy folder\\Outputs\\Test\\2025-08-12-13.47.11.png: 320x320 1 Pupil, 19.3ms\n",
      "Speed: 1.3ms preprocess, 19.3ms inference, 3.5ms postprocess per image at shape (1, 3, 320, 320)\n",
      "\n",
      "image 1/1 D:\\AAA\\Nowy folder\\Outputs\\Test\\2025-08-12-13.47.15.png: 320x320 1 Pupil, 12.2ms\n",
      "Speed: 1.1ms preprocess, 12.2ms inference, 3.4ms postprocess per image at shape (1, 3, 320, 320)\n",
      "\n",
      "image 1/1 D:\\AAA\\Nowy folder\\Outputs\\Test\\2025-08-12-13.47.27.png: 320x320 1 Pupil, 16.9ms\n",
      "Speed: 1.2ms preprocess, 16.9ms inference, 4.4ms postprocess per image at shape (1, 3, 320, 320)\n",
      "\n",
      "image 1/1 D:\\AAA\\Nowy folder\\Outputs\\Test\\2025-08-12-13.47.36.png: 320x320 1 Pupil, 12.2ms\n",
      "Speed: 1.1ms preprocess, 12.2ms inference, 2.6ms postprocess per image at shape (1, 3, 320, 320)\n",
      "\n",
      "image 1/1 D:\\AAA\\Nowy folder\\Outputs\\Test\\2025-08-12-13.47.51.png: 320x320 1 Pupil, 12.0ms\n",
      "Speed: 1.0ms preprocess, 12.0ms inference, 4.5ms postprocess per image at shape (1, 3, 320, 320)\n",
      "\n",
      "image 1/1 D:\\AAA\\Nowy folder\\Outputs\\Test\\2025-08-12-13.47.56.png: 320x320 1 Pupil, 10.8ms\n",
      "Speed: 1.0ms preprocess, 10.8ms inference, 2.7ms postprocess per image at shape (1, 3, 320, 320)\n"
     ]
    }
   ],
   "source": [
    "from ultralytics import YOLO\n",
    "import cv2\n",
    "import os\n",
    "import glob\n",
    "import numpy as np\n",
    "\n",
    "# Ścieżka wejściowa\n",
    "input_dir = r\"D:\\\\AAA\\\\Nowy folder\\\\Outputs\\\\Test\"\n",
    "\n",
    "# Wczytanie modelu segmentacyjnego YOLO\n",
    "model = YOLO(r\"D:\\\\AAA\\\\Nowy folder\\\\pupiltracking\\\\runs\\\\pupil-seg-11\\\\weights\\\\best.pt\")\n",
    "\n",
    "# Pobranie plików graficznych\n",
    "image_files = glob.glob(os.path.join(input_dir, \"*.png\")) \n",
    "\n",
    "for img_path in image_files:\n",
    "    img = cv2.imread(img_path)\n",
    "\n",
    "    # Detekcja\n",
    "    results = model.predict(\n",
    "        source=img_path,\n",
    "        conf=0.35, max_det=1, device=0, save=False, imgsz=320\n",
    "    )\n",
    "\n",
    "    for r in results:\n",
    "        if r.masks is not None:\n",
    "            masks = r.masks.xy\n",
    "            for poly in masks:\n",
    "                pts = np.array(poly, dtype=np.int32)\n",
    "                pts_reshaped = pts.reshape((-1, 1, 2))\n",
    "\n",
    "                # Rysowanie poligonu\n",
    "                cv2.polylines(img, [pts_reshaped], isClosed=True, color=(0, 255, 0), thickness=2)\n",
    "\n",
    "                # Środek geometryczny\n",
    "                M = cv2.moments(pts)\n",
    "                if M[\"m00\"] != 0:\n",
    "                    cx = int(M[\"m10\"] / M[\"m00\"])\n",
    "                    cy = int(M[\"m01\"] / M[\"m00\"])\n",
    "                else:\n",
    "                    cx, cy = 0, 0\n",
    "\n",
    "                # Znalezienie punktów przecięcia poziomej linii y=cy z krawędziami poligonu\n",
    "                intersections = []\n",
    "                for i in range(len(pts)):\n",
    "                    x1, y1 = pts[i]\n",
    "                    x2, y2 = pts[(i + 1) % len(pts)]  # następny punkt (zamknięty poligon)\n",
    "\n",
    "                    # Sprawdzamy, czy odcinek przecina linię y=cy\n",
    "                    if (y1 <= cy <= y2) or (y2 <= cy <= y1):\n",
    "                        if y1 != y2:  # unikamy dzielenia przez zero\n",
    "                            t = (cy - y1) / (y2 - y1)\n",
    "                            x_int = int(x1 + t * (x2 - x1))\n",
    "                            intersections.append((x_int, cy))\n",
    "\n",
    "                if len(intersections) >= 2:\n",
    "                    # Wybieramy najbardziej skrajne punkty\n",
    "                    p_left = min(intersections, key=lambda p: p[0])\n",
    "                    p_right = max(intersections, key=lambda p: p[0])\n",
    "                    diameter_x = abs(p_right[0] - p_left[0])\n",
    "\n",
    "                    # Rysowanie linii średnicy przez środek\n",
    "                    cv2.line(img, p_left, p_right, (255, 0, 0), 2)\n",
    "                    cv2.putText(img, f\"{diameter_x}px\",\n",
    "                                ((p_left[0] + p_right[0]) // 2, cy + 20),\n",
    "                                cv2.FONT_HERSHEY_SIMPLEX, 0.5, (255, 0, 0), 1)\n",
    "\n",
    "                # Rysowanie środka\n",
    "                cv2.circle(img, (cx, cy), 5, (0, 0, 255), -1)\n",
    "                cv2.putText(img, f\"({cx},{cy})\", (cx + 10, cy - 10),\n",
    "                            cv2.FONT_HERSHEY_SIMPLEX, 0.5, (0, 0, 255), 1)\n",
    "\n",
    "    # Wyświetlanie\n",
    "    cv2.imshow(\"image\", img)\n",
    "    key = cv2.waitKey(0)\n",
    "    if key == 27:\n",
    "        break\n",
    "\n",
    "cv2.destroyAllWindows()\n"
   ]
  },
  {
   "cell_type": "code",
   "execution_count": 1,
   "id": "ce4617c4",
   "metadata": {},
   "outputs": [
    {
     "name": "stdout",
     "output_type": "stream",
     "text": [
      "True\n",
      "NVIDIA GeForce GTX 1050 Ti\n"
     ]
    }
   ],
   "source": [
    "import torch\n",
    "print(torch.cuda.is_available())  # powinno być True\n",
    "print(torch.cuda.get_device_name(0))  # powinno pokazać GTX 1050 Ti\n"
   ]
  }
 ],
 "metadata": {
  "kernelspec": {
   "display_name": ".venv",
   "language": "python",
   "name": "python3"
  },
  "language_info": {
   "codemirror_mode": {
    "name": "ipython",
    "version": 3
   },
   "file_extension": ".py",
   "mimetype": "text/x-python",
   "name": "python",
   "nbconvert_exporter": "python",
   "pygments_lexer": "ipython3",
   "version": "3.11.9"
  }
 },
 "nbformat": 4,
 "nbformat_minor": 5
}
