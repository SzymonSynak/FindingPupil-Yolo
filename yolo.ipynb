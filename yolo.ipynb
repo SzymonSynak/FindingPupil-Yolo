{
 "cells": [
  {
   "cell_type": "code",
   "execution_count": null,
   "id": "3a218489",
   "metadata": {},
   "outputs": [],
   "source": [
    "#Stworzenie podziału na dane uczące i walidacyjne\n",
    "import os, shutil, random, glob\n",
    "from pathlib import Path\n",
    "\n",
    "src_img = Path(\"D:/AAA/Nowy folder/Outputs/project-8-at-2025-08-12-11-44-492dcff8/images\")\n",
    "src_lab = Path(\"D:/AAA/Nowy folder/Outputs/project-8-at-2025-08-12-11-44-492dcff8/labels\")\n",
    "out = Path(\"D:/AAA/Nowy folder/Outputs/project-8-at-2025-08-12-11-44-492dcff8/yolo_pupil_seg\"); random.seed(42)\n",
    "for p in ['images/train','images/val','labels/train','labels/val']:\n",
    "    (out/p).mkdir(parents=True, exist_ok=True)\n",
    "\n",
    "imgs = [Path(p) for p in glob.glob(str(src_img/'*'))]\n",
    "random.shuffle(imgs); n = int(0.8*len(imgs))\n",
    "splits = {'train': imgs[:n], 'val': imgs[n:]}\n",
    "\n",
    "for split, files in splits.items():\n",
    "    for img in files:\n",
    "        lbl = src_lab/(img.stem + \".txt\")\n",
    "        shutil.copy2(img, out/'images'/split/img.name)\n",
    "        if lbl.exists(): shutil.copy2(lbl, out/'labels'/split/lbl.name)"
   ]
  },
  {
   "cell_type": "code",
   "execution_count": 12,
   "id": "8a94d5dc",
   "metadata": {},
   "outputs": [
    {
     "name": "stdout",
     "output_type": "stream",
     "text": [
      "New https://pypi.org/project/ultralytics/8.3.179 available  Update with 'pip install -U ultralytics'\n",
      "Ultralytics 8.3.177  Python-3.11.9 torch-2.7.1+cu118 CUDA:0 (NVIDIA GeForce GTX 1050 Ti, 4096MiB)\n",
      "\u001b[34m\u001b[1mengine\\trainer: \u001b[0magnostic_nms=False, amp=True, augment=False, auto_augment=randaugment, batch=16, bgr=0.0, box=7.5, cache=False, cfg=None, classes=None, close_mosaic=10, cls=0.5, conf=None, copy_paste=0.0, copy_paste_mode=flip, cos_lr=False, cutmix=0.0, data=D:/AAA/Nowy folder/Outputs/project-8-at-2025-08-12-11-44-492dcff8/data.yaml, degrees=0.0, deterministic=True, device=0, dfl=1.5, dnn=False, dropout=0.0, dynamic=False, embed=None, epochs=100, erasing=0.4, exist_ok=False, fliplr=0.5, flipud=0.0, format=torchscript, fraction=1.0, freeze=None, half=False, hsv_h=0.015, hsv_s=0.7, hsv_v=0.4, imgsz=400, int8=False, iou=0.7, keras=False, kobj=1.0, line_width=None, lr0=0.01, lrf=0.01, mask_ratio=4, max_det=300, mixup=0.0, mode=train, model=yolo11n-seg.pt, momentum=0.937, mosaic=1.0, multi_scale=False, name=pupil-seg-11, nbs=64, nms=False, opset=None, optimize=False, optimizer=auto, overlap_mask=True, patience=100, perspective=0.0, plots=True, pose=12.0, pretrained=True, profile=False, project=runs, rect=False, resume=False, retina_masks=False, save=True, save_conf=False, save_crop=False, save_dir=runs\\pupil-seg-11, save_frames=False, save_json=False, save_period=-1, save_txt=False, scale=0.5, seed=0, shear=0.0, show=False, show_boxes=True, show_conf=True, show_labels=True, simplify=True, single_cls=False, source=None, split=val, stream_buffer=False, task=segment, time=None, tracker=botsort.yaml, translate=0.1, val=True, verbose=True, vid_stride=1, visualize=False, warmup_bias_lr=0.1, warmup_epochs=3.0, warmup_momentum=0.8, weight_decay=0.0005, workers=8, workspace=None\n",
      "Overriding model.yaml nc=80 with nc=1\n",
      "\n",
      "                   from  n    params  module                                       arguments                     \n",
      "  0                  -1  1       464  ultralytics.nn.modules.conv.Conv             [3, 16, 3, 2]                 \n",
      "  1                  -1  1      4672  ultralytics.nn.modules.conv.Conv             [16, 32, 3, 2]                \n",
      "  2                  -1  1      6640  ultralytics.nn.modules.block.C3k2            [32, 64, 1, False, 0.25]      \n",
      "  3                  -1  1     36992  ultralytics.nn.modules.conv.Conv             [64, 64, 3, 2]                \n",
      "  4                  -1  1     26080  ultralytics.nn.modules.block.C3k2            [64, 128, 1, False, 0.25]     \n",
      "  5                  -1  1    147712  ultralytics.nn.modules.conv.Conv             [128, 128, 3, 2]              \n",
      "  6                  -1  1     87040  ultralytics.nn.modules.block.C3k2            [128, 128, 1, True]           \n",
      "  7                  -1  1    295424  ultralytics.nn.modules.conv.Conv             [128, 256, 3, 2]              \n",
      "  8                  -1  1    346112  ultralytics.nn.modules.block.C3k2            [256, 256, 1, True]           \n",
      "  9                  -1  1    164608  ultralytics.nn.modules.block.SPPF            [256, 256, 5]                 \n",
      " 10                  -1  1    249728  ultralytics.nn.modules.block.C2PSA           [256, 256, 1]                 \n",
      " 11                  -1  1         0  torch.nn.modules.upsampling.Upsample         [None, 2, 'nearest']          \n",
      " 12             [-1, 6]  1         0  ultralytics.nn.modules.conv.Concat           [1]                           \n",
      " 13                  -1  1    111296  ultralytics.nn.modules.block.C3k2            [384, 128, 1, False]          \n",
      " 14                  -1  1         0  torch.nn.modules.upsampling.Upsample         [None, 2, 'nearest']          \n",
      " 15             [-1, 4]  1         0  ultralytics.nn.modules.conv.Concat           [1]                           \n",
      " 16                  -1  1     32096  ultralytics.nn.modules.block.C3k2            [256, 64, 1, False]           \n",
      " 17                  -1  1     36992  ultralytics.nn.modules.conv.Conv             [64, 64, 3, 2]                \n",
      " 18            [-1, 13]  1         0  ultralytics.nn.modules.conv.Concat           [1]                           \n",
      " 19                  -1  1     86720  ultralytics.nn.modules.block.C3k2            [192, 128, 1, False]          \n",
      " 20                  -1  1    147712  ultralytics.nn.modules.conv.Conv             [128, 128, 3, 2]              \n",
      " 21            [-1, 10]  1         0  ultralytics.nn.modules.conv.Concat           [1]                           \n",
      " 22                  -1  1    378880  ultralytics.nn.modules.block.C3k2            [384, 256, 1, True]           \n",
      " 23        [16, 19, 22]  1    683635  ultralytics.nn.modules.head.Segment          [1, 32, 64, [64, 128, 256]]   \n",
      "YOLO11n-seg summary: 203 layers, 2,842,803 parameters, 2,842,787 gradients, 10.4 GFLOPs\n",
      "\n",
      "Transferred 510/561 items from pretrained weights\n",
      "Freezing layer 'model.23.dfl.conv.weight'\n",
      "\u001b[34m\u001b[1mAMP: \u001b[0mrunning Automatic Mixed Precision (AMP) checks...\n",
      "\u001b[34m\u001b[1mAMP: \u001b[0mchecks passed \n",
      "WARNING imgsz=[400] must be multiple of max stride 32, updating to [416]\n",
      "\u001b[34m\u001b[1mtrain: \u001b[0mFast image access  (ping: 0.00.0 ms, read: 797.4160.6 MB/s, size: 78.4 KB)\n"
     ]
    },
    {
     "name": "stderr",
     "output_type": "stream",
     "text": [
      "\u001b[34m\u001b[1mtrain: \u001b[0mScanning D:\\AAA\\Nowy folder\\Outputs\\project-8-at-2025-08-12-11-44-492dcff8\\yolo_pupil_seg\\labels\\train.cache... 29 images, 0 backgrounds, 0 corrupt: 100%|██████████| 29/29 [00:00<?, ?it/s]\n"
     ]
    },
    {
     "name": "stdout",
     "output_type": "stream",
     "text": [
      "\u001b[34m\u001b[1mval: \u001b[0mFast image access  (ping: 0.00.0 ms, read: 543.267.4 MB/s, size: 80.7 KB)\n"
     ]
    },
    {
     "name": "stderr",
     "output_type": "stream",
     "text": [
      "\u001b[34m\u001b[1mval: \u001b[0mScanning D:\\AAA\\Nowy folder\\Outputs\\project-8-at-2025-08-12-11-44-492dcff8\\yolo_pupil_seg\\labels\\val.cache... 8 images, 0 backgrounds, 0 corrupt: 100%|██████████| 8/8 [00:00<?, ?it/s]\n"
     ]
    },
    {
     "name": "stdout",
     "output_type": "stream",
     "text": [
      "Plotting labels to runs\\pupil-seg-11\\labels.jpg... \n",
      "\u001b[34m\u001b[1moptimizer:\u001b[0m 'optimizer=auto' found, ignoring 'lr0=0.01' and 'momentum=0.937' and determining best 'optimizer', 'lr0' and 'momentum' automatically... \n",
      "\u001b[34m\u001b[1moptimizer:\u001b[0m AdamW(lr=0.002, momentum=0.9) with parameter groups 90 weight(decay=0.0), 101 weight(decay=0.0005), 100 bias(decay=0.0)\n",
      "Image sizes 416 train, 416 val\n",
      "Using 8 dataloader workers\n",
      "Logging results to \u001b[1mruns\\pupil-seg-11\u001b[0m\n",
      "Starting training for 100 epochs...\n",
      "\n",
      "      Epoch    GPU_mem   box_loss   seg_loss   cls_loss   dfl_loss  Instances       Size\n"
     ]
    },
    {
     "name": "stderr",
     "output_type": "stream",
     "text": [
      "      1/100      1.39G     0.6226      1.789      2.996      1.002         18        416: 100%|██████████| 2/2 [00:01<00:00,  1.24it/s]\n",
      "                 Class     Images  Instances      Box(P          R      mAP50  mAP50-95)     Mask(P          R      mAP50  mAP50-95): 100%|██████████| 1/1 [00:00<00:00,  1.91it/s]"
     ]
    },
    {
     "name": "stdout",
     "output_type": "stream",
     "text": [
      "                   all          8          8    0.00347          1     0.0558     0.0347    0.00347          1     0.0862     0.0526\n"
     ]
    },
    {
     "name": "stderr",
     "output_type": "stream",
     "text": [
      "\n"
     ]
    },
    {
     "name": "stdout",
     "output_type": "stream",
     "text": [
      "\n",
      "      Epoch    GPU_mem   box_loss   seg_loss   cls_loss   dfl_loss  Instances       Size\n"
     ]
    },
    {
     "name": "stderr",
     "output_type": "stream",
     "text": [
      "      2/100      1.39G     0.8922       2.05      2.985      1.125         28        416: 100%|██████████| 2/2 [00:01<00:00,  1.76it/s]\n",
      "                 Class     Images  Instances      Box(P          R      mAP50  mAP50-95)     Mask(P          R      mAP50  mAP50-95): 100%|██████████| 1/1 [00:00<00:00,  5.81it/s]"
     ]
    },
    {
     "name": "stdout",
     "output_type": "stream",
     "text": [
      "                   all          8          8    0.00348          1      0.121     0.0836    0.00348          1      0.113     0.0983\n"
     ]
    },
    {
     "name": "stderr",
     "output_type": "stream",
     "text": [
      "\n"
     ]
    },
    {
     "name": "stdout",
     "output_type": "stream",
     "text": [
      "\n",
      "      Epoch    GPU_mem   box_loss   seg_loss   cls_loss   dfl_loss  Instances       Size\n"
     ]
    },
    {
     "name": "stderr",
     "output_type": "stream",
     "text": [
      "      3/100      1.39G     0.9956       2.57      3.082      1.272         21        416: 100%|██████████| 2/2 [00:00<00:00,  2.40it/s]\n",
      "                 Class     Images  Instances      Box(P          R      mAP50  mAP50-95)     Mask(P          R      mAP50  mAP50-95): 100%|██████████| 1/1 [00:00<00:00,  7.45it/s]"
     ]
    },
    {
     "name": "stdout",
     "output_type": "stream",
     "text": [
      "                   all          8          8    0.00347          1      0.102     0.0736    0.00347          1      0.103     0.0804\n"
     ]
    },
    {
     "name": "stderr",
     "output_type": "stream",
     "text": [
      "\n"
     ]
    },
    {
     "name": "stdout",
     "output_type": "stream",
     "text": [
      "\n",
      "      Epoch    GPU_mem   box_loss   seg_loss   cls_loss   dfl_loss  Instances       Size\n"
     ]
    },
    {
     "name": "stderr",
     "output_type": "stream",
     "text": [
      "      4/100      1.39G     0.8257      1.909      2.979       1.11         23        416: 100%|██████████| 2/2 [00:00<00:00,  2.42it/s]\n",
      "                 Class     Images  Instances      Box(P          R      mAP50  mAP50-95)     Mask(P          R      mAP50  mAP50-95): 100%|██████████| 1/1 [00:00<00:00,  7.40it/s]"
     ]
    },
    {
     "name": "stdout",
     "output_type": "stream",
     "text": [
      "                   all          8          8     0.0035          1     0.0909     0.0781     0.0035          1     0.0909     0.0813\n"
     ]
    },
    {
     "name": "stderr",
     "output_type": "stream",
     "text": [
      "\n"
     ]
    },
    {
     "name": "stdout",
     "output_type": "stream",
     "text": [
      "\n",
      "      Epoch    GPU_mem   box_loss   seg_loss   cls_loss   dfl_loss  Instances       Size\n"
     ]
    },
    {
     "name": "stderr",
     "output_type": "stream",
     "text": [
      "      5/100      1.39G     0.9069      1.869      2.992      1.147         28        416: 100%|██████████| 2/2 [00:00<00:00,  2.33it/s]\n",
      "                 Class     Images  Instances      Box(P          R      mAP50  mAP50-95)     Mask(P          R      mAP50  mAP50-95): 100%|██████████| 1/1 [00:00<00:00,  7.43it/s]"
     ]
    },
    {
     "name": "stdout",
     "output_type": "stream",
     "text": [
      "                   all          8          8    0.00335          1       0.54      0.493    0.00335          1      0.566       0.51\n"
     ]
    },
    {
     "name": "stderr",
     "output_type": "stream",
     "text": [
      "\n"
     ]
    },
    {
     "name": "stdout",
     "output_type": "stream",
     "text": [
      "\n",
      "      Epoch    GPU_mem   box_loss   seg_loss   cls_loss   dfl_loss  Instances       Size\n"
     ]
    },
    {
     "name": "stderr",
     "output_type": "stream",
     "text": [
      "      6/100      1.42G     0.7514      1.627      2.848      1.041         33        416: 100%|██████████| 2/2 [00:00<00:00,  2.34it/s]\n",
      "                 Class     Images  Instances      Box(P          R      mAP50  mAP50-95)     Mask(P          R      mAP50  mAP50-95): 100%|██████████| 1/1 [00:00<00:00,  7.41it/s]"
     ]
    },
    {
     "name": "stdout",
     "output_type": "stream",
     "text": [
      "                   all          8          8    0.00333          1      0.921      0.776    0.00333          1      0.939      0.828\n"
     ]
    },
    {
     "name": "stderr",
     "output_type": "stream",
     "text": [
      "\n"
     ]
    },
    {
     "name": "stdout",
     "output_type": "stream",
     "text": [
      "\n",
      "      Epoch    GPU_mem   box_loss   seg_loss   cls_loss   dfl_loss  Instances       Size\n"
     ]
    },
    {
     "name": "stderr",
     "output_type": "stream",
     "text": [
      "      7/100      1.42G     0.6887     0.8899      2.442     0.9591         24        416: 100%|██████████| 2/2 [00:00<00:00,  2.36it/s]\n",
      "                 Class     Images  Instances      Box(P          R      mAP50  mAP50-95)     Mask(P          R      mAP50  mAP50-95): 100%|██████████| 1/1 [00:00<00:00,  7.51it/s]"
     ]
    },
    {
     "name": "stdout",
     "output_type": "stream",
     "text": [
      "                   all          8          8    0.00333          1      0.928      0.755    0.00333          1      0.928       0.74\n"
     ]
    },
    {
     "name": "stderr",
     "output_type": "stream",
     "text": [
      "\n"
     ]
    },
    {
     "name": "stdout",
     "output_type": "stream",
     "text": [
      "\n",
      "      Epoch    GPU_mem   box_loss   seg_loss   cls_loss   dfl_loss  Instances       Size\n"
     ]
    },
    {
     "name": "stderr",
     "output_type": "stream",
     "text": [
      "      8/100      1.43G     0.7965     0.9276      2.168      1.014         21        416: 100%|██████████| 2/2 [00:00<00:00,  2.37it/s]\n",
      "                 Class     Images  Instances      Box(P          R      mAP50  mAP50-95)     Mask(P          R      mAP50  mAP50-95): 100%|██████████| 1/1 [00:00<00:00,  7.46it/s]"
     ]
    },
    {
     "name": "stdout",
     "output_type": "stream",
     "text": [
      "                   all          8          8    0.00333          1      0.944       0.79    0.00333          1      0.895      0.777\n"
     ]
    },
    {
     "name": "stderr",
     "output_type": "stream",
     "text": [
      "\n"
     ]
    },
    {
     "name": "stdout",
     "output_type": "stream",
     "text": [
      "\n",
      "      Epoch    GPU_mem   box_loss   seg_loss   cls_loss   dfl_loss  Instances       Size\n"
     ]
    },
    {
     "name": "stderr",
     "output_type": "stream",
     "text": [
      "      9/100      1.45G     0.8307     0.8862      1.965      1.025         30        416: 100%|██████████| 2/2 [00:00<00:00,  2.45it/s]\n",
      "                 Class     Images  Instances      Box(P          R      mAP50  mAP50-95)     Mask(P          R      mAP50  mAP50-95): 100%|██████████| 1/1 [00:00<00:00,  7.05it/s]"
     ]
    },
    {
     "name": "stdout",
     "output_type": "stream",
     "text": [
      "                   all          8          8    0.00333          1      0.931      0.784    0.00292      0.875      0.875      0.793\n"
     ]
    },
    {
     "name": "stderr",
     "output_type": "stream",
     "text": [
      "\n"
     ]
    },
    {
     "name": "stdout",
     "output_type": "stream",
     "text": [
      "\n",
      "      Epoch    GPU_mem   box_loss   seg_loss   cls_loss   dfl_loss  Instances       Size\n"
     ]
    },
    {
     "name": "stderr",
     "output_type": "stream",
     "text": [
      "     10/100      1.45G     0.7567     0.7231      1.838     0.9462         20        416: 100%|██████████| 2/2 [00:00<00:00,  2.46it/s]\n",
      "                 Class     Images  Instances      Box(P          R      mAP50  mAP50-95)     Mask(P          R      mAP50  mAP50-95): 100%|██████████| 1/1 [00:00<00:00,  7.57it/s]"
     ]
    },
    {
     "name": "stdout",
     "output_type": "stream",
     "text": [
      "                   all          8          8    0.00333          1      0.917      0.737    0.00292      0.875      0.875      0.799\n"
     ]
    },
    {
     "name": "stderr",
     "output_type": "stream",
     "text": [
      "\n"
     ]
    },
    {
     "name": "stdout",
     "output_type": "stream",
     "text": [
      "\n",
      "      Epoch    GPU_mem   box_loss   seg_loss   cls_loss   dfl_loss  Instances       Size\n"
     ]
    },
    {
     "name": "stderr",
     "output_type": "stream",
     "text": [
      "     11/100      1.46G     0.7052     0.7435      1.616     0.9644         29        416: 100%|██████████| 2/2 [00:00<00:00,  2.45it/s]\n",
      "                 Class     Images  Instances      Box(P          R      mAP50  mAP50-95)     Mask(P          R      mAP50  mAP50-95): 100%|██████████| 1/1 [00:00<00:00,  7.29it/s]"
     ]
    },
    {
     "name": "stdout",
     "output_type": "stream",
     "text": [
      "                   all          8          8    0.00333          1      0.949      0.747    0.00333          1      0.897       0.78\n"
     ]
    },
    {
     "name": "stderr",
     "output_type": "stream",
     "text": [
      "\n"
     ]
    },
    {
     "name": "stdout",
     "output_type": "stream",
     "text": [
      "\n",
      "      Epoch    GPU_mem   box_loss   seg_loss   cls_loss   dfl_loss  Instances       Size\n"
     ]
    },
    {
     "name": "stderr",
     "output_type": "stream",
     "text": [
      "     12/100      1.46G     0.6612     0.5788      1.452     0.9837         27        416: 100%|██████████| 2/2 [00:00<00:00,  2.45it/s]\n",
      "                 Class     Images  Instances      Box(P          R      mAP50  mAP50-95)     Mask(P          R      mAP50  mAP50-95): 100%|██████████| 1/1 [00:00<00:00,  7.37it/s]"
     ]
    },
    {
     "name": "stdout",
     "output_type": "stream",
     "text": [
      "                   all          8          8    0.00333          1      0.924      0.743    0.00292      0.875      0.844      0.661\n"
     ]
    },
    {
     "name": "stderr",
     "output_type": "stream",
     "text": [
      "\n"
     ]
    },
    {
     "name": "stdout",
     "output_type": "stream",
     "text": [
      "\n",
      "      Epoch    GPU_mem   box_loss   seg_loss   cls_loss   dfl_loss  Instances       Size\n"
     ]
    },
    {
     "name": "stderr",
     "output_type": "stream",
     "text": [
      "     13/100      1.46G     0.7424     0.7546      1.416     0.9996         25        416: 100%|██████████| 2/2 [00:00<00:00,  2.06it/s]\n",
      "                 Class     Images  Instances      Box(P          R      mAP50  mAP50-95)     Mask(P          R      mAP50  mAP50-95): 100%|██████████| 1/1 [00:00<00:00,  7.53it/s]"
     ]
    },
    {
     "name": "stdout",
     "output_type": "stream",
     "text": [
      "                   all          8          8    0.00333          1      0.944      0.762    0.00292      0.875      0.875      0.643\n"
     ]
    },
    {
     "name": "stderr",
     "output_type": "stream",
     "text": [
      "\n"
     ]
    },
    {
     "name": "stdout",
     "output_type": "stream",
     "text": [
      "\n",
      "      Epoch    GPU_mem   box_loss   seg_loss   cls_loss   dfl_loss  Instances       Size\n"
     ]
    },
    {
     "name": "stderr",
     "output_type": "stream",
     "text": [
      "     14/100      1.46G     0.7889     0.8314      1.416      0.984         26        416: 100%|██████████| 2/2 [00:00<00:00,  2.46it/s]\n",
      "                 Class     Images  Instances      Box(P          R      mAP50  mAP50-95)     Mask(P          R      mAP50  mAP50-95): 100%|██████████| 1/1 [00:00<00:00,  7.30it/s]"
     ]
    },
    {
     "name": "stdout",
     "output_type": "stream",
     "text": [
      "                   all          8          8    0.00333          1      0.877      0.763    0.00292      0.875      0.875      0.571\n"
     ]
    },
    {
     "name": "stderr",
     "output_type": "stream",
     "text": [
      "\n"
     ]
    },
    {
     "name": "stdout",
     "output_type": "stream",
     "text": [
      "\n",
      "      Epoch    GPU_mem   box_loss   seg_loss   cls_loss   dfl_loss  Instances       Size\n"
     ]
    },
    {
     "name": "stderr",
     "output_type": "stream",
     "text": [
      "     15/100      1.46G     0.7416     0.7349      1.247     0.9523         28        416: 100%|██████████| 2/2 [00:00<00:00,  2.41it/s]\n",
      "                 Class     Images  Instances      Box(P          R      mAP50  mAP50-95)     Mask(P          R      mAP50  mAP50-95): 100%|██████████| 1/1 [00:00<00:00,  7.56it/s]"
     ]
    },
    {
     "name": "stdout",
     "output_type": "stream",
     "text": [
      "                   all          8          8    0.00333          1      0.877      0.766    0.00292      0.875      0.875      0.673\n"
     ]
    },
    {
     "name": "stderr",
     "output_type": "stream",
     "text": [
      "\n"
     ]
    },
    {
     "name": "stdout",
     "output_type": "stream",
     "text": [
      "\n",
      "      Epoch    GPU_mem   box_loss   seg_loss   cls_loss   dfl_loss  Instances       Size\n"
     ]
    },
    {
     "name": "stderr",
     "output_type": "stream",
     "text": [
      "     16/100      1.46G     0.7058     0.7457      1.161     0.9329         34        416: 100%|██████████| 2/2 [00:00<00:00,  2.46it/s]\n",
      "                 Class     Images  Instances      Box(P          R      mAP50  mAP50-95)     Mask(P          R      mAP50  mAP50-95): 100%|██████████| 1/1 [00:00<00:00,  7.43it/s]"
     ]
    },
    {
     "name": "stdout",
     "output_type": "stream",
     "text": [
      "                   all          8          8    0.00333          1      0.877      0.773    0.00292      0.875      0.875      0.649\n"
     ]
    },
    {
     "name": "stderr",
     "output_type": "stream",
     "text": [
      "\n"
     ]
    },
    {
     "name": "stdout",
     "output_type": "stream",
     "text": [
      "\n",
      "      Epoch    GPU_mem   box_loss   seg_loss   cls_loss   dfl_loss  Instances       Size\n"
     ]
    },
    {
     "name": "stderr",
     "output_type": "stream",
     "text": [
      "     17/100      1.46G     0.6843     0.6644      1.071     0.9578         30        416: 100%|██████████| 2/2 [00:00<00:00,  2.46it/s]\n",
      "                 Class     Images  Instances      Box(P          R      mAP50  mAP50-95)     Mask(P          R      mAP50  mAP50-95): 100%|██████████| 1/1 [00:00<00:00,  7.54it/s]"
     ]
    },
    {
     "name": "stdout",
     "output_type": "stream",
     "text": [
      "                   all          8          8    0.00333          1      0.878      0.773    0.00333          1      0.875      0.717\n"
     ]
    },
    {
     "name": "stderr",
     "output_type": "stream",
     "text": [
      "\n"
     ]
    },
    {
     "name": "stdout",
     "output_type": "stream",
     "text": [
      "\n",
      "      Epoch    GPU_mem   box_loss   seg_loss   cls_loss   dfl_loss  Instances       Size\n"
     ]
    },
    {
     "name": "stderr",
     "output_type": "stream",
     "text": [
      "     18/100      1.46G     0.6694     0.6527      1.071     0.9076         24        416: 100%|██████████| 2/2 [00:00<00:00,  2.45it/s]\n",
      "                 Class     Images  Instances      Box(P          R      mAP50  mAP50-95)     Mask(P          R      mAP50  mAP50-95): 100%|██████████| 1/1 [00:00<00:00,  7.29it/s]"
     ]
    },
    {
     "name": "stdout",
     "output_type": "stream",
     "text": [
      "                   all          8          8    0.00333          1      0.633      0.522    0.00333          1      0.773      0.658\n"
     ]
    },
    {
     "name": "stderr",
     "output_type": "stream",
     "text": [
      "\n"
     ]
    },
    {
     "name": "stdout",
     "output_type": "stream",
     "text": [
      "\n",
      "      Epoch    GPU_mem   box_loss   seg_loss   cls_loss   dfl_loss  Instances       Size\n"
     ]
    },
    {
     "name": "stderr",
     "output_type": "stream",
     "text": [
      "     19/100      1.48G     0.6832     0.9951      1.067     0.9506         22        416: 100%|██████████| 2/2 [00:00<00:00,  2.45it/s]\n",
      "                 Class     Images  Instances      Box(P          R      mAP50  mAP50-95)     Mask(P          R      mAP50  mAP50-95): 100%|██████████| 1/1 [00:00<00:00,  7.35it/s]"
     ]
    },
    {
     "name": "stdout",
     "output_type": "stream",
     "text": [
      "                   all          8          8    0.00333          1      0.261      0.228    0.00292      0.875      0.634      0.522\n"
     ]
    },
    {
     "name": "stderr",
     "output_type": "stream",
     "text": [
      "\n"
     ]
    },
    {
     "name": "stdout",
     "output_type": "stream",
     "text": [
      "\n",
      "      Epoch    GPU_mem   box_loss   seg_loss   cls_loss   dfl_loss  Instances       Size\n"
     ]
    },
    {
     "name": "stderr",
     "output_type": "stream",
     "text": [
      "     20/100      1.49G     0.5656     0.5751     0.9122     0.9156         20        416: 100%|██████████| 2/2 [00:00<00:00,  2.43it/s]\n",
      "                 Class     Images  Instances      Box(P          R      mAP50  mAP50-95)     Mask(P          R      mAP50  mAP50-95): 100%|██████████| 1/1 [00:00<00:00,  7.34it/s]"
     ]
    },
    {
     "name": "stdout",
     "output_type": "stream",
     "text": [
      "                   all          8          8    0.00333          1      0.261      0.212    0.00333          1      0.592      0.509\n"
     ]
    },
    {
     "name": "stderr",
     "output_type": "stream",
     "text": [
      "\n"
     ]
    },
    {
     "name": "stdout",
     "output_type": "stream",
     "text": [
      "\n",
      "      Epoch    GPU_mem   box_loss   seg_loss   cls_loss   dfl_loss  Instances       Size\n"
     ]
    },
    {
     "name": "stderr",
     "output_type": "stream",
     "text": [
      "     21/100      1.51G     0.6953     0.7424     0.9513     0.9883         28        416: 100%|██████████| 2/2 [00:00<00:00,  2.46it/s]\n",
      "                 Class     Images  Instances      Box(P          R      mAP50  mAP50-95)     Mask(P          R      mAP50  mAP50-95): 100%|██████████| 1/1 [00:00<00:00,  7.31it/s]"
     ]
    },
    {
     "name": "stdout",
     "output_type": "stream",
     "text": [
      "                   all          8          8    0.00333          1      0.596      0.512    0.00333          1       0.72      0.633\n"
     ]
    },
    {
     "name": "stderr",
     "output_type": "stream",
     "text": [
      "\n"
     ]
    },
    {
     "name": "stdout",
     "output_type": "stream",
     "text": [
      "\n",
      "      Epoch    GPU_mem   box_loss   seg_loss   cls_loss   dfl_loss  Instances       Size\n"
     ]
    },
    {
     "name": "stderr",
     "output_type": "stream",
     "text": [
      "     22/100      1.51G     0.6864     0.6429     0.9861     0.9037         27        416: 100%|██████████| 2/2 [00:00<00:00,  2.43it/s]\n",
      "                 Class     Images  Instances      Box(P          R      mAP50  mAP50-95)     Mask(P          R      mAP50  mAP50-95): 100%|██████████| 1/1 [00:00<00:00,  7.36it/s]"
     ]
    },
    {
     "name": "stdout",
     "output_type": "stream",
     "text": [
      "                   all          8          8    0.00333          1      0.665      0.534    0.00333          1      0.722      0.638\n"
     ]
    },
    {
     "name": "stderr",
     "output_type": "stream",
     "text": [
      "\n"
     ]
    },
    {
     "name": "stdout",
     "output_type": "stream",
     "text": [
      "\n",
      "      Epoch    GPU_mem   box_loss   seg_loss   cls_loss   dfl_loss  Instances       Size\n"
     ]
    },
    {
     "name": "stderr",
     "output_type": "stream",
     "text": [
      "     23/100      1.51G     0.7182     0.6813     0.9525       0.96         23        416: 100%|██████████| 2/2 [00:00<00:00,  2.44it/s]\n",
      "                 Class     Images  Instances      Box(P          R      mAP50  mAP50-95)     Mask(P          R      mAP50  mAP50-95): 100%|██████████| 1/1 [00:00<00:00,  7.46it/s]"
     ]
    },
    {
     "name": "stdout",
     "output_type": "stream",
     "text": [
      "                   all          8          8    0.00333          1       0.71       0.56    0.00333          1      0.725      0.714\n"
     ]
    },
    {
     "name": "stderr",
     "output_type": "stream",
     "text": [
      "\n"
     ]
    },
    {
     "name": "stdout",
     "output_type": "stream",
     "text": [
      "\n",
      "      Epoch    GPU_mem   box_loss   seg_loss   cls_loss   dfl_loss  Instances       Size\n"
     ]
    },
    {
     "name": "stderr",
     "output_type": "stream",
     "text": [
      "     24/100      1.51G     0.7417     0.7404     0.9567     0.9103         32        416: 100%|██████████| 2/2 [00:00<00:00,  2.46it/s]\n",
      "                 Class     Images  Instances      Box(P          R      mAP50  mAP50-95)     Mask(P          R      mAP50  mAP50-95): 100%|██████████| 1/1 [00:00<00:00,  6.94it/s]"
     ]
    },
    {
     "name": "stdout",
     "output_type": "stream",
     "text": [
      "                   all          8          8    0.00333          1      0.612      0.516    0.00333          1      0.738      0.686\n"
     ]
    },
    {
     "name": "stderr",
     "output_type": "stream",
     "text": [
      "\n"
     ]
    },
    {
     "name": "stdout",
     "output_type": "stream",
     "text": [
      "\n",
      "      Epoch    GPU_mem   box_loss   seg_loss   cls_loss   dfl_loss  Instances       Size\n"
     ]
    },
    {
     "name": "stderr",
     "output_type": "stream",
     "text": [
      "     25/100      1.51G     0.7077     0.8513     0.9206     0.9758         20        416: 100%|██████████| 2/2 [00:00<00:00,  2.47it/s]\n",
      "                 Class     Images  Instances      Box(P          R      mAP50  mAP50-95)     Mask(P          R      mAP50  mAP50-95): 100%|██████████| 1/1 [00:00<00:00,  7.35it/s]"
     ]
    },
    {
     "name": "stdout",
     "output_type": "stream",
     "text": [
      "                   all          8          8    0.00333          1       0.54       0.47    0.00333          1      0.758      0.711\n"
     ]
    },
    {
     "name": "stderr",
     "output_type": "stream",
     "text": [
      "\n"
     ]
    },
    {
     "name": "stdout",
     "output_type": "stream",
     "text": [
      "\n",
      "      Epoch    GPU_mem   box_loss   seg_loss   cls_loss   dfl_loss  Instances       Size\n"
     ]
    },
    {
     "name": "stderr",
     "output_type": "stream",
     "text": [
      "     26/100      1.51G     0.6383     0.5608     0.8694     0.9256         27        416: 100%|██████████| 2/2 [00:00<00:00,  2.45it/s]\n",
      "                 Class     Images  Instances      Box(P          R      mAP50  mAP50-95)     Mask(P          R      mAP50  mAP50-95): 100%|██████████| 1/1 [00:00<00:00,  7.43it/s]"
     ]
    },
    {
     "name": "stdout",
     "output_type": "stream",
     "text": [
      "                   all          8          8    0.00333          1      0.735       0.55    0.00333          1       0.76      0.682\n"
     ]
    },
    {
     "name": "stderr",
     "output_type": "stream",
     "text": [
      "\n"
     ]
    },
    {
     "name": "stdout",
     "output_type": "stream",
     "text": [
      "\n",
      "      Epoch    GPU_mem   box_loss   seg_loss   cls_loss   dfl_loss  Instances       Size\n"
     ]
    },
    {
     "name": "stderr",
     "output_type": "stream",
     "text": [
      "     27/100      1.51G     0.6258     0.5583     0.8496     0.9156         22        416: 100%|██████████| 2/2 [00:00<00:00,  2.45it/s]\n",
      "                 Class     Images  Instances      Box(P          R      mAP50  mAP50-95)     Mask(P          R      mAP50  mAP50-95): 100%|██████████| 1/1 [00:00<00:00,  7.39it/s]"
     ]
    },
    {
     "name": "stdout",
     "output_type": "stream",
     "text": [
      "                   all          8          8    0.00333          1      0.902      0.577    0.00333          1      0.949      0.686\n"
     ]
    },
    {
     "name": "stderr",
     "output_type": "stream",
     "text": [
      "\n"
     ]
    },
    {
     "name": "stdout",
     "output_type": "stream",
     "text": [
      "\n",
      "      Epoch    GPU_mem   box_loss   seg_loss   cls_loss   dfl_loss  Instances       Size\n"
     ]
    },
    {
     "name": "stderr",
     "output_type": "stream",
     "text": [
      "     28/100      1.51G      0.638     0.6735     0.9148       0.91         26        416: 100%|██████████| 2/2 [00:00<00:00,  2.51it/s]\n",
      "                 Class     Images  Instances      Box(P          R      mAP50  mAP50-95)     Mask(P          R      mAP50  mAP50-95): 100%|██████████| 1/1 [00:00<00:00,  7.32it/s]"
     ]
    },
    {
     "name": "stdout",
     "output_type": "stream",
     "text": [
      "                   all          8          8    0.00333          1      0.902      0.577    0.00333          1      0.949      0.686\n"
     ]
    },
    {
     "name": "stderr",
     "output_type": "stream",
     "text": [
      "\n"
     ]
    },
    {
     "name": "stdout",
     "output_type": "stream",
     "text": [
      "\n",
      "      Epoch    GPU_mem   box_loss   seg_loss   cls_loss   dfl_loss  Instances       Size\n"
     ]
    },
    {
     "name": "stderr",
     "output_type": "stream",
     "text": [
      "     29/100      1.52G     0.7083     0.6594      0.881      0.977         28        416: 100%|██████████| 2/2 [00:00<00:00,  2.44it/s]\n",
      "                 Class     Images  Instances      Box(P          R      mAP50  mAP50-95)     Mask(P          R      mAP50  mAP50-95): 100%|██████████| 1/1 [00:00<00:00,  7.35it/s]"
     ]
    },
    {
     "name": "stdout",
     "output_type": "stream",
     "text": [
      "                   all          8          8    0.00333          1       0.88       0.66    0.00333          1       0.88      0.642\n"
     ]
    },
    {
     "name": "stderr",
     "output_type": "stream",
     "text": [
      "\n"
     ]
    },
    {
     "name": "stdout",
     "output_type": "stream",
     "text": [
      "\n",
      "      Epoch    GPU_mem   box_loss   seg_loss   cls_loss   dfl_loss  Instances       Size\n"
     ]
    },
    {
     "name": "stderr",
     "output_type": "stream",
     "text": [
      "     30/100      1.53G     0.7187     0.6085     0.8705     0.9537         30        416: 100%|██████████| 2/2 [00:00<00:00,  2.40it/s]\n",
      "                 Class     Images  Instances      Box(P          R      mAP50  mAP50-95)     Mask(P          R      mAP50  mAP50-95): 100%|██████████| 1/1 [00:00<00:00,  6.93it/s]"
     ]
    },
    {
     "name": "stdout",
     "output_type": "stream",
     "text": [
      "                   all          8          8    0.00333          1      0.931      0.736    0.00333          1      0.931      0.618\n"
     ]
    },
    {
     "name": "stderr",
     "output_type": "stream",
     "text": [
      "\n"
     ]
    },
    {
     "name": "stdout",
     "output_type": "stream",
     "text": [
      "\n",
      "      Epoch    GPU_mem   box_loss   seg_loss   cls_loss   dfl_loss  Instances       Size\n"
     ]
    },
    {
     "name": "stderr",
     "output_type": "stream",
     "text": [
      "     31/100      1.53G     0.6422     0.7549     0.8977     0.9273         32        416: 100%|██████████| 2/2 [00:00<00:00,  2.49it/s]\n",
      "                 Class     Images  Instances      Box(P          R      mAP50  mAP50-95)     Mask(P          R      mAP50  mAP50-95): 100%|██████████| 1/1 [00:00<00:00,  6.67it/s]"
     ]
    },
    {
     "name": "stdout",
     "output_type": "stream",
     "text": [
      "                   all          8          8    0.00333          1      0.931      0.736    0.00333          1      0.931      0.618\n"
     ]
    },
    {
     "name": "stderr",
     "output_type": "stream",
     "text": [
      "\n"
     ]
    },
    {
     "name": "stdout",
     "output_type": "stream",
     "text": [
      "\n",
      "      Epoch    GPU_mem   box_loss   seg_loss   cls_loss   dfl_loss  Instances       Size\n"
     ]
    },
    {
     "name": "stderr",
     "output_type": "stream",
     "text": [
      "     32/100      1.53G     0.6143     0.5667     0.8392     0.9163         21        416: 100%|██████████| 2/2 [00:00<00:00,  2.36it/s]\n",
      "                 Class     Images  Instances      Box(P          R      mAP50  mAP50-95)     Mask(P          R      mAP50  mAP50-95): 100%|██████████| 1/1 [00:00<00:00,  6.82it/s]"
     ]
    },
    {
     "name": "stdout",
     "output_type": "stream",
     "text": [
      "                   all          8          8          1      0.405      0.995      0.783          1      0.405      0.995      0.721\n"
     ]
    },
    {
     "name": "stderr",
     "output_type": "stream",
     "text": [
      "\n"
     ]
    },
    {
     "name": "stdout",
     "output_type": "stream",
     "text": [
      "\n",
      "      Epoch    GPU_mem   box_loss   seg_loss   cls_loss   dfl_loss  Instances       Size\n"
     ]
    },
    {
     "name": "stderr",
     "output_type": "stream",
     "text": [
      "     33/100      1.53G     0.6786     0.6667     0.8278     0.9559         32        416: 100%|██████████| 2/2 [00:00<00:00,  2.41it/s]\n",
      "                 Class     Images  Instances      Box(P          R      mAP50  mAP50-95)     Mask(P          R      mAP50  mAP50-95): 100%|██████████| 1/1 [00:00<00:00,  7.01it/s]"
     ]
    },
    {
     "name": "stdout",
     "output_type": "stream",
     "text": [
      "                   all          8          8          1      0.983      0.995      0.795          1      0.983      0.995      0.833\n"
     ]
    },
    {
     "name": "stderr",
     "output_type": "stream",
     "text": [
      "\n"
     ]
    },
    {
     "name": "stdout",
     "output_type": "stream",
     "text": [
      "\n",
      "      Epoch    GPU_mem   box_loss   seg_loss   cls_loss   dfl_loss  Instances       Size\n"
     ]
    },
    {
     "name": "stderr",
     "output_type": "stream",
     "text": [
      "     34/100      1.53G     0.6038     0.6196     0.8943     0.9175         24        416: 100%|██████████| 2/2 [00:00<00:00,  2.52it/s]\n",
      "                 Class     Images  Instances      Box(P          R      mAP50  mAP50-95)     Mask(P          R      mAP50  mAP50-95): 100%|██████████| 1/1 [00:00<00:00,  7.21it/s]"
     ]
    },
    {
     "name": "stdout",
     "output_type": "stream",
     "text": [
      "                   all          8          8          1      0.983      0.995      0.795          1      0.983      0.995      0.833\n"
     ]
    },
    {
     "name": "stderr",
     "output_type": "stream",
     "text": [
      "\n"
     ]
    },
    {
     "name": "stdout",
     "output_type": "stream",
     "text": [
      "\n",
      "      Epoch    GPU_mem   box_loss   seg_loss   cls_loss   dfl_loss  Instances       Size\n"
     ]
    },
    {
     "name": "stderr",
     "output_type": "stream",
     "text": [
      "     35/100      1.53G      0.592     0.5865     0.7829     0.9027         26        416: 100%|██████████| 2/2 [00:00<00:00,  2.40it/s]\n",
      "                 Class     Images  Instances      Box(P          R      mAP50  mAP50-95)     Mask(P          R      mAP50  mAP50-95): 100%|██████████| 1/1 [00:00<00:00,  7.43it/s]"
     ]
    },
    {
     "name": "stdout",
     "output_type": "stream",
     "text": [
      "                   all          8          8      0.989          1      0.995      0.768      0.989          1      0.995      0.829\n"
     ]
    },
    {
     "name": "stderr",
     "output_type": "stream",
     "text": [
      "\n"
     ]
    },
    {
     "name": "stdout",
     "output_type": "stream",
     "text": [
      "\n",
      "      Epoch    GPU_mem   box_loss   seg_loss   cls_loss   dfl_loss  Instances       Size\n"
     ]
    },
    {
     "name": "stderr",
     "output_type": "stream",
     "text": [
      "     36/100      1.53G     0.6154     0.6272     0.8248     0.8897         27        416: 100%|██████████| 2/2 [00:00<00:00,  2.37it/s]\n",
      "                 Class     Images  Instances      Box(P          R      mAP50  mAP50-95)     Mask(P          R      mAP50  mAP50-95): 100%|██████████| 1/1 [00:00<00:00,  7.29it/s]"
     ]
    },
    {
     "name": "stdout",
     "output_type": "stream",
     "text": [
      "                   all          8          8       0.98          1      0.995      0.813       0.98          1      0.995      0.848\n"
     ]
    },
    {
     "name": "stderr",
     "output_type": "stream",
     "text": [
      "\n"
     ]
    },
    {
     "name": "stdout",
     "output_type": "stream",
     "text": [
      "\n",
      "      Epoch    GPU_mem   box_loss   seg_loss   cls_loss   dfl_loss  Instances       Size\n"
     ]
    },
    {
     "name": "stderr",
     "output_type": "stream",
     "text": [
      "     37/100      1.53G      0.578     0.5692     0.8069     0.8876         18        416: 100%|██████████| 2/2 [00:00<00:00,  2.54it/s]\n",
      "                 Class     Images  Instances      Box(P          R      mAP50  mAP50-95)     Mask(P          R      mAP50  mAP50-95): 100%|██████████| 1/1 [00:00<00:00,  7.46it/s]"
     ]
    },
    {
     "name": "stdout",
     "output_type": "stream",
     "text": [
      "                   all          8          8       0.98          1      0.995      0.813       0.98          1      0.995      0.848\n"
     ]
    },
    {
     "name": "stderr",
     "output_type": "stream",
     "text": [
      "\n"
     ]
    },
    {
     "name": "stdout",
     "output_type": "stream",
     "text": [
      "\n",
      "      Epoch    GPU_mem   box_loss   seg_loss   cls_loss   dfl_loss  Instances       Size\n"
     ]
    },
    {
     "name": "stderr",
     "output_type": "stream",
     "text": [
      "     38/100      1.53G     0.6061     0.5796     0.8269     0.9139         27        416: 100%|██████████| 2/2 [00:00<00:00,  2.45it/s]\n",
      "                 Class     Images  Instances      Box(P          R      mAP50  mAP50-95)     Mask(P          R      mAP50  mAP50-95): 100%|██████████| 1/1 [00:00<00:00,  7.41it/s]"
     ]
    },
    {
     "name": "stdout",
     "output_type": "stream",
     "text": [
      "                   all          8          8          1      0.963      0.995      0.779          1      0.963      0.995      0.869\n"
     ]
    },
    {
     "name": "stderr",
     "output_type": "stream",
     "text": [
      "\n"
     ]
    },
    {
     "name": "stdout",
     "output_type": "stream",
     "text": [
      "\n",
      "      Epoch    GPU_mem   box_loss   seg_loss   cls_loss   dfl_loss  Instances       Size\n"
     ]
    },
    {
     "name": "stderr",
     "output_type": "stream",
     "text": [
      "     39/100      1.53G     0.6408     0.5723     0.8025     0.9139         28        416: 100%|██████████| 2/2 [00:00<00:00,  2.42it/s]\n",
      "                 Class     Images  Instances      Box(P          R      mAP50  mAP50-95)     Mask(P          R      mAP50  mAP50-95): 100%|██████████| 1/1 [00:00<00:00,  6.93it/s]"
     ]
    },
    {
     "name": "stdout",
     "output_type": "stream",
     "text": [
      "                   all          8          8      0.962          1      0.995      0.686      0.962          1      0.995      0.789\n"
     ]
    },
    {
     "name": "stderr",
     "output_type": "stream",
     "text": [
      "\n"
     ]
    },
    {
     "name": "stdout",
     "output_type": "stream",
     "text": [
      "\n",
      "      Epoch    GPU_mem   box_loss   seg_loss   cls_loss   dfl_loss  Instances       Size\n"
     ]
    },
    {
     "name": "stderr",
     "output_type": "stream",
     "text": [
      "     40/100      1.53G     0.6811      0.536     0.7987     0.9415         26        416: 100%|██████████| 2/2 [00:00<00:00,  2.49it/s]\n",
      "                 Class     Images  Instances      Box(P          R      mAP50  mAP50-95)     Mask(P          R      mAP50  mAP50-95): 100%|██████████| 1/1 [00:00<00:00,  7.25it/s]"
     ]
    },
    {
     "name": "stdout",
     "output_type": "stream",
     "text": [
      "                   all          8          8      0.962          1      0.995      0.686      0.962          1      0.995      0.789\n"
     ]
    },
    {
     "name": "stderr",
     "output_type": "stream",
     "text": [
      "\n"
     ]
    },
    {
     "name": "stdout",
     "output_type": "stream",
     "text": [
      "\n",
      "      Epoch    GPU_mem   box_loss   seg_loss   cls_loss   dfl_loss  Instances       Size\n"
     ]
    },
    {
     "name": "stderr",
     "output_type": "stream",
     "text": [
      "     41/100      1.53G     0.6117     0.4892     0.7613     0.9318         25        416: 100%|██████████| 2/2 [00:00<00:00,  2.45it/s]\n",
      "                 Class     Images  Instances      Box(P          R      mAP50  mAP50-95)     Mask(P          R      mAP50  mAP50-95): 100%|██████████| 1/1 [00:00<00:00,  7.42it/s]"
     ]
    },
    {
     "name": "stdout",
     "output_type": "stream",
     "text": [
      "                   all          8          8      0.947          1      0.995      0.781      0.947          1      0.995      0.817\n"
     ]
    },
    {
     "name": "stderr",
     "output_type": "stream",
     "text": [
      "\n"
     ]
    },
    {
     "name": "stdout",
     "output_type": "stream",
     "text": [
      "\n",
      "      Epoch    GPU_mem   box_loss   seg_loss   cls_loss   dfl_loss  Instances       Size\n"
     ]
    },
    {
     "name": "stderr",
     "output_type": "stream",
     "text": [
      "     42/100      1.53G     0.5481     0.4876     0.7705     0.8784         24        416: 100%|██████████| 2/2 [00:00<00:00,  2.44it/s]\n",
      "                 Class     Images  Instances      Box(P          R      mAP50  mAP50-95)     Mask(P          R      mAP50  mAP50-95): 100%|██████████| 1/1 [00:00<00:00,  7.37it/s]"
     ]
    },
    {
     "name": "stdout",
     "output_type": "stream",
     "text": [
      "                   all          8          8          1      0.941      0.995      0.841          1      0.941      0.995      0.898\n"
     ]
    },
    {
     "name": "stderr",
     "output_type": "stream",
     "text": [
      "\n"
     ]
    },
    {
     "name": "stdout",
     "output_type": "stream",
     "text": [
      "\n",
      "      Epoch    GPU_mem   box_loss   seg_loss   cls_loss   dfl_loss  Instances       Size\n"
     ]
    },
    {
     "name": "stderr",
     "output_type": "stream",
     "text": [
      "     43/100      1.53G      0.664     0.7096     0.7739     0.9252         30        416: 100%|██████████| 2/2 [00:00<00:00,  2.52it/s]\n",
      "                 Class     Images  Instances      Box(P          R      mAP50  mAP50-95)     Mask(P          R      mAP50  mAP50-95): 100%|██████████| 1/1 [00:00<00:00,  7.48it/s]"
     ]
    },
    {
     "name": "stdout",
     "output_type": "stream",
     "text": [
      "                   all          8          8          1      0.941      0.995      0.841          1      0.941      0.995      0.898\n"
     ]
    },
    {
     "name": "stderr",
     "output_type": "stream",
     "text": [
      "\n"
     ]
    },
    {
     "name": "stdout",
     "output_type": "stream",
     "text": [
      "\n",
      "      Epoch    GPU_mem   box_loss   seg_loss   cls_loss   dfl_loss  Instances       Size\n"
     ]
    },
    {
     "name": "stderr",
     "output_type": "stream",
     "text": [
      "     44/100      1.53G     0.5699     0.4913     0.8056      0.913         20        416: 100%|██████████| 2/2 [00:00<00:00,  2.46it/s]\n",
      "                 Class     Images  Instances      Box(P          R      mAP50  mAP50-95)     Mask(P          R      mAP50  mAP50-95): 100%|██████████| 1/1 [00:00<00:00,  7.35it/s]"
     ]
    },
    {
     "name": "stdout",
     "output_type": "stream",
     "text": [
      "                   all          8          8      0.995          1      0.995      0.838      0.995          1      0.995      0.819\n"
     ]
    },
    {
     "name": "stderr",
     "output_type": "stream",
     "text": [
      "\n"
     ]
    },
    {
     "name": "stdout",
     "output_type": "stream",
     "text": [
      "\n",
      "      Epoch    GPU_mem   box_loss   seg_loss   cls_loss   dfl_loss  Instances       Size\n"
     ]
    },
    {
     "name": "stderr",
     "output_type": "stream",
     "text": [
      "     45/100      1.53G     0.6193     0.6773     0.9751     0.9927         17        416: 100%|██████████| 2/2 [00:00<00:00,  2.56it/s]\n",
      "                 Class     Images  Instances      Box(P          R      mAP50  mAP50-95)     Mask(P          R      mAP50  mAP50-95): 100%|██████████| 1/1 [00:00<00:00,  7.40it/s]"
     ]
    },
    {
     "name": "stdout",
     "output_type": "stream",
     "text": [
      "                   all          8          8      0.995          1      0.995      0.838      0.995          1      0.995      0.819\n"
     ]
    },
    {
     "name": "stderr",
     "output_type": "stream",
     "text": [
      "\n"
     ]
    },
    {
     "name": "stdout",
     "output_type": "stream",
     "text": [
      "\n",
      "      Epoch    GPU_mem   box_loss   seg_loss   cls_loss   dfl_loss  Instances       Size\n"
     ]
    },
    {
     "name": "stderr",
     "output_type": "stream",
     "text": [
      "     46/100      1.53G     0.6109      0.442     0.6861     0.8758         24        416: 100%|██████████| 2/2 [00:00<00:00,  2.41it/s]\n",
      "                 Class     Images  Instances      Box(P          R      mAP50  mAP50-95)     Mask(P          R      mAP50  mAP50-95): 100%|██████████| 1/1 [00:00<00:00,  7.41it/s]"
     ]
    },
    {
     "name": "stdout",
     "output_type": "stream",
     "text": [
      "                   all          8          8       0.97          1      0.995      0.815       0.97          1      0.995      0.709\n"
     ]
    },
    {
     "name": "stderr",
     "output_type": "stream",
     "text": [
      "\n"
     ]
    },
    {
     "name": "stdout",
     "output_type": "stream",
     "text": [
      "\n",
      "      Epoch    GPU_mem   box_loss   seg_loss   cls_loss   dfl_loss  Instances       Size\n"
     ]
    },
    {
     "name": "stderr",
     "output_type": "stream",
     "text": [
      "     47/100      1.53G      0.574     0.5824     0.7675     0.9282         27        416: 100%|██████████| 2/2 [00:00<00:00,  2.55it/s]\n",
      "                 Class     Images  Instances      Box(P          R      mAP50  mAP50-95)     Mask(P          R      mAP50  mAP50-95): 100%|██████████| 1/1 [00:00<00:00,  7.24it/s]"
     ]
    },
    {
     "name": "stdout",
     "output_type": "stream",
     "text": [
      "                   all          8          8       0.97          1      0.995      0.815       0.97          1      0.995      0.709\n"
     ]
    },
    {
     "name": "stderr",
     "output_type": "stream",
     "text": [
      "\n"
     ]
    },
    {
     "name": "stdout",
     "output_type": "stream",
     "text": [
      "\n",
      "      Epoch    GPU_mem   box_loss   seg_loss   cls_loss   dfl_loss  Instances       Size\n"
     ]
    },
    {
     "name": "stderr",
     "output_type": "stream",
     "text": [
      "     48/100      1.53G     0.5323     0.4321     0.7302     0.8906         31        416: 100%|██████████| 2/2 [00:00<00:00,  2.46it/s]\n",
      "                 Class     Images  Instances      Box(P          R      mAP50  mAP50-95)     Mask(P          R      mAP50  mAP50-95): 100%|██████████| 1/1 [00:00<00:00,  6.94it/s]"
     ]
    },
    {
     "name": "stdout",
     "output_type": "stream",
     "text": [
      "                   all          8          8      0.977          1      0.995      0.811      0.977          1      0.995      0.649\n"
     ]
    },
    {
     "name": "stderr",
     "output_type": "stream",
     "text": [
      "\n"
     ]
    },
    {
     "name": "stdout",
     "output_type": "stream",
     "text": [
      "\n",
      "      Epoch    GPU_mem   box_loss   seg_loss   cls_loss   dfl_loss  Instances       Size\n"
     ]
    },
    {
     "name": "stderr",
     "output_type": "stream",
     "text": [
      "     49/100      1.53G     0.5683      0.563     0.7707     0.8957         26        416: 100%|██████████| 2/2 [00:00<00:00,  2.56it/s]\n",
      "                 Class     Images  Instances      Box(P          R      mAP50  mAP50-95)     Mask(P          R      mAP50  mAP50-95): 100%|██████████| 1/1 [00:00<00:00,  7.52it/s]"
     ]
    },
    {
     "name": "stdout",
     "output_type": "stream",
     "text": [
      "                   all          8          8      0.977          1      0.995      0.811      0.977          1      0.995      0.649\n"
     ]
    },
    {
     "name": "stderr",
     "output_type": "stream",
     "text": [
      "\n"
     ]
    },
    {
     "name": "stdout",
     "output_type": "stream",
     "text": [
      "\n",
      "      Epoch    GPU_mem   box_loss   seg_loss   cls_loss   dfl_loss  Instances       Size\n"
     ]
    },
    {
     "name": "stderr",
     "output_type": "stream",
     "text": [
      "     50/100      1.53G     0.5385     0.4698     0.7327     0.8937         20        416: 100%|██████████| 2/2 [00:00<00:00,  2.47it/s]\n",
      "                 Class     Images  Instances      Box(P          R      mAP50  mAP50-95)     Mask(P          R      mAP50  mAP50-95): 100%|██████████| 1/1 [00:00<00:00,  7.43it/s]"
     ]
    },
    {
     "name": "stdout",
     "output_type": "stream",
     "text": [
      "                   all          8          8      0.978          1      0.995       0.81      0.978          1      0.995      0.674\n"
     ]
    },
    {
     "name": "stderr",
     "output_type": "stream",
     "text": [
      "\n"
     ]
    },
    {
     "name": "stdout",
     "output_type": "stream",
     "text": [
      "\n",
      "      Epoch    GPU_mem   box_loss   seg_loss   cls_loss   dfl_loss  Instances       Size\n"
     ]
    },
    {
     "name": "stderr",
     "output_type": "stream",
     "text": [
      "     51/100      1.53G     0.4913     0.4839     0.7333     0.8583         18        416: 100%|██████████| 2/2 [00:00<00:00,  2.57it/s]\n",
      "                 Class     Images  Instances      Box(P          R      mAP50  mAP50-95)     Mask(P          R      mAP50  mAP50-95): 100%|██████████| 1/1 [00:00<00:00,  7.57it/s]"
     ]
    },
    {
     "name": "stdout",
     "output_type": "stream",
     "text": [
      "                   all          8          8      0.978          1      0.995       0.81      0.978          1      0.995      0.674\n"
     ]
    },
    {
     "name": "stderr",
     "output_type": "stream",
     "text": [
      "\n"
     ]
    },
    {
     "name": "stdout",
     "output_type": "stream",
     "text": [
      "\n",
      "      Epoch    GPU_mem   box_loss   seg_loss   cls_loss   dfl_loss  Instances       Size\n"
     ]
    },
    {
     "name": "stderr",
     "output_type": "stream",
     "text": [
      "     52/100      1.53G      0.575     0.5266     0.7501      0.932         19        416: 100%|██████████| 2/2 [00:00<00:00,  2.46it/s]\n",
      "                 Class     Images  Instances      Box(P          R      mAP50  mAP50-95)     Mask(P          R      mAP50  mAP50-95): 100%|██████████| 1/1 [00:00<00:00,  7.42it/s]"
     ]
    },
    {
     "name": "stdout",
     "output_type": "stream",
     "text": [
      "                   all          8          8      0.992          1      0.995      0.808      0.992          1      0.995      0.615\n"
     ]
    },
    {
     "name": "stderr",
     "output_type": "stream",
     "text": [
      "\n"
     ]
    },
    {
     "name": "stdout",
     "output_type": "stream",
     "text": [
      "\n",
      "      Epoch    GPU_mem   box_loss   seg_loss   cls_loss   dfl_loss  Instances       Size\n"
     ]
    },
    {
     "name": "stderr",
     "output_type": "stream",
     "text": [
      "     53/100      1.53G     0.4872     0.4528     0.6842     0.8885         24        416: 100%|██████████| 2/2 [00:00<00:00,  2.54it/s]\n",
      "                 Class     Images  Instances      Box(P          R      mAP50  mAP50-95)     Mask(P          R      mAP50  mAP50-95): 100%|██████████| 1/1 [00:00<00:00,  6.91it/s]"
     ]
    },
    {
     "name": "stdout",
     "output_type": "stream",
     "text": [
      "                   all          8          8      0.992          1      0.995      0.808      0.992          1      0.995      0.615\n"
     ]
    },
    {
     "name": "stderr",
     "output_type": "stream",
     "text": [
      "\n"
     ]
    },
    {
     "name": "stdout",
     "output_type": "stream",
     "text": [
      "\n",
      "      Epoch    GPU_mem   box_loss   seg_loss   cls_loss   dfl_loss  Instances       Size\n"
     ]
    },
    {
     "name": "stderr",
     "output_type": "stream",
     "text": [
      "     54/100      1.55G     0.5402     0.4958     0.6998     0.9016         31        416: 100%|██████████| 2/2 [00:00<00:00,  2.42it/s]\n",
      "                 Class     Images  Instances      Box(P          R      mAP50  mAP50-95)     Mask(P          R      mAP50  mAP50-95): 100%|██████████| 1/1 [00:00<00:00,  7.49it/s]"
     ]
    },
    {
     "name": "stdout",
     "output_type": "stream",
     "text": [
      "                   all          8          8      0.995          1      0.995      0.808      0.995          1      0.995      0.665\n"
     ]
    },
    {
     "name": "stderr",
     "output_type": "stream",
     "text": [
      "\n"
     ]
    },
    {
     "name": "stdout",
     "output_type": "stream",
     "text": [
      "\n",
      "      Epoch    GPU_mem   box_loss   seg_loss   cls_loss   dfl_loss  Instances       Size\n"
     ]
    },
    {
     "name": "stderr",
     "output_type": "stream",
     "text": [
      "     55/100      1.55G     0.5622     0.6928     0.7941     0.8959         17        416: 100%|██████████| 2/2 [00:00<00:00,  2.58it/s]\n",
      "                 Class     Images  Instances      Box(P          R      mAP50  mAP50-95)     Mask(P          R      mAP50  mAP50-95): 100%|██████████| 1/1 [00:00<00:00,  7.14it/s]"
     ]
    },
    {
     "name": "stdout",
     "output_type": "stream",
     "text": [
      "                   all          8          8      0.995          1      0.995      0.808      0.995          1      0.995      0.665\n"
     ]
    },
    {
     "name": "stderr",
     "output_type": "stream",
     "text": [
      "\n"
     ]
    },
    {
     "name": "stdout",
     "output_type": "stream",
     "text": [
      "\n",
      "      Epoch    GPU_mem   box_loss   seg_loss   cls_loss   dfl_loss  Instances       Size\n"
     ]
    },
    {
     "name": "stderr",
     "output_type": "stream",
     "text": [
      "     56/100      1.58G     0.5675     0.5615     0.7184     0.9336         27        416: 100%|██████████| 2/2 [00:00<00:00,  2.45it/s]\n",
      "                 Class     Images  Instances      Box(P          R      mAP50  mAP50-95)     Mask(P          R      mAP50  mAP50-95): 100%|██████████| 1/1 [00:00<00:00,  7.49it/s]"
     ]
    },
    {
     "name": "stdout",
     "output_type": "stream",
     "text": [
      "                   all          8          8      0.995          1      0.995       0.82      0.995          1      0.995      0.793\n"
     ]
    },
    {
     "name": "stderr",
     "output_type": "stream",
     "text": [
      "\n"
     ]
    },
    {
     "name": "stdout",
     "output_type": "stream",
     "text": [
      "\n",
      "      Epoch    GPU_mem   box_loss   seg_loss   cls_loss   dfl_loss  Instances       Size\n"
     ]
    },
    {
     "name": "stderr",
     "output_type": "stream",
     "text": [
      "     57/100      1.58G     0.4598     0.4315     0.6278     0.8963         25        416: 100%|██████████| 2/2 [00:00<00:00,  2.53it/s]\n",
      "                 Class     Images  Instances      Box(P          R      mAP50  mAP50-95)     Mask(P          R      mAP50  mAP50-95): 100%|██████████| 1/1 [00:00<00:00,  7.04it/s]"
     ]
    },
    {
     "name": "stdout",
     "output_type": "stream",
     "text": [
      "                   all          8          8      0.995          1      0.995       0.82      0.995          1      0.995      0.793\n"
     ]
    },
    {
     "name": "stderr",
     "output_type": "stream",
     "text": [
      "\n"
     ]
    },
    {
     "name": "stdout",
     "output_type": "stream",
     "text": [
      "\n",
      "      Epoch    GPU_mem   box_loss   seg_loss   cls_loss   dfl_loss  Instances       Size\n"
     ]
    },
    {
     "name": "stderr",
     "output_type": "stream",
     "text": [
      "     58/100      1.58G     0.5059     0.5493     0.6825     0.9044         23        416: 100%|██████████| 2/2 [00:00<00:00,  2.40it/s]\n",
      "                 Class     Images  Instances      Box(P          R      mAP50  mAP50-95)     Mask(P          R      mAP50  mAP50-95): 100%|██████████| 1/1 [00:00<00:00,  7.39it/s]"
     ]
    },
    {
     "name": "stdout",
     "output_type": "stream",
     "text": [
      "                   all          8          8      0.991          1      0.995      0.828      0.991          1      0.995      0.864\n"
     ]
    },
    {
     "name": "stderr",
     "output_type": "stream",
     "text": [
      "\n"
     ]
    },
    {
     "name": "stdout",
     "output_type": "stream",
     "text": [
      "\n",
      "      Epoch    GPU_mem   box_loss   seg_loss   cls_loss   dfl_loss  Instances       Size\n"
     ]
    },
    {
     "name": "stderr",
     "output_type": "stream",
     "text": [
      "     59/100      1.58G     0.5709     0.6373     0.7416      0.938         25        416: 100%|██████████| 2/2 [00:00<00:00,  2.53it/s]\n",
      "                 Class     Images  Instances      Box(P          R      mAP50  mAP50-95)     Mask(P          R      mAP50  mAP50-95): 100%|██████████| 1/1 [00:00<00:00,  6.53it/s]"
     ]
    },
    {
     "name": "stdout",
     "output_type": "stream",
     "text": [
      "                   all          8          8      0.991          1      0.995      0.828      0.991          1      0.995      0.864\n"
     ]
    },
    {
     "name": "stderr",
     "output_type": "stream",
     "text": [
      "\n"
     ]
    },
    {
     "name": "stdout",
     "output_type": "stream",
     "text": [
      "\n",
      "      Epoch    GPU_mem   box_loss   seg_loss   cls_loss   dfl_loss  Instances       Size\n"
     ]
    },
    {
     "name": "stderr",
     "output_type": "stream",
     "text": [
      "     60/100      1.58G     0.6051     0.5148     0.6872     0.8924         26        416: 100%|██████████| 2/2 [00:00<00:00,  2.44it/s]\n",
      "                 Class     Images  Instances      Box(P          R      mAP50  mAP50-95)     Mask(P          R      mAP50  mAP50-95): 100%|██████████| 1/1 [00:00<00:00,  7.33it/s]"
     ]
    },
    {
     "name": "stdout",
     "output_type": "stream",
     "text": [
      "                   all          8          8      0.991          1      0.995      0.816      0.991          1      0.995      0.881\n"
     ]
    },
    {
     "name": "stderr",
     "output_type": "stream",
     "text": [
      "\n"
     ]
    },
    {
     "name": "stdout",
     "output_type": "stream",
     "text": [
      "\n",
      "      Epoch    GPU_mem   box_loss   seg_loss   cls_loss   dfl_loss  Instances       Size\n"
     ]
    },
    {
     "name": "stderr",
     "output_type": "stream",
     "text": [
      "     61/100      1.58G      0.558     0.6364     0.7151     0.9187         24        416: 100%|██████████| 2/2 [00:00<00:00,  2.55it/s]\n",
      "                 Class     Images  Instances      Box(P          R      mAP50  mAP50-95)     Mask(P          R      mAP50  mAP50-95): 100%|██████████| 1/1 [00:00<00:00,  7.48it/s]"
     ]
    },
    {
     "name": "stdout",
     "output_type": "stream",
     "text": [
      "                   all          8          8      0.991          1      0.995      0.816      0.991          1      0.995      0.881\n"
     ]
    },
    {
     "name": "stderr",
     "output_type": "stream",
     "text": [
      "\n"
     ]
    },
    {
     "name": "stdout",
     "output_type": "stream",
     "text": [
      "\n",
      "      Epoch    GPU_mem   box_loss   seg_loss   cls_loss   dfl_loss  Instances       Size\n"
     ]
    },
    {
     "name": "stderr",
     "output_type": "stream",
     "text": [
      "     62/100      1.58G     0.3997     0.4389     0.6133     0.8501         26        416: 100%|██████████| 2/2 [00:00<00:00,  2.45it/s]\n",
      "                 Class     Images  Instances      Box(P          R      mAP50  mAP50-95)     Mask(P          R      mAP50  mAP50-95): 100%|██████████| 1/1 [00:00<00:00,  7.43it/s]"
     ]
    },
    {
     "name": "stdout",
     "output_type": "stream",
     "text": [
      "                   all          8          8      0.992          1      0.995      0.812      0.992          1      0.995      0.895\n"
     ]
    },
    {
     "name": "stderr",
     "output_type": "stream",
     "text": [
      "\n"
     ]
    },
    {
     "name": "stdout",
     "output_type": "stream",
     "text": [
      "\n",
      "      Epoch    GPU_mem   box_loss   seg_loss   cls_loss   dfl_loss  Instances       Size\n"
     ]
    },
    {
     "name": "stderr",
     "output_type": "stream",
     "text": [
      "     63/100      1.58G     0.5803     0.5841     0.6969     0.9323         27        416: 100%|██████████| 2/2 [00:00<00:00,  2.53it/s]\n",
      "                 Class     Images  Instances      Box(P          R      mAP50  mAP50-95)     Mask(P          R      mAP50  mAP50-95): 100%|██████████| 1/1 [00:00<00:00,  7.32it/s]"
     ]
    },
    {
     "name": "stdout",
     "output_type": "stream",
     "text": [
      "                   all          8          8      0.992          1      0.995      0.812      0.992          1      0.995      0.895\n"
     ]
    },
    {
     "name": "stderr",
     "output_type": "stream",
     "text": [
      "\n"
     ]
    },
    {
     "name": "stdout",
     "output_type": "stream",
     "text": [
      "\n",
      "      Epoch    GPU_mem   box_loss   seg_loss   cls_loss   dfl_loss  Instances       Size\n"
     ]
    },
    {
     "name": "stderr",
     "output_type": "stream",
     "text": [
      "     64/100      1.58G     0.4969     0.4884     0.6039     0.8679         31        416: 100%|██████████| 2/2 [00:00<00:00,  2.47it/s]\n",
      "                 Class     Images  Instances      Box(P          R      mAP50  mAP50-95)     Mask(P          R      mAP50  mAP50-95): 100%|██████████| 1/1 [00:00<00:00,  7.49it/s]"
     ]
    },
    {
     "name": "stdout",
     "output_type": "stream",
     "text": [
      "                   all          8          8      0.992          1      0.995      0.817      0.992          1      0.995      0.897\n"
     ]
    },
    {
     "name": "stderr",
     "output_type": "stream",
     "text": [
      "\n"
     ]
    },
    {
     "name": "stdout",
     "output_type": "stream",
     "text": [
      "\n",
      "      Epoch    GPU_mem   box_loss   seg_loss   cls_loss   dfl_loss  Instances       Size\n"
     ]
    },
    {
     "name": "stderr",
     "output_type": "stream",
     "text": [
      "     65/100      1.58G     0.4827     0.4648     0.6199     0.9031         30        416: 100%|██████████| 2/2 [00:00<00:00,  2.55it/s]\n",
      "                 Class     Images  Instances      Box(P          R      mAP50  mAP50-95)     Mask(P          R      mAP50  mAP50-95): 100%|██████████| 1/1 [00:00<00:00,  7.49it/s]"
     ]
    },
    {
     "name": "stdout",
     "output_type": "stream",
     "text": [
      "                   all          8          8      0.992          1      0.995      0.817      0.992          1      0.995      0.897\n"
     ]
    },
    {
     "name": "stderr",
     "output_type": "stream",
     "text": [
      "\n"
     ]
    },
    {
     "name": "stdout",
     "output_type": "stream",
     "text": [
      "\n",
      "      Epoch    GPU_mem   box_loss   seg_loss   cls_loss   dfl_loss  Instances       Size\n"
     ]
    },
    {
     "name": "stderr",
     "output_type": "stream",
     "text": [
      "     66/100      1.58G     0.5765     0.6494      0.715     0.9563         27        416: 100%|██████████| 2/2 [00:00<00:00,  2.45it/s]\n",
      "                 Class     Images  Instances      Box(P          R      mAP50  mAP50-95)     Mask(P          R      mAP50  mAP50-95): 100%|██████████| 1/1 [00:00<00:00,  7.40it/s]"
     ]
    },
    {
     "name": "stdout",
     "output_type": "stream",
     "text": [
      "                   all          8          8      0.993          1      0.995      0.847      0.993          1      0.995      0.927\n"
     ]
    },
    {
     "name": "stderr",
     "output_type": "stream",
     "text": [
      "\n"
     ]
    },
    {
     "name": "stdout",
     "output_type": "stream",
     "text": [
      "\n",
      "      Epoch    GPU_mem   box_loss   seg_loss   cls_loss   dfl_loss  Instances       Size\n"
     ]
    },
    {
     "name": "stderr",
     "output_type": "stream",
     "text": [
      "     67/100      1.58G     0.4859     0.5174     0.5772     0.8509         30        416: 100%|██████████| 2/2 [00:00<00:00,  2.53it/s]\n",
      "                 Class     Images  Instances      Box(P          R      mAP50  mAP50-95)     Mask(P          R      mAP50  mAP50-95): 100%|██████████| 1/1 [00:00<00:00,  7.35it/s]"
     ]
    },
    {
     "name": "stdout",
     "output_type": "stream",
     "text": [
      "                   all          8          8      0.993          1      0.995      0.847      0.993          1      0.995      0.927\n"
     ]
    },
    {
     "name": "stderr",
     "output_type": "stream",
     "text": [
      "\n"
     ]
    },
    {
     "name": "stdout",
     "output_type": "stream",
     "text": [
      "\n",
      "      Epoch    GPU_mem   box_loss   seg_loss   cls_loss   dfl_loss  Instances       Size\n"
     ]
    },
    {
     "name": "stderr",
     "output_type": "stream",
     "text": [
      "     68/100      1.58G      0.436     0.3883     0.5665     0.8908         23        416: 100%|██████████| 2/2 [00:00<00:00,  2.46it/s]\n",
      "                 Class     Images  Instances      Box(P          R      mAP50  mAP50-95)     Mask(P          R      mAP50  mAP50-95): 100%|██████████| 1/1 [00:00<00:00,  7.66it/s]"
     ]
    },
    {
     "name": "stdout",
     "output_type": "stream",
     "text": [
      "                   all          8          8      0.994          1      0.995      0.868      0.994          1      0.995      0.935\n"
     ]
    },
    {
     "name": "stderr",
     "output_type": "stream",
     "text": [
      "\n"
     ]
    },
    {
     "name": "stdout",
     "output_type": "stream",
     "text": [
      "\n",
      "      Epoch    GPU_mem   box_loss   seg_loss   cls_loss   dfl_loss  Instances       Size\n"
     ]
    },
    {
     "name": "stderr",
     "output_type": "stream",
     "text": [
      "     69/100      1.58G     0.4897     0.4772     0.6229     0.9148         24        416: 100%|██████████| 2/2 [00:00<00:00,  2.52it/s]\n",
      "                 Class     Images  Instances      Box(P          R      mAP50  mAP50-95)     Mask(P          R      mAP50  mAP50-95): 100%|██████████| 1/1 [00:00<00:00,  7.01it/s]"
     ]
    },
    {
     "name": "stdout",
     "output_type": "stream",
     "text": [
      "                   all          8          8      0.994          1      0.995      0.868      0.994          1      0.995      0.935\n"
     ]
    },
    {
     "name": "stderr",
     "output_type": "stream",
     "text": [
      "\n"
     ]
    },
    {
     "name": "stdout",
     "output_type": "stream",
     "text": [
      "\n",
      "      Epoch    GPU_mem   box_loss   seg_loss   cls_loss   dfl_loss  Instances       Size\n"
     ]
    },
    {
     "name": "stderr",
     "output_type": "stream",
     "text": [
      "     70/100      1.58G     0.4903     0.5603     0.6079     0.8702         28        416: 100%|██████████| 2/2 [00:00<00:00,  2.42it/s]\n",
      "                 Class     Images  Instances      Box(P          R      mAP50  mAP50-95)     Mask(P          R      mAP50  mAP50-95): 100%|██████████| 1/1 [00:00<00:00,  7.15it/s]"
     ]
    },
    {
     "name": "stdout",
     "output_type": "stream",
     "text": [
      "                   all          8          8      0.994          1      0.995       0.85      0.994          1      0.995      0.923\n"
     ]
    },
    {
     "name": "stderr",
     "output_type": "stream",
     "text": [
      "\n"
     ]
    },
    {
     "name": "stdout",
     "output_type": "stream",
     "text": [
      "\n",
      "      Epoch    GPU_mem   box_loss   seg_loss   cls_loss   dfl_loss  Instances       Size\n"
     ]
    },
    {
     "name": "stderr",
     "output_type": "stream",
     "text": [
      "     71/100      1.58G     0.5259     0.4725     0.6473     0.9087         30        416: 100%|██████████| 2/2 [00:00<00:00,  2.49it/s]\n",
      "                 Class     Images  Instances      Box(P          R      mAP50  mAP50-95)     Mask(P          R      mAP50  mAP50-95): 100%|██████████| 1/1 [00:00<00:00,  7.32it/s]"
     ]
    },
    {
     "name": "stdout",
     "output_type": "stream",
     "text": [
      "                   all          8          8      0.994          1      0.995       0.85      0.994          1      0.995      0.923\n"
     ]
    },
    {
     "name": "stderr",
     "output_type": "stream",
     "text": [
      "\n"
     ]
    },
    {
     "name": "stdout",
     "output_type": "stream",
     "text": [
      "\n",
      "      Epoch    GPU_mem   box_loss   seg_loss   cls_loss   dfl_loss  Instances       Size\n"
     ]
    },
    {
     "name": "stderr",
     "output_type": "stream",
     "text": [
      "     72/100      1.58G     0.4262     0.3778     0.5781      0.853         26        416: 100%|██████████| 2/2 [00:00<00:00,  2.43it/s]\n",
      "                 Class     Images  Instances      Box(P          R      mAP50  mAP50-95)     Mask(P          R      mAP50  mAP50-95): 100%|██████████| 1/1 [00:00<00:00,  6.77it/s]"
     ]
    },
    {
     "name": "stdout",
     "output_type": "stream",
     "text": [
      "                   all          8          8      0.994          1      0.995      0.863      0.994          1      0.995      0.927\n"
     ]
    },
    {
     "name": "stderr",
     "output_type": "stream",
     "text": [
      "\n"
     ]
    },
    {
     "name": "stdout",
     "output_type": "stream",
     "text": [
      "\n",
      "      Epoch    GPU_mem   box_loss   seg_loss   cls_loss   dfl_loss  Instances       Size\n"
     ]
    },
    {
     "name": "stderr",
     "output_type": "stream",
     "text": [
      "     73/100      1.58G      0.471     0.4606     0.6299     0.9292         37        416: 100%|██████████| 2/2 [00:00<00:00,  2.50it/s]\n",
      "                 Class     Images  Instances      Box(P          R      mAP50  mAP50-95)     Mask(P          R      mAP50  mAP50-95): 100%|██████████| 1/1 [00:00<00:00,  7.26it/s]"
     ]
    },
    {
     "name": "stdout",
     "output_type": "stream",
     "text": [
      "                   all          8          8      0.994          1      0.995      0.863      0.994          1      0.995      0.927\n"
     ]
    },
    {
     "name": "stderr",
     "output_type": "stream",
     "text": [
      "\n"
     ]
    },
    {
     "name": "stdout",
     "output_type": "stream",
     "text": [
      "\n",
      "      Epoch    GPU_mem   box_loss   seg_loss   cls_loss   dfl_loss  Instances       Size\n"
     ]
    },
    {
     "name": "stderr",
     "output_type": "stream",
     "text": [
      "     74/100      1.58G     0.4312     0.4589     0.5546     0.8473         31        416: 100%|██████████| 2/2 [00:00<00:00,  2.42it/s]\n",
      "                 Class     Images  Instances      Box(P          R      mAP50  mAP50-95)     Mask(P          R      mAP50  mAP50-95): 100%|██████████| 1/1 [00:00<00:00,  7.44it/s]"
     ]
    },
    {
     "name": "stdout",
     "output_type": "stream",
     "text": [
      "                   all          8          8      0.994          1      0.995      0.866      0.994          1      0.995      0.919\n"
     ]
    },
    {
     "name": "stderr",
     "output_type": "stream",
     "text": [
      "\n"
     ]
    },
    {
     "name": "stdout",
     "output_type": "stream",
     "text": [
      "\n",
      "      Epoch    GPU_mem   box_loss   seg_loss   cls_loss   dfl_loss  Instances       Size\n"
     ]
    },
    {
     "name": "stderr",
     "output_type": "stream",
     "text": [
      "     75/100      1.58G     0.4548     0.5453     0.6393      0.867         26        416: 100%|██████████| 2/2 [00:00<00:00,  2.55it/s]\n",
      "                 Class     Images  Instances      Box(P          R      mAP50  mAP50-95)     Mask(P          R      mAP50  mAP50-95): 100%|██████████| 1/1 [00:00<00:00,  7.08it/s]"
     ]
    },
    {
     "name": "stdout",
     "output_type": "stream",
     "text": [
      "                   all          8          8      0.994          1      0.995      0.866      0.994          1      0.995      0.919\n"
     ]
    },
    {
     "name": "stderr",
     "output_type": "stream",
     "text": [
      "\n"
     ]
    },
    {
     "name": "stdout",
     "output_type": "stream",
     "text": [
      "\n",
      "      Epoch    GPU_mem   box_loss   seg_loss   cls_loss   dfl_loss  Instances       Size\n"
     ]
    },
    {
     "name": "stderr",
     "output_type": "stream",
     "text": [
      "     76/100      1.58G     0.4033     0.3987     0.5788     0.8837         34        416: 100%|██████████| 2/2 [00:00<00:00,  2.40it/s]\n",
      "                 Class     Images  Instances      Box(P          R      mAP50  mAP50-95)     Mask(P          R      mAP50  mAP50-95): 100%|██████████| 1/1 [00:00<00:00,  7.39it/s]"
     ]
    },
    {
     "name": "stdout",
     "output_type": "stream",
     "text": [
      "                   all          8          8      0.994          1      0.995      0.874      0.994          1      0.995      0.919\n"
     ]
    },
    {
     "name": "stderr",
     "output_type": "stream",
     "text": [
      "\n"
     ]
    },
    {
     "name": "stdout",
     "output_type": "stream",
     "text": [
      "\n",
      "      Epoch    GPU_mem   box_loss   seg_loss   cls_loss   dfl_loss  Instances       Size\n"
     ]
    },
    {
     "name": "stderr",
     "output_type": "stream",
     "text": [
      "     77/100      1.58G     0.5566     0.5187     0.6616     0.8921         18        416: 100%|██████████| 2/2 [00:00<00:00,  2.56it/s]\n",
      "                 Class     Images  Instances      Box(P          R      mAP50  mAP50-95)     Mask(P          R      mAP50  mAP50-95): 100%|██████████| 1/1 [00:00<00:00,  6.62it/s]"
     ]
    },
    {
     "name": "stdout",
     "output_type": "stream",
     "text": [
      "                   all          8          8      0.994          1      0.995      0.874      0.994          1      0.995      0.919\n"
     ]
    },
    {
     "name": "stderr",
     "output_type": "stream",
     "text": [
      "\n"
     ]
    },
    {
     "name": "stdout",
     "output_type": "stream",
     "text": [
      "\n",
      "      Epoch    GPU_mem   box_loss   seg_loss   cls_loss   dfl_loss  Instances       Size\n"
     ]
    },
    {
     "name": "stderr",
     "output_type": "stream",
     "text": [
      "     78/100      1.58G     0.4644     0.4251      0.582     0.8679         26        416: 100%|██████████| 2/2 [00:00<00:00,  2.41it/s]\n",
      "                 Class     Images  Instances      Box(P          R      mAP50  mAP50-95)     Mask(P          R      mAP50  mAP50-95): 100%|██████████| 1/1 [00:00<00:00,  7.34it/s]"
     ]
    },
    {
     "name": "stdout",
     "output_type": "stream",
     "text": [
      "                   all          8          8      0.994          1      0.995      0.837      0.994          1      0.995      0.874\n"
     ]
    },
    {
     "name": "stderr",
     "output_type": "stream",
     "text": [
      "\n"
     ]
    },
    {
     "name": "stdout",
     "output_type": "stream",
     "text": [
      "\n",
      "      Epoch    GPU_mem   box_loss   seg_loss   cls_loss   dfl_loss  Instances       Size\n"
     ]
    },
    {
     "name": "stderr",
     "output_type": "stream",
     "text": [
      "     79/100      1.58G     0.4791     0.4457     0.5934     0.8794         38        416: 100%|██████████| 2/2 [00:00<00:00,  2.51it/s]\n",
      "                 Class     Images  Instances      Box(P          R      mAP50  mAP50-95)     Mask(P          R      mAP50  mAP50-95): 100%|██████████| 1/1 [00:00<00:00,  7.19it/s]"
     ]
    },
    {
     "name": "stdout",
     "output_type": "stream",
     "text": [
      "                   all          8          8      0.994          1      0.995      0.837      0.994          1      0.995      0.874\n"
     ]
    },
    {
     "name": "stderr",
     "output_type": "stream",
     "text": [
      "\n"
     ]
    },
    {
     "name": "stdout",
     "output_type": "stream",
     "text": [
      "\n",
      "      Epoch    GPU_mem   box_loss   seg_loss   cls_loss   dfl_loss  Instances       Size\n"
     ]
    },
    {
     "name": "stderr",
     "output_type": "stream",
     "text": [
      "     80/100      1.58G     0.5405     0.6845     0.7394     0.9407         29        416: 100%|██████████| 2/2 [00:00<00:00,  2.46it/s]\n",
      "                 Class     Images  Instances      Box(P          R      mAP50  mAP50-95)     Mask(P          R      mAP50  mAP50-95): 100%|██████████| 1/1 [00:00<00:00,  7.16it/s]"
     ]
    },
    {
     "name": "stdout",
     "output_type": "stream",
     "text": [
      "                   all          8          8      0.994          1      0.995      0.803      0.994          1      0.995       0.83\n"
     ]
    },
    {
     "name": "stderr",
     "output_type": "stream",
     "text": [
      "\n"
     ]
    },
    {
     "name": "stdout",
     "output_type": "stream",
     "text": [
      "\n",
      "      Epoch    GPU_mem   box_loss   seg_loss   cls_loss   dfl_loss  Instances       Size\n"
     ]
    },
    {
     "name": "stderr",
     "output_type": "stream",
     "text": [
      "     81/100      1.58G     0.4453     0.5063       0.58     0.8827         25        416: 100%|██████████| 2/2 [00:00<00:00,  2.55it/s]\n",
      "                 Class     Images  Instances      Box(P          R      mAP50  mAP50-95)     Mask(P          R      mAP50  mAP50-95): 100%|██████████| 1/1 [00:00<00:00,  7.42it/s]"
     ]
    },
    {
     "name": "stdout",
     "output_type": "stream",
     "text": [
      "                   all          8          8      0.994          1      0.995      0.803      0.994          1      0.995       0.83\n"
     ]
    },
    {
     "name": "stderr",
     "output_type": "stream",
     "text": [
      "\n"
     ]
    },
    {
     "name": "stdout",
     "output_type": "stream",
     "text": [
      "\n",
      "      Epoch    GPU_mem   box_loss   seg_loss   cls_loss   dfl_loss  Instances       Size\n"
     ]
    },
    {
     "name": "stderr",
     "output_type": "stream",
     "text": [
      "     82/100      1.58G     0.4601     0.5542     0.5928     0.8882         28        416: 100%|██████████| 2/2 [00:00<00:00,  2.43it/s]\n",
      "                 Class     Images  Instances      Box(P          R      mAP50  mAP50-95)     Mask(P          R      mAP50  mAP50-95): 100%|██████████| 1/1 [00:00<00:00,  7.37it/s]"
     ]
    },
    {
     "name": "stdout",
     "output_type": "stream",
     "text": [
      "                   all          8          8      0.994          1      0.995      0.806      0.994          1      0.995      0.822\n"
     ]
    },
    {
     "name": "stderr",
     "output_type": "stream",
     "text": [
      "\n"
     ]
    },
    {
     "name": "stdout",
     "output_type": "stream",
     "text": [
      "\n",
      "      Epoch    GPU_mem   box_loss   seg_loss   cls_loss   dfl_loss  Instances       Size\n"
     ]
    },
    {
     "name": "stderr",
     "output_type": "stream",
     "text": [
      "     83/100      1.58G     0.5127     0.5511      0.593     0.8787         25        416: 100%|██████████| 2/2 [00:00<00:00,  2.55it/s]\n",
      "                 Class     Images  Instances      Box(P          R      mAP50  mAP50-95)     Mask(P          R      mAP50  mAP50-95): 100%|██████████| 1/1 [00:00<00:00,  7.46it/s]"
     ]
    },
    {
     "name": "stdout",
     "output_type": "stream",
     "text": [
      "                   all          8          8      0.994          1      0.995      0.806      0.994          1      0.995      0.822\n"
     ]
    },
    {
     "name": "stderr",
     "output_type": "stream",
     "text": [
      "\n"
     ]
    },
    {
     "name": "stdout",
     "output_type": "stream",
     "text": [
      "\n",
      "      Epoch    GPU_mem   box_loss   seg_loss   cls_loss   dfl_loss  Instances       Size\n"
     ]
    },
    {
     "name": "stderr",
     "output_type": "stream",
     "text": [
      "     84/100      1.58G     0.4484       0.53     0.6169     0.9008         24        416: 100%|██████████| 2/2 [00:00<00:00,  2.45it/s]\n",
      "                 Class     Images  Instances      Box(P          R      mAP50  mAP50-95)     Mask(P          R      mAP50  mAP50-95): 100%|██████████| 1/1 [00:00<00:00,  7.29it/s]"
     ]
    },
    {
     "name": "stdout",
     "output_type": "stream",
     "text": [
      "                   all          8          8      0.994          1      0.995       0.82      0.994          1      0.995      0.868\n"
     ]
    },
    {
     "name": "stderr",
     "output_type": "stream",
     "text": [
      "\n"
     ]
    },
    {
     "name": "stdout",
     "output_type": "stream",
     "text": [
      "\n",
      "      Epoch    GPU_mem   box_loss   seg_loss   cls_loss   dfl_loss  Instances       Size\n"
     ]
    },
    {
     "name": "stderr",
     "output_type": "stream",
     "text": [
      "     85/100      1.58G     0.4191     0.3753     0.5701     0.8751         31        416: 100%|██████████| 2/2 [00:00<00:00,  2.53it/s]\n",
      "                 Class     Images  Instances      Box(P          R      mAP50  mAP50-95)     Mask(P          R      mAP50  mAP50-95): 100%|██████████| 1/1 [00:00<00:00,  7.08it/s]"
     ]
    },
    {
     "name": "stdout",
     "output_type": "stream",
     "text": [
      "                   all          8          8      0.994          1      0.995       0.82      0.994          1      0.995      0.868\n"
     ]
    },
    {
     "name": "stderr",
     "output_type": "stream",
     "text": [
      "\n"
     ]
    },
    {
     "name": "stdout",
     "output_type": "stream",
     "text": [
      "\n",
      "      Epoch    GPU_mem   box_loss   seg_loss   cls_loss   dfl_loss  Instances       Size\n"
     ]
    },
    {
     "name": "stderr",
     "output_type": "stream",
     "text": [
      "     86/100      1.58G     0.4589     0.5122     0.6436     0.8483         19        416: 100%|██████████| 2/2 [00:00<00:00,  2.44it/s]\n",
      "                 Class     Images  Instances      Box(P          R      mAP50  mAP50-95)     Mask(P          R      mAP50  mAP50-95): 100%|██████████| 1/1 [00:00<00:00,  7.41it/s]"
     ]
    },
    {
     "name": "stdout",
     "output_type": "stream",
     "text": [
      "                   all          8          8      0.994          1      0.995      0.822      0.994          1      0.995      0.868\n"
     ]
    },
    {
     "name": "stderr",
     "output_type": "stream",
     "text": [
      "\n"
     ]
    },
    {
     "name": "stdout",
     "output_type": "stream",
     "text": [
      "\n",
      "      Epoch    GPU_mem   box_loss   seg_loss   cls_loss   dfl_loss  Instances       Size\n"
     ]
    },
    {
     "name": "stderr",
     "output_type": "stream",
     "text": [
      "     87/100      1.58G     0.5123     0.6072      0.608     0.9021         31        416: 100%|██████████| 2/2 [00:00<00:00,  2.48it/s]\n",
      "                 Class     Images  Instances      Box(P          R      mAP50  mAP50-95)     Mask(P          R      mAP50  mAP50-95): 100%|██████████| 1/1 [00:00<00:00,  7.29it/s]"
     ]
    },
    {
     "name": "stdout",
     "output_type": "stream",
     "text": [
      "                   all          8          8      0.994          1      0.995      0.822      0.994          1      0.995      0.868\n"
     ]
    },
    {
     "name": "stderr",
     "output_type": "stream",
     "text": [
      "\n"
     ]
    },
    {
     "name": "stdout",
     "output_type": "stream",
     "text": [
      "\n",
      "      Epoch    GPU_mem   box_loss   seg_loss   cls_loss   dfl_loss  Instances       Size\n"
     ]
    },
    {
     "name": "stderr",
     "output_type": "stream",
     "text": [
      "     88/100      1.58G     0.4409     0.4323     0.5555     0.8471         25        416: 100%|██████████| 2/2 [00:00<00:00,  2.45it/s]\n",
      "                 Class     Images  Instances      Box(P          R      mAP50  mAP50-95)     Mask(P          R      mAP50  mAP50-95): 100%|██████████| 1/1 [00:00<00:00,  6.99it/s]"
     ]
    },
    {
     "name": "stdout",
     "output_type": "stream",
     "text": [
      "                   all          8          8      0.994          1      0.995      0.879      0.994          1      0.995       0.88\n"
     ]
    },
    {
     "name": "stderr",
     "output_type": "stream",
     "text": [
      "\n"
     ]
    },
    {
     "name": "stdout",
     "output_type": "stream",
     "text": [
      "\n",
      "      Epoch    GPU_mem   box_loss   seg_loss   cls_loss   dfl_loss  Instances       Size\n"
     ]
    },
    {
     "name": "stderr",
     "output_type": "stream",
     "text": [
      "     89/100      1.58G      0.382     0.4345      0.561     0.8688         25        416: 100%|██████████| 2/2 [00:00<00:00,  2.55it/s]\n",
      "                 Class     Images  Instances      Box(P          R      mAP50  mAP50-95)     Mask(P          R      mAP50  mAP50-95): 100%|██████████| 1/1 [00:00<00:00,  6.72it/s]"
     ]
    },
    {
     "name": "stdout",
     "output_type": "stream",
     "text": [
      "                   all          8          8      0.994          1      0.995      0.879      0.994          1      0.995       0.88\n"
     ]
    },
    {
     "name": "stderr",
     "output_type": "stream",
     "text": [
      "\n"
     ]
    },
    {
     "name": "stdout",
     "output_type": "stream",
     "text": [
      "\n",
      "      Epoch    GPU_mem   box_loss   seg_loss   cls_loss   dfl_loss  Instances       Size\n"
     ]
    },
    {
     "name": "stderr",
     "output_type": "stream",
     "text": [
      "     90/100      1.58G     0.3712     0.4366     0.5355     0.8493         24        416: 100%|██████████| 2/2 [00:00<00:00,  2.43it/s]\n",
      "                 Class     Images  Instances      Box(P          R      mAP50  mAP50-95)     Mask(P          R      mAP50  mAP50-95): 100%|██████████| 1/1 [00:00<00:00,  6.93it/s]"
     ]
    },
    {
     "name": "stdout",
     "output_type": "stream",
     "text": [
      "                   all          8          8      0.994          1      0.995      0.886      0.994          1      0.995      0.888\n"
     ]
    },
    {
     "name": "stderr",
     "output_type": "stream",
     "text": [
      "\n"
     ]
    },
    {
     "name": "stdout",
     "output_type": "stream",
     "text": [
      "Closing dataloader mosaic\n",
      "\n",
      "      Epoch    GPU_mem   box_loss   seg_loss   cls_loss   dfl_loss  Instances       Size\n"
     ]
    },
    {
     "name": "stderr",
     "output_type": "stream",
     "text": [
      "     91/100      1.58G     0.3439     0.3515     0.6602     0.7606         13        416: 100%|██████████| 2/2 [00:03<00:00,  1.84s/it]\n",
      "                 Class     Images  Instances      Box(P          R      mAP50  mAP50-95)     Mask(P          R      mAP50  mAP50-95): 100%|██████████| 1/1 [00:00<00:00,  5.00it/s]"
     ]
    },
    {
     "name": "stdout",
     "output_type": "stream",
     "text": [
      "                   all          8          8      0.994          1      0.995      0.886      0.994          1      0.995      0.888\n"
     ]
    },
    {
     "name": "stderr",
     "output_type": "stream",
     "text": [
      "\n"
     ]
    },
    {
     "name": "stdout",
     "output_type": "stream",
     "text": [
      "\n",
      "      Epoch    GPU_mem   box_loss   seg_loss   cls_loss   dfl_loss  Instances       Size\n"
     ]
    },
    {
     "name": "stderr",
     "output_type": "stream",
     "text": [
      "     92/100      1.58G     0.3108     0.4355     0.7049     0.8038         13        416: 100%|██████████| 2/2 [00:00<00:00,  2.30it/s]\n",
      "                 Class     Images  Instances      Box(P          R      mAP50  mAP50-95)     Mask(P          R      mAP50  mAP50-95): 100%|██████████| 1/1 [00:00<00:00,  7.19it/s]"
     ]
    },
    {
     "name": "stdout",
     "output_type": "stream",
     "text": [
      "                   all          8          8      0.994          1      0.995      0.903      0.994          1      0.995      0.916\n"
     ]
    },
    {
     "name": "stderr",
     "output_type": "stream",
     "text": [
      "\n"
     ]
    },
    {
     "name": "stdout",
     "output_type": "stream",
     "text": [
      "\n",
      "      Epoch    GPU_mem   box_loss   seg_loss   cls_loss   dfl_loss  Instances       Size\n"
     ]
    },
    {
     "name": "stderr",
     "output_type": "stream",
     "text": [
      "     93/100      1.58G     0.3042     0.3457     0.6458     0.7821         13        416: 100%|██████████| 2/2 [00:00<00:00,  2.58it/s]\n",
      "                 Class     Images  Instances      Box(P          R      mAP50  mAP50-95)     Mask(P          R      mAP50  mAP50-95): 100%|██████████| 1/1 [00:00<00:00,  7.33it/s]"
     ]
    },
    {
     "name": "stdout",
     "output_type": "stream",
     "text": [
      "                   all          8          8      0.994          1      0.995      0.903      0.994          1      0.995      0.916\n"
     ]
    },
    {
     "name": "stderr",
     "output_type": "stream",
     "text": [
      "\n"
     ]
    },
    {
     "name": "stdout",
     "output_type": "stream",
     "text": [
      "\n",
      "      Epoch    GPU_mem   box_loss   seg_loss   cls_loss   dfl_loss  Instances       Size\n"
     ]
    },
    {
     "name": "stderr",
     "output_type": "stream",
     "text": [
      "     94/100      1.58G     0.3631     0.3652     0.7055     0.7878         13        416: 100%|██████████| 2/2 [00:00<00:00,  2.48it/s]\n",
      "                 Class     Images  Instances      Box(P          R      mAP50  mAP50-95)     Mask(P          R      mAP50  mAP50-95): 100%|██████████| 1/1 [00:00<00:00,  7.39it/s]"
     ]
    },
    {
     "name": "stdout",
     "output_type": "stream",
     "text": [
      "                   all          8          8      0.994          1      0.995      0.892      0.994          1      0.995      0.901\n"
     ]
    },
    {
     "name": "stderr",
     "output_type": "stream",
     "text": [
      "\n"
     ]
    },
    {
     "name": "stdout",
     "output_type": "stream",
     "text": [
      "\n",
      "      Epoch    GPU_mem   box_loss   seg_loss   cls_loss   dfl_loss  Instances       Size\n"
     ]
    },
    {
     "name": "stderr",
     "output_type": "stream",
     "text": [
      "     95/100      1.58G     0.2962     0.3184     0.6217     0.7836         13        416: 100%|██████████| 2/2 [00:00<00:00,  2.58it/s]\n",
      "                 Class     Images  Instances      Box(P          R      mAP50  mAP50-95)     Mask(P          R      mAP50  mAP50-95): 100%|██████████| 1/1 [00:00<00:00,  7.41it/s]"
     ]
    },
    {
     "name": "stdout",
     "output_type": "stream",
     "text": [
      "                   all          8          8      0.994          1      0.995      0.892      0.994          1      0.995      0.901\n"
     ]
    },
    {
     "name": "stderr",
     "output_type": "stream",
     "text": [
      "\n"
     ]
    },
    {
     "name": "stdout",
     "output_type": "stream",
     "text": [
      "\n",
      "      Epoch    GPU_mem   box_loss   seg_loss   cls_loss   dfl_loss  Instances       Size\n"
     ]
    },
    {
     "name": "stderr",
     "output_type": "stream",
     "text": [
      "     96/100      1.58G     0.3088     0.3475     0.6269     0.7749         13        416: 100%|██████████| 2/2 [00:00<00:00,  2.49it/s]\n",
      "                 Class     Images  Instances      Box(P          R      mAP50  mAP50-95)     Mask(P          R      mAP50  mAP50-95): 100%|██████████| 1/1 [00:00<00:00,  7.32it/s]"
     ]
    },
    {
     "name": "stdout",
     "output_type": "stream",
     "text": [
      "                   all          8          8      0.994          1      0.995      0.892      0.994          1      0.995      0.901\n"
     ]
    },
    {
     "name": "stderr",
     "output_type": "stream",
     "text": [
      "\n"
     ]
    },
    {
     "name": "stdout",
     "output_type": "stream",
     "text": [
      "\n",
      "      Epoch    GPU_mem   box_loss   seg_loss   cls_loss   dfl_loss  Instances       Size\n"
     ]
    },
    {
     "name": "stderr",
     "output_type": "stream",
     "text": [
      "     97/100      1.58G     0.2981     0.3303     0.6461     0.7836         13        416: 100%|██████████| 2/2 [00:00<00:00,  2.57it/s]\n",
      "                 Class     Images  Instances      Box(P          R      mAP50  mAP50-95)     Mask(P          R      mAP50  mAP50-95): 100%|██████████| 1/1 [00:00<00:00,  6.44it/s]"
     ]
    },
    {
     "name": "stdout",
     "output_type": "stream",
     "text": [
      "                   all          8          8      0.994          1      0.995      0.892      0.994          1      0.995      0.901\n"
     ]
    },
    {
     "name": "stderr",
     "output_type": "stream",
     "text": [
      "\n"
     ]
    },
    {
     "name": "stdout",
     "output_type": "stream",
     "text": [
      "\n",
      "      Epoch    GPU_mem   box_loss   seg_loss   cls_loss   dfl_loss  Instances       Size\n"
     ]
    },
    {
     "name": "stderr",
     "output_type": "stream",
     "text": [
      "     98/100      1.58G      0.262     0.3226     0.5855     0.7721         13        416: 100%|██████████| 2/2 [00:00<00:00,  2.49it/s]\n",
      "                 Class     Images  Instances      Box(P          R      mAP50  mAP50-95)     Mask(P          R      mAP50  mAP50-95): 100%|██████████| 1/1 [00:00<00:00,  7.55it/s]"
     ]
    },
    {
     "name": "stdout",
     "output_type": "stream",
     "text": [
      "                   all          8          8      0.994          1      0.995       0.91      0.994          1      0.995      0.908\n"
     ]
    },
    {
     "name": "stderr",
     "output_type": "stream",
     "text": [
      "\n"
     ]
    },
    {
     "name": "stdout",
     "output_type": "stream",
     "text": [
      "\n",
      "      Epoch    GPU_mem   box_loss   seg_loss   cls_loss   dfl_loss  Instances       Size\n"
     ]
    },
    {
     "name": "stderr",
     "output_type": "stream",
     "text": [
      "     99/100      1.58G     0.2758      0.343     0.5849     0.8135         13        416: 100%|██████████| 2/2 [00:00<00:00,  2.58it/s]\n",
      "                 Class     Images  Instances      Box(P          R      mAP50  mAP50-95)     Mask(P          R      mAP50  mAP50-95): 100%|██████████| 1/1 [00:00<00:00,  7.42it/s]"
     ]
    },
    {
     "name": "stdout",
     "output_type": "stream",
     "text": [
      "                   all          8          8      0.994          1      0.995       0.91      0.994          1      0.995      0.908\n"
     ]
    },
    {
     "name": "stderr",
     "output_type": "stream",
     "text": [
      "\n"
     ]
    },
    {
     "name": "stdout",
     "output_type": "stream",
     "text": [
      "\n",
      "      Epoch    GPU_mem   box_loss   seg_loss   cls_loss   dfl_loss  Instances       Size\n"
     ]
    },
    {
     "name": "stderr",
     "output_type": "stream",
     "text": [
      "    100/100      1.58G     0.3012     0.3548     0.6158     0.7421         13        416: 100%|██████████| 2/2 [00:00<00:00,  2.46it/s]\n",
      "                 Class     Images  Instances      Box(P          R      mAP50  mAP50-95)     Mask(P          R      mAP50  mAP50-95): 100%|██████████| 1/1 [00:00<00:00,  7.26it/s]"
     ]
    },
    {
     "name": "stdout",
     "output_type": "stream",
     "text": [
      "                   all          8          8      0.994          1      0.995       0.91      0.994          1      0.995      0.908\n"
     ]
    },
    {
     "name": "stderr",
     "output_type": "stream",
     "text": [
      "\n"
     ]
    },
    {
     "name": "stdout",
     "output_type": "stream",
     "text": [
      "\n",
      "100 epochs completed in 0.041 hours.\n",
      "Optimizer stripped from runs\\pupil-seg-11\\weights\\last.pt, 6.0MB\n",
      "Optimizer stripped from runs\\pupil-seg-11\\weights\\best.pt, 6.0MB\n",
      "\n",
      "Validating runs\\pupil-seg-11\\weights\\best.pt...\n",
      "Ultralytics 8.3.177  Python-3.11.9 torch-2.7.1+cu118 CUDA:0 (NVIDIA GeForce GTX 1050 Ti, 4096MiB)\n",
      "YOLO11n-seg summary (fused): 113 layers, 2,834,763 parameters, 0 gradients, 10.2 GFLOPs\n"
     ]
    },
    {
     "name": "stderr",
     "output_type": "stream",
     "text": [
      "                 Class     Images  Instances      Box(P          R      mAP50  mAP50-95)     Mask(P          R      mAP50  mAP50-95):   0%|          | 0/1 [00:00<?, ?it/s]"
     ]
    },
    {
     "name": "stdout",
     "output_type": "stream",
     "text": [
      "WARNING Limiting validation plots to first 50 items per image for speed...\n",
      "WARNING Limiting validation plots to first 50 items per image for speed...\n",
      "WARNING Limiting validation plots to first 50 items per image for speed...\n",
      "WARNING Limiting validation plots to first 50 items per image for speed...\n",
      "WARNING Limiting validation plots to first 50 items per image for speed...\n",
      "WARNING Limiting validation plots to first 50 items per image for speed...\n",
      "WARNING Limiting validation plots to first 50 items per image for speed...\n",
      "WARNING Limiting validation plots to first 50 items per image for speed...\n"
     ]
    },
    {
     "name": "stderr",
     "output_type": "stream",
     "text": [
      "                 Class     Images  Instances      Box(P          R      mAP50  mAP50-95)     Mask(P          R      mAP50  mAP50-95): 100%|██████████| 1/1 [00:00<00:00,  7.07it/s]\n"
     ]
    },
    {
     "name": "stdout",
     "output_type": "stream",
     "text": [
      "                   all          8          8      0.994          1      0.995      0.903      0.994          1      0.995      0.916\n",
      "Speed: 0.3ms preprocess, 6.3ms inference, 0.0ms loss, 3.5ms postprocess per image\n",
      "Results saved to \u001b[1mruns\\pupil-seg-11\u001b[0m\n"
     ]
    },
    {
     "data": {
      "text/plain": [
       "ultralytics.utils.metrics.SegmentMetrics object with attributes:\n",
       "\n",
       "ap_class_index: array([0])\n",
       "box: ultralytics.utils.metrics.Metric object\n",
       "confusion_matrix: <ultralytics.utils.metrics.ConfusionMatrix object at 0x000001A4075843D0>\n",
       "curves: ['Precision-Recall(B)', 'F1-Confidence(B)', 'Precision-Confidence(B)', 'Recall-Confidence(B)', 'Precision-Recall(M)', 'F1-Confidence(M)', 'Precision-Confidence(M)', 'Recall-Confidence(M)']\n",
       "curves_results: [[array([          0,    0.001001,    0.002002,    0.003003,    0.004004,    0.005005,    0.006006,    0.007007,    0.008008,    0.009009,     0.01001,    0.011011,    0.012012,    0.013013,    0.014014,    0.015015,    0.016016,    0.017017,    0.018018,    0.019019,     0.02002,    0.021021,    0.022022,    0.023023,\n",
       "          0.024024,    0.025025,    0.026026,    0.027027,    0.028028,    0.029029,     0.03003,    0.031031,    0.032032,    0.033033,    0.034034,    0.035035,    0.036036,    0.037037,    0.038038,    0.039039,     0.04004,    0.041041,    0.042042,    0.043043,    0.044044,    0.045045,    0.046046,    0.047047,\n",
       "          0.048048,    0.049049,     0.05005,    0.051051,    0.052052,    0.053053,    0.054054,    0.055055,    0.056056,    0.057057,    0.058058,    0.059059,     0.06006,    0.061061,    0.062062,    0.063063,    0.064064,    0.065065,    0.066066,    0.067067,    0.068068,    0.069069,     0.07007,    0.071071,\n",
       "          0.072072,    0.073073,    0.074074,    0.075075,    0.076076,    0.077077,    0.078078,    0.079079,     0.08008,    0.081081,    0.082082,    0.083083,    0.084084,    0.085085,    0.086086,    0.087087,    0.088088,    0.089089,     0.09009,    0.091091,    0.092092,    0.093093,    0.094094,    0.095095,\n",
       "          0.096096,    0.097097,    0.098098,    0.099099,      0.1001,      0.1011,      0.1021,      0.1031,      0.1041,     0.10511,     0.10611,     0.10711,     0.10811,     0.10911,     0.11011,     0.11111,     0.11211,     0.11311,     0.11411,     0.11512,     0.11612,     0.11712,     0.11812,     0.11912,\n",
       "           0.12012,     0.12112,     0.12212,     0.12312,     0.12412,     0.12513,     0.12613,     0.12713,     0.12813,     0.12913,     0.13013,     0.13113,     0.13213,     0.13313,     0.13413,     0.13514,     0.13614,     0.13714,     0.13814,     0.13914,     0.14014,     0.14114,     0.14214,     0.14314,\n",
       "           0.14414,     0.14515,     0.14615,     0.14715,     0.14815,     0.14915,     0.15015,     0.15115,     0.15215,     0.15315,     0.15415,     0.15516,     0.15616,     0.15716,     0.15816,     0.15916,     0.16016,     0.16116,     0.16216,     0.16316,     0.16416,     0.16517,     0.16617,     0.16717,\n",
       "           0.16817,     0.16917,     0.17017,     0.17117,     0.17217,     0.17317,     0.17417,     0.17518,     0.17618,     0.17718,     0.17818,     0.17918,     0.18018,     0.18118,     0.18218,     0.18318,     0.18418,     0.18519,     0.18619,     0.18719,     0.18819,     0.18919,     0.19019,     0.19119,\n",
       "           0.19219,     0.19319,     0.19419,      0.1952,      0.1962,      0.1972,      0.1982,      0.1992,      0.2002,      0.2012,      0.2022,      0.2032,      0.2042,     0.20521,     0.20621,     0.20721,     0.20821,     0.20921,     0.21021,     0.21121,     0.21221,     0.21321,     0.21421,     0.21522,\n",
       "           0.21622,     0.21722,     0.21822,     0.21922,     0.22022,     0.22122,     0.22222,     0.22322,     0.22422,     0.22523,     0.22623,     0.22723,     0.22823,     0.22923,     0.23023,     0.23123,     0.23223,     0.23323,     0.23423,     0.23524,     0.23624,     0.23724,     0.23824,     0.23924,\n",
       "           0.24024,     0.24124,     0.24224,     0.24324,     0.24424,     0.24525,     0.24625,     0.24725,     0.24825,     0.24925,     0.25025,     0.25125,     0.25225,     0.25325,     0.25425,     0.25526,     0.25626,     0.25726,     0.25826,     0.25926,     0.26026,     0.26126,     0.26226,     0.26326,\n",
       "           0.26426,     0.26527,     0.26627,     0.26727,     0.26827,     0.26927,     0.27027,     0.27127,     0.27227,     0.27327,     0.27427,     0.27528,     0.27628,     0.27728,     0.27828,     0.27928,     0.28028,     0.28128,     0.28228,     0.28328,     0.28428,     0.28529,     0.28629,     0.28729,\n",
       "           0.28829,     0.28929,     0.29029,     0.29129,     0.29229,     0.29329,     0.29429,      0.2953,      0.2963,      0.2973,      0.2983,      0.2993,      0.3003,      0.3013,      0.3023,      0.3033,      0.3043,     0.30531,     0.30631,     0.30731,     0.30831,     0.30931,     0.31031,     0.31131,\n",
       "           0.31231,     0.31331,     0.31431,     0.31532,     0.31632,     0.31732,     0.31832,     0.31932,     0.32032,     0.32132,     0.32232,     0.32332,     0.32432,     0.32533,     0.32633,     0.32733,     0.32833,     0.32933,     0.33033,     0.33133,     0.33233,     0.33333,     0.33433,     0.33534,\n",
       "           0.33634,     0.33734,     0.33834,     0.33934,     0.34034,     0.34134,     0.34234,     0.34334,     0.34434,     0.34535,     0.34635,     0.34735,     0.34835,     0.34935,     0.35035,     0.35135,     0.35235,     0.35335,     0.35435,     0.35536,     0.35636,     0.35736,     0.35836,     0.35936,\n",
       "           0.36036,     0.36136,     0.36236,     0.36336,     0.36436,     0.36537,     0.36637,     0.36737,     0.36837,     0.36937,     0.37037,     0.37137,     0.37237,     0.37337,     0.37437,     0.37538,     0.37638,     0.37738,     0.37838,     0.37938,     0.38038,     0.38138,     0.38238,     0.38338,\n",
       "           0.38438,     0.38539,     0.38639,     0.38739,     0.38839,     0.38939,     0.39039,     0.39139,     0.39239,     0.39339,     0.39439,      0.3954,      0.3964,      0.3974,      0.3984,      0.3994,      0.4004,      0.4014,      0.4024,      0.4034,      0.4044,     0.40541,     0.40641,     0.40741,\n",
       "           0.40841,     0.40941,     0.41041,     0.41141,     0.41241,     0.41341,     0.41441,     0.41542,     0.41642,     0.41742,     0.41842,     0.41942,     0.42042,     0.42142,     0.42242,     0.42342,     0.42442,     0.42543,     0.42643,     0.42743,     0.42843,     0.42943,     0.43043,     0.43143,\n",
       "           0.43243,     0.43343,     0.43443,     0.43544,     0.43644,     0.43744,     0.43844,     0.43944,     0.44044,     0.44144,     0.44244,     0.44344,     0.44444,     0.44545,     0.44645,     0.44745,     0.44845,     0.44945,     0.45045,     0.45145,     0.45245,     0.45345,     0.45445,     0.45546,\n",
       "           0.45646,     0.45746,     0.45846,     0.45946,     0.46046,     0.46146,     0.46246,     0.46346,     0.46446,     0.46547,     0.46647,     0.46747,     0.46847,     0.46947,     0.47047,     0.47147,     0.47247,     0.47347,     0.47447,     0.47548,     0.47648,     0.47748,     0.47848,     0.47948,\n",
       "           0.48048,     0.48148,     0.48248,     0.48348,     0.48448,     0.48549,     0.48649,     0.48749,     0.48849,     0.48949,     0.49049,     0.49149,     0.49249,     0.49349,     0.49449,      0.4955,      0.4965,      0.4975,      0.4985,      0.4995,      0.5005,      0.5015,      0.5025,      0.5035,\n",
       "            0.5045,     0.50551,     0.50651,     0.50751,     0.50851,     0.50951,     0.51051,     0.51151,     0.51251,     0.51351,     0.51451,     0.51552,     0.51652,     0.51752,     0.51852,     0.51952,     0.52052,     0.52152,     0.52252,     0.52352,     0.52452,     0.52553,     0.52653,     0.52753,\n",
       "           0.52853,     0.52953,     0.53053,     0.53153,     0.53253,     0.53353,     0.53453,     0.53554,     0.53654,     0.53754,     0.53854,     0.53954,     0.54054,     0.54154,     0.54254,     0.54354,     0.54454,     0.54555,     0.54655,     0.54755,     0.54855,     0.54955,     0.55055,     0.55155,\n",
       "           0.55255,     0.55355,     0.55455,     0.55556,     0.55656,     0.55756,     0.55856,     0.55956,     0.56056,     0.56156,     0.56256,     0.56356,     0.56456,     0.56557,     0.56657,     0.56757,     0.56857,     0.56957,     0.57057,     0.57157,     0.57257,     0.57357,     0.57457,     0.57558,\n",
       "           0.57658,     0.57758,     0.57858,     0.57958,     0.58058,     0.58158,     0.58258,     0.58358,     0.58458,     0.58559,     0.58659,     0.58759,     0.58859,     0.58959,     0.59059,     0.59159,     0.59259,     0.59359,     0.59459,      0.5956,      0.5966,      0.5976,      0.5986,      0.5996,\n",
       "            0.6006,      0.6016,      0.6026,      0.6036,      0.6046,     0.60561,     0.60661,     0.60761,     0.60861,     0.60961,     0.61061,     0.61161,     0.61261,     0.61361,     0.61461,     0.61562,     0.61662,     0.61762,     0.61862,     0.61962,     0.62062,     0.62162,     0.62262,     0.62362,\n",
       "           0.62462,     0.62563,     0.62663,     0.62763,     0.62863,     0.62963,     0.63063,     0.63163,     0.63263,     0.63363,     0.63463,     0.63564,     0.63664,     0.63764,     0.63864,     0.63964,     0.64064,     0.64164,     0.64264,     0.64364,     0.64464,     0.64565,     0.64665,     0.64765,\n",
       "           0.64865,     0.64965,     0.65065,     0.65165,     0.65265,     0.65365,     0.65465,     0.65566,     0.65666,     0.65766,     0.65866,     0.65966,     0.66066,     0.66166,     0.66266,     0.66366,     0.66466,     0.66567,     0.66667,     0.66767,     0.66867,     0.66967,     0.67067,     0.67167,\n",
       "           0.67267,     0.67367,     0.67467,     0.67568,     0.67668,     0.67768,     0.67868,     0.67968,     0.68068,     0.68168,     0.68268,     0.68368,     0.68468,     0.68569,     0.68669,     0.68769,     0.68869,     0.68969,     0.69069,     0.69169,     0.69269,     0.69369,     0.69469,      0.6957,\n",
       "            0.6967,      0.6977,      0.6987,      0.6997,      0.7007,      0.7017,      0.7027,      0.7037,      0.7047,     0.70571,     0.70671,     0.70771,     0.70871,     0.70971,     0.71071,     0.71171,     0.71271,     0.71371,     0.71471,     0.71572,     0.71672,     0.71772,     0.71872,     0.71972,\n",
       "           0.72072,     0.72172,     0.72272,     0.72372,     0.72472,     0.72573,     0.72673,     0.72773,     0.72873,     0.72973,     0.73073,     0.73173,     0.73273,     0.73373,     0.73473,     0.73574,     0.73674,     0.73774,     0.73874,     0.73974,     0.74074,     0.74174,     0.74274,     0.74374,\n",
       "           0.74474,     0.74575,     0.74675,     0.74775,     0.74875,     0.74975,     0.75075,     0.75175,     0.75275,     0.75375,     0.75475,     0.75576,     0.75676,     0.75776,     0.75876,     0.75976,     0.76076,     0.76176,     0.76276,     0.76376,     0.76476,     0.76577,     0.76677,     0.76777,\n",
       "           0.76877,     0.76977,     0.77077,     0.77177,     0.77277,     0.77377,     0.77477,     0.77578,     0.77678,     0.77778,     0.77878,     0.77978,     0.78078,     0.78178,     0.78278,     0.78378,     0.78478,     0.78579,     0.78679,     0.78779,     0.78879,     0.78979,     0.79079,     0.79179,\n",
       "           0.79279,     0.79379,     0.79479,      0.7958,      0.7968,      0.7978,      0.7988,      0.7998,      0.8008,      0.8018,      0.8028,      0.8038,      0.8048,     0.80581,     0.80681,     0.80781,     0.80881,     0.80981,     0.81081,     0.81181,     0.81281,     0.81381,     0.81481,     0.81582,\n",
       "           0.81682,     0.81782,     0.81882,     0.81982,     0.82082,     0.82182,     0.82282,     0.82382,     0.82482,     0.82583,     0.82683,     0.82783,     0.82883,     0.82983,     0.83083,     0.83183,     0.83283,     0.83383,     0.83483,     0.83584,     0.83684,     0.83784,     0.83884,     0.83984,\n",
       "           0.84084,     0.84184,     0.84284,     0.84384,     0.84484,     0.84585,     0.84685,     0.84785,     0.84885,     0.84985,     0.85085,     0.85185,     0.85285,     0.85385,     0.85485,     0.85586,     0.85686,     0.85786,     0.85886,     0.85986,     0.86086,     0.86186,     0.86286,     0.86386,\n",
       "           0.86486,     0.86587,     0.86687,     0.86787,     0.86887,     0.86987,     0.87087,     0.87187,     0.87287,     0.87387,     0.87487,     0.87588,     0.87688,     0.87788,     0.87888,     0.87988,     0.88088,     0.88188,     0.88288,     0.88388,     0.88488,     0.88589,     0.88689,     0.88789,\n",
       "           0.88889,     0.88989,     0.89089,     0.89189,     0.89289,     0.89389,     0.89489,      0.8959,      0.8969,      0.8979,      0.8989,      0.8999,      0.9009,      0.9019,      0.9029,      0.9039,      0.9049,     0.90591,     0.90691,     0.90791,     0.90891,     0.90991,     0.91091,     0.91191,\n",
       "           0.91291,     0.91391,     0.91491,     0.91592,     0.91692,     0.91792,     0.91892,     0.91992,     0.92092,     0.92192,     0.92292,     0.92392,     0.92492,     0.92593,     0.92693,     0.92793,     0.92893,     0.92993,     0.93093,     0.93193,     0.93293,     0.93393,     0.93493,     0.93594,\n",
       "           0.93694,     0.93794,     0.93894,     0.93994,     0.94094,     0.94194,     0.94294,     0.94394,     0.94494,     0.94595,     0.94695,     0.94795,     0.94895,     0.94995,     0.95095,     0.95195,     0.95295,     0.95395,     0.95495,     0.95596,     0.95696,     0.95796,     0.95896,     0.95996,\n",
       "           0.96096,     0.96196,     0.96296,     0.96396,     0.96496,     0.96597,     0.96697,     0.96797,     0.96897,     0.96997,     0.97097,     0.97197,     0.97297,     0.97397,     0.97497,     0.97598,     0.97698,     0.97798,     0.97898,     0.97998,     0.98098,     0.98198,     0.98298,     0.98398,\n",
       "           0.98498,     0.98599,     0.98699,     0.98799,     0.98899,     0.98999,     0.99099,     0.99199,     0.99299,     0.99399,     0.99499,       0.996,       0.997,       0.998,       0.999,           1]), array([[          1,           1,           1,           1,           1,           1,           1,           1,           1,           1,           1,           1,           1,           1,           1,           1,           1,           1,           1,           1,           1,           1,           1,\n",
       "                  1,           1,           1,           1,           1,           1,           1,           1,           1,           1,           1,           1,           1,           1,           1,           1,           1,           1,           1,           1,           1,           1,           1,\n",
       "                  1,           1,           1,           1,           1,           1,           1,           1,           1,           1,           1,           1,           1,           1,           1,           1,           1,           1,           1,           1,           1,           1,           1,\n",
       "                  1,           1,           1,           1,           1,           1,           1,           1,           1,           1,           1,           1,           1,           1,           1,           1,           1,           1,           1,           1,           1,           1,           1,\n",
       "                  1,           1,           1,           1,           1,           1,           1,           1,           1,           1,           1,           1,           1,           1,           1,           1,           1,           1,           1,           1,           1,           1,           1,\n",
       "                  1,           1,           1,           1,           1,           1,           1,           1,           1,           1,           1,           1,           1,           1,           1,           1,           1,           1,           1,           1,           1,           1,           1,\n",
       "                  1,           1,           1,           1,           1,           1,           1,           1,           1,           1,           1,           1,           1,           1,           1,           1,           1,           1,           1,           1,           1,           1,           1,\n",
       "                  1,           1,           1,           1,           1,           1,           1,           1,           1,           1,           1,           1,           1,           1,           1,           1,           1,           1,           1,           1,           1,           1,           1,\n",
       "                  1,           1,           1,           1,           1,           1,           1,           1,           1,           1,           1,           1,           1,           1,           1,           1,           1,           1,           1,           1,           1,           1,           1,\n",
       "                  1,           1,           1,           1,           1,           1,           1,           1,           1,           1,           1,           1,           1,           1,           1,           1,           1,           1,           1,           1,           1,           1,           1,\n",
       "                  1,           1,           1,           1,           1,           1,           1,           1,           1,           1,           1,           1,           1,           1,           1,           1,           1,           1,           1,           1,           1,           1,           1,\n",
       "                  1,           1,           1,           1,           1,           1,           1,           1,           1,           1,           1,           1,           1,           1,           1,           1,           1,           1,           1,           1,           1,           1,           1,\n",
       "                  1,           1,           1,           1,           1,           1,           1,           1,           1,           1,           1,           1,           1,           1,           1,           1,           1,           1,           1,           1,           1,           1,           1,\n",
       "                  1,           1,           1,           1,           1,           1,           1,           1,           1,           1,           1,           1,           1,           1,           1,           1,           1,           1,           1,           1,           1,           1,           1,\n",
       "                  1,           1,           1,           1,           1,           1,           1,           1,           1,           1,           1,           1,           1,           1,           1,           1,           1,           1,           1,           1,           1,           1,           1,\n",
       "                  1,           1,           1,           1,           1,           1,           1,           1,           1,           1,           1,           1,           1,           1,           1,           1,           1,           1,           1,           1,           1,           1,           1,\n",
       "                  1,           1,           1,           1,           1,           1,           1,           1,           1,           1,           1,           1,           1,           1,           1,           1,           1,           1,           1,           1,           1,           1,           1,\n",
       "                  1,           1,           1,           1,           1,           1,           1,           1,           1,           1,           1,           1,           1,           1,           1,           1,           1,           1,           1,           1,           1,           1,           1,\n",
       "                  1,           1,           1,           1,           1,           1,           1,           1,           1,           1,           1,           1,           1,           1,           1,           1,           1,           1,           1,           1,           1,           1,           1,\n",
       "                  1,           1,           1,           1,           1,           1,           1,           1,           1,           1,           1,           1,           1,           1,           1,           1,           1,           1,           1,           1,           1,           1,           1,\n",
       "                  1,           1,           1,           1,           1,           1,           1,           1,           1,           1,           1,           1,           1,           1,           1,           1,           1,           1,           1,           1,           1,           1,           1,\n",
       "                  1,           1,           1,           1,           1,           1,           1,           1,           1,           1,           1,           1,           1,           1,           1,           1,           1,           1,           1,           1,           1,           1,           1,\n",
       "                  1,           1,           1,           1,           1,           1,           1,           1,           1,           1,           1,           1,           1,           1,           1,           1,           1,           1,           1,           1,           1,           1,           1,\n",
       "                  1,           1,           1,           1,           1,           1,           1,           1,           1,           1,           1,           1,           1,           1,           1,           1,           1,           1,           1,           1,           1,           1,           1,\n",
       "                  1,           1,           1,           1,           1,           1,           1,           1,           1,           1,           1,           1,           1,           1,           1,           1,           1,           1,           1,           1,           1,           1,           1,\n",
       "                  1,           1,           1,           1,           1,           1,           1,           1,           1,           1,           1,           1,           1,           1,           1,           1,           1,           1,           1,           1,           1,           1,           1,\n",
       "                  1,           1,           1,           1,           1,           1,           1,           1,           1,           1,           1,           1,           1,           1,           1,           1,           1,           1,           1,           1,           1,           1,           1,\n",
       "                  1,           1,           1,           1,           1,           1,           1,           1,           1,           1,           1,           1,           1,           1,           1,           1,           1,           1,           1,           1,           1,           1,           1,\n",
       "                  1,           1,           1,           1,           1,           1,           1,           1,           1,           1,           1,           1,           1,           1,           1,           1,           1,           1,           1,           1,           1,           1,           1,\n",
       "                  1,           1,           1,           1,           1,           1,           1,           1,           1,           1,           1,           1,           1,           1,           1,           1,           1,           1,           1,           1,           1,           1,           1,\n",
       "                  1,           1,           1,           1,           1,           1,           1,           1,           1,           1,           1,           1,           1,           1,           1,           1,           1,           1,           1,           1,           1,           1,           1,\n",
       "                  1,           1,           1,           1,           1,           1,           1,           1,           1,           1,           1,           1,           1,           1,           1,           1,           1,           1,           1,           1,           1,           1,           1,\n",
       "                  1,           1,           1,           1,           1,           1,           1,           1,           1,           1,           1,           1,           1,           1,           1,           1,           1,           1,           1,           1,           1,           1,           1,\n",
       "                  1,           1,           1,           1,           1,           1,           1,           1,           1,           1,           1,           1,           1,           1,           1,           1,           1,           1,           1,           1,           1,           1,           1,\n",
       "                  1,           1,           1,           1,           1,           1,           1,           1,           1,           1,           1,           1,           1,           1,           1,           1,           1,           1,           1,           1,           1,           1,           1,\n",
       "                  1,           1,           1,           1,           1,           1,           1,           1,           1,           1,           1,           1,           1,           1,           1,           1,           1,           1,           1,           1,           1,           1,           1,\n",
       "                  1,           1,           1,           1,           1,           1,           1,           1,           1,           1,           1,           1,           1,           1,           1,           1,           1,           1,           1,           1,           1,           1,           1,\n",
       "                  1,           1,           1,           1,           1,           1,           1,           1,           1,           1,           1,           1,           1,           1,           1,           1,           1,           1,           1,           1,           1,           1,           1,\n",
       "                  1,           1,           1,           1,           1,           1,           1,           1,           1,           1,           1,           1,           1,           1,           1,           1,           1,           1,           1,           1,           1,           1,           1,\n",
       "                  1,           1,           1,           1,           1,           1,           1,           1,           1,           1,           1,           1,           1,           1,           1,           1,           1,           1,           1,           1,           1,           1,           1,\n",
       "                  1,           1,           1,           1,           1,           1,           1,           1,           1,           1,           1,           1,           1,           1,           1,           1,           1,           1,           1,           1,           1,           1,           1,\n",
       "                  1,           1,           1,           1,           1,           1,           1,           1,           1,           1,           1,           1,           1,           1,           1,           1,           1,           1,           1,           1,           1,           1,           1,\n",
       "                  1,           1,           1,           1,           1,           1,           1,           1,           1,           1,           1,           1,           1,           1,           1,           1,           1,           1,           1,           1,           1,           1,           1,\n",
       "                  1,           1,           1,           1,           1,           1,           1,           1,           1,           1,           0]]), 'Recall', 'Precision'], [array([          0,    0.001001,    0.002002,    0.003003,    0.004004,    0.005005,    0.006006,    0.007007,    0.008008,    0.009009,     0.01001,    0.011011,    0.012012,    0.013013,    0.014014,    0.015015,    0.016016,    0.017017,    0.018018,    0.019019,     0.02002,    0.021021,    0.022022,    0.023023,\n",
       "          0.024024,    0.025025,    0.026026,    0.027027,    0.028028,    0.029029,     0.03003,    0.031031,    0.032032,    0.033033,    0.034034,    0.035035,    0.036036,    0.037037,    0.038038,    0.039039,     0.04004,    0.041041,    0.042042,    0.043043,    0.044044,    0.045045,    0.046046,    0.047047,\n",
       "          0.048048,    0.049049,     0.05005,    0.051051,    0.052052,    0.053053,    0.054054,    0.055055,    0.056056,    0.057057,    0.058058,    0.059059,     0.06006,    0.061061,    0.062062,    0.063063,    0.064064,    0.065065,    0.066066,    0.067067,    0.068068,    0.069069,     0.07007,    0.071071,\n",
       "          0.072072,    0.073073,    0.074074,    0.075075,    0.076076,    0.077077,    0.078078,    0.079079,     0.08008,    0.081081,    0.082082,    0.083083,    0.084084,    0.085085,    0.086086,    0.087087,    0.088088,    0.089089,     0.09009,    0.091091,    0.092092,    0.093093,    0.094094,    0.095095,\n",
       "          0.096096,    0.097097,    0.098098,    0.099099,      0.1001,      0.1011,      0.1021,      0.1031,      0.1041,     0.10511,     0.10611,     0.10711,     0.10811,     0.10911,     0.11011,     0.11111,     0.11211,     0.11311,     0.11411,     0.11512,     0.11612,     0.11712,     0.11812,     0.11912,\n",
       "           0.12012,     0.12112,     0.12212,     0.12312,     0.12412,     0.12513,     0.12613,     0.12713,     0.12813,     0.12913,     0.13013,     0.13113,     0.13213,     0.13313,     0.13413,     0.13514,     0.13614,     0.13714,     0.13814,     0.13914,     0.14014,     0.14114,     0.14214,     0.14314,\n",
       "           0.14414,     0.14515,     0.14615,     0.14715,     0.14815,     0.14915,     0.15015,     0.15115,     0.15215,     0.15315,     0.15415,     0.15516,     0.15616,     0.15716,     0.15816,     0.15916,     0.16016,     0.16116,     0.16216,     0.16316,     0.16416,     0.16517,     0.16617,     0.16717,\n",
       "           0.16817,     0.16917,     0.17017,     0.17117,     0.17217,     0.17317,     0.17417,     0.17518,     0.17618,     0.17718,     0.17818,     0.17918,     0.18018,     0.18118,     0.18218,     0.18318,     0.18418,     0.18519,     0.18619,     0.18719,     0.18819,     0.18919,     0.19019,     0.19119,\n",
       "           0.19219,     0.19319,     0.19419,      0.1952,      0.1962,      0.1972,      0.1982,      0.1992,      0.2002,      0.2012,      0.2022,      0.2032,      0.2042,     0.20521,     0.20621,     0.20721,     0.20821,     0.20921,     0.21021,     0.21121,     0.21221,     0.21321,     0.21421,     0.21522,\n",
       "           0.21622,     0.21722,     0.21822,     0.21922,     0.22022,     0.22122,     0.22222,     0.22322,     0.22422,     0.22523,     0.22623,     0.22723,     0.22823,     0.22923,     0.23023,     0.23123,     0.23223,     0.23323,     0.23423,     0.23524,     0.23624,     0.23724,     0.23824,     0.23924,\n",
       "           0.24024,     0.24124,     0.24224,     0.24324,     0.24424,     0.24525,     0.24625,     0.24725,     0.24825,     0.24925,     0.25025,     0.25125,     0.25225,     0.25325,     0.25425,     0.25526,     0.25626,     0.25726,     0.25826,     0.25926,     0.26026,     0.26126,     0.26226,     0.26326,\n",
       "           0.26426,     0.26527,     0.26627,     0.26727,     0.26827,     0.26927,     0.27027,     0.27127,     0.27227,     0.27327,     0.27427,     0.27528,     0.27628,     0.27728,     0.27828,     0.27928,     0.28028,     0.28128,     0.28228,     0.28328,     0.28428,     0.28529,     0.28629,     0.28729,\n",
       "           0.28829,     0.28929,     0.29029,     0.29129,     0.29229,     0.29329,     0.29429,      0.2953,      0.2963,      0.2973,      0.2983,      0.2993,      0.3003,      0.3013,      0.3023,      0.3033,      0.3043,     0.30531,     0.30631,     0.30731,     0.30831,     0.30931,     0.31031,     0.31131,\n",
       "           0.31231,     0.31331,     0.31431,     0.31532,     0.31632,     0.31732,     0.31832,     0.31932,     0.32032,     0.32132,     0.32232,     0.32332,     0.32432,     0.32533,     0.32633,     0.32733,     0.32833,     0.32933,     0.33033,     0.33133,     0.33233,     0.33333,     0.33433,     0.33534,\n",
       "           0.33634,     0.33734,     0.33834,     0.33934,     0.34034,     0.34134,     0.34234,     0.34334,     0.34434,     0.34535,     0.34635,     0.34735,     0.34835,     0.34935,     0.35035,     0.35135,     0.35235,     0.35335,     0.35435,     0.35536,     0.35636,     0.35736,     0.35836,     0.35936,\n",
       "           0.36036,     0.36136,     0.36236,     0.36336,     0.36436,     0.36537,     0.36637,     0.36737,     0.36837,     0.36937,     0.37037,     0.37137,     0.37237,     0.37337,     0.37437,     0.37538,     0.37638,     0.37738,     0.37838,     0.37938,     0.38038,     0.38138,     0.38238,     0.38338,\n",
       "           0.38438,     0.38539,     0.38639,     0.38739,     0.38839,     0.38939,     0.39039,     0.39139,     0.39239,     0.39339,     0.39439,      0.3954,      0.3964,      0.3974,      0.3984,      0.3994,      0.4004,      0.4014,      0.4024,      0.4034,      0.4044,     0.40541,     0.40641,     0.40741,\n",
       "           0.40841,     0.40941,     0.41041,     0.41141,     0.41241,     0.41341,     0.41441,     0.41542,     0.41642,     0.41742,     0.41842,     0.41942,     0.42042,     0.42142,     0.42242,     0.42342,     0.42442,     0.42543,     0.42643,     0.42743,     0.42843,     0.42943,     0.43043,     0.43143,\n",
       "           0.43243,     0.43343,     0.43443,     0.43544,     0.43644,     0.43744,     0.43844,     0.43944,     0.44044,     0.44144,     0.44244,     0.44344,     0.44444,     0.44545,     0.44645,     0.44745,     0.44845,     0.44945,     0.45045,     0.45145,     0.45245,     0.45345,     0.45445,     0.45546,\n",
       "           0.45646,     0.45746,     0.45846,     0.45946,     0.46046,     0.46146,     0.46246,     0.46346,     0.46446,     0.46547,     0.46647,     0.46747,     0.46847,     0.46947,     0.47047,     0.47147,     0.47247,     0.47347,     0.47447,     0.47548,     0.47648,     0.47748,     0.47848,     0.47948,\n",
       "           0.48048,     0.48148,     0.48248,     0.48348,     0.48448,     0.48549,     0.48649,     0.48749,     0.48849,     0.48949,     0.49049,     0.49149,     0.49249,     0.49349,     0.49449,      0.4955,      0.4965,      0.4975,      0.4985,      0.4995,      0.5005,      0.5015,      0.5025,      0.5035,\n",
       "            0.5045,     0.50551,     0.50651,     0.50751,     0.50851,     0.50951,     0.51051,     0.51151,     0.51251,     0.51351,     0.51451,     0.51552,     0.51652,     0.51752,     0.51852,     0.51952,     0.52052,     0.52152,     0.52252,     0.52352,     0.52452,     0.52553,     0.52653,     0.52753,\n",
       "           0.52853,     0.52953,     0.53053,     0.53153,     0.53253,     0.53353,     0.53453,     0.53554,     0.53654,     0.53754,     0.53854,     0.53954,     0.54054,     0.54154,     0.54254,     0.54354,     0.54454,     0.54555,     0.54655,     0.54755,     0.54855,     0.54955,     0.55055,     0.55155,\n",
       "           0.55255,     0.55355,     0.55455,     0.55556,     0.55656,     0.55756,     0.55856,     0.55956,     0.56056,     0.56156,     0.56256,     0.56356,     0.56456,     0.56557,     0.56657,     0.56757,     0.56857,     0.56957,     0.57057,     0.57157,     0.57257,     0.57357,     0.57457,     0.57558,\n",
       "           0.57658,     0.57758,     0.57858,     0.57958,     0.58058,     0.58158,     0.58258,     0.58358,     0.58458,     0.58559,     0.58659,     0.58759,     0.58859,     0.58959,     0.59059,     0.59159,     0.59259,     0.59359,     0.59459,      0.5956,      0.5966,      0.5976,      0.5986,      0.5996,\n",
       "            0.6006,      0.6016,      0.6026,      0.6036,      0.6046,     0.60561,     0.60661,     0.60761,     0.60861,     0.60961,     0.61061,     0.61161,     0.61261,     0.61361,     0.61461,     0.61562,     0.61662,     0.61762,     0.61862,     0.61962,     0.62062,     0.62162,     0.62262,     0.62362,\n",
       "           0.62462,     0.62563,     0.62663,     0.62763,     0.62863,     0.62963,     0.63063,     0.63163,     0.63263,     0.63363,     0.63463,     0.63564,     0.63664,     0.63764,     0.63864,     0.63964,     0.64064,     0.64164,     0.64264,     0.64364,     0.64464,     0.64565,     0.64665,     0.64765,\n",
       "           0.64865,     0.64965,     0.65065,     0.65165,     0.65265,     0.65365,     0.65465,     0.65566,     0.65666,     0.65766,     0.65866,     0.65966,     0.66066,     0.66166,     0.66266,     0.66366,     0.66466,     0.66567,     0.66667,     0.66767,     0.66867,     0.66967,     0.67067,     0.67167,\n",
       "           0.67267,     0.67367,     0.67467,     0.67568,     0.67668,     0.67768,     0.67868,     0.67968,     0.68068,     0.68168,     0.68268,     0.68368,     0.68468,     0.68569,     0.68669,     0.68769,     0.68869,     0.68969,     0.69069,     0.69169,     0.69269,     0.69369,     0.69469,      0.6957,\n",
       "            0.6967,      0.6977,      0.6987,      0.6997,      0.7007,      0.7017,      0.7027,      0.7037,      0.7047,     0.70571,     0.70671,     0.70771,     0.70871,     0.70971,     0.71071,     0.71171,     0.71271,     0.71371,     0.71471,     0.71572,     0.71672,     0.71772,     0.71872,     0.71972,\n",
       "           0.72072,     0.72172,     0.72272,     0.72372,     0.72472,     0.72573,     0.72673,     0.72773,     0.72873,     0.72973,     0.73073,     0.73173,     0.73273,     0.73373,     0.73473,     0.73574,     0.73674,     0.73774,     0.73874,     0.73974,     0.74074,     0.74174,     0.74274,     0.74374,\n",
       "           0.74474,     0.74575,     0.74675,     0.74775,     0.74875,     0.74975,     0.75075,     0.75175,     0.75275,     0.75375,     0.75475,     0.75576,     0.75676,     0.75776,     0.75876,     0.75976,     0.76076,     0.76176,     0.76276,     0.76376,     0.76476,     0.76577,     0.76677,     0.76777,\n",
       "           0.76877,     0.76977,     0.77077,     0.77177,     0.77277,     0.77377,     0.77477,     0.77578,     0.77678,     0.77778,     0.77878,     0.77978,     0.78078,     0.78178,     0.78278,     0.78378,     0.78478,     0.78579,     0.78679,     0.78779,     0.78879,     0.78979,     0.79079,     0.79179,\n",
       "           0.79279,     0.79379,     0.79479,      0.7958,      0.7968,      0.7978,      0.7988,      0.7998,      0.8008,      0.8018,      0.8028,      0.8038,      0.8048,     0.80581,     0.80681,     0.80781,     0.80881,     0.80981,     0.81081,     0.81181,     0.81281,     0.81381,     0.81481,     0.81582,\n",
       "           0.81682,     0.81782,     0.81882,     0.81982,     0.82082,     0.82182,     0.82282,     0.82382,     0.82482,     0.82583,     0.82683,     0.82783,     0.82883,     0.82983,     0.83083,     0.83183,     0.83283,     0.83383,     0.83483,     0.83584,     0.83684,     0.83784,     0.83884,     0.83984,\n",
       "           0.84084,     0.84184,     0.84284,     0.84384,     0.84484,     0.84585,     0.84685,     0.84785,     0.84885,     0.84985,     0.85085,     0.85185,     0.85285,     0.85385,     0.85485,     0.85586,     0.85686,     0.85786,     0.85886,     0.85986,     0.86086,     0.86186,     0.86286,     0.86386,\n",
       "           0.86486,     0.86587,     0.86687,     0.86787,     0.86887,     0.86987,     0.87087,     0.87187,     0.87287,     0.87387,     0.87487,     0.87588,     0.87688,     0.87788,     0.87888,     0.87988,     0.88088,     0.88188,     0.88288,     0.88388,     0.88488,     0.88589,     0.88689,     0.88789,\n",
       "           0.88889,     0.88989,     0.89089,     0.89189,     0.89289,     0.89389,     0.89489,      0.8959,      0.8969,      0.8979,      0.8989,      0.8999,      0.9009,      0.9019,      0.9029,      0.9039,      0.9049,     0.90591,     0.90691,     0.90791,     0.90891,     0.90991,     0.91091,     0.91191,\n",
       "           0.91291,     0.91391,     0.91491,     0.91592,     0.91692,     0.91792,     0.91892,     0.91992,     0.92092,     0.92192,     0.92292,     0.92392,     0.92492,     0.92593,     0.92693,     0.92793,     0.92893,     0.92993,     0.93093,     0.93193,     0.93293,     0.93393,     0.93493,     0.93594,\n",
       "           0.93694,     0.93794,     0.93894,     0.93994,     0.94094,     0.94194,     0.94294,     0.94394,     0.94494,     0.94595,     0.94695,     0.94795,     0.94895,     0.94995,     0.95095,     0.95195,     0.95295,     0.95395,     0.95495,     0.95596,     0.95696,     0.95796,     0.95896,     0.95996,\n",
       "           0.96096,     0.96196,     0.96296,     0.96396,     0.96496,     0.96597,     0.96697,     0.96797,     0.96897,     0.96997,     0.97097,     0.97197,     0.97297,     0.97397,     0.97497,     0.97598,     0.97698,     0.97798,     0.97898,     0.97998,     0.98098,     0.98198,     0.98298,     0.98398,\n",
       "           0.98498,     0.98599,     0.98699,     0.98799,     0.98899,     0.98999,     0.99099,     0.99199,     0.99299,     0.99399,     0.99499,       0.996,       0.997,       0.998,       0.999,           1]), array([[  0.0066445,   0.0066445,   0.0088247,    0.021445,    0.026118,     0.02806,    0.031498,    0.039009,    0.054637,      0.1037,     0.24617,     0.46442,     0.65395,     0.71975,     0.90147,     0.94122,     0.94128,     0.94135,     0.94142,     0.94148,     0.94155,     0.94162,     0.94168,\n",
       "            0.94175,     0.94182,     0.94188,     0.94195,     0.94202,     0.94208,     0.94215,     0.94222,     0.94228,     0.94235,     0.94241,     0.94248,     0.94255,     0.94261,     0.94268,     0.94275,     0.94281,     0.94288,     0.94295,     0.94301,     0.94308,     0.94314,     0.94321,\n",
       "            0.94328,     0.94334,     0.94341,     0.94348,     0.94354,     0.94361,     0.94367,     0.94374,     0.94381,     0.94387,     0.94394,     0.94401,     0.94407,     0.94414,      0.9442,     0.94427,     0.94434,      0.9444,     0.94447,     0.94454,      0.9446,     0.94467,     0.94473,\n",
       "             0.9448,     0.94487,     0.94493,       0.945,     0.94506,     0.94513,      0.9452,     0.94526,     0.94533,     0.94539,     0.94546,     0.94553,     0.94559,     0.94566,     0.94572,     0.94579,     0.94586,     0.94592,     0.94599,     0.94605,     0.94612,     0.94619,     0.94625,\n",
       "            0.94632,     0.94638,     0.94645,     0.94652,     0.94658,     0.94665,     0.94671,     0.94678,     0.94684,     0.94691,     0.94698,     0.94704,     0.94711,     0.94717,     0.94724,     0.94731,     0.94737,     0.94744,      0.9475,     0.94757,     0.94763,      0.9477,     0.94777,\n",
       "            0.94783,      0.9479,     0.94796,     0.94803,     0.94809,     0.94816,     0.94823,     0.94829,     0.94836,     0.94842,     0.94849,     0.94855,     0.94862,     0.94868,     0.94875,     0.94882,     0.94888,     0.94895,     0.94901,     0.94908,     0.94914,     0.94921,     0.94928,\n",
       "            0.94934,     0.94941,     0.94947,     0.94954,      0.9496,     0.94967,     0.94973,      0.9498,     0.94986,     0.94993,        0.95,     0.95006,     0.95013,     0.95019,     0.95026,     0.95032,     0.95039,     0.95045,     0.95052,     0.95058,     0.95065,     0.95072,     0.95078,\n",
       "            0.95085,     0.95091,     0.95098,     0.95104,     0.95111,     0.95117,     0.95124,      0.9513,     0.95137,     0.95143,      0.9515,     0.95156,     0.95163,     0.95169,     0.95176,     0.95183,     0.95189,     0.95196,     0.95202,     0.95209,     0.95215,     0.95222,     0.95228,\n",
       "            0.95235,     0.95241,     0.95248,     0.95254,     0.95261,     0.95267,     0.95274,      0.9528,     0.95287,     0.95293,       0.953,     0.95306,     0.95313,     0.95319,     0.95326,     0.95332,     0.95339,     0.95345,     0.95352,     0.95358,     0.95365,     0.95371,     0.95378,\n",
       "            0.95384,     0.95391,     0.95397,     0.95404,      0.9541,     0.95417,     0.95423,      0.9543,     0.95436,     0.95443,     0.95449,     0.95456,     0.95462,     0.95469,     0.95475,     0.95482,     0.95488,     0.95495,     0.95501,     0.95508,     0.95514,     0.95521,     0.95527,\n",
       "            0.95534,      0.9554,     0.95546,     0.95553,     0.95559,     0.95566,     0.95572,     0.95579,     0.95585,     0.95592,     0.95598,     0.95605,     0.95611,     0.95618,     0.95624,     0.95631,     0.95637,     0.95644,      0.9565,     0.95656,     0.95663,     0.95669,     0.95676,\n",
       "            0.95682,     0.95689,     0.95695,     0.95702,     0.95708,     0.95715,     0.95721,     0.95728,     0.95734,      0.9574,     0.95747,     0.95753,      0.9576,     0.95766,     0.95773,     0.95779,     0.95786,     0.95792,     0.95798,     0.95805,     0.95811,     0.95818,     0.95824,\n",
       "            0.95831,     0.95837,     0.95844,      0.9585,     0.95856,     0.95863,     0.95869,     0.95876,     0.95882,     0.95889,     0.95895,     0.95901,     0.95908,     0.95914,     0.95921,     0.95927,     0.95934,      0.9594,     0.95947,     0.95953,     0.95959,     0.95966,     0.95972,\n",
       "            0.95979,     0.95985,     0.95991,     0.95998,     0.96004,     0.96011,     0.96017,     0.96024,      0.9603,     0.96036,     0.96043,     0.96049,     0.96056,     0.96062,     0.96068,     0.96075,     0.96081,     0.96088,     0.96094,     0.96101,     0.96107,     0.96113,      0.9612,\n",
       "            0.96126,     0.96133,     0.96139,     0.96145,     0.96152,     0.96158,     0.96165,     0.96171,     0.96177,     0.96184,      0.9619,     0.96197,     0.96203,     0.96209,     0.96216,     0.96222,     0.96229,     0.96235,     0.96241,     0.96248,     0.96254,      0.9626,     0.96267,\n",
       "            0.96273,      0.9628,     0.96286,     0.96292,     0.96299,     0.96305,     0.96312,     0.96318,     0.96324,     0.96331,     0.96337,     0.96343,      0.9635,     0.96356,     0.96363,     0.96369,     0.96375,     0.96382,     0.96388,     0.96394,     0.96401,     0.96407,     0.96414,\n",
       "             0.9642,     0.96426,     0.96433,     0.96439,     0.96445,     0.96452,     0.96458,     0.96465,     0.96471,     0.96477,     0.96484,      0.9649,     0.96496,     0.96503,     0.96509,     0.96515,     0.96522,     0.96528,     0.96534,     0.96541,     0.96547,     0.96554,      0.9656,\n",
       "            0.96566,     0.96573,     0.96579,     0.96585,     0.96592,     0.96598,     0.96604,     0.96611,     0.96617,     0.96623,      0.9663,     0.96636,     0.96642,     0.96649,     0.96655,     0.96661,     0.96668,     0.96674,      0.9668,     0.96687,     0.96693,     0.96699,     0.96706,\n",
       "            0.96712,     0.96718,     0.96725,     0.96731,     0.96737,     0.96744,      0.9675,     0.96756,     0.96763,     0.96769,     0.96775,     0.96782,     0.96788,     0.96794,     0.96801,     0.96807,     0.96813,      0.9682,     0.96826,     0.96832,     0.96839,     0.96845,     0.96851,\n",
       "            0.96858,     0.96864,      0.9687,     0.96877,     0.96883,     0.96889,     0.96895,     0.96902,     0.96908,     0.96914,     0.96921,     0.96927,     0.96933,      0.9694,     0.96946,     0.96952,     0.96959,     0.96965,     0.96971,     0.96977,     0.96984,      0.9699,     0.96996,\n",
       "            0.97003,     0.97009,     0.97015,     0.97022,     0.97028,     0.97034,      0.9704,     0.97047,     0.97053,     0.97059,     0.97066,     0.97072,     0.97078,     0.97084,     0.97091,     0.97097,     0.97103,      0.9711,     0.97116,     0.97122,     0.97128,     0.97135,     0.97141,\n",
       "            0.97147,     0.97154,      0.9716,     0.97166,     0.97172,     0.97179,     0.97185,     0.97191,     0.97197,     0.97204,      0.9721,     0.97216,     0.97223,     0.97229,     0.97235,     0.97241,     0.97248,     0.97254,      0.9726,     0.97266,     0.97273,     0.97279,     0.97285,\n",
       "            0.97292,     0.97298,     0.97304,      0.9731,     0.97317,     0.97323,     0.97329,     0.97335,     0.97342,     0.97348,     0.97354,      0.9736,     0.97367,     0.97373,     0.97379,     0.97385,     0.97392,     0.97398,     0.97404,      0.9741,     0.97417,     0.97423,     0.97429,\n",
       "            0.97435,     0.97442,     0.97448,     0.97454,      0.9746,     0.97467,     0.97473,     0.97479,     0.97485,     0.97492,     0.97498,     0.97504,      0.9751,     0.97516,     0.97523,     0.97529,     0.97535,     0.97541,     0.97548,     0.97554,      0.9756,     0.97566,     0.97573,\n",
       "            0.97579,     0.97585,     0.97591,     0.97597,     0.97604,      0.9761,     0.97616,     0.97622,     0.97629,     0.97635,     0.97641,     0.97647,     0.97653,      0.9766,     0.97666,     0.97672,     0.97678,     0.97685,     0.97691,     0.97697,     0.97703,     0.97709,     0.97716,\n",
       "            0.97722,     0.97728,     0.97734,      0.9774,     0.97747,     0.97753,     0.97759,     0.97765,     0.97771,     0.97778,     0.97784,      0.9779,     0.97796,     0.97802,     0.97809,     0.97815,     0.97821,     0.97827,     0.97833,      0.9784,     0.97846,     0.97852,     0.97858,\n",
       "            0.97864,     0.97871,     0.97877,     0.97883,     0.97889,     0.97895,     0.97902,     0.97908,     0.97914,      0.9792,     0.97926,     0.97932,     0.97939,     0.97945,     0.97951,     0.97957,     0.97963,      0.9797,     0.97976,     0.97982,     0.97988,     0.97994,        0.98,\n",
       "            0.98007,     0.98013,     0.98019,     0.98025,     0.98031,     0.98038,     0.98044,      0.9805,     0.98056,     0.98062,     0.98068,     0.98075,     0.98081,     0.98087,     0.98093,     0.98099,     0.98105,     0.98112,     0.98118,     0.98124,      0.9813,     0.98136,     0.98142,\n",
       "            0.98148,     0.98155,     0.98161,     0.98167,     0.98173,     0.98179,     0.98185,     0.98192,     0.98198,     0.98204,      0.9821,     0.98216,     0.98222,     0.98228,     0.98235,     0.98241,     0.98247,     0.98253,     0.98259,     0.98265,     0.98272,     0.98278,     0.98284,\n",
       "             0.9829,     0.98296,     0.98302,     0.98308,     0.98314,     0.98321,     0.98327,     0.98333,     0.98339,     0.98345,     0.98351,     0.98357,     0.98364,      0.9837,     0.98376,     0.98382,     0.98388,     0.98394,       0.984,     0.98406,     0.98413,     0.98419,     0.98425,\n",
       "            0.98431,     0.98437,     0.98443,     0.98449,     0.98455,     0.98462,     0.98468,     0.98474,      0.9848,     0.98486,     0.98492,     0.98498,     0.98504,     0.98511,     0.98517,     0.98523,     0.98529,     0.98535,     0.98541,     0.98547,     0.98553,     0.98559,     0.98566,\n",
       "            0.98572,     0.98578,     0.98584,      0.9859,     0.98596,     0.98602,     0.98608,     0.98614,      0.9862,     0.98627,     0.98633,     0.98639,     0.98645,     0.98651,     0.98657,     0.98663,     0.98669,     0.98675,     0.98681,     0.98688,     0.98694,       0.987,     0.98706,\n",
       "            0.98712,     0.98718,     0.98724,      0.9873,     0.98736,     0.98742,     0.98748,     0.98755,     0.98761,     0.98767,     0.98773,     0.98779,     0.98785,     0.98791,     0.98797,     0.98803,     0.98809,     0.98815,     0.98821,     0.98828,     0.98834,      0.9884,     0.98846,\n",
       "            0.98852,     0.98858,     0.98864,      0.9887,     0.98876,     0.98882,     0.98888,     0.98894,       0.989,     0.98906,     0.98913,     0.98919,     0.98925,     0.98931,     0.98937,     0.98943,     0.98949,     0.98955,     0.98961,     0.98967,     0.98973,     0.98979,     0.98985,\n",
       "            0.98991,     0.98997,     0.99003,     0.99009,     0.99016,     0.99022,     0.99028,     0.99034,      0.9904,     0.99046,     0.99052,     0.99058,     0.99064,      0.9907,     0.99076,     0.99082,     0.99088,     0.99094,       0.991,     0.99106,     0.99112,     0.99118,     0.99124,\n",
       "             0.9913,     0.99136,     0.99142,     0.99149,     0.99155,     0.99161,     0.99167,     0.99173,     0.99179,     0.99185,     0.99191,     0.99197,     0.99203,     0.99209,     0.99215,     0.99221,     0.99227,     0.99233,     0.99239,     0.99245,     0.99251,     0.99257,     0.99263,\n",
       "            0.99269,     0.99275,     0.99281,     0.99287,     0.99293,     0.99299,     0.99305,     0.99311,     0.99317,     0.99323,     0.99329,     0.99335,     0.99341,     0.99347,     0.99353,     0.99359,     0.99365,     0.99371,     0.99377,     0.99383,     0.99389,     0.99395,     0.99401,\n",
       "            0.99407,     0.99414,      0.9942,     0.99426,     0.99432,     0.99438,     0.99444,      0.9945,     0.99456,     0.99462,     0.99468,     0.99474,      0.9948,     0.99486,     0.99492,     0.99498,     0.99504,      0.9951,     0.99516,     0.99521,     0.99527,     0.99533,     0.99539,\n",
       "            0.99545,     0.99551,     0.99557,     0.99563,     0.99569,     0.99575,     0.99581,     0.99587,     0.99593,     0.99599,     0.99605,     0.99611,     0.99617,     0.99623,     0.99629,     0.99635,     0.99641,     0.99647,     0.99653,     0.99659,     0.99665,     0.99671,     0.99677,\n",
       "            0.99683,     0.99689,     0.99695,     0.99701,     0.99707,     0.99713,     0.99719,     0.99725,     0.99731,     0.99737,     0.99743,     0.99749,     0.99755,     0.99761,     0.99767,     0.99773,     0.99779,     0.99785,      0.9979,     0.99796,     0.99802,     0.99808,     0.99814,\n",
       "             0.9982,     0.99826,     0.99832,     0.99838,     0.99844,      0.9985,     0.99856,     0.99862,     0.99868,     0.99874,      0.9988,     0.99886,     0.99892,     0.99898,     0.99904,      0.9991,     0.99916,     0.99921,     0.99927,     0.99933,     0.99939,     0.99945,     0.99951,\n",
       "            0.99957,     0.99963,     0.99969,     0.99975,     0.99981,     0.99987,     0.99993,     0.99999,     0.99282,     0.98345,      0.9739,     0.96417,     0.95426,     0.94415,     0.93385,     0.90974,     0.88375,     0.85682,     0.84269,     0.82821,     0.81336,     0.79814,     0.78251,\n",
       "            0.76592,      0.7461,     0.72562,     0.70447,      0.6826,      0.6625,     0.64802,     0.63322,     0.61809,     0.60263,     0.58682,     0.57064,     0.55409,     0.40016,     0.38861,     0.37706,     0.36534,     0.35345,     0.34138,     0.32914,     0.31671,      0.3041,     0.29129,\n",
       "             0.2783,      0.2651,      0.2517,     0.23809,     0.22427,           0,           0,           0,           0,           0,           0]]), 'Confidence', 'F1'], [array([          0,    0.001001,    0.002002,    0.003003,    0.004004,    0.005005,    0.006006,    0.007007,    0.008008,    0.009009,     0.01001,    0.011011,    0.012012,    0.013013,    0.014014,    0.015015,    0.016016,    0.017017,    0.018018,    0.019019,     0.02002,    0.021021,    0.022022,    0.023023,\n",
       "          0.024024,    0.025025,    0.026026,    0.027027,    0.028028,    0.029029,     0.03003,    0.031031,    0.032032,    0.033033,    0.034034,    0.035035,    0.036036,    0.037037,    0.038038,    0.039039,     0.04004,    0.041041,    0.042042,    0.043043,    0.044044,    0.045045,    0.046046,    0.047047,\n",
       "          0.048048,    0.049049,     0.05005,    0.051051,    0.052052,    0.053053,    0.054054,    0.055055,    0.056056,    0.057057,    0.058058,    0.059059,     0.06006,    0.061061,    0.062062,    0.063063,    0.064064,    0.065065,    0.066066,    0.067067,    0.068068,    0.069069,     0.07007,    0.071071,\n",
       "          0.072072,    0.073073,    0.074074,    0.075075,    0.076076,    0.077077,    0.078078,    0.079079,     0.08008,    0.081081,    0.082082,    0.083083,    0.084084,    0.085085,    0.086086,    0.087087,    0.088088,    0.089089,     0.09009,    0.091091,    0.092092,    0.093093,    0.094094,    0.095095,\n",
       "          0.096096,    0.097097,    0.098098,    0.099099,      0.1001,      0.1011,      0.1021,      0.1031,      0.1041,     0.10511,     0.10611,     0.10711,     0.10811,     0.10911,     0.11011,     0.11111,     0.11211,     0.11311,     0.11411,     0.11512,     0.11612,     0.11712,     0.11812,     0.11912,\n",
       "           0.12012,     0.12112,     0.12212,     0.12312,     0.12412,     0.12513,     0.12613,     0.12713,     0.12813,     0.12913,     0.13013,     0.13113,     0.13213,     0.13313,     0.13413,     0.13514,     0.13614,     0.13714,     0.13814,     0.13914,     0.14014,     0.14114,     0.14214,     0.14314,\n",
       "           0.14414,     0.14515,     0.14615,     0.14715,     0.14815,     0.14915,     0.15015,     0.15115,     0.15215,     0.15315,     0.15415,     0.15516,     0.15616,     0.15716,     0.15816,     0.15916,     0.16016,     0.16116,     0.16216,     0.16316,     0.16416,     0.16517,     0.16617,     0.16717,\n",
       "           0.16817,     0.16917,     0.17017,     0.17117,     0.17217,     0.17317,     0.17417,     0.17518,     0.17618,     0.17718,     0.17818,     0.17918,     0.18018,     0.18118,     0.18218,     0.18318,     0.18418,     0.18519,     0.18619,     0.18719,     0.18819,     0.18919,     0.19019,     0.19119,\n",
       "           0.19219,     0.19319,     0.19419,      0.1952,      0.1962,      0.1972,      0.1982,      0.1992,      0.2002,      0.2012,      0.2022,      0.2032,      0.2042,     0.20521,     0.20621,     0.20721,     0.20821,     0.20921,     0.21021,     0.21121,     0.21221,     0.21321,     0.21421,     0.21522,\n",
       "           0.21622,     0.21722,     0.21822,     0.21922,     0.22022,     0.22122,     0.22222,     0.22322,     0.22422,     0.22523,     0.22623,     0.22723,     0.22823,     0.22923,     0.23023,     0.23123,     0.23223,     0.23323,     0.23423,     0.23524,     0.23624,     0.23724,     0.23824,     0.23924,\n",
       "           0.24024,     0.24124,     0.24224,     0.24324,     0.24424,     0.24525,     0.24625,     0.24725,     0.24825,     0.24925,     0.25025,     0.25125,     0.25225,     0.25325,     0.25425,     0.25526,     0.25626,     0.25726,     0.25826,     0.25926,     0.26026,     0.26126,     0.26226,     0.26326,\n",
       "           0.26426,     0.26527,     0.26627,     0.26727,     0.26827,     0.26927,     0.27027,     0.27127,     0.27227,     0.27327,     0.27427,     0.27528,     0.27628,     0.27728,     0.27828,     0.27928,     0.28028,     0.28128,     0.28228,     0.28328,     0.28428,     0.28529,     0.28629,     0.28729,\n",
       "           0.28829,     0.28929,     0.29029,     0.29129,     0.29229,     0.29329,     0.29429,      0.2953,      0.2963,      0.2973,      0.2983,      0.2993,      0.3003,      0.3013,      0.3023,      0.3033,      0.3043,     0.30531,     0.30631,     0.30731,     0.30831,     0.30931,     0.31031,     0.31131,\n",
       "           0.31231,     0.31331,     0.31431,     0.31532,     0.31632,     0.31732,     0.31832,     0.31932,     0.32032,     0.32132,     0.32232,     0.32332,     0.32432,     0.32533,     0.32633,     0.32733,     0.32833,     0.32933,     0.33033,     0.33133,     0.33233,     0.33333,     0.33433,     0.33534,\n",
       "           0.33634,     0.33734,     0.33834,     0.33934,     0.34034,     0.34134,     0.34234,     0.34334,     0.34434,     0.34535,     0.34635,     0.34735,     0.34835,     0.34935,     0.35035,     0.35135,     0.35235,     0.35335,     0.35435,     0.35536,     0.35636,     0.35736,     0.35836,     0.35936,\n",
       "           0.36036,     0.36136,     0.36236,     0.36336,     0.36436,     0.36537,     0.36637,     0.36737,     0.36837,     0.36937,     0.37037,     0.37137,     0.37237,     0.37337,     0.37437,     0.37538,     0.37638,     0.37738,     0.37838,     0.37938,     0.38038,     0.38138,     0.38238,     0.38338,\n",
       "           0.38438,     0.38539,     0.38639,     0.38739,     0.38839,     0.38939,     0.39039,     0.39139,     0.39239,     0.39339,     0.39439,      0.3954,      0.3964,      0.3974,      0.3984,      0.3994,      0.4004,      0.4014,      0.4024,      0.4034,      0.4044,     0.40541,     0.40641,     0.40741,\n",
       "           0.40841,     0.40941,     0.41041,     0.41141,     0.41241,     0.41341,     0.41441,     0.41542,     0.41642,     0.41742,     0.41842,     0.41942,     0.42042,     0.42142,     0.42242,     0.42342,     0.42442,     0.42543,     0.42643,     0.42743,     0.42843,     0.42943,     0.43043,     0.43143,\n",
       "           0.43243,     0.43343,     0.43443,     0.43544,     0.43644,     0.43744,     0.43844,     0.43944,     0.44044,     0.44144,     0.44244,     0.44344,     0.44444,     0.44545,     0.44645,     0.44745,     0.44845,     0.44945,     0.45045,     0.45145,     0.45245,     0.45345,     0.45445,     0.45546,\n",
       "           0.45646,     0.45746,     0.45846,     0.45946,     0.46046,     0.46146,     0.46246,     0.46346,     0.46446,     0.46547,     0.46647,     0.46747,     0.46847,     0.46947,     0.47047,     0.47147,     0.47247,     0.47347,     0.47447,     0.47548,     0.47648,     0.47748,     0.47848,     0.47948,\n",
       "           0.48048,     0.48148,     0.48248,     0.48348,     0.48448,     0.48549,     0.48649,     0.48749,     0.48849,     0.48949,     0.49049,     0.49149,     0.49249,     0.49349,     0.49449,      0.4955,      0.4965,      0.4975,      0.4985,      0.4995,      0.5005,      0.5015,      0.5025,      0.5035,\n",
       "            0.5045,     0.50551,     0.50651,     0.50751,     0.50851,     0.50951,     0.51051,     0.51151,     0.51251,     0.51351,     0.51451,     0.51552,     0.51652,     0.51752,     0.51852,     0.51952,     0.52052,     0.52152,     0.52252,     0.52352,     0.52452,     0.52553,     0.52653,     0.52753,\n",
       "           0.52853,     0.52953,     0.53053,     0.53153,     0.53253,     0.53353,     0.53453,     0.53554,     0.53654,     0.53754,     0.53854,     0.53954,     0.54054,     0.54154,     0.54254,     0.54354,     0.54454,     0.54555,     0.54655,     0.54755,     0.54855,     0.54955,     0.55055,     0.55155,\n",
       "           0.55255,     0.55355,     0.55455,     0.55556,     0.55656,     0.55756,     0.55856,     0.55956,     0.56056,     0.56156,     0.56256,     0.56356,     0.56456,     0.56557,     0.56657,     0.56757,     0.56857,     0.56957,     0.57057,     0.57157,     0.57257,     0.57357,     0.57457,     0.57558,\n",
       "           0.57658,     0.57758,     0.57858,     0.57958,     0.58058,     0.58158,     0.58258,     0.58358,     0.58458,     0.58559,     0.58659,     0.58759,     0.58859,     0.58959,     0.59059,     0.59159,     0.59259,     0.59359,     0.59459,      0.5956,      0.5966,      0.5976,      0.5986,      0.5996,\n",
       "            0.6006,      0.6016,      0.6026,      0.6036,      0.6046,     0.60561,     0.60661,     0.60761,     0.60861,     0.60961,     0.61061,     0.61161,     0.61261,     0.61361,     0.61461,     0.61562,     0.61662,     0.61762,     0.61862,     0.61962,     0.62062,     0.62162,     0.62262,     0.62362,\n",
       "           0.62462,     0.62563,     0.62663,     0.62763,     0.62863,     0.62963,     0.63063,     0.63163,     0.63263,     0.63363,     0.63463,     0.63564,     0.63664,     0.63764,     0.63864,     0.63964,     0.64064,     0.64164,     0.64264,     0.64364,     0.64464,     0.64565,     0.64665,     0.64765,\n",
       "           0.64865,     0.64965,     0.65065,     0.65165,     0.65265,     0.65365,     0.65465,     0.65566,     0.65666,     0.65766,     0.65866,     0.65966,     0.66066,     0.66166,     0.66266,     0.66366,     0.66466,     0.66567,     0.66667,     0.66767,     0.66867,     0.66967,     0.67067,     0.67167,\n",
       "           0.67267,     0.67367,     0.67467,     0.67568,     0.67668,     0.67768,     0.67868,     0.67968,     0.68068,     0.68168,     0.68268,     0.68368,     0.68468,     0.68569,     0.68669,     0.68769,     0.68869,     0.68969,     0.69069,     0.69169,     0.69269,     0.69369,     0.69469,      0.6957,\n",
       "            0.6967,      0.6977,      0.6987,      0.6997,      0.7007,      0.7017,      0.7027,      0.7037,      0.7047,     0.70571,     0.70671,     0.70771,     0.70871,     0.70971,     0.71071,     0.71171,     0.71271,     0.71371,     0.71471,     0.71572,     0.71672,     0.71772,     0.71872,     0.71972,\n",
       "           0.72072,     0.72172,     0.72272,     0.72372,     0.72472,     0.72573,     0.72673,     0.72773,     0.72873,     0.72973,     0.73073,     0.73173,     0.73273,     0.73373,     0.73473,     0.73574,     0.73674,     0.73774,     0.73874,     0.73974,     0.74074,     0.74174,     0.74274,     0.74374,\n",
       "           0.74474,     0.74575,     0.74675,     0.74775,     0.74875,     0.74975,     0.75075,     0.75175,     0.75275,     0.75375,     0.75475,     0.75576,     0.75676,     0.75776,     0.75876,     0.75976,     0.76076,     0.76176,     0.76276,     0.76376,     0.76476,     0.76577,     0.76677,     0.76777,\n",
       "           0.76877,     0.76977,     0.77077,     0.77177,     0.77277,     0.77377,     0.77477,     0.77578,     0.77678,     0.77778,     0.77878,     0.77978,     0.78078,     0.78178,     0.78278,     0.78378,     0.78478,     0.78579,     0.78679,     0.78779,     0.78879,     0.78979,     0.79079,     0.79179,\n",
       "           0.79279,     0.79379,     0.79479,      0.7958,      0.7968,      0.7978,      0.7988,      0.7998,      0.8008,      0.8018,      0.8028,      0.8038,      0.8048,     0.80581,     0.80681,     0.80781,     0.80881,     0.80981,     0.81081,     0.81181,     0.81281,     0.81381,     0.81481,     0.81582,\n",
       "           0.81682,     0.81782,     0.81882,     0.81982,     0.82082,     0.82182,     0.82282,     0.82382,     0.82482,     0.82583,     0.82683,     0.82783,     0.82883,     0.82983,     0.83083,     0.83183,     0.83283,     0.83383,     0.83483,     0.83584,     0.83684,     0.83784,     0.83884,     0.83984,\n",
       "           0.84084,     0.84184,     0.84284,     0.84384,     0.84484,     0.84585,     0.84685,     0.84785,     0.84885,     0.84985,     0.85085,     0.85185,     0.85285,     0.85385,     0.85485,     0.85586,     0.85686,     0.85786,     0.85886,     0.85986,     0.86086,     0.86186,     0.86286,     0.86386,\n",
       "           0.86486,     0.86587,     0.86687,     0.86787,     0.86887,     0.86987,     0.87087,     0.87187,     0.87287,     0.87387,     0.87487,     0.87588,     0.87688,     0.87788,     0.87888,     0.87988,     0.88088,     0.88188,     0.88288,     0.88388,     0.88488,     0.88589,     0.88689,     0.88789,\n",
       "           0.88889,     0.88989,     0.89089,     0.89189,     0.89289,     0.89389,     0.89489,      0.8959,      0.8969,      0.8979,      0.8989,      0.8999,      0.9009,      0.9019,      0.9029,      0.9039,      0.9049,     0.90591,     0.90691,     0.90791,     0.90891,     0.90991,     0.91091,     0.91191,\n",
       "           0.91291,     0.91391,     0.91491,     0.91592,     0.91692,     0.91792,     0.91892,     0.91992,     0.92092,     0.92192,     0.92292,     0.92392,     0.92492,     0.92593,     0.92693,     0.92793,     0.92893,     0.92993,     0.93093,     0.93193,     0.93293,     0.93393,     0.93493,     0.93594,\n",
       "           0.93694,     0.93794,     0.93894,     0.93994,     0.94094,     0.94194,     0.94294,     0.94394,     0.94494,     0.94595,     0.94695,     0.94795,     0.94895,     0.94995,     0.95095,     0.95195,     0.95295,     0.95395,     0.95495,     0.95596,     0.95696,     0.95796,     0.95896,     0.95996,\n",
       "           0.96096,     0.96196,     0.96296,     0.96396,     0.96496,     0.96597,     0.96697,     0.96797,     0.96897,     0.96997,     0.97097,     0.97197,     0.97297,     0.97397,     0.97497,     0.97598,     0.97698,     0.97798,     0.97898,     0.97998,     0.98098,     0.98198,     0.98298,     0.98398,\n",
       "           0.98498,     0.98599,     0.98699,     0.98799,     0.98899,     0.98999,     0.99099,     0.99199,     0.99299,     0.99399,     0.99499,       0.996,       0.997,       0.998,       0.999,           1]), array([[  0.0033333,   0.0033333,   0.0044319,    0.010839,    0.013232,     0.01423,    0.016001,    0.019892,    0.028086,    0.054685,     0.14036,     0.30244,     0.48583,      0.5622,     0.82062,     0.88896,     0.88908,      0.8892,     0.88932,     0.88944,     0.88956,     0.88968,     0.88979,\n",
       "            0.88991,     0.89003,     0.89015,     0.89027,     0.89039,     0.89051,     0.89063,     0.89074,     0.89086,     0.89098,      0.8911,     0.89122,     0.89134,     0.89146,     0.89158,     0.89169,     0.89181,     0.89193,     0.89205,     0.89217,     0.89229,     0.89241,     0.89252,\n",
       "            0.89264,     0.89276,     0.89288,       0.893,     0.89312,     0.89324,     0.89336,     0.89347,     0.89359,     0.89371,     0.89383,     0.89395,     0.89407,     0.89419,     0.89431,     0.89442,     0.89454,     0.89466,     0.89478,      0.8949,     0.89502,     0.89514,     0.89526,\n",
       "            0.89537,     0.89549,     0.89561,     0.89573,     0.89585,     0.89597,     0.89609,     0.89621,     0.89632,     0.89644,     0.89656,     0.89668,      0.8968,     0.89692,     0.89704,     0.89716,     0.89727,     0.89739,     0.89751,     0.89763,     0.89775,     0.89787,     0.89799,\n",
       "            0.89811,     0.89822,     0.89834,     0.89846,     0.89858,      0.8987,     0.89882,     0.89894,     0.89906,     0.89917,     0.89929,     0.89941,     0.89953,     0.89965,     0.89977,     0.89989,         0.9,     0.90012,     0.90024,     0.90036,     0.90048,      0.9006,     0.90072,\n",
       "            0.90084,     0.90095,     0.90107,     0.90119,     0.90131,     0.90143,     0.90155,     0.90167,     0.90179,      0.9019,     0.90202,     0.90214,     0.90226,     0.90238,      0.9025,     0.90262,     0.90274,     0.90285,     0.90297,     0.90309,     0.90321,     0.90333,     0.90345,\n",
       "            0.90357,     0.90369,      0.9038,     0.90392,     0.90404,     0.90416,     0.90428,      0.9044,     0.90452,     0.90464,     0.90475,     0.90487,     0.90499,     0.90511,     0.90523,     0.90535,     0.90547,     0.90559,      0.9057,     0.90582,     0.90594,     0.90606,     0.90618,\n",
       "             0.9063,     0.90642,     0.90653,     0.90665,     0.90677,     0.90689,     0.90701,     0.90713,     0.90725,     0.90737,     0.90748,      0.9076,     0.90772,     0.90784,     0.90796,     0.90808,      0.9082,     0.90832,     0.90843,     0.90855,     0.90867,     0.90879,     0.90891,\n",
       "            0.90903,     0.90915,     0.90927,     0.90938,      0.9095,     0.90962,     0.90974,     0.90986,     0.90998,      0.9101,     0.91022,     0.91033,     0.91045,     0.91057,     0.91069,     0.91081,     0.91093,     0.91105,     0.91117,     0.91128,      0.9114,     0.91152,     0.91164,\n",
       "            0.91176,     0.91188,       0.912,     0.91212,     0.91223,     0.91235,     0.91247,     0.91259,     0.91271,     0.91283,     0.91295,     0.91306,     0.91318,      0.9133,     0.91342,     0.91354,     0.91366,     0.91378,      0.9139,     0.91401,     0.91413,     0.91425,     0.91437,\n",
       "            0.91449,     0.91461,     0.91473,     0.91485,     0.91496,     0.91508,      0.9152,     0.91532,     0.91544,     0.91556,     0.91568,      0.9158,     0.91591,     0.91603,     0.91615,     0.91627,     0.91639,     0.91651,     0.91663,     0.91675,     0.91686,     0.91698,      0.9171,\n",
       "            0.91722,     0.91734,     0.91746,     0.91758,      0.9177,     0.91781,     0.91793,     0.91805,     0.91817,     0.91829,     0.91841,     0.91853,     0.91865,     0.91876,     0.91888,       0.919,     0.91912,     0.91924,     0.91936,     0.91948,     0.91959,     0.91971,     0.91983,\n",
       "            0.91995,     0.92007,     0.92019,     0.92031,     0.92043,     0.92054,     0.92066,     0.92078,      0.9209,     0.92102,     0.92114,     0.92126,     0.92138,     0.92149,     0.92161,     0.92173,     0.92185,     0.92197,     0.92209,     0.92221,     0.92233,     0.92244,     0.92256,\n",
       "            0.92268,      0.9228,     0.92292,     0.92304,     0.92316,     0.92328,     0.92339,     0.92351,     0.92363,     0.92375,     0.92387,     0.92399,     0.92411,     0.92423,     0.92434,     0.92446,     0.92458,      0.9247,     0.92482,     0.92494,     0.92506,     0.92518,     0.92529,\n",
       "            0.92541,     0.92553,     0.92565,     0.92577,     0.92589,     0.92601,     0.92612,     0.92624,     0.92636,     0.92648,      0.9266,     0.92672,     0.92684,     0.92696,     0.92707,     0.92719,     0.92731,     0.92743,     0.92755,     0.92767,     0.92779,     0.92791,     0.92802,\n",
       "            0.92814,     0.92826,     0.92838,      0.9285,     0.92862,     0.92874,     0.92886,     0.92897,     0.92909,     0.92921,     0.92933,     0.92945,     0.92957,     0.92969,     0.92981,     0.92992,     0.93004,     0.93016,     0.93028,      0.9304,     0.93052,     0.93064,     0.93076,\n",
       "            0.93087,     0.93099,     0.93111,     0.93123,     0.93135,     0.93147,     0.93159,     0.93171,     0.93182,     0.93194,     0.93206,     0.93218,      0.9323,     0.93242,     0.93254,     0.93266,     0.93277,     0.93289,     0.93301,     0.93313,     0.93325,     0.93337,     0.93349,\n",
       "             0.9336,     0.93372,     0.93384,     0.93396,     0.93408,      0.9342,     0.93432,     0.93444,     0.93455,     0.93467,     0.93479,     0.93491,     0.93503,     0.93515,     0.93527,     0.93539,      0.9355,     0.93562,     0.93574,     0.93586,     0.93598,      0.9361,     0.93622,\n",
       "            0.93634,     0.93645,     0.93657,     0.93669,     0.93681,     0.93693,     0.93705,     0.93717,     0.93729,      0.9374,     0.93752,     0.93764,     0.93776,     0.93788,       0.938,     0.93812,     0.93824,     0.93835,     0.93847,     0.93859,     0.93871,     0.93883,     0.93895,\n",
       "            0.93907,     0.93919,      0.9393,     0.93942,     0.93954,     0.93966,     0.93978,      0.9399,     0.94002,     0.94013,     0.94025,     0.94037,     0.94049,     0.94061,     0.94073,     0.94085,     0.94097,     0.94108,      0.9412,     0.94132,     0.94144,     0.94156,     0.94168,\n",
       "             0.9418,     0.94192,     0.94203,     0.94215,     0.94227,     0.94239,     0.94251,     0.94263,     0.94275,     0.94287,     0.94298,      0.9431,     0.94322,     0.94334,     0.94346,     0.94358,      0.9437,     0.94382,     0.94393,     0.94405,     0.94417,     0.94429,     0.94441,\n",
       "            0.94453,     0.94465,     0.94477,     0.94488,       0.945,     0.94512,     0.94524,     0.94536,     0.94548,      0.9456,     0.94572,     0.94583,     0.94595,     0.94607,     0.94619,     0.94631,     0.94643,     0.94655,     0.94666,     0.94678,      0.9469,     0.94702,     0.94714,\n",
       "            0.94726,     0.94738,      0.9475,     0.94761,     0.94773,     0.94785,     0.94797,     0.94809,     0.94821,     0.94833,     0.94845,     0.94856,     0.94868,      0.9488,     0.94892,     0.94904,     0.94916,     0.94928,      0.9494,     0.94951,     0.94963,     0.94975,     0.94987,\n",
       "            0.94999,     0.95011,     0.95023,     0.95035,     0.95046,     0.95058,      0.9507,     0.95082,     0.95094,     0.95106,     0.95118,      0.9513,     0.95141,     0.95153,     0.95165,     0.95177,     0.95189,     0.95201,     0.95213,     0.95225,     0.95236,     0.95248,      0.9526,\n",
       "            0.95272,     0.95284,     0.95296,     0.95308,     0.95319,     0.95331,     0.95343,     0.95355,     0.95367,     0.95379,     0.95391,     0.95403,     0.95414,     0.95426,     0.95438,      0.9545,     0.95462,     0.95474,     0.95486,     0.95498,     0.95509,     0.95521,     0.95533,\n",
       "            0.95545,     0.95557,     0.95569,     0.95581,     0.95593,     0.95604,     0.95616,     0.95628,      0.9564,     0.95652,     0.95664,     0.95676,     0.95688,     0.95699,     0.95711,     0.95723,     0.95735,     0.95747,     0.95759,     0.95771,     0.95783,     0.95794,     0.95806,\n",
       "            0.95818,      0.9583,     0.95842,     0.95854,     0.95866,     0.95878,     0.95889,     0.95901,     0.95913,     0.95925,     0.95937,     0.95949,     0.95961,     0.95973,     0.95984,     0.95996,     0.96008,      0.9602,     0.96032,     0.96044,     0.96056,     0.96067,     0.96079,\n",
       "            0.96091,     0.96103,     0.96115,     0.96127,     0.96139,     0.96151,     0.96162,     0.96174,     0.96186,     0.96198,      0.9621,     0.96222,     0.96234,     0.96246,     0.96257,     0.96269,     0.96281,     0.96293,     0.96305,     0.96317,     0.96329,     0.96341,     0.96352,\n",
       "            0.96364,     0.96376,     0.96388,       0.964,     0.96412,     0.96424,     0.96436,     0.96447,     0.96459,     0.96471,     0.96483,     0.96495,     0.96507,     0.96519,     0.96531,     0.96542,     0.96554,     0.96566,     0.96578,      0.9659,     0.96602,     0.96614,     0.96626,\n",
       "            0.96637,     0.96649,     0.96661,     0.96673,     0.96685,     0.96697,     0.96709,      0.9672,     0.96732,     0.96744,     0.96756,     0.96768,      0.9678,     0.96792,     0.96804,     0.96815,     0.96827,     0.96839,     0.96851,     0.96863,     0.96875,     0.96887,     0.96899,\n",
       "             0.9691,     0.96922,     0.96934,     0.96946,     0.96958,      0.9697,     0.96982,     0.96994,     0.97005,     0.97017,     0.97029,     0.97041,     0.97053,     0.97065,     0.97077,     0.97089,       0.971,     0.97112,     0.97124,     0.97136,     0.97148,      0.9716,     0.97172,\n",
       "            0.97184,     0.97195,     0.97207,     0.97219,     0.97231,     0.97243,     0.97255,     0.97267,     0.97279,      0.9729,     0.97302,     0.97314,     0.97326,     0.97338,      0.9735,     0.97362,     0.97373,     0.97385,     0.97397,     0.97409,     0.97421,     0.97433,     0.97445,\n",
       "            0.97457,     0.97468,      0.9748,     0.97492,     0.97504,     0.97516,     0.97528,      0.9754,     0.97552,     0.97563,     0.97575,     0.97587,     0.97599,     0.97611,     0.97623,     0.97635,     0.97647,     0.97658,      0.9767,     0.97682,     0.97694,     0.97706,     0.97718,\n",
       "             0.9773,     0.97742,     0.97753,     0.97765,     0.97777,     0.97789,     0.97801,     0.97813,     0.97825,     0.97837,     0.97848,      0.9786,     0.97872,     0.97884,     0.97896,     0.97908,      0.9792,     0.97932,     0.97943,     0.97955,     0.97967,     0.97979,     0.97991,\n",
       "            0.98003,     0.98015,     0.98026,     0.98038,      0.9805,     0.98062,     0.98074,     0.98086,     0.98098,      0.9811,     0.98121,     0.98133,     0.98145,     0.98157,     0.98169,     0.98181,     0.98193,     0.98205,     0.98216,     0.98228,      0.9824,     0.98252,     0.98264,\n",
       "            0.98276,     0.98288,       0.983,     0.98311,     0.98323,     0.98335,     0.98347,     0.98359,     0.98371,     0.98383,     0.98395,     0.98406,     0.98418,      0.9843,     0.98442,     0.98454,     0.98466,     0.98478,      0.9849,     0.98501,     0.98513,     0.98525,     0.98537,\n",
       "            0.98549,     0.98561,     0.98573,     0.98585,     0.98596,     0.98608,      0.9862,     0.98632,     0.98644,     0.98656,     0.98668,     0.98679,     0.98691,     0.98703,     0.98715,     0.98727,     0.98739,     0.98751,     0.98763,     0.98774,     0.98786,     0.98798,      0.9881,\n",
       "            0.98822,     0.98834,     0.98846,     0.98858,     0.98869,     0.98881,     0.98893,     0.98905,     0.98917,     0.98929,     0.98941,     0.98953,     0.98964,     0.98976,     0.98988,        0.99,     0.99012,     0.99024,     0.99036,     0.99048,     0.99059,     0.99071,     0.99083,\n",
       "            0.99095,     0.99107,     0.99119,     0.99131,     0.99143,     0.99154,     0.99166,     0.99178,      0.9919,     0.99202,     0.99214,     0.99226,     0.99238,     0.99249,     0.99261,     0.99273,     0.99285,     0.99297,     0.99309,     0.99321,     0.99333,     0.99344,     0.99356,\n",
       "            0.99368,      0.9938,     0.99392,     0.99404,     0.99416,     0.99427,     0.99439,     0.99451,     0.99463,     0.99475,     0.99487,     0.99499,     0.99511,     0.99522,     0.99534,     0.99546,     0.99558,      0.9957,     0.99582,     0.99594,     0.99606,     0.99617,     0.99629,\n",
       "            0.99641,     0.99653,     0.99665,     0.99677,     0.99689,     0.99701,     0.99712,     0.99724,     0.99736,     0.99748,      0.9976,     0.99772,     0.99784,     0.99796,     0.99807,     0.99819,     0.99831,     0.99843,     0.99855,     0.99867,     0.99879,     0.99891,     0.99902,\n",
       "            0.99914,     0.99926,     0.99938,      0.9995,     0.99962,     0.99974,     0.99986,     0.99997,           1,           1,           1,           1,           1,           1,           1,           1,           1,           1,           1,           1,           1,           1,           1,\n",
       "                  1,           1,           1,           1,           1,           1,           1,           1,           1,           1,           1,           1,           1,           1,           1,           1,           1,           1,           1,           1,           1,           1,           1,\n",
       "                  1,           1,           1,           1,           1,           1,           1,           1,           1,           1,           1]]), 'Confidence', 'Precision'], [array([          0,    0.001001,    0.002002,    0.003003,    0.004004,    0.005005,    0.006006,    0.007007,    0.008008,    0.009009,     0.01001,    0.011011,    0.012012,    0.013013,    0.014014,    0.015015,    0.016016,    0.017017,    0.018018,    0.019019,     0.02002,    0.021021,    0.022022,    0.023023,\n",
       "          0.024024,    0.025025,    0.026026,    0.027027,    0.028028,    0.029029,     0.03003,    0.031031,    0.032032,    0.033033,    0.034034,    0.035035,    0.036036,    0.037037,    0.038038,    0.039039,     0.04004,    0.041041,    0.042042,    0.043043,    0.044044,    0.045045,    0.046046,    0.047047,\n",
       "          0.048048,    0.049049,     0.05005,    0.051051,    0.052052,    0.053053,    0.054054,    0.055055,    0.056056,    0.057057,    0.058058,    0.059059,     0.06006,    0.061061,    0.062062,    0.063063,    0.064064,    0.065065,    0.066066,    0.067067,    0.068068,    0.069069,     0.07007,    0.071071,\n",
       "          0.072072,    0.073073,    0.074074,    0.075075,    0.076076,    0.077077,    0.078078,    0.079079,     0.08008,    0.081081,    0.082082,    0.083083,    0.084084,    0.085085,    0.086086,    0.087087,    0.088088,    0.089089,     0.09009,    0.091091,    0.092092,    0.093093,    0.094094,    0.095095,\n",
       "          0.096096,    0.097097,    0.098098,    0.099099,      0.1001,      0.1011,      0.1021,      0.1031,      0.1041,     0.10511,     0.10611,     0.10711,     0.10811,     0.10911,     0.11011,     0.11111,     0.11211,     0.11311,     0.11411,     0.11512,     0.11612,     0.11712,     0.11812,     0.11912,\n",
       "           0.12012,     0.12112,     0.12212,     0.12312,     0.12412,     0.12513,     0.12613,     0.12713,     0.12813,     0.12913,     0.13013,     0.13113,     0.13213,     0.13313,     0.13413,     0.13514,     0.13614,     0.13714,     0.13814,     0.13914,     0.14014,     0.14114,     0.14214,     0.14314,\n",
       "           0.14414,     0.14515,     0.14615,     0.14715,     0.14815,     0.14915,     0.15015,     0.15115,     0.15215,     0.15315,     0.15415,     0.15516,     0.15616,     0.15716,     0.15816,     0.15916,     0.16016,     0.16116,     0.16216,     0.16316,     0.16416,     0.16517,     0.16617,     0.16717,\n",
       "           0.16817,     0.16917,     0.17017,     0.17117,     0.17217,     0.17317,     0.17417,     0.17518,     0.17618,     0.17718,     0.17818,     0.17918,     0.18018,     0.18118,     0.18218,     0.18318,     0.18418,     0.18519,     0.18619,     0.18719,     0.18819,     0.18919,     0.19019,     0.19119,\n",
       "           0.19219,     0.19319,     0.19419,      0.1952,      0.1962,      0.1972,      0.1982,      0.1992,      0.2002,      0.2012,      0.2022,      0.2032,      0.2042,     0.20521,     0.20621,     0.20721,     0.20821,     0.20921,     0.21021,     0.21121,     0.21221,     0.21321,     0.21421,     0.21522,\n",
       "           0.21622,     0.21722,     0.21822,     0.21922,     0.22022,     0.22122,     0.22222,     0.22322,     0.22422,     0.22523,     0.22623,     0.22723,     0.22823,     0.22923,     0.23023,     0.23123,     0.23223,     0.23323,     0.23423,     0.23524,     0.23624,     0.23724,     0.23824,     0.23924,\n",
       "           0.24024,     0.24124,     0.24224,     0.24324,     0.24424,     0.24525,     0.24625,     0.24725,     0.24825,     0.24925,     0.25025,     0.25125,     0.25225,     0.25325,     0.25425,     0.25526,     0.25626,     0.25726,     0.25826,     0.25926,     0.26026,     0.26126,     0.26226,     0.26326,\n",
       "           0.26426,     0.26527,     0.26627,     0.26727,     0.26827,     0.26927,     0.27027,     0.27127,     0.27227,     0.27327,     0.27427,     0.27528,     0.27628,     0.27728,     0.27828,     0.27928,     0.28028,     0.28128,     0.28228,     0.28328,     0.28428,     0.28529,     0.28629,     0.28729,\n",
       "           0.28829,     0.28929,     0.29029,     0.29129,     0.29229,     0.29329,     0.29429,      0.2953,      0.2963,      0.2973,      0.2983,      0.2993,      0.3003,      0.3013,      0.3023,      0.3033,      0.3043,     0.30531,     0.30631,     0.30731,     0.30831,     0.30931,     0.31031,     0.31131,\n",
       "           0.31231,     0.31331,     0.31431,     0.31532,     0.31632,     0.31732,     0.31832,     0.31932,     0.32032,     0.32132,     0.32232,     0.32332,     0.32432,     0.32533,     0.32633,     0.32733,     0.32833,     0.32933,     0.33033,     0.33133,     0.33233,     0.33333,     0.33433,     0.33534,\n",
       "           0.33634,     0.33734,     0.33834,     0.33934,     0.34034,     0.34134,     0.34234,     0.34334,     0.34434,     0.34535,     0.34635,     0.34735,     0.34835,     0.34935,     0.35035,     0.35135,     0.35235,     0.35335,     0.35435,     0.35536,     0.35636,     0.35736,     0.35836,     0.35936,\n",
       "           0.36036,     0.36136,     0.36236,     0.36336,     0.36436,     0.36537,     0.36637,     0.36737,     0.36837,     0.36937,     0.37037,     0.37137,     0.37237,     0.37337,     0.37437,     0.37538,     0.37638,     0.37738,     0.37838,     0.37938,     0.38038,     0.38138,     0.38238,     0.38338,\n",
       "           0.38438,     0.38539,     0.38639,     0.38739,     0.38839,     0.38939,     0.39039,     0.39139,     0.39239,     0.39339,     0.39439,      0.3954,      0.3964,      0.3974,      0.3984,      0.3994,      0.4004,      0.4014,      0.4024,      0.4034,      0.4044,     0.40541,     0.40641,     0.40741,\n",
       "           0.40841,     0.40941,     0.41041,     0.41141,     0.41241,     0.41341,     0.41441,     0.41542,     0.41642,     0.41742,     0.41842,     0.41942,     0.42042,     0.42142,     0.42242,     0.42342,     0.42442,     0.42543,     0.42643,     0.42743,     0.42843,     0.42943,     0.43043,     0.43143,\n",
       "           0.43243,     0.43343,     0.43443,     0.43544,     0.43644,     0.43744,     0.43844,     0.43944,     0.44044,     0.44144,     0.44244,     0.44344,     0.44444,     0.44545,     0.44645,     0.44745,     0.44845,     0.44945,     0.45045,     0.45145,     0.45245,     0.45345,     0.45445,     0.45546,\n",
       "           0.45646,     0.45746,     0.45846,     0.45946,     0.46046,     0.46146,     0.46246,     0.46346,     0.46446,     0.46547,     0.46647,     0.46747,     0.46847,     0.46947,     0.47047,     0.47147,     0.47247,     0.47347,     0.47447,     0.47548,     0.47648,     0.47748,     0.47848,     0.47948,\n",
       "           0.48048,     0.48148,     0.48248,     0.48348,     0.48448,     0.48549,     0.48649,     0.48749,     0.48849,     0.48949,     0.49049,     0.49149,     0.49249,     0.49349,     0.49449,      0.4955,      0.4965,      0.4975,      0.4985,      0.4995,      0.5005,      0.5015,      0.5025,      0.5035,\n",
       "            0.5045,     0.50551,     0.50651,     0.50751,     0.50851,     0.50951,     0.51051,     0.51151,     0.51251,     0.51351,     0.51451,     0.51552,     0.51652,     0.51752,     0.51852,     0.51952,     0.52052,     0.52152,     0.52252,     0.52352,     0.52452,     0.52553,     0.52653,     0.52753,\n",
       "           0.52853,     0.52953,     0.53053,     0.53153,     0.53253,     0.53353,     0.53453,     0.53554,     0.53654,     0.53754,     0.53854,     0.53954,     0.54054,     0.54154,     0.54254,     0.54354,     0.54454,     0.54555,     0.54655,     0.54755,     0.54855,     0.54955,     0.55055,     0.55155,\n",
       "           0.55255,     0.55355,     0.55455,     0.55556,     0.55656,     0.55756,     0.55856,     0.55956,     0.56056,     0.56156,     0.56256,     0.56356,     0.56456,     0.56557,     0.56657,     0.56757,     0.56857,     0.56957,     0.57057,     0.57157,     0.57257,     0.57357,     0.57457,     0.57558,\n",
       "           0.57658,     0.57758,     0.57858,     0.57958,     0.58058,     0.58158,     0.58258,     0.58358,     0.58458,     0.58559,     0.58659,     0.58759,     0.58859,     0.58959,     0.59059,     0.59159,     0.59259,     0.59359,     0.59459,      0.5956,      0.5966,      0.5976,      0.5986,      0.5996,\n",
       "            0.6006,      0.6016,      0.6026,      0.6036,      0.6046,     0.60561,     0.60661,     0.60761,     0.60861,     0.60961,     0.61061,     0.61161,     0.61261,     0.61361,     0.61461,     0.61562,     0.61662,     0.61762,     0.61862,     0.61962,     0.62062,     0.62162,     0.62262,     0.62362,\n",
       "           0.62462,     0.62563,     0.62663,     0.62763,     0.62863,     0.62963,     0.63063,     0.63163,     0.63263,     0.63363,     0.63463,     0.63564,     0.63664,     0.63764,     0.63864,     0.63964,     0.64064,     0.64164,     0.64264,     0.64364,     0.64464,     0.64565,     0.64665,     0.64765,\n",
       "           0.64865,     0.64965,     0.65065,     0.65165,     0.65265,     0.65365,     0.65465,     0.65566,     0.65666,     0.65766,     0.65866,     0.65966,     0.66066,     0.66166,     0.66266,     0.66366,     0.66466,     0.66567,     0.66667,     0.66767,     0.66867,     0.66967,     0.67067,     0.67167,\n",
       "           0.67267,     0.67367,     0.67467,     0.67568,     0.67668,     0.67768,     0.67868,     0.67968,     0.68068,     0.68168,     0.68268,     0.68368,     0.68468,     0.68569,     0.68669,     0.68769,     0.68869,     0.68969,     0.69069,     0.69169,     0.69269,     0.69369,     0.69469,      0.6957,\n",
       "            0.6967,      0.6977,      0.6987,      0.6997,      0.7007,      0.7017,      0.7027,      0.7037,      0.7047,     0.70571,     0.70671,     0.70771,     0.70871,     0.70971,     0.71071,     0.71171,     0.71271,     0.71371,     0.71471,     0.71572,     0.71672,     0.71772,     0.71872,     0.71972,\n",
       "           0.72072,     0.72172,     0.72272,     0.72372,     0.72472,     0.72573,     0.72673,     0.72773,     0.72873,     0.72973,     0.73073,     0.73173,     0.73273,     0.73373,     0.73473,     0.73574,     0.73674,     0.73774,     0.73874,     0.73974,     0.74074,     0.74174,     0.74274,     0.74374,\n",
       "           0.74474,     0.74575,     0.74675,     0.74775,     0.74875,     0.74975,     0.75075,     0.75175,     0.75275,     0.75375,     0.75475,     0.75576,     0.75676,     0.75776,     0.75876,     0.75976,     0.76076,     0.76176,     0.76276,     0.76376,     0.76476,     0.76577,     0.76677,     0.76777,\n",
       "           0.76877,     0.76977,     0.77077,     0.77177,     0.77277,     0.77377,     0.77477,     0.77578,     0.77678,     0.77778,     0.77878,     0.77978,     0.78078,     0.78178,     0.78278,     0.78378,     0.78478,     0.78579,     0.78679,     0.78779,     0.78879,     0.78979,     0.79079,     0.79179,\n",
       "           0.79279,     0.79379,     0.79479,      0.7958,      0.7968,      0.7978,      0.7988,      0.7998,      0.8008,      0.8018,      0.8028,      0.8038,      0.8048,     0.80581,     0.80681,     0.80781,     0.80881,     0.80981,     0.81081,     0.81181,     0.81281,     0.81381,     0.81481,     0.81582,\n",
       "           0.81682,     0.81782,     0.81882,     0.81982,     0.82082,     0.82182,     0.82282,     0.82382,     0.82482,     0.82583,     0.82683,     0.82783,     0.82883,     0.82983,     0.83083,     0.83183,     0.83283,     0.83383,     0.83483,     0.83584,     0.83684,     0.83784,     0.83884,     0.83984,\n",
       "           0.84084,     0.84184,     0.84284,     0.84384,     0.84484,     0.84585,     0.84685,     0.84785,     0.84885,     0.84985,     0.85085,     0.85185,     0.85285,     0.85385,     0.85485,     0.85586,     0.85686,     0.85786,     0.85886,     0.85986,     0.86086,     0.86186,     0.86286,     0.86386,\n",
       "           0.86486,     0.86587,     0.86687,     0.86787,     0.86887,     0.86987,     0.87087,     0.87187,     0.87287,     0.87387,     0.87487,     0.87588,     0.87688,     0.87788,     0.87888,     0.87988,     0.88088,     0.88188,     0.88288,     0.88388,     0.88488,     0.88589,     0.88689,     0.88789,\n",
       "           0.88889,     0.88989,     0.89089,     0.89189,     0.89289,     0.89389,     0.89489,      0.8959,      0.8969,      0.8979,      0.8989,      0.8999,      0.9009,      0.9019,      0.9029,      0.9039,      0.9049,     0.90591,     0.90691,     0.90791,     0.90891,     0.90991,     0.91091,     0.91191,\n",
       "           0.91291,     0.91391,     0.91491,     0.91592,     0.91692,     0.91792,     0.91892,     0.91992,     0.92092,     0.92192,     0.92292,     0.92392,     0.92492,     0.92593,     0.92693,     0.92793,     0.92893,     0.92993,     0.93093,     0.93193,     0.93293,     0.93393,     0.93493,     0.93594,\n",
       "           0.93694,     0.93794,     0.93894,     0.93994,     0.94094,     0.94194,     0.94294,     0.94394,     0.94494,     0.94595,     0.94695,     0.94795,     0.94895,     0.94995,     0.95095,     0.95195,     0.95295,     0.95395,     0.95495,     0.95596,     0.95696,     0.95796,     0.95896,     0.95996,\n",
       "           0.96096,     0.96196,     0.96296,     0.96396,     0.96496,     0.96597,     0.96697,     0.96797,     0.96897,     0.96997,     0.97097,     0.97197,     0.97297,     0.97397,     0.97497,     0.97598,     0.97698,     0.97798,     0.97898,     0.97998,     0.98098,     0.98198,     0.98298,     0.98398,\n",
       "           0.98498,     0.98599,     0.98699,     0.98799,     0.98899,     0.98999,     0.99099,     0.99199,     0.99299,     0.99399,     0.99499,       0.996,       0.997,       0.998,       0.999,           1]), array([[          1,           1,           1,           1,           1,           1,           1,           1,           1,           1,           1,           1,           1,           1,           1,           1,           1,           1,           1,           1,           1,           1,           1,\n",
       "                  1,           1,           1,           1,           1,           1,           1,           1,           1,           1,           1,           1,           1,           1,           1,           1,           1,           1,           1,           1,           1,           1,           1,\n",
       "                  1,           1,           1,           1,           1,           1,           1,           1,           1,           1,           1,           1,           1,           1,           1,           1,           1,           1,           1,           1,           1,           1,           1,\n",
       "                  1,           1,           1,           1,           1,           1,           1,           1,           1,           1,           1,           1,           1,           1,           1,           1,           1,           1,           1,           1,           1,           1,           1,\n",
       "                  1,           1,           1,           1,           1,           1,           1,           1,           1,           1,           1,           1,           1,           1,           1,           1,           1,           1,           1,           1,           1,           1,           1,\n",
       "                  1,           1,           1,           1,           1,           1,           1,           1,           1,           1,           1,           1,           1,           1,           1,           1,           1,           1,           1,           1,           1,           1,           1,\n",
       "                  1,           1,           1,           1,           1,           1,           1,           1,           1,           1,           1,           1,           1,           1,           1,           1,           1,           1,           1,           1,           1,           1,           1,\n",
       "                  1,           1,           1,           1,           1,           1,           1,           1,           1,           1,           1,           1,           1,           1,           1,           1,           1,           1,           1,           1,           1,           1,           1,\n",
       "                  1,           1,           1,           1,           1,           1,           1,           1,           1,           1,           1,           1,           1,           1,           1,           1,           1,           1,           1,           1,           1,           1,           1,\n",
       "                  1,           1,           1,           1,           1,           1,           1,           1,           1,           1,           1,           1,           1,           1,           1,           1,           1,           1,           1,           1,           1,           1,           1,\n",
       "                  1,           1,           1,           1,           1,           1,           1,           1,           1,           1,           1,           1,           1,           1,           1,           1,           1,           1,           1,           1,           1,           1,           1,\n",
       "                  1,           1,           1,           1,           1,           1,           1,           1,           1,           1,           1,           1,           1,           1,           1,           1,           1,           1,           1,           1,           1,           1,           1,\n",
       "                  1,           1,           1,           1,           1,           1,           1,           1,           1,           1,           1,           1,           1,           1,           1,           1,           1,           1,           1,           1,           1,           1,           1,\n",
       "                  1,           1,           1,           1,           1,           1,           1,           1,           1,           1,           1,           1,           1,           1,           1,           1,           1,           1,           1,           1,           1,           1,           1,\n",
       "                  1,           1,           1,           1,           1,           1,           1,           1,           1,           1,           1,           1,           1,           1,           1,           1,           1,           1,           1,           1,           1,           1,           1,\n",
       "                  1,           1,           1,           1,           1,           1,           1,           1,           1,           1,           1,           1,           1,           1,           1,           1,           1,           1,           1,           1,           1,           1,           1,\n",
       "                  1,           1,           1,           1,           1,           1,           1,           1,           1,           1,           1,           1,           1,           1,           1,           1,           1,           1,           1,           1,           1,           1,           1,\n",
       "                  1,           1,           1,           1,           1,           1,           1,           1,           1,           1,           1,           1,           1,           1,           1,           1,           1,           1,           1,           1,           1,           1,           1,\n",
       "                  1,           1,           1,           1,           1,           1,           1,           1,           1,           1,           1,           1,           1,           1,           1,           1,           1,           1,           1,           1,           1,           1,           1,\n",
       "                  1,           1,           1,           1,           1,           1,           1,           1,           1,           1,           1,           1,           1,           1,           1,           1,           1,           1,           1,           1,           1,           1,           1,\n",
       "                  1,           1,           1,           1,           1,           1,           1,           1,           1,           1,           1,           1,           1,           1,           1,           1,           1,           1,           1,           1,           1,           1,           1,\n",
       "                  1,           1,           1,           1,           1,           1,           1,           1,           1,           1,           1,           1,           1,           1,           1,           1,           1,           1,           1,           1,           1,           1,           1,\n",
       "                  1,           1,           1,           1,           1,           1,           1,           1,           1,           1,           1,           1,           1,           1,           1,           1,           1,           1,           1,           1,           1,           1,           1,\n",
       "                  1,           1,           1,           1,           1,           1,           1,           1,           1,           1,           1,           1,           1,           1,           1,           1,           1,           1,           1,           1,           1,           1,           1,\n",
       "                  1,           1,           1,           1,           1,           1,           1,           1,           1,           1,           1,           1,           1,           1,           1,           1,           1,           1,           1,           1,           1,           1,           1,\n",
       "                  1,           1,           1,           1,           1,           1,           1,           1,           1,           1,           1,           1,           1,           1,           1,           1,           1,           1,           1,           1,           1,           1,           1,\n",
       "                  1,           1,           1,           1,           1,           1,           1,           1,           1,           1,           1,           1,           1,           1,           1,           1,           1,           1,           1,           1,           1,           1,           1,\n",
       "                  1,           1,           1,           1,           1,           1,           1,           1,           1,           1,           1,           1,           1,           1,           1,           1,           1,           1,           1,           1,           1,           1,           1,\n",
       "                  1,           1,           1,           1,           1,           1,           1,           1,           1,           1,           1,           1,           1,           1,           1,           1,           1,           1,           1,           1,           1,           1,           1,\n",
       "                  1,           1,           1,           1,           1,           1,           1,           1,           1,           1,           1,           1,           1,           1,           1,           1,           1,           1,           1,           1,           1,           1,           1,\n",
       "                  1,           1,           1,           1,           1,           1,           1,           1,           1,           1,           1,           1,           1,           1,           1,           1,           1,           1,           1,           1,           1,           1,           1,\n",
       "                  1,           1,           1,           1,           1,           1,           1,           1,           1,           1,           1,           1,           1,           1,           1,           1,           1,           1,           1,           1,           1,           1,           1,\n",
       "                  1,           1,           1,           1,           1,           1,           1,           1,           1,           1,           1,           1,           1,           1,           1,           1,           1,           1,           1,           1,           1,           1,           1,\n",
       "                  1,           1,           1,           1,           1,           1,           1,           1,           1,           1,           1,           1,           1,           1,           1,           1,           1,           1,           1,           1,           1,           1,           1,\n",
       "                  1,           1,           1,           1,           1,           1,           1,           1,           1,           1,           1,           1,           1,           1,           1,           1,           1,           1,           1,           1,           1,           1,           1,\n",
       "                  1,           1,           1,           1,           1,           1,           1,           1,           1,           1,           1,           1,           1,           1,           1,           1,           1,           1,           1,           1,           1,           1,           1,\n",
       "                  1,           1,           1,           1,           1,           1,           1,           1,           1,           1,           1,           1,           1,           1,           1,           1,           1,           1,           1,           1,           1,           1,           1,\n",
       "                  1,           1,           1,           1,           1,           1,           1,           1,           1,           1,           1,           1,           1,           1,           1,           1,           1,           1,           1,           1,           1,           1,           1,\n",
       "                  1,           1,           1,           1,           1,           1,           1,           1,           1,           1,           1,           1,           1,           1,           1,           1,           1,           1,           1,           1,           1,           1,           1,\n",
       "                  1,           1,           1,           1,           1,           1,           1,           1,           1,           1,           1,           1,           1,           1,           1,           1,           1,           1,           1,           1,           1,           1,           1,\n",
       "                  1,           1,           1,           1,           1,           1,           1,           1,           1,           1,           1,           1,           1,           1,           1,           1,           1,           1,           1,           1,           1,           1,           1,\n",
       "                  1,           1,           1,           1,           1,           1,           1,           1,     0.98574,     0.96743,     0.94913,     0.93082,     0.91252,     0.89422,     0.87591,     0.83442,     0.79171,      0.7495,     0.72814,     0.70679,     0.68544,     0.66408,     0.64273,\n",
       "            0.62065,     0.59502,     0.56939,     0.54377,     0.51814,     0.49532,     0.47931,     0.46329,     0.44728,     0.43126,     0.41524,     0.39923,     0.38321,     0.25013,     0.24117,     0.23233,      0.2235,     0.21466,     0.20582,     0.19699,     0.18815,     0.17931,     0.17048,\n",
       "            0.16164,      0.1528,     0.14397,     0.13513,     0.12629,           0,           0,           0,           0,           0,           0]]), 'Confidence', 'Recall'], [array([          0,    0.001001,    0.002002,    0.003003,    0.004004,    0.005005,    0.006006,    0.007007,    0.008008,    0.009009,     0.01001,    0.011011,    0.012012,    0.013013,    0.014014,    0.015015,    0.016016,    0.017017,    0.018018,    0.019019,     0.02002,    0.021021,    0.022022,    0.023023,\n",
       "          0.024024,    0.025025,    0.026026,    0.027027,    0.028028,    0.029029,     0.03003,    0.031031,    0.032032,    0.033033,    0.034034,    0.035035,    0.036036,    0.037037,    0.038038,    0.039039,     0.04004,    0.041041,    0.042042,    0.043043,    0.044044,    0.045045,    0.046046,    0.047047,\n",
       "          0.048048,    0.049049,     0.05005,    0.051051,    0.052052,    0.053053,    0.054054,    0.055055,    0.056056,    0.057057,    0.058058,    0.059059,     0.06006,    0.061061,    0.062062,    0.063063,    0.064064,    0.065065,    0.066066,    0.067067,    0.068068,    0.069069,     0.07007,    0.071071,\n",
       "          0.072072,    0.073073,    0.074074,    0.075075,    0.076076,    0.077077,    0.078078,    0.079079,     0.08008,    0.081081,    0.082082,    0.083083,    0.084084,    0.085085,    0.086086,    0.087087,    0.088088,    0.089089,     0.09009,    0.091091,    0.092092,    0.093093,    0.094094,    0.095095,\n",
       "          0.096096,    0.097097,    0.098098,    0.099099,      0.1001,      0.1011,      0.1021,      0.1031,      0.1041,     0.10511,     0.10611,     0.10711,     0.10811,     0.10911,     0.11011,     0.11111,     0.11211,     0.11311,     0.11411,     0.11512,     0.11612,     0.11712,     0.11812,     0.11912,\n",
       "           0.12012,     0.12112,     0.12212,     0.12312,     0.12412,     0.12513,     0.12613,     0.12713,     0.12813,     0.12913,     0.13013,     0.13113,     0.13213,     0.13313,     0.13413,     0.13514,     0.13614,     0.13714,     0.13814,     0.13914,     0.14014,     0.14114,     0.14214,     0.14314,\n",
       "           0.14414,     0.14515,     0.14615,     0.14715,     0.14815,     0.14915,     0.15015,     0.15115,     0.15215,     0.15315,     0.15415,     0.15516,     0.15616,     0.15716,     0.15816,     0.15916,     0.16016,     0.16116,     0.16216,     0.16316,     0.16416,     0.16517,     0.16617,     0.16717,\n",
       "           0.16817,     0.16917,     0.17017,     0.17117,     0.17217,     0.17317,     0.17417,     0.17518,     0.17618,     0.17718,     0.17818,     0.17918,     0.18018,     0.18118,     0.18218,     0.18318,     0.18418,     0.18519,     0.18619,     0.18719,     0.18819,     0.18919,     0.19019,     0.19119,\n",
       "           0.19219,     0.19319,     0.19419,      0.1952,      0.1962,      0.1972,      0.1982,      0.1992,      0.2002,      0.2012,      0.2022,      0.2032,      0.2042,     0.20521,     0.20621,     0.20721,     0.20821,     0.20921,     0.21021,     0.21121,     0.21221,     0.21321,     0.21421,     0.21522,\n",
       "           0.21622,     0.21722,     0.21822,     0.21922,     0.22022,     0.22122,     0.22222,     0.22322,     0.22422,     0.22523,     0.22623,     0.22723,     0.22823,     0.22923,     0.23023,     0.23123,     0.23223,     0.23323,     0.23423,     0.23524,     0.23624,     0.23724,     0.23824,     0.23924,\n",
       "           0.24024,     0.24124,     0.24224,     0.24324,     0.24424,     0.24525,     0.24625,     0.24725,     0.24825,     0.24925,     0.25025,     0.25125,     0.25225,     0.25325,     0.25425,     0.25526,     0.25626,     0.25726,     0.25826,     0.25926,     0.26026,     0.26126,     0.26226,     0.26326,\n",
       "           0.26426,     0.26527,     0.26627,     0.26727,     0.26827,     0.26927,     0.27027,     0.27127,     0.27227,     0.27327,     0.27427,     0.27528,     0.27628,     0.27728,     0.27828,     0.27928,     0.28028,     0.28128,     0.28228,     0.28328,     0.28428,     0.28529,     0.28629,     0.28729,\n",
       "           0.28829,     0.28929,     0.29029,     0.29129,     0.29229,     0.29329,     0.29429,      0.2953,      0.2963,      0.2973,      0.2983,      0.2993,      0.3003,      0.3013,      0.3023,      0.3033,      0.3043,     0.30531,     0.30631,     0.30731,     0.30831,     0.30931,     0.31031,     0.31131,\n",
       "           0.31231,     0.31331,     0.31431,     0.31532,     0.31632,     0.31732,     0.31832,     0.31932,     0.32032,     0.32132,     0.32232,     0.32332,     0.32432,     0.32533,     0.32633,     0.32733,     0.32833,     0.32933,     0.33033,     0.33133,     0.33233,     0.33333,     0.33433,     0.33534,\n",
       "           0.33634,     0.33734,     0.33834,     0.33934,     0.34034,     0.34134,     0.34234,     0.34334,     0.34434,     0.34535,     0.34635,     0.34735,     0.34835,     0.34935,     0.35035,     0.35135,     0.35235,     0.35335,     0.35435,     0.35536,     0.35636,     0.35736,     0.35836,     0.35936,\n",
       "           0.36036,     0.36136,     0.36236,     0.36336,     0.36436,     0.36537,     0.36637,     0.36737,     0.36837,     0.36937,     0.37037,     0.37137,     0.37237,     0.37337,     0.37437,     0.37538,     0.37638,     0.37738,     0.37838,     0.37938,     0.38038,     0.38138,     0.38238,     0.38338,\n",
       "           0.38438,     0.38539,     0.38639,     0.38739,     0.38839,     0.38939,     0.39039,     0.39139,     0.39239,     0.39339,     0.39439,      0.3954,      0.3964,      0.3974,      0.3984,      0.3994,      0.4004,      0.4014,      0.4024,      0.4034,      0.4044,     0.40541,     0.40641,     0.40741,\n",
       "           0.40841,     0.40941,     0.41041,     0.41141,     0.41241,     0.41341,     0.41441,     0.41542,     0.41642,     0.41742,     0.41842,     0.41942,     0.42042,     0.42142,     0.42242,     0.42342,     0.42442,     0.42543,     0.42643,     0.42743,     0.42843,     0.42943,     0.43043,     0.43143,\n",
       "           0.43243,     0.43343,     0.43443,     0.43544,     0.43644,     0.43744,     0.43844,     0.43944,     0.44044,     0.44144,     0.44244,     0.44344,     0.44444,     0.44545,     0.44645,     0.44745,     0.44845,     0.44945,     0.45045,     0.45145,     0.45245,     0.45345,     0.45445,     0.45546,\n",
       "           0.45646,     0.45746,     0.45846,     0.45946,     0.46046,     0.46146,     0.46246,     0.46346,     0.46446,     0.46547,     0.46647,     0.46747,     0.46847,     0.46947,     0.47047,     0.47147,     0.47247,     0.47347,     0.47447,     0.47548,     0.47648,     0.47748,     0.47848,     0.47948,\n",
       "           0.48048,     0.48148,     0.48248,     0.48348,     0.48448,     0.48549,     0.48649,     0.48749,     0.48849,     0.48949,     0.49049,     0.49149,     0.49249,     0.49349,     0.49449,      0.4955,      0.4965,      0.4975,      0.4985,      0.4995,      0.5005,      0.5015,      0.5025,      0.5035,\n",
       "            0.5045,     0.50551,     0.50651,     0.50751,     0.50851,     0.50951,     0.51051,     0.51151,     0.51251,     0.51351,     0.51451,     0.51552,     0.51652,     0.51752,     0.51852,     0.51952,     0.52052,     0.52152,     0.52252,     0.52352,     0.52452,     0.52553,     0.52653,     0.52753,\n",
       "           0.52853,     0.52953,     0.53053,     0.53153,     0.53253,     0.53353,     0.53453,     0.53554,     0.53654,     0.53754,     0.53854,     0.53954,     0.54054,     0.54154,     0.54254,     0.54354,     0.54454,     0.54555,     0.54655,     0.54755,     0.54855,     0.54955,     0.55055,     0.55155,\n",
       "           0.55255,     0.55355,     0.55455,     0.55556,     0.55656,     0.55756,     0.55856,     0.55956,     0.56056,     0.56156,     0.56256,     0.56356,     0.56456,     0.56557,     0.56657,     0.56757,     0.56857,     0.56957,     0.57057,     0.57157,     0.57257,     0.57357,     0.57457,     0.57558,\n",
       "           0.57658,     0.57758,     0.57858,     0.57958,     0.58058,     0.58158,     0.58258,     0.58358,     0.58458,     0.58559,     0.58659,     0.58759,     0.58859,     0.58959,     0.59059,     0.59159,     0.59259,     0.59359,     0.59459,      0.5956,      0.5966,      0.5976,      0.5986,      0.5996,\n",
       "            0.6006,      0.6016,      0.6026,      0.6036,      0.6046,     0.60561,     0.60661,     0.60761,     0.60861,     0.60961,     0.61061,     0.61161,     0.61261,     0.61361,     0.61461,     0.61562,     0.61662,     0.61762,     0.61862,     0.61962,     0.62062,     0.62162,     0.62262,     0.62362,\n",
       "           0.62462,     0.62563,     0.62663,     0.62763,     0.62863,     0.62963,     0.63063,     0.63163,     0.63263,     0.63363,     0.63463,     0.63564,     0.63664,     0.63764,     0.63864,     0.63964,     0.64064,     0.64164,     0.64264,     0.64364,     0.64464,     0.64565,     0.64665,     0.64765,\n",
       "           0.64865,     0.64965,     0.65065,     0.65165,     0.65265,     0.65365,     0.65465,     0.65566,     0.65666,     0.65766,     0.65866,     0.65966,     0.66066,     0.66166,     0.66266,     0.66366,     0.66466,     0.66567,     0.66667,     0.66767,     0.66867,     0.66967,     0.67067,     0.67167,\n",
       "           0.67267,     0.67367,     0.67467,     0.67568,     0.67668,     0.67768,     0.67868,     0.67968,     0.68068,     0.68168,     0.68268,     0.68368,     0.68468,     0.68569,     0.68669,     0.68769,     0.68869,     0.68969,     0.69069,     0.69169,     0.69269,     0.69369,     0.69469,      0.6957,\n",
       "            0.6967,      0.6977,      0.6987,      0.6997,      0.7007,      0.7017,      0.7027,      0.7037,      0.7047,     0.70571,     0.70671,     0.70771,     0.70871,     0.70971,     0.71071,     0.71171,     0.71271,     0.71371,     0.71471,     0.71572,     0.71672,     0.71772,     0.71872,     0.71972,\n",
       "           0.72072,     0.72172,     0.72272,     0.72372,     0.72472,     0.72573,     0.72673,     0.72773,     0.72873,     0.72973,     0.73073,     0.73173,     0.73273,     0.73373,     0.73473,     0.73574,     0.73674,     0.73774,     0.73874,     0.73974,     0.74074,     0.74174,     0.74274,     0.74374,\n",
       "           0.74474,     0.74575,     0.74675,     0.74775,     0.74875,     0.74975,     0.75075,     0.75175,     0.75275,     0.75375,     0.75475,     0.75576,     0.75676,     0.75776,     0.75876,     0.75976,     0.76076,     0.76176,     0.76276,     0.76376,     0.76476,     0.76577,     0.76677,     0.76777,\n",
       "           0.76877,     0.76977,     0.77077,     0.77177,     0.77277,     0.77377,     0.77477,     0.77578,     0.77678,     0.77778,     0.77878,     0.77978,     0.78078,     0.78178,     0.78278,     0.78378,     0.78478,     0.78579,     0.78679,     0.78779,     0.78879,     0.78979,     0.79079,     0.79179,\n",
       "           0.79279,     0.79379,     0.79479,      0.7958,      0.7968,      0.7978,      0.7988,      0.7998,      0.8008,      0.8018,      0.8028,      0.8038,      0.8048,     0.80581,     0.80681,     0.80781,     0.80881,     0.80981,     0.81081,     0.81181,     0.81281,     0.81381,     0.81481,     0.81582,\n",
       "           0.81682,     0.81782,     0.81882,     0.81982,     0.82082,     0.82182,     0.82282,     0.82382,     0.82482,     0.82583,     0.82683,     0.82783,     0.82883,     0.82983,     0.83083,     0.83183,     0.83283,     0.83383,     0.83483,     0.83584,     0.83684,     0.83784,     0.83884,     0.83984,\n",
       "           0.84084,     0.84184,     0.84284,     0.84384,     0.84484,     0.84585,     0.84685,     0.84785,     0.84885,     0.84985,     0.85085,     0.85185,     0.85285,     0.85385,     0.85485,     0.85586,     0.85686,     0.85786,     0.85886,     0.85986,     0.86086,     0.86186,     0.86286,     0.86386,\n",
       "           0.86486,     0.86587,     0.86687,     0.86787,     0.86887,     0.86987,     0.87087,     0.87187,     0.87287,     0.87387,     0.87487,     0.87588,     0.87688,     0.87788,     0.87888,     0.87988,     0.88088,     0.88188,     0.88288,     0.88388,     0.88488,     0.88589,     0.88689,     0.88789,\n",
       "           0.88889,     0.88989,     0.89089,     0.89189,     0.89289,     0.89389,     0.89489,      0.8959,      0.8969,      0.8979,      0.8989,      0.8999,      0.9009,      0.9019,      0.9029,      0.9039,      0.9049,     0.90591,     0.90691,     0.90791,     0.90891,     0.90991,     0.91091,     0.91191,\n",
       "           0.91291,     0.91391,     0.91491,     0.91592,     0.91692,     0.91792,     0.91892,     0.91992,     0.92092,     0.92192,     0.92292,     0.92392,     0.92492,     0.92593,     0.92693,     0.92793,     0.92893,     0.92993,     0.93093,     0.93193,     0.93293,     0.93393,     0.93493,     0.93594,\n",
       "           0.93694,     0.93794,     0.93894,     0.93994,     0.94094,     0.94194,     0.94294,     0.94394,     0.94494,     0.94595,     0.94695,     0.94795,     0.94895,     0.94995,     0.95095,     0.95195,     0.95295,     0.95395,     0.95495,     0.95596,     0.95696,     0.95796,     0.95896,     0.95996,\n",
       "           0.96096,     0.96196,     0.96296,     0.96396,     0.96496,     0.96597,     0.96697,     0.96797,     0.96897,     0.96997,     0.97097,     0.97197,     0.97297,     0.97397,     0.97497,     0.97598,     0.97698,     0.97798,     0.97898,     0.97998,     0.98098,     0.98198,     0.98298,     0.98398,\n",
       "           0.98498,     0.98599,     0.98699,     0.98799,     0.98899,     0.98999,     0.99099,     0.99199,     0.99299,     0.99399,     0.99499,       0.996,       0.997,       0.998,       0.999,           1]), array([[          1,           1,           1,           1,           1,           1,           1,           1,           1,           1,           1,           1,           1,           1,           1,           1,           1,           1,           1,           1,           1,           1,           1,\n",
       "                  1,           1,           1,           1,           1,           1,           1,           1,           1,           1,           1,           1,           1,           1,           1,           1,           1,           1,           1,           1,           1,           1,           1,\n",
       "                  1,           1,           1,           1,           1,           1,           1,           1,           1,           1,           1,           1,           1,           1,           1,           1,           1,           1,           1,           1,           1,           1,           1,\n",
       "                  1,           1,           1,           1,           1,           1,           1,           1,           1,           1,           1,           1,           1,           1,           1,           1,           1,           1,           1,           1,           1,           1,           1,\n",
       "                  1,           1,           1,           1,           1,           1,           1,           1,           1,           1,           1,           1,           1,           1,           1,           1,           1,           1,           1,           1,           1,           1,           1,\n",
       "                  1,           1,           1,           1,           1,           1,           1,           1,           1,           1,           1,           1,           1,           1,           1,           1,           1,           1,           1,           1,           1,           1,           1,\n",
       "                  1,           1,           1,           1,           1,           1,           1,           1,           1,           1,           1,           1,           1,           1,           1,           1,           1,           1,           1,           1,           1,           1,           1,\n",
       "                  1,           1,           1,           1,           1,           1,           1,           1,           1,           1,           1,           1,           1,           1,           1,           1,           1,           1,           1,           1,           1,           1,           1,\n",
       "                  1,           1,           1,           1,           1,           1,           1,           1,           1,           1,           1,           1,           1,           1,           1,           1,           1,           1,           1,           1,           1,           1,           1,\n",
       "                  1,           1,           1,           1,           1,           1,           1,           1,           1,           1,           1,           1,           1,           1,           1,           1,           1,           1,           1,           1,           1,           1,           1,\n",
       "                  1,           1,           1,           1,           1,           1,           1,           1,           1,           1,           1,           1,           1,           1,           1,           1,           1,           1,           1,           1,           1,           1,           1,\n",
       "                  1,           1,           1,           1,           1,           1,           1,           1,           1,           1,           1,           1,           1,           1,           1,           1,           1,           1,           1,           1,           1,           1,           1,\n",
       "                  1,           1,           1,           1,           1,           1,           1,           1,           1,           1,           1,           1,           1,           1,           1,           1,           1,           1,           1,           1,           1,           1,           1,\n",
       "                  1,           1,           1,           1,           1,           1,           1,           1,           1,           1,           1,           1,           1,           1,           1,           1,           1,           1,           1,           1,           1,           1,           1,\n",
       "                  1,           1,           1,           1,           1,           1,           1,           1,           1,           1,           1,           1,           1,           1,           1,           1,           1,           1,           1,           1,           1,           1,           1,\n",
       "                  1,           1,           1,           1,           1,           1,           1,           1,           1,           1,           1,           1,           1,           1,           1,           1,           1,           1,           1,           1,           1,           1,           1,\n",
       "                  1,           1,           1,           1,           1,           1,           1,           1,           1,           1,           1,           1,           1,           1,           1,           1,           1,           1,           1,           1,           1,           1,           1,\n",
       "                  1,           1,           1,           1,           1,           1,           1,           1,           1,           1,           1,           1,           1,           1,           1,           1,           1,           1,           1,           1,           1,           1,           1,\n",
       "                  1,           1,           1,           1,           1,           1,           1,           1,           1,           1,           1,           1,           1,           1,           1,           1,           1,           1,           1,           1,           1,           1,           1,\n",
       "                  1,           1,           1,           1,           1,           1,           1,           1,           1,           1,           1,           1,           1,           1,           1,           1,           1,           1,           1,           1,           1,           1,           1,\n",
       "                  1,           1,           1,           1,           1,           1,           1,           1,           1,           1,           1,           1,           1,           1,           1,           1,           1,           1,           1,           1,           1,           1,           1,\n",
       "                  1,           1,           1,           1,           1,           1,           1,           1,           1,           1,           1,           1,           1,           1,           1,           1,           1,           1,           1,           1,           1,           1,           1,\n",
       "                  1,           1,           1,           1,           1,           1,           1,           1,           1,           1,           1,           1,           1,           1,           1,           1,           1,           1,           1,           1,           1,           1,           1,\n",
       "                  1,           1,           1,           1,           1,           1,           1,           1,           1,           1,           1,           1,           1,           1,           1,           1,           1,           1,           1,           1,           1,           1,           1,\n",
       "                  1,           1,           1,           1,           1,           1,           1,           1,           1,           1,           1,           1,           1,           1,           1,           1,           1,           1,           1,           1,           1,           1,           1,\n",
       "                  1,           1,           1,           1,           1,           1,           1,           1,           1,           1,           1,           1,           1,           1,           1,           1,           1,           1,           1,           1,           1,           1,           1,\n",
       "                  1,           1,           1,           1,           1,           1,           1,           1,           1,           1,           1,           1,           1,           1,           1,           1,           1,           1,           1,           1,           1,           1,           1,\n",
       "                  1,           1,           1,           1,           1,           1,           1,           1,           1,           1,           1,           1,           1,           1,           1,           1,           1,           1,           1,           1,           1,           1,           1,\n",
       "                  1,           1,           1,           1,           1,           1,           1,           1,           1,           1,           1,           1,           1,           1,           1,           1,           1,           1,           1,           1,           1,           1,           1,\n",
       "                  1,           1,           1,           1,           1,           1,           1,           1,           1,           1,           1,           1,           1,           1,           1,           1,           1,           1,           1,           1,           1,           1,           1,\n",
       "                  1,           1,           1,           1,           1,           1,           1,           1,           1,           1,           1,           1,           1,           1,           1,           1,           1,           1,           1,           1,           1,           1,           1,\n",
       "                  1,           1,           1,           1,           1,           1,           1,           1,           1,           1,           1,           1,           1,           1,           1,           1,           1,           1,           1,           1,           1,           1,           1,\n",
       "                  1,           1,           1,           1,           1,           1,           1,           1,           1,           1,           1,           1,           1,           1,           1,           1,           1,           1,           1,           1,           1,           1,           1,\n",
       "                  1,           1,           1,           1,           1,           1,           1,           1,           1,           1,           1,           1,           1,           1,           1,           1,           1,           1,           1,           1,           1,           1,           1,\n",
       "                  1,           1,           1,           1,           1,           1,           1,           1,           1,           1,           1,           1,           1,           1,           1,           1,           1,           1,           1,           1,           1,           1,           1,\n",
       "                  1,           1,           1,           1,           1,           1,           1,           1,           1,           1,           1,           1,           1,           1,           1,           1,           1,           1,           1,           1,           1,           1,           1,\n",
       "                  1,           1,           1,           1,           1,           1,           1,           1,           1,           1,           1,           1,           1,           1,           1,           1,           1,           1,           1,           1,           1,           1,           1,\n",
       "                  1,           1,           1,           1,           1,           1,           1,           1,           1,           1,           1,           1,           1,           1,           1,           1,           1,           1,           1,           1,           1,           1,           1,\n",
       "                  1,           1,           1,           1,           1,           1,           1,           1,           1,           1,           1,           1,           1,           1,           1,           1,           1,           1,           1,           1,           1,           1,           1,\n",
       "                  1,           1,           1,           1,           1,           1,           1,           1,           1,           1,           1,           1,           1,           1,           1,           1,           1,           1,           1,           1,           1,           1,           1,\n",
       "                  1,           1,           1,           1,           1,           1,           1,           1,           1,           1,           1,           1,           1,           1,           1,           1,           1,           1,           1,           1,           1,           1,           1,\n",
       "                  1,           1,           1,           1,           1,           1,           1,           1,           1,           1,           1,           1,           1,           1,           1,           1,           1,           1,           1,           1,           1,           1,           1,\n",
       "                  1,           1,           1,           1,           1,           1,           1,           1,           1,           1,           1,           1,           1,           1,           1,           1,           1,           1,           1,           1,           1,           1,           1,\n",
       "                  1,           1,           1,           1,           1,           1,           1,           1,           1,           1,           0]]), 'Recall', 'Precision'], [array([          0,    0.001001,    0.002002,    0.003003,    0.004004,    0.005005,    0.006006,    0.007007,    0.008008,    0.009009,     0.01001,    0.011011,    0.012012,    0.013013,    0.014014,    0.015015,    0.016016,    0.017017,    0.018018,    0.019019,     0.02002,    0.021021,    0.022022,    0.023023,\n",
       "          0.024024,    0.025025,    0.026026,    0.027027,    0.028028,    0.029029,     0.03003,    0.031031,    0.032032,    0.033033,    0.034034,    0.035035,    0.036036,    0.037037,    0.038038,    0.039039,     0.04004,    0.041041,    0.042042,    0.043043,    0.044044,    0.045045,    0.046046,    0.047047,\n",
       "          0.048048,    0.049049,     0.05005,    0.051051,    0.052052,    0.053053,    0.054054,    0.055055,    0.056056,    0.057057,    0.058058,    0.059059,     0.06006,    0.061061,    0.062062,    0.063063,    0.064064,    0.065065,    0.066066,    0.067067,    0.068068,    0.069069,     0.07007,    0.071071,\n",
       "          0.072072,    0.073073,    0.074074,    0.075075,    0.076076,    0.077077,    0.078078,    0.079079,     0.08008,    0.081081,    0.082082,    0.083083,    0.084084,    0.085085,    0.086086,    0.087087,    0.088088,    0.089089,     0.09009,    0.091091,    0.092092,    0.093093,    0.094094,    0.095095,\n",
       "          0.096096,    0.097097,    0.098098,    0.099099,      0.1001,      0.1011,      0.1021,      0.1031,      0.1041,     0.10511,     0.10611,     0.10711,     0.10811,     0.10911,     0.11011,     0.11111,     0.11211,     0.11311,     0.11411,     0.11512,     0.11612,     0.11712,     0.11812,     0.11912,\n",
       "           0.12012,     0.12112,     0.12212,     0.12312,     0.12412,     0.12513,     0.12613,     0.12713,     0.12813,     0.12913,     0.13013,     0.13113,     0.13213,     0.13313,     0.13413,     0.13514,     0.13614,     0.13714,     0.13814,     0.13914,     0.14014,     0.14114,     0.14214,     0.14314,\n",
       "           0.14414,     0.14515,     0.14615,     0.14715,     0.14815,     0.14915,     0.15015,     0.15115,     0.15215,     0.15315,     0.15415,     0.15516,     0.15616,     0.15716,     0.15816,     0.15916,     0.16016,     0.16116,     0.16216,     0.16316,     0.16416,     0.16517,     0.16617,     0.16717,\n",
       "           0.16817,     0.16917,     0.17017,     0.17117,     0.17217,     0.17317,     0.17417,     0.17518,     0.17618,     0.17718,     0.17818,     0.17918,     0.18018,     0.18118,     0.18218,     0.18318,     0.18418,     0.18519,     0.18619,     0.18719,     0.18819,     0.18919,     0.19019,     0.19119,\n",
       "           0.19219,     0.19319,     0.19419,      0.1952,      0.1962,      0.1972,      0.1982,      0.1992,      0.2002,      0.2012,      0.2022,      0.2032,      0.2042,     0.20521,     0.20621,     0.20721,     0.20821,     0.20921,     0.21021,     0.21121,     0.21221,     0.21321,     0.21421,     0.21522,\n",
       "           0.21622,     0.21722,     0.21822,     0.21922,     0.22022,     0.22122,     0.22222,     0.22322,     0.22422,     0.22523,     0.22623,     0.22723,     0.22823,     0.22923,     0.23023,     0.23123,     0.23223,     0.23323,     0.23423,     0.23524,     0.23624,     0.23724,     0.23824,     0.23924,\n",
       "           0.24024,     0.24124,     0.24224,     0.24324,     0.24424,     0.24525,     0.24625,     0.24725,     0.24825,     0.24925,     0.25025,     0.25125,     0.25225,     0.25325,     0.25425,     0.25526,     0.25626,     0.25726,     0.25826,     0.25926,     0.26026,     0.26126,     0.26226,     0.26326,\n",
       "           0.26426,     0.26527,     0.26627,     0.26727,     0.26827,     0.26927,     0.27027,     0.27127,     0.27227,     0.27327,     0.27427,     0.27528,     0.27628,     0.27728,     0.27828,     0.27928,     0.28028,     0.28128,     0.28228,     0.28328,     0.28428,     0.28529,     0.28629,     0.28729,\n",
       "           0.28829,     0.28929,     0.29029,     0.29129,     0.29229,     0.29329,     0.29429,      0.2953,      0.2963,      0.2973,      0.2983,      0.2993,      0.3003,      0.3013,      0.3023,      0.3033,      0.3043,     0.30531,     0.30631,     0.30731,     0.30831,     0.30931,     0.31031,     0.31131,\n",
       "           0.31231,     0.31331,     0.31431,     0.31532,     0.31632,     0.31732,     0.31832,     0.31932,     0.32032,     0.32132,     0.32232,     0.32332,     0.32432,     0.32533,     0.32633,     0.32733,     0.32833,     0.32933,     0.33033,     0.33133,     0.33233,     0.33333,     0.33433,     0.33534,\n",
       "           0.33634,     0.33734,     0.33834,     0.33934,     0.34034,     0.34134,     0.34234,     0.34334,     0.34434,     0.34535,     0.34635,     0.34735,     0.34835,     0.34935,     0.35035,     0.35135,     0.35235,     0.35335,     0.35435,     0.35536,     0.35636,     0.35736,     0.35836,     0.35936,\n",
       "           0.36036,     0.36136,     0.36236,     0.36336,     0.36436,     0.36537,     0.36637,     0.36737,     0.36837,     0.36937,     0.37037,     0.37137,     0.37237,     0.37337,     0.37437,     0.37538,     0.37638,     0.37738,     0.37838,     0.37938,     0.38038,     0.38138,     0.38238,     0.38338,\n",
       "           0.38438,     0.38539,     0.38639,     0.38739,     0.38839,     0.38939,     0.39039,     0.39139,     0.39239,     0.39339,     0.39439,      0.3954,      0.3964,      0.3974,      0.3984,      0.3994,      0.4004,      0.4014,      0.4024,      0.4034,      0.4044,     0.40541,     0.40641,     0.40741,\n",
       "           0.40841,     0.40941,     0.41041,     0.41141,     0.41241,     0.41341,     0.41441,     0.41542,     0.41642,     0.41742,     0.41842,     0.41942,     0.42042,     0.42142,     0.42242,     0.42342,     0.42442,     0.42543,     0.42643,     0.42743,     0.42843,     0.42943,     0.43043,     0.43143,\n",
       "           0.43243,     0.43343,     0.43443,     0.43544,     0.43644,     0.43744,     0.43844,     0.43944,     0.44044,     0.44144,     0.44244,     0.44344,     0.44444,     0.44545,     0.44645,     0.44745,     0.44845,     0.44945,     0.45045,     0.45145,     0.45245,     0.45345,     0.45445,     0.45546,\n",
       "           0.45646,     0.45746,     0.45846,     0.45946,     0.46046,     0.46146,     0.46246,     0.46346,     0.46446,     0.46547,     0.46647,     0.46747,     0.46847,     0.46947,     0.47047,     0.47147,     0.47247,     0.47347,     0.47447,     0.47548,     0.47648,     0.47748,     0.47848,     0.47948,\n",
       "           0.48048,     0.48148,     0.48248,     0.48348,     0.48448,     0.48549,     0.48649,     0.48749,     0.48849,     0.48949,     0.49049,     0.49149,     0.49249,     0.49349,     0.49449,      0.4955,      0.4965,      0.4975,      0.4985,      0.4995,      0.5005,      0.5015,      0.5025,      0.5035,\n",
       "            0.5045,     0.50551,     0.50651,     0.50751,     0.50851,     0.50951,     0.51051,     0.51151,     0.51251,     0.51351,     0.51451,     0.51552,     0.51652,     0.51752,     0.51852,     0.51952,     0.52052,     0.52152,     0.52252,     0.52352,     0.52452,     0.52553,     0.52653,     0.52753,\n",
       "           0.52853,     0.52953,     0.53053,     0.53153,     0.53253,     0.53353,     0.53453,     0.53554,     0.53654,     0.53754,     0.53854,     0.53954,     0.54054,     0.54154,     0.54254,     0.54354,     0.54454,     0.54555,     0.54655,     0.54755,     0.54855,     0.54955,     0.55055,     0.55155,\n",
       "           0.55255,     0.55355,     0.55455,     0.55556,     0.55656,     0.55756,     0.55856,     0.55956,     0.56056,     0.56156,     0.56256,     0.56356,     0.56456,     0.56557,     0.56657,     0.56757,     0.56857,     0.56957,     0.57057,     0.57157,     0.57257,     0.57357,     0.57457,     0.57558,\n",
       "           0.57658,     0.57758,     0.57858,     0.57958,     0.58058,     0.58158,     0.58258,     0.58358,     0.58458,     0.58559,     0.58659,     0.58759,     0.58859,     0.58959,     0.59059,     0.59159,     0.59259,     0.59359,     0.59459,      0.5956,      0.5966,      0.5976,      0.5986,      0.5996,\n",
       "            0.6006,      0.6016,      0.6026,      0.6036,      0.6046,     0.60561,     0.60661,     0.60761,     0.60861,     0.60961,     0.61061,     0.61161,     0.61261,     0.61361,     0.61461,     0.61562,     0.61662,     0.61762,     0.61862,     0.61962,     0.62062,     0.62162,     0.62262,     0.62362,\n",
       "           0.62462,     0.62563,     0.62663,     0.62763,     0.62863,     0.62963,     0.63063,     0.63163,     0.63263,     0.63363,     0.63463,     0.63564,     0.63664,     0.63764,     0.63864,     0.63964,     0.64064,     0.64164,     0.64264,     0.64364,     0.64464,     0.64565,     0.64665,     0.64765,\n",
       "           0.64865,     0.64965,     0.65065,     0.65165,     0.65265,     0.65365,     0.65465,     0.65566,     0.65666,     0.65766,     0.65866,     0.65966,     0.66066,     0.66166,     0.66266,     0.66366,     0.66466,     0.66567,     0.66667,     0.66767,     0.66867,     0.66967,     0.67067,     0.67167,\n",
       "           0.67267,     0.67367,     0.67467,     0.67568,     0.67668,     0.67768,     0.67868,     0.67968,     0.68068,     0.68168,     0.68268,     0.68368,     0.68468,     0.68569,     0.68669,     0.68769,     0.68869,     0.68969,     0.69069,     0.69169,     0.69269,     0.69369,     0.69469,      0.6957,\n",
       "            0.6967,      0.6977,      0.6987,      0.6997,      0.7007,      0.7017,      0.7027,      0.7037,      0.7047,     0.70571,     0.70671,     0.70771,     0.70871,     0.70971,     0.71071,     0.71171,     0.71271,     0.71371,     0.71471,     0.71572,     0.71672,     0.71772,     0.71872,     0.71972,\n",
       "           0.72072,     0.72172,     0.72272,     0.72372,     0.72472,     0.72573,     0.72673,     0.72773,     0.72873,     0.72973,     0.73073,     0.73173,     0.73273,     0.73373,     0.73473,     0.73574,     0.73674,     0.73774,     0.73874,     0.73974,     0.74074,     0.74174,     0.74274,     0.74374,\n",
       "           0.74474,     0.74575,     0.74675,     0.74775,     0.74875,     0.74975,     0.75075,     0.75175,     0.75275,     0.75375,     0.75475,     0.75576,     0.75676,     0.75776,     0.75876,     0.75976,     0.76076,     0.76176,     0.76276,     0.76376,     0.76476,     0.76577,     0.76677,     0.76777,\n",
       "           0.76877,     0.76977,     0.77077,     0.77177,     0.77277,     0.77377,     0.77477,     0.77578,     0.77678,     0.77778,     0.77878,     0.77978,     0.78078,     0.78178,     0.78278,     0.78378,     0.78478,     0.78579,     0.78679,     0.78779,     0.78879,     0.78979,     0.79079,     0.79179,\n",
       "           0.79279,     0.79379,     0.79479,      0.7958,      0.7968,      0.7978,      0.7988,      0.7998,      0.8008,      0.8018,      0.8028,      0.8038,      0.8048,     0.80581,     0.80681,     0.80781,     0.80881,     0.80981,     0.81081,     0.81181,     0.81281,     0.81381,     0.81481,     0.81582,\n",
       "           0.81682,     0.81782,     0.81882,     0.81982,     0.82082,     0.82182,     0.82282,     0.82382,     0.82482,     0.82583,     0.82683,     0.82783,     0.82883,     0.82983,     0.83083,     0.83183,     0.83283,     0.83383,     0.83483,     0.83584,     0.83684,     0.83784,     0.83884,     0.83984,\n",
       "           0.84084,     0.84184,     0.84284,     0.84384,     0.84484,     0.84585,     0.84685,     0.84785,     0.84885,     0.84985,     0.85085,     0.85185,     0.85285,     0.85385,     0.85485,     0.85586,     0.85686,     0.85786,     0.85886,     0.85986,     0.86086,     0.86186,     0.86286,     0.86386,\n",
       "           0.86486,     0.86587,     0.86687,     0.86787,     0.86887,     0.86987,     0.87087,     0.87187,     0.87287,     0.87387,     0.87487,     0.87588,     0.87688,     0.87788,     0.87888,     0.87988,     0.88088,     0.88188,     0.88288,     0.88388,     0.88488,     0.88589,     0.88689,     0.88789,\n",
       "           0.88889,     0.88989,     0.89089,     0.89189,     0.89289,     0.89389,     0.89489,      0.8959,      0.8969,      0.8979,      0.8989,      0.8999,      0.9009,      0.9019,      0.9029,      0.9039,      0.9049,     0.90591,     0.90691,     0.90791,     0.90891,     0.90991,     0.91091,     0.91191,\n",
       "           0.91291,     0.91391,     0.91491,     0.91592,     0.91692,     0.91792,     0.91892,     0.91992,     0.92092,     0.92192,     0.92292,     0.92392,     0.92492,     0.92593,     0.92693,     0.92793,     0.92893,     0.92993,     0.93093,     0.93193,     0.93293,     0.93393,     0.93493,     0.93594,\n",
       "           0.93694,     0.93794,     0.93894,     0.93994,     0.94094,     0.94194,     0.94294,     0.94394,     0.94494,     0.94595,     0.94695,     0.94795,     0.94895,     0.94995,     0.95095,     0.95195,     0.95295,     0.95395,     0.95495,     0.95596,     0.95696,     0.95796,     0.95896,     0.95996,\n",
       "           0.96096,     0.96196,     0.96296,     0.96396,     0.96496,     0.96597,     0.96697,     0.96797,     0.96897,     0.96997,     0.97097,     0.97197,     0.97297,     0.97397,     0.97497,     0.97598,     0.97698,     0.97798,     0.97898,     0.97998,     0.98098,     0.98198,     0.98298,     0.98398,\n",
       "           0.98498,     0.98599,     0.98699,     0.98799,     0.98899,     0.98999,     0.99099,     0.99199,     0.99299,     0.99399,     0.99499,       0.996,       0.997,       0.998,       0.999,           1]), array([[  0.0066445,   0.0066445,   0.0088247,    0.021445,    0.026118,     0.02806,    0.031498,    0.039009,    0.054637,      0.1037,     0.24617,     0.46442,     0.65395,     0.71975,     0.90147,     0.94122,     0.94128,     0.94135,     0.94142,     0.94148,     0.94155,     0.94162,     0.94168,\n",
       "            0.94175,     0.94182,     0.94188,     0.94195,     0.94202,     0.94208,     0.94215,     0.94222,     0.94228,     0.94235,     0.94241,     0.94248,     0.94255,     0.94261,     0.94268,     0.94275,     0.94281,     0.94288,     0.94295,     0.94301,     0.94308,     0.94314,     0.94321,\n",
       "            0.94328,     0.94334,     0.94341,     0.94348,     0.94354,     0.94361,     0.94367,     0.94374,     0.94381,     0.94387,     0.94394,     0.94401,     0.94407,     0.94414,      0.9442,     0.94427,     0.94434,      0.9444,     0.94447,     0.94454,      0.9446,     0.94467,     0.94473,\n",
       "             0.9448,     0.94487,     0.94493,       0.945,     0.94506,     0.94513,      0.9452,     0.94526,     0.94533,     0.94539,     0.94546,     0.94553,     0.94559,     0.94566,     0.94572,     0.94579,     0.94586,     0.94592,     0.94599,     0.94605,     0.94612,     0.94619,     0.94625,\n",
       "            0.94632,     0.94638,     0.94645,     0.94652,     0.94658,     0.94665,     0.94671,     0.94678,     0.94684,     0.94691,     0.94698,     0.94704,     0.94711,     0.94717,     0.94724,     0.94731,     0.94737,     0.94744,      0.9475,     0.94757,     0.94763,      0.9477,     0.94777,\n",
       "            0.94783,      0.9479,     0.94796,     0.94803,     0.94809,     0.94816,     0.94823,     0.94829,     0.94836,     0.94842,     0.94849,     0.94855,     0.94862,     0.94868,     0.94875,     0.94882,     0.94888,     0.94895,     0.94901,     0.94908,     0.94914,     0.94921,     0.94928,\n",
       "            0.94934,     0.94941,     0.94947,     0.94954,      0.9496,     0.94967,     0.94973,      0.9498,     0.94986,     0.94993,        0.95,     0.95006,     0.95013,     0.95019,     0.95026,     0.95032,     0.95039,     0.95045,     0.95052,     0.95058,     0.95065,     0.95072,     0.95078,\n",
       "            0.95085,     0.95091,     0.95098,     0.95104,     0.95111,     0.95117,     0.95124,      0.9513,     0.95137,     0.95143,      0.9515,     0.95156,     0.95163,     0.95169,     0.95176,     0.95183,     0.95189,     0.95196,     0.95202,     0.95209,     0.95215,     0.95222,     0.95228,\n",
       "            0.95235,     0.95241,     0.95248,     0.95254,     0.95261,     0.95267,     0.95274,      0.9528,     0.95287,     0.95293,       0.953,     0.95306,     0.95313,     0.95319,     0.95326,     0.95332,     0.95339,     0.95345,     0.95352,     0.95358,     0.95365,     0.95371,     0.95378,\n",
       "            0.95384,     0.95391,     0.95397,     0.95404,      0.9541,     0.95417,     0.95423,      0.9543,     0.95436,     0.95443,     0.95449,     0.95456,     0.95462,     0.95469,     0.95475,     0.95482,     0.95488,     0.95495,     0.95501,     0.95508,     0.95514,     0.95521,     0.95527,\n",
       "            0.95534,      0.9554,     0.95546,     0.95553,     0.95559,     0.95566,     0.95572,     0.95579,     0.95585,     0.95592,     0.95598,     0.95605,     0.95611,     0.95618,     0.95624,     0.95631,     0.95637,     0.95644,      0.9565,     0.95656,     0.95663,     0.95669,     0.95676,\n",
       "            0.95682,     0.95689,     0.95695,     0.95702,     0.95708,     0.95715,     0.95721,     0.95728,     0.95734,      0.9574,     0.95747,     0.95753,      0.9576,     0.95766,     0.95773,     0.95779,     0.95786,     0.95792,     0.95798,     0.95805,     0.95811,     0.95818,     0.95824,\n",
       "            0.95831,     0.95837,     0.95844,      0.9585,     0.95856,     0.95863,     0.95869,     0.95876,     0.95882,     0.95889,     0.95895,     0.95901,     0.95908,     0.95914,     0.95921,     0.95927,     0.95934,      0.9594,     0.95947,     0.95953,     0.95959,     0.95966,     0.95972,\n",
       "            0.95979,     0.95985,     0.95991,     0.95998,     0.96004,     0.96011,     0.96017,     0.96024,      0.9603,     0.96036,     0.96043,     0.96049,     0.96056,     0.96062,     0.96068,     0.96075,     0.96081,     0.96088,     0.96094,     0.96101,     0.96107,     0.96113,      0.9612,\n",
       "            0.96126,     0.96133,     0.96139,     0.96145,     0.96152,     0.96158,     0.96165,     0.96171,     0.96177,     0.96184,      0.9619,     0.96197,     0.96203,     0.96209,     0.96216,     0.96222,     0.96229,     0.96235,     0.96241,     0.96248,     0.96254,      0.9626,     0.96267,\n",
       "            0.96273,      0.9628,     0.96286,     0.96292,     0.96299,     0.96305,     0.96312,     0.96318,     0.96324,     0.96331,     0.96337,     0.96343,      0.9635,     0.96356,     0.96363,     0.96369,     0.96375,     0.96382,     0.96388,     0.96394,     0.96401,     0.96407,     0.96414,\n",
       "             0.9642,     0.96426,     0.96433,     0.96439,     0.96445,     0.96452,     0.96458,     0.96465,     0.96471,     0.96477,     0.96484,      0.9649,     0.96496,     0.96503,     0.96509,     0.96515,     0.96522,     0.96528,     0.96534,     0.96541,     0.96547,     0.96554,      0.9656,\n",
       "            0.96566,     0.96573,     0.96579,     0.96585,     0.96592,     0.96598,     0.96604,     0.96611,     0.96617,     0.96623,      0.9663,     0.96636,     0.96642,     0.96649,     0.96655,     0.96661,     0.96668,     0.96674,      0.9668,     0.96687,     0.96693,     0.96699,     0.96706,\n",
       "            0.96712,     0.96718,     0.96725,     0.96731,     0.96737,     0.96744,      0.9675,     0.96756,     0.96763,     0.96769,     0.96775,     0.96782,     0.96788,     0.96794,     0.96801,     0.96807,     0.96813,      0.9682,     0.96826,     0.96832,     0.96839,     0.96845,     0.96851,\n",
       "            0.96858,     0.96864,      0.9687,     0.96877,     0.96883,     0.96889,     0.96895,     0.96902,     0.96908,     0.96914,     0.96921,     0.96927,     0.96933,      0.9694,     0.96946,     0.96952,     0.96959,     0.96965,     0.96971,     0.96977,     0.96984,      0.9699,     0.96996,\n",
       "            0.97003,     0.97009,     0.97015,     0.97022,     0.97028,     0.97034,      0.9704,     0.97047,     0.97053,     0.97059,     0.97066,     0.97072,     0.97078,     0.97084,     0.97091,     0.97097,     0.97103,      0.9711,     0.97116,     0.97122,     0.97128,     0.97135,     0.97141,\n",
       "            0.97147,     0.97154,      0.9716,     0.97166,     0.97172,     0.97179,     0.97185,     0.97191,     0.97197,     0.97204,      0.9721,     0.97216,     0.97223,     0.97229,     0.97235,     0.97241,     0.97248,     0.97254,      0.9726,     0.97266,     0.97273,     0.97279,     0.97285,\n",
       "            0.97292,     0.97298,     0.97304,      0.9731,     0.97317,     0.97323,     0.97329,     0.97335,     0.97342,     0.97348,     0.97354,      0.9736,     0.97367,     0.97373,     0.97379,     0.97385,     0.97392,     0.97398,     0.97404,      0.9741,     0.97417,     0.97423,     0.97429,\n",
       "            0.97435,     0.97442,     0.97448,     0.97454,      0.9746,     0.97467,     0.97473,     0.97479,     0.97485,     0.97492,     0.97498,     0.97504,      0.9751,     0.97516,     0.97523,     0.97529,     0.97535,     0.97541,     0.97548,     0.97554,      0.9756,     0.97566,     0.97573,\n",
       "            0.97579,     0.97585,     0.97591,     0.97597,     0.97604,      0.9761,     0.97616,     0.97622,     0.97629,     0.97635,     0.97641,     0.97647,     0.97653,      0.9766,     0.97666,     0.97672,     0.97678,     0.97685,     0.97691,     0.97697,     0.97703,     0.97709,     0.97716,\n",
       "            0.97722,     0.97728,     0.97734,      0.9774,     0.97747,     0.97753,     0.97759,     0.97765,     0.97771,     0.97778,     0.97784,      0.9779,     0.97796,     0.97802,     0.97809,     0.97815,     0.97821,     0.97827,     0.97833,      0.9784,     0.97846,     0.97852,     0.97858,\n",
       "            0.97864,     0.97871,     0.97877,     0.97883,     0.97889,     0.97895,     0.97902,     0.97908,     0.97914,      0.9792,     0.97926,     0.97932,     0.97939,     0.97945,     0.97951,     0.97957,     0.97963,      0.9797,     0.97976,     0.97982,     0.97988,     0.97994,        0.98,\n",
       "            0.98007,     0.98013,     0.98019,     0.98025,     0.98031,     0.98038,     0.98044,      0.9805,     0.98056,     0.98062,     0.98068,     0.98075,     0.98081,     0.98087,     0.98093,     0.98099,     0.98105,     0.98112,     0.98118,     0.98124,      0.9813,     0.98136,     0.98142,\n",
       "            0.98148,     0.98155,     0.98161,     0.98167,     0.98173,     0.98179,     0.98185,     0.98192,     0.98198,     0.98204,      0.9821,     0.98216,     0.98222,     0.98228,     0.98235,     0.98241,     0.98247,     0.98253,     0.98259,     0.98265,     0.98272,     0.98278,     0.98284,\n",
       "             0.9829,     0.98296,     0.98302,     0.98308,     0.98314,     0.98321,     0.98327,     0.98333,     0.98339,     0.98345,     0.98351,     0.98357,     0.98364,      0.9837,     0.98376,     0.98382,     0.98388,     0.98394,       0.984,     0.98406,     0.98413,     0.98419,     0.98425,\n",
       "            0.98431,     0.98437,     0.98443,     0.98449,     0.98455,     0.98462,     0.98468,     0.98474,      0.9848,     0.98486,     0.98492,     0.98498,     0.98504,     0.98511,     0.98517,     0.98523,     0.98529,     0.98535,     0.98541,     0.98547,     0.98553,     0.98559,     0.98566,\n",
       "            0.98572,     0.98578,     0.98584,      0.9859,     0.98596,     0.98602,     0.98608,     0.98614,      0.9862,     0.98627,     0.98633,     0.98639,     0.98645,     0.98651,     0.98657,     0.98663,     0.98669,     0.98675,     0.98681,     0.98688,     0.98694,       0.987,     0.98706,\n",
       "            0.98712,     0.98718,     0.98724,      0.9873,     0.98736,     0.98742,     0.98748,     0.98755,     0.98761,     0.98767,     0.98773,     0.98779,     0.98785,     0.98791,     0.98797,     0.98803,     0.98809,     0.98815,     0.98821,     0.98828,     0.98834,      0.9884,     0.98846,\n",
       "            0.98852,     0.98858,     0.98864,      0.9887,     0.98876,     0.98882,     0.98888,     0.98894,       0.989,     0.98906,     0.98913,     0.98919,     0.98925,     0.98931,     0.98937,     0.98943,     0.98949,     0.98955,     0.98961,     0.98967,     0.98973,     0.98979,     0.98985,\n",
       "            0.98991,     0.98997,     0.99003,     0.99009,     0.99016,     0.99022,     0.99028,     0.99034,      0.9904,     0.99046,     0.99052,     0.99058,     0.99064,      0.9907,     0.99076,     0.99082,     0.99088,     0.99094,       0.991,     0.99106,     0.99112,     0.99118,     0.99124,\n",
       "             0.9913,     0.99136,     0.99142,     0.99149,     0.99155,     0.99161,     0.99167,     0.99173,     0.99179,     0.99185,     0.99191,     0.99197,     0.99203,     0.99209,     0.99215,     0.99221,     0.99227,     0.99233,     0.99239,     0.99245,     0.99251,     0.99257,     0.99263,\n",
       "            0.99269,     0.99275,     0.99281,     0.99287,     0.99293,     0.99299,     0.99305,     0.99311,     0.99317,     0.99323,     0.99329,     0.99335,     0.99341,     0.99347,     0.99353,     0.99359,     0.99365,     0.99371,     0.99377,     0.99383,     0.99389,     0.99395,     0.99401,\n",
       "            0.99407,     0.99414,      0.9942,     0.99426,     0.99432,     0.99438,     0.99444,      0.9945,     0.99456,     0.99462,     0.99468,     0.99474,      0.9948,     0.99486,     0.99492,     0.99498,     0.99504,      0.9951,     0.99516,     0.99521,     0.99527,     0.99533,     0.99539,\n",
       "            0.99545,     0.99551,     0.99557,     0.99563,     0.99569,     0.99575,     0.99581,     0.99587,     0.99593,     0.99599,     0.99605,     0.99611,     0.99617,     0.99623,     0.99629,     0.99635,     0.99641,     0.99647,     0.99653,     0.99659,     0.99665,     0.99671,     0.99677,\n",
       "            0.99683,     0.99689,     0.99695,     0.99701,     0.99707,     0.99713,     0.99719,     0.99725,     0.99731,     0.99737,     0.99743,     0.99749,     0.99755,     0.99761,     0.99767,     0.99773,     0.99779,     0.99785,      0.9979,     0.99796,     0.99802,     0.99808,     0.99814,\n",
       "             0.9982,     0.99826,     0.99832,     0.99838,     0.99844,      0.9985,     0.99856,     0.99862,     0.99868,     0.99874,      0.9988,     0.99886,     0.99892,     0.99898,     0.99904,      0.9991,     0.99916,     0.99921,     0.99927,     0.99933,     0.99939,     0.99945,     0.99951,\n",
       "            0.99957,     0.99963,     0.99969,     0.99975,     0.99981,     0.99987,     0.99993,     0.99999,     0.99282,     0.98345,      0.9739,     0.96417,     0.95426,     0.94415,     0.93385,     0.90974,     0.88375,     0.85682,     0.84269,     0.82821,     0.81336,     0.79814,     0.78251,\n",
       "            0.76592,      0.7461,     0.72562,     0.70447,      0.6826,      0.6625,     0.64802,     0.63322,     0.61809,     0.60263,     0.58682,     0.57064,     0.55409,     0.40016,     0.38861,     0.37706,     0.36534,     0.35345,     0.34138,     0.32914,     0.31671,      0.3041,     0.29129,\n",
       "             0.2783,      0.2651,      0.2517,     0.23809,     0.22427,           0,           0,           0,           0,           0,           0]]), 'Confidence', 'F1'], [array([          0,    0.001001,    0.002002,    0.003003,    0.004004,    0.005005,    0.006006,    0.007007,    0.008008,    0.009009,     0.01001,    0.011011,    0.012012,    0.013013,    0.014014,    0.015015,    0.016016,    0.017017,    0.018018,    0.019019,     0.02002,    0.021021,    0.022022,    0.023023,\n",
       "          0.024024,    0.025025,    0.026026,    0.027027,    0.028028,    0.029029,     0.03003,    0.031031,    0.032032,    0.033033,    0.034034,    0.035035,    0.036036,    0.037037,    0.038038,    0.039039,     0.04004,    0.041041,    0.042042,    0.043043,    0.044044,    0.045045,    0.046046,    0.047047,\n",
       "          0.048048,    0.049049,     0.05005,    0.051051,    0.052052,    0.053053,    0.054054,    0.055055,    0.056056,    0.057057,    0.058058,    0.059059,     0.06006,    0.061061,    0.062062,    0.063063,    0.064064,    0.065065,    0.066066,    0.067067,    0.068068,    0.069069,     0.07007,    0.071071,\n",
       "          0.072072,    0.073073,    0.074074,    0.075075,    0.076076,    0.077077,    0.078078,    0.079079,     0.08008,    0.081081,    0.082082,    0.083083,    0.084084,    0.085085,    0.086086,    0.087087,    0.088088,    0.089089,     0.09009,    0.091091,    0.092092,    0.093093,    0.094094,    0.095095,\n",
       "          0.096096,    0.097097,    0.098098,    0.099099,      0.1001,      0.1011,      0.1021,      0.1031,      0.1041,     0.10511,     0.10611,     0.10711,     0.10811,     0.10911,     0.11011,     0.11111,     0.11211,     0.11311,     0.11411,     0.11512,     0.11612,     0.11712,     0.11812,     0.11912,\n",
       "           0.12012,     0.12112,     0.12212,     0.12312,     0.12412,     0.12513,     0.12613,     0.12713,     0.12813,     0.12913,     0.13013,     0.13113,     0.13213,     0.13313,     0.13413,     0.13514,     0.13614,     0.13714,     0.13814,     0.13914,     0.14014,     0.14114,     0.14214,     0.14314,\n",
       "           0.14414,     0.14515,     0.14615,     0.14715,     0.14815,     0.14915,     0.15015,     0.15115,     0.15215,     0.15315,     0.15415,     0.15516,     0.15616,     0.15716,     0.15816,     0.15916,     0.16016,     0.16116,     0.16216,     0.16316,     0.16416,     0.16517,     0.16617,     0.16717,\n",
       "           0.16817,     0.16917,     0.17017,     0.17117,     0.17217,     0.17317,     0.17417,     0.17518,     0.17618,     0.17718,     0.17818,     0.17918,     0.18018,     0.18118,     0.18218,     0.18318,     0.18418,     0.18519,     0.18619,     0.18719,     0.18819,     0.18919,     0.19019,     0.19119,\n",
       "           0.19219,     0.19319,     0.19419,      0.1952,      0.1962,      0.1972,      0.1982,      0.1992,      0.2002,      0.2012,      0.2022,      0.2032,      0.2042,     0.20521,     0.20621,     0.20721,     0.20821,     0.20921,     0.21021,     0.21121,     0.21221,     0.21321,     0.21421,     0.21522,\n",
       "           0.21622,     0.21722,     0.21822,     0.21922,     0.22022,     0.22122,     0.22222,     0.22322,     0.22422,     0.22523,     0.22623,     0.22723,     0.22823,     0.22923,     0.23023,     0.23123,     0.23223,     0.23323,     0.23423,     0.23524,     0.23624,     0.23724,     0.23824,     0.23924,\n",
       "           0.24024,     0.24124,     0.24224,     0.24324,     0.24424,     0.24525,     0.24625,     0.24725,     0.24825,     0.24925,     0.25025,     0.25125,     0.25225,     0.25325,     0.25425,     0.25526,     0.25626,     0.25726,     0.25826,     0.25926,     0.26026,     0.26126,     0.26226,     0.26326,\n",
       "           0.26426,     0.26527,     0.26627,     0.26727,     0.26827,     0.26927,     0.27027,     0.27127,     0.27227,     0.27327,     0.27427,     0.27528,     0.27628,     0.27728,     0.27828,     0.27928,     0.28028,     0.28128,     0.28228,     0.28328,     0.28428,     0.28529,     0.28629,     0.28729,\n",
       "           0.28829,     0.28929,     0.29029,     0.29129,     0.29229,     0.29329,     0.29429,      0.2953,      0.2963,      0.2973,      0.2983,      0.2993,      0.3003,      0.3013,      0.3023,      0.3033,      0.3043,     0.30531,     0.30631,     0.30731,     0.30831,     0.30931,     0.31031,     0.31131,\n",
       "           0.31231,     0.31331,     0.31431,     0.31532,     0.31632,     0.31732,     0.31832,     0.31932,     0.32032,     0.32132,     0.32232,     0.32332,     0.32432,     0.32533,     0.32633,     0.32733,     0.32833,     0.32933,     0.33033,     0.33133,     0.33233,     0.33333,     0.33433,     0.33534,\n",
       "           0.33634,     0.33734,     0.33834,     0.33934,     0.34034,     0.34134,     0.34234,     0.34334,     0.34434,     0.34535,     0.34635,     0.34735,     0.34835,     0.34935,     0.35035,     0.35135,     0.35235,     0.35335,     0.35435,     0.35536,     0.35636,     0.35736,     0.35836,     0.35936,\n",
       "           0.36036,     0.36136,     0.36236,     0.36336,     0.36436,     0.36537,     0.36637,     0.36737,     0.36837,     0.36937,     0.37037,     0.37137,     0.37237,     0.37337,     0.37437,     0.37538,     0.37638,     0.37738,     0.37838,     0.37938,     0.38038,     0.38138,     0.38238,     0.38338,\n",
       "           0.38438,     0.38539,     0.38639,     0.38739,     0.38839,     0.38939,     0.39039,     0.39139,     0.39239,     0.39339,     0.39439,      0.3954,      0.3964,      0.3974,      0.3984,      0.3994,      0.4004,      0.4014,      0.4024,      0.4034,      0.4044,     0.40541,     0.40641,     0.40741,\n",
       "           0.40841,     0.40941,     0.41041,     0.41141,     0.41241,     0.41341,     0.41441,     0.41542,     0.41642,     0.41742,     0.41842,     0.41942,     0.42042,     0.42142,     0.42242,     0.42342,     0.42442,     0.42543,     0.42643,     0.42743,     0.42843,     0.42943,     0.43043,     0.43143,\n",
       "           0.43243,     0.43343,     0.43443,     0.43544,     0.43644,     0.43744,     0.43844,     0.43944,     0.44044,     0.44144,     0.44244,     0.44344,     0.44444,     0.44545,     0.44645,     0.44745,     0.44845,     0.44945,     0.45045,     0.45145,     0.45245,     0.45345,     0.45445,     0.45546,\n",
       "           0.45646,     0.45746,     0.45846,     0.45946,     0.46046,     0.46146,     0.46246,     0.46346,     0.46446,     0.46547,     0.46647,     0.46747,     0.46847,     0.46947,     0.47047,     0.47147,     0.47247,     0.47347,     0.47447,     0.47548,     0.47648,     0.47748,     0.47848,     0.47948,\n",
       "           0.48048,     0.48148,     0.48248,     0.48348,     0.48448,     0.48549,     0.48649,     0.48749,     0.48849,     0.48949,     0.49049,     0.49149,     0.49249,     0.49349,     0.49449,      0.4955,      0.4965,      0.4975,      0.4985,      0.4995,      0.5005,      0.5015,      0.5025,      0.5035,\n",
       "            0.5045,     0.50551,     0.50651,     0.50751,     0.50851,     0.50951,     0.51051,     0.51151,     0.51251,     0.51351,     0.51451,     0.51552,     0.51652,     0.51752,     0.51852,     0.51952,     0.52052,     0.52152,     0.52252,     0.52352,     0.52452,     0.52553,     0.52653,     0.52753,\n",
       "           0.52853,     0.52953,     0.53053,     0.53153,     0.53253,     0.53353,     0.53453,     0.53554,     0.53654,     0.53754,     0.53854,     0.53954,     0.54054,     0.54154,     0.54254,     0.54354,     0.54454,     0.54555,     0.54655,     0.54755,     0.54855,     0.54955,     0.55055,     0.55155,\n",
       "           0.55255,     0.55355,     0.55455,     0.55556,     0.55656,     0.55756,     0.55856,     0.55956,     0.56056,     0.56156,     0.56256,     0.56356,     0.56456,     0.56557,     0.56657,     0.56757,     0.56857,     0.56957,     0.57057,     0.57157,     0.57257,     0.57357,     0.57457,     0.57558,\n",
       "           0.57658,     0.57758,     0.57858,     0.57958,     0.58058,     0.58158,     0.58258,     0.58358,     0.58458,     0.58559,     0.58659,     0.58759,     0.58859,     0.58959,     0.59059,     0.59159,     0.59259,     0.59359,     0.59459,      0.5956,      0.5966,      0.5976,      0.5986,      0.5996,\n",
       "            0.6006,      0.6016,      0.6026,      0.6036,      0.6046,     0.60561,     0.60661,     0.60761,     0.60861,     0.60961,     0.61061,     0.61161,     0.61261,     0.61361,     0.61461,     0.61562,     0.61662,     0.61762,     0.61862,     0.61962,     0.62062,     0.62162,     0.62262,     0.62362,\n",
       "           0.62462,     0.62563,     0.62663,     0.62763,     0.62863,     0.62963,     0.63063,     0.63163,     0.63263,     0.63363,     0.63463,     0.63564,     0.63664,     0.63764,     0.63864,     0.63964,     0.64064,     0.64164,     0.64264,     0.64364,     0.64464,     0.64565,     0.64665,     0.64765,\n",
       "           0.64865,     0.64965,     0.65065,     0.65165,     0.65265,     0.65365,     0.65465,     0.65566,     0.65666,     0.65766,     0.65866,     0.65966,     0.66066,     0.66166,     0.66266,     0.66366,     0.66466,     0.66567,     0.66667,     0.66767,     0.66867,     0.66967,     0.67067,     0.67167,\n",
       "           0.67267,     0.67367,     0.67467,     0.67568,     0.67668,     0.67768,     0.67868,     0.67968,     0.68068,     0.68168,     0.68268,     0.68368,     0.68468,     0.68569,     0.68669,     0.68769,     0.68869,     0.68969,     0.69069,     0.69169,     0.69269,     0.69369,     0.69469,      0.6957,\n",
       "            0.6967,      0.6977,      0.6987,      0.6997,      0.7007,      0.7017,      0.7027,      0.7037,      0.7047,     0.70571,     0.70671,     0.70771,     0.70871,     0.70971,     0.71071,     0.71171,     0.71271,     0.71371,     0.71471,     0.71572,     0.71672,     0.71772,     0.71872,     0.71972,\n",
       "           0.72072,     0.72172,     0.72272,     0.72372,     0.72472,     0.72573,     0.72673,     0.72773,     0.72873,     0.72973,     0.73073,     0.73173,     0.73273,     0.73373,     0.73473,     0.73574,     0.73674,     0.73774,     0.73874,     0.73974,     0.74074,     0.74174,     0.74274,     0.74374,\n",
       "           0.74474,     0.74575,     0.74675,     0.74775,     0.74875,     0.74975,     0.75075,     0.75175,     0.75275,     0.75375,     0.75475,     0.75576,     0.75676,     0.75776,     0.75876,     0.75976,     0.76076,     0.76176,     0.76276,     0.76376,     0.76476,     0.76577,     0.76677,     0.76777,\n",
       "           0.76877,     0.76977,     0.77077,     0.77177,     0.77277,     0.77377,     0.77477,     0.77578,     0.77678,     0.77778,     0.77878,     0.77978,     0.78078,     0.78178,     0.78278,     0.78378,     0.78478,     0.78579,     0.78679,     0.78779,     0.78879,     0.78979,     0.79079,     0.79179,\n",
       "           0.79279,     0.79379,     0.79479,      0.7958,      0.7968,      0.7978,      0.7988,      0.7998,      0.8008,      0.8018,      0.8028,      0.8038,      0.8048,     0.80581,     0.80681,     0.80781,     0.80881,     0.80981,     0.81081,     0.81181,     0.81281,     0.81381,     0.81481,     0.81582,\n",
       "           0.81682,     0.81782,     0.81882,     0.81982,     0.82082,     0.82182,     0.82282,     0.82382,     0.82482,     0.82583,     0.82683,     0.82783,     0.82883,     0.82983,     0.83083,     0.83183,     0.83283,     0.83383,     0.83483,     0.83584,     0.83684,     0.83784,     0.83884,     0.83984,\n",
       "           0.84084,     0.84184,     0.84284,     0.84384,     0.84484,     0.84585,     0.84685,     0.84785,     0.84885,     0.84985,     0.85085,     0.85185,     0.85285,     0.85385,     0.85485,     0.85586,     0.85686,     0.85786,     0.85886,     0.85986,     0.86086,     0.86186,     0.86286,     0.86386,\n",
       "           0.86486,     0.86587,     0.86687,     0.86787,     0.86887,     0.86987,     0.87087,     0.87187,     0.87287,     0.87387,     0.87487,     0.87588,     0.87688,     0.87788,     0.87888,     0.87988,     0.88088,     0.88188,     0.88288,     0.88388,     0.88488,     0.88589,     0.88689,     0.88789,\n",
       "           0.88889,     0.88989,     0.89089,     0.89189,     0.89289,     0.89389,     0.89489,      0.8959,      0.8969,      0.8979,      0.8989,      0.8999,      0.9009,      0.9019,      0.9029,      0.9039,      0.9049,     0.90591,     0.90691,     0.90791,     0.90891,     0.90991,     0.91091,     0.91191,\n",
       "           0.91291,     0.91391,     0.91491,     0.91592,     0.91692,     0.91792,     0.91892,     0.91992,     0.92092,     0.92192,     0.92292,     0.92392,     0.92492,     0.92593,     0.92693,     0.92793,     0.92893,     0.92993,     0.93093,     0.93193,     0.93293,     0.93393,     0.93493,     0.93594,\n",
       "           0.93694,     0.93794,     0.93894,     0.93994,     0.94094,     0.94194,     0.94294,     0.94394,     0.94494,     0.94595,     0.94695,     0.94795,     0.94895,     0.94995,     0.95095,     0.95195,     0.95295,     0.95395,     0.95495,     0.95596,     0.95696,     0.95796,     0.95896,     0.95996,\n",
       "           0.96096,     0.96196,     0.96296,     0.96396,     0.96496,     0.96597,     0.96697,     0.96797,     0.96897,     0.96997,     0.97097,     0.97197,     0.97297,     0.97397,     0.97497,     0.97598,     0.97698,     0.97798,     0.97898,     0.97998,     0.98098,     0.98198,     0.98298,     0.98398,\n",
       "           0.98498,     0.98599,     0.98699,     0.98799,     0.98899,     0.98999,     0.99099,     0.99199,     0.99299,     0.99399,     0.99499,       0.996,       0.997,       0.998,       0.999,           1]), array([[  0.0033333,   0.0033333,   0.0044319,    0.010839,    0.013232,     0.01423,    0.016001,    0.019892,    0.028086,    0.054685,     0.14036,     0.30244,     0.48583,      0.5622,     0.82062,     0.88896,     0.88908,      0.8892,     0.88932,     0.88944,     0.88956,     0.88968,     0.88979,\n",
       "            0.88991,     0.89003,     0.89015,     0.89027,     0.89039,     0.89051,     0.89063,     0.89074,     0.89086,     0.89098,      0.8911,     0.89122,     0.89134,     0.89146,     0.89158,     0.89169,     0.89181,     0.89193,     0.89205,     0.89217,     0.89229,     0.89241,     0.89252,\n",
       "            0.89264,     0.89276,     0.89288,       0.893,     0.89312,     0.89324,     0.89336,     0.89347,     0.89359,     0.89371,     0.89383,     0.89395,     0.89407,     0.89419,     0.89431,     0.89442,     0.89454,     0.89466,     0.89478,      0.8949,     0.89502,     0.89514,     0.89526,\n",
       "            0.89537,     0.89549,     0.89561,     0.89573,     0.89585,     0.89597,     0.89609,     0.89621,     0.89632,     0.89644,     0.89656,     0.89668,      0.8968,     0.89692,     0.89704,     0.89716,     0.89727,     0.89739,     0.89751,     0.89763,     0.89775,     0.89787,     0.89799,\n",
       "            0.89811,     0.89822,     0.89834,     0.89846,     0.89858,      0.8987,     0.89882,     0.89894,     0.89906,     0.89917,     0.89929,     0.89941,     0.89953,     0.89965,     0.89977,     0.89989,         0.9,     0.90012,     0.90024,     0.90036,     0.90048,      0.9006,     0.90072,\n",
       "            0.90084,     0.90095,     0.90107,     0.90119,     0.90131,     0.90143,     0.90155,     0.90167,     0.90179,      0.9019,     0.90202,     0.90214,     0.90226,     0.90238,      0.9025,     0.90262,     0.90274,     0.90285,     0.90297,     0.90309,     0.90321,     0.90333,     0.90345,\n",
       "            0.90357,     0.90369,      0.9038,     0.90392,     0.90404,     0.90416,     0.90428,      0.9044,     0.90452,     0.90464,     0.90475,     0.90487,     0.90499,     0.90511,     0.90523,     0.90535,     0.90547,     0.90559,      0.9057,     0.90582,     0.90594,     0.90606,     0.90618,\n",
       "             0.9063,     0.90642,     0.90653,     0.90665,     0.90677,     0.90689,     0.90701,     0.90713,     0.90725,     0.90737,     0.90748,      0.9076,     0.90772,     0.90784,     0.90796,     0.90808,      0.9082,     0.90832,     0.90843,     0.90855,     0.90867,     0.90879,     0.90891,\n",
       "            0.90903,     0.90915,     0.90927,     0.90938,      0.9095,     0.90962,     0.90974,     0.90986,     0.90998,      0.9101,     0.91022,     0.91033,     0.91045,     0.91057,     0.91069,     0.91081,     0.91093,     0.91105,     0.91117,     0.91128,      0.9114,     0.91152,     0.91164,\n",
       "            0.91176,     0.91188,       0.912,     0.91212,     0.91223,     0.91235,     0.91247,     0.91259,     0.91271,     0.91283,     0.91295,     0.91306,     0.91318,      0.9133,     0.91342,     0.91354,     0.91366,     0.91378,      0.9139,     0.91401,     0.91413,     0.91425,     0.91437,\n",
       "            0.91449,     0.91461,     0.91473,     0.91485,     0.91496,     0.91508,      0.9152,     0.91532,     0.91544,     0.91556,     0.91568,      0.9158,     0.91591,     0.91603,     0.91615,     0.91627,     0.91639,     0.91651,     0.91663,     0.91675,     0.91686,     0.91698,      0.9171,\n",
       "            0.91722,     0.91734,     0.91746,     0.91758,      0.9177,     0.91781,     0.91793,     0.91805,     0.91817,     0.91829,     0.91841,     0.91853,     0.91865,     0.91876,     0.91888,       0.919,     0.91912,     0.91924,     0.91936,     0.91948,     0.91959,     0.91971,     0.91983,\n",
       "            0.91995,     0.92007,     0.92019,     0.92031,     0.92043,     0.92054,     0.92066,     0.92078,      0.9209,     0.92102,     0.92114,     0.92126,     0.92138,     0.92149,     0.92161,     0.92173,     0.92185,     0.92197,     0.92209,     0.92221,     0.92233,     0.92244,     0.92256,\n",
       "            0.92268,      0.9228,     0.92292,     0.92304,     0.92316,     0.92328,     0.92339,     0.92351,     0.92363,     0.92375,     0.92387,     0.92399,     0.92411,     0.92423,     0.92434,     0.92446,     0.92458,      0.9247,     0.92482,     0.92494,     0.92506,     0.92518,     0.92529,\n",
       "            0.92541,     0.92553,     0.92565,     0.92577,     0.92589,     0.92601,     0.92612,     0.92624,     0.92636,     0.92648,      0.9266,     0.92672,     0.92684,     0.92696,     0.92707,     0.92719,     0.92731,     0.92743,     0.92755,     0.92767,     0.92779,     0.92791,     0.92802,\n",
       "            0.92814,     0.92826,     0.92838,      0.9285,     0.92862,     0.92874,     0.92886,     0.92897,     0.92909,     0.92921,     0.92933,     0.92945,     0.92957,     0.92969,     0.92981,     0.92992,     0.93004,     0.93016,     0.93028,      0.9304,     0.93052,     0.93064,     0.93076,\n",
       "            0.93087,     0.93099,     0.93111,     0.93123,     0.93135,     0.93147,     0.93159,     0.93171,     0.93182,     0.93194,     0.93206,     0.93218,      0.9323,     0.93242,     0.93254,     0.93266,     0.93277,     0.93289,     0.93301,     0.93313,     0.93325,     0.93337,     0.93349,\n",
       "             0.9336,     0.93372,     0.93384,     0.93396,     0.93408,      0.9342,     0.93432,     0.93444,     0.93455,     0.93467,     0.93479,     0.93491,     0.93503,     0.93515,     0.93527,     0.93539,      0.9355,     0.93562,     0.93574,     0.93586,     0.93598,      0.9361,     0.93622,\n",
       "            0.93634,     0.93645,     0.93657,     0.93669,     0.93681,     0.93693,     0.93705,     0.93717,     0.93729,      0.9374,     0.93752,     0.93764,     0.93776,     0.93788,       0.938,     0.93812,     0.93824,     0.93835,     0.93847,     0.93859,     0.93871,     0.93883,     0.93895,\n",
       "            0.93907,     0.93919,      0.9393,     0.93942,     0.93954,     0.93966,     0.93978,      0.9399,     0.94002,     0.94013,     0.94025,     0.94037,     0.94049,     0.94061,     0.94073,     0.94085,     0.94097,     0.94108,      0.9412,     0.94132,     0.94144,     0.94156,     0.94168,\n",
       "             0.9418,     0.94192,     0.94203,     0.94215,     0.94227,     0.94239,     0.94251,     0.94263,     0.94275,     0.94287,     0.94298,      0.9431,     0.94322,     0.94334,     0.94346,     0.94358,      0.9437,     0.94382,     0.94393,     0.94405,     0.94417,     0.94429,     0.94441,\n",
       "            0.94453,     0.94465,     0.94477,     0.94488,       0.945,     0.94512,     0.94524,     0.94536,     0.94548,      0.9456,     0.94572,     0.94583,     0.94595,     0.94607,     0.94619,     0.94631,     0.94643,     0.94655,     0.94666,     0.94678,      0.9469,     0.94702,     0.94714,\n",
       "            0.94726,     0.94738,      0.9475,     0.94761,     0.94773,     0.94785,     0.94797,     0.94809,     0.94821,     0.94833,     0.94845,     0.94856,     0.94868,      0.9488,     0.94892,     0.94904,     0.94916,     0.94928,      0.9494,     0.94951,     0.94963,     0.94975,     0.94987,\n",
       "            0.94999,     0.95011,     0.95023,     0.95035,     0.95046,     0.95058,      0.9507,     0.95082,     0.95094,     0.95106,     0.95118,      0.9513,     0.95141,     0.95153,     0.95165,     0.95177,     0.95189,     0.95201,     0.95213,     0.95225,     0.95236,     0.95248,      0.9526,\n",
       "            0.95272,     0.95284,     0.95296,     0.95308,     0.95319,     0.95331,     0.95343,     0.95355,     0.95367,     0.95379,     0.95391,     0.95403,     0.95414,     0.95426,     0.95438,      0.9545,     0.95462,     0.95474,     0.95486,     0.95498,     0.95509,     0.95521,     0.95533,\n",
       "            0.95545,     0.95557,     0.95569,     0.95581,     0.95593,     0.95604,     0.95616,     0.95628,      0.9564,     0.95652,     0.95664,     0.95676,     0.95688,     0.95699,     0.95711,     0.95723,     0.95735,     0.95747,     0.95759,     0.95771,     0.95783,     0.95794,     0.95806,\n",
       "            0.95818,      0.9583,     0.95842,     0.95854,     0.95866,     0.95878,     0.95889,     0.95901,     0.95913,     0.95925,     0.95937,     0.95949,     0.95961,     0.95973,     0.95984,     0.95996,     0.96008,      0.9602,     0.96032,     0.96044,     0.96056,     0.96067,     0.96079,\n",
       "            0.96091,     0.96103,     0.96115,     0.96127,     0.96139,     0.96151,     0.96162,     0.96174,     0.96186,     0.96198,      0.9621,     0.96222,     0.96234,     0.96246,     0.96257,     0.96269,     0.96281,     0.96293,     0.96305,     0.96317,     0.96329,     0.96341,     0.96352,\n",
       "            0.96364,     0.96376,     0.96388,       0.964,     0.96412,     0.96424,     0.96436,     0.96447,     0.96459,     0.96471,     0.96483,     0.96495,     0.96507,     0.96519,     0.96531,     0.96542,     0.96554,     0.96566,     0.96578,      0.9659,     0.96602,     0.96614,     0.96626,\n",
       "            0.96637,     0.96649,     0.96661,     0.96673,     0.96685,     0.96697,     0.96709,      0.9672,     0.96732,     0.96744,     0.96756,     0.96768,      0.9678,     0.96792,     0.96804,     0.96815,     0.96827,     0.96839,     0.96851,     0.96863,     0.96875,     0.96887,     0.96899,\n",
       "             0.9691,     0.96922,     0.96934,     0.96946,     0.96958,      0.9697,     0.96982,     0.96994,     0.97005,     0.97017,     0.97029,     0.97041,     0.97053,     0.97065,     0.97077,     0.97089,       0.971,     0.97112,     0.97124,     0.97136,     0.97148,      0.9716,     0.97172,\n",
       "            0.97184,     0.97195,     0.97207,     0.97219,     0.97231,     0.97243,     0.97255,     0.97267,     0.97279,      0.9729,     0.97302,     0.97314,     0.97326,     0.97338,      0.9735,     0.97362,     0.97373,     0.97385,     0.97397,     0.97409,     0.97421,     0.97433,     0.97445,\n",
       "            0.97457,     0.97468,      0.9748,     0.97492,     0.97504,     0.97516,     0.97528,      0.9754,     0.97552,     0.97563,     0.97575,     0.97587,     0.97599,     0.97611,     0.97623,     0.97635,     0.97647,     0.97658,      0.9767,     0.97682,     0.97694,     0.97706,     0.97718,\n",
       "             0.9773,     0.97742,     0.97753,     0.97765,     0.97777,     0.97789,     0.97801,     0.97813,     0.97825,     0.97837,     0.97848,      0.9786,     0.97872,     0.97884,     0.97896,     0.97908,      0.9792,     0.97932,     0.97943,     0.97955,     0.97967,     0.97979,     0.97991,\n",
       "            0.98003,     0.98015,     0.98026,     0.98038,      0.9805,     0.98062,     0.98074,     0.98086,     0.98098,      0.9811,     0.98121,     0.98133,     0.98145,     0.98157,     0.98169,     0.98181,     0.98193,     0.98205,     0.98216,     0.98228,      0.9824,     0.98252,     0.98264,\n",
       "            0.98276,     0.98288,       0.983,     0.98311,     0.98323,     0.98335,     0.98347,     0.98359,     0.98371,     0.98383,     0.98395,     0.98406,     0.98418,      0.9843,     0.98442,     0.98454,     0.98466,     0.98478,      0.9849,     0.98501,     0.98513,     0.98525,     0.98537,\n",
       "            0.98549,     0.98561,     0.98573,     0.98585,     0.98596,     0.98608,      0.9862,     0.98632,     0.98644,     0.98656,     0.98668,     0.98679,     0.98691,     0.98703,     0.98715,     0.98727,     0.98739,     0.98751,     0.98763,     0.98774,     0.98786,     0.98798,      0.9881,\n",
       "            0.98822,     0.98834,     0.98846,     0.98858,     0.98869,     0.98881,     0.98893,     0.98905,     0.98917,     0.98929,     0.98941,     0.98953,     0.98964,     0.98976,     0.98988,        0.99,     0.99012,     0.99024,     0.99036,     0.99048,     0.99059,     0.99071,     0.99083,\n",
       "            0.99095,     0.99107,     0.99119,     0.99131,     0.99143,     0.99154,     0.99166,     0.99178,      0.9919,     0.99202,     0.99214,     0.99226,     0.99238,     0.99249,     0.99261,     0.99273,     0.99285,     0.99297,     0.99309,     0.99321,     0.99333,     0.99344,     0.99356,\n",
       "            0.99368,      0.9938,     0.99392,     0.99404,     0.99416,     0.99427,     0.99439,     0.99451,     0.99463,     0.99475,     0.99487,     0.99499,     0.99511,     0.99522,     0.99534,     0.99546,     0.99558,      0.9957,     0.99582,     0.99594,     0.99606,     0.99617,     0.99629,\n",
       "            0.99641,     0.99653,     0.99665,     0.99677,     0.99689,     0.99701,     0.99712,     0.99724,     0.99736,     0.99748,      0.9976,     0.99772,     0.99784,     0.99796,     0.99807,     0.99819,     0.99831,     0.99843,     0.99855,     0.99867,     0.99879,     0.99891,     0.99902,\n",
       "            0.99914,     0.99926,     0.99938,      0.9995,     0.99962,     0.99974,     0.99986,     0.99997,           1,           1,           1,           1,           1,           1,           1,           1,           1,           1,           1,           1,           1,           1,           1,\n",
       "                  1,           1,           1,           1,           1,           1,           1,           1,           1,           1,           1,           1,           1,           1,           1,           1,           1,           1,           1,           1,           1,           1,           1,\n",
       "                  1,           1,           1,           1,           1,           1,           1,           1,           1,           1,           1]]), 'Confidence', 'Precision'], [array([          0,    0.001001,    0.002002,    0.003003,    0.004004,    0.005005,    0.006006,    0.007007,    0.008008,    0.009009,     0.01001,    0.011011,    0.012012,    0.013013,    0.014014,    0.015015,    0.016016,    0.017017,    0.018018,    0.019019,     0.02002,    0.021021,    0.022022,    0.023023,\n",
       "          0.024024,    0.025025,    0.026026,    0.027027,    0.028028,    0.029029,     0.03003,    0.031031,    0.032032,    0.033033,    0.034034,    0.035035,    0.036036,    0.037037,    0.038038,    0.039039,     0.04004,    0.041041,    0.042042,    0.043043,    0.044044,    0.045045,    0.046046,    0.047047,\n",
       "          0.048048,    0.049049,     0.05005,    0.051051,    0.052052,    0.053053,    0.054054,    0.055055,    0.056056,    0.057057,    0.058058,    0.059059,     0.06006,    0.061061,    0.062062,    0.063063,    0.064064,    0.065065,    0.066066,    0.067067,    0.068068,    0.069069,     0.07007,    0.071071,\n",
       "          0.072072,    0.073073,    0.074074,    0.075075,    0.076076,    0.077077,    0.078078,    0.079079,     0.08008,    0.081081,    0.082082,    0.083083,    0.084084,    0.085085,    0.086086,    0.087087,    0.088088,    0.089089,     0.09009,    0.091091,    0.092092,    0.093093,    0.094094,    0.095095,\n",
       "          0.096096,    0.097097,    0.098098,    0.099099,      0.1001,      0.1011,      0.1021,      0.1031,      0.1041,     0.10511,     0.10611,     0.10711,     0.10811,     0.10911,     0.11011,     0.11111,     0.11211,     0.11311,     0.11411,     0.11512,     0.11612,     0.11712,     0.11812,     0.11912,\n",
       "           0.12012,     0.12112,     0.12212,     0.12312,     0.12412,     0.12513,     0.12613,     0.12713,     0.12813,     0.12913,     0.13013,     0.13113,     0.13213,     0.13313,     0.13413,     0.13514,     0.13614,     0.13714,     0.13814,     0.13914,     0.14014,     0.14114,     0.14214,     0.14314,\n",
       "           0.14414,     0.14515,     0.14615,     0.14715,     0.14815,     0.14915,     0.15015,     0.15115,     0.15215,     0.15315,     0.15415,     0.15516,     0.15616,     0.15716,     0.15816,     0.15916,     0.16016,     0.16116,     0.16216,     0.16316,     0.16416,     0.16517,     0.16617,     0.16717,\n",
       "           0.16817,     0.16917,     0.17017,     0.17117,     0.17217,     0.17317,     0.17417,     0.17518,     0.17618,     0.17718,     0.17818,     0.17918,     0.18018,     0.18118,     0.18218,     0.18318,     0.18418,     0.18519,     0.18619,     0.18719,     0.18819,     0.18919,     0.19019,     0.19119,\n",
       "           0.19219,     0.19319,     0.19419,      0.1952,      0.1962,      0.1972,      0.1982,      0.1992,      0.2002,      0.2012,      0.2022,      0.2032,      0.2042,     0.20521,     0.20621,     0.20721,     0.20821,     0.20921,     0.21021,     0.21121,     0.21221,     0.21321,     0.21421,     0.21522,\n",
       "           0.21622,     0.21722,     0.21822,     0.21922,     0.22022,     0.22122,     0.22222,     0.22322,     0.22422,     0.22523,     0.22623,     0.22723,     0.22823,     0.22923,     0.23023,     0.23123,     0.23223,     0.23323,     0.23423,     0.23524,     0.23624,     0.23724,     0.23824,     0.23924,\n",
       "           0.24024,     0.24124,     0.24224,     0.24324,     0.24424,     0.24525,     0.24625,     0.24725,     0.24825,     0.24925,     0.25025,     0.25125,     0.25225,     0.25325,     0.25425,     0.25526,     0.25626,     0.25726,     0.25826,     0.25926,     0.26026,     0.26126,     0.26226,     0.26326,\n",
       "           0.26426,     0.26527,     0.26627,     0.26727,     0.26827,     0.26927,     0.27027,     0.27127,     0.27227,     0.27327,     0.27427,     0.27528,     0.27628,     0.27728,     0.27828,     0.27928,     0.28028,     0.28128,     0.28228,     0.28328,     0.28428,     0.28529,     0.28629,     0.28729,\n",
       "           0.28829,     0.28929,     0.29029,     0.29129,     0.29229,     0.29329,     0.29429,      0.2953,      0.2963,      0.2973,      0.2983,      0.2993,      0.3003,      0.3013,      0.3023,      0.3033,      0.3043,     0.30531,     0.30631,     0.30731,     0.30831,     0.30931,     0.31031,     0.31131,\n",
       "           0.31231,     0.31331,     0.31431,     0.31532,     0.31632,     0.31732,     0.31832,     0.31932,     0.32032,     0.32132,     0.32232,     0.32332,     0.32432,     0.32533,     0.32633,     0.32733,     0.32833,     0.32933,     0.33033,     0.33133,     0.33233,     0.33333,     0.33433,     0.33534,\n",
       "           0.33634,     0.33734,     0.33834,     0.33934,     0.34034,     0.34134,     0.34234,     0.34334,     0.34434,     0.34535,     0.34635,     0.34735,     0.34835,     0.34935,     0.35035,     0.35135,     0.35235,     0.35335,     0.35435,     0.35536,     0.35636,     0.35736,     0.35836,     0.35936,\n",
       "           0.36036,     0.36136,     0.36236,     0.36336,     0.36436,     0.36537,     0.36637,     0.36737,     0.36837,     0.36937,     0.37037,     0.37137,     0.37237,     0.37337,     0.37437,     0.37538,     0.37638,     0.37738,     0.37838,     0.37938,     0.38038,     0.38138,     0.38238,     0.38338,\n",
       "           0.38438,     0.38539,     0.38639,     0.38739,     0.38839,     0.38939,     0.39039,     0.39139,     0.39239,     0.39339,     0.39439,      0.3954,      0.3964,      0.3974,      0.3984,      0.3994,      0.4004,      0.4014,      0.4024,      0.4034,      0.4044,     0.40541,     0.40641,     0.40741,\n",
       "           0.40841,     0.40941,     0.41041,     0.41141,     0.41241,     0.41341,     0.41441,     0.41542,     0.41642,     0.41742,     0.41842,     0.41942,     0.42042,     0.42142,     0.42242,     0.42342,     0.42442,     0.42543,     0.42643,     0.42743,     0.42843,     0.42943,     0.43043,     0.43143,\n",
       "           0.43243,     0.43343,     0.43443,     0.43544,     0.43644,     0.43744,     0.43844,     0.43944,     0.44044,     0.44144,     0.44244,     0.44344,     0.44444,     0.44545,     0.44645,     0.44745,     0.44845,     0.44945,     0.45045,     0.45145,     0.45245,     0.45345,     0.45445,     0.45546,\n",
       "           0.45646,     0.45746,     0.45846,     0.45946,     0.46046,     0.46146,     0.46246,     0.46346,     0.46446,     0.46547,     0.46647,     0.46747,     0.46847,     0.46947,     0.47047,     0.47147,     0.47247,     0.47347,     0.47447,     0.47548,     0.47648,     0.47748,     0.47848,     0.47948,\n",
       "           0.48048,     0.48148,     0.48248,     0.48348,     0.48448,     0.48549,     0.48649,     0.48749,     0.48849,     0.48949,     0.49049,     0.49149,     0.49249,     0.49349,     0.49449,      0.4955,      0.4965,      0.4975,      0.4985,      0.4995,      0.5005,      0.5015,      0.5025,      0.5035,\n",
       "            0.5045,     0.50551,     0.50651,     0.50751,     0.50851,     0.50951,     0.51051,     0.51151,     0.51251,     0.51351,     0.51451,     0.51552,     0.51652,     0.51752,     0.51852,     0.51952,     0.52052,     0.52152,     0.52252,     0.52352,     0.52452,     0.52553,     0.52653,     0.52753,\n",
       "           0.52853,     0.52953,     0.53053,     0.53153,     0.53253,     0.53353,     0.53453,     0.53554,     0.53654,     0.53754,     0.53854,     0.53954,     0.54054,     0.54154,     0.54254,     0.54354,     0.54454,     0.54555,     0.54655,     0.54755,     0.54855,     0.54955,     0.55055,     0.55155,\n",
       "           0.55255,     0.55355,     0.55455,     0.55556,     0.55656,     0.55756,     0.55856,     0.55956,     0.56056,     0.56156,     0.56256,     0.56356,     0.56456,     0.56557,     0.56657,     0.56757,     0.56857,     0.56957,     0.57057,     0.57157,     0.57257,     0.57357,     0.57457,     0.57558,\n",
       "           0.57658,     0.57758,     0.57858,     0.57958,     0.58058,     0.58158,     0.58258,     0.58358,     0.58458,     0.58559,     0.58659,     0.58759,     0.58859,     0.58959,     0.59059,     0.59159,     0.59259,     0.59359,     0.59459,      0.5956,      0.5966,      0.5976,      0.5986,      0.5996,\n",
       "            0.6006,      0.6016,      0.6026,      0.6036,      0.6046,     0.60561,     0.60661,     0.60761,     0.60861,     0.60961,     0.61061,     0.61161,     0.61261,     0.61361,     0.61461,     0.61562,     0.61662,     0.61762,     0.61862,     0.61962,     0.62062,     0.62162,     0.62262,     0.62362,\n",
       "           0.62462,     0.62563,     0.62663,     0.62763,     0.62863,     0.62963,     0.63063,     0.63163,     0.63263,     0.63363,     0.63463,     0.63564,     0.63664,     0.63764,     0.63864,     0.63964,     0.64064,     0.64164,     0.64264,     0.64364,     0.64464,     0.64565,     0.64665,     0.64765,\n",
       "           0.64865,     0.64965,     0.65065,     0.65165,     0.65265,     0.65365,     0.65465,     0.65566,     0.65666,     0.65766,     0.65866,     0.65966,     0.66066,     0.66166,     0.66266,     0.66366,     0.66466,     0.66567,     0.66667,     0.66767,     0.66867,     0.66967,     0.67067,     0.67167,\n",
       "           0.67267,     0.67367,     0.67467,     0.67568,     0.67668,     0.67768,     0.67868,     0.67968,     0.68068,     0.68168,     0.68268,     0.68368,     0.68468,     0.68569,     0.68669,     0.68769,     0.68869,     0.68969,     0.69069,     0.69169,     0.69269,     0.69369,     0.69469,      0.6957,\n",
       "            0.6967,      0.6977,      0.6987,      0.6997,      0.7007,      0.7017,      0.7027,      0.7037,      0.7047,     0.70571,     0.70671,     0.70771,     0.70871,     0.70971,     0.71071,     0.71171,     0.71271,     0.71371,     0.71471,     0.71572,     0.71672,     0.71772,     0.71872,     0.71972,\n",
       "           0.72072,     0.72172,     0.72272,     0.72372,     0.72472,     0.72573,     0.72673,     0.72773,     0.72873,     0.72973,     0.73073,     0.73173,     0.73273,     0.73373,     0.73473,     0.73574,     0.73674,     0.73774,     0.73874,     0.73974,     0.74074,     0.74174,     0.74274,     0.74374,\n",
       "           0.74474,     0.74575,     0.74675,     0.74775,     0.74875,     0.74975,     0.75075,     0.75175,     0.75275,     0.75375,     0.75475,     0.75576,     0.75676,     0.75776,     0.75876,     0.75976,     0.76076,     0.76176,     0.76276,     0.76376,     0.76476,     0.76577,     0.76677,     0.76777,\n",
       "           0.76877,     0.76977,     0.77077,     0.77177,     0.77277,     0.77377,     0.77477,     0.77578,     0.77678,     0.77778,     0.77878,     0.77978,     0.78078,     0.78178,     0.78278,     0.78378,     0.78478,     0.78579,     0.78679,     0.78779,     0.78879,     0.78979,     0.79079,     0.79179,\n",
       "           0.79279,     0.79379,     0.79479,      0.7958,      0.7968,      0.7978,      0.7988,      0.7998,      0.8008,      0.8018,      0.8028,      0.8038,      0.8048,     0.80581,     0.80681,     0.80781,     0.80881,     0.80981,     0.81081,     0.81181,     0.81281,     0.81381,     0.81481,     0.81582,\n",
       "           0.81682,     0.81782,     0.81882,     0.81982,     0.82082,     0.82182,     0.82282,     0.82382,     0.82482,     0.82583,     0.82683,     0.82783,     0.82883,     0.82983,     0.83083,     0.83183,     0.83283,     0.83383,     0.83483,     0.83584,     0.83684,     0.83784,     0.83884,     0.83984,\n",
       "           0.84084,     0.84184,     0.84284,     0.84384,     0.84484,     0.84585,     0.84685,     0.84785,     0.84885,     0.84985,     0.85085,     0.85185,     0.85285,     0.85385,     0.85485,     0.85586,     0.85686,     0.85786,     0.85886,     0.85986,     0.86086,     0.86186,     0.86286,     0.86386,\n",
       "           0.86486,     0.86587,     0.86687,     0.86787,     0.86887,     0.86987,     0.87087,     0.87187,     0.87287,     0.87387,     0.87487,     0.87588,     0.87688,     0.87788,     0.87888,     0.87988,     0.88088,     0.88188,     0.88288,     0.88388,     0.88488,     0.88589,     0.88689,     0.88789,\n",
       "           0.88889,     0.88989,     0.89089,     0.89189,     0.89289,     0.89389,     0.89489,      0.8959,      0.8969,      0.8979,      0.8989,      0.8999,      0.9009,      0.9019,      0.9029,      0.9039,      0.9049,     0.90591,     0.90691,     0.90791,     0.90891,     0.90991,     0.91091,     0.91191,\n",
       "           0.91291,     0.91391,     0.91491,     0.91592,     0.91692,     0.91792,     0.91892,     0.91992,     0.92092,     0.92192,     0.92292,     0.92392,     0.92492,     0.92593,     0.92693,     0.92793,     0.92893,     0.92993,     0.93093,     0.93193,     0.93293,     0.93393,     0.93493,     0.93594,\n",
       "           0.93694,     0.93794,     0.93894,     0.93994,     0.94094,     0.94194,     0.94294,     0.94394,     0.94494,     0.94595,     0.94695,     0.94795,     0.94895,     0.94995,     0.95095,     0.95195,     0.95295,     0.95395,     0.95495,     0.95596,     0.95696,     0.95796,     0.95896,     0.95996,\n",
       "           0.96096,     0.96196,     0.96296,     0.96396,     0.96496,     0.96597,     0.96697,     0.96797,     0.96897,     0.96997,     0.97097,     0.97197,     0.97297,     0.97397,     0.97497,     0.97598,     0.97698,     0.97798,     0.97898,     0.97998,     0.98098,     0.98198,     0.98298,     0.98398,\n",
       "           0.98498,     0.98599,     0.98699,     0.98799,     0.98899,     0.98999,     0.99099,     0.99199,     0.99299,     0.99399,     0.99499,       0.996,       0.997,       0.998,       0.999,           1]), array([[          1,           1,           1,           1,           1,           1,           1,           1,           1,           1,           1,           1,           1,           1,           1,           1,           1,           1,           1,           1,           1,           1,           1,\n",
       "                  1,           1,           1,           1,           1,           1,           1,           1,           1,           1,           1,           1,           1,           1,           1,           1,           1,           1,           1,           1,           1,           1,           1,\n",
       "                  1,           1,           1,           1,           1,           1,           1,           1,           1,           1,           1,           1,           1,           1,           1,           1,           1,           1,           1,           1,           1,           1,           1,\n",
       "                  1,           1,           1,           1,           1,           1,           1,           1,           1,           1,           1,           1,           1,           1,           1,           1,           1,           1,           1,           1,           1,           1,           1,\n",
       "                  1,           1,           1,           1,           1,           1,           1,           1,           1,           1,           1,           1,           1,           1,           1,           1,           1,           1,           1,           1,           1,           1,           1,\n",
       "                  1,           1,           1,           1,           1,           1,           1,           1,           1,           1,           1,           1,           1,           1,           1,           1,           1,           1,           1,           1,           1,           1,           1,\n",
       "                  1,           1,           1,           1,           1,           1,           1,           1,           1,           1,           1,           1,           1,           1,           1,           1,           1,           1,           1,           1,           1,           1,           1,\n",
       "                  1,           1,           1,           1,           1,           1,           1,           1,           1,           1,           1,           1,           1,           1,           1,           1,           1,           1,           1,           1,           1,           1,           1,\n",
       "                  1,           1,           1,           1,           1,           1,           1,           1,           1,           1,           1,           1,           1,           1,           1,           1,           1,           1,           1,           1,           1,           1,           1,\n",
       "                  1,           1,           1,           1,           1,           1,           1,           1,           1,           1,           1,           1,           1,           1,           1,           1,           1,           1,           1,           1,           1,           1,           1,\n",
       "                  1,           1,           1,           1,           1,           1,           1,           1,           1,           1,           1,           1,           1,           1,           1,           1,           1,           1,           1,           1,           1,           1,           1,\n",
       "                  1,           1,           1,           1,           1,           1,           1,           1,           1,           1,           1,           1,           1,           1,           1,           1,           1,           1,           1,           1,           1,           1,           1,\n",
       "                  1,           1,           1,           1,           1,           1,           1,           1,           1,           1,           1,           1,           1,           1,           1,           1,           1,           1,           1,           1,           1,           1,           1,\n",
       "                  1,           1,           1,           1,           1,           1,           1,           1,           1,           1,           1,           1,           1,           1,           1,           1,           1,           1,           1,           1,           1,           1,           1,\n",
       "                  1,           1,           1,           1,           1,           1,           1,           1,           1,           1,           1,           1,           1,           1,           1,           1,           1,           1,           1,           1,           1,           1,           1,\n",
       "                  1,           1,           1,           1,           1,           1,           1,           1,           1,           1,           1,           1,           1,           1,           1,           1,           1,           1,           1,           1,           1,           1,           1,\n",
       "                  1,           1,           1,           1,           1,           1,           1,           1,           1,           1,           1,           1,           1,           1,           1,           1,           1,           1,           1,           1,           1,           1,           1,\n",
       "                  1,           1,           1,           1,           1,           1,           1,           1,           1,           1,           1,           1,           1,           1,           1,           1,           1,           1,           1,           1,           1,           1,           1,\n",
       "                  1,           1,           1,           1,           1,           1,           1,           1,           1,           1,           1,           1,           1,           1,           1,           1,           1,           1,           1,           1,           1,           1,           1,\n",
       "                  1,           1,           1,           1,           1,           1,           1,           1,           1,           1,           1,           1,           1,           1,           1,           1,           1,           1,           1,           1,           1,           1,           1,\n",
       "                  1,           1,           1,           1,           1,           1,           1,           1,           1,           1,           1,           1,           1,           1,           1,           1,           1,           1,           1,           1,           1,           1,           1,\n",
       "                  1,           1,           1,           1,           1,           1,           1,           1,           1,           1,           1,           1,           1,           1,           1,           1,           1,           1,           1,           1,           1,           1,           1,\n",
       "                  1,           1,           1,           1,           1,           1,           1,           1,           1,           1,           1,           1,           1,           1,           1,           1,           1,           1,           1,           1,           1,           1,           1,\n",
       "                  1,           1,           1,           1,           1,           1,           1,           1,           1,           1,           1,           1,           1,           1,           1,           1,           1,           1,           1,           1,           1,           1,           1,\n",
       "                  1,           1,           1,           1,           1,           1,           1,           1,           1,           1,           1,           1,           1,           1,           1,           1,           1,           1,           1,           1,           1,           1,           1,\n",
       "                  1,           1,           1,           1,           1,           1,           1,           1,           1,           1,           1,           1,           1,           1,           1,           1,           1,           1,           1,           1,           1,           1,           1,\n",
       "                  1,           1,           1,           1,           1,           1,           1,           1,           1,           1,           1,           1,           1,           1,           1,           1,           1,           1,           1,           1,           1,           1,           1,\n",
       "                  1,           1,           1,           1,           1,           1,           1,           1,           1,           1,           1,           1,           1,           1,           1,           1,           1,           1,           1,           1,           1,           1,           1,\n",
       "                  1,           1,           1,           1,           1,           1,           1,           1,           1,           1,           1,           1,           1,           1,           1,           1,           1,           1,           1,           1,           1,           1,           1,\n",
       "                  1,           1,           1,           1,           1,           1,           1,           1,           1,           1,           1,           1,           1,           1,           1,           1,           1,           1,           1,           1,           1,           1,           1,\n",
       "                  1,           1,           1,           1,           1,           1,           1,           1,           1,           1,           1,           1,           1,           1,           1,           1,           1,           1,           1,           1,           1,           1,           1,\n",
       "                  1,           1,           1,           1,           1,           1,           1,           1,           1,           1,           1,           1,           1,           1,           1,           1,           1,           1,           1,           1,           1,           1,           1,\n",
       "                  1,           1,           1,           1,           1,           1,           1,           1,           1,           1,           1,           1,           1,           1,           1,           1,           1,           1,           1,           1,           1,           1,           1,\n",
       "                  1,           1,           1,           1,           1,           1,           1,           1,           1,           1,           1,           1,           1,           1,           1,           1,           1,           1,           1,           1,           1,           1,           1,\n",
       "                  1,           1,           1,           1,           1,           1,           1,           1,           1,           1,           1,           1,           1,           1,           1,           1,           1,           1,           1,           1,           1,           1,           1,\n",
       "                  1,           1,           1,           1,           1,           1,           1,           1,           1,           1,           1,           1,           1,           1,           1,           1,           1,           1,           1,           1,           1,           1,           1,\n",
       "                  1,           1,           1,           1,           1,           1,           1,           1,           1,           1,           1,           1,           1,           1,           1,           1,           1,           1,           1,           1,           1,           1,           1,\n",
       "                  1,           1,           1,           1,           1,           1,           1,           1,           1,           1,           1,           1,           1,           1,           1,           1,           1,           1,           1,           1,           1,           1,           1,\n",
       "                  1,           1,           1,           1,           1,           1,           1,           1,           1,           1,           1,           1,           1,           1,           1,           1,           1,           1,           1,           1,           1,           1,           1,\n",
       "                  1,           1,           1,           1,           1,           1,           1,           1,           1,           1,           1,           1,           1,           1,           1,           1,           1,           1,           1,           1,           1,           1,           1,\n",
       "                  1,           1,           1,           1,           1,           1,           1,           1,           1,           1,           1,           1,           1,           1,           1,           1,           1,           1,           1,           1,           1,           1,           1,\n",
       "                  1,           1,           1,           1,           1,           1,           1,           1,     0.98574,     0.96743,     0.94913,     0.93082,     0.91252,     0.89422,     0.87591,     0.83442,     0.79171,      0.7495,     0.72814,     0.70679,     0.68544,     0.66408,     0.64273,\n",
       "            0.62065,     0.59502,     0.56939,     0.54377,     0.51814,     0.49532,     0.47931,     0.46329,     0.44728,     0.43126,     0.41524,     0.39923,     0.38321,     0.25013,     0.24117,     0.23233,      0.2235,     0.21466,     0.20582,     0.19699,     0.18815,     0.17931,     0.17048,\n",
       "            0.16164,      0.1528,     0.14397,     0.13513,     0.12629,           0,           0,           0,           0,           0,           0]]), 'Confidence', 'Recall']]\n",
       "fitness: np.float64(1.8360028385714287)\n",
       "keys: ['metrics/precision(B)', 'metrics/recall(B)', 'metrics/mAP50(B)', 'metrics/mAP50-95(B)', 'metrics/precision(M)', 'metrics/recall(M)', 'metrics/mAP50(M)', 'metrics/mAP50-95(M)']\n",
       "maps: array([     1.8189])\n",
       "names: {0: 'Pupil'}\n",
       "nt_per_class: array([8])\n",
       "nt_per_image: array([8])\n",
       "results_dict: {'metrics/precision(B)': np.float64(0.9940373973895711), 'metrics/recall(B)': np.float64(1.0), 'metrics/mAP50(B)': np.float64(0.995), 'metrics/mAP50-95(B)': np.float64(0.9033192428571428), 'metrics/precision(M)': np.float64(0.9940373973895711), 'metrics/recall(M)': np.float64(1.0), 'metrics/mAP50(M)': np.float64(0.995), 'metrics/mAP50-95(M)': np.float64(0.9155728), 'fitness': np.float64(1.8360028385714287)}\n",
       "save_dir: WindowsPath('runs/pupil-seg-11')\n",
       "seg: ultralytics.utils.metrics.Metric object\n",
       "speed: {'preprocess': 0.3099874998042651, 'inference': 6.281250000029104, 'loss': 0.0009124998996412614, 'postprocess': 3.5005124998406245}\n",
       "stats: {'tp': [], 'conf': [], 'pred_cls': [], 'target_cls': [], 'target_img': [], 'tp_m': []}\n",
       "task: 'segment'"
      ]
     },
     "execution_count": 12,
     "metadata": {},
     "output_type": "execute_result"
    }
   ],
   "source": [
    "from ultralytics import YOLO\n",
    "model = YOLO('yolo11n-seg.pt')  # lub yolov8n-seg.pt\n",
    "model.train(data='D:/AAA/Nowy folder/Outputs/project-8-at-2025-08-12-11-44-492dcff8/data.yaml', imgsz=400, epochs=100, batch=16, device=0, workers=8, project='runs', name='pupil-seg-11')"
   ]
  },
  {
   "cell_type": "code",
   "execution_count": 15,
   "id": "672498a7",
   "metadata": {},
   "outputs": [
    {
     "name": "stdout",
     "output_type": "stream",
     "text": [
      "\n",
      "image 1/44 D:\\AAA\\Nowy folder\\Outputs\\Test\\2025-08-12-13.25.48.png: 320x320 1 Pupil, 79.8ms\n",
      "image 2/44 D:\\AAA\\Nowy folder\\Outputs\\Test\\2025-08-12-13.26.08.png: 320x320 1 Pupil, 10.2ms\n",
      "image 3/44 D:\\AAA\\Nowy folder\\Outputs\\Test\\2025-08-12-13.26.18.png: 320x320 1 Pupil, 10.4ms\n",
      "image 4/44 D:\\AAA\\Nowy folder\\Outputs\\Test\\2025-08-12-13.26.22.png: 320x320 1 Pupil, 10.8ms\n",
      "image 5/44 D:\\AAA\\Nowy folder\\Outputs\\Test\\2025-08-12-13.26.48.png: 320x320 1 Pupil, 10.3ms\n",
      "image 6/44 D:\\AAA\\Nowy folder\\Outputs\\Test\\2025-08-12-13.42.36.png: 320x320 1 Pupil, 15.2ms\n",
      "image 7/44 D:\\AAA\\Nowy folder\\Outputs\\Test\\2025-08-12-13.43.24.png: 320x320 1 Pupil, 10.5ms\n",
      "image 8/44 D:\\AAA\\Nowy folder\\Outputs\\Test\\2025-08-12-13.43.46.png: 320x320 1 Pupil, 10.6ms\n",
      "image 9/44 D:\\AAA\\Nowy folder\\Outputs\\Test\\2025-08-12-13.43.50.png: 320x320 1 Pupil, 10.3ms\n",
      "image 10/44 D:\\AAA\\Nowy folder\\Outputs\\Test\\2025-08-12-13.43.54.png: 320x320 1 Pupil, 10.5ms\n",
      "image 11/44 D:\\AAA\\Nowy folder\\Outputs\\Test\\2025-08-12-13.43.58.png: 320x320 1 Pupil, 10.4ms\n",
      "image 12/44 D:\\AAA\\Nowy folder\\Outputs\\Test\\2025-08-12-13.44.02.png: 320x320 1 Pupil, 10.7ms\n",
      "image 13/44 D:\\AAA\\Nowy folder\\Outputs\\Test\\2025-08-12-13.44.05.png: 320x320 (no detections), 10.4ms\n",
      "image 14/44 D:\\AAA\\Nowy folder\\Outputs\\Test\\2025-08-12-13.44.09.png: 320x320 (no detections), 10.9ms\n",
      "image 15/44 D:\\AAA\\Nowy folder\\Outputs\\Test\\2025-08-12-13.44.19.png: 320x320 1 Pupil, 10.6ms\n",
      "image 16/44 D:\\AAA\\Nowy folder\\Outputs\\Test\\2025-08-12-13.44.30.png: 320x320 1 Pupil, 10.3ms\n",
      "image 17/44 D:\\AAA\\Nowy folder\\Outputs\\Test\\2025-08-12-13.44.41.png: 320x320 1 Pupil, 10.2ms\n",
      "image 18/44 D:\\AAA\\Nowy folder\\Outputs\\Test\\2025-08-12-13.44.53.png: 320x320 1 Pupil, 10.4ms\n",
      "image 19/44 D:\\AAA\\Nowy folder\\Outputs\\Test\\2025-08-12-13.44.57.png: 320x320 1 Pupil, 10.3ms\n",
      "image 20/44 D:\\AAA\\Nowy folder\\Outputs\\Test\\2025-08-12-13.45.09.png: 320x320 1 Pupil, 10.1ms\n",
      "image 21/44 D:\\AAA\\Nowy folder\\Outputs\\Test\\2025-08-12-13.45.18.png: 320x320 1 Pupil, 15.3ms\n",
      "image 22/44 D:\\AAA\\Nowy folder\\Outputs\\Test\\2025-08-12-13.45.24.png: 320x320 1 Pupil, 10.5ms\n",
      "image 23/44 D:\\AAA\\Nowy folder\\Outputs\\Test\\2025-08-12-13.45.34.png: 320x320 (no detections), 10.5ms\n",
      "image 24/44 D:\\AAA\\Nowy folder\\Outputs\\Test\\2025-08-12-13.45.39.png: 320x320 1 Pupil, 10.6ms\n",
      "image 25/44 D:\\AAA\\Nowy folder\\Outputs\\Test\\2025-08-12-13.45.44.png: 320x320 1 Pupil, 15.2ms\n",
      "image 26/44 D:\\AAA\\Nowy folder\\Outputs\\Test\\2025-08-12-13.45.48.png: 320x320 1 Pupil, 14.0ms\n",
      "image 27/44 D:\\AAA\\Nowy folder\\Outputs\\Test\\2025-08-12-13.45.55.png: 320x320 1 Pupil, 10.5ms\n",
      "image 28/44 D:\\AAA\\Nowy folder\\Outputs\\Test\\2025-08-12-13.46.00.png: 320x320 1 Pupil, 10.5ms\n",
      "image 29/44 D:\\AAA\\Nowy folder\\Outputs\\Test\\2025-08-12-13.46.17.png: 320x320 1 Pupil, 10.6ms\n",
      "image 30/44 D:\\AAA\\Nowy folder\\Outputs\\Test\\2025-08-12-13.46.21.png: 320x320 1 Pupil, 14.6ms\n",
      "image 31/44 D:\\AAA\\Nowy folder\\Outputs\\Test\\2025-08-12-13.46.25.png: 320x320 1 Pupil, 10.1ms\n",
      "image 32/44 D:\\AAA\\Nowy folder\\Outputs\\Test\\2025-08-12-13.46.29.png: 320x320 1 Pupil, 10.3ms\n",
      "image 33/44 D:\\AAA\\Nowy folder\\Outputs\\Test\\2025-08-12-13.46.42.png: 320x320 1 Pupil, 10.4ms\n",
      "image 34/44 D:\\AAA\\Nowy folder\\Outputs\\Test\\2025-08-12-13.46.46.png: 320x320 1 Pupil, 10.2ms\n",
      "image 35/44 D:\\AAA\\Nowy folder\\Outputs\\Test\\2025-08-12-13.46.56.png: 320x320 1 Pupil, 10.3ms\n",
      "image 36/44 D:\\AAA\\Nowy folder\\Outputs\\Test\\2025-08-12-13.47.00.png: 320x320 1 Pupil, 10.1ms\n",
      "image 37/44 D:\\AAA\\Nowy folder\\Outputs\\Test\\2025-08-12-13.47.03.png: 320x320 1 Pupil, 10.4ms\n",
      "image 38/44 D:\\AAA\\Nowy folder\\Outputs\\Test\\2025-08-12-13.47.07.png: 320x320 1 Pupil, 10.6ms\n",
      "image 39/44 D:\\AAA\\Nowy folder\\Outputs\\Test\\2025-08-12-13.47.11.png: 320x320 1 Pupil, 10.3ms\n",
      "image 40/44 D:\\AAA\\Nowy folder\\Outputs\\Test\\2025-08-12-13.47.15.png: 320x320 1 Pupil, 10.2ms\n",
      "image 41/44 D:\\AAA\\Nowy folder\\Outputs\\Test\\2025-08-12-13.47.27.png: 320x320 1 Pupil, 10.1ms\n",
      "image 42/44 D:\\AAA\\Nowy folder\\Outputs\\Test\\2025-08-12-13.47.36.png: 320x320 1 Pupil, 10.5ms\n",
      "image 43/44 D:\\AAA\\Nowy folder\\Outputs\\Test\\2025-08-12-13.47.51.png: 320x320 1 Pupil, 10.4ms\n",
      "image 44/44 D:\\AAA\\Nowy folder\\Outputs\\Test\\2025-08-12-13.47.56.png: 320x320 1 Pupil, 14.6ms\n",
      "Speed: 1.0ms preprocess, 12.6ms inference, 3.0ms postprocess per image at shape (1, 3, 320, 320)\n",
      "Results saved to \u001b[1mruns\\segment\\predict4\u001b[0m\n"
     ]
    }
   ],
   "source": [
    "from ultralytics import YOLO\n",
    "import cv2\n",
    "\n",
    "model = YOLO(r\"D:\\AAA\\Nowy folder\\pupiltracking\\runs\\pupil-seg-11\\weights\\best.pt\")\n",
    "results = model.predict(\n",
    "    source=r\"D:\\AAA\\Nowy folder\\Outputs\\Test\",  # może być plik lub folder\n",
    "    conf=0.35, max_det=1, device=0, save=True, imgsz=320\n",
    ")"
   ]
  },
  {
   "cell_type": "code",
   "execution_count": 14,
   "id": "529ec313",
   "metadata": {},
   "outputs": [
    {
     "name": "stdout",
     "output_type": "stream",
     "text": [
      "\n",
      "image 1/1 D:\\AAA\\Nowy folder\\Outputs\\Test\\2025-08-12-13.25.48.png: 320x320 1 Pupil, 78.9ms\n",
      "Speed: 1.7ms preprocess, 78.9ms inference, 3.5ms postprocess per image at shape (1, 3, 320, 320)\n",
      "\n",
      "image 1/1 D:\\AAA\\Nowy folder\\Outputs\\Test\\2025-08-12-13.26.08.png: 320x320 1 Pupil, 106.9ms\n",
      "Speed: 2.3ms preprocess, 106.9ms inference, 7.9ms postprocess per image at shape (1, 3, 320, 320)\n",
      "\n",
      "image 1/1 D:\\AAA\\Nowy folder\\Outputs\\Test\\2025-08-12-13.26.18.png: 320x320 1 Pupil, 17.2ms\n",
      "Speed: 1.5ms preprocess, 17.2ms inference, 4.6ms postprocess per image at shape (1, 3, 320, 320)\n",
      "\n",
      "image 1/1 D:\\AAA\\Nowy folder\\Outputs\\Test\\2025-08-12-13.26.22.png: 320x320 1 Pupil, 11.9ms\n",
      "Speed: 1.2ms preprocess, 11.9ms inference, 5.1ms postprocess per image at shape (1, 3, 320, 320)\n",
      "\n",
      "image 1/1 D:\\AAA\\Nowy folder\\Outputs\\Test\\2025-08-12-13.26.48.png: 320x320 1 Pupil, 18.6ms\n",
      "Speed: 1.1ms preprocess, 18.6ms inference, 4.3ms postprocess per image at shape (1, 3, 320, 320)\n",
      "\n",
      "image 1/1 D:\\AAA\\Nowy folder\\Outputs\\Test\\2025-08-12-13.42.36.png: 320x320 1 Pupil, 17.3ms\n",
      "Speed: 1.1ms preprocess, 17.3ms inference, 4.9ms postprocess per image at shape (1, 3, 320, 320)\n",
      "\n",
      "image 1/1 D:\\AAA\\Nowy folder\\Outputs\\Test\\2025-08-12-13.43.24.png: 320x320 1 Pupil, 16.2ms\n",
      "Speed: 1.1ms preprocess, 16.2ms inference, 4.1ms postprocess per image at shape (1, 3, 320, 320)\n",
      "\n",
      "image 1/1 D:\\AAA\\Nowy folder\\Outputs\\Test\\2025-08-12-13.43.46.png: 320x320 1 Pupil, 11.4ms\n",
      "Speed: 1.0ms preprocess, 11.4ms inference, 3.2ms postprocess per image at shape (1, 3, 320, 320)\n",
      "\n",
      "image 1/1 D:\\AAA\\Nowy folder\\Outputs\\Test\\2025-08-12-13.43.50.png: 320x320 1 Pupil, 13.1ms\n",
      "Speed: 1.0ms preprocess, 13.1ms inference, 3.0ms postprocess per image at shape (1, 3, 320, 320)\n",
      "\n",
      "image 1/1 D:\\AAA\\Nowy folder\\Outputs\\Test\\2025-08-12-13.43.54.png: 320x320 1 Pupil, 19.6ms\n",
      "Speed: 1.2ms preprocess, 19.6ms inference, 5.1ms postprocess per image at shape (1, 3, 320, 320)\n",
      "\n",
      "image 1/1 D:\\AAA\\Nowy folder\\Outputs\\Test\\2025-08-12-13.43.58.png: 320x320 1 Pupil, 16.5ms\n",
      "Speed: 1.2ms preprocess, 16.5ms inference, 3.3ms postprocess per image at shape (1, 3, 320, 320)\n",
      "\n",
      "image 1/1 D:\\AAA\\Nowy folder\\Outputs\\Test\\2025-08-12-13.44.02.png: 320x320 1 Pupil, 11.7ms\n",
      "Speed: 1.1ms preprocess, 11.7ms inference, 4.9ms postprocess per image at shape (1, 3, 320, 320)\n",
      "\n",
      "image 1/1 D:\\AAA\\Nowy folder\\Outputs\\Test\\2025-08-12-13.44.05.png: 320x320 (no detections), 20.2ms\n",
      "Speed: 1.1ms preprocess, 20.2ms inference, 2.5ms postprocess per image at shape (1, 3, 320, 320)\n",
      "\n",
      "image 1/1 D:\\AAA\\Nowy folder\\Outputs\\Test\\2025-08-12-13.44.09.png: 320x320 (no detections), 13.5ms\n",
      "Speed: 1.8ms preprocess, 13.5ms inference, 1.2ms postprocess per image at shape (1, 3, 320, 320)\n",
      "\n",
      "image 1/1 D:\\AAA\\Nowy folder\\Outputs\\Test\\2025-08-12-13.44.19.png: 320x320 1 Pupil, 16.7ms\n",
      "Speed: 1.0ms preprocess, 16.7ms inference, 5.7ms postprocess per image at shape (1, 3, 320, 320)\n",
      "\n",
      "image 1/1 D:\\AAA\\Nowy folder\\Outputs\\Test\\2025-08-12-13.44.30.png: 320x320 1 Pupil, 16.1ms\n",
      "Speed: 1.8ms preprocess, 16.1ms inference, 4.5ms postprocess per image at shape (1, 3, 320, 320)\n",
      "\n",
      "image 1/1 D:\\AAA\\Nowy folder\\Outputs\\Test\\2025-08-12-13.44.41.png: 320x320 1 Pupil, 16.6ms\n",
      "Speed: 1.1ms preprocess, 16.6ms inference, 3.8ms postprocess per image at shape (1, 3, 320, 320)\n",
      "\n",
      "image 1/1 D:\\AAA\\Nowy folder\\Outputs\\Test\\2025-08-12-13.44.53.png: 320x320 1 Pupil, 13.9ms\n",
      "Speed: 1.4ms preprocess, 13.9ms inference, 5.6ms postprocess per image at shape (1, 3, 320, 320)\n",
      "\n",
      "image 1/1 D:\\AAA\\Nowy folder\\Outputs\\Test\\2025-08-12-13.44.57.png: 320x320 1 Pupil, 18.8ms\n",
      "Speed: 1.1ms preprocess, 18.8ms inference, 4.5ms postprocess per image at shape (1, 3, 320, 320)\n",
      "\n",
      "image 1/1 D:\\AAA\\Nowy folder\\Outputs\\Test\\2025-08-12-13.45.09.png: 320x320 1 Pupil, 16.6ms\n",
      "Speed: 1.3ms preprocess, 16.6ms inference, 4.6ms postprocess per image at shape (1, 3, 320, 320)\n",
      "\n",
      "image 1/1 D:\\AAA\\Nowy folder\\Outputs\\Test\\2025-08-12-13.45.18.png: 320x320 1 Pupil, 16.8ms\n",
      "Speed: 1.7ms preprocess, 16.8ms inference, 5.0ms postprocess per image at shape (1, 3, 320, 320)\n",
      "\n",
      "image 1/1 D:\\AAA\\Nowy folder\\Outputs\\Test\\2025-08-12-13.45.24.png: 320x320 1 Pupil, 13.0ms\n",
      "Speed: 1.1ms preprocess, 13.0ms inference, 3.4ms postprocess per image at shape (1, 3, 320, 320)\n",
      "\n",
      "image 1/1 D:\\AAA\\Nowy folder\\Outputs\\Test\\2025-08-12-13.45.34.png: 320x320 (no detections), 15.0ms\n",
      "Speed: 1.1ms preprocess, 15.0ms inference, 1.0ms postprocess per image at shape (1, 3, 320, 320)\n",
      "\n",
      "image 1/1 D:\\AAA\\Nowy folder\\Outputs\\Test\\2025-08-12-13.45.39.png: 320x320 1 Pupil, 14.1ms\n",
      "Speed: 2.2ms preprocess, 14.1ms inference, 4.3ms postprocess per image at shape (1, 3, 320, 320)\n",
      "\n",
      "image 1/1 D:\\AAA\\Nowy folder\\Outputs\\Test\\2025-08-12-13.45.44.png: 320x320 1 Pupil, 17.6ms\n",
      "Speed: 1.2ms preprocess, 17.6ms inference, 4.0ms postprocess per image at shape (1, 3, 320, 320)\n",
      "\n",
      "image 1/1 D:\\AAA\\Nowy folder\\Outputs\\Test\\2025-08-12-13.45.48.png: 320x320 1 Pupil, 15.2ms\n",
      "Speed: 0.9ms preprocess, 15.2ms inference, 3.5ms postprocess per image at shape (1, 3, 320, 320)\n",
      "\n",
      "image 1/1 D:\\AAA\\Nowy folder\\Outputs\\Test\\2025-08-12-13.45.55.png: 320x320 1 Pupil, 12.1ms\n",
      "Speed: 1.1ms preprocess, 12.1ms inference, 3.4ms postprocess per image at shape (1, 3, 320, 320)\n",
      "\n",
      "image 1/1 D:\\AAA\\Nowy folder\\Outputs\\Test\\2025-08-12-13.46.00.png: 320x320 1 Pupil, 12.5ms\n",
      "Speed: 1.4ms preprocess, 12.5ms inference, 3.3ms postprocess per image at shape (1, 3, 320, 320)\n",
      "\n",
      "image 1/1 D:\\AAA\\Nowy folder\\Outputs\\Test\\2025-08-12-13.46.17.png: 320x320 1 Pupil, 13.4ms\n",
      "Speed: 1.1ms preprocess, 13.4ms inference, 4.4ms postprocess per image at shape (1, 3, 320, 320)\n",
      "\n",
      "image 1/1 D:\\AAA\\Nowy folder\\Outputs\\Test\\2025-08-12-13.46.21.png: 320x320 1 Pupil, 12.2ms\n",
      "Speed: 1.0ms preprocess, 12.2ms inference, 5.3ms postprocess per image at shape (1, 3, 320, 320)\n",
      "\n",
      "image 1/1 D:\\AAA\\Nowy folder\\Outputs\\Test\\2025-08-12-13.46.25.png: 320x320 1 Pupil, 19.8ms\n",
      "Speed: 1.5ms preprocess, 19.8ms inference, 4.7ms postprocess per image at shape (1, 3, 320, 320)\n",
      "\n",
      "image 1/1 D:\\AAA\\Nowy folder\\Outputs\\Test\\2025-08-12-13.46.29.png: 320x320 1 Pupil, 14.8ms\n",
      "Speed: 1.5ms preprocess, 14.8ms inference, 3.3ms postprocess per image at shape (1, 3, 320, 320)\n",
      "\n",
      "image 1/1 D:\\AAA\\Nowy folder\\Outputs\\Test\\2025-08-12-13.46.42.png: 320x320 1 Pupil, 11.8ms\n",
      "Speed: 1.0ms preprocess, 11.8ms inference, 3.5ms postprocess per image at shape (1, 3, 320, 320)\n",
      "\n",
      "image 1/1 D:\\AAA\\Nowy folder\\Outputs\\Test\\2025-08-12-13.46.46.png: 320x320 1 Pupil, 15.1ms\n",
      "Speed: 1.0ms preprocess, 15.1ms inference, 2.8ms postprocess per image at shape (1, 3, 320, 320)\n",
      "\n",
      "image 1/1 D:\\AAA\\Nowy folder\\Outputs\\Test\\2025-08-12-13.46.56.png: 320x320 1 Pupil, 13.4ms\n",
      "Speed: 1.3ms preprocess, 13.4ms inference, 5.0ms postprocess per image at shape (1, 3, 320, 320)\n",
      "\n",
      "image 1/1 D:\\AAA\\Nowy folder\\Outputs\\Test\\2025-08-12-13.47.00.png: 320x320 1 Pupil, 11.5ms\n",
      "Speed: 1.2ms preprocess, 11.5ms inference, 3.2ms postprocess per image at shape (1, 3, 320, 320)\n",
      "\n",
      "image 1/1 D:\\AAA\\Nowy folder\\Outputs\\Test\\2025-08-12-13.47.03.png: 320x320 1 Pupil, 19.1ms\n",
      "Speed: 1.1ms preprocess, 19.1ms inference, 3.7ms postprocess per image at shape (1, 3, 320, 320)\n",
      "\n",
      "image 1/1 D:\\AAA\\Nowy folder\\Outputs\\Test\\2025-08-12-13.47.07.png: 320x320 1 Pupil, 17.1ms\n",
      "Speed: 1.2ms preprocess, 17.1ms inference, 6.1ms postprocess per image at shape (1, 3, 320, 320)\n",
      "\n",
      "image 1/1 D:\\AAA\\Nowy folder\\Outputs\\Test\\2025-08-12-13.47.11.png: 320x320 1 Pupil, 12.8ms\n",
      "Speed: 1.1ms preprocess, 12.8ms inference, 3.1ms postprocess per image at shape (1, 3, 320, 320)\n",
      "\n",
      "image 1/1 D:\\AAA\\Nowy folder\\Outputs\\Test\\2025-08-12-13.47.15.png: 320x320 1 Pupil, 21.1ms\n",
      "Speed: 1.5ms preprocess, 21.1ms inference, 4.8ms postprocess per image at shape (1, 3, 320, 320)\n",
      "\n",
      "image 1/1 D:\\AAA\\Nowy folder\\Outputs\\Test\\2025-08-12-13.47.27.png: 320x320 1 Pupil, 12.0ms\n",
      "Speed: 2.1ms preprocess, 12.0ms inference, 5.8ms postprocess per image at shape (1, 3, 320, 320)\n",
      "\n",
      "image 1/1 D:\\AAA\\Nowy folder\\Outputs\\Test\\2025-08-12-13.47.36.png: 320x320 1 Pupil, 12.3ms\n",
      "Speed: 1.1ms preprocess, 12.3ms inference, 4.6ms postprocess per image at shape (1, 3, 320, 320)\n",
      "\n",
      "image 1/1 D:\\AAA\\Nowy folder\\Outputs\\Test\\2025-08-12-13.47.51.png: 320x320 1 Pupil, 13.8ms\n",
      "Speed: 1.1ms preprocess, 13.8ms inference, 3.4ms postprocess per image at shape (1, 3, 320, 320)\n",
      "\n",
      "image 1/1 D:\\AAA\\Nowy folder\\Outputs\\Test\\2025-08-12-13.47.56.png: 320x320 1 Pupil, 16.6ms\n",
      "Speed: 1.1ms preprocess, 16.6ms inference, 3.8ms postprocess per image at shape (1, 3, 320, 320)\n"
     ]
    }
   ],
   "source": [
    "from ultralytics import YOLO\n",
    "import cv2\n",
    "import os\n",
    "import glob\n",
    "import numpy as np\n",
    "\n",
    "# Ścieżka wejściowa\n",
    "input_dir = r\"D:\\AAA\\Nowy folder\\Outputs\\Test\"\n",
    "\n",
    "# Wczytanie modelu segmentacyjnego YOLO\n",
    "model = YOLO(r\"D:\\AAA\\Nowy folder\\pupiltracking\\runs\\pupil-seg-11\\weights\\best.pt\")\n",
    "\n",
    "# Pobranie plików graficznych\n",
    "image_files = glob.glob(os.path.join(input_dir, \"*.jpg\")) + \\\n",
    "              glob.glob(os.path.join(input_dir, \"*.png\")) + \\\n",
    "              glob.glob(os.path.join(input_dir, \"*.jpeg\"))\n",
    "\n",
    "for img_path in image_files:\n",
    "    img = cv2.imread(img_path)\n",
    "\n",
    "    # Detekcja\n",
    "    results = model.predict(\n",
    "        source=img_path,\n",
    "        conf=0.35, max_det=1, device=0, save=False, imgsz=320\n",
    "    )\n",
    "\n",
    "    for r in results:\n",
    "        if r.masks is not None:\n",
    "            masks = r.masks.xy  # lista poligonów (każdy to tablica Nx2)\n",
    "            for poly in masks:\n",
    "                # Konwersja do int32 dla OpenCV\n",
    "                pts = np.array(poly, dtype=np.int32)\n",
    "                pts = pts.reshape((-1, 1, 2))\n",
    "\n",
    "                # Rysowanie poligonu\n",
    "                cv2.polylines(img, [pts], isClosed=True, color=(0, 255, 0), thickness=2)\n",
    "\n",
    "                # Obliczanie środka poligonu (momenty geometryczne)\n",
    "                M = cv2.moments(pts)\n",
    "                if M[\"m00\"] != 0:\n",
    "                    cx = int(M[\"m10\"] / M[\"m00\"])\n",
    "                    cy = int(M[\"m01\"] / M[\"m00\"])\n",
    "                else:\n",
    "                    cx, cy = 0, 0\n",
    "\n",
    "                # Rysowanie środka\n",
    "                cv2.circle(img, (cx, cy), 5, (0, 0, 255), -1)\n",
    "                cv2.putText(img, f\"({cx},{cy})\", (cx + 10, cy - 10),\n",
    "                            cv2.FONT_HERSHEY_SIMPLEX, 0.5, (0, 0, 255), 1)\n",
    "\n",
    "    # Wyświetlanie obrazu\n",
    "    cv2.imshow(\"Poligon + środek\", img)\n",
    "    key = cv2.waitKey(0)\n",
    "    if key == 27:  # ESC → przerwij\n",
    "        break\n",
    "\n",
    "cv2.destroyAllWindows()\n"
   ]
  },
  {
   "cell_type": "code",
   "execution_count": 13,
   "id": "ba979de8",
   "metadata": {},
   "outputs": [
    {
     "name": "stdout",
     "output_type": "stream",
     "text": [
      "\n",
      "image 1/1 D:\\AAA\\Nowy folder\\Outputs\\Test\\2025-08-12-13.25.48.png: 320x320 1 Pupil, 44.0ms\n",
      "Speed: 1.7ms preprocess, 44.0ms inference, 3.7ms postprocess per image at shape (1, 3, 320, 320)\n",
      "\n",
      "image 1/1 D:\\AAA\\Nowy folder\\Outputs\\Test\\2025-08-12-13.26.08.png: 320x320 1 Pupil, 21.0ms\n",
      "Speed: 1.2ms preprocess, 21.0ms inference, 4.7ms postprocess per image at shape (1, 3, 320, 320)\n",
      "\n",
      "image 1/1 D:\\AAA\\Nowy folder\\Outputs\\Test\\2025-08-12-13.26.18.png: 320x320 1 Pupil, 26.3ms\n",
      "Speed: 1.7ms preprocess, 26.3ms inference, 5.9ms postprocess per image at shape (1, 3, 320, 320)\n",
      "\n",
      "image 1/1 D:\\AAA\\Nowy folder\\Outputs\\Test\\2025-08-12-13.26.22.png: 320x320 1 Pupil, 24.8ms\n",
      "Speed: 1.5ms preprocess, 24.8ms inference, 8.3ms postprocess per image at shape (1, 3, 320, 320)\n",
      "\n",
      "image 1/1 D:\\AAA\\Nowy folder\\Outputs\\Test\\2025-08-12-13.26.48.png: 320x320 1 Pupil, 62.5ms\n",
      "Speed: 2.0ms preprocess, 62.5ms inference, 5.7ms postprocess per image at shape (1, 3, 320, 320)\n",
      "\n",
      "image 1/1 D:\\AAA\\Nowy folder\\Outputs\\Test\\2025-08-12-13.42.36.png: 320x320 1 Pupil, 20.4ms\n",
      "Speed: 1.5ms preprocess, 20.4ms inference, 8.6ms postprocess per image at shape (1, 3, 320, 320)\n",
      "\n",
      "image 1/1 D:\\AAA\\Nowy folder\\Outputs\\Test\\2025-08-12-13.43.24.png: 320x320 1 Pupil, 11.9ms\n",
      "Speed: 1.1ms preprocess, 11.9ms inference, 3.4ms postprocess per image at shape (1, 3, 320, 320)\n",
      "\n",
      "image 1/1 D:\\AAA\\Nowy folder\\Outputs\\Test\\2025-08-12-13.43.46.png: 320x320 1 Pupil, 17.6ms\n",
      "Speed: 1.0ms preprocess, 17.6ms inference, 4.1ms postprocess per image at shape (1, 3, 320, 320)\n",
      "\n",
      "image 1/1 D:\\AAA\\Nowy folder\\Outputs\\Test\\2025-08-12-13.43.50.png: 320x320 1 Pupil, 13.4ms\n",
      "Speed: 1.0ms preprocess, 13.4ms inference, 3.4ms postprocess per image at shape (1, 3, 320, 320)\n",
      "\n",
      "image 1/1 D:\\AAA\\Nowy folder\\Outputs\\Test\\2025-08-12-13.43.54.png: 320x320 1 Pupil, 11.4ms\n",
      "Speed: 1.2ms preprocess, 11.4ms inference, 3.2ms postprocess per image at shape (1, 3, 320, 320)\n",
      "\n",
      "image 1/1 D:\\AAA\\Nowy folder\\Outputs\\Test\\2025-08-12-13.43.58.png: 320x320 1 Pupil, 11.3ms\n",
      "Speed: 1.1ms preprocess, 11.3ms inference, 2.7ms postprocess per image at shape (1, 3, 320, 320)\n",
      "\n",
      "image 1/1 D:\\AAA\\Nowy folder\\Outputs\\Test\\2025-08-12-13.44.02.png: 320x320 1 Pupil, 14.1ms\n",
      "Speed: 1.1ms preprocess, 14.1ms inference, 2.9ms postprocess per image at shape (1, 3, 320, 320)\n",
      "\n",
      "image 1/1 D:\\AAA\\Nowy folder\\Outputs\\Test\\2025-08-12-13.44.05.png: 320x320 (no detections), 11.4ms\n",
      "Speed: 1.6ms preprocess, 11.4ms inference, 0.9ms postprocess per image at shape (1, 3, 320, 320)\n",
      "\n",
      "image 1/1 D:\\AAA\\Nowy folder\\Outputs\\Test\\2025-08-12-13.44.09.png: 320x320 (no detections), 12.0ms\n",
      "Speed: 1.0ms preprocess, 12.0ms inference, 1.1ms postprocess per image at shape (1, 3, 320, 320)\n",
      "\n",
      "image 1/1 D:\\AAA\\Nowy folder\\Outputs\\Test\\2025-08-12-13.44.19.png: 320x320 1 Pupil, 11.7ms\n",
      "Speed: 1.1ms preprocess, 11.7ms inference, 4.0ms postprocess per image at shape (1, 3, 320, 320)\n",
      "\n",
      "image 1/1 D:\\AAA\\Nowy folder\\Outputs\\Test\\2025-08-12-13.44.30.png: 320x320 1 Pupil, 12.7ms\n",
      "Speed: 1.2ms preprocess, 12.7ms inference, 2.7ms postprocess per image at shape (1, 3, 320, 320)\n",
      "\n",
      "image 1/1 D:\\AAA\\Nowy folder\\Outputs\\Test\\2025-08-12-13.44.41.png: 320x320 1 Pupil, 16.8ms\n",
      "Speed: 1.3ms preprocess, 16.8ms inference, 5.8ms postprocess per image at shape (1, 3, 320, 320)\n",
      "\n",
      "image 1/1 D:\\AAA\\Nowy folder\\Outputs\\Test\\2025-08-12-13.44.53.png: 320x320 1 Pupil, 16.9ms\n",
      "Speed: 1.5ms preprocess, 16.9ms inference, 4.6ms postprocess per image at shape (1, 3, 320, 320)\n",
      "\n",
      "image 1/1 D:\\AAA\\Nowy folder\\Outputs\\Test\\2025-08-12-13.44.57.png: 320x320 1 Pupil, 13.7ms\n",
      "Speed: 1.0ms preprocess, 13.7ms inference, 3.1ms postprocess per image at shape (1, 3, 320, 320)\n",
      "\n",
      "image 1/1 D:\\AAA\\Nowy folder\\Outputs\\Test\\2025-08-12-13.45.09.png: 320x320 1 Pupil, 12.0ms\n",
      "Speed: 1.0ms preprocess, 12.0ms inference, 2.7ms postprocess per image at shape (1, 3, 320, 320)\n",
      "\n",
      "image 1/1 D:\\AAA\\Nowy folder\\Outputs\\Test\\2025-08-12-13.45.18.png: 320x320 1 Pupil, 13.3ms\n",
      "Speed: 1.1ms preprocess, 13.3ms inference, 3.2ms postprocess per image at shape (1, 3, 320, 320)\n",
      "\n",
      "image 1/1 D:\\AAA\\Nowy folder\\Outputs\\Test\\2025-08-12-13.45.24.png: 320x320 1 Pupil, 16.5ms\n",
      "Speed: 1.6ms preprocess, 16.5ms inference, 3.3ms postprocess per image at shape (1, 3, 320, 320)\n",
      "\n",
      "image 1/1 D:\\AAA\\Nowy folder\\Outputs\\Test\\2025-08-12-13.45.34.png: 320x320 (no detections), 13.2ms\n",
      "Speed: 1.0ms preprocess, 13.2ms inference, 1.0ms postprocess per image at shape (1, 3, 320, 320)\n",
      "\n",
      "image 1/1 D:\\AAA\\Nowy folder\\Outputs\\Test\\2025-08-12-13.45.39.png: 320x320 1 Pupil, 17.5ms\n",
      "Speed: 1.5ms preprocess, 17.5ms inference, 3.5ms postprocess per image at shape (1, 3, 320, 320)\n",
      "\n",
      "image 1/1 D:\\AAA\\Nowy folder\\Outputs\\Test\\2025-08-12-13.45.44.png: 320x320 1 Pupil, 12.0ms\n",
      "Speed: 1.1ms preprocess, 12.0ms inference, 2.8ms postprocess per image at shape (1, 3, 320, 320)\n",
      "\n",
      "image 1/1 D:\\AAA\\Nowy folder\\Outputs\\Test\\2025-08-12-13.45.48.png: 320x320 1 Pupil, 17.0ms\n",
      "Speed: 1.1ms preprocess, 17.0ms inference, 4.6ms postprocess per image at shape (1, 3, 320, 320)\n",
      "\n",
      "image 1/1 D:\\AAA\\Nowy folder\\Outputs\\Test\\2025-08-12-13.45.55.png: 320x320 1 Pupil, 18.9ms\n",
      "Speed: 1.9ms preprocess, 18.9ms inference, 3.7ms postprocess per image at shape (1, 3, 320, 320)\n",
      "\n",
      "image 1/1 D:\\AAA\\Nowy folder\\Outputs\\Test\\2025-08-12-13.46.00.png: 320x320 1 Pupil, 11.8ms\n",
      "Speed: 1.0ms preprocess, 11.8ms inference, 3.8ms postprocess per image at shape (1, 3, 320, 320)\n",
      "\n",
      "image 1/1 D:\\AAA\\Nowy folder\\Outputs\\Test\\2025-08-12-13.46.17.png: 320x320 1 Pupil, 17.1ms\n",
      "Speed: 1.0ms preprocess, 17.1ms inference, 3.5ms postprocess per image at shape (1, 3, 320, 320)\n",
      "\n",
      "image 1/1 D:\\AAA\\Nowy folder\\Outputs\\Test\\2025-08-12-13.46.21.png: 320x320 1 Pupil, 11.8ms\n",
      "Speed: 1.2ms preprocess, 11.8ms inference, 6.7ms postprocess per image at shape (1, 3, 320, 320)\n",
      "\n",
      "image 1/1 D:\\AAA\\Nowy folder\\Outputs\\Test\\2025-08-12-13.46.25.png: 320x320 1 Pupil, 11.3ms\n",
      "Speed: 1.0ms preprocess, 11.3ms inference, 6.0ms postprocess per image at shape (1, 3, 320, 320)\n",
      "\n",
      "image 1/1 D:\\AAA\\Nowy folder\\Outputs\\Test\\2025-08-12-13.46.29.png: 320x320 1 Pupil, 16.7ms\n",
      "Speed: 1.1ms preprocess, 16.7ms inference, 4.7ms postprocess per image at shape (1, 3, 320, 320)\n",
      "\n",
      "image 1/1 D:\\AAA\\Nowy folder\\Outputs\\Test\\2025-08-12-13.46.42.png: 320x320 1 Pupil, 12.2ms\n",
      "Speed: 1.5ms preprocess, 12.2ms inference, 6.0ms postprocess per image at shape (1, 3, 320, 320)\n",
      "\n",
      "image 1/1 D:\\AAA\\Nowy folder\\Outputs\\Test\\2025-08-12-13.46.46.png: 320x320 1 Pupil, 11.6ms\n",
      "Speed: 1.1ms preprocess, 11.6ms inference, 6.1ms postprocess per image at shape (1, 3, 320, 320)\n",
      "\n",
      "image 1/1 D:\\AAA\\Nowy folder\\Outputs\\Test\\2025-08-12-13.46.56.png: 320x320 1 Pupil, 16.5ms\n",
      "Speed: 1.3ms preprocess, 16.5ms inference, 5.7ms postprocess per image at shape (1, 3, 320, 320)\n",
      "\n",
      "image 1/1 D:\\AAA\\Nowy folder\\Outputs\\Test\\2025-08-12-13.47.00.png: 320x320 1 Pupil, 12.3ms\n",
      "Speed: 1.0ms preprocess, 12.3ms inference, 3.1ms postprocess per image at shape (1, 3, 320, 320)\n",
      "\n",
      "image 1/1 D:\\AAA\\Nowy folder\\Outputs\\Test\\2025-08-12-13.47.03.png: 320x320 1 Pupil, 13.2ms\n",
      "Speed: 1.0ms preprocess, 13.2ms inference, 4.1ms postprocess per image at shape (1, 3, 320, 320)\n",
      "\n",
      "image 1/1 D:\\AAA\\Nowy folder\\Outputs\\Test\\2025-08-12-13.47.07.png: 320x320 1 Pupil, 13.5ms\n",
      "Speed: 1.1ms preprocess, 13.5ms inference, 3.4ms postprocess per image at shape (1, 3, 320, 320)\n",
      "\n",
      "image 1/1 D:\\AAA\\Nowy folder\\Outputs\\Test\\2025-08-12-13.47.11.png: 320x320 1 Pupil, 19.3ms\n",
      "Speed: 1.3ms preprocess, 19.3ms inference, 3.5ms postprocess per image at shape (1, 3, 320, 320)\n",
      "\n",
      "image 1/1 D:\\AAA\\Nowy folder\\Outputs\\Test\\2025-08-12-13.47.15.png: 320x320 1 Pupil, 12.2ms\n",
      "Speed: 1.1ms preprocess, 12.2ms inference, 3.4ms postprocess per image at shape (1, 3, 320, 320)\n",
      "\n",
      "image 1/1 D:\\AAA\\Nowy folder\\Outputs\\Test\\2025-08-12-13.47.27.png: 320x320 1 Pupil, 16.9ms\n",
      "Speed: 1.2ms preprocess, 16.9ms inference, 4.4ms postprocess per image at shape (1, 3, 320, 320)\n",
      "\n",
      "image 1/1 D:\\AAA\\Nowy folder\\Outputs\\Test\\2025-08-12-13.47.36.png: 320x320 1 Pupil, 12.2ms\n",
      "Speed: 1.1ms preprocess, 12.2ms inference, 2.6ms postprocess per image at shape (1, 3, 320, 320)\n",
      "\n",
      "image 1/1 D:\\AAA\\Nowy folder\\Outputs\\Test\\2025-08-12-13.47.51.png: 320x320 1 Pupil, 12.0ms\n",
      "Speed: 1.0ms preprocess, 12.0ms inference, 4.5ms postprocess per image at shape (1, 3, 320, 320)\n",
      "\n",
      "image 1/1 D:\\AAA\\Nowy folder\\Outputs\\Test\\2025-08-12-13.47.56.png: 320x320 1 Pupil, 10.8ms\n",
      "Speed: 1.0ms preprocess, 10.8ms inference, 2.7ms postprocess per image at shape (1, 3, 320, 320)\n"
     ]
    }
   ],
   "source": [
    "from ultralytics import YOLO\n",
    "import cv2\n",
    "import os\n",
    "import glob\n",
    "import numpy as np\n",
    "\n",
    "# Ścieżka wejściowa\n",
    "input_dir = r\"D:\\\\AAA\\\\Nowy folder\\\\Outputs\\\\Test\"\n",
    "\n",
    "# Wczytanie modelu segmentacyjnego YOLO\n",
    "model = YOLO(r\"D:\\\\AAA\\\\Nowy folder\\\\pupiltracking\\\\runs\\\\pupil-seg-11\\\\weights\\\\best.pt\")\n",
    "\n",
    "# Pobranie plików graficznych\n",
    "image_files = glob.glob(os.path.join(input_dir, \"*.png\")) \n",
    "\n",
    "for img_path in image_files:\n",
    "    img = cv2.imread(img_path)\n",
    "\n",
    "    # Detekcja\n",
    "    results = model.predict(\n",
    "        source=img_path,\n",
    "        conf=0.35, max_det=1, device=0, save=False, imgsz=320\n",
    "    )\n",
    "\n",
    "    for r in results:\n",
    "        if r.masks is not None:\n",
    "            masks = r.masks.xy\n",
    "            for poly in masks:\n",
    "                pts = np.array(poly, dtype=np.int32)\n",
    "                pts_reshaped = pts.reshape((-1, 1, 2))\n",
    "\n",
    "                # Rysowanie poligonu\n",
    "                cv2.polylines(img, [pts_reshaped], isClosed=True, color=(0, 255, 0), thickness=2)\n",
    "\n",
    "                # Środek geometryczny\n",
    "                M = cv2.moments(pts)\n",
    "                if M[\"m00\"] != 0:\n",
    "                    cx = int(M[\"m10\"] / M[\"m00\"])\n",
    "                    cy = int(M[\"m01\"] / M[\"m00\"])\n",
    "                else:\n",
    "                    cx, cy = 0, 0\n",
    "\n",
    "                # Znalezienie punktów przecięcia poziomej linii y=cy z krawędziami poligonu\n",
    "                intersections = []\n",
    "                for i in range(len(pts)):\n",
    "                    x1, y1 = pts[i]\n",
    "                    x2, y2 = pts[(i + 1) % len(pts)]  # następny punkt (zamknięty poligon)\n",
    "\n",
    "                    # Sprawdzamy, czy odcinek przecina linię y=cy\n",
    "                    if (y1 <= cy <= y2) or (y2 <= cy <= y1):\n",
    "                        if y1 != y2:  # unikamy dzielenia przez zero\n",
    "                            t = (cy - y1) / (y2 - y1)\n",
    "                            x_int = int(x1 + t * (x2 - x1))\n",
    "                            intersections.append((x_int, cy))\n",
    "\n",
    "                if len(intersections) >= 2:\n",
    "                    # Wybieramy najbardziej skrajne punkty\n",
    "                    p_left = min(intersections, key=lambda p: p[0])\n",
    "                    p_right = max(intersections, key=lambda p: p[0])\n",
    "                    diameter_x = abs(p_right[0] - p_left[0])\n",
    "\n",
    "                    # Rysowanie linii średnicy przez środek\n",
    "                    cv2.line(img, p_left, p_right, (255, 0, 0), 2)\n",
    "                    cv2.putText(img, f\"{diameter_x}px\",\n",
    "                                ((p_left[0] + p_right[0]) // 2, cy + 20),\n",
    "                                cv2.FONT_HERSHEY_SIMPLEX, 0.5, (255, 0, 0), 1)\n",
    "\n",
    "                # Rysowanie środka\n",
    "                cv2.circle(img, (cx, cy), 5, (0, 0, 255), -1)\n",
    "                cv2.putText(img, f\"({cx},{cy})\", (cx + 10, cy - 10),\n",
    "                            cv2.FONT_HERSHEY_SIMPLEX, 0.5, (0, 0, 255), 1)\n",
    "\n",
    "    # Wyświetlanie\n",
    "    cv2.imshow(\"image\", img)\n",
    "    key = cv2.waitKey(0)\n",
    "    if key == 27:\n",
    "        break\n",
    "\n",
    "cv2.destroyAllWindows()\n"
   ]
  },
  {
   "cell_type": "code",
   "execution_count": 1,
   "id": "ce4617c4",
   "metadata": {},
   "outputs": [
    {
     "name": "stdout",
     "output_type": "stream",
     "text": [
      "True\n",
      "NVIDIA GeForce GTX 1050 Ti\n"
     ]
    }
   ],
   "source": [
    "import torch\n",
    "print(torch.cuda.is_available())  # powinno być True\n",
    "print(torch.cuda.get_device_name(0))  # powinno pokazać GTX 1050 Ti\n"
   ]
  }
 ],
 "metadata": {
  "kernelspec": {
   "display_name": ".venv",
   "language": "python",
   "name": "python3"
  },
  "language_info": {
   "codemirror_mode": {
    "name": "ipython",
    "version": 3
   },
   "file_extension": ".py",
   "mimetype": "text/x-python",
   "name": "python",
   "nbconvert_exporter": "python",
   "pygments_lexer": "ipython3",
   "version": "3.11.9"
  }
 },
 "nbformat": 4,
 "nbformat_minor": 5
}
