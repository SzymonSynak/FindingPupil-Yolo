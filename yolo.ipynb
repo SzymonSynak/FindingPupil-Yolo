{
 "cells": [
  {
   "cell_type": "code",
   "execution_count": null,
   "id": "3a218489",
   "metadata": {},
   "outputs": [],
   "source": [
    "#Stworzenie podziału na dane uczące i walidacyjne\n",
    "import os, shutil, random, glob\n",
    "from pathlib import Path\n",
    "\n",
    "src_img = Path(\"D:/AAA/Nowy folder/Outputs/project-8-at-2025-08-12-11-44-492dcff8/images\")\n",
    "src_lab = Path(\"D:/AAA/Nowy folder/Outputs/project-8-at-2025-08-12-11-44-492dcff8/labels\")\n",
    "out = Path(\"D:/AAA/Nowy folder/Outputs/project-8-at-2025-08-12-11-44-492dcff8/yolo_pupil_seg\"); random.seed(42)\n",
    "for p in ['images/train','images/val','labels/train','labels/val']:\n",
    "    (out/p).mkdir(parents=True, exist_ok=True)\n",
    "\n",
    "imgs = [Path(p) for p in glob.glob(str(src_img/'*'))]\n",
    "random.shuffle(imgs); n = int(0.8*len(imgs))\n",
    "splits = {'train': imgs[:n], 'val': imgs[n:]}\n",
    "\n",
    "for split, files in splits.items():\n",
    "    for img in files:\n",
    "        lbl = src_lab/(img.stem + \".txt\")\n",
    "        shutil.copy2(img, out/'images'/split/img.name)\n",
    "        if lbl.exists(): shutil.copy2(lbl, out/'labels'/split/lbl.name)"
   ]
  },
  {
   "cell_type": "code",
   "execution_count": 7,
   "id": "8a94d5dc",
   "metadata": {},
   "outputs": [
    {
     "name": "stderr",
     "output_type": "stream",
     "text": [
      "Downloading https://github.com/ultralytics/assets/releases/download/v8.3.0/yolov8s-seg.pt to 'yolov8s-seg.pt': 100%|██████████| 22.8M/22.8M [00:00<00:00, 48.5MB/s]\n"
     ]
    },
    {
     "name": "stdout",
     "output_type": "stream",
     "text": [
      "New https://pypi.org/project/ultralytics/8.3.179 available  Update with 'pip install -U ultralytics'\n",
      "Ultralytics 8.3.177  Python-3.11.9 torch-2.7.1+cu118 CUDA:0 (NVIDIA GeForce GTX 1050 Ti, 4096MiB)\n",
      "\u001b[34m\u001b[1mengine\\trainer: \u001b[0magnostic_nms=False, amp=True, augment=False, auto_augment=randaugment, batch=16, bgr=0.0, box=7.5, cache=False, cfg=None, classes=None, close_mosaic=10, cls=0.5, conf=None, copy_paste=0.0, copy_paste_mode=flip, cos_lr=False, cutmix=0.0, data=D:/AAA/Nowy folder/Outputs/project-8-at-2025-08-12-11-44-492dcff8/data.yaml, degrees=0.0, deterministic=True, device=0, dfl=1.5, dnn=False, dropout=0.0, dynamic=False, embed=None, epochs=100, erasing=0.4, exist_ok=False, fliplr=0.5, flipud=0.0, format=torchscript, fraction=1.0, freeze=None, half=False, hsv_h=0.015, hsv_s=0.7, hsv_v=0.4, imgsz=400, int8=False, iou=0.7, keras=False, kobj=1.0, line_width=None, lr0=0.01, lrf=0.01, mask_ratio=4, max_det=300, mixup=0.0, mode=train, model=yolov8s-seg.pt, momentum=0.937, mosaic=1.0, multi_scale=False, name=pupil-seg-s, nbs=64, nms=False, opset=None, optimize=False, optimizer=auto, overlap_mask=True, patience=100, perspective=0.0, plots=True, pose=12.0, pretrained=True, profile=False, project=runs, rect=False, resume=False, retina_masks=False, save=True, save_conf=False, save_crop=False, save_dir=runs\\pupil-seg-s, save_frames=False, save_json=False, save_period=-1, save_txt=False, scale=0.5, seed=0, shear=0.0, show=False, show_boxes=True, show_conf=True, show_labels=True, simplify=True, single_cls=False, source=None, split=val, stream_buffer=False, task=segment, time=None, tracker=botsort.yaml, translate=0.1, val=True, verbose=True, vid_stride=1, visualize=False, warmup_bias_lr=0.1, warmup_epochs=3.0, warmup_momentum=0.8, weight_decay=0.0005, workers=8, workspace=None\n",
      "Overriding model.yaml nc=80 with nc=1\n",
      "\n",
      "                   from  n    params  module                                       arguments                     \n",
      "  0                  -1  1       928  ultralytics.nn.modules.conv.Conv             [3, 32, 3, 2]                 \n",
      "  1                  -1  1     18560  ultralytics.nn.modules.conv.Conv             [32, 64, 3, 2]                \n",
      "  2                  -1  1     29056  ultralytics.nn.modules.block.C2f             [64, 64, 1, True]             \n",
      "  3                  -1  1     73984  ultralytics.nn.modules.conv.Conv             [64, 128, 3, 2]               \n",
      "  4                  -1  2    197632  ultralytics.nn.modules.block.C2f             [128, 128, 2, True]           \n",
      "  5                  -1  1    295424  ultralytics.nn.modules.conv.Conv             [128, 256, 3, 2]              \n",
      "  6                  -1  2    788480  ultralytics.nn.modules.block.C2f             [256, 256, 2, True]           \n",
      "  7                  -1  1   1180672  ultralytics.nn.modules.conv.Conv             [256, 512, 3, 2]              \n",
      "  8                  -1  1   1838080  ultralytics.nn.modules.block.C2f             [512, 512, 1, True]           \n",
      "  9                  -1  1    656896  ultralytics.nn.modules.block.SPPF            [512, 512, 5]                 \n",
      " 10                  -1  1         0  torch.nn.modules.upsampling.Upsample         [None, 2, 'nearest']          \n",
      " 11             [-1, 6]  1         0  ultralytics.nn.modules.conv.Concat           [1]                           \n",
      " 12                  -1  1    591360  ultralytics.nn.modules.block.C2f             [768, 256, 1]                 \n",
      " 13                  -1  1         0  torch.nn.modules.upsampling.Upsample         [None, 2, 'nearest']          \n",
      " 14             [-1, 4]  1         0  ultralytics.nn.modules.conv.Concat           [1]                           \n",
      " 15                  -1  1    148224  ultralytics.nn.modules.block.C2f             [384, 128, 1]                 \n",
      " 16                  -1  1    147712  ultralytics.nn.modules.conv.Conv             [128, 128, 3, 2]              \n",
      " 17            [-1, 12]  1         0  ultralytics.nn.modules.conv.Concat           [1]                           \n",
      " 18                  -1  1    493056  ultralytics.nn.modules.block.C2f             [384, 256, 1]                 \n",
      " 19                  -1  1    590336  ultralytics.nn.modules.conv.Conv             [256, 256, 3, 2]              \n",
      " 20             [-1, 9]  1         0  ultralytics.nn.modules.conv.Concat           [1]                           \n",
      " 21                  -1  1   1969152  ultralytics.nn.modules.block.C2f             [768, 512, 1]                 \n",
      " 22        [15, 18, 21]  1   2770931  ultralytics.nn.modules.head.Segment          [1, 32, 128, [128, 256, 512]] \n",
      "YOLOv8s-seg summary: 151 layers, 11,790,483 parameters, 11,790,467 gradients, 42.7 GFLOPs\n",
      "\n",
      "Transferred 411/417 items from pretrained weights\n",
      "Freezing layer 'model.22.dfl.conv.weight'\n",
      "\u001b[34m\u001b[1mAMP: \u001b[0mrunning Automatic Mixed Precision (AMP) checks...\n"
     ]
    },
    {
     "name": "stderr",
     "output_type": "stream",
     "text": [
      "Downloading https://github.com/ultralytics/assets/releases/download/v8.3.0/yolo11n.pt to 'yolo11n.pt': 100%|██████████| 5.35M/5.35M [00:00<00:00, 25.3MB/s]\n"
     ]
    },
    {
     "name": "stdout",
     "output_type": "stream",
     "text": [
      "\u001b[34m\u001b[1mAMP: \u001b[0mchecks passed \n",
      "WARNING imgsz=[400] must be multiple of max stride 32, updating to [416]\n",
      "\u001b[34m\u001b[1mtrain: \u001b[0mFast image access  (ping: 0.30.1 ms, read: 9.30.9 MB/s, size: 78.4 KB)\n"
     ]
    },
    {
     "name": "stderr",
     "output_type": "stream",
     "text": [
      "\u001b[34m\u001b[1mtrain: \u001b[0mScanning D:\\AAA\\Nowy folder\\Outputs\\project-8-at-2025-08-12-11-44-492dcff8\\yolo_pupil_seg\\labels\\train.cache... 29 images, 0 backgrounds, 0 corrupt: 100%|██████████| 29/29 [00:00<?, ?it/s]\n"
     ]
    },
    {
     "name": "stdout",
     "output_type": "stream",
     "text": [
      "\u001b[34m\u001b[1mval: \u001b[0mFast image access  (ping: 0.30.2 ms, read: 8.11.7 MB/s, size: 80.7 KB)\n"
     ]
    },
    {
     "name": "stderr",
     "output_type": "stream",
     "text": [
      "\u001b[34m\u001b[1mval: \u001b[0mScanning D:\\AAA\\Nowy folder\\Outputs\\project-8-at-2025-08-12-11-44-492dcff8\\yolo_pupil_seg\\labels\\val.cache... 8 images, 0 backgrounds, 0 corrupt: 100%|██████████| 8/8 [00:00<?, ?it/s]\n"
     ]
    },
    {
     "name": "stdout",
     "output_type": "stream",
     "text": [
      "Plotting labels to runs\\pupil-seg-s\\labels.jpg... \n",
      "\u001b[34m\u001b[1moptimizer:\u001b[0m 'optimizer=auto' found, ignoring 'lr0=0.01' and 'momentum=0.937' and determining best 'optimizer', 'lr0' and 'momentum' automatically... \n",
      "\u001b[34m\u001b[1moptimizer:\u001b[0m AdamW(lr=0.002, momentum=0.9) with parameter groups 66 weight(decay=0.0), 77 weight(decay=0.0005), 76 bias(decay=0.0)\n",
      "Image sizes 416 train, 416 val\n",
      "Using 8 dataloader workers\n",
      "Logging results to \u001b[1mruns\\pupil-seg-s\u001b[0m\n",
      "Starting training for 100 epochs...\n",
      "\n",
      "      Epoch    GPU_mem   box_loss   seg_loss   cls_loss   dfl_loss  Instances       Size\n"
     ]
    },
    {
     "name": "stderr",
     "output_type": "stream",
     "text": [
      "      1/100      2.23G     0.6767      1.627      3.003      1.068         18        416: 100%|██████████| 2/2 [00:02<00:00,  1.04s/it]\n",
      "                 Class     Images  Instances      Box(P          R      mAP50  mAP50-95)     Mask(P          R      mAP50  mAP50-95): 100%|██████████| 1/1 [00:00<00:00,  3.47it/s]"
     ]
    },
    {
     "name": "stdout",
     "output_type": "stream",
     "text": [
      "                   all          8          8      0.869      0.831      0.904      0.777      0.869      0.831      0.904      0.775\n"
     ]
    },
    {
     "name": "stderr",
     "output_type": "stream",
     "text": [
      "\n"
     ]
    },
    {
     "name": "stdout",
     "output_type": "stream",
     "text": [
      "\n",
      "      Epoch    GPU_mem   box_loss   seg_loss   cls_loss   dfl_loss  Instances       Size\n"
     ]
    },
    {
     "name": "stderr",
     "output_type": "stream",
     "text": [
      "      2/100      2.28G       0.89      1.949      2.847      1.159         28        416: 100%|██████████| 2/2 [00:01<00:00,  1.38it/s]\n",
      "                 Class     Images  Instances      Box(P          R      mAP50  mAP50-95)     Mask(P          R      mAP50  mAP50-95): 100%|██████████| 1/1 [00:00<00:00,  4.91it/s]"
     ]
    },
    {
     "name": "stdout",
     "output_type": "stream",
     "text": [
      "                   all          8          8          1      0.847      0.917      0.779          1      0.847      0.917      0.778\n"
     ]
    },
    {
     "name": "stderr",
     "output_type": "stream",
     "text": [
      "\n"
     ]
    },
    {
     "name": "stdout",
     "output_type": "stream",
     "text": [
      "\n",
      "      Epoch    GPU_mem   box_loss   seg_loss   cls_loss   dfl_loss  Instances       Size\n"
     ]
    },
    {
     "name": "stderr",
     "output_type": "stream",
     "text": [
      "      3/100      2.29G      1.078      2.545      3.436      1.335         21        416: 100%|██████████| 2/2 [00:01<00:00,  1.46it/s]\n",
      "                 Class     Images  Instances      Box(P          R      mAP50  mAP50-95)     Mask(P          R      mAP50  mAP50-95): 100%|██████████| 1/1 [00:00<00:00,  4.88it/s]"
     ]
    },
    {
     "name": "stdout",
     "output_type": "stream",
     "text": [
      "                   all          8          8      0.864      0.798        0.9       0.77      0.864      0.798        0.9       0.77\n"
     ]
    },
    {
     "name": "stderr",
     "output_type": "stream",
     "text": [
      "\n"
     ]
    },
    {
     "name": "stdout",
     "output_type": "stream",
     "text": [
      "\n",
      "      Epoch    GPU_mem   box_loss   seg_loss   cls_loss   dfl_loss  Instances       Size\n"
     ]
    },
    {
     "name": "stderr",
     "output_type": "stream",
     "text": [
      "      4/100      2.29G     0.9463      2.267      3.332      1.265         23        416: 100%|██████████| 2/2 [00:01<00:00,  1.47it/s]\n",
      "                 Class     Images  Instances      Box(P          R      mAP50  mAP50-95)     Mask(P          R      mAP50  mAP50-95): 100%|██████████| 1/1 [00:00<00:00,  5.08it/s]"
     ]
    },
    {
     "name": "stdout",
     "output_type": "stream",
     "text": [
      "                   all          8          8      0.816      0.875      0.889      0.731      0.816      0.875      0.889       0.73\n"
     ]
    },
    {
     "name": "stderr",
     "output_type": "stream",
     "text": [
      "\n"
     ]
    },
    {
     "name": "stdout",
     "output_type": "stream",
     "text": [
      "\n",
      "      Epoch    GPU_mem   box_loss   seg_loss   cls_loss   dfl_loss  Instances       Size\n"
     ]
    },
    {
     "name": "stderr",
     "output_type": "stream",
     "text": [
      "      5/100      2.29G     0.9558      2.172      2.859      1.221         28        416: 100%|██████████| 2/2 [00:01<00:00,  1.46it/s]\n",
      "                 Class     Images  Instances      Box(P          R      mAP50  mAP50-95)     Mask(P          R      mAP50  mAP50-95): 100%|██████████| 1/1 [00:00<00:00,  5.07it/s]"
     ]
    },
    {
     "name": "stdout",
     "output_type": "stream",
     "text": [
      "                   all          8          8      0.859      0.875      0.871      0.727      0.859      0.875      0.871      0.715\n"
     ]
    },
    {
     "name": "stderr",
     "output_type": "stream",
     "text": [
      "\n"
     ]
    },
    {
     "name": "stdout",
     "output_type": "stream",
     "text": [
      "\n",
      "      Epoch    GPU_mem   box_loss   seg_loss   cls_loss   dfl_loss  Instances       Size\n"
     ]
    },
    {
     "name": "stderr",
     "output_type": "stream",
     "text": [
      "      6/100      2.31G     0.8582       1.81      2.392      1.129         33        416: 100%|██████████| 2/2 [00:01<00:00,  1.32it/s]\n",
      "                 Class     Images  Instances      Box(P          R      mAP50  mAP50-95)     Mask(P          R      mAP50  mAP50-95): 100%|██████████| 1/1 [00:00<00:00,  4.90it/s]"
     ]
    },
    {
     "name": "stdout",
     "output_type": "stream",
     "text": [
      "                   all          8          8      0.977      0.875      0.935      0.705      0.977      0.875      0.935      0.784\n"
     ]
    },
    {
     "name": "stderr",
     "output_type": "stream",
     "text": [
      "\n"
     ]
    },
    {
     "name": "stdout",
     "output_type": "stream",
     "text": [
      "\n",
      "      Epoch    GPU_mem   box_loss   seg_loss   cls_loss   dfl_loss  Instances       Size\n"
     ]
    },
    {
     "name": "stderr",
     "output_type": "stream",
     "text": [
      "      7/100      2.43G     0.6924     0.8755      1.239      1.049         24        416: 100%|██████████| 2/2 [00:01<00:00,  1.45it/s]\n",
      "                 Class     Images  Instances      Box(P          R      mAP50  mAP50-95)     Mask(P          R      mAP50  mAP50-95): 100%|██████████| 1/1 [00:00<00:00,  5.05it/s]"
     ]
    },
    {
     "name": "stdout",
     "output_type": "stream",
     "text": [
      "                   all          8          8      0.867      0.875      0.955      0.903      0.867      0.875      0.955      0.844\n"
     ]
    },
    {
     "name": "stderr",
     "output_type": "stream",
     "text": [
      "\n"
     ]
    },
    {
     "name": "stdout",
     "output_type": "stream",
     "text": [
      "\n",
      "      Epoch    GPU_mem   box_loss   seg_loss   cls_loss   dfl_loss  Instances       Size\n"
     ]
    },
    {
     "name": "stderr",
     "output_type": "stream",
     "text": [
      "      8/100      2.42G     0.6962     0.9487      1.131      1.005         21        416: 100%|██████████| 2/2 [00:01<00:00,  1.45it/s]\n",
      "                 Class     Images  Instances      Box(P          R      mAP50  mAP50-95)     Mask(P          R      mAP50  mAP50-95): 100%|██████████| 1/1 [00:00<00:00,  4.89it/s]"
     ]
    },
    {
     "name": "stdout",
     "output_type": "stream",
     "text": [
      "                   all          8          8      0.851      0.875      0.909      0.804      0.851      0.875      0.909      0.808\n"
     ]
    },
    {
     "name": "stderr",
     "output_type": "stream",
     "text": [
      "\n"
     ]
    },
    {
     "name": "stdout",
     "output_type": "stream",
     "text": [
      "\n",
      "      Epoch    GPU_mem   box_loss   seg_loss   cls_loss   dfl_loss  Instances       Size\n"
     ]
    },
    {
     "name": "stderr",
     "output_type": "stream",
     "text": [
      "      9/100      2.43G      0.816     0.8676      1.158      1.038         30        416: 100%|██████████| 2/2 [00:01<00:00,  1.47it/s]\n",
      "                 Class     Images  Instances      Box(P          R      mAP50  mAP50-95)     Mask(P          R      mAP50  mAP50-95): 100%|██████████| 1/1 [00:00<00:00,  4.84it/s]"
     ]
    },
    {
     "name": "stdout",
     "output_type": "stream",
     "text": [
      "                   all          8          8      0.823      0.625      0.685      0.598      0.823      0.625      0.685      0.639\n"
     ]
    },
    {
     "name": "stderr",
     "output_type": "stream",
     "text": [
      "\n"
     ]
    },
    {
     "name": "stdout",
     "output_type": "stream",
     "text": [
      "\n",
      "      Epoch    GPU_mem   box_loss   seg_loss   cls_loss   dfl_loss  Instances       Size\n"
     ]
    },
    {
     "name": "stderr",
     "output_type": "stream",
     "text": [
      "     10/100      2.47G     0.7393     0.7734      1.242     0.9898         20        416: 100%|██████████| 2/2 [00:01<00:00,  1.45it/s]\n",
      "                 Class     Images  Instances      Box(P          R      mAP50  mAP50-95)     Mask(P          R      mAP50  mAP50-95): 100%|██████████| 1/1 [00:00<00:00,  4.93it/s]"
     ]
    },
    {
     "name": "stdout",
     "output_type": "stream",
     "text": [
      "                   all          8          8      0.959      0.625      0.833      0.705      0.959      0.625      0.833      0.728\n"
     ]
    },
    {
     "name": "stderr",
     "output_type": "stream",
     "text": [
      "\n"
     ]
    },
    {
     "name": "stdout",
     "output_type": "stream",
     "text": [
      "\n",
      "      Epoch    GPU_mem   box_loss   seg_loss   cls_loss   dfl_loss  Instances       Size\n"
     ]
    },
    {
     "name": "stderr",
     "output_type": "stream",
     "text": [
      "     11/100      2.47G     0.6012     0.7787     0.7569     0.9625         29        416: 100%|██████████| 2/2 [00:01<00:00,  1.47it/s]\n",
      "                 Class     Images  Instances      Box(P          R      mAP50  mAP50-95)     Mask(P          R      mAP50  mAP50-95): 100%|██████████| 1/1 [00:00<00:00,  4.89it/s]"
     ]
    },
    {
     "name": "stdout",
     "output_type": "stream",
     "text": [
      "                   all          8          8      0.871      0.846      0.874       0.76      0.871      0.846      0.874      0.805\n"
     ]
    },
    {
     "name": "stderr",
     "output_type": "stream",
     "text": [
      "\n"
     ]
    },
    {
     "name": "stdout",
     "output_type": "stream",
     "text": [
      "\n",
      "      Epoch    GPU_mem   box_loss   seg_loss   cls_loss   dfl_loss  Instances       Size\n"
     ]
    },
    {
     "name": "stderr",
     "output_type": "stream",
     "text": [
      "     12/100      2.46G     0.5015     0.5266     0.6939     0.9829         27        416: 100%|██████████| 2/2 [00:01<00:00,  1.48it/s]\n",
      "                 Class     Images  Instances      Box(P          R      mAP50  mAP50-95)     Mask(P          R      mAP50  mAP50-95): 100%|██████████| 1/1 [00:00<00:00,  4.94it/s]"
     ]
    },
    {
     "name": "stdout",
     "output_type": "stream",
     "text": [
      "                   all          8          8          1       0.74      0.804      0.682          1       0.74      0.805      0.748\n"
     ]
    },
    {
     "name": "stderr",
     "output_type": "stream",
     "text": [
      "\n"
     ]
    },
    {
     "name": "stdout",
     "output_type": "stream",
     "text": [
      "\n",
      "      Epoch    GPU_mem   box_loss   seg_loss   cls_loss   dfl_loss  Instances       Size\n"
     ]
    },
    {
     "name": "stderr",
     "output_type": "stream",
     "text": [
      "     13/100      2.46G     0.6244     0.7699     0.7242     0.9965         25        416: 100%|██████████| 2/2 [00:01<00:00,  1.47it/s]\n",
      "                 Class     Images  Instances      Box(P          R      mAP50  mAP50-95)     Mask(P          R      mAP50  mAP50-95): 100%|██████████| 1/1 [00:00<00:00,  5.01it/s]"
     ]
    },
    {
     "name": "stdout",
     "output_type": "stream",
     "text": [
      "                   all          8          8      0.934      0.875      0.876      0.875      0.934      0.875      0.881      0.861\n"
     ]
    },
    {
     "name": "stderr",
     "output_type": "stream",
     "text": [
      "\n"
     ]
    },
    {
     "name": "stdout",
     "output_type": "stream",
     "text": [
      "\n",
      "      Epoch    GPU_mem   box_loss   seg_loss   cls_loss   dfl_loss  Instances       Size\n"
     ]
    },
    {
     "name": "stderr",
     "output_type": "stream",
     "text": [
      "     14/100      2.47G     0.6563     0.7827     0.6828      1.024         26        416: 100%|██████████| 2/2 [00:01<00:00,  1.47it/s]\n",
      "                 Class     Images  Instances      Box(P          R      mAP50  mAP50-95)     Mask(P          R      mAP50  mAP50-95): 100%|██████████| 1/1 [00:00<00:00,  4.66it/s]"
     ]
    },
    {
     "name": "stdout",
     "output_type": "stream",
     "text": [
      "                   all          8          8      0.815      0.875      0.876      0.807      0.815      0.875       0.88      0.821\n"
     ]
    },
    {
     "name": "stderr",
     "output_type": "stream",
     "text": [
      "\n"
     ]
    },
    {
     "name": "stdout",
     "output_type": "stream",
     "text": [
      "\n",
      "      Epoch    GPU_mem   box_loss   seg_loss   cls_loss   dfl_loss  Instances       Size\n"
     ]
    },
    {
     "name": "stderr",
     "output_type": "stream",
     "text": [
      "     15/100      2.45G     0.6995     0.7995     0.7154      1.019         28        416: 100%|██████████| 2/2 [00:01<00:00,  1.48it/s]\n",
      "                 Class     Images  Instances      Box(P          R      mAP50  mAP50-95)     Mask(P          R      mAP50  mAP50-95): 100%|██████████| 1/1 [00:00<00:00,  4.96it/s]"
     ]
    },
    {
     "name": "stdout",
     "output_type": "stream",
     "text": [
      "                   all          8          8      0.282      0.875      0.763       0.69      0.282      0.875      0.759      0.645\n"
     ]
    },
    {
     "name": "stderr",
     "output_type": "stream",
     "text": [
      "\n"
     ]
    },
    {
     "name": "stdout",
     "output_type": "stream",
     "text": [
      "\n",
      "      Epoch    GPU_mem   box_loss   seg_loss   cls_loss   dfl_loss  Instances       Size\n"
     ]
    },
    {
     "name": "stderr",
     "output_type": "stream",
     "text": [
      "     16/100      2.46G     0.7262     0.7389     0.7137      1.033         34        416: 100%|██████████| 2/2 [00:01<00:00,  1.47it/s]\n",
      "                 Class     Images  Instances      Box(P          R      mAP50  mAP50-95)     Mask(P          R      mAP50  mAP50-95): 100%|██████████| 1/1 [00:00<00:00,  5.03it/s]"
     ]
    },
    {
     "name": "stdout",
     "output_type": "stream",
     "text": [
      "                   all          8          8          1      0.375      0.799      0.731          1      0.375      0.799      0.709\n"
     ]
    },
    {
     "name": "stderr",
     "output_type": "stream",
     "text": [
      "\n"
     ]
    },
    {
     "name": "stdout",
     "output_type": "stream",
     "text": [
      "\n",
      "      Epoch    GPU_mem   box_loss   seg_loss   cls_loss   dfl_loss  Instances       Size\n"
     ]
    },
    {
     "name": "stderr",
     "output_type": "stream",
     "text": [
      "     17/100      2.47G     0.6231     0.5942     0.7089      1.003         30        416: 100%|██████████| 2/2 [00:01<00:00,  1.47it/s]\n",
      "                 Class     Images  Instances      Box(P          R      mAP50  mAP50-95)     Mask(P          R      mAP50  mAP50-95): 100%|██████████| 1/1 [00:00<00:00,  5.06it/s]"
     ]
    },
    {
     "name": "stdout",
     "output_type": "stream",
     "text": [
      "                   all          8          8          1      0.875      0.944      0.703          1      0.875      0.944       0.82\n"
     ]
    },
    {
     "name": "stderr",
     "output_type": "stream",
     "text": [
      "\n"
     ]
    },
    {
     "name": "stdout",
     "output_type": "stream",
     "text": [
      "\n",
      "      Epoch    GPU_mem   box_loss   seg_loss   cls_loss   dfl_loss  Instances       Size\n"
     ]
    },
    {
     "name": "stderr",
     "output_type": "stream",
     "text": [
      "     18/100      2.47G     0.6994     0.6574      0.809      0.955         24        416: 100%|██████████| 2/2 [00:01<00:00,  1.48it/s]\n",
      "                 Class     Images  Instances      Box(P          R      mAP50  mAP50-95)     Mask(P          R      mAP50  mAP50-95): 100%|██████████| 1/1 [00:00<00:00,  5.01it/s]"
     ]
    },
    {
     "name": "stdout",
     "output_type": "stream",
     "text": [
      "                   all          8          8      0.307          1      0.709      0.608      0.307          1      0.709      0.622\n"
     ]
    },
    {
     "name": "stderr",
     "output_type": "stream",
     "text": [
      "\n"
     ]
    },
    {
     "name": "stdout",
     "output_type": "stream",
     "text": [
      "\n",
      "      Epoch    GPU_mem   box_loss   seg_loss   cls_loss   dfl_loss  Instances       Size\n"
     ]
    },
    {
     "name": "stderr",
     "output_type": "stream",
     "text": [
      "     19/100      2.46G     0.7741     0.9056     0.8671      1.064         22        416: 100%|██████████| 2/2 [00:01<00:00,  1.48it/s]\n",
      "                 Class     Images  Instances      Box(P          R      mAP50  mAP50-95)     Mask(P          R      mAP50  mAP50-95): 100%|██████████| 1/1 [00:00<00:00,  5.13it/s]"
     ]
    },
    {
     "name": "stdout",
     "output_type": "stream",
     "text": [
      "                   all          8          8      0.166      0.875      0.188      0.138      0.166      0.875      0.188      0.156\n"
     ]
    },
    {
     "name": "stderr",
     "output_type": "stream",
     "text": [
      "\n"
     ]
    },
    {
     "name": "stdout",
     "output_type": "stream",
     "text": [
      "\n",
      "      Epoch    GPU_mem   box_loss   seg_loss   cls_loss   dfl_loss  Instances       Size\n"
     ]
    },
    {
     "name": "stderr",
     "output_type": "stream",
     "text": [
      "     20/100      2.47G     0.6718     0.5526      0.804      1.076         20        416: 100%|██████████| 2/2 [00:01<00:00,  1.48it/s]\n",
      "                 Class     Images  Instances      Box(P          R      mAP50  mAP50-95)     Mask(P          R      mAP50  mAP50-95): 100%|██████████| 1/1 [00:00<00:00,  5.03it/s]"
     ]
    },
    {
     "name": "stdout",
     "output_type": "stream",
     "text": [
      "                   all          8          8      0.455          1      0.681      0.393      0.455          1      0.681      0.557\n"
     ]
    },
    {
     "name": "stderr",
     "output_type": "stream",
     "text": [
      "\n"
     ]
    },
    {
     "name": "stdout",
     "output_type": "stream",
     "text": [
      "\n",
      "      Epoch    GPU_mem   box_loss   seg_loss   cls_loss   dfl_loss  Instances       Size\n"
     ]
    },
    {
     "name": "stderr",
     "output_type": "stream",
     "text": [
      "     21/100      2.45G     0.6706     0.7141     0.6481       1.02         28        416: 100%|██████████| 2/2 [00:01<00:00,  1.47it/s]\n",
      "                 Class     Images  Instances      Box(P          R      mAP50  mAP50-95)     Mask(P          R      mAP50  mAP50-95): 100%|██████████| 1/1 [00:00<00:00,  5.11it/s]"
     ]
    },
    {
     "name": "stdout",
     "output_type": "stream",
     "text": [
      "                   all          8          8      0.368      0.875      0.503       0.32      0.368      0.875      0.503      0.413\n"
     ]
    },
    {
     "name": "stderr",
     "output_type": "stream",
     "text": [
      "\n"
     ]
    },
    {
     "name": "stdout",
     "output_type": "stream",
     "text": [
      "\n",
      "      Epoch    GPU_mem   box_loss   seg_loss   cls_loss   dfl_loss  Instances       Size\n"
     ]
    },
    {
     "name": "stderr",
     "output_type": "stream",
     "text": [
      "     22/100      2.46G     0.5821      0.604     0.5707     0.9437         27        416: 100%|██████████| 2/2 [00:01<00:00,  1.47it/s]\n",
      "                 Class     Images  Instances      Box(P          R      mAP50  mAP50-95)     Mask(P          R      mAP50  mAP50-95): 100%|██████████| 1/1 [00:00<00:00,  5.09it/s]"
     ]
    },
    {
     "name": "stdout",
     "output_type": "stream",
     "text": [
      "                   all          8          8      0.121      0.875      0.255      0.139      0.121      0.875      0.255        0.2\n"
     ]
    },
    {
     "name": "stderr",
     "output_type": "stream",
     "text": [
      "\n"
     ]
    },
    {
     "name": "stdout",
     "output_type": "stream",
     "text": [
      "\n",
      "      Epoch    GPU_mem   box_loss   seg_loss   cls_loss   dfl_loss  Instances       Size\n"
     ]
    },
    {
     "name": "stderr",
     "output_type": "stream",
     "text": [
      "     23/100      2.49G     0.5851     0.6879     0.5911     0.9702         23        416: 100%|██████████| 2/2 [00:01<00:00,  1.45it/s]\n",
      "                 Class     Images  Instances      Box(P          R      mAP50  mAP50-95)     Mask(P          R      mAP50  mAP50-95): 100%|██████████| 1/1 [00:00<00:00,  5.11it/s]"
     ]
    },
    {
     "name": "stdout",
     "output_type": "stream",
     "text": [
      "                   all          8          8      0.778      0.875      0.873      0.611      0.778      0.875      0.873      0.617\n"
     ]
    },
    {
     "name": "stderr",
     "output_type": "stream",
     "text": [
      "\n"
     ]
    },
    {
     "name": "stdout",
     "output_type": "stream",
     "text": [
      "\n",
      "      Epoch    GPU_mem   box_loss   seg_loss   cls_loss   dfl_loss  Instances       Size\n"
     ]
    },
    {
     "name": "stderr",
     "output_type": "stream",
     "text": [
      "     24/100      2.46G     0.5635     0.6255     0.5814     0.8717         32        416: 100%|██████████| 2/2 [00:01<00:00,  1.47it/s]\n",
      "                 Class     Images  Instances      Box(P          R      mAP50  mAP50-95)     Mask(P          R      mAP50  mAP50-95): 100%|██████████| 1/1 [00:00<00:00,  5.17it/s]"
     ]
    },
    {
     "name": "stdout",
     "output_type": "stream",
     "text": [
      "                   all          8          8      0.125          1      0.166      0.116      0.125          1      0.166      0.115\n"
     ]
    },
    {
     "name": "stderr",
     "output_type": "stream",
     "text": [
      "\n"
     ]
    },
    {
     "name": "stdout",
     "output_type": "stream",
     "text": [
      "\n",
      "      Epoch    GPU_mem   box_loss   seg_loss   cls_loss   dfl_loss  Instances       Size\n"
     ]
    },
    {
     "name": "stderr",
     "output_type": "stream",
     "text": [
      "     25/100      2.47G     0.6622     0.6551     0.5709      1.068         20        416: 100%|██████████| 2/2 [00:01<00:00,  1.47it/s]\n",
      "                 Class     Images  Instances      Box(P          R      mAP50  mAP50-95)     Mask(P          R      mAP50  mAP50-95): 100%|██████████| 1/1 [00:00<00:00,  4.97it/s]"
     ]
    },
    {
     "name": "stdout",
     "output_type": "stream",
     "text": [
      "                   all          8          8     0.0623          1      0.292      0.258     0.0623          1      0.292       0.24\n"
     ]
    },
    {
     "name": "stderr",
     "output_type": "stream",
     "text": [
      "\n"
     ]
    },
    {
     "name": "stdout",
     "output_type": "stream",
     "text": [
      "\n",
      "      Epoch    GPU_mem   box_loss   seg_loss   cls_loss   dfl_loss  Instances       Size\n"
     ]
    },
    {
     "name": "stderr",
     "output_type": "stream",
     "text": [
      "     26/100      2.46G     0.5695      0.519     0.4857     0.9665         27        416: 100%|██████████| 2/2 [00:01<00:00,  1.47it/s]\n",
      "                 Class     Images  Instances      Box(P          R      mAP50  mAP50-95)     Mask(P          R      mAP50  mAP50-95): 100%|██████████| 1/1 [00:00<00:00,  5.11it/s]"
     ]
    },
    {
     "name": "stdout",
     "output_type": "stream",
     "text": [
      "                   all          8          8          1      0.875      0.995      0.847          1      0.875      0.995      0.767\n"
     ]
    },
    {
     "name": "stderr",
     "output_type": "stream",
     "text": [
      "\n"
     ]
    },
    {
     "name": "stdout",
     "output_type": "stream",
     "text": [
      "\n",
      "      Epoch    GPU_mem   box_loss   seg_loss   cls_loss   dfl_loss  Instances       Size\n"
     ]
    },
    {
     "name": "stderr",
     "output_type": "stream",
     "text": [
      "     27/100      2.46G     0.5303     0.4959     0.4397     0.9224         22        416: 100%|██████████| 2/2 [00:01<00:00,  1.47it/s]\n",
      "                 Class     Images  Instances      Box(P          R      mAP50  mAP50-95)     Mask(P          R      mAP50  mAP50-95): 100%|██████████| 1/1 [00:00<00:00,  5.17it/s]"
     ]
    },
    {
     "name": "stdout",
     "output_type": "stream",
     "text": [
      "                   all          8          8          1      0.875      0.995       0.84          1      0.875      0.995      0.775\n"
     ]
    },
    {
     "name": "stderr",
     "output_type": "stream",
     "text": [
      "\n"
     ]
    },
    {
     "name": "stdout",
     "output_type": "stream",
     "text": [
      "\n",
      "      Epoch    GPU_mem   box_loss   seg_loss   cls_loss   dfl_loss  Instances       Size\n"
     ]
    },
    {
     "name": "stderr",
     "output_type": "stream",
     "text": [
      "     28/100      2.44G     0.6102     0.5809     0.5323     0.9706         26        416: 100%|██████████| 2/2 [00:01<00:00,  1.49it/s]\n",
      "                 Class     Images  Instances      Box(P          R      mAP50  mAP50-95)     Mask(P          R      mAP50  mAP50-95): 100%|██████████| 1/1 [00:00<00:00,  5.11it/s]"
     ]
    },
    {
     "name": "stdout",
     "output_type": "stream",
     "text": [
      "                   all          8          8          1      0.875      0.995       0.84          1      0.875      0.995      0.775\n"
     ]
    },
    {
     "name": "stderr",
     "output_type": "stream",
     "text": [
      "\n"
     ]
    },
    {
     "name": "stdout",
     "output_type": "stream",
     "text": [
      "\n",
      "      Epoch    GPU_mem   box_loss   seg_loss   cls_loss   dfl_loss  Instances       Size\n"
     ]
    },
    {
     "name": "stderr",
     "output_type": "stream",
     "text": [
      "     29/100      2.48G      0.668     0.6069     0.5112      1.016         28        416: 100%|██████████| 2/2 [00:01<00:00,  1.47it/s]\n",
      "                 Class     Images  Instances      Box(P          R      mAP50  mAP50-95)     Mask(P          R      mAP50  mAP50-95): 100%|██████████| 1/1 [00:00<00:00,  4.93it/s]"
     ]
    },
    {
     "name": "stdout",
     "output_type": "stream",
     "text": [
      "                   all          8          8          1      0.875      0.995      0.868          1      0.875      0.995      0.841\n"
     ]
    },
    {
     "name": "stderr",
     "output_type": "stream",
     "text": [
      "\n"
     ]
    },
    {
     "name": "stdout",
     "output_type": "stream",
     "text": [
      "\n",
      "      Epoch    GPU_mem   box_loss   seg_loss   cls_loss   dfl_loss  Instances       Size\n"
     ]
    },
    {
     "name": "stderr",
     "output_type": "stream",
     "text": [
      "     30/100      2.46G     0.6459      0.585     0.4735      0.962         30        416: 100%|██████████| 2/2 [00:01<00:00,  1.46it/s]\n",
      "                 Class     Images  Instances      Box(P          R      mAP50  mAP50-95)     Mask(P          R      mAP50  mAP50-95): 100%|██████████| 1/1 [00:00<00:00,  4.99it/s]"
     ]
    },
    {
     "name": "stdout",
     "output_type": "stream",
     "text": [
      "                   all          8          8          1      0.875      0.995      0.868          1      0.875      0.995      0.853\n"
     ]
    },
    {
     "name": "stderr",
     "output_type": "stream",
     "text": [
      "\n"
     ]
    },
    {
     "name": "stdout",
     "output_type": "stream",
     "text": [
      "\n",
      "      Epoch    GPU_mem   box_loss   seg_loss   cls_loss   dfl_loss  Instances       Size\n"
     ]
    },
    {
     "name": "stderr",
     "output_type": "stream",
     "text": [
      "     31/100      2.42G     0.5897     0.5971     0.5154     0.9466         32        416: 100%|██████████| 2/2 [00:01<00:00,  1.49it/s]\n",
      "                 Class     Images  Instances      Box(P          R      mAP50  mAP50-95)     Mask(P          R      mAP50  mAP50-95): 100%|██████████| 1/1 [00:00<00:00,  5.21it/s]"
     ]
    },
    {
     "name": "stdout",
     "output_type": "stream",
     "text": [
      "                   all          8          8          1      0.875      0.995      0.868          1      0.875      0.995      0.853\n"
     ]
    },
    {
     "name": "stderr",
     "output_type": "stream",
     "text": [
      "\n"
     ]
    },
    {
     "name": "stdout",
     "output_type": "stream",
     "text": [
      "\n",
      "      Epoch    GPU_mem   box_loss   seg_loss   cls_loss   dfl_loss  Instances       Size\n"
     ]
    },
    {
     "name": "stderr",
     "output_type": "stream",
     "text": [
      "     32/100      2.48G     0.5957     0.4959     0.4542     0.9707         21        416: 100%|██████████| 2/2 [00:01<00:00,  1.48it/s]\n",
      "                 Class     Images  Instances      Box(P          R      mAP50  mAP50-95)     Mask(P          R      mAP50  mAP50-95): 100%|██████████| 1/1 [00:00<00:00,  5.06it/s]"
     ]
    },
    {
     "name": "stdout",
     "output_type": "stream",
     "text": [
      "                   all          8          8          1      0.625      0.995      0.803          1      0.625      0.995       0.87\n"
     ]
    },
    {
     "name": "stderr",
     "output_type": "stream",
     "text": [
      "\n"
     ]
    },
    {
     "name": "stdout",
     "output_type": "stream",
     "text": [
      "\n",
      "      Epoch    GPU_mem   box_loss   seg_loss   cls_loss   dfl_loss  Instances       Size\n"
     ]
    },
    {
     "name": "stderr",
     "output_type": "stream",
     "text": [
      "     33/100       2.5G     0.6009     0.6512     0.5063     0.9856         32        416: 100%|██████████| 2/2 [00:01<00:00,  1.47it/s]\n",
      "                 Class     Images  Instances      Box(P          R      mAP50  mAP50-95)     Mask(P          R      mAP50  mAP50-95): 100%|██████████| 1/1 [00:00<00:00,  5.06it/s]"
     ]
    },
    {
     "name": "stdout",
     "output_type": "stream",
     "text": [
      "                   all          8          8      0.986          1      0.995      0.808      0.986          1      0.995      0.867\n"
     ]
    },
    {
     "name": "stderr",
     "output_type": "stream",
     "text": [
      "\n"
     ]
    },
    {
     "name": "stdout",
     "output_type": "stream",
     "text": [
      "\n",
      "      Epoch    GPU_mem   box_loss   seg_loss   cls_loss   dfl_loss  Instances       Size\n"
     ]
    },
    {
     "name": "stderr",
     "output_type": "stream",
     "text": [
      "     34/100      2.43G      0.595     0.5973     0.5126     0.9786         24        416: 100%|██████████| 2/2 [00:01<00:00,  1.50it/s]\n",
      "                 Class     Images  Instances      Box(P          R      mAP50  mAP50-95)     Mask(P          R      mAP50  mAP50-95): 100%|██████████| 1/1 [00:00<00:00,  5.19it/s]"
     ]
    },
    {
     "name": "stdout",
     "output_type": "stream",
     "text": [
      "                   all          8          8      0.986          1      0.995      0.808      0.986          1      0.995      0.867\n"
     ]
    },
    {
     "name": "stderr",
     "output_type": "stream",
     "text": [
      "\n"
     ]
    },
    {
     "name": "stdout",
     "output_type": "stream",
     "text": [
      "\n",
      "      Epoch    GPU_mem   box_loss   seg_loss   cls_loss   dfl_loss  Instances       Size\n"
     ]
    },
    {
     "name": "stderr",
     "output_type": "stream",
     "text": [
      "     35/100      2.19G     0.6157     0.5725     0.4976     0.9508         26        416: 100%|██████████| 2/2 [00:01<00:00,  1.48it/s]\n",
      "                 Class     Images  Instances      Box(P          R      mAP50  mAP50-95)     Mask(P          R      mAP50  mAP50-95): 100%|██████████| 1/1 [00:00<00:00,  5.12it/s]"
     ]
    },
    {
     "name": "stdout",
     "output_type": "stream",
     "text": [
      "                   all          8          8      0.698      0.875      0.931      0.815      0.698      0.875      0.931      0.874\n"
     ]
    },
    {
     "name": "stderr",
     "output_type": "stream",
     "text": [
      "\n"
     ]
    },
    {
     "name": "stdout",
     "output_type": "stream",
     "text": [
      "\n",
      "      Epoch    GPU_mem   box_loss   seg_loss   cls_loss   dfl_loss  Instances       Size\n"
     ]
    },
    {
     "name": "stderr",
     "output_type": "stream",
     "text": [
      "     36/100      2.44G     0.5998     0.6206     0.4936     0.9521         27        416: 100%|██████████| 2/2 [00:01<00:00,  1.46it/s]\n",
      "                 Class     Images  Instances      Box(P          R      mAP50  mAP50-95)     Mask(P          R      mAP50  mAP50-95): 100%|██████████| 1/1 [00:00<00:00,  5.14it/s]"
     ]
    },
    {
     "name": "stdout",
     "output_type": "stream",
     "text": [
      "                   all          8          8      0.732      0.875      0.928      0.856      0.732      0.875      0.928      0.857\n"
     ]
    },
    {
     "name": "stderr",
     "output_type": "stream",
     "text": [
      "\n"
     ]
    },
    {
     "name": "stdout",
     "output_type": "stream",
     "text": [
      "\n",
      "      Epoch    GPU_mem   box_loss   seg_loss   cls_loss   dfl_loss  Instances       Size\n"
     ]
    },
    {
     "name": "stderr",
     "output_type": "stream",
     "text": [
      "     37/100      2.47G     0.5616     0.5548       0.46       0.93         18        416: 100%|██████████| 2/2 [00:01<00:00,  1.50it/s]\n",
      "                 Class     Images  Instances      Box(P          R      mAP50  mAP50-95)     Mask(P          R      mAP50  mAP50-95): 100%|██████████| 1/1 [00:00<00:00,  5.24it/s]"
     ]
    },
    {
     "name": "stdout",
     "output_type": "stream",
     "text": [
      "                   all          8          8      0.732      0.875      0.928      0.856      0.732      0.875      0.928      0.857\n"
     ]
    },
    {
     "name": "stderr",
     "output_type": "stream",
     "text": [
      "\n"
     ]
    },
    {
     "name": "stdout",
     "output_type": "stream",
     "text": [
      "\n",
      "      Epoch    GPU_mem   box_loss   seg_loss   cls_loss   dfl_loss  Instances       Size\n"
     ]
    },
    {
     "name": "stderr",
     "output_type": "stream",
     "text": [
      "     38/100      2.38G     0.5983     0.5678     0.4563     0.9675         27        416: 100%|██████████| 2/2 [00:01<00:00,  1.47it/s]\n",
      "                 Class     Images  Instances      Box(P          R      mAP50  mAP50-95)     Mask(P          R      mAP50  mAP50-95): 100%|██████████| 1/1 [00:00<00:00,  5.22it/s]"
     ]
    },
    {
     "name": "stdout",
     "output_type": "stream",
     "text": [
      "                   all          8          8      0.797       0.98      0.971      0.839      0.797       0.98      0.971       0.85\n"
     ]
    },
    {
     "name": "stderr",
     "output_type": "stream",
     "text": [
      "\n"
     ]
    },
    {
     "name": "stdout",
     "output_type": "stream",
     "text": [
      "\n",
      "      Epoch    GPU_mem   box_loss   seg_loss   cls_loss   dfl_loss  Instances       Size\n"
     ]
    },
    {
     "name": "stderr",
     "output_type": "stream",
     "text": [
      "     39/100      2.47G     0.5969     0.5022     0.4312     0.9583         28        416: 100%|██████████| 2/2 [00:01<00:00,  1.46it/s]\n",
      "                 Class     Images  Instances      Box(P          R      mAP50  mAP50-95)     Mask(P          R      mAP50  mAP50-95): 100%|██████████| 1/1 [00:00<00:00,  5.19it/s]"
     ]
    },
    {
     "name": "stdout",
     "output_type": "stream",
     "text": [
      "                   all          8          8          1      0.996      0.995      0.783          1      0.996      0.995      0.826\n"
     ]
    },
    {
     "name": "stderr",
     "output_type": "stream",
     "text": [
      "\n"
     ]
    },
    {
     "name": "stdout",
     "output_type": "stream",
     "text": [
      "\n",
      "      Epoch    GPU_mem   box_loss   seg_loss   cls_loss   dfl_loss  Instances       Size\n"
     ]
    },
    {
     "name": "stderr",
     "output_type": "stream",
     "text": [
      "     40/100      2.42G     0.5564     0.5558     0.4802     0.9384         26        416: 100%|██████████| 2/2 [00:01<00:00,  1.50it/s]\n",
      "                 Class     Images  Instances      Box(P          R      mAP50  mAP50-95)     Mask(P          R      mAP50  mAP50-95): 100%|██████████| 1/1 [00:00<00:00,  5.11it/s]"
     ]
    },
    {
     "name": "stdout",
     "output_type": "stream",
     "text": [
      "                   all          8          8          1      0.996      0.995      0.783          1      0.996      0.995      0.826\n"
     ]
    },
    {
     "name": "stderr",
     "output_type": "stream",
     "text": [
      "\n"
     ]
    },
    {
     "name": "stdout",
     "output_type": "stream",
     "text": [
      "\n",
      "      Epoch    GPU_mem   box_loss   seg_loss   cls_loss   dfl_loss  Instances       Size\n"
     ]
    },
    {
     "name": "stderr",
     "output_type": "stream",
     "text": [
      "     41/100      2.51G      0.595     0.5438     0.4446     0.9819         25        416: 100%|██████████| 2/2 [00:01<00:00,  1.46it/s]\n",
      "                 Class     Images  Instances      Box(P          R      mAP50  mAP50-95)     Mask(P          R      mAP50  mAP50-95): 100%|██████████| 1/1 [00:00<00:00,  5.32it/s]"
     ]
    },
    {
     "name": "stdout",
     "output_type": "stream",
     "text": [
      "                   all          8          8      0.971          1      0.995      0.818      0.971          1      0.995      0.833\n"
     ]
    },
    {
     "name": "stderr",
     "output_type": "stream",
     "text": [
      "\n"
     ]
    },
    {
     "name": "stdout",
     "output_type": "stream",
     "text": [
      "\n",
      "      Epoch    GPU_mem   box_loss   seg_loss   cls_loss   dfl_loss  Instances       Size\n"
     ]
    },
    {
     "name": "stderr",
     "output_type": "stream",
     "text": [
      "     42/100      2.46G     0.4475     0.4941     0.3863     0.8948         24        416: 100%|██████████| 2/2 [00:01<00:00,  1.47it/s]\n",
      "                 Class     Images  Instances      Box(P          R      mAP50  mAP50-95)     Mask(P          R      mAP50  mAP50-95): 100%|██████████| 1/1 [00:00<00:00,  5.33it/s]"
     ]
    },
    {
     "name": "stdout",
     "output_type": "stream",
     "text": [
      "                   all          8          8      0.792          1      0.982      0.873      0.792          1      0.982      0.904\n"
     ]
    },
    {
     "name": "stderr",
     "output_type": "stream",
     "text": [
      "\n"
     ]
    },
    {
     "name": "stdout",
     "output_type": "stream",
     "text": [
      "\n",
      "      Epoch    GPU_mem   box_loss   seg_loss   cls_loss   dfl_loss  Instances       Size\n"
     ]
    },
    {
     "name": "stderr",
     "output_type": "stream",
     "text": [
      "     43/100      2.45G     0.5899     0.6631     0.4327     0.9345         30        416: 100%|██████████| 2/2 [00:01<00:00,  1.49it/s]\n",
      "                 Class     Images  Instances      Box(P          R      mAP50  mAP50-95)     Mask(P          R      mAP50  mAP50-95): 100%|██████████| 1/1 [00:00<00:00,  5.30it/s]"
     ]
    },
    {
     "name": "stdout",
     "output_type": "stream",
     "text": [
      "                   all          8          8      0.792          1      0.982      0.873      0.792          1      0.982      0.904\n"
     ]
    },
    {
     "name": "stderr",
     "output_type": "stream",
     "text": [
      "\n"
     ]
    },
    {
     "name": "stdout",
     "output_type": "stream",
     "text": [
      "\n",
      "      Epoch    GPU_mem   box_loss   seg_loss   cls_loss   dfl_loss  Instances       Size\n"
     ]
    },
    {
     "name": "stderr",
     "output_type": "stream",
     "text": [
      "     44/100      2.29G     0.5425     0.5357     0.4521     0.9509         20        416: 100%|██████████| 2/2 [00:01<00:00,  1.48it/s]\n",
      "                 Class     Images  Instances      Box(P          R      mAP50  mAP50-95)     Mask(P          R      mAP50  mAP50-95): 100%|██████████| 1/1 [00:00<00:00,  5.32it/s]"
     ]
    },
    {
     "name": "stdout",
     "output_type": "stream",
     "text": [
      "                   all          8          8      0.781          1      0.821      0.689      0.781          1      0.821      0.728\n"
     ]
    },
    {
     "name": "stderr",
     "output_type": "stream",
     "text": [
      "\n"
     ]
    },
    {
     "name": "stdout",
     "output_type": "stream",
     "text": [
      "\n",
      "      Epoch    GPU_mem   box_loss   seg_loss   cls_loss   dfl_loss  Instances       Size\n"
     ]
    },
    {
     "name": "stderr",
     "output_type": "stream",
     "text": [
      "     45/100      2.59G     0.5466     0.7017      0.411     0.9337         17        416: 100%|██████████| 2/2 [00:01<00:00,  1.51it/s]\n",
      "                 Class     Images  Instances      Box(P          R      mAP50  mAP50-95)     Mask(P          R      mAP50  mAP50-95): 100%|██████████| 1/1 [00:00<00:00,  5.33it/s]"
     ]
    },
    {
     "name": "stdout",
     "output_type": "stream",
     "text": [
      "                   all          8          8      0.781          1      0.821      0.689      0.781          1      0.821      0.728\n"
     ]
    },
    {
     "name": "stderr",
     "output_type": "stream",
     "text": [
      "\n"
     ]
    },
    {
     "name": "stdout",
     "output_type": "stream",
     "text": [
      "\n",
      "      Epoch    GPU_mem   box_loss   seg_loss   cls_loss   dfl_loss  Instances       Size\n"
     ]
    },
    {
     "name": "stderr",
     "output_type": "stream",
     "text": [
      "     46/100      2.18G      0.526     0.4833     0.3983     0.8736         24        416: 100%|██████████| 2/2 [00:01<00:00,  1.48it/s]\n",
      "                 Class     Images  Instances      Box(P          R      mAP50  mAP50-95)     Mask(P          R      mAP50  mAP50-95): 100%|██████████| 1/1 [00:00<00:00,  5.22it/s]"
     ]
    },
    {
     "name": "stdout",
     "output_type": "stream",
     "text": [
      "                   all          8          8      0.203      0.875      0.254      0.231      0.203      0.875      0.254      0.215\n"
     ]
    },
    {
     "name": "stderr",
     "output_type": "stream",
     "text": [
      "\n"
     ]
    },
    {
     "name": "stdout",
     "output_type": "stream",
     "text": [
      "\n",
      "      Epoch    GPU_mem   box_loss   seg_loss   cls_loss   dfl_loss  Instances       Size\n"
     ]
    },
    {
     "name": "stderr",
     "output_type": "stream",
     "text": [
      "     47/100      2.41G     0.5701     0.5764     0.4446     0.9283         27        416: 100%|██████████| 2/2 [00:01<00:00,  1.49it/s]\n",
      "                 Class     Images  Instances      Box(P          R      mAP50  mAP50-95)     Mask(P          R      mAP50  mAP50-95): 100%|██████████| 1/1 [00:00<00:00,  5.31it/s]"
     ]
    },
    {
     "name": "stdout",
     "output_type": "stream",
     "text": [
      "                   all          8          8      0.203      0.875      0.254      0.231      0.203      0.875      0.254      0.215\n"
     ]
    },
    {
     "name": "stderr",
     "output_type": "stream",
     "text": [
      "\n"
     ]
    },
    {
     "name": "stdout",
     "output_type": "stream",
     "text": [
      "\n",
      "      Epoch    GPU_mem   box_loss   seg_loss   cls_loss   dfl_loss  Instances       Size\n"
     ]
    },
    {
     "name": "stderr",
     "output_type": "stream",
     "text": [
      "     48/100      2.45G     0.5174     0.4582     0.4037     0.9318         31        416: 100%|██████████| 2/2 [00:01<00:00,  1.47it/s]\n",
      "                 Class     Images  Instances      Box(P          R      mAP50  mAP50-95)     Mask(P          R      mAP50  mAP50-95): 100%|██████████| 1/1 [00:00<00:00,  5.28it/s]"
     ]
    },
    {
     "name": "stdout",
     "output_type": "stream",
     "text": [
      "                   all          8          8      0.829          1      0.967      0.841      0.829          1      0.967      0.808\n"
     ]
    },
    {
     "name": "stderr",
     "output_type": "stream",
     "text": [
      "\n"
     ]
    },
    {
     "name": "stdout",
     "output_type": "stream",
     "text": [
      "\n",
      "      Epoch    GPU_mem   box_loss   seg_loss   cls_loss   dfl_loss  Instances       Size\n"
     ]
    },
    {
     "name": "stderr",
     "output_type": "stream",
     "text": [
      "     49/100      2.45G      0.519     0.6033     0.4277     0.8865         26        416: 100%|██████████| 2/2 [00:01<00:00,  1.50it/s]\n",
      "                 Class     Images  Instances      Box(P          R      mAP50  mAP50-95)     Mask(P          R      mAP50  mAP50-95): 100%|██████████| 1/1 [00:00<00:00,  5.30it/s]"
     ]
    },
    {
     "name": "stdout",
     "output_type": "stream",
     "text": [
      "                   all          8          8      0.829          1      0.967      0.841      0.829          1      0.967      0.808\n"
     ]
    },
    {
     "name": "stderr",
     "output_type": "stream",
     "text": [
      "\n"
     ]
    },
    {
     "name": "stdout",
     "output_type": "stream",
     "text": [
      "\n",
      "      Epoch    GPU_mem   box_loss   seg_loss   cls_loss   dfl_loss  Instances       Size\n"
     ]
    },
    {
     "name": "stderr",
     "output_type": "stream",
     "text": [
      "     50/100      2.25G     0.4855     0.5152     0.4012     0.9046         20        416: 100%|██████████| 2/2 [00:01<00:00,  1.48it/s]\n",
      "                 Class     Images  Instances      Box(P          R      mAP50  mAP50-95)     Mask(P          R      mAP50  mAP50-95): 100%|██████████| 1/1 [00:00<00:00,  5.32it/s]"
     ]
    },
    {
     "name": "stdout",
     "output_type": "stream",
     "text": [
      "                   all          8          8      0.985          1      0.995      0.865      0.985          1      0.995      0.852\n"
     ]
    },
    {
     "name": "stderr",
     "output_type": "stream",
     "text": [
      "\n"
     ]
    },
    {
     "name": "stdout",
     "output_type": "stream",
     "text": [
      "\n",
      "      Epoch    GPU_mem   box_loss   seg_loss   cls_loss   dfl_loss  Instances       Size\n"
     ]
    },
    {
     "name": "stderr",
     "output_type": "stream",
     "text": [
      "     51/100      2.24G     0.4699     0.4856     0.3826     0.8956         18        416: 100%|██████████| 2/2 [00:01<00:00,  1.51it/s]\n",
      "                 Class     Images  Instances      Box(P          R      mAP50  mAP50-95)     Mask(P          R      mAP50  mAP50-95): 100%|██████████| 1/1 [00:00<00:00,  5.25it/s]"
     ]
    },
    {
     "name": "stdout",
     "output_type": "stream",
     "text": [
      "                   all          8          8      0.985          1      0.995      0.865      0.985          1      0.995      0.852\n"
     ]
    },
    {
     "name": "stderr",
     "output_type": "stream",
     "text": [
      "\n"
     ]
    },
    {
     "name": "stdout",
     "output_type": "stream",
     "text": [
      "\n",
      "      Epoch    GPU_mem   box_loss   seg_loss   cls_loss   dfl_loss  Instances       Size\n"
     ]
    },
    {
     "name": "stderr",
     "output_type": "stream",
     "text": [
      "     52/100      2.25G     0.5061     0.5404     0.4099     0.9228         19        416: 100%|██████████| 2/2 [00:01<00:00,  1.48it/s]\n",
      "                 Class     Images  Instances      Box(P          R      mAP50  mAP50-95)     Mask(P          R      mAP50  mAP50-95): 100%|██████████| 1/1 [00:00<00:00,  5.37it/s]"
     ]
    },
    {
     "name": "stdout",
     "output_type": "stream",
     "text": [
      "                   all          8          8      0.977          1      0.995      0.855      0.977          1      0.995      0.904\n"
     ]
    },
    {
     "name": "stderr",
     "output_type": "stream",
     "text": [
      "\n"
     ]
    },
    {
     "name": "stdout",
     "output_type": "stream",
     "text": [
      "\n",
      "      Epoch    GPU_mem   box_loss   seg_loss   cls_loss   dfl_loss  Instances       Size\n"
     ]
    },
    {
     "name": "stderr",
     "output_type": "stream",
     "text": [
      "     53/100      2.44G     0.4739     0.4816     0.3728     0.8797         24        416: 100%|██████████| 2/2 [00:01<00:00,  1.50it/s]\n",
      "                 Class     Images  Instances      Box(P          R      mAP50  mAP50-95)     Mask(P          R      mAP50  mAP50-95): 100%|██████████| 1/1 [00:00<00:00,  5.43it/s]"
     ]
    },
    {
     "name": "stdout",
     "output_type": "stream",
     "text": [
      "                   all          8          8      0.977          1      0.995      0.855      0.977          1      0.995      0.904\n"
     ]
    },
    {
     "name": "stderr",
     "output_type": "stream",
     "text": [
      "\n"
     ]
    },
    {
     "name": "stdout",
     "output_type": "stream",
     "text": [
      "\n",
      "      Epoch    GPU_mem   box_loss   seg_loss   cls_loss   dfl_loss  Instances       Size\n"
     ]
    },
    {
     "name": "stderr",
     "output_type": "stream",
     "text": [
      "     54/100      2.26G      0.498     0.4993     0.4047     0.9009         31        416: 100%|██████████| 2/2 [00:01<00:00,  1.46it/s]\n",
      "                 Class     Images  Instances      Box(P          R      mAP50  mAP50-95)     Mask(P          R      mAP50  mAP50-95): 100%|██████████| 1/1 [00:00<00:00,  5.43it/s]"
     ]
    },
    {
     "name": "stdout",
     "output_type": "stream",
     "text": [
      "                   all          8          8      0.978          1      0.995      0.846      0.978          1      0.995      0.892\n"
     ]
    },
    {
     "name": "stderr",
     "output_type": "stream",
     "text": [
      "\n"
     ]
    },
    {
     "name": "stdout",
     "output_type": "stream",
     "text": [
      "\n",
      "      Epoch    GPU_mem   box_loss   seg_loss   cls_loss   dfl_loss  Instances       Size\n"
     ]
    },
    {
     "name": "stderr",
     "output_type": "stream",
     "text": [
      "     55/100      2.44G        0.5     0.5334     0.4374     0.9081         17        416: 100%|██████████| 2/2 [00:01<00:00,  1.51it/s]\n",
      "                 Class     Images  Instances      Box(P          R      mAP50  mAP50-95)     Mask(P          R      mAP50  mAP50-95): 100%|██████████| 1/1 [00:00<00:00,  5.42it/s]"
     ]
    },
    {
     "name": "stdout",
     "output_type": "stream",
     "text": [
      "                   all          8          8      0.978          1      0.995      0.846      0.978          1      0.995      0.892\n"
     ]
    },
    {
     "name": "stderr",
     "output_type": "stream",
     "text": [
      "\n"
     ]
    },
    {
     "name": "stdout",
     "output_type": "stream",
     "text": [
      "\n",
      "      Epoch    GPU_mem   box_loss   seg_loss   cls_loss   dfl_loss  Instances       Size\n"
     ]
    },
    {
     "name": "stderr",
     "output_type": "stream",
     "text": [
      "     56/100      2.25G     0.5287     0.5219     0.4121     0.9298         27        416: 100%|██████████| 2/2 [00:01<00:00,  1.47it/s]\n",
      "                 Class     Images  Instances      Box(P          R      mAP50  mAP50-95)     Mask(P          R      mAP50  mAP50-95): 100%|██████████| 1/1 [00:00<00:00,  5.38it/s]"
     ]
    },
    {
     "name": "stdout",
     "output_type": "stream",
     "text": [
      "                   all          8          8      0.976          1      0.995      0.859      0.976          1      0.995      0.925\n"
     ]
    },
    {
     "name": "stderr",
     "output_type": "stream",
     "text": [
      "\n"
     ]
    },
    {
     "name": "stdout",
     "output_type": "stream",
     "text": [
      "\n",
      "      Epoch    GPU_mem   box_loss   seg_loss   cls_loss   dfl_loss  Instances       Size\n"
     ]
    },
    {
     "name": "stderr",
     "output_type": "stream",
     "text": [
      "     57/100      2.41G     0.4291     0.4426     0.3287      0.896         25        416: 100%|██████████| 2/2 [00:01<00:00,  1.50it/s]\n",
      "                 Class     Images  Instances      Box(P          R      mAP50  mAP50-95)     Mask(P          R      mAP50  mAP50-95): 100%|██████████| 1/1 [00:00<00:00,  5.36it/s]"
     ]
    },
    {
     "name": "stdout",
     "output_type": "stream",
     "text": [
      "                   all          8          8      0.976          1      0.995      0.859      0.976          1      0.995      0.925\n"
     ]
    },
    {
     "name": "stderr",
     "output_type": "stream",
     "text": [
      "\n"
     ]
    },
    {
     "name": "stdout",
     "output_type": "stream",
     "text": [
      "\n",
      "      Epoch    GPU_mem   box_loss   seg_loss   cls_loss   dfl_loss  Instances       Size\n"
     ]
    },
    {
     "name": "stderr",
     "output_type": "stream",
     "text": [
      "     58/100       2.6G      0.536     0.5112     0.3848     0.9656         23        416: 100%|██████████| 2/2 [00:01<00:00,  1.44it/s]\n",
      "                 Class     Images  Instances      Box(P          R      mAP50  mAP50-95)     Mask(P          R      mAP50  mAP50-95): 100%|██████████| 1/1 [00:00<00:00,  5.36it/s]"
     ]
    },
    {
     "name": "stdout",
     "output_type": "stream",
     "text": [
      "                   all          8          8      0.973          1      0.995      0.874      0.973          1      0.995      0.936\n"
     ]
    },
    {
     "name": "stderr",
     "output_type": "stream",
     "text": [
      "\n"
     ]
    },
    {
     "name": "stdout",
     "output_type": "stream",
     "text": [
      "\n",
      "      Epoch    GPU_mem   box_loss   seg_loss   cls_loss   dfl_loss  Instances       Size\n"
     ]
    },
    {
     "name": "stderr",
     "output_type": "stream",
     "text": [
      "     59/100      2.42G     0.6197     0.5583     0.4626     0.9817         25        416: 100%|██████████| 2/2 [00:01<00:00,  1.49it/s]\n",
      "                 Class     Images  Instances      Box(P          R      mAP50  mAP50-95)     Mask(P          R      mAP50  mAP50-95): 100%|██████████| 1/1 [00:00<00:00,  5.40it/s]"
     ]
    },
    {
     "name": "stdout",
     "output_type": "stream",
     "text": [
      "                   all          8          8      0.973          1      0.995      0.874      0.973          1      0.995      0.936\n"
     ]
    },
    {
     "name": "stderr",
     "output_type": "stream",
     "text": [
      "\n"
     ]
    },
    {
     "name": "stdout",
     "output_type": "stream",
     "text": [
      "\n",
      "      Epoch    GPU_mem   box_loss   seg_loss   cls_loss   dfl_loss  Instances       Size\n"
     ]
    },
    {
     "name": "stderr",
     "output_type": "stream",
     "text": [
      "     60/100      2.44G     0.6026     0.5197     0.4313     0.9365         26        416: 100%|██████████| 2/2 [00:01<00:00,  1.46it/s]\n",
      "                 Class     Images  Instances      Box(P          R      mAP50  mAP50-95)     Mask(P          R      mAP50  mAP50-95): 100%|██████████| 1/1 [00:00<00:00,  5.31it/s]"
     ]
    },
    {
     "name": "stdout",
     "output_type": "stream",
     "text": [
      "                   all          8          8      0.972          1      0.995      0.886      0.972          1      0.995      0.928\n"
     ]
    },
    {
     "name": "stderr",
     "output_type": "stream",
     "text": [
      "\n"
     ]
    },
    {
     "name": "stdout",
     "output_type": "stream",
     "text": [
      "\n",
      "      Epoch    GPU_mem   box_loss   seg_loss   cls_loss   dfl_loss  Instances       Size\n"
     ]
    },
    {
     "name": "stderr",
     "output_type": "stream",
     "text": [
      "     61/100      2.45G     0.5442     0.5991     0.3949     0.9497         24        416: 100%|██████████| 2/2 [00:01<00:00,  1.50it/s]\n",
      "                 Class     Images  Instances      Box(P          R      mAP50  mAP50-95)     Mask(P          R      mAP50  mAP50-95): 100%|██████████| 1/1 [00:00<00:00,  5.45it/s]"
     ]
    },
    {
     "name": "stdout",
     "output_type": "stream",
     "text": [
      "                   all          8          8      0.972          1      0.995      0.886      0.972          1      0.995      0.928\n"
     ]
    },
    {
     "name": "stderr",
     "output_type": "stream",
     "text": [
      "\n"
     ]
    },
    {
     "name": "stdout",
     "output_type": "stream",
     "text": [
      "\n",
      "      Epoch    GPU_mem   box_loss   seg_loss   cls_loss   dfl_loss  Instances       Size\n"
     ]
    },
    {
     "name": "stderr",
     "output_type": "stream",
     "text": [
      "     62/100      2.25G     0.4063     0.4033     0.3205     0.8817         26        416: 100%|██████████| 2/2 [00:01<00:00,  1.47it/s]\n",
      "                 Class     Images  Instances      Box(P          R      mAP50  mAP50-95)     Mask(P          R      mAP50  mAP50-95): 100%|██████████| 1/1 [00:00<00:00,  5.42it/s]"
     ]
    },
    {
     "name": "stdout",
     "output_type": "stream",
     "text": [
      "                   all          8          8      0.976          1      0.995      0.902      0.976          1      0.995      0.914\n"
     ]
    },
    {
     "name": "stderr",
     "output_type": "stream",
     "text": [
      "\n"
     ]
    },
    {
     "name": "stdout",
     "output_type": "stream",
     "text": [
      "\n",
      "      Epoch    GPU_mem   box_loss   seg_loss   cls_loss   dfl_loss  Instances       Size\n"
     ]
    },
    {
     "name": "stderr",
     "output_type": "stream",
     "text": [
      "     63/100      2.41G     0.5705     0.5245     0.4134      0.934         27        416: 100%|██████████| 2/2 [00:01<00:00,  1.49it/s]\n",
      "                 Class     Images  Instances      Box(P          R      mAP50  mAP50-95)     Mask(P          R      mAP50  mAP50-95): 100%|██████████| 1/1 [00:00<00:00,  5.33it/s]"
     ]
    },
    {
     "name": "stdout",
     "output_type": "stream",
     "text": [
      "                   all          8          8      0.976          1      0.995      0.902      0.976          1      0.995      0.914\n"
     ]
    },
    {
     "name": "stderr",
     "output_type": "stream",
     "text": [
      "\n"
     ]
    },
    {
     "name": "stdout",
     "output_type": "stream",
     "text": [
      "\n",
      "      Epoch    GPU_mem   box_loss   seg_loss   cls_loss   dfl_loss  Instances       Size\n"
     ]
    },
    {
     "name": "stderr",
     "output_type": "stream",
     "text": [
      "     64/100      2.45G     0.5056     0.4965     0.3805      0.882         31        416: 100%|██████████| 2/2 [00:01<00:00,  1.46it/s]\n",
      "                 Class     Images  Instances      Box(P          R      mAP50  mAP50-95)     Mask(P          R      mAP50  mAP50-95): 100%|██████████| 1/1 [00:00<00:00,  5.10it/s]"
     ]
    },
    {
     "name": "stdout",
     "output_type": "stream",
     "text": [
      "                   all          8          8      0.985          1      0.995      0.868      0.985          1      0.995      0.913\n"
     ]
    },
    {
     "name": "stderr",
     "output_type": "stream",
     "text": [
      "\n"
     ]
    },
    {
     "name": "stdout",
     "output_type": "stream",
     "text": [
      "\n",
      "      Epoch    GPU_mem   box_loss   seg_loss   cls_loss   dfl_loss  Instances       Size\n"
     ]
    },
    {
     "name": "stderr",
     "output_type": "stream",
     "text": [
      "     65/100      2.44G     0.4706     0.4908     0.3844      0.936         30        416: 100%|██████████| 2/2 [00:01<00:00,  1.49it/s]\n",
      "                 Class     Images  Instances      Box(P          R      mAP50  mAP50-95)     Mask(P          R      mAP50  mAP50-95): 100%|██████████| 1/1 [00:00<00:00,  5.34it/s]"
     ]
    },
    {
     "name": "stdout",
     "output_type": "stream",
     "text": [
      "                   all          8          8      0.985          1      0.995      0.868      0.985          1      0.995      0.913\n"
     ]
    },
    {
     "name": "stderr",
     "output_type": "stream",
     "text": [
      "\n"
     ]
    },
    {
     "name": "stdout",
     "output_type": "stream",
     "text": [
      "\n",
      "      Epoch    GPU_mem   box_loss   seg_loss   cls_loss   dfl_loss  Instances       Size\n"
     ]
    },
    {
     "name": "stderr",
     "output_type": "stream",
     "text": [
      "     66/100      2.25G     0.5075     0.5497     0.4177     0.9487         27        416: 100%|██████████| 2/2 [00:01<00:00,  1.47it/s]\n",
      "                 Class     Images  Instances      Box(P          R      mAP50  mAP50-95)     Mask(P          R      mAP50  mAP50-95): 100%|██████████| 1/1 [00:00<00:00,  5.29it/s]"
     ]
    },
    {
     "name": "stdout",
     "output_type": "stream",
     "text": [
      "                   all          8          8      0.989          1      0.995      0.862      0.989          1      0.995      0.916\n"
     ]
    },
    {
     "name": "stderr",
     "output_type": "stream",
     "text": [
      "\n"
     ]
    },
    {
     "name": "stdout",
     "output_type": "stream",
     "text": [
      "\n",
      "      Epoch    GPU_mem   box_loss   seg_loss   cls_loss   dfl_loss  Instances       Size\n"
     ]
    },
    {
     "name": "stderr",
     "output_type": "stream",
     "text": [
      "     67/100      2.44G     0.4789     0.5022      0.353     0.8657         30        416: 100%|██████████| 2/2 [00:01<00:00,  1.50it/s]\n",
      "                 Class     Images  Instances      Box(P          R      mAP50  mAP50-95)     Mask(P          R      mAP50  mAP50-95): 100%|██████████| 1/1 [00:00<00:00,  5.22it/s]"
     ]
    },
    {
     "name": "stdout",
     "output_type": "stream",
     "text": [
      "                   all          8          8      0.989          1      0.995      0.862      0.989          1      0.995      0.916\n"
     ]
    },
    {
     "name": "stderr",
     "output_type": "stream",
     "text": [
      "\n"
     ]
    },
    {
     "name": "stdout",
     "output_type": "stream",
     "text": [
      "\n",
      "      Epoch    GPU_mem   box_loss   seg_loss   cls_loss   dfl_loss  Instances       Size\n"
     ]
    },
    {
     "name": "stderr",
     "output_type": "stream",
     "text": [
      "     68/100      2.25G     0.4595     0.4068     0.3551     0.9176         23        416: 100%|██████████| 2/2 [00:01<00:00,  1.46it/s]\n",
      "                 Class     Images  Instances      Box(P          R      mAP50  mAP50-95)     Mask(P          R      mAP50  mAP50-95): 100%|██████████| 1/1 [00:00<00:00,  5.34it/s]"
     ]
    },
    {
     "name": "stdout",
     "output_type": "stream",
     "text": [
      "                   all          8          8      0.993          1      0.995      0.886      0.993          1      0.995      0.918\n"
     ]
    },
    {
     "name": "stderr",
     "output_type": "stream",
     "text": [
      "\n"
     ]
    },
    {
     "name": "stdout",
     "output_type": "stream",
     "text": [
      "\n",
      "      Epoch    GPU_mem   box_loss   seg_loss   cls_loss   dfl_loss  Instances       Size\n"
     ]
    },
    {
     "name": "stderr",
     "output_type": "stream",
     "text": [
      "     69/100      2.42G     0.4682     0.5073     0.3527     0.9493         24        416: 100%|██████████| 2/2 [00:01<00:00,  1.50it/s]\n",
      "                 Class     Images  Instances      Box(P          R      mAP50  mAP50-95)     Mask(P          R      mAP50  mAP50-95): 100%|██████████| 1/1 [00:00<00:00,  5.14it/s]"
     ]
    },
    {
     "name": "stdout",
     "output_type": "stream",
     "text": [
      "                   all          8          8      0.993          1      0.995      0.886      0.993          1      0.995      0.918\n"
     ]
    },
    {
     "name": "stderr",
     "output_type": "stream",
     "text": [
      "\n"
     ]
    },
    {
     "name": "stdout",
     "output_type": "stream",
     "text": [
      "\n",
      "      Epoch    GPU_mem   box_loss   seg_loss   cls_loss   dfl_loss  Instances       Size\n"
     ]
    },
    {
     "name": "stderr",
     "output_type": "stream",
     "text": [
      "     70/100       2.6G     0.5145     0.5298     0.3924     0.9154         28        416: 100%|██████████| 2/2 [00:01<00:00,  1.47it/s]\n",
      "                 Class     Images  Instances      Box(P          R      mAP50  mAP50-95)     Mask(P          R      mAP50  mAP50-95): 100%|██████████| 1/1 [00:00<00:00,  5.48it/s]\n"
     ]
    },
    {
     "name": "stdout",
     "output_type": "stream",
     "text": [
      "                   all          8          8      0.994          1      0.995      0.872      0.994          1      0.995      0.925\n",
      "\n",
      "      Epoch    GPU_mem   box_loss   seg_loss   cls_loss   dfl_loss  Instances       Size\n"
     ]
    },
    {
     "name": "stderr",
     "output_type": "stream",
     "text": [
      "     71/100      2.41G     0.5174     0.4588     0.3992     0.9335         30        416: 100%|██████████| 2/2 [00:01<00:00,  1.49it/s]\n",
      "                 Class     Images  Instances      Box(P          R      mAP50  mAP50-95)     Mask(P          R      mAP50  mAP50-95): 100%|██████████| 1/1 [00:00<00:00,  5.28it/s]"
     ]
    },
    {
     "name": "stdout",
     "output_type": "stream",
     "text": [
      "                   all          8          8      0.994          1      0.995      0.872      0.994          1      0.995      0.925\n"
     ]
    },
    {
     "name": "stderr",
     "output_type": "stream",
     "text": [
      "\n"
     ]
    },
    {
     "name": "stdout",
     "output_type": "stream",
     "text": [
      "\n",
      "      Epoch    GPU_mem   box_loss   seg_loss   cls_loss   dfl_loss  Instances       Size\n"
     ]
    },
    {
     "name": "stderr",
     "output_type": "stream",
     "text": [
      "     72/100      2.45G     0.4087     0.3993     0.3413     0.8915         26        416: 100%|██████████| 2/2 [00:01<00:00,  1.47it/s]\n",
      "                 Class     Images  Instances      Box(P          R      mAP50  mAP50-95)     Mask(P          R      mAP50  mAP50-95): 100%|██████████| 1/1 [00:00<00:00,  5.42it/s]"
     ]
    },
    {
     "name": "stdout",
     "output_type": "stream",
     "text": [
      "                   all          8          8      0.994          1      0.995      0.887      0.994          1      0.995      0.934\n"
     ]
    },
    {
     "name": "stderr",
     "output_type": "stream",
     "text": [
      "\n"
     ]
    },
    {
     "name": "stdout",
     "output_type": "stream",
     "text": [
      "\n",
      "      Epoch    GPU_mem   box_loss   seg_loss   cls_loss   dfl_loss  Instances       Size\n"
     ]
    },
    {
     "name": "stderr",
     "output_type": "stream",
     "text": [
      "     73/100      2.42G     0.4663     0.4966     0.3466     0.9557         37        416: 100%|██████████| 2/2 [00:01<00:00,  1.48it/s]\n",
      "                 Class     Images  Instances      Box(P          R      mAP50  mAP50-95)     Mask(P          R      mAP50  mAP50-95): 100%|██████████| 1/1 [00:00<00:00,  5.18it/s]"
     ]
    },
    {
     "name": "stdout",
     "output_type": "stream",
     "text": [
      "                   all          8          8      0.994          1      0.995      0.887      0.994          1      0.995      0.934\n"
     ]
    },
    {
     "name": "stderr",
     "output_type": "stream",
     "text": [
      "\n"
     ]
    },
    {
     "name": "stdout",
     "output_type": "stream",
     "text": [
      "\n",
      "      Epoch    GPU_mem   box_loss   seg_loss   cls_loss   dfl_loss  Instances       Size\n"
     ]
    },
    {
     "name": "stderr",
     "output_type": "stream",
     "text": [
      "     74/100      2.42G     0.4477     0.4138     0.3374     0.8716         31        416: 100%|██████████| 2/2 [00:01<00:00,  1.47it/s]\n",
      "                 Class     Images  Instances      Box(P          R      mAP50  mAP50-95)     Mask(P          R      mAP50  mAP50-95): 100%|██████████| 1/1 [00:00<00:00,  4.87it/s]"
     ]
    },
    {
     "name": "stdout",
     "output_type": "stream",
     "text": [
      "                   all          8          8      0.994          1      0.995      0.886      0.994          1      0.995      0.934\n"
     ]
    },
    {
     "name": "stderr",
     "output_type": "stream",
     "text": [
      "\n"
     ]
    },
    {
     "name": "stdout",
     "output_type": "stream",
     "text": [
      "\n",
      "      Epoch    GPU_mem   box_loss   seg_loss   cls_loss   dfl_loss  Instances       Size\n"
     ]
    },
    {
     "name": "stderr",
     "output_type": "stream",
     "text": [
      "     75/100      2.45G      0.438     0.4533     0.3241     0.8804         26        416: 100%|██████████| 2/2 [00:01<00:00,  1.50it/s]\n",
      "                 Class     Images  Instances      Box(P          R      mAP50  mAP50-95)     Mask(P          R      mAP50  mAP50-95): 100%|██████████| 1/1 [00:00<00:00,  5.04it/s]"
     ]
    },
    {
     "name": "stdout",
     "output_type": "stream",
     "text": [
      "                   all          8          8      0.994          1      0.995      0.886      0.994          1      0.995      0.934\n"
     ]
    },
    {
     "name": "stderr",
     "output_type": "stream",
     "text": [
      "\n"
     ]
    },
    {
     "name": "stdout",
     "output_type": "stream",
     "text": [
      "\n",
      "      Epoch    GPU_mem   box_loss   seg_loss   cls_loss   dfl_loss  Instances       Size\n"
     ]
    },
    {
     "name": "stderr",
     "output_type": "stream",
     "text": [
      "     76/100       2.5G     0.4091      0.412     0.3231     0.9134         34        416: 100%|██████████| 2/2 [00:01<00:00,  1.46it/s]\n",
      "                 Class     Images  Instances      Box(P          R      mAP50  mAP50-95)     Mask(P          R      mAP50  mAP50-95): 100%|██████████| 1/1 [00:00<00:00,  5.13it/s]"
     ]
    },
    {
     "name": "stdout",
     "output_type": "stream",
     "text": [
      "                   all          8          8      0.994          1      0.995       0.92      0.994          1      0.995      0.945\n"
     ]
    },
    {
     "name": "stderr",
     "output_type": "stream",
     "text": [
      "\n"
     ]
    },
    {
     "name": "stdout",
     "output_type": "stream",
     "text": [
      "\n",
      "      Epoch    GPU_mem   box_loss   seg_loss   cls_loss   dfl_loss  Instances       Size\n"
     ]
    },
    {
     "name": "stderr",
     "output_type": "stream",
     "text": [
      "     77/100      2.42G     0.4468     0.4694      0.347     0.8984         18        416: 100%|██████████| 2/2 [00:01<00:00,  1.50it/s]\n",
      "                 Class     Images  Instances      Box(P          R      mAP50  mAP50-95)     Mask(P          R      mAP50  mAP50-95): 100%|██████████| 1/1 [00:00<00:00,  5.20it/s]"
     ]
    },
    {
     "name": "stdout",
     "output_type": "stream",
     "text": [
      "                   all          8          8      0.994          1      0.995       0.92      0.994          1      0.995      0.945\n"
     ]
    },
    {
     "name": "stderr",
     "output_type": "stream",
     "text": [
      "\n"
     ]
    },
    {
     "name": "stdout",
     "output_type": "stream",
     "text": [
      "\n",
      "      Epoch    GPU_mem   box_loss   seg_loss   cls_loss   dfl_loss  Instances       Size\n"
     ]
    },
    {
     "name": "stderr",
     "output_type": "stream",
     "text": [
      "     78/100      2.46G     0.4311     0.4095     0.3211     0.8953         26        416: 100%|██████████| 2/2 [00:01<00:00,  1.47it/s]\n",
      "                 Class     Images  Instances      Box(P          R      mAP50  mAP50-95)     Mask(P          R      mAP50  mAP50-95): 100%|██████████| 1/1 [00:00<00:00,  5.20it/s]"
     ]
    },
    {
     "name": "stdout",
     "output_type": "stream",
     "text": [
      "                   all          8          8      0.994          1      0.995      0.888      0.994          1      0.995      0.925\n"
     ]
    },
    {
     "name": "stderr",
     "output_type": "stream",
     "text": [
      "\n"
     ]
    },
    {
     "name": "stdout",
     "output_type": "stream",
     "text": [
      "\n",
      "      Epoch    GPU_mem   box_loss   seg_loss   cls_loss   dfl_loss  Instances       Size\n"
     ]
    },
    {
     "name": "stderr",
     "output_type": "stream",
     "text": [
      "     79/100      2.43G       0.43     0.4511      0.327     0.8834         38        416: 100%|██████████| 2/2 [00:01<00:00,  1.49it/s]\n",
      "                 Class     Images  Instances      Box(P          R      mAP50  mAP50-95)     Mask(P          R      mAP50  mAP50-95): 100%|██████████| 1/1 [00:00<00:00,  5.46it/s]"
     ]
    },
    {
     "name": "stdout",
     "output_type": "stream",
     "text": [
      "                   all          8          8      0.994          1      0.995      0.888      0.994          1      0.995      0.925\n"
     ]
    },
    {
     "name": "stderr",
     "output_type": "stream",
     "text": [
      "\n"
     ]
    },
    {
     "name": "stdout",
     "output_type": "stream",
     "text": [
      "\n",
      "      Epoch    GPU_mem   box_loss   seg_loss   cls_loss   dfl_loss  Instances       Size\n"
     ]
    },
    {
     "name": "stderr",
     "output_type": "stream",
     "text": [
      "     80/100      2.47G     0.5334     0.5977     0.4137     0.9448         29        416: 100%|██████████| 2/2 [00:01<00:00,  1.46it/s]\n",
      "                 Class     Images  Instances      Box(P          R      mAP50  mAP50-95)     Mask(P          R      mAP50  mAP50-95): 100%|██████████| 1/1 [00:00<00:00,  5.17it/s]"
     ]
    },
    {
     "name": "stdout",
     "output_type": "stream",
     "text": [
      "                   all          8          8      0.994          1      0.995      0.854      0.994          1      0.995      0.884\n"
     ]
    },
    {
     "name": "stderr",
     "output_type": "stream",
     "text": [
      "\n"
     ]
    },
    {
     "name": "stdout",
     "output_type": "stream",
     "text": [
      "\n",
      "      Epoch    GPU_mem   box_loss   seg_loss   cls_loss   dfl_loss  Instances       Size\n"
     ]
    },
    {
     "name": "stderr",
     "output_type": "stream",
     "text": [
      "     81/100      2.42G     0.4099     0.4471     0.3049     0.8674         25        416: 100%|██████████| 2/2 [00:01<00:00,  1.49it/s]\n",
      "                 Class     Images  Instances      Box(P          R      mAP50  mAP50-95)     Mask(P          R      mAP50  mAP50-95): 100%|██████████| 1/1 [00:00<00:00,  5.23it/s]"
     ]
    },
    {
     "name": "stdout",
     "output_type": "stream",
     "text": [
      "                   all          8          8      0.994          1      0.995      0.854      0.994          1      0.995      0.884\n"
     ]
    },
    {
     "name": "stderr",
     "output_type": "stream",
     "text": [
      "\n"
     ]
    },
    {
     "name": "stdout",
     "output_type": "stream",
     "text": [
      "\n",
      "      Epoch    GPU_mem   box_loss   seg_loss   cls_loss   dfl_loss  Instances       Size\n"
     ]
    },
    {
     "name": "stderr",
     "output_type": "stream",
     "text": [
      "     82/100      2.45G     0.3951     0.5083     0.3086     0.8772         28        416: 100%|██████████| 2/2 [00:01<00:00,  1.45it/s]\n",
      "                 Class     Images  Instances      Box(P          R      mAP50  mAP50-95)     Mask(P          R      mAP50  mAP50-95): 100%|██████████| 1/1 [00:00<00:00,  5.29it/s]"
     ]
    },
    {
     "name": "stdout",
     "output_type": "stream",
     "text": [
      "                   all          8          8      0.994          1      0.995      0.852      0.994          1      0.995      0.888\n"
     ]
    },
    {
     "name": "stderr",
     "output_type": "stream",
     "text": [
      "\n"
     ]
    },
    {
     "name": "stdout",
     "output_type": "stream",
     "text": [
      "\n",
      "      Epoch    GPU_mem   box_loss   seg_loss   cls_loss   dfl_loss  Instances       Size\n"
     ]
    },
    {
     "name": "stderr",
     "output_type": "stream",
     "text": [
      "     83/100      2.44G     0.4505     0.5198     0.3459     0.8825         25        416: 100%|██████████| 2/2 [00:01<00:00,  1.49it/s]\n",
      "                 Class     Images  Instances      Box(P          R      mAP50  mAP50-95)     Mask(P          R      mAP50  mAP50-95): 100%|██████████| 1/1 [00:00<00:00,  5.43it/s]"
     ]
    },
    {
     "name": "stdout",
     "output_type": "stream",
     "text": [
      "                   all          8          8      0.994          1      0.995      0.852      0.994          1      0.995      0.888\n"
     ]
    },
    {
     "name": "stderr",
     "output_type": "stream",
     "text": [
      "\n"
     ]
    },
    {
     "name": "stdout",
     "output_type": "stream",
     "text": [
      "\n",
      "      Epoch    GPU_mem   box_loss   seg_loss   cls_loss   dfl_loss  Instances       Size\n"
     ]
    },
    {
     "name": "stderr",
     "output_type": "stream",
     "text": [
      "     84/100      2.46G     0.4584     0.5133     0.3405     0.9222         24        416: 100%|██████████| 2/2 [00:01<00:00,  1.46it/s]\n",
      "                 Class     Images  Instances      Box(P          R      mAP50  mAP50-95)     Mask(P          R      mAP50  mAP50-95): 100%|██████████| 1/1 [00:00<00:00,  5.43it/s]"
     ]
    },
    {
     "name": "stdout",
     "output_type": "stream",
     "text": [
      "                   all          8          8      0.994          1      0.995      0.852      0.994          1      0.995      0.889\n"
     ]
    },
    {
     "name": "stderr",
     "output_type": "stream",
     "text": [
      "\n"
     ]
    },
    {
     "name": "stdout",
     "output_type": "stream",
     "text": [
      "\n",
      "      Epoch    GPU_mem   box_loss   seg_loss   cls_loss   dfl_loss  Instances       Size\n"
     ]
    },
    {
     "name": "stderr",
     "output_type": "stream",
     "text": [
      "     85/100      2.43G     0.3848     0.3476     0.3003     0.8718         31        416: 100%|██████████| 2/2 [00:01<00:00,  1.49it/s]\n",
      "                 Class     Images  Instances      Box(P          R      mAP50  mAP50-95)     Mask(P          R      mAP50  mAP50-95): 100%|██████████| 1/1 [00:00<00:00,  5.42it/s]"
     ]
    },
    {
     "name": "stdout",
     "output_type": "stream",
     "text": [
      "                   all          8          8      0.994          1      0.995      0.852      0.994          1      0.995      0.889\n"
     ]
    },
    {
     "name": "stderr",
     "output_type": "stream",
     "text": [
      "\n"
     ]
    },
    {
     "name": "stdout",
     "output_type": "stream",
     "text": [
      "\n",
      "      Epoch    GPU_mem   box_loss   seg_loss   cls_loss   dfl_loss  Instances       Size\n"
     ]
    },
    {
     "name": "stderr",
     "output_type": "stream",
     "text": [
      "     86/100      2.46G     0.4094     0.4909     0.3156     0.8506         19        416: 100%|██████████| 2/2 [00:01<00:00,  1.47it/s]\n",
      "                 Class     Images  Instances      Box(P          R      mAP50  mAP50-95)     Mask(P          R      mAP50  mAP50-95): 100%|██████████| 1/1 [00:00<00:00,  5.34it/s]"
     ]
    },
    {
     "name": "stdout",
     "output_type": "stream",
     "text": [
      "                   all          8          8      0.994          1      0.995      0.894      0.994          1      0.995      0.901\n"
     ]
    },
    {
     "name": "stderr",
     "output_type": "stream",
     "text": [
      "\n"
     ]
    },
    {
     "name": "stdout",
     "output_type": "stream",
     "text": [
      "\n",
      "      Epoch    GPU_mem   box_loss   seg_loss   cls_loss   dfl_loss  Instances       Size\n"
     ]
    },
    {
     "name": "stderr",
     "output_type": "stream",
     "text": [
      "     87/100      2.44G     0.5146     0.5744     0.3436     0.9423         31        416: 100%|██████████| 2/2 [00:01<00:00,  1.49it/s]\n",
      "                 Class     Images  Instances      Box(P          R      mAP50  mAP50-95)     Mask(P          R      mAP50  mAP50-95): 100%|██████████| 1/1 [00:00<00:00,  5.46it/s]"
     ]
    },
    {
     "name": "stdout",
     "output_type": "stream",
     "text": [
      "                   all          8          8      0.994          1      0.995      0.894      0.994          1      0.995      0.901\n"
     ]
    },
    {
     "name": "stderr",
     "output_type": "stream",
     "text": [
      "\n"
     ]
    },
    {
     "name": "stdout",
     "output_type": "stream",
     "text": [
      "\n",
      "      Epoch    GPU_mem   box_loss   seg_loss   cls_loss   dfl_loss  Instances       Size\n"
     ]
    },
    {
     "name": "stderr",
     "output_type": "stream",
     "text": [
      "     88/100      2.47G     0.4838     0.3903      0.319     0.9022         25        416: 100%|██████████| 2/2 [00:01<00:00,  1.47it/s]\n",
      "                 Class     Images  Instances      Box(P          R      mAP50  mAP50-95)     Mask(P          R      mAP50  mAP50-95): 100%|██████████| 1/1 [00:00<00:00,  5.38it/s]"
     ]
    },
    {
     "name": "stdout",
     "output_type": "stream",
     "text": [
      "                   all          8          8      0.994          1      0.995      0.908      0.994          1      0.995      0.917\n"
     ]
    },
    {
     "name": "stderr",
     "output_type": "stream",
     "text": [
      "\n"
     ]
    },
    {
     "name": "stdout",
     "output_type": "stream",
     "text": [
      "\n",
      "      Epoch    GPU_mem   box_loss   seg_loss   cls_loss   dfl_loss  Instances       Size\n"
     ]
    },
    {
     "name": "stderr",
     "output_type": "stream",
     "text": [
      "     89/100      2.42G     0.4024     0.4069     0.3268     0.9144         25        416: 100%|██████████| 2/2 [00:01<00:00,  1.49it/s]\n",
      "                 Class     Images  Instances      Box(P          R      mAP50  mAP50-95)     Mask(P          R      mAP50  mAP50-95): 100%|██████████| 1/1 [00:00<00:00,  5.28it/s]"
     ]
    },
    {
     "name": "stdout",
     "output_type": "stream",
     "text": [
      "                   all          8          8      0.994          1      0.995      0.908      0.994          1      0.995      0.917\n"
     ]
    },
    {
     "name": "stderr",
     "output_type": "stream",
     "text": [
      "\n"
     ]
    },
    {
     "name": "stdout",
     "output_type": "stream",
     "text": [
      "\n",
      "      Epoch    GPU_mem   box_loss   seg_loss   cls_loss   dfl_loss  Instances       Size\n"
     ]
    },
    {
     "name": "stderr",
     "output_type": "stream",
     "text": [
      "     90/100      2.45G     0.4115     0.4054     0.2913     0.8765         24        416: 100%|██████████| 2/2 [00:01<00:00,  1.47it/s]\n",
      "                 Class     Images  Instances      Box(P          R      mAP50  mAP50-95)     Mask(P          R      mAP50  mAP50-95): 100%|██████████| 1/1 [00:00<00:00,  5.51it/s]"
     ]
    },
    {
     "name": "stdout",
     "output_type": "stream",
     "text": [
      "                   all          8          8      0.994          1      0.995      0.925      0.994          1      0.995      0.911\n"
     ]
    },
    {
     "name": "stderr",
     "output_type": "stream",
     "text": [
      "\n"
     ]
    },
    {
     "name": "stdout",
     "output_type": "stream",
     "text": [
      "Closing dataloader mosaic\n",
      "\n",
      "      Epoch    GPU_mem   box_loss   seg_loss   cls_loss   dfl_loss  Instances       Size\n"
     ]
    },
    {
     "name": "stderr",
     "output_type": "stream",
     "text": [
      "     91/100       2.4G     0.3299     0.2913     0.2642     0.8095         13        416: 100%|██████████| 2/2 [00:04<00:00,  2.04s/it]\n",
      "                 Class     Images  Instances      Box(P          R      mAP50  mAP50-95)     Mask(P          R      mAP50  mAP50-95): 100%|██████████| 1/1 [00:00<00:00,  4.60it/s]"
     ]
    },
    {
     "name": "stdout",
     "output_type": "stream",
     "text": [
      "                   all          8          8      0.994          1      0.995      0.925      0.994          1      0.995      0.911\n"
     ]
    },
    {
     "name": "stderr",
     "output_type": "stream",
     "text": [
      "\n"
     ]
    },
    {
     "name": "stdout",
     "output_type": "stream",
     "text": [
      "\n",
      "      Epoch    GPU_mem   box_loss   seg_loss   cls_loss   dfl_loss  Instances       Size\n"
     ]
    },
    {
     "name": "stderr",
     "output_type": "stream",
     "text": [
      "     92/100      2.46G     0.3928     0.3334     0.3455     0.9444         13        416: 100%|██████████| 2/2 [00:01<00:00,  1.41it/s]\n",
      "                 Class     Images  Instances      Box(P          R      mAP50  mAP50-95)     Mask(P          R      mAP50  mAP50-95): 100%|██████████| 1/1 [00:00<00:00,  5.44it/s]"
     ]
    },
    {
     "name": "stdout",
     "output_type": "stream",
     "text": [
      "                   all          8          8      0.994          1      0.995      0.924      0.994          1      0.995       0.91\n"
     ]
    },
    {
     "name": "stderr",
     "output_type": "stream",
     "text": [
      "\n"
     ]
    },
    {
     "name": "stdout",
     "output_type": "stream",
     "text": [
      "\n",
      "      Epoch    GPU_mem   box_loss   seg_loss   cls_loss   dfl_loss  Instances       Size\n"
     ]
    },
    {
     "name": "stderr",
     "output_type": "stream",
     "text": [
      "     93/100      2.43G     0.3224     0.3093     0.2532     0.8001         13        416: 100%|██████████| 2/2 [00:01<00:00,  1.50it/s]\n",
      "                 Class     Images  Instances      Box(P          R      mAP50  mAP50-95)     Mask(P          R      mAP50  mAP50-95): 100%|██████████| 1/1 [00:00<00:00,  5.01it/s]"
     ]
    },
    {
     "name": "stdout",
     "output_type": "stream",
     "text": [
      "                   all          8          8      0.994          1      0.995      0.924      0.994          1      0.995       0.91\n"
     ]
    },
    {
     "name": "stderr",
     "output_type": "stream",
     "text": [
      "\n"
     ]
    },
    {
     "name": "stdout",
     "output_type": "stream",
     "text": [
      "\n",
      "      Epoch    GPU_mem   box_loss   seg_loss   cls_loss   dfl_loss  Instances       Size\n"
     ]
    },
    {
     "name": "stderr",
     "output_type": "stream",
     "text": [
      "     94/100      2.49G     0.3291     0.3154     0.2792     0.8393         13        416: 100%|██████████| 2/2 [00:01<00:00,  1.46it/s]\n",
      "                 Class     Images  Instances      Box(P          R      mAP50  mAP50-95)     Mask(P          R      mAP50  mAP50-95): 100%|██████████| 1/1 [00:00<00:00,  5.45it/s]"
     ]
    },
    {
     "name": "stdout",
     "output_type": "stream",
     "text": [
      "                   all          8          8      0.994          1      0.995      0.922      0.994          1      0.995      0.907\n"
     ]
    },
    {
     "name": "stderr",
     "output_type": "stream",
     "text": [
      "\n"
     ]
    },
    {
     "name": "stdout",
     "output_type": "stream",
     "text": [
      "\n",
      "      Epoch    GPU_mem   box_loss   seg_loss   cls_loss   dfl_loss  Instances       Size\n"
     ]
    },
    {
     "name": "stderr",
     "output_type": "stream",
     "text": [
      "     95/100      2.42G     0.2859     0.2807     0.2514     0.8214         13        416: 100%|██████████| 2/2 [00:01<00:00,  1.50it/s]\n",
      "                 Class     Images  Instances      Box(P          R      mAP50  mAP50-95)     Mask(P          R      mAP50  mAP50-95): 100%|██████████| 1/1 [00:00<00:00,  5.17it/s]"
     ]
    },
    {
     "name": "stdout",
     "output_type": "stream",
     "text": [
      "                   all          8          8      0.994          1      0.995      0.922      0.994          1      0.995      0.907\n"
     ]
    },
    {
     "name": "stderr",
     "output_type": "stream",
     "text": [
      "\n"
     ]
    },
    {
     "name": "stdout",
     "output_type": "stream",
     "text": [
      "\n",
      "      Epoch    GPU_mem   box_loss   seg_loss   cls_loss   dfl_loss  Instances       Size\n"
     ]
    },
    {
     "name": "stderr",
     "output_type": "stream",
     "text": [
      "     96/100      2.46G     0.2999       0.31     0.2343     0.8055         13        416: 100%|██████████| 2/2 [00:01<00:00,  1.47it/s]\n",
      "                 Class     Images  Instances      Box(P          R      mAP50  mAP50-95)     Mask(P          R      mAP50  mAP50-95): 100%|██████████| 1/1 [00:00<00:00,  5.44it/s]"
     ]
    },
    {
     "name": "stdout",
     "output_type": "stream",
     "text": [
      "                   all          8          8      0.994          1      0.995       0.93      0.994          1      0.995      0.917\n"
     ]
    },
    {
     "name": "stderr",
     "output_type": "stream",
     "text": [
      "\n"
     ]
    },
    {
     "name": "stdout",
     "output_type": "stream",
     "text": [
      "\n",
      "      Epoch    GPU_mem   box_loss   seg_loss   cls_loss   dfl_loss  Instances       Size\n"
     ]
    },
    {
     "name": "stderr",
     "output_type": "stream",
     "text": [
      "     97/100      2.43G     0.2747     0.2801     0.2501     0.8313         13        416: 100%|██████████| 2/2 [00:01<00:00,  1.51it/s]\n",
      "                 Class     Images  Instances      Box(P          R      mAP50  mAP50-95)     Mask(P          R      mAP50  mAP50-95): 100%|██████████| 1/1 [00:00<00:00,  5.33it/s]"
     ]
    },
    {
     "name": "stdout",
     "output_type": "stream",
     "text": [
      "                   all          8          8      0.994          1      0.995       0.93      0.994          1      0.995      0.917\n"
     ]
    },
    {
     "name": "stderr",
     "output_type": "stream",
     "text": [
      "\n"
     ]
    },
    {
     "name": "stdout",
     "output_type": "stream",
     "text": [
      "\n",
      "      Epoch    GPU_mem   box_loss   seg_loss   cls_loss   dfl_loss  Instances       Size\n"
     ]
    },
    {
     "name": "stderr",
     "output_type": "stream",
     "text": [
      "     98/100      2.46G     0.2702     0.3008     0.2526     0.8167         13        416: 100%|██████████| 2/2 [00:01<00:00,  1.48it/s]\n",
      "                 Class     Images  Instances      Box(P          R      mAP50  mAP50-95)     Mask(P          R      mAP50  mAP50-95): 100%|██████████| 1/1 [00:00<00:00,  5.45it/s]"
     ]
    },
    {
     "name": "stdout",
     "output_type": "stream",
     "text": [
      "                   all          8          8      0.994          1      0.995      0.929      0.994          1      0.995      0.929\n"
     ]
    },
    {
     "name": "stderr",
     "output_type": "stream",
     "text": [
      "\n"
     ]
    },
    {
     "name": "stdout",
     "output_type": "stream",
     "text": [
      "\n",
      "      Epoch    GPU_mem   box_loss   seg_loss   cls_loss   dfl_loss  Instances       Size\n"
     ]
    },
    {
     "name": "stderr",
     "output_type": "stream",
     "text": [
      "     99/100      2.41G     0.2676     0.3222     0.2367     0.8194         13        416: 100%|██████████| 2/2 [00:01<00:00,  1.50it/s]\n",
      "                 Class     Images  Instances      Box(P          R      mAP50  mAP50-95)     Mask(P          R      mAP50  mAP50-95): 100%|██████████| 1/1 [00:00<00:00,  5.47it/s]\n"
     ]
    },
    {
     "name": "stdout",
     "output_type": "stream",
     "text": [
      "                   all          8          8      0.994          1      0.995      0.929      0.994          1      0.995      0.929\n",
      "\n",
      "      Epoch    GPU_mem   box_loss   seg_loss   cls_loss   dfl_loss  Instances       Size\n"
     ]
    },
    {
     "name": "stderr",
     "output_type": "stream",
     "text": [
      "    100/100      2.45G     0.2937      0.308      0.239      0.798         13        416: 100%|██████████| 2/2 [00:01<00:00,  1.45it/s]\n",
      "                 Class     Images  Instances      Box(P          R      mAP50  mAP50-95)     Mask(P          R      mAP50  mAP50-95): 100%|██████████| 1/1 [00:00<00:00,  5.49it/s]"
     ]
    },
    {
     "name": "stdout",
     "output_type": "stream",
     "text": [
      "                   all          8          8      0.994          1      0.995      0.929      0.994          1      0.995      0.929\n"
     ]
    },
    {
     "name": "stderr",
     "output_type": "stream",
     "text": [
      "\n"
     ]
    },
    {
     "name": "stdout",
     "output_type": "stream",
     "text": [
      "\n",
      "100 epochs completed in 0.067 hours.\n",
      "Optimizer stripped from runs\\pupil-seg-s\\weights\\last.pt, 23.8MB\n",
      "Optimizer stripped from runs\\pupil-seg-s\\weights\\best.pt, 23.8MB\n",
      "\n",
      "Validating runs\\pupil-seg-s\\weights\\best.pt...\n",
      "Ultralytics 8.3.177  Python-3.11.9 torch-2.7.1+cu118 CUDA:0 (NVIDIA GeForce GTX 1050 Ti, 4096MiB)\n",
      "YOLOv8s-seg summary (fused): 85 layers, 11,779,987 parameters, 0 gradients, 42.4 GFLOPs\n"
     ]
    },
    {
     "name": "stderr",
     "output_type": "stream",
     "text": [
      "                 Class     Images  Instances      Box(P          R      mAP50  mAP50-95)     Mask(P          R      mAP50  mAP50-95): 100%|██████████| 1/1 [00:00<00:00,  5.53it/s]\n"
     ]
    },
    {
     "name": "stdout",
     "output_type": "stream",
     "text": [
      "                   all          8          8      0.994          1      0.995      0.933      0.994          1      0.995      0.945\n",
      "Speed: 0.3ms preprocess, 14.4ms inference, 0.0ms loss, 2.2ms postprocess per image\n",
      "Results saved to \u001b[1mruns\\pupil-seg-s\u001b[0m\n"
     ]
    },
    {
     "data": {
      "text/plain": [
       "ultralytics.utils.metrics.SegmentMetrics object with attributes:\n",
       "\n",
       "ap_class_index: array([0])\n",
       "box: ultralytics.utils.metrics.Metric object\n",
       "confusion_matrix: <ultralytics.utils.metrics.ConfusionMatrix object at 0x000001A40D7A8490>\n",
       "curves: ['Precision-Recall(B)', 'F1-Confidence(B)', 'Precision-Confidence(B)', 'Recall-Confidence(B)', 'Precision-Recall(M)', 'F1-Confidence(M)', 'Precision-Confidence(M)', 'Recall-Confidence(M)']\n",
       "curves_results: [[array([          0,    0.001001,    0.002002,    0.003003,    0.004004,    0.005005,    0.006006,    0.007007,    0.008008,    0.009009,     0.01001,    0.011011,    0.012012,    0.013013,    0.014014,    0.015015,    0.016016,    0.017017,    0.018018,    0.019019,     0.02002,    0.021021,    0.022022,    0.023023,\n",
       "          0.024024,    0.025025,    0.026026,    0.027027,    0.028028,    0.029029,     0.03003,    0.031031,    0.032032,    0.033033,    0.034034,    0.035035,    0.036036,    0.037037,    0.038038,    0.039039,     0.04004,    0.041041,    0.042042,    0.043043,    0.044044,    0.045045,    0.046046,    0.047047,\n",
       "          0.048048,    0.049049,     0.05005,    0.051051,    0.052052,    0.053053,    0.054054,    0.055055,    0.056056,    0.057057,    0.058058,    0.059059,     0.06006,    0.061061,    0.062062,    0.063063,    0.064064,    0.065065,    0.066066,    0.067067,    0.068068,    0.069069,     0.07007,    0.071071,\n",
       "          0.072072,    0.073073,    0.074074,    0.075075,    0.076076,    0.077077,    0.078078,    0.079079,     0.08008,    0.081081,    0.082082,    0.083083,    0.084084,    0.085085,    0.086086,    0.087087,    0.088088,    0.089089,     0.09009,    0.091091,    0.092092,    0.093093,    0.094094,    0.095095,\n",
       "          0.096096,    0.097097,    0.098098,    0.099099,      0.1001,      0.1011,      0.1021,      0.1031,      0.1041,     0.10511,     0.10611,     0.10711,     0.10811,     0.10911,     0.11011,     0.11111,     0.11211,     0.11311,     0.11411,     0.11512,     0.11612,     0.11712,     0.11812,     0.11912,\n",
       "           0.12012,     0.12112,     0.12212,     0.12312,     0.12412,     0.12513,     0.12613,     0.12713,     0.12813,     0.12913,     0.13013,     0.13113,     0.13213,     0.13313,     0.13413,     0.13514,     0.13614,     0.13714,     0.13814,     0.13914,     0.14014,     0.14114,     0.14214,     0.14314,\n",
       "           0.14414,     0.14515,     0.14615,     0.14715,     0.14815,     0.14915,     0.15015,     0.15115,     0.15215,     0.15315,     0.15415,     0.15516,     0.15616,     0.15716,     0.15816,     0.15916,     0.16016,     0.16116,     0.16216,     0.16316,     0.16416,     0.16517,     0.16617,     0.16717,\n",
       "           0.16817,     0.16917,     0.17017,     0.17117,     0.17217,     0.17317,     0.17417,     0.17518,     0.17618,     0.17718,     0.17818,     0.17918,     0.18018,     0.18118,     0.18218,     0.18318,     0.18418,     0.18519,     0.18619,     0.18719,     0.18819,     0.18919,     0.19019,     0.19119,\n",
       "           0.19219,     0.19319,     0.19419,      0.1952,      0.1962,      0.1972,      0.1982,      0.1992,      0.2002,      0.2012,      0.2022,      0.2032,      0.2042,     0.20521,     0.20621,     0.20721,     0.20821,     0.20921,     0.21021,     0.21121,     0.21221,     0.21321,     0.21421,     0.21522,\n",
       "           0.21622,     0.21722,     0.21822,     0.21922,     0.22022,     0.22122,     0.22222,     0.22322,     0.22422,     0.22523,     0.22623,     0.22723,     0.22823,     0.22923,     0.23023,     0.23123,     0.23223,     0.23323,     0.23423,     0.23524,     0.23624,     0.23724,     0.23824,     0.23924,\n",
       "           0.24024,     0.24124,     0.24224,     0.24324,     0.24424,     0.24525,     0.24625,     0.24725,     0.24825,     0.24925,     0.25025,     0.25125,     0.25225,     0.25325,     0.25425,     0.25526,     0.25626,     0.25726,     0.25826,     0.25926,     0.26026,     0.26126,     0.26226,     0.26326,\n",
       "           0.26426,     0.26527,     0.26627,     0.26727,     0.26827,     0.26927,     0.27027,     0.27127,     0.27227,     0.27327,     0.27427,     0.27528,     0.27628,     0.27728,     0.27828,     0.27928,     0.28028,     0.28128,     0.28228,     0.28328,     0.28428,     0.28529,     0.28629,     0.28729,\n",
       "           0.28829,     0.28929,     0.29029,     0.29129,     0.29229,     0.29329,     0.29429,      0.2953,      0.2963,      0.2973,      0.2983,      0.2993,      0.3003,      0.3013,      0.3023,      0.3033,      0.3043,     0.30531,     0.30631,     0.30731,     0.30831,     0.30931,     0.31031,     0.31131,\n",
       "           0.31231,     0.31331,     0.31431,     0.31532,     0.31632,     0.31732,     0.31832,     0.31932,     0.32032,     0.32132,     0.32232,     0.32332,     0.32432,     0.32533,     0.32633,     0.32733,     0.32833,     0.32933,     0.33033,     0.33133,     0.33233,     0.33333,     0.33433,     0.33534,\n",
       "           0.33634,     0.33734,     0.33834,     0.33934,     0.34034,     0.34134,     0.34234,     0.34334,     0.34434,     0.34535,     0.34635,     0.34735,     0.34835,     0.34935,     0.35035,     0.35135,     0.35235,     0.35335,     0.35435,     0.35536,     0.35636,     0.35736,     0.35836,     0.35936,\n",
       "           0.36036,     0.36136,     0.36236,     0.36336,     0.36436,     0.36537,     0.36637,     0.36737,     0.36837,     0.36937,     0.37037,     0.37137,     0.37237,     0.37337,     0.37437,     0.37538,     0.37638,     0.37738,     0.37838,     0.37938,     0.38038,     0.38138,     0.38238,     0.38338,\n",
       "           0.38438,     0.38539,     0.38639,     0.38739,     0.38839,     0.38939,     0.39039,     0.39139,     0.39239,     0.39339,     0.39439,      0.3954,      0.3964,      0.3974,      0.3984,      0.3994,      0.4004,      0.4014,      0.4024,      0.4034,      0.4044,     0.40541,     0.40641,     0.40741,\n",
       "           0.40841,     0.40941,     0.41041,     0.41141,     0.41241,     0.41341,     0.41441,     0.41542,     0.41642,     0.41742,     0.41842,     0.41942,     0.42042,     0.42142,     0.42242,     0.42342,     0.42442,     0.42543,     0.42643,     0.42743,     0.42843,     0.42943,     0.43043,     0.43143,\n",
       "           0.43243,     0.43343,     0.43443,     0.43544,     0.43644,     0.43744,     0.43844,     0.43944,     0.44044,     0.44144,     0.44244,     0.44344,     0.44444,     0.44545,     0.44645,     0.44745,     0.44845,     0.44945,     0.45045,     0.45145,     0.45245,     0.45345,     0.45445,     0.45546,\n",
       "           0.45646,     0.45746,     0.45846,     0.45946,     0.46046,     0.46146,     0.46246,     0.46346,     0.46446,     0.46547,     0.46647,     0.46747,     0.46847,     0.46947,     0.47047,     0.47147,     0.47247,     0.47347,     0.47447,     0.47548,     0.47648,     0.47748,     0.47848,     0.47948,\n",
       "           0.48048,     0.48148,     0.48248,     0.48348,     0.48448,     0.48549,     0.48649,     0.48749,     0.48849,     0.48949,     0.49049,     0.49149,     0.49249,     0.49349,     0.49449,      0.4955,      0.4965,      0.4975,      0.4985,      0.4995,      0.5005,      0.5015,      0.5025,      0.5035,\n",
       "            0.5045,     0.50551,     0.50651,     0.50751,     0.50851,     0.50951,     0.51051,     0.51151,     0.51251,     0.51351,     0.51451,     0.51552,     0.51652,     0.51752,     0.51852,     0.51952,     0.52052,     0.52152,     0.52252,     0.52352,     0.52452,     0.52553,     0.52653,     0.52753,\n",
       "           0.52853,     0.52953,     0.53053,     0.53153,     0.53253,     0.53353,     0.53453,     0.53554,     0.53654,     0.53754,     0.53854,     0.53954,     0.54054,     0.54154,     0.54254,     0.54354,     0.54454,     0.54555,     0.54655,     0.54755,     0.54855,     0.54955,     0.55055,     0.55155,\n",
       "           0.55255,     0.55355,     0.55455,     0.55556,     0.55656,     0.55756,     0.55856,     0.55956,     0.56056,     0.56156,     0.56256,     0.56356,     0.56456,     0.56557,     0.56657,     0.56757,     0.56857,     0.56957,     0.57057,     0.57157,     0.57257,     0.57357,     0.57457,     0.57558,\n",
       "           0.57658,     0.57758,     0.57858,     0.57958,     0.58058,     0.58158,     0.58258,     0.58358,     0.58458,     0.58559,     0.58659,     0.58759,     0.58859,     0.58959,     0.59059,     0.59159,     0.59259,     0.59359,     0.59459,      0.5956,      0.5966,      0.5976,      0.5986,      0.5996,\n",
       "            0.6006,      0.6016,      0.6026,      0.6036,      0.6046,     0.60561,     0.60661,     0.60761,     0.60861,     0.60961,     0.61061,     0.61161,     0.61261,     0.61361,     0.61461,     0.61562,     0.61662,     0.61762,     0.61862,     0.61962,     0.62062,     0.62162,     0.62262,     0.62362,\n",
       "           0.62462,     0.62563,     0.62663,     0.62763,     0.62863,     0.62963,     0.63063,     0.63163,     0.63263,     0.63363,     0.63463,     0.63564,     0.63664,     0.63764,     0.63864,     0.63964,     0.64064,     0.64164,     0.64264,     0.64364,     0.64464,     0.64565,     0.64665,     0.64765,\n",
       "           0.64865,     0.64965,     0.65065,     0.65165,     0.65265,     0.65365,     0.65465,     0.65566,     0.65666,     0.65766,     0.65866,     0.65966,     0.66066,     0.66166,     0.66266,     0.66366,     0.66466,     0.66567,     0.66667,     0.66767,     0.66867,     0.66967,     0.67067,     0.67167,\n",
       "           0.67267,     0.67367,     0.67467,     0.67568,     0.67668,     0.67768,     0.67868,     0.67968,     0.68068,     0.68168,     0.68268,     0.68368,     0.68468,     0.68569,     0.68669,     0.68769,     0.68869,     0.68969,     0.69069,     0.69169,     0.69269,     0.69369,     0.69469,      0.6957,\n",
       "            0.6967,      0.6977,      0.6987,      0.6997,      0.7007,      0.7017,      0.7027,      0.7037,      0.7047,     0.70571,     0.70671,     0.70771,     0.70871,     0.70971,     0.71071,     0.71171,     0.71271,     0.71371,     0.71471,     0.71572,     0.71672,     0.71772,     0.71872,     0.71972,\n",
       "           0.72072,     0.72172,     0.72272,     0.72372,     0.72472,     0.72573,     0.72673,     0.72773,     0.72873,     0.72973,     0.73073,     0.73173,     0.73273,     0.73373,     0.73473,     0.73574,     0.73674,     0.73774,     0.73874,     0.73974,     0.74074,     0.74174,     0.74274,     0.74374,\n",
       "           0.74474,     0.74575,     0.74675,     0.74775,     0.74875,     0.74975,     0.75075,     0.75175,     0.75275,     0.75375,     0.75475,     0.75576,     0.75676,     0.75776,     0.75876,     0.75976,     0.76076,     0.76176,     0.76276,     0.76376,     0.76476,     0.76577,     0.76677,     0.76777,\n",
       "           0.76877,     0.76977,     0.77077,     0.77177,     0.77277,     0.77377,     0.77477,     0.77578,     0.77678,     0.77778,     0.77878,     0.77978,     0.78078,     0.78178,     0.78278,     0.78378,     0.78478,     0.78579,     0.78679,     0.78779,     0.78879,     0.78979,     0.79079,     0.79179,\n",
       "           0.79279,     0.79379,     0.79479,      0.7958,      0.7968,      0.7978,      0.7988,      0.7998,      0.8008,      0.8018,      0.8028,      0.8038,      0.8048,     0.80581,     0.80681,     0.80781,     0.80881,     0.80981,     0.81081,     0.81181,     0.81281,     0.81381,     0.81481,     0.81582,\n",
       "           0.81682,     0.81782,     0.81882,     0.81982,     0.82082,     0.82182,     0.82282,     0.82382,     0.82482,     0.82583,     0.82683,     0.82783,     0.82883,     0.82983,     0.83083,     0.83183,     0.83283,     0.83383,     0.83483,     0.83584,     0.83684,     0.83784,     0.83884,     0.83984,\n",
       "           0.84084,     0.84184,     0.84284,     0.84384,     0.84484,     0.84585,     0.84685,     0.84785,     0.84885,     0.84985,     0.85085,     0.85185,     0.85285,     0.85385,     0.85485,     0.85586,     0.85686,     0.85786,     0.85886,     0.85986,     0.86086,     0.86186,     0.86286,     0.86386,\n",
       "           0.86486,     0.86587,     0.86687,     0.86787,     0.86887,     0.86987,     0.87087,     0.87187,     0.87287,     0.87387,     0.87487,     0.87588,     0.87688,     0.87788,     0.87888,     0.87988,     0.88088,     0.88188,     0.88288,     0.88388,     0.88488,     0.88589,     0.88689,     0.88789,\n",
       "           0.88889,     0.88989,     0.89089,     0.89189,     0.89289,     0.89389,     0.89489,      0.8959,      0.8969,      0.8979,      0.8989,      0.8999,      0.9009,      0.9019,      0.9029,      0.9039,      0.9049,     0.90591,     0.90691,     0.90791,     0.90891,     0.90991,     0.91091,     0.91191,\n",
       "           0.91291,     0.91391,     0.91491,     0.91592,     0.91692,     0.91792,     0.91892,     0.91992,     0.92092,     0.92192,     0.92292,     0.92392,     0.92492,     0.92593,     0.92693,     0.92793,     0.92893,     0.92993,     0.93093,     0.93193,     0.93293,     0.93393,     0.93493,     0.93594,\n",
       "           0.93694,     0.93794,     0.93894,     0.93994,     0.94094,     0.94194,     0.94294,     0.94394,     0.94494,     0.94595,     0.94695,     0.94795,     0.94895,     0.94995,     0.95095,     0.95195,     0.95295,     0.95395,     0.95495,     0.95596,     0.95696,     0.95796,     0.95896,     0.95996,\n",
       "           0.96096,     0.96196,     0.96296,     0.96396,     0.96496,     0.96597,     0.96697,     0.96797,     0.96897,     0.96997,     0.97097,     0.97197,     0.97297,     0.97397,     0.97497,     0.97598,     0.97698,     0.97798,     0.97898,     0.97998,     0.98098,     0.98198,     0.98298,     0.98398,\n",
       "           0.98498,     0.98599,     0.98699,     0.98799,     0.98899,     0.98999,     0.99099,     0.99199,     0.99299,     0.99399,     0.99499,       0.996,       0.997,       0.998,       0.999,           1]), array([[          1,           1,           1,           1,           1,           1,           1,           1,           1,           1,           1,           1,           1,           1,           1,           1,           1,           1,           1,           1,           1,           1,           1,\n",
       "                  1,           1,           1,           1,           1,           1,           1,           1,           1,           1,           1,           1,           1,           1,           1,           1,           1,           1,           1,           1,           1,           1,           1,\n",
       "                  1,           1,           1,           1,           1,           1,           1,           1,           1,           1,           1,           1,           1,           1,           1,           1,           1,           1,           1,           1,           1,           1,           1,\n",
       "                  1,           1,           1,           1,           1,           1,           1,           1,           1,           1,           1,           1,           1,           1,           1,           1,           1,           1,           1,           1,           1,           1,           1,\n",
       "                  1,           1,           1,           1,           1,           1,           1,           1,           1,           1,           1,           1,           1,           1,           1,           1,           1,           1,           1,           1,           1,           1,           1,\n",
       "                  1,           1,           1,           1,           1,           1,           1,           1,           1,           1,           1,           1,           1,           1,           1,           1,           1,           1,           1,           1,           1,           1,           1,\n",
       "                  1,           1,           1,           1,           1,           1,           1,           1,           1,           1,           1,           1,           1,           1,           1,           1,           1,           1,           1,           1,           1,           1,           1,\n",
       "                  1,           1,           1,           1,           1,           1,           1,           1,           1,           1,           1,           1,           1,           1,           1,           1,           1,           1,           1,           1,           1,           1,           1,\n",
       "                  1,           1,           1,           1,           1,           1,           1,           1,           1,           1,           1,           1,           1,           1,           1,           1,           1,           1,           1,           1,           1,           1,           1,\n",
       "                  1,           1,           1,           1,           1,           1,           1,           1,           1,           1,           1,           1,           1,           1,           1,           1,           1,           1,           1,           1,           1,           1,           1,\n",
       "                  1,           1,           1,           1,           1,           1,           1,           1,           1,           1,           1,           1,           1,           1,           1,           1,           1,           1,           1,           1,           1,           1,           1,\n",
       "                  1,           1,           1,           1,           1,           1,           1,           1,           1,           1,           1,           1,           1,           1,           1,           1,           1,           1,           1,           1,           1,           1,           1,\n",
       "                  1,           1,           1,           1,           1,           1,           1,           1,           1,           1,           1,           1,           1,           1,           1,           1,           1,           1,           1,           1,           1,           1,           1,\n",
       "                  1,           1,           1,           1,           1,           1,           1,           1,           1,           1,           1,           1,           1,           1,           1,           1,           1,           1,           1,           1,           1,           1,           1,\n",
       "                  1,           1,           1,           1,           1,           1,           1,           1,           1,           1,           1,           1,           1,           1,           1,           1,           1,           1,           1,           1,           1,           1,           1,\n",
       "                  1,           1,           1,           1,           1,           1,           1,           1,           1,           1,           1,           1,           1,           1,           1,           1,           1,           1,           1,           1,           1,           1,           1,\n",
       "                  1,           1,           1,           1,           1,           1,           1,           1,           1,           1,           1,           1,           1,           1,           1,           1,           1,           1,           1,           1,           1,           1,           1,\n",
       "                  1,           1,           1,           1,           1,           1,           1,           1,           1,           1,           1,           1,           1,           1,           1,           1,           1,           1,           1,           1,           1,           1,           1,\n",
       "                  1,           1,           1,           1,           1,           1,           1,           1,           1,           1,           1,           1,           1,           1,           1,           1,           1,           1,           1,           1,           1,           1,           1,\n",
       "                  1,           1,           1,           1,           1,           1,           1,           1,           1,           1,           1,           1,           1,           1,           1,           1,           1,           1,           1,           1,           1,           1,           1,\n",
       "                  1,           1,           1,           1,           1,           1,           1,           1,           1,           1,           1,           1,           1,           1,           1,           1,           1,           1,           1,           1,           1,           1,           1,\n",
       "                  1,           1,           1,           1,           1,           1,           1,           1,           1,           1,           1,           1,           1,           1,           1,           1,           1,           1,           1,           1,           1,           1,           1,\n",
       "                  1,           1,           1,           1,           1,           1,           1,           1,           1,           1,           1,           1,           1,           1,           1,           1,           1,           1,           1,           1,           1,           1,           1,\n",
       "                  1,           1,           1,           1,           1,           1,           1,           1,           1,           1,           1,           1,           1,           1,           1,           1,           1,           1,           1,           1,           1,           1,           1,\n",
       "                  1,           1,           1,           1,           1,           1,           1,           1,           1,           1,           1,           1,           1,           1,           1,           1,           1,           1,           1,           1,           1,           1,           1,\n",
       "                  1,           1,           1,           1,           1,           1,           1,           1,           1,           1,           1,           1,           1,           1,           1,           1,           1,           1,           1,           1,           1,           1,           1,\n",
       "                  1,           1,           1,           1,           1,           1,           1,           1,           1,           1,           1,           1,           1,           1,           1,           1,           1,           1,           1,           1,           1,           1,           1,\n",
       "                  1,           1,           1,           1,           1,           1,           1,           1,           1,           1,           1,           1,           1,           1,           1,           1,           1,           1,           1,           1,           1,           1,           1,\n",
       "                  1,           1,           1,           1,           1,           1,           1,           1,           1,           1,           1,           1,           1,           1,           1,           1,           1,           1,           1,           1,           1,           1,           1,\n",
       "                  1,           1,           1,           1,           1,           1,           1,           1,           1,           1,           1,           1,           1,           1,           1,           1,           1,           1,           1,           1,           1,           1,           1,\n",
       "                  1,           1,           1,           1,           1,           1,           1,           1,           1,           1,           1,           1,           1,           1,           1,           1,           1,           1,           1,           1,           1,           1,           1,\n",
       "                  1,           1,           1,           1,           1,           1,           1,           1,           1,           1,           1,           1,           1,           1,           1,           1,           1,           1,           1,           1,           1,           1,           1,\n",
       "                  1,           1,           1,           1,           1,           1,           1,           1,           1,           1,           1,           1,           1,           1,           1,           1,           1,           1,           1,           1,           1,           1,           1,\n",
       "                  1,           1,           1,           1,           1,           1,           1,           1,           1,           1,           1,           1,           1,           1,           1,           1,           1,           1,           1,           1,           1,           1,           1,\n",
       "                  1,           1,           1,           1,           1,           1,           1,           1,           1,           1,           1,           1,           1,           1,           1,           1,           1,           1,           1,           1,           1,           1,           1,\n",
       "                  1,           1,           1,           1,           1,           1,           1,           1,           1,           1,           1,           1,           1,           1,           1,           1,           1,           1,           1,           1,           1,           1,           1,\n",
       "                  1,           1,           1,           1,           1,           1,           1,           1,           1,           1,           1,           1,           1,           1,           1,           1,           1,           1,           1,           1,           1,           1,           1,\n",
       "                  1,           1,           1,           1,           1,           1,           1,           1,           1,           1,           1,           1,           1,           1,           1,           1,           1,           1,           1,           1,           1,           1,           1,\n",
       "                  1,           1,           1,           1,           1,           1,           1,           1,           1,           1,           1,           1,           1,           1,           1,           1,           1,           1,           1,           1,           1,           1,           1,\n",
       "                  1,           1,           1,           1,           1,           1,           1,           1,           1,           1,           1,           1,           1,           1,           1,           1,           1,           1,           1,           1,           1,           1,           1,\n",
       "                  1,           1,           1,           1,           1,           1,           1,           1,           1,           1,           1,           1,           1,           1,           1,           1,           1,           1,           1,           1,           1,           1,           1,\n",
       "                  1,           1,           1,           1,           1,           1,           1,           1,           1,           1,           1,           1,           1,           1,           1,           1,           1,           1,           1,           1,           1,           1,           1,\n",
       "                  1,           1,           1,           1,           1,           1,           1,           1,           1,           1,           1,           1,           1,           1,           1,           1,           1,           1,           1,           1,           1,           1,           1,\n",
       "                  1,           1,           1,           1,           1,           1,           1,           1,           1,           1,           0]]), 'Recall', 'Precision'], [array([          0,    0.001001,    0.002002,    0.003003,    0.004004,    0.005005,    0.006006,    0.007007,    0.008008,    0.009009,     0.01001,    0.011011,    0.012012,    0.013013,    0.014014,    0.015015,    0.016016,    0.017017,    0.018018,    0.019019,     0.02002,    0.021021,    0.022022,    0.023023,\n",
       "          0.024024,    0.025025,    0.026026,    0.027027,    0.028028,    0.029029,     0.03003,    0.031031,    0.032032,    0.033033,    0.034034,    0.035035,    0.036036,    0.037037,    0.038038,    0.039039,     0.04004,    0.041041,    0.042042,    0.043043,    0.044044,    0.045045,    0.046046,    0.047047,\n",
       "          0.048048,    0.049049,     0.05005,    0.051051,    0.052052,    0.053053,    0.054054,    0.055055,    0.056056,    0.057057,    0.058058,    0.059059,     0.06006,    0.061061,    0.062062,    0.063063,    0.064064,    0.065065,    0.066066,    0.067067,    0.068068,    0.069069,     0.07007,    0.071071,\n",
       "          0.072072,    0.073073,    0.074074,    0.075075,    0.076076,    0.077077,    0.078078,    0.079079,     0.08008,    0.081081,    0.082082,    0.083083,    0.084084,    0.085085,    0.086086,    0.087087,    0.088088,    0.089089,     0.09009,    0.091091,    0.092092,    0.093093,    0.094094,    0.095095,\n",
       "          0.096096,    0.097097,    0.098098,    0.099099,      0.1001,      0.1011,      0.1021,      0.1031,      0.1041,     0.10511,     0.10611,     0.10711,     0.10811,     0.10911,     0.11011,     0.11111,     0.11211,     0.11311,     0.11411,     0.11512,     0.11612,     0.11712,     0.11812,     0.11912,\n",
       "           0.12012,     0.12112,     0.12212,     0.12312,     0.12412,     0.12513,     0.12613,     0.12713,     0.12813,     0.12913,     0.13013,     0.13113,     0.13213,     0.13313,     0.13413,     0.13514,     0.13614,     0.13714,     0.13814,     0.13914,     0.14014,     0.14114,     0.14214,     0.14314,\n",
       "           0.14414,     0.14515,     0.14615,     0.14715,     0.14815,     0.14915,     0.15015,     0.15115,     0.15215,     0.15315,     0.15415,     0.15516,     0.15616,     0.15716,     0.15816,     0.15916,     0.16016,     0.16116,     0.16216,     0.16316,     0.16416,     0.16517,     0.16617,     0.16717,\n",
       "           0.16817,     0.16917,     0.17017,     0.17117,     0.17217,     0.17317,     0.17417,     0.17518,     0.17618,     0.17718,     0.17818,     0.17918,     0.18018,     0.18118,     0.18218,     0.18318,     0.18418,     0.18519,     0.18619,     0.18719,     0.18819,     0.18919,     0.19019,     0.19119,\n",
       "           0.19219,     0.19319,     0.19419,      0.1952,      0.1962,      0.1972,      0.1982,      0.1992,      0.2002,      0.2012,      0.2022,      0.2032,      0.2042,     0.20521,     0.20621,     0.20721,     0.20821,     0.20921,     0.21021,     0.21121,     0.21221,     0.21321,     0.21421,     0.21522,\n",
       "           0.21622,     0.21722,     0.21822,     0.21922,     0.22022,     0.22122,     0.22222,     0.22322,     0.22422,     0.22523,     0.22623,     0.22723,     0.22823,     0.22923,     0.23023,     0.23123,     0.23223,     0.23323,     0.23423,     0.23524,     0.23624,     0.23724,     0.23824,     0.23924,\n",
       "           0.24024,     0.24124,     0.24224,     0.24324,     0.24424,     0.24525,     0.24625,     0.24725,     0.24825,     0.24925,     0.25025,     0.25125,     0.25225,     0.25325,     0.25425,     0.25526,     0.25626,     0.25726,     0.25826,     0.25926,     0.26026,     0.26126,     0.26226,     0.26326,\n",
       "           0.26426,     0.26527,     0.26627,     0.26727,     0.26827,     0.26927,     0.27027,     0.27127,     0.27227,     0.27327,     0.27427,     0.27528,     0.27628,     0.27728,     0.27828,     0.27928,     0.28028,     0.28128,     0.28228,     0.28328,     0.28428,     0.28529,     0.28629,     0.28729,\n",
       "           0.28829,     0.28929,     0.29029,     0.29129,     0.29229,     0.29329,     0.29429,      0.2953,      0.2963,      0.2973,      0.2983,      0.2993,      0.3003,      0.3013,      0.3023,      0.3033,      0.3043,     0.30531,     0.30631,     0.30731,     0.30831,     0.30931,     0.31031,     0.31131,\n",
       "           0.31231,     0.31331,     0.31431,     0.31532,     0.31632,     0.31732,     0.31832,     0.31932,     0.32032,     0.32132,     0.32232,     0.32332,     0.32432,     0.32533,     0.32633,     0.32733,     0.32833,     0.32933,     0.33033,     0.33133,     0.33233,     0.33333,     0.33433,     0.33534,\n",
       "           0.33634,     0.33734,     0.33834,     0.33934,     0.34034,     0.34134,     0.34234,     0.34334,     0.34434,     0.34535,     0.34635,     0.34735,     0.34835,     0.34935,     0.35035,     0.35135,     0.35235,     0.35335,     0.35435,     0.35536,     0.35636,     0.35736,     0.35836,     0.35936,\n",
       "           0.36036,     0.36136,     0.36236,     0.36336,     0.36436,     0.36537,     0.36637,     0.36737,     0.36837,     0.36937,     0.37037,     0.37137,     0.37237,     0.37337,     0.37437,     0.37538,     0.37638,     0.37738,     0.37838,     0.37938,     0.38038,     0.38138,     0.38238,     0.38338,\n",
       "           0.38438,     0.38539,     0.38639,     0.38739,     0.38839,     0.38939,     0.39039,     0.39139,     0.39239,     0.39339,     0.39439,      0.3954,      0.3964,      0.3974,      0.3984,      0.3994,      0.4004,      0.4014,      0.4024,      0.4034,      0.4044,     0.40541,     0.40641,     0.40741,\n",
       "           0.40841,     0.40941,     0.41041,     0.41141,     0.41241,     0.41341,     0.41441,     0.41542,     0.41642,     0.41742,     0.41842,     0.41942,     0.42042,     0.42142,     0.42242,     0.42342,     0.42442,     0.42543,     0.42643,     0.42743,     0.42843,     0.42943,     0.43043,     0.43143,\n",
       "           0.43243,     0.43343,     0.43443,     0.43544,     0.43644,     0.43744,     0.43844,     0.43944,     0.44044,     0.44144,     0.44244,     0.44344,     0.44444,     0.44545,     0.44645,     0.44745,     0.44845,     0.44945,     0.45045,     0.45145,     0.45245,     0.45345,     0.45445,     0.45546,\n",
       "           0.45646,     0.45746,     0.45846,     0.45946,     0.46046,     0.46146,     0.46246,     0.46346,     0.46446,     0.46547,     0.46647,     0.46747,     0.46847,     0.46947,     0.47047,     0.47147,     0.47247,     0.47347,     0.47447,     0.47548,     0.47648,     0.47748,     0.47848,     0.47948,\n",
       "           0.48048,     0.48148,     0.48248,     0.48348,     0.48448,     0.48549,     0.48649,     0.48749,     0.48849,     0.48949,     0.49049,     0.49149,     0.49249,     0.49349,     0.49449,      0.4955,      0.4965,      0.4975,      0.4985,      0.4995,      0.5005,      0.5015,      0.5025,      0.5035,\n",
       "            0.5045,     0.50551,     0.50651,     0.50751,     0.50851,     0.50951,     0.51051,     0.51151,     0.51251,     0.51351,     0.51451,     0.51552,     0.51652,     0.51752,     0.51852,     0.51952,     0.52052,     0.52152,     0.52252,     0.52352,     0.52452,     0.52553,     0.52653,     0.52753,\n",
       "           0.52853,     0.52953,     0.53053,     0.53153,     0.53253,     0.53353,     0.53453,     0.53554,     0.53654,     0.53754,     0.53854,     0.53954,     0.54054,     0.54154,     0.54254,     0.54354,     0.54454,     0.54555,     0.54655,     0.54755,     0.54855,     0.54955,     0.55055,     0.55155,\n",
       "           0.55255,     0.55355,     0.55455,     0.55556,     0.55656,     0.55756,     0.55856,     0.55956,     0.56056,     0.56156,     0.56256,     0.56356,     0.56456,     0.56557,     0.56657,     0.56757,     0.56857,     0.56957,     0.57057,     0.57157,     0.57257,     0.57357,     0.57457,     0.57558,\n",
       "           0.57658,     0.57758,     0.57858,     0.57958,     0.58058,     0.58158,     0.58258,     0.58358,     0.58458,     0.58559,     0.58659,     0.58759,     0.58859,     0.58959,     0.59059,     0.59159,     0.59259,     0.59359,     0.59459,      0.5956,      0.5966,      0.5976,      0.5986,      0.5996,\n",
       "            0.6006,      0.6016,      0.6026,      0.6036,      0.6046,     0.60561,     0.60661,     0.60761,     0.60861,     0.60961,     0.61061,     0.61161,     0.61261,     0.61361,     0.61461,     0.61562,     0.61662,     0.61762,     0.61862,     0.61962,     0.62062,     0.62162,     0.62262,     0.62362,\n",
       "           0.62462,     0.62563,     0.62663,     0.62763,     0.62863,     0.62963,     0.63063,     0.63163,     0.63263,     0.63363,     0.63463,     0.63564,     0.63664,     0.63764,     0.63864,     0.63964,     0.64064,     0.64164,     0.64264,     0.64364,     0.64464,     0.64565,     0.64665,     0.64765,\n",
       "           0.64865,     0.64965,     0.65065,     0.65165,     0.65265,     0.65365,     0.65465,     0.65566,     0.65666,     0.65766,     0.65866,     0.65966,     0.66066,     0.66166,     0.66266,     0.66366,     0.66466,     0.66567,     0.66667,     0.66767,     0.66867,     0.66967,     0.67067,     0.67167,\n",
       "           0.67267,     0.67367,     0.67467,     0.67568,     0.67668,     0.67768,     0.67868,     0.67968,     0.68068,     0.68168,     0.68268,     0.68368,     0.68468,     0.68569,     0.68669,     0.68769,     0.68869,     0.68969,     0.69069,     0.69169,     0.69269,     0.69369,     0.69469,      0.6957,\n",
       "            0.6967,      0.6977,      0.6987,      0.6997,      0.7007,      0.7017,      0.7027,      0.7037,      0.7047,     0.70571,     0.70671,     0.70771,     0.70871,     0.70971,     0.71071,     0.71171,     0.71271,     0.71371,     0.71471,     0.71572,     0.71672,     0.71772,     0.71872,     0.71972,\n",
       "           0.72072,     0.72172,     0.72272,     0.72372,     0.72472,     0.72573,     0.72673,     0.72773,     0.72873,     0.72973,     0.73073,     0.73173,     0.73273,     0.73373,     0.73473,     0.73574,     0.73674,     0.73774,     0.73874,     0.73974,     0.74074,     0.74174,     0.74274,     0.74374,\n",
       "           0.74474,     0.74575,     0.74675,     0.74775,     0.74875,     0.74975,     0.75075,     0.75175,     0.75275,     0.75375,     0.75475,     0.75576,     0.75676,     0.75776,     0.75876,     0.75976,     0.76076,     0.76176,     0.76276,     0.76376,     0.76476,     0.76577,     0.76677,     0.76777,\n",
       "           0.76877,     0.76977,     0.77077,     0.77177,     0.77277,     0.77377,     0.77477,     0.77578,     0.77678,     0.77778,     0.77878,     0.77978,     0.78078,     0.78178,     0.78278,     0.78378,     0.78478,     0.78579,     0.78679,     0.78779,     0.78879,     0.78979,     0.79079,     0.79179,\n",
       "           0.79279,     0.79379,     0.79479,      0.7958,      0.7968,      0.7978,      0.7988,      0.7998,      0.8008,      0.8018,      0.8028,      0.8038,      0.8048,     0.80581,     0.80681,     0.80781,     0.80881,     0.80981,     0.81081,     0.81181,     0.81281,     0.81381,     0.81481,     0.81582,\n",
       "           0.81682,     0.81782,     0.81882,     0.81982,     0.82082,     0.82182,     0.82282,     0.82382,     0.82482,     0.82583,     0.82683,     0.82783,     0.82883,     0.82983,     0.83083,     0.83183,     0.83283,     0.83383,     0.83483,     0.83584,     0.83684,     0.83784,     0.83884,     0.83984,\n",
       "           0.84084,     0.84184,     0.84284,     0.84384,     0.84484,     0.84585,     0.84685,     0.84785,     0.84885,     0.84985,     0.85085,     0.85185,     0.85285,     0.85385,     0.85485,     0.85586,     0.85686,     0.85786,     0.85886,     0.85986,     0.86086,     0.86186,     0.86286,     0.86386,\n",
       "           0.86486,     0.86587,     0.86687,     0.86787,     0.86887,     0.86987,     0.87087,     0.87187,     0.87287,     0.87387,     0.87487,     0.87588,     0.87688,     0.87788,     0.87888,     0.87988,     0.88088,     0.88188,     0.88288,     0.88388,     0.88488,     0.88589,     0.88689,     0.88789,\n",
       "           0.88889,     0.88989,     0.89089,     0.89189,     0.89289,     0.89389,     0.89489,      0.8959,      0.8969,      0.8979,      0.8989,      0.8999,      0.9009,      0.9019,      0.9029,      0.9039,      0.9049,     0.90591,     0.90691,     0.90791,     0.90891,     0.90991,     0.91091,     0.91191,\n",
       "           0.91291,     0.91391,     0.91491,     0.91592,     0.91692,     0.91792,     0.91892,     0.91992,     0.92092,     0.92192,     0.92292,     0.92392,     0.92492,     0.92593,     0.92693,     0.92793,     0.92893,     0.92993,     0.93093,     0.93193,     0.93293,     0.93393,     0.93493,     0.93594,\n",
       "           0.93694,     0.93794,     0.93894,     0.93994,     0.94094,     0.94194,     0.94294,     0.94394,     0.94494,     0.94595,     0.94695,     0.94795,     0.94895,     0.94995,     0.95095,     0.95195,     0.95295,     0.95395,     0.95495,     0.95596,     0.95696,     0.95796,     0.95896,     0.95996,\n",
       "           0.96096,     0.96196,     0.96296,     0.96396,     0.96496,     0.96597,     0.96697,     0.96797,     0.96897,     0.96997,     0.97097,     0.97197,     0.97297,     0.97397,     0.97497,     0.97598,     0.97698,     0.97798,     0.97898,     0.97998,     0.98098,     0.98198,     0.98298,     0.98398,\n",
       "           0.98498,     0.98599,     0.98699,     0.98799,     0.98899,     0.98999,     0.99099,     0.99199,     0.99299,     0.99399,     0.99499,       0.996,       0.997,       0.998,       0.999,           1]), array([[    0.25397,     0.25397,     0.51788,     0.60079,     0.72623,     0.78851,      0.8964,      0.9145,     0.93201,     0.94121,     0.94128,     0.94135,     0.94143,      0.9415,     0.94157,     0.94164,     0.94171,     0.94178,     0.94186,     0.94193,       0.942,     0.94207,     0.94214,\n",
       "            0.94221,     0.94229,     0.94236,     0.94243,      0.9425,     0.94257,     0.94264,     0.94272,     0.94279,     0.94286,     0.94293,       0.943,     0.94307,     0.94314,     0.94322,     0.94329,     0.94336,     0.94343,      0.9435,     0.94357,     0.94364,     0.94372,     0.94379,\n",
       "            0.94386,     0.94393,       0.944,     0.94407,     0.94414,     0.94422,     0.94429,     0.94436,     0.94443,      0.9445,     0.94457,     0.94464,     0.94472,     0.94479,     0.94486,     0.94493,       0.945,     0.94507,     0.94514,     0.94521,     0.94529,     0.94536,     0.94543,\n",
       "             0.9455,     0.94557,     0.94564,     0.94571,     0.94578,     0.94586,     0.94593,       0.946,     0.94607,     0.94614,     0.94621,     0.94628,     0.94635,     0.94642,      0.9465,     0.94657,     0.94664,     0.94671,     0.94678,     0.94685,     0.94692,     0.94699,     0.94706,\n",
       "            0.94713,     0.94721,     0.94728,     0.94735,     0.94742,     0.94749,     0.94756,     0.94763,      0.9477,     0.94777,     0.94784,     0.94792,     0.94799,     0.94806,     0.94813,      0.9482,     0.94827,     0.94834,     0.94841,     0.94848,     0.94855,     0.94862,     0.94869,\n",
       "            0.94877,     0.94884,     0.94891,     0.94898,     0.94905,     0.94912,     0.94919,     0.94926,     0.94933,      0.9494,     0.94947,     0.94954,     0.94961,     0.94968,     0.94975,     0.94983,      0.9499,     0.94997,     0.95004,     0.95011,     0.95018,     0.95025,     0.95032,\n",
       "            0.95039,     0.95046,     0.95053,      0.9506,     0.95067,     0.95074,     0.95081,     0.95088,     0.95095,     0.95102,      0.9511,     0.95117,     0.95124,     0.95131,     0.95138,     0.95145,     0.95152,     0.95159,     0.95166,     0.95173,      0.9518,     0.95187,     0.95194,\n",
       "            0.95201,     0.95208,     0.95215,     0.95222,     0.95229,     0.95236,     0.95243,      0.9525,     0.95257,     0.95264,     0.95271,     0.95278,     0.95285,     0.95292,     0.95299,     0.95306,     0.95313,      0.9532,     0.95327,     0.95334,     0.95342,     0.95349,     0.95356,\n",
       "            0.95363,      0.9537,     0.95377,     0.95384,     0.95391,     0.95398,     0.95405,     0.95412,     0.95419,     0.95426,     0.95433,      0.9544,     0.95447,     0.95454,     0.95461,     0.95468,     0.95475,     0.95482,     0.95489,     0.95496,     0.95503,      0.9551,     0.95517,\n",
       "            0.95524,     0.95531,     0.95538,     0.95545,     0.95552,     0.95559,     0.95565,     0.95572,     0.95579,     0.95586,     0.95593,       0.956,     0.95607,     0.95614,     0.95621,     0.95628,     0.95635,     0.95642,     0.95649,     0.95656,     0.95663,      0.9567,     0.95677,\n",
       "            0.95684,     0.95691,     0.95698,     0.95705,     0.95712,     0.95719,     0.95726,     0.95733,      0.9574,     0.95747,     0.95754,     0.95761,     0.95768,     0.95775,     0.95782,     0.95789,     0.95795,     0.95802,     0.95809,     0.95816,     0.95823,      0.9583,     0.95837,\n",
       "            0.95844,     0.95851,     0.95858,     0.95865,     0.95872,     0.95879,     0.95886,     0.95893,       0.959,     0.95907,     0.95914,      0.9592,     0.95927,     0.95934,     0.95941,     0.95948,     0.95955,     0.95962,     0.95969,     0.95976,     0.95983,      0.9599,     0.95997,\n",
       "            0.96004,     0.96011,     0.96018,     0.96024,     0.96031,     0.96038,     0.96045,     0.96052,     0.96059,     0.96066,     0.96073,      0.9608,     0.96087,     0.96094,     0.96101,     0.96107,     0.96114,     0.96121,     0.96128,     0.96135,     0.96142,     0.96149,     0.96156,\n",
       "            0.96163,      0.9617,     0.96177,     0.96183,      0.9619,     0.96197,     0.96204,     0.96211,     0.96218,     0.96225,     0.96232,     0.96239,     0.96246,     0.96252,     0.96259,     0.96266,     0.96273,      0.9628,     0.96287,     0.96294,     0.96301,     0.96308,     0.96314,\n",
       "            0.96321,     0.96328,     0.96335,     0.96342,     0.96349,     0.96356,     0.96363,     0.96369,     0.96376,     0.96383,      0.9639,     0.96397,     0.96404,     0.96411,     0.96418,     0.96424,     0.96431,     0.96438,     0.96445,     0.96452,     0.96459,     0.96466,     0.96472,\n",
       "            0.96479,     0.96486,     0.96493,       0.965,     0.96507,     0.96514,     0.96521,     0.96527,     0.96534,     0.96541,     0.96548,     0.96555,     0.96562,     0.96568,     0.96575,     0.96582,     0.96589,     0.96596,     0.96603,      0.9661,     0.96616,     0.96623,      0.9663,\n",
       "            0.96637,     0.96644,     0.96651,     0.96657,     0.96664,     0.96671,     0.96678,     0.96685,     0.96692,     0.96698,     0.96705,     0.96712,     0.96719,     0.96726,     0.96733,     0.96739,     0.96746,     0.96753,      0.9676,     0.96767,     0.96774,      0.9678,     0.96787,\n",
       "            0.96794,     0.96801,     0.96808,     0.96815,     0.96821,     0.96828,     0.96835,     0.96842,     0.96849,     0.96855,     0.96862,     0.96869,     0.96876,     0.96883,     0.96889,     0.96896,     0.96903,      0.9691,     0.96917,     0.96924,      0.9693,     0.96937,     0.96944,\n",
       "            0.96951,     0.96958,     0.96964,     0.96971,     0.96978,     0.96985,     0.96992,     0.96998,     0.97005,     0.97012,     0.97019,     0.97025,     0.97032,     0.97039,     0.97046,     0.97053,     0.97059,     0.97066,     0.97073,      0.9708,     0.97087,     0.97093,       0.971,\n",
       "            0.97107,     0.97114,      0.9712,     0.97127,     0.97134,     0.97141,     0.97148,     0.97154,     0.97161,     0.97168,     0.97175,     0.97181,     0.97188,     0.97195,     0.97202,     0.97208,     0.97215,     0.97222,     0.97229,     0.97236,     0.97242,     0.97249,     0.97256,\n",
       "            0.97263,     0.97269,     0.97276,     0.97283,      0.9729,     0.97296,     0.97303,      0.9731,     0.97317,     0.97323,      0.9733,     0.97337,     0.97344,      0.9735,     0.97357,     0.97364,     0.97371,     0.97377,     0.97384,     0.97391,     0.97398,     0.97404,     0.97411,\n",
       "            0.97418,     0.97425,     0.97431,     0.97438,     0.97445,     0.97452,     0.97458,     0.97465,     0.97472,     0.97478,     0.97485,     0.97492,     0.97499,     0.97505,     0.97512,     0.97519,     0.97526,     0.97532,     0.97539,     0.97546,     0.97552,     0.97559,     0.97566,\n",
       "            0.97573,     0.97579,     0.97586,     0.97593,     0.97599,     0.97606,     0.97613,      0.9762,     0.97626,     0.97633,      0.9764,     0.97646,     0.97653,      0.9766,     0.97667,     0.97673,      0.9768,     0.97687,     0.97693,       0.977,     0.97707,     0.97713,      0.9772,\n",
       "            0.97727,     0.97734,      0.9774,     0.97747,     0.97754,      0.9776,     0.97767,     0.97774,      0.9778,     0.97787,     0.97794,       0.978,     0.97807,     0.97814,     0.97821,     0.97827,     0.97834,     0.97841,     0.97847,     0.97854,     0.97861,     0.97867,     0.97874,\n",
       "            0.97881,     0.97887,     0.97894,     0.97901,     0.97907,     0.97914,     0.97921,     0.97927,     0.97934,     0.97941,     0.97947,     0.97954,     0.97961,     0.97967,     0.97974,     0.97981,     0.97987,     0.97994,     0.98001,     0.98007,     0.98014,     0.98021,     0.98027,\n",
       "            0.98034,     0.98041,     0.98047,     0.98054,     0.98061,     0.98067,     0.98074,     0.98081,     0.98087,     0.98094,     0.98101,     0.98107,     0.98114,     0.98121,     0.98127,     0.98134,      0.9814,     0.98147,     0.98154,      0.9816,     0.98167,     0.98174,      0.9818,\n",
       "            0.98187,     0.98194,       0.982,     0.98207,     0.98214,      0.9822,     0.98227,     0.98233,      0.9824,     0.98247,     0.98253,      0.9826,     0.98267,     0.98273,      0.9828,     0.98286,     0.98293,       0.983,     0.98306,     0.98313,      0.9832,     0.98326,     0.98333,\n",
       "            0.98339,     0.98346,     0.98353,     0.98359,     0.98366,     0.98372,     0.98379,     0.98386,     0.98392,     0.98399,     0.98406,     0.98412,     0.98419,     0.98425,     0.98432,     0.98439,     0.98445,     0.98452,     0.98458,     0.98465,     0.98472,     0.98478,     0.98485,\n",
       "            0.98491,     0.98498,     0.98505,     0.98511,     0.98518,     0.98524,     0.98531,     0.98538,     0.98544,     0.98551,     0.98557,     0.98564,     0.98571,     0.98577,     0.98584,      0.9859,     0.98597,     0.98603,      0.9861,     0.98617,     0.98623,      0.9863,     0.98636,\n",
       "            0.98643,      0.9865,     0.98656,     0.98663,     0.98669,     0.98676,     0.98682,     0.98689,     0.98696,     0.98702,     0.98709,     0.98715,     0.98722,     0.98728,     0.98735,     0.98742,     0.98748,     0.98755,     0.98761,     0.98768,     0.98774,     0.98781,     0.98787,\n",
       "            0.98794,     0.98801,     0.98807,     0.98814,      0.9882,     0.98827,     0.98833,      0.9884,     0.98846,     0.98853,      0.9886,     0.98866,     0.98873,     0.98879,     0.98886,     0.98892,     0.98899,     0.98905,     0.98912,     0.98919,     0.98925,     0.98932,     0.98938,\n",
       "            0.98945,     0.98951,     0.98958,     0.98964,     0.98971,     0.98977,     0.98984,      0.9899,     0.98997,     0.99003,      0.9901,     0.99017,     0.99023,      0.9903,     0.99036,     0.99043,     0.99049,     0.99056,     0.99062,     0.99069,     0.99075,     0.99082,     0.99088,\n",
       "            0.99095,     0.99101,     0.99108,     0.99114,     0.99121,     0.99127,     0.99134,      0.9914,     0.99147,     0.99154,      0.9916,     0.99167,     0.99173,      0.9918,     0.99186,     0.99193,     0.99199,     0.99206,     0.99212,     0.99219,     0.99225,     0.99232,     0.99238,\n",
       "            0.99245,     0.99251,     0.99258,     0.99264,     0.99271,     0.99277,     0.99284,      0.9929,     0.99297,     0.99303,      0.9931,     0.99316,     0.99323,     0.99329,     0.99336,     0.99342,     0.99349,     0.99355,     0.99361,     0.99368,     0.99374,     0.99381,     0.99387,\n",
       "            0.99394,       0.994,     0.99407,     0.99413,      0.9942,     0.99426,     0.99433,     0.99439,     0.99446,     0.99452,     0.99459,     0.99465,     0.99472,     0.99478,     0.99485,     0.99491,     0.99498,     0.99504,      0.9951,     0.99517,     0.99523,      0.9953,     0.99536,\n",
       "            0.99543,     0.99549,     0.99556,     0.99562,     0.99569,     0.99575,     0.99582,     0.99588,     0.99594,     0.99601,     0.99607,     0.99614,      0.9962,     0.99627,     0.99633,      0.9964,     0.99646,     0.99653,     0.99659,     0.99665,     0.99672,     0.99678,     0.99685,\n",
       "            0.99691,     0.99698,     0.99704,     0.99711,     0.99717,     0.99723,      0.9973,     0.99736,     0.99743,     0.99749,     0.99756,     0.99762,     0.99768,     0.99775,     0.99781,     0.99788,     0.99794,     0.99801,     0.99807,     0.99813,      0.9982,     0.99826,     0.99833,\n",
       "            0.99839,     0.99846,     0.99852,     0.99858,     0.99865,     0.99871,     0.99878,     0.99884,     0.99891,     0.99897,     0.99903,      0.9991,     0.99916,     0.99923,     0.99929,     0.99935,     0.99942,     0.99948,     0.99955,     0.99961,     0.99967,     0.99974,      0.9998,\n",
       "            0.99987,     0.99993,           1,     0.99724,     0.99423,     0.99121,     0.98817,     0.98511,     0.98203,     0.97893,     0.97582,     0.97268,     0.96953,     0.96635,     0.96316,     0.95995,     0.95671,     0.95346,     0.95019,     0.94689,     0.94358,     0.94024,     0.93689,\n",
       "            0.93351,     0.92336,     0.91265,     0.90172,     0.89057,     0.87919,     0.86757,     0.85428,     0.82973,     0.80412,     0.77735,     0.76519,     0.75942,     0.75359,     0.74771,     0.74177,     0.73578,     0.72973,     0.72362,     0.71745,     0.71122,     0.70493,     0.69858,\n",
       "            0.69216,     0.68569,     0.67914,     0.67254,     0.63873,     0.54081,      0.5334,     0.52591,     0.51835,      0.5107,     0.50298,     0.49518,      0.4873,     0.47933,     0.47128,     0.46315,     0.45493,     0.44661,     0.43821,     0.42972,     0.42114,     0.41246,     0.40368,\n",
       "            0.36742,     0.30845,     0.24506,           0,           0,           0,           0,           0,           0,           0,           0,           0,           0,           0,           0,           0,           0,           0,           0,           0,           0,           0,           0,\n",
       "                  0,           0,           0,           0,           0,           0,           0,           0,           0,           0,           0,           0,           0,           0,           0,           0,           0,           0,           0,           0,           0,           0,           0,\n",
       "                  0,           0,           0,           0,           0,           0,           0,           0,           0,           0,           0]]), 'Confidence', 'F1'], [array([          0,    0.001001,    0.002002,    0.003003,    0.004004,    0.005005,    0.006006,    0.007007,    0.008008,    0.009009,     0.01001,    0.011011,    0.012012,    0.013013,    0.014014,    0.015015,    0.016016,    0.017017,    0.018018,    0.019019,     0.02002,    0.021021,    0.022022,    0.023023,\n",
       "          0.024024,    0.025025,    0.026026,    0.027027,    0.028028,    0.029029,     0.03003,    0.031031,    0.032032,    0.033033,    0.034034,    0.035035,    0.036036,    0.037037,    0.038038,    0.039039,     0.04004,    0.041041,    0.042042,    0.043043,    0.044044,    0.045045,    0.046046,    0.047047,\n",
       "          0.048048,    0.049049,     0.05005,    0.051051,    0.052052,    0.053053,    0.054054,    0.055055,    0.056056,    0.057057,    0.058058,    0.059059,     0.06006,    0.061061,    0.062062,    0.063063,    0.064064,    0.065065,    0.066066,    0.067067,    0.068068,    0.069069,     0.07007,    0.071071,\n",
       "          0.072072,    0.073073,    0.074074,    0.075075,    0.076076,    0.077077,    0.078078,    0.079079,     0.08008,    0.081081,    0.082082,    0.083083,    0.084084,    0.085085,    0.086086,    0.087087,    0.088088,    0.089089,     0.09009,    0.091091,    0.092092,    0.093093,    0.094094,    0.095095,\n",
       "          0.096096,    0.097097,    0.098098,    0.099099,      0.1001,      0.1011,      0.1021,      0.1031,      0.1041,     0.10511,     0.10611,     0.10711,     0.10811,     0.10911,     0.11011,     0.11111,     0.11211,     0.11311,     0.11411,     0.11512,     0.11612,     0.11712,     0.11812,     0.11912,\n",
       "           0.12012,     0.12112,     0.12212,     0.12312,     0.12412,     0.12513,     0.12613,     0.12713,     0.12813,     0.12913,     0.13013,     0.13113,     0.13213,     0.13313,     0.13413,     0.13514,     0.13614,     0.13714,     0.13814,     0.13914,     0.14014,     0.14114,     0.14214,     0.14314,\n",
       "           0.14414,     0.14515,     0.14615,     0.14715,     0.14815,     0.14915,     0.15015,     0.15115,     0.15215,     0.15315,     0.15415,     0.15516,     0.15616,     0.15716,     0.15816,     0.15916,     0.16016,     0.16116,     0.16216,     0.16316,     0.16416,     0.16517,     0.16617,     0.16717,\n",
       "           0.16817,     0.16917,     0.17017,     0.17117,     0.17217,     0.17317,     0.17417,     0.17518,     0.17618,     0.17718,     0.17818,     0.17918,     0.18018,     0.18118,     0.18218,     0.18318,     0.18418,     0.18519,     0.18619,     0.18719,     0.18819,     0.18919,     0.19019,     0.19119,\n",
       "           0.19219,     0.19319,     0.19419,      0.1952,      0.1962,      0.1972,      0.1982,      0.1992,      0.2002,      0.2012,      0.2022,      0.2032,      0.2042,     0.20521,     0.20621,     0.20721,     0.20821,     0.20921,     0.21021,     0.21121,     0.21221,     0.21321,     0.21421,     0.21522,\n",
       "           0.21622,     0.21722,     0.21822,     0.21922,     0.22022,     0.22122,     0.22222,     0.22322,     0.22422,     0.22523,     0.22623,     0.22723,     0.22823,     0.22923,     0.23023,     0.23123,     0.23223,     0.23323,     0.23423,     0.23524,     0.23624,     0.23724,     0.23824,     0.23924,\n",
       "           0.24024,     0.24124,     0.24224,     0.24324,     0.24424,     0.24525,     0.24625,     0.24725,     0.24825,     0.24925,     0.25025,     0.25125,     0.25225,     0.25325,     0.25425,     0.25526,     0.25626,     0.25726,     0.25826,     0.25926,     0.26026,     0.26126,     0.26226,     0.26326,\n",
       "           0.26426,     0.26527,     0.26627,     0.26727,     0.26827,     0.26927,     0.27027,     0.27127,     0.27227,     0.27327,     0.27427,     0.27528,     0.27628,     0.27728,     0.27828,     0.27928,     0.28028,     0.28128,     0.28228,     0.28328,     0.28428,     0.28529,     0.28629,     0.28729,\n",
       "           0.28829,     0.28929,     0.29029,     0.29129,     0.29229,     0.29329,     0.29429,      0.2953,      0.2963,      0.2973,      0.2983,      0.2993,      0.3003,      0.3013,      0.3023,      0.3033,      0.3043,     0.30531,     0.30631,     0.30731,     0.30831,     0.30931,     0.31031,     0.31131,\n",
       "           0.31231,     0.31331,     0.31431,     0.31532,     0.31632,     0.31732,     0.31832,     0.31932,     0.32032,     0.32132,     0.32232,     0.32332,     0.32432,     0.32533,     0.32633,     0.32733,     0.32833,     0.32933,     0.33033,     0.33133,     0.33233,     0.33333,     0.33433,     0.33534,\n",
       "           0.33634,     0.33734,     0.33834,     0.33934,     0.34034,     0.34134,     0.34234,     0.34334,     0.34434,     0.34535,     0.34635,     0.34735,     0.34835,     0.34935,     0.35035,     0.35135,     0.35235,     0.35335,     0.35435,     0.35536,     0.35636,     0.35736,     0.35836,     0.35936,\n",
       "           0.36036,     0.36136,     0.36236,     0.36336,     0.36436,     0.36537,     0.36637,     0.36737,     0.36837,     0.36937,     0.37037,     0.37137,     0.37237,     0.37337,     0.37437,     0.37538,     0.37638,     0.37738,     0.37838,     0.37938,     0.38038,     0.38138,     0.38238,     0.38338,\n",
       "           0.38438,     0.38539,     0.38639,     0.38739,     0.38839,     0.38939,     0.39039,     0.39139,     0.39239,     0.39339,     0.39439,      0.3954,      0.3964,      0.3974,      0.3984,      0.3994,      0.4004,      0.4014,      0.4024,      0.4034,      0.4044,     0.40541,     0.40641,     0.40741,\n",
       "           0.40841,     0.40941,     0.41041,     0.41141,     0.41241,     0.41341,     0.41441,     0.41542,     0.41642,     0.41742,     0.41842,     0.41942,     0.42042,     0.42142,     0.42242,     0.42342,     0.42442,     0.42543,     0.42643,     0.42743,     0.42843,     0.42943,     0.43043,     0.43143,\n",
       "           0.43243,     0.43343,     0.43443,     0.43544,     0.43644,     0.43744,     0.43844,     0.43944,     0.44044,     0.44144,     0.44244,     0.44344,     0.44444,     0.44545,     0.44645,     0.44745,     0.44845,     0.44945,     0.45045,     0.45145,     0.45245,     0.45345,     0.45445,     0.45546,\n",
       "           0.45646,     0.45746,     0.45846,     0.45946,     0.46046,     0.46146,     0.46246,     0.46346,     0.46446,     0.46547,     0.46647,     0.46747,     0.46847,     0.46947,     0.47047,     0.47147,     0.47247,     0.47347,     0.47447,     0.47548,     0.47648,     0.47748,     0.47848,     0.47948,\n",
       "           0.48048,     0.48148,     0.48248,     0.48348,     0.48448,     0.48549,     0.48649,     0.48749,     0.48849,     0.48949,     0.49049,     0.49149,     0.49249,     0.49349,     0.49449,      0.4955,      0.4965,      0.4975,      0.4985,      0.4995,      0.5005,      0.5015,      0.5025,      0.5035,\n",
       "            0.5045,     0.50551,     0.50651,     0.50751,     0.50851,     0.50951,     0.51051,     0.51151,     0.51251,     0.51351,     0.51451,     0.51552,     0.51652,     0.51752,     0.51852,     0.51952,     0.52052,     0.52152,     0.52252,     0.52352,     0.52452,     0.52553,     0.52653,     0.52753,\n",
       "           0.52853,     0.52953,     0.53053,     0.53153,     0.53253,     0.53353,     0.53453,     0.53554,     0.53654,     0.53754,     0.53854,     0.53954,     0.54054,     0.54154,     0.54254,     0.54354,     0.54454,     0.54555,     0.54655,     0.54755,     0.54855,     0.54955,     0.55055,     0.55155,\n",
       "           0.55255,     0.55355,     0.55455,     0.55556,     0.55656,     0.55756,     0.55856,     0.55956,     0.56056,     0.56156,     0.56256,     0.56356,     0.56456,     0.56557,     0.56657,     0.56757,     0.56857,     0.56957,     0.57057,     0.57157,     0.57257,     0.57357,     0.57457,     0.57558,\n",
       "           0.57658,     0.57758,     0.57858,     0.57958,     0.58058,     0.58158,     0.58258,     0.58358,     0.58458,     0.58559,     0.58659,     0.58759,     0.58859,     0.58959,     0.59059,     0.59159,     0.59259,     0.59359,     0.59459,      0.5956,      0.5966,      0.5976,      0.5986,      0.5996,\n",
       "            0.6006,      0.6016,      0.6026,      0.6036,      0.6046,     0.60561,     0.60661,     0.60761,     0.60861,     0.60961,     0.61061,     0.61161,     0.61261,     0.61361,     0.61461,     0.61562,     0.61662,     0.61762,     0.61862,     0.61962,     0.62062,     0.62162,     0.62262,     0.62362,\n",
       "           0.62462,     0.62563,     0.62663,     0.62763,     0.62863,     0.62963,     0.63063,     0.63163,     0.63263,     0.63363,     0.63463,     0.63564,     0.63664,     0.63764,     0.63864,     0.63964,     0.64064,     0.64164,     0.64264,     0.64364,     0.64464,     0.64565,     0.64665,     0.64765,\n",
       "           0.64865,     0.64965,     0.65065,     0.65165,     0.65265,     0.65365,     0.65465,     0.65566,     0.65666,     0.65766,     0.65866,     0.65966,     0.66066,     0.66166,     0.66266,     0.66366,     0.66466,     0.66567,     0.66667,     0.66767,     0.66867,     0.66967,     0.67067,     0.67167,\n",
       "           0.67267,     0.67367,     0.67467,     0.67568,     0.67668,     0.67768,     0.67868,     0.67968,     0.68068,     0.68168,     0.68268,     0.68368,     0.68468,     0.68569,     0.68669,     0.68769,     0.68869,     0.68969,     0.69069,     0.69169,     0.69269,     0.69369,     0.69469,      0.6957,\n",
       "            0.6967,      0.6977,      0.6987,      0.6997,      0.7007,      0.7017,      0.7027,      0.7037,      0.7047,     0.70571,     0.70671,     0.70771,     0.70871,     0.70971,     0.71071,     0.71171,     0.71271,     0.71371,     0.71471,     0.71572,     0.71672,     0.71772,     0.71872,     0.71972,\n",
       "           0.72072,     0.72172,     0.72272,     0.72372,     0.72472,     0.72573,     0.72673,     0.72773,     0.72873,     0.72973,     0.73073,     0.73173,     0.73273,     0.73373,     0.73473,     0.73574,     0.73674,     0.73774,     0.73874,     0.73974,     0.74074,     0.74174,     0.74274,     0.74374,\n",
       "           0.74474,     0.74575,     0.74675,     0.74775,     0.74875,     0.74975,     0.75075,     0.75175,     0.75275,     0.75375,     0.75475,     0.75576,     0.75676,     0.75776,     0.75876,     0.75976,     0.76076,     0.76176,     0.76276,     0.76376,     0.76476,     0.76577,     0.76677,     0.76777,\n",
       "           0.76877,     0.76977,     0.77077,     0.77177,     0.77277,     0.77377,     0.77477,     0.77578,     0.77678,     0.77778,     0.77878,     0.77978,     0.78078,     0.78178,     0.78278,     0.78378,     0.78478,     0.78579,     0.78679,     0.78779,     0.78879,     0.78979,     0.79079,     0.79179,\n",
       "           0.79279,     0.79379,     0.79479,      0.7958,      0.7968,      0.7978,      0.7988,      0.7998,      0.8008,      0.8018,      0.8028,      0.8038,      0.8048,     0.80581,     0.80681,     0.80781,     0.80881,     0.80981,     0.81081,     0.81181,     0.81281,     0.81381,     0.81481,     0.81582,\n",
       "           0.81682,     0.81782,     0.81882,     0.81982,     0.82082,     0.82182,     0.82282,     0.82382,     0.82482,     0.82583,     0.82683,     0.82783,     0.82883,     0.82983,     0.83083,     0.83183,     0.83283,     0.83383,     0.83483,     0.83584,     0.83684,     0.83784,     0.83884,     0.83984,\n",
       "           0.84084,     0.84184,     0.84284,     0.84384,     0.84484,     0.84585,     0.84685,     0.84785,     0.84885,     0.84985,     0.85085,     0.85185,     0.85285,     0.85385,     0.85485,     0.85586,     0.85686,     0.85786,     0.85886,     0.85986,     0.86086,     0.86186,     0.86286,     0.86386,\n",
       "           0.86486,     0.86587,     0.86687,     0.86787,     0.86887,     0.86987,     0.87087,     0.87187,     0.87287,     0.87387,     0.87487,     0.87588,     0.87688,     0.87788,     0.87888,     0.87988,     0.88088,     0.88188,     0.88288,     0.88388,     0.88488,     0.88589,     0.88689,     0.88789,\n",
       "           0.88889,     0.88989,     0.89089,     0.89189,     0.89289,     0.89389,     0.89489,      0.8959,      0.8969,      0.8979,      0.8989,      0.8999,      0.9009,      0.9019,      0.9029,      0.9039,      0.9049,     0.90591,     0.90691,     0.90791,     0.90891,     0.90991,     0.91091,     0.91191,\n",
       "           0.91291,     0.91391,     0.91491,     0.91592,     0.91692,     0.91792,     0.91892,     0.91992,     0.92092,     0.92192,     0.92292,     0.92392,     0.92492,     0.92593,     0.92693,     0.92793,     0.92893,     0.92993,     0.93093,     0.93193,     0.93293,     0.93393,     0.93493,     0.93594,\n",
       "           0.93694,     0.93794,     0.93894,     0.93994,     0.94094,     0.94194,     0.94294,     0.94394,     0.94494,     0.94595,     0.94695,     0.94795,     0.94895,     0.94995,     0.95095,     0.95195,     0.95295,     0.95395,     0.95495,     0.95596,     0.95696,     0.95796,     0.95896,     0.95996,\n",
       "           0.96096,     0.96196,     0.96296,     0.96396,     0.96496,     0.96597,     0.96697,     0.96797,     0.96897,     0.96997,     0.97097,     0.97197,     0.97297,     0.97397,     0.97497,     0.97598,     0.97698,     0.97798,     0.97898,     0.97998,     0.98098,     0.98198,     0.98298,     0.98398,\n",
       "           0.98498,     0.98599,     0.98699,     0.98799,     0.98899,     0.98999,     0.99099,     0.99199,     0.99299,     0.99399,     0.99499,       0.996,       0.997,       0.998,       0.999,           1]), array([[    0.14545,     0.14545,     0.34942,     0.42938,     0.57014,     0.65086,     0.81226,     0.84247,     0.87268,     0.88895,     0.88908,      0.8892,     0.88933,     0.88946,     0.88959,     0.88972,     0.88984,     0.88997,      0.8901,     0.89023,     0.89036,     0.89049,     0.89061,\n",
       "            0.89074,     0.89087,       0.891,     0.89113,     0.89125,     0.89138,     0.89151,     0.89164,     0.89177,     0.89189,     0.89202,     0.89215,     0.89228,     0.89241,     0.89253,     0.89266,     0.89279,     0.89292,     0.89305,     0.89317,      0.8933,     0.89343,     0.89356,\n",
       "            0.89369,     0.89382,     0.89394,     0.89407,      0.8942,     0.89433,     0.89446,     0.89458,     0.89471,     0.89484,     0.89497,      0.8951,     0.89522,     0.89535,     0.89548,     0.89561,     0.89574,     0.89586,     0.89599,     0.89612,     0.89625,     0.89638,      0.8965,\n",
       "            0.89663,     0.89676,     0.89689,     0.89702,     0.89715,     0.89727,      0.8974,     0.89753,     0.89766,     0.89779,     0.89791,     0.89804,     0.89817,      0.8983,     0.89843,     0.89855,     0.89868,     0.89881,     0.89894,     0.89907,     0.89919,     0.89932,     0.89945,\n",
       "            0.89958,     0.89971,     0.89983,     0.89996,     0.90009,     0.90022,     0.90035,     0.90048,      0.9006,     0.90073,     0.90086,     0.90099,     0.90112,     0.90124,     0.90137,      0.9015,     0.90163,     0.90176,     0.90188,     0.90201,     0.90214,     0.90227,      0.9024,\n",
       "            0.90252,     0.90265,     0.90278,     0.90291,     0.90304,     0.90316,     0.90329,     0.90342,     0.90355,     0.90368,     0.90381,     0.90393,     0.90406,     0.90419,     0.90432,     0.90445,     0.90457,      0.9047,     0.90483,     0.90496,     0.90509,     0.90521,     0.90534,\n",
       "            0.90547,      0.9056,     0.90573,     0.90585,     0.90598,     0.90611,     0.90624,     0.90637,     0.90649,     0.90662,     0.90675,     0.90688,     0.90701,     0.90714,     0.90726,     0.90739,     0.90752,     0.90765,     0.90778,      0.9079,     0.90803,     0.90816,     0.90829,\n",
       "            0.90842,     0.90854,     0.90867,      0.9088,     0.90893,     0.90906,     0.90918,     0.90931,     0.90944,     0.90957,      0.9097,     0.90982,     0.90995,     0.91008,     0.91021,     0.91034,     0.91047,     0.91059,     0.91072,     0.91085,     0.91098,     0.91111,     0.91123,\n",
       "            0.91136,     0.91149,     0.91162,     0.91175,     0.91187,       0.912,     0.91213,     0.91226,     0.91239,     0.91251,     0.91264,     0.91277,      0.9129,     0.91303,     0.91315,     0.91328,     0.91341,     0.91354,     0.91367,      0.9138,     0.91392,     0.91405,     0.91418,\n",
       "            0.91431,     0.91444,     0.91456,     0.91469,     0.91482,     0.91495,     0.91508,      0.9152,     0.91533,     0.91546,     0.91559,     0.91572,     0.91584,     0.91597,      0.9161,     0.91623,     0.91636,     0.91648,     0.91661,     0.91674,     0.91687,       0.917,     0.91713,\n",
       "            0.91725,     0.91738,     0.91751,     0.91764,     0.91777,     0.91789,     0.91802,     0.91815,     0.91828,     0.91841,     0.91853,     0.91866,     0.91879,     0.91892,     0.91905,     0.91917,      0.9193,     0.91943,     0.91956,     0.91969,     0.91981,     0.91994,     0.92007,\n",
       "             0.9202,     0.92033,     0.92045,     0.92058,     0.92071,     0.92084,     0.92097,      0.9211,     0.92122,     0.92135,     0.92148,     0.92161,     0.92174,     0.92186,     0.92199,     0.92212,     0.92225,     0.92238,      0.9225,     0.92263,     0.92276,     0.92289,     0.92302,\n",
       "            0.92314,     0.92327,      0.9234,     0.92353,     0.92366,     0.92378,     0.92391,     0.92404,     0.92417,      0.9243,     0.92443,     0.92455,     0.92468,     0.92481,     0.92494,     0.92507,     0.92519,     0.92532,     0.92545,     0.92558,     0.92571,     0.92583,     0.92596,\n",
       "            0.92609,     0.92622,     0.92635,     0.92647,      0.9266,     0.92673,     0.92686,     0.92699,     0.92711,     0.92724,     0.92737,      0.9275,     0.92763,     0.92776,     0.92788,     0.92801,     0.92814,     0.92827,      0.9284,     0.92852,     0.92865,     0.92878,     0.92891,\n",
       "            0.92904,     0.92916,     0.92929,     0.92942,     0.92955,     0.92968,      0.9298,     0.92993,     0.93006,     0.93019,     0.93032,     0.93044,     0.93057,      0.9307,     0.93083,     0.93096,     0.93109,     0.93121,     0.93134,     0.93147,      0.9316,     0.93173,     0.93185,\n",
       "            0.93198,     0.93211,     0.93224,     0.93237,     0.93249,     0.93262,     0.93275,     0.93288,     0.93301,     0.93313,     0.93326,     0.93339,     0.93352,     0.93365,     0.93377,      0.9339,     0.93403,     0.93416,     0.93429,     0.93442,     0.93454,     0.93467,      0.9348,\n",
       "            0.93493,     0.93506,     0.93518,     0.93531,     0.93544,     0.93557,      0.9357,     0.93582,     0.93595,     0.93608,     0.93621,     0.93634,     0.93646,     0.93659,     0.93672,     0.93685,     0.93698,      0.9371,     0.93723,     0.93736,     0.93749,     0.93762,     0.93775,\n",
       "            0.93787,       0.938,     0.93813,     0.93826,     0.93839,     0.93851,     0.93864,     0.93877,      0.9389,     0.93903,     0.93915,     0.93928,     0.93941,     0.93954,     0.93967,     0.93979,     0.93992,     0.94005,     0.94018,     0.94031,     0.94043,     0.94056,     0.94069,\n",
       "            0.94082,     0.94095,     0.94108,      0.9412,     0.94133,     0.94146,     0.94159,     0.94172,     0.94184,     0.94197,      0.9421,     0.94223,     0.94236,     0.94248,     0.94261,     0.94274,     0.94287,       0.943,     0.94312,     0.94325,     0.94338,     0.94351,     0.94364,\n",
       "            0.94376,     0.94389,     0.94402,     0.94415,     0.94428,     0.94441,     0.94453,     0.94466,     0.94479,     0.94492,     0.94505,     0.94517,      0.9453,     0.94543,     0.94556,     0.94569,     0.94581,     0.94594,     0.94607,      0.9462,     0.94633,     0.94645,     0.94658,\n",
       "            0.94671,     0.94684,     0.94697,     0.94709,     0.94722,     0.94735,     0.94748,     0.94761,     0.94774,     0.94786,     0.94799,     0.94812,     0.94825,     0.94838,      0.9485,     0.94863,     0.94876,     0.94889,     0.94902,     0.94914,     0.94927,      0.9494,     0.94953,\n",
       "            0.94966,     0.94978,     0.94991,     0.95004,     0.95017,      0.9503,     0.95042,     0.95055,     0.95068,     0.95081,     0.95094,     0.95107,     0.95119,     0.95132,     0.95145,     0.95158,     0.95171,     0.95183,     0.95196,     0.95209,     0.95222,     0.95235,     0.95247,\n",
       "             0.9526,     0.95273,     0.95286,     0.95299,     0.95311,     0.95324,     0.95337,      0.9535,     0.95363,     0.95375,     0.95388,     0.95401,     0.95414,     0.95427,      0.9544,     0.95452,     0.95465,     0.95478,     0.95491,     0.95504,     0.95516,     0.95529,     0.95542,\n",
       "            0.95555,     0.95568,      0.9558,     0.95593,     0.95606,     0.95619,     0.95632,     0.95644,     0.95657,      0.9567,     0.95683,     0.95696,     0.95708,     0.95721,     0.95734,     0.95747,      0.9576,     0.95773,     0.95785,     0.95798,     0.95811,     0.95824,     0.95837,\n",
       "            0.95849,     0.95862,     0.95875,     0.95888,     0.95901,     0.95913,     0.95926,     0.95939,     0.95952,     0.95965,     0.95977,      0.9599,     0.96003,     0.96016,     0.96029,     0.96041,     0.96054,     0.96067,      0.9608,     0.96093,     0.96106,     0.96118,     0.96131,\n",
       "            0.96144,     0.96157,      0.9617,     0.96182,     0.96195,     0.96208,     0.96221,     0.96234,     0.96246,     0.96259,     0.96272,     0.96285,     0.96298,      0.9631,     0.96323,     0.96336,     0.96349,     0.96362,     0.96374,     0.96387,       0.964,     0.96413,     0.96426,\n",
       "            0.96439,     0.96451,     0.96464,     0.96477,      0.9649,     0.96503,     0.96515,     0.96528,     0.96541,     0.96554,     0.96567,     0.96579,     0.96592,     0.96605,     0.96618,     0.96631,     0.96643,     0.96656,     0.96669,     0.96682,     0.96695,     0.96707,      0.9672,\n",
       "            0.96733,     0.96746,     0.96759,     0.96772,     0.96784,     0.96797,      0.9681,     0.96823,     0.96836,     0.96848,     0.96861,     0.96874,     0.96887,       0.969,     0.96912,     0.96925,     0.96938,     0.96951,     0.96964,     0.96976,     0.96989,     0.97002,     0.97015,\n",
       "            0.97028,      0.9704,     0.97053,     0.97066,     0.97079,     0.97092,     0.97105,     0.97117,      0.9713,     0.97143,     0.97156,     0.97169,     0.97181,     0.97194,     0.97207,      0.9722,     0.97233,     0.97245,     0.97258,     0.97271,     0.97284,     0.97297,     0.97309,\n",
       "            0.97322,     0.97335,     0.97348,     0.97361,     0.97373,     0.97386,     0.97399,     0.97412,     0.97425,     0.97438,      0.9745,     0.97463,     0.97476,     0.97489,     0.97502,     0.97514,     0.97527,      0.9754,     0.97553,     0.97566,     0.97578,     0.97591,     0.97604,\n",
       "            0.97617,      0.9763,     0.97642,     0.97655,     0.97668,     0.97681,     0.97694,     0.97706,     0.97719,     0.97732,     0.97745,     0.97758,     0.97771,     0.97783,     0.97796,     0.97809,     0.97822,     0.97835,     0.97847,      0.9786,     0.97873,     0.97886,     0.97899,\n",
       "            0.97911,     0.97924,     0.97937,      0.9795,     0.97963,     0.97975,     0.97988,     0.98001,     0.98014,     0.98027,     0.98039,     0.98052,     0.98065,     0.98078,     0.98091,     0.98103,     0.98116,     0.98129,     0.98142,     0.98155,     0.98168,      0.9818,     0.98193,\n",
       "            0.98206,     0.98219,     0.98232,     0.98244,     0.98257,      0.9827,     0.98283,     0.98296,     0.98308,     0.98321,     0.98334,     0.98347,      0.9836,     0.98372,     0.98385,     0.98398,     0.98411,     0.98424,     0.98436,     0.98449,     0.98462,     0.98475,     0.98488,\n",
       "            0.98501,     0.98513,     0.98526,     0.98539,     0.98552,     0.98565,     0.98577,      0.9859,     0.98603,     0.98616,     0.98629,     0.98641,     0.98654,     0.98667,      0.9868,     0.98693,     0.98705,     0.98718,     0.98731,     0.98744,     0.98757,     0.98769,     0.98782,\n",
       "            0.98795,     0.98808,     0.98821,     0.98834,     0.98846,     0.98859,     0.98872,     0.98885,     0.98898,      0.9891,     0.98923,     0.98936,     0.98949,     0.98962,     0.98974,     0.98987,        0.99,     0.99013,     0.99026,     0.99038,     0.99051,     0.99064,     0.99077,\n",
       "             0.9909,     0.99102,     0.99115,     0.99128,     0.99141,     0.99154,     0.99167,     0.99179,     0.99192,     0.99205,     0.99218,     0.99231,     0.99243,     0.99256,     0.99269,     0.99282,     0.99295,     0.99307,      0.9932,     0.99333,     0.99346,     0.99359,     0.99371,\n",
       "            0.99384,     0.99397,      0.9941,     0.99423,     0.99435,     0.99448,     0.99461,     0.99474,     0.99487,       0.995,     0.99512,     0.99525,     0.99538,     0.99551,     0.99564,     0.99576,     0.99589,     0.99602,     0.99615,     0.99628,      0.9964,     0.99653,     0.99666,\n",
       "            0.99679,     0.99692,     0.99704,     0.99717,      0.9973,     0.99743,     0.99756,     0.99768,     0.99781,     0.99794,     0.99807,      0.9982,     0.99833,     0.99845,     0.99858,     0.99871,     0.99884,     0.99897,     0.99909,     0.99922,     0.99935,     0.99948,     0.99961,\n",
       "            0.99973,     0.99986,     0.99999,           1,           1,           1,           1,           1,           1,           1,           1,           1,           1,           1,           1,           1,           1,           1,           1,           1,           1,           1,           1,\n",
       "                  1,           1,           1,           1,           1,           1,           1,           1,           1,           1,           1,           1,           1,           1,           1,           1,           1,           1,           1,           1,           1,           1,           1,\n",
       "                  1,           1,           1,           1,           1,           1,           1,           1,           1,           1,           1,           1,           1,           1,           1,           1,           1,           1,           1,           1,           1,           1,           1,\n",
       "                  1,           1,           1,           1,           1,           1,           1,           1,           1,           1,           1,           1,           1,           1,           1,           1,           1,           1,           1,           1,           1,           1,           1,\n",
       "                  1,           1,           1,           1,           1,           1,           1,           1,           1,           1,           1,           1,           1,           1,           1,           1,           1,           1,           1,           1,           1,           1,           1,\n",
       "                  1,           1,           1,           1,           1,           1,           1,           1,           1,           1,           1]]), 'Confidence', 'Precision'], [array([          0,    0.001001,    0.002002,    0.003003,    0.004004,    0.005005,    0.006006,    0.007007,    0.008008,    0.009009,     0.01001,    0.011011,    0.012012,    0.013013,    0.014014,    0.015015,    0.016016,    0.017017,    0.018018,    0.019019,     0.02002,    0.021021,    0.022022,    0.023023,\n",
       "          0.024024,    0.025025,    0.026026,    0.027027,    0.028028,    0.029029,     0.03003,    0.031031,    0.032032,    0.033033,    0.034034,    0.035035,    0.036036,    0.037037,    0.038038,    0.039039,     0.04004,    0.041041,    0.042042,    0.043043,    0.044044,    0.045045,    0.046046,    0.047047,\n",
       "          0.048048,    0.049049,     0.05005,    0.051051,    0.052052,    0.053053,    0.054054,    0.055055,    0.056056,    0.057057,    0.058058,    0.059059,     0.06006,    0.061061,    0.062062,    0.063063,    0.064064,    0.065065,    0.066066,    0.067067,    0.068068,    0.069069,     0.07007,    0.071071,\n",
       "          0.072072,    0.073073,    0.074074,    0.075075,    0.076076,    0.077077,    0.078078,    0.079079,     0.08008,    0.081081,    0.082082,    0.083083,    0.084084,    0.085085,    0.086086,    0.087087,    0.088088,    0.089089,     0.09009,    0.091091,    0.092092,    0.093093,    0.094094,    0.095095,\n",
       "          0.096096,    0.097097,    0.098098,    0.099099,      0.1001,      0.1011,      0.1021,      0.1031,      0.1041,     0.10511,     0.10611,     0.10711,     0.10811,     0.10911,     0.11011,     0.11111,     0.11211,     0.11311,     0.11411,     0.11512,     0.11612,     0.11712,     0.11812,     0.11912,\n",
       "           0.12012,     0.12112,     0.12212,     0.12312,     0.12412,     0.12513,     0.12613,     0.12713,     0.12813,     0.12913,     0.13013,     0.13113,     0.13213,     0.13313,     0.13413,     0.13514,     0.13614,     0.13714,     0.13814,     0.13914,     0.14014,     0.14114,     0.14214,     0.14314,\n",
       "           0.14414,     0.14515,     0.14615,     0.14715,     0.14815,     0.14915,     0.15015,     0.15115,     0.15215,     0.15315,     0.15415,     0.15516,     0.15616,     0.15716,     0.15816,     0.15916,     0.16016,     0.16116,     0.16216,     0.16316,     0.16416,     0.16517,     0.16617,     0.16717,\n",
       "           0.16817,     0.16917,     0.17017,     0.17117,     0.17217,     0.17317,     0.17417,     0.17518,     0.17618,     0.17718,     0.17818,     0.17918,     0.18018,     0.18118,     0.18218,     0.18318,     0.18418,     0.18519,     0.18619,     0.18719,     0.18819,     0.18919,     0.19019,     0.19119,\n",
       "           0.19219,     0.19319,     0.19419,      0.1952,      0.1962,      0.1972,      0.1982,      0.1992,      0.2002,      0.2012,      0.2022,      0.2032,      0.2042,     0.20521,     0.20621,     0.20721,     0.20821,     0.20921,     0.21021,     0.21121,     0.21221,     0.21321,     0.21421,     0.21522,\n",
       "           0.21622,     0.21722,     0.21822,     0.21922,     0.22022,     0.22122,     0.22222,     0.22322,     0.22422,     0.22523,     0.22623,     0.22723,     0.22823,     0.22923,     0.23023,     0.23123,     0.23223,     0.23323,     0.23423,     0.23524,     0.23624,     0.23724,     0.23824,     0.23924,\n",
       "           0.24024,     0.24124,     0.24224,     0.24324,     0.24424,     0.24525,     0.24625,     0.24725,     0.24825,     0.24925,     0.25025,     0.25125,     0.25225,     0.25325,     0.25425,     0.25526,     0.25626,     0.25726,     0.25826,     0.25926,     0.26026,     0.26126,     0.26226,     0.26326,\n",
       "           0.26426,     0.26527,     0.26627,     0.26727,     0.26827,     0.26927,     0.27027,     0.27127,     0.27227,     0.27327,     0.27427,     0.27528,     0.27628,     0.27728,     0.27828,     0.27928,     0.28028,     0.28128,     0.28228,     0.28328,     0.28428,     0.28529,     0.28629,     0.28729,\n",
       "           0.28829,     0.28929,     0.29029,     0.29129,     0.29229,     0.29329,     0.29429,      0.2953,      0.2963,      0.2973,      0.2983,      0.2993,      0.3003,      0.3013,      0.3023,      0.3033,      0.3043,     0.30531,     0.30631,     0.30731,     0.30831,     0.30931,     0.31031,     0.31131,\n",
       "           0.31231,     0.31331,     0.31431,     0.31532,     0.31632,     0.31732,     0.31832,     0.31932,     0.32032,     0.32132,     0.32232,     0.32332,     0.32432,     0.32533,     0.32633,     0.32733,     0.32833,     0.32933,     0.33033,     0.33133,     0.33233,     0.33333,     0.33433,     0.33534,\n",
       "           0.33634,     0.33734,     0.33834,     0.33934,     0.34034,     0.34134,     0.34234,     0.34334,     0.34434,     0.34535,     0.34635,     0.34735,     0.34835,     0.34935,     0.35035,     0.35135,     0.35235,     0.35335,     0.35435,     0.35536,     0.35636,     0.35736,     0.35836,     0.35936,\n",
       "           0.36036,     0.36136,     0.36236,     0.36336,     0.36436,     0.36537,     0.36637,     0.36737,     0.36837,     0.36937,     0.37037,     0.37137,     0.37237,     0.37337,     0.37437,     0.37538,     0.37638,     0.37738,     0.37838,     0.37938,     0.38038,     0.38138,     0.38238,     0.38338,\n",
       "           0.38438,     0.38539,     0.38639,     0.38739,     0.38839,     0.38939,     0.39039,     0.39139,     0.39239,     0.39339,     0.39439,      0.3954,      0.3964,      0.3974,      0.3984,      0.3994,      0.4004,      0.4014,      0.4024,      0.4034,      0.4044,     0.40541,     0.40641,     0.40741,\n",
       "           0.40841,     0.40941,     0.41041,     0.41141,     0.41241,     0.41341,     0.41441,     0.41542,     0.41642,     0.41742,     0.41842,     0.41942,     0.42042,     0.42142,     0.42242,     0.42342,     0.42442,     0.42543,     0.42643,     0.42743,     0.42843,     0.42943,     0.43043,     0.43143,\n",
       "           0.43243,     0.43343,     0.43443,     0.43544,     0.43644,     0.43744,     0.43844,     0.43944,     0.44044,     0.44144,     0.44244,     0.44344,     0.44444,     0.44545,     0.44645,     0.44745,     0.44845,     0.44945,     0.45045,     0.45145,     0.45245,     0.45345,     0.45445,     0.45546,\n",
       "           0.45646,     0.45746,     0.45846,     0.45946,     0.46046,     0.46146,     0.46246,     0.46346,     0.46446,     0.46547,     0.46647,     0.46747,     0.46847,     0.46947,     0.47047,     0.47147,     0.47247,     0.47347,     0.47447,     0.47548,     0.47648,     0.47748,     0.47848,     0.47948,\n",
       "           0.48048,     0.48148,     0.48248,     0.48348,     0.48448,     0.48549,     0.48649,     0.48749,     0.48849,     0.48949,     0.49049,     0.49149,     0.49249,     0.49349,     0.49449,      0.4955,      0.4965,      0.4975,      0.4985,      0.4995,      0.5005,      0.5015,      0.5025,      0.5035,\n",
       "            0.5045,     0.50551,     0.50651,     0.50751,     0.50851,     0.50951,     0.51051,     0.51151,     0.51251,     0.51351,     0.51451,     0.51552,     0.51652,     0.51752,     0.51852,     0.51952,     0.52052,     0.52152,     0.52252,     0.52352,     0.52452,     0.52553,     0.52653,     0.52753,\n",
       "           0.52853,     0.52953,     0.53053,     0.53153,     0.53253,     0.53353,     0.53453,     0.53554,     0.53654,     0.53754,     0.53854,     0.53954,     0.54054,     0.54154,     0.54254,     0.54354,     0.54454,     0.54555,     0.54655,     0.54755,     0.54855,     0.54955,     0.55055,     0.55155,\n",
       "           0.55255,     0.55355,     0.55455,     0.55556,     0.55656,     0.55756,     0.55856,     0.55956,     0.56056,     0.56156,     0.56256,     0.56356,     0.56456,     0.56557,     0.56657,     0.56757,     0.56857,     0.56957,     0.57057,     0.57157,     0.57257,     0.57357,     0.57457,     0.57558,\n",
       "           0.57658,     0.57758,     0.57858,     0.57958,     0.58058,     0.58158,     0.58258,     0.58358,     0.58458,     0.58559,     0.58659,     0.58759,     0.58859,     0.58959,     0.59059,     0.59159,     0.59259,     0.59359,     0.59459,      0.5956,      0.5966,      0.5976,      0.5986,      0.5996,\n",
       "            0.6006,      0.6016,      0.6026,      0.6036,      0.6046,     0.60561,     0.60661,     0.60761,     0.60861,     0.60961,     0.61061,     0.61161,     0.61261,     0.61361,     0.61461,     0.61562,     0.61662,     0.61762,     0.61862,     0.61962,     0.62062,     0.62162,     0.62262,     0.62362,\n",
       "           0.62462,     0.62563,     0.62663,     0.62763,     0.62863,     0.62963,     0.63063,     0.63163,     0.63263,     0.63363,     0.63463,     0.63564,     0.63664,     0.63764,     0.63864,     0.63964,     0.64064,     0.64164,     0.64264,     0.64364,     0.64464,     0.64565,     0.64665,     0.64765,\n",
       "           0.64865,     0.64965,     0.65065,     0.65165,     0.65265,     0.65365,     0.65465,     0.65566,     0.65666,     0.65766,     0.65866,     0.65966,     0.66066,     0.66166,     0.66266,     0.66366,     0.66466,     0.66567,     0.66667,     0.66767,     0.66867,     0.66967,     0.67067,     0.67167,\n",
       "           0.67267,     0.67367,     0.67467,     0.67568,     0.67668,     0.67768,     0.67868,     0.67968,     0.68068,     0.68168,     0.68268,     0.68368,     0.68468,     0.68569,     0.68669,     0.68769,     0.68869,     0.68969,     0.69069,     0.69169,     0.69269,     0.69369,     0.69469,      0.6957,\n",
       "            0.6967,      0.6977,      0.6987,      0.6997,      0.7007,      0.7017,      0.7027,      0.7037,      0.7047,     0.70571,     0.70671,     0.70771,     0.70871,     0.70971,     0.71071,     0.71171,     0.71271,     0.71371,     0.71471,     0.71572,     0.71672,     0.71772,     0.71872,     0.71972,\n",
       "           0.72072,     0.72172,     0.72272,     0.72372,     0.72472,     0.72573,     0.72673,     0.72773,     0.72873,     0.72973,     0.73073,     0.73173,     0.73273,     0.73373,     0.73473,     0.73574,     0.73674,     0.73774,     0.73874,     0.73974,     0.74074,     0.74174,     0.74274,     0.74374,\n",
       "           0.74474,     0.74575,     0.74675,     0.74775,     0.74875,     0.74975,     0.75075,     0.75175,     0.75275,     0.75375,     0.75475,     0.75576,     0.75676,     0.75776,     0.75876,     0.75976,     0.76076,     0.76176,     0.76276,     0.76376,     0.76476,     0.76577,     0.76677,     0.76777,\n",
       "           0.76877,     0.76977,     0.77077,     0.77177,     0.77277,     0.77377,     0.77477,     0.77578,     0.77678,     0.77778,     0.77878,     0.77978,     0.78078,     0.78178,     0.78278,     0.78378,     0.78478,     0.78579,     0.78679,     0.78779,     0.78879,     0.78979,     0.79079,     0.79179,\n",
       "           0.79279,     0.79379,     0.79479,      0.7958,      0.7968,      0.7978,      0.7988,      0.7998,      0.8008,      0.8018,      0.8028,      0.8038,      0.8048,     0.80581,     0.80681,     0.80781,     0.80881,     0.80981,     0.81081,     0.81181,     0.81281,     0.81381,     0.81481,     0.81582,\n",
       "           0.81682,     0.81782,     0.81882,     0.81982,     0.82082,     0.82182,     0.82282,     0.82382,     0.82482,     0.82583,     0.82683,     0.82783,     0.82883,     0.82983,     0.83083,     0.83183,     0.83283,     0.83383,     0.83483,     0.83584,     0.83684,     0.83784,     0.83884,     0.83984,\n",
       "           0.84084,     0.84184,     0.84284,     0.84384,     0.84484,     0.84585,     0.84685,     0.84785,     0.84885,     0.84985,     0.85085,     0.85185,     0.85285,     0.85385,     0.85485,     0.85586,     0.85686,     0.85786,     0.85886,     0.85986,     0.86086,     0.86186,     0.86286,     0.86386,\n",
       "           0.86486,     0.86587,     0.86687,     0.86787,     0.86887,     0.86987,     0.87087,     0.87187,     0.87287,     0.87387,     0.87487,     0.87588,     0.87688,     0.87788,     0.87888,     0.87988,     0.88088,     0.88188,     0.88288,     0.88388,     0.88488,     0.88589,     0.88689,     0.88789,\n",
       "           0.88889,     0.88989,     0.89089,     0.89189,     0.89289,     0.89389,     0.89489,      0.8959,      0.8969,      0.8979,      0.8989,      0.8999,      0.9009,      0.9019,      0.9029,      0.9039,      0.9049,     0.90591,     0.90691,     0.90791,     0.90891,     0.90991,     0.91091,     0.91191,\n",
       "           0.91291,     0.91391,     0.91491,     0.91592,     0.91692,     0.91792,     0.91892,     0.91992,     0.92092,     0.92192,     0.92292,     0.92392,     0.92492,     0.92593,     0.92693,     0.92793,     0.92893,     0.92993,     0.93093,     0.93193,     0.93293,     0.93393,     0.93493,     0.93594,\n",
       "           0.93694,     0.93794,     0.93894,     0.93994,     0.94094,     0.94194,     0.94294,     0.94394,     0.94494,     0.94595,     0.94695,     0.94795,     0.94895,     0.94995,     0.95095,     0.95195,     0.95295,     0.95395,     0.95495,     0.95596,     0.95696,     0.95796,     0.95896,     0.95996,\n",
       "           0.96096,     0.96196,     0.96296,     0.96396,     0.96496,     0.96597,     0.96697,     0.96797,     0.96897,     0.96997,     0.97097,     0.97197,     0.97297,     0.97397,     0.97497,     0.97598,     0.97698,     0.97798,     0.97898,     0.97998,     0.98098,     0.98198,     0.98298,     0.98398,\n",
       "           0.98498,     0.98599,     0.98699,     0.98799,     0.98899,     0.98999,     0.99099,     0.99199,     0.99299,     0.99399,     0.99499,       0.996,       0.997,       0.998,       0.999,           1]), array([[          1,           1,           1,           1,           1,           1,           1,           1,           1,           1,           1,           1,           1,           1,           1,           1,           1,           1,           1,           1,           1,           1,           1,\n",
       "                  1,           1,           1,           1,           1,           1,           1,           1,           1,           1,           1,           1,           1,           1,           1,           1,           1,           1,           1,           1,           1,           1,           1,\n",
       "                  1,           1,           1,           1,           1,           1,           1,           1,           1,           1,           1,           1,           1,           1,           1,           1,           1,           1,           1,           1,           1,           1,           1,\n",
       "                  1,           1,           1,           1,           1,           1,           1,           1,           1,           1,           1,           1,           1,           1,           1,           1,           1,           1,           1,           1,           1,           1,           1,\n",
       "                  1,           1,           1,           1,           1,           1,           1,           1,           1,           1,           1,           1,           1,           1,           1,           1,           1,           1,           1,           1,           1,           1,           1,\n",
       "                  1,           1,           1,           1,           1,           1,           1,           1,           1,           1,           1,           1,           1,           1,           1,           1,           1,           1,           1,           1,           1,           1,           1,\n",
       "                  1,           1,           1,           1,           1,           1,           1,           1,           1,           1,           1,           1,           1,           1,           1,           1,           1,           1,           1,           1,           1,           1,           1,\n",
       "                  1,           1,           1,           1,           1,           1,           1,           1,           1,           1,           1,           1,           1,           1,           1,           1,           1,           1,           1,           1,           1,           1,           1,\n",
       "                  1,           1,           1,           1,           1,           1,           1,           1,           1,           1,           1,           1,           1,           1,           1,           1,           1,           1,           1,           1,           1,           1,           1,\n",
       "                  1,           1,           1,           1,           1,           1,           1,           1,           1,           1,           1,           1,           1,           1,           1,           1,           1,           1,           1,           1,           1,           1,           1,\n",
       "                  1,           1,           1,           1,           1,           1,           1,           1,           1,           1,           1,           1,           1,           1,           1,           1,           1,           1,           1,           1,           1,           1,           1,\n",
       "                  1,           1,           1,           1,           1,           1,           1,           1,           1,           1,           1,           1,           1,           1,           1,           1,           1,           1,           1,           1,           1,           1,           1,\n",
       "                  1,           1,           1,           1,           1,           1,           1,           1,           1,           1,           1,           1,           1,           1,           1,           1,           1,           1,           1,           1,           1,           1,           1,\n",
       "                  1,           1,           1,           1,           1,           1,           1,           1,           1,           1,           1,           1,           1,           1,           1,           1,           1,           1,           1,           1,           1,           1,           1,\n",
       "                  1,           1,           1,           1,           1,           1,           1,           1,           1,           1,           1,           1,           1,           1,           1,           1,           1,           1,           1,           1,           1,           1,           1,\n",
       "                  1,           1,           1,           1,           1,           1,           1,           1,           1,           1,           1,           1,           1,           1,           1,           1,           1,           1,           1,           1,           1,           1,           1,\n",
       "                  1,           1,           1,           1,           1,           1,           1,           1,           1,           1,           1,           1,           1,           1,           1,           1,           1,           1,           1,           1,           1,           1,           1,\n",
       "                  1,           1,           1,           1,           1,           1,           1,           1,           1,           1,           1,           1,           1,           1,           1,           1,           1,           1,           1,           1,           1,           1,           1,\n",
       "                  1,           1,           1,           1,           1,           1,           1,           1,           1,           1,           1,           1,           1,           1,           1,           1,           1,           1,           1,           1,           1,           1,           1,\n",
       "                  1,           1,           1,           1,           1,           1,           1,           1,           1,           1,           1,           1,           1,           1,           1,           1,           1,           1,           1,           1,           1,           1,           1,\n",
       "                  1,           1,           1,           1,           1,           1,           1,           1,           1,           1,           1,           1,           1,           1,           1,           1,           1,           1,           1,           1,           1,           1,           1,\n",
       "                  1,           1,           1,           1,           1,           1,           1,           1,           1,           1,           1,           1,           1,           1,           1,           1,           1,           1,           1,           1,           1,           1,           1,\n",
       "                  1,           1,           1,           1,           1,           1,           1,           1,           1,           1,           1,           1,           1,           1,           1,           1,           1,           1,           1,           1,           1,           1,           1,\n",
       "                  1,           1,           1,           1,           1,           1,           1,           1,           1,           1,           1,           1,           1,           1,           1,           1,           1,           1,           1,           1,           1,           1,           1,\n",
       "                  1,           1,           1,           1,           1,           1,           1,           1,           1,           1,           1,           1,           1,           1,           1,           1,           1,           1,           1,           1,           1,           1,           1,\n",
       "                  1,           1,           1,           1,           1,           1,           1,           1,           1,           1,           1,           1,           1,           1,           1,           1,           1,           1,           1,           1,           1,           1,           1,\n",
       "                  1,           1,           1,           1,           1,           1,           1,           1,           1,           1,           1,           1,           1,           1,           1,           1,           1,           1,           1,           1,           1,           1,           1,\n",
       "                  1,           1,           1,           1,           1,           1,           1,           1,           1,           1,           1,           1,           1,           1,           1,           1,           1,           1,           1,           1,           1,           1,           1,\n",
       "                  1,           1,           1,           1,           1,           1,           1,           1,           1,           1,           1,           1,           1,           1,           1,           1,           1,           1,           1,           1,           1,           1,           1,\n",
       "                  1,           1,           1,           1,           1,           1,           1,           1,           1,           1,           1,           1,           1,           1,           1,           1,           1,           1,           1,           1,           1,           1,           1,\n",
       "                  1,           1,           1,           1,           1,           1,           1,           1,           1,           1,           1,           1,           1,           1,           1,           1,           1,           1,           1,           1,           1,           1,           1,\n",
       "                  1,           1,           1,           1,           1,           1,           1,           1,           1,           1,           1,           1,           1,           1,           1,           1,           1,           1,           1,           1,           1,           1,           1,\n",
       "                  1,           1,           1,           1,           1,           1,           1,           1,           1,           1,           1,           1,           1,           1,           1,           1,           1,           1,           1,           1,           1,           1,           1,\n",
       "                  1,           1,           1,           1,           1,           1,           1,           1,           1,           1,           1,           1,           1,           1,           1,           1,           1,           1,           1,           1,           1,           1,           1,\n",
       "                  1,           1,           1,           1,           1,           1,           1,           1,           1,           1,           1,           1,           1,           1,           1,           1,           1,           1,           1,           1,           1,           1,           1,\n",
       "                  1,           1,           1,           1,           1,           1,           1,           1,           1,           1,           1,           1,           1,           1,           1,           1,           1,           1,           1,           1,           1,           1,           1,\n",
       "                  1,           1,           1,           1,           1,           1,           1,           1,           1,           1,           1,           1,           1,           1,           1,           1,           1,           1,           1,           1,           1,           1,           1,\n",
       "                  1,           1,           1,           1,           1,           1,           1,           1,           1,           1,           1,           1,           1,           1,           1,           1,           1,           1,           1,           1,           1,           1,           1,\n",
       "                  1,           1,           1,     0.99449,     0.98854,     0.98258,     0.97662,     0.97066,      0.9647,     0.95874,     0.95278,     0.94682,     0.94086,      0.9349,     0.92894,     0.92298,     0.91702,     0.91106,      0.9051,     0.89914,     0.89318,     0.88722,     0.88126,\n",
       "            0.87531,     0.85763,     0.83933,     0.82103,     0.80272,     0.78442,     0.76611,     0.74562,     0.70901,      0.6724,      0.6358,     0.61969,     0.61215,     0.60461,     0.59708,     0.58954,       0.582,     0.57446,     0.56693,     0.55939,     0.55185,     0.54432,     0.53678,\n",
       "            0.52924,     0.52171,     0.51417,     0.50663,     0.46922,     0.37062,     0.36369,     0.35677,     0.34984,     0.34292,     0.33599,     0.32907,     0.32214,     0.31521,     0.30829,     0.30136,     0.29444,     0.28751,     0.28058,     0.27366,     0.26673,     0.25981,     0.25288,\n",
       "            0.22506,     0.18235,     0.13964,           0,           0,           0,           0,           0,           0,           0,           0,           0,           0,           0,           0,           0,           0,           0,           0,           0,           0,           0,           0,\n",
       "                  0,           0,           0,           0,           0,           0,           0,           0,           0,           0,           0,           0,           0,           0,           0,           0,           0,           0,           0,           0,           0,           0,           0,\n",
       "                  0,           0,           0,           0,           0,           0,           0,           0,           0,           0,           0]]), 'Confidence', 'Recall'], [array([          0,    0.001001,    0.002002,    0.003003,    0.004004,    0.005005,    0.006006,    0.007007,    0.008008,    0.009009,     0.01001,    0.011011,    0.012012,    0.013013,    0.014014,    0.015015,    0.016016,    0.017017,    0.018018,    0.019019,     0.02002,    0.021021,    0.022022,    0.023023,\n",
       "          0.024024,    0.025025,    0.026026,    0.027027,    0.028028,    0.029029,     0.03003,    0.031031,    0.032032,    0.033033,    0.034034,    0.035035,    0.036036,    0.037037,    0.038038,    0.039039,     0.04004,    0.041041,    0.042042,    0.043043,    0.044044,    0.045045,    0.046046,    0.047047,\n",
       "          0.048048,    0.049049,     0.05005,    0.051051,    0.052052,    0.053053,    0.054054,    0.055055,    0.056056,    0.057057,    0.058058,    0.059059,     0.06006,    0.061061,    0.062062,    0.063063,    0.064064,    0.065065,    0.066066,    0.067067,    0.068068,    0.069069,     0.07007,    0.071071,\n",
       "          0.072072,    0.073073,    0.074074,    0.075075,    0.076076,    0.077077,    0.078078,    0.079079,     0.08008,    0.081081,    0.082082,    0.083083,    0.084084,    0.085085,    0.086086,    0.087087,    0.088088,    0.089089,     0.09009,    0.091091,    0.092092,    0.093093,    0.094094,    0.095095,\n",
       "          0.096096,    0.097097,    0.098098,    0.099099,      0.1001,      0.1011,      0.1021,      0.1031,      0.1041,     0.10511,     0.10611,     0.10711,     0.10811,     0.10911,     0.11011,     0.11111,     0.11211,     0.11311,     0.11411,     0.11512,     0.11612,     0.11712,     0.11812,     0.11912,\n",
       "           0.12012,     0.12112,     0.12212,     0.12312,     0.12412,     0.12513,     0.12613,     0.12713,     0.12813,     0.12913,     0.13013,     0.13113,     0.13213,     0.13313,     0.13413,     0.13514,     0.13614,     0.13714,     0.13814,     0.13914,     0.14014,     0.14114,     0.14214,     0.14314,\n",
       "           0.14414,     0.14515,     0.14615,     0.14715,     0.14815,     0.14915,     0.15015,     0.15115,     0.15215,     0.15315,     0.15415,     0.15516,     0.15616,     0.15716,     0.15816,     0.15916,     0.16016,     0.16116,     0.16216,     0.16316,     0.16416,     0.16517,     0.16617,     0.16717,\n",
       "           0.16817,     0.16917,     0.17017,     0.17117,     0.17217,     0.17317,     0.17417,     0.17518,     0.17618,     0.17718,     0.17818,     0.17918,     0.18018,     0.18118,     0.18218,     0.18318,     0.18418,     0.18519,     0.18619,     0.18719,     0.18819,     0.18919,     0.19019,     0.19119,\n",
       "           0.19219,     0.19319,     0.19419,      0.1952,      0.1962,      0.1972,      0.1982,      0.1992,      0.2002,      0.2012,      0.2022,      0.2032,      0.2042,     0.20521,     0.20621,     0.20721,     0.20821,     0.20921,     0.21021,     0.21121,     0.21221,     0.21321,     0.21421,     0.21522,\n",
       "           0.21622,     0.21722,     0.21822,     0.21922,     0.22022,     0.22122,     0.22222,     0.22322,     0.22422,     0.22523,     0.22623,     0.22723,     0.22823,     0.22923,     0.23023,     0.23123,     0.23223,     0.23323,     0.23423,     0.23524,     0.23624,     0.23724,     0.23824,     0.23924,\n",
       "           0.24024,     0.24124,     0.24224,     0.24324,     0.24424,     0.24525,     0.24625,     0.24725,     0.24825,     0.24925,     0.25025,     0.25125,     0.25225,     0.25325,     0.25425,     0.25526,     0.25626,     0.25726,     0.25826,     0.25926,     0.26026,     0.26126,     0.26226,     0.26326,\n",
       "           0.26426,     0.26527,     0.26627,     0.26727,     0.26827,     0.26927,     0.27027,     0.27127,     0.27227,     0.27327,     0.27427,     0.27528,     0.27628,     0.27728,     0.27828,     0.27928,     0.28028,     0.28128,     0.28228,     0.28328,     0.28428,     0.28529,     0.28629,     0.28729,\n",
       "           0.28829,     0.28929,     0.29029,     0.29129,     0.29229,     0.29329,     0.29429,      0.2953,      0.2963,      0.2973,      0.2983,      0.2993,      0.3003,      0.3013,      0.3023,      0.3033,      0.3043,     0.30531,     0.30631,     0.30731,     0.30831,     0.30931,     0.31031,     0.31131,\n",
       "           0.31231,     0.31331,     0.31431,     0.31532,     0.31632,     0.31732,     0.31832,     0.31932,     0.32032,     0.32132,     0.32232,     0.32332,     0.32432,     0.32533,     0.32633,     0.32733,     0.32833,     0.32933,     0.33033,     0.33133,     0.33233,     0.33333,     0.33433,     0.33534,\n",
       "           0.33634,     0.33734,     0.33834,     0.33934,     0.34034,     0.34134,     0.34234,     0.34334,     0.34434,     0.34535,     0.34635,     0.34735,     0.34835,     0.34935,     0.35035,     0.35135,     0.35235,     0.35335,     0.35435,     0.35536,     0.35636,     0.35736,     0.35836,     0.35936,\n",
       "           0.36036,     0.36136,     0.36236,     0.36336,     0.36436,     0.36537,     0.36637,     0.36737,     0.36837,     0.36937,     0.37037,     0.37137,     0.37237,     0.37337,     0.37437,     0.37538,     0.37638,     0.37738,     0.37838,     0.37938,     0.38038,     0.38138,     0.38238,     0.38338,\n",
       "           0.38438,     0.38539,     0.38639,     0.38739,     0.38839,     0.38939,     0.39039,     0.39139,     0.39239,     0.39339,     0.39439,      0.3954,      0.3964,      0.3974,      0.3984,      0.3994,      0.4004,      0.4014,      0.4024,      0.4034,      0.4044,     0.40541,     0.40641,     0.40741,\n",
       "           0.40841,     0.40941,     0.41041,     0.41141,     0.41241,     0.41341,     0.41441,     0.41542,     0.41642,     0.41742,     0.41842,     0.41942,     0.42042,     0.42142,     0.42242,     0.42342,     0.42442,     0.42543,     0.42643,     0.42743,     0.42843,     0.42943,     0.43043,     0.43143,\n",
       "           0.43243,     0.43343,     0.43443,     0.43544,     0.43644,     0.43744,     0.43844,     0.43944,     0.44044,     0.44144,     0.44244,     0.44344,     0.44444,     0.44545,     0.44645,     0.44745,     0.44845,     0.44945,     0.45045,     0.45145,     0.45245,     0.45345,     0.45445,     0.45546,\n",
       "           0.45646,     0.45746,     0.45846,     0.45946,     0.46046,     0.46146,     0.46246,     0.46346,     0.46446,     0.46547,     0.46647,     0.46747,     0.46847,     0.46947,     0.47047,     0.47147,     0.47247,     0.47347,     0.47447,     0.47548,     0.47648,     0.47748,     0.47848,     0.47948,\n",
       "           0.48048,     0.48148,     0.48248,     0.48348,     0.48448,     0.48549,     0.48649,     0.48749,     0.48849,     0.48949,     0.49049,     0.49149,     0.49249,     0.49349,     0.49449,      0.4955,      0.4965,      0.4975,      0.4985,      0.4995,      0.5005,      0.5015,      0.5025,      0.5035,\n",
       "            0.5045,     0.50551,     0.50651,     0.50751,     0.50851,     0.50951,     0.51051,     0.51151,     0.51251,     0.51351,     0.51451,     0.51552,     0.51652,     0.51752,     0.51852,     0.51952,     0.52052,     0.52152,     0.52252,     0.52352,     0.52452,     0.52553,     0.52653,     0.52753,\n",
       "           0.52853,     0.52953,     0.53053,     0.53153,     0.53253,     0.53353,     0.53453,     0.53554,     0.53654,     0.53754,     0.53854,     0.53954,     0.54054,     0.54154,     0.54254,     0.54354,     0.54454,     0.54555,     0.54655,     0.54755,     0.54855,     0.54955,     0.55055,     0.55155,\n",
       "           0.55255,     0.55355,     0.55455,     0.55556,     0.55656,     0.55756,     0.55856,     0.55956,     0.56056,     0.56156,     0.56256,     0.56356,     0.56456,     0.56557,     0.56657,     0.56757,     0.56857,     0.56957,     0.57057,     0.57157,     0.57257,     0.57357,     0.57457,     0.57558,\n",
       "           0.57658,     0.57758,     0.57858,     0.57958,     0.58058,     0.58158,     0.58258,     0.58358,     0.58458,     0.58559,     0.58659,     0.58759,     0.58859,     0.58959,     0.59059,     0.59159,     0.59259,     0.59359,     0.59459,      0.5956,      0.5966,      0.5976,      0.5986,      0.5996,\n",
       "            0.6006,      0.6016,      0.6026,      0.6036,      0.6046,     0.60561,     0.60661,     0.60761,     0.60861,     0.60961,     0.61061,     0.61161,     0.61261,     0.61361,     0.61461,     0.61562,     0.61662,     0.61762,     0.61862,     0.61962,     0.62062,     0.62162,     0.62262,     0.62362,\n",
       "           0.62462,     0.62563,     0.62663,     0.62763,     0.62863,     0.62963,     0.63063,     0.63163,     0.63263,     0.63363,     0.63463,     0.63564,     0.63664,     0.63764,     0.63864,     0.63964,     0.64064,     0.64164,     0.64264,     0.64364,     0.64464,     0.64565,     0.64665,     0.64765,\n",
       "           0.64865,     0.64965,     0.65065,     0.65165,     0.65265,     0.65365,     0.65465,     0.65566,     0.65666,     0.65766,     0.65866,     0.65966,     0.66066,     0.66166,     0.66266,     0.66366,     0.66466,     0.66567,     0.66667,     0.66767,     0.66867,     0.66967,     0.67067,     0.67167,\n",
       "           0.67267,     0.67367,     0.67467,     0.67568,     0.67668,     0.67768,     0.67868,     0.67968,     0.68068,     0.68168,     0.68268,     0.68368,     0.68468,     0.68569,     0.68669,     0.68769,     0.68869,     0.68969,     0.69069,     0.69169,     0.69269,     0.69369,     0.69469,      0.6957,\n",
       "            0.6967,      0.6977,      0.6987,      0.6997,      0.7007,      0.7017,      0.7027,      0.7037,      0.7047,     0.70571,     0.70671,     0.70771,     0.70871,     0.70971,     0.71071,     0.71171,     0.71271,     0.71371,     0.71471,     0.71572,     0.71672,     0.71772,     0.71872,     0.71972,\n",
       "           0.72072,     0.72172,     0.72272,     0.72372,     0.72472,     0.72573,     0.72673,     0.72773,     0.72873,     0.72973,     0.73073,     0.73173,     0.73273,     0.73373,     0.73473,     0.73574,     0.73674,     0.73774,     0.73874,     0.73974,     0.74074,     0.74174,     0.74274,     0.74374,\n",
       "           0.74474,     0.74575,     0.74675,     0.74775,     0.74875,     0.74975,     0.75075,     0.75175,     0.75275,     0.75375,     0.75475,     0.75576,     0.75676,     0.75776,     0.75876,     0.75976,     0.76076,     0.76176,     0.76276,     0.76376,     0.76476,     0.76577,     0.76677,     0.76777,\n",
       "           0.76877,     0.76977,     0.77077,     0.77177,     0.77277,     0.77377,     0.77477,     0.77578,     0.77678,     0.77778,     0.77878,     0.77978,     0.78078,     0.78178,     0.78278,     0.78378,     0.78478,     0.78579,     0.78679,     0.78779,     0.78879,     0.78979,     0.79079,     0.79179,\n",
       "           0.79279,     0.79379,     0.79479,      0.7958,      0.7968,      0.7978,      0.7988,      0.7998,      0.8008,      0.8018,      0.8028,      0.8038,      0.8048,     0.80581,     0.80681,     0.80781,     0.80881,     0.80981,     0.81081,     0.81181,     0.81281,     0.81381,     0.81481,     0.81582,\n",
       "           0.81682,     0.81782,     0.81882,     0.81982,     0.82082,     0.82182,     0.82282,     0.82382,     0.82482,     0.82583,     0.82683,     0.82783,     0.82883,     0.82983,     0.83083,     0.83183,     0.83283,     0.83383,     0.83483,     0.83584,     0.83684,     0.83784,     0.83884,     0.83984,\n",
       "           0.84084,     0.84184,     0.84284,     0.84384,     0.84484,     0.84585,     0.84685,     0.84785,     0.84885,     0.84985,     0.85085,     0.85185,     0.85285,     0.85385,     0.85485,     0.85586,     0.85686,     0.85786,     0.85886,     0.85986,     0.86086,     0.86186,     0.86286,     0.86386,\n",
       "           0.86486,     0.86587,     0.86687,     0.86787,     0.86887,     0.86987,     0.87087,     0.87187,     0.87287,     0.87387,     0.87487,     0.87588,     0.87688,     0.87788,     0.87888,     0.87988,     0.88088,     0.88188,     0.88288,     0.88388,     0.88488,     0.88589,     0.88689,     0.88789,\n",
       "           0.88889,     0.88989,     0.89089,     0.89189,     0.89289,     0.89389,     0.89489,      0.8959,      0.8969,      0.8979,      0.8989,      0.8999,      0.9009,      0.9019,      0.9029,      0.9039,      0.9049,     0.90591,     0.90691,     0.90791,     0.90891,     0.90991,     0.91091,     0.91191,\n",
       "           0.91291,     0.91391,     0.91491,     0.91592,     0.91692,     0.91792,     0.91892,     0.91992,     0.92092,     0.92192,     0.92292,     0.92392,     0.92492,     0.92593,     0.92693,     0.92793,     0.92893,     0.92993,     0.93093,     0.93193,     0.93293,     0.93393,     0.93493,     0.93594,\n",
       "           0.93694,     0.93794,     0.93894,     0.93994,     0.94094,     0.94194,     0.94294,     0.94394,     0.94494,     0.94595,     0.94695,     0.94795,     0.94895,     0.94995,     0.95095,     0.95195,     0.95295,     0.95395,     0.95495,     0.95596,     0.95696,     0.95796,     0.95896,     0.95996,\n",
       "           0.96096,     0.96196,     0.96296,     0.96396,     0.96496,     0.96597,     0.96697,     0.96797,     0.96897,     0.96997,     0.97097,     0.97197,     0.97297,     0.97397,     0.97497,     0.97598,     0.97698,     0.97798,     0.97898,     0.97998,     0.98098,     0.98198,     0.98298,     0.98398,\n",
       "           0.98498,     0.98599,     0.98699,     0.98799,     0.98899,     0.98999,     0.99099,     0.99199,     0.99299,     0.99399,     0.99499,       0.996,       0.997,       0.998,       0.999,           1]), array([[          1,           1,           1,           1,           1,           1,           1,           1,           1,           1,           1,           1,           1,           1,           1,           1,           1,           1,           1,           1,           1,           1,           1,\n",
       "                  1,           1,           1,           1,           1,           1,           1,           1,           1,           1,           1,           1,           1,           1,           1,           1,           1,           1,           1,           1,           1,           1,           1,\n",
       "                  1,           1,           1,           1,           1,           1,           1,           1,           1,           1,           1,           1,           1,           1,           1,           1,           1,           1,           1,           1,           1,           1,           1,\n",
       "                  1,           1,           1,           1,           1,           1,           1,           1,           1,           1,           1,           1,           1,           1,           1,           1,           1,           1,           1,           1,           1,           1,           1,\n",
       "                  1,           1,           1,           1,           1,           1,           1,           1,           1,           1,           1,           1,           1,           1,           1,           1,           1,           1,           1,           1,           1,           1,           1,\n",
       "                  1,           1,           1,           1,           1,           1,           1,           1,           1,           1,           1,           1,           1,           1,           1,           1,           1,           1,           1,           1,           1,           1,           1,\n",
       "                  1,           1,           1,           1,           1,           1,           1,           1,           1,           1,           1,           1,           1,           1,           1,           1,           1,           1,           1,           1,           1,           1,           1,\n",
       "                  1,           1,           1,           1,           1,           1,           1,           1,           1,           1,           1,           1,           1,           1,           1,           1,           1,           1,           1,           1,           1,           1,           1,\n",
       "                  1,           1,           1,           1,           1,           1,           1,           1,           1,           1,           1,           1,           1,           1,           1,           1,           1,           1,           1,           1,           1,           1,           1,\n",
       "                  1,           1,           1,           1,           1,           1,           1,           1,           1,           1,           1,           1,           1,           1,           1,           1,           1,           1,           1,           1,           1,           1,           1,\n",
       "                  1,           1,           1,           1,           1,           1,           1,           1,           1,           1,           1,           1,           1,           1,           1,           1,           1,           1,           1,           1,           1,           1,           1,\n",
       "                  1,           1,           1,           1,           1,           1,           1,           1,           1,           1,           1,           1,           1,           1,           1,           1,           1,           1,           1,           1,           1,           1,           1,\n",
       "                  1,           1,           1,           1,           1,           1,           1,           1,           1,           1,           1,           1,           1,           1,           1,           1,           1,           1,           1,           1,           1,           1,           1,\n",
       "                  1,           1,           1,           1,           1,           1,           1,           1,           1,           1,           1,           1,           1,           1,           1,           1,           1,           1,           1,           1,           1,           1,           1,\n",
       "                  1,           1,           1,           1,           1,           1,           1,           1,           1,           1,           1,           1,           1,           1,           1,           1,           1,           1,           1,           1,           1,           1,           1,\n",
       "                  1,           1,           1,           1,           1,           1,           1,           1,           1,           1,           1,           1,           1,           1,           1,           1,           1,           1,           1,           1,           1,           1,           1,\n",
       "                  1,           1,           1,           1,           1,           1,           1,           1,           1,           1,           1,           1,           1,           1,           1,           1,           1,           1,           1,           1,           1,           1,           1,\n",
       "                  1,           1,           1,           1,           1,           1,           1,           1,           1,           1,           1,           1,           1,           1,           1,           1,           1,           1,           1,           1,           1,           1,           1,\n",
       "                  1,           1,           1,           1,           1,           1,           1,           1,           1,           1,           1,           1,           1,           1,           1,           1,           1,           1,           1,           1,           1,           1,           1,\n",
       "                  1,           1,           1,           1,           1,           1,           1,           1,           1,           1,           1,           1,           1,           1,           1,           1,           1,           1,           1,           1,           1,           1,           1,\n",
       "                  1,           1,           1,           1,           1,           1,           1,           1,           1,           1,           1,           1,           1,           1,           1,           1,           1,           1,           1,           1,           1,           1,           1,\n",
       "                  1,           1,           1,           1,           1,           1,           1,           1,           1,           1,           1,           1,           1,           1,           1,           1,           1,           1,           1,           1,           1,           1,           1,\n",
       "                  1,           1,           1,           1,           1,           1,           1,           1,           1,           1,           1,           1,           1,           1,           1,           1,           1,           1,           1,           1,           1,           1,           1,\n",
       "                  1,           1,           1,           1,           1,           1,           1,           1,           1,           1,           1,           1,           1,           1,           1,           1,           1,           1,           1,           1,           1,           1,           1,\n",
       "                  1,           1,           1,           1,           1,           1,           1,           1,           1,           1,           1,           1,           1,           1,           1,           1,           1,           1,           1,           1,           1,           1,           1,\n",
       "                  1,           1,           1,           1,           1,           1,           1,           1,           1,           1,           1,           1,           1,           1,           1,           1,           1,           1,           1,           1,           1,           1,           1,\n",
       "                  1,           1,           1,           1,           1,           1,           1,           1,           1,           1,           1,           1,           1,           1,           1,           1,           1,           1,           1,           1,           1,           1,           1,\n",
       "                  1,           1,           1,           1,           1,           1,           1,           1,           1,           1,           1,           1,           1,           1,           1,           1,           1,           1,           1,           1,           1,           1,           1,\n",
       "                  1,           1,           1,           1,           1,           1,           1,           1,           1,           1,           1,           1,           1,           1,           1,           1,           1,           1,           1,           1,           1,           1,           1,\n",
       "                  1,           1,           1,           1,           1,           1,           1,           1,           1,           1,           1,           1,           1,           1,           1,           1,           1,           1,           1,           1,           1,           1,           1,\n",
       "                  1,           1,           1,           1,           1,           1,           1,           1,           1,           1,           1,           1,           1,           1,           1,           1,           1,           1,           1,           1,           1,           1,           1,\n",
       "                  1,           1,           1,           1,           1,           1,           1,           1,           1,           1,           1,           1,           1,           1,           1,           1,           1,           1,           1,           1,           1,           1,           1,\n",
       "                  1,           1,           1,           1,           1,           1,           1,           1,           1,           1,           1,           1,           1,           1,           1,           1,           1,           1,           1,           1,           1,           1,           1,\n",
       "                  1,           1,           1,           1,           1,           1,           1,           1,           1,           1,           1,           1,           1,           1,           1,           1,           1,           1,           1,           1,           1,           1,           1,\n",
       "                  1,           1,           1,           1,           1,           1,           1,           1,           1,           1,           1,           1,           1,           1,           1,           1,           1,           1,           1,           1,           1,           1,           1,\n",
       "                  1,           1,           1,           1,           1,           1,           1,           1,           1,           1,           1,           1,           1,           1,           1,           1,           1,           1,           1,           1,           1,           1,           1,\n",
       "                  1,           1,           1,           1,           1,           1,           1,           1,           1,           1,           1,           1,           1,           1,           1,           1,           1,           1,           1,           1,           1,           1,           1,\n",
       "                  1,           1,           1,           1,           1,           1,           1,           1,           1,           1,           1,           1,           1,           1,           1,           1,           1,           1,           1,           1,           1,           1,           1,\n",
       "                  1,           1,           1,           1,           1,           1,           1,           1,           1,           1,           1,           1,           1,           1,           1,           1,           1,           1,           1,           1,           1,           1,           1,\n",
       "                  1,           1,           1,           1,           1,           1,           1,           1,           1,           1,           1,           1,           1,           1,           1,           1,           1,           1,           1,           1,           1,           1,           1,\n",
       "                  1,           1,           1,           1,           1,           1,           1,           1,           1,           1,           1,           1,           1,           1,           1,           1,           1,           1,           1,           1,           1,           1,           1,\n",
       "                  1,           1,           1,           1,           1,           1,           1,           1,           1,           1,           1,           1,           1,           1,           1,           1,           1,           1,           1,           1,           1,           1,           1,\n",
       "                  1,           1,           1,           1,           1,           1,           1,           1,           1,           1,           1,           1,           1,           1,           1,           1,           1,           1,           1,           1,           1,           1,           1,\n",
       "                  1,           1,           1,           1,           1,           1,           1,           1,           1,           1,           0]]), 'Recall', 'Precision'], [array([          0,    0.001001,    0.002002,    0.003003,    0.004004,    0.005005,    0.006006,    0.007007,    0.008008,    0.009009,     0.01001,    0.011011,    0.012012,    0.013013,    0.014014,    0.015015,    0.016016,    0.017017,    0.018018,    0.019019,     0.02002,    0.021021,    0.022022,    0.023023,\n",
       "          0.024024,    0.025025,    0.026026,    0.027027,    0.028028,    0.029029,     0.03003,    0.031031,    0.032032,    0.033033,    0.034034,    0.035035,    0.036036,    0.037037,    0.038038,    0.039039,     0.04004,    0.041041,    0.042042,    0.043043,    0.044044,    0.045045,    0.046046,    0.047047,\n",
       "          0.048048,    0.049049,     0.05005,    0.051051,    0.052052,    0.053053,    0.054054,    0.055055,    0.056056,    0.057057,    0.058058,    0.059059,     0.06006,    0.061061,    0.062062,    0.063063,    0.064064,    0.065065,    0.066066,    0.067067,    0.068068,    0.069069,     0.07007,    0.071071,\n",
       "          0.072072,    0.073073,    0.074074,    0.075075,    0.076076,    0.077077,    0.078078,    0.079079,     0.08008,    0.081081,    0.082082,    0.083083,    0.084084,    0.085085,    0.086086,    0.087087,    0.088088,    0.089089,     0.09009,    0.091091,    0.092092,    0.093093,    0.094094,    0.095095,\n",
       "          0.096096,    0.097097,    0.098098,    0.099099,      0.1001,      0.1011,      0.1021,      0.1031,      0.1041,     0.10511,     0.10611,     0.10711,     0.10811,     0.10911,     0.11011,     0.11111,     0.11211,     0.11311,     0.11411,     0.11512,     0.11612,     0.11712,     0.11812,     0.11912,\n",
       "           0.12012,     0.12112,     0.12212,     0.12312,     0.12412,     0.12513,     0.12613,     0.12713,     0.12813,     0.12913,     0.13013,     0.13113,     0.13213,     0.13313,     0.13413,     0.13514,     0.13614,     0.13714,     0.13814,     0.13914,     0.14014,     0.14114,     0.14214,     0.14314,\n",
       "           0.14414,     0.14515,     0.14615,     0.14715,     0.14815,     0.14915,     0.15015,     0.15115,     0.15215,     0.15315,     0.15415,     0.15516,     0.15616,     0.15716,     0.15816,     0.15916,     0.16016,     0.16116,     0.16216,     0.16316,     0.16416,     0.16517,     0.16617,     0.16717,\n",
       "           0.16817,     0.16917,     0.17017,     0.17117,     0.17217,     0.17317,     0.17417,     0.17518,     0.17618,     0.17718,     0.17818,     0.17918,     0.18018,     0.18118,     0.18218,     0.18318,     0.18418,     0.18519,     0.18619,     0.18719,     0.18819,     0.18919,     0.19019,     0.19119,\n",
       "           0.19219,     0.19319,     0.19419,      0.1952,      0.1962,      0.1972,      0.1982,      0.1992,      0.2002,      0.2012,      0.2022,      0.2032,      0.2042,     0.20521,     0.20621,     0.20721,     0.20821,     0.20921,     0.21021,     0.21121,     0.21221,     0.21321,     0.21421,     0.21522,\n",
       "           0.21622,     0.21722,     0.21822,     0.21922,     0.22022,     0.22122,     0.22222,     0.22322,     0.22422,     0.22523,     0.22623,     0.22723,     0.22823,     0.22923,     0.23023,     0.23123,     0.23223,     0.23323,     0.23423,     0.23524,     0.23624,     0.23724,     0.23824,     0.23924,\n",
       "           0.24024,     0.24124,     0.24224,     0.24324,     0.24424,     0.24525,     0.24625,     0.24725,     0.24825,     0.24925,     0.25025,     0.25125,     0.25225,     0.25325,     0.25425,     0.25526,     0.25626,     0.25726,     0.25826,     0.25926,     0.26026,     0.26126,     0.26226,     0.26326,\n",
       "           0.26426,     0.26527,     0.26627,     0.26727,     0.26827,     0.26927,     0.27027,     0.27127,     0.27227,     0.27327,     0.27427,     0.27528,     0.27628,     0.27728,     0.27828,     0.27928,     0.28028,     0.28128,     0.28228,     0.28328,     0.28428,     0.28529,     0.28629,     0.28729,\n",
       "           0.28829,     0.28929,     0.29029,     0.29129,     0.29229,     0.29329,     0.29429,      0.2953,      0.2963,      0.2973,      0.2983,      0.2993,      0.3003,      0.3013,      0.3023,      0.3033,      0.3043,     0.30531,     0.30631,     0.30731,     0.30831,     0.30931,     0.31031,     0.31131,\n",
       "           0.31231,     0.31331,     0.31431,     0.31532,     0.31632,     0.31732,     0.31832,     0.31932,     0.32032,     0.32132,     0.32232,     0.32332,     0.32432,     0.32533,     0.32633,     0.32733,     0.32833,     0.32933,     0.33033,     0.33133,     0.33233,     0.33333,     0.33433,     0.33534,\n",
       "           0.33634,     0.33734,     0.33834,     0.33934,     0.34034,     0.34134,     0.34234,     0.34334,     0.34434,     0.34535,     0.34635,     0.34735,     0.34835,     0.34935,     0.35035,     0.35135,     0.35235,     0.35335,     0.35435,     0.35536,     0.35636,     0.35736,     0.35836,     0.35936,\n",
       "           0.36036,     0.36136,     0.36236,     0.36336,     0.36436,     0.36537,     0.36637,     0.36737,     0.36837,     0.36937,     0.37037,     0.37137,     0.37237,     0.37337,     0.37437,     0.37538,     0.37638,     0.37738,     0.37838,     0.37938,     0.38038,     0.38138,     0.38238,     0.38338,\n",
       "           0.38438,     0.38539,     0.38639,     0.38739,     0.38839,     0.38939,     0.39039,     0.39139,     0.39239,     0.39339,     0.39439,      0.3954,      0.3964,      0.3974,      0.3984,      0.3994,      0.4004,      0.4014,      0.4024,      0.4034,      0.4044,     0.40541,     0.40641,     0.40741,\n",
       "           0.40841,     0.40941,     0.41041,     0.41141,     0.41241,     0.41341,     0.41441,     0.41542,     0.41642,     0.41742,     0.41842,     0.41942,     0.42042,     0.42142,     0.42242,     0.42342,     0.42442,     0.42543,     0.42643,     0.42743,     0.42843,     0.42943,     0.43043,     0.43143,\n",
       "           0.43243,     0.43343,     0.43443,     0.43544,     0.43644,     0.43744,     0.43844,     0.43944,     0.44044,     0.44144,     0.44244,     0.44344,     0.44444,     0.44545,     0.44645,     0.44745,     0.44845,     0.44945,     0.45045,     0.45145,     0.45245,     0.45345,     0.45445,     0.45546,\n",
       "           0.45646,     0.45746,     0.45846,     0.45946,     0.46046,     0.46146,     0.46246,     0.46346,     0.46446,     0.46547,     0.46647,     0.46747,     0.46847,     0.46947,     0.47047,     0.47147,     0.47247,     0.47347,     0.47447,     0.47548,     0.47648,     0.47748,     0.47848,     0.47948,\n",
       "           0.48048,     0.48148,     0.48248,     0.48348,     0.48448,     0.48549,     0.48649,     0.48749,     0.48849,     0.48949,     0.49049,     0.49149,     0.49249,     0.49349,     0.49449,      0.4955,      0.4965,      0.4975,      0.4985,      0.4995,      0.5005,      0.5015,      0.5025,      0.5035,\n",
       "            0.5045,     0.50551,     0.50651,     0.50751,     0.50851,     0.50951,     0.51051,     0.51151,     0.51251,     0.51351,     0.51451,     0.51552,     0.51652,     0.51752,     0.51852,     0.51952,     0.52052,     0.52152,     0.52252,     0.52352,     0.52452,     0.52553,     0.52653,     0.52753,\n",
       "           0.52853,     0.52953,     0.53053,     0.53153,     0.53253,     0.53353,     0.53453,     0.53554,     0.53654,     0.53754,     0.53854,     0.53954,     0.54054,     0.54154,     0.54254,     0.54354,     0.54454,     0.54555,     0.54655,     0.54755,     0.54855,     0.54955,     0.55055,     0.55155,\n",
       "           0.55255,     0.55355,     0.55455,     0.55556,     0.55656,     0.55756,     0.55856,     0.55956,     0.56056,     0.56156,     0.56256,     0.56356,     0.56456,     0.56557,     0.56657,     0.56757,     0.56857,     0.56957,     0.57057,     0.57157,     0.57257,     0.57357,     0.57457,     0.57558,\n",
       "           0.57658,     0.57758,     0.57858,     0.57958,     0.58058,     0.58158,     0.58258,     0.58358,     0.58458,     0.58559,     0.58659,     0.58759,     0.58859,     0.58959,     0.59059,     0.59159,     0.59259,     0.59359,     0.59459,      0.5956,      0.5966,      0.5976,      0.5986,      0.5996,\n",
       "            0.6006,      0.6016,      0.6026,      0.6036,      0.6046,     0.60561,     0.60661,     0.60761,     0.60861,     0.60961,     0.61061,     0.61161,     0.61261,     0.61361,     0.61461,     0.61562,     0.61662,     0.61762,     0.61862,     0.61962,     0.62062,     0.62162,     0.62262,     0.62362,\n",
       "           0.62462,     0.62563,     0.62663,     0.62763,     0.62863,     0.62963,     0.63063,     0.63163,     0.63263,     0.63363,     0.63463,     0.63564,     0.63664,     0.63764,     0.63864,     0.63964,     0.64064,     0.64164,     0.64264,     0.64364,     0.64464,     0.64565,     0.64665,     0.64765,\n",
       "           0.64865,     0.64965,     0.65065,     0.65165,     0.65265,     0.65365,     0.65465,     0.65566,     0.65666,     0.65766,     0.65866,     0.65966,     0.66066,     0.66166,     0.66266,     0.66366,     0.66466,     0.66567,     0.66667,     0.66767,     0.66867,     0.66967,     0.67067,     0.67167,\n",
       "           0.67267,     0.67367,     0.67467,     0.67568,     0.67668,     0.67768,     0.67868,     0.67968,     0.68068,     0.68168,     0.68268,     0.68368,     0.68468,     0.68569,     0.68669,     0.68769,     0.68869,     0.68969,     0.69069,     0.69169,     0.69269,     0.69369,     0.69469,      0.6957,\n",
       "            0.6967,      0.6977,      0.6987,      0.6997,      0.7007,      0.7017,      0.7027,      0.7037,      0.7047,     0.70571,     0.70671,     0.70771,     0.70871,     0.70971,     0.71071,     0.71171,     0.71271,     0.71371,     0.71471,     0.71572,     0.71672,     0.71772,     0.71872,     0.71972,\n",
       "           0.72072,     0.72172,     0.72272,     0.72372,     0.72472,     0.72573,     0.72673,     0.72773,     0.72873,     0.72973,     0.73073,     0.73173,     0.73273,     0.73373,     0.73473,     0.73574,     0.73674,     0.73774,     0.73874,     0.73974,     0.74074,     0.74174,     0.74274,     0.74374,\n",
       "           0.74474,     0.74575,     0.74675,     0.74775,     0.74875,     0.74975,     0.75075,     0.75175,     0.75275,     0.75375,     0.75475,     0.75576,     0.75676,     0.75776,     0.75876,     0.75976,     0.76076,     0.76176,     0.76276,     0.76376,     0.76476,     0.76577,     0.76677,     0.76777,\n",
       "           0.76877,     0.76977,     0.77077,     0.77177,     0.77277,     0.77377,     0.77477,     0.77578,     0.77678,     0.77778,     0.77878,     0.77978,     0.78078,     0.78178,     0.78278,     0.78378,     0.78478,     0.78579,     0.78679,     0.78779,     0.78879,     0.78979,     0.79079,     0.79179,\n",
       "           0.79279,     0.79379,     0.79479,      0.7958,      0.7968,      0.7978,      0.7988,      0.7998,      0.8008,      0.8018,      0.8028,      0.8038,      0.8048,     0.80581,     0.80681,     0.80781,     0.80881,     0.80981,     0.81081,     0.81181,     0.81281,     0.81381,     0.81481,     0.81582,\n",
       "           0.81682,     0.81782,     0.81882,     0.81982,     0.82082,     0.82182,     0.82282,     0.82382,     0.82482,     0.82583,     0.82683,     0.82783,     0.82883,     0.82983,     0.83083,     0.83183,     0.83283,     0.83383,     0.83483,     0.83584,     0.83684,     0.83784,     0.83884,     0.83984,\n",
       "           0.84084,     0.84184,     0.84284,     0.84384,     0.84484,     0.84585,     0.84685,     0.84785,     0.84885,     0.84985,     0.85085,     0.85185,     0.85285,     0.85385,     0.85485,     0.85586,     0.85686,     0.85786,     0.85886,     0.85986,     0.86086,     0.86186,     0.86286,     0.86386,\n",
       "           0.86486,     0.86587,     0.86687,     0.86787,     0.86887,     0.86987,     0.87087,     0.87187,     0.87287,     0.87387,     0.87487,     0.87588,     0.87688,     0.87788,     0.87888,     0.87988,     0.88088,     0.88188,     0.88288,     0.88388,     0.88488,     0.88589,     0.88689,     0.88789,\n",
       "           0.88889,     0.88989,     0.89089,     0.89189,     0.89289,     0.89389,     0.89489,      0.8959,      0.8969,      0.8979,      0.8989,      0.8999,      0.9009,      0.9019,      0.9029,      0.9039,      0.9049,     0.90591,     0.90691,     0.90791,     0.90891,     0.90991,     0.91091,     0.91191,\n",
       "           0.91291,     0.91391,     0.91491,     0.91592,     0.91692,     0.91792,     0.91892,     0.91992,     0.92092,     0.92192,     0.92292,     0.92392,     0.92492,     0.92593,     0.92693,     0.92793,     0.92893,     0.92993,     0.93093,     0.93193,     0.93293,     0.93393,     0.93493,     0.93594,\n",
       "           0.93694,     0.93794,     0.93894,     0.93994,     0.94094,     0.94194,     0.94294,     0.94394,     0.94494,     0.94595,     0.94695,     0.94795,     0.94895,     0.94995,     0.95095,     0.95195,     0.95295,     0.95395,     0.95495,     0.95596,     0.95696,     0.95796,     0.95896,     0.95996,\n",
       "           0.96096,     0.96196,     0.96296,     0.96396,     0.96496,     0.96597,     0.96697,     0.96797,     0.96897,     0.96997,     0.97097,     0.97197,     0.97297,     0.97397,     0.97497,     0.97598,     0.97698,     0.97798,     0.97898,     0.97998,     0.98098,     0.98198,     0.98298,     0.98398,\n",
       "           0.98498,     0.98599,     0.98699,     0.98799,     0.98899,     0.98999,     0.99099,     0.99199,     0.99299,     0.99399,     0.99499,       0.996,       0.997,       0.998,       0.999,           1]), array([[    0.25397,     0.25397,     0.51788,     0.60079,     0.72623,     0.78851,      0.8964,      0.9145,     0.93201,     0.94121,     0.94128,     0.94135,     0.94143,      0.9415,     0.94157,     0.94164,     0.94171,     0.94178,     0.94186,     0.94193,       0.942,     0.94207,     0.94214,\n",
       "            0.94221,     0.94229,     0.94236,     0.94243,      0.9425,     0.94257,     0.94264,     0.94272,     0.94279,     0.94286,     0.94293,       0.943,     0.94307,     0.94314,     0.94322,     0.94329,     0.94336,     0.94343,      0.9435,     0.94357,     0.94364,     0.94372,     0.94379,\n",
       "            0.94386,     0.94393,       0.944,     0.94407,     0.94414,     0.94422,     0.94429,     0.94436,     0.94443,      0.9445,     0.94457,     0.94464,     0.94472,     0.94479,     0.94486,     0.94493,       0.945,     0.94507,     0.94514,     0.94521,     0.94529,     0.94536,     0.94543,\n",
       "             0.9455,     0.94557,     0.94564,     0.94571,     0.94578,     0.94586,     0.94593,       0.946,     0.94607,     0.94614,     0.94621,     0.94628,     0.94635,     0.94642,      0.9465,     0.94657,     0.94664,     0.94671,     0.94678,     0.94685,     0.94692,     0.94699,     0.94706,\n",
       "            0.94713,     0.94721,     0.94728,     0.94735,     0.94742,     0.94749,     0.94756,     0.94763,      0.9477,     0.94777,     0.94784,     0.94792,     0.94799,     0.94806,     0.94813,      0.9482,     0.94827,     0.94834,     0.94841,     0.94848,     0.94855,     0.94862,     0.94869,\n",
       "            0.94877,     0.94884,     0.94891,     0.94898,     0.94905,     0.94912,     0.94919,     0.94926,     0.94933,      0.9494,     0.94947,     0.94954,     0.94961,     0.94968,     0.94975,     0.94983,      0.9499,     0.94997,     0.95004,     0.95011,     0.95018,     0.95025,     0.95032,\n",
       "            0.95039,     0.95046,     0.95053,      0.9506,     0.95067,     0.95074,     0.95081,     0.95088,     0.95095,     0.95102,      0.9511,     0.95117,     0.95124,     0.95131,     0.95138,     0.95145,     0.95152,     0.95159,     0.95166,     0.95173,      0.9518,     0.95187,     0.95194,\n",
       "            0.95201,     0.95208,     0.95215,     0.95222,     0.95229,     0.95236,     0.95243,      0.9525,     0.95257,     0.95264,     0.95271,     0.95278,     0.95285,     0.95292,     0.95299,     0.95306,     0.95313,      0.9532,     0.95327,     0.95334,     0.95342,     0.95349,     0.95356,\n",
       "            0.95363,      0.9537,     0.95377,     0.95384,     0.95391,     0.95398,     0.95405,     0.95412,     0.95419,     0.95426,     0.95433,      0.9544,     0.95447,     0.95454,     0.95461,     0.95468,     0.95475,     0.95482,     0.95489,     0.95496,     0.95503,      0.9551,     0.95517,\n",
       "            0.95524,     0.95531,     0.95538,     0.95545,     0.95552,     0.95559,     0.95565,     0.95572,     0.95579,     0.95586,     0.95593,       0.956,     0.95607,     0.95614,     0.95621,     0.95628,     0.95635,     0.95642,     0.95649,     0.95656,     0.95663,      0.9567,     0.95677,\n",
       "            0.95684,     0.95691,     0.95698,     0.95705,     0.95712,     0.95719,     0.95726,     0.95733,      0.9574,     0.95747,     0.95754,     0.95761,     0.95768,     0.95775,     0.95782,     0.95789,     0.95795,     0.95802,     0.95809,     0.95816,     0.95823,      0.9583,     0.95837,\n",
       "            0.95844,     0.95851,     0.95858,     0.95865,     0.95872,     0.95879,     0.95886,     0.95893,       0.959,     0.95907,     0.95914,      0.9592,     0.95927,     0.95934,     0.95941,     0.95948,     0.95955,     0.95962,     0.95969,     0.95976,     0.95983,      0.9599,     0.95997,\n",
       "            0.96004,     0.96011,     0.96018,     0.96024,     0.96031,     0.96038,     0.96045,     0.96052,     0.96059,     0.96066,     0.96073,      0.9608,     0.96087,     0.96094,     0.96101,     0.96107,     0.96114,     0.96121,     0.96128,     0.96135,     0.96142,     0.96149,     0.96156,\n",
       "            0.96163,      0.9617,     0.96177,     0.96183,      0.9619,     0.96197,     0.96204,     0.96211,     0.96218,     0.96225,     0.96232,     0.96239,     0.96246,     0.96252,     0.96259,     0.96266,     0.96273,      0.9628,     0.96287,     0.96294,     0.96301,     0.96308,     0.96314,\n",
       "            0.96321,     0.96328,     0.96335,     0.96342,     0.96349,     0.96356,     0.96363,     0.96369,     0.96376,     0.96383,      0.9639,     0.96397,     0.96404,     0.96411,     0.96418,     0.96424,     0.96431,     0.96438,     0.96445,     0.96452,     0.96459,     0.96466,     0.96472,\n",
       "            0.96479,     0.96486,     0.96493,       0.965,     0.96507,     0.96514,     0.96521,     0.96527,     0.96534,     0.96541,     0.96548,     0.96555,     0.96562,     0.96568,     0.96575,     0.96582,     0.96589,     0.96596,     0.96603,      0.9661,     0.96616,     0.96623,      0.9663,\n",
       "            0.96637,     0.96644,     0.96651,     0.96657,     0.96664,     0.96671,     0.96678,     0.96685,     0.96692,     0.96698,     0.96705,     0.96712,     0.96719,     0.96726,     0.96733,     0.96739,     0.96746,     0.96753,      0.9676,     0.96767,     0.96774,      0.9678,     0.96787,\n",
       "            0.96794,     0.96801,     0.96808,     0.96815,     0.96821,     0.96828,     0.96835,     0.96842,     0.96849,     0.96855,     0.96862,     0.96869,     0.96876,     0.96883,     0.96889,     0.96896,     0.96903,      0.9691,     0.96917,     0.96924,      0.9693,     0.96937,     0.96944,\n",
       "            0.96951,     0.96958,     0.96964,     0.96971,     0.96978,     0.96985,     0.96992,     0.96998,     0.97005,     0.97012,     0.97019,     0.97025,     0.97032,     0.97039,     0.97046,     0.97053,     0.97059,     0.97066,     0.97073,      0.9708,     0.97087,     0.97093,       0.971,\n",
       "            0.97107,     0.97114,      0.9712,     0.97127,     0.97134,     0.97141,     0.97148,     0.97154,     0.97161,     0.97168,     0.97175,     0.97181,     0.97188,     0.97195,     0.97202,     0.97208,     0.97215,     0.97222,     0.97229,     0.97236,     0.97242,     0.97249,     0.97256,\n",
       "            0.97263,     0.97269,     0.97276,     0.97283,      0.9729,     0.97296,     0.97303,      0.9731,     0.97317,     0.97323,      0.9733,     0.97337,     0.97344,      0.9735,     0.97357,     0.97364,     0.97371,     0.97377,     0.97384,     0.97391,     0.97398,     0.97404,     0.97411,\n",
       "            0.97418,     0.97425,     0.97431,     0.97438,     0.97445,     0.97452,     0.97458,     0.97465,     0.97472,     0.97478,     0.97485,     0.97492,     0.97499,     0.97505,     0.97512,     0.97519,     0.97526,     0.97532,     0.97539,     0.97546,     0.97552,     0.97559,     0.97566,\n",
       "            0.97573,     0.97579,     0.97586,     0.97593,     0.97599,     0.97606,     0.97613,      0.9762,     0.97626,     0.97633,      0.9764,     0.97646,     0.97653,      0.9766,     0.97667,     0.97673,      0.9768,     0.97687,     0.97693,       0.977,     0.97707,     0.97713,      0.9772,\n",
       "            0.97727,     0.97734,      0.9774,     0.97747,     0.97754,      0.9776,     0.97767,     0.97774,      0.9778,     0.97787,     0.97794,       0.978,     0.97807,     0.97814,     0.97821,     0.97827,     0.97834,     0.97841,     0.97847,     0.97854,     0.97861,     0.97867,     0.97874,\n",
       "            0.97881,     0.97887,     0.97894,     0.97901,     0.97907,     0.97914,     0.97921,     0.97927,     0.97934,     0.97941,     0.97947,     0.97954,     0.97961,     0.97967,     0.97974,     0.97981,     0.97987,     0.97994,     0.98001,     0.98007,     0.98014,     0.98021,     0.98027,\n",
       "            0.98034,     0.98041,     0.98047,     0.98054,     0.98061,     0.98067,     0.98074,     0.98081,     0.98087,     0.98094,     0.98101,     0.98107,     0.98114,     0.98121,     0.98127,     0.98134,      0.9814,     0.98147,     0.98154,      0.9816,     0.98167,     0.98174,      0.9818,\n",
       "            0.98187,     0.98194,       0.982,     0.98207,     0.98214,      0.9822,     0.98227,     0.98233,      0.9824,     0.98247,     0.98253,      0.9826,     0.98267,     0.98273,      0.9828,     0.98286,     0.98293,       0.983,     0.98306,     0.98313,      0.9832,     0.98326,     0.98333,\n",
       "            0.98339,     0.98346,     0.98353,     0.98359,     0.98366,     0.98372,     0.98379,     0.98386,     0.98392,     0.98399,     0.98406,     0.98412,     0.98419,     0.98425,     0.98432,     0.98439,     0.98445,     0.98452,     0.98458,     0.98465,     0.98472,     0.98478,     0.98485,\n",
       "            0.98491,     0.98498,     0.98505,     0.98511,     0.98518,     0.98524,     0.98531,     0.98538,     0.98544,     0.98551,     0.98557,     0.98564,     0.98571,     0.98577,     0.98584,      0.9859,     0.98597,     0.98603,      0.9861,     0.98617,     0.98623,      0.9863,     0.98636,\n",
       "            0.98643,      0.9865,     0.98656,     0.98663,     0.98669,     0.98676,     0.98682,     0.98689,     0.98696,     0.98702,     0.98709,     0.98715,     0.98722,     0.98728,     0.98735,     0.98742,     0.98748,     0.98755,     0.98761,     0.98768,     0.98774,     0.98781,     0.98787,\n",
       "            0.98794,     0.98801,     0.98807,     0.98814,      0.9882,     0.98827,     0.98833,      0.9884,     0.98846,     0.98853,      0.9886,     0.98866,     0.98873,     0.98879,     0.98886,     0.98892,     0.98899,     0.98905,     0.98912,     0.98919,     0.98925,     0.98932,     0.98938,\n",
       "            0.98945,     0.98951,     0.98958,     0.98964,     0.98971,     0.98977,     0.98984,      0.9899,     0.98997,     0.99003,      0.9901,     0.99017,     0.99023,      0.9903,     0.99036,     0.99043,     0.99049,     0.99056,     0.99062,     0.99069,     0.99075,     0.99082,     0.99088,\n",
       "            0.99095,     0.99101,     0.99108,     0.99114,     0.99121,     0.99127,     0.99134,      0.9914,     0.99147,     0.99154,      0.9916,     0.99167,     0.99173,      0.9918,     0.99186,     0.99193,     0.99199,     0.99206,     0.99212,     0.99219,     0.99225,     0.99232,     0.99238,\n",
       "            0.99245,     0.99251,     0.99258,     0.99264,     0.99271,     0.99277,     0.99284,      0.9929,     0.99297,     0.99303,      0.9931,     0.99316,     0.99323,     0.99329,     0.99336,     0.99342,     0.99349,     0.99355,     0.99361,     0.99368,     0.99374,     0.99381,     0.99387,\n",
       "            0.99394,       0.994,     0.99407,     0.99413,      0.9942,     0.99426,     0.99433,     0.99439,     0.99446,     0.99452,     0.99459,     0.99465,     0.99472,     0.99478,     0.99485,     0.99491,     0.99498,     0.99504,      0.9951,     0.99517,     0.99523,      0.9953,     0.99536,\n",
       "            0.99543,     0.99549,     0.99556,     0.99562,     0.99569,     0.99575,     0.99582,     0.99588,     0.99594,     0.99601,     0.99607,     0.99614,      0.9962,     0.99627,     0.99633,      0.9964,     0.99646,     0.99653,     0.99659,     0.99665,     0.99672,     0.99678,     0.99685,\n",
       "            0.99691,     0.99698,     0.99704,     0.99711,     0.99717,     0.99723,      0.9973,     0.99736,     0.99743,     0.99749,     0.99756,     0.99762,     0.99768,     0.99775,     0.99781,     0.99788,     0.99794,     0.99801,     0.99807,     0.99813,      0.9982,     0.99826,     0.99833,\n",
       "            0.99839,     0.99846,     0.99852,     0.99858,     0.99865,     0.99871,     0.99878,     0.99884,     0.99891,     0.99897,     0.99903,      0.9991,     0.99916,     0.99923,     0.99929,     0.99935,     0.99942,     0.99948,     0.99955,     0.99961,     0.99967,     0.99974,      0.9998,\n",
       "            0.99987,     0.99993,           1,     0.99724,     0.99423,     0.99121,     0.98817,     0.98511,     0.98203,     0.97893,     0.97582,     0.97268,     0.96953,     0.96635,     0.96316,     0.95995,     0.95671,     0.95346,     0.95019,     0.94689,     0.94358,     0.94024,     0.93689,\n",
       "            0.93351,     0.92336,     0.91265,     0.90172,     0.89057,     0.87919,     0.86757,     0.85428,     0.82973,     0.80412,     0.77735,     0.76519,     0.75942,     0.75359,     0.74771,     0.74177,     0.73578,     0.72973,     0.72362,     0.71745,     0.71122,     0.70493,     0.69858,\n",
       "            0.69216,     0.68569,     0.67914,     0.67254,     0.63873,     0.54081,      0.5334,     0.52591,     0.51835,      0.5107,     0.50298,     0.49518,      0.4873,     0.47933,     0.47128,     0.46315,     0.45493,     0.44661,     0.43821,     0.42972,     0.42114,     0.41246,     0.40368,\n",
       "            0.36742,     0.30845,     0.24506,           0,           0,           0,           0,           0,           0,           0,           0,           0,           0,           0,           0,           0,           0,           0,           0,           0,           0,           0,           0,\n",
       "                  0,           0,           0,           0,           0,           0,           0,           0,           0,           0,           0,           0,           0,           0,           0,           0,           0,           0,           0,           0,           0,           0,           0,\n",
       "                  0,           0,           0,           0,           0,           0,           0,           0,           0,           0,           0]]), 'Confidence', 'F1'], [array([          0,    0.001001,    0.002002,    0.003003,    0.004004,    0.005005,    0.006006,    0.007007,    0.008008,    0.009009,     0.01001,    0.011011,    0.012012,    0.013013,    0.014014,    0.015015,    0.016016,    0.017017,    0.018018,    0.019019,     0.02002,    0.021021,    0.022022,    0.023023,\n",
       "          0.024024,    0.025025,    0.026026,    0.027027,    0.028028,    0.029029,     0.03003,    0.031031,    0.032032,    0.033033,    0.034034,    0.035035,    0.036036,    0.037037,    0.038038,    0.039039,     0.04004,    0.041041,    0.042042,    0.043043,    0.044044,    0.045045,    0.046046,    0.047047,\n",
       "          0.048048,    0.049049,     0.05005,    0.051051,    0.052052,    0.053053,    0.054054,    0.055055,    0.056056,    0.057057,    0.058058,    0.059059,     0.06006,    0.061061,    0.062062,    0.063063,    0.064064,    0.065065,    0.066066,    0.067067,    0.068068,    0.069069,     0.07007,    0.071071,\n",
       "          0.072072,    0.073073,    0.074074,    0.075075,    0.076076,    0.077077,    0.078078,    0.079079,     0.08008,    0.081081,    0.082082,    0.083083,    0.084084,    0.085085,    0.086086,    0.087087,    0.088088,    0.089089,     0.09009,    0.091091,    0.092092,    0.093093,    0.094094,    0.095095,\n",
       "          0.096096,    0.097097,    0.098098,    0.099099,      0.1001,      0.1011,      0.1021,      0.1031,      0.1041,     0.10511,     0.10611,     0.10711,     0.10811,     0.10911,     0.11011,     0.11111,     0.11211,     0.11311,     0.11411,     0.11512,     0.11612,     0.11712,     0.11812,     0.11912,\n",
       "           0.12012,     0.12112,     0.12212,     0.12312,     0.12412,     0.12513,     0.12613,     0.12713,     0.12813,     0.12913,     0.13013,     0.13113,     0.13213,     0.13313,     0.13413,     0.13514,     0.13614,     0.13714,     0.13814,     0.13914,     0.14014,     0.14114,     0.14214,     0.14314,\n",
       "           0.14414,     0.14515,     0.14615,     0.14715,     0.14815,     0.14915,     0.15015,     0.15115,     0.15215,     0.15315,     0.15415,     0.15516,     0.15616,     0.15716,     0.15816,     0.15916,     0.16016,     0.16116,     0.16216,     0.16316,     0.16416,     0.16517,     0.16617,     0.16717,\n",
       "           0.16817,     0.16917,     0.17017,     0.17117,     0.17217,     0.17317,     0.17417,     0.17518,     0.17618,     0.17718,     0.17818,     0.17918,     0.18018,     0.18118,     0.18218,     0.18318,     0.18418,     0.18519,     0.18619,     0.18719,     0.18819,     0.18919,     0.19019,     0.19119,\n",
       "           0.19219,     0.19319,     0.19419,      0.1952,      0.1962,      0.1972,      0.1982,      0.1992,      0.2002,      0.2012,      0.2022,      0.2032,      0.2042,     0.20521,     0.20621,     0.20721,     0.20821,     0.20921,     0.21021,     0.21121,     0.21221,     0.21321,     0.21421,     0.21522,\n",
       "           0.21622,     0.21722,     0.21822,     0.21922,     0.22022,     0.22122,     0.22222,     0.22322,     0.22422,     0.22523,     0.22623,     0.22723,     0.22823,     0.22923,     0.23023,     0.23123,     0.23223,     0.23323,     0.23423,     0.23524,     0.23624,     0.23724,     0.23824,     0.23924,\n",
       "           0.24024,     0.24124,     0.24224,     0.24324,     0.24424,     0.24525,     0.24625,     0.24725,     0.24825,     0.24925,     0.25025,     0.25125,     0.25225,     0.25325,     0.25425,     0.25526,     0.25626,     0.25726,     0.25826,     0.25926,     0.26026,     0.26126,     0.26226,     0.26326,\n",
       "           0.26426,     0.26527,     0.26627,     0.26727,     0.26827,     0.26927,     0.27027,     0.27127,     0.27227,     0.27327,     0.27427,     0.27528,     0.27628,     0.27728,     0.27828,     0.27928,     0.28028,     0.28128,     0.28228,     0.28328,     0.28428,     0.28529,     0.28629,     0.28729,\n",
       "           0.28829,     0.28929,     0.29029,     0.29129,     0.29229,     0.29329,     0.29429,      0.2953,      0.2963,      0.2973,      0.2983,      0.2993,      0.3003,      0.3013,      0.3023,      0.3033,      0.3043,     0.30531,     0.30631,     0.30731,     0.30831,     0.30931,     0.31031,     0.31131,\n",
       "           0.31231,     0.31331,     0.31431,     0.31532,     0.31632,     0.31732,     0.31832,     0.31932,     0.32032,     0.32132,     0.32232,     0.32332,     0.32432,     0.32533,     0.32633,     0.32733,     0.32833,     0.32933,     0.33033,     0.33133,     0.33233,     0.33333,     0.33433,     0.33534,\n",
       "           0.33634,     0.33734,     0.33834,     0.33934,     0.34034,     0.34134,     0.34234,     0.34334,     0.34434,     0.34535,     0.34635,     0.34735,     0.34835,     0.34935,     0.35035,     0.35135,     0.35235,     0.35335,     0.35435,     0.35536,     0.35636,     0.35736,     0.35836,     0.35936,\n",
       "           0.36036,     0.36136,     0.36236,     0.36336,     0.36436,     0.36537,     0.36637,     0.36737,     0.36837,     0.36937,     0.37037,     0.37137,     0.37237,     0.37337,     0.37437,     0.37538,     0.37638,     0.37738,     0.37838,     0.37938,     0.38038,     0.38138,     0.38238,     0.38338,\n",
       "           0.38438,     0.38539,     0.38639,     0.38739,     0.38839,     0.38939,     0.39039,     0.39139,     0.39239,     0.39339,     0.39439,      0.3954,      0.3964,      0.3974,      0.3984,      0.3994,      0.4004,      0.4014,      0.4024,      0.4034,      0.4044,     0.40541,     0.40641,     0.40741,\n",
       "           0.40841,     0.40941,     0.41041,     0.41141,     0.41241,     0.41341,     0.41441,     0.41542,     0.41642,     0.41742,     0.41842,     0.41942,     0.42042,     0.42142,     0.42242,     0.42342,     0.42442,     0.42543,     0.42643,     0.42743,     0.42843,     0.42943,     0.43043,     0.43143,\n",
       "           0.43243,     0.43343,     0.43443,     0.43544,     0.43644,     0.43744,     0.43844,     0.43944,     0.44044,     0.44144,     0.44244,     0.44344,     0.44444,     0.44545,     0.44645,     0.44745,     0.44845,     0.44945,     0.45045,     0.45145,     0.45245,     0.45345,     0.45445,     0.45546,\n",
       "           0.45646,     0.45746,     0.45846,     0.45946,     0.46046,     0.46146,     0.46246,     0.46346,     0.46446,     0.46547,     0.46647,     0.46747,     0.46847,     0.46947,     0.47047,     0.47147,     0.47247,     0.47347,     0.47447,     0.47548,     0.47648,     0.47748,     0.47848,     0.47948,\n",
       "           0.48048,     0.48148,     0.48248,     0.48348,     0.48448,     0.48549,     0.48649,     0.48749,     0.48849,     0.48949,     0.49049,     0.49149,     0.49249,     0.49349,     0.49449,      0.4955,      0.4965,      0.4975,      0.4985,      0.4995,      0.5005,      0.5015,      0.5025,      0.5035,\n",
       "            0.5045,     0.50551,     0.50651,     0.50751,     0.50851,     0.50951,     0.51051,     0.51151,     0.51251,     0.51351,     0.51451,     0.51552,     0.51652,     0.51752,     0.51852,     0.51952,     0.52052,     0.52152,     0.52252,     0.52352,     0.52452,     0.52553,     0.52653,     0.52753,\n",
       "           0.52853,     0.52953,     0.53053,     0.53153,     0.53253,     0.53353,     0.53453,     0.53554,     0.53654,     0.53754,     0.53854,     0.53954,     0.54054,     0.54154,     0.54254,     0.54354,     0.54454,     0.54555,     0.54655,     0.54755,     0.54855,     0.54955,     0.55055,     0.55155,\n",
       "           0.55255,     0.55355,     0.55455,     0.55556,     0.55656,     0.55756,     0.55856,     0.55956,     0.56056,     0.56156,     0.56256,     0.56356,     0.56456,     0.56557,     0.56657,     0.56757,     0.56857,     0.56957,     0.57057,     0.57157,     0.57257,     0.57357,     0.57457,     0.57558,\n",
       "           0.57658,     0.57758,     0.57858,     0.57958,     0.58058,     0.58158,     0.58258,     0.58358,     0.58458,     0.58559,     0.58659,     0.58759,     0.58859,     0.58959,     0.59059,     0.59159,     0.59259,     0.59359,     0.59459,      0.5956,      0.5966,      0.5976,      0.5986,      0.5996,\n",
       "            0.6006,      0.6016,      0.6026,      0.6036,      0.6046,     0.60561,     0.60661,     0.60761,     0.60861,     0.60961,     0.61061,     0.61161,     0.61261,     0.61361,     0.61461,     0.61562,     0.61662,     0.61762,     0.61862,     0.61962,     0.62062,     0.62162,     0.62262,     0.62362,\n",
       "           0.62462,     0.62563,     0.62663,     0.62763,     0.62863,     0.62963,     0.63063,     0.63163,     0.63263,     0.63363,     0.63463,     0.63564,     0.63664,     0.63764,     0.63864,     0.63964,     0.64064,     0.64164,     0.64264,     0.64364,     0.64464,     0.64565,     0.64665,     0.64765,\n",
       "           0.64865,     0.64965,     0.65065,     0.65165,     0.65265,     0.65365,     0.65465,     0.65566,     0.65666,     0.65766,     0.65866,     0.65966,     0.66066,     0.66166,     0.66266,     0.66366,     0.66466,     0.66567,     0.66667,     0.66767,     0.66867,     0.66967,     0.67067,     0.67167,\n",
       "           0.67267,     0.67367,     0.67467,     0.67568,     0.67668,     0.67768,     0.67868,     0.67968,     0.68068,     0.68168,     0.68268,     0.68368,     0.68468,     0.68569,     0.68669,     0.68769,     0.68869,     0.68969,     0.69069,     0.69169,     0.69269,     0.69369,     0.69469,      0.6957,\n",
       "            0.6967,      0.6977,      0.6987,      0.6997,      0.7007,      0.7017,      0.7027,      0.7037,      0.7047,     0.70571,     0.70671,     0.70771,     0.70871,     0.70971,     0.71071,     0.71171,     0.71271,     0.71371,     0.71471,     0.71572,     0.71672,     0.71772,     0.71872,     0.71972,\n",
       "           0.72072,     0.72172,     0.72272,     0.72372,     0.72472,     0.72573,     0.72673,     0.72773,     0.72873,     0.72973,     0.73073,     0.73173,     0.73273,     0.73373,     0.73473,     0.73574,     0.73674,     0.73774,     0.73874,     0.73974,     0.74074,     0.74174,     0.74274,     0.74374,\n",
       "           0.74474,     0.74575,     0.74675,     0.74775,     0.74875,     0.74975,     0.75075,     0.75175,     0.75275,     0.75375,     0.75475,     0.75576,     0.75676,     0.75776,     0.75876,     0.75976,     0.76076,     0.76176,     0.76276,     0.76376,     0.76476,     0.76577,     0.76677,     0.76777,\n",
       "           0.76877,     0.76977,     0.77077,     0.77177,     0.77277,     0.77377,     0.77477,     0.77578,     0.77678,     0.77778,     0.77878,     0.77978,     0.78078,     0.78178,     0.78278,     0.78378,     0.78478,     0.78579,     0.78679,     0.78779,     0.78879,     0.78979,     0.79079,     0.79179,\n",
       "           0.79279,     0.79379,     0.79479,      0.7958,      0.7968,      0.7978,      0.7988,      0.7998,      0.8008,      0.8018,      0.8028,      0.8038,      0.8048,     0.80581,     0.80681,     0.80781,     0.80881,     0.80981,     0.81081,     0.81181,     0.81281,     0.81381,     0.81481,     0.81582,\n",
       "           0.81682,     0.81782,     0.81882,     0.81982,     0.82082,     0.82182,     0.82282,     0.82382,     0.82482,     0.82583,     0.82683,     0.82783,     0.82883,     0.82983,     0.83083,     0.83183,     0.83283,     0.83383,     0.83483,     0.83584,     0.83684,     0.83784,     0.83884,     0.83984,\n",
       "           0.84084,     0.84184,     0.84284,     0.84384,     0.84484,     0.84585,     0.84685,     0.84785,     0.84885,     0.84985,     0.85085,     0.85185,     0.85285,     0.85385,     0.85485,     0.85586,     0.85686,     0.85786,     0.85886,     0.85986,     0.86086,     0.86186,     0.86286,     0.86386,\n",
       "           0.86486,     0.86587,     0.86687,     0.86787,     0.86887,     0.86987,     0.87087,     0.87187,     0.87287,     0.87387,     0.87487,     0.87588,     0.87688,     0.87788,     0.87888,     0.87988,     0.88088,     0.88188,     0.88288,     0.88388,     0.88488,     0.88589,     0.88689,     0.88789,\n",
       "           0.88889,     0.88989,     0.89089,     0.89189,     0.89289,     0.89389,     0.89489,      0.8959,      0.8969,      0.8979,      0.8989,      0.8999,      0.9009,      0.9019,      0.9029,      0.9039,      0.9049,     0.90591,     0.90691,     0.90791,     0.90891,     0.90991,     0.91091,     0.91191,\n",
       "           0.91291,     0.91391,     0.91491,     0.91592,     0.91692,     0.91792,     0.91892,     0.91992,     0.92092,     0.92192,     0.92292,     0.92392,     0.92492,     0.92593,     0.92693,     0.92793,     0.92893,     0.92993,     0.93093,     0.93193,     0.93293,     0.93393,     0.93493,     0.93594,\n",
       "           0.93694,     0.93794,     0.93894,     0.93994,     0.94094,     0.94194,     0.94294,     0.94394,     0.94494,     0.94595,     0.94695,     0.94795,     0.94895,     0.94995,     0.95095,     0.95195,     0.95295,     0.95395,     0.95495,     0.95596,     0.95696,     0.95796,     0.95896,     0.95996,\n",
       "           0.96096,     0.96196,     0.96296,     0.96396,     0.96496,     0.96597,     0.96697,     0.96797,     0.96897,     0.96997,     0.97097,     0.97197,     0.97297,     0.97397,     0.97497,     0.97598,     0.97698,     0.97798,     0.97898,     0.97998,     0.98098,     0.98198,     0.98298,     0.98398,\n",
       "           0.98498,     0.98599,     0.98699,     0.98799,     0.98899,     0.98999,     0.99099,     0.99199,     0.99299,     0.99399,     0.99499,       0.996,       0.997,       0.998,       0.999,           1]), array([[    0.14545,     0.14545,     0.34942,     0.42938,     0.57014,     0.65086,     0.81226,     0.84247,     0.87268,     0.88895,     0.88908,      0.8892,     0.88933,     0.88946,     0.88959,     0.88972,     0.88984,     0.88997,      0.8901,     0.89023,     0.89036,     0.89049,     0.89061,\n",
       "            0.89074,     0.89087,       0.891,     0.89113,     0.89125,     0.89138,     0.89151,     0.89164,     0.89177,     0.89189,     0.89202,     0.89215,     0.89228,     0.89241,     0.89253,     0.89266,     0.89279,     0.89292,     0.89305,     0.89317,      0.8933,     0.89343,     0.89356,\n",
       "            0.89369,     0.89382,     0.89394,     0.89407,      0.8942,     0.89433,     0.89446,     0.89458,     0.89471,     0.89484,     0.89497,      0.8951,     0.89522,     0.89535,     0.89548,     0.89561,     0.89574,     0.89586,     0.89599,     0.89612,     0.89625,     0.89638,      0.8965,\n",
       "            0.89663,     0.89676,     0.89689,     0.89702,     0.89715,     0.89727,      0.8974,     0.89753,     0.89766,     0.89779,     0.89791,     0.89804,     0.89817,      0.8983,     0.89843,     0.89855,     0.89868,     0.89881,     0.89894,     0.89907,     0.89919,     0.89932,     0.89945,\n",
       "            0.89958,     0.89971,     0.89983,     0.89996,     0.90009,     0.90022,     0.90035,     0.90048,      0.9006,     0.90073,     0.90086,     0.90099,     0.90112,     0.90124,     0.90137,      0.9015,     0.90163,     0.90176,     0.90188,     0.90201,     0.90214,     0.90227,      0.9024,\n",
       "            0.90252,     0.90265,     0.90278,     0.90291,     0.90304,     0.90316,     0.90329,     0.90342,     0.90355,     0.90368,     0.90381,     0.90393,     0.90406,     0.90419,     0.90432,     0.90445,     0.90457,      0.9047,     0.90483,     0.90496,     0.90509,     0.90521,     0.90534,\n",
       "            0.90547,      0.9056,     0.90573,     0.90585,     0.90598,     0.90611,     0.90624,     0.90637,     0.90649,     0.90662,     0.90675,     0.90688,     0.90701,     0.90714,     0.90726,     0.90739,     0.90752,     0.90765,     0.90778,      0.9079,     0.90803,     0.90816,     0.90829,\n",
       "            0.90842,     0.90854,     0.90867,      0.9088,     0.90893,     0.90906,     0.90918,     0.90931,     0.90944,     0.90957,      0.9097,     0.90982,     0.90995,     0.91008,     0.91021,     0.91034,     0.91047,     0.91059,     0.91072,     0.91085,     0.91098,     0.91111,     0.91123,\n",
       "            0.91136,     0.91149,     0.91162,     0.91175,     0.91187,       0.912,     0.91213,     0.91226,     0.91239,     0.91251,     0.91264,     0.91277,      0.9129,     0.91303,     0.91315,     0.91328,     0.91341,     0.91354,     0.91367,      0.9138,     0.91392,     0.91405,     0.91418,\n",
       "            0.91431,     0.91444,     0.91456,     0.91469,     0.91482,     0.91495,     0.91508,      0.9152,     0.91533,     0.91546,     0.91559,     0.91572,     0.91584,     0.91597,      0.9161,     0.91623,     0.91636,     0.91648,     0.91661,     0.91674,     0.91687,       0.917,     0.91713,\n",
       "            0.91725,     0.91738,     0.91751,     0.91764,     0.91777,     0.91789,     0.91802,     0.91815,     0.91828,     0.91841,     0.91853,     0.91866,     0.91879,     0.91892,     0.91905,     0.91917,      0.9193,     0.91943,     0.91956,     0.91969,     0.91981,     0.91994,     0.92007,\n",
       "             0.9202,     0.92033,     0.92045,     0.92058,     0.92071,     0.92084,     0.92097,      0.9211,     0.92122,     0.92135,     0.92148,     0.92161,     0.92174,     0.92186,     0.92199,     0.92212,     0.92225,     0.92238,      0.9225,     0.92263,     0.92276,     0.92289,     0.92302,\n",
       "            0.92314,     0.92327,      0.9234,     0.92353,     0.92366,     0.92378,     0.92391,     0.92404,     0.92417,      0.9243,     0.92443,     0.92455,     0.92468,     0.92481,     0.92494,     0.92507,     0.92519,     0.92532,     0.92545,     0.92558,     0.92571,     0.92583,     0.92596,\n",
       "            0.92609,     0.92622,     0.92635,     0.92647,      0.9266,     0.92673,     0.92686,     0.92699,     0.92711,     0.92724,     0.92737,      0.9275,     0.92763,     0.92776,     0.92788,     0.92801,     0.92814,     0.92827,      0.9284,     0.92852,     0.92865,     0.92878,     0.92891,\n",
       "            0.92904,     0.92916,     0.92929,     0.92942,     0.92955,     0.92968,      0.9298,     0.92993,     0.93006,     0.93019,     0.93032,     0.93044,     0.93057,      0.9307,     0.93083,     0.93096,     0.93109,     0.93121,     0.93134,     0.93147,      0.9316,     0.93173,     0.93185,\n",
       "            0.93198,     0.93211,     0.93224,     0.93237,     0.93249,     0.93262,     0.93275,     0.93288,     0.93301,     0.93313,     0.93326,     0.93339,     0.93352,     0.93365,     0.93377,      0.9339,     0.93403,     0.93416,     0.93429,     0.93442,     0.93454,     0.93467,      0.9348,\n",
       "            0.93493,     0.93506,     0.93518,     0.93531,     0.93544,     0.93557,      0.9357,     0.93582,     0.93595,     0.93608,     0.93621,     0.93634,     0.93646,     0.93659,     0.93672,     0.93685,     0.93698,      0.9371,     0.93723,     0.93736,     0.93749,     0.93762,     0.93775,\n",
       "            0.93787,       0.938,     0.93813,     0.93826,     0.93839,     0.93851,     0.93864,     0.93877,      0.9389,     0.93903,     0.93915,     0.93928,     0.93941,     0.93954,     0.93967,     0.93979,     0.93992,     0.94005,     0.94018,     0.94031,     0.94043,     0.94056,     0.94069,\n",
       "            0.94082,     0.94095,     0.94108,      0.9412,     0.94133,     0.94146,     0.94159,     0.94172,     0.94184,     0.94197,      0.9421,     0.94223,     0.94236,     0.94248,     0.94261,     0.94274,     0.94287,       0.943,     0.94312,     0.94325,     0.94338,     0.94351,     0.94364,\n",
       "            0.94376,     0.94389,     0.94402,     0.94415,     0.94428,     0.94441,     0.94453,     0.94466,     0.94479,     0.94492,     0.94505,     0.94517,      0.9453,     0.94543,     0.94556,     0.94569,     0.94581,     0.94594,     0.94607,      0.9462,     0.94633,     0.94645,     0.94658,\n",
       "            0.94671,     0.94684,     0.94697,     0.94709,     0.94722,     0.94735,     0.94748,     0.94761,     0.94774,     0.94786,     0.94799,     0.94812,     0.94825,     0.94838,      0.9485,     0.94863,     0.94876,     0.94889,     0.94902,     0.94914,     0.94927,      0.9494,     0.94953,\n",
       "            0.94966,     0.94978,     0.94991,     0.95004,     0.95017,      0.9503,     0.95042,     0.95055,     0.95068,     0.95081,     0.95094,     0.95107,     0.95119,     0.95132,     0.95145,     0.95158,     0.95171,     0.95183,     0.95196,     0.95209,     0.95222,     0.95235,     0.95247,\n",
       "             0.9526,     0.95273,     0.95286,     0.95299,     0.95311,     0.95324,     0.95337,      0.9535,     0.95363,     0.95375,     0.95388,     0.95401,     0.95414,     0.95427,      0.9544,     0.95452,     0.95465,     0.95478,     0.95491,     0.95504,     0.95516,     0.95529,     0.95542,\n",
       "            0.95555,     0.95568,      0.9558,     0.95593,     0.95606,     0.95619,     0.95632,     0.95644,     0.95657,      0.9567,     0.95683,     0.95696,     0.95708,     0.95721,     0.95734,     0.95747,      0.9576,     0.95773,     0.95785,     0.95798,     0.95811,     0.95824,     0.95837,\n",
       "            0.95849,     0.95862,     0.95875,     0.95888,     0.95901,     0.95913,     0.95926,     0.95939,     0.95952,     0.95965,     0.95977,      0.9599,     0.96003,     0.96016,     0.96029,     0.96041,     0.96054,     0.96067,      0.9608,     0.96093,     0.96106,     0.96118,     0.96131,\n",
       "            0.96144,     0.96157,      0.9617,     0.96182,     0.96195,     0.96208,     0.96221,     0.96234,     0.96246,     0.96259,     0.96272,     0.96285,     0.96298,      0.9631,     0.96323,     0.96336,     0.96349,     0.96362,     0.96374,     0.96387,       0.964,     0.96413,     0.96426,\n",
       "            0.96439,     0.96451,     0.96464,     0.96477,      0.9649,     0.96503,     0.96515,     0.96528,     0.96541,     0.96554,     0.96567,     0.96579,     0.96592,     0.96605,     0.96618,     0.96631,     0.96643,     0.96656,     0.96669,     0.96682,     0.96695,     0.96707,      0.9672,\n",
       "            0.96733,     0.96746,     0.96759,     0.96772,     0.96784,     0.96797,      0.9681,     0.96823,     0.96836,     0.96848,     0.96861,     0.96874,     0.96887,       0.969,     0.96912,     0.96925,     0.96938,     0.96951,     0.96964,     0.96976,     0.96989,     0.97002,     0.97015,\n",
       "            0.97028,      0.9704,     0.97053,     0.97066,     0.97079,     0.97092,     0.97105,     0.97117,      0.9713,     0.97143,     0.97156,     0.97169,     0.97181,     0.97194,     0.97207,      0.9722,     0.97233,     0.97245,     0.97258,     0.97271,     0.97284,     0.97297,     0.97309,\n",
       "            0.97322,     0.97335,     0.97348,     0.97361,     0.97373,     0.97386,     0.97399,     0.97412,     0.97425,     0.97438,      0.9745,     0.97463,     0.97476,     0.97489,     0.97502,     0.97514,     0.97527,      0.9754,     0.97553,     0.97566,     0.97578,     0.97591,     0.97604,\n",
       "            0.97617,      0.9763,     0.97642,     0.97655,     0.97668,     0.97681,     0.97694,     0.97706,     0.97719,     0.97732,     0.97745,     0.97758,     0.97771,     0.97783,     0.97796,     0.97809,     0.97822,     0.97835,     0.97847,      0.9786,     0.97873,     0.97886,     0.97899,\n",
       "            0.97911,     0.97924,     0.97937,      0.9795,     0.97963,     0.97975,     0.97988,     0.98001,     0.98014,     0.98027,     0.98039,     0.98052,     0.98065,     0.98078,     0.98091,     0.98103,     0.98116,     0.98129,     0.98142,     0.98155,     0.98168,      0.9818,     0.98193,\n",
       "            0.98206,     0.98219,     0.98232,     0.98244,     0.98257,      0.9827,     0.98283,     0.98296,     0.98308,     0.98321,     0.98334,     0.98347,      0.9836,     0.98372,     0.98385,     0.98398,     0.98411,     0.98424,     0.98436,     0.98449,     0.98462,     0.98475,     0.98488,\n",
       "            0.98501,     0.98513,     0.98526,     0.98539,     0.98552,     0.98565,     0.98577,      0.9859,     0.98603,     0.98616,     0.98629,     0.98641,     0.98654,     0.98667,      0.9868,     0.98693,     0.98705,     0.98718,     0.98731,     0.98744,     0.98757,     0.98769,     0.98782,\n",
       "            0.98795,     0.98808,     0.98821,     0.98834,     0.98846,     0.98859,     0.98872,     0.98885,     0.98898,      0.9891,     0.98923,     0.98936,     0.98949,     0.98962,     0.98974,     0.98987,        0.99,     0.99013,     0.99026,     0.99038,     0.99051,     0.99064,     0.99077,\n",
       "             0.9909,     0.99102,     0.99115,     0.99128,     0.99141,     0.99154,     0.99167,     0.99179,     0.99192,     0.99205,     0.99218,     0.99231,     0.99243,     0.99256,     0.99269,     0.99282,     0.99295,     0.99307,      0.9932,     0.99333,     0.99346,     0.99359,     0.99371,\n",
       "            0.99384,     0.99397,      0.9941,     0.99423,     0.99435,     0.99448,     0.99461,     0.99474,     0.99487,       0.995,     0.99512,     0.99525,     0.99538,     0.99551,     0.99564,     0.99576,     0.99589,     0.99602,     0.99615,     0.99628,      0.9964,     0.99653,     0.99666,\n",
       "            0.99679,     0.99692,     0.99704,     0.99717,      0.9973,     0.99743,     0.99756,     0.99768,     0.99781,     0.99794,     0.99807,      0.9982,     0.99833,     0.99845,     0.99858,     0.99871,     0.99884,     0.99897,     0.99909,     0.99922,     0.99935,     0.99948,     0.99961,\n",
       "            0.99973,     0.99986,     0.99999,           1,           1,           1,           1,           1,           1,           1,           1,           1,           1,           1,           1,           1,           1,           1,           1,           1,           1,           1,           1,\n",
       "                  1,           1,           1,           1,           1,           1,           1,           1,           1,           1,           1,           1,           1,           1,           1,           1,           1,           1,           1,           1,           1,           1,           1,\n",
       "                  1,           1,           1,           1,           1,           1,           1,           1,           1,           1,           1,           1,           1,           1,           1,           1,           1,           1,           1,           1,           1,           1,           1,\n",
       "                  1,           1,           1,           1,           1,           1,           1,           1,           1,           1,           1,           1,           1,           1,           1,           1,           1,           1,           1,           1,           1,           1,           1,\n",
       "                  1,           1,           1,           1,           1,           1,           1,           1,           1,           1,           1,           1,           1,           1,           1,           1,           1,           1,           1,           1,           1,           1,           1,\n",
       "                  1,           1,           1,           1,           1,           1,           1,           1,           1,           1,           1]]), 'Confidence', 'Precision'], [array([          0,    0.001001,    0.002002,    0.003003,    0.004004,    0.005005,    0.006006,    0.007007,    0.008008,    0.009009,     0.01001,    0.011011,    0.012012,    0.013013,    0.014014,    0.015015,    0.016016,    0.017017,    0.018018,    0.019019,     0.02002,    0.021021,    0.022022,    0.023023,\n",
       "          0.024024,    0.025025,    0.026026,    0.027027,    0.028028,    0.029029,     0.03003,    0.031031,    0.032032,    0.033033,    0.034034,    0.035035,    0.036036,    0.037037,    0.038038,    0.039039,     0.04004,    0.041041,    0.042042,    0.043043,    0.044044,    0.045045,    0.046046,    0.047047,\n",
       "          0.048048,    0.049049,     0.05005,    0.051051,    0.052052,    0.053053,    0.054054,    0.055055,    0.056056,    0.057057,    0.058058,    0.059059,     0.06006,    0.061061,    0.062062,    0.063063,    0.064064,    0.065065,    0.066066,    0.067067,    0.068068,    0.069069,     0.07007,    0.071071,\n",
       "          0.072072,    0.073073,    0.074074,    0.075075,    0.076076,    0.077077,    0.078078,    0.079079,     0.08008,    0.081081,    0.082082,    0.083083,    0.084084,    0.085085,    0.086086,    0.087087,    0.088088,    0.089089,     0.09009,    0.091091,    0.092092,    0.093093,    0.094094,    0.095095,\n",
       "          0.096096,    0.097097,    0.098098,    0.099099,      0.1001,      0.1011,      0.1021,      0.1031,      0.1041,     0.10511,     0.10611,     0.10711,     0.10811,     0.10911,     0.11011,     0.11111,     0.11211,     0.11311,     0.11411,     0.11512,     0.11612,     0.11712,     0.11812,     0.11912,\n",
       "           0.12012,     0.12112,     0.12212,     0.12312,     0.12412,     0.12513,     0.12613,     0.12713,     0.12813,     0.12913,     0.13013,     0.13113,     0.13213,     0.13313,     0.13413,     0.13514,     0.13614,     0.13714,     0.13814,     0.13914,     0.14014,     0.14114,     0.14214,     0.14314,\n",
       "           0.14414,     0.14515,     0.14615,     0.14715,     0.14815,     0.14915,     0.15015,     0.15115,     0.15215,     0.15315,     0.15415,     0.15516,     0.15616,     0.15716,     0.15816,     0.15916,     0.16016,     0.16116,     0.16216,     0.16316,     0.16416,     0.16517,     0.16617,     0.16717,\n",
       "           0.16817,     0.16917,     0.17017,     0.17117,     0.17217,     0.17317,     0.17417,     0.17518,     0.17618,     0.17718,     0.17818,     0.17918,     0.18018,     0.18118,     0.18218,     0.18318,     0.18418,     0.18519,     0.18619,     0.18719,     0.18819,     0.18919,     0.19019,     0.19119,\n",
       "           0.19219,     0.19319,     0.19419,      0.1952,      0.1962,      0.1972,      0.1982,      0.1992,      0.2002,      0.2012,      0.2022,      0.2032,      0.2042,     0.20521,     0.20621,     0.20721,     0.20821,     0.20921,     0.21021,     0.21121,     0.21221,     0.21321,     0.21421,     0.21522,\n",
       "           0.21622,     0.21722,     0.21822,     0.21922,     0.22022,     0.22122,     0.22222,     0.22322,     0.22422,     0.22523,     0.22623,     0.22723,     0.22823,     0.22923,     0.23023,     0.23123,     0.23223,     0.23323,     0.23423,     0.23524,     0.23624,     0.23724,     0.23824,     0.23924,\n",
       "           0.24024,     0.24124,     0.24224,     0.24324,     0.24424,     0.24525,     0.24625,     0.24725,     0.24825,     0.24925,     0.25025,     0.25125,     0.25225,     0.25325,     0.25425,     0.25526,     0.25626,     0.25726,     0.25826,     0.25926,     0.26026,     0.26126,     0.26226,     0.26326,\n",
       "           0.26426,     0.26527,     0.26627,     0.26727,     0.26827,     0.26927,     0.27027,     0.27127,     0.27227,     0.27327,     0.27427,     0.27528,     0.27628,     0.27728,     0.27828,     0.27928,     0.28028,     0.28128,     0.28228,     0.28328,     0.28428,     0.28529,     0.28629,     0.28729,\n",
       "           0.28829,     0.28929,     0.29029,     0.29129,     0.29229,     0.29329,     0.29429,      0.2953,      0.2963,      0.2973,      0.2983,      0.2993,      0.3003,      0.3013,      0.3023,      0.3033,      0.3043,     0.30531,     0.30631,     0.30731,     0.30831,     0.30931,     0.31031,     0.31131,\n",
       "           0.31231,     0.31331,     0.31431,     0.31532,     0.31632,     0.31732,     0.31832,     0.31932,     0.32032,     0.32132,     0.32232,     0.32332,     0.32432,     0.32533,     0.32633,     0.32733,     0.32833,     0.32933,     0.33033,     0.33133,     0.33233,     0.33333,     0.33433,     0.33534,\n",
       "           0.33634,     0.33734,     0.33834,     0.33934,     0.34034,     0.34134,     0.34234,     0.34334,     0.34434,     0.34535,     0.34635,     0.34735,     0.34835,     0.34935,     0.35035,     0.35135,     0.35235,     0.35335,     0.35435,     0.35536,     0.35636,     0.35736,     0.35836,     0.35936,\n",
       "           0.36036,     0.36136,     0.36236,     0.36336,     0.36436,     0.36537,     0.36637,     0.36737,     0.36837,     0.36937,     0.37037,     0.37137,     0.37237,     0.37337,     0.37437,     0.37538,     0.37638,     0.37738,     0.37838,     0.37938,     0.38038,     0.38138,     0.38238,     0.38338,\n",
       "           0.38438,     0.38539,     0.38639,     0.38739,     0.38839,     0.38939,     0.39039,     0.39139,     0.39239,     0.39339,     0.39439,      0.3954,      0.3964,      0.3974,      0.3984,      0.3994,      0.4004,      0.4014,      0.4024,      0.4034,      0.4044,     0.40541,     0.40641,     0.40741,\n",
       "           0.40841,     0.40941,     0.41041,     0.41141,     0.41241,     0.41341,     0.41441,     0.41542,     0.41642,     0.41742,     0.41842,     0.41942,     0.42042,     0.42142,     0.42242,     0.42342,     0.42442,     0.42543,     0.42643,     0.42743,     0.42843,     0.42943,     0.43043,     0.43143,\n",
       "           0.43243,     0.43343,     0.43443,     0.43544,     0.43644,     0.43744,     0.43844,     0.43944,     0.44044,     0.44144,     0.44244,     0.44344,     0.44444,     0.44545,     0.44645,     0.44745,     0.44845,     0.44945,     0.45045,     0.45145,     0.45245,     0.45345,     0.45445,     0.45546,\n",
       "           0.45646,     0.45746,     0.45846,     0.45946,     0.46046,     0.46146,     0.46246,     0.46346,     0.46446,     0.46547,     0.46647,     0.46747,     0.46847,     0.46947,     0.47047,     0.47147,     0.47247,     0.47347,     0.47447,     0.47548,     0.47648,     0.47748,     0.47848,     0.47948,\n",
       "           0.48048,     0.48148,     0.48248,     0.48348,     0.48448,     0.48549,     0.48649,     0.48749,     0.48849,     0.48949,     0.49049,     0.49149,     0.49249,     0.49349,     0.49449,      0.4955,      0.4965,      0.4975,      0.4985,      0.4995,      0.5005,      0.5015,      0.5025,      0.5035,\n",
       "            0.5045,     0.50551,     0.50651,     0.50751,     0.50851,     0.50951,     0.51051,     0.51151,     0.51251,     0.51351,     0.51451,     0.51552,     0.51652,     0.51752,     0.51852,     0.51952,     0.52052,     0.52152,     0.52252,     0.52352,     0.52452,     0.52553,     0.52653,     0.52753,\n",
       "           0.52853,     0.52953,     0.53053,     0.53153,     0.53253,     0.53353,     0.53453,     0.53554,     0.53654,     0.53754,     0.53854,     0.53954,     0.54054,     0.54154,     0.54254,     0.54354,     0.54454,     0.54555,     0.54655,     0.54755,     0.54855,     0.54955,     0.55055,     0.55155,\n",
       "           0.55255,     0.55355,     0.55455,     0.55556,     0.55656,     0.55756,     0.55856,     0.55956,     0.56056,     0.56156,     0.56256,     0.56356,     0.56456,     0.56557,     0.56657,     0.56757,     0.56857,     0.56957,     0.57057,     0.57157,     0.57257,     0.57357,     0.57457,     0.57558,\n",
       "           0.57658,     0.57758,     0.57858,     0.57958,     0.58058,     0.58158,     0.58258,     0.58358,     0.58458,     0.58559,     0.58659,     0.58759,     0.58859,     0.58959,     0.59059,     0.59159,     0.59259,     0.59359,     0.59459,      0.5956,      0.5966,      0.5976,      0.5986,      0.5996,\n",
       "            0.6006,      0.6016,      0.6026,      0.6036,      0.6046,     0.60561,     0.60661,     0.60761,     0.60861,     0.60961,     0.61061,     0.61161,     0.61261,     0.61361,     0.61461,     0.61562,     0.61662,     0.61762,     0.61862,     0.61962,     0.62062,     0.62162,     0.62262,     0.62362,\n",
       "           0.62462,     0.62563,     0.62663,     0.62763,     0.62863,     0.62963,     0.63063,     0.63163,     0.63263,     0.63363,     0.63463,     0.63564,     0.63664,     0.63764,     0.63864,     0.63964,     0.64064,     0.64164,     0.64264,     0.64364,     0.64464,     0.64565,     0.64665,     0.64765,\n",
       "           0.64865,     0.64965,     0.65065,     0.65165,     0.65265,     0.65365,     0.65465,     0.65566,     0.65666,     0.65766,     0.65866,     0.65966,     0.66066,     0.66166,     0.66266,     0.66366,     0.66466,     0.66567,     0.66667,     0.66767,     0.66867,     0.66967,     0.67067,     0.67167,\n",
       "           0.67267,     0.67367,     0.67467,     0.67568,     0.67668,     0.67768,     0.67868,     0.67968,     0.68068,     0.68168,     0.68268,     0.68368,     0.68468,     0.68569,     0.68669,     0.68769,     0.68869,     0.68969,     0.69069,     0.69169,     0.69269,     0.69369,     0.69469,      0.6957,\n",
       "            0.6967,      0.6977,      0.6987,      0.6997,      0.7007,      0.7017,      0.7027,      0.7037,      0.7047,     0.70571,     0.70671,     0.70771,     0.70871,     0.70971,     0.71071,     0.71171,     0.71271,     0.71371,     0.71471,     0.71572,     0.71672,     0.71772,     0.71872,     0.71972,\n",
       "           0.72072,     0.72172,     0.72272,     0.72372,     0.72472,     0.72573,     0.72673,     0.72773,     0.72873,     0.72973,     0.73073,     0.73173,     0.73273,     0.73373,     0.73473,     0.73574,     0.73674,     0.73774,     0.73874,     0.73974,     0.74074,     0.74174,     0.74274,     0.74374,\n",
       "           0.74474,     0.74575,     0.74675,     0.74775,     0.74875,     0.74975,     0.75075,     0.75175,     0.75275,     0.75375,     0.75475,     0.75576,     0.75676,     0.75776,     0.75876,     0.75976,     0.76076,     0.76176,     0.76276,     0.76376,     0.76476,     0.76577,     0.76677,     0.76777,\n",
       "           0.76877,     0.76977,     0.77077,     0.77177,     0.77277,     0.77377,     0.77477,     0.77578,     0.77678,     0.77778,     0.77878,     0.77978,     0.78078,     0.78178,     0.78278,     0.78378,     0.78478,     0.78579,     0.78679,     0.78779,     0.78879,     0.78979,     0.79079,     0.79179,\n",
       "           0.79279,     0.79379,     0.79479,      0.7958,      0.7968,      0.7978,      0.7988,      0.7998,      0.8008,      0.8018,      0.8028,      0.8038,      0.8048,     0.80581,     0.80681,     0.80781,     0.80881,     0.80981,     0.81081,     0.81181,     0.81281,     0.81381,     0.81481,     0.81582,\n",
       "           0.81682,     0.81782,     0.81882,     0.81982,     0.82082,     0.82182,     0.82282,     0.82382,     0.82482,     0.82583,     0.82683,     0.82783,     0.82883,     0.82983,     0.83083,     0.83183,     0.83283,     0.83383,     0.83483,     0.83584,     0.83684,     0.83784,     0.83884,     0.83984,\n",
       "           0.84084,     0.84184,     0.84284,     0.84384,     0.84484,     0.84585,     0.84685,     0.84785,     0.84885,     0.84985,     0.85085,     0.85185,     0.85285,     0.85385,     0.85485,     0.85586,     0.85686,     0.85786,     0.85886,     0.85986,     0.86086,     0.86186,     0.86286,     0.86386,\n",
       "           0.86486,     0.86587,     0.86687,     0.86787,     0.86887,     0.86987,     0.87087,     0.87187,     0.87287,     0.87387,     0.87487,     0.87588,     0.87688,     0.87788,     0.87888,     0.87988,     0.88088,     0.88188,     0.88288,     0.88388,     0.88488,     0.88589,     0.88689,     0.88789,\n",
       "           0.88889,     0.88989,     0.89089,     0.89189,     0.89289,     0.89389,     0.89489,      0.8959,      0.8969,      0.8979,      0.8989,      0.8999,      0.9009,      0.9019,      0.9029,      0.9039,      0.9049,     0.90591,     0.90691,     0.90791,     0.90891,     0.90991,     0.91091,     0.91191,\n",
       "           0.91291,     0.91391,     0.91491,     0.91592,     0.91692,     0.91792,     0.91892,     0.91992,     0.92092,     0.92192,     0.92292,     0.92392,     0.92492,     0.92593,     0.92693,     0.92793,     0.92893,     0.92993,     0.93093,     0.93193,     0.93293,     0.93393,     0.93493,     0.93594,\n",
       "           0.93694,     0.93794,     0.93894,     0.93994,     0.94094,     0.94194,     0.94294,     0.94394,     0.94494,     0.94595,     0.94695,     0.94795,     0.94895,     0.94995,     0.95095,     0.95195,     0.95295,     0.95395,     0.95495,     0.95596,     0.95696,     0.95796,     0.95896,     0.95996,\n",
       "           0.96096,     0.96196,     0.96296,     0.96396,     0.96496,     0.96597,     0.96697,     0.96797,     0.96897,     0.96997,     0.97097,     0.97197,     0.97297,     0.97397,     0.97497,     0.97598,     0.97698,     0.97798,     0.97898,     0.97998,     0.98098,     0.98198,     0.98298,     0.98398,\n",
       "           0.98498,     0.98599,     0.98699,     0.98799,     0.98899,     0.98999,     0.99099,     0.99199,     0.99299,     0.99399,     0.99499,       0.996,       0.997,       0.998,       0.999,           1]), array([[          1,           1,           1,           1,           1,           1,           1,           1,           1,           1,           1,           1,           1,           1,           1,           1,           1,           1,           1,           1,           1,           1,           1,\n",
       "                  1,           1,           1,           1,           1,           1,           1,           1,           1,           1,           1,           1,           1,           1,           1,           1,           1,           1,           1,           1,           1,           1,           1,\n",
       "                  1,           1,           1,           1,           1,           1,           1,           1,           1,           1,           1,           1,           1,           1,           1,           1,           1,           1,           1,           1,           1,           1,           1,\n",
       "                  1,           1,           1,           1,           1,           1,           1,           1,           1,           1,           1,           1,           1,           1,           1,           1,           1,           1,           1,           1,           1,           1,           1,\n",
       "                  1,           1,           1,           1,           1,           1,           1,           1,           1,           1,           1,           1,           1,           1,           1,           1,           1,           1,           1,           1,           1,           1,           1,\n",
       "                  1,           1,           1,           1,           1,           1,           1,           1,           1,           1,           1,           1,           1,           1,           1,           1,           1,           1,           1,           1,           1,           1,           1,\n",
       "                  1,           1,           1,           1,           1,           1,           1,           1,           1,           1,           1,           1,           1,           1,           1,           1,           1,           1,           1,           1,           1,           1,           1,\n",
       "                  1,           1,           1,           1,           1,           1,           1,           1,           1,           1,           1,           1,           1,           1,           1,           1,           1,           1,           1,           1,           1,           1,           1,\n",
       "                  1,           1,           1,           1,           1,           1,           1,           1,           1,           1,           1,           1,           1,           1,           1,           1,           1,           1,           1,           1,           1,           1,           1,\n",
       "                  1,           1,           1,           1,           1,           1,           1,           1,           1,           1,           1,           1,           1,           1,           1,           1,           1,           1,           1,           1,           1,           1,           1,\n",
       "                  1,           1,           1,           1,           1,           1,           1,           1,           1,           1,           1,           1,           1,           1,           1,           1,           1,           1,           1,           1,           1,           1,           1,\n",
       "                  1,           1,           1,           1,           1,           1,           1,           1,           1,           1,           1,           1,           1,           1,           1,           1,           1,           1,           1,           1,           1,           1,           1,\n",
       "                  1,           1,           1,           1,           1,           1,           1,           1,           1,           1,           1,           1,           1,           1,           1,           1,           1,           1,           1,           1,           1,           1,           1,\n",
       "                  1,           1,           1,           1,           1,           1,           1,           1,           1,           1,           1,           1,           1,           1,           1,           1,           1,           1,           1,           1,           1,           1,           1,\n",
       "                  1,           1,           1,           1,           1,           1,           1,           1,           1,           1,           1,           1,           1,           1,           1,           1,           1,           1,           1,           1,           1,           1,           1,\n",
       "                  1,           1,           1,           1,           1,           1,           1,           1,           1,           1,           1,           1,           1,           1,           1,           1,           1,           1,           1,           1,           1,           1,           1,\n",
       "                  1,           1,           1,           1,           1,           1,           1,           1,           1,           1,           1,           1,           1,           1,           1,           1,           1,           1,           1,           1,           1,           1,           1,\n",
       "                  1,           1,           1,           1,           1,           1,           1,           1,           1,           1,           1,           1,           1,           1,           1,           1,           1,           1,           1,           1,           1,           1,           1,\n",
       "                  1,           1,           1,           1,           1,           1,           1,           1,           1,           1,           1,           1,           1,           1,           1,           1,           1,           1,           1,           1,           1,           1,           1,\n",
       "                  1,           1,           1,           1,           1,           1,           1,           1,           1,           1,           1,           1,           1,           1,           1,           1,           1,           1,           1,           1,           1,           1,           1,\n",
       "                  1,           1,           1,           1,           1,           1,           1,           1,           1,           1,           1,           1,           1,           1,           1,           1,           1,           1,           1,           1,           1,           1,           1,\n",
       "                  1,           1,           1,           1,           1,           1,           1,           1,           1,           1,           1,           1,           1,           1,           1,           1,           1,           1,           1,           1,           1,           1,           1,\n",
       "                  1,           1,           1,           1,           1,           1,           1,           1,           1,           1,           1,           1,           1,           1,           1,           1,           1,           1,           1,           1,           1,           1,           1,\n",
       "                  1,           1,           1,           1,           1,           1,           1,           1,           1,           1,           1,           1,           1,           1,           1,           1,           1,           1,           1,           1,           1,           1,           1,\n",
       "                  1,           1,           1,           1,           1,           1,           1,           1,           1,           1,           1,           1,           1,           1,           1,           1,           1,           1,           1,           1,           1,           1,           1,\n",
       "                  1,           1,           1,           1,           1,           1,           1,           1,           1,           1,           1,           1,           1,           1,           1,           1,           1,           1,           1,           1,           1,           1,           1,\n",
       "                  1,           1,           1,           1,           1,           1,           1,           1,           1,           1,           1,           1,           1,           1,           1,           1,           1,           1,           1,           1,           1,           1,           1,\n",
       "                  1,           1,           1,           1,           1,           1,           1,           1,           1,           1,           1,           1,           1,           1,           1,           1,           1,           1,           1,           1,           1,           1,           1,\n",
       "                  1,           1,           1,           1,           1,           1,           1,           1,           1,           1,           1,           1,           1,           1,           1,           1,           1,           1,           1,           1,           1,           1,           1,\n",
       "                  1,           1,           1,           1,           1,           1,           1,           1,           1,           1,           1,           1,           1,           1,           1,           1,           1,           1,           1,           1,           1,           1,           1,\n",
       "                  1,           1,           1,           1,           1,           1,           1,           1,           1,           1,           1,           1,           1,           1,           1,           1,           1,           1,           1,           1,           1,           1,           1,\n",
       "                  1,           1,           1,           1,           1,           1,           1,           1,           1,           1,           1,           1,           1,           1,           1,           1,           1,           1,           1,           1,           1,           1,           1,\n",
       "                  1,           1,           1,           1,           1,           1,           1,           1,           1,           1,           1,           1,           1,           1,           1,           1,           1,           1,           1,           1,           1,           1,           1,\n",
       "                  1,           1,           1,           1,           1,           1,           1,           1,           1,           1,           1,           1,           1,           1,           1,           1,           1,           1,           1,           1,           1,           1,           1,\n",
       "                  1,           1,           1,           1,           1,           1,           1,           1,           1,           1,           1,           1,           1,           1,           1,           1,           1,           1,           1,           1,           1,           1,           1,\n",
       "                  1,           1,           1,           1,           1,           1,           1,           1,           1,           1,           1,           1,           1,           1,           1,           1,           1,           1,           1,           1,           1,           1,           1,\n",
       "                  1,           1,           1,           1,           1,           1,           1,           1,           1,           1,           1,           1,           1,           1,           1,           1,           1,           1,           1,           1,           1,           1,           1,\n",
       "                  1,           1,           1,           1,           1,           1,           1,           1,           1,           1,           1,           1,           1,           1,           1,           1,           1,           1,           1,           1,           1,           1,           1,\n",
       "                  1,           1,           1,     0.99449,     0.98854,     0.98258,     0.97662,     0.97066,      0.9647,     0.95874,     0.95278,     0.94682,     0.94086,      0.9349,     0.92894,     0.92298,     0.91702,     0.91106,      0.9051,     0.89914,     0.89318,     0.88722,     0.88126,\n",
       "            0.87531,     0.85763,     0.83933,     0.82103,     0.80272,     0.78442,     0.76611,     0.74562,     0.70901,      0.6724,      0.6358,     0.61969,     0.61215,     0.60461,     0.59708,     0.58954,       0.582,     0.57446,     0.56693,     0.55939,     0.55185,     0.54432,     0.53678,\n",
       "            0.52924,     0.52171,     0.51417,     0.50663,     0.46922,     0.37062,     0.36369,     0.35677,     0.34984,     0.34292,     0.33599,     0.32907,     0.32214,     0.31521,     0.30829,     0.30136,     0.29444,     0.28751,     0.28058,     0.27366,     0.26673,     0.25981,     0.25288,\n",
       "            0.22506,     0.18235,     0.13964,           0,           0,           0,           0,           0,           0,           0,           0,           0,           0,           0,           0,           0,           0,           0,           0,           0,           0,           0,           0,\n",
       "                  0,           0,           0,           0,           0,           0,           0,           0,           0,           0,           0,           0,           0,           0,           0,           0,           0,           0,           0,           0,           0,           0,           0,\n",
       "                  0,           0,           0,           0,           0,           0,           0,           0,           0,           0,           0]]), 'Confidence', 'Recall']]\n",
       "fitness: np.float64(1.8897049506493508)\n",
       "keys: ['metrics/precision(B)', 'metrics/recall(B)', 'metrics/mAP50(B)', 'metrics/mAP50-95(B)', 'metrics/precision(M)', 'metrics/recall(M)', 'metrics/mAP50(M)', 'metrics/mAP50-95(M)']\n",
       "maps: array([     1.8786])\n",
       "names: {0: 'Pupil'}\n",
       "nt_per_class: array([8])\n",
       "nt_per_image: array([8])\n",
       "results_dict: {'metrics/precision(B)': np.float64(0.993842591537278), 'metrics/recall(B)': np.float64(1.0), 'metrics/mAP50(B)': np.float64(0.995), 'metrics/mAP50-95(B)': np.float64(0.9331259393939394), 'metrics/precision(M)': np.float64(0.993842591537278), 'metrics/recall(M)': np.float64(1.0), 'metrics/mAP50(M)': np.float64(0.995), 'metrics/mAP50-95(M)': np.float64(0.9454351168831169), 'fitness': np.float64(1.8897049506493508)}\n",
       "save_dir: WindowsPath('runs/pupil-seg-s')\n",
       "seg: ultralytics.utils.metrics.Metric object\n",
       "speed: {'preprocess': 0.34304999996948027, 'inference': 14.395462500033318, 'loss': 0.0010249999604639015, 'postprocess': 2.15272500008723}\n",
       "stats: {'tp': [], 'conf': [], 'pred_cls': [], 'target_cls': [], 'target_img': [], 'tp_m': []}\n",
       "task: 'segment'"
      ]
     },
     "execution_count": 7,
     "metadata": {},
     "output_type": "execute_result"
    }
   ],
   "source": [
    "from ultralytics import YOLO\n",
    "model = YOLO('yolov8s-seg.pt')  # lub yolov8n-seg.pt\n",
    "model.train(data='D:/AAA/Nowy folder/Outputs/project-8-at-2025-08-12-11-44-492dcff8/data.yaml', imgsz=400, epochs=100, batch=16, device=0, workers=8, project='runs', name='pupil-seg-s')"
   ]
  },
  {
   "cell_type": "code",
   "execution_count": null,
   "id": "672498a7",
   "metadata": {},
   "outputs": [
    {
     "name": "stdout",
     "output_type": "stream",
     "text": [
      "\n",
      "image 1/44 D:\\AAA\\Nowy folder\\Outputs\\Test\\2025-08-12-13.25.48.png: 320x320 1 Pupil, 10.7ms\n",
      "image 2/44 D:\\AAA\\Nowy folder\\Outputs\\Test\\2025-08-12-13.26.08.png: 320x320 1 Pupil, 10.7ms\n",
      "image 3/44 D:\\AAA\\Nowy folder\\Outputs\\Test\\2025-08-12-13.26.18.png: 320x320 1 Pupil, 11.1ms\n",
      "image 4/44 D:\\AAA\\Nowy folder\\Outputs\\Test\\2025-08-12-13.26.22.png: 320x320 1 Pupil, 10.7ms\n",
      "image 5/44 D:\\AAA\\Nowy folder\\Outputs\\Test\\2025-08-12-13.26.48.png: 320x320 1 Pupil, 10.9ms\n",
      "image 6/44 D:\\AAA\\Nowy folder\\Outputs\\Test\\2025-08-12-13.42.36.png: 320x320 1 Pupil, 11.0ms\n",
      "image 7/44 D:\\AAA\\Nowy folder\\Outputs\\Test\\2025-08-12-13.43.24.png: 320x320 1 Pupil, 10.8ms\n",
      "image 8/44 D:\\AAA\\Nowy folder\\Outputs\\Test\\2025-08-12-13.43.46.png: 320x320 1 Pupil, 10.6ms\n",
      "image 9/44 D:\\AAA\\Nowy folder\\Outputs\\Test\\2025-08-12-13.43.50.png: 320x320 1 Pupil, 10.5ms\n",
      "image 10/44 D:\\AAA\\Nowy folder\\Outputs\\Test\\2025-08-12-13.43.54.png: 320x320 1 Pupil, 11.3ms\n",
      "image 11/44 D:\\AAA\\Nowy folder\\Outputs\\Test\\2025-08-12-13.43.58.png: 320x320 1 Pupil, 11.7ms\n",
      "image 12/44 D:\\AAA\\Nowy folder\\Outputs\\Test\\2025-08-12-13.44.02.png: 320x320 (no detections), 11.0ms\n",
      "image 13/44 D:\\AAA\\Nowy folder\\Outputs\\Test\\2025-08-12-13.44.05.png: 320x320 (no detections), 10.8ms\n",
      "image 14/44 D:\\AAA\\Nowy folder\\Outputs\\Test\\2025-08-12-13.44.09.png: 320x320 (no detections), 13.9ms\n",
      "image 15/44 D:\\AAA\\Nowy folder\\Outputs\\Test\\2025-08-12-13.44.19.png: 320x320 1 Pupil, 11.3ms\n",
      "image 16/44 D:\\AAA\\Nowy folder\\Outputs\\Test\\2025-08-12-13.44.30.png: 320x320 1 Pupil, 10.7ms\n",
      "image 17/44 D:\\AAA\\Nowy folder\\Outputs\\Test\\2025-08-12-13.44.41.png: 320x320 1 Pupil, 10.4ms\n",
      "image 18/44 D:\\AAA\\Nowy folder\\Outputs\\Test\\2025-08-12-13.44.53.png: 320x320 1 Pupil, 10.5ms\n",
      "image 19/44 D:\\AAA\\Nowy folder\\Outputs\\Test\\2025-08-12-13.44.57.png: 320x320 1 Pupil, 11.3ms\n",
      "image 20/44 D:\\AAA\\Nowy folder\\Outputs\\Test\\2025-08-12-13.45.09.png: 320x320 1 Pupil, 11.1ms\n",
      "image 21/44 D:\\AAA\\Nowy folder\\Outputs\\Test\\2025-08-12-13.45.18.png: 320x320 1 Pupil, 11.0ms\n",
      "image 22/44 D:\\AAA\\Nowy folder\\Outputs\\Test\\2025-08-12-13.45.24.png: 320x320 1 Pupil, 10.7ms\n",
      "image 23/44 D:\\AAA\\Nowy folder\\Outputs\\Test\\2025-08-12-13.45.34.png: 320x320 (no detections), 10.7ms\n",
      "image 24/44 D:\\AAA\\Nowy folder\\Outputs\\Test\\2025-08-12-13.45.39.png: 320x320 1 Pupil, 10.8ms\n",
      "image 25/44 D:\\AAA\\Nowy folder\\Outputs\\Test\\2025-08-12-13.45.44.png: 320x320 1 Pupil, 13.3ms\n",
      "image 26/44 D:\\AAA\\Nowy folder\\Outputs\\Test\\2025-08-12-13.45.48.png: 320x320 1 Pupil, 11.1ms\n",
      "image 27/44 D:\\AAA\\Nowy folder\\Outputs\\Test\\2025-08-12-13.45.55.png: 320x320 1 Pupil, 10.8ms\n",
      "image 28/44 D:\\AAA\\Nowy folder\\Outputs\\Test\\2025-08-12-13.46.00.png: 320x320 1 Pupil, 10.6ms\n",
      "image 29/44 D:\\AAA\\Nowy folder\\Outputs\\Test\\2025-08-12-13.46.17.png: 320x320 1 Pupil, 11.1ms\n",
      "image 30/44 D:\\AAA\\Nowy folder\\Outputs\\Test\\2025-08-12-13.46.21.png: 320x320 1 Pupil, 10.5ms\n",
      "image 31/44 D:\\AAA\\Nowy folder\\Outputs\\Test\\2025-08-12-13.46.25.png: 320x320 1 Pupil, 11.4ms\n",
      "image 32/44 D:\\AAA\\Nowy folder\\Outputs\\Test\\2025-08-12-13.46.29.png: 320x320 1 Pupil, 10.7ms\n",
      "image 33/44 D:\\AAA\\Nowy folder\\Outputs\\Test\\2025-08-12-13.46.42.png: 320x320 1 Pupil, 11.0ms\n",
      "image 34/44 D:\\AAA\\Nowy folder\\Outputs\\Test\\2025-08-12-13.46.46.png: 320x320 1 Pupil, 11.2ms\n",
      "image 35/44 D:\\AAA\\Nowy folder\\Outputs\\Test\\2025-08-12-13.46.56.png: 320x320 1 Pupil, 14.0ms\n",
      "image 36/44 D:\\AAA\\Nowy folder\\Outputs\\Test\\2025-08-12-13.47.00.png: 320x320 1 Pupil, 14.2ms\n",
      "image 37/44 D:\\AAA\\Nowy folder\\Outputs\\Test\\2025-08-12-13.47.03.png: 320x320 1 Pupil, 10.7ms\n",
      "image 38/44 D:\\AAA\\Nowy folder\\Outputs\\Test\\2025-08-12-13.47.07.png: 320x320 1 Pupil, 10.9ms\n",
      "image 39/44 D:\\AAA\\Nowy folder\\Outputs\\Test\\2025-08-12-13.47.11.png: 320x320 1 Pupil, 10.8ms\n",
      "image 40/44 D:\\AAA\\Nowy folder\\Outputs\\Test\\2025-08-12-13.47.15.png: 320x320 1 Pupil, 10.9ms\n",
      "image 41/44 D:\\AAA\\Nowy folder\\Outputs\\Test\\2025-08-12-13.47.27.png: 320x320 1 Pupil, 10.9ms\n",
      "image 42/44 D:\\AAA\\Nowy folder\\Outputs\\Test\\2025-08-12-13.47.36.png: 320x320 1 Pupil, 10.9ms\n",
      "image 43/44 D:\\AAA\\Nowy folder\\Outputs\\Test\\2025-08-12-13.47.51.png: 320x320 1 Pupil, 13.4ms\n",
      "image 44/44 D:\\AAA\\Nowy folder\\Outputs\\Test\\2025-08-12-13.47.56.png: 320x320 1 Pupil, 11.1ms\n",
      "Speed: 1.0ms preprocess, 11.2ms inference, 3.4ms postprocess per image at shape (1, 3, 320, 320)\n",
      "[ultralytics.engine.results.Results object with attributes:\n",
      "\n",
      "boxes: ultralytics.engine.results.Boxes object\n",
      "keypoints: None\n",
      "masks: ultralytics.engine.results.Masks object\n",
      "names: {0: 'Pupil'}\n",
      "obb: None\n",
      "orig_img: array([[[2, 2, 2],\n",
      "        [1, 1, 1],\n",
      "        [2, 2, 2],\n",
      "        ...,\n",
      "        [2, 2, 2],\n",
      "        [2, 2, 2],\n",
      "        [2, 2, 2]],\n",
      "\n",
      "       [[2, 2, 2],\n",
      "        [2, 2, 2],\n",
      "        [2, 2, 2],\n",
      "        ...,\n",
      "        [2, 2, 2],\n",
      "        [2, 2, 2],\n",
      "        [2, 2, 2]],\n",
      "\n",
      "       [[2, 2, 2],\n",
      "        [2, 2, 2],\n",
      "        [2, 2, 2],\n",
      "        ...,\n",
      "        [2, 2, 2],\n",
      "        [2, 2, 2],\n",
      "        [3, 3, 3]],\n",
      "\n",
      "       ...,\n",
      "\n",
      "       [[0, 0, 0],\n",
      "        [0, 0, 0],\n",
      "        [0, 0, 0],\n",
      "        ...,\n",
      "        [1, 1, 1],\n",
      "        [0, 0, 0],\n",
      "        [1, 1, 1]],\n",
      "\n",
      "       [[0, 0, 0],\n",
      "        [0, 0, 0],\n",
      "        [1, 1, 1],\n",
      "        ...,\n",
      "        [1, 1, 1],\n",
      "        [1, 1, 1],\n",
      "        [1, 1, 1]],\n",
      "\n",
      "       [[0, 0, 0],\n",
      "        [0, 0, 0],\n",
      "        [0, 0, 0],\n",
      "        ...,\n",
      "        [1, 1, 1],\n",
      "        [2, 2, 2],\n",
      "        [1, 1, 1]]], shape=(300, 288, 3), dtype=uint8)\n",
      "orig_shape: (300, 288)\n",
      "path: 'D:\\\\AAA\\\\Nowy folder\\\\Outputs\\\\Test\\\\2025-08-12-13.25.48.png'\n",
      "probs: None\n",
      "save_dir: 'runs\\\\segment\\\\predict4'\n",
      "speed: {'preprocess': 1.1696999999912805, 'inference': 10.688099999242695, 'postprocess': 3.782599999794911}, ultralytics.engine.results.Results object with attributes:\n",
      "\n",
      "boxes: ultralytics.engine.results.Boxes object\n",
      "keypoints: None\n",
      "masks: ultralytics.engine.results.Masks object\n",
      "names: {0: 'Pupil'}\n",
      "obb: None\n",
      "orig_img: array([[[2, 2, 2],\n",
      "        [1, 1, 1],\n",
      "        [2, 2, 2],\n",
      "        ...,\n",
      "        [2, 2, 2],\n",
      "        [2, 2, 2],\n",
      "        [2, 2, 2]],\n",
      "\n",
      "       [[2, 2, 2],\n",
      "        [2, 2, 2],\n",
      "        [1, 1, 1],\n",
      "        ...,\n",
      "        [2, 2, 2],\n",
      "        [2, 2, 2],\n",
      "        [3, 3, 3]],\n",
      "\n",
      "       [[2, 2, 2],\n",
      "        [2, 2, 2],\n",
      "        [3, 3, 3],\n",
      "        ...,\n",
      "        [3, 3, 3],\n",
      "        [2, 2, 2],\n",
      "        [2, 2, 2]],\n",
      "\n",
      "       ...,\n",
      "\n",
      "       [[0, 0, 0],\n",
      "        [0, 0, 0],\n",
      "        [0, 0, 0],\n",
      "        ...,\n",
      "        [1, 1, 1],\n",
      "        [0, 0, 0],\n",
      "        [1, 1, 1]],\n",
      "\n",
      "       [[0, 0, 0],\n",
      "        [1, 1, 1],\n",
      "        [0, 0, 0],\n",
      "        ...,\n",
      "        [1, 1, 1],\n",
      "        [1, 1, 1],\n",
      "        [2, 2, 2]],\n",
      "\n",
      "       [[1, 1, 1],\n",
      "        [0, 0, 0],\n",
      "        [0, 0, 0],\n",
      "        ...,\n",
      "        [2, 2, 2],\n",
      "        [2, 2, 2],\n",
      "        [2, 2, 2]]], shape=(300, 288, 3), dtype=uint8)\n",
      "orig_shape: (300, 288)\n",
      "path: 'D:\\\\AAA\\\\Nowy folder\\\\Outputs\\\\Test\\\\2025-08-12-13.26.08.png'\n",
      "probs: None\n",
      "save_dir: 'runs\\\\segment\\\\predict4'\n",
      "speed: {'preprocess': 1.1180000001331791, 'inference': 10.703099999773258, 'postprocess': 4.332299999987299}, ultralytics.engine.results.Results object with attributes:\n",
      "\n",
      "boxes: ultralytics.engine.results.Boxes object\n",
      "keypoints: None\n",
      "masks: ultralytics.engine.results.Masks object\n",
      "names: {0: 'Pupil'}\n",
      "obb: None\n",
      "orig_img: array([[[2, 2, 2],\n",
      "        [2, 2, 2],\n",
      "        [2, 2, 2],\n",
      "        ...,\n",
      "        [2, 2, 2],\n",
      "        [2, 2, 2],\n",
      "        [2, 2, 2]],\n",
      "\n",
      "       [[2, 2, 2],\n",
      "        [3, 3, 3],\n",
      "        [2, 2, 2],\n",
      "        ...,\n",
      "        [2, 2, 2],\n",
      "        [2, 2, 2],\n",
      "        [2, 2, 2]],\n",
      "\n",
      "       [[2, 2, 2],\n",
      "        [2, 2, 2],\n",
      "        [2, 2, 2],\n",
      "        ...,\n",
      "        [2, 2, 2],\n",
      "        [3, 3, 3],\n",
      "        [3, 3, 3]],\n",
      "\n",
      "       ...,\n",
      "\n",
      "       [[0, 0, 0],\n",
      "        [0, 0, 0],\n",
      "        [1, 1, 1],\n",
      "        ...,\n",
      "        [1, 1, 1],\n",
      "        [1, 1, 1],\n",
      "        [1, 1, 1]],\n",
      "\n",
      "       [[0, 0, 0],\n",
      "        [0, 0, 0],\n",
      "        [0, 0, 0],\n",
      "        ...,\n",
      "        [1, 1, 1],\n",
      "        [1, 1, 1],\n",
      "        [2, 2, 2]],\n",
      "\n",
      "       [[0, 0, 0],\n",
      "        [1, 1, 1],\n",
      "        [0, 0, 0],\n",
      "        ...,\n",
      "        [1, 1, 1],\n",
      "        [2, 2, 2],\n",
      "        [1, 1, 1]]], shape=(300, 288, 3), dtype=uint8)\n",
      "orig_shape: (300, 288)\n",
      "path: 'D:\\\\AAA\\\\Nowy folder\\\\Outputs\\\\Test\\\\2025-08-12-13.26.18.png'\n",
      "probs: None\n",
      "save_dir: 'runs\\\\segment\\\\predict4'\n",
      "speed: {'preprocess': 1.000700000076904, 'inference': 11.123700000098324, 'postprocess': 3.5643000001073233}, ultralytics.engine.results.Results object with attributes:\n",
      "\n",
      "boxes: ultralytics.engine.results.Boxes object\n",
      "keypoints: None\n",
      "masks: ultralytics.engine.results.Masks object\n",
      "names: {0: 'Pupil'}\n",
      "obb: None\n",
      "orig_img: array([[[1, 1, 1],\n",
      "        [2, 2, 2],\n",
      "        [2, 2, 2],\n",
      "        ...,\n",
      "        [2, 2, 2],\n",
      "        [2, 2, 2],\n",
      "        [2, 2, 2]],\n",
      "\n",
      "       [[2, 2, 2],\n",
      "        [1, 1, 1],\n",
      "        [2, 2, 2],\n",
      "        ...,\n",
      "        [3, 3, 3],\n",
      "        [2, 2, 2],\n",
      "        [2, 2, 2]],\n",
      "\n",
      "       [[2, 2, 2],\n",
      "        [2, 2, 2],\n",
      "        [2, 2, 2],\n",
      "        ...,\n",
      "        [2, 2, 2],\n",
      "        [3, 3, 3],\n",
      "        [3, 3, 3]],\n",
      "\n",
      "       ...,\n",
      "\n",
      "       [[0, 0, 0],\n",
      "        [0, 0, 0],\n",
      "        [0, 0, 0],\n",
      "        ...,\n",
      "        [1, 1, 1],\n",
      "        [1, 1, 1],\n",
      "        [1, 1, 1]],\n",
      "\n",
      "       [[0, 0, 0],\n",
      "        [0, 0, 0],\n",
      "        [1, 1, 1],\n",
      "        ...,\n",
      "        [1, 1, 1],\n",
      "        [1, 1, 1],\n",
      "        [1, 1, 1]],\n",
      "\n",
      "       [[0, 0, 0],\n",
      "        [0, 0, 0],\n",
      "        [0, 0, 0],\n",
      "        ...,\n",
      "        [1, 1, 1],\n",
      "        [1, 1, 1],\n",
      "        [1, 1, 1]]], shape=(300, 288, 3), dtype=uint8)\n",
      "orig_shape: (300, 288)\n",
      "path: 'D:\\\\AAA\\\\Nowy folder\\\\Outputs\\\\Test\\\\2025-08-12-13.26.22.png'\n",
      "probs: None\n",
      "save_dir: 'runs\\\\segment\\\\predict4'\n",
      "speed: {'preprocess': 0.8491000007779803, 'inference': 10.684500000024855, 'postprocess': 5.330399999365909}, ultralytics.engine.results.Results object with attributes:\n",
      "\n",
      "boxes: ultralytics.engine.results.Boxes object\n",
      "keypoints: None\n",
      "masks: ultralytics.engine.results.Masks object\n",
      "names: {0: 'Pupil'}\n",
      "obb: None\n",
      "orig_img: array([[[2, 2, 2],\n",
      "        [1, 1, 1],\n",
      "        [2, 2, 2],\n",
      "        ...,\n",
      "        [2, 2, 2],\n",
      "        [2, 2, 2],\n",
      "        [2, 2, 2]],\n",
      "\n",
      "       [[2, 2, 2],\n",
      "        [1, 1, 1],\n",
      "        [1, 1, 1],\n",
      "        ...,\n",
      "        [2, 2, 2],\n",
      "        [2, 2, 2],\n",
      "        [2, 2, 2]],\n",
      "\n",
      "       [[2, 2, 2],\n",
      "        [2, 2, 2],\n",
      "        [2, 2, 2],\n",
      "        ...,\n",
      "        [2, 2, 2],\n",
      "        [2, 2, 2],\n",
      "        [2, 2, 2]],\n",
      "\n",
      "       ...,\n",
      "\n",
      "       [[0, 0, 0],\n",
      "        [0, 0, 0],\n",
      "        [0, 0, 0],\n",
      "        ...,\n",
      "        [0, 0, 0],\n",
      "        [0, 0, 0],\n",
      "        [1, 1, 1]],\n",
      "\n",
      "       [[1, 1, 1],\n",
      "        [0, 0, 0],\n",
      "        [0, 0, 0],\n",
      "        ...,\n",
      "        [1, 1, 1],\n",
      "        [0, 0, 0],\n",
      "        [0, 0, 0]],\n",
      "\n",
      "       [[1, 1, 1],\n",
      "        [0, 0, 0],\n",
      "        [0, 0, 0],\n",
      "        ...,\n",
      "        [1, 1, 1],\n",
      "        [1, 1, 1],\n",
      "        [0, 0, 0]]], shape=(300, 288, 3), dtype=uint8)\n",
      "orig_shape: (300, 288)\n",
      "path: 'D:\\\\AAA\\\\Nowy folder\\\\Outputs\\\\Test\\\\2025-08-12-13.26.48.png'\n",
      "probs: None\n",
      "save_dir: 'runs\\\\segment\\\\predict4'\n",
      "speed: {'preprocess': 0.8562000002712011, 'inference': 10.884999999689171, 'postprocess': 3.4321000002819346}, ultralytics.engine.results.Results object with attributes:\n",
      "\n",
      "boxes: ultralytics.engine.results.Boxes object\n",
      "keypoints: None\n",
      "masks: ultralytics.engine.results.Masks object\n",
      "names: {0: 'Pupil'}\n",
      "obb: None\n",
      "orig_img: array([[[2, 2, 2],\n",
      "        [1, 1, 1],\n",
      "        [1, 1, 1],\n",
      "        ...,\n",
      "        [2, 2, 2],\n",
      "        [2, 2, 2],\n",
      "        [3, 3, 3]],\n",
      "\n",
      "       [[2, 2, 2],\n",
      "        [1, 1, 1],\n",
      "        [1, 1, 1],\n",
      "        ...,\n",
      "        [2, 2, 2],\n",
      "        [2, 2, 2],\n",
      "        [2, 2, 2]],\n",
      "\n",
      "       [[2, 2, 2],\n",
      "        [2, 2, 2],\n",
      "        [2, 2, 2],\n",
      "        ...,\n",
      "        [1, 1, 1],\n",
      "        [3, 3, 3],\n",
      "        [2, 2, 2]],\n",
      "\n",
      "       ...,\n",
      "\n",
      "       [[0, 0, 0],\n",
      "        [0, 0, 0],\n",
      "        [0, 0, 0],\n",
      "        ...,\n",
      "        [2, 2, 2],\n",
      "        [1, 1, 1],\n",
      "        [2, 2, 2]],\n",
      "\n",
      "       [[0, 0, 0],\n",
      "        [0, 0, 0],\n",
      "        [1, 1, 1],\n",
      "        ...,\n",
      "        [1, 1, 1],\n",
      "        [1, 1, 1],\n",
      "        [1, 1, 1]],\n",
      "\n",
      "       [[0, 0, 0],\n",
      "        [0, 0, 0],\n",
      "        [0, 0, 0],\n",
      "        ...,\n",
      "        [2, 2, 2],\n",
      "        [1, 1, 1],\n",
      "        [1, 1, 1]]], shape=(300, 288, 3), dtype=uint8)\n",
      "orig_shape: (300, 288)\n",
      "path: 'D:\\\\AAA\\\\Nowy folder\\\\Outputs\\\\Test\\\\2025-08-12-13.42.36.png'\n",
      "probs: None\n",
      "save_dir: 'runs\\\\segment\\\\predict4'\n",
      "speed: {'preprocess': 0.9638000001359615, 'inference': 11.008599999513535, 'postprocess': 3.1903999997666688}, ultralytics.engine.results.Results object with attributes:\n",
      "\n",
      "boxes: ultralytics.engine.results.Boxes object\n",
      "keypoints: None\n",
      "masks: ultralytics.engine.results.Masks object\n",
      "names: {0: 'Pupil'}\n",
      "obb: None\n",
      "orig_img: array([[[1, 1, 1],\n",
      "        [1, 1, 1],\n",
      "        [2, 2, 2],\n",
      "        ...,\n",
      "        [2, 2, 2],\n",
      "        [2, 2, 2],\n",
      "        [2, 2, 2]],\n",
      "\n",
      "       [[1, 1, 1],\n",
      "        [1, 1, 1],\n",
      "        [1, 1, 1],\n",
      "        ...,\n",
      "        [1, 1, 1],\n",
      "        [2, 2, 2],\n",
      "        [2, 2, 2]],\n",
      "\n",
      "       [[2, 2, 2],\n",
      "        [2, 2, 2],\n",
      "        [2, 2, 2],\n",
      "        ...,\n",
      "        [2, 2, 2],\n",
      "        [2, 2, 2],\n",
      "        [3, 3, 3]],\n",
      "\n",
      "       ...,\n",
      "\n",
      "       [[0, 0, 0],\n",
      "        [0, 0, 0],\n",
      "        [0, 0, 0],\n",
      "        ...,\n",
      "        [1, 1, 1],\n",
      "        [2, 2, 2],\n",
      "        [2, 2, 2]],\n",
      "\n",
      "       [[0, 0, 0],\n",
      "        [0, 0, 0],\n",
      "        [0, 0, 0],\n",
      "        ...,\n",
      "        [1, 1, 1],\n",
      "        [1, 1, 1],\n",
      "        [1, 1, 1]],\n",
      "\n",
      "       [[0, 0, 0],\n",
      "        [0, 0, 0],\n",
      "        [0, 0, 0],\n",
      "        ...,\n",
      "        [1, 1, 1],\n",
      "        [1, 1, 1],\n",
      "        [0, 0, 0]]], shape=(300, 288, 3), dtype=uint8)\n",
      "orig_shape: (300, 288)\n",
      "path: 'D:\\\\AAA\\\\Nowy folder\\\\Outputs\\\\Test\\\\2025-08-12-13.43.24.png'\n",
      "probs: None\n",
      "save_dir: 'runs\\\\segment\\\\predict4'\n",
      "speed: {'preprocess': 1.1040999997931067, 'inference': 10.814400000526803, 'postprocess': 3.260700000282668}, ultralytics.engine.results.Results object with attributes:\n",
      "\n",
      "boxes: ultralytics.engine.results.Boxes object\n",
      "keypoints: None\n",
      "masks: ultralytics.engine.results.Masks object\n",
      "names: {0: 'Pupil'}\n",
      "obb: None\n",
      "orig_img: array([[[2, 2, 2],\n",
      "        [2, 2, 2],\n",
      "        [1, 1, 1],\n",
      "        ...,\n",
      "        [2, 2, 2],\n",
      "        [3, 3, 3],\n",
      "        [2, 2, 2]],\n",
      "\n",
      "       [[2, 2, 2],\n",
      "        [2, 2, 2],\n",
      "        [2, 2, 2],\n",
      "        ...,\n",
      "        [2, 2, 2],\n",
      "        [2, 2, 2],\n",
      "        [2, 2, 2]],\n",
      "\n",
      "       [[2, 2, 2],\n",
      "        [2, 2, 2],\n",
      "        [3, 3, 3],\n",
      "        ...,\n",
      "        [2, 2, 2],\n",
      "        [2, 2, 2],\n",
      "        [3, 3, 3]],\n",
      "\n",
      "       ...,\n",
      "\n",
      "       [[0, 0, 0],\n",
      "        [1, 1, 1],\n",
      "        [0, 0, 0],\n",
      "        ...,\n",
      "        [1, 1, 1],\n",
      "        [2, 2, 2],\n",
      "        [2, 2, 2]],\n",
      "\n",
      "       [[0, 0, 0],\n",
      "        [0, 0, 0],\n",
      "        [1, 1, 1],\n",
      "        ...,\n",
      "        [1, 1, 1],\n",
      "        [2, 2, 2],\n",
      "        [1, 1, 1]],\n",
      "\n",
      "       [[0, 0, 0],\n",
      "        [0, 0, 0],\n",
      "        [0, 0, 0],\n",
      "        ...,\n",
      "        [1, 1, 1],\n",
      "        [2, 2, 2],\n",
      "        [1, 1, 1]]], shape=(300, 288, 3), dtype=uint8)\n",
      "orig_shape: (300, 288)\n",
      "path: 'D:\\\\AAA\\\\Nowy folder\\\\Outputs\\\\Test\\\\2025-08-12-13.43.46.png'\n",
      "probs: None\n",
      "save_dir: 'runs\\\\segment\\\\predict4'\n",
      "speed: {'preprocess': 1.2993999998798245, 'inference': 10.589399999844318, 'postprocess': 3.6521999991236953}, ultralytics.engine.results.Results object with attributes:\n",
      "\n",
      "boxes: ultralytics.engine.results.Boxes object\n",
      "keypoints: None\n",
      "masks: ultralytics.engine.results.Masks object\n",
      "names: {0: 'Pupil'}\n",
      "obb: None\n",
      "orig_img: array([[[2, 2, 2],\n",
      "        [2, 2, 2],\n",
      "        [2, 2, 2],\n",
      "        ...,\n",
      "        [2, 2, 2],\n",
      "        [2, 2, 2],\n",
      "        [2, 2, 2]],\n",
      "\n",
      "       [[2, 2, 2],\n",
      "        [2, 2, 2],\n",
      "        [2, 2, 2],\n",
      "        ...,\n",
      "        [3, 3, 3],\n",
      "        [2, 2, 2],\n",
      "        [3, 3, 3]],\n",
      "\n",
      "       [[2, 2, 2],\n",
      "        [3, 3, 3],\n",
      "        [2, 2, 2],\n",
      "        ...,\n",
      "        [3, 3, 3],\n",
      "        [3, 3, 3],\n",
      "        [2, 2, 2]],\n",
      "\n",
      "       ...,\n",
      "\n",
      "       [[0, 0, 0],\n",
      "        [0, 0, 0],\n",
      "        [1, 1, 1],\n",
      "        ...,\n",
      "        [2, 2, 2],\n",
      "        [2, 2, 2],\n",
      "        [2, 2, 2]],\n",
      "\n",
      "       [[0, 0, 0],\n",
      "        [1, 1, 1],\n",
      "        [0, 0, 0],\n",
      "        ...,\n",
      "        [1, 1, 1],\n",
      "        [2, 2, 2],\n",
      "        [1, 1, 1]],\n",
      "\n",
      "       [[0, 0, 0],\n",
      "        [1, 1, 1],\n",
      "        [0, 0, 0],\n",
      "        ...,\n",
      "        [2, 2, 2],\n",
      "        [1, 1, 1],\n",
      "        [1, 1, 1]]], shape=(300, 288, 3), dtype=uint8)\n",
      "orig_shape: (300, 288)\n",
      "path: 'D:\\\\AAA\\\\Nowy folder\\\\Outputs\\\\Test\\\\2025-08-12-13.43.50.png'\n",
      "probs: None\n",
      "save_dir: 'runs\\\\segment\\\\predict4'\n",
      "speed: {'preprocess': 0.9458000004087808, 'inference': 10.540799999944284, 'postprocess': 4.76280000020779}, ultralytics.engine.results.Results object with attributes:\n",
      "\n",
      "boxes: ultralytics.engine.results.Boxes object\n",
      "keypoints: None\n",
      "masks: ultralytics.engine.results.Masks object\n",
      "names: {0: 'Pupil'}\n",
      "obb: None\n",
      "orig_img: array([[[2, 2, 2],\n",
      "        [2, 2, 2],\n",
      "        [2, 2, 2],\n",
      "        ...,\n",
      "        [2, 2, 2],\n",
      "        [2, 2, 2],\n",
      "        [2, 2, 2]],\n",
      "\n",
      "       [[1, 1, 1],\n",
      "        [2, 2, 2],\n",
      "        [2, 2, 2],\n",
      "        ...,\n",
      "        [2, 2, 2],\n",
      "        [2, 2, 2],\n",
      "        [2, 2, 2]],\n",
      "\n",
      "       [[2, 2, 2],\n",
      "        [2, 2, 2],\n",
      "        [2, 2, 2],\n",
      "        ...,\n",
      "        [2, 2, 2],\n",
      "        [3, 3, 3],\n",
      "        [2, 2, 2]],\n",
      "\n",
      "       ...,\n",
      "\n",
      "       [[0, 0, 0],\n",
      "        [1, 1, 1],\n",
      "        [1, 1, 1],\n",
      "        ...,\n",
      "        [2, 2, 2],\n",
      "        [3, 3, 3],\n",
      "        [3, 3, 3]],\n",
      "\n",
      "       [[0, 0, 0],\n",
      "        [0, 0, 0],\n",
      "        [1, 1, 1],\n",
      "        ...,\n",
      "        [2, 2, 2],\n",
      "        [1, 1, 1],\n",
      "        [2, 2, 2]],\n",
      "\n",
      "       [[0, 0, 0],\n",
      "        [1, 1, 1],\n",
      "        [0, 0, 0],\n",
      "        ...,\n",
      "        [1, 1, 1],\n",
      "        [1, 1, 1],\n",
      "        [1, 1, 1]]], shape=(300, 288, 3), dtype=uint8)\n",
      "orig_shape: (300, 288)\n",
      "path: 'D:\\\\AAA\\\\Nowy folder\\\\Outputs\\\\Test\\\\2025-08-12-13.43.54.png'\n",
      "probs: None\n",
      "save_dir: 'runs\\\\segment\\\\predict4'\n",
      "speed: {'preprocess': 0.8324000000357046, 'inference': 11.280599999736296, 'postprocess': 3.3101999997597886}, ultralytics.engine.results.Results object with attributes:\n",
      "\n",
      "boxes: ultralytics.engine.results.Boxes object\n",
      "keypoints: None\n",
      "masks: ultralytics.engine.results.Masks object\n",
      "names: {0: 'Pupil'}\n",
      "obb: None\n",
      "orig_img: array([[[2, 2, 2],\n",
      "        [1, 1, 1],\n",
      "        [2, 2, 2],\n",
      "        ...,\n",
      "        [3, 3, 3],\n",
      "        [3, 3, 3],\n",
      "        [2, 2, 2]],\n",
      "\n",
      "       [[2, 2, 2],\n",
      "        [2, 2, 2],\n",
      "        [2, 2, 2],\n",
      "        ...,\n",
      "        [2, 2, 2],\n",
      "        [3, 3, 3],\n",
      "        [2, 2, 2]],\n",
      "\n",
      "       [[3, 3, 3],\n",
      "        [2, 2, 2],\n",
      "        [3, 3, 3],\n",
      "        ...,\n",
      "        [3, 3, 3],\n",
      "        [3, 3, 3],\n",
      "        [3, 3, 3]],\n",
      "\n",
      "       ...,\n",
      "\n",
      "       [[0, 0, 0],\n",
      "        [1, 1, 1],\n",
      "        [1, 1, 1],\n",
      "        ...,\n",
      "        [2, 2, 2],\n",
      "        [2, 2, 2],\n",
      "        [2, 2, 2]],\n",
      "\n",
      "       [[0, 0, 0],\n",
      "        [0, 0, 0],\n",
      "        [1, 1, 1],\n",
      "        ...,\n",
      "        [1, 1, 1],\n",
      "        [1, 1, 1],\n",
      "        [1, 1, 1]],\n",
      "\n",
      "       [[0, 0, 0],\n",
      "        [1, 1, 1],\n",
      "        [1, 1, 1],\n",
      "        ...,\n",
      "        [1, 1, 1],\n",
      "        [2, 2, 2],\n",
      "        [1, 1, 1]]], shape=(300, 288, 3), dtype=uint8)\n",
      "orig_shape: (300, 288)\n",
      "path: 'D:\\\\AAA\\\\Nowy folder\\\\Outputs\\\\Test\\\\2025-08-12-13.43.58.png'\n",
      "probs: None\n",
      "save_dir: 'runs\\\\segment\\\\predict4'\n",
      "speed: {'preprocess': 1.030499999615131, 'inference': 11.665299999549461, 'postprocess': 3.3254999998462154}, ultralytics.engine.results.Results object with attributes:\n",
      "\n",
      "boxes: ultralytics.engine.results.Boxes object\n",
      "keypoints: None\n",
      "masks: None\n",
      "names: {0: 'Pupil'}\n",
      "obb: None\n",
      "orig_img: array([[[2, 2, 2],\n",
      "        [2, 2, 2],\n",
      "        [2, 2, 2],\n",
      "        ...,\n",
      "        [3, 3, 3],\n",
      "        [3, 3, 3],\n",
      "        [3, 3, 3]],\n",
      "\n",
      "       [[2, 2, 2],\n",
      "        [2, 2, 2],\n",
      "        [2, 2, 2],\n",
      "        ...,\n",
      "        [2, 2, 2],\n",
      "        [3, 3, 3],\n",
      "        [3, 3, 3]],\n",
      "\n",
      "       [[2, 2, 2],\n",
      "        [2, 2, 2],\n",
      "        [2, 2, 2],\n",
      "        ...,\n",
      "        [3, 3, 3],\n",
      "        [3, 3, 3],\n",
      "        [3, 3, 3]],\n",
      "\n",
      "       ...,\n",
      "\n",
      "       [[0, 0, 0],\n",
      "        [0, 0, 0],\n",
      "        [0, 0, 0],\n",
      "        ...,\n",
      "        [1, 1, 1],\n",
      "        [2, 2, 2],\n",
      "        [2, 2, 2]],\n",
      "\n",
      "       [[1, 1, 1],\n",
      "        [1, 1, 1],\n",
      "        [1, 1, 1],\n",
      "        ...,\n",
      "        [2, 2, 2],\n",
      "        [1, 1, 1],\n",
      "        [2, 2, 2]],\n",
      "\n",
      "       [[1, 1, 1],\n",
      "        [0, 0, 0],\n",
      "        [1, 1, 1],\n",
      "        ...,\n",
      "        [1, 1, 1],\n",
      "        [1, 1, 1],\n",
      "        [1, 1, 1]]], shape=(300, 288, 3), dtype=uint8)\n",
      "orig_shape: (300, 288)\n",
      "path: 'D:\\\\AAA\\\\Nowy folder\\\\Outputs\\\\Test\\\\2025-08-12-13.44.02.png'\n",
      "probs: None\n",
      "save_dir: 'runs\\\\segment\\\\predict4'\n",
      "speed: {'preprocess': 0.8339999994859681, 'inference': 10.967799999889394, 'postprocess': 0.9390000004714238}, ultralytics.engine.results.Results object with attributes:\n",
      "\n",
      "boxes: ultralytics.engine.results.Boxes object\n",
      "keypoints: None\n",
      "masks: None\n",
      "names: {0: 'Pupil'}\n",
      "obb: None\n",
      "orig_img: array([[[3, 3, 3],\n",
      "        [2, 2, 2],\n",
      "        [3, 3, 3],\n",
      "        ...,\n",
      "        [3, 3, 3],\n",
      "        [3, 3, 3],\n",
      "        [3, 3, 3]],\n",
      "\n",
      "       [[3, 3, 3],\n",
      "        [2, 2, 2],\n",
      "        [2, 2, 2],\n",
      "        ...,\n",
      "        [3, 3, 3],\n",
      "        [3, 3, 3],\n",
      "        [3, 3, 3]],\n",
      "\n",
      "       [[3, 3, 3],\n",
      "        [3, 3, 3],\n",
      "        [2, 2, 2],\n",
      "        ...,\n",
      "        [3, 3, 3],\n",
      "        [3, 3, 3],\n",
      "        [3, 3, 3]],\n",
      "\n",
      "       ...,\n",
      "\n",
      "       [[0, 0, 0],\n",
      "        [1, 1, 1],\n",
      "        [1, 1, 1],\n",
      "        ...,\n",
      "        [2, 2, 2],\n",
      "        [3, 3, 3],\n",
      "        [2, 2, 2]],\n",
      "\n",
      "       [[1, 1, 1],\n",
      "        [0, 0, 0],\n",
      "        [1, 1, 1],\n",
      "        ...,\n",
      "        [2, 2, 2],\n",
      "        [2, 2, 2],\n",
      "        [2, 2, 2]],\n",
      "\n",
      "       [[0, 0, 0],\n",
      "        [1, 1, 1],\n",
      "        [1, 1, 1],\n",
      "        ...,\n",
      "        [1, 1, 1],\n",
      "        [2, 2, 2],\n",
      "        [2, 2, 2]]], shape=(300, 288, 3), dtype=uint8)\n",
      "orig_shape: (300, 288)\n",
      "path: 'D:\\\\AAA\\\\Nowy folder\\\\Outputs\\\\Test\\\\2025-08-12-13.44.05.png'\n",
      "probs: None\n",
      "save_dir: 'runs\\\\segment\\\\predict4'\n",
      "speed: {'preprocess': 0.962999999501335, 'inference': 10.80169999931968, 'postprocess': 1.017699999465549}, ultralytics.engine.results.Results object with attributes:\n",
      "\n",
      "boxes: ultralytics.engine.results.Boxes object\n",
      "keypoints: None\n",
      "masks: None\n",
      "names: {0: 'Pupil'}\n",
      "obb: None\n",
      "orig_img: array([[[2, 2, 2],\n",
      "        [2, 2, 2],\n",
      "        [2, 2, 2],\n",
      "        ...,\n",
      "        [3, 3, 3],\n",
      "        [2, 2, 2],\n",
      "        [2, 2, 2]],\n",
      "\n",
      "       [[1, 1, 1],\n",
      "        [3, 3, 3],\n",
      "        [2, 2, 2],\n",
      "        ...,\n",
      "        [3, 3, 3],\n",
      "        [2, 2, 2],\n",
      "        [3, 3, 3]],\n",
      "\n",
      "       [[2, 2, 2],\n",
      "        [3, 3, 3],\n",
      "        [3, 3, 3],\n",
      "        ...,\n",
      "        [2, 2, 2],\n",
      "        [3, 3, 3],\n",
      "        [3, 3, 3]],\n",
      "\n",
      "       ...,\n",
      "\n",
      "       [[0, 0, 0],\n",
      "        [1, 1, 1],\n",
      "        [1, 1, 1],\n",
      "        ...,\n",
      "        [2, 2, 2],\n",
      "        [3, 3, 3],\n",
      "        [2, 2, 2]],\n",
      "\n",
      "       [[0, 0, 0],\n",
      "        [0, 0, 0],\n",
      "        [1, 1, 1],\n",
      "        ...,\n",
      "        [2, 2, 2],\n",
      "        [1, 1, 1],\n",
      "        [1, 1, 1]],\n",
      "\n",
      "       [[0, 0, 0],\n",
      "        [0, 0, 0],\n",
      "        [0, 0, 0],\n",
      "        ...,\n",
      "        [1, 1, 1],\n",
      "        [1, 1, 1],\n",
      "        [1, 1, 1]]], shape=(300, 288, 3), dtype=uint8)\n",
      "orig_shape: (300, 288)\n",
      "path: 'D:\\\\AAA\\\\Nowy folder\\\\Outputs\\\\Test\\\\2025-08-12-13.44.09.png'\n",
      "probs: None\n",
      "save_dir: 'runs\\\\segment\\\\predict4'\n",
      "speed: {'preprocess': 1.0226000003967783, 'inference': 13.94700000037119, 'postprocess': 1.1806000002252404}, ultralytics.engine.results.Results object with attributes:\n",
      "\n",
      "boxes: ultralytics.engine.results.Boxes object\n",
      "keypoints: None\n",
      "masks: ultralytics.engine.results.Masks object\n",
      "names: {0: 'Pupil'}\n",
      "obb: None\n",
      "orig_img: array([[[1, 1, 1],\n",
      "        [1, 1, 1],\n",
      "        [2, 2, 2],\n",
      "        ...,\n",
      "        [2, 2, 2],\n",
      "        [2, 2, 2],\n",
      "        [1, 1, 1]],\n",
      "\n",
      "       [[2, 2, 2],\n",
      "        [2, 2, 2],\n",
      "        [2, 2, 2],\n",
      "        ...,\n",
      "        [3, 3, 3],\n",
      "        [3, 3, 3],\n",
      "        [3, 3, 3]],\n",
      "\n",
      "       [[2, 2, 2],\n",
      "        [1, 1, 1],\n",
      "        [2, 2, 2],\n",
      "        ...,\n",
      "        [2, 2, 2],\n",
      "        [3, 3, 3],\n",
      "        [3, 3, 3]],\n",
      "\n",
      "       ...,\n",
      "\n",
      "       [[1, 1, 1],\n",
      "        [0, 0, 0],\n",
      "        [1, 1, 1],\n",
      "        ...,\n",
      "        [1, 1, 1],\n",
      "        [2, 2, 2],\n",
      "        [2, 2, 2]],\n",
      "\n",
      "       [[0, 0, 0],\n",
      "        [1, 1, 1],\n",
      "        [1, 1, 1],\n",
      "        ...,\n",
      "        [2, 2, 2],\n",
      "        [1, 1, 1],\n",
      "        [1, 1, 1]],\n",
      "\n",
      "       [[1, 1, 1],\n",
      "        [0, 0, 0],\n",
      "        [0, 0, 0],\n",
      "        ...,\n",
      "        [2, 2, 2],\n",
      "        [1, 1, 1],\n",
      "        [1, 1, 1]]], shape=(300, 288, 3), dtype=uint8)\n",
      "orig_shape: (300, 288)\n",
      "path: 'D:\\\\AAA\\\\Nowy folder\\\\Outputs\\\\Test\\\\2025-08-12-13.44.19.png'\n",
      "probs: None\n",
      "save_dir: 'runs\\\\segment\\\\predict4'\n",
      "speed: {'preprocess': 1.0223999997833744, 'inference': 11.281399999461428, 'postprocess': 3.9271000005101087}, ultralytics.engine.results.Results object with attributes:\n",
      "\n",
      "boxes: ultralytics.engine.results.Boxes object\n",
      "keypoints: None\n",
      "masks: ultralytics.engine.results.Masks object\n",
      "names: {0: 'Pupil'}\n",
      "obb: None\n",
      "orig_img: array([[[1, 1, 1],\n",
      "        [1, 1, 1],\n",
      "        [1, 1, 1],\n",
      "        ...,\n",
      "        [2, 2, 2],\n",
      "        [2, 2, 2],\n",
      "        [1, 1, 1]],\n",
      "\n",
      "       [[2, 2, 2],\n",
      "        [1, 1, 1],\n",
      "        [2, 2, 2],\n",
      "        ...,\n",
      "        [2, 2, 2],\n",
      "        [2, 2, 2],\n",
      "        [2, 2, 2]],\n",
      "\n",
      "       [[2, 2, 2],\n",
      "        [2, 2, 2],\n",
      "        [3, 3, 3],\n",
      "        ...,\n",
      "        [2, 2, 2],\n",
      "        [3, 3, 3],\n",
      "        [2, 2, 2]],\n",
      "\n",
      "       ...,\n",
      "\n",
      "       [[1, 1, 1],\n",
      "        [0, 0, 0],\n",
      "        [0, 0, 0],\n",
      "        ...,\n",
      "        [1, 1, 1],\n",
      "        [2, 2, 2],\n",
      "        [2, 2, 2]],\n",
      "\n",
      "       [[0, 0, 0],\n",
      "        [0, 0, 0],\n",
      "        [1, 1, 1],\n",
      "        ...,\n",
      "        [1, 1, 1],\n",
      "        [2, 2, 2],\n",
      "        [1, 1, 1]],\n",
      "\n",
      "       [[1, 1, 1],\n",
      "        [0, 0, 0],\n",
      "        [1, 1, 1],\n",
      "        ...,\n",
      "        [2, 2, 2],\n",
      "        [1, 1, 1],\n",
      "        [1, 1, 1]]], shape=(300, 288, 3), dtype=uint8)\n",
      "orig_shape: (300, 288)\n",
      "path: 'D:\\\\AAA\\\\Nowy folder\\\\Outputs\\\\Test\\\\2025-08-12-13.44.30.png'\n",
      "probs: None\n",
      "save_dir: 'runs\\\\segment\\\\predict4'\n",
      "speed: {'preprocess': 1.0068000001410837, 'inference': 10.679500000151165, 'postprocess': 3.284899999925983}, ultralytics.engine.results.Results object with attributes:\n",
      "\n",
      "boxes: ultralytics.engine.results.Boxes object\n",
      "keypoints: None\n",
      "masks: ultralytics.engine.results.Masks object\n",
      "names: {0: 'Pupil'}\n",
      "obb: None\n",
      "orig_img: array([[[ 1,  1,  1],\n",
      "        [ 1,  1,  1],\n",
      "        [ 1,  1,  1],\n",
      "        ...,\n",
      "        [ 2,  2,  2],\n",
      "        [ 2,  2,  2],\n",
      "        [ 1,  1,  1]],\n",
      "\n",
      "       [[ 1,  1,  1],\n",
      "        [ 1,  1,  1],\n",
      "        [ 2,  2,  2],\n",
      "        ...,\n",
      "        [ 2,  2,  2],\n",
      "        [ 2,  2,  2],\n",
      "        [ 1,  1,  1]],\n",
      "\n",
      "       [[ 2,  2,  2],\n",
      "        [ 2,  2,  2],\n",
      "        [ 2,  2,  2],\n",
      "        ...,\n",
      "        [ 2,  2,  2],\n",
      "        [ 2,  2,  2],\n",
      "        [ 2,  2,  2]],\n",
      "\n",
      "       ...,\n",
      "\n",
      "       [[ 0,  0,  0],\n",
      "        [ 0,  0,  0],\n",
      "        [ 1,  1,  1],\n",
      "        ...,\n",
      "        [10, 10, 10],\n",
      "        [10, 10, 10],\n",
      "        [ 7,  7,  7]],\n",
      "\n",
      "       [[ 0,  0,  0],\n",
      "        [ 0,  0,  0],\n",
      "        [ 0,  0,  0],\n",
      "        ...,\n",
      "        [ 8,  8,  8],\n",
      "        [ 5,  5,  5],\n",
      "        [ 4,  4,  4]],\n",
      "\n",
      "       [[ 1,  1,  1],\n",
      "        [ 0,  0,  0],\n",
      "        [ 0,  0,  0],\n",
      "        ...,\n",
      "        [ 5,  5,  5],\n",
      "        [ 4,  4,  4],\n",
      "        [ 3,  3,  3]]], shape=(300, 288, 3), dtype=uint8)\n",
      "orig_shape: (300, 288)\n",
      "path: 'D:\\\\AAA\\\\Nowy folder\\\\Outputs\\\\Test\\\\2025-08-12-13.44.41.png'\n",
      "probs: None\n",
      "save_dir: 'runs\\\\segment\\\\predict4'\n",
      "speed: {'preprocess': 1.585500000146567, 'inference': 10.353000000577595, 'postprocess': 3.7592999997286825}, ultralytics.engine.results.Results object with attributes:\n",
      "\n",
      "boxes: ultralytics.engine.results.Boxes object\n",
      "keypoints: None\n",
      "masks: ultralytics.engine.results.Masks object\n",
      "names: {0: 'Pupil'}\n",
      "obb: None\n",
      "orig_img: array([[[ 1,  1,  1],\n",
      "        [ 1,  1,  1],\n",
      "        [ 2,  2,  2],\n",
      "        ...,\n",
      "        [ 1,  1,  1],\n",
      "        [ 3,  3,  3],\n",
      "        [ 2,  2,  2]],\n",
      "\n",
      "       [[ 1,  1,  1],\n",
      "        [ 1,  1,  1],\n",
      "        [ 2,  2,  2],\n",
      "        ...,\n",
      "        [ 1,  1,  1],\n",
      "        [ 2,  2,  2],\n",
      "        [ 2,  2,  2]],\n",
      "\n",
      "       [[ 2,  2,  2],\n",
      "        [ 2,  2,  2],\n",
      "        [ 3,  3,  3],\n",
      "        ...,\n",
      "        [ 2,  2,  2],\n",
      "        [ 3,  3,  3],\n",
      "        [ 1,  1,  1]],\n",
      "\n",
      "       ...,\n",
      "\n",
      "       [[ 0,  0,  0],\n",
      "        [ 0,  0,  0],\n",
      "        [ 1,  1,  1],\n",
      "        ...,\n",
      "        [13, 13, 13],\n",
      "        [ 9,  9,  9],\n",
      "        [ 8,  8,  8]],\n",
      "\n",
      "       [[ 0,  0,  0],\n",
      "        [ 0,  0,  0],\n",
      "        [ 0,  0,  0],\n",
      "        ...,\n",
      "        [ 8,  8,  8],\n",
      "        [ 6,  6,  6],\n",
      "        [ 4,  4,  4]],\n",
      "\n",
      "       [[ 0,  0,  0],\n",
      "        [ 0,  0,  0],\n",
      "        [ 1,  1,  1],\n",
      "        ...,\n",
      "        [ 4,  4,  4],\n",
      "        [ 4,  4,  4],\n",
      "        [ 2,  2,  2]]], shape=(300, 288, 3), dtype=uint8)\n",
      "orig_shape: (300, 288)\n",
      "path: 'D:\\\\AAA\\\\Nowy folder\\\\Outputs\\\\Test\\\\2025-08-12-13.44.53.png'\n",
      "probs: None\n",
      "save_dir: 'runs\\\\segment\\\\predict4'\n",
      "speed: {'preprocess': 0.9952000000339467, 'inference': 10.546999999860418, 'postprocess': 3.9815999998609186}, ultralytics.engine.results.Results object with attributes:\n",
      "\n",
      "boxes: ultralytics.engine.results.Boxes object\n",
      "keypoints: None\n",
      "masks: ultralytics.engine.results.Masks object\n",
      "names: {0: 'Pupil'}\n",
      "obb: None\n",
      "orig_img: array([[[ 1,  1,  1],\n",
      "        [ 2,  2,  2],\n",
      "        [ 2,  2,  2],\n",
      "        ...,\n",
      "        [ 2,  2,  2],\n",
      "        [ 1,  1,  1],\n",
      "        [ 2,  2,  2]],\n",
      "\n",
      "       [[ 1,  1,  1],\n",
      "        [ 1,  1,  1],\n",
      "        [ 1,  1,  1],\n",
      "        ...,\n",
      "        [ 2,  2,  2],\n",
      "        [ 3,  3,  3],\n",
      "        [ 2,  2,  2]],\n",
      "\n",
      "       [[ 2,  2,  2],\n",
      "        [ 1,  1,  1],\n",
      "        [ 2,  2,  2],\n",
      "        ...,\n",
      "        [ 2,  2,  2],\n",
      "        [ 2,  2,  2],\n",
      "        [ 2,  2,  2]],\n",
      "\n",
      "       ...,\n",
      "\n",
      "       [[ 0,  0,  0],\n",
      "        [ 0,  0,  0],\n",
      "        [ 0,  0,  0],\n",
      "        ...,\n",
      "        [12, 12, 12],\n",
      "        [10, 10, 10],\n",
      "        [ 8,  8,  8]],\n",
      "\n",
      "       [[ 0,  0,  0],\n",
      "        [ 0,  0,  0],\n",
      "        [ 0,  0,  0],\n",
      "        ...,\n",
      "        [ 9,  9,  9],\n",
      "        [ 6,  6,  6],\n",
      "        [ 4,  4,  4]],\n",
      "\n",
      "       [[ 0,  0,  0],\n",
      "        [ 0,  0,  0],\n",
      "        [ 0,  0,  0],\n",
      "        ...,\n",
      "        [ 5,  5,  5],\n",
      "        [ 4,  4,  4],\n",
      "        [ 2,  2,  2]]], shape=(300, 288, 3), dtype=uint8)\n",
      "orig_shape: (300, 288)\n",
      "path: 'D:\\\\AAA\\\\Nowy folder\\\\Outputs\\\\Test\\\\2025-08-12-13.44.57.png'\n",
      "probs: None\n",
      "save_dir: 'runs\\\\segment\\\\predict4'\n",
      "speed: {'preprocess': 0.8282999997391016, 'inference': 11.291499999970256, 'postprocess': 3.9170000000012806}, ultralytics.engine.results.Results object with attributes:\n",
      "\n",
      "boxes: ultralytics.engine.results.Boxes object\n",
      "keypoints: None\n",
      "masks: ultralytics.engine.results.Masks object\n",
      "names: {0: 'Pupil'}\n",
      "obb: None\n",
      "orig_img: array([[[ 2,  2,  2],\n",
      "        [ 2,  2,  2],\n",
      "        [ 2,  2,  2],\n",
      "        ...,\n",
      "        [ 2,  2,  2],\n",
      "        [ 3,  3,  3],\n",
      "        [ 2,  2,  2]],\n",
      "\n",
      "       [[ 2,  2,  2],\n",
      "        [ 2,  2,  2],\n",
      "        [ 2,  2,  2],\n",
      "        ...,\n",
      "        [ 2,  2,  2],\n",
      "        [ 2,  2,  2],\n",
      "        [ 3,  3,  3]],\n",
      "\n",
      "       [[ 2,  2,  2],\n",
      "        [ 2,  2,  2],\n",
      "        [ 2,  2,  2],\n",
      "        ...,\n",
      "        [ 2,  2,  2],\n",
      "        [ 2,  2,  2],\n",
      "        [ 2,  2,  2]],\n",
      "\n",
      "       ...,\n",
      "\n",
      "       [[ 0,  0,  0],\n",
      "        [ 0,  0,  0],\n",
      "        [ 0,  0,  0],\n",
      "        ...,\n",
      "        [11, 11, 11],\n",
      "        [10, 10, 10],\n",
      "        [ 8,  8,  8]],\n",
      "\n",
      "       [[ 0,  0,  0],\n",
      "        [ 0,  0,  0],\n",
      "        [ 0,  0,  0],\n",
      "        ...,\n",
      "        [ 8,  8,  8],\n",
      "        [ 6,  6,  6],\n",
      "        [ 4,  4,  4]],\n",
      "\n",
      "       [[ 0,  0,  0],\n",
      "        [ 0,  0,  0],\n",
      "        [ 0,  0,  0],\n",
      "        ...,\n",
      "        [ 3,  3,  3],\n",
      "        [ 4,  4,  4],\n",
      "        [ 3,  3,  3]]], shape=(300, 288, 3), dtype=uint8)\n",
      "orig_shape: (300, 288)\n",
      "path: 'D:\\\\AAA\\\\Nowy folder\\\\Outputs\\\\Test\\\\2025-08-12-13.45.09.png'\n",
      "probs: None\n",
      "save_dir: 'runs\\\\segment\\\\predict4'\n",
      "speed: {'preprocess': 0.8288999997603241, 'inference': 11.146300000291376, 'postprocess': 3.1812999995963764}, ultralytics.engine.results.Results object with attributes:\n",
      "\n",
      "boxes: ultralytics.engine.results.Boxes object\n",
      "keypoints: None\n",
      "masks: ultralytics.engine.results.Masks object\n",
      "names: {0: 'Pupil'}\n",
      "obb: None\n",
      "orig_img: array([[[ 2,  2,  2],\n",
      "        [ 2,  2,  2],\n",
      "        [ 2,  2,  2],\n",
      "        ...,\n",
      "        [ 2,  2,  2],\n",
      "        [ 2,  2,  2],\n",
      "        [ 1,  1,  1]],\n",
      "\n",
      "       [[ 2,  2,  2],\n",
      "        [ 2,  2,  2],\n",
      "        [ 1,  1,  1],\n",
      "        ...,\n",
      "        [ 2,  2,  2],\n",
      "        [ 2,  2,  2],\n",
      "        [ 2,  2,  2]],\n",
      "\n",
      "       [[ 2,  2,  2],\n",
      "        [ 2,  2,  2],\n",
      "        [ 2,  2,  2],\n",
      "        ...,\n",
      "        [ 2,  2,  2],\n",
      "        [ 2,  2,  2],\n",
      "        [ 3,  3,  3]],\n",
      "\n",
      "       ...,\n",
      "\n",
      "       [[ 0,  0,  0],\n",
      "        [ 1,  1,  1],\n",
      "        [ 0,  0,  0],\n",
      "        ...,\n",
      "        [10, 10, 10],\n",
      "        [ 9,  9,  9],\n",
      "        [ 8,  8,  8]],\n",
      "\n",
      "       [[ 0,  0,  0],\n",
      "        [ 0,  0,  0],\n",
      "        [ 0,  0,  0],\n",
      "        ...,\n",
      "        [ 8,  8,  8],\n",
      "        [ 5,  5,  5],\n",
      "        [ 4,  4,  4]],\n",
      "\n",
      "       [[ 0,  0,  0],\n",
      "        [ 0,  0,  0],\n",
      "        [ 0,  0,  0],\n",
      "        ...,\n",
      "        [ 4,  4,  4],\n",
      "        [ 4,  4,  4],\n",
      "        [ 3,  3,  3]]], shape=(300, 288, 3), dtype=uint8)\n",
      "orig_shape: (300, 288)\n",
      "path: 'D:\\\\AAA\\\\Nowy folder\\\\Outputs\\\\Test\\\\2025-08-12-13.45.18.png'\n",
      "probs: None\n",
      "save_dir: 'runs\\\\segment\\\\predict4'\n",
      "speed: {'preprocess': 0.9056999997483217, 'inference': 11.012699999810138, 'postprocess': 3.235099999983504}, ultralytics.engine.results.Results object with attributes:\n",
      "\n",
      "boxes: ultralytics.engine.results.Boxes object\n",
      "keypoints: None\n",
      "masks: ultralytics.engine.results.Masks object\n",
      "names: {0: 'Pupil'}\n",
      "obb: None\n",
      "orig_img: array([[[ 1,  1,  1],\n",
      "        [ 2,  2,  2],\n",
      "        [ 1,  1,  1],\n",
      "        ...,\n",
      "        [ 2,  2,  2],\n",
      "        [ 2,  2,  2],\n",
      "        [ 2,  2,  2]],\n",
      "\n",
      "       [[ 2,  2,  2],\n",
      "        [ 2,  2,  2],\n",
      "        [ 1,  1,  1],\n",
      "        ...,\n",
      "        [ 2,  2,  2],\n",
      "        [ 2,  2,  2],\n",
      "        [ 2,  2,  2]],\n",
      "\n",
      "       [[ 2,  2,  2],\n",
      "        [ 1,  1,  1],\n",
      "        [ 2,  2,  2],\n",
      "        ...,\n",
      "        [ 2,  2,  2],\n",
      "        [ 2,  2,  2],\n",
      "        [ 2,  2,  2]],\n",
      "\n",
      "       ...,\n",
      "\n",
      "       [[ 0,  0,  0],\n",
      "        [ 1,  1,  1],\n",
      "        [ 0,  0,  0],\n",
      "        ...,\n",
      "        [12, 12, 12],\n",
      "        [ 9,  9,  9],\n",
      "        [ 8,  8,  8]],\n",
      "\n",
      "       [[ 0,  0,  0],\n",
      "        [ 0,  0,  0],\n",
      "        [ 0,  0,  0],\n",
      "        ...,\n",
      "        [ 8,  8,  8],\n",
      "        [ 6,  6,  6],\n",
      "        [ 4,  4,  4]],\n",
      "\n",
      "       [[ 0,  0,  0],\n",
      "        [ 0,  0,  0],\n",
      "        [ 0,  0,  0],\n",
      "        ...,\n",
      "        [ 4,  4,  4],\n",
      "        [ 3,  3,  3],\n",
      "        [ 2,  2,  2]]], shape=(300, 288, 3), dtype=uint8)\n",
      "orig_shape: (300, 288)\n",
      "path: 'D:\\\\AAA\\\\Nowy folder\\\\Outputs\\\\Test\\\\2025-08-12-13.45.24.png'\n",
      "probs: None\n",
      "save_dir: 'runs\\\\segment\\\\predict4'\n",
      "speed: {'preprocess': 0.9853000001385226, 'inference': 10.664200000064739, 'postprocess': 3.172900000208756}, ultralytics.engine.results.Results object with attributes:\n",
      "\n",
      "boxes: ultralytics.engine.results.Boxes object\n",
      "keypoints: None\n",
      "masks: None\n",
      "names: {0: 'Pupil'}\n",
      "obb: None\n",
      "orig_img: array([[[ 3,  3,  3],\n",
      "        [ 2,  2,  2],\n",
      "        [ 2,  2,  2],\n",
      "        ...,\n",
      "        [ 3,  3,  3],\n",
      "        [ 3,  3,  3],\n",
      "        [ 3,  3,  3]],\n",
      "\n",
      "       [[ 2,  2,  2],\n",
      "        [ 3,  3,  3],\n",
      "        [ 2,  2,  2],\n",
      "        ...,\n",
      "        [ 3,  3,  3],\n",
      "        [ 3,  3,  3],\n",
      "        [ 4,  4,  4]],\n",
      "\n",
      "       [[ 3,  3,  3],\n",
      "        [ 3,  3,  3],\n",
      "        [ 3,  3,  3],\n",
      "        ...,\n",
      "        [ 3,  3,  3],\n",
      "        [ 3,  3,  3],\n",
      "        [ 3,  3,  3]],\n",
      "\n",
      "       ...,\n",
      "\n",
      "       [[ 0,  0,  0],\n",
      "        [ 1,  1,  1],\n",
      "        [ 0,  0,  0],\n",
      "        ...,\n",
      "        [10, 10, 10],\n",
      "        [ 9,  9,  9],\n",
      "        [ 7,  7,  7]],\n",
      "\n",
      "       [[ 1,  1,  1],\n",
      "        [ 0,  0,  0],\n",
      "        [ 0,  0,  0],\n",
      "        ...,\n",
      "        [ 8,  8,  8],\n",
      "        [ 6,  6,  6],\n",
      "        [ 5,  5,  5]],\n",
      "\n",
      "       [[ 1,  1,  1],\n",
      "        [ 0,  0,  0],\n",
      "        [ 0,  0,  0],\n",
      "        ...,\n",
      "        [ 4,  4,  4],\n",
      "        [ 3,  3,  3],\n",
      "        [ 3,  3,  3]]], shape=(300, 288, 3), dtype=uint8)\n",
      "orig_shape: (300, 288)\n",
      "path: 'D:\\\\AAA\\\\Nowy folder\\\\Outputs\\\\Test\\\\2025-08-12-13.45.34.png'\n",
      "probs: None\n",
      "save_dir: 'runs\\\\segment\\\\predict4'\n",
      "speed: {'preprocess': 0.9726000007503899, 'inference': 10.667800000192074, 'postprocess': 0.9779000001799432}, ultralytics.engine.results.Results object with attributes:\n",
      "\n",
      "boxes: ultralytics.engine.results.Boxes object\n",
      "keypoints: None\n",
      "masks: ultralytics.engine.results.Masks object\n",
      "names: {0: 'Pupil'}\n",
      "obb: None\n",
      "orig_img: array([[[ 1,  1,  1],\n",
      "        [ 1,  1,  1],\n",
      "        [ 1,  1,  1],\n",
      "        ...,\n",
      "        [ 2,  2,  2],\n",
      "        [ 2,  2,  2],\n",
      "        [ 2,  2,  2]],\n",
      "\n",
      "       [[ 1,  1,  1],\n",
      "        [ 2,  2,  2],\n",
      "        [ 1,  1,  1],\n",
      "        ...,\n",
      "        [ 2,  2,  2],\n",
      "        [ 2,  2,  2],\n",
      "        [ 2,  2,  2]],\n",
      "\n",
      "       [[ 2,  2,  2],\n",
      "        [ 2,  2,  2],\n",
      "        [ 2,  2,  2],\n",
      "        ...,\n",
      "        [ 2,  2,  2],\n",
      "        [ 2,  2,  2],\n",
      "        [ 2,  2,  2]],\n",
      "\n",
      "       ...,\n",
      "\n",
      "       [[ 0,  0,  0],\n",
      "        [ 0,  0,  0],\n",
      "        [ 0,  0,  0],\n",
      "        ...,\n",
      "        [12, 12, 12],\n",
      "        [ 9,  9,  9],\n",
      "        [ 7,  7,  7]],\n",
      "\n",
      "       [[ 0,  0,  0],\n",
      "        [ 0,  0,  0],\n",
      "        [ 0,  0,  0],\n",
      "        ...,\n",
      "        [ 8,  8,  8],\n",
      "        [ 5,  5,  5],\n",
      "        [ 4,  4,  4]],\n",
      "\n",
      "       [[ 1,  1,  1],\n",
      "        [ 1,  1,  1],\n",
      "        [ 0,  0,  0],\n",
      "        ...,\n",
      "        [ 4,  4,  4],\n",
      "        [ 4,  4,  4],\n",
      "        [ 1,  1,  1]]], shape=(300, 288, 3), dtype=uint8)\n",
      "orig_shape: (300, 288)\n",
      "path: 'D:\\\\AAA\\\\Nowy folder\\\\Outputs\\\\Test\\\\2025-08-12-13.45.39.png'\n",
      "probs: None\n",
      "save_dir: 'runs\\\\segment\\\\predict4'\n",
      "speed: {'preprocess': 0.9838999994826736, 'inference': 10.820600000442937, 'postprocess': 3.4163999998781946}, ultralytics.engine.results.Results object with attributes:\n",
      "\n",
      "boxes: ultralytics.engine.results.Boxes object\n",
      "keypoints: None\n",
      "masks: ultralytics.engine.results.Masks object\n",
      "names: {0: 'Pupil'}\n",
      "obb: None\n",
      "orig_img: array([[[ 2,  2,  2],\n",
      "        [ 1,  1,  1],\n",
      "        [ 2,  2,  2],\n",
      "        ...,\n",
      "        [ 2,  2,  2],\n",
      "        [ 2,  2,  2],\n",
      "        [ 3,  3,  3]],\n",
      "\n",
      "       [[ 2,  2,  2],\n",
      "        [ 3,  3,  3],\n",
      "        [ 3,  3,  3],\n",
      "        ...,\n",
      "        [ 2,  2,  2],\n",
      "        [ 2,  2,  2],\n",
      "        [ 3,  3,  3]],\n",
      "\n",
      "       [[ 2,  2,  2],\n",
      "        [ 2,  2,  2],\n",
      "        [ 2,  2,  2],\n",
      "        ...,\n",
      "        [ 3,  3,  3],\n",
      "        [ 3,  3,  3],\n",
      "        [ 3,  3,  3]],\n",
      "\n",
      "       ...,\n",
      "\n",
      "       [[ 0,  0,  0],\n",
      "        [ 0,  0,  0],\n",
      "        [ 0,  0,  0],\n",
      "        ...,\n",
      "        [10, 10, 10],\n",
      "        [10, 10, 10],\n",
      "        [ 7,  7,  7]],\n",
      "\n",
      "       [[ 0,  0,  0],\n",
      "        [ 0,  0,  0],\n",
      "        [ 1,  1,  1],\n",
      "        ...,\n",
      "        [ 7,  7,  7],\n",
      "        [ 5,  5,  5],\n",
      "        [ 2,  2,  2]],\n",
      "\n",
      "       [[ 1,  1,  1],\n",
      "        [ 0,  0,  0],\n",
      "        [ 0,  0,  0],\n",
      "        ...,\n",
      "        [ 4,  4,  4],\n",
      "        [ 4,  4,  4],\n",
      "        [ 3,  3,  3]]], shape=(300, 288, 3), dtype=uint8)\n",
      "orig_shape: (300, 288)\n",
      "path: 'D:\\\\AAA\\\\Nowy folder\\\\Outputs\\\\Test\\\\2025-08-12-13.45.44.png'\n",
      "probs: None\n",
      "save_dir: 'runs\\\\segment\\\\predict4'\n",
      "speed: {'preprocess': 1.0302999999112217, 'inference': 13.30359999974462, 'postprocess': 4.461900000023888}, ultralytics.engine.results.Results object with attributes:\n",
      "\n",
      "boxes: ultralytics.engine.results.Boxes object\n",
      "keypoints: None\n",
      "masks: ultralytics.engine.results.Masks object\n",
      "names: {0: 'Pupil'}\n",
      "obb: None\n",
      "orig_img: array([[[ 2,  2,  2],\n",
      "        [ 2,  2,  2],\n",
      "        [ 2,  2,  2],\n",
      "        ...,\n",
      "        [ 2,  2,  2],\n",
      "        [ 2,  2,  2],\n",
      "        [ 2,  2,  2]],\n",
      "\n",
      "       [[ 2,  2,  2],\n",
      "        [ 2,  2,  2],\n",
      "        [ 1,  1,  1],\n",
      "        ...,\n",
      "        [ 2,  2,  2],\n",
      "        [ 2,  2,  2],\n",
      "        [ 2,  2,  2]],\n",
      "\n",
      "       [[ 2,  2,  2],\n",
      "        [ 2,  2,  2],\n",
      "        [ 2,  2,  2],\n",
      "        ...,\n",
      "        [ 2,  2,  2],\n",
      "        [ 3,  3,  3],\n",
      "        [ 3,  3,  3]],\n",
      "\n",
      "       ...,\n",
      "\n",
      "       [[ 0,  0,  0],\n",
      "        [ 0,  0,  0],\n",
      "        [ 0,  0,  0],\n",
      "        ...,\n",
      "        [11, 11, 11],\n",
      "        [ 9,  9,  9],\n",
      "        [ 5,  5,  5]],\n",
      "\n",
      "       [[ 0,  0,  0],\n",
      "        [ 0,  0,  0],\n",
      "        [ 0,  0,  0],\n",
      "        ...,\n",
      "        [ 6,  6,  6],\n",
      "        [ 5,  5,  5],\n",
      "        [ 4,  4,  4]],\n",
      "\n",
      "       [[ 0,  0,  0],\n",
      "        [ 0,  0,  0],\n",
      "        [ 0,  0,  0],\n",
      "        ...,\n",
      "        [ 4,  4,  4],\n",
      "        [ 3,  3,  3],\n",
      "        [ 2,  2,  2]]], shape=(300, 288, 3), dtype=uint8)\n",
      "orig_shape: (300, 288)\n",
      "path: 'D:\\\\AAA\\\\Nowy folder\\\\Outputs\\\\Test\\\\2025-08-12-13.45.48.png'\n",
      "probs: None\n",
      "save_dir: 'runs\\\\segment\\\\predict4'\n",
      "speed: {'preprocess': 0.8507000002282439, 'inference': 11.140999999952328, 'postprocess': 3.35700000050565}, ultralytics.engine.results.Results object with attributes:\n",
      "\n",
      "boxes: ultralytics.engine.results.Boxes object\n",
      "keypoints: None\n",
      "masks: ultralytics.engine.results.Masks object\n",
      "names: {0: 'Pupil'}\n",
      "obb: None\n",
      "orig_img: array([[[ 2,  2,  2],\n",
      "        [ 2,  2,  2],\n",
      "        [ 2,  2,  2],\n",
      "        ...,\n",
      "        [ 2,  2,  2],\n",
      "        [ 2,  2,  2],\n",
      "        [ 2,  2,  2]],\n",
      "\n",
      "       [[ 1,  1,  1],\n",
      "        [ 2,  2,  2],\n",
      "        [ 2,  2,  2],\n",
      "        ...,\n",
      "        [ 2,  2,  2],\n",
      "        [ 2,  2,  2],\n",
      "        [ 2,  2,  2]],\n",
      "\n",
      "       [[ 2,  2,  2],\n",
      "        [ 2,  2,  2],\n",
      "        [ 2,  2,  2],\n",
      "        ...,\n",
      "        [ 2,  2,  2],\n",
      "        [ 2,  2,  2],\n",
      "        [ 2,  2,  2]],\n",
      "\n",
      "       ...,\n",
      "\n",
      "       [[ 0,  0,  0],\n",
      "        [ 0,  0,  0],\n",
      "        [ 1,  1,  1],\n",
      "        ...,\n",
      "        [10, 10, 10],\n",
      "        [ 9,  9,  9],\n",
      "        [ 6,  6,  6]],\n",
      "\n",
      "       [[ 0,  0,  0],\n",
      "        [ 0,  0,  0],\n",
      "        [ 0,  0,  0],\n",
      "        ...,\n",
      "        [ 7,  7,  7],\n",
      "        [ 4,  4,  4],\n",
      "        [ 4,  4,  4]],\n",
      "\n",
      "       [[ 0,  0,  0],\n",
      "        [ 0,  0,  0],\n",
      "        [ 0,  0,  0],\n",
      "        ...,\n",
      "        [ 5,  5,  5],\n",
      "        [ 4,  4,  4],\n",
      "        [ 3,  3,  3]]], shape=(300, 288, 3), dtype=uint8)\n",
      "orig_shape: (300, 288)\n",
      "path: 'D:\\\\AAA\\\\Nowy folder\\\\Outputs\\\\Test\\\\2025-08-12-13.45.55.png'\n",
      "probs: None\n",
      "save_dir: 'runs\\\\segment\\\\predict4'\n",
      "speed: {'preprocess': 0.8944000001065433, 'inference': 10.788599999614235, 'postprocess': 2.747800000179268}, ultralytics.engine.results.Results object with attributes:\n",
      "\n",
      "boxes: ultralytics.engine.results.Boxes object\n",
      "keypoints: None\n",
      "masks: ultralytics.engine.results.Masks object\n",
      "names: {0: 'Pupil'}\n",
      "obb: None\n",
      "orig_img: array([[[ 2,  2,  2],\n",
      "        [ 2,  2,  2],\n",
      "        [ 2,  2,  2],\n",
      "        ...,\n",
      "        [ 2,  2,  2],\n",
      "        [ 2,  2,  2],\n",
      "        [ 2,  2,  2]],\n",
      "\n",
      "       [[ 1,  1,  1],\n",
      "        [ 2,  2,  2],\n",
      "        [ 1,  1,  1],\n",
      "        ...,\n",
      "        [ 2,  2,  2],\n",
      "        [ 2,  2,  2],\n",
      "        [ 2,  2,  2]],\n",
      "\n",
      "       [[ 2,  2,  2],\n",
      "        [ 2,  2,  2],\n",
      "        [ 2,  2,  2],\n",
      "        ...,\n",
      "        [ 2,  2,  2],\n",
      "        [ 3,  3,  3],\n",
      "        [ 2,  2,  2]],\n",
      "\n",
      "       ...,\n",
      "\n",
      "       [[ 0,  0,  0],\n",
      "        [ 0,  0,  0],\n",
      "        [ 0,  0,  0],\n",
      "        ...,\n",
      "        [10, 10, 10],\n",
      "        [ 8,  8,  8],\n",
      "        [ 6,  6,  6]],\n",
      "\n",
      "       [[ 1,  1,  1],\n",
      "        [ 0,  0,  0],\n",
      "        [ 0,  0,  0],\n",
      "        ...,\n",
      "        [ 7,  7,  7],\n",
      "        [ 5,  5,  5],\n",
      "        [ 4,  4,  4]],\n",
      "\n",
      "       [[ 0,  0,  0],\n",
      "        [ 0,  0,  0],\n",
      "        [ 1,  1,  1],\n",
      "        ...,\n",
      "        [ 4,  4,  4],\n",
      "        [ 3,  3,  3],\n",
      "        [ 3,  3,  3]]], shape=(300, 288, 3), dtype=uint8)\n",
      "orig_shape: (300, 288)\n",
      "path: 'D:\\\\AAA\\\\Nowy folder\\\\Outputs\\\\Test\\\\2025-08-12-13.46.00.png'\n",
      "probs: None\n",
      "save_dir: 'runs\\\\segment\\\\predict4'\n",
      "speed: {'preprocess': 0.8866999996826053, 'inference': 10.649300000295625, 'postprocess': 2.662399999280751}, ultralytics.engine.results.Results object with attributes:\n",
      "\n",
      "boxes: ultralytics.engine.results.Boxes object\n",
      "keypoints: None\n",
      "masks: ultralytics.engine.results.Masks object\n",
      "names: {0: 'Pupil'}\n",
      "obb: None\n",
      "orig_img: array([[[ 2,  2,  2],\n",
      "        [ 1,  1,  1],\n",
      "        [ 2,  2,  2],\n",
      "        ...,\n",
      "        [ 2,  2,  2],\n",
      "        [ 2,  2,  2],\n",
      "        [ 2,  2,  2]],\n",
      "\n",
      "       [[ 2,  2,  2],\n",
      "        [ 2,  2,  2],\n",
      "        [ 2,  2,  2],\n",
      "        ...,\n",
      "        [ 1,  1,  1],\n",
      "        [ 2,  2,  2],\n",
      "        [ 1,  1,  1]],\n",
      "\n",
      "       [[ 2,  2,  2],\n",
      "        [ 2,  2,  2],\n",
      "        [ 2,  2,  2],\n",
      "        ...,\n",
      "        [ 2,  2,  2],\n",
      "        [ 2,  2,  2],\n",
      "        [ 2,  2,  2]],\n",
      "\n",
      "       ...,\n",
      "\n",
      "       [[ 0,  0,  0],\n",
      "        [ 0,  0,  0],\n",
      "        [ 0,  0,  0],\n",
      "        ...,\n",
      "        [11, 11, 11],\n",
      "        [ 8,  8,  8],\n",
      "        [ 7,  7,  7]],\n",
      "\n",
      "       [[ 0,  0,  0],\n",
      "        [ 0,  0,  0],\n",
      "        [ 0,  0,  0],\n",
      "        ...,\n",
      "        [ 6,  6,  6],\n",
      "        [ 5,  5,  5],\n",
      "        [ 4,  4,  4]],\n",
      "\n",
      "       [[ 0,  0,  0],\n",
      "        [ 0,  0,  0],\n",
      "        [ 0,  0,  0],\n",
      "        ...,\n",
      "        [ 4,  4,  4],\n",
      "        [ 3,  3,  3],\n",
      "        [ 1,  1,  1]]], shape=(300, 288, 3), dtype=uint8)\n",
      "orig_shape: (300, 288)\n",
      "path: 'D:\\\\AAA\\\\Nowy folder\\\\Outputs\\\\Test\\\\2025-08-12-13.46.17.png'\n",
      "probs: None\n",
      "save_dir: 'runs\\\\segment\\\\predict4'\n",
      "speed: {'preprocess': 0.9240000008503557, 'inference': 11.093399999481335, 'postprocess': 3.152100000079372}, ultralytics.engine.results.Results object with attributes:\n",
      "\n",
      "boxes: ultralytics.engine.results.Boxes object\n",
      "keypoints: None\n",
      "masks: ultralytics.engine.results.Masks object\n",
      "names: {0: 'Pupil'}\n",
      "obb: None\n",
      "orig_img: array([[[1, 1, 1],\n",
      "        [1, 1, 1],\n",
      "        [2, 2, 2],\n",
      "        ...,\n",
      "        [2, 2, 2],\n",
      "        [3, 3, 3],\n",
      "        [2, 2, 2]],\n",
      "\n",
      "       [[2, 2, 2],\n",
      "        [1, 1, 1],\n",
      "        [2, 2, 2],\n",
      "        ...,\n",
      "        [2, 2, 2],\n",
      "        [2, 2, 2],\n",
      "        [2, 2, 2]],\n",
      "\n",
      "       [[3, 3, 3],\n",
      "        [2, 2, 2],\n",
      "        [1, 1, 1],\n",
      "        ...,\n",
      "        [2, 2, 2],\n",
      "        [2, 2, 2],\n",
      "        [2, 2, 2]],\n",
      "\n",
      "       ...,\n",
      "\n",
      "       [[0, 0, 0],\n",
      "        [0, 0, 0],\n",
      "        [1, 1, 1],\n",
      "        ...,\n",
      "        [8, 8, 8],\n",
      "        [8, 8, 8],\n",
      "        [6, 6, 6]],\n",
      "\n",
      "       [[1, 1, 1],\n",
      "        [1, 1, 1],\n",
      "        [1, 1, 1],\n",
      "        ...,\n",
      "        [8, 8, 8],\n",
      "        [6, 6, 6],\n",
      "        [3, 3, 3]],\n",
      "\n",
      "       [[0, 0, 0],\n",
      "        [0, 0, 0],\n",
      "        [0, 0, 0],\n",
      "        ...,\n",
      "        [4, 4, 4],\n",
      "        [3, 3, 3],\n",
      "        [3, 3, 3]]], shape=(300, 288, 3), dtype=uint8)\n",
      "orig_shape: (300, 288)\n",
      "path: 'D:\\\\AAA\\\\Nowy folder\\\\Outputs\\\\Test\\\\2025-08-12-13.46.21.png'\n",
      "probs: None\n",
      "save_dir: 'runs\\\\segment\\\\predict4'\n",
      "speed: {'preprocess': 0.8408000003328198, 'inference': 10.533900000154972, 'postprocess': 3.6724000001413515}, ultralytics.engine.results.Results object with attributes:\n",
      "\n",
      "boxes: ultralytics.engine.results.Boxes object\n",
      "keypoints: None\n",
      "masks: ultralytics.engine.results.Masks object\n",
      "names: {0: 'Pupil'}\n",
      "obb: None\n",
      "orig_img: array([[[ 2,  2,  2],\n",
      "        [ 2,  2,  2],\n",
      "        [ 2,  2,  2],\n",
      "        ...,\n",
      "        [ 2,  2,  2],\n",
      "        [ 3,  3,  3],\n",
      "        [ 2,  2,  2]],\n",
      "\n",
      "       [[ 2,  2,  2],\n",
      "        [ 2,  2,  2],\n",
      "        [ 2,  2,  2],\n",
      "        ...,\n",
      "        [ 2,  2,  2],\n",
      "        [ 2,  2,  2],\n",
      "        [ 2,  2,  2]],\n",
      "\n",
      "       [[ 2,  2,  2],\n",
      "        [ 2,  2,  2],\n",
      "        [ 2,  2,  2],\n",
      "        ...,\n",
      "        [ 2,  2,  2],\n",
      "        [ 2,  2,  2],\n",
      "        [ 2,  2,  2]],\n",
      "\n",
      "       ...,\n",
      "\n",
      "       [[ 0,  0,  0],\n",
      "        [ 0,  0,  0],\n",
      "        [ 1,  1,  1],\n",
      "        ...,\n",
      "        [11, 11, 11],\n",
      "        [ 7,  7,  7],\n",
      "        [ 7,  7,  7]],\n",
      "\n",
      "       [[ 0,  0,  0],\n",
      "        [ 0,  0,  0],\n",
      "        [ 1,  1,  1],\n",
      "        ...,\n",
      "        [ 6,  6,  6],\n",
      "        [ 5,  5,  5],\n",
      "        [ 4,  4,  4]],\n",
      "\n",
      "       [[ 0,  0,  0],\n",
      "        [ 0,  0,  0],\n",
      "        [ 0,  0,  0],\n",
      "        ...,\n",
      "        [ 4,  4,  4],\n",
      "        [ 4,  4,  4],\n",
      "        [ 2,  2,  2]]], shape=(300, 288, 3), dtype=uint8)\n",
      "orig_shape: (300, 288)\n",
      "path: 'D:\\\\AAA\\\\Nowy folder\\\\Outputs\\\\Test\\\\2025-08-12-13.46.25.png'\n",
      "probs: None\n",
      "save_dir: 'runs\\\\segment\\\\predict4'\n",
      "speed: {'preprocess': 1.1948999999731313, 'inference': 11.386299999685434, 'postprocess': 3.4617000001162523}, ultralytics.engine.results.Results object with attributes:\n",
      "\n",
      "boxes: ultralytics.engine.results.Boxes object\n",
      "keypoints: None\n",
      "masks: ultralytics.engine.results.Masks object\n",
      "names: {0: 'Pupil'}\n",
      "obb: None\n",
      "orig_img: array([[[2, 2, 2],\n",
      "        [2, 2, 2],\n",
      "        [1, 1, 1],\n",
      "        ...,\n",
      "        [2, 2, 2],\n",
      "        [3, 3, 3],\n",
      "        [2, 2, 2]],\n",
      "\n",
      "       [[2, 2, 2],\n",
      "        [2, 2, 2],\n",
      "        [2, 2, 2],\n",
      "        ...,\n",
      "        [2, 2, 2],\n",
      "        [2, 2, 2],\n",
      "        [2, 2, 2]],\n",
      "\n",
      "       [[2, 2, 2],\n",
      "        [2, 2, 2],\n",
      "        [2, 2, 2],\n",
      "        ...,\n",
      "        [2, 2, 2],\n",
      "        [2, 2, 2],\n",
      "        [3, 3, 3]],\n",
      "\n",
      "       ...,\n",
      "\n",
      "       [[0, 0, 0],\n",
      "        [0, 0, 0],\n",
      "        [0, 0, 0],\n",
      "        ...,\n",
      "        [9, 9, 9],\n",
      "        [8, 8, 8],\n",
      "        [8, 8, 8]],\n",
      "\n",
      "       [[0, 0, 0],\n",
      "        [1, 1, 1],\n",
      "        [1, 1, 1],\n",
      "        ...,\n",
      "        [7, 7, 7],\n",
      "        [5, 5, 5],\n",
      "        [3, 3, 3]],\n",
      "\n",
      "       [[1, 1, 1],\n",
      "        [0, 0, 0],\n",
      "        [0, 0, 0],\n",
      "        ...,\n",
      "        [4, 4, 4],\n",
      "        [3, 3, 3],\n",
      "        [2, 2, 2]]], shape=(300, 288, 3), dtype=uint8)\n",
      "orig_shape: (300, 288)\n",
      "path: 'D:\\\\AAA\\\\Nowy folder\\\\Outputs\\\\Test\\\\2025-08-12-13.46.29.png'\n",
      "probs: None\n",
      "save_dir: 'runs\\\\segment\\\\predict4'\n",
      "speed: {'preprocess': 1.2296000004425878, 'inference': 10.714099999859172, 'postprocess': 3.50700000035431}, ultralytics.engine.results.Results object with attributes:\n",
      "\n",
      "boxes: ultralytics.engine.results.Boxes object\n",
      "keypoints: None\n",
      "masks: ultralytics.engine.results.Masks object\n",
      "names: {0: 'Pupil'}\n",
      "obb: None\n",
      "orig_img: array([[[ 2,  2,  2],\n",
      "        [ 2,  2,  2],\n",
      "        [ 2,  2,  2],\n",
      "        ...,\n",
      "        [ 2,  2,  2],\n",
      "        [ 2,  2,  2],\n",
      "        [ 2,  2,  2]],\n",
      "\n",
      "       [[ 1,  1,  1],\n",
      "        [ 2,  2,  2],\n",
      "        [ 1,  1,  1],\n",
      "        ...,\n",
      "        [ 2,  2,  2],\n",
      "        [ 2,  2,  2],\n",
      "        [ 2,  2,  2]],\n",
      "\n",
      "       [[ 2,  2,  2],\n",
      "        [ 2,  2,  2],\n",
      "        [ 2,  2,  2],\n",
      "        ...,\n",
      "        [ 2,  2,  2],\n",
      "        [ 3,  3,  3],\n",
      "        [ 2,  2,  2]],\n",
      "\n",
      "       ...,\n",
      "\n",
      "       [[ 0,  0,  0],\n",
      "        [ 0,  0,  0],\n",
      "        [ 0,  0,  0],\n",
      "        ...,\n",
      "        [10, 10, 10],\n",
      "        [ 8,  8,  8],\n",
      "        [ 6,  6,  6]],\n",
      "\n",
      "       [[ 1,  1,  1],\n",
      "        [ 0,  0,  0],\n",
      "        [ 0,  0,  0],\n",
      "        ...,\n",
      "        [ 7,  7,  7],\n",
      "        [ 5,  5,  5],\n",
      "        [ 4,  4,  4]],\n",
      "\n",
      "       [[ 0,  0,  0],\n",
      "        [ 0,  0,  0],\n",
      "        [ 1,  1,  1],\n",
      "        ...,\n",
      "        [ 4,  4,  4],\n",
      "        [ 3,  3,  3],\n",
      "        [ 3,  3,  3]]], shape=(300, 288, 3), dtype=uint8)\n",
      "orig_shape: (300, 288)\n",
      "path: 'D:\\\\AAA\\\\Nowy folder\\\\Outputs\\\\Test\\\\2025-08-12-13.46.42.png'\n",
      "probs: None\n",
      "save_dir: 'runs\\\\segment\\\\predict4'\n",
      "speed: {'preprocess': 0.8887999993021367, 'inference': 10.984699999426084, 'postprocess': 3.779700000450248}, ultralytics.engine.results.Results object with attributes:\n",
      "\n",
      "boxes: ultralytics.engine.results.Boxes object\n",
      "keypoints: None\n",
      "masks: ultralytics.engine.results.Masks object\n",
      "names: {0: 'Pupil'}\n",
      "obb: None\n",
      "orig_img: array([[[ 1,  1,  1],\n",
      "        [ 1,  1,  1],\n",
      "        [ 1,  1,  1],\n",
      "        ...,\n",
      "        [ 2,  2,  2],\n",
      "        [ 3,  3,  3],\n",
      "        [ 1,  1,  1]],\n",
      "\n",
      "       [[ 1,  1,  1],\n",
      "        [ 2,  2,  2],\n",
      "        [ 1,  1,  1],\n",
      "        ...,\n",
      "        [ 2,  2,  2],\n",
      "        [ 1,  1,  1],\n",
      "        [ 2,  2,  2]],\n",
      "\n",
      "       [[ 2,  2,  2],\n",
      "        [ 1,  1,  1],\n",
      "        [ 2,  2,  2],\n",
      "        ...,\n",
      "        [ 2,  2,  2],\n",
      "        [ 2,  2,  2],\n",
      "        [ 2,  2,  2]],\n",
      "\n",
      "       ...,\n",
      "\n",
      "       [[ 1,  1,  1],\n",
      "        [ 0,  0,  0],\n",
      "        [ 0,  0,  0],\n",
      "        ...,\n",
      "        [10, 10, 10],\n",
      "        [ 9,  9,  9],\n",
      "        [ 6,  6,  6]],\n",
      "\n",
      "       [[ 0,  0,  0],\n",
      "        [ 0,  0,  0],\n",
      "        [ 0,  0,  0],\n",
      "        ...,\n",
      "        [ 7,  7,  7],\n",
      "        [ 4,  4,  4],\n",
      "        [ 3,  3,  3]],\n",
      "\n",
      "       [[ 0,  0,  0],\n",
      "        [ 0,  0,  0],\n",
      "        [ 0,  0,  0],\n",
      "        ...,\n",
      "        [ 4,  4,  4],\n",
      "        [ 4,  4,  4],\n",
      "        [ 2,  2,  2]]], shape=(300, 288, 3), dtype=uint8)\n",
      "orig_shape: (300, 288)\n",
      "path: 'D:\\\\AAA\\\\Nowy folder\\\\Outputs\\\\Test\\\\2025-08-12-13.46.46.png'\n",
      "probs: None\n",
      "save_dir: 'runs\\\\segment\\\\predict4'\n",
      "speed: {'preprocess': 0.8382999994864804, 'inference': 11.19139999991603, 'postprocess': 4.058800000166229}, ultralytics.engine.results.Results object with attributes:\n",
      "\n",
      "boxes: ultralytics.engine.results.Boxes object\n",
      "keypoints: None\n",
      "masks: ultralytics.engine.results.Masks object\n",
      "names: {0: 'Pupil'}\n",
      "obb: None\n",
      "orig_img: array([[[ 2,  2,  2],\n",
      "        [ 2,  2,  2],\n",
      "        [ 2,  2,  2],\n",
      "        ...,\n",
      "        [ 3,  3,  3],\n",
      "        [ 3,  3,  3],\n",
      "        [ 2,  2,  2]],\n",
      "\n",
      "       [[ 2,  2,  2],\n",
      "        [ 2,  2,  2],\n",
      "        [ 2,  2,  2],\n",
      "        ...,\n",
      "        [ 2,  2,  2],\n",
      "        [ 2,  2,  2],\n",
      "        [ 2,  2,  2]],\n",
      "\n",
      "       [[ 3,  3,  3],\n",
      "        [ 2,  2,  2],\n",
      "        [ 3,  3,  3],\n",
      "        ...,\n",
      "        [ 2,  2,  2],\n",
      "        [ 3,  3,  3],\n",
      "        [ 2,  2,  2]],\n",
      "\n",
      "       ...,\n",
      "\n",
      "       [[ 0,  0,  0],\n",
      "        [ 1,  1,  1],\n",
      "        [ 1,  1,  1],\n",
      "        ...,\n",
      "        [11, 11, 11],\n",
      "        [ 9,  9,  9],\n",
      "        [ 6,  6,  6]],\n",
      "\n",
      "       [[ 0,  0,  0],\n",
      "        [ 1,  1,  1],\n",
      "        [ 0,  0,  0],\n",
      "        ...,\n",
      "        [ 8,  8,  8],\n",
      "        [ 5,  5,  5],\n",
      "        [ 4,  4,  4]],\n",
      "\n",
      "       [[ 0,  0,  0],\n",
      "        [ 1,  1,  1],\n",
      "        [ 1,  1,  1],\n",
      "        ...,\n",
      "        [ 5,  5,  5],\n",
      "        [ 3,  3,  3],\n",
      "        [ 3,  3,  3]]], shape=(300, 288, 3), dtype=uint8)\n",
      "orig_shape: (300, 288)\n",
      "path: 'D:\\\\AAA\\\\Nowy folder\\\\Outputs\\\\Test\\\\2025-08-12-13.46.56.png'\n",
      "probs: None\n",
      "save_dir: 'runs\\\\segment\\\\predict4'\n",
      "speed: {'preprocess': 0.9686000003057416, 'inference': 13.972499999908905, 'postprocess': 3.5260000004200265}, ultralytics.engine.results.Results object with attributes:\n",
      "\n",
      "boxes: ultralytics.engine.results.Boxes object\n",
      "keypoints: None\n",
      "masks: ultralytics.engine.results.Masks object\n",
      "names: {0: 'Pupil'}\n",
      "obb: None\n",
      "orig_img: array([[[ 2,  2,  2],\n",
      "        [ 1,  1,  1],\n",
      "        [ 2,  2,  2],\n",
      "        ...,\n",
      "        [ 2,  2,  2],\n",
      "        [ 2,  2,  2],\n",
      "        [ 2,  2,  2]],\n",
      "\n",
      "       [[ 2,  2,  2],\n",
      "        [ 1,  1,  1],\n",
      "        [ 2,  2,  2],\n",
      "        ...,\n",
      "        [ 1,  1,  1],\n",
      "        [ 2,  2,  2],\n",
      "        [ 2,  2,  2]],\n",
      "\n",
      "       [[ 2,  2,  2],\n",
      "        [ 2,  2,  2],\n",
      "        [ 1,  1,  1],\n",
      "        ...,\n",
      "        [ 2,  2,  2],\n",
      "        [ 2,  2,  2],\n",
      "        [ 2,  2,  2]],\n",
      "\n",
      "       ...,\n",
      "\n",
      "       [[ 0,  0,  0],\n",
      "        [ 1,  1,  1],\n",
      "        [ 1,  1,  1],\n",
      "        ...,\n",
      "        [11, 11, 11],\n",
      "        [ 9,  9,  9],\n",
      "        [ 6,  6,  6]],\n",
      "\n",
      "       [[ 0,  0,  0],\n",
      "        [ 0,  0,  0],\n",
      "        [ 1,  1,  1],\n",
      "        ...,\n",
      "        [ 6,  6,  6],\n",
      "        [ 5,  5,  5],\n",
      "        [ 4,  4,  4]],\n",
      "\n",
      "       [[ 0,  0,  0],\n",
      "        [ 0,  0,  0],\n",
      "        [ 1,  1,  1],\n",
      "        ...,\n",
      "        [ 4,  4,  4],\n",
      "        [ 3,  3,  3],\n",
      "        [ 2,  2,  2]]], shape=(300, 288, 3), dtype=uint8)\n",
      "orig_shape: (300, 288)\n",
      "path: 'D:\\\\AAA\\\\Nowy folder\\\\Outputs\\\\Test\\\\2025-08-12-13.47.00.png'\n",
      "probs: None\n",
      "save_dir: 'runs\\\\segment\\\\predict4'\n",
      "speed: {'preprocess': 1.0733999997682986, 'inference': 14.189100000294275, 'postprocess': 3.7460000003193272}, ultralytics.engine.results.Results object with attributes:\n",
      "\n",
      "boxes: ultralytics.engine.results.Boxes object\n",
      "keypoints: None\n",
      "masks: ultralytics.engine.results.Masks object\n",
      "names: {0: 'Pupil'}\n",
      "obb: None\n",
      "orig_img: array([[[ 2,  2,  2],\n",
      "        [ 1,  1,  1],\n",
      "        [ 1,  1,  1],\n",
      "        ...,\n",
      "        [ 1,  1,  1],\n",
      "        [ 2,  2,  2],\n",
      "        [ 2,  2,  2]],\n",
      "\n",
      "       [[ 1,  1,  1],\n",
      "        [ 1,  1,  1],\n",
      "        [ 1,  1,  1],\n",
      "        ...,\n",
      "        [ 1,  1,  1],\n",
      "        [ 2,  2,  2],\n",
      "        [ 3,  3,  3]],\n",
      "\n",
      "       [[ 2,  2,  2],\n",
      "        [ 2,  2,  2],\n",
      "        [ 2,  2,  2],\n",
      "        ...,\n",
      "        [ 1,  1,  1],\n",
      "        [ 3,  3,  3],\n",
      "        [ 2,  2,  2]],\n",
      "\n",
      "       ...,\n",
      "\n",
      "       [[ 0,  0,  0],\n",
      "        [ 0,  0,  0],\n",
      "        [ 1,  1,  1],\n",
      "        ...,\n",
      "        [11, 11, 11],\n",
      "        [ 9,  9,  9],\n",
      "        [ 7,  7,  7]],\n",
      "\n",
      "       [[ 0,  0,  0],\n",
      "        [ 0,  0,  0],\n",
      "        [ 0,  0,  0],\n",
      "        ...,\n",
      "        [ 8,  8,  8],\n",
      "        [ 5,  5,  5],\n",
      "        [ 3,  3,  3]],\n",
      "\n",
      "       [[ 0,  0,  0],\n",
      "        [ 0,  0,  0],\n",
      "        [ 0,  0,  0],\n",
      "        ...,\n",
      "        [ 4,  4,  4],\n",
      "        [ 4,  4,  4],\n",
      "        [ 2,  2,  2]]], shape=(300, 288, 3), dtype=uint8)\n",
      "orig_shape: (300, 288)\n",
      "path: 'D:\\\\AAA\\\\Nowy folder\\\\Outputs\\\\Test\\\\2025-08-12-13.47.03.png'\n",
      "probs: None\n",
      "save_dir: 'runs\\\\segment\\\\predict4'\n",
      "speed: {'preprocess': 0.8190999997168547, 'inference': 10.6975999997303, 'postprocess': 3.30500000018219}, ultralytics.engine.results.Results object with attributes:\n",
      "\n",
      "boxes: ultralytics.engine.results.Boxes object\n",
      "keypoints: None\n",
      "masks: ultralytics.engine.results.Masks object\n",
      "names: {0: 'Pupil'}\n",
      "obb: None\n",
      "orig_img: array([[[ 1,  1,  1],\n",
      "        [ 1,  1,  1],\n",
      "        [ 1,  1,  1],\n",
      "        ...,\n",
      "        [ 1,  1,  1],\n",
      "        [ 2,  2,  2],\n",
      "        [ 1,  1,  1]],\n",
      "\n",
      "       [[ 1,  1,  1],\n",
      "        [ 1,  1,  1],\n",
      "        [ 1,  1,  1],\n",
      "        ...,\n",
      "        [ 1,  1,  1],\n",
      "        [ 2,  2,  2],\n",
      "        [ 2,  2,  2]],\n",
      "\n",
      "       [[ 2,  2,  2],\n",
      "        [ 2,  2,  2],\n",
      "        [ 1,  1,  1],\n",
      "        ...,\n",
      "        [ 2,  2,  2],\n",
      "        [ 2,  2,  2],\n",
      "        [ 2,  2,  2]],\n",
      "\n",
      "       ...,\n",
      "\n",
      "       [[ 1,  1,  1],\n",
      "        [ 0,  0,  0],\n",
      "        [ 0,  0,  0],\n",
      "        ...,\n",
      "        [12, 12, 12],\n",
      "        [ 9,  9,  9],\n",
      "        [ 7,  7,  7]],\n",
      "\n",
      "       [[ 0,  0,  0],\n",
      "        [ 0,  0,  0],\n",
      "        [ 0,  0,  0],\n",
      "        ...,\n",
      "        [ 7,  7,  7],\n",
      "        [ 5,  5,  5],\n",
      "        [ 3,  3,  3]],\n",
      "\n",
      "       [[ 0,  0,  0],\n",
      "        [ 0,  0,  0],\n",
      "        [ 0,  0,  0],\n",
      "        ...,\n",
      "        [ 4,  4,  4],\n",
      "        [ 4,  4,  4],\n",
      "        [ 2,  2,  2]]], shape=(300, 288, 3), dtype=uint8)\n",
      "orig_shape: (300, 288)\n",
      "path: 'D:\\\\AAA\\\\Nowy folder\\\\Outputs\\\\Test\\\\2025-08-12-13.47.07.png'\n",
      "probs: None\n",
      "save_dir: 'runs\\\\segment\\\\predict4'\n",
      "speed: {'preprocess': 0.9092999998756568, 'inference': 10.89389999924606, 'postprocess': 3.1472000000576372}, ultralytics.engine.results.Results object with attributes:\n",
      "\n",
      "boxes: ultralytics.engine.results.Boxes object\n",
      "keypoints: None\n",
      "masks: ultralytics.engine.results.Masks object\n",
      "names: {0: 'Pupil'}\n",
      "obb: None\n",
      "orig_img: array([[[ 2,  2,  2],\n",
      "        [ 1,  1,  1],\n",
      "        [ 1,  1,  1],\n",
      "        ...,\n",
      "        [ 2,  2,  2],\n",
      "        [ 2,  2,  2],\n",
      "        [ 2,  2,  2]],\n",
      "\n",
      "       [[ 1,  1,  1],\n",
      "        [ 1,  1,  1],\n",
      "        [ 1,  1,  1],\n",
      "        ...,\n",
      "        [ 2,  2,  2],\n",
      "        [ 2,  2,  2],\n",
      "        [ 1,  1,  1]],\n",
      "\n",
      "       [[ 2,  2,  2],\n",
      "        [ 2,  2,  2],\n",
      "        [ 2,  2,  2],\n",
      "        ...,\n",
      "        [ 2,  2,  2],\n",
      "        [ 2,  2,  2],\n",
      "        [ 3,  3,  3]],\n",
      "\n",
      "       ...,\n",
      "\n",
      "       [[ 1,  1,  1],\n",
      "        [ 0,  0,  0],\n",
      "        [ 0,  0,  0],\n",
      "        ...,\n",
      "        [12, 12, 12],\n",
      "        [ 9,  9,  9],\n",
      "        [ 7,  7,  7]],\n",
      "\n",
      "       [[ 0,  0,  0],\n",
      "        [ 0,  0,  0],\n",
      "        [ 0,  0,  0],\n",
      "        ...,\n",
      "        [ 8,  8,  8],\n",
      "        [ 4,  4,  4],\n",
      "        [ 3,  3,  3]],\n",
      "\n",
      "       [[ 0,  0,  0],\n",
      "        [ 0,  0,  0],\n",
      "        [ 0,  0,  0],\n",
      "        ...,\n",
      "        [ 4,  4,  4],\n",
      "        [ 3,  3,  3],\n",
      "        [ 3,  3,  3]]], shape=(300, 288, 3), dtype=uint8)\n",
      "orig_shape: (300, 288)\n",
      "path: 'D:\\\\AAA\\\\Nowy folder\\\\Outputs\\\\Test\\\\2025-08-12-13.47.11.png'\n",
      "probs: None\n",
      "save_dir: 'runs\\\\segment\\\\predict4'\n",
      "speed: {'preprocess': 0.8675999997649342, 'inference': 10.752600000159873, 'postprocess': 3.485999999611522}, ultralytics.engine.results.Results object with attributes:\n",
      "\n",
      "boxes: ultralytics.engine.results.Boxes object\n",
      "keypoints: None\n",
      "masks: ultralytics.engine.results.Masks object\n",
      "names: {0: 'Pupil'}\n",
      "obb: None\n",
      "orig_img: array([[[ 1,  1,  1],\n",
      "        [ 1,  1,  1],\n",
      "        [ 2,  2,  2],\n",
      "        ...,\n",
      "        [ 2,  2,  2],\n",
      "        [ 2,  2,  2],\n",
      "        [ 2,  2,  2]],\n",
      "\n",
      "       [[ 1,  1,  1],\n",
      "        [ 1,  1,  1],\n",
      "        [ 2,  2,  2],\n",
      "        ...,\n",
      "        [ 3,  3,  3],\n",
      "        [ 2,  2,  2],\n",
      "        [ 2,  2,  2]],\n",
      "\n",
      "       [[ 3,  3,  3],\n",
      "        [ 2,  2,  2],\n",
      "        [ 2,  2,  2],\n",
      "        ...,\n",
      "        [ 2,  2,  2],\n",
      "        [ 2,  2,  2],\n",
      "        [ 2,  2,  2]],\n",
      "\n",
      "       ...,\n",
      "\n",
      "       [[ 0,  0,  0],\n",
      "        [ 0,  0,  0],\n",
      "        [ 0,  0,  0],\n",
      "        ...,\n",
      "        [11, 11, 11],\n",
      "        [ 8,  8,  8],\n",
      "        [ 6,  6,  6]],\n",
      "\n",
      "       [[ 0,  0,  0],\n",
      "        [ 0,  0,  0],\n",
      "        [ 0,  0,  0],\n",
      "        ...,\n",
      "        [ 7,  7,  7],\n",
      "        [ 5,  5,  5],\n",
      "        [ 3,  3,  3]],\n",
      "\n",
      "       [[ 0,  0,  0],\n",
      "        [ 1,  1,  1],\n",
      "        [ 0,  0,  0],\n",
      "        ...,\n",
      "        [ 4,  4,  4],\n",
      "        [ 3,  3,  3],\n",
      "        [ 3,  3,  3]]], shape=(300, 288, 3), dtype=uint8)\n",
      "orig_shape: (300, 288)\n",
      "path: 'D:\\\\AAA\\\\Nowy folder\\\\Outputs\\\\Test\\\\2025-08-12-13.47.15.png'\n",
      "probs: None\n",
      "save_dir: 'runs\\\\segment\\\\predict4'\n",
      "speed: {'preprocess': 0.8418999996138155, 'inference': 10.894099999859463, 'postprocess': 3.512100000079954}, ultralytics.engine.results.Results object with attributes:\n",
      "\n",
      "boxes: ultralytics.engine.results.Boxes object\n",
      "keypoints: None\n",
      "masks: ultralytics.engine.results.Masks object\n",
      "names: {0: 'Pupil'}\n",
      "obb: None\n",
      "orig_img: array([[[ 1,  1,  1],\n",
      "        [ 1,  1,  1],\n",
      "        [ 1,  1,  1],\n",
      "        ...,\n",
      "        [ 2,  2,  2],\n",
      "        [ 2,  2,  2],\n",
      "        [ 2,  2,  2]],\n",
      "\n",
      "       [[ 2,  2,  2],\n",
      "        [ 1,  1,  1],\n",
      "        [ 1,  1,  1],\n",
      "        ...,\n",
      "        [ 1,  1,  1],\n",
      "        [ 1,  1,  1],\n",
      "        [ 3,  3,  3]],\n",
      "\n",
      "       [[ 2,  2,  2],\n",
      "        [ 2,  2,  2],\n",
      "        [ 2,  2,  2],\n",
      "        ...,\n",
      "        [ 2,  2,  2],\n",
      "        [ 2,  2,  2],\n",
      "        [ 2,  2,  2]],\n",
      "\n",
      "       ...,\n",
      "\n",
      "       [[ 0,  0,  0],\n",
      "        [ 0,  0,  0],\n",
      "        [ 1,  1,  1],\n",
      "        ...,\n",
      "        [11, 11, 11],\n",
      "        [ 8,  8,  8],\n",
      "        [ 6,  6,  6]],\n",
      "\n",
      "       [[ 0,  0,  0],\n",
      "        [ 0,  0,  0],\n",
      "        [ 1,  1,  1],\n",
      "        ...,\n",
      "        [ 8,  8,  8],\n",
      "        [ 5,  5,  5],\n",
      "        [ 3,  3,  3]],\n",
      "\n",
      "       [[ 0,  0,  0],\n",
      "        [ 0,  0,  0],\n",
      "        [ 0,  0,  0],\n",
      "        ...,\n",
      "        [ 4,  4,  4],\n",
      "        [ 3,  3,  3],\n",
      "        [ 2,  2,  2]]], shape=(300, 288, 3), dtype=uint8)\n",
      "orig_shape: (300, 288)\n",
      "path: 'D:\\\\AAA\\\\Nowy folder\\\\Outputs\\\\Test\\\\2025-08-12-13.47.27.png'\n",
      "probs: None\n",
      "save_dir: 'runs\\\\segment\\\\predict4'\n",
      "speed: {'preprocess': 0.8307999996759463, 'inference': 10.911499999565422, 'postprocess': 3.278800000771298}, ultralytics.engine.results.Results object with attributes:\n",
      "\n",
      "boxes: ultralytics.engine.results.Boxes object\n",
      "keypoints: None\n",
      "masks: ultralytics.engine.results.Masks object\n",
      "names: {0: 'Pupil'}\n",
      "obb: None\n",
      "orig_img: array([[[2, 2, 2],\n",
      "        [2, 2, 2],\n",
      "        [2, 2, 2],\n",
      "        ...,\n",
      "        [2, 2, 2],\n",
      "        [2, 2, 2],\n",
      "        [2, 2, 2]],\n",
      "\n",
      "       [[1, 1, 1],\n",
      "        [1, 1, 1],\n",
      "        [2, 2, 2],\n",
      "        ...,\n",
      "        [2, 2, 2],\n",
      "        [2, 2, 2],\n",
      "        [2, 2, 2]],\n",
      "\n",
      "       [[1, 1, 1],\n",
      "        [1, 1, 1],\n",
      "        [2, 2, 2],\n",
      "        ...,\n",
      "        [2, 2, 2],\n",
      "        [2, 2, 2],\n",
      "        [2, 2, 2]],\n",
      "\n",
      "       ...,\n",
      "\n",
      "       [[0, 0, 0],\n",
      "        [0, 0, 0],\n",
      "        [0, 0, 0],\n",
      "        ...,\n",
      "        [3, 3, 3],\n",
      "        [3, 3, 3],\n",
      "        [2, 2, 2]],\n",
      "\n",
      "       [[0, 0, 0],\n",
      "        [0, 0, 0],\n",
      "        [0, 0, 0],\n",
      "        ...,\n",
      "        [2, 2, 2],\n",
      "        [2, 2, 2],\n",
      "        [1, 1, 1]],\n",
      "\n",
      "       [[0, 0, 0],\n",
      "        [0, 0, 0],\n",
      "        [0, 0, 0],\n",
      "        ...,\n",
      "        [1, 1, 1],\n",
      "        [1, 1, 1],\n",
      "        [0, 0, 0]]], shape=(300, 288, 3), dtype=uint8)\n",
      "orig_shape: (300, 288)\n",
      "path: 'D:\\\\AAA\\\\Nowy folder\\\\Outputs\\\\Test\\\\2025-08-12-13.47.36.png'\n",
      "probs: None\n",
      "save_dir: 'runs\\\\segment\\\\predict4'\n",
      "speed: {'preprocess': 1.033100000313425, 'inference': 10.856199999579985, 'postprocess': 3.3346000000165077}, ultralytics.engine.results.Results object with attributes:\n",
      "\n",
      "boxes: ultralytics.engine.results.Boxes object\n",
      "keypoints: None\n",
      "masks: ultralytics.engine.results.Masks object\n",
      "names: {0: 'Pupil'}\n",
      "obb: None\n",
      "orig_img: array([[[1, 1, 1],\n",
      "        [1, 1, 1],\n",
      "        [1, 1, 1],\n",
      "        ...,\n",
      "        [1, 1, 1],\n",
      "        [2, 2, 2],\n",
      "        [2, 2, 2]],\n",
      "\n",
      "       [[1, 1, 1],\n",
      "        [1, 1, 1],\n",
      "        [1, 1, 1],\n",
      "        ...,\n",
      "        [1, 1, 1],\n",
      "        [1, 1, 1],\n",
      "        [2, 2, 2]],\n",
      "\n",
      "       [[2, 2, 2],\n",
      "        [2, 2, 2],\n",
      "        [2, 2, 2],\n",
      "        ...,\n",
      "        [1, 1, 1],\n",
      "        [3, 3, 3],\n",
      "        [2, 2, 2]],\n",
      "\n",
      "       ...,\n",
      "\n",
      "       [[0, 0, 0],\n",
      "        [0, 0, 0],\n",
      "        [0, 0, 0],\n",
      "        ...,\n",
      "        [3, 3, 3],\n",
      "        [3, 3, 3],\n",
      "        [2, 2, 2]],\n",
      "\n",
      "       [[0, 0, 0],\n",
      "        [0, 0, 0],\n",
      "        [0, 0, 0],\n",
      "        ...,\n",
      "        [2, 2, 2],\n",
      "        [1, 1, 1],\n",
      "        [1, 1, 1]],\n",
      "\n",
      "       [[0, 0, 0],\n",
      "        [0, 0, 0],\n",
      "        [0, 0, 0],\n",
      "        ...,\n",
      "        [1, 1, 1],\n",
      "        [1, 1, 1],\n",
      "        [1, 1, 1]]], shape=(300, 288, 3), dtype=uint8)\n",
      "orig_shape: (300, 288)\n",
      "path: 'D:\\\\AAA\\\\Nowy folder\\\\Outputs\\\\Test\\\\2025-08-12-13.47.51.png'\n",
      "probs: None\n",
      "save_dir: 'runs\\\\segment\\\\predict4'\n",
      "speed: {'preprocess': 1.2376000004223897, 'inference': 13.408499999968626, 'postprocess': 4.463899999791465}, ultralytics.engine.results.Results object with attributes:\n",
      "\n",
      "boxes: ultralytics.engine.results.Boxes object\n",
      "keypoints: None\n",
      "masks: ultralytics.engine.results.Masks object\n",
      "names: {0: 'Pupil'}\n",
      "obb: None\n",
      "orig_img: array([[[1, 1, 1],\n",
      "        [1, 1, 1],\n",
      "        [1, 1, 1],\n",
      "        ...,\n",
      "        [1, 1, 1],\n",
      "        [1, 1, 1],\n",
      "        [1, 1, 1]],\n",
      "\n",
      "       [[1, 1, 1],\n",
      "        [2, 2, 2],\n",
      "        [1, 1, 1],\n",
      "        ...,\n",
      "        [1, 1, 1],\n",
      "        [2, 2, 2],\n",
      "        [2, 2, 2]],\n",
      "\n",
      "       [[1, 1, 1],\n",
      "        [2, 2, 2],\n",
      "        [2, 2, 2],\n",
      "        ...,\n",
      "        [2, 2, 2],\n",
      "        [2, 2, 2],\n",
      "        [2, 2, 2]],\n",
      "\n",
      "       ...,\n",
      "\n",
      "       [[0, 0, 0],\n",
      "        [0, 0, 0],\n",
      "        [0, 0, 0],\n",
      "        ...,\n",
      "        [2, 2, 2],\n",
      "        [3, 3, 3],\n",
      "        [1, 1, 1]],\n",
      "\n",
      "       [[0, 0, 0],\n",
      "        [0, 0, 0],\n",
      "        [1, 1, 1],\n",
      "        ...,\n",
      "        [2, 2, 2],\n",
      "        [1, 1, 1],\n",
      "        [1, 1, 1]],\n",
      "\n",
      "       [[0, 0, 0],\n",
      "        [0, 0, 0],\n",
      "        [0, 0, 0],\n",
      "        ...,\n",
      "        [2, 2, 2],\n",
      "        [2, 2, 2],\n",
      "        [1, 1, 1]]], shape=(300, 288, 3), dtype=uint8)\n",
      "orig_shape: (300, 288)\n",
      "path: 'D:\\\\AAA\\\\Nowy folder\\\\Outputs\\\\Test\\\\2025-08-12-13.47.56.png'\n",
      "probs: None\n",
      "save_dir: 'runs\\\\segment\\\\predict4'\n",
      "speed: {'preprocess': 0.9337999999843305, 'inference': 11.058600000069418, 'postprocess': 4.077399999914633}]\n"
     ]
    }
   ],
   "source": [
    "from ultralytics import YOLO\n",
    "import cv2\n",
    "\n",
    "model = YOLO(r\"D:\\AAA\\Nowy folder\\pupiltracking\\runs\\pupil-seg4\\weights\\best.pt\")\n",
    "results = model.predict(\n",
    "    source=r\"D:\\AAA\\Nowy folder\\Outputs\\Test\",  # może być plik lub folder\n",
    "    conf=0.35, max_det=1, device=0, save=True, imgsz=320\n",
    ")"
   ]
  },
  {
   "cell_type": "code",
   "execution_count": 9,
   "id": "529ec313",
   "metadata": {},
   "outputs": [
    {
     "name": "stdout",
     "output_type": "stream",
     "text": [
      "\n",
      "image 1/1 D:\\AAA\\Nowy folder\\Outputs\\Test\\2025-08-12-13.25.48.png: 320x320 1 Pupil, 13.7ms\n",
      "Speed: 1.2ms preprocess, 13.7ms inference, 5.0ms postprocess per image at shape (1, 3, 320, 320)\n",
      "\n",
      "image 1/1 D:\\AAA\\Nowy folder\\Outputs\\Test\\2025-08-12-13.26.08.png: 320x320 1 Pupil, 27.2ms\n",
      "Speed: 1.8ms preprocess, 27.2ms inference, 4.8ms postprocess per image at shape (1, 3, 320, 320)\n",
      "\n",
      "image 1/1 D:\\AAA\\Nowy folder\\Outputs\\Test\\2025-08-12-13.26.18.png: 320x320 1 Pupil, 24.7ms\n",
      "Speed: 1.7ms preprocess, 24.7ms inference, 7.0ms postprocess per image at shape (1, 3, 320, 320)\n",
      "\n",
      "image 1/1 D:\\AAA\\Nowy folder\\Outputs\\Test\\2025-08-12-13.26.22.png: 320x320 1 Pupil, 22.6ms\n",
      "Speed: 1.5ms preprocess, 22.6ms inference, 5.0ms postprocess per image at shape (1, 3, 320, 320)\n",
      "\n",
      "image 1/1 D:\\AAA\\Nowy folder\\Outputs\\Test\\2025-08-12-13.26.48.png: 320x320 1 Pupil, 55.2ms\n",
      "Speed: 2.1ms preprocess, 55.2ms inference, 5.5ms postprocess per image at shape (1, 3, 320, 320)\n",
      "\n",
      "image 1/1 D:\\AAA\\Nowy folder\\Outputs\\Test\\2025-08-12-13.42.36.png: 320x320 1 Pupil, 15.3ms\n",
      "Speed: 1.3ms preprocess, 15.3ms inference, 3.4ms postprocess per image at shape (1, 3, 320, 320)\n",
      "\n",
      "image 1/1 D:\\AAA\\Nowy folder\\Outputs\\Test\\2025-08-12-13.43.24.png: 320x320 1 Pupil, 11.2ms\n",
      "Speed: 1.8ms preprocess, 11.2ms inference, 3.1ms postprocess per image at shape (1, 3, 320, 320)\n",
      "\n",
      "image 1/1 D:\\AAA\\Nowy folder\\Outputs\\Test\\2025-08-12-13.43.46.png: 320x320 1 Pupil, 13.6ms\n",
      "Speed: 1.2ms preprocess, 13.6ms inference, 4.8ms postprocess per image at shape (1, 3, 320, 320)\n",
      "\n",
      "image 1/1 D:\\AAA\\Nowy folder\\Outputs\\Test\\2025-08-12-13.43.50.png: 320x320 1 Pupil, 11.4ms\n",
      "Speed: 1.1ms preprocess, 11.4ms inference, 5.2ms postprocess per image at shape (1, 3, 320, 320)\n",
      "\n",
      "image 1/1 D:\\AAA\\Nowy folder\\Outputs\\Test\\2025-08-12-13.43.54.png: 320x320 1 Pupil, 11.1ms\n",
      "Speed: 1.2ms preprocess, 11.1ms inference, 6.1ms postprocess per image at shape (1, 3, 320, 320)\n",
      "\n",
      "image 1/1 D:\\AAA\\Nowy folder\\Outputs\\Test\\2025-08-12-13.43.58.png: 320x320 1 Pupil, 11.1ms\n",
      "Speed: 1.1ms preprocess, 11.1ms inference, 5.5ms postprocess per image at shape (1, 3, 320, 320)\n",
      "\n",
      "image 1/1 D:\\AAA\\Nowy folder\\Outputs\\Test\\2025-08-12-13.44.02.png: 320x320 (no detections), 15.6ms\n",
      "Speed: 1.3ms preprocess, 15.6ms inference, 1.2ms postprocess per image at shape (1, 3, 320, 320)\n",
      "\n",
      "image 1/1 D:\\AAA\\Nowy folder\\Outputs\\Test\\2025-08-12-13.44.05.png: 320x320 (no detections), 16.2ms\n",
      "Speed: 1.2ms preprocess, 16.2ms inference, 1.2ms postprocess per image at shape (1, 3, 320, 320)\n",
      "\n",
      "image 1/1 D:\\AAA\\Nowy folder\\Outputs\\Test\\2025-08-12-13.44.09.png: 320x320 (no detections), 12.4ms\n",
      "Speed: 1.2ms preprocess, 12.4ms inference, 1.8ms postprocess per image at shape (1, 3, 320, 320)\n",
      "\n",
      "image 1/1 D:\\AAA\\Nowy folder\\Outputs\\Test\\2025-08-12-13.44.19.png: 320x320 1 Pupil, 11.9ms\n",
      "Speed: 1.2ms preprocess, 11.9ms inference, 5.1ms postprocess per image at shape (1, 3, 320, 320)\n",
      "\n",
      "image 1/1 D:\\AAA\\Nowy folder\\Outputs\\Test\\2025-08-12-13.44.30.png: 320x320 1 Pupil, 11.4ms\n",
      "Speed: 1.0ms preprocess, 11.4ms inference, 4.7ms postprocess per image at shape (1, 3, 320, 320)\n",
      "\n",
      "image 1/1 D:\\AAA\\Nowy folder\\Outputs\\Test\\2025-08-12-13.44.41.png: 320x320 1 Pupil, 12.9ms\n",
      "Speed: 1.1ms preprocess, 12.9ms inference, 3.8ms postprocess per image at shape (1, 3, 320, 320)\n",
      "\n",
      "image 1/1 D:\\AAA\\Nowy folder\\Outputs\\Test\\2025-08-12-13.44.53.png: 320x320 1 Pupil, 13.2ms\n",
      "Speed: 1.1ms preprocess, 13.2ms inference, 3.9ms postprocess per image at shape (1, 3, 320, 320)\n",
      "\n",
      "image 1/1 D:\\AAA\\Nowy folder\\Outputs\\Test\\2025-08-12-13.44.57.png: 320x320 1 Pupil, 13.1ms\n",
      "Speed: 1.6ms preprocess, 13.1ms inference, 3.6ms postprocess per image at shape (1, 3, 320, 320)\n",
      "\n",
      "image 1/1 D:\\AAA\\Nowy folder\\Outputs\\Test\\2025-08-12-13.45.09.png: 320x320 1 Pupil, 15.2ms\n",
      "Speed: 1.1ms preprocess, 15.2ms inference, 4.0ms postprocess per image at shape (1, 3, 320, 320)\n",
      "\n",
      "image 1/1 D:\\AAA\\Nowy folder\\Outputs\\Test\\2025-08-12-13.45.18.png: 320x320 1 Pupil, 13.2ms\n",
      "Speed: 1.5ms preprocess, 13.2ms inference, 3.4ms postprocess per image at shape (1, 3, 320, 320)\n",
      "\n",
      "image 1/1 D:\\AAA\\Nowy folder\\Outputs\\Test\\2025-08-12-13.45.24.png: 320x320 1 Pupil, 15.3ms\n",
      "Speed: 1.1ms preprocess, 15.3ms inference, 4.3ms postprocess per image at shape (1, 3, 320, 320)\n",
      "\n",
      "image 1/1 D:\\AAA\\Nowy folder\\Outputs\\Test\\2025-08-12-13.45.34.png: 320x320 (no detections), 13.4ms\n",
      "Speed: 1.6ms preprocess, 13.4ms inference, 1.0ms postprocess per image at shape (1, 3, 320, 320)\n",
      "\n",
      "image 1/1 D:\\AAA\\Nowy folder\\Outputs\\Test\\2025-08-12-13.45.39.png: 320x320 1 Pupil, 13.6ms\n",
      "Speed: 1.5ms preprocess, 13.6ms inference, 3.3ms postprocess per image at shape (1, 3, 320, 320)\n",
      "\n",
      "image 1/1 D:\\AAA\\Nowy folder\\Outputs\\Test\\2025-08-12-13.45.44.png: 320x320 1 Pupil, 12.2ms\n",
      "Speed: 1.0ms preprocess, 12.2ms inference, 3.8ms postprocess per image at shape (1, 3, 320, 320)\n",
      "\n",
      "image 1/1 D:\\AAA\\Nowy folder\\Outputs\\Test\\2025-08-12-13.45.48.png: 320x320 1 Pupil, 13.4ms\n",
      "Speed: 1.1ms preprocess, 13.4ms inference, 4.0ms postprocess per image at shape (1, 3, 320, 320)\n",
      "\n",
      "image 1/1 D:\\AAA\\Nowy folder\\Outputs\\Test\\2025-08-12-13.45.55.png: 320x320 1 Pupil, 12.9ms\n",
      "Speed: 1.1ms preprocess, 12.9ms inference, 3.5ms postprocess per image at shape (1, 3, 320, 320)\n",
      "\n",
      "image 1/1 D:\\AAA\\Nowy folder\\Outputs\\Test\\2025-08-12-13.46.00.png: 320x320 1 Pupil, 13.8ms\n",
      "Speed: 1.3ms preprocess, 13.8ms inference, 8.1ms postprocess per image at shape (1, 3, 320, 320)\n",
      "\n",
      "image 1/1 D:\\AAA\\Nowy folder\\Outputs\\Test\\2025-08-12-13.46.17.png: 320x320 1 Pupil, 11.8ms\n",
      "Speed: 1.1ms preprocess, 11.8ms inference, 3.0ms postprocess per image at shape (1, 3, 320, 320)\n",
      "\n",
      "image 1/1 D:\\AAA\\Nowy folder\\Outputs\\Test\\2025-08-12-13.46.21.png: 320x320 1 Pupil, 13.5ms\n",
      "Speed: 1.9ms preprocess, 13.5ms inference, 5.3ms postprocess per image at shape (1, 3, 320, 320)\n",
      "\n",
      "image 1/1 D:\\AAA\\Nowy folder\\Outputs\\Test\\2025-08-12-13.46.25.png: 320x320 1 Pupil, 11.1ms\n",
      "Speed: 1.1ms preprocess, 11.1ms inference, 3.2ms postprocess per image at shape (1, 3, 320, 320)\n",
      "\n",
      "image 1/1 D:\\AAA\\Nowy folder\\Outputs\\Test\\2025-08-12-13.46.29.png: 320x320 1 Pupil, 12.6ms\n",
      "Speed: 1.7ms preprocess, 12.6ms inference, 5.4ms postprocess per image at shape (1, 3, 320, 320)\n",
      "\n",
      "image 1/1 D:\\AAA\\Nowy folder\\Outputs\\Test\\2025-08-12-13.46.42.png: 320x320 1 Pupil, 12.3ms\n",
      "Speed: 1.1ms preprocess, 12.3ms inference, 3.6ms postprocess per image at shape (1, 3, 320, 320)\n",
      "\n",
      "image 1/1 D:\\AAA\\Nowy folder\\Outputs\\Test\\2025-08-12-13.46.46.png: 320x320 1 Pupil, 16.0ms\n",
      "Speed: 1.3ms preprocess, 16.0ms inference, 3.9ms postprocess per image at shape (1, 3, 320, 320)\n",
      "\n",
      "image 1/1 D:\\AAA\\Nowy folder\\Outputs\\Test\\2025-08-12-13.46.56.png: 320x320 1 Pupil, 12.2ms\n",
      "Speed: 1.2ms preprocess, 12.2ms inference, 5.0ms postprocess per image at shape (1, 3, 320, 320)\n",
      "\n",
      "image 1/1 D:\\AAA\\Nowy folder\\Outputs\\Test\\2025-08-12-13.47.00.png: 320x320 1 Pupil, 12.2ms\n",
      "Speed: 1.1ms preprocess, 12.2ms inference, 2.7ms postprocess per image at shape (1, 3, 320, 320)\n",
      "\n",
      "image 1/1 D:\\AAA\\Nowy folder\\Outputs\\Test\\2025-08-12-13.47.03.png: 320x320 1 Pupil, 12.2ms\n",
      "Speed: 1.1ms preprocess, 12.2ms inference, 3.7ms postprocess per image at shape (1, 3, 320, 320)\n",
      "\n",
      "image 1/1 D:\\AAA\\Nowy folder\\Outputs\\Test\\2025-08-12-13.47.07.png: 320x320 1 Pupil, 15.9ms\n",
      "Speed: 1.2ms preprocess, 15.9ms inference, 3.7ms postprocess per image at shape (1, 3, 320, 320)\n",
      "\n",
      "image 1/1 D:\\AAA\\Nowy folder\\Outputs\\Test\\2025-08-12-13.47.11.png: 320x320 1 Pupil, 11.6ms\n",
      "Speed: 1.2ms preprocess, 11.6ms inference, 3.4ms postprocess per image at shape (1, 3, 320, 320)\n",
      "\n",
      "image 1/1 D:\\AAA\\Nowy folder\\Outputs\\Test\\2025-08-12-13.47.15.png: 320x320 1 Pupil, 13.3ms\n",
      "Speed: 1.8ms preprocess, 13.3ms inference, 4.0ms postprocess per image at shape (1, 3, 320, 320)\n",
      "\n",
      "image 1/1 D:\\AAA\\Nowy folder\\Outputs\\Test\\2025-08-12-13.47.27.png: 320x320 1 Pupil, 12.0ms\n",
      "Speed: 1.3ms preprocess, 12.0ms inference, 4.7ms postprocess per image at shape (1, 3, 320, 320)\n",
      "\n",
      "image 1/1 D:\\AAA\\Nowy folder\\Outputs\\Test\\2025-08-12-13.47.36.png: 320x320 1 Pupil, 15.5ms\n",
      "Speed: 1.3ms preprocess, 15.5ms inference, 4.3ms postprocess per image at shape (1, 3, 320, 320)\n",
      "\n",
      "image 1/1 D:\\AAA\\Nowy folder\\Outputs\\Test\\2025-08-12-13.47.51.png: 320x320 1 Pupil, 12.1ms\n",
      "Speed: 1.2ms preprocess, 12.1ms inference, 3.2ms postprocess per image at shape (1, 3, 320, 320)\n",
      "\n",
      "image 1/1 D:\\AAA\\Nowy folder\\Outputs\\Test\\2025-08-12-13.47.56.png: 320x320 1 Pupil, 11.8ms\n",
      "Speed: 1.2ms preprocess, 11.8ms inference, 3.3ms postprocess per image at shape (1, 3, 320, 320)\n"
     ]
    }
   ],
   "source": [
    "from ultralytics import YOLO\n",
    "import cv2\n",
    "import os\n",
    "import glob\n",
    "import numpy as np\n",
    "\n",
    "# Ścieżka wejściowa\n",
    "input_dir = r\"D:\\AAA\\Nowy folder\\Outputs\\Test\"\n",
    "\n",
    "# Wczytanie modelu segmentacyjnego YOLO\n",
    "model = YOLO(r\"D:\\AAA\\Nowy folder\\pupiltracking\\runs\\pupil-seg4\\weights\\best.pt\")\n",
    "\n",
    "# Pobranie plików graficznych\n",
    "image_files = glob.glob(os.path.join(input_dir, \"*.jpg\")) + \\\n",
    "              glob.glob(os.path.join(input_dir, \"*.png\")) + \\\n",
    "              glob.glob(os.path.join(input_dir, \"*.jpeg\"))\n",
    "\n",
    "for img_path in image_files:\n",
    "    img = cv2.imread(img_path)\n",
    "\n",
    "    # Detekcja\n",
    "    results = model.predict(\n",
    "        source=img_path,\n",
    "        conf=0.35, max_det=1, device=0, save=False, imgsz=320\n",
    "    )\n",
    "\n",
    "    for r in results:\n",
    "        if r.masks is not None:\n",
    "            masks = r.masks.xy  # lista poligonów (każdy to tablica Nx2)\n",
    "            for poly in masks:\n",
    "                # Konwersja do int32 dla OpenCV\n",
    "                pts = np.array(poly, dtype=np.int32)\n",
    "                pts = pts.reshape((-1, 1, 2))\n",
    "\n",
    "                # Rysowanie poligonu\n",
    "                cv2.polylines(img, [pts], isClosed=True, color=(0, 255, 0), thickness=2)\n",
    "\n",
    "                # Obliczanie środka poligonu (momenty geometryczne)\n",
    "                M = cv2.moments(pts)\n",
    "                if M[\"m00\"] != 0:\n",
    "                    cx = int(M[\"m10\"] / M[\"m00\"])\n",
    "                    cy = int(M[\"m01\"] / M[\"m00\"])\n",
    "                else:\n",
    "                    cx, cy = 0, 0\n",
    "\n",
    "                # Rysowanie środka\n",
    "                cv2.circle(img, (cx, cy), 5, (0, 0, 255), -1)\n",
    "                cv2.putText(img, f\"({cx},{cy})\", (cx + 10, cy - 10),\n",
    "                            cv2.FONT_HERSHEY_SIMPLEX, 0.5, (0, 0, 255), 1)\n",
    "\n",
    "    # Wyświetlanie obrazu\n",
    "    cv2.imshow(\"Poligon + środek\", img)\n",
    "    key = cv2.waitKey(0)\n",
    "    if key == 27:  # ESC → przerwij\n",
    "        break\n",
    "\n",
    "cv2.destroyAllWindows()\n"
   ]
  },
  {
   "cell_type": "code",
   "execution_count": null,
   "id": "ba979de8",
   "metadata": {},
   "outputs": [
    {
     "name": "stdout",
     "output_type": "stream",
     "text": [
      "\n",
      "image 1/1 D:\\AAA\\Nowy folder\\Outputs\\Test\\2025-08-12-13.25.48.png: 320x320 1 Pupil, 13.0ms\n",
      "Speed: 1.3ms preprocess, 13.0ms inference, 4.1ms postprocess per image at shape (1, 3, 320, 320)\n",
      "\n",
      "image 1/1 D:\\AAA\\Nowy folder\\Outputs\\Test\\2025-08-12-13.26.08.png: 320x320 1 Pupil, 17.7ms\n",
      "Speed: 1.6ms preprocess, 17.7ms inference, 4.7ms postprocess per image at shape (1, 3, 320, 320)\n",
      "\n",
      "image 1/1 D:\\AAA\\Nowy folder\\Outputs\\Test\\2025-08-12-13.26.18.png: 320x320 1 Pupil, 26.6ms\n",
      "Speed: 1.1ms preprocess, 26.6ms inference, 3.6ms postprocess per image at shape (1, 3, 320, 320)\n",
      "\n",
      "image 1/1 D:\\AAA\\Nowy folder\\Outputs\\Test\\2025-08-12-13.26.22.png: 320x320 1 Pupil, 25.9ms\n",
      "Speed: 1.7ms preprocess, 25.9ms inference, 7.1ms postprocess per image at shape (1, 3, 320, 320)\n",
      "\n",
      "image 1/1 D:\\AAA\\Nowy folder\\Outputs\\Test\\2025-08-12-13.26.48.png: 320x320 1 Pupil, 45.0ms\n",
      "Speed: 1.4ms preprocess, 45.0ms inference, 4.5ms postprocess per image at shape (1, 3, 320, 320)\n",
      "\n",
      "image 1/1 D:\\AAA\\Nowy folder\\Outputs\\Test\\2025-08-12-13.42.36.png: 320x320 1 Pupil, 42.3ms\n",
      "Speed: 1.3ms preprocess, 42.3ms inference, 6.2ms postprocess per image at shape (1, 3, 320, 320)\n",
      "\n",
      "image 1/1 D:\\AAA\\Nowy folder\\Outputs\\Test\\2025-08-12-13.43.24.png: 320x320 1 Pupil, 44.9ms\n",
      "Speed: 1.4ms preprocess, 44.9ms inference, 4.7ms postprocess per image at shape (1, 3, 320, 320)\n",
      "\n",
      "image 1/1 D:\\AAA\\Nowy folder\\Outputs\\Test\\2025-08-12-13.43.46.png: 320x320 1 Pupil, 44.9ms\n",
      "Speed: 1.3ms preprocess, 44.9ms inference, 4.8ms postprocess per image at shape (1, 3, 320, 320)\n",
      "\n",
      "image 1/1 D:\\AAA\\Nowy folder\\Outputs\\Test\\2025-08-12-13.43.50.png: 320x320 1 Pupil, 100.7ms\n",
      "Speed: 1.8ms preprocess, 100.7ms inference, 5.6ms postprocess per image at shape (1, 3, 320, 320)\n",
      "\n",
      "image 1/1 D:\\AAA\\Nowy folder\\Outputs\\Test\\2025-08-12-13.43.54.png: 320x320 1 Pupil, 13.8ms\n",
      "Speed: 1.2ms preprocess, 13.8ms inference, 3.6ms postprocess per image at shape (1, 3, 320, 320)\n",
      "\n",
      "image 1/1 D:\\AAA\\Nowy folder\\Outputs\\Test\\2025-08-12-13.43.58.png: 320x320 1 Pupil, 13.3ms\n",
      "Speed: 0.9ms preprocess, 13.3ms inference, 4.0ms postprocess per image at shape (1, 3, 320, 320)\n",
      "\n",
      "image 1/1 D:\\AAA\\Nowy folder\\Outputs\\Test\\2025-08-12-13.44.02.png: 320x320 1 Pupil, 14.2ms\n",
      "Speed: 1.0ms preprocess, 14.2ms inference, 3.3ms postprocess per image at shape (1, 3, 320, 320)\n",
      "\n",
      "image 1/1 D:\\AAA\\Nowy folder\\Outputs\\Test\\2025-08-12-13.44.05.png: 320x320 (no detections), 14.3ms\n",
      "Speed: 1.9ms preprocess, 14.3ms inference, 3.0ms postprocess per image at shape (1, 3, 320, 320)\n",
      "\n",
      "image 1/1 D:\\AAA\\Nowy folder\\Outputs\\Test\\2025-08-12-13.44.09.png: 320x320 (no detections), 14.1ms\n",
      "Speed: 1.3ms preprocess, 14.1ms inference, 0.9ms postprocess per image at shape (1, 3, 320, 320)\n",
      "\n",
      "image 1/1 D:\\AAA\\Nowy folder\\Outputs\\Test\\2025-08-12-13.44.19.png: 320x320 1 Pupil, 13.5ms\n",
      "Speed: 1.1ms preprocess, 13.5ms inference, 3.5ms postprocess per image at shape (1, 3, 320, 320)\n",
      "\n",
      "image 1/1 D:\\AAA\\Nowy folder\\Outputs\\Test\\2025-08-12-13.44.30.png: 320x320 1 Pupil, 14.0ms\n",
      "Speed: 1.2ms preprocess, 14.0ms inference, 3.2ms postprocess per image at shape (1, 3, 320, 320)\n",
      "\n",
      "image 1/1 D:\\AAA\\Nowy folder\\Outputs\\Test\\2025-08-12-13.44.41.png: 320x320 1 Pupil, 13.2ms\n",
      "Speed: 1.3ms preprocess, 13.2ms inference, 5.0ms postprocess per image at shape (1, 3, 320, 320)\n",
      "\n",
      "image 1/1 D:\\AAA\\Nowy folder\\Outputs\\Test\\2025-08-12-13.44.53.png: 320x320 1 Pupil, 13.6ms\n",
      "Speed: 1.2ms preprocess, 13.6ms inference, 3.3ms postprocess per image at shape (1, 3, 320, 320)\n",
      "\n",
      "image 1/1 D:\\AAA\\Nowy folder\\Outputs\\Test\\2025-08-12-13.44.57.png: 320x320 1 Pupil, 14.3ms\n",
      "Speed: 1.1ms preprocess, 14.3ms inference, 3.5ms postprocess per image at shape (1, 3, 320, 320)\n",
      "\n",
      "image 1/1 D:\\AAA\\Nowy folder\\Outputs\\Test\\2025-08-12-13.45.09.png: 320x320 1 Pupil, 14.1ms\n",
      "Speed: 1.0ms preprocess, 14.1ms inference, 3.6ms postprocess per image at shape (1, 3, 320, 320)\n",
      "\n",
      "image 1/1 D:\\AAA\\Nowy folder\\Outputs\\Test\\2025-08-12-13.45.18.png: 320x320 1 Pupil, 12.9ms\n",
      "Speed: 1.9ms preprocess, 12.9ms inference, 7.5ms postprocess per image at shape (1, 3, 320, 320)\n",
      "\n",
      "image 1/1 D:\\AAA\\Nowy folder\\Outputs\\Test\\2025-08-12-13.45.24.png: 320x320 1 Pupil, 13.7ms\n",
      "Speed: 1.0ms preprocess, 13.7ms inference, 3.2ms postprocess per image at shape (1, 3, 320, 320)\n",
      "\n",
      "image 1/1 D:\\AAA\\Nowy folder\\Outputs\\Test\\2025-08-12-13.45.34.png: 320x320 (no detections), 13.6ms\n",
      "Speed: 1.0ms preprocess, 13.6ms inference, 1.0ms postprocess per image at shape (1, 3, 320, 320)\n",
      "\n",
      "image 1/1 D:\\AAA\\Nowy folder\\Outputs\\Test\\2025-08-12-13.45.39.png: 320x320 1 Pupil, 13.8ms\n",
      "Speed: 1.0ms preprocess, 13.8ms inference, 4.7ms postprocess per image at shape (1, 3, 320, 320)\n",
      "\n",
      "image 1/1 D:\\AAA\\Nowy folder\\Outputs\\Test\\2025-08-12-13.45.44.png: 320x320 1 Pupil, 14.9ms\n",
      "Speed: 1.1ms preprocess, 14.9ms inference, 3.6ms postprocess per image at shape (1, 3, 320, 320)\n",
      "\n",
      "image 1/1 D:\\AAA\\Nowy folder\\Outputs\\Test\\2025-08-12-13.45.48.png: 320x320 1 Pupil, 13.8ms\n",
      "Speed: 1.4ms preprocess, 13.8ms inference, 5.0ms postprocess per image at shape (1, 3, 320, 320)\n",
      "\n",
      "image 1/1 D:\\AAA\\Nowy folder\\Outputs\\Test\\2025-08-12-13.45.55.png: 320x320 1 Pupil, 13.6ms\n",
      "Speed: 1.6ms preprocess, 13.6ms inference, 5.2ms postprocess per image at shape (1, 3, 320, 320)\n",
      "\n",
      "image 1/1 D:\\AAA\\Nowy folder\\Outputs\\Test\\2025-08-12-13.46.00.png: 320x320 1 Pupil, 13.7ms\n",
      "Speed: 1.5ms preprocess, 13.7ms inference, 4.9ms postprocess per image at shape (1, 3, 320, 320)\n",
      "\n",
      "image 1/1 D:\\AAA\\Nowy folder\\Outputs\\Test\\2025-08-12-13.46.17.png: 320x320 1 Pupil, 13.9ms\n",
      "Speed: 1.0ms preprocess, 13.9ms inference, 3.9ms postprocess per image at shape (1, 3, 320, 320)\n",
      "\n",
      "image 1/1 D:\\AAA\\Nowy folder\\Outputs\\Test\\2025-08-12-13.46.21.png: 320x320 1 Pupil, 13.6ms\n",
      "Speed: 1.0ms preprocess, 13.6ms inference, 3.4ms postprocess per image at shape (1, 3, 320, 320)\n",
      "\n",
      "image 1/1 D:\\AAA\\Nowy folder\\Outputs\\Test\\2025-08-12-13.46.25.png: 320x320 1 Pupil, 13.8ms\n",
      "Speed: 1.5ms preprocess, 13.8ms inference, 3.4ms postprocess per image at shape (1, 3, 320, 320)\n",
      "\n",
      "image 1/1 D:\\AAA\\Nowy folder\\Outputs\\Test\\2025-08-12-13.46.29.png: 320x320 1 Pupil, 13.6ms\n",
      "Speed: 1.0ms preprocess, 13.6ms inference, 3.4ms postprocess per image at shape (1, 3, 320, 320)\n",
      "\n",
      "image 1/1 D:\\AAA\\Nowy folder\\Outputs\\Test\\2025-08-12-13.46.42.png: 320x320 1 Pupil, 13.7ms\n",
      "Speed: 0.9ms preprocess, 13.7ms inference, 3.5ms postprocess per image at shape (1, 3, 320, 320)\n",
      "\n",
      "image 1/1 D:\\AAA\\Nowy folder\\Outputs\\Test\\2025-08-12-13.46.46.png: 320x320 1 Pupil, 13.7ms\n",
      "Speed: 1.0ms preprocess, 13.7ms inference, 3.2ms postprocess per image at shape (1, 3, 320, 320)\n",
      "\n",
      "image 1/1 D:\\AAA\\Nowy folder\\Outputs\\Test\\2025-08-12-13.46.56.png: 320x320 1 Pupil, 14.0ms\n",
      "Speed: 1.3ms preprocess, 14.0ms inference, 4.7ms postprocess per image at shape (1, 3, 320, 320)\n",
      "\n",
      "image 1/1 D:\\AAA\\Nowy folder\\Outputs\\Test\\2025-08-12-13.47.00.png: 320x320 1 Pupil, 13.6ms\n",
      "Speed: 1.0ms preprocess, 13.6ms inference, 3.2ms postprocess per image at shape (1, 3, 320, 320)\n",
      "\n",
      "image 1/1 D:\\AAA\\Nowy folder\\Outputs\\Test\\2025-08-12-13.47.03.png: 320x320 1 Pupil, 14.8ms\n",
      "Speed: 1.0ms preprocess, 14.8ms inference, 3.7ms postprocess per image at shape (1, 3, 320, 320)\n",
      "\n",
      "image 1/1 D:\\AAA\\Nowy folder\\Outputs\\Test\\2025-08-12-13.47.07.png: 320x320 1 Pupil, 14.7ms\n",
      "Speed: 1.2ms preprocess, 14.7ms inference, 3.7ms postprocess per image at shape (1, 3, 320, 320)\n",
      "\n",
      "image 1/1 D:\\AAA\\Nowy folder\\Outputs\\Test\\2025-08-12-13.47.11.png: 320x320 1 Pupil, 13.8ms\n",
      "Speed: 1.0ms preprocess, 13.8ms inference, 3.5ms postprocess per image at shape (1, 3, 320, 320)\n",
      "\n",
      "image 1/1 D:\\AAA\\Nowy folder\\Outputs\\Test\\2025-08-12-13.47.15.png: 320x320 1 Pupil, 13.9ms\n",
      "Speed: 1.0ms preprocess, 13.9ms inference, 3.3ms postprocess per image at shape (1, 3, 320, 320)\n",
      "\n",
      "image 1/1 D:\\AAA\\Nowy folder\\Outputs\\Test\\2025-08-12-13.47.27.png: 320x320 1 Pupil, 13.5ms\n",
      "Speed: 0.9ms preprocess, 13.5ms inference, 3.2ms postprocess per image at shape (1, 3, 320, 320)\n",
      "\n",
      "image 1/1 D:\\AAA\\Nowy folder\\Outputs\\Test\\2025-08-12-13.47.36.png: 320x320 1 Pupil, 14.4ms\n",
      "Speed: 1.9ms preprocess, 14.4ms inference, 8.7ms postprocess per image at shape (1, 3, 320, 320)\n",
      "\n",
      "image 1/1 D:\\AAA\\Nowy folder\\Outputs\\Test\\2025-08-12-13.47.51.png: 320x320 1 Pupil, 13.7ms\n",
      "Speed: 1.0ms preprocess, 13.7ms inference, 3.2ms postprocess per image at shape (1, 3, 320, 320)\n",
      "\n",
      "image 1/1 D:\\AAA\\Nowy folder\\Outputs\\Test\\2025-08-12-13.47.56.png: 320x320 1 Pupil, 13.7ms\n",
      "Speed: 1.0ms preprocess, 13.7ms inference, 3.2ms postprocess per image at shape (1, 3, 320, 320)\n"
     ]
    }
   ],
   "source": [
    "from ultralytics import YOLO\n",
    "import cv2\n",
    "import os\n",
    "import glob\n",
    "import numpy as np\n",
    "\n",
    "# Ścieżka wejściowa\n",
    "input_dir = r\"D:\\\\AAA\\\\Nowy folder\\\\Outputs\\\\Test\"\n",
    "\n",
    "# Wczytanie modelu segmentacyjnego YOLO\n",
    "model = YOLO(r\"D:\\\\AAA\\\\Nowy folder\\\\pupiltracking\\\\runs\\\\pupil-seg4\\\\weights\\\\best.pt\")\n",
    "\n",
    "# Pobranie plików graficznych\n",
    "image_files = glob.glob(os.path.join(input_dir, \"*.png\")) \n",
    "\n",
    "for img_path in image_files:\n",
    "    img = cv2.imread(img_path)\n",
    "\n",
    "    # Detekcja\n",
    "    results = model.predict(\n",
    "        source=img_path,\n",
    "        conf=0.35, max_det=1, device=0, save=False, imgsz=320\n",
    "    )\n",
    "\n",
    "    for r in results:\n",
    "        if r.masks is not None:\n",
    "            masks = r.masks.xy\n",
    "            for poly in masks:\n",
    "                pts = np.array(poly, dtype=np.int32)\n",
    "                pts_reshaped = pts.reshape((-1, 1, 2))\n",
    "\n",
    "                # Rysowanie poligonu\n",
    "                cv2.polylines(img, [pts_reshaped], isClosed=True, color=(0, 255, 0), thickness=2)\n",
    "\n",
    "                # Środek geometryczny\n",
    "                M = cv2.moments(pts)\n",
    "                if M[\"m00\"] != 0:\n",
    "                    cx = int(M[\"m10\"] / M[\"m00\"])\n",
    "                    cy = int(M[\"m01\"] / M[\"m00\"])\n",
    "                else:\n",
    "                    cx, cy = 0, 0\n",
    "\n",
    "                # Znalezienie punktów przecięcia poziomej linii y=cy z krawędziami poligonu\n",
    "                intersections = []\n",
    "                for i in range(len(pts)):\n",
    "                    x1, y1 = pts[i]\n",
    "                    x2, y2 = pts[(i + 1) % len(pts)]  # następny punkt (zamknięty poligon)\n",
    "\n",
    "                    # Sprawdzamy, czy odcinek przecina linię y=cy\n",
    "                    if (y1 <= cy <= y2) or (y2 <= cy <= y1):\n",
    "                        if y1 != y2:  # unikamy dzielenia przez zero\n",
    "                            t = (cy - y1) / (y2 - y1)\n",
    "                            x_int = int(x1 + t * (x2 - x1))\n",
    "                            intersections.append((x_int, cy))\n",
    "\n",
    "                if len(intersections) >= 2:\n",
    "                    # Wybieramy najbardziej skrajne punkty\n",
    "                    p_left = min(intersections, key=lambda p: p[0])\n",
    "                    p_right = max(intersections, key=lambda p: p[0])\n",
    "                    diameter_x = abs(p_right[0] - p_left[0])\n",
    "\n",
    "                    # Rysowanie linii średnicy przez środek\n",
    "                    cv2.line(img, p_left, p_right, (255, 0, 0), 2)\n",
    "                    cv2.putText(img, f\"{diameter_x}px\",\n",
    "                                ((p_left[0] + p_right[0]) // 2, cy + 20),\n",
    "                                cv2.FONT_HERSHEY_SIMPLEX, 0.5, (255, 0, 0), 1)\n",
    "\n",
    "                # Rysowanie środka\n",
    "                cv2.circle(img, (cx, cy), 5, (0, 0, 255), -1)\n",
    "                cv2.putText(img, f\"({cx},{cy})\", (cx + 10, cy - 10),\n",
    "                            cv2.FONT_HERSHEY_SIMPLEX, 0.5, (0, 0, 255), 1)\n",
    "\n",
    "    # Wyświetlanie\n",
    "    cv2.imshow(\"image\", img)\n",
    "    key = cv2.waitKey(0)\n",
    "    if key == 27:\n",
    "        break\n",
    "\n",
    "cv2.destroyAllWindows()\n"
   ]
  },
  {
   "cell_type": "code",
   "execution_count": 1,
   "id": "ce4617c4",
   "metadata": {},
   "outputs": [
    {
     "name": "stdout",
     "output_type": "stream",
     "text": [
      "True\n",
      "NVIDIA GeForce GTX 1050 Ti\n"
     ]
    }
   ],
   "source": [
    "import torch\n",
    "print(torch.cuda.is_available())  # powinno być True\n",
    "print(torch.cuda.get_device_name(0))  # powinno pokazać GTX 1050 Ti\n"
   ]
  }
 ],
 "metadata": {
  "kernelspec": {
   "display_name": ".venv",
   "language": "python",
   "name": "python3"
  },
  "language_info": {
   "codemirror_mode": {
    "name": "ipython",
    "version": 3
   },
   "file_extension": ".py",
   "mimetype": "text/x-python",
   "name": "python",
   "nbconvert_exporter": "python",
   "pygments_lexer": "ipython3",
   "version": "3.11.9"
  }
 },
 "nbformat": 4,
 "nbformat_minor": 5
}
